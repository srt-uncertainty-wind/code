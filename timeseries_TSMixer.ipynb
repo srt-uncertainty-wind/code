{
 "cells": [
  {
   "cell_type": "code",
   "execution_count": 1,
   "metadata": {},
   "outputs": [
    {
     "name": "stdout",
     "output_type": "stream",
     "text": [
      "cuda\n"
     ]
    },
    {
     "name": "stderr",
     "output_type": "stream",
     "text": [
      "d:\\coding\\Anaconda\\Software\\envs\\pytorch38\\lib\\site-packages\\torch\\__init__.py:614: UserWarning: torch.set_default_tensor_type() is deprecated as of PyTorch 2.1, please use torch.set_default_dtype() and torch.set_default_device() as alternatives. (Triggered internally at C:\\cb\\pytorch_1000000000000\\work\\torch\\csrc\\tensor\\python_tensor.cpp:453.)\n",
      "  _C._set_default_tensor_type(t)\n"
     ]
    }
   ],
   "source": [
    "'''\n",
    "Revised base on https://zhuanlan.zhihu.com/p/667766822\n",
    "'''\n",
    "\n",
    "# 创建DataLoader进行数据集转换\n",
    "import pandas as pd\n",
    "import numpy as np\n",
    "import matplotlib.pyplot as plt\n",
    "import torch\n",
    "from torch.utils.data import TensorDataset, DataLoader\n",
    "from sklearn.preprocessing import StandardScaler\n",
    "\n",
    "device = 'cpu'\n",
    "if torch.cuda.is_available():\n",
    "    torch.set_default_tensor_type(torch.cuda.FloatTensor)\n",
    "    device = 'cuda'\n",
    "print(device)\n",
    "\n",
    "class DataCreator:\n",
    "    def __init__(self, batch_size, seq_len, pred_len):\n",
    "        self.batch_size = batch_size\n",
    "        self.seq_len = seq_len\n",
    "        self.pred_len = pred_len\n",
    "        self.target_slice = slice(0, None)\n",
    "\n",
    "        self._read_data()\n",
    "\n",
    "    # 读取数据\n",
    "    def _read_data(self):\n",
    "        '''\n",
    "        扩展数据以缩短模型的训练时间至关重要；\n",
    "        将缩放器安装在训练集上只是为了避免验证和测试集中的数据泄漏\n",
    "        '''\n",
    "\n",
    "        filepath = ('../Dataset/Simulate_Data/set_1/File_indexed.xlsx')\n",
    "\n",
    "        df_raw = pd.read_excel(filepath)\n",
    "        df = df_raw.set_index('TIME') # 以时间步为编号变量\n",
    "\n",
    "        # split train/valid/test，以0.7/0.2/0.1的比例分割原数据集\n",
    "        n = len(df)\n",
    "        train_end = int(n * 0.7)\n",
    "        val_end = n - int(n * 0.1)\n",
    "        test_end = n\n",
    "\n",
    "        train_df = df.iloc[:train_end]\n",
    "        val_df = df.iloc[train_end - self.seq_len : val_end]\n",
    "        test_df = df.iloc[val_end - self.seq_len : test_end]\n",
    "\n",
    "        # standardize by training set\n",
    "        self.scaler = StandardScaler()\n",
    "        self.scaler.fit(train_df.values)\n",
    "\n",
    "        def scale_df(df, scaler):\n",
    "            data = scaler.transform(df.values)\n",
    "            return pd.DataFrame(data, index=df.index, columns=df.columns)\n",
    "\n",
    "        self.train_df = scale_df(train_df, self.scaler)\n",
    "        self.val_df = scale_df(val_df, self.scaler)\n",
    "        self.test_df = scale_df(test_df, self.scaler)\n",
    "        self.n_feature = self.train_df.shape[-1]\n",
    "\n",
    "    # 将数据窗口分割为输入和标签\n",
    "    def _split_window(self, data):\n",
    "        inputs = data[:, : self.seq_len, :]\n",
    "        labels = data[:, self.seq_len :, self.target_slice]\n",
    "\n",
    "        # inputs.set_shape([None, self.seq_len, None])\n",
    "        # labels.set_shape([None, self.pred_len, None])\n",
    "        return inputs, labels\n",
    "\n",
    "    # 将数据重组为[num of samples, seq_len, input_size]的形式\n",
    "    def _make_dataset(self, data, shuffle=True):\n",
    "        data = np.array(data, dtype=np.float32) # 此时的data还是[total time length, input_size]的形式\n",
    "\n",
    "        # # tensorflow 版本\n",
    "        # ds = tf.keras.utils.timeseries_dataset_from_array(\n",
    "        #     data=data,\n",
    "        #     targets=None,\n",
    "        #     sequence_length=(self.seq_len + self.pred_len),\n",
    "        #     sequence_stride=1,\n",
    "        #     shuffle=shuffle,\n",
    "        #     batch_size=self.batch_size,\n",
    "        # )\n",
    "        # ds = ds.map(self._split_window)\n",
    "\n",
    "        # pytorch 版本\n",
    "        sample_size = data.shape[0] // (self.seq_len + self.pred_len)\n",
    "        data = data[: sample_size * (self.seq_len + self.pred_len)]\n",
    "        data = data.reshape(sample_size, self.seq_len + self.pred_len, self.n_feature)\n",
    "        inputs, labels = self._split_window(data)\n",
    "        inputs_tensor = torch.tensor(inputs, dtype=torch.float32).to(device)\n",
    "        labels_tensor = torch.tensor(labels, dtype=torch.float32).to(device)\n",
    "        # 创建一个 TensorDataset\n",
    "        inputs_dataset = TensorDataset(inputs_tensor)\n",
    "        labels_dataset = TensorDataset(labels_tensor)\n",
    "        # 创建一个 DataLoader\n",
    "        inputs_loader = DataLoader(inputs_dataset, batch_size=self.batch_size, shuffle=shuffle, generator=torch.Generator(device=device))\n",
    "        labels_loader = DataLoader(labels_dataset, batch_size=self.batch_size, shuffle=shuffle, generator=torch.Generator(device=device))\n",
    "\n",
    "        return inputs_loader, labels_loader\n",
    "\n",
    "    # DataLoader通过对预测进行逆变换，生成训练集、验证集和测试集\n",
    "    def inverse_transform(self, data):\n",
    "        return self.scaler.inverse_transform(data)\n",
    "\n",
    "    def get_train(self, shuffle=True):\n",
    "        # 在训练集中打乱顺序进行训练\n",
    "        return self._make_dataset(self.train_df, shuffle=shuffle)\n",
    "\n",
    "    def get_val(self):\n",
    "        return self._make_dataset(self.val_df, shuffle=False)\n",
    "\n",
    "    def get_test(self):\n",
    "        return self._make_dataset(self.test_df, shuffle=False)\n"
   ]
  },
  {
   "cell_type": "code",
   "execution_count": 6,
   "metadata": {},
   "outputs": [],
   "source": [
    "# 构建TSMixer网络, tensorflow版本\n",
    "\n",
    "# from tensorflow.keras import layers\n",
    "import torch.nn as nn\n",
    "import torch.optim as optim\n",
    "import torch.nn.functional as F\n",
    "\n",
    "def res_block(inputs, norm_type, activation, dropout, ff_dim):\n",
    "    '''\n",
    "    定义残差模块\n",
    "    '''\n",
    "    # norm = layers.BatchNormalization\n",
    "\n",
    "    batch_norm = nn.BatchNorm1d(num_features)\n",
    "\n",
    "    # Time mixing\n",
    "    '''\n",
    "    混合器层，它包括：\n",
    "        批量归一化\n",
    "        转置矩阵\n",
    "        通过 ReLu 激活馈送到全连接层\n",
    "        再次转置\n",
    "        漏失层\n",
    "        并在最后添加残差\n",
    "    '''\n",
    "    x = norm(axis=[-2, -1])(inputs)\n",
    "    x = tf.transpose(x, perm=[0, 2, 1])  # [Batch, Channel, Input Length]\n",
    "    x = layers.Dense(x.shape[-1], activation='relu')(x)\n",
    "    x = tf.transpose(x, perm=[0, 2, 1])  # [Batch, Input Length, Channel]\n",
    "    x = layers.Dropout(dropout)(x)\n",
    "    res = x + inputs\n",
    "\n",
    "    # Feature mixing\n",
    "    '''\n",
    "    特征混合部分，其中：\n",
    "        批量归一化\n",
    "        致密层\n",
    "        一个dropout层\n",
    "        另一个致密层\n",
    "        另一个dropout层\n",
    "        并添加残差以进行残差连接\n",
    "    '''\n",
    "    x = norm(axis=[-2, -1])(res)\n",
    "    x = layers.Dense(ff_dim, activation='relu')(x)  # [Batch, Input Length, FF_Dim]\n",
    "    x = layers.Dropout(0.7)(x)\n",
    "    x = layers.Dense(inputs.shape[-1])(x)  # [Batch, Input Length, Channel]\n",
    "    x = layers.Dropout(0.7)(x)\n",
    "    return x + res\n",
    "\n",
    "def build_model(\n",
    "    input_shape,\n",
    "    pred_len,\n",
    "    n_block,\n",
    "    ff_dim,\n",
    "    target_slice,\n",
    "):\n",
    "\n",
    "    inputs = tf.keras.Input(shape=input_shape)\n",
    "    x = inputs  # [Batch, Input Length, Channel]\n",
    "    for _ in range(n_block):\n",
    "        x = res_block(x, norm_type, activation, dropout, ff_dim)\n",
    "\n",
    "    if target_slice:\n",
    "        x = x[:, :, target_slice]\n",
    "\n",
    "  # Temporal projection\n",
    "    '''\n",
    "    时间投影步骤：\n",
    "        转置\n",
    "        穿过致密层\n",
    "        最终转置\n",
    "    '''\n",
    "    x = tf.transpose(x, perm=[0, 2, 1])  # [Batch, Channel, Input Length]\n",
    "    x = layers.Dense(pred_len)(x)  # [Batch, Channel, Output Length]\n",
    "    outputs = tf.transpose(x, perm=[0, 2, 1])  # [Batch, Output Length, Channel])\n",
    "\n",
    "    return tf.keras.Model(inputs, outputs)"
   ]
  },
  {
   "cell_type": "code",
   "execution_count": 2,
   "metadata": {},
   "outputs": [],
   "source": [
    "# 构建TSMixer网络, pytorch版本\n",
    "\n",
    "# from tensorflow.keras import layers\n",
    "import torch.nn as nn\n",
    "import torch.optim as optim\n",
    "import torch.nn.functional as F\n",
    "\n",
    "class TSMixer(nn.Module):\n",
    "    def __init__(self, input_size, seq_len, pred_len, n_block, ff_dim, dropout_proba=0.2):\n",
    "        super().__init__()\n",
    "        # 定义归一化模块\n",
    "        self.norm = nn.LayerNorm(input_size)\n",
    "        # 定义残差块数量\n",
    "        self.n_block = n_block\n",
    "        # 定义致密层\n",
    "        self.dense_in = nn.Linear(seq_len, seq_len)\n",
    "        self.dense_out = nn.Linear(seq_len, pred_len)\n",
    "        self.dense_ff_in = nn.Linear(input_size, ff_dim)\n",
    "        self.dense_ff_out = nn.Linear(ff_dim, input_size)\n",
    "        # 定义激活函数\n",
    "        self.activate = nn.ReLU()\n",
    "        # 定义dropout模块\n",
    "        self.dropout = nn.Dropout(p=dropout_proba)\n",
    "\n",
    "    def res_block(self, inputs):\n",
    "        '''\n",
    "        定义残差模块\n",
    "        '''\n",
    "        # Time mixing\n",
    "        '''\n",
    "        混合器层，它包括：\n",
    "            批量归一化\n",
    "            转置矩阵\n",
    "            通过 ReLu 激活馈送到全连接层\n",
    "            再次转置\n",
    "            漏失层\n",
    "            并在最后添加残差\n",
    "        '''\n",
    "        x = self.norm(inputs)\n",
    "        x = x.permute(0, 2, 1)  # [Batch, Channel, Input Length]\n",
    "        # print(x.size())\n",
    "        x = self.dense_in(x)\n",
    "        # print(x.size())\n",
    "        x = self.activate(x)\n",
    "        x = x.permute(0, 2, 1)  # [Batch, Input Length, Channel]\n",
    "        x = self.dropout(x)\n",
    "        res = x + inputs\n",
    "\n",
    "        # Feature mixing\n",
    "        '''\n",
    "        特征混合部分，其中：\n",
    "            批量归一化\n",
    "            致密层\n",
    "            一个dropout层\n",
    "            另一个致密层\n",
    "            另一个dropout层\n",
    "            并添加残差以进行残差连接\n",
    "        '''\n",
    "        x = self.norm(res)\n",
    "        # print(x.size())\n",
    "        x = self.dense_ff_in(x)\n",
    "        x = self.activate(x)\n",
    "        x = self.dropout(x)\n",
    "        x = self.dense_ff_out(x)\n",
    "        x = self.dropout(x)\n",
    "        return x + res\n",
    "\n",
    "    def forward(self, x):\n",
    "        # 输入时：[Batch, Input Length, Channel]\n",
    "        for _ in range(self.n_block):\n",
    "            x = self.res_block(x)\n",
    "\n",
    "        # Temporal projection\n",
    "        '''\n",
    "        时间投影步骤：\n",
    "            转置\n",
    "            穿过致密层\n",
    "            最终转置\n",
    "        '''\n",
    "        x = x.permute(0, 2, 1)  # [Batch, Channel, Input Length]\n",
    "        x = self.dense_out(x)  # [Batch, Channel, Output Length]\n",
    "        x = x.permute(0, 2, 1)  # [Batch, Output Length, Channel])\n",
    "\n",
    "        return x"
   ]
  },
  {
   "cell_type": "code",
   "execution_count": 3,
   "metadata": {},
   "outputs": [
    {
     "name": "stdout",
     "output_type": "stream",
     "text": [
      "Epoch [1/1000], Loss: 4.4397\n",
      "Epoch [2/1000], Loss: 4.0445\n",
      "Epoch [3/1000], Loss: 3.6320\n",
      "Epoch [4/1000], Loss: 3.6034\n",
      "Epoch [5/1000], Loss: 3.5783\n",
      "Epoch [6/1000], Loss: 3.0707\n",
      "Epoch [7/1000], Loss: 3.0074\n",
      "Epoch [8/1000], Loss: 2.8015\n",
      "Epoch [9/1000], Loss: 2.6939\n",
      "Epoch [10/1000], Loss: 2.5866\n",
      "Epoch [11/1000], Loss: 2.3869\n",
      "Epoch [12/1000], Loss: 2.3152\n",
      "Epoch [13/1000], Loss: 2.3088\n",
      "Epoch [14/1000], Loss: 2.2262\n",
      "Epoch [15/1000], Loss: 2.1118\n",
      "Epoch [16/1000], Loss: 2.0164\n",
      "Epoch [17/1000], Loss: 1.9780\n",
      "Epoch [18/1000], Loss: 1.9612\n",
      "Epoch [19/1000], Loss: 1.8770\n",
      "Epoch [20/1000], Loss: 1.7195\n",
      "Epoch [21/1000], Loss: 1.7040\n",
      "Epoch [22/1000], Loss: 1.7217\n",
      "Epoch [23/1000], Loss: 1.5565\n",
      "Epoch [24/1000], Loss: 1.6082\n",
      "Epoch [25/1000], Loss: 1.5243\n",
      "Epoch [26/1000], Loss: 1.5206\n",
      "Epoch [27/1000], Loss: 1.5373\n",
      "Epoch [28/1000], Loss: 1.4134\n",
      "Epoch [29/1000], Loss: 1.3760\n",
      "Epoch [30/1000], Loss: 1.3976\n",
      "Epoch [31/1000], Loss: 1.4092\n",
      "Epoch [32/1000], Loss: 1.3844\n",
      "Epoch [33/1000], Loss: 1.3143\n",
      "Epoch [34/1000], Loss: 1.2577\n",
      "Epoch [35/1000], Loss: 1.2878\n",
      "Epoch [36/1000], Loss: 1.3140\n",
      "Epoch [37/1000], Loss: 1.2676\n",
      "Epoch [38/1000], Loss: 1.2696\n",
      "Epoch [39/1000], Loss: 1.2830\n",
      "Epoch [40/1000], Loss: 1.1937\n",
      "Epoch [41/1000], Loss: 1.2282\n",
      "Epoch [42/1000], Loss: 1.2010\n",
      "Epoch [43/1000], Loss: 1.1630\n",
      "Epoch [44/1000], Loss: 1.1986\n",
      "Epoch [45/1000], Loss: 1.1418\n",
      "Epoch [46/1000], Loss: 1.0991\n",
      "Epoch [47/1000], Loss: 1.1526\n",
      "Epoch [48/1000], Loss: 1.1105\n",
      "Epoch [49/1000], Loss: 1.0966\n",
      "Epoch [50/1000], Loss: 1.1112\n",
      "Epoch [51/1000], Loss: 1.1004\n",
      "Epoch [52/1000], Loss: 1.0996\n",
      "Epoch [53/1000], Loss: 1.0765\n",
      "Epoch [54/1000], Loss: 1.0344\n",
      "Epoch [55/1000], Loss: 1.0648\n",
      "Epoch [56/1000], Loss: 1.0542\n",
      "Epoch [57/1000], Loss: 1.0408\n",
      "Epoch [58/1000], Loss: 1.0616\n",
      "Epoch [59/1000], Loss: 1.0346\n",
      "Epoch [60/1000], Loss: 1.0285\n",
      "Epoch [61/1000], Loss: 1.0116\n",
      "Epoch [62/1000], Loss: 1.0174\n",
      "Epoch [63/1000], Loss: 1.0228\n",
      "Epoch [64/1000], Loss: 0.9922\n",
      "Epoch [65/1000], Loss: 1.0071\n",
      "Epoch [66/1000], Loss: 1.0118\n",
      "Epoch [67/1000], Loss: 0.9684\n",
      "Epoch [68/1000], Loss: 0.9807\n",
      "Epoch [69/1000], Loss: 0.9957\n",
      "Epoch [70/1000], Loss: 0.9855\n",
      "Epoch [71/1000], Loss: 0.9628\n",
      "Epoch [72/1000], Loss: 0.9786\n",
      "Epoch [73/1000], Loss: 0.9721\n",
      "Epoch [74/1000], Loss: 0.9868\n",
      "Epoch [75/1000], Loss: 0.9688\n",
      "Epoch [76/1000], Loss: 0.9501\n",
      "Epoch [77/1000], Loss: 0.9280\n",
      "Epoch [78/1000], Loss: 0.9408\n",
      "Epoch [79/1000], Loss: 0.9339\n",
      "Epoch [80/1000], Loss: 0.9221\n",
      "Epoch [81/1000], Loss: 0.9564\n",
      "Epoch [82/1000], Loss: 0.9425\n",
      "Epoch [83/1000], Loss: 0.9319\n",
      "Epoch [84/1000], Loss: 0.9193\n",
      "Epoch [85/1000], Loss: 0.9360\n",
      "Epoch [86/1000], Loss: 0.9083\n",
      "Epoch [87/1000], Loss: 0.9186\n",
      "Epoch [88/1000], Loss: 0.9295\n",
      "Epoch [89/1000], Loss: 0.9246\n",
      "Epoch [90/1000], Loss: 0.9352\n",
      "Epoch [91/1000], Loss: 0.9086\n",
      "Epoch [92/1000], Loss: 0.9117\n",
      "Epoch [93/1000], Loss: 0.8976\n",
      "Epoch [94/1000], Loss: 0.9099\n",
      "Epoch [95/1000], Loss: 0.9185\n",
      "Epoch [96/1000], Loss: 0.8719\n",
      "Epoch [97/1000], Loss: 0.8979\n",
      "Epoch [98/1000], Loss: 0.8908\n",
      "Epoch [99/1000], Loss: 0.9002\n",
      "Epoch [100/1000], Loss: 0.8814\n",
      "Epoch [101/1000], Loss: 0.9010\n",
      "Epoch [102/1000], Loss: 0.8838\n",
      "Epoch [103/1000], Loss: 0.8855\n",
      "Epoch [104/1000], Loss: 0.8785\n",
      "Epoch [105/1000], Loss: 0.8733\n",
      "Epoch [106/1000], Loss: 0.8865\n",
      "Epoch [107/1000], Loss: 0.8776\n",
      "Epoch [108/1000], Loss: 0.8918\n",
      "Epoch [109/1000], Loss: 0.8810\n",
      "Epoch [110/1000], Loss: 0.8636\n",
      "Epoch [111/1000], Loss: 0.8554\n",
      "Epoch [112/1000], Loss: 0.8528\n",
      "Epoch [113/1000], Loss: 0.8578\n",
      "Epoch [114/1000], Loss: 0.8786\n",
      "Epoch [115/1000], Loss: 0.8372\n",
      "Epoch [116/1000], Loss: 0.8893\n",
      "Epoch [117/1000], Loss: 0.8459\n",
      "Epoch [118/1000], Loss: 0.8581\n",
      "Epoch [119/1000], Loss: 0.8326\n",
      "Epoch [120/1000], Loss: 0.8591\n",
      "Epoch [121/1000], Loss: 0.8367\n",
      "Epoch [122/1000], Loss: 0.8785\n",
      "Epoch [123/1000], Loss: 0.8289\n",
      "Epoch [124/1000], Loss: 0.8330\n",
      "Epoch [125/1000], Loss: 0.8409\n",
      "Epoch [126/1000], Loss: 0.8394\n",
      "Epoch [127/1000], Loss: 0.8394\n",
      "Epoch [128/1000], Loss: 0.8431\n",
      "Epoch [129/1000], Loss: 0.8195\n",
      "Epoch [130/1000], Loss: 0.8458\n",
      "Epoch [131/1000], Loss: 0.8267\n",
      "Epoch [132/1000], Loss: 0.8584\n",
      "Epoch [133/1000], Loss: 0.8280\n",
      "Epoch [134/1000], Loss: 0.8211\n",
      "Epoch [135/1000], Loss: 0.8228\n",
      "Epoch [136/1000], Loss: 0.8243\n",
      "Epoch [137/1000], Loss: 0.8086\n",
      "Epoch [138/1000], Loss: 0.8402\n",
      "Epoch [139/1000], Loss: 0.8110\n",
      "Epoch [140/1000], Loss: 0.8019\n",
      "Epoch [141/1000], Loss: 0.8169\n",
      "Epoch [142/1000], Loss: 0.8172\n",
      "Epoch [143/1000], Loss: 0.7987\n",
      "Epoch [144/1000], Loss: 0.8018\n",
      "Epoch [145/1000], Loss: 0.8116\n",
      "Epoch [146/1000], Loss: 0.8050\n",
      "Epoch [147/1000], Loss: 0.7978\n",
      "Epoch [148/1000], Loss: 0.8036\n",
      "Epoch [149/1000], Loss: 0.7768\n",
      "Epoch [150/1000], Loss: 0.8103\n",
      "Epoch [151/1000], Loss: 0.7851\n",
      "Epoch [152/1000], Loss: 0.7902\n",
      "Epoch [153/1000], Loss: 0.7763\n",
      "Epoch [154/1000], Loss: 0.7832\n",
      "Epoch [155/1000], Loss: 0.7914\n",
      "Epoch [156/1000], Loss: 0.7854\n",
      "Epoch [157/1000], Loss: 0.7912\n",
      "Epoch [158/1000], Loss: 0.7781\n",
      "Epoch [159/1000], Loss: 0.7459\n",
      "Epoch [160/1000], Loss: 0.7915\n",
      "Epoch [161/1000], Loss: 0.7703\n",
      "Epoch [162/1000], Loss: 0.7738\n",
      "Epoch [163/1000], Loss: 0.7656\n",
      "Epoch [164/1000], Loss: 0.7873\n",
      "Epoch [165/1000], Loss: 0.7715\n",
      "Epoch [166/1000], Loss: 0.7638\n",
      "Epoch [167/1000], Loss: 0.7657\n",
      "Epoch [168/1000], Loss: 0.7776\n",
      "Epoch [169/1000], Loss: 0.7542\n",
      "Epoch [170/1000], Loss: 0.7500\n",
      "Epoch [171/1000], Loss: 0.7430\n",
      "Epoch [172/1000], Loss: 0.7574\n",
      "Epoch [173/1000], Loss: 0.7633\n",
      "Epoch [174/1000], Loss: 0.7412\n",
      "Epoch [175/1000], Loss: 0.7223\n",
      "Epoch [176/1000], Loss: 0.7460\n",
      "Epoch [177/1000], Loss: 0.7204\n",
      "Epoch [178/1000], Loss: 0.7704\n",
      "Epoch [179/1000], Loss: 0.7479\n",
      "Epoch [180/1000], Loss: 0.7349\n",
      "Epoch [181/1000], Loss: 0.7357\n",
      "Epoch [182/1000], Loss: 0.7278\n",
      "Epoch [183/1000], Loss: 0.7200\n",
      "Epoch [184/1000], Loss: 0.7198\n",
      "Epoch [185/1000], Loss: 0.7181\n",
      "Epoch [186/1000], Loss: 0.7231\n",
      "Epoch [187/1000], Loss: 0.7205\n",
      "Epoch [188/1000], Loss: 0.7388\n",
      "Epoch [189/1000], Loss: 0.7098\n",
      "Epoch [190/1000], Loss: 0.7124\n",
      "Epoch [191/1000], Loss: 0.6946\n",
      "Epoch [192/1000], Loss: 0.6806\n",
      "Epoch [193/1000], Loss: 0.6894\n",
      "Epoch [194/1000], Loss: 0.6998\n",
      "Epoch [195/1000], Loss: 0.6755\n",
      "Epoch [196/1000], Loss: 0.7200\n",
      "Epoch [197/1000], Loss: 0.6998\n",
      "Epoch [198/1000], Loss: 0.7034\n",
      "Epoch [199/1000], Loss: 0.7083\n",
      "Epoch [200/1000], Loss: 0.6766\n",
      "Epoch [201/1000], Loss: 0.6998\n",
      "Epoch [202/1000], Loss: 0.6836\n",
      "Epoch [203/1000], Loss: 0.6690\n",
      "Epoch [204/1000], Loss: 0.6553\n",
      "Epoch [205/1000], Loss: 0.7011\n",
      "Epoch [206/1000], Loss: 0.6537\n",
      "Epoch [207/1000], Loss: 0.6570\n",
      "Epoch [208/1000], Loss: 0.6663\n",
      "Epoch [209/1000], Loss: 0.6678\n",
      "Epoch [210/1000], Loss: 0.6770\n",
      "Epoch [211/1000], Loss: 0.6623\n",
      "Epoch [212/1000], Loss: 0.6573\n",
      "Epoch [213/1000], Loss: 0.6660\n",
      "Epoch [214/1000], Loss: 0.6642\n",
      "Epoch [215/1000], Loss: 0.6239\n",
      "Epoch [216/1000], Loss: 0.6470\n",
      "Epoch [217/1000], Loss: 0.6380\n",
      "Epoch [218/1000], Loss: 0.6383\n",
      "Epoch [219/1000], Loss: 0.6166\n",
      "Epoch [220/1000], Loss: 0.6096\n",
      "Epoch [221/1000], Loss: 0.6226\n",
      "Epoch [222/1000], Loss: 0.6361\n",
      "Epoch [223/1000], Loss: 0.6340\n",
      "Epoch [224/1000], Loss: 0.6281\n",
      "Epoch [225/1000], Loss: 0.6051\n",
      "Epoch [226/1000], Loss: 0.6377\n",
      "Epoch [227/1000], Loss: 0.5878\n",
      "Epoch [228/1000], Loss: 0.6170\n",
      "Epoch [229/1000], Loss: 0.6001\n",
      "Epoch [230/1000], Loss: 0.6183\n",
      "Epoch [231/1000], Loss: 0.5956\n",
      "Epoch [232/1000], Loss: 0.5851\n",
      "Epoch [233/1000], Loss: 0.5760\n",
      "Epoch [234/1000], Loss: 0.5880\n",
      "Epoch [235/1000], Loss: 0.5948\n",
      "Epoch [236/1000], Loss: 0.5845\n",
      "Epoch [237/1000], Loss: 0.5788\n",
      "Epoch [238/1000], Loss: 0.6069\n",
      "Epoch [239/1000], Loss: 0.5657\n",
      "Epoch [240/1000], Loss: 0.5662\n",
      "Epoch [241/1000], Loss: 0.5806\n",
      "Epoch [242/1000], Loss: 0.5673\n",
      "Epoch [243/1000], Loss: 0.5711\n",
      "Epoch [244/1000], Loss: 0.5862\n",
      "Epoch [245/1000], Loss: 0.5629\n",
      "Epoch [246/1000], Loss: 0.5638\n",
      "Epoch [247/1000], Loss: 0.5532\n",
      "Epoch [248/1000], Loss: 0.5394\n",
      "Epoch [249/1000], Loss: 0.5317\n",
      "Epoch [250/1000], Loss: 0.5497\n",
      "Epoch [251/1000], Loss: 0.5310\n",
      "Epoch [252/1000], Loss: 0.5277\n",
      "Epoch [253/1000], Loss: 0.5336\n",
      "Epoch [254/1000], Loss: 0.5480\n",
      "Epoch [255/1000], Loss: 0.5430\n",
      "Epoch [256/1000], Loss: 0.5287\n",
      "Epoch [257/1000], Loss: 0.5326\n",
      "Epoch [258/1000], Loss: 0.5273\n",
      "Epoch [259/1000], Loss: 0.4973\n",
      "Epoch [260/1000], Loss: 0.5272\n",
      "Epoch [261/1000], Loss: 0.5217\n",
      "Epoch [262/1000], Loss: 0.5097\n",
      "Epoch [263/1000], Loss: 0.5275\n",
      "Epoch [264/1000], Loss: 0.5519\n",
      "Epoch [265/1000], Loss: 0.5426\n",
      "Epoch [266/1000], Loss: 0.4885\n",
      "Epoch [267/1000], Loss: 0.5118\n",
      "Epoch [268/1000], Loss: 0.5077\n",
      "Epoch [269/1000], Loss: 0.4700\n",
      "Epoch [270/1000], Loss: 0.5065\n",
      "Epoch [271/1000], Loss: 0.4868\n",
      "Epoch [272/1000], Loss: 0.4754\n",
      "Epoch [273/1000], Loss: 0.4929\n",
      "Epoch [274/1000], Loss: 0.5084\n",
      "Epoch [275/1000], Loss: 0.4883\n",
      "Epoch [276/1000], Loss: 0.4829\n",
      "Epoch [277/1000], Loss: 0.5044\n",
      "Epoch [278/1000], Loss: 0.4879\n",
      "Epoch [279/1000], Loss: 0.4772\n",
      "Epoch [280/1000], Loss: 0.4768\n",
      "Epoch [281/1000], Loss: 0.4818\n",
      "Epoch [282/1000], Loss: 0.5056\n",
      "Epoch [283/1000], Loss: 0.4690\n",
      "Epoch [284/1000], Loss: 0.4824\n",
      "Epoch [285/1000], Loss: 0.4557\n",
      "Epoch [286/1000], Loss: 0.4478\n",
      "Epoch [287/1000], Loss: 0.4534\n",
      "Epoch [288/1000], Loss: 0.4393\n",
      "Epoch [289/1000], Loss: 0.4499\n",
      "Epoch [290/1000], Loss: 0.4443\n",
      "Epoch [291/1000], Loss: 0.4401\n",
      "Epoch [292/1000], Loss: 0.4236\n",
      "Epoch [293/1000], Loss: 0.4438\n",
      "Epoch [294/1000], Loss: 0.4530\n",
      "Epoch [295/1000], Loss: 0.4310\n",
      "Epoch [296/1000], Loss: 0.4446\n",
      "Epoch [297/1000], Loss: 0.4403\n",
      "Epoch [298/1000], Loss: 0.4271\n",
      "Epoch [299/1000], Loss: 0.4286\n",
      "Epoch [300/1000], Loss: 0.4319\n",
      "Epoch [301/1000], Loss: 0.4300\n",
      "Epoch [302/1000], Loss: 0.4066\n",
      "Epoch [303/1000], Loss: 0.4006\n",
      "Epoch [304/1000], Loss: 0.4063\n",
      "Epoch [305/1000], Loss: 0.4139\n",
      "Epoch [306/1000], Loss: 0.4315\n",
      "Epoch [307/1000], Loss: 0.4261\n",
      "Epoch [308/1000], Loss: 0.3926\n",
      "Epoch [309/1000], Loss: 0.4077\n",
      "Epoch [310/1000], Loss: 0.4078\n",
      "Epoch [311/1000], Loss: 0.3959\n",
      "Epoch [312/1000], Loss: 0.4108\n",
      "Epoch [313/1000], Loss: 0.3950\n",
      "Epoch [314/1000], Loss: 0.3942\n",
      "Epoch [315/1000], Loss: 0.4041\n",
      "Epoch [316/1000], Loss: 0.3973\n",
      "Epoch [317/1000], Loss: 0.3730\n",
      "Epoch [318/1000], Loss: 0.3918\n",
      "Epoch [319/1000], Loss: 0.3904\n",
      "Epoch [320/1000], Loss: 0.3883\n",
      "Epoch [321/1000], Loss: 0.3951\n",
      "Epoch [322/1000], Loss: 0.3657\n",
      "Epoch [323/1000], Loss: 0.3811\n",
      "Epoch [324/1000], Loss: 0.3721\n",
      "Epoch [325/1000], Loss: 0.3909\n",
      "Epoch [326/1000], Loss: 0.3999\n",
      "Epoch [327/1000], Loss: 0.3604\n",
      "Epoch [328/1000], Loss: 0.3535\n",
      "Epoch [329/1000], Loss: 0.3853\n",
      "Epoch [330/1000], Loss: 0.3804\n",
      "Epoch [331/1000], Loss: 0.3578\n",
      "Epoch [332/1000], Loss: 0.3799\n",
      "Epoch [333/1000], Loss: 0.3566\n",
      "Epoch [334/1000], Loss: 0.3552\n",
      "Epoch [335/1000], Loss: 0.3928\n",
      "Epoch [336/1000], Loss: 0.3523\n",
      "Epoch [337/1000], Loss: 0.3619\n",
      "Epoch [338/1000], Loss: 0.3473\n",
      "Epoch [339/1000], Loss: 0.3524\n",
      "Epoch [340/1000], Loss: 0.3511\n",
      "Epoch [341/1000], Loss: 0.3543\n",
      "Epoch [342/1000], Loss: 0.3281\n",
      "Epoch [343/1000], Loss: 0.3495\n",
      "Epoch [344/1000], Loss: 0.3264\n",
      "Epoch [345/1000], Loss: 0.3433\n",
      "Epoch [346/1000], Loss: 0.3474\n",
      "Epoch [347/1000], Loss: 0.3239\n",
      "Epoch [348/1000], Loss: 0.3290\n",
      "Epoch [349/1000], Loss: 0.3365\n",
      "Epoch [350/1000], Loss: 0.3374\n",
      "Epoch [351/1000], Loss: 0.3350\n",
      "Epoch [352/1000], Loss: 0.3233\n",
      "Epoch [353/1000], Loss: 0.3236\n",
      "Epoch [354/1000], Loss: 0.3429\n",
      "Epoch [355/1000], Loss: 0.3121\n",
      "Epoch [356/1000], Loss: 0.3217\n",
      "Epoch [357/1000], Loss: 0.3197\n",
      "Epoch [358/1000], Loss: 0.3568\n",
      "Epoch [359/1000], Loss: 0.3051\n",
      "Epoch [360/1000], Loss: 0.3164\n",
      "Epoch [361/1000], Loss: 0.2880\n",
      "Epoch [362/1000], Loss: 0.2867\n",
      "Epoch [363/1000], Loss: 0.3073\n",
      "Epoch [364/1000], Loss: 0.2912\n",
      "Epoch [365/1000], Loss: 0.3066\n",
      "Epoch [366/1000], Loss: 0.2930\n",
      "Epoch [367/1000], Loss: 0.3219\n",
      "Epoch [368/1000], Loss: 0.3288\n",
      "Epoch [369/1000], Loss: 0.3167\n",
      "Epoch [370/1000], Loss: 0.2990\n",
      "Epoch [371/1000], Loss: 0.2820\n",
      "Epoch [372/1000], Loss: 0.2748\n",
      "Epoch [373/1000], Loss: 0.2844\n",
      "Epoch [374/1000], Loss: 0.3061\n",
      "Epoch [375/1000], Loss: 0.2939\n",
      "Epoch [376/1000], Loss: 0.2739\n",
      "Epoch [377/1000], Loss: 0.2914\n",
      "Epoch [378/1000], Loss: 0.2848\n",
      "Epoch [379/1000], Loss: 0.2877\n",
      "Epoch [380/1000], Loss: 0.2922\n",
      "Epoch [381/1000], Loss: 0.2981\n",
      "Epoch [382/1000], Loss: 0.2801\n",
      "Epoch [383/1000], Loss: 0.2637\n",
      "Epoch [384/1000], Loss: 0.2605\n",
      "Epoch [385/1000], Loss: 0.2626\n",
      "Epoch [386/1000], Loss: 0.2958\n",
      "Epoch [387/1000], Loss: 0.3090\n",
      "Epoch [388/1000], Loss: 0.2815\n",
      "Epoch [389/1000], Loss: 0.2568\n",
      "Epoch [390/1000], Loss: 0.2625\n",
      "Epoch [391/1000], Loss: 0.2642\n",
      "Epoch [392/1000], Loss: 0.2871\n",
      "Epoch [393/1000], Loss: 0.2639\n",
      "Epoch [394/1000], Loss: 0.2559\n",
      "Epoch [395/1000], Loss: 0.2771\n",
      "Epoch [396/1000], Loss: 0.2663\n",
      "Epoch [397/1000], Loss: 0.2689\n",
      "Epoch [398/1000], Loss: 0.2630\n",
      "Epoch [399/1000], Loss: 0.2564\n",
      "Epoch [400/1000], Loss: 0.2665\n",
      "Epoch [401/1000], Loss: 0.2414\n",
      "Epoch [402/1000], Loss: 0.2560\n",
      "Epoch [403/1000], Loss: 0.2619\n",
      "Epoch [404/1000], Loss: 0.2532\n",
      "Epoch [405/1000], Loss: 0.2594\n",
      "Epoch [406/1000], Loss: 0.2439\n",
      "Epoch [407/1000], Loss: 0.2596\n",
      "Epoch [408/1000], Loss: 0.2470\n",
      "Epoch [409/1000], Loss: 0.2429\n",
      "Epoch [410/1000], Loss: 0.2419\n",
      "Epoch [411/1000], Loss: 0.2464\n",
      "Epoch [412/1000], Loss: 0.2468\n",
      "Epoch [413/1000], Loss: 0.2522\n",
      "Epoch [414/1000], Loss: 0.2320\n",
      "Epoch [415/1000], Loss: 0.2501\n",
      "Epoch [416/1000], Loss: 0.2365\n",
      "Epoch [417/1000], Loss: 0.2501\n",
      "Epoch [418/1000], Loss: 0.2363\n",
      "Epoch [419/1000], Loss: 0.2260\n",
      "Epoch [420/1000], Loss: 0.2356\n",
      "Epoch [421/1000], Loss: 0.2220\n",
      "Epoch [422/1000], Loss: 0.2359\n",
      "Epoch [423/1000], Loss: 0.2363\n",
      "Epoch [424/1000], Loss: 0.2417\n",
      "Epoch [425/1000], Loss: 0.2409\n",
      "Epoch [426/1000], Loss: 0.2310\n",
      "Epoch [427/1000], Loss: 0.2163\n",
      "Epoch [428/1000], Loss: 0.2212\n",
      "Epoch [429/1000], Loss: 0.2333\n",
      "Epoch [430/1000], Loss: 0.2193\n",
      "Epoch [431/1000], Loss: 0.2145\n",
      "Epoch [432/1000], Loss: 0.2263\n",
      "Epoch [433/1000], Loss: 0.2297\n",
      "Epoch [434/1000], Loss: 0.2142\n",
      "Epoch [435/1000], Loss: 0.2162\n",
      "Epoch [436/1000], Loss: 0.2108\n",
      "Epoch [437/1000], Loss: 0.2139\n",
      "Epoch [438/1000], Loss: 0.2170\n",
      "Epoch [439/1000], Loss: 0.1981\n",
      "Epoch [440/1000], Loss: 0.2222\n",
      "Epoch [441/1000], Loss: 0.2063\n",
      "Epoch [442/1000], Loss: 0.2042\n",
      "Epoch [443/1000], Loss: 0.2160\n",
      "Epoch [444/1000], Loss: 0.2174\n",
      "Epoch [445/1000], Loss: 0.1934\n",
      "Epoch [446/1000], Loss: 0.1835\n",
      "Epoch [447/1000], Loss: 0.2075\n",
      "Epoch [448/1000], Loss: 0.1989\n",
      "Epoch [449/1000], Loss: 0.2027\n",
      "Epoch [450/1000], Loss: 0.1960\n",
      "Epoch [451/1000], Loss: 0.2007\n",
      "Epoch [452/1000], Loss: 0.1803\n",
      "Epoch [453/1000], Loss: 0.2026\n",
      "Epoch [454/1000], Loss: 0.1910\n",
      "Epoch [455/1000], Loss: 0.1894\n",
      "Epoch [456/1000], Loss: 0.2030\n",
      "Epoch [457/1000], Loss: 0.2011\n",
      "Epoch [458/1000], Loss: 0.2049\n",
      "Epoch [459/1000], Loss: 0.1863\n",
      "Epoch [460/1000], Loss: 0.1818\n",
      "Epoch [461/1000], Loss: 0.2031\n",
      "Epoch [462/1000], Loss: 0.1818\n",
      "Epoch [463/1000], Loss: 0.2063\n",
      "Epoch [464/1000], Loss: 0.1904\n",
      "Epoch [465/1000], Loss: 0.1834\n",
      "Epoch [466/1000], Loss: 0.1805\n",
      "Epoch [467/1000], Loss: 0.1865\n",
      "Epoch [468/1000], Loss: 0.1925\n",
      "Epoch [469/1000], Loss: 0.1822\n",
      "Epoch [470/1000], Loss: 0.1761\n",
      "Epoch [471/1000], Loss: 0.1827\n",
      "Epoch [472/1000], Loss: 0.1785\n",
      "Epoch [473/1000], Loss: 0.1891\n",
      "Epoch [474/1000], Loss: 0.2020\n",
      "Epoch [475/1000], Loss: 0.1829\n",
      "Epoch [476/1000], Loss: 0.1710\n",
      "Epoch [477/1000], Loss: 0.1829\n",
      "Epoch [478/1000], Loss: 0.1956\n",
      "Epoch [479/1000], Loss: 0.1840\n",
      "Epoch [480/1000], Loss: 0.1823\n",
      "Epoch [481/1000], Loss: 0.1722\n",
      "Epoch [482/1000], Loss: 0.1702\n",
      "Epoch [483/1000], Loss: 0.1682\n",
      "Epoch [484/1000], Loss: 0.1796\n",
      "Epoch [485/1000], Loss: 0.1853\n",
      "Epoch [486/1000], Loss: 0.1677\n",
      "Epoch [487/1000], Loss: 0.1666\n",
      "Epoch [488/1000], Loss: 0.1711\n",
      "Epoch [489/1000], Loss: 0.1733\n",
      "Epoch [490/1000], Loss: 0.1682\n",
      "Epoch [491/1000], Loss: 0.1831\n",
      "Epoch [492/1000], Loss: 0.1915\n",
      "Epoch [493/1000], Loss: 0.1764\n",
      "Epoch [494/1000], Loss: 0.1874\n",
      "Epoch [495/1000], Loss: 0.1734\n",
      "Epoch [496/1000], Loss: 0.1765\n",
      "Epoch [497/1000], Loss: 0.1684\n",
      "Epoch [498/1000], Loss: 0.1678\n",
      "Epoch [499/1000], Loss: 0.1637\n",
      "Epoch [500/1000], Loss: 0.1772\n",
      "Epoch [501/1000], Loss: 0.1723\n",
      "Epoch [502/1000], Loss: 0.1618\n",
      "Epoch [503/1000], Loss: 0.1581\n",
      "Epoch [504/1000], Loss: 0.1736\n",
      "Epoch [505/1000], Loss: 0.1675\n",
      "Epoch [506/1000], Loss: 0.1766\n",
      "Epoch [507/1000], Loss: 0.1788\n",
      "Epoch [508/1000], Loss: 0.1540\n",
      "Epoch [509/1000], Loss: 0.1533\n",
      "Epoch [510/1000], Loss: 0.1663\n",
      "Epoch [511/1000], Loss: 0.1588\n",
      "Epoch [512/1000], Loss: 0.1476\n",
      "Epoch [513/1000], Loss: 0.1484\n",
      "Epoch [514/1000], Loss: 0.1615\n",
      "Epoch [515/1000], Loss: 0.1538\n",
      "Epoch [516/1000], Loss: 0.1595\n",
      "Epoch [517/1000], Loss: 0.1530\n",
      "Epoch [518/1000], Loss: 0.1526\n",
      "Epoch [519/1000], Loss: 0.1645\n",
      "Epoch [520/1000], Loss: 0.1703\n",
      "Epoch [521/1000], Loss: 0.1631\n",
      "Epoch [522/1000], Loss: 0.1535\n",
      "Epoch [523/1000], Loss: 0.1649\n",
      "Epoch [524/1000], Loss: 0.1652\n",
      "Epoch [525/1000], Loss: 0.1472\n",
      "Epoch [526/1000], Loss: 0.1567\n",
      "Epoch [527/1000], Loss: 0.1460\n",
      "Epoch [528/1000], Loss: 0.1494\n",
      "Epoch [529/1000], Loss: 0.1391\n",
      "Epoch [530/1000], Loss: 0.1497\n",
      "Epoch [531/1000], Loss: 0.1516\n",
      "Epoch [532/1000], Loss: 0.1613\n",
      "Epoch [533/1000], Loss: 0.1492\n",
      "Epoch [534/1000], Loss: 0.1519\n",
      "Epoch [535/1000], Loss: 0.1495\n",
      "Epoch [536/1000], Loss: 0.1555\n",
      "Epoch [537/1000], Loss: 0.1607\n",
      "Epoch [538/1000], Loss: 0.1506\n",
      "Epoch [539/1000], Loss: 0.1483\n",
      "Epoch [540/1000], Loss: 0.1478\n",
      "Epoch [541/1000], Loss: 0.1464\n",
      "Epoch [542/1000], Loss: 0.1465\n",
      "Epoch [543/1000], Loss: 0.1573\n",
      "Epoch [544/1000], Loss: 0.1414\n",
      "Epoch [545/1000], Loss: 0.1441\n",
      "Epoch [546/1000], Loss: 0.1504\n",
      "Epoch [547/1000], Loss: 0.1435\n",
      "Epoch [548/1000], Loss: 0.1501\n",
      "Epoch [549/1000], Loss: 0.1409\n",
      "Epoch [550/1000], Loss: 0.1436\n",
      "Epoch [551/1000], Loss: 0.1436\n",
      "Epoch [552/1000], Loss: 0.1519\n",
      "Epoch [553/1000], Loss: 0.1409\n",
      "Epoch [554/1000], Loss: 0.1379\n",
      "Epoch [555/1000], Loss: 0.1282\n",
      "Epoch [556/1000], Loss: 0.1380\n",
      "Epoch [557/1000], Loss: 0.1472\n",
      "Epoch [558/1000], Loss: 0.1417\n",
      "Epoch [559/1000], Loss: 0.1447\n",
      "Epoch [560/1000], Loss: 0.1290\n",
      "Epoch [561/1000], Loss: 0.1395\n",
      "Epoch [562/1000], Loss: 0.1278\n",
      "Epoch [563/1000], Loss: 0.1435\n",
      "Epoch [564/1000], Loss: 0.1397\n",
      "Epoch [565/1000], Loss: 0.1472\n",
      "Epoch [566/1000], Loss: 0.1253\n",
      "Epoch [567/1000], Loss: 0.1272\n",
      "Epoch [568/1000], Loss: 0.1381\n",
      "Epoch [569/1000], Loss: 0.1411\n",
      "Epoch [570/1000], Loss: 0.1328\n",
      "Epoch [571/1000], Loss: 0.1269\n",
      "Epoch [572/1000], Loss: 0.1391\n",
      "Epoch [573/1000], Loss: 0.1294\n",
      "Epoch [574/1000], Loss: 0.1290\n",
      "Epoch [575/1000], Loss: 0.1287\n",
      "Epoch [576/1000], Loss: 0.1203\n",
      "Epoch [577/1000], Loss: 0.1307\n",
      "Epoch [578/1000], Loss: 0.1175\n",
      "Epoch [579/1000], Loss: 0.1161\n",
      "Epoch [580/1000], Loss: 0.1283\n",
      "Epoch [581/1000], Loss: 0.1291\n",
      "Epoch [582/1000], Loss: 0.1480\n",
      "Epoch [583/1000], Loss: 0.1286\n",
      "Epoch [584/1000], Loss: 0.1326\n",
      "Epoch [585/1000], Loss: 0.1246\n",
      "Epoch [586/1000], Loss: 0.1197\n",
      "Epoch [587/1000], Loss: 0.1248\n",
      "Epoch [588/1000], Loss: 0.1267\n",
      "Epoch [589/1000], Loss: 0.1268\n",
      "Epoch [590/1000], Loss: 0.1219\n",
      "Epoch [591/1000], Loss: 0.1156\n",
      "Epoch [592/1000], Loss: 0.1165\n",
      "Epoch [593/1000], Loss: 0.1277\n",
      "Epoch [594/1000], Loss: 0.1224\n",
      "Epoch [595/1000], Loss: 0.1205\n",
      "Epoch [596/1000], Loss: 0.1079\n",
      "Epoch [597/1000], Loss: 0.1192\n",
      "Epoch [598/1000], Loss: 0.1260\n",
      "Epoch [599/1000], Loss: 0.1182\n",
      "Epoch [600/1000], Loss: 0.1219\n",
      "Epoch [601/1000], Loss: 0.1262\n",
      "Epoch [602/1000], Loss: 0.1141\n",
      "Epoch [603/1000], Loss: 0.1222\n",
      "Epoch [604/1000], Loss: 0.1082\n",
      "Epoch [605/1000], Loss: 0.1163\n",
      "Epoch [606/1000], Loss: 0.1157\n",
      "Epoch [607/1000], Loss: 0.1231\n",
      "Epoch [608/1000], Loss: 0.1137\n",
      "Epoch [609/1000], Loss: 0.1152\n",
      "Epoch [610/1000], Loss: 0.1110\n",
      "Epoch [611/1000], Loss: 0.1191\n",
      "Epoch [612/1000], Loss: 0.1148\n",
      "Epoch [613/1000], Loss: 0.1179\n",
      "Epoch [614/1000], Loss: 0.1188\n",
      "Epoch [615/1000], Loss: 0.1124\n",
      "Epoch [616/1000], Loss: 0.1248\n",
      "Epoch [617/1000], Loss: 0.1129\n",
      "Epoch [618/1000], Loss: 0.1169\n",
      "Epoch [619/1000], Loss: 0.1093\n",
      "Epoch [620/1000], Loss: 0.1113\n",
      "Epoch [621/1000], Loss: 0.1117\n",
      "Epoch [622/1000], Loss: 0.1113\n",
      "Epoch [623/1000], Loss: 0.1082\n",
      "Epoch [624/1000], Loss: 0.1188\n",
      "Epoch [625/1000], Loss: 0.1050\n",
      "Epoch [626/1000], Loss: 0.1132\n",
      "Epoch [627/1000], Loss: 0.1091\n",
      "Epoch [628/1000], Loss: 0.1159\n",
      "Epoch [629/1000], Loss: 0.1076\n",
      "Epoch [630/1000], Loss: 0.1079\n",
      "Epoch [631/1000], Loss: 0.1040\n",
      "Epoch [632/1000], Loss: 0.1055\n",
      "Epoch [633/1000], Loss: 0.1089\n",
      "Epoch [634/1000], Loss: 0.1107\n",
      "Epoch [635/1000], Loss: 0.1144\n",
      "Epoch [636/1000], Loss: 0.1012\n",
      "Epoch [637/1000], Loss: 0.1095\n",
      "Epoch [638/1000], Loss: 0.1134\n",
      "Epoch [639/1000], Loss: 0.0979\n",
      "Epoch [640/1000], Loss: 0.1021\n",
      "Epoch [641/1000], Loss: 0.1095\n",
      "Epoch [642/1000], Loss: 0.1039\n",
      "Epoch [643/1000], Loss: 0.1103\n",
      "Epoch [644/1000], Loss: 0.1066\n",
      "Epoch [645/1000], Loss: 0.1067\n",
      "Epoch [646/1000], Loss: 0.1047\n",
      "Epoch [647/1000], Loss: 0.1003\n",
      "Epoch [648/1000], Loss: 0.1037\n",
      "Epoch [649/1000], Loss: 0.1024\n",
      "Epoch [650/1000], Loss: 0.1158\n",
      "Epoch [651/1000], Loss: 0.0966\n",
      "Epoch [652/1000], Loss: 0.1001\n",
      "Epoch [653/1000], Loss: 0.0952\n",
      "Epoch [654/1000], Loss: 0.1030\n",
      "Epoch [655/1000], Loss: 0.1017\n",
      "Epoch [656/1000], Loss: 0.0952\n",
      "Epoch [657/1000], Loss: 0.0961\n",
      "Epoch [658/1000], Loss: 0.1021\n",
      "Epoch [659/1000], Loss: 0.0969\n",
      "Epoch [660/1000], Loss: 0.0979\n",
      "Epoch [661/1000], Loss: 0.0979\n",
      "Epoch [662/1000], Loss: 0.0960\n",
      "Epoch [663/1000], Loss: 0.0998\n",
      "Epoch [664/1000], Loss: 0.0952\n",
      "Epoch [665/1000], Loss: 0.1067\n",
      "Epoch [666/1000], Loss: 0.0997\n",
      "Epoch [667/1000], Loss: 0.0909\n",
      "Epoch [668/1000], Loss: 0.1032\n",
      "Epoch [669/1000], Loss: 0.0989\n",
      "Epoch [670/1000], Loss: 0.0914\n",
      "Epoch [671/1000], Loss: 0.0935\n",
      "Epoch [672/1000], Loss: 0.0944\n",
      "Epoch [673/1000], Loss: 0.0951\n",
      "Epoch [674/1000], Loss: 0.0987\n",
      "Epoch [675/1000], Loss: 0.0957\n",
      "Epoch [676/1000], Loss: 0.0873\n",
      "Epoch [677/1000], Loss: 0.1001\n",
      "Epoch [678/1000], Loss: 0.0985\n",
      "Epoch [679/1000], Loss: 0.0880\n",
      "Epoch [680/1000], Loss: 0.0920\n",
      "Epoch [681/1000], Loss: 0.0956\n",
      "Epoch [682/1000], Loss: 0.0960\n",
      "Epoch [683/1000], Loss: 0.0903\n",
      "Epoch [684/1000], Loss: 0.0933\n",
      "Epoch [685/1000], Loss: 0.0950\n",
      "Epoch [686/1000], Loss: 0.0975\n",
      "Epoch [687/1000], Loss: 0.1013\n",
      "Epoch [688/1000], Loss: 0.0962\n",
      "Epoch [689/1000], Loss: 0.0966\n",
      "Epoch [690/1000], Loss: 0.0894\n",
      "Epoch [691/1000], Loss: 0.0895\n",
      "Epoch [692/1000], Loss: 0.0915\n",
      "Epoch [693/1000], Loss: 0.0964\n",
      "Epoch [694/1000], Loss: 0.0908\n",
      "Epoch [695/1000], Loss: 0.0966\n",
      "Epoch [696/1000], Loss: 0.0861\n",
      "Epoch [697/1000], Loss: 0.0915\n",
      "Epoch [698/1000], Loss: 0.0909\n",
      "Epoch [699/1000], Loss: 0.0900\n",
      "Epoch [700/1000], Loss: 0.0954\n",
      "Epoch [701/1000], Loss: 0.0924\n",
      "Epoch [702/1000], Loss: 0.0915\n",
      "Epoch [703/1000], Loss: 0.0852\n",
      "Epoch [704/1000], Loss: 0.0889\n",
      "Epoch [705/1000], Loss: 0.0933\n",
      "Epoch [706/1000], Loss: 0.0871\n",
      "Epoch [707/1000], Loss: 0.0910\n",
      "Epoch [708/1000], Loss: 0.0912\n",
      "Epoch [709/1000], Loss: 0.0924\n",
      "Epoch [710/1000], Loss: 0.0861\n",
      "Epoch [711/1000], Loss: 0.0842\n",
      "Epoch [712/1000], Loss: 0.0913\n",
      "Epoch [713/1000], Loss: 0.0823\n",
      "Epoch [714/1000], Loss: 0.0869\n",
      "Epoch [715/1000], Loss: 0.0847\n",
      "Epoch [716/1000], Loss: 0.0922\n",
      "Epoch [717/1000], Loss: 0.0907\n",
      "Epoch [718/1000], Loss: 0.0885\n",
      "Epoch [719/1000], Loss: 0.0918\n",
      "Epoch [720/1000], Loss: 0.0908\n",
      "Epoch [721/1000], Loss: 0.0822\n",
      "Epoch [722/1000], Loss: 0.0888\n",
      "Epoch [723/1000], Loss: 0.0832\n",
      "Epoch [724/1000], Loss: 0.0826\n",
      "Epoch [725/1000], Loss: 0.0853\n",
      "Epoch [726/1000], Loss: 0.0896\n",
      "Epoch [727/1000], Loss: 0.0936\n",
      "Epoch [728/1000], Loss: 0.0895\n",
      "Epoch [729/1000], Loss: 0.0864\n",
      "Epoch [730/1000], Loss: 0.0803\n",
      "Epoch [731/1000], Loss: 0.0858\n",
      "Epoch [732/1000], Loss: 0.0819\n",
      "Epoch [733/1000], Loss: 0.0882\n",
      "Epoch [734/1000], Loss: 0.0830\n",
      "Epoch [735/1000], Loss: 0.0896\n",
      "Epoch [736/1000], Loss: 0.0862\n",
      "Epoch [737/1000], Loss: 0.0837\n",
      "Epoch [738/1000], Loss: 0.0854\n",
      "Epoch [739/1000], Loss: 0.0869\n",
      "Epoch [740/1000], Loss: 0.0811\n",
      "Epoch [741/1000], Loss: 0.0872\n",
      "Epoch [742/1000], Loss: 0.0806\n",
      "Epoch [743/1000], Loss: 0.0803\n",
      "Epoch [744/1000], Loss: 0.0791\n",
      "Epoch [745/1000], Loss: 0.0830\n",
      "Epoch [746/1000], Loss: 0.0798\n",
      "Epoch [747/1000], Loss: 0.0834\n",
      "Epoch [748/1000], Loss: 0.0772\n",
      "Epoch [749/1000], Loss: 0.0772\n",
      "Epoch [750/1000], Loss: 0.0740\n",
      "Epoch [751/1000], Loss: 0.0860\n",
      "Epoch [752/1000], Loss: 0.0869\n",
      "Epoch [753/1000], Loss: 0.0818\n",
      "Epoch [754/1000], Loss: 0.0784\n",
      "Epoch [755/1000], Loss: 0.0790\n",
      "Epoch [756/1000], Loss: 0.0780\n",
      "Epoch [757/1000], Loss: 0.0812\n",
      "Epoch [758/1000], Loss: 0.0781\n",
      "Epoch [759/1000], Loss: 0.0770\n",
      "Epoch [760/1000], Loss: 0.0842\n",
      "Epoch [761/1000], Loss: 0.0779\n",
      "Epoch [762/1000], Loss: 0.0786\n",
      "Epoch [763/1000], Loss: 0.0839\n",
      "Epoch [764/1000], Loss: 0.0780\n",
      "Epoch [765/1000], Loss: 0.0838\n",
      "Epoch [766/1000], Loss: 0.0832\n",
      "Epoch [767/1000], Loss: 0.0814\n",
      "Epoch [768/1000], Loss: 0.0749\n",
      "Epoch [769/1000], Loss: 0.0787\n",
      "Epoch [770/1000], Loss: 0.0777\n",
      "Epoch [771/1000], Loss: 0.0739\n",
      "Epoch [772/1000], Loss: 0.0734\n",
      "Epoch [773/1000], Loss: 0.0747\n",
      "Epoch [774/1000], Loss: 0.0707\n",
      "Epoch [775/1000], Loss: 0.0728\n",
      "Epoch [776/1000], Loss: 0.0779\n",
      "Epoch [777/1000], Loss: 0.0819\n",
      "Epoch [778/1000], Loss: 0.0740\n",
      "Epoch [779/1000], Loss: 0.0805\n",
      "Epoch [780/1000], Loss: 0.0778\n",
      "Epoch [781/1000], Loss: 0.0773\n",
      "Epoch [782/1000], Loss: 0.0771\n",
      "Epoch [783/1000], Loss: 0.0736\n",
      "Epoch [784/1000], Loss: 0.0766\n",
      "Epoch [785/1000], Loss: 0.0750\n",
      "Epoch [786/1000], Loss: 0.0699\n",
      "Epoch [787/1000], Loss: 0.0782\n",
      "Epoch [788/1000], Loss: 0.0749\n",
      "Epoch [789/1000], Loss: 0.0782\n",
      "Epoch [790/1000], Loss: 0.0776\n",
      "Epoch [791/1000], Loss: 0.0807\n",
      "Epoch [792/1000], Loss: 0.0741\n",
      "Epoch [793/1000], Loss: 0.0793\n",
      "Epoch [794/1000], Loss: 0.0706\n",
      "Epoch [795/1000], Loss: 0.0728\n",
      "Epoch [796/1000], Loss: 0.0742\n",
      "Epoch [797/1000], Loss: 0.0783\n",
      "Epoch [798/1000], Loss: 0.0781\n",
      "Epoch [799/1000], Loss: 0.0720\n",
      "Epoch [800/1000], Loss: 0.0722\n",
      "Epoch [801/1000], Loss: 0.0769\n",
      "Epoch [802/1000], Loss: 0.0807\n",
      "Epoch [803/1000], Loss: 0.0724\n",
      "Epoch [804/1000], Loss: 0.0811\n",
      "Epoch [805/1000], Loss: 0.0698\n",
      "Epoch [806/1000], Loss: 0.0763\n",
      "Epoch [807/1000], Loss: 0.0795\n",
      "Epoch [808/1000], Loss: 0.0806\n",
      "Epoch [809/1000], Loss: 0.0712\n",
      "Epoch [810/1000], Loss: 0.0714\n",
      "Epoch [811/1000], Loss: 0.0744\n",
      "Epoch [812/1000], Loss: 0.0683\n",
      "Epoch [813/1000], Loss: 0.0779\n",
      "Epoch [814/1000], Loss: 0.0739\n",
      "Epoch [815/1000], Loss: 0.0703\n",
      "Epoch [816/1000], Loss: 0.0726\n",
      "Epoch [817/1000], Loss: 0.0694\n",
      "Epoch [818/1000], Loss: 0.0720\n",
      "Epoch [819/1000], Loss: 0.0724\n",
      "Epoch [820/1000], Loss: 0.0699\n",
      "Epoch [821/1000], Loss: 0.0740\n",
      "Epoch [822/1000], Loss: 0.0691\n",
      "Epoch [823/1000], Loss: 0.0725\n",
      "Epoch [824/1000], Loss: 0.0688\n",
      "Epoch [825/1000], Loss: 0.0686\n",
      "Epoch [826/1000], Loss: 0.0646\n",
      "Epoch [827/1000], Loss: 0.0702\n",
      "Epoch [828/1000], Loss: 0.0750\n",
      "Epoch [829/1000], Loss: 0.0759\n",
      "Epoch [830/1000], Loss: 0.0679\n",
      "Epoch [831/1000], Loss: 0.0755\n",
      "Epoch [832/1000], Loss: 0.0717\n",
      "Epoch [833/1000], Loss: 0.0695\n",
      "Epoch [834/1000], Loss: 0.0720\n",
      "Epoch [835/1000], Loss: 0.0707\n",
      "Epoch [836/1000], Loss: 0.0736\n",
      "Epoch [837/1000], Loss: 0.0726\n",
      "Epoch [838/1000], Loss: 0.0690\n",
      "Epoch [839/1000], Loss: 0.0731\n",
      "Epoch [840/1000], Loss: 0.0683\n",
      "Epoch [841/1000], Loss: 0.0760\n",
      "Epoch [842/1000], Loss: 0.0646\n",
      "Epoch [843/1000], Loss: 0.0669\n",
      "Epoch [844/1000], Loss: 0.0653\n",
      "Epoch [845/1000], Loss: 0.0643\n",
      "Epoch [846/1000], Loss: 0.0718\n",
      "Epoch [847/1000], Loss: 0.0677\n",
      "Epoch [848/1000], Loss: 0.0690\n",
      "Epoch [849/1000], Loss: 0.0687\n",
      "Epoch [850/1000], Loss: 0.0714\n",
      "Epoch [851/1000], Loss: 0.0683\n",
      "Epoch [852/1000], Loss: 0.0695\n",
      "Epoch [853/1000], Loss: 0.0697\n",
      "Epoch [854/1000], Loss: 0.0705\n",
      "Epoch [855/1000], Loss: 0.0635\n",
      "Epoch [856/1000], Loss: 0.0661\n",
      "Epoch [857/1000], Loss: 0.0734\n",
      "Epoch [858/1000], Loss: 0.0704\n",
      "Epoch [859/1000], Loss: 0.0640\n",
      "Epoch [860/1000], Loss: 0.0630\n",
      "Epoch [861/1000], Loss: 0.0705\n",
      "Epoch [862/1000], Loss: 0.0672\n",
      "Epoch [863/1000], Loss: 0.0649\n",
      "Epoch [864/1000], Loss: 0.0661\n",
      "Epoch [865/1000], Loss: 0.0700\n",
      "Epoch [866/1000], Loss: 0.0695\n",
      "Epoch [867/1000], Loss: 0.0679\n",
      "Epoch [868/1000], Loss: 0.0691\n",
      "Epoch [869/1000], Loss: 0.0659\n",
      "Epoch [870/1000], Loss: 0.0635\n",
      "Epoch [871/1000], Loss: 0.0632\n",
      "Epoch [872/1000], Loss: 0.0723\n",
      "Epoch [873/1000], Loss: 0.0679\n",
      "Epoch [874/1000], Loss: 0.0614\n",
      "Epoch [875/1000], Loss: 0.0709\n",
      "Epoch [876/1000], Loss: 0.0677\n",
      "Epoch [877/1000], Loss: 0.0670\n",
      "Epoch [878/1000], Loss: 0.0706\n",
      "Epoch [879/1000], Loss: 0.0660\n",
      "Epoch [880/1000], Loss: 0.0663\n",
      "Epoch [881/1000], Loss: 0.0702\n",
      "Epoch [882/1000], Loss: 0.0618\n",
      "Epoch [883/1000], Loss: 0.0633\n",
      "Epoch [884/1000], Loss: 0.0615\n",
      "Epoch [885/1000], Loss: 0.0661\n",
      "Epoch [886/1000], Loss: 0.0678\n",
      "Epoch [887/1000], Loss: 0.0596\n",
      "Epoch [888/1000], Loss: 0.0653\n",
      "Epoch [889/1000], Loss: 0.0708\n",
      "Epoch [890/1000], Loss: 0.0638\n",
      "Epoch [891/1000], Loss: 0.0596\n",
      "Epoch [892/1000], Loss: 0.0657\n",
      "Epoch [893/1000], Loss: 0.0621\n",
      "Epoch [894/1000], Loss: 0.0694\n",
      "Epoch [895/1000], Loss: 0.0651\n",
      "Epoch [896/1000], Loss: 0.0659\n",
      "Epoch [897/1000], Loss: 0.0654\n",
      "Epoch [898/1000], Loss: 0.0640\n",
      "Epoch [899/1000], Loss: 0.0598\n",
      "Epoch [900/1000], Loss: 0.0637\n",
      "Epoch [901/1000], Loss: 0.0631\n",
      "Epoch [902/1000], Loss: 0.0668\n",
      "Epoch [903/1000], Loss: 0.0648\n",
      "Epoch [904/1000], Loss: 0.0667\n",
      "Epoch [905/1000], Loss: 0.0576\n",
      "Epoch [906/1000], Loss: 0.0604\n",
      "Epoch [907/1000], Loss: 0.0647\n",
      "Epoch [908/1000], Loss: 0.0617\n",
      "Epoch [909/1000], Loss: 0.0652\n",
      "Epoch [910/1000], Loss: 0.0697\n",
      "Epoch [911/1000], Loss: 0.0700\n",
      "Epoch [912/1000], Loss: 0.0671\n",
      "Epoch [913/1000], Loss: 0.0589\n",
      "Epoch [914/1000], Loss: 0.0626\n",
      "Epoch [915/1000], Loss: 0.0647\n",
      "Epoch [916/1000], Loss: 0.0579\n",
      "Epoch [917/1000], Loss: 0.0625\n",
      "Epoch [918/1000], Loss: 0.0603\n",
      "Epoch [919/1000], Loss: 0.0651\n",
      "Epoch [920/1000], Loss: 0.0618\n",
      "Epoch [921/1000], Loss: 0.0638\n",
      "Epoch [922/1000], Loss: 0.0644\n",
      "Epoch [923/1000], Loss: 0.0615\n",
      "Epoch [924/1000], Loss: 0.0584\n",
      "Epoch [925/1000], Loss: 0.0625\n",
      "Epoch [926/1000], Loss: 0.0622\n",
      "Epoch [927/1000], Loss: 0.0637\n",
      "Epoch [928/1000], Loss: 0.0648\n",
      "Epoch [929/1000], Loss: 0.0628\n",
      "Epoch [930/1000], Loss: 0.0574\n",
      "Epoch [931/1000], Loss: 0.0591\n",
      "Epoch [932/1000], Loss: 0.0590\n",
      "Epoch [933/1000], Loss: 0.0644\n",
      "Epoch [934/1000], Loss: 0.0596\n",
      "Epoch [935/1000], Loss: 0.0580\n",
      "Epoch [936/1000], Loss: 0.0643\n",
      "Epoch [937/1000], Loss: 0.0676\n",
      "Epoch [938/1000], Loss: 0.0604\n",
      "Epoch [939/1000], Loss: 0.0589\n",
      "Epoch [940/1000], Loss: 0.0570\n",
      "Epoch [941/1000], Loss: 0.0572\n",
      "Epoch [942/1000], Loss: 0.0615\n",
      "Epoch [943/1000], Loss: 0.0636\n",
      "Epoch [944/1000], Loss: 0.0652\n",
      "Epoch [945/1000], Loss: 0.0617\n",
      "Epoch [946/1000], Loss: 0.0628\n",
      "Epoch [947/1000], Loss: 0.0578\n",
      "Epoch [948/1000], Loss: 0.0581\n",
      "Epoch [949/1000], Loss: 0.0582\n",
      "Epoch [950/1000], Loss: 0.0621\n",
      "Epoch [951/1000], Loss: 0.0618\n",
      "Epoch [952/1000], Loss: 0.0614\n",
      "Epoch [953/1000], Loss: 0.0635\n",
      "Epoch [954/1000], Loss: 0.0557\n",
      "Epoch [955/1000], Loss: 0.0586\n",
      "Epoch [956/1000], Loss: 0.0580\n",
      "Epoch [957/1000], Loss: 0.0598\n",
      "Epoch [958/1000], Loss: 0.0576\n",
      "Epoch [959/1000], Loss: 0.0619\n",
      "Epoch [960/1000], Loss: 0.0610\n",
      "Epoch [961/1000], Loss: 0.0576\n",
      "Epoch [962/1000], Loss: 0.0585\n",
      "Epoch [963/1000], Loss: 0.0601\n",
      "Epoch [964/1000], Loss: 0.0574\n",
      "Epoch [965/1000], Loss: 0.0558\n",
      "Epoch [966/1000], Loss: 0.0550\n",
      "Epoch [967/1000], Loss: 0.0606\n",
      "Epoch [968/1000], Loss: 0.0566\n",
      "Epoch [969/1000], Loss: 0.0591\n",
      "Epoch [970/1000], Loss: 0.0571\n",
      "Epoch [971/1000], Loss: 0.0639\n",
      "Epoch [972/1000], Loss: 0.0565\n",
      "Epoch [973/1000], Loss: 0.0597\n",
      "Epoch [974/1000], Loss: 0.0648\n",
      "Epoch [975/1000], Loss: 0.0568\n",
      "Epoch [976/1000], Loss: 0.0572\n",
      "Epoch [977/1000], Loss: 0.0602\n",
      "Epoch [978/1000], Loss: 0.0543\n",
      "Epoch [979/1000], Loss: 0.0575\n",
      "Epoch [980/1000], Loss: 0.0566\n",
      "Epoch [981/1000], Loss: 0.0573\n",
      "Epoch [982/1000], Loss: 0.0583\n",
      "Epoch [983/1000], Loss: 0.0574\n",
      "Epoch [984/1000], Loss: 0.0571\n",
      "Epoch [985/1000], Loss: 0.0598\n",
      "Epoch [986/1000], Loss: 0.0604\n",
      "Epoch [987/1000], Loss: 0.0624\n",
      "Epoch [988/1000], Loss: 0.0572\n",
      "Epoch [989/1000], Loss: 0.0618\n",
      "Epoch [990/1000], Loss: 0.0591\n",
      "Epoch [991/1000], Loss: 0.0599\n",
      "Epoch [992/1000], Loss: 0.0554\n",
      "Epoch [993/1000], Loss: 0.0538\n",
      "Epoch [994/1000], Loss: 0.0512\n",
      "Epoch [995/1000], Loss: 0.0577\n",
      "Epoch [996/1000], Loss: 0.0629\n",
      "Epoch [997/1000], Loss: 0.0582\n",
      "Epoch [998/1000], Loss: 0.0527\n",
      "Epoch [999/1000], Loss: 0.0544\n",
      "Epoch [1000/1000], Loss: 0.0560\n"
     ]
    },
    {
     "data": {
      "text/plain": [
       "TSMixer(\n",
       "  (norm): LayerNorm((11,), eps=1e-05, elementwise_affine=True)\n",
       "  (dense_in): Linear(in_features=8, out_features=8, bias=True)\n",
       "  (dense_out): Linear(in_features=8, out_features=16, bias=True)\n",
       "  (dense_ff_in): Linear(in_features=11, out_features=64, bias=True)\n",
       "  (dense_ff_out): Linear(in_features=64, out_features=11, bias=True)\n",
       "  (activate): ReLU()\n",
       "  (dropout): Dropout(p=0.2, inplace=False)\n",
       ")"
      ]
     },
     "execution_count": 3,
     "metadata": {},
     "output_type": "execute_result"
    }
   ],
   "source": [
    "# 初始化DataLoader来读取数据集并创建训练集、验证集和测试集\n",
    "seq_len = 8\n",
    "pre_len = 16\n",
    "data_loader = DataCreator(batch_size=32, seq_len=seq_len, pred_len=pre_len)\n",
    "\n",
    "train_inputs, train_labels = data_loader.get_train()\n",
    "val_inputs, val_labels = data_loader.get_val()\n",
    "test_inputs, test_labels = data_loader.get_test()\n",
    "\n",
    "# 初始化TSMixer模型\n",
    "model = TSMixer(\n",
    "    input_size = data_loader.n_feature,\n",
    "    seq_len = seq_len,\n",
    "    pred_len=pre_len,\n",
    "    n_block=8,\n",
    "    ff_dim=64,\n",
    "    dropout_proba=0.2\n",
    ")\n",
    "model.to(device)\n",
    "\n",
    "# 训练模型\n",
    "'''\n",
    "使用学习率为 1e-4 的 Adam 优化器;\n",
    "实施检查点来保存最佳模型;\n",
    "在连续三个时期没有改进的情况下提前停止以停止训练。\n",
    "'''\n",
    "torch.manual_seed(42)\n",
    "\n",
    "criterion = nn.MSELoss()\n",
    "optimizer = optim.Adam(model.parameters(), lr=0.001)\n",
    "\n",
    "# model.compile(optimizer, loss='mse', metrics=['mae'])\n",
    "\n",
    "# checkpoint_callback = tf.keras.callbacks.ModelCheckpoint(\n",
    "#     filepath='tsmixer_checkpoints/',\n",
    "#     vebose=1,\n",
    "#     save_best_only=True,\n",
    "#     save_weights_only=True\n",
    "# )\n",
    "\n",
    "# early_stop_callback = tf.keras.callbacks.EarlyStopping(\n",
    "#     monitor='val_loss',\n",
    "#     patience=3\n",
    "# )\n",
    "\n",
    "# history = model.fit(\n",
    "#     train_data,\n",
    "#     epochs= 30,\n",
    "#     validation_data=val_data,\n",
    "#     callbacks=[checkpoint_callback, early_stop_callback]\n",
    "# )\n",
    "\n",
    "# 训练模型\n",
    "epochs = 1000\n",
    "train_loss = []\n",
    "for epoch in range(epochs):\n",
    "    optimizer.zero_grad()\n",
    "    epoch_loss = []\n",
    "    for inputs_list, label_list in zip(train_inputs, train_labels):\n",
    "        # print(len(inputs_list), len(label_list))\n",
    "        inputs_tensor, label_tensor = inputs_list[0].to(device), label_list[0].to(device)\n",
    "        output = model(inputs_tensor)\n",
    "        loss = criterion(label_tensor, output)\n",
    "        loss.backward()\n",
    "        optimizer.step()\n",
    "        epoch_loss.append(loss.item())\n",
    "    print('Epoch [{}/{}], Loss: {:.4f}'.format(epoch+1, epochs, np.mean(epoch_loss)))\n",
    "    train_loss.extend(epoch_loss)\n",
    "\n",
    "model.eval()\n",
    "\n",
    "# # 在模型训练完毕后加载检查点回调保存的最佳模型\n",
    "# best_epoch = np.argmin(history.history['val_loss'])\n",
    "\n",
    "# model.load_weights(\"tsmixer_checkpoints/\")\n",
    "\n",
    "# # 访问96个时间步长的最后一个窗口的预测（已按比例缩放）\n",
    "# predictions = model.predict(test_inputs)\n",
    "\n",
    "# scaled_preds = predictions[-1,:,:]"
   ]
  },
  {
   "cell_type": "code",
   "execution_count": 4,
   "metadata": {},
   "outputs": [
    {
     "data": {
      "application/vnd.plotly.v1+json": {
       "config": {
        "plotlyServerURL": "https://plot.ly"
       },
       "data": [
        {
         "line": {
          "color": "blue"
         },
         "mode": "lines",
         "name": "loss",
         "type": "scatter",
         "y": [
          4.4396820068359375,
          4.044463157653809,
          3.632049560546875,
          3.603355884552002,
          3.578319787979126,
          3.070657968521118,
          3.0074210166931152,
          2.8014800548553467,
          2.69387149810791,
          2.586604595184326,
          2.3868844509124756,
          2.315239191055298,
          2.308819055557251,
          2.226161479949951,
          2.1117923259735107,
          2.0164496898651123,
          1.9780045747756958,
          1.9611804485321045,
          1.876968502998352,
          1.7195370197296143,
          1.7039724588394165,
          1.721723198890686,
          1.5565065145492554,
          1.6082252264022827,
          1.5243077278137207,
          1.5205981731414795,
          1.537309169769287,
          1.4134163856506348,
          1.3760279417037964,
          1.397570013999939,
          1.4091548919677734,
          1.3844342231750488,
          1.3142725229263306,
          1.2577365636825562,
          1.2878351211547852,
          1.3140122890472412,
          1.2676132917404175,
          1.2696000337600708,
          1.2829668521881104,
          1.1936554908752441,
          1.2282171249389648,
          1.201033115386963,
          1.163027048110962,
          1.1985893249511719,
          1.141764760017395,
          1.0991382598876953,
          1.1525611877441406,
          1.110452651977539,
          1.0966410636901855,
          1.1112120151519775,
          1.100394606590271,
          1.0995707511901855,
          1.0765107870101929,
          1.0344384908676147,
          1.0647674798965454,
          1.054161787033081,
          1.0407798290252686,
          1.0616284608840942,
          1.0346348285675049,
          1.028473973274231,
          1.0116363763809204,
          1.0173671245574951,
          1.0228158235549927,
          0.9921504855155945,
          1.0070676803588867,
          1.0118391513824463,
          0.9683910608291626,
          0.9806726574897766,
          0.9956805109977722,
          0.9854773283004761,
          0.9628413319587708,
          0.978642463684082,
          0.9721459150314331,
          0.9867735505104065,
          0.968843400478363,
          0.9501165747642517,
          0.9279564619064331,
          0.9407880306243896,
          0.9339079260826111,
          0.9220839142799377,
          0.9563944935798645,
          0.9425476789474487,
          0.9319208860397339,
          0.9193355441093445,
          0.9360299706459045,
          0.908258318901062,
          0.9185965061187744,
          0.9295012950897217,
          0.9246084690093994,
          0.9351909756660461,
          0.90861976146698,
          0.9116794466972351,
          0.8976419568061829,
          0.9098553657531738,
          0.918484091758728,
          0.871927797794342,
          0.8978855609893799,
          0.890811026096344,
          0.9002252221107483,
          0.8813567757606506,
          0.9009580016136169,
          0.8838242292404175,
          0.8854767084121704,
          0.8785043358802795,
          0.8732938170433044,
          0.8865057229995728,
          0.8775821924209595,
          0.8917670845985413,
          0.8810093998908997,
          0.8636077046394348,
          0.855368971824646,
          0.8528023958206177,
          0.8577578663825989,
          0.878641664981842,
          0.8371785283088684,
          0.8893378376960754,
          0.845860481262207,
          0.8580989837646484,
          0.8325915336608887,
          0.8590569496154785,
          0.8367304801940918,
          0.8784739375114441,
          0.8289064168930054,
          0.8330296874046326,
          0.8408989906311035,
          0.839407742023468,
          0.8394352197647095,
          0.8431125283241272,
          0.8195168972015381,
          0.8457956910133362,
          0.8267437219619751,
          0.8584070801734924,
          0.8280413150787354,
          0.8210670351982117,
          0.8227523565292358,
          0.8242814540863037,
          0.808559238910675,
          0.8401836156845093,
          0.8110368251800537,
          0.801932156085968,
          0.816858172416687,
          0.8172134757041931,
          0.7987295389175415,
          0.8017652630805969,
          0.8116270899772644,
          0.8049768805503845,
          0.7978026866912842,
          0.8035727739334106,
          0.7767734527587891,
          0.8102672696113586,
          0.7850668430328369,
          0.7901878952980042,
          0.7762629985809326,
          0.7832375764846802,
          0.7914379239082336,
          0.7854233384132385,
          0.7912297248840332,
          0.7780951857566833,
          0.7459027767181396,
          0.7915483117103577,
          0.7702568769454956,
          0.7737855315208435,
          0.7656410932540894,
          0.7873127460479736,
          0.7715240716934204,
          0.7638384103775024,
          0.7657094597816467,
          0.7776134610176086,
          0.7542181015014648,
          0.7499756217002869,
          0.7430323362350464,
          0.7574133276939392,
          0.7632925510406494,
          0.7411974668502808,
          0.7222843170166016,
          0.7459564208984375,
          0.7204363346099854,
          0.7703655362129211,
          0.7478748559951782,
          0.7348917126655579,
          0.735694944858551,
          0.7277777791023254,
          0.7199530005455017,
          0.7197885513305664,
          0.7180551290512085,
          0.7231422066688538,
          0.7205034494400024,
          0.7388370633125305,
          0.7097869515419006,
          0.712443470954895,
          0.6945587992668152,
          0.6806024312973022,
          0.6894038319587708,
          0.699809193611145,
          0.6754612922668457,
          0.7200334072113037,
          0.6998241543769836,
          0.703396201133728,
          0.7083234786987305,
          0.6766226291656494,
          0.6998482942581177,
          0.6836192011833191,
          0.6690234541893005,
          0.6552921533584595,
          0.7011264562606812,
          0.6537089347839355,
          0.6570123434066772,
          0.6663355827331543,
          0.6678340435028076,
          0.6769916415214539,
          0.6622642874717712,
          0.6572996973991394,
          0.6659678220748901,
          0.6641712188720703,
          0.6239348649978638,
          0.6469665169715881,
          0.6379979252815247,
          0.6382637619972229,
          0.6165992021560669,
          0.6095908880233765,
          0.6226486563682556,
          0.6360648274421692,
          0.6339595913887024,
          0.6281057596206665,
          0.6050927639007568,
          0.6376598477363586,
          0.5877577066421509,
          0.617021918296814,
          0.6000869274139404,
          0.6182969212532043,
          0.595634937286377,
          0.5850592255592346,
          0.5759587287902832,
          0.5880183577537537,
          0.5948160290718079,
          0.5845429301261902,
          0.5788098573684692,
          0.6069377660751343,
          0.5656870007514954,
          0.5661669373512268,
          0.5806255340576172,
          0.5672855973243713,
          0.5711284875869751,
          0.5861832499504089,
          0.562934935092926,
          0.5637896656990051,
          0.5531553626060486,
          0.5394492745399475,
          0.5317435264587402,
          0.5497363209724426,
          0.5309915542602539,
          0.5277283787727356,
          0.5336377024650574,
          0.5479539036750793,
          0.5429636836051941,
          0.5287274718284607,
          0.5326089262962341,
          0.5272637605667114,
          0.49728062748908997,
          0.5272196531295776,
          0.5216678977012634,
          0.5097171664237976,
          0.5275242924690247,
          0.5519076585769653,
          0.5425752401351929,
          0.4884819984436035,
          0.5117750763893127,
          0.5076969861984253,
          0.47001901268959045,
          0.506499171257019,
          0.4868089258670807,
          0.47537195682525635,
          0.4928714334964752,
          0.5083521604537964,
          0.4882851839065552,
          0.4828561246395111,
          0.5043554306030273,
          0.48791056871414185,
          0.47715696692466736,
          0.4767550826072693,
          0.48179149627685547,
          0.5056185722351074,
          0.4690040349960327,
          0.4823620617389679,
          0.45567476749420166,
          0.4478171765804291,
          0.4533621370792389,
          0.43925249576568604,
          0.4498627781867981,
          0.44434449076652527,
          0.44009414315223694,
          0.4236142337322235,
          0.4437710642814636,
          0.4530499279499054,
          0.4310203194618225,
          0.44464635848999023,
          0.4402948319911957,
          0.42714160680770874,
          0.42863205075263977,
          0.4318804442882538,
          0.42996108531951904,
          0.4065817594528198,
          0.400572270154953,
          0.40633508563041687,
          0.4139297604560852,
          0.43151354789733887,
          0.426089346408844,
          0.3925541639328003,
          0.40767961740493774,
          0.4078187942504883,
          0.3959442973136902,
          0.41081446409225464,
          0.3950112760066986,
          0.3941941559314728,
          0.40407562255859375,
          0.3972697854042053,
          0.3730393946170807,
          0.3918314576148987,
          0.3904390335083008,
          0.3882828652858734,
          0.3950793445110321,
          0.3657272160053253,
          0.3811245560646057,
          0.37206846475601196,
          0.39086028933525085,
          0.39994433522224426,
          0.3603648841381073,
          0.35352563858032227,
          0.3852912187576294,
          0.3803834319114685,
          0.35777246952056885,
          0.3799228072166443,
          0.3566446006298065,
          0.35524827241897583,
          0.39275190234184265,
          0.35228216648101807,
          0.3619263768196106,
          0.34734559059143066,
          0.35237500071525574,
          0.35108935832977295,
          0.3543452322483063,
          0.3280619978904724,
          0.34951165318489075,
          0.32644614577293396,
          0.3432733416557312,
          0.3474060893058777,
          0.3238706588745117,
          0.32896116375923157,
          0.3364545404911041,
          0.33739277720451355,
          0.3350198268890381,
          0.32325130701065063,
          0.32359397411346436,
          0.34292224049568176,
          0.31211647391319275,
          0.3217361569404602,
          0.31968235969543457,
          0.35682493448257446,
          0.30512771010398865,
          0.3163505792617798,
          0.28797146677970886,
          0.2866896092891693,
          0.3072987496852875,
          0.29122400283813477,
          0.3065841794013977,
          0.2929764986038208,
          0.3218544125556946,
          0.3288162648677826,
          0.31667327880859375,
          0.2990122139453888,
          0.28204572200775146,
          0.27475985884666443,
          0.28442537784576416,
          0.3060839772224426,
          0.29392537474632263,
          0.27393513917922974,
          0.2914299964904785,
          0.28476929664611816,
          0.2877015769481659,
          0.2921523451805115,
          0.2981184720993042,
          0.2801358699798584,
          0.2637422978878021,
          0.26046276092529297,
          0.2626199424266815,
          0.2957921326160431,
          0.30899688601493835,
          0.28150245547294617,
          0.25679048895835876,
          0.2625103294849396,
          0.2641679644584656,
          0.2870537042617798,
          0.2639322280883789,
          0.25591158866882324,
          0.2770715057849884,
          0.2662881016731262,
          0.26887139678001404,
          0.262962281703949,
          0.2563501298427582,
          0.2664576470851898,
          0.24140116572380066,
          0.25599759817123413,
          0.2619212865829468,
          0.25315093994140625,
          0.2593860328197479,
          0.24392642080783844,
          0.25962957739830017,
          0.24701914191246033,
          0.24291552603244781,
          0.24191752076148987,
          0.2464141845703125,
          0.24676617980003357,
          0.2521989643573761,
          0.23202277719974518,
          0.2501085698604584,
          0.23653365671634674,
          0.2501257658004761,
          0.236282080411911,
          0.22604049742221832,
          0.23556016385555267,
          0.22196149826049805,
          0.23592573404312134,
          0.23633712530136108,
          0.2416866570711136,
          0.240937739610672,
          0.23095764219760895,
          0.2163211554288864,
          0.2212439626455307,
          0.23330432176589966,
          0.2193235158920288,
          0.2144937962293625,
          0.2262783944606781,
          0.22967682778835297,
          0.21416795253753662,
          0.21621392667293549,
          0.21082325279712677,
          0.21387812495231628,
          0.21703656017780304,
          0.19813130795955658,
          0.22215917706489563,
          0.20629994571208954,
          0.2041572481393814,
          0.2160465568304062,
          0.21735212206840515,
          0.1934063881635666,
          0.18351171910762787,
          0.20751158893108368,
          0.1988946795463562,
          0.202665314078331,
          0.1959603875875473,
          0.20070432126522064,
          0.18027642369270325,
          0.20256485044956207,
          0.19100388884544373,
          0.1894141286611557,
          0.20299707353115082,
          0.20113246142864227,
          0.20494677126407623,
          0.18634618818759918,
          0.18183228373527527,
          0.20306509733200073,
          0.18176612257957458,
          0.2063063234090805,
          0.19037474691867828,
          0.18344374001026154,
          0.1805361807346344,
          0.1865391582250595,
          0.19252876937389374,
          0.1822126805782318,
          0.17613373696804047,
          0.1826828122138977,
          0.1785070300102234,
          0.1891195923089981,
          0.20204971730709076,
          0.1829465925693512,
          0.17103110253810883,
          0.1828976571559906,
          0.1956455409526825,
          0.18396146595478058,
          0.18225444853305817,
          0.17220456898212433,
          0.17020127177238464,
          0.16824550926685333,
          0.17964725196361542,
          0.1852741241455078,
          0.16769573092460632,
          0.16659842431545258,
          0.1710994988679886,
          0.1733303666114807,
          0.16815100610256195,
          0.183089941740036,
          0.19153746962547302,
          0.17635180056095123,
          0.18740101158618927,
          0.1734175682067871,
          0.17653802037239075,
          0.16835181415081024,
          0.16778862476348877,
          0.16365060210227966,
          0.17719292640686035,
          0.17229588329792023,
          0.16179105639457703,
          0.15809719264507294,
          0.1736077517271042,
          0.16746139526367188,
          0.1765594482421875,
          0.17883774638175964,
          0.15400046110153198,
          0.15325012803077698,
          0.16629503667354584,
          0.15876637399196625,
          0.14756187796592712,
          0.1483648419380188,
          0.1614687442779541,
          0.1537674367427826,
          0.1595420390367508,
          0.15300323069095612,
          0.1525581181049347,
          0.16451409459114075,
          0.1703166514635086,
          0.16307896375656128,
          0.15352623164653778,
          0.1649315357208252,
          0.1651657223701477,
          0.14718206226825714,
          0.15670743584632874,
          0.14599011838436127,
          0.14943785965442657,
          0.13910207152366638,
          0.1496729850769043,
          0.15160098671913147,
          0.1612890064716339,
          0.14915500581264496,
          0.15190395712852478,
          0.14952442049980164,
          0.155487522482872,
          0.16065318882465363,
          0.15064637362957,
          0.14830945432186127,
          0.14784371852874756,
          0.14639486372470856,
          0.14653882384300232,
          0.15728545188903809,
          0.1413893848657608,
          0.14409948885440826,
          0.15038925409317017,
          0.14351099729537964,
          0.15008802711963654,
          0.14088650047779083,
          0.1436222344636917,
          0.14355561137199402,
          0.15188314020633698,
          0.1409461349248886,
          0.13793890178203583,
          0.12821221351623535,
          0.13799524307250977,
          0.1471511423587799,
          0.1416742205619812,
          0.1446598470211029,
          0.12903878092765808,
          0.13951130211353302,
          0.12780815362930298,
          0.1435348391532898,
          0.13971130549907684,
          0.1472320556640625,
          0.1252620369195938,
          0.12715452909469604,
          0.13811103999614716,
          0.14110171794891357,
          0.13277272880077362,
          0.12690022587776184,
          0.13909512758255005,
          0.12940184772014618,
          0.12896671891212463,
          0.1286788284778595,
          0.12034134566783905,
          0.13065649569034576,
          0.11750824004411697,
          0.11613986641168594,
          0.12827177345752716,
          0.12906743586063385,
          0.14803378283977509,
          0.1285906285047531,
          0.1326485425233841,
          0.12459167093038559,
          0.11970701068639755,
          0.12483208626508713,
          0.12670233845710754,
          0.12680837512016296,
          0.1219036728143692,
          0.11559490114450455,
          0.11647264659404755,
          0.1276540905237198,
          0.12236657738685608,
          0.1205107718706131,
          0.1078961044549942,
          0.11922464519739151,
          0.12597602605819702,
          0.11820200830698013,
          0.12193739414215088,
          0.12623946368694305,
          0.11406340450048447,
          0.12223862111568451,
          0.10816840827465057,
          0.11634077876806259,
          0.11573970317840576,
          0.12308558076620102,
          0.11374449729919434,
          0.11521624773740768,
          0.11102965474128723,
          0.11911340802907944,
          0.11482103914022446,
          0.11793680489063263,
          0.11877284198999405,
          0.11236381530761719,
          0.12479046732187271,
          0.11294173449277878,
          0.11689839512109756,
          0.10928018391132355,
          0.11125603318214417,
          0.11165733635425568,
          0.1113101914525032,
          0.10821560025215149,
          0.11879555135965347,
          0.10501641035079956,
          0.11320210248231888,
          0.10914815962314606,
          0.1158796176314354,
          0.10764008015394211,
          0.10786812007427216,
          0.1039540097117424,
          0.1054827943444252,
          0.10886327922344208,
          0.11074110120534897,
          0.11444229632616043,
          0.10124894231557846,
          0.10948293656110764,
          0.11337526142597198,
          0.09794940054416656,
          0.1021377295255661,
          0.10946322977542877,
          0.10389778763055801,
          0.11034543812274933,
          0.10662315785884857,
          0.10670603066682816,
          0.10472843796014786,
          0.10027475655078888,
          0.10367333889007568,
          0.10235404968261719,
          0.11583174020051956,
          0.09655202925205231,
          0.10014653205871582,
          0.09516213834285736,
          0.10304499417543411,
          0.10172920674085617,
          0.09524279832839966,
          0.0961255133152008,
          0.10211967676877975,
          0.09689736366271973,
          0.09791678935289383,
          0.0979233831167221,
          0.09598639607429504,
          0.09984476864337921,
          0.09521020203828812,
          0.10670538246631622,
          0.09972171485424042,
          0.09086624532938004,
          0.10323821008205414,
          0.09893321245908737,
          0.09136643260717392,
          0.09348595887422562,
          0.09438637644052505,
          0.09506350755691528,
          0.09872087836265564,
          0.09569375962018967,
          0.08728340268135071,
          0.10006487369537354,
          0.09851711988449097,
          0.08796718716621399,
          0.09195024520158768,
          0.09556905925273895,
          0.09602537751197815,
          0.0902923122048378,
          0.09328237175941467,
          0.09497175365686417,
          0.0975302904844284,
          0.10134730488061905,
          0.09617973119020462,
          0.09662967175245285,
          0.08939716219902039,
          0.0894908681511879,
          0.09153107553720474,
          0.09639409929513931,
          0.09084367007017136,
          0.09656045585870743,
          0.08613184094429016,
          0.09148262441158295,
          0.09088455885648727,
          0.08998745679855347,
          0.095370814204216,
          0.09241577982902527,
          0.09153146296739578,
          0.08524607867002487,
          0.08891719579696655,
          0.09325653314590454,
          0.08712412416934967,
          0.09100811928510666,
          0.09119275957345963,
          0.09244291484355927,
          0.08610107004642487,
          0.08418922126293182,
          0.09133516252040863,
          0.08231125771999359,
          0.08692047744989395,
          0.0846862718462944,
          0.09219694882631302,
          0.09068325906991959,
          0.08850590139627457,
          0.0918370932340622,
          0.09076884388923645,
          0.08215906471014023,
          0.08882969617843628,
          0.08315341919660568,
          0.08255787193775177,
          0.08533433824777603,
          0.0896412804722786,
          0.09364398568868637,
          0.08954277634620667,
          0.08636406809091568,
          0.0803198590874672,
          0.08578741550445557,
          0.08188960701227188,
          0.08823573589324951,
          0.08304840326309204,
          0.08958739787340164,
          0.08620775490999222,
          0.08371582627296448,
          0.08541514724493027,
          0.08685126155614853,
          0.08106257021427155,
          0.08720334619283676,
          0.08063250780105591,
          0.08025538921356201,
          0.07907117158174515,
          0.08303264528512955,
          0.0798097476363182,
          0.08342795073986053,
          0.07719791680574417,
          0.07722339034080505,
          0.07404344528913498,
          0.0860394760966301,
          0.08694516122341156,
          0.08177554607391357,
          0.0783500149846077,
          0.07903265953063965,
          0.07795184850692749,
          0.0812341645359993,
          0.07812643051147461,
          0.07695933431386948,
          0.08419512957334518,
          0.07792796194553375,
          0.0785854309797287,
          0.08385573327541351,
          0.07796435058116913,
          0.08378733694553375,
          0.08320796489715576,
          0.0814439058303833,
          0.07488762587308884,
          0.07866725325584412,
          0.07772663235664368,
          0.07391159981489182,
          0.07338517159223557,
          0.07465279847383499,
          0.07073046267032623,
          0.07284379005432129,
          0.07786322385072708,
          0.08187885582447052,
          0.07396957278251648,
          0.08054183423519135,
          0.07779673486948013,
          0.07732997089624405,
          0.07709712535142899,
          0.073631152510643,
          0.07659899443387985,
          0.07495222240686417,
          0.06992162764072418,
          0.07818719744682312,
          0.074855275452137,
          0.07824364304542542,
          0.07760901749134064,
          0.08070795238018036,
          0.07406330853700638,
          0.07934510707855225,
          0.07062248140573502,
          0.07281351834535599,
          0.07416865974664688,
          0.07834989577531815,
          0.07813041657209396,
          0.07204484194517136,
          0.07220287621021271,
          0.0768902450799942,
          0.08072178065776825,
          0.07244490832090378,
          0.08106083422899246,
          0.06977953761816025,
          0.07631100714206696,
          0.07949618995189667,
          0.08059825748205185,
          0.07123012095689774,
          0.07138841599225998,
          0.0743686854839325,
          0.06834103167057037,
          0.07787932455539703,
          0.07390670478343964,
          0.07034949213266373,
          0.07262031733989716,
          0.069419726729393,
          0.07199424505233765,
          0.07237675040960312,
          0.06993593275547028,
          0.07395166903734207,
          0.06908608227968216,
          0.07253170758485794,
          0.06878408789634705,
          0.06858640909194946,
          0.06462647020816803,
          0.07015091180801392,
          0.0750255137681961,
          0.07594545930624008,
          0.0679478794336319,
          0.07546969503164291,
          0.07168106734752655,
          0.06948980689048767,
          0.07199312001466751,
          0.07067456841468811,
          0.07363013923168182,
          0.07260996848344803,
          0.06897744536399841,
          0.07312417030334473,
          0.06826823949813843,
          0.07600988447666168,
          0.06455795466899872,
          0.0668712854385376,
          0.06526895612478256,
          0.06433982402086258,
          0.07182309031486511,
          0.06773296743631363,
          0.06901981681585312,
          0.068691685795784,
          0.07137586921453476,
          0.06832587718963623,
          0.06952984631061554,
          0.06967440247535706,
          0.070469930768013,
          0.06351205706596375,
          0.06614518165588379,
          0.0734061673283577,
          0.07042600959539413,
          0.0639984980225563,
          0.06295035779476166,
          0.0705273300409317,
          0.06716013699769974,
          0.06492649763822556,
          0.06605103611946106,
          0.06999712437391281,
          0.06947817653417587,
          0.06786544620990753,
          0.06912313401699066,
          0.06588677316904068,
          0.06351825594902039,
          0.06315383315086365,
          0.07230158895254135,
          0.0679355040192604,
          0.061449985951185226,
          0.07089505344629288,
          0.06766509264707565,
          0.06696093082427979,
          0.07057473808526993,
          0.06598314642906189,
          0.06632323563098907,
          0.0701572597026825,
          0.06179456040263176,
          0.06326548010110855,
          0.06148843467235565,
          0.06613823026418686,
          0.06784231215715408,
          0.059616029262542725,
          0.06531647592782974,
          0.07084623724222183,
          0.06383005529642105,
          0.05962240695953369,
          0.0656803697347641,
          0.062104836106300354,
          0.06939803063869476,
          0.06505781412124634,
          0.0659225657582283,
          0.06535658240318298,
          0.06403065472841263,
          0.05982128158211708,
          0.06368720531463623,
          0.06307767331600189,
          0.0668366476893425,
          0.06482436507940292,
          0.0666600838303566,
          0.05764828249812126,
          0.06042478606104851,
          0.06472320854663849,
          0.0617387481033802,
          0.0651712566614151,
          0.06969136744737625,
          0.07002328336238861,
          0.06708786636590958,
          0.0589468888938427,
          0.06258929520845413,
          0.06467975676059723,
          0.05794890224933624,
          0.06248566508293152,
          0.06029145419597626,
          0.06512314081192017,
          0.061816561967134476,
          0.06384873390197754,
          0.0643591359257698,
          0.06149064004421234,
          0.05841240659356117,
          0.06249437481164932,
          0.06223524361848831,
          0.06372074037790298,
          0.06481468677520752,
          0.06275372207164764,
          0.05740893632173538,
          0.0590708963572979,
          0.05898702144622803,
          0.06438495218753815,
          0.05959270894527435,
          0.05796220898628235,
          0.06432218849658966,
          0.06756175309419632,
          0.06039147078990936,
          0.05892980471253395,
          0.05701233819127083,
          0.05719837546348572,
          0.06146836653351784,
          0.06362132728099823,
          0.0652223527431488,
          0.06172245740890503,
          0.06283776462078094,
          0.05784030258655548,
          0.058084920048713684,
          0.058230023831129074,
          0.062101811170578,
          0.061849482357501984,
          0.06141537055373192,
          0.06349333375692368,
          0.05567072704434395,
          0.05856286734342575,
          0.05802270770072937,
          0.05982228368520737,
          0.057592764496803284,
          0.061879418790340424,
          0.06095996871590614,
          0.0576009601354599,
          0.05854431912302971,
          0.06005833297967911,
          0.05736912786960602,
          0.05581313744187355,
          0.05502580478787422,
          0.06061708927154541,
          0.05664197355508804,
          0.05906223505735397,
          0.05706167593598366,
          0.06394679844379425,
          0.056509219110012054,
          0.059729985892772675,
          0.0648261159658432,
          0.05680530145764351,
          0.057175230234861374,
          0.06021566689014435,
          0.05431780591607094,
          0.05745472386479378,
          0.05664311349391937,
          0.05729139223694801,
          0.058299001306295395,
          0.05737386643886566,
          0.05707415193319321,
          0.05982827767729759,
          0.06044489145278931,
          0.062419794499874115,
          0.05719662830233574,
          0.06177058443427086,
          0.059074997901916504,
          0.05991936847567558,
          0.05540330335497856,
          0.053815893828868866,
          0.05116976052522659,
          0.05770627036690712,
          0.06286285072565079,
          0.058215245604515076,
          0.05272863432765007,
          0.05435524508357048,
          0.05599692463874817
         ]
        }
       ],
       "layout": {
        "template": {
         "data": {
          "bar": [
           {
            "error_x": {
             "color": "#2a3f5f"
            },
            "error_y": {
             "color": "#2a3f5f"
            },
            "marker": {
             "line": {
              "color": "#E5ECF6",
              "width": 0.5
             },
             "pattern": {
              "fillmode": "overlay",
              "size": 10,
              "solidity": 0.2
             }
            },
            "type": "bar"
           }
          ],
          "barpolar": [
           {
            "marker": {
             "line": {
              "color": "#E5ECF6",
              "width": 0.5
             },
             "pattern": {
              "fillmode": "overlay",
              "size": 10,
              "solidity": 0.2
             }
            },
            "type": "barpolar"
           }
          ],
          "carpet": [
           {
            "aaxis": {
             "endlinecolor": "#2a3f5f",
             "gridcolor": "white",
             "linecolor": "white",
             "minorgridcolor": "white",
             "startlinecolor": "#2a3f5f"
            },
            "baxis": {
             "endlinecolor": "#2a3f5f",
             "gridcolor": "white",
             "linecolor": "white",
             "minorgridcolor": "white",
             "startlinecolor": "#2a3f5f"
            },
            "type": "carpet"
           }
          ],
          "choropleth": [
           {
            "colorbar": {
             "outlinewidth": 0,
             "ticks": ""
            },
            "type": "choropleth"
           }
          ],
          "contour": [
           {
            "colorbar": {
             "outlinewidth": 0,
             "ticks": ""
            },
            "colorscale": [
             [
              0,
              "#0d0887"
             ],
             [
              0.1111111111111111,
              "#46039f"
             ],
             [
              0.2222222222222222,
              "#7201a8"
             ],
             [
              0.3333333333333333,
              "#9c179e"
             ],
             [
              0.4444444444444444,
              "#bd3786"
             ],
             [
              0.5555555555555556,
              "#d8576b"
             ],
             [
              0.6666666666666666,
              "#ed7953"
             ],
             [
              0.7777777777777778,
              "#fb9f3a"
             ],
             [
              0.8888888888888888,
              "#fdca26"
             ],
             [
              1,
              "#f0f921"
             ]
            ],
            "type": "contour"
           }
          ],
          "contourcarpet": [
           {
            "colorbar": {
             "outlinewidth": 0,
             "ticks": ""
            },
            "type": "contourcarpet"
           }
          ],
          "heatmap": [
           {
            "colorbar": {
             "outlinewidth": 0,
             "ticks": ""
            },
            "colorscale": [
             [
              0,
              "#0d0887"
             ],
             [
              0.1111111111111111,
              "#46039f"
             ],
             [
              0.2222222222222222,
              "#7201a8"
             ],
             [
              0.3333333333333333,
              "#9c179e"
             ],
             [
              0.4444444444444444,
              "#bd3786"
             ],
             [
              0.5555555555555556,
              "#d8576b"
             ],
             [
              0.6666666666666666,
              "#ed7953"
             ],
             [
              0.7777777777777778,
              "#fb9f3a"
             ],
             [
              0.8888888888888888,
              "#fdca26"
             ],
             [
              1,
              "#f0f921"
             ]
            ],
            "type": "heatmap"
           }
          ],
          "heatmapgl": [
           {
            "colorbar": {
             "outlinewidth": 0,
             "ticks": ""
            },
            "colorscale": [
             [
              0,
              "#0d0887"
             ],
             [
              0.1111111111111111,
              "#46039f"
             ],
             [
              0.2222222222222222,
              "#7201a8"
             ],
             [
              0.3333333333333333,
              "#9c179e"
             ],
             [
              0.4444444444444444,
              "#bd3786"
             ],
             [
              0.5555555555555556,
              "#d8576b"
             ],
             [
              0.6666666666666666,
              "#ed7953"
             ],
             [
              0.7777777777777778,
              "#fb9f3a"
             ],
             [
              0.8888888888888888,
              "#fdca26"
             ],
             [
              1,
              "#f0f921"
             ]
            ],
            "type": "heatmapgl"
           }
          ],
          "histogram": [
           {
            "marker": {
             "pattern": {
              "fillmode": "overlay",
              "size": 10,
              "solidity": 0.2
             }
            },
            "type": "histogram"
           }
          ],
          "histogram2d": [
           {
            "colorbar": {
             "outlinewidth": 0,
             "ticks": ""
            },
            "colorscale": [
             [
              0,
              "#0d0887"
             ],
             [
              0.1111111111111111,
              "#46039f"
             ],
             [
              0.2222222222222222,
              "#7201a8"
             ],
             [
              0.3333333333333333,
              "#9c179e"
             ],
             [
              0.4444444444444444,
              "#bd3786"
             ],
             [
              0.5555555555555556,
              "#d8576b"
             ],
             [
              0.6666666666666666,
              "#ed7953"
             ],
             [
              0.7777777777777778,
              "#fb9f3a"
             ],
             [
              0.8888888888888888,
              "#fdca26"
             ],
             [
              1,
              "#f0f921"
             ]
            ],
            "type": "histogram2d"
           }
          ],
          "histogram2dcontour": [
           {
            "colorbar": {
             "outlinewidth": 0,
             "ticks": ""
            },
            "colorscale": [
             [
              0,
              "#0d0887"
             ],
             [
              0.1111111111111111,
              "#46039f"
             ],
             [
              0.2222222222222222,
              "#7201a8"
             ],
             [
              0.3333333333333333,
              "#9c179e"
             ],
             [
              0.4444444444444444,
              "#bd3786"
             ],
             [
              0.5555555555555556,
              "#d8576b"
             ],
             [
              0.6666666666666666,
              "#ed7953"
             ],
             [
              0.7777777777777778,
              "#fb9f3a"
             ],
             [
              0.8888888888888888,
              "#fdca26"
             ],
             [
              1,
              "#f0f921"
             ]
            ],
            "type": "histogram2dcontour"
           }
          ],
          "mesh3d": [
           {
            "colorbar": {
             "outlinewidth": 0,
             "ticks": ""
            },
            "type": "mesh3d"
           }
          ],
          "parcoords": [
           {
            "line": {
             "colorbar": {
              "outlinewidth": 0,
              "ticks": ""
             }
            },
            "type": "parcoords"
           }
          ],
          "pie": [
           {
            "automargin": true,
            "type": "pie"
           }
          ],
          "scatter": [
           {
            "fillpattern": {
             "fillmode": "overlay",
             "size": 10,
             "solidity": 0.2
            },
            "type": "scatter"
           }
          ],
          "scatter3d": [
           {
            "line": {
             "colorbar": {
              "outlinewidth": 0,
              "ticks": ""
             }
            },
            "marker": {
             "colorbar": {
              "outlinewidth": 0,
              "ticks": ""
             }
            },
            "type": "scatter3d"
           }
          ],
          "scattercarpet": [
           {
            "marker": {
             "colorbar": {
              "outlinewidth": 0,
              "ticks": ""
             }
            },
            "type": "scattercarpet"
           }
          ],
          "scattergeo": [
           {
            "marker": {
             "colorbar": {
              "outlinewidth": 0,
              "ticks": ""
             }
            },
            "type": "scattergeo"
           }
          ],
          "scattergl": [
           {
            "marker": {
             "colorbar": {
              "outlinewidth": 0,
              "ticks": ""
             }
            },
            "type": "scattergl"
           }
          ],
          "scattermapbox": [
           {
            "marker": {
             "colorbar": {
              "outlinewidth": 0,
              "ticks": ""
             }
            },
            "type": "scattermapbox"
           }
          ],
          "scatterpolar": [
           {
            "marker": {
             "colorbar": {
              "outlinewidth": 0,
              "ticks": ""
             }
            },
            "type": "scatterpolar"
           }
          ],
          "scatterpolargl": [
           {
            "marker": {
             "colorbar": {
              "outlinewidth": 0,
              "ticks": ""
             }
            },
            "type": "scatterpolargl"
           }
          ],
          "scatterternary": [
           {
            "marker": {
             "colorbar": {
              "outlinewidth": 0,
              "ticks": ""
             }
            },
            "type": "scatterternary"
           }
          ],
          "surface": [
           {
            "colorbar": {
             "outlinewidth": 0,
             "ticks": ""
            },
            "colorscale": [
             [
              0,
              "#0d0887"
             ],
             [
              0.1111111111111111,
              "#46039f"
             ],
             [
              0.2222222222222222,
              "#7201a8"
             ],
             [
              0.3333333333333333,
              "#9c179e"
             ],
             [
              0.4444444444444444,
              "#bd3786"
             ],
             [
              0.5555555555555556,
              "#d8576b"
             ],
             [
              0.6666666666666666,
              "#ed7953"
             ],
             [
              0.7777777777777778,
              "#fb9f3a"
             ],
             [
              0.8888888888888888,
              "#fdca26"
             ],
             [
              1,
              "#f0f921"
             ]
            ],
            "type": "surface"
           }
          ],
          "table": [
           {
            "cells": {
             "fill": {
              "color": "#EBF0F8"
             },
             "line": {
              "color": "white"
             }
            },
            "header": {
             "fill": {
              "color": "#C8D4E3"
             },
             "line": {
              "color": "white"
             }
            },
            "type": "table"
           }
          ]
         },
         "layout": {
          "annotationdefaults": {
           "arrowcolor": "#2a3f5f",
           "arrowhead": 0,
           "arrowwidth": 1
          },
          "autotypenumbers": "strict",
          "coloraxis": {
           "colorbar": {
            "outlinewidth": 0,
            "ticks": ""
           }
          },
          "colorscale": {
           "diverging": [
            [
             0,
             "#8e0152"
            ],
            [
             0.1,
             "#c51b7d"
            ],
            [
             0.2,
             "#de77ae"
            ],
            [
             0.3,
             "#f1b6da"
            ],
            [
             0.4,
             "#fde0ef"
            ],
            [
             0.5,
             "#f7f7f7"
            ],
            [
             0.6,
             "#e6f5d0"
            ],
            [
             0.7,
             "#b8e186"
            ],
            [
             0.8,
             "#7fbc41"
            ],
            [
             0.9,
             "#4d9221"
            ],
            [
             1,
             "#276419"
            ]
           ],
           "sequential": [
            [
             0,
             "#0d0887"
            ],
            [
             0.1111111111111111,
             "#46039f"
            ],
            [
             0.2222222222222222,
             "#7201a8"
            ],
            [
             0.3333333333333333,
             "#9c179e"
            ],
            [
             0.4444444444444444,
             "#bd3786"
            ],
            [
             0.5555555555555556,
             "#d8576b"
            ],
            [
             0.6666666666666666,
             "#ed7953"
            ],
            [
             0.7777777777777778,
             "#fb9f3a"
            ],
            [
             0.8888888888888888,
             "#fdca26"
            ],
            [
             1,
             "#f0f921"
            ]
           ],
           "sequentialminus": [
            [
             0,
             "#0d0887"
            ],
            [
             0.1111111111111111,
             "#46039f"
            ],
            [
             0.2222222222222222,
             "#7201a8"
            ],
            [
             0.3333333333333333,
             "#9c179e"
            ],
            [
             0.4444444444444444,
             "#bd3786"
            ],
            [
             0.5555555555555556,
             "#d8576b"
            ],
            [
             0.6666666666666666,
             "#ed7953"
            ],
            [
             0.7777777777777778,
             "#fb9f3a"
            ],
            [
             0.8888888888888888,
             "#fdca26"
            ],
            [
             1,
             "#f0f921"
            ]
           ]
          },
          "colorway": [
           "#636efa",
           "#EF553B",
           "#00cc96",
           "#ab63fa",
           "#FFA15A",
           "#19d3f3",
           "#FF6692",
           "#B6E880",
           "#FF97FF",
           "#FECB52"
          ],
          "font": {
           "color": "#2a3f5f"
          },
          "geo": {
           "bgcolor": "white",
           "lakecolor": "white",
           "landcolor": "#E5ECF6",
           "showlakes": true,
           "showland": true,
           "subunitcolor": "white"
          },
          "hoverlabel": {
           "align": "left"
          },
          "hovermode": "closest",
          "mapbox": {
           "style": "light"
          },
          "paper_bgcolor": "white",
          "plot_bgcolor": "#E5ECF6",
          "polar": {
           "angularaxis": {
            "gridcolor": "white",
            "linecolor": "white",
            "ticks": ""
           },
           "bgcolor": "#E5ECF6",
           "radialaxis": {
            "gridcolor": "white",
            "linecolor": "white",
            "ticks": ""
           }
          },
          "scene": {
           "xaxis": {
            "backgroundcolor": "#E5ECF6",
            "gridcolor": "white",
            "gridwidth": 2,
            "linecolor": "white",
            "showbackground": true,
            "ticks": "",
            "zerolinecolor": "white"
           },
           "yaxis": {
            "backgroundcolor": "#E5ECF6",
            "gridcolor": "white",
            "gridwidth": 2,
            "linecolor": "white",
            "showbackground": true,
            "ticks": "",
            "zerolinecolor": "white"
           },
           "zaxis": {
            "backgroundcolor": "#E5ECF6",
            "gridcolor": "white",
            "gridwidth": 2,
            "linecolor": "white",
            "showbackground": true,
            "ticks": "",
            "zerolinecolor": "white"
           }
          },
          "shapedefaults": {
           "line": {
            "color": "#2a3f5f"
           }
          },
          "ternary": {
           "aaxis": {
            "gridcolor": "white",
            "linecolor": "white",
            "ticks": ""
           },
           "baxis": {
            "gridcolor": "white",
            "linecolor": "white",
            "ticks": ""
           },
           "bgcolor": "#E5ECF6",
           "caxis": {
            "gridcolor": "white",
            "linecolor": "white",
            "ticks": ""
           }
          },
          "title": {
           "x": 0.05
          },
          "xaxis": {
           "automargin": true,
           "gridcolor": "white",
           "linecolor": "white",
           "ticks": "",
           "title": {
            "standoff": 15
           },
           "zerolinecolor": "white",
           "zerolinewidth": 2
          },
          "yaxis": {
           "automargin": true,
           "gridcolor": "white",
           "linecolor": "white",
           "ticks": "",
           "title": {
            "standoff": 15
           },
           "zerolinecolor": "white",
           "zerolinewidth": 2
          }
         }
        },
        "title": {
         "text": "Train loss"
        },
        "xaxis": {
         "title": {
          "text": "Time Step"
         }
        },
        "yaxis": {
         "title": {
          "text": "Loss Value"
         }
        }
       }
      }
     },
     "metadata": {},
     "output_type": "display_data"
    },
    {
     "data": {
      "application/vnd.plotly.v1+json": {
       "config": {
        "plotlyServerURL": "https://plot.ly"
       },
       "data": [
        {
         "line": {
          "color": "blue"
         },
         "mode": "lines",
         "name": "GT",
         "type": "scatter",
         "y": [
          0.9620248675346375,
          0.9893797039985657,
          1.0147064924240112,
          1.0379794836044312,
          1.059165358543396,
          1.0782369375228882,
          1.0951577425003052,
          1.1098930835723877,
          1.1224005222320557,
          1.1326359510421753,
          1.140551209449768,
          1.1460990905761719,
          1.1492266654968262,
          1.1498870849609375,
          1.148034691810608,
          1.1436318159103394,
          0.9874258637428284,
          0.9574523568153381,
          0.9251313209533691,
          0.8905338048934937,
          0.8537447452545166,
          0.8148549199104309,
          0.7739643454551697,
          0.7311805486679077,
          0.686623215675354,
          0.6404134631156921,
          0.5926860570907593,
          0.5435834527015686,
          0.49325254559516907,
          0.4418538510799408,
          0.3895494341850281,
          0.3365119695663452,
          -0.14245954155921936,
          -0.19215282797813416,
          -0.24038152396678925,
          -0.28694114089012146,
          -0.33163177967071533,
          -0.3742610812187195,
          -0.41464123129844666,
          -0.45259517431259155,
          -0.48795467615127563,
          -0.520561695098877,
          -0.5502715110778809,
          -0.5769516825675964,
          -0.6004844307899475,
          -0.6207668781280518,
          -0.6377118229866028,
          -0.6512485146522522
         ]
        },
        {
         "line": {
          "color": "red"
         },
         "mode": "lines",
         "name": "pred_beginning",
         "type": "scatter",
         "y": [
          0.6128960847854614,
          0.5726720690727234,
          0.7537751197814941,
          0.7080684304237366,
          0.5790967345237732,
          0.7601281404495239,
          0.6609361171722412,
          0.7362024188041687,
          0.7017462253570557,
          0.707686185836792,
          0.7793406248092651,
          0.7748527526855469,
          0.7924226522445679,
          0.8118053078651428,
          0.6006162166595459,
          0.7644330263137817,
          0.4459126889705658,
          0.43777841329574585,
          0.4863893687725067,
          0.4041353464126587,
          0.4332582950592041,
          0.4715084433555603,
          0.4913530945777893,
          0.43447914719581604,
          0.4472082555294037,
          0.3714209198951721,
          0.5393151640892029,
          0.42821842432022095,
          0.4339942932128906,
          0.3849641680717468,
          0.4243963956832886,
          0.3959600031375885,
          -0.6229089498519897,
          -0.7061126232147217,
          -0.7437790632247925,
          -0.736002504825592,
          -0.6183714270591736,
          -0.7208606004714966,
          -0.6034736037254333,
          -0.7572144865989685,
          -0.7401977777481079,
          -0.8533530235290527,
          -0.6663126349449158,
          -0.8267642259597778,
          -0.8127937912940979,
          -0.8877526521682739,
          -0.7649307250976562,
          -0.8691595792770386
         ]
        }
       ],
       "layout": {
        "template": {
         "data": {
          "bar": [
           {
            "error_x": {
             "color": "#2a3f5f"
            },
            "error_y": {
             "color": "#2a3f5f"
            },
            "marker": {
             "line": {
              "color": "#E5ECF6",
              "width": 0.5
             },
             "pattern": {
              "fillmode": "overlay",
              "size": 10,
              "solidity": 0.2
             }
            },
            "type": "bar"
           }
          ],
          "barpolar": [
           {
            "marker": {
             "line": {
              "color": "#E5ECF6",
              "width": 0.5
             },
             "pattern": {
              "fillmode": "overlay",
              "size": 10,
              "solidity": 0.2
             }
            },
            "type": "barpolar"
           }
          ],
          "carpet": [
           {
            "aaxis": {
             "endlinecolor": "#2a3f5f",
             "gridcolor": "white",
             "linecolor": "white",
             "minorgridcolor": "white",
             "startlinecolor": "#2a3f5f"
            },
            "baxis": {
             "endlinecolor": "#2a3f5f",
             "gridcolor": "white",
             "linecolor": "white",
             "minorgridcolor": "white",
             "startlinecolor": "#2a3f5f"
            },
            "type": "carpet"
           }
          ],
          "choropleth": [
           {
            "colorbar": {
             "outlinewidth": 0,
             "ticks": ""
            },
            "type": "choropleth"
           }
          ],
          "contour": [
           {
            "colorbar": {
             "outlinewidth": 0,
             "ticks": ""
            },
            "colorscale": [
             [
              0,
              "#0d0887"
             ],
             [
              0.1111111111111111,
              "#46039f"
             ],
             [
              0.2222222222222222,
              "#7201a8"
             ],
             [
              0.3333333333333333,
              "#9c179e"
             ],
             [
              0.4444444444444444,
              "#bd3786"
             ],
             [
              0.5555555555555556,
              "#d8576b"
             ],
             [
              0.6666666666666666,
              "#ed7953"
             ],
             [
              0.7777777777777778,
              "#fb9f3a"
             ],
             [
              0.8888888888888888,
              "#fdca26"
             ],
             [
              1,
              "#f0f921"
             ]
            ],
            "type": "contour"
           }
          ],
          "contourcarpet": [
           {
            "colorbar": {
             "outlinewidth": 0,
             "ticks": ""
            },
            "type": "contourcarpet"
           }
          ],
          "heatmap": [
           {
            "colorbar": {
             "outlinewidth": 0,
             "ticks": ""
            },
            "colorscale": [
             [
              0,
              "#0d0887"
             ],
             [
              0.1111111111111111,
              "#46039f"
             ],
             [
              0.2222222222222222,
              "#7201a8"
             ],
             [
              0.3333333333333333,
              "#9c179e"
             ],
             [
              0.4444444444444444,
              "#bd3786"
             ],
             [
              0.5555555555555556,
              "#d8576b"
             ],
             [
              0.6666666666666666,
              "#ed7953"
             ],
             [
              0.7777777777777778,
              "#fb9f3a"
             ],
             [
              0.8888888888888888,
              "#fdca26"
             ],
             [
              1,
              "#f0f921"
             ]
            ],
            "type": "heatmap"
           }
          ],
          "heatmapgl": [
           {
            "colorbar": {
             "outlinewidth": 0,
             "ticks": ""
            },
            "colorscale": [
             [
              0,
              "#0d0887"
             ],
             [
              0.1111111111111111,
              "#46039f"
             ],
             [
              0.2222222222222222,
              "#7201a8"
             ],
             [
              0.3333333333333333,
              "#9c179e"
             ],
             [
              0.4444444444444444,
              "#bd3786"
             ],
             [
              0.5555555555555556,
              "#d8576b"
             ],
             [
              0.6666666666666666,
              "#ed7953"
             ],
             [
              0.7777777777777778,
              "#fb9f3a"
             ],
             [
              0.8888888888888888,
              "#fdca26"
             ],
             [
              1,
              "#f0f921"
             ]
            ],
            "type": "heatmapgl"
           }
          ],
          "histogram": [
           {
            "marker": {
             "pattern": {
              "fillmode": "overlay",
              "size": 10,
              "solidity": 0.2
             }
            },
            "type": "histogram"
           }
          ],
          "histogram2d": [
           {
            "colorbar": {
             "outlinewidth": 0,
             "ticks": ""
            },
            "colorscale": [
             [
              0,
              "#0d0887"
             ],
             [
              0.1111111111111111,
              "#46039f"
             ],
             [
              0.2222222222222222,
              "#7201a8"
             ],
             [
              0.3333333333333333,
              "#9c179e"
             ],
             [
              0.4444444444444444,
              "#bd3786"
             ],
             [
              0.5555555555555556,
              "#d8576b"
             ],
             [
              0.6666666666666666,
              "#ed7953"
             ],
             [
              0.7777777777777778,
              "#fb9f3a"
             ],
             [
              0.8888888888888888,
              "#fdca26"
             ],
             [
              1,
              "#f0f921"
             ]
            ],
            "type": "histogram2d"
           }
          ],
          "histogram2dcontour": [
           {
            "colorbar": {
             "outlinewidth": 0,
             "ticks": ""
            },
            "colorscale": [
             [
              0,
              "#0d0887"
             ],
             [
              0.1111111111111111,
              "#46039f"
             ],
             [
              0.2222222222222222,
              "#7201a8"
             ],
             [
              0.3333333333333333,
              "#9c179e"
             ],
             [
              0.4444444444444444,
              "#bd3786"
             ],
             [
              0.5555555555555556,
              "#d8576b"
             ],
             [
              0.6666666666666666,
              "#ed7953"
             ],
             [
              0.7777777777777778,
              "#fb9f3a"
             ],
             [
              0.8888888888888888,
              "#fdca26"
             ],
             [
              1,
              "#f0f921"
             ]
            ],
            "type": "histogram2dcontour"
           }
          ],
          "mesh3d": [
           {
            "colorbar": {
             "outlinewidth": 0,
             "ticks": ""
            },
            "type": "mesh3d"
           }
          ],
          "parcoords": [
           {
            "line": {
             "colorbar": {
              "outlinewidth": 0,
              "ticks": ""
             }
            },
            "type": "parcoords"
           }
          ],
          "pie": [
           {
            "automargin": true,
            "type": "pie"
           }
          ],
          "scatter": [
           {
            "fillpattern": {
             "fillmode": "overlay",
             "size": 10,
             "solidity": 0.2
            },
            "type": "scatter"
           }
          ],
          "scatter3d": [
           {
            "line": {
             "colorbar": {
              "outlinewidth": 0,
              "ticks": ""
             }
            },
            "marker": {
             "colorbar": {
              "outlinewidth": 0,
              "ticks": ""
             }
            },
            "type": "scatter3d"
           }
          ],
          "scattercarpet": [
           {
            "marker": {
             "colorbar": {
              "outlinewidth": 0,
              "ticks": ""
             }
            },
            "type": "scattercarpet"
           }
          ],
          "scattergeo": [
           {
            "marker": {
             "colorbar": {
              "outlinewidth": 0,
              "ticks": ""
             }
            },
            "type": "scattergeo"
           }
          ],
          "scattergl": [
           {
            "marker": {
             "colorbar": {
              "outlinewidth": 0,
              "ticks": ""
             }
            },
            "type": "scattergl"
           }
          ],
          "scattermapbox": [
           {
            "marker": {
             "colorbar": {
              "outlinewidth": 0,
              "ticks": ""
             }
            },
            "type": "scattermapbox"
           }
          ],
          "scatterpolar": [
           {
            "marker": {
             "colorbar": {
              "outlinewidth": 0,
              "ticks": ""
             }
            },
            "type": "scatterpolar"
           }
          ],
          "scatterpolargl": [
           {
            "marker": {
             "colorbar": {
              "outlinewidth": 0,
              "ticks": ""
             }
            },
            "type": "scatterpolargl"
           }
          ],
          "scatterternary": [
           {
            "marker": {
             "colorbar": {
              "outlinewidth": 0,
              "ticks": ""
             }
            },
            "type": "scatterternary"
           }
          ],
          "surface": [
           {
            "colorbar": {
             "outlinewidth": 0,
             "ticks": ""
            },
            "colorscale": [
             [
              0,
              "#0d0887"
             ],
             [
              0.1111111111111111,
              "#46039f"
             ],
             [
              0.2222222222222222,
              "#7201a8"
             ],
             [
              0.3333333333333333,
              "#9c179e"
             ],
             [
              0.4444444444444444,
              "#bd3786"
             ],
             [
              0.5555555555555556,
              "#d8576b"
             ],
             [
              0.6666666666666666,
              "#ed7953"
             ],
             [
              0.7777777777777778,
              "#fb9f3a"
             ],
             [
              0.8888888888888888,
              "#fdca26"
             ],
             [
              1,
              "#f0f921"
             ]
            ],
            "type": "surface"
           }
          ],
          "table": [
           {
            "cells": {
             "fill": {
              "color": "#EBF0F8"
             },
             "line": {
              "color": "white"
             }
            },
            "header": {
             "fill": {
              "color": "#C8D4E3"
             },
             "line": {
              "color": "white"
             }
            },
            "type": "table"
           }
          ]
         },
         "layout": {
          "annotationdefaults": {
           "arrowcolor": "#2a3f5f",
           "arrowhead": 0,
           "arrowwidth": 1
          },
          "autotypenumbers": "strict",
          "coloraxis": {
           "colorbar": {
            "outlinewidth": 0,
            "ticks": ""
           }
          },
          "colorscale": {
           "diverging": [
            [
             0,
             "#8e0152"
            ],
            [
             0.1,
             "#c51b7d"
            ],
            [
             0.2,
             "#de77ae"
            ],
            [
             0.3,
             "#f1b6da"
            ],
            [
             0.4,
             "#fde0ef"
            ],
            [
             0.5,
             "#f7f7f7"
            ],
            [
             0.6,
             "#e6f5d0"
            ],
            [
             0.7,
             "#b8e186"
            ],
            [
             0.8,
             "#7fbc41"
            ],
            [
             0.9,
             "#4d9221"
            ],
            [
             1,
             "#276419"
            ]
           ],
           "sequential": [
            [
             0,
             "#0d0887"
            ],
            [
             0.1111111111111111,
             "#46039f"
            ],
            [
             0.2222222222222222,
             "#7201a8"
            ],
            [
             0.3333333333333333,
             "#9c179e"
            ],
            [
             0.4444444444444444,
             "#bd3786"
            ],
            [
             0.5555555555555556,
             "#d8576b"
            ],
            [
             0.6666666666666666,
             "#ed7953"
            ],
            [
             0.7777777777777778,
             "#fb9f3a"
            ],
            [
             0.8888888888888888,
             "#fdca26"
            ],
            [
             1,
             "#f0f921"
            ]
           ],
           "sequentialminus": [
            [
             0,
             "#0d0887"
            ],
            [
             0.1111111111111111,
             "#46039f"
            ],
            [
             0.2222222222222222,
             "#7201a8"
            ],
            [
             0.3333333333333333,
             "#9c179e"
            ],
            [
             0.4444444444444444,
             "#bd3786"
            ],
            [
             0.5555555555555556,
             "#d8576b"
            ],
            [
             0.6666666666666666,
             "#ed7953"
            ],
            [
             0.7777777777777778,
             "#fb9f3a"
            ],
            [
             0.8888888888888888,
             "#fdca26"
            ],
            [
             1,
             "#f0f921"
            ]
           ]
          },
          "colorway": [
           "#636efa",
           "#EF553B",
           "#00cc96",
           "#ab63fa",
           "#FFA15A",
           "#19d3f3",
           "#FF6692",
           "#B6E880",
           "#FF97FF",
           "#FECB52"
          ],
          "font": {
           "color": "#2a3f5f"
          },
          "geo": {
           "bgcolor": "white",
           "lakecolor": "white",
           "landcolor": "#E5ECF6",
           "showlakes": true,
           "showland": true,
           "subunitcolor": "white"
          },
          "hoverlabel": {
           "align": "left"
          },
          "hovermode": "closest",
          "mapbox": {
           "style": "light"
          },
          "paper_bgcolor": "white",
          "plot_bgcolor": "#E5ECF6",
          "polar": {
           "angularaxis": {
            "gridcolor": "white",
            "linecolor": "white",
            "ticks": ""
           },
           "bgcolor": "#E5ECF6",
           "radialaxis": {
            "gridcolor": "white",
            "linecolor": "white",
            "ticks": ""
           }
          },
          "scene": {
           "xaxis": {
            "backgroundcolor": "#E5ECF6",
            "gridcolor": "white",
            "gridwidth": 2,
            "linecolor": "white",
            "showbackground": true,
            "ticks": "",
            "zerolinecolor": "white"
           },
           "yaxis": {
            "backgroundcolor": "#E5ECF6",
            "gridcolor": "white",
            "gridwidth": 2,
            "linecolor": "white",
            "showbackground": true,
            "ticks": "",
            "zerolinecolor": "white"
           },
           "zaxis": {
            "backgroundcolor": "#E5ECF6",
            "gridcolor": "white",
            "gridwidth": 2,
            "linecolor": "white",
            "showbackground": true,
            "ticks": "",
            "zerolinecolor": "white"
           }
          },
          "shapedefaults": {
           "line": {
            "color": "#2a3f5f"
           }
          },
          "ternary": {
           "aaxis": {
            "gridcolor": "white",
            "linecolor": "white",
            "ticks": ""
           },
           "baxis": {
            "gridcolor": "white",
            "linecolor": "white",
            "ticks": ""
           },
           "bgcolor": "#E5ECF6",
           "caxis": {
            "gridcolor": "white",
            "linecolor": "white",
            "ticks": ""
           }
          },
          "title": {
           "x": 0.05
          },
          "xaxis": {
           "automargin": true,
           "gridcolor": "white",
           "linecolor": "white",
           "ticks": "",
           "title": {
            "standoff": 15
           },
           "zerolinecolor": "white",
           "zerolinewidth": 2
          },
          "yaxis": {
           "automargin": true,
           "gridcolor": "white",
           "linecolor": "white",
           "ticks": "",
           "title": {
            "standoff": 15
           },
           "zerolinecolor": "white",
           "zerolinewidth": 2
          }
         }
        },
        "title": {
         "text": "Conv. Transformer Prediction vs. Ground Truth for ALT"
        },
        "xaxis": {
         "title": {
          "text": "Time Step"
         }
        },
        "yaxis": {
         "title": {
          "text": "Value"
         }
        }
       }
      }
     },
     "metadata": {},
     "output_type": "display_data"
    },
    {
     "data": {
      "application/vnd.plotly.v1+json": {
       "config": {
        "plotlyServerURL": "https://plot.ly"
       },
       "data": [
        {
         "line": {
          "color": "blue"
         },
         "mode": "lines",
         "name": "GT",
         "type": "scatter",
         "y": [
          0.7901026606559753,
          0.7225285768508911,
          0.654036819934845,
          0.5845959186553955,
          0.514149010181427,
          0.44261473417282104,
          0.3698865473270416,
          0.29583731293678284,
          0.2203301638364792,
          0.14323310554027557,
          0.06444334983825684,
          -0.0160861574113369,
          -0.09832675755023956,
          -0.1821625977754593,
          -0.2673967778682709,
          -0.35376864671707153,
          -1.1291027069091797,
          -1.2090986967086792,
          -1.2867423295974731,
          -1.3617452383041382,
          -1.4338215589523315,
          -1.5026874542236328,
          -1.568061113357544,
          -1.6296615600585938,
          -1.6872092485427856,
          -1.740425944328308,
          -1.7890361547470093,
          -1.8327676057815552,
          -1.8713539838790894,
          -1.9045350551605225,
          -1.932060956954956,
          -1.953693151473999,
          -1.853359580039978,
          -1.8076151609420776,
          -1.754968523979187,
          -1.6955461502075195,
          -1.6295194625854492,
          -1.5571048259735107,
          -1.4785618782043457,
          -1.3941960334777832,
          -1.3043545484542847,
          -1.2094249725341797,
          -1.1098321676254272,
          -1.0060361623764038,
          -0.8985280394554138,
          -0.7878246903419495,
          -0.6744656562805176,
          -0.5590068697929382
         ]
        },
        {
         "line": {
          "color": "red"
         },
         "mode": "lines",
         "name": "pred_beginning",
         "type": "scatter",
         "y": [
          1.0897324085235596,
          1.025469183921814,
          1.0972801446914673,
          1.0788918733596802,
          1.0574203729629517,
          1.1361685991287231,
          1.1626135110855103,
          1.1271415948867798,
          1.1120187044143677,
          1.0361682176589966,
          1.2567200660705566,
          1.1203068494796753,
          1.1239898204803467,
          1.1219204664230347,
          0.9495178461074829,
          1.0289535522460938,
          -1.0432119369506836,
          -1.1864445209503174,
          -1.2114609479904175,
          -1.2473613023757935,
          -1.1466882228851318,
          -1.1952906847000122,
          -1.0477697849273682,
          -1.2004247903823853,
          -1.221367359161377,
          -1.4017373323440552,
          -0.988501787185669,
          -1.2728842496871948,
          -1.2495924234390259,
          -1.2529871463775635,
          -1.2521601915359497,
          -1.2816376686096191,
          -1.7311325073242188,
          -1.6454952955245972,
          -1.4940475225448608,
          -1.616794466972351,
          -1.6648529767990112,
          -1.609151005744934,
          -1.723201036453247,
          -1.5367716550827026,
          -1.6095830202102661,
          -1.3884905576705933,
          -1.652256727218628,
          -1.446143388748169,
          -1.422334909439087,
          -1.357431173324585,
          -1.332222819328308,
          -1.2114132642745972
         ]
        }
       ],
       "layout": {
        "template": {
         "data": {
          "bar": [
           {
            "error_x": {
             "color": "#2a3f5f"
            },
            "error_y": {
             "color": "#2a3f5f"
            },
            "marker": {
             "line": {
              "color": "#E5ECF6",
              "width": 0.5
             },
             "pattern": {
              "fillmode": "overlay",
              "size": 10,
              "solidity": 0.2
             }
            },
            "type": "bar"
           }
          ],
          "barpolar": [
           {
            "marker": {
             "line": {
              "color": "#E5ECF6",
              "width": 0.5
             },
             "pattern": {
              "fillmode": "overlay",
              "size": 10,
              "solidity": 0.2
             }
            },
            "type": "barpolar"
           }
          ],
          "carpet": [
           {
            "aaxis": {
             "endlinecolor": "#2a3f5f",
             "gridcolor": "white",
             "linecolor": "white",
             "minorgridcolor": "white",
             "startlinecolor": "#2a3f5f"
            },
            "baxis": {
             "endlinecolor": "#2a3f5f",
             "gridcolor": "white",
             "linecolor": "white",
             "minorgridcolor": "white",
             "startlinecolor": "#2a3f5f"
            },
            "type": "carpet"
           }
          ],
          "choropleth": [
           {
            "colorbar": {
             "outlinewidth": 0,
             "ticks": ""
            },
            "type": "choropleth"
           }
          ],
          "contour": [
           {
            "colorbar": {
             "outlinewidth": 0,
             "ticks": ""
            },
            "colorscale": [
             [
              0,
              "#0d0887"
             ],
             [
              0.1111111111111111,
              "#46039f"
             ],
             [
              0.2222222222222222,
              "#7201a8"
             ],
             [
              0.3333333333333333,
              "#9c179e"
             ],
             [
              0.4444444444444444,
              "#bd3786"
             ],
             [
              0.5555555555555556,
              "#d8576b"
             ],
             [
              0.6666666666666666,
              "#ed7953"
             ],
             [
              0.7777777777777778,
              "#fb9f3a"
             ],
             [
              0.8888888888888888,
              "#fdca26"
             ],
             [
              1,
              "#f0f921"
             ]
            ],
            "type": "contour"
           }
          ],
          "contourcarpet": [
           {
            "colorbar": {
             "outlinewidth": 0,
             "ticks": ""
            },
            "type": "contourcarpet"
           }
          ],
          "heatmap": [
           {
            "colorbar": {
             "outlinewidth": 0,
             "ticks": ""
            },
            "colorscale": [
             [
              0,
              "#0d0887"
             ],
             [
              0.1111111111111111,
              "#46039f"
             ],
             [
              0.2222222222222222,
              "#7201a8"
             ],
             [
              0.3333333333333333,
              "#9c179e"
             ],
             [
              0.4444444444444444,
              "#bd3786"
             ],
             [
              0.5555555555555556,
              "#d8576b"
             ],
             [
              0.6666666666666666,
              "#ed7953"
             ],
             [
              0.7777777777777778,
              "#fb9f3a"
             ],
             [
              0.8888888888888888,
              "#fdca26"
             ],
             [
              1,
              "#f0f921"
             ]
            ],
            "type": "heatmap"
           }
          ],
          "heatmapgl": [
           {
            "colorbar": {
             "outlinewidth": 0,
             "ticks": ""
            },
            "colorscale": [
             [
              0,
              "#0d0887"
             ],
             [
              0.1111111111111111,
              "#46039f"
             ],
             [
              0.2222222222222222,
              "#7201a8"
             ],
             [
              0.3333333333333333,
              "#9c179e"
             ],
             [
              0.4444444444444444,
              "#bd3786"
             ],
             [
              0.5555555555555556,
              "#d8576b"
             ],
             [
              0.6666666666666666,
              "#ed7953"
             ],
             [
              0.7777777777777778,
              "#fb9f3a"
             ],
             [
              0.8888888888888888,
              "#fdca26"
             ],
             [
              1,
              "#f0f921"
             ]
            ],
            "type": "heatmapgl"
           }
          ],
          "histogram": [
           {
            "marker": {
             "pattern": {
              "fillmode": "overlay",
              "size": 10,
              "solidity": 0.2
             }
            },
            "type": "histogram"
           }
          ],
          "histogram2d": [
           {
            "colorbar": {
             "outlinewidth": 0,
             "ticks": ""
            },
            "colorscale": [
             [
              0,
              "#0d0887"
             ],
             [
              0.1111111111111111,
              "#46039f"
             ],
             [
              0.2222222222222222,
              "#7201a8"
             ],
             [
              0.3333333333333333,
              "#9c179e"
             ],
             [
              0.4444444444444444,
              "#bd3786"
             ],
             [
              0.5555555555555556,
              "#d8576b"
             ],
             [
              0.6666666666666666,
              "#ed7953"
             ],
             [
              0.7777777777777778,
              "#fb9f3a"
             ],
             [
              0.8888888888888888,
              "#fdca26"
             ],
             [
              1,
              "#f0f921"
             ]
            ],
            "type": "histogram2d"
           }
          ],
          "histogram2dcontour": [
           {
            "colorbar": {
             "outlinewidth": 0,
             "ticks": ""
            },
            "colorscale": [
             [
              0,
              "#0d0887"
             ],
             [
              0.1111111111111111,
              "#46039f"
             ],
             [
              0.2222222222222222,
              "#7201a8"
             ],
             [
              0.3333333333333333,
              "#9c179e"
             ],
             [
              0.4444444444444444,
              "#bd3786"
             ],
             [
              0.5555555555555556,
              "#d8576b"
             ],
             [
              0.6666666666666666,
              "#ed7953"
             ],
             [
              0.7777777777777778,
              "#fb9f3a"
             ],
             [
              0.8888888888888888,
              "#fdca26"
             ],
             [
              1,
              "#f0f921"
             ]
            ],
            "type": "histogram2dcontour"
           }
          ],
          "mesh3d": [
           {
            "colorbar": {
             "outlinewidth": 0,
             "ticks": ""
            },
            "type": "mesh3d"
           }
          ],
          "parcoords": [
           {
            "line": {
             "colorbar": {
              "outlinewidth": 0,
              "ticks": ""
             }
            },
            "type": "parcoords"
           }
          ],
          "pie": [
           {
            "automargin": true,
            "type": "pie"
           }
          ],
          "scatter": [
           {
            "fillpattern": {
             "fillmode": "overlay",
             "size": 10,
             "solidity": 0.2
            },
            "type": "scatter"
           }
          ],
          "scatter3d": [
           {
            "line": {
             "colorbar": {
              "outlinewidth": 0,
              "ticks": ""
             }
            },
            "marker": {
             "colorbar": {
              "outlinewidth": 0,
              "ticks": ""
             }
            },
            "type": "scatter3d"
           }
          ],
          "scattercarpet": [
           {
            "marker": {
             "colorbar": {
              "outlinewidth": 0,
              "ticks": ""
             }
            },
            "type": "scattercarpet"
           }
          ],
          "scattergeo": [
           {
            "marker": {
             "colorbar": {
              "outlinewidth": 0,
              "ticks": ""
             }
            },
            "type": "scattergeo"
           }
          ],
          "scattergl": [
           {
            "marker": {
             "colorbar": {
              "outlinewidth": 0,
              "ticks": ""
             }
            },
            "type": "scattergl"
           }
          ],
          "scattermapbox": [
           {
            "marker": {
             "colorbar": {
              "outlinewidth": 0,
              "ticks": ""
             }
            },
            "type": "scattermapbox"
           }
          ],
          "scatterpolar": [
           {
            "marker": {
             "colorbar": {
              "outlinewidth": 0,
              "ticks": ""
             }
            },
            "type": "scatterpolar"
           }
          ],
          "scatterpolargl": [
           {
            "marker": {
             "colorbar": {
              "outlinewidth": 0,
              "ticks": ""
             }
            },
            "type": "scatterpolargl"
           }
          ],
          "scatterternary": [
           {
            "marker": {
             "colorbar": {
              "outlinewidth": 0,
              "ticks": ""
             }
            },
            "type": "scatterternary"
           }
          ],
          "surface": [
           {
            "colorbar": {
             "outlinewidth": 0,
             "ticks": ""
            },
            "colorscale": [
             [
              0,
              "#0d0887"
             ],
             [
              0.1111111111111111,
              "#46039f"
             ],
             [
              0.2222222222222222,
              "#7201a8"
             ],
             [
              0.3333333333333333,
              "#9c179e"
             ],
             [
              0.4444444444444444,
              "#bd3786"
             ],
             [
              0.5555555555555556,
              "#d8576b"
             ],
             [
              0.6666666666666666,
              "#ed7953"
             ],
             [
              0.7777777777777778,
              "#fb9f3a"
             ],
             [
              0.8888888888888888,
              "#fdca26"
             ],
             [
              1,
              "#f0f921"
             ]
            ],
            "type": "surface"
           }
          ],
          "table": [
           {
            "cells": {
             "fill": {
              "color": "#EBF0F8"
             },
             "line": {
              "color": "white"
             }
            },
            "header": {
             "fill": {
              "color": "#C8D4E3"
             },
             "line": {
              "color": "white"
             }
            },
            "type": "table"
           }
          ]
         },
         "layout": {
          "annotationdefaults": {
           "arrowcolor": "#2a3f5f",
           "arrowhead": 0,
           "arrowwidth": 1
          },
          "autotypenumbers": "strict",
          "coloraxis": {
           "colorbar": {
            "outlinewidth": 0,
            "ticks": ""
           }
          },
          "colorscale": {
           "diverging": [
            [
             0,
             "#8e0152"
            ],
            [
             0.1,
             "#c51b7d"
            ],
            [
             0.2,
             "#de77ae"
            ],
            [
             0.3,
             "#f1b6da"
            ],
            [
             0.4,
             "#fde0ef"
            ],
            [
             0.5,
             "#f7f7f7"
            ],
            [
             0.6,
             "#e6f5d0"
            ],
            [
             0.7,
             "#b8e186"
            ],
            [
             0.8,
             "#7fbc41"
            ],
            [
             0.9,
             "#4d9221"
            ],
            [
             1,
             "#276419"
            ]
           ],
           "sequential": [
            [
             0,
             "#0d0887"
            ],
            [
             0.1111111111111111,
             "#46039f"
            ],
            [
             0.2222222222222222,
             "#7201a8"
            ],
            [
             0.3333333333333333,
             "#9c179e"
            ],
            [
             0.4444444444444444,
             "#bd3786"
            ],
            [
             0.5555555555555556,
             "#d8576b"
            ],
            [
             0.6666666666666666,
             "#ed7953"
            ],
            [
             0.7777777777777778,
             "#fb9f3a"
            ],
            [
             0.8888888888888888,
             "#fdca26"
            ],
            [
             1,
             "#f0f921"
            ]
           ],
           "sequentialminus": [
            [
             0,
             "#0d0887"
            ],
            [
             0.1111111111111111,
             "#46039f"
            ],
            [
             0.2222222222222222,
             "#7201a8"
            ],
            [
             0.3333333333333333,
             "#9c179e"
            ],
            [
             0.4444444444444444,
             "#bd3786"
            ],
            [
             0.5555555555555556,
             "#d8576b"
            ],
            [
             0.6666666666666666,
             "#ed7953"
            ],
            [
             0.7777777777777778,
             "#fb9f3a"
            ],
            [
             0.8888888888888888,
             "#fdca26"
            ],
            [
             1,
             "#f0f921"
            ]
           ]
          },
          "colorway": [
           "#636efa",
           "#EF553B",
           "#00cc96",
           "#ab63fa",
           "#FFA15A",
           "#19d3f3",
           "#FF6692",
           "#B6E880",
           "#FF97FF",
           "#FECB52"
          ],
          "font": {
           "color": "#2a3f5f"
          },
          "geo": {
           "bgcolor": "white",
           "lakecolor": "white",
           "landcolor": "#E5ECF6",
           "showlakes": true,
           "showland": true,
           "subunitcolor": "white"
          },
          "hoverlabel": {
           "align": "left"
          },
          "hovermode": "closest",
          "mapbox": {
           "style": "light"
          },
          "paper_bgcolor": "white",
          "plot_bgcolor": "#E5ECF6",
          "polar": {
           "angularaxis": {
            "gridcolor": "white",
            "linecolor": "white",
            "ticks": ""
           },
           "bgcolor": "#E5ECF6",
           "radialaxis": {
            "gridcolor": "white",
            "linecolor": "white",
            "ticks": ""
           }
          },
          "scene": {
           "xaxis": {
            "backgroundcolor": "#E5ECF6",
            "gridcolor": "white",
            "gridwidth": 2,
            "linecolor": "white",
            "showbackground": true,
            "ticks": "",
            "zerolinecolor": "white"
           },
           "yaxis": {
            "backgroundcolor": "#E5ECF6",
            "gridcolor": "white",
            "gridwidth": 2,
            "linecolor": "white",
            "showbackground": true,
            "ticks": "",
            "zerolinecolor": "white"
           },
           "zaxis": {
            "backgroundcolor": "#E5ECF6",
            "gridcolor": "white",
            "gridwidth": 2,
            "linecolor": "white",
            "showbackground": true,
            "ticks": "",
            "zerolinecolor": "white"
           }
          },
          "shapedefaults": {
           "line": {
            "color": "#2a3f5f"
           }
          },
          "ternary": {
           "aaxis": {
            "gridcolor": "white",
            "linecolor": "white",
            "ticks": ""
           },
           "baxis": {
            "gridcolor": "white",
            "linecolor": "white",
            "ticks": ""
           },
           "bgcolor": "#E5ECF6",
           "caxis": {
            "gridcolor": "white",
            "linecolor": "white",
            "ticks": ""
           }
          },
          "title": {
           "x": 0.05
          },
          "xaxis": {
           "automargin": true,
           "gridcolor": "white",
           "linecolor": "white",
           "ticks": "",
           "title": {
            "standoff": 15
           },
           "zerolinecolor": "white",
           "zerolinewidth": 2
          },
          "yaxis": {
           "automargin": true,
           "gridcolor": "white",
           "linecolor": "white",
           "ticks": "",
           "title": {
            "standoff": 15
           },
           "zerolinecolor": "white",
           "zerolinewidth": 2
          }
         }
        },
        "title": {
         "text": "Conv. Transformer Prediction vs. Ground Truth for HDOT"
        },
        "xaxis": {
         "title": {
          "text": "Time Step"
         }
        },
        "yaxis": {
         "title": {
          "text": "Value"
         }
        }
       }
      }
     },
     "metadata": {},
     "output_type": "display_data"
    },
    {
     "data": {
      "application/vnd.plotly.v1+json": {
       "config": {
        "plotlyServerURL": "https://plot.ly"
       },
       "data": [
        {
         "line": {
          "color": "blue"
         },
         "mode": "lines",
         "name": "GT",
         "type": "scatter",
         "y": [
          -2.7897419929504395,
          -2.892526149749756,
          -2.9900965690612793,
          -3.0815608501434326,
          -3.165883779525757,
          -3.241877317428589,
          -3.3082118034362793,
          -3.363445520401001,
          -3.4060792922973633,
          -3.434654712677002,
          -3.447871208190918,
          -3.4447264671325684,
          -3.4246366024017334,
          -3.3875133991241455,
          -3.3337764739990234,
          -3.2642951011657715,
          -2.1579837799072266,
          -2.005401611328125,
          -1.850516438484192,
          -1.6940135955810547,
          -1.5365052223205566,
          -1.3785388469696045,
          -1.2206106185913086,
          -1.063171148300171,
          -0.9066294431686401,
          -0.7513644099235535,
          -0.5977368950843811,
          -0.44606292247772217,
          -0.29666271805763245,
          -0.14981594681739807,
          -0.005810381844639778,
          0.1350986361503601,
          1.225824236869812,
          1.3236207962036133,
          1.4161077737808228,
          1.5031474828720093,
          1.5846141576766968,
          1.660386323928833,
          1.730366587638855,
          1.7944577932357788,
          1.8525828123092651,
          1.9046850204467773,
          1.9507076740264893,
          1.9906222820281982,
          2.024404525756836,
          2.052046537399292,
          2.073564291000366,
          2.0889739990234375
         ]
        },
        {
         "line": {
          "color": "red"
         },
         "mode": "lines",
         "name": "pred_beginning",
         "type": "scatter",
         "y": [
          -1.7074638605117798,
          -1.7845534086227417,
          -1.7959668636322021,
          -1.815001130104065,
          -1.7764649391174316,
          -1.8183714151382446,
          -1.746638298034668,
          -1.7893946170806885,
          -1.7945585250854492,
          -1.8806332349777222,
          -1.6961561441421509,
          -1.7877391576766968,
          -1.758778691291809,
          -1.7407476902008057,
          -1.8069908618927002,
          -1.7420345544815063,
          -1.6130863428115845,
          -1.4059538841247559,
          -1.4207735061645508,
          -1.4416128396987915,
          -1.4277286529541016,
          -1.4730031490325928,
          -1.529563069343567,
          -1.3576020002365112,
          -1.4332911968231201,
          -1.0434134006500244,
          -1.4943761825561523,
          -1.2254059314727783,
          -1.2393968105316162,
          -1.1103878021240234,
          -1.0187498331069946,
          -0.9385647773742676,
          1.2597949504852295,
          1.3106008768081665,
          1.5399245023727417,
          1.2998770475387573,
          1.1997296810150146,
          1.4315582513809204,
          1.2976889610290527,
          1.3903286457061768,
          1.39576256275177,
          1.3355399370193481,
          1.4794261455535889,
          1.457302212715149,
          1.4732582569122314,
          1.4296860694885254,
          1.3604509830474854,
          1.4509153366088867
         ]
        }
       ],
       "layout": {
        "template": {
         "data": {
          "bar": [
           {
            "error_x": {
             "color": "#2a3f5f"
            },
            "error_y": {
             "color": "#2a3f5f"
            },
            "marker": {
             "line": {
              "color": "#E5ECF6",
              "width": 0.5
             },
             "pattern": {
              "fillmode": "overlay",
              "size": 10,
              "solidity": 0.2
             }
            },
            "type": "bar"
           }
          ],
          "barpolar": [
           {
            "marker": {
             "line": {
              "color": "#E5ECF6",
              "width": 0.5
             },
             "pattern": {
              "fillmode": "overlay",
              "size": 10,
              "solidity": 0.2
             }
            },
            "type": "barpolar"
           }
          ],
          "carpet": [
           {
            "aaxis": {
             "endlinecolor": "#2a3f5f",
             "gridcolor": "white",
             "linecolor": "white",
             "minorgridcolor": "white",
             "startlinecolor": "#2a3f5f"
            },
            "baxis": {
             "endlinecolor": "#2a3f5f",
             "gridcolor": "white",
             "linecolor": "white",
             "minorgridcolor": "white",
             "startlinecolor": "#2a3f5f"
            },
            "type": "carpet"
           }
          ],
          "choropleth": [
           {
            "colorbar": {
             "outlinewidth": 0,
             "ticks": ""
            },
            "type": "choropleth"
           }
          ],
          "contour": [
           {
            "colorbar": {
             "outlinewidth": 0,
             "ticks": ""
            },
            "colorscale": [
             [
              0,
              "#0d0887"
             ],
             [
              0.1111111111111111,
              "#46039f"
             ],
             [
              0.2222222222222222,
              "#7201a8"
             ],
             [
              0.3333333333333333,
              "#9c179e"
             ],
             [
              0.4444444444444444,
              "#bd3786"
             ],
             [
              0.5555555555555556,
              "#d8576b"
             ],
             [
              0.6666666666666666,
              "#ed7953"
             ],
             [
              0.7777777777777778,
              "#fb9f3a"
             ],
             [
              0.8888888888888888,
              "#fdca26"
             ],
             [
              1,
              "#f0f921"
             ]
            ],
            "type": "contour"
           }
          ],
          "contourcarpet": [
           {
            "colorbar": {
             "outlinewidth": 0,
             "ticks": ""
            },
            "type": "contourcarpet"
           }
          ],
          "heatmap": [
           {
            "colorbar": {
             "outlinewidth": 0,
             "ticks": ""
            },
            "colorscale": [
             [
              0,
              "#0d0887"
             ],
             [
              0.1111111111111111,
              "#46039f"
             ],
             [
              0.2222222222222222,
              "#7201a8"
             ],
             [
              0.3333333333333333,
              "#9c179e"
             ],
             [
              0.4444444444444444,
              "#bd3786"
             ],
             [
              0.5555555555555556,
              "#d8576b"
             ],
             [
              0.6666666666666666,
              "#ed7953"
             ],
             [
              0.7777777777777778,
              "#fb9f3a"
             ],
             [
              0.8888888888888888,
              "#fdca26"
             ],
             [
              1,
              "#f0f921"
             ]
            ],
            "type": "heatmap"
           }
          ],
          "heatmapgl": [
           {
            "colorbar": {
             "outlinewidth": 0,
             "ticks": ""
            },
            "colorscale": [
             [
              0,
              "#0d0887"
             ],
             [
              0.1111111111111111,
              "#46039f"
             ],
             [
              0.2222222222222222,
              "#7201a8"
             ],
             [
              0.3333333333333333,
              "#9c179e"
             ],
             [
              0.4444444444444444,
              "#bd3786"
             ],
             [
              0.5555555555555556,
              "#d8576b"
             ],
             [
              0.6666666666666666,
              "#ed7953"
             ],
             [
              0.7777777777777778,
              "#fb9f3a"
             ],
             [
              0.8888888888888888,
              "#fdca26"
             ],
             [
              1,
              "#f0f921"
             ]
            ],
            "type": "heatmapgl"
           }
          ],
          "histogram": [
           {
            "marker": {
             "pattern": {
              "fillmode": "overlay",
              "size": 10,
              "solidity": 0.2
             }
            },
            "type": "histogram"
           }
          ],
          "histogram2d": [
           {
            "colorbar": {
             "outlinewidth": 0,
             "ticks": ""
            },
            "colorscale": [
             [
              0,
              "#0d0887"
             ],
             [
              0.1111111111111111,
              "#46039f"
             ],
             [
              0.2222222222222222,
              "#7201a8"
             ],
             [
              0.3333333333333333,
              "#9c179e"
             ],
             [
              0.4444444444444444,
              "#bd3786"
             ],
             [
              0.5555555555555556,
              "#d8576b"
             ],
             [
              0.6666666666666666,
              "#ed7953"
             ],
             [
              0.7777777777777778,
              "#fb9f3a"
             ],
             [
              0.8888888888888888,
              "#fdca26"
             ],
             [
              1,
              "#f0f921"
             ]
            ],
            "type": "histogram2d"
           }
          ],
          "histogram2dcontour": [
           {
            "colorbar": {
             "outlinewidth": 0,
             "ticks": ""
            },
            "colorscale": [
             [
              0,
              "#0d0887"
             ],
             [
              0.1111111111111111,
              "#46039f"
             ],
             [
              0.2222222222222222,
              "#7201a8"
             ],
             [
              0.3333333333333333,
              "#9c179e"
             ],
             [
              0.4444444444444444,
              "#bd3786"
             ],
             [
              0.5555555555555556,
              "#d8576b"
             ],
             [
              0.6666666666666666,
              "#ed7953"
             ],
             [
              0.7777777777777778,
              "#fb9f3a"
             ],
             [
              0.8888888888888888,
              "#fdca26"
             ],
             [
              1,
              "#f0f921"
             ]
            ],
            "type": "histogram2dcontour"
           }
          ],
          "mesh3d": [
           {
            "colorbar": {
             "outlinewidth": 0,
             "ticks": ""
            },
            "type": "mesh3d"
           }
          ],
          "parcoords": [
           {
            "line": {
             "colorbar": {
              "outlinewidth": 0,
              "ticks": ""
             }
            },
            "type": "parcoords"
           }
          ],
          "pie": [
           {
            "automargin": true,
            "type": "pie"
           }
          ],
          "scatter": [
           {
            "fillpattern": {
             "fillmode": "overlay",
             "size": 10,
             "solidity": 0.2
            },
            "type": "scatter"
           }
          ],
          "scatter3d": [
           {
            "line": {
             "colorbar": {
              "outlinewidth": 0,
              "ticks": ""
             }
            },
            "marker": {
             "colorbar": {
              "outlinewidth": 0,
              "ticks": ""
             }
            },
            "type": "scatter3d"
           }
          ],
          "scattercarpet": [
           {
            "marker": {
             "colorbar": {
              "outlinewidth": 0,
              "ticks": ""
             }
            },
            "type": "scattercarpet"
           }
          ],
          "scattergeo": [
           {
            "marker": {
             "colorbar": {
              "outlinewidth": 0,
              "ticks": ""
             }
            },
            "type": "scattergeo"
           }
          ],
          "scattergl": [
           {
            "marker": {
             "colorbar": {
              "outlinewidth": 0,
              "ticks": ""
             }
            },
            "type": "scattergl"
           }
          ],
          "scattermapbox": [
           {
            "marker": {
             "colorbar": {
              "outlinewidth": 0,
              "ticks": ""
             }
            },
            "type": "scattermapbox"
           }
          ],
          "scatterpolar": [
           {
            "marker": {
             "colorbar": {
              "outlinewidth": 0,
              "ticks": ""
             }
            },
            "type": "scatterpolar"
           }
          ],
          "scatterpolargl": [
           {
            "marker": {
             "colorbar": {
              "outlinewidth": 0,
              "ticks": ""
             }
            },
            "type": "scatterpolargl"
           }
          ],
          "scatterternary": [
           {
            "marker": {
             "colorbar": {
              "outlinewidth": 0,
              "ticks": ""
             }
            },
            "type": "scatterternary"
           }
          ],
          "surface": [
           {
            "colorbar": {
             "outlinewidth": 0,
             "ticks": ""
            },
            "colorscale": [
             [
              0,
              "#0d0887"
             ],
             [
              0.1111111111111111,
              "#46039f"
             ],
             [
              0.2222222222222222,
              "#7201a8"
             ],
             [
              0.3333333333333333,
              "#9c179e"
             ],
             [
              0.4444444444444444,
              "#bd3786"
             ],
             [
              0.5555555555555556,
              "#d8576b"
             ],
             [
              0.6666666666666666,
              "#ed7953"
             ],
             [
              0.7777777777777778,
              "#fb9f3a"
             ],
             [
              0.8888888888888888,
              "#fdca26"
             ],
             [
              1,
              "#f0f921"
             ]
            ],
            "type": "surface"
           }
          ],
          "table": [
           {
            "cells": {
             "fill": {
              "color": "#EBF0F8"
             },
             "line": {
              "color": "white"
             }
            },
            "header": {
             "fill": {
              "color": "#C8D4E3"
             },
             "line": {
              "color": "white"
             }
            },
            "type": "table"
           }
          ]
         },
         "layout": {
          "annotationdefaults": {
           "arrowcolor": "#2a3f5f",
           "arrowhead": 0,
           "arrowwidth": 1
          },
          "autotypenumbers": "strict",
          "coloraxis": {
           "colorbar": {
            "outlinewidth": 0,
            "ticks": ""
           }
          },
          "colorscale": {
           "diverging": [
            [
             0,
             "#8e0152"
            ],
            [
             0.1,
             "#c51b7d"
            ],
            [
             0.2,
             "#de77ae"
            ],
            [
             0.3,
             "#f1b6da"
            ],
            [
             0.4,
             "#fde0ef"
            ],
            [
             0.5,
             "#f7f7f7"
            ],
            [
             0.6,
             "#e6f5d0"
            ],
            [
             0.7,
             "#b8e186"
            ],
            [
             0.8,
             "#7fbc41"
            ],
            [
             0.9,
             "#4d9221"
            ],
            [
             1,
             "#276419"
            ]
           ],
           "sequential": [
            [
             0,
             "#0d0887"
            ],
            [
             0.1111111111111111,
             "#46039f"
            ],
            [
             0.2222222222222222,
             "#7201a8"
            ],
            [
             0.3333333333333333,
             "#9c179e"
            ],
            [
             0.4444444444444444,
             "#bd3786"
            ],
            [
             0.5555555555555556,
             "#d8576b"
            ],
            [
             0.6666666666666666,
             "#ed7953"
            ],
            [
             0.7777777777777778,
             "#fb9f3a"
            ],
            [
             0.8888888888888888,
             "#fdca26"
            ],
            [
             1,
             "#f0f921"
            ]
           ],
           "sequentialminus": [
            [
             0,
             "#0d0887"
            ],
            [
             0.1111111111111111,
             "#46039f"
            ],
            [
             0.2222222222222222,
             "#7201a8"
            ],
            [
             0.3333333333333333,
             "#9c179e"
            ],
            [
             0.4444444444444444,
             "#bd3786"
            ],
            [
             0.5555555555555556,
             "#d8576b"
            ],
            [
             0.6666666666666666,
             "#ed7953"
            ],
            [
             0.7777777777777778,
             "#fb9f3a"
            ],
            [
             0.8888888888888888,
             "#fdca26"
            ],
            [
             1,
             "#f0f921"
            ]
           ]
          },
          "colorway": [
           "#636efa",
           "#EF553B",
           "#00cc96",
           "#ab63fa",
           "#FFA15A",
           "#19d3f3",
           "#FF6692",
           "#B6E880",
           "#FF97FF",
           "#FECB52"
          ],
          "font": {
           "color": "#2a3f5f"
          },
          "geo": {
           "bgcolor": "white",
           "lakecolor": "white",
           "landcolor": "#E5ECF6",
           "showlakes": true,
           "showland": true,
           "subunitcolor": "white"
          },
          "hoverlabel": {
           "align": "left"
          },
          "hovermode": "closest",
          "mapbox": {
           "style": "light"
          },
          "paper_bgcolor": "white",
          "plot_bgcolor": "#E5ECF6",
          "polar": {
           "angularaxis": {
            "gridcolor": "white",
            "linecolor": "white",
            "ticks": ""
           },
           "bgcolor": "#E5ECF6",
           "radialaxis": {
            "gridcolor": "white",
            "linecolor": "white",
            "ticks": ""
           }
          },
          "scene": {
           "xaxis": {
            "backgroundcolor": "#E5ECF6",
            "gridcolor": "white",
            "gridwidth": 2,
            "linecolor": "white",
            "showbackground": true,
            "ticks": "",
            "zerolinecolor": "white"
           },
           "yaxis": {
            "backgroundcolor": "#E5ECF6",
            "gridcolor": "white",
            "gridwidth": 2,
            "linecolor": "white",
            "showbackground": true,
            "ticks": "",
            "zerolinecolor": "white"
           },
           "zaxis": {
            "backgroundcolor": "#E5ECF6",
            "gridcolor": "white",
            "gridwidth": 2,
            "linecolor": "white",
            "showbackground": true,
            "ticks": "",
            "zerolinecolor": "white"
           }
          },
          "shapedefaults": {
           "line": {
            "color": "#2a3f5f"
           }
          },
          "ternary": {
           "aaxis": {
            "gridcolor": "white",
            "linecolor": "white",
            "ticks": ""
           },
           "baxis": {
            "gridcolor": "white",
            "linecolor": "white",
            "ticks": ""
           },
           "bgcolor": "#E5ECF6",
           "caxis": {
            "gridcolor": "white",
            "linecolor": "white",
            "ticks": ""
           }
          },
          "title": {
           "x": 0.05
          },
          "xaxis": {
           "automargin": true,
           "gridcolor": "white",
           "linecolor": "white",
           "ticks": "",
           "title": {
            "standoff": 15
           },
           "zerolinecolor": "white",
           "zerolinewidth": 2
          },
          "yaxis": {
           "automargin": true,
           "gridcolor": "white",
           "linecolor": "white",
           "ticks": "",
           "title": {
            "standoff": 15
           },
           "zerolinecolor": "white",
           "zerolinewidth": 2
          }
         }
        },
        "title": {
         "text": "Conv. Transformer Prediction vs. Ground Truth for VT"
        },
        "xaxis": {
         "title": {
          "text": "Time Step"
         }
        },
        "yaxis": {
         "title": {
          "text": "Value"
         }
        }
       }
      }
     },
     "metadata": {},
     "output_type": "display_data"
    },
    {
     "data": {
      "application/vnd.plotly.v1+json": {
       "config": {
        "plotlyServerURL": "https://plot.ly"
       },
       "data": [
        {
         "line": {
          "color": "blue"
         },
         "mode": "lines",
         "name": "GT",
         "type": "scatter",
         "y": [
          0.37280386686325073,
          0.37280386686325073,
          0.37280386686325073,
          0.37280386686325073,
          0.37280386686325073,
          0.37280386686325073,
          0.37280386686325073,
          0.37280386686325073,
          0.37280386686325073,
          0.37280386686325073,
          0.37280386686325073,
          0.37280386686325073,
          0.37280386686325073,
          0.37280386686325073,
          0.37280386686325073,
          0.37280386686325073,
          0.37280386686325073,
          0.37280386686325073,
          0.37280386686325073,
          0.37280386686325073,
          0.37280386686325073,
          0.37280386686325073,
          0.37280386686325073,
          0.37280386686325073,
          0.37280386686325073,
          0.37280386686325073,
          0.37280386686325073,
          0.37280386686325073,
          0.37280386686325073,
          0.37280386686325073,
          0.37280386686325073,
          0.37280386686325073,
          0.37280386686325073,
          0.37280386686325073,
          0.37280386686325073,
          0.37280386686325073,
          0.37280386686325073,
          0.37280386686325073,
          0.37280386686325073,
          0.37280386686325073,
          0.37280386686325073,
          0.37280386686325073,
          0.37280386686325073,
          0.37280386686325073,
          0.37280386686325073,
          0.37280386686325073,
          0.37280386686325073,
          0.37280386686325073
         ]
        },
        {
         "line": {
          "color": "red"
         },
         "mode": "lines",
         "name": "pred_beginning",
         "type": "scatter",
         "y": [
          0.599148154258728,
          0.5205312967300415,
          0.6434413194656372,
          0.6476459503173828,
          0.6081374287605286,
          0.6611467599868774,
          0.6399422883987427,
          0.677589476108551,
          0.6388040781021118,
          0.6375686526298523,
          0.6634268164634705,
          0.6563171148300171,
          0.6670265197753906,
          0.6642695665359497,
          0.5302466154098511,
          0.604318380355835,
          0.3605816066265106,
          0.3136327862739563,
          0.42542698979377747,
          0.3481798768043518,
          0.38744688034057617,
          0.40043938159942627,
          0.41103804111480713,
          0.40246400237083435,
          0.3643397390842438,
          0.3555174171924591,
          0.4185001254081726,
          0.35939788818359375,
          0.36938273906707764,
          0.33021169900894165,
          0.3870675265789032,
          0.3507957458496094,
          0.6758055686950684,
          0.5971128344535828,
          0.6882549524307251,
          0.6687163710594177,
          0.7014879584312439,
          0.6814236640930176,
          0.7095828652381897,
          0.7154555320739746,
          0.6886247396469116,
          0.6552414298057556,
          0.6919770836830139,
          0.6645686030387878,
          0.6718249917030334,
          0.6342963576316833,
          0.5918341875076294,
          0.5875474214553833
         ]
        }
       ],
       "layout": {
        "template": {
         "data": {
          "bar": [
           {
            "error_x": {
             "color": "#2a3f5f"
            },
            "error_y": {
             "color": "#2a3f5f"
            },
            "marker": {
             "line": {
              "color": "#E5ECF6",
              "width": 0.5
             },
             "pattern": {
              "fillmode": "overlay",
              "size": 10,
              "solidity": 0.2
             }
            },
            "type": "bar"
           }
          ],
          "barpolar": [
           {
            "marker": {
             "line": {
              "color": "#E5ECF6",
              "width": 0.5
             },
             "pattern": {
              "fillmode": "overlay",
              "size": 10,
              "solidity": 0.2
             }
            },
            "type": "barpolar"
           }
          ],
          "carpet": [
           {
            "aaxis": {
             "endlinecolor": "#2a3f5f",
             "gridcolor": "white",
             "linecolor": "white",
             "minorgridcolor": "white",
             "startlinecolor": "#2a3f5f"
            },
            "baxis": {
             "endlinecolor": "#2a3f5f",
             "gridcolor": "white",
             "linecolor": "white",
             "minorgridcolor": "white",
             "startlinecolor": "#2a3f5f"
            },
            "type": "carpet"
           }
          ],
          "choropleth": [
           {
            "colorbar": {
             "outlinewidth": 0,
             "ticks": ""
            },
            "type": "choropleth"
           }
          ],
          "contour": [
           {
            "colorbar": {
             "outlinewidth": 0,
             "ticks": ""
            },
            "colorscale": [
             [
              0,
              "#0d0887"
             ],
             [
              0.1111111111111111,
              "#46039f"
             ],
             [
              0.2222222222222222,
              "#7201a8"
             ],
             [
              0.3333333333333333,
              "#9c179e"
             ],
             [
              0.4444444444444444,
              "#bd3786"
             ],
             [
              0.5555555555555556,
              "#d8576b"
             ],
             [
              0.6666666666666666,
              "#ed7953"
             ],
             [
              0.7777777777777778,
              "#fb9f3a"
             ],
             [
              0.8888888888888888,
              "#fdca26"
             ],
             [
              1,
              "#f0f921"
             ]
            ],
            "type": "contour"
           }
          ],
          "contourcarpet": [
           {
            "colorbar": {
             "outlinewidth": 0,
             "ticks": ""
            },
            "type": "contourcarpet"
           }
          ],
          "heatmap": [
           {
            "colorbar": {
             "outlinewidth": 0,
             "ticks": ""
            },
            "colorscale": [
             [
              0,
              "#0d0887"
             ],
             [
              0.1111111111111111,
              "#46039f"
             ],
             [
              0.2222222222222222,
              "#7201a8"
             ],
             [
              0.3333333333333333,
              "#9c179e"
             ],
             [
              0.4444444444444444,
              "#bd3786"
             ],
             [
              0.5555555555555556,
              "#d8576b"
             ],
             [
              0.6666666666666666,
              "#ed7953"
             ],
             [
              0.7777777777777778,
              "#fb9f3a"
             ],
             [
              0.8888888888888888,
              "#fdca26"
             ],
             [
              1,
              "#f0f921"
             ]
            ],
            "type": "heatmap"
           }
          ],
          "heatmapgl": [
           {
            "colorbar": {
             "outlinewidth": 0,
             "ticks": ""
            },
            "colorscale": [
             [
              0,
              "#0d0887"
             ],
             [
              0.1111111111111111,
              "#46039f"
             ],
             [
              0.2222222222222222,
              "#7201a8"
             ],
             [
              0.3333333333333333,
              "#9c179e"
             ],
             [
              0.4444444444444444,
              "#bd3786"
             ],
             [
              0.5555555555555556,
              "#d8576b"
             ],
             [
              0.6666666666666666,
              "#ed7953"
             ],
             [
              0.7777777777777778,
              "#fb9f3a"
             ],
             [
              0.8888888888888888,
              "#fdca26"
             ],
             [
              1,
              "#f0f921"
             ]
            ],
            "type": "heatmapgl"
           }
          ],
          "histogram": [
           {
            "marker": {
             "pattern": {
              "fillmode": "overlay",
              "size": 10,
              "solidity": 0.2
             }
            },
            "type": "histogram"
           }
          ],
          "histogram2d": [
           {
            "colorbar": {
             "outlinewidth": 0,
             "ticks": ""
            },
            "colorscale": [
             [
              0,
              "#0d0887"
             ],
             [
              0.1111111111111111,
              "#46039f"
             ],
             [
              0.2222222222222222,
              "#7201a8"
             ],
             [
              0.3333333333333333,
              "#9c179e"
             ],
             [
              0.4444444444444444,
              "#bd3786"
             ],
             [
              0.5555555555555556,
              "#d8576b"
             ],
             [
              0.6666666666666666,
              "#ed7953"
             ],
             [
              0.7777777777777778,
              "#fb9f3a"
             ],
             [
              0.8888888888888888,
              "#fdca26"
             ],
             [
              1,
              "#f0f921"
             ]
            ],
            "type": "histogram2d"
           }
          ],
          "histogram2dcontour": [
           {
            "colorbar": {
             "outlinewidth": 0,
             "ticks": ""
            },
            "colorscale": [
             [
              0,
              "#0d0887"
             ],
             [
              0.1111111111111111,
              "#46039f"
             ],
             [
              0.2222222222222222,
              "#7201a8"
             ],
             [
              0.3333333333333333,
              "#9c179e"
             ],
             [
              0.4444444444444444,
              "#bd3786"
             ],
             [
              0.5555555555555556,
              "#d8576b"
             ],
             [
              0.6666666666666666,
              "#ed7953"
             ],
             [
              0.7777777777777778,
              "#fb9f3a"
             ],
             [
              0.8888888888888888,
              "#fdca26"
             ],
             [
              1,
              "#f0f921"
             ]
            ],
            "type": "histogram2dcontour"
           }
          ],
          "mesh3d": [
           {
            "colorbar": {
             "outlinewidth": 0,
             "ticks": ""
            },
            "type": "mesh3d"
           }
          ],
          "parcoords": [
           {
            "line": {
             "colorbar": {
              "outlinewidth": 0,
              "ticks": ""
             }
            },
            "type": "parcoords"
           }
          ],
          "pie": [
           {
            "automargin": true,
            "type": "pie"
           }
          ],
          "scatter": [
           {
            "fillpattern": {
             "fillmode": "overlay",
             "size": 10,
             "solidity": 0.2
            },
            "type": "scatter"
           }
          ],
          "scatter3d": [
           {
            "line": {
             "colorbar": {
              "outlinewidth": 0,
              "ticks": ""
             }
            },
            "marker": {
             "colorbar": {
              "outlinewidth": 0,
              "ticks": ""
             }
            },
            "type": "scatter3d"
           }
          ],
          "scattercarpet": [
           {
            "marker": {
             "colorbar": {
              "outlinewidth": 0,
              "ticks": ""
             }
            },
            "type": "scattercarpet"
           }
          ],
          "scattergeo": [
           {
            "marker": {
             "colorbar": {
              "outlinewidth": 0,
              "ticks": ""
             }
            },
            "type": "scattergeo"
           }
          ],
          "scattergl": [
           {
            "marker": {
             "colorbar": {
              "outlinewidth": 0,
              "ticks": ""
             }
            },
            "type": "scattergl"
           }
          ],
          "scattermapbox": [
           {
            "marker": {
             "colorbar": {
              "outlinewidth": 0,
              "ticks": ""
             }
            },
            "type": "scattermapbox"
           }
          ],
          "scatterpolar": [
           {
            "marker": {
             "colorbar": {
              "outlinewidth": 0,
              "ticks": ""
             }
            },
            "type": "scatterpolar"
           }
          ],
          "scatterpolargl": [
           {
            "marker": {
             "colorbar": {
              "outlinewidth": 0,
              "ticks": ""
             }
            },
            "type": "scatterpolargl"
           }
          ],
          "scatterternary": [
           {
            "marker": {
             "colorbar": {
              "outlinewidth": 0,
              "ticks": ""
             }
            },
            "type": "scatterternary"
           }
          ],
          "surface": [
           {
            "colorbar": {
             "outlinewidth": 0,
             "ticks": ""
            },
            "colorscale": [
             [
              0,
              "#0d0887"
             ],
             [
              0.1111111111111111,
              "#46039f"
             ],
             [
              0.2222222222222222,
              "#7201a8"
             ],
             [
              0.3333333333333333,
              "#9c179e"
             ],
             [
              0.4444444444444444,
              "#bd3786"
             ],
             [
              0.5555555555555556,
              "#d8576b"
             ],
             [
              0.6666666666666666,
              "#ed7953"
             ],
             [
              0.7777777777777778,
              "#fb9f3a"
             ],
             [
              0.8888888888888888,
              "#fdca26"
             ],
             [
              1,
              "#f0f921"
             ]
            ],
            "type": "surface"
           }
          ],
          "table": [
           {
            "cells": {
             "fill": {
              "color": "#EBF0F8"
             },
             "line": {
              "color": "white"
             }
            },
            "header": {
             "fill": {
              "color": "#C8D4E3"
             },
             "line": {
              "color": "white"
             }
            },
            "type": "table"
           }
          ]
         },
         "layout": {
          "annotationdefaults": {
           "arrowcolor": "#2a3f5f",
           "arrowhead": 0,
           "arrowwidth": 1
          },
          "autotypenumbers": "strict",
          "coloraxis": {
           "colorbar": {
            "outlinewidth": 0,
            "ticks": ""
           }
          },
          "colorscale": {
           "diverging": [
            [
             0,
             "#8e0152"
            ],
            [
             0.1,
             "#c51b7d"
            ],
            [
             0.2,
             "#de77ae"
            ],
            [
             0.3,
             "#f1b6da"
            ],
            [
             0.4,
             "#fde0ef"
            ],
            [
             0.5,
             "#f7f7f7"
            ],
            [
             0.6,
             "#e6f5d0"
            ],
            [
             0.7,
             "#b8e186"
            ],
            [
             0.8,
             "#7fbc41"
            ],
            [
             0.9,
             "#4d9221"
            ],
            [
             1,
             "#276419"
            ]
           ],
           "sequential": [
            [
             0,
             "#0d0887"
            ],
            [
             0.1111111111111111,
             "#46039f"
            ],
            [
             0.2222222222222222,
             "#7201a8"
            ],
            [
             0.3333333333333333,
             "#9c179e"
            ],
            [
             0.4444444444444444,
             "#bd3786"
            ],
            [
             0.5555555555555556,
             "#d8576b"
            ],
            [
             0.6666666666666666,
             "#ed7953"
            ],
            [
             0.7777777777777778,
             "#fb9f3a"
            ],
            [
             0.8888888888888888,
             "#fdca26"
            ],
            [
             1,
             "#f0f921"
            ]
           ],
           "sequentialminus": [
            [
             0,
             "#0d0887"
            ],
            [
             0.1111111111111111,
             "#46039f"
            ],
            [
             0.2222222222222222,
             "#7201a8"
            ],
            [
             0.3333333333333333,
             "#9c179e"
            ],
            [
             0.4444444444444444,
             "#bd3786"
            ],
            [
             0.5555555555555556,
             "#d8576b"
            ],
            [
             0.6666666666666666,
             "#ed7953"
            ],
            [
             0.7777777777777778,
             "#fb9f3a"
            ],
            [
             0.8888888888888888,
             "#fdca26"
            ],
            [
             1,
             "#f0f921"
            ]
           ]
          },
          "colorway": [
           "#636efa",
           "#EF553B",
           "#00cc96",
           "#ab63fa",
           "#FFA15A",
           "#19d3f3",
           "#FF6692",
           "#B6E880",
           "#FF97FF",
           "#FECB52"
          ],
          "font": {
           "color": "#2a3f5f"
          },
          "geo": {
           "bgcolor": "white",
           "lakecolor": "white",
           "landcolor": "#E5ECF6",
           "showlakes": true,
           "showland": true,
           "subunitcolor": "white"
          },
          "hoverlabel": {
           "align": "left"
          },
          "hovermode": "closest",
          "mapbox": {
           "style": "light"
          },
          "paper_bgcolor": "white",
          "plot_bgcolor": "#E5ECF6",
          "polar": {
           "angularaxis": {
            "gridcolor": "white",
            "linecolor": "white",
            "ticks": ""
           },
           "bgcolor": "#E5ECF6",
           "radialaxis": {
            "gridcolor": "white",
            "linecolor": "white",
            "ticks": ""
           }
          },
          "scene": {
           "xaxis": {
            "backgroundcolor": "#E5ECF6",
            "gridcolor": "white",
            "gridwidth": 2,
            "linecolor": "white",
            "showbackground": true,
            "ticks": "",
            "zerolinecolor": "white"
           },
           "yaxis": {
            "backgroundcolor": "#E5ECF6",
            "gridcolor": "white",
            "gridwidth": 2,
            "linecolor": "white",
            "showbackground": true,
            "ticks": "",
            "zerolinecolor": "white"
           },
           "zaxis": {
            "backgroundcolor": "#E5ECF6",
            "gridcolor": "white",
            "gridwidth": 2,
            "linecolor": "white",
            "showbackground": true,
            "ticks": "",
            "zerolinecolor": "white"
           }
          },
          "shapedefaults": {
           "line": {
            "color": "#2a3f5f"
           }
          },
          "ternary": {
           "aaxis": {
            "gridcolor": "white",
            "linecolor": "white",
            "ticks": ""
           },
           "baxis": {
            "gridcolor": "white",
            "linecolor": "white",
            "ticks": ""
           },
           "bgcolor": "#E5ECF6",
           "caxis": {
            "gridcolor": "white",
            "linecolor": "white",
            "ticks": ""
           }
          },
          "title": {
           "x": 0.05
          },
          "xaxis": {
           "automargin": true,
           "gridcolor": "white",
           "linecolor": "white",
           "ticks": "",
           "title": {
            "standoff": 15
           },
           "zerolinecolor": "white",
           "zerolinewidth": 2
          },
          "yaxis": {
           "automargin": true,
           "gridcolor": "white",
           "linecolor": "white",
           "ticks": "",
           "title": {
            "standoff": 15
           },
           "zerolinecolor": "white",
           "zerolinewidth": 2
          }
         }
        },
        "title": {
         "text": "Conv. Transformer Prediction vs. Ground Truth for ALPHA"
        },
        "xaxis": {
         "title": {
          "text": "Time Step"
         }
        },
        "yaxis": {
         "title": {
          "text": "Value"
         }
        }
       }
      }
     },
     "metadata": {},
     "output_type": "display_data"
    },
    {
     "data": {
      "application/vnd.plotly.v1+json": {
       "config": {
        "plotlyServerURL": "https://plot.ly"
       },
       "data": [
        {
         "line": {
          "color": "blue"
         },
         "mode": "lines",
         "name": "GT",
         "type": "scatter",
         "y": [
          1.9195104837417603,
          1.8405653238296509,
          1.7490718364715576,
          1.6439043283462524,
          1.5240064859390259,
          1.3885129690170288,
          1.236916422843933,
          1.069272756576538,
          0.8864258527755737,
          0.6901938915252686,
          0.48345181345939636,
          0.2700369358062744,
          0.054451704025268555,
          -0.1585991531610489,
          -0.3647172152996063,
          -0.5602338910102844,
          -1.662577509880066,
          -1.7197993993759155,
          -1.7672415971755981,
          -1.8057160377502441,
          -1.835953950881958,
          -1.858612060546875,
          -1.8742766380310059,
          -1.8834701776504517,
          -1.8866596221923828,
          -1.8842629194259644,
          -1.8766542673110962,
          -1.864171028137207,
          -1.8471184968948364,
          -1.8257732391357422,
          -1.8003886938095093,
          -1.7711983919143677,
          -1.3687080144882202,
          -1.3114371299743652,
          -1.2521851062774658,
          -1.1910839080810547,
          -1.1282637119293213,
          -1.0638521909713745,
          -0.9979754090309143,
          -0.930757999420166,
          -0.8623234033584595,
          -0.7927933931350708,
          -0.7222880721092224,
          -0.6509274244308472,
          -0.5788299441337585,
          -0.5061123371124268,
          -0.4328906238079071,
          -0.35927945375442505
         ]
        },
        {
         "line": {
          "color": "red"
         },
         "mode": "lines",
         "name": "pred_beginning",
         "type": "scatter",
         "y": [
          1.3616267442703247,
          1.3173189163208008,
          1.3594434261322021,
          1.357180118560791,
          1.3327772617340088,
          1.4045169353485107,
          1.4298392534255981,
          1.3997788429260254,
          1.4009952545166016,
          1.3217579126358032,
          1.5177778005599976,
          1.4013893604278564,
          1.3968722820281982,
          1.396164059638977,
          1.2187540531158447,
          1.2892205715179443,
          -1.0434783697128296,
          -1.1196763515472412,
          -1.0747014284133911,
          -1.1291306018829346,
          -1.0959233045578003,
          -1.085879921913147,
          -1.0351303815841675,
          -1.0915147066116333,
          -1.1205267906188965,
          -1.1870434284210205,
          -0.9721513390541077,
          -1.110467791557312,
          -1.0856835842132568,
          -1.0807183980941772,
          -1.0915398597717285,
          -1.0633864402770996,
          -1.2555423974990845,
          -1.1936421394348145,
          -1.0306211709976196,
          -1.1398670673370361,
          -1.1895617246627808,
          -1.1140930652618408,
          -1.2227051258087158,
          -1.0813180208206177,
          -1.1507253646850586,
          -0.9601505994796753,
          -1.1632881164550781,
          -1.0140773057937622,
          -0.9917439818382263,
          -0.951654314994812,
          -0.914831280708313,
          -0.8198421001434326
         ]
        }
       ],
       "layout": {
        "template": {
         "data": {
          "bar": [
           {
            "error_x": {
             "color": "#2a3f5f"
            },
            "error_y": {
             "color": "#2a3f5f"
            },
            "marker": {
             "line": {
              "color": "#E5ECF6",
              "width": 0.5
             },
             "pattern": {
              "fillmode": "overlay",
              "size": 10,
              "solidity": 0.2
             }
            },
            "type": "bar"
           }
          ],
          "barpolar": [
           {
            "marker": {
             "line": {
              "color": "#E5ECF6",
              "width": 0.5
             },
             "pattern": {
              "fillmode": "overlay",
              "size": 10,
              "solidity": 0.2
             }
            },
            "type": "barpolar"
           }
          ],
          "carpet": [
           {
            "aaxis": {
             "endlinecolor": "#2a3f5f",
             "gridcolor": "white",
             "linecolor": "white",
             "minorgridcolor": "white",
             "startlinecolor": "#2a3f5f"
            },
            "baxis": {
             "endlinecolor": "#2a3f5f",
             "gridcolor": "white",
             "linecolor": "white",
             "minorgridcolor": "white",
             "startlinecolor": "#2a3f5f"
            },
            "type": "carpet"
           }
          ],
          "choropleth": [
           {
            "colorbar": {
             "outlinewidth": 0,
             "ticks": ""
            },
            "type": "choropleth"
           }
          ],
          "contour": [
           {
            "colorbar": {
             "outlinewidth": 0,
             "ticks": ""
            },
            "colorscale": [
             [
              0,
              "#0d0887"
             ],
             [
              0.1111111111111111,
              "#46039f"
             ],
             [
              0.2222222222222222,
              "#7201a8"
             ],
             [
              0.3333333333333333,
              "#9c179e"
             ],
             [
              0.4444444444444444,
              "#bd3786"
             ],
             [
              0.5555555555555556,
              "#d8576b"
             ],
             [
              0.6666666666666666,
              "#ed7953"
             ],
             [
              0.7777777777777778,
              "#fb9f3a"
             ],
             [
              0.8888888888888888,
              "#fdca26"
             ],
             [
              1,
              "#f0f921"
             ]
            ],
            "type": "contour"
           }
          ],
          "contourcarpet": [
           {
            "colorbar": {
             "outlinewidth": 0,
             "ticks": ""
            },
            "type": "contourcarpet"
           }
          ],
          "heatmap": [
           {
            "colorbar": {
             "outlinewidth": 0,
             "ticks": ""
            },
            "colorscale": [
             [
              0,
              "#0d0887"
             ],
             [
              0.1111111111111111,
              "#46039f"
             ],
             [
              0.2222222222222222,
              "#7201a8"
             ],
             [
              0.3333333333333333,
              "#9c179e"
             ],
             [
              0.4444444444444444,
              "#bd3786"
             ],
             [
              0.5555555555555556,
              "#d8576b"
             ],
             [
              0.6666666666666666,
              "#ed7953"
             ],
             [
              0.7777777777777778,
              "#fb9f3a"
             ],
             [
              0.8888888888888888,
              "#fdca26"
             ],
             [
              1,
              "#f0f921"
             ]
            ],
            "type": "heatmap"
           }
          ],
          "heatmapgl": [
           {
            "colorbar": {
             "outlinewidth": 0,
             "ticks": ""
            },
            "colorscale": [
             [
              0,
              "#0d0887"
             ],
             [
              0.1111111111111111,
              "#46039f"
             ],
             [
              0.2222222222222222,
              "#7201a8"
             ],
             [
              0.3333333333333333,
              "#9c179e"
             ],
             [
              0.4444444444444444,
              "#bd3786"
             ],
             [
              0.5555555555555556,
              "#d8576b"
             ],
             [
              0.6666666666666666,
              "#ed7953"
             ],
             [
              0.7777777777777778,
              "#fb9f3a"
             ],
             [
              0.8888888888888888,
              "#fdca26"
             ],
             [
              1,
              "#f0f921"
             ]
            ],
            "type": "heatmapgl"
           }
          ],
          "histogram": [
           {
            "marker": {
             "pattern": {
              "fillmode": "overlay",
              "size": 10,
              "solidity": 0.2
             }
            },
            "type": "histogram"
           }
          ],
          "histogram2d": [
           {
            "colorbar": {
             "outlinewidth": 0,
             "ticks": ""
            },
            "colorscale": [
             [
              0,
              "#0d0887"
             ],
             [
              0.1111111111111111,
              "#46039f"
             ],
             [
              0.2222222222222222,
              "#7201a8"
             ],
             [
              0.3333333333333333,
              "#9c179e"
             ],
             [
              0.4444444444444444,
              "#bd3786"
             ],
             [
              0.5555555555555556,
              "#d8576b"
             ],
             [
              0.6666666666666666,
              "#ed7953"
             ],
             [
              0.7777777777777778,
              "#fb9f3a"
             ],
             [
              0.8888888888888888,
              "#fdca26"
             ],
             [
              1,
              "#f0f921"
             ]
            ],
            "type": "histogram2d"
           }
          ],
          "histogram2dcontour": [
           {
            "colorbar": {
             "outlinewidth": 0,
             "ticks": ""
            },
            "colorscale": [
             [
              0,
              "#0d0887"
             ],
             [
              0.1111111111111111,
              "#46039f"
             ],
             [
              0.2222222222222222,
              "#7201a8"
             ],
             [
              0.3333333333333333,
              "#9c179e"
             ],
             [
              0.4444444444444444,
              "#bd3786"
             ],
             [
              0.5555555555555556,
              "#d8576b"
             ],
             [
              0.6666666666666666,
              "#ed7953"
             ],
             [
              0.7777777777777778,
              "#fb9f3a"
             ],
             [
              0.8888888888888888,
              "#fdca26"
             ],
             [
              1,
              "#f0f921"
             ]
            ],
            "type": "histogram2dcontour"
           }
          ],
          "mesh3d": [
           {
            "colorbar": {
             "outlinewidth": 0,
             "ticks": ""
            },
            "type": "mesh3d"
           }
          ],
          "parcoords": [
           {
            "line": {
             "colorbar": {
              "outlinewidth": 0,
              "ticks": ""
             }
            },
            "type": "parcoords"
           }
          ],
          "pie": [
           {
            "automargin": true,
            "type": "pie"
           }
          ],
          "scatter": [
           {
            "fillpattern": {
             "fillmode": "overlay",
             "size": 10,
             "solidity": 0.2
            },
            "type": "scatter"
           }
          ],
          "scatter3d": [
           {
            "line": {
             "colorbar": {
              "outlinewidth": 0,
              "ticks": ""
             }
            },
            "marker": {
             "colorbar": {
              "outlinewidth": 0,
              "ticks": ""
             }
            },
            "type": "scatter3d"
           }
          ],
          "scattercarpet": [
           {
            "marker": {
             "colorbar": {
              "outlinewidth": 0,
              "ticks": ""
             }
            },
            "type": "scattercarpet"
           }
          ],
          "scattergeo": [
           {
            "marker": {
             "colorbar": {
              "outlinewidth": 0,
              "ticks": ""
             }
            },
            "type": "scattergeo"
           }
          ],
          "scattergl": [
           {
            "marker": {
             "colorbar": {
              "outlinewidth": 0,
              "ticks": ""
             }
            },
            "type": "scattergl"
           }
          ],
          "scattermapbox": [
           {
            "marker": {
             "colorbar": {
              "outlinewidth": 0,
              "ticks": ""
             }
            },
            "type": "scattermapbox"
           }
          ],
          "scatterpolar": [
           {
            "marker": {
             "colorbar": {
              "outlinewidth": 0,
              "ticks": ""
             }
            },
            "type": "scatterpolar"
           }
          ],
          "scatterpolargl": [
           {
            "marker": {
             "colorbar": {
              "outlinewidth": 0,
              "ticks": ""
             }
            },
            "type": "scatterpolargl"
           }
          ],
          "scatterternary": [
           {
            "marker": {
             "colorbar": {
              "outlinewidth": 0,
              "ticks": ""
             }
            },
            "type": "scatterternary"
           }
          ],
          "surface": [
           {
            "colorbar": {
             "outlinewidth": 0,
             "ticks": ""
            },
            "colorscale": [
             [
              0,
              "#0d0887"
             ],
             [
              0.1111111111111111,
              "#46039f"
             ],
             [
              0.2222222222222222,
              "#7201a8"
             ],
             [
              0.3333333333333333,
              "#9c179e"
             ],
             [
              0.4444444444444444,
              "#bd3786"
             ],
             [
              0.5555555555555556,
              "#d8576b"
             ],
             [
              0.6666666666666666,
              "#ed7953"
             ],
             [
              0.7777777777777778,
              "#fb9f3a"
             ],
             [
              0.8888888888888888,
              "#fdca26"
             ],
             [
              1,
              "#f0f921"
             ]
            ],
            "type": "surface"
           }
          ],
          "table": [
           {
            "cells": {
             "fill": {
              "color": "#EBF0F8"
             },
             "line": {
              "color": "white"
             }
            },
            "header": {
             "fill": {
              "color": "#C8D4E3"
             },
             "line": {
              "color": "white"
             }
            },
            "type": "table"
           }
          ]
         },
         "layout": {
          "annotationdefaults": {
           "arrowcolor": "#2a3f5f",
           "arrowhead": 0,
           "arrowwidth": 1
          },
          "autotypenumbers": "strict",
          "coloraxis": {
           "colorbar": {
            "outlinewidth": 0,
            "ticks": ""
           }
          },
          "colorscale": {
           "diverging": [
            [
             0,
             "#8e0152"
            ],
            [
             0.1,
             "#c51b7d"
            ],
            [
             0.2,
             "#de77ae"
            ],
            [
             0.3,
             "#f1b6da"
            ],
            [
             0.4,
             "#fde0ef"
            ],
            [
             0.5,
             "#f7f7f7"
            ],
            [
             0.6,
             "#e6f5d0"
            ],
            [
             0.7,
             "#b8e186"
            ],
            [
             0.8,
             "#7fbc41"
            ],
            [
             0.9,
             "#4d9221"
            ],
            [
             1,
             "#276419"
            ]
           ],
           "sequential": [
            [
             0,
             "#0d0887"
            ],
            [
             0.1111111111111111,
             "#46039f"
            ],
            [
             0.2222222222222222,
             "#7201a8"
            ],
            [
             0.3333333333333333,
             "#9c179e"
            ],
            [
             0.4444444444444444,
             "#bd3786"
            ],
            [
             0.5555555555555556,
             "#d8576b"
            ],
            [
             0.6666666666666666,
             "#ed7953"
            ],
            [
             0.7777777777777778,
             "#fb9f3a"
            ],
            [
             0.8888888888888888,
             "#fdca26"
            ],
            [
             1,
             "#f0f921"
            ]
           ],
           "sequentialminus": [
            [
             0,
             "#0d0887"
            ],
            [
             0.1111111111111111,
             "#46039f"
            ],
            [
             0.2222222222222222,
             "#7201a8"
            ],
            [
             0.3333333333333333,
             "#9c179e"
            ],
            [
             0.4444444444444444,
             "#bd3786"
            ],
            [
             0.5555555555555556,
             "#d8576b"
            ],
            [
             0.6666666666666666,
             "#ed7953"
            ],
            [
             0.7777777777777778,
             "#fb9f3a"
            ],
            [
             0.8888888888888888,
             "#fdca26"
            ],
            [
             1,
             "#f0f921"
            ]
           ]
          },
          "colorway": [
           "#636efa",
           "#EF553B",
           "#00cc96",
           "#ab63fa",
           "#FFA15A",
           "#19d3f3",
           "#FF6692",
           "#B6E880",
           "#FF97FF",
           "#FECB52"
          ],
          "font": {
           "color": "#2a3f5f"
          },
          "geo": {
           "bgcolor": "white",
           "lakecolor": "white",
           "landcolor": "#E5ECF6",
           "showlakes": true,
           "showland": true,
           "subunitcolor": "white"
          },
          "hoverlabel": {
           "align": "left"
          },
          "hovermode": "closest",
          "mapbox": {
           "style": "light"
          },
          "paper_bgcolor": "white",
          "plot_bgcolor": "#E5ECF6",
          "polar": {
           "angularaxis": {
            "gridcolor": "white",
            "linecolor": "white",
            "ticks": ""
           },
           "bgcolor": "#E5ECF6",
           "radialaxis": {
            "gridcolor": "white",
            "linecolor": "white",
            "ticks": ""
           }
          },
          "scene": {
           "xaxis": {
            "backgroundcolor": "#E5ECF6",
            "gridcolor": "white",
            "gridwidth": 2,
            "linecolor": "white",
            "showbackground": true,
            "ticks": "",
            "zerolinecolor": "white"
           },
           "yaxis": {
            "backgroundcolor": "#E5ECF6",
            "gridcolor": "white",
            "gridwidth": 2,
            "linecolor": "white",
            "showbackground": true,
            "ticks": "",
            "zerolinecolor": "white"
           },
           "zaxis": {
            "backgroundcolor": "#E5ECF6",
            "gridcolor": "white",
            "gridwidth": 2,
            "linecolor": "white",
            "showbackground": true,
            "ticks": "",
            "zerolinecolor": "white"
           }
          },
          "shapedefaults": {
           "line": {
            "color": "#2a3f5f"
           }
          },
          "ternary": {
           "aaxis": {
            "gridcolor": "white",
            "linecolor": "white",
            "ticks": ""
           },
           "baxis": {
            "gridcolor": "white",
            "linecolor": "white",
            "ticks": ""
           },
           "bgcolor": "#E5ECF6",
           "caxis": {
            "gridcolor": "white",
            "linecolor": "white",
            "ticks": ""
           }
          },
          "title": {
           "x": 0.05
          },
          "xaxis": {
           "automargin": true,
           "gridcolor": "white",
           "linecolor": "white",
           "ticks": "",
           "title": {
            "standoff": 15
           },
           "zerolinecolor": "white",
           "zerolinewidth": 2
          },
          "yaxis": {
           "automargin": true,
           "gridcolor": "white",
           "linecolor": "white",
           "ticks": "",
           "title": {
            "standoff": 15
           },
           "zerolinecolor": "white",
           "zerolinewidth": 2
          }
         }
        },
        "title": {
         "text": "Conv. Transformer Prediction vs. Ground Truth for GAMMA"
        },
        "xaxis": {
         "title": {
          "text": "Time Step"
         }
        },
        "yaxis": {
         "title": {
          "text": "Value"
         }
        }
       }
      }
     },
     "metadata": {},
     "output_type": "display_data"
    },
    {
     "data": {
      "application/vnd.plotly.v1+json": {
       "config": {
        "plotlyServerURL": "https://plot.ly"
       },
       "data": [
        {
         "line": {
          "color": "blue"
         },
         "mode": "lines",
         "name": "GT",
         "type": "scatter",
         "y": [
          1.9584686756134033,
          1.8788272142410278,
          1.7865266799926758,
          1.6804310083389282,
          1.5594755411148071,
          1.4227873086929321,
          1.2698532342910767,
          1.1007308959960938,
          0.916271448135376,
          0.7183086276054382,
          0.5097424983978271,
          0.29444533586502075,
          0.07695852220058441,
          -0.1379714161157608,
          -0.3459077477455139,
          -0.5431489944458008,
          -1.6552159786224365,
          -1.7129429578781128,
          -1.7608036994934082,
          -1.799617052078247,
          -1.8301221132278442,
          -1.8529800176620483,
          -1.8687824010849,
          -1.8780570030212402,
          -1.8812750577926636,
          -1.878857135772705,
          -1.8711813688278198,
          -1.8585880994796753,
          -1.841384768486023,
          -1.8198511600494385,
          -1.7942430973052979,
          -1.7647953033447266,
          -1.358754277229309,
          -1.300978660583496,
          -1.2412035465240479,
          -1.1795638799667358,
          -1.1161892414093018,
          -1.0512094497680664,
          -0.9847517013549805,
          -0.9169415235519409,
          -0.8479031324386597,
          -0.7777596116065979,
          -0.7066325545310974,
          -0.6346425414085388,
          -0.5619089603424072,
          -0.4885500371456146,
          -0.41468241810798645,
          -0.34042200446128845
         ]
        },
        {
         "line": {
          "color": "red"
         },
         "mode": "lines",
         "name": "pred_beginning",
         "type": "scatter",
         "y": [
          1.1618114709854126,
          1.1270194053649902,
          1.1783840656280518,
          1.1437968015670776,
          1.122949242591858,
          1.204738736152649,
          1.2307844161987305,
          1.206068515777588,
          1.2015392780303955,
          1.1243644952774048,
          1.3473037481307983,
          1.2188776731491089,
          1.2179075479507446,
          1.2249919176101685,
          1.047290563583374,
          1.1320617198944092,
          -1.0870000123977661,
          -1.1505143642425537,
          -1.1654399633407593,
          -1.253430962562561,
          -1.1345893144607544,
          -1.1963653564453125,
          -1.069465160369873,
          -1.1532100439071655,
          -1.1959071159362793,
          -1.2672477960586548,
          -0.9935593605041504,
          -1.1909348964691162,
          -1.176019310951233,
          -1.1533719301223755,
          -1.0986260175704956,
          -1.1284244060516357,
          -1.0924192667007446,
          -1.0267765522003174,
          -0.8693796396255493,
          -1.0038303136825562,
          -1.0248275995254517,
          -0.9693766832351685,
          -1.0585187673568726,
          -0.9277632236480713,
          -0.9918793439865112,
          -0.8215434551239014,
          -1.0012104511260986,
          -0.869072675704956,
          -0.8483641147613525,
          -0.8233233094215393,
          -0.7586241960525513,
          -0.6900500059127808
         ]
        }
       ],
       "layout": {
        "template": {
         "data": {
          "bar": [
           {
            "error_x": {
             "color": "#2a3f5f"
            },
            "error_y": {
             "color": "#2a3f5f"
            },
            "marker": {
             "line": {
              "color": "#E5ECF6",
              "width": 0.5
             },
             "pattern": {
              "fillmode": "overlay",
              "size": 10,
              "solidity": 0.2
             }
            },
            "type": "bar"
           }
          ],
          "barpolar": [
           {
            "marker": {
             "line": {
              "color": "#E5ECF6",
              "width": 0.5
             },
             "pattern": {
              "fillmode": "overlay",
              "size": 10,
              "solidity": 0.2
             }
            },
            "type": "barpolar"
           }
          ],
          "carpet": [
           {
            "aaxis": {
             "endlinecolor": "#2a3f5f",
             "gridcolor": "white",
             "linecolor": "white",
             "minorgridcolor": "white",
             "startlinecolor": "#2a3f5f"
            },
            "baxis": {
             "endlinecolor": "#2a3f5f",
             "gridcolor": "white",
             "linecolor": "white",
             "minorgridcolor": "white",
             "startlinecolor": "#2a3f5f"
            },
            "type": "carpet"
           }
          ],
          "choropleth": [
           {
            "colorbar": {
             "outlinewidth": 0,
             "ticks": ""
            },
            "type": "choropleth"
           }
          ],
          "contour": [
           {
            "colorbar": {
             "outlinewidth": 0,
             "ticks": ""
            },
            "colorscale": [
             [
              0,
              "#0d0887"
             ],
             [
              0.1111111111111111,
              "#46039f"
             ],
             [
              0.2222222222222222,
              "#7201a8"
             ],
             [
              0.3333333333333333,
              "#9c179e"
             ],
             [
              0.4444444444444444,
              "#bd3786"
             ],
             [
              0.5555555555555556,
              "#d8576b"
             ],
             [
              0.6666666666666666,
              "#ed7953"
             ],
             [
              0.7777777777777778,
              "#fb9f3a"
             ],
             [
              0.8888888888888888,
              "#fdca26"
             ],
             [
              1,
              "#f0f921"
             ]
            ],
            "type": "contour"
           }
          ],
          "contourcarpet": [
           {
            "colorbar": {
             "outlinewidth": 0,
             "ticks": ""
            },
            "type": "contourcarpet"
           }
          ],
          "heatmap": [
           {
            "colorbar": {
             "outlinewidth": 0,
             "ticks": ""
            },
            "colorscale": [
             [
              0,
              "#0d0887"
             ],
             [
              0.1111111111111111,
              "#46039f"
             ],
             [
              0.2222222222222222,
              "#7201a8"
             ],
             [
              0.3333333333333333,
              "#9c179e"
             ],
             [
              0.4444444444444444,
              "#bd3786"
             ],
             [
              0.5555555555555556,
              "#d8576b"
             ],
             [
              0.6666666666666666,
              "#ed7953"
             ],
             [
              0.7777777777777778,
              "#fb9f3a"
             ],
             [
              0.8888888888888888,
              "#fdca26"
             ],
             [
              1,
              "#f0f921"
             ]
            ],
            "type": "heatmap"
           }
          ],
          "heatmapgl": [
           {
            "colorbar": {
             "outlinewidth": 0,
             "ticks": ""
            },
            "colorscale": [
             [
              0,
              "#0d0887"
             ],
             [
              0.1111111111111111,
              "#46039f"
             ],
             [
              0.2222222222222222,
              "#7201a8"
             ],
             [
              0.3333333333333333,
              "#9c179e"
             ],
             [
              0.4444444444444444,
              "#bd3786"
             ],
             [
              0.5555555555555556,
              "#d8576b"
             ],
             [
              0.6666666666666666,
              "#ed7953"
             ],
             [
              0.7777777777777778,
              "#fb9f3a"
             ],
             [
              0.8888888888888888,
              "#fdca26"
             ],
             [
              1,
              "#f0f921"
             ]
            ],
            "type": "heatmapgl"
           }
          ],
          "histogram": [
           {
            "marker": {
             "pattern": {
              "fillmode": "overlay",
              "size": 10,
              "solidity": 0.2
             }
            },
            "type": "histogram"
           }
          ],
          "histogram2d": [
           {
            "colorbar": {
             "outlinewidth": 0,
             "ticks": ""
            },
            "colorscale": [
             [
              0,
              "#0d0887"
             ],
             [
              0.1111111111111111,
              "#46039f"
             ],
             [
              0.2222222222222222,
              "#7201a8"
             ],
             [
              0.3333333333333333,
              "#9c179e"
             ],
             [
              0.4444444444444444,
              "#bd3786"
             ],
             [
              0.5555555555555556,
              "#d8576b"
             ],
             [
              0.6666666666666666,
              "#ed7953"
             ],
             [
              0.7777777777777778,
              "#fb9f3a"
             ],
             [
              0.8888888888888888,
              "#fdca26"
             ],
             [
              1,
              "#f0f921"
             ]
            ],
            "type": "histogram2d"
           }
          ],
          "histogram2dcontour": [
           {
            "colorbar": {
             "outlinewidth": 0,
             "ticks": ""
            },
            "colorscale": [
             [
              0,
              "#0d0887"
             ],
             [
              0.1111111111111111,
              "#46039f"
             ],
             [
              0.2222222222222222,
              "#7201a8"
             ],
             [
              0.3333333333333333,
              "#9c179e"
             ],
             [
              0.4444444444444444,
              "#bd3786"
             ],
             [
              0.5555555555555556,
              "#d8576b"
             ],
             [
              0.6666666666666666,
              "#ed7953"
             ],
             [
              0.7777777777777778,
              "#fb9f3a"
             ],
             [
              0.8888888888888888,
              "#fdca26"
             ],
             [
              1,
              "#f0f921"
             ]
            ],
            "type": "histogram2dcontour"
           }
          ],
          "mesh3d": [
           {
            "colorbar": {
             "outlinewidth": 0,
             "ticks": ""
            },
            "type": "mesh3d"
           }
          ],
          "parcoords": [
           {
            "line": {
             "colorbar": {
              "outlinewidth": 0,
              "ticks": ""
             }
            },
            "type": "parcoords"
           }
          ],
          "pie": [
           {
            "automargin": true,
            "type": "pie"
           }
          ],
          "scatter": [
           {
            "fillpattern": {
             "fillmode": "overlay",
             "size": 10,
             "solidity": 0.2
            },
            "type": "scatter"
           }
          ],
          "scatter3d": [
           {
            "line": {
             "colorbar": {
              "outlinewidth": 0,
              "ticks": ""
             }
            },
            "marker": {
             "colorbar": {
              "outlinewidth": 0,
              "ticks": ""
             }
            },
            "type": "scatter3d"
           }
          ],
          "scattercarpet": [
           {
            "marker": {
             "colorbar": {
              "outlinewidth": 0,
              "ticks": ""
             }
            },
            "type": "scattercarpet"
           }
          ],
          "scattergeo": [
           {
            "marker": {
             "colorbar": {
              "outlinewidth": 0,
              "ticks": ""
             }
            },
            "type": "scattergeo"
           }
          ],
          "scattergl": [
           {
            "marker": {
             "colorbar": {
              "outlinewidth": 0,
              "ticks": ""
             }
            },
            "type": "scattergl"
           }
          ],
          "scattermapbox": [
           {
            "marker": {
             "colorbar": {
              "outlinewidth": 0,
              "ticks": ""
             }
            },
            "type": "scattermapbox"
           }
          ],
          "scatterpolar": [
           {
            "marker": {
             "colorbar": {
              "outlinewidth": 0,
              "ticks": ""
             }
            },
            "type": "scatterpolar"
           }
          ],
          "scatterpolargl": [
           {
            "marker": {
             "colorbar": {
              "outlinewidth": 0,
              "ticks": ""
             }
            },
            "type": "scatterpolargl"
           }
          ],
          "scatterternary": [
           {
            "marker": {
             "colorbar": {
              "outlinewidth": 0,
              "ticks": ""
             }
            },
            "type": "scatterternary"
           }
          ],
          "surface": [
           {
            "colorbar": {
             "outlinewidth": 0,
             "ticks": ""
            },
            "colorscale": [
             [
              0,
              "#0d0887"
             ],
             [
              0.1111111111111111,
              "#46039f"
             ],
             [
              0.2222222222222222,
              "#7201a8"
             ],
             [
              0.3333333333333333,
              "#9c179e"
             ],
             [
              0.4444444444444444,
              "#bd3786"
             ],
             [
              0.5555555555555556,
              "#d8576b"
             ],
             [
              0.6666666666666666,
              "#ed7953"
             ],
             [
              0.7777777777777778,
              "#fb9f3a"
             ],
             [
              0.8888888888888888,
              "#fdca26"
             ],
             [
              1,
              "#f0f921"
             ]
            ],
            "type": "surface"
           }
          ],
          "table": [
           {
            "cells": {
             "fill": {
              "color": "#EBF0F8"
             },
             "line": {
              "color": "white"
             }
            },
            "header": {
             "fill": {
              "color": "#C8D4E3"
             },
             "line": {
              "color": "white"
             }
            },
            "type": "table"
           }
          ]
         },
         "layout": {
          "annotationdefaults": {
           "arrowcolor": "#2a3f5f",
           "arrowhead": 0,
           "arrowwidth": 1
          },
          "autotypenumbers": "strict",
          "coloraxis": {
           "colorbar": {
            "outlinewidth": 0,
            "ticks": ""
           }
          },
          "colorscale": {
           "diverging": [
            [
             0,
             "#8e0152"
            ],
            [
             0.1,
             "#c51b7d"
            ],
            [
             0.2,
             "#de77ae"
            ],
            [
             0.3,
             "#f1b6da"
            ],
            [
             0.4,
             "#fde0ef"
            ],
            [
             0.5,
             "#f7f7f7"
            ],
            [
             0.6,
             "#e6f5d0"
            ],
            [
             0.7,
             "#b8e186"
            ],
            [
             0.8,
             "#7fbc41"
            ],
            [
             0.9,
             "#4d9221"
            ],
            [
             1,
             "#276419"
            ]
           ],
           "sequential": [
            [
             0,
             "#0d0887"
            ],
            [
             0.1111111111111111,
             "#46039f"
            ],
            [
             0.2222222222222222,
             "#7201a8"
            ],
            [
             0.3333333333333333,
             "#9c179e"
            ],
            [
             0.4444444444444444,
             "#bd3786"
            ],
            [
             0.5555555555555556,
             "#d8576b"
            ],
            [
             0.6666666666666666,
             "#ed7953"
            ],
            [
             0.7777777777777778,
             "#fb9f3a"
            ],
            [
             0.8888888888888888,
             "#fdca26"
            ],
            [
             1,
             "#f0f921"
            ]
           ],
           "sequentialminus": [
            [
             0,
             "#0d0887"
            ],
            [
             0.1111111111111111,
             "#46039f"
            ],
            [
             0.2222222222222222,
             "#7201a8"
            ],
            [
             0.3333333333333333,
             "#9c179e"
            ],
            [
             0.4444444444444444,
             "#bd3786"
            ],
            [
             0.5555555555555556,
             "#d8576b"
            ],
            [
             0.6666666666666666,
             "#ed7953"
            ],
            [
             0.7777777777777778,
             "#fb9f3a"
            ],
            [
             0.8888888888888888,
             "#fdca26"
            ],
            [
             1,
             "#f0f921"
            ]
           ]
          },
          "colorway": [
           "#636efa",
           "#EF553B",
           "#00cc96",
           "#ab63fa",
           "#FFA15A",
           "#19d3f3",
           "#FF6692",
           "#B6E880",
           "#FF97FF",
           "#FECB52"
          ],
          "font": {
           "color": "#2a3f5f"
          },
          "geo": {
           "bgcolor": "white",
           "lakecolor": "white",
           "landcolor": "#E5ECF6",
           "showlakes": true,
           "showland": true,
           "subunitcolor": "white"
          },
          "hoverlabel": {
           "align": "left"
          },
          "hovermode": "closest",
          "mapbox": {
           "style": "light"
          },
          "paper_bgcolor": "white",
          "plot_bgcolor": "#E5ECF6",
          "polar": {
           "angularaxis": {
            "gridcolor": "white",
            "linecolor": "white",
            "ticks": ""
           },
           "bgcolor": "#E5ECF6",
           "radialaxis": {
            "gridcolor": "white",
            "linecolor": "white",
            "ticks": ""
           }
          },
          "scene": {
           "xaxis": {
            "backgroundcolor": "#E5ECF6",
            "gridcolor": "white",
            "gridwidth": 2,
            "linecolor": "white",
            "showbackground": true,
            "ticks": "",
            "zerolinecolor": "white"
           },
           "yaxis": {
            "backgroundcolor": "#E5ECF6",
            "gridcolor": "white",
            "gridwidth": 2,
            "linecolor": "white",
            "showbackground": true,
            "ticks": "",
            "zerolinecolor": "white"
           },
           "zaxis": {
            "backgroundcolor": "#E5ECF6",
            "gridcolor": "white",
            "gridwidth": 2,
            "linecolor": "white",
            "showbackground": true,
            "ticks": "",
            "zerolinecolor": "white"
           }
          },
          "shapedefaults": {
           "line": {
            "color": "#2a3f5f"
           }
          },
          "ternary": {
           "aaxis": {
            "gridcolor": "white",
            "linecolor": "white",
            "ticks": ""
           },
           "baxis": {
            "gridcolor": "white",
            "linecolor": "white",
            "ticks": ""
           },
           "bgcolor": "#E5ECF6",
           "caxis": {
            "gridcolor": "white",
            "linecolor": "white",
            "ticks": ""
           }
          },
          "title": {
           "x": 0.05
          },
          "xaxis": {
           "automargin": true,
           "gridcolor": "white",
           "linecolor": "white",
           "ticks": "",
           "title": {
            "standoff": 15
           },
           "zerolinecolor": "white",
           "zerolinewidth": 2
          },
          "yaxis": {
           "automargin": true,
           "gridcolor": "white",
           "linecolor": "white",
           "ticks": "",
           "title": {
            "standoff": 15
           },
           "zerolinecolor": "white",
           "zerolinewidth": 2
          }
         }
        },
        "title": {
         "text": "Conv. Transformer Prediction vs. Ground Truth for PITCH"
        },
        "xaxis": {
         "title": {
          "text": "Time Step"
         }
        },
        "yaxis": {
         "title": {
          "text": "Value"
         }
        }
       }
      }
     },
     "metadata": {},
     "output_type": "display_data"
    },
    {
     "data": {
      "application/vnd.plotly.v1+json": {
       "config": {
        "plotlyServerURL": "https://plot.ly"
       },
       "data": [
        {
         "line": {
          "color": "blue"
         },
         "mode": "lines",
         "name": "GT",
         "type": "scatter",
         "y": [
          1.7763568394002505e-15,
          1.7763568394002505e-15,
          1.7763568394002505e-15,
          1.7763568394002505e-15,
          1.7763568394002505e-15,
          1.7763568394002505e-15,
          1.7763568394002505e-15,
          1.7763568394002505e-15,
          1.7763568394002505e-15,
          1.7763568394002505e-15,
          1.7763568394002505e-15,
          1.7763568394002505e-15,
          1.7763568394002505e-15,
          1.7763568394002505e-15,
          1.7763568394002505e-15,
          1.7763568394002505e-15,
          1.7763568394002505e-15,
          1.7763568394002505e-15,
          1.7763568394002505e-15,
          1.7763568394002505e-15,
          1.7763568394002505e-15,
          1.7763568394002505e-15,
          1.7763568394002505e-15,
          1.7763568394002505e-15,
          1.7763568394002505e-15,
          1.7763568394002505e-15,
          1.7763568394002505e-15,
          1.7763568394002505e-15,
          1.7763568394002505e-15,
          1.7763568394002505e-15,
          1.7763568394002505e-15,
          1.7763568394002505e-15,
          1.7763568394002505e-15,
          1.7763568394002505e-15,
          1.7763568394002505e-15,
          1.7763568394002505e-15,
          1.7763568394002505e-15,
          1.7763568394002505e-15,
          1.7763568394002505e-15,
          1.7763568394002505e-15,
          1.7763568394002505e-15,
          1.7763568394002505e-15,
          1.7763568394002505e-15,
          1.7763568394002505e-15,
          1.7763568394002505e-15,
          1.7763568394002505e-15,
          1.7763568394002505e-15,
          1.7763568394002505e-15
         ]
        },
        {
         "line": {
          "color": "red"
         },
         "mode": "lines",
         "name": "pred_beginning",
         "type": "scatter",
         "y": [
          0.03159455955028534,
          -0.03938916325569153,
          -0.0007303319871425629,
          0.05274631083011627,
          0.04550766199827194,
          0.05167149379849434,
          0.07413671165704727,
          0.04171360284090042,
          0.023908331990242004,
          0.01148638129234314,
          0.06997370719909668,
          0.021138817071914673,
          0.029811173677444458,
          0.025002315640449524,
          -0.05856281518936157,
          -0.016397833824157715,
          -0.10448718070983887,
          -0.15644612908363342,
          -0.11939181387424469,
          -0.14555564522743225,
          -0.07866226136684418,
          -0.10846927016973495,
          -0.055368244647979736,
          -0.143475741147995,
          -0.15099698305130005,
          -0.19624781608581543,
          -0.0822538286447525,
          -0.1898912638425827,
          -0.1787557154893875,
          -0.23730172216892242,
          -0.1445033848285675,
          -0.2088853120803833,
          -0.06894253194332123,
          -0.13797807693481445,
          -0.1261664628982544,
          -0.09134937822818756,
          -0.046500012278556824,
          -0.08511693775653839,
          -0.035096198320388794,
          -0.13397753238677979,
          -0.11857637763023376,
          -0.18658754229545593,
          -0.09356967359781265,
          -0.17987164855003357,
          -0.1689174324274063,
          -0.23675568401813507,
          -0.19119444489479065,
          -0.2402903437614441
         ]
        }
       ],
       "layout": {
        "template": {
         "data": {
          "bar": [
           {
            "error_x": {
             "color": "#2a3f5f"
            },
            "error_y": {
             "color": "#2a3f5f"
            },
            "marker": {
             "line": {
              "color": "#E5ECF6",
              "width": 0.5
             },
             "pattern": {
              "fillmode": "overlay",
              "size": 10,
              "solidity": 0.2
             }
            },
            "type": "bar"
           }
          ],
          "barpolar": [
           {
            "marker": {
             "line": {
              "color": "#E5ECF6",
              "width": 0.5
             },
             "pattern": {
              "fillmode": "overlay",
              "size": 10,
              "solidity": 0.2
             }
            },
            "type": "barpolar"
           }
          ],
          "carpet": [
           {
            "aaxis": {
             "endlinecolor": "#2a3f5f",
             "gridcolor": "white",
             "linecolor": "white",
             "minorgridcolor": "white",
             "startlinecolor": "#2a3f5f"
            },
            "baxis": {
             "endlinecolor": "#2a3f5f",
             "gridcolor": "white",
             "linecolor": "white",
             "minorgridcolor": "white",
             "startlinecolor": "#2a3f5f"
            },
            "type": "carpet"
           }
          ],
          "choropleth": [
           {
            "colorbar": {
             "outlinewidth": 0,
             "ticks": ""
            },
            "type": "choropleth"
           }
          ],
          "contour": [
           {
            "colorbar": {
             "outlinewidth": 0,
             "ticks": ""
            },
            "colorscale": [
             [
              0,
              "#0d0887"
             ],
             [
              0.1111111111111111,
              "#46039f"
             ],
             [
              0.2222222222222222,
              "#7201a8"
             ],
             [
              0.3333333333333333,
              "#9c179e"
             ],
             [
              0.4444444444444444,
              "#bd3786"
             ],
             [
              0.5555555555555556,
              "#d8576b"
             ],
             [
              0.6666666666666666,
              "#ed7953"
             ],
             [
              0.7777777777777778,
              "#fb9f3a"
             ],
             [
              0.8888888888888888,
              "#fdca26"
             ],
             [
              1,
              "#f0f921"
             ]
            ],
            "type": "contour"
           }
          ],
          "contourcarpet": [
           {
            "colorbar": {
             "outlinewidth": 0,
             "ticks": ""
            },
            "type": "contourcarpet"
           }
          ],
          "heatmap": [
           {
            "colorbar": {
             "outlinewidth": 0,
             "ticks": ""
            },
            "colorscale": [
             [
              0,
              "#0d0887"
             ],
             [
              0.1111111111111111,
              "#46039f"
             ],
             [
              0.2222222222222222,
              "#7201a8"
             ],
             [
              0.3333333333333333,
              "#9c179e"
             ],
             [
              0.4444444444444444,
              "#bd3786"
             ],
             [
              0.5555555555555556,
              "#d8576b"
             ],
             [
              0.6666666666666666,
              "#ed7953"
             ],
             [
              0.7777777777777778,
              "#fb9f3a"
             ],
             [
              0.8888888888888888,
              "#fdca26"
             ],
             [
              1,
              "#f0f921"
             ]
            ],
            "type": "heatmap"
           }
          ],
          "heatmapgl": [
           {
            "colorbar": {
             "outlinewidth": 0,
             "ticks": ""
            },
            "colorscale": [
             [
              0,
              "#0d0887"
             ],
             [
              0.1111111111111111,
              "#46039f"
             ],
             [
              0.2222222222222222,
              "#7201a8"
             ],
             [
              0.3333333333333333,
              "#9c179e"
             ],
             [
              0.4444444444444444,
              "#bd3786"
             ],
             [
              0.5555555555555556,
              "#d8576b"
             ],
             [
              0.6666666666666666,
              "#ed7953"
             ],
             [
              0.7777777777777778,
              "#fb9f3a"
             ],
             [
              0.8888888888888888,
              "#fdca26"
             ],
             [
              1,
              "#f0f921"
             ]
            ],
            "type": "heatmapgl"
           }
          ],
          "histogram": [
           {
            "marker": {
             "pattern": {
              "fillmode": "overlay",
              "size": 10,
              "solidity": 0.2
             }
            },
            "type": "histogram"
           }
          ],
          "histogram2d": [
           {
            "colorbar": {
             "outlinewidth": 0,
             "ticks": ""
            },
            "colorscale": [
             [
              0,
              "#0d0887"
             ],
             [
              0.1111111111111111,
              "#46039f"
             ],
             [
              0.2222222222222222,
              "#7201a8"
             ],
             [
              0.3333333333333333,
              "#9c179e"
             ],
             [
              0.4444444444444444,
              "#bd3786"
             ],
             [
              0.5555555555555556,
              "#d8576b"
             ],
             [
              0.6666666666666666,
              "#ed7953"
             ],
             [
              0.7777777777777778,
              "#fb9f3a"
             ],
             [
              0.8888888888888888,
              "#fdca26"
             ],
             [
              1,
              "#f0f921"
             ]
            ],
            "type": "histogram2d"
           }
          ],
          "histogram2dcontour": [
           {
            "colorbar": {
             "outlinewidth": 0,
             "ticks": ""
            },
            "colorscale": [
             [
              0,
              "#0d0887"
             ],
             [
              0.1111111111111111,
              "#46039f"
             ],
             [
              0.2222222222222222,
              "#7201a8"
             ],
             [
              0.3333333333333333,
              "#9c179e"
             ],
             [
              0.4444444444444444,
              "#bd3786"
             ],
             [
              0.5555555555555556,
              "#d8576b"
             ],
             [
              0.6666666666666666,
              "#ed7953"
             ],
             [
              0.7777777777777778,
              "#fb9f3a"
             ],
             [
              0.8888888888888888,
              "#fdca26"
             ],
             [
              1,
              "#f0f921"
             ]
            ],
            "type": "histogram2dcontour"
           }
          ],
          "mesh3d": [
           {
            "colorbar": {
             "outlinewidth": 0,
             "ticks": ""
            },
            "type": "mesh3d"
           }
          ],
          "parcoords": [
           {
            "line": {
             "colorbar": {
              "outlinewidth": 0,
              "ticks": ""
             }
            },
            "type": "parcoords"
           }
          ],
          "pie": [
           {
            "automargin": true,
            "type": "pie"
           }
          ],
          "scatter": [
           {
            "fillpattern": {
             "fillmode": "overlay",
             "size": 10,
             "solidity": 0.2
            },
            "type": "scatter"
           }
          ],
          "scatter3d": [
           {
            "line": {
             "colorbar": {
              "outlinewidth": 0,
              "ticks": ""
             }
            },
            "marker": {
             "colorbar": {
              "outlinewidth": 0,
              "ticks": ""
             }
            },
            "type": "scatter3d"
           }
          ],
          "scattercarpet": [
           {
            "marker": {
             "colorbar": {
              "outlinewidth": 0,
              "ticks": ""
             }
            },
            "type": "scattercarpet"
           }
          ],
          "scattergeo": [
           {
            "marker": {
             "colorbar": {
              "outlinewidth": 0,
              "ticks": ""
             }
            },
            "type": "scattergeo"
           }
          ],
          "scattergl": [
           {
            "marker": {
             "colorbar": {
              "outlinewidth": 0,
              "ticks": ""
             }
            },
            "type": "scattergl"
           }
          ],
          "scattermapbox": [
           {
            "marker": {
             "colorbar": {
              "outlinewidth": 0,
              "ticks": ""
             }
            },
            "type": "scattermapbox"
           }
          ],
          "scatterpolar": [
           {
            "marker": {
             "colorbar": {
              "outlinewidth": 0,
              "ticks": ""
             }
            },
            "type": "scatterpolar"
           }
          ],
          "scatterpolargl": [
           {
            "marker": {
             "colorbar": {
              "outlinewidth": 0,
              "ticks": ""
             }
            },
            "type": "scatterpolargl"
           }
          ],
          "scatterternary": [
           {
            "marker": {
             "colorbar": {
              "outlinewidth": 0,
              "ticks": ""
             }
            },
            "type": "scatterternary"
           }
          ],
          "surface": [
           {
            "colorbar": {
             "outlinewidth": 0,
             "ticks": ""
            },
            "colorscale": [
             [
              0,
              "#0d0887"
             ],
             [
              0.1111111111111111,
              "#46039f"
             ],
             [
              0.2222222222222222,
              "#7201a8"
             ],
             [
              0.3333333333333333,
              "#9c179e"
             ],
             [
              0.4444444444444444,
              "#bd3786"
             ],
             [
              0.5555555555555556,
              "#d8576b"
             ],
             [
              0.6666666666666666,
              "#ed7953"
             ],
             [
              0.7777777777777778,
              "#fb9f3a"
             ],
             [
              0.8888888888888888,
              "#fdca26"
             ],
             [
              1,
              "#f0f921"
             ]
            ],
            "type": "surface"
           }
          ],
          "table": [
           {
            "cells": {
             "fill": {
              "color": "#EBF0F8"
             },
             "line": {
              "color": "white"
             }
            },
            "header": {
             "fill": {
              "color": "#C8D4E3"
             },
             "line": {
              "color": "white"
             }
            },
            "type": "table"
           }
          ]
         },
         "layout": {
          "annotationdefaults": {
           "arrowcolor": "#2a3f5f",
           "arrowhead": 0,
           "arrowwidth": 1
          },
          "autotypenumbers": "strict",
          "coloraxis": {
           "colorbar": {
            "outlinewidth": 0,
            "ticks": ""
           }
          },
          "colorscale": {
           "diverging": [
            [
             0,
             "#8e0152"
            ],
            [
             0.1,
             "#c51b7d"
            ],
            [
             0.2,
             "#de77ae"
            ],
            [
             0.3,
             "#f1b6da"
            ],
            [
             0.4,
             "#fde0ef"
            ],
            [
             0.5,
             "#f7f7f7"
            ],
            [
             0.6,
             "#e6f5d0"
            ],
            [
             0.7,
             "#b8e186"
            ],
            [
             0.8,
             "#7fbc41"
            ],
            [
             0.9,
             "#4d9221"
            ],
            [
             1,
             "#276419"
            ]
           ],
           "sequential": [
            [
             0,
             "#0d0887"
            ],
            [
             0.1111111111111111,
             "#46039f"
            ],
            [
             0.2222222222222222,
             "#7201a8"
            ],
            [
             0.3333333333333333,
             "#9c179e"
            ],
            [
             0.4444444444444444,
             "#bd3786"
            ],
            [
             0.5555555555555556,
             "#d8576b"
            ],
            [
             0.6666666666666666,
             "#ed7953"
            ],
            [
             0.7777777777777778,
             "#fb9f3a"
            ],
            [
             0.8888888888888888,
             "#fdca26"
            ],
            [
             1,
             "#f0f921"
            ]
           ],
           "sequentialminus": [
            [
             0,
             "#0d0887"
            ],
            [
             0.1111111111111111,
             "#46039f"
            ],
            [
             0.2222222222222222,
             "#7201a8"
            ],
            [
             0.3333333333333333,
             "#9c179e"
            ],
            [
             0.4444444444444444,
             "#bd3786"
            ],
            [
             0.5555555555555556,
             "#d8576b"
            ],
            [
             0.6666666666666666,
             "#ed7953"
            ],
            [
             0.7777777777777778,
             "#fb9f3a"
            ],
            [
             0.8888888888888888,
             "#fdca26"
            ],
            [
             1,
             "#f0f921"
            ]
           ]
          },
          "colorway": [
           "#636efa",
           "#EF553B",
           "#00cc96",
           "#ab63fa",
           "#FFA15A",
           "#19d3f3",
           "#FF6692",
           "#B6E880",
           "#FF97FF",
           "#FECB52"
          ],
          "font": {
           "color": "#2a3f5f"
          },
          "geo": {
           "bgcolor": "white",
           "lakecolor": "white",
           "landcolor": "#E5ECF6",
           "showlakes": true,
           "showland": true,
           "subunitcolor": "white"
          },
          "hoverlabel": {
           "align": "left"
          },
          "hovermode": "closest",
          "mapbox": {
           "style": "light"
          },
          "paper_bgcolor": "white",
          "plot_bgcolor": "#E5ECF6",
          "polar": {
           "angularaxis": {
            "gridcolor": "white",
            "linecolor": "white",
            "ticks": ""
           },
           "bgcolor": "#E5ECF6",
           "radialaxis": {
            "gridcolor": "white",
            "linecolor": "white",
            "ticks": ""
           }
          },
          "scene": {
           "xaxis": {
            "backgroundcolor": "#E5ECF6",
            "gridcolor": "white",
            "gridwidth": 2,
            "linecolor": "white",
            "showbackground": true,
            "ticks": "",
            "zerolinecolor": "white"
           },
           "yaxis": {
            "backgroundcolor": "#E5ECF6",
            "gridcolor": "white",
            "gridwidth": 2,
            "linecolor": "white",
            "showbackground": true,
            "ticks": "",
            "zerolinecolor": "white"
           },
           "zaxis": {
            "backgroundcolor": "#E5ECF6",
            "gridcolor": "white",
            "gridwidth": 2,
            "linecolor": "white",
            "showbackground": true,
            "ticks": "",
            "zerolinecolor": "white"
           }
          },
          "shapedefaults": {
           "line": {
            "color": "#2a3f5f"
           }
          },
          "ternary": {
           "aaxis": {
            "gridcolor": "white",
            "linecolor": "white",
            "ticks": ""
           },
           "baxis": {
            "gridcolor": "white",
            "linecolor": "white",
            "ticks": ""
           },
           "bgcolor": "#E5ECF6",
           "caxis": {
            "gridcolor": "white",
            "linecolor": "white",
            "ticks": ""
           }
          },
          "title": {
           "x": 0.05
          },
          "xaxis": {
           "automargin": true,
           "gridcolor": "white",
           "linecolor": "white",
           "ticks": "",
           "title": {
            "standoff": 15
           },
           "zerolinecolor": "white",
           "zerolinewidth": 2
          },
          "yaxis": {
           "automargin": true,
           "gridcolor": "white",
           "linecolor": "white",
           "ticks": "",
           "title": {
            "standoff": 15
           },
           "zerolinecolor": "white",
           "zerolinewidth": 2
          }
         }
        },
        "title": {
         "text": "Conv. Transformer Prediction vs. Ground Truth for GREF"
        },
        "xaxis": {
         "title": {
          "text": "Time Step"
         }
        },
        "yaxis": {
         "title": {
          "text": "Value"
         }
        }
       }
      }
     },
     "metadata": {},
     "output_type": "display_data"
    },
    {
     "data": {
      "application/vnd.plotly.v1+json": {
       "config": {
        "plotlyServerURL": "https://plot.ly"
       },
       "data": [
        {
         "line": {
          "color": "blue"
         },
         "mode": "lines",
         "name": "GT",
         "type": "scatter",
         "y": [
          -0.39490702748298645,
          -0.39490702748298645,
          -0.39490702748298645,
          -0.39490702748298645,
          -0.39490702748298645,
          -0.39490702748298645,
          -0.39490702748298645,
          -0.39490702748298645,
          -0.39490702748298645,
          -0.39490702748298645,
          -0.39490702748298645,
          -0.39490702748298645,
          -0.39490702748298645,
          -0.39490702748298645,
          -0.39490702748298645,
          -0.39490702748298645,
          -0.39490702748298645,
          -0.39490702748298645,
          -0.39490702748298645,
          -0.39490702748298645,
          -0.39490702748298645,
          -0.39490702748298645,
          -0.39490702748298645,
          -0.39490702748298645,
          -0.39490702748298645,
          -0.39490702748298645,
          -0.39490702748298645,
          -0.39490702748298645,
          -0.39490702748298645,
          -0.39490702748298645,
          -0.39490702748298645,
          -0.39490702748298645,
          -0.39490702748298645,
          -0.39490702748298645,
          -0.39490702748298645,
          -0.39490702748298645,
          -0.39490702748298645,
          -0.39490702748298645,
          -0.39490702748298645,
          -0.39490702748298645,
          -0.39490702748298645,
          -0.39490702748298645,
          -0.39490702748298645,
          -0.39490702748298645,
          -0.39490702748298645,
          -0.39490702748298645,
          -0.39490702748298645,
          -0.39490702748298645
         ]
        },
        {
         "line": {
          "color": "red"
         },
         "mode": "lines",
         "name": "pred_beginning",
         "type": "scatter",
         "y": [
          -0.9546573162078857,
          -1.0147253274917603,
          -1.0009973049163818,
          -0.9819068312644958,
          -0.9575988054275513,
          -0.9867066740989685,
          -0.9482770562171936,
          -0.9940372109413147,
          -1.0015509128570557,
          -1.02980637550354,
          -0.9561731815338135,
          -1.0069066286087036,
          -0.9881575703620911,
          -0.998891294002533,
          -1.0099875926971436,
          -0.988318681716919,
          -0.48026207089424133,
          -0.49020516872406006,
          -0.4259656071662903,
          -0.42307665944099426,
          -0.4303210377693176,
          -0.3991292417049408,
          -0.4236993193626404,
          -0.4734112620353699,
          -0.47719359397888184,
          -0.4447168707847595,
          -0.4515802264213562,
          -0.4729846715927124,
          -0.4578944146633148,
          -0.5038362741470337,
          -0.42640063166618347,
          -0.4362991750240326,
          -0.8082716464996338,
          -0.7899762392044067,
          -0.7228232622146606,
          -0.7486355900764465,
          -0.733269214630127,
          -0.7458969354629517,
          -0.7779567837715149,
          -0.7878475785255432,
          -0.7821229696273804,
          -0.7265940308570862,
          -0.8354649543762207,
          -0.776466429233551,
          -0.7583105564117432,
          -0.8205676674842834,
          -0.6978895664215088,
          -0.7210431098937988
         ]
        }
       ],
       "layout": {
        "template": {
         "data": {
          "bar": [
           {
            "error_x": {
             "color": "#2a3f5f"
            },
            "error_y": {
             "color": "#2a3f5f"
            },
            "marker": {
             "line": {
              "color": "#E5ECF6",
              "width": 0.5
             },
             "pattern": {
              "fillmode": "overlay",
              "size": 10,
              "solidity": 0.2
             }
            },
            "type": "bar"
           }
          ],
          "barpolar": [
           {
            "marker": {
             "line": {
              "color": "#E5ECF6",
              "width": 0.5
             },
             "pattern": {
              "fillmode": "overlay",
              "size": 10,
              "solidity": 0.2
             }
            },
            "type": "barpolar"
           }
          ],
          "carpet": [
           {
            "aaxis": {
             "endlinecolor": "#2a3f5f",
             "gridcolor": "white",
             "linecolor": "white",
             "minorgridcolor": "white",
             "startlinecolor": "#2a3f5f"
            },
            "baxis": {
             "endlinecolor": "#2a3f5f",
             "gridcolor": "white",
             "linecolor": "white",
             "minorgridcolor": "white",
             "startlinecolor": "#2a3f5f"
            },
            "type": "carpet"
           }
          ],
          "choropleth": [
           {
            "colorbar": {
             "outlinewidth": 0,
             "ticks": ""
            },
            "type": "choropleth"
           }
          ],
          "contour": [
           {
            "colorbar": {
             "outlinewidth": 0,
             "ticks": ""
            },
            "colorscale": [
             [
              0,
              "#0d0887"
             ],
             [
              0.1111111111111111,
              "#46039f"
             ],
             [
              0.2222222222222222,
              "#7201a8"
             ],
             [
              0.3333333333333333,
              "#9c179e"
             ],
             [
              0.4444444444444444,
              "#bd3786"
             ],
             [
              0.5555555555555556,
              "#d8576b"
             ],
             [
              0.6666666666666666,
              "#ed7953"
             ],
             [
              0.7777777777777778,
              "#fb9f3a"
             ],
             [
              0.8888888888888888,
              "#fdca26"
             ],
             [
              1,
              "#f0f921"
             ]
            ],
            "type": "contour"
           }
          ],
          "contourcarpet": [
           {
            "colorbar": {
             "outlinewidth": 0,
             "ticks": ""
            },
            "type": "contourcarpet"
           }
          ],
          "heatmap": [
           {
            "colorbar": {
             "outlinewidth": 0,
             "ticks": ""
            },
            "colorscale": [
             [
              0,
              "#0d0887"
             ],
             [
              0.1111111111111111,
              "#46039f"
             ],
             [
              0.2222222222222222,
              "#7201a8"
             ],
             [
              0.3333333333333333,
              "#9c179e"
             ],
             [
              0.4444444444444444,
              "#bd3786"
             ],
             [
              0.5555555555555556,
              "#d8576b"
             ],
             [
              0.6666666666666666,
              "#ed7953"
             ],
             [
              0.7777777777777778,
              "#fb9f3a"
             ],
             [
              0.8888888888888888,
              "#fdca26"
             ],
             [
              1,
              "#f0f921"
             ]
            ],
            "type": "heatmap"
           }
          ],
          "heatmapgl": [
           {
            "colorbar": {
             "outlinewidth": 0,
             "ticks": ""
            },
            "colorscale": [
             [
              0,
              "#0d0887"
             ],
             [
              0.1111111111111111,
              "#46039f"
             ],
             [
              0.2222222222222222,
              "#7201a8"
             ],
             [
              0.3333333333333333,
              "#9c179e"
             ],
             [
              0.4444444444444444,
              "#bd3786"
             ],
             [
              0.5555555555555556,
              "#d8576b"
             ],
             [
              0.6666666666666666,
              "#ed7953"
             ],
             [
              0.7777777777777778,
              "#fb9f3a"
             ],
             [
              0.8888888888888888,
              "#fdca26"
             ],
             [
              1,
              "#f0f921"
             ]
            ],
            "type": "heatmapgl"
           }
          ],
          "histogram": [
           {
            "marker": {
             "pattern": {
              "fillmode": "overlay",
              "size": 10,
              "solidity": 0.2
             }
            },
            "type": "histogram"
           }
          ],
          "histogram2d": [
           {
            "colorbar": {
             "outlinewidth": 0,
             "ticks": ""
            },
            "colorscale": [
             [
              0,
              "#0d0887"
             ],
             [
              0.1111111111111111,
              "#46039f"
             ],
             [
              0.2222222222222222,
              "#7201a8"
             ],
             [
              0.3333333333333333,
              "#9c179e"
             ],
             [
              0.4444444444444444,
              "#bd3786"
             ],
             [
              0.5555555555555556,
              "#d8576b"
             ],
             [
              0.6666666666666666,
              "#ed7953"
             ],
             [
              0.7777777777777778,
              "#fb9f3a"
             ],
             [
              0.8888888888888888,
              "#fdca26"
             ],
             [
              1,
              "#f0f921"
             ]
            ],
            "type": "histogram2d"
           }
          ],
          "histogram2dcontour": [
           {
            "colorbar": {
             "outlinewidth": 0,
             "ticks": ""
            },
            "colorscale": [
             [
              0,
              "#0d0887"
             ],
             [
              0.1111111111111111,
              "#46039f"
             ],
             [
              0.2222222222222222,
              "#7201a8"
             ],
             [
              0.3333333333333333,
              "#9c179e"
             ],
             [
              0.4444444444444444,
              "#bd3786"
             ],
             [
              0.5555555555555556,
              "#d8576b"
             ],
             [
              0.6666666666666666,
              "#ed7953"
             ],
             [
              0.7777777777777778,
              "#fb9f3a"
             ],
             [
              0.8888888888888888,
              "#fdca26"
             ],
             [
              1,
              "#f0f921"
             ]
            ],
            "type": "histogram2dcontour"
           }
          ],
          "mesh3d": [
           {
            "colorbar": {
             "outlinewidth": 0,
             "ticks": ""
            },
            "type": "mesh3d"
           }
          ],
          "parcoords": [
           {
            "line": {
             "colorbar": {
              "outlinewidth": 0,
              "ticks": ""
             }
            },
            "type": "parcoords"
           }
          ],
          "pie": [
           {
            "automargin": true,
            "type": "pie"
           }
          ],
          "scatter": [
           {
            "fillpattern": {
             "fillmode": "overlay",
             "size": 10,
             "solidity": 0.2
            },
            "type": "scatter"
           }
          ],
          "scatter3d": [
           {
            "line": {
             "colorbar": {
              "outlinewidth": 0,
              "ticks": ""
             }
            },
            "marker": {
             "colorbar": {
              "outlinewidth": 0,
              "ticks": ""
             }
            },
            "type": "scatter3d"
           }
          ],
          "scattercarpet": [
           {
            "marker": {
             "colorbar": {
              "outlinewidth": 0,
              "ticks": ""
             }
            },
            "type": "scattercarpet"
           }
          ],
          "scattergeo": [
           {
            "marker": {
             "colorbar": {
              "outlinewidth": 0,
              "ticks": ""
             }
            },
            "type": "scattergeo"
           }
          ],
          "scattergl": [
           {
            "marker": {
             "colorbar": {
              "outlinewidth": 0,
              "ticks": ""
             }
            },
            "type": "scattergl"
           }
          ],
          "scattermapbox": [
           {
            "marker": {
             "colorbar": {
              "outlinewidth": 0,
              "ticks": ""
             }
            },
            "type": "scattermapbox"
           }
          ],
          "scatterpolar": [
           {
            "marker": {
             "colorbar": {
              "outlinewidth": 0,
              "ticks": ""
             }
            },
            "type": "scatterpolar"
           }
          ],
          "scatterpolargl": [
           {
            "marker": {
             "colorbar": {
              "outlinewidth": 0,
              "ticks": ""
             }
            },
            "type": "scatterpolargl"
           }
          ],
          "scatterternary": [
           {
            "marker": {
             "colorbar": {
              "outlinewidth": 0,
              "ticks": ""
             }
            },
            "type": "scatterternary"
           }
          ],
          "surface": [
           {
            "colorbar": {
             "outlinewidth": 0,
             "ticks": ""
            },
            "colorscale": [
             [
              0,
              "#0d0887"
             ],
             [
              0.1111111111111111,
              "#46039f"
             ],
             [
              0.2222222222222222,
              "#7201a8"
             ],
             [
              0.3333333333333333,
              "#9c179e"
             ],
             [
              0.4444444444444444,
              "#bd3786"
             ],
             [
              0.5555555555555556,
              "#d8576b"
             ],
             [
              0.6666666666666666,
              "#ed7953"
             ],
             [
              0.7777777777777778,
              "#fb9f3a"
             ],
             [
              0.8888888888888888,
              "#fdca26"
             ],
             [
              1,
              "#f0f921"
             ]
            ],
            "type": "surface"
           }
          ],
          "table": [
           {
            "cells": {
             "fill": {
              "color": "#EBF0F8"
             },
             "line": {
              "color": "white"
             }
            },
            "header": {
             "fill": {
              "color": "#C8D4E3"
             },
             "line": {
              "color": "white"
             }
            },
            "type": "table"
           }
          ]
         },
         "layout": {
          "annotationdefaults": {
           "arrowcolor": "#2a3f5f",
           "arrowhead": 0,
           "arrowwidth": 1
          },
          "autotypenumbers": "strict",
          "coloraxis": {
           "colorbar": {
            "outlinewidth": 0,
            "ticks": ""
           }
          },
          "colorscale": {
           "diverging": [
            [
             0,
             "#8e0152"
            ],
            [
             0.1,
             "#c51b7d"
            ],
            [
             0.2,
             "#de77ae"
            ],
            [
             0.3,
             "#f1b6da"
            ],
            [
             0.4,
             "#fde0ef"
            ],
            [
             0.5,
             "#f7f7f7"
            ],
            [
             0.6,
             "#e6f5d0"
            ],
            [
             0.7,
             "#b8e186"
            ],
            [
             0.8,
             "#7fbc41"
            ],
            [
             0.9,
             "#4d9221"
            ],
            [
             1,
             "#276419"
            ]
           ],
           "sequential": [
            [
             0,
             "#0d0887"
            ],
            [
             0.1111111111111111,
             "#46039f"
            ],
            [
             0.2222222222222222,
             "#7201a8"
            ],
            [
             0.3333333333333333,
             "#9c179e"
            ],
            [
             0.4444444444444444,
             "#bd3786"
            ],
            [
             0.5555555555555556,
             "#d8576b"
            ],
            [
             0.6666666666666666,
             "#ed7953"
            ],
            [
             0.7777777777777778,
             "#fb9f3a"
            ],
            [
             0.8888888888888888,
             "#fdca26"
            ],
            [
             1,
             "#f0f921"
            ]
           ],
           "sequentialminus": [
            [
             0,
             "#0d0887"
            ],
            [
             0.1111111111111111,
             "#46039f"
            ],
            [
             0.2222222222222222,
             "#7201a8"
            ],
            [
             0.3333333333333333,
             "#9c179e"
            ],
            [
             0.4444444444444444,
             "#bd3786"
            ],
            [
             0.5555555555555556,
             "#d8576b"
            ],
            [
             0.6666666666666666,
             "#ed7953"
            ],
            [
             0.7777777777777778,
             "#fb9f3a"
            ],
            [
             0.8888888888888888,
             "#fdca26"
            ],
            [
             1,
             "#f0f921"
            ]
           ]
          },
          "colorway": [
           "#636efa",
           "#EF553B",
           "#00cc96",
           "#ab63fa",
           "#FFA15A",
           "#19d3f3",
           "#FF6692",
           "#B6E880",
           "#FF97FF",
           "#FECB52"
          ],
          "font": {
           "color": "#2a3f5f"
          },
          "geo": {
           "bgcolor": "white",
           "lakecolor": "white",
           "landcolor": "#E5ECF6",
           "showlakes": true,
           "showland": true,
           "subunitcolor": "white"
          },
          "hoverlabel": {
           "align": "left"
          },
          "hovermode": "closest",
          "mapbox": {
           "style": "light"
          },
          "paper_bgcolor": "white",
          "plot_bgcolor": "#E5ECF6",
          "polar": {
           "angularaxis": {
            "gridcolor": "white",
            "linecolor": "white",
            "ticks": ""
           },
           "bgcolor": "#E5ECF6",
           "radialaxis": {
            "gridcolor": "white",
            "linecolor": "white",
            "ticks": ""
           }
          },
          "scene": {
           "xaxis": {
            "backgroundcolor": "#E5ECF6",
            "gridcolor": "white",
            "gridwidth": 2,
            "linecolor": "white",
            "showbackground": true,
            "ticks": "",
            "zerolinecolor": "white"
           },
           "yaxis": {
            "backgroundcolor": "#E5ECF6",
            "gridcolor": "white",
            "gridwidth": 2,
            "linecolor": "white",
            "showbackground": true,
            "ticks": "",
            "zerolinecolor": "white"
           },
           "zaxis": {
            "backgroundcolor": "#E5ECF6",
            "gridcolor": "white",
            "gridwidth": 2,
            "linecolor": "white",
            "showbackground": true,
            "ticks": "",
            "zerolinecolor": "white"
           }
          },
          "shapedefaults": {
           "line": {
            "color": "#2a3f5f"
           }
          },
          "ternary": {
           "aaxis": {
            "gridcolor": "white",
            "linecolor": "white",
            "ticks": ""
           },
           "baxis": {
            "gridcolor": "white",
            "linecolor": "white",
            "ticks": ""
           },
           "bgcolor": "#E5ECF6",
           "caxis": {
            "gridcolor": "white",
            "linecolor": "white",
            "ticks": ""
           }
          },
          "title": {
           "x": 0.05
          },
          "xaxis": {
           "automargin": true,
           "gridcolor": "white",
           "linecolor": "white",
           "ticks": "",
           "title": {
            "standoff": 15
           },
           "zerolinecolor": "white",
           "zerolinewidth": 2
          },
          "yaxis": {
           "automargin": true,
           "gridcolor": "white",
           "linecolor": "white",
           "ticks": "",
           "title": {
            "standoff": 15
           },
           "zerolinecolor": "white",
           "zerolinewidth": 2
          }
         }
        },
        "title": {
         "text": "Conv. Transformer Prediction vs. Ground Truth for WXDT"
        },
        "xaxis": {
         "title": {
          "text": "Time Step"
         }
        },
        "yaxis": {
         "title": {
          "text": "Value"
         }
        }
       }
      }
     },
     "metadata": {},
     "output_type": "display_data"
    },
    {
     "data": {
      "application/vnd.plotly.v1+json": {
       "config": {
        "plotlyServerURL": "https://plot.ly"
       },
       "data": [
        {
         "line": {
          "color": "blue"
         },
         "mode": "lines",
         "name": "GT",
         "type": "scatter",
         "y": [
          -0.39490702748298645,
          -0.39490702748298645,
          -0.39490702748298645,
          -0.39490702748298645,
          -0.39490702748298645,
          -0.39490702748298645,
          -0.39490702748298645,
          -0.39490702748298645,
          -0.39490702748298645,
          -0.39490702748298645,
          -0.39490702748298645,
          -0.39490702748298645,
          -0.39490702748298645,
          -0.39490702748298645,
          -0.39490702748298645,
          -0.39490702748298645,
          -0.39490702748298645,
          -0.39490702748298645,
          -0.39490702748298645,
          -0.39490702748298645,
          -0.39490702748298645,
          -0.39490702748298645,
          -0.39490702748298645,
          -0.39490702748298645,
          -0.39490702748298645,
          -0.39490702748298645,
          -0.39490702748298645,
          -0.39490702748298645,
          -0.39490702748298645,
          -0.39490702748298645,
          -0.39490702748298645,
          -0.39490702748298645,
          -0.39490702748298645,
          -0.39490702748298645,
          -0.39490702748298645,
          -0.39490702748298645,
          -0.39490702748298645,
          -0.39490702748298645,
          -0.39490702748298645,
          -0.39490702748298645,
          -0.39490702748298645,
          -0.39490702748298645,
          -0.39490702748298645,
          -0.39490702748298645,
          -0.39490702748298645,
          -0.39490702748298645,
          -0.39490702748298645,
          -0.39490702748298645
         ]
        },
        {
         "line": {
          "color": "red"
         },
         "mode": "lines",
         "name": "pred_beginning",
         "type": "scatter",
         "y": [
          -0.9832541942596436,
          -1.0318466424942017,
          -1.0801663398742676,
          -1.038067102432251,
          -0.9812690019607544,
          -1.051777958869934,
          -0.9717416167259216,
          -1.037691593170166,
          -1.0429296493530273,
          -1.068029761314392,
          -0.9792341589927673,
          -1.0508285760879517,
          -1.0411330461502075,
          -1.032069444656372,
          -1.038343071937561,
          -1.0330477952957153,
          -0.40266847610473633,
          -0.4038649797439575,
          -0.36761578917503357,
          -0.3764471113681793,
          -0.3389815092086792,
          -0.35495343804359436,
          -0.3463616371154785,
          -0.4013495445251465,
          -0.4062698483467102,
          -0.3736705482006073,
          -0.38774001598358154,
          -0.41330260038375854,
          -0.4041726887226105,
          -0.45219939947128296,
          -0.3329136073589325,
          -0.3816053867340088,
          -0.6826043725013733,
          -0.7035428285598755,
          -0.6380722522735596,
          -0.6667420268058777,
          -0.6360295414924622,
          -0.6581689715385437,
          -0.6615200042724609,
          -0.7008786201477051,
          -0.6902570724487305,
          -0.6966133713722229,
          -0.7159820795059204,
          -0.712026834487915,
          -0.6903437972068787,
          -0.766188383102417,
          -0.6666296720504761,
          -0.6966116428375244
         ]
        }
       ],
       "layout": {
        "template": {
         "data": {
          "bar": [
           {
            "error_x": {
             "color": "#2a3f5f"
            },
            "error_y": {
             "color": "#2a3f5f"
            },
            "marker": {
             "line": {
              "color": "#E5ECF6",
              "width": 0.5
             },
             "pattern": {
              "fillmode": "overlay",
              "size": 10,
              "solidity": 0.2
             }
            },
            "type": "bar"
           }
          ],
          "barpolar": [
           {
            "marker": {
             "line": {
              "color": "#E5ECF6",
              "width": 0.5
             },
             "pattern": {
              "fillmode": "overlay",
              "size": 10,
              "solidity": 0.2
             }
            },
            "type": "barpolar"
           }
          ],
          "carpet": [
           {
            "aaxis": {
             "endlinecolor": "#2a3f5f",
             "gridcolor": "white",
             "linecolor": "white",
             "minorgridcolor": "white",
             "startlinecolor": "#2a3f5f"
            },
            "baxis": {
             "endlinecolor": "#2a3f5f",
             "gridcolor": "white",
             "linecolor": "white",
             "minorgridcolor": "white",
             "startlinecolor": "#2a3f5f"
            },
            "type": "carpet"
           }
          ],
          "choropleth": [
           {
            "colorbar": {
             "outlinewidth": 0,
             "ticks": ""
            },
            "type": "choropleth"
           }
          ],
          "contour": [
           {
            "colorbar": {
             "outlinewidth": 0,
             "ticks": ""
            },
            "colorscale": [
             [
              0,
              "#0d0887"
             ],
             [
              0.1111111111111111,
              "#46039f"
             ],
             [
              0.2222222222222222,
              "#7201a8"
             ],
             [
              0.3333333333333333,
              "#9c179e"
             ],
             [
              0.4444444444444444,
              "#bd3786"
             ],
             [
              0.5555555555555556,
              "#d8576b"
             ],
             [
              0.6666666666666666,
              "#ed7953"
             ],
             [
              0.7777777777777778,
              "#fb9f3a"
             ],
             [
              0.8888888888888888,
              "#fdca26"
             ],
             [
              1,
              "#f0f921"
             ]
            ],
            "type": "contour"
           }
          ],
          "contourcarpet": [
           {
            "colorbar": {
             "outlinewidth": 0,
             "ticks": ""
            },
            "type": "contourcarpet"
           }
          ],
          "heatmap": [
           {
            "colorbar": {
             "outlinewidth": 0,
             "ticks": ""
            },
            "colorscale": [
             [
              0,
              "#0d0887"
             ],
             [
              0.1111111111111111,
              "#46039f"
             ],
             [
              0.2222222222222222,
              "#7201a8"
             ],
             [
              0.3333333333333333,
              "#9c179e"
             ],
             [
              0.4444444444444444,
              "#bd3786"
             ],
             [
              0.5555555555555556,
              "#d8576b"
             ],
             [
              0.6666666666666666,
              "#ed7953"
             ],
             [
              0.7777777777777778,
              "#fb9f3a"
             ],
             [
              0.8888888888888888,
              "#fdca26"
             ],
             [
              1,
              "#f0f921"
             ]
            ],
            "type": "heatmap"
           }
          ],
          "heatmapgl": [
           {
            "colorbar": {
             "outlinewidth": 0,
             "ticks": ""
            },
            "colorscale": [
             [
              0,
              "#0d0887"
             ],
             [
              0.1111111111111111,
              "#46039f"
             ],
             [
              0.2222222222222222,
              "#7201a8"
             ],
             [
              0.3333333333333333,
              "#9c179e"
             ],
             [
              0.4444444444444444,
              "#bd3786"
             ],
             [
              0.5555555555555556,
              "#d8576b"
             ],
             [
              0.6666666666666666,
              "#ed7953"
             ],
             [
              0.7777777777777778,
              "#fb9f3a"
             ],
             [
              0.8888888888888888,
              "#fdca26"
             ],
             [
              1,
              "#f0f921"
             ]
            ],
            "type": "heatmapgl"
           }
          ],
          "histogram": [
           {
            "marker": {
             "pattern": {
              "fillmode": "overlay",
              "size": 10,
              "solidity": 0.2
             }
            },
            "type": "histogram"
           }
          ],
          "histogram2d": [
           {
            "colorbar": {
             "outlinewidth": 0,
             "ticks": ""
            },
            "colorscale": [
             [
              0,
              "#0d0887"
             ],
             [
              0.1111111111111111,
              "#46039f"
             ],
             [
              0.2222222222222222,
              "#7201a8"
             ],
             [
              0.3333333333333333,
              "#9c179e"
             ],
             [
              0.4444444444444444,
              "#bd3786"
             ],
             [
              0.5555555555555556,
              "#d8576b"
             ],
             [
              0.6666666666666666,
              "#ed7953"
             ],
             [
              0.7777777777777778,
              "#fb9f3a"
             ],
             [
              0.8888888888888888,
              "#fdca26"
             ],
             [
              1,
              "#f0f921"
             ]
            ],
            "type": "histogram2d"
           }
          ],
          "histogram2dcontour": [
           {
            "colorbar": {
             "outlinewidth": 0,
             "ticks": ""
            },
            "colorscale": [
             [
              0,
              "#0d0887"
             ],
             [
              0.1111111111111111,
              "#46039f"
             ],
             [
              0.2222222222222222,
              "#7201a8"
             ],
             [
              0.3333333333333333,
              "#9c179e"
             ],
             [
              0.4444444444444444,
              "#bd3786"
             ],
             [
              0.5555555555555556,
              "#d8576b"
             ],
             [
              0.6666666666666666,
              "#ed7953"
             ],
             [
              0.7777777777777778,
              "#fb9f3a"
             ],
             [
              0.8888888888888888,
              "#fdca26"
             ],
             [
              1,
              "#f0f921"
             ]
            ],
            "type": "histogram2dcontour"
           }
          ],
          "mesh3d": [
           {
            "colorbar": {
             "outlinewidth": 0,
             "ticks": ""
            },
            "type": "mesh3d"
           }
          ],
          "parcoords": [
           {
            "line": {
             "colorbar": {
              "outlinewidth": 0,
              "ticks": ""
             }
            },
            "type": "parcoords"
           }
          ],
          "pie": [
           {
            "automargin": true,
            "type": "pie"
           }
          ],
          "scatter": [
           {
            "fillpattern": {
             "fillmode": "overlay",
             "size": 10,
             "solidity": 0.2
            },
            "type": "scatter"
           }
          ],
          "scatter3d": [
           {
            "line": {
             "colorbar": {
              "outlinewidth": 0,
              "ticks": ""
             }
            },
            "marker": {
             "colorbar": {
              "outlinewidth": 0,
              "ticks": ""
             }
            },
            "type": "scatter3d"
           }
          ],
          "scattercarpet": [
           {
            "marker": {
             "colorbar": {
              "outlinewidth": 0,
              "ticks": ""
             }
            },
            "type": "scattercarpet"
           }
          ],
          "scattergeo": [
           {
            "marker": {
             "colorbar": {
              "outlinewidth": 0,
              "ticks": ""
             }
            },
            "type": "scattergeo"
           }
          ],
          "scattergl": [
           {
            "marker": {
             "colorbar": {
              "outlinewidth": 0,
              "ticks": ""
             }
            },
            "type": "scattergl"
           }
          ],
          "scattermapbox": [
           {
            "marker": {
             "colorbar": {
              "outlinewidth": 0,
              "ticks": ""
             }
            },
            "type": "scattermapbox"
           }
          ],
          "scatterpolar": [
           {
            "marker": {
             "colorbar": {
              "outlinewidth": 0,
              "ticks": ""
             }
            },
            "type": "scatterpolar"
           }
          ],
          "scatterpolargl": [
           {
            "marker": {
             "colorbar": {
              "outlinewidth": 0,
              "ticks": ""
             }
            },
            "type": "scatterpolargl"
           }
          ],
          "scatterternary": [
           {
            "marker": {
             "colorbar": {
              "outlinewidth": 0,
              "ticks": ""
             }
            },
            "type": "scatterternary"
           }
          ],
          "surface": [
           {
            "colorbar": {
             "outlinewidth": 0,
             "ticks": ""
            },
            "colorscale": [
             [
              0,
              "#0d0887"
             ],
             [
              0.1111111111111111,
              "#46039f"
             ],
             [
              0.2222222222222222,
              "#7201a8"
             ],
             [
              0.3333333333333333,
              "#9c179e"
             ],
             [
              0.4444444444444444,
              "#bd3786"
             ],
             [
              0.5555555555555556,
              "#d8576b"
             ],
             [
              0.6666666666666666,
              "#ed7953"
             ],
             [
              0.7777777777777778,
              "#fb9f3a"
             ],
             [
              0.8888888888888888,
              "#fdca26"
             ],
             [
              1,
              "#f0f921"
             ]
            ],
            "type": "surface"
           }
          ],
          "table": [
           {
            "cells": {
             "fill": {
              "color": "#EBF0F8"
             },
             "line": {
              "color": "white"
             }
            },
            "header": {
             "fill": {
              "color": "#C8D4E3"
             },
             "line": {
              "color": "white"
             }
            },
            "type": "table"
           }
          ]
         },
         "layout": {
          "annotationdefaults": {
           "arrowcolor": "#2a3f5f",
           "arrowhead": 0,
           "arrowwidth": 1
          },
          "autotypenumbers": "strict",
          "coloraxis": {
           "colorbar": {
            "outlinewidth": 0,
            "ticks": ""
           }
          },
          "colorscale": {
           "diverging": [
            [
             0,
             "#8e0152"
            ],
            [
             0.1,
             "#c51b7d"
            ],
            [
             0.2,
             "#de77ae"
            ],
            [
             0.3,
             "#f1b6da"
            ],
            [
             0.4,
             "#fde0ef"
            ],
            [
             0.5,
             "#f7f7f7"
            ],
            [
             0.6,
             "#e6f5d0"
            ],
            [
             0.7,
             "#b8e186"
            ],
            [
             0.8,
             "#7fbc41"
            ],
            [
             0.9,
             "#4d9221"
            ],
            [
             1,
             "#276419"
            ]
           ],
           "sequential": [
            [
             0,
             "#0d0887"
            ],
            [
             0.1111111111111111,
             "#46039f"
            ],
            [
             0.2222222222222222,
             "#7201a8"
            ],
            [
             0.3333333333333333,
             "#9c179e"
            ],
            [
             0.4444444444444444,
             "#bd3786"
            ],
            [
             0.5555555555555556,
             "#d8576b"
            ],
            [
             0.6666666666666666,
             "#ed7953"
            ],
            [
             0.7777777777777778,
             "#fb9f3a"
            ],
            [
             0.8888888888888888,
             "#fdca26"
            ],
            [
             1,
             "#f0f921"
            ]
           ],
           "sequentialminus": [
            [
             0,
             "#0d0887"
            ],
            [
             0.1111111111111111,
             "#46039f"
            ],
            [
             0.2222222222222222,
             "#7201a8"
            ],
            [
             0.3333333333333333,
             "#9c179e"
            ],
            [
             0.4444444444444444,
             "#bd3786"
            ],
            [
             0.5555555555555556,
             "#d8576b"
            ],
            [
             0.6666666666666666,
             "#ed7953"
            ],
            [
             0.7777777777777778,
             "#fb9f3a"
            ],
            [
             0.8888888888888888,
             "#fdca26"
            ],
            [
             1,
             "#f0f921"
            ]
           ]
          },
          "colorway": [
           "#636efa",
           "#EF553B",
           "#00cc96",
           "#ab63fa",
           "#FFA15A",
           "#19d3f3",
           "#FF6692",
           "#B6E880",
           "#FF97FF",
           "#FECB52"
          ],
          "font": {
           "color": "#2a3f5f"
          },
          "geo": {
           "bgcolor": "white",
           "lakecolor": "white",
           "landcolor": "#E5ECF6",
           "showlakes": true,
           "showland": true,
           "subunitcolor": "white"
          },
          "hoverlabel": {
           "align": "left"
          },
          "hovermode": "closest",
          "mapbox": {
           "style": "light"
          },
          "paper_bgcolor": "white",
          "plot_bgcolor": "#E5ECF6",
          "polar": {
           "angularaxis": {
            "gridcolor": "white",
            "linecolor": "white",
            "ticks": ""
           },
           "bgcolor": "#E5ECF6",
           "radialaxis": {
            "gridcolor": "white",
            "linecolor": "white",
            "ticks": ""
           }
          },
          "scene": {
           "xaxis": {
            "backgroundcolor": "#E5ECF6",
            "gridcolor": "white",
            "gridwidth": 2,
            "linecolor": "white",
            "showbackground": true,
            "ticks": "",
            "zerolinecolor": "white"
           },
           "yaxis": {
            "backgroundcolor": "#E5ECF6",
            "gridcolor": "white",
            "gridwidth": 2,
            "linecolor": "white",
            "showbackground": true,
            "ticks": "",
            "zerolinecolor": "white"
           },
           "zaxis": {
            "backgroundcolor": "#E5ECF6",
            "gridcolor": "white",
            "gridwidth": 2,
            "linecolor": "white",
            "showbackground": true,
            "ticks": "",
            "zerolinecolor": "white"
           }
          },
          "shapedefaults": {
           "line": {
            "color": "#2a3f5f"
           }
          },
          "ternary": {
           "aaxis": {
            "gridcolor": "white",
            "linecolor": "white",
            "ticks": ""
           },
           "baxis": {
            "gridcolor": "white",
            "linecolor": "white",
            "ticks": ""
           },
           "bgcolor": "#E5ECF6",
           "caxis": {
            "gridcolor": "white",
            "linecolor": "white",
            "ticks": ""
           }
          },
          "title": {
           "x": 0.05
          },
          "xaxis": {
           "automargin": true,
           "gridcolor": "white",
           "linecolor": "white",
           "ticks": "",
           "title": {
            "standoff": 15
           },
           "zerolinecolor": "white",
           "zerolinewidth": 2
          },
          "yaxis": {
           "automargin": true,
           "gridcolor": "white",
           "linecolor": "white",
           "ticks": "",
           "title": {
            "standoff": 15
           },
           "zerolinecolor": "white",
           "zerolinewidth": 2
          }
         }
        },
        "title": {
         "text": "Conv. Transformer Prediction vs. Ground Truth for WZ"
        },
        "xaxis": {
         "title": {
          "text": "Time Step"
         }
        },
        "yaxis": {
         "title": {
          "text": "Value"
         }
        }
       }
      }
     },
     "metadata": {},
     "output_type": "display_data"
    },
    {
     "data": {
      "application/vnd.plotly.v1+json": {
       "config": {
        "plotlyServerURL": "https://plot.ly"
       },
       "data": [
        {
         "line": {
          "color": "blue"
         },
         "mode": "lines",
         "name": "GT",
         "type": "scatter",
         "y": [
          -1.9358922243118286,
          -1.8426564931869507,
          -1.7335129976272583,
          -1.6057524681091309,
          -1.4564436674118042,
          -1.282624363899231,
          -1.081628680229187,
          -0.8515849709510803,
          -0.5920547842979431,
          -0.3047226667404175,
          0.006077756639569998,
          0.3332700729370117,
          0.6675854921340942,
          0.9987350106239319,
          1.316888451576233,
          1.613976001739502,
          3.0581233501434326,
          3.110036849975586,
          3.1479053497314453,
          3.173264265060425,
          3.1874313354492188,
          3.1915173530578613,
          3.186471700668335,
          3.1730873584747314,
          3.152038335800171,
          3.1238951683044434,
          3.0891432762145996,
          3.0481956005096436,
          3.001408100128174,
          2.949089527130127,
          2.891515016555786,
          2.828920841217041,
          2.072814464569092,
          1.9708341360092163,
          1.8659871816635132,
          1.7584941387176514,
          1.648585319519043,
          1.536502480506897,
          1.4224950075149536,
          1.3068220615386963,
          1.189751148223877,
          1.071556568145752,
          0.9525183439254761,
          0.8329205513000488,
          0.7130520343780518,
          0.5932005643844604,
          0.47365429997444153,
          0.35470086336135864
         ]
        },
        {
         "line": {
          "color": "red"
         },
         "mode": "lines",
         "name": "pred_beginning",
         "type": "scatter",
         "y": [
          -0.8197472095489502,
          -0.784736156463623,
          -0.7629249095916748,
          -0.6775999069213867,
          -0.7120904922485352,
          -0.7418715357780457,
          -0.7844485640525818,
          -0.6852651834487915,
          -0.7234941720962524,
          -0.5313948392868042,
          -0.8204231858253479,
          -0.6360055804252625,
          -0.635131299495697,
          -0.5790972709655762,
          -0.639180064201355,
          -0.5481022596359253,
          1.5164939165115356,
          1.5927919149398804,
          1.6046286821365356,
          1.5622276067733765,
          1.6407383680343628,
          1.6004079580307007,
          1.6161035299301147,
          1.5423556566238403,
          1.6017818450927734,
          1.5955376625061035,
          1.5348713397979736,
          1.5358996391296387,
          1.5208191871643066,
          1.3863681554794312,
          1.5643668174743652,
          1.4310319423675537,
          1.8272982835769653,
          1.711386799812317,
          1.4171091318130493,
          1.6749210357666016,
          1.960832953453064,
          1.5865082740783691,
          1.9178483486175537,
          1.602884292602539,
          1.6987594366073608,
          1.5078996419906616,
          1.6486808061599731,
          1.443110704421997,
          1.4041154384613037,
          1.2534160614013672,
          1.340794324874878,
          1.0831626653671265
         ]
        }
       ],
       "layout": {
        "template": {
         "data": {
          "bar": [
           {
            "error_x": {
             "color": "#2a3f5f"
            },
            "error_y": {
             "color": "#2a3f5f"
            },
            "marker": {
             "line": {
              "color": "#E5ECF6",
              "width": 0.5
             },
             "pattern": {
              "fillmode": "overlay",
              "size": 10,
              "solidity": 0.2
             }
            },
            "type": "bar"
           }
          ],
          "barpolar": [
           {
            "marker": {
             "line": {
              "color": "#E5ECF6",
              "width": 0.5
             },
             "pattern": {
              "fillmode": "overlay",
              "size": 10,
              "solidity": 0.2
             }
            },
            "type": "barpolar"
           }
          ],
          "carpet": [
           {
            "aaxis": {
             "endlinecolor": "#2a3f5f",
             "gridcolor": "white",
             "linecolor": "white",
             "minorgridcolor": "white",
             "startlinecolor": "#2a3f5f"
            },
            "baxis": {
             "endlinecolor": "#2a3f5f",
             "gridcolor": "white",
             "linecolor": "white",
             "minorgridcolor": "white",
             "startlinecolor": "#2a3f5f"
            },
            "type": "carpet"
           }
          ],
          "choropleth": [
           {
            "colorbar": {
             "outlinewidth": 0,
             "ticks": ""
            },
            "type": "choropleth"
           }
          ],
          "contour": [
           {
            "colorbar": {
             "outlinewidth": 0,
             "ticks": ""
            },
            "colorscale": [
             [
              0,
              "#0d0887"
             ],
             [
              0.1111111111111111,
              "#46039f"
             ],
             [
              0.2222222222222222,
              "#7201a8"
             ],
             [
              0.3333333333333333,
              "#9c179e"
             ],
             [
              0.4444444444444444,
              "#bd3786"
             ],
             [
              0.5555555555555556,
              "#d8576b"
             ],
             [
              0.6666666666666666,
              "#ed7953"
             ],
             [
              0.7777777777777778,
              "#fb9f3a"
             ],
             [
              0.8888888888888888,
              "#fdca26"
             ],
             [
              1,
              "#f0f921"
             ]
            ],
            "type": "contour"
           }
          ],
          "contourcarpet": [
           {
            "colorbar": {
             "outlinewidth": 0,
             "ticks": ""
            },
            "type": "contourcarpet"
           }
          ],
          "heatmap": [
           {
            "colorbar": {
             "outlinewidth": 0,
             "ticks": ""
            },
            "colorscale": [
             [
              0,
              "#0d0887"
             ],
             [
              0.1111111111111111,
              "#46039f"
             ],
             [
              0.2222222222222222,
              "#7201a8"
             ],
             [
              0.3333333333333333,
              "#9c179e"
             ],
             [
              0.4444444444444444,
              "#bd3786"
             ],
             [
              0.5555555555555556,
              "#d8576b"
             ],
             [
              0.6666666666666666,
              "#ed7953"
             ],
             [
              0.7777777777777778,
              "#fb9f3a"
             ],
             [
              0.8888888888888888,
              "#fdca26"
             ],
             [
              1,
              "#f0f921"
             ]
            ],
            "type": "heatmap"
           }
          ],
          "heatmapgl": [
           {
            "colorbar": {
             "outlinewidth": 0,
             "ticks": ""
            },
            "colorscale": [
             [
              0,
              "#0d0887"
             ],
             [
              0.1111111111111111,
              "#46039f"
             ],
             [
              0.2222222222222222,
              "#7201a8"
             ],
             [
              0.3333333333333333,
              "#9c179e"
             ],
             [
              0.4444444444444444,
              "#bd3786"
             ],
             [
              0.5555555555555556,
              "#d8576b"
             ],
             [
              0.6666666666666666,
              "#ed7953"
             ],
             [
              0.7777777777777778,
              "#fb9f3a"
             ],
             [
              0.8888888888888888,
              "#fdca26"
             ],
             [
              1,
              "#f0f921"
             ]
            ],
            "type": "heatmapgl"
           }
          ],
          "histogram": [
           {
            "marker": {
             "pattern": {
              "fillmode": "overlay",
              "size": 10,
              "solidity": 0.2
             }
            },
            "type": "histogram"
           }
          ],
          "histogram2d": [
           {
            "colorbar": {
             "outlinewidth": 0,
             "ticks": ""
            },
            "colorscale": [
             [
              0,
              "#0d0887"
             ],
             [
              0.1111111111111111,
              "#46039f"
             ],
             [
              0.2222222222222222,
              "#7201a8"
             ],
             [
              0.3333333333333333,
              "#9c179e"
             ],
             [
              0.4444444444444444,
              "#bd3786"
             ],
             [
              0.5555555555555556,
              "#d8576b"
             ],
             [
              0.6666666666666666,
              "#ed7953"
             ],
             [
              0.7777777777777778,
              "#fb9f3a"
             ],
             [
              0.8888888888888888,
              "#fdca26"
             ],
             [
              1,
              "#f0f921"
             ]
            ],
            "type": "histogram2d"
           }
          ],
          "histogram2dcontour": [
           {
            "colorbar": {
             "outlinewidth": 0,
             "ticks": ""
            },
            "colorscale": [
             [
              0,
              "#0d0887"
             ],
             [
              0.1111111111111111,
              "#46039f"
             ],
             [
              0.2222222222222222,
              "#7201a8"
             ],
             [
              0.3333333333333333,
              "#9c179e"
             ],
             [
              0.4444444444444444,
              "#bd3786"
             ],
             [
              0.5555555555555556,
              "#d8576b"
             ],
             [
              0.6666666666666666,
              "#ed7953"
             ],
             [
              0.7777777777777778,
              "#fb9f3a"
             ],
             [
              0.8888888888888888,
              "#fdca26"
             ],
             [
              1,
              "#f0f921"
             ]
            ],
            "type": "histogram2dcontour"
           }
          ],
          "mesh3d": [
           {
            "colorbar": {
             "outlinewidth": 0,
             "ticks": ""
            },
            "type": "mesh3d"
           }
          ],
          "parcoords": [
           {
            "line": {
             "colorbar": {
              "outlinewidth": 0,
              "ticks": ""
             }
            },
            "type": "parcoords"
           }
          ],
          "pie": [
           {
            "automargin": true,
            "type": "pie"
           }
          ],
          "scatter": [
           {
            "fillpattern": {
             "fillmode": "overlay",
             "size": 10,
             "solidity": 0.2
            },
            "type": "scatter"
           }
          ],
          "scatter3d": [
           {
            "line": {
             "colorbar": {
              "outlinewidth": 0,
              "ticks": ""
             }
            },
            "marker": {
             "colorbar": {
              "outlinewidth": 0,
              "ticks": ""
             }
            },
            "type": "scatter3d"
           }
          ],
          "scattercarpet": [
           {
            "marker": {
             "colorbar": {
              "outlinewidth": 0,
              "ticks": ""
             }
            },
            "type": "scattercarpet"
           }
          ],
          "scattergeo": [
           {
            "marker": {
             "colorbar": {
              "outlinewidth": 0,
              "ticks": ""
             }
            },
            "type": "scattergeo"
           }
          ],
          "scattergl": [
           {
            "marker": {
             "colorbar": {
              "outlinewidth": 0,
              "ticks": ""
             }
            },
            "type": "scattergl"
           }
          ],
          "scattermapbox": [
           {
            "marker": {
             "colorbar": {
              "outlinewidth": 0,
              "ticks": ""
             }
            },
            "type": "scattermapbox"
           }
          ],
          "scatterpolar": [
           {
            "marker": {
             "colorbar": {
              "outlinewidth": 0,
              "ticks": ""
             }
            },
            "type": "scatterpolar"
           }
          ],
          "scatterpolargl": [
           {
            "marker": {
             "colorbar": {
              "outlinewidth": 0,
              "ticks": ""
             }
            },
            "type": "scatterpolargl"
           }
          ],
          "scatterternary": [
           {
            "marker": {
             "colorbar": {
              "outlinewidth": 0,
              "ticks": ""
             }
            },
            "type": "scatterternary"
           }
          ],
          "surface": [
           {
            "colorbar": {
             "outlinewidth": 0,
             "ticks": ""
            },
            "colorscale": [
             [
              0,
              "#0d0887"
             ],
             [
              0.1111111111111111,
              "#46039f"
             ],
             [
              0.2222222222222222,
              "#7201a8"
             ],
             [
              0.3333333333333333,
              "#9c179e"
             ],
             [
              0.4444444444444444,
              "#bd3786"
             ],
             [
              0.5555555555555556,
              "#d8576b"
             ],
             [
              0.6666666666666666,
              "#ed7953"
             ],
             [
              0.7777777777777778,
              "#fb9f3a"
             ],
             [
              0.8888888888888888,
              "#fdca26"
             ],
             [
              1,
              "#f0f921"
             ]
            ],
            "type": "surface"
           }
          ],
          "table": [
           {
            "cells": {
             "fill": {
              "color": "#EBF0F8"
             },
             "line": {
              "color": "white"
             }
            },
            "header": {
             "fill": {
              "color": "#C8D4E3"
             },
             "line": {
              "color": "white"
             }
            },
            "type": "table"
           }
          ]
         },
         "layout": {
          "annotationdefaults": {
           "arrowcolor": "#2a3f5f",
           "arrowhead": 0,
           "arrowwidth": 1
          },
          "autotypenumbers": "strict",
          "coloraxis": {
           "colorbar": {
            "outlinewidth": 0,
            "ticks": ""
           }
          },
          "colorscale": {
           "diverging": [
            [
             0,
             "#8e0152"
            ],
            [
             0.1,
             "#c51b7d"
            ],
            [
             0.2,
             "#de77ae"
            ],
            [
             0.3,
             "#f1b6da"
            ],
            [
             0.4,
             "#fde0ef"
            ],
            [
             0.5,
             "#f7f7f7"
            ],
            [
             0.6,
             "#e6f5d0"
            ],
            [
             0.7,
             "#b8e186"
            ],
            [
             0.8,
             "#7fbc41"
            ],
            [
             0.9,
             "#4d9221"
            ],
            [
             1,
             "#276419"
            ]
           ],
           "sequential": [
            [
             0,
             "#0d0887"
            ],
            [
             0.1111111111111111,
             "#46039f"
            ],
            [
             0.2222222222222222,
             "#7201a8"
            ],
            [
             0.3333333333333333,
             "#9c179e"
            ],
            [
             0.4444444444444444,
             "#bd3786"
            ],
            [
             0.5555555555555556,
             "#d8576b"
            ],
            [
             0.6666666666666666,
             "#ed7953"
            ],
            [
             0.7777777777777778,
             "#fb9f3a"
            ],
            [
             0.8888888888888888,
             "#fdca26"
            ],
            [
             1,
             "#f0f921"
            ]
           ],
           "sequentialminus": [
            [
             0,
             "#0d0887"
            ],
            [
             0.1111111111111111,
             "#46039f"
            ],
            [
             0.2222222222222222,
             "#7201a8"
            ],
            [
             0.3333333333333333,
             "#9c179e"
            ],
            [
             0.4444444444444444,
             "#bd3786"
            ],
            [
             0.5555555555555556,
             "#d8576b"
            ],
            [
             0.6666666666666666,
             "#ed7953"
            ],
            [
             0.7777777777777778,
             "#fb9f3a"
            ],
            [
             0.8888888888888888,
             "#fdca26"
            ],
            [
             1,
             "#f0f921"
            ]
           ]
          },
          "colorway": [
           "#636efa",
           "#EF553B",
           "#00cc96",
           "#ab63fa",
           "#FFA15A",
           "#19d3f3",
           "#FF6692",
           "#B6E880",
           "#FF97FF",
           "#FECB52"
          ],
          "font": {
           "color": "#2a3f5f"
          },
          "geo": {
           "bgcolor": "white",
           "lakecolor": "white",
           "landcolor": "#E5ECF6",
           "showlakes": true,
           "showland": true,
           "subunitcolor": "white"
          },
          "hoverlabel": {
           "align": "left"
          },
          "hovermode": "closest",
          "mapbox": {
           "style": "light"
          },
          "paper_bgcolor": "white",
          "plot_bgcolor": "#E5ECF6",
          "polar": {
           "angularaxis": {
            "gridcolor": "white",
            "linecolor": "white",
            "ticks": ""
           },
           "bgcolor": "#E5ECF6",
           "radialaxis": {
            "gridcolor": "white",
            "linecolor": "white",
            "ticks": ""
           }
          },
          "scene": {
           "xaxis": {
            "backgroundcolor": "#E5ECF6",
            "gridcolor": "white",
            "gridwidth": 2,
            "linecolor": "white",
            "showbackground": true,
            "ticks": "",
            "zerolinecolor": "white"
           },
           "yaxis": {
            "backgroundcolor": "#E5ECF6",
            "gridcolor": "white",
            "gridwidth": 2,
            "linecolor": "white",
            "showbackground": true,
            "ticks": "",
            "zerolinecolor": "white"
           },
           "zaxis": {
            "backgroundcolor": "#E5ECF6",
            "gridcolor": "white",
            "gridwidth": 2,
            "linecolor": "white",
            "showbackground": true,
            "ticks": "",
            "zerolinecolor": "white"
           }
          },
          "shapedefaults": {
           "line": {
            "color": "#2a3f5f"
           }
          },
          "ternary": {
           "aaxis": {
            "gridcolor": "white",
            "linecolor": "white",
            "ticks": ""
           },
           "baxis": {
            "gridcolor": "white",
            "linecolor": "white",
            "ticks": ""
           },
           "bgcolor": "#E5ECF6",
           "caxis": {
            "gridcolor": "white",
            "linecolor": "white",
            "ticks": ""
           }
          },
          "title": {
           "x": 0.05
          },
          "xaxis": {
           "automargin": true,
           "gridcolor": "white",
           "linecolor": "white",
           "ticks": "",
           "title": {
            "standoff": 15
           },
           "zerolinecolor": "white",
           "zerolinewidth": 2
          },
          "yaxis": {
           "automargin": true,
           "gridcolor": "white",
           "linecolor": "white",
           "ticks": "",
           "title": {
            "standoff": 15
           },
           "zerolinecolor": "white",
           "zerolinewidth": 2
          }
         }
        },
        "title": {
         "text": "Conv. Transformer Prediction vs. Ground Truth for VDOT"
        },
        "xaxis": {
         "title": {
          "text": "Time Step"
         }
        },
        "yaxis": {
         "title": {
          "text": "Value"
         }
        }
       }
      }
     },
     "metadata": {},
     "output_type": "display_data"
    },
    {
     "data": {
      "application/vnd.plotly.v1+json": {
       "config": {
        "plotlyServerURL": "https://plot.ly"
       },
       "data": [
        {
         "line": {
          "color": "blue"
         },
         "mode": "lines",
         "name": "GT",
         "type": "scatter",
         "y": [
          0,
          0,
          0,
          0,
          0,
          0,
          0,
          0,
          0,
          0,
          0,
          0,
          0,
          0,
          0,
          0,
          0,
          0,
          0,
          0,
          0,
          0,
          0,
          0,
          0,
          0,
          0,
          0,
          0,
          0,
          0,
          0,
          0,
          0,
          0,
          0,
          0,
          0,
          0,
          0,
          0,
          0,
          0,
          0,
          0,
          0,
          0,
          0
         ]
        },
        {
         "line": {
          "color": "red"
         },
         "mode": "lines",
         "name": "pred_beginning",
         "type": "scatter",
         "y": [
          -0.020378336310386658,
          -0.09542104601860046,
          -0.057884424924850464,
          0.0024359971284866333,
          -0.0020714029669761658,
          -0.010327115654945374,
          0.011372379958629608,
          -0.011841058731079102,
          -0.02770063281059265,
          -0.039133138954639435,
          -0.008972671814262867,
          -0.036429159343242645,
          -0.027302756905555725,
          -0.035702794790267944,
          -0.11601367592811584,
          -0.07850980758666992,
          0.11099690198898315,
          0.020307153463363647,
          0.06829874217510223,
          0.06526975333690643,
          0.11252766847610474,
          0.10173828899860382,
          0.1538994461297989,
          0.04312784969806671,
          0.04499903321266174,
          -0.049879588186740875,
          0.12171328067779541,
          -0.018526218831539154,
          -0.003689780831336975,
          -0.07723645865917206,
          -0.027157068252563477,
          -0.082233726978302,
          -0.14291810989379883,
          -0.20830658078193665,
          -0.14942775666713715,
          -0.14617446064949036,
          -0.12917089462280273,
          -0.13205687701702118,
          -0.11600750684738159,
          -0.17198508977890015,
          -0.16991932690143585,
          -0.21929627656936646,
          -0.14830970764160156,
          -0.20492443442344666,
          -0.18860742449760437,
          -0.24568143486976624,
          -0.2254173457622528,
          -0.2406245470046997
         ]
        }
       ],
       "layout": {
        "template": {
         "data": {
          "bar": [
           {
            "error_x": {
             "color": "#2a3f5f"
            },
            "error_y": {
             "color": "#2a3f5f"
            },
            "marker": {
             "line": {
              "color": "#E5ECF6",
              "width": 0.5
             },
             "pattern": {
              "fillmode": "overlay",
              "size": 10,
              "solidity": 0.2
             }
            },
            "type": "bar"
           }
          ],
          "barpolar": [
           {
            "marker": {
             "line": {
              "color": "#E5ECF6",
              "width": 0.5
             },
             "pattern": {
              "fillmode": "overlay",
              "size": 10,
              "solidity": 0.2
             }
            },
            "type": "barpolar"
           }
          ],
          "carpet": [
           {
            "aaxis": {
             "endlinecolor": "#2a3f5f",
             "gridcolor": "white",
             "linecolor": "white",
             "minorgridcolor": "white",
             "startlinecolor": "#2a3f5f"
            },
            "baxis": {
             "endlinecolor": "#2a3f5f",
             "gridcolor": "white",
             "linecolor": "white",
             "minorgridcolor": "white",
             "startlinecolor": "#2a3f5f"
            },
            "type": "carpet"
           }
          ],
          "choropleth": [
           {
            "colorbar": {
             "outlinewidth": 0,
             "ticks": ""
            },
            "type": "choropleth"
           }
          ],
          "contour": [
           {
            "colorbar": {
             "outlinewidth": 0,
             "ticks": ""
            },
            "colorscale": [
             [
              0,
              "#0d0887"
             ],
             [
              0.1111111111111111,
              "#46039f"
             ],
             [
              0.2222222222222222,
              "#7201a8"
             ],
             [
              0.3333333333333333,
              "#9c179e"
             ],
             [
              0.4444444444444444,
              "#bd3786"
             ],
             [
              0.5555555555555556,
              "#d8576b"
             ],
             [
              0.6666666666666666,
              "#ed7953"
             ],
             [
              0.7777777777777778,
              "#fb9f3a"
             ],
             [
              0.8888888888888888,
              "#fdca26"
             ],
             [
              1,
              "#f0f921"
             ]
            ],
            "type": "contour"
           }
          ],
          "contourcarpet": [
           {
            "colorbar": {
             "outlinewidth": 0,
             "ticks": ""
            },
            "type": "contourcarpet"
           }
          ],
          "heatmap": [
           {
            "colorbar": {
             "outlinewidth": 0,
             "ticks": ""
            },
            "colorscale": [
             [
              0,
              "#0d0887"
             ],
             [
              0.1111111111111111,
              "#46039f"
             ],
             [
              0.2222222222222222,
              "#7201a8"
             ],
             [
              0.3333333333333333,
              "#9c179e"
             ],
             [
              0.4444444444444444,
              "#bd3786"
             ],
             [
              0.5555555555555556,
              "#d8576b"
             ],
             [
              0.6666666666666666,
              "#ed7953"
             ],
             [
              0.7777777777777778,
              "#fb9f3a"
             ],
             [
              0.8888888888888888,
              "#fdca26"
             ],
             [
              1,
              "#f0f921"
             ]
            ],
            "type": "heatmap"
           }
          ],
          "heatmapgl": [
           {
            "colorbar": {
             "outlinewidth": 0,
             "ticks": ""
            },
            "colorscale": [
             [
              0,
              "#0d0887"
             ],
             [
              0.1111111111111111,
              "#46039f"
             ],
             [
              0.2222222222222222,
              "#7201a8"
             ],
             [
              0.3333333333333333,
              "#9c179e"
             ],
             [
              0.4444444444444444,
              "#bd3786"
             ],
             [
              0.5555555555555556,
              "#d8576b"
             ],
             [
              0.6666666666666666,
              "#ed7953"
             ],
             [
              0.7777777777777778,
              "#fb9f3a"
             ],
             [
              0.8888888888888888,
              "#fdca26"
             ],
             [
              1,
              "#f0f921"
             ]
            ],
            "type": "heatmapgl"
           }
          ],
          "histogram": [
           {
            "marker": {
             "pattern": {
              "fillmode": "overlay",
              "size": 10,
              "solidity": 0.2
             }
            },
            "type": "histogram"
           }
          ],
          "histogram2d": [
           {
            "colorbar": {
             "outlinewidth": 0,
             "ticks": ""
            },
            "colorscale": [
             [
              0,
              "#0d0887"
             ],
             [
              0.1111111111111111,
              "#46039f"
             ],
             [
              0.2222222222222222,
              "#7201a8"
             ],
             [
              0.3333333333333333,
              "#9c179e"
             ],
             [
              0.4444444444444444,
              "#bd3786"
             ],
             [
              0.5555555555555556,
              "#d8576b"
             ],
             [
              0.6666666666666666,
              "#ed7953"
             ],
             [
              0.7777777777777778,
              "#fb9f3a"
             ],
             [
              0.8888888888888888,
              "#fdca26"
             ],
             [
              1,
              "#f0f921"
             ]
            ],
            "type": "histogram2d"
           }
          ],
          "histogram2dcontour": [
           {
            "colorbar": {
             "outlinewidth": 0,
             "ticks": ""
            },
            "colorscale": [
             [
              0,
              "#0d0887"
             ],
             [
              0.1111111111111111,
              "#46039f"
             ],
             [
              0.2222222222222222,
              "#7201a8"
             ],
             [
              0.3333333333333333,
              "#9c179e"
             ],
             [
              0.4444444444444444,
              "#bd3786"
             ],
             [
              0.5555555555555556,
              "#d8576b"
             ],
             [
              0.6666666666666666,
              "#ed7953"
             ],
             [
              0.7777777777777778,
              "#fb9f3a"
             ],
             [
              0.8888888888888888,
              "#fdca26"
             ],
             [
              1,
              "#f0f921"
             ]
            ],
            "type": "histogram2dcontour"
           }
          ],
          "mesh3d": [
           {
            "colorbar": {
             "outlinewidth": 0,
             "ticks": ""
            },
            "type": "mesh3d"
           }
          ],
          "parcoords": [
           {
            "line": {
             "colorbar": {
              "outlinewidth": 0,
              "ticks": ""
             }
            },
            "type": "parcoords"
           }
          ],
          "pie": [
           {
            "automargin": true,
            "type": "pie"
           }
          ],
          "scatter": [
           {
            "fillpattern": {
             "fillmode": "overlay",
             "size": 10,
             "solidity": 0.2
            },
            "type": "scatter"
           }
          ],
          "scatter3d": [
           {
            "line": {
             "colorbar": {
              "outlinewidth": 0,
              "ticks": ""
             }
            },
            "marker": {
             "colorbar": {
              "outlinewidth": 0,
              "ticks": ""
             }
            },
            "type": "scatter3d"
           }
          ],
          "scattercarpet": [
           {
            "marker": {
             "colorbar": {
              "outlinewidth": 0,
              "ticks": ""
             }
            },
            "type": "scattercarpet"
           }
          ],
          "scattergeo": [
           {
            "marker": {
             "colorbar": {
              "outlinewidth": 0,
              "ticks": ""
             }
            },
            "type": "scattergeo"
           }
          ],
          "scattergl": [
           {
            "marker": {
             "colorbar": {
              "outlinewidth": 0,
              "ticks": ""
             }
            },
            "type": "scattergl"
           }
          ],
          "scattermapbox": [
           {
            "marker": {
             "colorbar": {
              "outlinewidth": 0,
              "ticks": ""
             }
            },
            "type": "scattermapbox"
           }
          ],
          "scatterpolar": [
           {
            "marker": {
             "colorbar": {
              "outlinewidth": 0,
              "ticks": ""
             }
            },
            "type": "scatterpolar"
           }
          ],
          "scatterpolargl": [
           {
            "marker": {
             "colorbar": {
              "outlinewidth": 0,
              "ticks": ""
             }
            },
            "type": "scatterpolargl"
           }
          ],
          "scatterternary": [
           {
            "marker": {
             "colorbar": {
              "outlinewidth": 0,
              "ticks": ""
             }
            },
            "type": "scatterternary"
           }
          ],
          "surface": [
           {
            "colorbar": {
             "outlinewidth": 0,
             "ticks": ""
            },
            "colorscale": [
             [
              0,
              "#0d0887"
             ],
             [
              0.1111111111111111,
              "#46039f"
             ],
             [
              0.2222222222222222,
              "#7201a8"
             ],
             [
              0.3333333333333333,
              "#9c179e"
             ],
             [
              0.4444444444444444,
              "#bd3786"
             ],
             [
              0.5555555555555556,
              "#d8576b"
             ],
             [
              0.6666666666666666,
              "#ed7953"
             ],
             [
              0.7777777777777778,
              "#fb9f3a"
             ],
             [
              0.8888888888888888,
              "#fdca26"
             ],
             [
              1,
              "#f0f921"
             ]
            ],
            "type": "surface"
           }
          ],
          "table": [
           {
            "cells": {
             "fill": {
              "color": "#EBF0F8"
             },
             "line": {
              "color": "white"
             }
            },
            "header": {
             "fill": {
              "color": "#C8D4E3"
             },
             "line": {
              "color": "white"
             }
            },
            "type": "table"
           }
          ]
         },
         "layout": {
          "annotationdefaults": {
           "arrowcolor": "#2a3f5f",
           "arrowhead": 0,
           "arrowwidth": 1
          },
          "autotypenumbers": "strict",
          "coloraxis": {
           "colorbar": {
            "outlinewidth": 0,
            "ticks": ""
           }
          },
          "colorscale": {
           "diverging": [
            [
             0,
             "#8e0152"
            ],
            [
             0.1,
             "#c51b7d"
            ],
            [
             0.2,
             "#de77ae"
            ],
            [
             0.3,
             "#f1b6da"
            ],
            [
             0.4,
             "#fde0ef"
            ],
            [
             0.5,
             "#f7f7f7"
            ],
            [
             0.6,
             "#e6f5d0"
            ],
            [
             0.7,
             "#b8e186"
            ],
            [
             0.8,
             "#7fbc41"
            ],
            [
             0.9,
             "#4d9221"
            ],
            [
             1,
             "#276419"
            ]
           ],
           "sequential": [
            [
             0,
             "#0d0887"
            ],
            [
             0.1111111111111111,
             "#46039f"
            ],
            [
             0.2222222222222222,
             "#7201a8"
            ],
            [
             0.3333333333333333,
             "#9c179e"
            ],
            [
             0.4444444444444444,
             "#bd3786"
            ],
            [
             0.5555555555555556,
             "#d8576b"
            ],
            [
             0.6666666666666666,
             "#ed7953"
            ],
            [
             0.7777777777777778,
             "#fb9f3a"
            ],
            [
             0.8888888888888888,
             "#fdca26"
            ],
            [
             1,
             "#f0f921"
            ]
           ],
           "sequentialminus": [
            [
             0,
             "#0d0887"
            ],
            [
             0.1111111111111111,
             "#46039f"
            ],
            [
             0.2222222222222222,
             "#7201a8"
            ],
            [
             0.3333333333333333,
             "#9c179e"
            ],
            [
             0.4444444444444444,
             "#bd3786"
            ],
            [
             0.5555555555555556,
             "#d8576b"
            ],
            [
             0.6666666666666666,
             "#ed7953"
            ],
            [
             0.7777777777777778,
             "#fb9f3a"
            ],
            [
             0.8888888888888888,
             "#fdca26"
            ],
            [
             1,
             "#f0f921"
            ]
           ]
          },
          "colorway": [
           "#636efa",
           "#EF553B",
           "#00cc96",
           "#ab63fa",
           "#FFA15A",
           "#19d3f3",
           "#FF6692",
           "#B6E880",
           "#FF97FF",
           "#FECB52"
          ],
          "font": {
           "color": "#2a3f5f"
          },
          "geo": {
           "bgcolor": "white",
           "lakecolor": "white",
           "landcolor": "#E5ECF6",
           "showlakes": true,
           "showland": true,
           "subunitcolor": "white"
          },
          "hoverlabel": {
           "align": "left"
          },
          "hovermode": "closest",
          "mapbox": {
           "style": "light"
          },
          "paper_bgcolor": "white",
          "plot_bgcolor": "#E5ECF6",
          "polar": {
           "angularaxis": {
            "gridcolor": "white",
            "linecolor": "white",
            "ticks": ""
           },
           "bgcolor": "#E5ECF6",
           "radialaxis": {
            "gridcolor": "white",
            "linecolor": "white",
            "ticks": ""
           }
          },
          "scene": {
           "xaxis": {
            "backgroundcolor": "#E5ECF6",
            "gridcolor": "white",
            "gridwidth": 2,
            "linecolor": "white",
            "showbackground": true,
            "ticks": "",
            "zerolinecolor": "white"
           },
           "yaxis": {
            "backgroundcolor": "#E5ECF6",
            "gridcolor": "white",
            "gridwidth": 2,
            "linecolor": "white",
            "showbackground": true,
            "ticks": "",
            "zerolinecolor": "white"
           },
           "zaxis": {
            "backgroundcolor": "#E5ECF6",
            "gridcolor": "white",
            "gridwidth": 2,
            "linecolor": "white",
            "showbackground": true,
            "ticks": "",
            "zerolinecolor": "white"
           }
          },
          "shapedefaults": {
           "line": {
            "color": "#2a3f5f"
           }
          },
          "ternary": {
           "aaxis": {
            "gridcolor": "white",
            "linecolor": "white",
            "ticks": ""
           },
           "baxis": {
            "gridcolor": "white",
            "linecolor": "white",
            "ticks": ""
           },
           "bgcolor": "#E5ECF6",
           "caxis": {
            "gridcolor": "white",
            "linecolor": "white",
            "ticks": ""
           }
          },
          "title": {
           "x": 0.05
          },
          "xaxis": {
           "automargin": true,
           "gridcolor": "white",
           "linecolor": "white",
           "ticks": "",
           "title": {
            "standoff": 15
           },
           "zerolinecolor": "white",
           "zerolinewidth": 2
          },
          "yaxis": {
           "automargin": true,
           "gridcolor": "white",
           "linecolor": "white",
           "ticks": "",
           "title": {
            "standoff": 15
           },
           "zerolinecolor": "white",
           "zerolinewidth": 2
          }
         }
        },
        "title": {
         "text": "Conv. Transformer Prediction vs. Ground Truth for ALRT"
        },
        "xaxis": {
         "title": {
          "text": "Time Step"
         }
        },
        "yaxis": {
         "title": {
          "text": "Value"
         }
        }
       }
      }
     },
     "metadata": {},
     "output_type": "display_data"
    }
   ],
   "source": [
    "# 使用模型进行预测\n",
    "'''\n",
    "对下一秒的预测和对后面第16秒的预测在数值上没有任何区别\n",
    "'''\n",
    "scaled_preds = []\n",
    "for inputs_list, label_list in zip(test_inputs, test_labels):\n",
    "    inputs_tensor, label_tensor = inputs_list[0].to(device), label_list[0].to(device)\n",
    "    output = model(inputs_tensor)\n",
    "    # print(output.size())\n",
    "    scaled_preds.extend(output.detach().cpu().numpy())\n",
    "\n",
    "# 将缩放和逆变换的预测存储在 DataFrame 中，以评估性能并稍后绘制预测\n",
    "cols = ['ALT', 'HDOT', 'VT', 'ALPHA', 'GAMMA', 'PITCH', 'GREF', 'WXDT', 'WZ', 'VDOT', 'ALRT']\n",
    "\n",
    "scaled_preds = np.array(scaled_preds)\n",
    "scaled_preds = scaled_preds.reshape(-1, scaled_preds.shape[-1])\n",
    "scaled_preds_df = pd.DataFrame(scaled_preds)\n",
    "scaled_preds_df.columns = cols\n",
    "\n",
    "preds = data_loader.inverse_transform(scaled_preds)\n",
    "\n",
    "preds_df = pd.DataFrame(preds)\n",
    "preds_df.columns = cols\n",
    "\n",
    "# 可视化预测结果\n",
    "tsmixer_preds = preds\n",
    "\n",
    "cols_to_plot = ['ALT', 'HDOT', 'VT', 'ALPHA', 'GAMMA', 'PITCH', 'GREF', 'WXDT', 'WZ', 'VDOT', 'ALRT']\n",
    "\n",
    "import plotly.graph_objects as go\n",
    "\n",
    "# 交互式可视化\n",
    "fig = go.Figure()\n",
    "fig.add_trace(go.Scatter(y=train_loss, mode='lines', name = 'loss', line = dict(color='blue')))\n",
    "fig.update_layout(\n",
    "    title=f'Train loss',\n",
    "    xaxis_title='Time Step',\n",
    "    yaxis_title='Loss Value'\n",
    ")\n",
    "fig.show()\n",
    "\n",
    "for batch in test_labels:\n",
    "    label_array = batch[0].cpu().numpy()\n",
    "    label_array = label_array.reshape(-1, label_array.shape[-1])\n",
    "    for idx in range(len(cols_to_plot)):\n",
    "        fig = go.Figure()\n",
    "        # fig.add_trace(go.Scatter(y=test_X_origin[:decay_steps+pred_steps, idx], mode='lines', name = 'GT', line = dict(color='blue')))\n",
    "        fig.add_trace(go.Scatter(y=label_array[:, idx], mode='lines', name = 'GT', line = dict(color='blue')))\n",
    "        fig.add_trace(go.Scatter(y=scaled_preds[:, idx], mode='lines', name = 'pred_beginning', line = dict(color='red')))\n",
    "        fig.update_layout(\n",
    "            title=f'TSMixer Prediction vs. Ground Truth for {cols_to_plot[idx]}',\n",
    "            xaxis_title='Time Step',\n",
    "            yaxis_title='Value'\n",
    "        )\n",
    "        fig.show()\n"
   ]
  },
  {
   "cell_type": "code",
   "execution_count": 13,
   "metadata": {},
   "outputs": [
    {
     "data": {
      "application/vnd.plotly.v1+json": {
       "config": {
        "plotlyServerURL": "https://plot.ly"
       },
       "data": [
        {
         "line": {
          "color": "blue"
         },
         "mode": "lines",
         "name": "GT",
         "type": "scatter",
         "y": [
          0,
          8.462514,
          17.16942,
          26.13345,
          35.36659,
          44.88002,
          54.68409,
          64.78824,
          75.20103,
          85.93004,
          96.98187,
          108.3621,
          120.0754,
          132.1251,
          144.5136,
          157.2424,
          170.3116,
          183.7202,
          197.4664,
          211.5468,
          225.9574,
          240.6927,
          255.7462,
          271.1105,
          286.7769,
          302.7359,
          318.9769,
          335.4883,
          352.2575,
          369.2712,
          386.5152,
          403.9742,
          421.6327,
          439.4738,
          457.4806,
          475.6352,
          493.9191,
          512.3135,
          530.7992,
          549.3564,
          567.965,
          586.6048,
          605.2552,
          623.8956,
          642.5052,
          661.063,
          679.5484,
          697.9404,
          716.2184,
          734.3619,
          752.3506,
          770.1644,
          787.7836,
          805.1886,
          822.3605,
          839.2806,
          855.9307,
          872.2932,
          888.3509,
          904.0872,
          919.486,
          934.5321,
          949.2107,
          963.5078,
          977.41,
          990.9048,
          1003.98,
          1016.625,
          1028.83,
          1040.585,
          1051.881,
          1062.708,
          1073.057,
          1082.919,
          1092.285,
          1101.147,
          1109.498,
          1117.331,
          1124.642,
          1131.426,
          1137.679,
          1143.402,
          1148.592,
          1153.25,
          1157.379,
          1160.982,
          1164.062,
          1166.627,
          1168.684,
          1170.241,
          1171.307,
          1171.896,
          1172.018,
          1171.689,
          1170.924,
          1169.739,
          1168.152,
          1166.184,
          1163.853,
          1161.182,
          1158.194,
          1154.912,
          1151.362,
          1147.568,
          1143.558,
          1139.359,
          1134.999,
          1130.507,
          1125.912,
          1121.245,
          1116.535,
          1111.812,
          1107.108,
          1102.452,
          1097.876,
          1093.41,
          1089.083,
          1084.926,
          1080.968,
          1077.237,
          1073.761,
          1070.568,
          1067.682,
          1065.13,
          1062.936,
          1061.121,
          1059.707,
          1058.715,
          1058.162,
          1058.066,
          1058.441,
          1059.303,
          1060.661,
          1062.528,
          1064.91,
          1067.816,
          1071.248,
          1075.211,
          1079.706,
          1084.731,
          1090.285,
          1096.363,
          1102.959,
          1110.066,
          1117.674,
          1125.773,
          1134.35,
          1143.392,
          1152.883,
          1162.808,
          1173.148,
          1183.885,
          1195,
          1206.471,
          1218.277,
          1230.396,
          1242.804,
          1255.479,
          1268.396,
          1281.532,
          1294.86,
          1308.356,
          1321.996,
          1335.753,
          1349.602,
          1363.519,
          1377.479,
          1391.455,
          1405.425,
          1419.364,
          1433.247,
          1447.052,
          1460.755,
          1474.334,
          1487.767,
          1501.033,
          1514.111,
          1526.981,
          1539.625,
          1552.022,
          1564.157,
          1576.011,
          1587.568,
          1598.814,
          1609.734,
          1620.313,
          1630.539,
          1640.401,
          1649.888,
          1658.989,
          1667.695,
          1675.999,
          1683.893,
          1691.371,
          1698.428,
          1705.061,
          1711.266,
          1717.041,
          1722.385,
          1727.299,
          1731.784,
          1735.842,
          1739.476,
          1742.692,
          1745.495,
          1747.891,
          1749.888,
          1751.495,
          1752.723,
          1753.582,
          1754.085,
          1754.243,
          1754.072,
          1753.587,
          1752.803,
          1751.737,
          1750.408,
          1748.833,
          1747.031,
          1745.024,
          1742.832,
          1740.475,
          1737.977,
          1735.358,
          1732.643,
          1729.854,
          1727.015,
          1724.149,
          1721.28,
          1718.431,
          1715.628,
          1712.892,
          1710.249,
          1707.721,
          1705.33,
          1703.101,
          1701.053,
          1699.209,
          1697.59,
          1696.215,
          1695.104,
          1694.275,
          1693.745,
          1693.53,
          1693.646,
          1694.107,
          1694.927,
          1696.115,
          1697.684,
          1699.642,
          1701.998,
          1704.757,
          1707.926,
          1711.507,
          1715.505,
          1719.918,
          1724.748,
          1729.993,
          1735.65,
          1741.715,
          1748.183,
          1755.046,
          1762.297,
          1769.927,
          1777.926,
          1786.283,
          1794.985,
          1804.019,
          1813.372,
          1823.028,
          1832.972,
          1843.188,
          1853.658,
          1864.366,
          1875.292,
          1886.42,
          1897.729,
          1909.201,
          1920.817,
          1932.556,
          1944.399,
          1956.326,
          1968.318,
          1980.354,
          1992.415,
          2004.482,
          2016.535,
          2028.554,
          2040.522,
          2052.42,
          2064.229,
          2075.932,
          2087.511,
          2098.951,
          2110.233,
          2121.344,
          2132.267,
          2142.987,
          2153.492,
          2163.767,
          2173.799,
          2183.578,
          2193.09,
          2202.327,
          2211.277,
          2219.932,
          2228.283,
          2236.323,
          2244.045,
          2251.443,
          2258.511,
          2265.247,
          2271.645,
          2277.703,
          2283.42,
          2288.794,
          2293.826,
          2298.515,
          2302.865,
          2306.877,
          2310.555,
          2313.903,
          2316.954,
          2319.736,
          2322.247,
          2324.478,
          2326.417,
          2328.045,
          2329.339,
          2330.265,
          2330.784,
          2330.849,
          2330.407,
          2329.398,
          2327.759,
          2325.421,
          2322.315,
          2318.369,
          2313.546,
          2307.814,
          2301.118,
          2293.401,
          2284.613,
          2274.705,
          2263.63,
          2251.347,
          2237.815,
          2222.999,
          2206.865,
          2189.385,
          2170.532,
          2150.286,
          2128.629,
          2105.546,
          2081.028,
          2055.069,
          2027.666,
          1998.822,
          1968.542,
          1936.836,
          1903.717,
          1869.203,
          1833.314,
          1796.077,
          1757.521,
          1717.68,
          1676.591,
          1634.298,
          1590.847,
          1546.289,
          1500.682,
          1454.085,
          1406.564,
          1358.189,
          1309.035,
          1259.181,
          1208.711,
          1157.712,
          1106.248,
          1054.393,
          1002.253,
          949.9397,
          897.5707,
          845.2691,
          793.1658,
          741.4001,
          690.1205,
          639.4852,
          589.6618,
          540.8274,
          493.1679,
          446.8769,
          402.1537,
          359.2013,
          318.1926,
          279.2934,
          242.6904,
          208.5602,
          177.0677,
          148.3643,
          122.5872,
          99.857,
          80.27751,
          63.93434,
          50.89431,
          41.20494,
          34.89417,
          31.97031,
          32.42227,
          36.21991,
          43.31472,
          53.64064,
          67.11504,
          83.63988,
          103.103,
          125.3796,
          150.3335,
          177.8188,
          207.6816,
          239.761,
          273.8912,
          309.9029,
          347.6241,
          386.8824,
          427.5054,
          469.3223,
          512.1648,
          555.8682,
          600.2719,
          645.2203,
          690.5635,
          736.1575,
          781.8649,
          827.5549,
          873.1036,
          918.3943,
          963.3171,
          1007.769,
          1051.655,
          1094.886,
          1137.38,
          1179.06,
          1219.857,
          1259.708,
          1298.554,
          1336.343,
          1373.027,
          1408.562,
          1442.911,
          1476.039,
          1507.914,
          1538.51,
          1567.801,
          1595.767,
          1622.39,
          1647.651,
          1671.536,
          1694.033,
          1715.13,
          1734.816,
          1753.082,
          1769.917,
          1785.312,
          1799.258,
          1811.741,
          1822.748,
          1832.259,
          1840.249,
          1846.684,
          1851.519,
          1854.694,
          1856.145,
          1855.8,
          1853.597,
          1849.479,
          1843.406,
          1835.346,
          1825.281,
          1813.201,
          1799.11,
          1783.018,
          1764.944,
          1744.913,
          1722.959,
          1699.121,
          1673.445,
          1645.983,
          1616.792,
          1585.938,
          1553.491,
          1519.529,
          1484.134,
          1447.399,
          1409.42,
          1370.303,
          1330.159,
          1289.107,
          1247.274,
          1204.791,
          1161.798,
          1118.442,
          1074.874,
          1031.251,
          987.7352,
          944.4933,
          901.6948,
          859.5121,
          818.1188,
          777.6894,
          738.3973,
          700.4144,
          663.9094,
          629.0464,
          595.9844,
          564.875,
          535.8618,
          509.0792,
          484.6508,
          462.6888,
          443.2929,
          426.5495,
          412.5308,
          401.2946,
          392.8835,
          387.3251,
          384.6315,
          384.7997,
          387.8116,
          393.6348,
          402.2225,
          413.5149,
          427.4394,
          443.9119,
          462.8376,
          484.1119,
          507.6219,
          533.2472,
          560.8611,
          590.3318,
          621.5237,
          654.2979,
          688.5139,
          724.0303,
          760.7057,
          798.3999,
          836.974,
          876.2917,
          916.22,
          956.629,
          997.3934,
          1038.392,
          1079.508,
          1120.632,
          1161.655,
          1202.479,
          1243.008,
          1283.151,
          1322.825,
          1361.95,
          1400.452,
          1438.262,
          1475.317,
          1511.557,
          1546.927,
          1581.376,
          1614.859,
          1647.333,
          1678.759,
          1709.099,
          1738.323,
          1766.4,
          1793.302,
          1819.005,
          1843.484,
          1866.718,
          1888.687,
          1909.372,
          1928.754,
          1946.815,
          1963.537,
          1978.903,
          1992.891,
          2005.483,
          2016.655,
          2026.384,
          2034.642,
          2041.4,
          2046.626,
          2050.289,
          2052.354,
          2052.79,
          2051.567,
          2048.66,
          2044.05,
          2037.722,
          2029.669,
          2019.889,
          2008.388,
          1995.179,
          1980.281,
          1963.719,
          1945.525,
          1925.735,
          1904.395,
          1881.552,
          1857.262,
          1831.585,
          1804.587,
          1776.339,
          1746.92,
          1716.41,
          1684.898,
          1652.478,
          1619.247,
          1585.311,
          1550.777,
          1515.759,
          1480.375,
          1444.749,
          1409.005,
          1373.273,
          1337.687,
          1302.381,
          1267.493,
          1233.159,
          1199.518,
          1166.708,
          1134.865,
          1104.124,
          1074.617,
          1046.471,
          1019.81,
          994.7509,
          971.4048,
          949.876,
          930.2601,
          912.6445,
          897.107,
          883.7155,
          872.5276,
          863.59
         ]
        },
        {
         "line": {
          "color": "red"
         },
         "mode": "lines",
         "name": "pred_beginning",
         "type": "scatter",
         "y": [
          0,
          8.462514000000056,
          17.169419999999946,
          26.13345000000004,
          35.36659000000009,
          44.88002000000006,
          54.68408999999997,
          64.78824000000009,
          146.01166048500522,
          153.71204830246393,
          161.60577861255,
          169.87002020743353,
          178.47472561608015,
          187.06511210643203,
          196.07898246014406,
          205.25599945287695,
          214.83884278278265,
          224.87529163836916,
          235.27683581483825,
          245.67096086265678,
          256.4370068297162,
          267.8160212058656,
          279.60286508392323,
          291.84828530385755,
          304.6862713290932,
          318.26936044468107,
          332.67248584998924,
          346.7105901257015,
          360.25176116441503,
          372.5224806130469,
          384.1552291890373,
          396.5330808553798,
          408.9538892766078,
          422.0191974036894,
          436.23395113256595,
          450.6272090967692,
          465.19259084566,
          479.80404538346943,
          497.09788588480376,
          515.6750130687848,
          531.2125974360141,
          547.218032055933,
          562.8039149506761,
          580.9295881562848,
          597.0543223649009,
          615.5544389934917,
          637.692228590623,
          658.65319600124,
          679.1426035948423,
          699.3898508292979,
          717.9128183741316,
          736.6200028833528,
          750.0510740528954,
          762.7774763832302,
          776.6382634841997,
          789.2534530760662,
          804.0607726102442,
          818.9669891293308,
          837.8280463667597,
          860.3079319859578,
          894.2534503082975,
          932.2824570397761,
          961.7025665549204,
          994.253845125648,
          1032.5003807091541,
          1082.1153769583043,
          1118.336138011661,
          1132.5741878044994,
          1163.3217092699383,
          1171.5249841751377,
          1182.8821677652334,
          1198.757990207631,
          1210.5757903999822,
          1192.1771859991497,
          1188.7302495542979,
          1186.6883198715122,
          1189.1386540386766,
          1197.8341695820034,
          1206.6614395762492,
          1219.2430297892406,
          1217.2669819688697,
          1221.8374341608835,
          1201.6333013377969,
          1199.8394023997025,
          1209.7483720772548,
          1202.8971777251122,
          1169.9587968431433,
          1178.276947681582,
          1177.4243599649085,
          1150.7407775046147,
          1169.1142032375903,
          1196.3812074271239,
          1169.6971798191112,
          1118.2827202853787,
          1132.6518475336468,
          1140.3969541490453,
          1133.3018002990584,
          1122.3205068620314,
          1123.895309657171,
          1125.4057700590906,
          1102.0432863478284,
          1092.8381879531541,
          1106.133285042358,
          1114.4660608381487,
          1106.8588943721813,
          1105.6184531574902,
          1103.4650139710902,
          1093.149976834684,
          1083.284167938055,
          1081.8052573807208,
          1041.3027873485105,
          1019.3746994226804,
          997.3025876619259,
          992.0747728497611,
          990.6407294729397,
          988.1752046398638,
          993.5637919698812,
          995.8215070094616,
          1002.6903403399702,
          1008.1567543295296,
          1006.0200081825928,
          1010.2043781935545,
          1012.4143325924483,
          1012.5105215953997,
          1014.5113493054627,
          1026.050765243032,
          1053.2024947211612,
          1062.755290580033,
          1081.5678452639104,
          1107.0678541306177,
          1127.6910286137854,
          1144.2290082882246,
          1206.4121661275092,
          1204.3479697848616,
          1197.7574743395808,
          1179.7324601619353,
          1176.228600452514,
          1186.3787010851127,
          1200.5900049191666,
          1209.3590254795965,
          1216.361208373684,
          1220.0019973762578,
          1220.6141682290179,
          1223.7585989770635,
          1218.6108087413031,
          1212.344241726806,
          1210.733576718553,
          1230.2052375178146,
          1246.0747073313055,
          1258.3252838456517,
          1266.9321686233395,
          1274.1024689726432,
          1282.4689925298821,
          1293.1271365446335,
          1301.0393590328806,
          1304.5466964588568,
          1307.436409972515,
          1312.5589102534886,
          1313.5684867324032,
          1306.158854566751,
          1305.4859025025232,
          1308.7228034152843,
          1312.5470025520049,
          1316.3925873270603,
          1335.7735029090175,
          1354.8518756985254,
          1366.9872145971103,
          1380.0575491838526,
          1395.3280449196704,
          1409.2145949448782,
          1420.592830312519,
          1427.5631016794994,
          1435.001130560061,
          1442.7050981070934,
          1448.27118809007,
          1452.9224809626398,
          1457.3112850635612,
          1461.6589130004731,
          1465.9077923350492,
          1469.521872474482,
          1474.9741901196057,
          1485.2944948373538,
          1501.3224836083696,
          1519.1765796097332,
          1538.228234262189,
          1565.9913184889265,
          1602.3697545739242,
          1636.6897719627107,
          1662.2475572937824,
          1698.3017774567606,
          1738.975666456437,
          1772.2760544469877,
          1802.7631830446217,
          1830.9694489212866,
          1851.0345565473767,
          1857.1701759411953,
          1892.93252758307,
          1900.3827423824396,
          1874.1360167648988,
          1864.1046871080812,
          1806.2986204203612,
          1779.5746964480313,
          1756.299257663659,
          1742.2810366527297,
          1743.3326239476269,
          1744.9577840784805,
          1747.8327706217678,
          1749.2470791163792,
          1751.6440512007262,
          1736.0112052216266,
          1732.0157076782807,
          1729.1646849205338,
          1727.8895592794024,
          1731.7568542796707,
          1734.126301396725,
          1727.9449059791339,
          1707.029640401003,
          1694.8725820032942,
          1679.967775118651,
          1683.0277947304774,
          1682.1004778404733,
          1676.3324020799917,
          1672.4804646760294,
          1676.0910578249966,
          1657.29551149355,
          1645.6780463225793,
          1640.1134772609762,
          1632.2064667106058,
          1626.251577290709,
          1619.7541084447923,
          1615.6383468260246,
          1621.2097414859861,
          1620.4322909947186,
          1626.2190815072206,
          1629.0755202288822,
          1630.1435037980964,
          1639.5913189865662,
          1630.8953582955205,
          1642.7459324886845,
          1648.661871483167,
          1629.5797242119584,
          1624.8963250601541,
          1630.7561754420403,
          1646.8421817991018,
          1666.3866891677985,
          1679.1360907969495,
          1676.878672522515,
          1676.1227375043336,
          1696.0279629080092,
          1720.5975203028577,
          1727.5733560163255,
          1736.4360987194307,
          1740.6279805981508,
          1754.9726432696943,
          1776.0446750362066,
          1791.529880355165,
          1802.1983647804725,
          1807.069616269703,
          1814.8345505064194,
          1813.3416734394011,
          1812.4654001545111,
          1817.6143496291231,
          1826.4600283363325,
          1834.449762171154,
          1833.2952715618767,
          1836.4818615084778,
          1838.4348729343894,
          1838.342208017547,
          1840.5607500578535,
          1846.2140518981146,
          1851.199706351133,
          1854.9183962045354,
          1877.7120367743555,
          1882.4866912085586,
          1891.026924389234,
          1899.5885246604225,
          1905.660858886854,
          1920.484723077922,
          1924.1829361362493,
          1931.411541562834,
          1940.4256344904056,
          1955.833755062687,
          1967.8157962155346,
          1980.8401507524666,
          1992.5294330887723,
          2004.473562494217,
          2018.4112117680038,
          2037.1877651301056,
          2055.9130523132335,
          2072.8578970028566,
          2087.1837150876286,
          2099.3547214472,
          2110.9977084207276,
          2123.117077644893,
          2136.0975851315015,
          2149.313204805039,
          2162.6390727303196,
          2176.798405568178,
          2186.111192615212,
          2193.708825500864,
          2201.5118198675564,
          2209.0728764489622,
          2213.991313596409,
          2217.9502348355086,
          2219.592162197112,
          2222.2741772042045,
          2226.603609728101,
          2230.358801694463,
          2232.5533057579432,
          2235.575636196226,
          2239.332163605745,
          2244.092944269372,
          2246.8970781340486,
          2250.870466674017,
          2253.7304665774304,
          2255.740753676522,
          2256.608494963464,
          2257.519712344297,
          2259.406174186215,
          2260.6107439138823,
          2261.0478047826728,
          2260.515333919439,
          2260.3291879816024,
          2261.6146262115576,
          2260.4011535295103,
          2256.183082126655,
          2238.8580070937023,
          2228.5788043486773,
          2265.2798983386774,
          2293.3947605503704,
          2281.751996150702,
          2291.531372198555,
          2298.0971526715193,
          2299.8712889056715,
          2292.1450825205097,
          2277.333830848147,
          2246.9576924151215,
          2211.221604488669,
          2180.633872506537,
          2171.2941540225024,
          2160.034810191483,
          2147.75541036233,
          2137.546392574337,
          2128.0725362443045,
          2118.032674589539,
          2106.1824713528076,
          2091.9216448350126,
          2076.1244651563084,
          2058.1320395012594,
          2037.9539385458247,
          2015.4336186754824,
          1991.3284245428579,
          1965.1577449939828,
          1937.9478680950567,
          1908.6245040175127,
          1881.5345944288624,
          1853.1269734006278,
          1823.6142731599275,
          1793.7826245785495,
          1762.3832399220714,
          1730.309159706133,
          1698.5883783965228,
          1666.7102373682394,
          1634.0757161740553,
          1601.1081688425797,
          1567.971891977774,
          1534.8267121585882,
          1501.7555752433323,
          1468.4705448490877,
          1435.2748036681498,
          1402.0570647707636,
          1368.0094035947304,
          1334.6197634865164,
          1302.0967425220358,
          1269.2726718647466,
          1235.9252465985528,
          1201.7339325440278,
          1167.5164660610103,
          1133.3235568938255,
          1097.1260548087878,
          1058.2863598896881,
          1018.3522507555575,
          977.4681036499311,
          932.6381300672726,
          884.2161853485595,
          830.4336234148404,
          762.5566831145966,
          696.4426761642428,
          618.2955102646406,
          549.066582150448,
          481.50480643526987,
          421.8074554720091,
          372.26088213683647,
          341.59918144206017,
          311.91636058140784,
          287.05753136048315,
          253.03214611822273,
          222.46296195771606,
          200.10089210148521,
          176.79540584607912,
          154.8455427776605,
          140.6732264646639,
          137.16219802218416,
          143.65912898127362,
          150.75181597098413,
          162.00559545551596,
          168.5667018774309,
          182.75994013322133,
          201.70631735012898,
          223.2608892440585,
          239.9172040204703,
          256.017232530681,
          287.32380388774345,
          325.267008396381,
          364.29897003445376,
          401.85014778520815,
          437.78803601094944,
          473.22810070425396,
          508.40990552924063,
          540.5192266062683,
          570.955014833642,
          593.0445800945464,
          619.0982599846058,
          650.8026450198987,
          681.8567434289906,
          712.3628649959695,
          745.518579977839,
          779.7695809223559,
          813.1344411408779,
          843.7950289663565,
          875.8369101639528,
          907.8086064045169,
          939.3167554870087,
          971.4360181964278,
          1004.0493948739584,
          1036.9789748145658,
          1068.3862608430566,
          1099.045030982016,
          1127.8517269403515,
          1154.0955590977187,
          1180.077913339716,
          1205.621704339371,
          1232.0248715584148,
          1259.7811116389726,
          1288.1110358424164,
          1315.838925577619,
          1344.2199675774636,
          1372.8559308377337,
          1400.4467058015673,
          1425.2929966950728,
          1449.5968009016667,
          1472.971915679456,
          1493.873455869584,
          1512.5719970939276,
          1530.4158176021103,
          1547.3881872590262,
          1563.0421035634927,
          1577.6934730134408,
          1590.6209708258425,
          1601.2383003591062,
          1610.2191555903246,
          1617.910677549046,
          1628.112962477789,
          1639.9462501011978,
          1640.3758176500517,
          1640.8372132608154,
          1648.0756119372184,
          1659.8840454796484,
          1659.1100077875599,
          1658.928981048492,
          1669.2366732475343,
          1674.8278027897059,
          1672.5993191170078,
          1667.71931305597,
          1654.6080805225429,
          1619.4563046207684,
          1588.921953269275,
          1550.5811205606233,
          1520.1588722430363,
          1492.1589137863155,
          1471.0191082795825,
          1442.3160390006703,
          1440.1524356080195,
          1431.8968558458353,
          1409.6170270306934,
          1386.0823824391002,
          1359.8898721041717,
          1330.9946381193054,
          1303.0744445694863,
          1276.4185354590584,
          1242.0702975596682,
          1198.3819980415435,
          1156.0470866979,
          1115.3929511282554,
          1076.2247928359843,
          1052.4914454313139,
          1019.906187251368,
          990.3636992091366,
          967.104582507795,
          922.4018098858464,
          891.8171568421038,
          860.905913755174,
          826.4217295971773,
          796.5872617469123,
          761.6502139760998,
          715.4651736411029,
          676.4026451929908,
          643.6098739846952,
          609.1663466517024,
          574.1100734834793,
          541.816387059491,
          510.9964363506034,
          479.7515921439116,
          452.6871301665319,
          428.42472469780694,
          400.52761391200124,
          371.20840454650136,
          344.45332023384015,
          324.9367087888685,
          314.71886223778154,
          310.5139226926369,
          314.0964715353058,
          327.2497705281803,
          341.9616058766286,
          349.82313716837234,
          354.00129365908936,
          371.66586801908034,
          394.5433447426492,
          418.07934332522086,
          449.62644283312693,
          494.97282486549113,
          531.9666776720331,
          566.5454557203215,
          597.9566367913535,
          629.1927264262379,
          661.8655303242576,
          691.3474411810593,
          719.2934440246705,
          748.1418354860208,
          773.9865185220006,
          798.0123279780668,
          823.3499135707968,
          849.4069320687488,
          877.8202658260441,
          909.2858291100831,
          938.9181998959132,
          966.2466344706714,
          992.1080105461144,
          1019.0602767504796,
          1046.622024373469,
          1074.6095001462356,
          1103.0362996220313,
          1131.857852385489,
          1158.995763736507,
          1185.72006793918,
          1212.1176337160928,
          1238.033920617459,
          1263.379936195118,
          1288.0563661381743,
          1312.075349995882,
          1336.3806658499384,
          1361.354055691135,
          1385.991201347988,
          1412.5039212754646,
          1439.5938308641148,
          1466.2464941057583,
          1492.4242403746728,
          1518.2256327949779,
          1542.7751956381137,
          1566.254697556013,
          1589.0380255370094,
          1610.506424251665,
          1628.7062701959555,
          1644.3885275718662,
          1659.8584494858048,
          1675.1089877655531,
          1687.6667533016662,
          1699.3187916121474,
          1711.003325706117,
          1726.2129103957154,
          1740.2901134794151,
          1757.2319163262914,
          1770.1140461669966,
          1777.5373295293657,
          1788.597469756124,
          1797.8877026520609,
          1807.2730487772947,
          1824.2585502919217,
          1839.715488730722,
          1855.0287186475657,
          1861.675590196678,
          1848.9704807655698,
          1836.2247887007443,
          1825.8466147795236,
          1798.3517691491386,
          1767.9055941416543,
          1742.241863653456,
          1712.9009162410107,
          1684.7715125371633,
          1677.746265426884,
          1663.193644579272,
          1647.9940757133513,
          1631.1025003674376,
          1605.2391767707238,
          1572.44711037965,
          1544.5908789927078,
          1514.104863264371,
          1487.6225803121824,
          1448.9576986119062,
          1416.1590291963334,
          1394.7104210073524,
          1361.3757195467938,
          1311.4394750270844,
          1273.7335157048626,
          1230.8308277195208,
          1187.587453346556,
          1147.6731718337433,
          1109.9755404834314,
          1077.6525299534528,
          1044.7510499626085,
          1012.1829856133096,
          979.3711472443827,
          942.7184259731825,
          905.4701341495777,
          868.9844545599396,
          832.0247297451892,
          796.2787001863453,
          749.126205475346,
          710.3705321882112,
          684.4138945008981,
          661.5229149631856,
          636.5987232188517,
          609.6841276402085,
          583.0060538829377,
          554.9408256419158,
          532.4176123113999,
          525.10977059083,
          522.0352836781352,
          520.7340427041548,
          527.2742271832757,
          540.9280947861876
         ]
        }
       ],
       "layout": {
        "template": {
         "data": {
          "bar": [
           {
            "error_x": {
             "color": "#2a3f5f"
            },
            "error_y": {
             "color": "#2a3f5f"
            },
            "marker": {
             "line": {
              "color": "#E5ECF6",
              "width": 0.5
             },
             "pattern": {
              "fillmode": "overlay",
              "size": 10,
              "solidity": 0.2
             }
            },
            "type": "bar"
           }
          ],
          "barpolar": [
           {
            "marker": {
             "line": {
              "color": "#E5ECF6",
              "width": 0.5
             },
             "pattern": {
              "fillmode": "overlay",
              "size": 10,
              "solidity": 0.2
             }
            },
            "type": "barpolar"
           }
          ],
          "carpet": [
           {
            "aaxis": {
             "endlinecolor": "#2a3f5f",
             "gridcolor": "white",
             "linecolor": "white",
             "minorgridcolor": "white",
             "startlinecolor": "#2a3f5f"
            },
            "baxis": {
             "endlinecolor": "#2a3f5f",
             "gridcolor": "white",
             "linecolor": "white",
             "minorgridcolor": "white",
             "startlinecolor": "#2a3f5f"
            },
            "type": "carpet"
           }
          ],
          "choropleth": [
           {
            "colorbar": {
             "outlinewidth": 0,
             "ticks": ""
            },
            "type": "choropleth"
           }
          ],
          "contour": [
           {
            "colorbar": {
             "outlinewidth": 0,
             "ticks": ""
            },
            "colorscale": [
             [
              0,
              "#0d0887"
             ],
             [
              0.1111111111111111,
              "#46039f"
             ],
             [
              0.2222222222222222,
              "#7201a8"
             ],
             [
              0.3333333333333333,
              "#9c179e"
             ],
             [
              0.4444444444444444,
              "#bd3786"
             ],
             [
              0.5555555555555556,
              "#d8576b"
             ],
             [
              0.6666666666666666,
              "#ed7953"
             ],
             [
              0.7777777777777778,
              "#fb9f3a"
             ],
             [
              0.8888888888888888,
              "#fdca26"
             ],
             [
              1,
              "#f0f921"
             ]
            ],
            "type": "contour"
           }
          ],
          "contourcarpet": [
           {
            "colorbar": {
             "outlinewidth": 0,
             "ticks": ""
            },
            "type": "contourcarpet"
           }
          ],
          "heatmap": [
           {
            "colorbar": {
             "outlinewidth": 0,
             "ticks": ""
            },
            "colorscale": [
             [
              0,
              "#0d0887"
             ],
             [
              0.1111111111111111,
              "#46039f"
             ],
             [
              0.2222222222222222,
              "#7201a8"
             ],
             [
              0.3333333333333333,
              "#9c179e"
             ],
             [
              0.4444444444444444,
              "#bd3786"
             ],
             [
              0.5555555555555556,
              "#d8576b"
             ],
             [
              0.6666666666666666,
              "#ed7953"
             ],
             [
              0.7777777777777778,
              "#fb9f3a"
             ],
             [
              0.8888888888888888,
              "#fdca26"
             ],
             [
              1,
              "#f0f921"
             ]
            ],
            "type": "heatmap"
           }
          ],
          "heatmapgl": [
           {
            "colorbar": {
             "outlinewidth": 0,
             "ticks": ""
            },
            "colorscale": [
             [
              0,
              "#0d0887"
             ],
             [
              0.1111111111111111,
              "#46039f"
             ],
             [
              0.2222222222222222,
              "#7201a8"
             ],
             [
              0.3333333333333333,
              "#9c179e"
             ],
             [
              0.4444444444444444,
              "#bd3786"
             ],
             [
              0.5555555555555556,
              "#d8576b"
             ],
             [
              0.6666666666666666,
              "#ed7953"
             ],
             [
              0.7777777777777778,
              "#fb9f3a"
             ],
             [
              0.8888888888888888,
              "#fdca26"
             ],
             [
              1,
              "#f0f921"
             ]
            ],
            "type": "heatmapgl"
           }
          ],
          "histogram": [
           {
            "marker": {
             "pattern": {
              "fillmode": "overlay",
              "size": 10,
              "solidity": 0.2
             }
            },
            "type": "histogram"
           }
          ],
          "histogram2d": [
           {
            "colorbar": {
             "outlinewidth": 0,
             "ticks": ""
            },
            "colorscale": [
             [
              0,
              "#0d0887"
             ],
             [
              0.1111111111111111,
              "#46039f"
             ],
             [
              0.2222222222222222,
              "#7201a8"
             ],
             [
              0.3333333333333333,
              "#9c179e"
             ],
             [
              0.4444444444444444,
              "#bd3786"
             ],
             [
              0.5555555555555556,
              "#d8576b"
             ],
             [
              0.6666666666666666,
              "#ed7953"
             ],
             [
              0.7777777777777778,
              "#fb9f3a"
             ],
             [
              0.8888888888888888,
              "#fdca26"
             ],
             [
              1,
              "#f0f921"
             ]
            ],
            "type": "histogram2d"
           }
          ],
          "histogram2dcontour": [
           {
            "colorbar": {
             "outlinewidth": 0,
             "ticks": ""
            },
            "colorscale": [
             [
              0,
              "#0d0887"
             ],
             [
              0.1111111111111111,
              "#46039f"
             ],
             [
              0.2222222222222222,
              "#7201a8"
             ],
             [
              0.3333333333333333,
              "#9c179e"
             ],
             [
              0.4444444444444444,
              "#bd3786"
             ],
             [
              0.5555555555555556,
              "#d8576b"
             ],
             [
              0.6666666666666666,
              "#ed7953"
             ],
             [
              0.7777777777777778,
              "#fb9f3a"
             ],
             [
              0.8888888888888888,
              "#fdca26"
             ],
             [
              1,
              "#f0f921"
             ]
            ],
            "type": "histogram2dcontour"
           }
          ],
          "mesh3d": [
           {
            "colorbar": {
             "outlinewidth": 0,
             "ticks": ""
            },
            "type": "mesh3d"
           }
          ],
          "parcoords": [
           {
            "line": {
             "colorbar": {
              "outlinewidth": 0,
              "ticks": ""
             }
            },
            "type": "parcoords"
           }
          ],
          "pie": [
           {
            "automargin": true,
            "type": "pie"
           }
          ],
          "scatter": [
           {
            "fillpattern": {
             "fillmode": "overlay",
             "size": 10,
             "solidity": 0.2
            },
            "type": "scatter"
           }
          ],
          "scatter3d": [
           {
            "line": {
             "colorbar": {
              "outlinewidth": 0,
              "ticks": ""
             }
            },
            "marker": {
             "colorbar": {
              "outlinewidth": 0,
              "ticks": ""
             }
            },
            "type": "scatter3d"
           }
          ],
          "scattercarpet": [
           {
            "marker": {
             "colorbar": {
              "outlinewidth": 0,
              "ticks": ""
             }
            },
            "type": "scattercarpet"
           }
          ],
          "scattergeo": [
           {
            "marker": {
             "colorbar": {
              "outlinewidth": 0,
              "ticks": ""
             }
            },
            "type": "scattergeo"
           }
          ],
          "scattergl": [
           {
            "marker": {
             "colorbar": {
              "outlinewidth": 0,
              "ticks": ""
             }
            },
            "type": "scattergl"
           }
          ],
          "scattermapbox": [
           {
            "marker": {
             "colorbar": {
              "outlinewidth": 0,
              "ticks": ""
             }
            },
            "type": "scattermapbox"
           }
          ],
          "scatterpolar": [
           {
            "marker": {
             "colorbar": {
              "outlinewidth": 0,
              "ticks": ""
             }
            },
            "type": "scatterpolar"
           }
          ],
          "scatterpolargl": [
           {
            "marker": {
             "colorbar": {
              "outlinewidth": 0,
              "ticks": ""
             }
            },
            "type": "scatterpolargl"
           }
          ],
          "scatterternary": [
           {
            "marker": {
             "colorbar": {
              "outlinewidth": 0,
              "ticks": ""
             }
            },
            "type": "scatterternary"
           }
          ],
          "surface": [
           {
            "colorbar": {
             "outlinewidth": 0,
             "ticks": ""
            },
            "colorscale": [
             [
              0,
              "#0d0887"
             ],
             [
              0.1111111111111111,
              "#46039f"
             ],
             [
              0.2222222222222222,
              "#7201a8"
             ],
             [
              0.3333333333333333,
              "#9c179e"
             ],
             [
              0.4444444444444444,
              "#bd3786"
             ],
             [
              0.5555555555555556,
              "#d8576b"
             ],
             [
              0.6666666666666666,
              "#ed7953"
             ],
             [
              0.7777777777777778,
              "#fb9f3a"
             ],
             [
              0.8888888888888888,
              "#fdca26"
             ],
             [
              1,
              "#f0f921"
             ]
            ],
            "type": "surface"
           }
          ],
          "table": [
           {
            "cells": {
             "fill": {
              "color": "#EBF0F8"
             },
             "line": {
              "color": "white"
             }
            },
            "header": {
             "fill": {
              "color": "#C8D4E3"
             },
             "line": {
              "color": "white"
             }
            },
            "type": "table"
           }
          ]
         },
         "layout": {
          "annotationdefaults": {
           "arrowcolor": "#2a3f5f",
           "arrowhead": 0,
           "arrowwidth": 1
          },
          "autotypenumbers": "strict",
          "coloraxis": {
           "colorbar": {
            "outlinewidth": 0,
            "ticks": ""
           }
          },
          "colorscale": {
           "diverging": [
            [
             0,
             "#8e0152"
            ],
            [
             0.1,
             "#c51b7d"
            ],
            [
             0.2,
             "#de77ae"
            ],
            [
             0.3,
             "#f1b6da"
            ],
            [
             0.4,
             "#fde0ef"
            ],
            [
             0.5,
             "#f7f7f7"
            ],
            [
             0.6,
             "#e6f5d0"
            ],
            [
             0.7,
             "#b8e186"
            ],
            [
             0.8,
             "#7fbc41"
            ],
            [
             0.9,
             "#4d9221"
            ],
            [
             1,
             "#276419"
            ]
           ],
           "sequential": [
            [
             0,
             "#0d0887"
            ],
            [
             0.1111111111111111,
             "#46039f"
            ],
            [
             0.2222222222222222,
             "#7201a8"
            ],
            [
             0.3333333333333333,
             "#9c179e"
            ],
            [
             0.4444444444444444,
             "#bd3786"
            ],
            [
             0.5555555555555556,
             "#d8576b"
            ],
            [
             0.6666666666666666,
             "#ed7953"
            ],
            [
             0.7777777777777778,
             "#fb9f3a"
            ],
            [
             0.8888888888888888,
             "#fdca26"
            ],
            [
             1,
             "#f0f921"
            ]
           ],
           "sequentialminus": [
            [
             0,
             "#0d0887"
            ],
            [
             0.1111111111111111,
             "#46039f"
            ],
            [
             0.2222222222222222,
             "#7201a8"
            ],
            [
             0.3333333333333333,
             "#9c179e"
            ],
            [
             0.4444444444444444,
             "#bd3786"
            ],
            [
             0.5555555555555556,
             "#d8576b"
            ],
            [
             0.6666666666666666,
             "#ed7953"
            ],
            [
             0.7777777777777778,
             "#fb9f3a"
            ],
            [
             0.8888888888888888,
             "#fdca26"
            ],
            [
             1,
             "#f0f921"
            ]
           ]
          },
          "colorway": [
           "#636efa",
           "#EF553B",
           "#00cc96",
           "#ab63fa",
           "#FFA15A",
           "#19d3f3",
           "#FF6692",
           "#B6E880",
           "#FF97FF",
           "#FECB52"
          ],
          "font": {
           "color": "#2a3f5f"
          },
          "geo": {
           "bgcolor": "white",
           "lakecolor": "white",
           "landcolor": "#E5ECF6",
           "showlakes": true,
           "showland": true,
           "subunitcolor": "white"
          },
          "hoverlabel": {
           "align": "left"
          },
          "hovermode": "closest",
          "mapbox": {
           "style": "light"
          },
          "paper_bgcolor": "white",
          "plot_bgcolor": "#E5ECF6",
          "polar": {
           "angularaxis": {
            "gridcolor": "white",
            "linecolor": "white",
            "ticks": ""
           },
           "bgcolor": "#E5ECF6",
           "radialaxis": {
            "gridcolor": "white",
            "linecolor": "white",
            "ticks": ""
           }
          },
          "scene": {
           "xaxis": {
            "backgroundcolor": "#E5ECF6",
            "gridcolor": "white",
            "gridwidth": 2,
            "linecolor": "white",
            "showbackground": true,
            "ticks": "",
            "zerolinecolor": "white"
           },
           "yaxis": {
            "backgroundcolor": "#E5ECF6",
            "gridcolor": "white",
            "gridwidth": 2,
            "linecolor": "white",
            "showbackground": true,
            "ticks": "",
            "zerolinecolor": "white"
           },
           "zaxis": {
            "backgroundcolor": "#E5ECF6",
            "gridcolor": "white",
            "gridwidth": 2,
            "linecolor": "white",
            "showbackground": true,
            "ticks": "",
            "zerolinecolor": "white"
           }
          },
          "shapedefaults": {
           "line": {
            "color": "#2a3f5f"
           }
          },
          "ternary": {
           "aaxis": {
            "gridcolor": "white",
            "linecolor": "white",
            "ticks": ""
           },
           "baxis": {
            "gridcolor": "white",
            "linecolor": "white",
            "ticks": ""
           },
           "bgcolor": "#E5ECF6",
           "caxis": {
            "gridcolor": "white",
            "linecolor": "white",
            "ticks": ""
           }
          },
          "title": {
           "x": 0.05
          },
          "xaxis": {
           "automargin": true,
           "gridcolor": "white",
           "linecolor": "white",
           "ticks": "",
           "title": {
            "standoff": 15
           },
           "zerolinecolor": "white",
           "zerolinewidth": 2
          },
          "yaxis": {
           "automargin": true,
           "gridcolor": "white",
           "linecolor": "white",
           "ticks": "",
           "title": {
            "standoff": 15
           },
           "zerolinecolor": "white",
           "zerolinewidth": 2
          }
         }
        },
        "title": {
         "text": "TSMixer Prediction vs. Ground Truth"
        },
        "xaxis": {
         "title": {
          "text": "Time Step"
         }
        },
        "yaxis": {
         "title": {
          "text": "Value"
         }
        }
       }
      }
     },
     "metadata": {},
     "output_type": "display_data"
    },
    {
     "data": {
      "application/vnd.plotly.v1+json": {
       "config": {
        "plotlyServerURL": "https://plot.ly"
       },
       "data": [
        {
         "line": {
          "color": "blue"
         },
         "mode": "lines",
         "name": "GT",
         "type": "scatter",
         "y": [
          2002.465,
          2059.541,
          2119.765,
          2182.958,
          2248.933,
          2317.492,
          2388.429,
          2461.529,
          2536.565,
          2613.307,
          2691.514,
          2770.94,
          2851.332,
          2932.434,
          3013.984,
          3095.717,
          3177.366,
          3258.664,
          3339.343,
          3419.134,
          3497.771,
          3574.99,
          3650.533,
          3724.141,
          3795.567,
          3864.565,
          3930.901,
          3994.344,
          4054.677,
          4111.688,
          4165.179,
          4214.959,
          4260.854,
          4302.696,
          4340.333,
          4373.626,
          4402.447,
          4426.684,
          4446.235,
          4461.015,
          4470.951,
          4475.984,
          4476.069,
          4471.175,
          4461.281,
          4446.383,
          4426.486,
          4401.612,
          4371.791,
          4337.066,
          4297.494,
          4253.138,
          4204.076,
          4150.392,
          4092.184,
          4029.556,
          3962.623,
          3891.506,
          3816.338,
          3737.256,
          3654.406,
          3567.943,
          3478.026,
          3384.822,
          3288.506,
          3189.258,
          3087.265,
          2982.719,
          2875.821,
          2766.776,
          2655.478,
          2541.876,
          2426.008,
          2307.971,
          2187.916,
          2066.027,
          1942.518,
          1817.625,
          1691.602,
          1564.717,
          1437.25,
          1309.492,
          1181.742,
          1054.304,
          927.493,
          801.624,
          677.0182,
          554.0005,
          432.8973,
          314.0357,
          197.7437,
          84.3478,
          -25.82732,
          -132.4605,
          -235.2351,
          -333.8401,
          -427.9716,
          -517.3342,
          -601.6417,
          -680.619,
          -754.0037,
          -821.5464,
          -883.013,
          -938.1852,
          -986.8623,
          -1028.862,
          -1064.022,
          -1092.2,
          -1113.277,
          -1127.154,
          -1133.76,
          -1133.044,
          -1124.983,
          -1109.578,
          -1086.858,
          -1056.875,
          -1019.713,
          -975.4778,
          -924.3048,
          -866.3545,
          -801.8144,
          -730.8969,
          -653.8398,
          -570.9042,
          -482.3749,
          -388.5584,
          -289.7813,
          -186.39,
          -78.74783,
          32.76517,
          147.7555,
          265.8171,
          386.5333,
          509.4798,
          634.2258,
          760.3359,
          887.373,
          1014.9,
          1142.481,
          1269.687,
          1396.09,
          1521.276,
          1644.835,
          1766.373,
          1885.506,
          2001.866,
          2115.101,
          2224.875,
          2330.872,
          2432.792,
          2530.358,
          2623.312,
          2711.418,
          2794.459,
          2872.242,
          2944.596,
          3011.368,
          3072.43,
          3127.674,
          3177.011,
          3220.376,
          3257.72,
          3289.015,
          3314.251,
          3333.436,
          3346.595,
          3353.766,
          3355.009,
          3350.39,
          3339.996,
          3323.923,
          3302.279,
          3275.185,
          3242.769,
          3205.173,
          3162.544,
          3115.042,
          3062.829,
          3006.079,
          2944.97,
          2879.687,
          2810.421,
          2737.369,
          2660.731,
          2580.712,
          2497.526,
          2411.385,
          2322.51,
          2231.125,
          2137.455,
          2041.733,
          1944.193,
          1845.073,
          1744.616,
          1643.066,
          1540.671,
          1437.684,
          1334.357,
          1230.947,
          1127.712,
          1024.913,
          922.811,
          821.6684,
          721.7482,
          623.3127,
          526.6238,
          431.9419,
          339.525,
          249.6286,
          162.504,
          78.39827,
          -2.447035,
          -79.79633,
          -153.4212,
          -223.1013,
          -288.6252,
          -349.7912,
          -406.4081,
          -458.2964,
          -505.289,
          -547.2319,
          -583.9855,
          -615.4247,
          -641.4403,
          -661.9388,
          -676.8442,
          -686.0975,
          -689.6581,
          -687.5034,
          -679.6301,
          -666.0538,
          -646.8093,
          -621.9507,
          -591.552,
          -555.7067,
          -514.527,
          -468.1448,
          -416.7098,
          -360.3908,
          -299.3737,
          -233.8616,
          -164.0734,
          -90.24374,
          -12.62163,
          68.53033,
          152.9379,
          240.315,
          330.3656,
          422.7854,
          517.263,
          613.4806,
          711.1164,
          809.845,
          909.3395,
          1009.273,
          1109.32,
          1209.156,
          1308.462,
          1406.924,
          1504.234,
          1600.09,
          1694.202,
          1786.288,
          1876.077,
          1963.308,
          2047.735,
          2129.125,
          2207.256,
          2281.924,
          2352.937,
          2420.119,
          2483.31,
          2542.364,
          2597.151,
          2647.56,
          2693.489,
          2734.857,
          2771.595,
          2803.651,
          2830.987,
          2853.578,
          2871.414,
          2884.498,
          2892.846,
          2896.487,
          2895.461,
          2889.821,
          2879.628,
          2864.955,
          2845.887,
          2822.514,
          2794.939,
          2763.27,
          2727.625,
          2688.127,
          2644.91,
          2598.11,
          2547.871,
          2494.345,
          2437.686,
          2378.055,
          2315.617,
          2250.543,
          2183.005,
          2113.184,
          2041.26,
          1967.42,
          1891.851,
          1814.746,
          1736.301,
          1656.711,
          1576.178,
          1494.904,
          1413.093,
          1330.949,
          1248.68,
          1166.495,
          1084.601,
          1003.208,
          922.5253,
          842.7603,
          764.1208,
          686.8184,
          610.7333,
          535.1987,
          459.179,
          381.3476,
          300.1581,
          213.9185,
          120.8652,
          19.23698,
          -92.65285,
          -216.3477,
          -353.1834,
          -504.2303,
          -670.2394,
          -851.5953,
          -1048.268,
          -1259.363,
          -1484.15,
          -1722.357,
          -1973.337,
          -2236.426,
          -2510.931,
          -2796.134,
          -3091.28,
          -3395.578,
          -3708.203,
          -4028.294,
          -4354.963,
          -4687.297,
          -5024.365,
          -5365.23,
          -5708.948,
          -6054.572,
          -6401.164,
          -6747.786,
          -7093.503,
          -7437.381,
          -7778.488,
          -8115.883,
          -8448.616,
          -8775.726,
          -9096.234,
          -9409.144,
          -9713.429,
          -10008.05,
          -10291.95,
          -10564.03,
          -10823.2,
          -11068.34,
          -11298.33,
          -11512.05,
          -11708.38,
          -11886.23,
          -12044.54,
          -12182.29,
          -12298.5,
          -12392.14,
          -12462.22,
          -12507.84,
          -12527.85,
          -12520.79,
          -12484.95,
          -12418.39,
          -12318.98,
          -12184.49,
          -12012.6,
          -11801.02,
          -11547.56,
          -11250.25,
          -10907.47,
          -10518.11,
          -10081.72,
          -9598.403,
          -9069.248,
          -8496.416,
          -7882.525,
          -7230.582,
          -6543.954,
          -5826.34,
          -5081.728,
          -4314.357,
          -3528.662,
          -2729.228,
          -1920.733,
          -1107.894,
          -295.4069,
          512.1049,
          1310.143,
          2094.383,
          2860.724,
          3605.323,
          4324.633,
          5015.428,
          5674.828,
          6300.31,
          6889.726,
          7441.293,
          7953.599,
          8425.595,
          8856.575,
          9246.169,
          9594.313,
          9901.234,
          10167.42,
          10393.59,
          10580.69,
          10729.82,
          10842.26,
          10919.42,
          10962.78,
          10973.95,
          10954.55,
          10906.27,
          10830.8,
          10729.85,
          10605.09,
          10458.18,
          10290.75,
          10104.37,
          9900.542,
          9680.732,
          9446.326,
          9198.636,
          8938.906,
          8668.303,
          8387.917,
          8098.761,
          7801.771,
          7497.812,
          7187.672,
          6872.066,
          6551.641,
          6226.972,
          5898.569,
          5566.87,
          5232.249,
          4895.003,
          4555.361,
          4213.463,
          3869.351,
          3522.942,
          3173.995,
          2822.041,
          2466.294,
          2105.509,
          1737.811,
          1360.546,
          970.3834,
          563.9966,
          139.4479,
          -302.5872,
          -759.1066,
          -1226.39,
          -1701.208,
          -2180.947,
          -2663.306,
          -3146.121,
          -3627.337,
          -4105.024,
          -4577.383,
          -5042.727,
          -5499.458,
          -5946.043,
          -6380.973,
          -6802.754,
          -7209.882,
          -7600.834,
          -7974.055,
          -8327.956,
          -8660.917,
          -8971.282,
          -9257.372,
          -9517.488,
          -9749.926,
          -9952.991,
          -10125.01,
          -10264.34,
          -10369.43,
          -10438.79,
          -10471.04,
          -10464.93,
          -10419.36,
          -10333.43,
          -10206.41,
          -10037.81,
          -9827.391,
          -9575.172,
          -9281.446,
          -8946.805,
          -8572.141,
          -8158.65,
          -7707.843,
          -7221.527,
          -6701.81,
          -6151.079,
          -5571.987,
          -4967.427,
          -4340.508,
          -3694.524,
          -3032.917,
          -2359.245,
          -1677.144,
          -990.2864,
          -302.3419,
          383.0593,
          1062.365,
          1732.137,
          2389.085,
          3030.097,
          3652.26,
          4252.892,
          4829.554,
          5380.065,
          5902.51,
          6395.249,
          6856.918,
          7286.426,
          7682.942,
          8045.9,
          8374.977,
          8670.078,
          8931.328,
          9159.047,
          9353.737,
          9516.06,
          9646.814,
          9746.932,
          9817.438,
          9859.448,
          9874.146,
          9862.763,
          9826.57,
          9766.861,
          9684.938,
          9582.099,
          9459.63,
          9318.794,
          9160.826,
          8986.923,
          8798.238,
          8595.88,
          8380.9,
          8154.299,
          7917.021,
          7669.946,
          7413.898,
          7149.638,
          6877.863,
          6599.208,
          6314.242,
          6023.473,
          5727.336,
          5426.204,
          5120.371,
          4810.062,
          4495.414,
          4176.482,
          3853.219,
          3525.476,
          3192.985,
          2855.362,
          2512.104,
          2162.611,
          1806.237,
          1442.359,
          1070.492,
          690.4138,
          302.2597,
          -93.4235,
          -495.7065,
          -903.3592,
          -1314.953,
          -1728.953,
          -2143.779,
          -2557.841,
          -2969.568,
          -3377.415,
          -3779.869,
          -4175.455,
          -4562.733,
          -4940.293,
          -5306.751,
          -5660.745,
          -6000.926,
          -6325.955,
          -6634.502,
          -6925.24,
          -7196.85,
          -7448.019,
          -7677.446,
          -7883.847,
          -8065.965,
          -8222.571,
          -8352.486,
          -8454.584,
          -8527.807,
          -8571.18,
          -8583.824,
          -8564.973,
          -8513.982,
          -8430.354,
          -8313.742,
          -8163.969,
          -7981.036,
          -7765.134,
          -7516.656,
          -7236.198,
          -6924.569,
          -6582.791,
          -6212.089,
          -5813.904,
          -5389.876,
          -4941.833,
          -4471.781,
          -3981.891,
          -3474.481,
          -2951.99,
          -2416.965,
          -1872.03
         ]
        },
        {
         "line": {
          "color": "red"
         },
         "mode": "lines",
         "name": "pred_beginning",
         "type": "scatter",
         "y": [
          2002.465,
          2059.541,
          2119.765,
          2182.958,
          2248.933,
          2317.492,
          2388.429,
          2461.5290000000005,
          1973.5325231131228,
          2068.1184658202537,
          2162.718234672182,
          2258.2048060206043,
          2351.0804867702104,
          2446.416578217125,
          2542.63561370152,
          2634.035433878643,
          2726.599865601198,
          2818.8877744278197,
          2910.2731253836437,
          3000.0546435430524,
          3087.3244656541046,
          3174.0118212233156,
          3253.162320187077,
          3329.240199623463,
          3408.7919783245798,
          3482.7284130087355,
          3548.6617606233676,
          3615.0221110354414,
          3683.4814631506033,
          3757.1130795727295,
          3838.331712567474,
          3898.8349221977705,
          3955.00636850944,
          4012.686472295205,
          4073.3221556849485,
          4134.783549303481,
          4186.091408029228,
          4208.885254648694,
          4258.720468184469,
          4311.003230887508,
          4377.190593720498,
          4412.802884257748,
          4417.676117991203,
          4389.303582715399,
          4429.368534953684,
          4389.4662810704485,
          4308.730598528834,
          4193.8038245197695,
          4113.407686371303,
          4153.31958640207,
          4186.54220465725,
          4104.663132094775,
          3921.865420970036,
          3721.2917891722745,
          3529.4820039461047,
          3328.38940941109,
          3129.690988693661,
          2936.9042094915667,
          2694.5479681182214,
          2507.8397087837775,
          2358.7170202334964,
          2303.748126980887,
          2168.2901710252463,
          1967.1564195940932,
          1826.2408341336493,
          1628.2899898499936,
          1485.6466185973404,
          1254.3289461528925,
          1062.0730266033415,
          1102.167078053349,
          1015.6855069648334,
          976.7874170397391,
          909.2066681956694,
          872.7617543572336,
          851.0442570332767,
          750.0833361909947,
          660.7114577634694,
          660.1712735016454,
          705.599966075416,
          786.2189302318859,
          469.1445143014323,
          301.31143453591056,
          802.4513065305716,
          328.0897027782682,
          404.702702249024,
          69.73034187926072,
          105.14231408608364,
          317.73866301475414,
          311.5272674648431,
          15.752349131934807,
          -111.36301555331727,
          -189.31916068342082,
          16.918729137748244,
          86.8032191662844,
          279.8843666372469,
          233.82344947727898,
          -168.80268911183197,
          -276.2506843620497,
          -157.7504146149813,
          -381.18726490988115,
          -415.9105825674412,
          -841.1332638666959,
          -784.7298277068678,
          -864.6000900456845,
          -1058.8633728967636,
          -1289.7731740697093,
          -1474.8391767867327,
          -1478.5170920717767,
          -1607.8256289754029,
          -1491.955783275904,
          -1351.7979027041436,
          -948.8142537721067,
          -915.5365720914281,
          -831.613239713113,
          -697.4758413546813,
          -537.7353970616103,
          -278.2186592278198,
          -75.89682395890503,
          200.82639030523532,
          586.205578836641,
          900.6915314612919,
          1106.5306736588334,
          1199.2751668019966,
          1258.890127013669,
          1300.2016830514126,
          1375.317037733174,
          1479.0089437110526,
          1629.5803228516006,
          1557.3631531960002,
          1592.0052020605985,
          1636.9139672823635,
          1710.2195439178888,
          1837.0986985654372,
          1773.6534139377063,
          1791.8830250830108,
          1878.88388044703,
          1935.4119126791538,
          1988.557040971605,
          2156.4524187732745,
          2368.3814954463796,
          2474.1884800399002,
          2602.0832132535024,
          2645.0442605193157,
          2702.2381984694384,
          2720.6430479615847,
          2711.264741792167,
          2729.4480514293155,
          2740.8993147034826,
          2734.206496007133,
          2710.476330000505,
          2685.0268989653223,
          2669.401747653812,
          2690.0081695511417,
          2757.6765375686327,
          2817.147609412944,
          2862.02566773173,
          2901.869080115017,
          2931.1361348053406,
          2905.922069769952,
          2833.640592464135,
          2725.433324826259,
          2688.7921118855356,
          2663.7761144128162,
          2648.672498144567,
          2630.1052718356223,
          2625.571260957063,
          2659.061720575397,
          2672.6881901181587,
          2672.01328132913,
          2690.539672280187,
          2721.4841920264244,
          2741.477440478934,
          2728.932304074574,
          2706.1731835862247,
          2678.403532531207,
          2642.8893111605394,
          2602.1443055212085,
          2557.963020592525,
          2501.9481634091344,
          2435.8386128329066,
          2381.039813315122,
          2316.7218738739443,
          2263.7767423736686,
          2199.529862885981,
          2152.4225798724174,
          2111.8422018176425,
          2063.8214286327448,
          1850.420832153546,
          1723.1029385623913,
          1752.0981326614221,
          1646.9773106957186,
          1599.276789608902,
          1390.3512017391886,
          1083.923640763248,
          1025.9319664121817,
          753.2647964163623,
          848.0750120536258,
          569.2372014812202,
          469.38172914617076,
          321.7734053739404,
          134.4171660789963,
          122.7813398487065,
          69.9954501672809,
          47.02001482051395,
          -5.963138577952748,
          -89.58157230967578,
          -119.03238611049511,
          -126.47487123925055,
          -237.5280739374855,
          -373.7261305625626,
          -456.52994713516,
          -547.5082306651095,
          -739.4709877142332,
          -879.2738096722323,
          -819.9674457970393,
          -895.5570693991522,
          -822.8634604400056,
          -827.7490733961276,
          -978.2170779889516,
          -988.7940787584159,
          -1103.0473909005816,
          -1101.3123704977231,
          -1175.6325610845495,
          -1278.2971523502092,
          -1293.1745664588195,
          -1000.6204967870369,
          -986.5068164093177,
          -1068.4720612230838,
          -1060.5961425318646,
          -949.5714763534136,
          -938.5907843097109,
          -940.856664365112,
          -858.0059032078559,
          -702.9046931860125,
          -615.5652580436,
          -590.9381610855686,
          -609.9181621243445,
          -708.6610317260745,
          -746.2199952199594,
          -833.9467231858048,
          -951.5008666290535,
          -928.8197191665927,
          -878.2369291970435,
          -685.6499860179998,
          -505.3876843876343,
          -195.02682637072473,
          41.38851350643603,
          63.54113246867456,
          155.33861507782768,
          379.12272668390005,
          564.9312416072431,
          705.2406470798278,
          1022.760795410849,
          1499.151064373815,
          1618.503169332572,
          1858.8869343046329,
          2067.5985384682485,
          2073.1743332803258,
          2151.2734021630367,
          2101.2070026247316,
          2089.2322750777976,
          2154.935079766401,
          2246.7609381262127,
          2363.931084513102,
          2443.215986465818,
          2558.478124870764,
          2532.940592354784,
          2483.6780384441927,
          2455.937647370024,
          2477.7479084794186,
          2487.28151762411,
          2452.2981559059845,
          2625.9082330442006,
          2751.5567000357178,
          2957.719952790354,
          2998.973631942902,
          3015.037682967144,
          2945.8567990165466,
          2924.9072958053084,
          2981.8015601054185,
          2983.713748084625,
          2980.8681345625164,
          2956.8813810315223,
          2943.49445748582,
          2930.6129920708236,
          2932.752507593548,
          2947.7683439192515,
          2960.271358812719,
          2963.271310695349,
          2951.81940434468,
          2936.668521953521,
          2919.45850860241,
          2910.009464017754,
          2892.475661647799,
          2867.0853936508156,
          2843.7860889006424,
          2824.5744999365215,
          2804.151676380562,
          2765.9329967800113,
          2697.2160925257303,
          2615.2206231163627,
          2488.3136554100956,
          2380.466510613436,
          2279.162669226371,
          2188.903023687598,
          2096.2614227847826,
          2000.8227606357718,
          1917.6192720170748,
          1838.5419230054354,
          1754.3101550597662,
          1667.8187770545924,
          1579.4086195360646,
          1490.234165594706,
          1402.7196528745774,
          1318.6382040612907,
          1246.2427414454637,
          1178.6427003063286,
          1100.5671037159468,
          1019.6830312714566,
          939.3836761365658,
          864.9704002260501,
          788.8331969823384,
          714.7822946807962,
          651.9800865552368,
          586.5954439660825,
          477.73521252481487,
          402.3486403282627,
          308.25633922111086,
          160.69102118996327,
          32.90384252134896,
          -343.18112209329865,
          -936.285435433989,
          -1578.1957183687289,
          -2229.2634106943897,
          -2750.642347134516,
          -3237.1400102512353,
          -3548.5690987228145,
          -3860.769878996999,
          -4067.8533742262425,
          -4219.387278121415,
          -4368.0234792978035,
          -4535.258739069995,
          -4726.7579183456155,
          -4937.974466254314,
          -5185.0811137492,
          -5454.561035831133,
          -5726.264073381072,
          -6008.191384239035,
          -6306.137730766088,
          -6612.610628635432,
          -6929.716153391678,
          -7260.09413407624,
          -7596.9568982086985,
          -7946.826527674078,
          -8293.66469450822,
          -8639.434068195753,
          -8980.092269844028,
          -9309.000820721129,
          -9626.471612930609,
          -9930.504678550713,
          -10223.439529896345,
          -10505.295459262567,
          -10780.169507044713,
          -11037.654766208143,
          -11280.18592439008,
          -11508.352039666512,
          -11719.612959853861,
          -11911.63303109624,
          -12083.517090902627,
          -12232.615664084078,
          -12360.340946639359,
          -12466.165615836688,
          -12535.256469076981,
          -12579.152871115204,
          -12596.851622607966,
          -12589.947553280654,
          -12562.119060725687,
          -12515.047146919742,
          -12449.210260780435,
          -12381.914877134204,
          -12332.922736892777,
          -12284.699716147947,
          -12226.040849925877,
          -12172.337531229541,
          -12067.984221069179,
          -11806.059161734756,
          -11714.80017531161,
          -11413.255172678406,
          -10822.105811904315,
          -9855.100743288604,
          -8796.764663681499,
          -7705.944217643708,
          -6719.620487826263,
          -5790.751141942321,
          -5021.16863026373,
          -4422.386594485368,
          -4009.2768217964513,
          -3580.1235765313622,
          -3071.3130880188,
          -2473.8474298403835,
          -1741.4189846129977,
          -872.0350190255397,
          51.93938929299986,
          950.7950686675978,
          1809.3038067577093,
          2646.894070077812,
          3421.36090855952,
          4157.210842316709,
          4839.597324912872,
          5412.605497560706,
          5972.678829443863,
          6472.261813226766,
          6875.828973699961,
          7232.115863580509,
          7451.698193705955,
          7605.862923571512,
          7755.857945396989,
          7905.341078326737,
          8038.93700627034,
          8154.431616830822,
          8262.573933741978,
          8342.653035174875,
          8456.063434791819,
          8501.098082238885,
          8537.429975382063,
          8590.041993254214,
          8606.842366873443,
          8585.269722531599,
          8548.571918858685,
          8546.395104898835,
          8546.064563576718,
          8547.546854914224,
          8523.499652192026,
          8493.09756747537,
          8473.254798924369,
          8462.906411851425,
          8454.452528153879,
          8447.343317422374,
          8429.527526006217,
          8403.444986154645,
          8387.87160250156,
          8372.324584985065,
          8359.58266717104,
          8337.980441310097,
          8281.762693490271,
          8203.580667738779,
          8117.338321109072,
          8028.762892929486,
          7927.315002405934,
          7811.368309064426,
          7692.457033047907,
          7567.051970512462,
          7426.79891461838,
          7273.98657463689,
          7115.593616769556,
          6948.713978303066,
          6783.035606742633,
          6608.771520801709,
          6431.922267322055,
          6243.311144617686,
          6037.440491671538,
          5815.1192987233435,
          5608.222938756232,
          5412.850509708032,
          5164.046783323916,
          4869.35697620386,
          4577.209893573388,
          4184.370535309417,
          3733.770688696911,
          3404.096876782226,
          2909.9673425068613,
          2595.49007141499,
          2058.7266550442914,
          1596.0909886171446,
          1269.8831982800384,
          762.3144904931696,
          109.5260862168235,
          -759.7884271083999,
          -1886.0247038120267,
          -3108.147223910175,
          -3937.805942421621,
          -4657.594397460576,
          -5231.2218527800005,
          -5712.095168808729,
          -6115.054621987371,
          -6458.6266032669855,
          -6776.797062710827,
          -7098.8517042277845,
          -7413.909030324615,
          -7704.800184546345,
          -7969.505263599655,
          -8251.11039313003,
          -8551.533870343448,
          -8778.685853975954,
          -8932.417150279047,
          -9005.393471745461,
          -9083.35878071572,
          -9195.024513782273,
          -9440.92282052958,
          -9702.254320252498,
          -9787.479962932273,
          -9713.587900526767,
          -9558.61160811547,
          -9302.538544950809,
          -8999.36655876711,
          -8680.289361455207,
          -8344.114046103568,
          -8027.358354964504,
          -7602.731725198199,
          -7081.340731073657,
          -6524.0699265869625,
          -5941.755793876207,
          -5355.1324055243995,
          -4708.089407487579,
          -4030.345294160591,
          -3317.8737635633433,
          -2570.4754619801597,
          -1759.0048761796286,
          -877.9506797690144,
          -3.110853137134143,
          856.6751956554153,
          1684.0087103041346,
          2493.9363948068312,
          3246.3637154061207,
          3984.474063068442,
          4627.111987065389,
          5130.867251194381,
          5573.271087786713,
          5971.316793412264,
          6337.8125227647815,
          6620.57969153458,
          6845.894405600384,
          7033.636731950319,
          7176.6923152408635,
          7220.002231509105,
          7258.800966114613,
          7324.514381565504,
          7386.8921591996295,
          7465.300547879885,
          7532.826795990396,
          7609.532961169404,
          7666.074176469822,
          7713.705566832656,
          7716.219352879644,
          7711.819423451787,
          7740.406103202813,
          7719.972347346316,
          7671.9313172515995,
          7615.539295699685,
          7557.877841132484,
          7532.356707067309,
          7516.796828020769,
          7501.759770170494,
          7511.166050167756,
          7514.681106328625,
          7515.048946087867,
          7485.512442343133,
          7459.420899420532,
          7437.568516800245,
          7411.586296883012,
          7389.61687433933,
          7371.026175738056,
          7340.062685235004,
          7288.334897553339,
          7228.674118140887,
          7156.872054367438,
          7076.8360390601865,
          6993.789139569769,
          6902.435620900802,
          6802.58384625564,
          6702.287705747478,
          6575.245370437503,
          6432.207150212517,
          6277.816057418197,
          6117.3086640117235,
          5959.523413438942,
          5782.044588063663,
          5584.287631345412,
          5350.794913401494,
          5083.641642104418,
          4766.417791271772,
          4428.290095659542,
          4106.326771005893,
          3755.892520371608,
          3407.609360637087,
          3062.224546697852,
          2679.3546426779194,
          2191.941238622107,
          1749.6468858042701,
          1350.2446102973888,
          886.2422455340021,
          724.3896968541119,
          412.20555618442086,
          43.684698542001854,
          -474.33014394613963,
          -1103.1033385562705,
          -1824.095793576416,
          -2498.994936457797,
          -3092.270629686316,
          -3595.0275175456873,
          -4050.407994875336,
          -4498.068981872919,
          -4917.149076807995,
          -5313.596094249147,
          -5682.786957222266,
          -6004.489835892536,
          -6259.578992008876,
          -6494.9404902681035,
          -6791.637339151437,
          -6994.2656003736365,
          -7237.024407637342,
          -7337.241449735738,
          -7453.966265644873,
          -7541.755211262303,
          -7647.770231104277,
          -7759.530496416649,
          -7935.777187213768,
          -7971.557963794586,
          -7970.841576571166,
          -7922.821768001021,
          -7765.774769252734,
          -7499.278722140876,
          -7395.744048367778,
          -7257.928252416927,
          -7004.38633836481,
          -6668.617447362545,
          -6318.047507586302,
          -5934.549478592873,
          -5425.787220817974,
          -4828.367864147714,
          -4203.635119200726,
          -3478.83838436286,
          -2733.0271955870357,
          -2033.3340773953103,
          -1274.7267916101534,
          -506.31789454802527,
          262.4963014795964,
          1061.9047013288982,
          1857.9623510636359,
          2570.585969253648,
          3160.2094702572103
         ]
        }
       ],
       "layout": {
        "template": {
         "data": {
          "bar": [
           {
            "error_x": {
             "color": "#2a3f5f"
            },
            "error_y": {
             "color": "#2a3f5f"
            },
            "marker": {
             "line": {
              "color": "#E5ECF6",
              "width": 0.5
             },
             "pattern": {
              "fillmode": "overlay",
              "size": 10,
              "solidity": 0.2
             }
            },
            "type": "bar"
           }
          ],
          "barpolar": [
           {
            "marker": {
             "line": {
              "color": "#E5ECF6",
              "width": 0.5
             },
             "pattern": {
              "fillmode": "overlay",
              "size": 10,
              "solidity": 0.2
             }
            },
            "type": "barpolar"
           }
          ],
          "carpet": [
           {
            "aaxis": {
             "endlinecolor": "#2a3f5f",
             "gridcolor": "white",
             "linecolor": "white",
             "minorgridcolor": "white",
             "startlinecolor": "#2a3f5f"
            },
            "baxis": {
             "endlinecolor": "#2a3f5f",
             "gridcolor": "white",
             "linecolor": "white",
             "minorgridcolor": "white",
             "startlinecolor": "#2a3f5f"
            },
            "type": "carpet"
           }
          ],
          "choropleth": [
           {
            "colorbar": {
             "outlinewidth": 0,
             "ticks": ""
            },
            "type": "choropleth"
           }
          ],
          "contour": [
           {
            "colorbar": {
             "outlinewidth": 0,
             "ticks": ""
            },
            "colorscale": [
             [
              0,
              "#0d0887"
             ],
             [
              0.1111111111111111,
              "#46039f"
             ],
             [
              0.2222222222222222,
              "#7201a8"
             ],
             [
              0.3333333333333333,
              "#9c179e"
             ],
             [
              0.4444444444444444,
              "#bd3786"
             ],
             [
              0.5555555555555556,
              "#d8576b"
             ],
             [
              0.6666666666666666,
              "#ed7953"
             ],
             [
              0.7777777777777778,
              "#fb9f3a"
             ],
             [
              0.8888888888888888,
              "#fdca26"
             ],
             [
              1,
              "#f0f921"
             ]
            ],
            "type": "contour"
           }
          ],
          "contourcarpet": [
           {
            "colorbar": {
             "outlinewidth": 0,
             "ticks": ""
            },
            "type": "contourcarpet"
           }
          ],
          "heatmap": [
           {
            "colorbar": {
             "outlinewidth": 0,
             "ticks": ""
            },
            "colorscale": [
             [
              0,
              "#0d0887"
             ],
             [
              0.1111111111111111,
              "#46039f"
             ],
             [
              0.2222222222222222,
              "#7201a8"
             ],
             [
              0.3333333333333333,
              "#9c179e"
             ],
             [
              0.4444444444444444,
              "#bd3786"
             ],
             [
              0.5555555555555556,
              "#d8576b"
             ],
             [
              0.6666666666666666,
              "#ed7953"
             ],
             [
              0.7777777777777778,
              "#fb9f3a"
             ],
             [
              0.8888888888888888,
              "#fdca26"
             ],
             [
              1,
              "#f0f921"
             ]
            ],
            "type": "heatmap"
           }
          ],
          "heatmapgl": [
           {
            "colorbar": {
             "outlinewidth": 0,
             "ticks": ""
            },
            "colorscale": [
             [
              0,
              "#0d0887"
             ],
             [
              0.1111111111111111,
              "#46039f"
             ],
             [
              0.2222222222222222,
              "#7201a8"
             ],
             [
              0.3333333333333333,
              "#9c179e"
             ],
             [
              0.4444444444444444,
              "#bd3786"
             ],
             [
              0.5555555555555556,
              "#d8576b"
             ],
             [
              0.6666666666666666,
              "#ed7953"
             ],
             [
              0.7777777777777778,
              "#fb9f3a"
             ],
             [
              0.8888888888888888,
              "#fdca26"
             ],
             [
              1,
              "#f0f921"
             ]
            ],
            "type": "heatmapgl"
           }
          ],
          "histogram": [
           {
            "marker": {
             "pattern": {
              "fillmode": "overlay",
              "size": 10,
              "solidity": 0.2
             }
            },
            "type": "histogram"
           }
          ],
          "histogram2d": [
           {
            "colorbar": {
             "outlinewidth": 0,
             "ticks": ""
            },
            "colorscale": [
             [
              0,
              "#0d0887"
             ],
             [
              0.1111111111111111,
              "#46039f"
             ],
             [
              0.2222222222222222,
              "#7201a8"
             ],
             [
              0.3333333333333333,
              "#9c179e"
             ],
             [
              0.4444444444444444,
              "#bd3786"
             ],
             [
              0.5555555555555556,
              "#d8576b"
             ],
             [
              0.6666666666666666,
              "#ed7953"
             ],
             [
              0.7777777777777778,
              "#fb9f3a"
             ],
             [
              0.8888888888888888,
              "#fdca26"
             ],
             [
              1,
              "#f0f921"
             ]
            ],
            "type": "histogram2d"
           }
          ],
          "histogram2dcontour": [
           {
            "colorbar": {
             "outlinewidth": 0,
             "ticks": ""
            },
            "colorscale": [
             [
              0,
              "#0d0887"
             ],
             [
              0.1111111111111111,
              "#46039f"
             ],
             [
              0.2222222222222222,
              "#7201a8"
             ],
             [
              0.3333333333333333,
              "#9c179e"
             ],
             [
              0.4444444444444444,
              "#bd3786"
             ],
             [
              0.5555555555555556,
              "#d8576b"
             ],
             [
              0.6666666666666666,
              "#ed7953"
             ],
             [
              0.7777777777777778,
              "#fb9f3a"
             ],
             [
              0.8888888888888888,
              "#fdca26"
             ],
             [
              1,
              "#f0f921"
             ]
            ],
            "type": "histogram2dcontour"
           }
          ],
          "mesh3d": [
           {
            "colorbar": {
             "outlinewidth": 0,
             "ticks": ""
            },
            "type": "mesh3d"
           }
          ],
          "parcoords": [
           {
            "line": {
             "colorbar": {
              "outlinewidth": 0,
              "ticks": ""
             }
            },
            "type": "parcoords"
           }
          ],
          "pie": [
           {
            "automargin": true,
            "type": "pie"
           }
          ],
          "scatter": [
           {
            "fillpattern": {
             "fillmode": "overlay",
             "size": 10,
             "solidity": 0.2
            },
            "type": "scatter"
           }
          ],
          "scatter3d": [
           {
            "line": {
             "colorbar": {
              "outlinewidth": 0,
              "ticks": ""
             }
            },
            "marker": {
             "colorbar": {
              "outlinewidth": 0,
              "ticks": ""
             }
            },
            "type": "scatter3d"
           }
          ],
          "scattercarpet": [
           {
            "marker": {
             "colorbar": {
              "outlinewidth": 0,
              "ticks": ""
             }
            },
            "type": "scattercarpet"
           }
          ],
          "scattergeo": [
           {
            "marker": {
             "colorbar": {
              "outlinewidth": 0,
              "ticks": ""
             }
            },
            "type": "scattergeo"
           }
          ],
          "scattergl": [
           {
            "marker": {
             "colorbar": {
              "outlinewidth": 0,
              "ticks": ""
             }
            },
            "type": "scattergl"
           }
          ],
          "scattermapbox": [
           {
            "marker": {
             "colorbar": {
              "outlinewidth": 0,
              "ticks": ""
             }
            },
            "type": "scattermapbox"
           }
          ],
          "scatterpolar": [
           {
            "marker": {
             "colorbar": {
              "outlinewidth": 0,
              "ticks": ""
             }
            },
            "type": "scatterpolar"
           }
          ],
          "scatterpolargl": [
           {
            "marker": {
             "colorbar": {
              "outlinewidth": 0,
              "ticks": ""
             }
            },
            "type": "scatterpolargl"
           }
          ],
          "scatterternary": [
           {
            "marker": {
             "colorbar": {
              "outlinewidth": 0,
              "ticks": ""
             }
            },
            "type": "scatterternary"
           }
          ],
          "surface": [
           {
            "colorbar": {
             "outlinewidth": 0,
             "ticks": ""
            },
            "colorscale": [
             [
              0,
              "#0d0887"
             ],
             [
              0.1111111111111111,
              "#46039f"
             ],
             [
              0.2222222222222222,
              "#7201a8"
             ],
             [
              0.3333333333333333,
              "#9c179e"
             ],
             [
              0.4444444444444444,
              "#bd3786"
             ],
             [
              0.5555555555555556,
              "#d8576b"
             ],
             [
              0.6666666666666666,
              "#ed7953"
             ],
             [
              0.7777777777777778,
              "#fb9f3a"
             ],
             [
              0.8888888888888888,
              "#fdca26"
             ],
             [
              1,
              "#f0f921"
             ]
            ],
            "type": "surface"
           }
          ],
          "table": [
           {
            "cells": {
             "fill": {
              "color": "#EBF0F8"
             },
             "line": {
              "color": "white"
             }
            },
            "header": {
             "fill": {
              "color": "#C8D4E3"
             },
             "line": {
              "color": "white"
             }
            },
            "type": "table"
           }
          ]
         },
         "layout": {
          "annotationdefaults": {
           "arrowcolor": "#2a3f5f",
           "arrowhead": 0,
           "arrowwidth": 1
          },
          "autotypenumbers": "strict",
          "coloraxis": {
           "colorbar": {
            "outlinewidth": 0,
            "ticks": ""
           }
          },
          "colorscale": {
           "diverging": [
            [
             0,
             "#8e0152"
            ],
            [
             0.1,
             "#c51b7d"
            ],
            [
             0.2,
             "#de77ae"
            ],
            [
             0.3,
             "#f1b6da"
            ],
            [
             0.4,
             "#fde0ef"
            ],
            [
             0.5,
             "#f7f7f7"
            ],
            [
             0.6,
             "#e6f5d0"
            ],
            [
             0.7,
             "#b8e186"
            ],
            [
             0.8,
             "#7fbc41"
            ],
            [
             0.9,
             "#4d9221"
            ],
            [
             1,
             "#276419"
            ]
           ],
           "sequential": [
            [
             0,
             "#0d0887"
            ],
            [
             0.1111111111111111,
             "#46039f"
            ],
            [
             0.2222222222222222,
             "#7201a8"
            ],
            [
             0.3333333333333333,
             "#9c179e"
            ],
            [
             0.4444444444444444,
             "#bd3786"
            ],
            [
             0.5555555555555556,
             "#d8576b"
            ],
            [
             0.6666666666666666,
             "#ed7953"
            ],
            [
             0.7777777777777778,
             "#fb9f3a"
            ],
            [
             0.8888888888888888,
             "#fdca26"
            ],
            [
             1,
             "#f0f921"
            ]
           ],
           "sequentialminus": [
            [
             0,
             "#0d0887"
            ],
            [
             0.1111111111111111,
             "#46039f"
            ],
            [
             0.2222222222222222,
             "#7201a8"
            ],
            [
             0.3333333333333333,
             "#9c179e"
            ],
            [
             0.4444444444444444,
             "#bd3786"
            ],
            [
             0.5555555555555556,
             "#d8576b"
            ],
            [
             0.6666666666666666,
             "#ed7953"
            ],
            [
             0.7777777777777778,
             "#fb9f3a"
            ],
            [
             0.8888888888888888,
             "#fdca26"
            ],
            [
             1,
             "#f0f921"
            ]
           ]
          },
          "colorway": [
           "#636efa",
           "#EF553B",
           "#00cc96",
           "#ab63fa",
           "#FFA15A",
           "#19d3f3",
           "#FF6692",
           "#B6E880",
           "#FF97FF",
           "#FECB52"
          ],
          "font": {
           "color": "#2a3f5f"
          },
          "geo": {
           "bgcolor": "white",
           "lakecolor": "white",
           "landcolor": "#E5ECF6",
           "showlakes": true,
           "showland": true,
           "subunitcolor": "white"
          },
          "hoverlabel": {
           "align": "left"
          },
          "hovermode": "closest",
          "mapbox": {
           "style": "light"
          },
          "paper_bgcolor": "white",
          "plot_bgcolor": "#E5ECF6",
          "polar": {
           "angularaxis": {
            "gridcolor": "white",
            "linecolor": "white",
            "ticks": ""
           },
           "bgcolor": "#E5ECF6",
           "radialaxis": {
            "gridcolor": "white",
            "linecolor": "white",
            "ticks": ""
           }
          },
          "scene": {
           "xaxis": {
            "backgroundcolor": "#E5ECF6",
            "gridcolor": "white",
            "gridwidth": 2,
            "linecolor": "white",
            "showbackground": true,
            "ticks": "",
            "zerolinecolor": "white"
           },
           "yaxis": {
            "backgroundcolor": "#E5ECF6",
            "gridcolor": "white",
            "gridwidth": 2,
            "linecolor": "white",
            "showbackground": true,
            "ticks": "",
            "zerolinecolor": "white"
           },
           "zaxis": {
            "backgroundcolor": "#E5ECF6",
            "gridcolor": "white",
            "gridwidth": 2,
            "linecolor": "white",
            "showbackground": true,
            "ticks": "",
            "zerolinecolor": "white"
           }
          },
          "shapedefaults": {
           "line": {
            "color": "#2a3f5f"
           }
          },
          "ternary": {
           "aaxis": {
            "gridcolor": "white",
            "linecolor": "white",
            "ticks": ""
           },
           "baxis": {
            "gridcolor": "white",
            "linecolor": "white",
            "ticks": ""
           },
           "bgcolor": "#E5ECF6",
           "caxis": {
            "gridcolor": "white",
            "linecolor": "white",
            "ticks": ""
           }
          },
          "title": {
           "x": 0.05
          },
          "xaxis": {
           "automargin": true,
           "gridcolor": "white",
           "linecolor": "white",
           "ticks": "",
           "title": {
            "standoff": 15
           },
           "zerolinecolor": "white",
           "zerolinewidth": 2
          },
          "yaxis": {
           "automargin": true,
           "gridcolor": "white",
           "linecolor": "white",
           "ticks": "",
           "title": {
            "standoff": 15
           },
           "zerolinecolor": "white",
           "zerolinewidth": 2
          }
         }
        },
        "title": {
         "text": "TSMixer Prediction vs. Ground Truth"
        },
        "xaxis": {
         "title": {
          "text": "Time Step"
         }
        },
        "yaxis": {
         "title": {
          "text": "Value"
         }
        }
       }
      }
     },
     "metadata": {},
     "output_type": "display_data"
    },
    {
     "data": {
      "application/vnd.plotly.v1+json": {
       "config": {
        "plotlyServerURL": "https://plot.ly"
       },
       "data": [
        {
         "line": {
          "color": "blue"
         },
         "mode": "lines",
         "name": "GT",
         "type": "scatter",
         "y": [
          155,
          154.9458,
          154.8694,
          154.7701,
          154.6468,
          154.4989,
          154.3256,
          154.1262,
          153.9,
          153.6465,
          153.3652,
          153.0557,
          152.7175,
          152.3503,
          151.9539,
          151.5281,
          151.0727,
          150.5878,
          150.0732,
          149.5292,
          148.9558,
          148.3533,
          147.722,
          147.0621,
          146.3743,
          145.6588,
          144.9164,
          144.1475,
          143.353,
          142.5335,
          141.69,
          140.8232,
          139.9342,
          139.0239,
          138.0935,
          137.144,
          136.1767,
          135.1929,
          134.1938,
          133.1808,
          132.1553,
          131.1189,
          130.073,
          129.0193,
          127.9594,
          126.8949,
          125.8276,
          124.7592,
          123.6917,
          122.6268,
          121.5665,
          120.5126,
          119.4673,
          118.4324,
          117.4099,
          116.4021,
          115.4109,
          114.4383,
          113.4866,
          112.5579,
          111.6542,
          110.7775,
          109.9301,
          109.1139,
          108.331,
          107.5834,
          106.8728,
          106.2013,
          105.5705,
          104.9822,
          104.4387,
          103.9424,
          103.4952,
          103.0993,
          102.7561,
          102.4674,
          102.2345,
          102.0583,
          101.9397,
          101.8795,
          101.8781,
          101.9355,
          102.0517,
          102.2263,
          102.4589,
          102.7484,
          103.0938,
          103.4939,
          103.9471,
          104.4515,
          105.0053,
          105.6063,
          106.252,
          106.9402,
          107.668,
          108.4327,
          109.2315,
          110.0614,
          110.9193,
          111.8022,
          112.7069,
          113.6303,
          114.5692,
          115.5204,
          116.4809,
          117.4474,
          118.4168,
          119.3863,
          120.3527,
          121.3131,
          122.2648,
          123.205,
          124.131,
          125.0402,
          125.9303,
          126.7987,
          127.6432,
          128.4617,
          129.252,
          130.0124,
          130.741,
          131.4359,
          132.0958,
          132.7191,
          133.3044,
          133.8506,
          134.3566,
          134.8214,
          135.244,
          135.6239,
          135.9603,
          136.2529,
          136.5011,
          136.7048,
          136.8638,
          136.978,
          137.0476,
          137.0728,
          137.0538,
          136.991,
          136.885,
          136.7363,
          136.5456,
          136.3138,
          136.0416,
          135.7302,
          135.3804,
          134.9935,
          134.5707,
          134.1132,
          133.6224,
          133.0997,
          132.5467,
          131.9648,
          131.3556,
          130.7209,
          130.0623,
          129.3816,
          128.6806,
          127.9611,
          127.2251,
          126.4745,
          125.7113,
          124.9373,
          124.1547,
          123.3656,
          122.5719,
          121.7759,
          120.9795,
          120.185,
          119.3944,
          118.61,
          117.8339,
          117.0682,
          116.3151,
          115.5767,
          114.8552,
          114.1526,
          113.471,
          112.8125,
          112.1791,
          111.5728,
          110.9954,
          110.4488,
          109.9348,
          109.4551,
          109.0113,
          108.605,
          108.2375,
          107.9101,
          107.6241,
          107.3804,
          107.1801,
          107.0237,
          106.9121,
          106.8455,
          106.8243,
          106.8487,
          106.9185,
          107.0336,
          107.1935,
          107.3976,
          107.6453,
          107.9357,
          108.2676,
          108.6398,
          109.0511,
          109.4998,
          109.9843,
          110.5029,
          111.0537,
          111.6348,
          112.2439,
          112.8791,
          113.5381,
          114.2186,
          114.9183,
          115.6348,
          116.3658,
          117.1089,
          117.8617,
          118.6218,
          119.3868,
          120.1544,
          120.9222,
          121.6879,
          122.4493,
          123.2042,
          123.9505,
          124.686,
          125.4087,
          126.1168,
          126.8082,
          127.4812,
          128.1342,
          128.7654,
          129.3733,
          129.9564,
          130.5134,
          131.043,
          131.5439,
          132.0152,
          132.4557,
          132.8646,
          133.2411,
          133.5845,
          133.894,
          134.1693,
          134.4099,
          134.6153,
          134.7855,
          134.9202,
          135.0194,
          135.083,
          135.1113,
          135.1044,
          135.0626,
          134.9863,
          134.8759,
          134.732,
          134.5551,
          134.3459,
          134.1052,
          133.8338,
          133.5327,
          133.2026,
          132.8448,
          132.4601,
          132.0499,
          131.6152,
          131.1573,
          130.6774,
          130.177,
          129.6574,
          129.12,
          128.5662,
          127.9977,
          127.4158,
          126.8221,
          126.2183,
          125.6059,
          124.9867,
          124.3621,
          123.7339,
          123.1039,
          122.4736,
          121.8448,
          121.2192,
          120.5984,
          119.9843,
          119.3785,
          118.7827,
          118.1985,
          117.6277,
          117.0718,
          116.5324,
          116.0112,
          115.5097,
          115.0293,
          114.5715,
          114.1377,
          113.7292,
          113.3474,
          112.9933,
          112.6681,
          112.3728,
          112.1085,
          111.8759,
          111.6758,
          111.5089,
          111.3758,
          111.2768,
          111.2123,
          111.1825,
          111.1875,
          111.2273,
          111.3017,
          111.4105,
          111.5533,
          111.7295,
          111.9386,
          112.1798,
          112.4046,
          112.5399,
          112.5365,
          112.3553,
          111.9673,
          111.3535,
          110.5046,
          109.4213,
          108.1139,
          106.602,
          104.9141,
          103.0872,
          101.1658,
          99.20127,
          97.25024,
          95.37375,
          93.63137,
          92.062,
          90.67863,
          89.49379,
          88.51921,
          87.76552,
          87.24181,
          86.95529,
          86.91101,
          87.11154,
          87.55683,
          88.24416,
          89.16819,
          90.32109,
          91.69283,
          93.27144,
          95.04342,
          96.99407,
          99.10786,
          101.3688,
          103.7605,
          106.2669,
          108.8719,
          111.5599,
          114.3158,
          117.1249,
          119.9734,
          122.8478,
          125.7355,
          128.6243,
          131.5029,
          134.3604,
          137.1864,
          139.9713,
          142.7059,
          145.3814,
          147.9896,
          150.5228,
          152.9738,
          155.3355,
          157.5081,
          159.4316,
          161.1671,
          162.7723,
          164.3014,
          165.8048,
          167.3282,
          168.9116,
          170.5878,
          172.381,
          174.3053,
          176.3628,
          178.5423,
          180.818,
          183.1493,
          185.4796,
          187.6993,
          189.7318,
          191.5739,
          193.223,
          194.677,
          195.9343,
          196.9938,
          197.8549,
          198.5176,
          198.9826,
          199.251,
          199.3243,
          199.205,
          198.8955,
          198.3993,
          197.7201,
          196.8619,
          195.8294,
          194.6276,
          193.2617,
          191.7373,
          190.0604,
          188.237,
          186.2734,
          184.176,
          181.9514,
          179.606,
          177.1466,
          174.5797,
          171.9119,
          169.1496,
          166.2993,
          163.3672,
          160.3593,
          157.2818,
          154.1402,
          150.9402,
          147.6872,
          144.3863,
          141.0425,
          137.6603,
          134.2444,
          130.799,
          127.3281,
          123.8355,
          120.3248,
          116.7995,
          113.2627,
          109.7176,
          106.1669,
          102.6133,
          99.05958,
          95.50809,
          91.9613,
          88.42155,
          84.8912,
          81.37267,
          77.86842,
          74.3811,
          70.91363,
          67.46925,
          64.05175,
          60.6656,
          57.31626,
          54.01047,
          50.7568,
          47.56626,
          44.45325,
          41.43687,
          38.54264,
          35.80494,
          33.27014,
          31.00009,
          29.07528,
          27.59519,
          26.67169,
          26.41148,
          26.8889,
          28.12158,
          30.06544,
          32.63215,
          35.71542,
          39.21169,
          43.03067,
          47.0981,
          51.35464,
          55.75331,
          60.25685,
          64.83549,
          69.4651,
          74.12587,
          78.8012,
          83.47699,
          88.141,
          92.78246,
          97.39169,
          101.9599,
          106.479,
          110.9413,
          115.3397,
          119.6672,
          123.9174,
          128.0837,
          132.16,
          136.1401,
          140.0182,
          143.7885,
          147.4452,
          150.9828,
          154.3959,
          157.6792,
          160.8276,
          163.8363,
          166.7004,
          169.4156,
          171.9776,
          174.3825,
          176.6266,
          178.7066,
          180.6196,
          182.3629,
          183.9343,
          185.332,
          186.5546,
          187.6012,
          188.4714,
          189.1649,
          189.6823,
          190.0244,
          190.1924,
          190.1882,
          190.0139,
          189.6721,
          189.1658,
          188.4984,
          187.6734,
          186.6951,
          185.5676,
          184.2956,
          182.884,
          181.3377,
          179.662,
          177.8623,
          175.944,
          173.9127,
          171.774,
          169.5336,
          167.197,
          164.77,
          162.2581,
          159.6669,
          157.0017,
          154.2679,
          151.4708,
          148.6154,
          145.7067,
          142.7495,
          139.7486,
          136.7085,
          133.6334,
          130.5278,
          127.3958,
          124.2412,
          121.068,
          117.88,
          114.6807,
          111.4737,
          108.2627,
          105.0511,
          101.8423,
          98.63999,
          95.44775,
          92.26936,
          89.10876,
          85.97018,
          82.85822,
          79.77789,
          76.73483,
          73.73538,
          70.7868,
          67.89748,
          65.07718,
          62.33736,
          59.69151,
          57.15555,
          54.74823,
          52.49156,
          50.41109,
          48.53613,
          46.89948,
          45.53672,
          44.48483,
          43.7798,
          43.45371,
          43.5313,
          44.02697,
          44.9429,
          46.26873,
          47.98302,
          50.0559,
          52.45214,
          55.13416,
          58.0644,
          61.20689,
          64.52831,
          67.99836,
          71.58987,
          75.27866,
          79.04327,
          82.8647,
          86.72604,
          90.61219,
          94.50964,
          98.40615,
          102.2906,
          106.1529,
          109.9837,
          113.7741,
          117.5163,
          121.2024,
          124.8255,
          128.3785,
          131.8551,
          135.249,
          138.5544,
          141.7655,
          144.877,
          147.8836,
          150.7804,
          153.5628,
          156.2261,
          158.7662,
          161.1791,
          163.461,
          165.6085,
          167.6185,
          169.488,
          171.2146,
          172.7959,
          174.23,
          175.5155,
          176.651,
          177.6358,
          178.4693,
          179.1513,
          179.6822,
          180.0624
         ]
        },
        {
         "line": {
          "color": "red"
         },
         "mode": "lines",
         "name": "pred_beginning",
         "type": "scatter",
         "y": [
          155,
          154.9458,
          154.8694,
          154.7701,
          154.6468,
          154.4989,
          154.3256,
          154.1262,
          145.46449625633994,
          145.4397196574939,
          145.37274372496506,
          145.24221588124504,
          145.05123157996735,
          144.92311611491704,
          144.76340194790097,
          144.56197265223975,
          144.2919980809366,
          143.9476029246508,
          143.61119715148615,
          143.24701876080505,
          142.77141700909468,
          142.1943829485157,
          141.55954799238248,
          140.87876435596908,
          140.0956815972046,
          139.24172764931373,
          138.36136723383407,
          137.3863858044574,
          136.48485871161773,
          135.70373655092976,
          134.94377674434253,
          134.10767137232605,
          133.22815939647708,
          132.35226598863267,
          131.30444520634938,
          130.26939533193405,
          129.13760064250795,
          127.91558169385702,
          126.93288540832248,
          125.48127437234523,
          124.26667305577773,
          123.1317704833477,
          121.96726763554702,
          120.74997292845761,
          119.6685290780579,
          118.60900685416729,
          117.40777359565368,
          117.28332425445983,
          116.07000532467171,
          114.86871316175062,
          113.32208391243142,
          112.24768048974428,
          111.16949637683015,
          110.29339545254103,
          109.47997530270128,
          108.71148894802923,
          107.96039938863838,
          107.24454979632897,
          106.1958200487853,
          104.99041970874791,
          103.65449584824975,
          102.62091912442887,
          101.12844788432606,
          100.05975764875723,
          101.38765321680083,
          100.67477802686552,
          101.18493991313798,
          102.68005266465153,
          100.03981661539878,
          97.75524213607565,
          99.1975592454486,
          99.49166624996734,
          99.68124549198399,
          98.81242385548182,
          98.33945280703401,
          97.59434339602106,
          97.06657719802271,
          96.71191862424249,
          96.46368572378155,
          95.76171379371185,
          94.5199829444435,
          93.83304298683717,
          92.40558491955701,
          92.012107800839,
          90.29998472727422,
          92.31844530581759,
          92.83509640424637,
          91.8937888412825,
          93.6487337978642,
          93.61158835426184,
          90.99201316103512,
          92.71664774691195,
          93.59211207127433,
          93.3992212126609,
          97.65840112854622,
          100.23394824942116,
          101.111379656749,
          103.8757840353434,
          107.25450950486004,
          111.37926091635373,
          115.04688008012327,
          115.4327677172021,
          116.01381106034165,
          117.3398335763088,
          118.75327887949723,
          121.28379060861172,
          122.62990006793753,
          123.2699337433366,
          123.94271448644359,
          123.67443841562407,
          125.03373057326277,
          126.81181145179954,
          128.25566980310037,
          129.66690159754526,
          129.0067042409356,
          128.40275897224868,
          128.22597225439628,
          127.52990481566735,
          127.39570328238713,
          127.0498565918032,
          126.23149279499424,
          125.53186190981637,
          124.87583595798975,
          124.67093346391674,
          124.35818294422637,
          123.87831575684393,
          122.90148937657604,
          122.16881474002321,
          120.55034264905792,
          119.02056384313032,
          118.28653872846466,
          117.1348181370875,
          116.3740974368697,
          115.82773149669977,
          116.61121848020552,
          116.85080432172964,
          116.73826610021747,
          116.17509132802635,
          116.04241266282213,
          115.9543170683778,
          115.9530011763391,
          115.88890453448056,
          115.97404355999525,
          116.05263771139057,
          116.03209142173506,
          116.19818563861101,
          116.57750786608898,
          116.76000560943004,
          116.72518824094173,
          116.7587129549099,
          116.80610560378443,
          116.84449290361057,
          116.74170741459217,
          116.31980918946796,
          115.86052341822257,
          115.45220779289326,
          115.01860218168022,
          114.57118267630165,
          114.1773499695091,
          113.98823655867821,
          113.7123974861825,
          113.48179807944749,
          113.34268532364256,
          113.25736147879431,
          112.89472865330033,
          112.36942563226806,
          111.86230948214758,
          111.43491639449793,
          110.7804192552288,
          110.35743805365877,
          110.17120825675745,
          110.12042293017494,
          109.91369872272927,
          109.72352070930445,
          109.51158265118555,
          109.24630313944387,
          108.98379375607605,
          108.67467099131618,
          108.30396772158981,
          107.87993921046292,
          107.41344440439363,
          106.94060845779784,
          106.47209577046675,
          105.99382981023447,
          105.36768892848254,
          104.4172830663961,
          102.96185999656218,
          102.85669671494819,
          103.38993399754602,
          105.26710830168913,
          103.92098803421518,
          103.29038446808725,
          102.78139418507553,
          102.14949364116819,
          102.90247138404291,
          103.14133578167721,
          103.62375531324805,
          103.193783401447,
          101.6981453739328,
          102.05327518297287,
          103.19265719240855,
          104.20046080612289,
          105.26477158005656,
          105.65429507817701,
          105.45215460636675,
          105.5218779701583,
          105.27392391991995,
          105.46466828030844,
          105.63099271074024,
          107.6386364946033,
          108.8131158035647,
          110.34627215579285,
          112.27365355059182,
          111.84050512404603,
          111.74935892978303,
          112.44555606628991,
          112.63647119541936,
          113.0682199667782,
          114.09957885859629,
          115.06285938677303,
          116.02915754991655,
          116.6741213620996,
          116.62081989862503,
          115.72312375390129,
          115.6511328406254,
          115.28330561912489,
          115.46685877813394,
          116.5557553870986,
          117.3239920735481,
          117.55888447673297,
          117.2211601094926,
          116.53381160388577,
          117.21195697133285,
          117.17753842351172,
          117.07012110259859,
          116.95349469904423,
          116.88650147347832,
          119.89619191093736,
          121.8401940759795,
          121.87066224564751,
          122.57431916601564,
          122.84611058702478,
          123.30221335863654,
          122.2987589437425,
          121.56018143707111,
          120.93563529758045,
          119.0673782560782,
          118.4085551555073,
          118.71537902715318,
          117.26710446651346,
          117.79724089140367,
          116.65232943336844,
          116.45522285656452,
          115.27101026977606,
          114.9297981131239,
          114.72530146501435,
          114.40322621549741,
          114.16965456801792,
          113.40352547045997,
          112.95948567301156,
          112.63229492696965,
          112.10471030586042,
          111.35011134076144,
          110.52127985245781,
          109.58480785498152,
          109.19857003390224,
          109.44043585428108,
          109.6129414646466,
          109.59447033943813,
          109.42901704574817,
          109.1034183399305,
          108.83797886759602,
          108.30278206773647,
          108.05884648698465,
          107.2373699435051,
          107.26926478873048,
          107.48329422351868,
          106.86744810289083,
          107.16274400370736,
          107.12834491055291,
          107.35058529549961,
          107.59917378403506,
          107.857014047397,
          108.08472119368392,
          108.35351443439299,
          108.49970544642905,
          108.43333585101209,
          108.16308026785673,
          107.82834975765718,
          107.59717103418069,
          107.39736296074373,
          107.24382348877249,
          107.11746650942808,
          107.01482693040987,
          106.88619591669223,
          106.69076838570524,
          106.3472119417168,
          105.86291611562507,
          105.37360963204556,
          104.99449221897525,
          104.63285806637143,
          104.10721675030169,
          103.71164285084028,
          103.31281353715255,
          102.95569719048035,
          102.58013349652563,
          102.23586155312887,
          101.93631805008476,
          101.78479213611605,
          101.66639319626316,
          101.54961115537526,
          101.43969877345899,
          101.29402871416433,
          101.22156656562858,
          101.16757338067166,
          101.19679429004181,
          101.18153750809665,
          101.14533885827328,
          101.10624362474253,
          101.00724098758074,
          100.84346295685586,
          100.67560376938508,
          100.5632249680583,
          100.45585466258967,
          100.30771602225485,
          100.10539181192584,
          100.45082238880555,
          100.73470704679289,
          100.43940682271709,
          99.16341414377594,
          96.88585631423943,
          95.43399344841,
          95.23135796341394,
          94.19832813189005,
          93.50876395591004,
          93.48657698936357,
          93.2367444829747,
          92.3179913635948,
          91.62351596509009,
          90.36877642869425,
          89.07941623210661,
          88.29610217897145,
          87.90917479803946,
          87.82912532949415,
          88.09031503797141,
          88.64586250000477,
          89.48642947558244,
          90.56909464672444,
          91.91457074856795,
          93.51117633457976,
          95.39914365547722,
          97.53327735890707,
          99.84574983026535,
          102.35117584749639,
          105.16201851548264,
          108.2192750725942,
          111.37135259434376,
          114.55635281620889,
          117.78437108898005,
          121.08122753820834,
          124.43742774614103,
          127.82046134351494,
          131.2043606735566,
          134.59711620020204,
          137.98190828328185,
          141.30612501917426,
          144.56709139120915,
          147.73777838246366,
          150.82586518220666,
          153.8053171231461,
          156.7324057478714,
          159.5660471235901,
          162.26631162773333,
          164.8717195003496,
          167.39048061078262,
          169.79758922744534,
          172.12256456459716,
          174.35958751526778,
          176.53290724067293,
          178.57519330102411,
          180.5022212693782,
          182.05037608881042,
          183.03583277538547,
          183.9452519780129,
          184.6459226070439,
          185.51109325109704,
          188.1698501430398,
          192.57765938918646,
          196.63609740763363,
          199.29644093572654,
          201.48684618174582,
          202.29578851580217,
          201.99286638564269,
          201.9010317123418,
          201.5131143050382,
          200.5940758505468,
          199.8520143373155,
          199.58237265697574,
          199.7035709072025,
          200.45395901777766,
          201.31002487781933,
          201.40691776445993,
          200.87061745267306,
          200.08494289997935,
          199.272325795548,
          198.33943561837253,
          196.90188274070925,
          194.91268630412873,
          192.3750801065608,
          189.60626600351642,
          186.769689134757,
          183.94377342334434,
          180.78044894261765,
          176.9344169751048,
          173.29852134741225,
          169.56122367366603,
          165.99816631806527,
          162.58419655820794,
          159.36374020629816,
          156.50581940654888,
          153.59319640732326,
          150.7945864014265,
          149.29085739419838,
          146.8267595739083,
          144.29463526908808,
          142.32665738897867,
          140.5600212585304,
          138.63183249506375,
          136.77615127435513,
          135.30021650093983,
          133.83097197123664,
          132.1775468695236,
          130.33501268023898,
          128.42092206523452,
          126.58884367848155,
          124.69629478357832,
          122.7367721177759,
          121.0382175934134,
          119.37806982354375,
          117.64404511854399,
          115.92228658089299,
          114.24953542945191,
          112.54501480730413,
          110.67553806628182,
          108.57105003244487,
          106.42148013181037,
          104.21850609029377,
          102.0989309624378,
          99.90234129404035,
          97.68512751732064,
          95.4976793806384,
          93.31274738084824,
          91.10802782340352,
          88.84857148040834,
          86.56856668612801,
          84.28017044561487,
          82.0368441829363,
          79.84093110461379,
          77.60995207039524,
          75.30674002038197,
          73.08105697876266,
          70.9336335763531,
          68.62842850381878,
          66.18503909540667,
          64.20735982150728,
          62.25187616067289,
          60.058353844723754,
          57.19834923400889,
          54.590438194278335,
          52.41187867864436,
          49.96418330400458,
          47.71714336161763,
          44.618455930157566,
          43.361157024277006,
          45.38156306948949,
          48.65335380190842,
          51.72291543570215,
          55.35574587257601,
          59.4295919870426,
          65.02783661128186,
          71.16978729042845,
          77.02079126757879,
          82.05383459184661,
          87.18824969935328,
          92.20951214212478,
          96.82413746497647,
          101.23716488505565,
          105.47554560061845,
          109.63373201845057,
          113.89878183960253,
          118.09047729958799,
          122.04280145979034,
          125.45057706993617,
          129.199701019401,
          133.6148489981495,
          137.9923684090728,
          142.1574406980988,
          145.99791295419726,
          148.2772303502545,
          151.37018513992956,
          154.62166952358217,
          157.85426558750726,
          160.83777274563698,
          163.77103066133304,
          167.1223304548892,
          170.81707861095217,
          173.63822576739585,
          175.9189741622697,
          177.77006408163922,
          179.46109397325148,
          181.13432500647096,
          182.7882267475179,
          184.49910472241447,
          185.8197350532637,
          186.88138918437923,
          187.97021067671415,
          188.8742949774089,
          189.4748302753508,
          189.7335168167138,
          189.30103525290957,
          188.67271436767342,
          187.0692780320234,
          185.56314961590337,
          183.72607137981078,
          181.97988534649937,
          180.19977037447856,
          177.71146230230613,
          175.2312387249587,
          172.73938125692993,
          170.19247572868366,
          167.29680855229424,
          164.33027883329697,
          161.54495852637993,
          158.6079869309755,
          155.77533125836916,
          153.1615189697423,
          150.71319239924986,
          148.7584307227127,
          146.70959924783475,
          144.6416849065624,
          143.04159045032398,
          141.43377573385362,
          139.82905971346122,
          138.0820565841488,
          136.49976314793278,
          135.547930610289,
          134.34764792840622,
          132.92477792002072,
          131.39974605276578,
          129.71289459123284,
          127.948425494491,
          126.19444030146607,
          124.76524212233187,
          123.42161151178698,
          121.96339291443103,
          120.53992629626701,
          119.00956601196832,
          117.58184530668782,
          116.17681738928779,
          114.7374573892519,
          113.19402789219599,
          111.46751160772419,
          109.59387048721516,
          107.68551791806979,
          105.87672676734618,
          104.09480034969346,
          102.34966919164265,
          100.54830107707653,
          98.67581534760599,
          96.71514377565396,
          94.78001834269708,
          92.89106531868727,
          91.03518955131173,
          89.08857721848852,
          87.2520912689152,
          85.43106097121321,
          83.63453923028283,
          81.87844860999598,
          80.16284098946386,
          78.14841833507373,
          76.11132883235874,
          73.97165271055152,
          72.08110872713232,
          70.35603316881048,
          68.72807962987028,
          67.04516449589786,
          65.03029654580348,
          62.818482519905366,
          60.565338135436654,
          58.57408815070535,
          57.33536196662598,
          59.41939341843715,
          62.05115155627182,
          65.27826572744927,
          67.097674802927,
          68.8847242828084,
          71.22961255213346,
          74.24815972660365,
          77.96877394284738,
          81.38064692196133,
          85.00122956533826,
          88.90009176106585,
          92.80594466702446,
          97.09271562353712,
          101.28198411385286,
          105.57999554445377,
          110.07180247566923,
          112.75406168578975,
          116.39695829145407,
          119.77920127278995,
          123.59820584460209,
          127.56679086371382,
          130.952715640721,
          134.52036754010533,
          138.48598085887997,
          141.26723946371783,
          144.4594854681106,
          147.75078706959115,
          151.12001541931804,
          154.0143812946688,
          156.99263136953266,
          159.86990307775076,
          162.26772533351289,
          164.69886262516883,
          166.94854840222578,
          168.86129664522852,
          170.563631859818,
          172.0778101846889,
          172.95113449571528,
          173.3166444502499,
          173.5382763364551,
          174.01260704994166,
          174.19490592335654,
          173.70771351355748,
          173.3621294609739,
          172.63387211457476,
          171.5663902299704,
          170.33938440175766,
          168.88249790866266,
          166.91159750529033,
          164.577353100275
         ]
        }
       ],
       "layout": {
        "template": {
         "data": {
          "bar": [
           {
            "error_x": {
             "color": "#2a3f5f"
            },
            "error_y": {
             "color": "#2a3f5f"
            },
            "marker": {
             "line": {
              "color": "#E5ECF6",
              "width": 0.5
             },
             "pattern": {
              "fillmode": "overlay",
              "size": 10,
              "solidity": 0.2
             }
            },
            "type": "bar"
           }
          ],
          "barpolar": [
           {
            "marker": {
             "line": {
              "color": "#E5ECF6",
              "width": 0.5
             },
             "pattern": {
              "fillmode": "overlay",
              "size": 10,
              "solidity": 0.2
             }
            },
            "type": "barpolar"
           }
          ],
          "carpet": [
           {
            "aaxis": {
             "endlinecolor": "#2a3f5f",
             "gridcolor": "white",
             "linecolor": "white",
             "minorgridcolor": "white",
             "startlinecolor": "#2a3f5f"
            },
            "baxis": {
             "endlinecolor": "#2a3f5f",
             "gridcolor": "white",
             "linecolor": "white",
             "minorgridcolor": "white",
             "startlinecolor": "#2a3f5f"
            },
            "type": "carpet"
           }
          ],
          "choropleth": [
           {
            "colorbar": {
             "outlinewidth": 0,
             "ticks": ""
            },
            "type": "choropleth"
           }
          ],
          "contour": [
           {
            "colorbar": {
             "outlinewidth": 0,
             "ticks": ""
            },
            "colorscale": [
             [
              0,
              "#0d0887"
             ],
             [
              0.1111111111111111,
              "#46039f"
             ],
             [
              0.2222222222222222,
              "#7201a8"
             ],
             [
              0.3333333333333333,
              "#9c179e"
             ],
             [
              0.4444444444444444,
              "#bd3786"
             ],
             [
              0.5555555555555556,
              "#d8576b"
             ],
             [
              0.6666666666666666,
              "#ed7953"
             ],
             [
              0.7777777777777778,
              "#fb9f3a"
             ],
             [
              0.8888888888888888,
              "#fdca26"
             ],
             [
              1,
              "#f0f921"
             ]
            ],
            "type": "contour"
           }
          ],
          "contourcarpet": [
           {
            "colorbar": {
             "outlinewidth": 0,
             "ticks": ""
            },
            "type": "contourcarpet"
           }
          ],
          "heatmap": [
           {
            "colorbar": {
             "outlinewidth": 0,
             "ticks": ""
            },
            "colorscale": [
             [
              0,
              "#0d0887"
             ],
             [
              0.1111111111111111,
              "#46039f"
             ],
             [
              0.2222222222222222,
              "#7201a8"
             ],
             [
              0.3333333333333333,
              "#9c179e"
             ],
             [
              0.4444444444444444,
              "#bd3786"
             ],
             [
              0.5555555555555556,
              "#d8576b"
             ],
             [
              0.6666666666666666,
              "#ed7953"
             ],
             [
              0.7777777777777778,
              "#fb9f3a"
             ],
             [
              0.8888888888888888,
              "#fdca26"
             ],
             [
              1,
              "#f0f921"
             ]
            ],
            "type": "heatmap"
           }
          ],
          "heatmapgl": [
           {
            "colorbar": {
             "outlinewidth": 0,
             "ticks": ""
            },
            "colorscale": [
             [
              0,
              "#0d0887"
             ],
             [
              0.1111111111111111,
              "#46039f"
             ],
             [
              0.2222222222222222,
              "#7201a8"
             ],
             [
              0.3333333333333333,
              "#9c179e"
             ],
             [
              0.4444444444444444,
              "#bd3786"
             ],
             [
              0.5555555555555556,
              "#d8576b"
             ],
             [
              0.6666666666666666,
              "#ed7953"
             ],
             [
              0.7777777777777778,
              "#fb9f3a"
             ],
             [
              0.8888888888888888,
              "#fdca26"
             ],
             [
              1,
              "#f0f921"
             ]
            ],
            "type": "heatmapgl"
           }
          ],
          "histogram": [
           {
            "marker": {
             "pattern": {
              "fillmode": "overlay",
              "size": 10,
              "solidity": 0.2
             }
            },
            "type": "histogram"
           }
          ],
          "histogram2d": [
           {
            "colorbar": {
             "outlinewidth": 0,
             "ticks": ""
            },
            "colorscale": [
             [
              0,
              "#0d0887"
             ],
             [
              0.1111111111111111,
              "#46039f"
             ],
             [
              0.2222222222222222,
              "#7201a8"
             ],
             [
              0.3333333333333333,
              "#9c179e"
             ],
             [
              0.4444444444444444,
              "#bd3786"
             ],
             [
              0.5555555555555556,
              "#d8576b"
             ],
             [
              0.6666666666666666,
              "#ed7953"
             ],
             [
              0.7777777777777778,
              "#fb9f3a"
             ],
             [
              0.8888888888888888,
              "#fdca26"
             ],
             [
              1,
              "#f0f921"
             ]
            ],
            "type": "histogram2d"
           }
          ],
          "histogram2dcontour": [
           {
            "colorbar": {
             "outlinewidth": 0,
             "ticks": ""
            },
            "colorscale": [
             [
              0,
              "#0d0887"
             ],
             [
              0.1111111111111111,
              "#46039f"
             ],
             [
              0.2222222222222222,
              "#7201a8"
             ],
             [
              0.3333333333333333,
              "#9c179e"
             ],
             [
              0.4444444444444444,
              "#bd3786"
             ],
             [
              0.5555555555555556,
              "#d8576b"
             ],
             [
              0.6666666666666666,
              "#ed7953"
             ],
             [
              0.7777777777777778,
              "#fb9f3a"
             ],
             [
              0.8888888888888888,
              "#fdca26"
             ],
             [
              1,
              "#f0f921"
             ]
            ],
            "type": "histogram2dcontour"
           }
          ],
          "mesh3d": [
           {
            "colorbar": {
             "outlinewidth": 0,
             "ticks": ""
            },
            "type": "mesh3d"
           }
          ],
          "parcoords": [
           {
            "line": {
             "colorbar": {
              "outlinewidth": 0,
              "ticks": ""
             }
            },
            "type": "parcoords"
           }
          ],
          "pie": [
           {
            "automargin": true,
            "type": "pie"
           }
          ],
          "scatter": [
           {
            "fillpattern": {
             "fillmode": "overlay",
             "size": 10,
             "solidity": 0.2
            },
            "type": "scatter"
           }
          ],
          "scatter3d": [
           {
            "line": {
             "colorbar": {
              "outlinewidth": 0,
              "ticks": ""
             }
            },
            "marker": {
             "colorbar": {
              "outlinewidth": 0,
              "ticks": ""
             }
            },
            "type": "scatter3d"
           }
          ],
          "scattercarpet": [
           {
            "marker": {
             "colorbar": {
              "outlinewidth": 0,
              "ticks": ""
             }
            },
            "type": "scattercarpet"
           }
          ],
          "scattergeo": [
           {
            "marker": {
             "colorbar": {
              "outlinewidth": 0,
              "ticks": ""
             }
            },
            "type": "scattergeo"
           }
          ],
          "scattergl": [
           {
            "marker": {
             "colorbar": {
              "outlinewidth": 0,
              "ticks": ""
             }
            },
            "type": "scattergl"
           }
          ],
          "scattermapbox": [
           {
            "marker": {
             "colorbar": {
              "outlinewidth": 0,
              "ticks": ""
             }
            },
            "type": "scattermapbox"
           }
          ],
          "scatterpolar": [
           {
            "marker": {
             "colorbar": {
              "outlinewidth": 0,
              "ticks": ""
             }
            },
            "type": "scatterpolar"
           }
          ],
          "scatterpolargl": [
           {
            "marker": {
             "colorbar": {
              "outlinewidth": 0,
              "ticks": ""
             }
            },
            "type": "scatterpolargl"
           }
          ],
          "scatterternary": [
           {
            "marker": {
             "colorbar": {
              "outlinewidth": 0,
              "ticks": ""
             }
            },
            "type": "scatterternary"
           }
          ],
          "surface": [
           {
            "colorbar": {
             "outlinewidth": 0,
             "ticks": ""
            },
            "colorscale": [
             [
              0,
              "#0d0887"
             ],
             [
              0.1111111111111111,
              "#46039f"
             ],
             [
              0.2222222222222222,
              "#7201a8"
             ],
             [
              0.3333333333333333,
              "#9c179e"
             ],
             [
              0.4444444444444444,
              "#bd3786"
             ],
             [
              0.5555555555555556,
              "#d8576b"
             ],
             [
              0.6666666666666666,
              "#ed7953"
             ],
             [
              0.7777777777777778,
              "#fb9f3a"
             ],
             [
              0.8888888888888888,
              "#fdca26"
             ],
             [
              1,
              "#f0f921"
             ]
            ],
            "type": "surface"
           }
          ],
          "table": [
           {
            "cells": {
             "fill": {
              "color": "#EBF0F8"
             },
             "line": {
              "color": "white"
             }
            },
            "header": {
             "fill": {
              "color": "#C8D4E3"
             },
             "line": {
              "color": "white"
             }
            },
            "type": "table"
           }
          ]
         },
         "layout": {
          "annotationdefaults": {
           "arrowcolor": "#2a3f5f",
           "arrowhead": 0,
           "arrowwidth": 1
          },
          "autotypenumbers": "strict",
          "coloraxis": {
           "colorbar": {
            "outlinewidth": 0,
            "ticks": ""
           }
          },
          "colorscale": {
           "diverging": [
            [
             0,
             "#8e0152"
            ],
            [
             0.1,
             "#c51b7d"
            ],
            [
             0.2,
             "#de77ae"
            ],
            [
             0.3,
             "#f1b6da"
            ],
            [
             0.4,
             "#fde0ef"
            ],
            [
             0.5,
             "#f7f7f7"
            ],
            [
             0.6,
             "#e6f5d0"
            ],
            [
             0.7,
             "#b8e186"
            ],
            [
             0.8,
             "#7fbc41"
            ],
            [
             0.9,
             "#4d9221"
            ],
            [
             1,
             "#276419"
            ]
           ],
           "sequential": [
            [
             0,
             "#0d0887"
            ],
            [
             0.1111111111111111,
             "#46039f"
            ],
            [
             0.2222222222222222,
             "#7201a8"
            ],
            [
             0.3333333333333333,
             "#9c179e"
            ],
            [
             0.4444444444444444,
             "#bd3786"
            ],
            [
             0.5555555555555556,
             "#d8576b"
            ],
            [
             0.6666666666666666,
             "#ed7953"
            ],
            [
             0.7777777777777778,
             "#fb9f3a"
            ],
            [
             0.8888888888888888,
             "#fdca26"
            ],
            [
             1,
             "#f0f921"
            ]
           ],
           "sequentialminus": [
            [
             0,
             "#0d0887"
            ],
            [
             0.1111111111111111,
             "#46039f"
            ],
            [
             0.2222222222222222,
             "#7201a8"
            ],
            [
             0.3333333333333333,
             "#9c179e"
            ],
            [
             0.4444444444444444,
             "#bd3786"
            ],
            [
             0.5555555555555556,
             "#d8576b"
            ],
            [
             0.6666666666666666,
             "#ed7953"
            ],
            [
             0.7777777777777778,
             "#fb9f3a"
            ],
            [
             0.8888888888888888,
             "#fdca26"
            ],
            [
             1,
             "#f0f921"
            ]
           ]
          },
          "colorway": [
           "#636efa",
           "#EF553B",
           "#00cc96",
           "#ab63fa",
           "#FFA15A",
           "#19d3f3",
           "#FF6692",
           "#B6E880",
           "#FF97FF",
           "#FECB52"
          ],
          "font": {
           "color": "#2a3f5f"
          },
          "geo": {
           "bgcolor": "white",
           "lakecolor": "white",
           "landcolor": "#E5ECF6",
           "showlakes": true,
           "showland": true,
           "subunitcolor": "white"
          },
          "hoverlabel": {
           "align": "left"
          },
          "hovermode": "closest",
          "mapbox": {
           "style": "light"
          },
          "paper_bgcolor": "white",
          "plot_bgcolor": "#E5ECF6",
          "polar": {
           "angularaxis": {
            "gridcolor": "white",
            "linecolor": "white",
            "ticks": ""
           },
           "bgcolor": "#E5ECF6",
           "radialaxis": {
            "gridcolor": "white",
            "linecolor": "white",
            "ticks": ""
           }
          },
          "scene": {
           "xaxis": {
            "backgroundcolor": "#E5ECF6",
            "gridcolor": "white",
            "gridwidth": 2,
            "linecolor": "white",
            "showbackground": true,
            "ticks": "",
            "zerolinecolor": "white"
           },
           "yaxis": {
            "backgroundcolor": "#E5ECF6",
            "gridcolor": "white",
            "gridwidth": 2,
            "linecolor": "white",
            "showbackground": true,
            "ticks": "",
            "zerolinecolor": "white"
           },
           "zaxis": {
            "backgroundcolor": "#E5ECF6",
            "gridcolor": "white",
            "gridwidth": 2,
            "linecolor": "white",
            "showbackground": true,
            "ticks": "",
            "zerolinecolor": "white"
           }
          },
          "shapedefaults": {
           "line": {
            "color": "#2a3f5f"
           }
          },
          "ternary": {
           "aaxis": {
            "gridcolor": "white",
            "linecolor": "white",
            "ticks": ""
           },
           "baxis": {
            "gridcolor": "white",
            "linecolor": "white",
            "ticks": ""
           },
           "bgcolor": "#E5ECF6",
           "caxis": {
            "gridcolor": "white",
            "linecolor": "white",
            "ticks": ""
           }
          },
          "title": {
           "x": 0.05
          },
          "xaxis": {
           "automargin": true,
           "gridcolor": "white",
           "linecolor": "white",
           "ticks": "",
           "title": {
            "standoff": 15
           },
           "zerolinecolor": "white",
           "zerolinewidth": 2
          },
          "yaxis": {
           "automargin": true,
           "gridcolor": "white",
           "linecolor": "white",
           "ticks": "",
           "title": {
            "standoff": 15
           },
           "zerolinecolor": "white",
           "zerolinewidth": 2
          }
         }
        },
        "title": {
         "text": "TSMixer Prediction vs. Ground Truth"
        },
        "xaxis": {
         "title": {
          "text": "Time Step"
         }
        },
        "yaxis": {
         "title": {
          "text": "Value"
         }
        }
       }
      }
     },
     "metadata": {},
     "output_type": "display_data"
    },
    {
     "data": {
      "application/vnd.plotly.v1+json": {
       "config": {
        "plotlyServerURL": "https://plot.ly"
       },
       "data": [
        {
         "line": {
          "color": "blue"
         },
         "mode": "lines",
         "name": "GT",
         "type": "scatter",
         "y": [
          8.022,
          8.272,
          8.3595,
          8.447,
          8.534499,
          8.621999,
          8.709498,
          8.796998,
          8.884497,
          8.971996,
          9.059496,
          9.146996,
          9.234495,
          9.321995,
          9.409493,
          9.496993,
          9.584493,
          9.671992,
          9.759492,
          9.846992,
          9.93449,
          10.02199,
          10.10949,
          10.19699,
          10.28449,
          10.37199,
          10.45949,
          10.54699,
          10.63449,
          10.72199,
          10.80949,
          10.89699,
          10.98448,
          11.07198,
          11.15948,
          11.24698,
          11.33448,
          11.42198,
          11.50948,
          11.59698,
          11.68448,
          11.77198,
          11.85948,
          11.94698,
          12.03448,
          12.12198,
          12.20948,
          12.29698,
          12.38448,
          12.47198,
          12.55947,
          12.64697,
          12.73447,
          12.82197,
          12.90947,
          12.99697,
          13.08447,
          13.17197,
          13.25947,
          13.34697,
          13.43447,
          13.52197,
          13.60947,
          13.69697,
          13.78447,
          13.87197,
          13.95947,
          14.04697,
          14.13446,
          14.22196,
          14.2901,
          14.3412,
          14.37952,
          14.40827,
          14.42983,
          14.44599,
          14.45812,
          14.46721,
          14.47404,
          14.47915,
          14.48299,
          14.48587,
          14.48802,
          14.48964,
          14.49086,
          14.49177,
          14.49245,
          14.49296,
          14.49335,
          14.49364,
          14.49385,
          14.49401,
          14.49413,
          14.49423,
          14.4943,
          14.49435,
          14.49438,
          14.49441,
          14.49444,
          14.49445,
          14.49446,
          14.49447,
          14.49448,
          14.49448,
          14.49449,
          14.49449,
          14.49449,
          14.4945,
          14.4945,
          14.4945,
          14.4945,
          14.4945,
          14.4945,
          14.4945,
          14.4945,
          14.4945,
          14.4945,
          14.4945,
          14.4945,
          14.4945,
          14.4945,
          14.4945,
          14.4945,
          14.4945,
          14.4945,
          14.4945,
          14.4945,
          14.4945,
          14.4945,
          14.4945,
          14.4945,
          14.4945,
          14.4945,
          14.4945,
          14.4945,
          14.4945,
          14.4945,
          14.4945,
          14.4945,
          14.4945,
          14.4945,
          14.4945,
          14.4945,
          14.4945,
          14.4945,
          14.4945,
          14.4945,
          14.4945,
          14.4945,
          14.4945,
          14.4945,
          14.4945,
          14.4945,
          14.4945,
          14.4945,
          14.4945,
          14.4945,
          14.4945,
          14.4945,
          14.4945,
          14.4945,
          14.4945,
          14.4945,
          14.4945,
          14.4945,
          14.4945,
          14.4945,
          14.4945,
          14.4945,
          14.4945,
          14.4945,
          14.4945,
          14.4945,
          14.4945,
          14.4945,
          14.4945,
          14.4945,
          14.4945,
          14.4945,
          14.4945,
          14.4945,
          14.4945,
          14.4945,
          14.4945,
          14.4945,
          14.4945,
          14.4945,
          14.4945,
          14.4945,
          14.4945,
          14.4945,
          14.4945,
          14.4945,
          14.4945,
          14.4945,
          14.4945,
          14.4945,
          14.4945,
          14.4945,
          14.4945,
          14.4945,
          14.4945,
          14.4945,
          14.4945,
          14.4945,
          14.4945,
          14.4945,
          14.4945,
          14.4945,
          14.4945,
          14.4945,
          14.4945,
          14.4945,
          14.4945,
          14.4945,
          14.4945,
          14.4945,
          14.4945,
          14.4945,
          14.4945,
          14.4945,
          14.4945,
          14.4945,
          14.4945,
          14.4945,
          14.4945,
          14.4945,
          14.4945,
          14.4945,
          14.4945,
          14.4945,
          14.4945,
          14.4945,
          14.4945,
          14.4945,
          14.4945,
          14.4945,
          14.4945,
          14.4945,
          14.4945,
          14.4945,
          14.4945,
          14.4945,
          14.4945,
          14.4945,
          14.4945,
          14.4945,
          14.4945,
          14.4945,
          14.4945,
          14.4945,
          14.4945,
          14.4945,
          14.4945,
          14.4945,
          14.4945,
          14.4945,
          14.4945,
          14.4945,
          14.4945,
          14.4945,
          14.4945,
          14.4945,
          14.4945,
          14.4945,
          14.4945,
          14.4945,
          14.4945,
          14.4945,
          14.4945,
          14.4945,
          14.4945,
          14.4945,
          14.4945,
          14.4945,
          14.4945,
          14.4945,
          14.4945,
          14.4945,
          14.4945,
          14.4945,
          14.4945,
          14.4945,
          14.4945,
          14.4945,
          14.4945,
          14.4945,
          14.4945,
          14.4945,
          14.4945,
          14.4945,
          14.4945,
          14.4945,
          14.4945,
          14.4945,
          14.4945,
          14.4945,
          14.4945,
          14.4945,
          14.4945,
          14.4945,
          14.4945,
          14.4945,
          14.4945,
          14.4945,
          14.4945,
          14.4945,
          14.4945,
          14.4945,
          14.4945,
          14.4945,
          14.4945,
          14.4945,
          14.4945,
          14.4945,
          14.4945,
          14.4945,
          14.4945,
          14.4945,
          14.4945,
          14.4945,
          14.4945,
          14.4945,
          14.4945,
          14.4945,
          14.4945,
          14.4945,
          14.4945,
          14.4945,
          14.4945,
          14.4945,
          14.4945,
          14.4945,
          14.4945,
          14.4945,
          14.4945,
          14.4945,
          14.4945,
          14.4945,
          14.4945,
          14.4945,
          14.4945,
          14.4945,
          14.4945,
          14.4945,
          14.4945,
          14.4945,
          14.4945,
          14.4945,
          14.4945,
          14.4945,
          14.4945,
          14.4945,
          14.4945,
          14.4945,
          14.4945,
          14.4945,
          14.4945,
          14.4945,
          14.4945,
          14.4945,
          14.4945,
          14.4945,
          14.4945,
          14.4945,
          14.4945,
          14.4945,
          14.4945,
          14.4945,
          14.4945,
          14.4945,
          14.4945,
          14.4945,
          14.4945,
          14.4945,
          14.4945,
          14.4945,
          14.4945,
          14.4945,
          14.4945,
          14.4945,
          14.4945,
          14.4945,
          14.4945,
          14.4945,
          14.4945,
          14.4945,
          14.4945,
          14.4945,
          14.4945,
          14.4945,
          14.4945,
          14.4945,
          14.4945,
          14.4945,
          14.4945,
          14.4945,
          14.4945,
          14.4945,
          14.4945,
          14.4945,
          14.4945,
          14.4945,
          14.4945,
          14.4945,
          14.4945,
          14.4945,
          14.4945,
          14.4945,
          14.4945,
          14.4945,
          14.4945,
          14.4945,
          14.4945,
          14.4945,
          14.4945,
          14.4945,
          14.4945,
          14.4945,
          14.4945,
          14.4945,
          14.4945,
          14.4945,
          14.4945,
          14.4945,
          14.4945,
          14.4945,
          14.4945,
          14.4945,
          14.4945,
          14.4945,
          14.4945,
          14.4945,
          14.4945,
          14.4945,
          14.4945,
          14.4945,
          14.4945,
          14.4945,
          14.4945,
          14.4945,
          14.4945,
          14.4945,
          14.4945,
          14.4945,
          14.4945,
          14.4945,
          14.4945,
          14.4945,
          14.4945,
          14.4945,
          14.4945,
          14.4945,
          14.4945,
          14.4945,
          14.4945,
          14.4945,
          14.4945,
          14.4945,
          14.4945,
          14.4945,
          14.4945,
          14.4945,
          14.4945,
          14.4945,
          14.4945,
          14.4945,
          14.4945,
          14.4945,
          14.4945,
          14.4945,
          14.4945,
          14.4945,
          14.4945,
          14.4945,
          14.4945,
          14.4945,
          14.4945,
          14.4945,
          14.4945,
          14.4945,
          14.4945,
          14.4945,
          14.4945,
          14.4945,
          14.4945,
          14.4945,
          14.4945,
          14.4945,
          14.4945,
          14.4945,
          14.4945,
          14.4945,
          14.4945,
          14.4945,
          14.4945,
          14.4945,
          14.4945,
          14.4945,
          14.4945,
          14.4945,
          14.4945,
          14.4945,
          14.4945,
          14.4945,
          14.4945,
          14.4945,
          14.4945,
          14.4945,
          14.4945,
          14.4945,
          14.4945,
          14.4945,
          14.4945,
          14.4945,
          14.4945,
          14.4945,
          14.4945,
          14.4945,
          14.4945,
          14.4945,
          14.4945,
          14.4945,
          14.4945,
          14.4945,
          14.4945,
          14.4945,
          14.4945,
          14.4945,
          14.4945,
          14.4945,
          14.4945,
          14.4945,
          14.4945,
          14.4945,
          14.4945,
          14.4945,
          14.4945,
          14.4945,
          14.4945,
          14.4945,
          14.4945,
          14.4945,
          14.4945,
          14.4945,
          14.4945,
          14.4945,
          14.4945,
          14.4945,
          14.4945,
          14.4945,
          14.4945,
          14.4945,
          14.4945,
          14.4945,
          14.4945,
          14.4945,
          14.4945,
          14.4945,
          14.4945,
          14.4945,
          14.4945,
          14.4945,
          14.4945,
          14.4945,
          14.4945,
          14.4945,
          14.4945,
          14.4945,
          14.4945,
          14.4945,
          14.4945,
          14.4945,
          14.4945,
          14.4945,
          14.4945,
          14.4945,
          14.4945,
          14.4945,
          14.4945,
          14.4945,
          14.4945,
          14.4945,
          14.4945,
          14.4945,
          14.4945,
          14.4945,
          14.4945,
          14.4945,
          14.4945,
          14.4945,
          14.4945,
          14.4945,
          14.4945,
          14.4945,
          14.4945,
          14.4945,
          14.4945,
          14.4945,
          14.4945,
          14.4945,
          14.4945,
          14.4945,
          14.4945,
          14.4945,
          14.4945,
          14.4945,
          14.4945,
          14.4945,
          14.4945,
          14.4945,
          14.4945,
          14.4945,
          14.4945,
          14.4945,
          14.4945,
          14.4945,
          14.4945,
          14.4945,
          14.4945,
          14.4945,
          14.4945,
          14.4945,
          14.4945,
          14.4945,
          14.4945,
          14.4945,
          14.4945,
          14.4945,
          14.4945,
          14.4945,
          14.4945,
          14.4945,
          14.4945,
          14.4945,
          14.4945,
          14.4945,
          14.4945,
          14.4945,
          14.4945,
          14.4945
         ]
        },
        {
         "line": {
          "color": "red"
         },
         "mode": "lines",
         "name": "pred_beginning",
         "type": "scatter",
         "y": [
          8.022000000000002,
          8.272,
          8.3595,
          8.447,
          8.534499,
          8.621999,
          8.709498,
          8.796997999999999,
          9.680061588352768,
          9.736721013010975,
          9.793925228989467,
          9.85122865166467,
          9.908867460615678,
          9.965762783015778,
          10.023654963615485,
          10.082306695486874,
          10.140460139177064,
          10.1980614637796,
          10.256401765537738,
          10.31495006315432,
          10.374512974714522,
          10.435362191285467,
          10.497244623055666,
          10.56013236814167,
          10.62321852662109,
          10.687720353389066,
          10.755214163941897,
          10.82313467602546,
          10.89169383121909,
          10.957266357534792,
          11.02102807979834,
          11.08881359185996,
          11.159014166944601,
          11.229955692045293,
          11.300477279708208,
          11.369096748064042,
          11.435378094954245,
          11.502683920090298,
          11.569186509187652,
          11.644728181173832,
          11.73050956254879,
          11.823440026505374,
          11.903390618832393,
          11.972678464123586,
          12.050106190696074,
          12.13192184073751,
          12.214177015902578,
          12.337090731079162,
          12.42052680413972,
          12.495787907186768,
          12.564050851476303,
          12.648112884972635,
          12.716590307376363,
          12.78003242624767,
          12.876745004597701,
          12.98462862338559,
          13.089771093502463,
          13.19297663741725,
          13.27791800299805,
          13.37322717297801,
          13.477130827653447,
          13.594859442822322,
          13.7226806131285,
          13.811639039644067,
          13.88359785614184,
          13.966211457774351,
          14.029970960569898,
          14.069676045311617,
          14.135305537972695,
          14.142198818059718,
          14.185119418720744,
          14.226052115874941,
          14.238294102468078,
          14.232843370893187,
          14.24083546378929,
          14.25725536990284,
          14.271638438524572,
          14.280730577267533,
          14.25610114085302,
          14.285062415132376,
          14.319029752333973,
          14.31249606129287,
          14.318366237090427,
          14.264998424397294,
          14.255772800507376,
          14.21482164301615,
          14.201448115268319,
          14.231861238687625,
          14.256804536061294,
          14.239583014472984,
          14.198690972335834,
          14.19793741010479,
          14.194949407270482,
          14.234363953081886,
          14.221420720289172,
          14.185405483485402,
          14.126766663281039,
          14.138969985332402,
          14.178426172591077,
          14.167636528352999,
          14.166953689645977,
          14.222368468355537,
          14.275887733317544,
          14.257025531660888,
          14.266936513177862,
          14.332884411423054,
          14.389667985370753,
          14.444281659435488,
          14.402261493419775,
          14.343749411884238,
          14.321897657288636,
          14.29712980357605,
          14.301609570744688,
          14.288232343883521,
          14.272788792312802,
          14.280019220158174,
          14.280858918885471,
          14.278174208115072,
          14.285245679775944,
          14.278571774724577,
          14.270686145833253,
          14.255917206846087,
          14.248431046965413,
          14.248736558497326,
          14.254614202980854,
          14.255618741244339,
          14.258022213712241,
          14.262734355657688,
          14.266763077606875,
          14.29864954025313,
          14.266095475723834,
          14.29345531576586,
          14.27966815668775,
          14.288187884064186,
          14.288223219403958,
          14.31486719294132,
          14.328848749232655,
          14.32905773152132,
          14.345321816889292,
          14.35656507811133,
          14.367574449681575,
          14.371569104558418,
          14.378085779678173,
          14.38368535652778,
          14.383510758378316,
          14.387168970089828,
          14.39485012608779,
          14.403111408745811,
          14.40727424997567,
          14.410693921721478,
          14.412433808486533,
          14.414272373503534,
          14.41636293621285,
          14.41841876248646,
          14.420333176941677,
          14.422423070287628,
          14.424653318562449,
          14.426513197518195,
          14.426468209254098,
          14.424666635370459,
          14.419894109803506,
          14.420131205353526,
          14.420280015398589,
          14.420713727629836,
          14.422889299486583,
          14.424652473050829,
          14.430827385327978,
          14.436747164473887,
          14.440733082397328,
          14.449712098731506,
          14.45626086806316,
          14.460298573573306,
          14.463315041965478,
          14.465607188736788,
          14.463566652131636,
          14.460123341290126,
          14.45454352827463,
          14.447770310837603,
          14.440268755599519,
          14.429000974540509,
          14.416305089126205,
          14.407478264883569,
          14.402203012199413,
          14.397879840828672,
          14.401790191151104,
          14.42211769967432,
          14.452492845530042,
          14.434891477846588,
          14.460183830600585,
          14.518552456997982,
          14.540040148382008,
          14.542455704620142,
          14.521377804534456,
          14.490377261917375,
          14.488136656125215,
          14.5005803324693,
          14.51833368086639,
          14.542810960419011,
          14.52362841554745,
          14.521290646378327,
          14.447464482238832,
          14.436843517568882,
          14.398846648136129,
          14.387725211046627,
          14.389811264360638,
          14.378810805892053,
          14.382325738613678,
          14.379766198792643,
          14.376528100667162,
          14.373481088167729,
          14.357957565289647,
          14.346754712477098,
          14.327205849696309,
          14.326950963172626,
          14.38155308191189,
          14.379587056018224,
          14.378513256261225,
          14.377765683070823,
          14.363104053600056,
          14.422727595389318,
          14.46090445310811,
          14.458860006011717,
          14.462052411280084,
          14.439737034479691,
          14.403265855535006,
          14.40893494048568,
          14.444819017299448,
          14.454243406879293,
          14.442485475688423,
          14.441570455967673,
          14.414261346622826,
          14.405919317605127,
          14.399010078486283,
          14.396562745103111,
          14.381328211050706,
          14.353794512681883,
          14.335671534788387,
          14.352533432101126,
          14.373052096709692,
          14.367530236469795,
          14.348023508351385,
          14.34678092333731,
          14.336636968139462,
          14.322467849187161,
          14.322545424878266,
          14.321995877555123,
          14.300530451310417,
          14.288853372168179,
          14.291270760348155,
          14.298908760023863,
          14.304565585056054,
          14.32250818713735,
          14.331950860905971,
          14.341795681138704,
          14.362630390944778,
          14.376138953944203,
          14.392006670510797,
          14.396584340879063,
          14.403327965409401,
          14.427074159248205,
          14.447926660027942,
          14.45042275124785,
          14.456194671549268,
          14.467089018309585,
          14.474708099662804,
          14.450630676646991,
          14.445803580350917,
          14.44322251521323,
          14.44697901765053,
          14.43652046167086,
          14.42948640389916,
          14.414480933036389,
          14.426267435474074,
          14.436306159704921,
          14.431878003974736,
          14.426536730924942,
          14.432452388201707,
          14.436258529217012,
          14.437697625223365,
          14.440552600896178,
          14.452354533920921,
          14.469155096411582,
          14.475200363573713,
          14.472191082030308,
          14.467068690801062,
          14.462263295969894,
          14.461441564364513,
          14.471957227608165,
          14.487533172206666,
          14.500259178972422,
          14.509572841759741,
          14.51414374803505,
          14.515298153233124,
          14.517213448429612,
          14.520551669222725,
          14.523602134227938,
          14.526100198308292,
          14.526735529831182,
          14.521352016430056,
          14.514882372894146,
          14.50978372644955,
          14.50426817231715,
          14.5023115175106,
          14.500018630916623,
          14.497587925928636,
          14.49444544107548,
          14.489950983142451,
          14.485726313875404,
          14.48179824303861,
          14.480875825091186,
          14.481182005986463,
          14.480665891601948,
          14.476255597304728,
          14.47201761122967,
          14.46478461161979,
          14.455352647665016,
          14.444322032615329,
          14.443493642605944,
          14.445124282223803,
          14.445437156752737,
          14.443524151483553,
          14.441210726003147,
          14.438277188209007,
          14.43785763829739,
          14.437482900501616,
          14.45749714696974,
          14.460804717966639,
          14.470442951526962,
          14.461882745281734,
          14.477026069768165,
          14.468810867493419,
          14.47085432815959,
          14.46819533503429,
          14.478145456693325,
          14.50143436966448,
          14.565437767332655,
          14.589679712817798,
          14.630560622385289,
          14.656297291495429,
          14.673085981593763,
          14.6927271460597,
          14.70538840072725,
          14.711003725230773,
          14.71337524440538,
          14.714326304058922,
          14.714150860397837,
          14.71365482691429,
          14.712809174376003,
          14.71162729005029,
          14.709975724019841,
          14.707476673509264,
          14.70510783178812,
          14.70279465291527,
          14.701175498163575,
          14.700929242904342,
          14.700904088933658,
          14.701097640635263,
          14.701543436636742,
          14.701851696081418,
          14.70104986922875,
          14.699499623674061,
          14.69745609254859,
          14.694425497066439,
          14.690776198456584,
          14.686489243166886,
          14.681866690223474,
          14.677758349263433,
          14.673808541732084,
          14.670026286420034,
          14.667330090783468,
          14.66575588906622,
          14.665401549238272,
          14.665683175066928,
          14.665726718915343,
          14.664836254261212,
          14.664183026075705,
          14.662928850506509,
          14.661521848712054,
          14.660856853823173,
          14.655788927634093,
          14.643612221583926,
          14.624454196549333,
          14.595361832739275,
          14.560760819808378,
          14.517861533086098,
          14.490127624611665,
          14.457106731979351,
          14.44230668521051,
          14.413112648628186,
          14.360740284948628,
          14.35088792557062,
          14.35908445613043,
          14.368279465453787,
          14.3827433508945,
          14.37580938056078,
          14.350037270421916,
          14.310324435157016,
          14.273323367034346,
          14.238171221446018,
          14.209964918583736,
          14.181954580654141,
          14.153371672824592,
          14.13066415478092,
          14.118458542802253,
          14.11441234694626,
          14.110277442829501,
          14.099835515245017,
          14.101247184968205,
          14.110025779818868,
          14.127115102142476,
          14.147764415911109,
          14.173364975265304,
          14.209471210257144,
          14.252768768181943,
          14.289932315454196,
          14.329225459888875,
          14.368046667921167,
          14.407771798334203,
          14.445675978555647,
          14.479384448283017,
          14.512150031635837,
          14.541635487889748,
          14.575548606658732,
          14.609252531761145,
          14.63728413078501,
          14.65859940825792,
          14.674361506331357,
          14.68475657848025,
          14.693818560642109,
          14.703567239157755,
          14.709850588300128,
          14.713437741805937,
          14.715745636231162,
          14.714309041530019,
          14.710492472538071,
          14.706382863310601,
          14.697929719974216,
          14.689215877221761,
          14.682279934027594,
          14.677033745805366,
          14.673652756216157,
          14.671797351426065,
          14.67191572305282,
          14.674797156193398,
          14.681433788274196,
          14.691234958969563,
          14.704249003360426,
          14.718085096423524,
          14.731248902060022,
          14.742279446650409,
          14.751889108963919,
          14.757851515987321,
          14.760860691841774,
          14.76675841722627,
          14.77450767213927,
          14.781944792346003,
          14.78956679776024,
          14.798043615421978,
          14.806446873572803,
          14.813218857972052,
          14.818686077023525,
          14.82387920939162,
          14.830173761562955,
          14.833229581475093,
          14.827369199520465,
          14.818266844178765,
          14.81115989625952,
          14.811509797151466,
          14.79837491505829,
          14.799825249323254,
          14.80177570371126,
          14.842342223874832,
          14.873485235199828,
          14.934275125038793,
          14.944165356291434,
          14.889239512290782,
          14.837573538339818,
          14.73548731089089,
          14.616185656583246,
          14.552948010605299,
          14.574216291724015,
          14.588910579081093,
          14.601164226688653,
          14.62917623802666,
          14.65972478422372,
          14.6791314601338,
          14.697368793473856,
          14.709835298631672,
          14.721625605871646,
          14.722725052814441,
          14.716717551837988,
          14.703712455778435,
          14.717608298329324,
          14.733222889854776,
          14.735136564487327,
          14.761461427847559,
          14.773935260772744,
          14.778446065263754,
          14.751219181923924,
          14.749098075107344,
          14.740518527783816,
          14.737989320692137,
          14.739673579838545,
          14.744748904254298,
          14.749569729672524,
          14.753252919206467,
          14.751146186087423,
          14.73083431952917,
          14.68900752906681,
          14.6520992558444,
          14.608335785787503,
          14.56171455691538,
          14.515721190880173,
          14.469879629410348,
          14.418273052650667,
          14.36376108658785,
          14.314660711957863,
          14.268329070815481,
          14.227916292848088,
          14.197453918376935,
          14.175328499853764,
          14.166805460890151,
          14.166871727863343,
          14.172385467668727,
          14.171766148022135,
          14.180410130377012,
          14.193567136690902,
          14.209581584753163,
          14.22706422851335,
          14.257377687250488,
          14.29962385147621,
          14.340902856097971,
          14.378968176742266,
          14.418375218638046,
          14.449072433961565,
          14.478019158395133,
          14.506048749328901,
          14.535523495768961,
          14.565253163962357,
          14.592107810811623,
          14.616790831525034,
          14.636228932283645,
          14.650234409507886,
          14.661310470807134,
          14.66618583172483,
          14.668069631613484,
          14.666820810951211,
          14.66507024960196,
          14.663426927309803,
          14.661396431155135,
          14.660234345893182,
          14.658007127368332,
          14.655158387343715,
          14.650451635534845,
          14.64466572906205,
          14.640750869344314,
          14.639421020485155,
          14.638885459333387,
          14.639396782485392,
          14.641068781713315,
          14.645404494839749,
          14.651151366859434,
          14.657457474356237,
          14.665548950097303,
          14.675854468473812,
          14.686379749412136,
          14.696913344548054,
          14.705874288071362,
          14.71251218841959,
          14.718761505719272,
          14.723323463663272,
          14.725880326030845,
          14.728602873446224,
          14.732857346997866,
          14.736603808984682,
          14.7424637681835,
          14.74583707770883,
          14.748810882993858,
          14.754612783728124,
          14.76331549391092,
          14.768506794337172,
          14.780810115752388,
          14.78460491282013,
          14.78087972954241,
          14.777985120512424,
          14.786049892178168,
          14.80075813047697,
          14.816929385715031,
          14.842323058944785,
          14.868325077784903,
          14.873200297783995,
          14.848958634136059,
          14.84055946262473,
          14.78655860833601,
          14.739174868901536,
          14.664032736385307,
          14.569315494998426,
          14.485794448020089,
          14.431432665958718,
          14.423542633361041,
          14.439625497405194,
          14.472135595330267,
          14.505270174045776,
          14.527800663094078,
          14.53882373899849,
          14.5662815879291,
          14.613468604993393,
          14.657658847040326,
          14.666203587468843,
          14.701147243983618,
          14.695391564551228,
          14.682826486830418,
          14.707013192223075,
          14.735559179378564,
          14.764682404362741,
          14.783974020233243,
          14.775726054383233,
          14.7869705134134,
          14.795676182886865,
          14.800348902853043,
          14.819009062462245,
          14.841701185148509,
          14.842443262513385,
          14.84278851309142,
          14.826017931033608,
          14.817080027701937,
          14.816233247814825,
          14.796235911579094,
          14.773889744063885,
          14.74644795985405,
          14.70840264965142,
          14.66093231573523,
          14.61190786100276,
          14.574491646674826,
          14.521544299864232,
          14.473598577039875,
          14.440605198764851,
          14.410755503151112,
          14.39055017105694,
          14.375300276876779,
          14.364297317102984
         ]
        }
       ],
       "layout": {
        "template": {
         "data": {
          "bar": [
           {
            "error_x": {
             "color": "#2a3f5f"
            },
            "error_y": {
             "color": "#2a3f5f"
            },
            "marker": {
             "line": {
              "color": "#E5ECF6",
              "width": 0.5
             },
             "pattern": {
              "fillmode": "overlay",
              "size": 10,
              "solidity": 0.2
             }
            },
            "type": "bar"
           }
          ],
          "barpolar": [
           {
            "marker": {
             "line": {
              "color": "#E5ECF6",
              "width": 0.5
             },
             "pattern": {
              "fillmode": "overlay",
              "size": 10,
              "solidity": 0.2
             }
            },
            "type": "barpolar"
           }
          ],
          "carpet": [
           {
            "aaxis": {
             "endlinecolor": "#2a3f5f",
             "gridcolor": "white",
             "linecolor": "white",
             "minorgridcolor": "white",
             "startlinecolor": "#2a3f5f"
            },
            "baxis": {
             "endlinecolor": "#2a3f5f",
             "gridcolor": "white",
             "linecolor": "white",
             "minorgridcolor": "white",
             "startlinecolor": "#2a3f5f"
            },
            "type": "carpet"
           }
          ],
          "choropleth": [
           {
            "colorbar": {
             "outlinewidth": 0,
             "ticks": ""
            },
            "type": "choropleth"
           }
          ],
          "contour": [
           {
            "colorbar": {
             "outlinewidth": 0,
             "ticks": ""
            },
            "colorscale": [
             [
              0,
              "#0d0887"
             ],
             [
              0.1111111111111111,
              "#46039f"
             ],
             [
              0.2222222222222222,
              "#7201a8"
             ],
             [
              0.3333333333333333,
              "#9c179e"
             ],
             [
              0.4444444444444444,
              "#bd3786"
             ],
             [
              0.5555555555555556,
              "#d8576b"
             ],
             [
              0.6666666666666666,
              "#ed7953"
             ],
             [
              0.7777777777777778,
              "#fb9f3a"
             ],
             [
              0.8888888888888888,
              "#fdca26"
             ],
             [
              1,
              "#f0f921"
             ]
            ],
            "type": "contour"
           }
          ],
          "contourcarpet": [
           {
            "colorbar": {
             "outlinewidth": 0,
             "ticks": ""
            },
            "type": "contourcarpet"
           }
          ],
          "heatmap": [
           {
            "colorbar": {
             "outlinewidth": 0,
             "ticks": ""
            },
            "colorscale": [
             [
              0,
              "#0d0887"
             ],
             [
              0.1111111111111111,
              "#46039f"
             ],
             [
              0.2222222222222222,
              "#7201a8"
             ],
             [
              0.3333333333333333,
              "#9c179e"
             ],
             [
              0.4444444444444444,
              "#bd3786"
             ],
             [
              0.5555555555555556,
              "#d8576b"
             ],
             [
              0.6666666666666666,
              "#ed7953"
             ],
             [
              0.7777777777777778,
              "#fb9f3a"
             ],
             [
              0.8888888888888888,
              "#fdca26"
             ],
             [
              1,
              "#f0f921"
             ]
            ],
            "type": "heatmap"
           }
          ],
          "heatmapgl": [
           {
            "colorbar": {
             "outlinewidth": 0,
             "ticks": ""
            },
            "colorscale": [
             [
              0,
              "#0d0887"
             ],
             [
              0.1111111111111111,
              "#46039f"
             ],
             [
              0.2222222222222222,
              "#7201a8"
             ],
             [
              0.3333333333333333,
              "#9c179e"
             ],
             [
              0.4444444444444444,
              "#bd3786"
             ],
             [
              0.5555555555555556,
              "#d8576b"
             ],
             [
              0.6666666666666666,
              "#ed7953"
             ],
             [
              0.7777777777777778,
              "#fb9f3a"
             ],
             [
              0.8888888888888888,
              "#fdca26"
             ],
             [
              1,
              "#f0f921"
             ]
            ],
            "type": "heatmapgl"
           }
          ],
          "histogram": [
           {
            "marker": {
             "pattern": {
              "fillmode": "overlay",
              "size": 10,
              "solidity": 0.2
             }
            },
            "type": "histogram"
           }
          ],
          "histogram2d": [
           {
            "colorbar": {
             "outlinewidth": 0,
             "ticks": ""
            },
            "colorscale": [
             [
              0,
              "#0d0887"
             ],
             [
              0.1111111111111111,
              "#46039f"
             ],
             [
              0.2222222222222222,
              "#7201a8"
             ],
             [
              0.3333333333333333,
              "#9c179e"
             ],
             [
              0.4444444444444444,
              "#bd3786"
             ],
             [
              0.5555555555555556,
              "#d8576b"
             ],
             [
              0.6666666666666666,
              "#ed7953"
             ],
             [
              0.7777777777777778,
              "#fb9f3a"
             ],
             [
              0.8888888888888888,
              "#fdca26"
             ],
             [
              1,
              "#f0f921"
             ]
            ],
            "type": "histogram2d"
           }
          ],
          "histogram2dcontour": [
           {
            "colorbar": {
             "outlinewidth": 0,
             "ticks": ""
            },
            "colorscale": [
             [
              0,
              "#0d0887"
             ],
             [
              0.1111111111111111,
              "#46039f"
             ],
             [
              0.2222222222222222,
              "#7201a8"
             ],
             [
              0.3333333333333333,
              "#9c179e"
             ],
             [
              0.4444444444444444,
              "#bd3786"
             ],
             [
              0.5555555555555556,
              "#d8576b"
             ],
             [
              0.6666666666666666,
              "#ed7953"
             ],
             [
              0.7777777777777778,
              "#fb9f3a"
             ],
             [
              0.8888888888888888,
              "#fdca26"
             ],
             [
              1,
              "#f0f921"
             ]
            ],
            "type": "histogram2dcontour"
           }
          ],
          "mesh3d": [
           {
            "colorbar": {
             "outlinewidth": 0,
             "ticks": ""
            },
            "type": "mesh3d"
           }
          ],
          "parcoords": [
           {
            "line": {
             "colorbar": {
              "outlinewidth": 0,
              "ticks": ""
             }
            },
            "type": "parcoords"
           }
          ],
          "pie": [
           {
            "automargin": true,
            "type": "pie"
           }
          ],
          "scatter": [
           {
            "fillpattern": {
             "fillmode": "overlay",
             "size": 10,
             "solidity": 0.2
            },
            "type": "scatter"
           }
          ],
          "scatter3d": [
           {
            "line": {
             "colorbar": {
              "outlinewidth": 0,
              "ticks": ""
             }
            },
            "marker": {
             "colorbar": {
              "outlinewidth": 0,
              "ticks": ""
             }
            },
            "type": "scatter3d"
           }
          ],
          "scattercarpet": [
           {
            "marker": {
             "colorbar": {
              "outlinewidth": 0,
              "ticks": ""
             }
            },
            "type": "scattercarpet"
           }
          ],
          "scattergeo": [
           {
            "marker": {
             "colorbar": {
              "outlinewidth": 0,
              "ticks": ""
             }
            },
            "type": "scattergeo"
           }
          ],
          "scattergl": [
           {
            "marker": {
             "colorbar": {
              "outlinewidth": 0,
              "ticks": ""
             }
            },
            "type": "scattergl"
           }
          ],
          "scattermapbox": [
           {
            "marker": {
             "colorbar": {
              "outlinewidth": 0,
              "ticks": ""
             }
            },
            "type": "scattermapbox"
           }
          ],
          "scatterpolar": [
           {
            "marker": {
             "colorbar": {
              "outlinewidth": 0,
              "ticks": ""
             }
            },
            "type": "scatterpolar"
           }
          ],
          "scatterpolargl": [
           {
            "marker": {
             "colorbar": {
              "outlinewidth": 0,
              "ticks": ""
             }
            },
            "type": "scatterpolargl"
           }
          ],
          "scatterternary": [
           {
            "marker": {
             "colorbar": {
              "outlinewidth": 0,
              "ticks": ""
             }
            },
            "type": "scatterternary"
           }
          ],
          "surface": [
           {
            "colorbar": {
             "outlinewidth": 0,
             "ticks": ""
            },
            "colorscale": [
             [
              0,
              "#0d0887"
             ],
             [
              0.1111111111111111,
              "#46039f"
             ],
             [
              0.2222222222222222,
              "#7201a8"
             ],
             [
              0.3333333333333333,
              "#9c179e"
             ],
             [
              0.4444444444444444,
              "#bd3786"
             ],
             [
              0.5555555555555556,
              "#d8576b"
             ],
             [
              0.6666666666666666,
              "#ed7953"
             ],
             [
              0.7777777777777778,
              "#fb9f3a"
             ],
             [
              0.8888888888888888,
              "#fdca26"
             ],
             [
              1,
              "#f0f921"
             ]
            ],
            "type": "surface"
           }
          ],
          "table": [
           {
            "cells": {
             "fill": {
              "color": "#EBF0F8"
             },
             "line": {
              "color": "white"
             }
            },
            "header": {
             "fill": {
              "color": "#C8D4E3"
             },
             "line": {
              "color": "white"
             }
            },
            "type": "table"
           }
          ]
         },
         "layout": {
          "annotationdefaults": {
           "arrowcolor": "#2a3f5f",
           "arrowhead": 0,
           "arrowwidth": 1
          },
          "autotypenumbers": "strict",
          "coloraxis": {
           "colorbar": {
            "outlinewidth": 0,
            "ticks": ""
           }
          },
          "colorscale": {
           "diverging": [
            [
             0,
             "#8e0152"
            ],
            [
             0.1,
             "#c51b7d"
            ],
            [
             0.2,
             "#de77ae"
            ],
            [
             0.3,
             "#f1b6da"
            ],
            [
             0.4,
             "#fde0ef"
            ],
            [
             0.5,
             "#f7f7f7"
            ],
            [
             0.6,
             "#e6f5d0"
            ],
            [
             0.7,
             "#b8e186"
            ],
            [
             0.8,
             "#7fbc41"
            ],
            [
             0.9,
             "#4d9221"
            ],
            [
             1,
             "#276419"
            ]
           ],
           "sequential": [
            [
             0,
             "#0d0887"
            ],
            [
             0.1111111111111111,
             "#46039f"
            ],
            [
             0.2222222222222222,
             "#7201a8"
            ],
            [
             0.3333333333333333,
             "#9c179e"
            ],
            [
             0.4444444444444444,
             "#bd3786"
            ],
            [
             0.5555555555555556,
             "#d8576b"
            ],
            [
             0.6666666666666666,
             "#ed7953"
            ],
            [
             0.7777777777777778,
             "#fb9f3a"
            ],
            [
             0.8888888888888888,
             "#fdca26"
            ],
            [
             1,
             "#f0f921"
            ]
           ],
           "sequentialminus": [
            [
             0,
             "#0d0887"
            ],
            [
             0.1111111111111111,
             "#46039f"
            ],
            [
             0.2222222222222222,
             "#7201a8"
            ],
            [
             0.3333333333333333,
             "#9c179e"
            ],
            [
             0.4444444444444444,
             "#bd3786"
            ],
            [
             0.5555555555555556,
             "#d8576b"
            ],
            [
             0.6666666666666666,
             "#ed7953"
            ],
            [
             0.7777777777777778,
             "#fb9f3a"
            ],
            [
             0.8888888888888888,
             "#fdca26"
            ],
            [
             1,
             "#f0f921"
            ]
           ]
          },
          "colorway": [
           "#636efa",
           "#EF553B",
           "#00cc96",
           "#ab63fa",
           "#FFA15A",
           "#19d3f3",
           "#FF6692",
           "#B6E880",
           "#FF97FF",
           "#FECB52"
          ],
          "font": {
           "color": "#2a3f5f"
          },
          "geo": {
           "bgcolor": "white",
           "lakecolor": "white",
           "landcolor": "#E5ECF6",
           "showlakes": true,
           "showland": true,
           "subunitcolor": "white"
          },
          "hoverlabel": {
           "align": "left"
          },
          "hovermode": "closest",
          "mapbox": {
           "style": "light"
          },
          "paper_bgcolor": "white",
          "plot_bgcolor": "#E5ECF6",
          "polar": {
           "angularaxis": {
            "gridcolor": "white",
            "linecolor": "white",
            "ticks": ""
           },
           "bgcolor": "#E5ECF6",
           "radialaxis": {
            "gridcolor": "white",
            "linecolor": "white",
            "ticks": ""
           }
          },
          "scene": {
           "xaxis": {
            "backgroundcolor": "#E5ECF6",
            "gridcolor": "white",
            "gridwidth": 2,
            "linecolor": "white",
            "showbackground": true,
            "ticks": "",
            "zerolinecolor": "white"
           },
           "yaxis": {
            "backgroundcolor": "#E5ECF6",
            "gridcolor": "white",
            "gridwidth": 2,
            "linecolor": "white",
            "showbackground": true,
            "ticks": "",
            "zerolinecolor": "white"
           },
           "zaxis": {
            "backgroundcolor": "#E5ECF6",
            "gridcolor": "white",
            "gridwidth": 2,
            "linecolor": "white",
            "showbackground": true,
            "ticks": "",
            "zerolinecolor": "white"
           }
          },
          "shapedefaults": {
           "line": {
            "color": "#2a3f5f"
           }
          },
          "ternary": {
           "aaxis": {
            "gridcolor": "white",
            "linecolor": "white",
            "ticks": ""
           },
           "baxis": {
            "gridcolor": "white",
            "linecolor": "white",
            "ticks": ""
           },
           "bgcolor": "#E5ECF6",
           "caxis": {
            "gridcolor": "white",
            "linecolor": "white",
            "ticks": ""
           }
          },
          "title": {
           "x": 0.05
          },
          "xaxis": {
           "automargin": true,
           "gridcolor": "white",
           "linecolor": "white",
           "ticks": "",
           "title": {
            "standoff": 15
           },
           "zerolinecolor": "white",
           "zerolinewidth": 2
          },
          "yaxis": {
           "automargin": true,
           "gridcolor": "white",
           "linecolor": "white",
           "ticks": "",
           "title": {
            "standoff": 15
           },
           "zerolinecolor": "white",
           "zerolinewidth": 2
          }
         }
        },
        "title": {
         "text": "TSMixer Prediction vs. Ground Truth"
        },
        "xaxis": {
         "title": {
          "text": "Time Step"
         }
        },
        "yaxis": {
         "title": {
          "text": "Value"
         }
        }
       }
      }
     },
     "metadata": {},
     "output_type": "display_data"
    },
    {
     "data": {
      "application/vnd.plotly.v1+json": {
       "config": {
        "plotlyServerURL": "https://plot.ly"
       },
       "data": [
        {
         "line": {
          "color": "blue"
         },
         "mode": "lines",
         "name": "GT",
         "type": "scatter",
         "y": [
          7.329073,
          7.541849,
          7.767591,
          8.005835,
          8.256089,
          8.517845,
          8.790563,
          9.073683,
          9.366622,
          9.668775,
          9.979517,
          10.2982,
          10.62416,
          10.95671,
          11.29514,
          11.63874,
          11.98676,
          12.33845,
          12.69304,
          13.04974,
          13.40775,
          13.76625,
          14.12443,
          14.48143,
          14.83642,
          15.18852,
          15.53687,
          15.88059,
          16.21879,
          16.55058,
          16.87504,
          17.19127,
          17.49837,
          17.79542,
          18.08149,
          18.35566,
          18.61703,
          18.86466,
          19.09765,
          19.31508,
          19.51604,
          19.69965,
          19.86502,
          20.01126,
          20.13753,
          20.24298,
          20.32679,
          20.38816,
          20.42634,
          20.44058,
          20.43019,
          20.39451,
          20.33293,
          20.24488,
          20.12988,
          19.98747,
          19.81729,
          19.61905,
          19.39255,
          19.13767,
          18.85439,
          18.54281,
          18.20312,
          17.83566,
          17.44086,
          17.01933,
          16.57178,
          16.09908,
          15.60226,
          15.08246,
          14.53911,
          13.97205,
          13.38175,
          12.76916,
          12.13564,
          11.48289,
          10.8129,
          10.12786,
          9.43019,
          8.722439,
          8.007288,
          7.287513,
          6.565944,
          5.845445,
          5.128887,
          4.419114,
          3.718924,
          3.031042,
          2.358104,
          1.702628,
          1.067004,
          0.4534775,
          -0.1358627,
          -0.6990951,
          -1.234471,
          -1.740419,
          -2.215549,
          -2.658651,
          -3.06869,
          -3.444808,
          -3.786317,
          -4.092694,
          -4.363568,
          -4.598722,
          -4.798077,
          -4.961688,
          -5.089733,
          -5.182504,
          -5.240403,
          -5.263927,
          -5.253666,
          -5.210291,
          -5.134547,
          -5.02725,
          -4.889277,
          -4.72156,
          -4.525082,
          -4.300873,
          -4.05,
          -3.773565,
          -3.472704,
          -3.148579,
          -2.802377,
          -2.435304,
          -2.048585,
          -1.643459,
          -1.221176,
          -0.7829989,
          -0.3301949,
          0.1359602,
          0.6141896,
          1.103213,
          1.60175,
          2.108523,
          2.622257,
          3.14168,
          3.665526,
          4.192535,
          4.721459,
          5.251054,
          5.780088,
          6.307341,
          6.831605,
          7.351684,
          7.866395,
          8.374573,
          8.875067,
          9.366738,
          9.848475,
          10.31917,
          10.77775,
          11.22316,
          11.65434,
          12.07029,
          12.47001,
          12.85253,
          13.2169,
          13.5622,
          13.88754,
          14.19206,
          14.47493,
          14.73535,
          14.97255,
          15.18581,
          15.37444,
          15.53779,
          15.67527,
          15.78632,
          15.87043,
          15.92717,
          15.95613,
          15.957,
          15.92952,
          15.87348,
          15.78878,
          15.67538,
          15.53333,
          15.36275,
          15.16389,
          14.93707,
          14.68271,
          14.40134,
          14.09361,
          13.76026,
          13.40215,
          13.02026,
          12.61567,
          12.18959,
          11.74333,
          11.2783,
          10.79603,
          10.29812,
          9.786301,
          9.262344,
          8.728121,
          8.185552,
          7.636614,
          7.083322,
          6.527716,
          5.971847,
          5.417768,
          4.867517,
          4.323104,
          3.786497,
          3.259613,
          2.744302,
          2.242342,
          1.755424,
          1.285148,
          0.8330106,
          0.4004046,
          -0.01139058,
          -0.4012074,
          -0.7679959,
          -1.110825,
          -1.428881,
          -1.721466,
          -1.988,
          -2.228014,
          -2.441149,
          -2.627152,
          -2.785874,
          -2.917261,
          -3.021353,
          -3.098279,
          -3.148249,
          -3.171555,
          -3.168559,
          -3.139692,
          -3.08545,
          -3.006388,
          -2.903115,
          -2.776289,
          -2.626615,
          -2.454844,
          -2.261758,
          -2.048183,
          -1.81497,
          -1.562999,
          -1.29318,
          -1.006442,
          -0.7037337,
          -0.3860222,
          -0.05429077,
          0.2904645,
          0.6472393,
          1.015017,
          1.392774,
          1.779483,
          2.174114,
          2.575632,
          2.983004,
          3.395196,
          3.811178,
          4.229922,
          4.650406,
          5.071614,
          5.492535,
          5.912168,
          6.329519,
          6.743609,
          7.153467,
          7.558135,
          7.956667,
          8.348136,
          8.731625,
          9.106235,
          9.471087,
          9.825319,
          10.16809,
          10.49857,
          10.81596,
          11.11949,
          11.4084,
          11.68196,
          11.93948,
          12.18028,
          12.40371,
          12.60917,
          12.79607,
          12.96388,
          13.11208,
          13.24021,
          13.34784,
          13.43458,
          13.5001,
          13.5441,
          13.56634,
          13.56664,
          13.54486,
          13.50092,
          13.43481,
          13.34656,
          13.2363,
          13.1042,
          12.95051,
          12.77554,
          12.57968,
          12.3634,
          12.12724,
          11.87181,
          11.59781,
          11.30599,
          10.99721,
          10.67237,
          10.33246,
          9.978536,
          9.61171,
          9.233162,
          8.844129,
          8.445895,
          8.039792,
          7.62719,
          7.209487,
          6.788113,
          6.364507,
          5.940124,
          5.516415,
          5.094827,
          4.676792,
          4.26372,
          3.85699,
          3.3914,
          2.812134,
          2.133465,
          1.365851,
          0.5163671,
          -0.4107478,
          -1.413455,
          -2.491212,
          -3.644182,
          -4.872345,
          -6.174471,
          -7.546928,
          -8.982304,
          -10.46785,
          -11.98378,
          -13.50152,
          -15.07525,
          -16.7785,
          -18.60541,
          -20.54778,
          -22.5949,
          -24.7335,
          -26.94791,
          -29.22026,
          -31.53094,
          -33.85913,
          -36.18346,
          -38.48269,
          -40.73639,
          -42.92555,
          -45.03308,
          -47.04415,
          -48.94635,
          -50.7298,
          -52.38702,
          -53.91281,
          -55.30397,
          -56.55906,
          -57.67813,
          -58.66246,
          -59.51426,
          -60.23655,
          -60.83286,
          -61.30714,
          -61.66364,
          -61.90677,
          -62.04101,
          -62.07091,
          -62.00098,
          -61.83571,
          -61.57949,
          -61.23666,
          -60.81145,
          -60.30803,
          -59.73042,
          -59.0826,
          -58.33001,
          -57.43521,
          -56.39439,
          -55.206,
          -53.87093,
          -52.39282,
          -50.77811,
          -49.03621,
          -47.17941,
          -45.22271,
          -43.18357,
          -41.08143,
          -38.93726,
          -36.77305,
          -34.61134,
          -32.47487,
          -30.34131,
          -28.17661,
          -25.98365,
          -23.76533,
          -21.52459,
          -19.2644,
          -16.98773,
          -14.69756,
          -12.39689,
          -10.08869,
          -7.77594,
          -5.461576,
          -3.148517,
          -0.8396338,
          1.462248,
          3.754361,
          6.033997,
          8.298523,
          10.54539,
          12.77211,
          14.97632,
          17.15571,
          19.3081,
          21.43138,
          23.52355,
          25.58271,
          27.60706,
          29.5949,
          31.54461,
          33.45467,
          35.32364,
          37.15017,
          38.93299,
          40.67088,
          42.36268,
          44.00731,
          45.60369,
          47.15082,
          48.64767,
          50.09325,
          51.48656,
          52.82658,
          54.11223,
          55.3424,
          56.51588,
          57.63139,
          58.68747,
          59.68253,
          60.61477,
          61.48216,
          62.28236,
          63.01265,
          63.66993,
          64.25052,
          64.75013,
          65.16368,
          65.48517,
          65.7074,
          65.82177,
          65.81787,
          65.68311,
          65.40209,
          64.95592,
          64.32126,
          63.46909,
          62.3632,
          60.95814,
          59.19686,
          57.00779,
          54.30205,
          50.97141,
          46.88942,
          41.92003,
          35.94083,
          28.88893,
          20.82866,
          12.01416,
          2.888606,
          -6.019959,
          -14.25775,
          -21.552,
          -27.81613,
          -33.09165,
          -37.48306,
          -41.11275,
          -44.09745,
          -46.53885,
          -48.5217,
          -50.11513,
          -51.37503,
          -52.34653,
          -53.06615,
          -53.56361,
          -53.86325,
          -53.98518,
          -53.94616,
          -53.76025,
          -53.43941,
          -52.99387,
          -52.43246,
          -51.76292,
          -50.99207,
          -50.12595,
          -49.17006,
          -48.12936,
          -47.00841,
          -45.81144,
          -44.54243,
          -43.20509,
          -41.80302,
          -40.33961,
          -38.81819,
          -37.24195,
          -35.61406,
          -33.93759,
          -32.2156,
          -30.45112,
          -28.64714,
          -26.80665,
          -24.93262,
          -23.02803,
          -21.09583,
          -19.13899,
          -17.16044,
          -15.16314,
          -13.15,
          -11.12395,
          -9.087873,
          -7.044638,
          -4.997087,
          -2.948029,
          -0.9002261,
          1.143598,
          3.180767,
          5.208664,
          7.224728,
          9.22646,
          11.21143,
          13.17727,
          15.12169,
          17.04247,
          18.93746,
          20.8046,
          22.64187,
          24.44737,
          26.21921,
          27.95562,
          29.65485,
          31.31523,
          32.93515,
          34.51302,
          36.04729,
          37.53645,
          38.97902,
          40.37349,
          41.71839,
          43.0122,
          44.25339,
          45.44038,
          46.57151,
          47.64506,
          48.65919,
          49.61192,
          50.50114,
          51.32452,
          52.07952,
          52.76333,
          53.37283,
          53.90453,
          54.35451,
          54.71835,
          54.99105,
          55.16695,
          55.23958,
          55.20158,
          55.04453,
          54.75879,
          54.33337,
          53.75563,
          53.01121,
          52.08371,
          50.95462,
          49.60313,
          48.00623,
          46.13891,
          43.97478,
          41.48721,
          38.65122,
          35.44634,
          31.86057,
          27.89523,
          23.57028,
          18.92873,
          14.03858,
          8.990596,
          3.891275,
          -1.148099,
          -6.023489,
          -10.64812,
          -14.95824,
          -18.91415,
          -22.49763,
          -25.7074,
          -28.55417,
          -31.05617,
          -33.23566,
          -35.11645,
          -36.72228,
          -38.07577,
          -39.19794,
          -40.10799,
          -40.82322,
          -41.35916,
          -41.72968,
          -41.94714,
          -42.02258,
          -41.96589,
          -41.78592,
          -41.49065,
          -41.0873,
          -40.58241,
          -39.98198,
          -39.29153,
          -38.51615,
          -37.66058,
          -36.72927,
          -35.72639,
          -34.6559,
          -33.52159,
          -32.32708,
          -31.07585,
          -29.77127,
          -28.41662,
          -27.01511,
          -25.56986,
          -24.08395,
          -22.5604,
          -21.00219,
          -19.41227,
          -17.79356,
          -16.14894,
          -14.48125,
          -12.79333,
          -11.08798,
          -9.367962,
          -7.636021,
          -5.894868
         ]
        },
        {
         "line": {
          "color": "red"
         },
         "mode": "lines",
         "name": "pred_beginning",
         "type": "scatter",
         "y": [
          7.329073000000001,
          7.541849000000001,
          7.767591000000001,
          8.005835,
          8.256089,
          8.517845,
          8.790563,
          9.073683,
          9.871052704206463,
          10.234754499081857,
          10.59955783811854,
          10.960920497384507,
          11.315273649342073,
          11.657482606068104,
          12.01367195753596,
          12.377767850681012,
          12.775208494971336,
          13.20117342783021,
          13.632632915629053,
          14.055910256279269,
          14.463337649148983,
          14.866613405458622,
          15.239284666297523,
          15.605871541378617,
          15.960317732125901,
          16.26135439122828,
          16.547589105521133,
          16.828980536402046,
          17.15001790212057,
          17.472293737011665,
          17.86128716137511,
          18.208083105979142,
          18.566134988690226,
          18.92798566274,
          19.293217331299157,
          19.625207820195936,
          19.891003843381423,
          20.136348887317503,
          20.55358397298262,
          20.85033558141137,
          21.15478658855152,
          21.074337878075838,
          21.141880528513614,
          21.241807699568817,
          21.432221237696112,
          21.28302212796517,
          20.938501245087085,
          21.222346793477925,
          20.889194197434097,
          20.674667813729997,
          20.346226842433413,
          19.758330529243093,
          18.955054684201443,
          17.85554684359438,
          16.930190062851384,
          15.927025644446505,
          14.97387484186181,
          14.186561293327872,
          13.216449343832641,
          12.211828780596225,
          11.206177768877458,
          10.868064274347896,
          10.081947941938255,
          8.638237832421664,
          8.074966955876034,
          7.234291272816481,
          6.397782147632331,
          5.6990503041545475,
          4.682063481405477,
          4.774857386007466,
          4.587817820594109,
          5.685129594674051,
          6.126933942620253,
          4.924084582920206,
          4.401024018021518,
          4.385163537547838,
          3.8298308007589306,
          3.4326811221175824,
          2.9736672312467847,
          2.509347057326533,
          1.2059969336554233,
          0.8969615718105624,
          1.7703610159802432,
          0.005615296193989483,
          -1.0369225236125836,
          -1.9268144098464837,
          -2.1551118510155445,
          -3.0177065074358613,
          -0.958685459272679,
          -2.094845974975501,
          -3.3421393501168892,
          -4.886877297125542,
          -2.8141551900207964,
          -2.1570669821862762,
          -1.5761310237362038,
          -1.1936331990266291,
          -2.179913271408713,
          -2.9493576671079302,
          -2.433662526774538,
          -2.9410666821298244,
          -2.4179012291615956,
          -2.78896800974007,
          -3.163184065578067,
          -3.1974754425225034,
          -3.8443210451059104,
          -4.51342793357829,
          -5.111726597866221,
          -4.737278383916143,
          -4.703909495349009,
          -4.884427129375554,
          -3.5016986801727357,
          -3.942796898813952,
          -3.0985001636130494,
          -2.9632963699392687,
          -2.334726745464493,
          -1.6014015878379042,
          -0.734908957218162,
          -0.09986655392472787,
          0.8655320153743953,
          2.053909015788871,
          3.3070756839623368,
          4.2827313409656895,
          4.843777186077961,
          5.2392403172245565,
          5.539033240807776,
          6.130953042791199,
          6.841606139494965,
          7.660245672982178,
          7.333358273929006,
          7.603404238810871,
          7.4711952408967015,
          8.022521165656702,
          8.11017511598897,
          7.966985785439176,
          8.78581402967912,
          9.216982112966768,
          9.603404682470924,
          9.969421036671669,
          10.174680405830054,
          10.578431888781461,
          11.40811933968551,
          11.653260751553528,
          12.028863611992985,
          12.456004695589808,
          12.637419802847363,
          12.765304252488491,
          12.99734299404599,
          13.146708871418877,
          13.195413800111988,
          13.171049925347825,
          13.105513752960011,
          13.073908651637582,
          13.206162413497747,
          13.540426208671606,
          13.89335218070387,
          14.202323468665245,
          14.485752975675648,
          14.684757680536553,
          14.613630403521327,
          14.466744975391308,
          14.581630326204811,
          14.614673140145717,
          14.521776541785265,
          14.294310744514865,
          13.854430368522085,
          14.003896306480138,
          14.386794812392605,
          14.625757044264235,
          14.932242616636156,
          15.055619073598102,
          15.032671846066066,
          14.885373887453335,
          14.79022153730443,
          14.718685240704215,
          14.609950982705296,
          14.51534984349925,
          14.412027634343758,
          14.284123874765141,
          14.141288267161164,
          13.955231753110867,
          13.853303370352288,
          13.94003834320498,
          14.06200517473025,
          13.986789457314005,
          13.904808239981262,
          13.656944126927336,
          13.435341528858054,
          12.11187352235922,
          11.442538425534702,
          11.465789345719969,
          10.071171241370694,
          9.693360026262072,
          8.626111191678755,
          7.28080978995121,
          6.306670840765152,
          5.5971052446317735,
          5.805764040512601,
          4.3419514083458335,
          3.92828866111613,
          3.65642229576374,
          2.5385252505964027,
          2.6714197512914204,
          2.3014799688827416,
          1.537423484605089,
          0.90445294983175,
          0.14336273526969245,
          -0.49004644228819094,
          -1.1078145704802207,
          -1.7971859217603519,
          -2.0810134768003503,
          -2.234259773884036,
          -2.5567041318659425,
          -3.1613316281657977,
          -4.232972156941148,
          -4.023460212913092,
          -4.182826004731835,
          -3.7546720271412872,
          -3.743740847073816,
          -4.226237377379746,
          -4.013118863663458,
          -4.311665418554224,
          -4.24472313162746,
          -4.643987687286035,
          -5.721636678655885,
          -5.914987960454756,
          -5.028785588867844,
          -4.682177038429899,
          -4.7553599460632405,
          -4.367327191089858,
          -3.9312104974585114,
          -3.769761865564282,
          -3.8344808765065514,
          -3.5884147819501533,
          -2.6821836165652964,
          -2.2644548109075724,
          -2.8027772482177906,
          -3.8441968470988814,
          -4.029642903807204,
          -4.280623377454479,
          -4.750751015074458,
          -5.58214607885961,
          -5.4745212645418615,
          -5.406999679490436,
          -5.030017036244965,
          -4.341983336998144,
          -3.442638358639089,
          -2.6021843009984384,
          -2.0925375597211686,
          -1.2543004145628873,
          -0.1021332772685728,
          1.368298274834666,
          2.6597754201235135,
          4.489342405748284,
          6.964663982488348,
          7.300376022973861,
          8.575827236733726,
          9.794182476237207,
          9.473651557515545,
          9.56523859102449,
          9.726013130555478,
          10.037850188785065,
          10.455089663072336,
          10.847723010652404,
          11.316418202000495,
          11.534494103304795,
          11.559502227801534,
          11.410189013894527,
          11.331785401343781,
          11.394056438847143,
          11.353323003439142,
          11.472862049187425,
          11.352798124229222,
          11.997518317102225,
          13.52526790774297,
          14.070986051111364,
          13.952779391049802,
          13.992921240191102,
          13.960731574397425,
          13.902871979885804,
          14.251795528511318,
          14.251453215983108,
          14.065684595546282,
          13.855169412493243,
          13.787918166566659,
          13.739520441424505,
          13.8017616362972,
          13.839853121166971,
          13.89079624715991,
          13.91653112748577,
          13.846425521708582,
          13.743884487296953,
          13.636405375234801,
          13.53337983693709,
          13.404133158978576,
          13.24156455071,
          13.106115871919885,
          12.910618553886474,
          12.609848723011211,
          12.147742608968926,
          11.575371485519527,
          10.978125651686947,
          10.271812024571553,
          9.572941500633622,
          8.904750078743096,
          8.427487419221036,
          7.935064703321478,
          7.377997583056313,
          6.872574890604698,
          6.3632366694650315,
          5.847081162667418,
          5.31875337345647,
          4.780041226498753,
          4.161322742178728,
          3.509732161319686,
          2.8129712480523987,
          2.169685256900149,
          1.4697851622042992,
          0.760061136811069,
          0.05510491052868716,
          -0.616986679872344,
          -1.195264888744425,
          -1.727086460054183,
          -2.250898357066068,
          -2.7020768019386066,
          -3.184596153079751,
          -3.9517685590885363,
          -4.579111563670564,
          -5.486279261023624,
          -7.423776070206019,
          -9.607852881599344,
          -13.232813529840456,
          -18.23186494115592,
          -23.073877408120023,
          -28.05845689901213,
          -32.54636373230829,
          -35.44295617164862,
          -38.46452603731358,
          -40.55422640695527,
          -42.84247506475359,
          -44.912851453315675,
          -46.590653301834585,
          -47.85242781350586,
          -48.98376194199204,
          -49.99092263973266,
          -50.97627715170193,
          -52.04092879969301,
          -53.17906002617522,
          -54.371062467353205,
          -55.62145815949704,
          -56.922245766690956,
          -58.27701693730785,
          -59.64078302789675,
          -60.989789304448834,
          -62.36570310116701,
          -63.70136796636326,
          -64.96969381318978,
          -66.19036975608962,
          -67.3306952936501,
          -68.39069149125754,
          -69.33220893422973,
          -70.16619460167387,
          -70.87581724989529,
          -71.47599819422615,
          -71.96544542430358,
          -72.3362945292231,
          -72.6033053230215,
          -72.77102090735525,
          -72.84670181872009,
          -72.82478679511927,
          -72.71519061172881,
          -72.52164184193289,
          -72.22079301585882,
          -71.7995344414006,
          -71.28450681049722,
          -70.69377018104719,
          -70.01865965746468,
          -69.27883626701093,
          -68.46153438555703,
          -67.56580607071716,
          -66.68624192900421,
          -65.91076186125312,
          -65.17184428241248,
          -64.4707460938679,
          -63.81774720415884,
          -62.6268787829461,
          -60.62690291557013,
          -57.747678887276464,
          -53.35169086732428,
          -47.73099288298596,
          -41.440362949209835,
          -34.69959379628784,
          -29.245445778238494,
          -24.29504838759913,
          -19.61138091894016,
          -15.753378290116567,
          -12.591469065130253,
          -10.14346402814126,
          -7.91613997856868,
          -5.665484258163152,
          -3.3044731227340853,
          -0.5983148480451939,
          2.3996824114304314,
          5.525425878949256,
          8.419212233282693,
          10.956528364330257,
          13.35849851034617,
          15.727845394699338,
          18.063641262665875,
          20.26105597451731,
          22.229082672593787,
          24.194658764058058,
          26.003796274681992,
          27.395575818220426,
          28.694920446449274,
          29.656569376977863,
          30.454059262568354,
          31.25239527451062,
          32.04068660806104,
          32.83197975916651,
          33.587310784872564,
          34.29069807873398,
          34.92575979196491,
          35.67822592512718,
          36.318989336263854,
          36.962414007876255,
          37.412174050067804,
          38.06717415148025,
          38.51546663842266,
          38.89033923213527,
          39.4016277569613,
          39.96462829438208,
          40.53245631617505,
          40.94456900205907,
          41.32027718943028,
          41.732888422791284,
          42.2137163989533,
          42.67446555102479,
          43.08060619987821,
          43.37895526677193,
          43.60419691033341,
          43.84913469013336,
          44.059212766419606,
          44.279103801847846,
          44.49453950806278,
          44.547487356656816,
          44.52719787870277,
          44.488476187691326,
          44.46046975653725,
          44.46229893425209,
          44.407044425852575,
          44.397280619278746,
          44.405850720626006,
          44.31360539379358,
          44.15119126502491,
          43.90188943935251,
          43.59532487178178,
          43.23087964431306,
          42.76636329898241,
          42.20559218161714,
          41.57518591876986,
          40.84012681652923,
          39.95153615676474,
          39.039657712388866,
          38.12152635916438,
          36.86466008251296,
          35.28105210906397,
          33.67892415011445,
          31.279046499142762,
          28.34290730782557,
          25.74258548392564,
          22.754590333206952,
          20.25206456544302,
          16.684468475134274,
          13.347639303682065,
          10.471507498559895,
          6.454549852951409,
          1.7705115457202119,
          -4.062945524179776,
          -11.124785396348686,
          -17.21627984432364,
          -21.618041535584954,
          -25.05063570883912,
          -27.295591486787757,
          -29.210884501031433,
          -30.512125014031902,
          -31.55909578107878,
          -32.42155833997219,
          -33.2466719688647,
          -33.98701848307952,
          -34.55945982448342,
          -35.03507060662576,
          -35.4922351321198,
          -36.02262996236647,
          -36.1820457844778,
          -36.211575945244626,
          -36.592111616988014,
          -36.489969069468195,
          -36.31364125301449,
          -37.81119010142289,
          -38.17847915604903,
          -38.4305194819471,
          -38.03526612693959,
          -37.464053599739515,
          -36.3977553407153,
          -35.00669553121053,
          -33.35465313930156,
          -31.591810326082374,
          -29.834893908223364,
          -27.54206352889363,
          -24.81853377112257,
          -21.974401165592486,
          -19.111197363619006,
          -16.205308067102305,
          -13.167365129895773,
          -10.065362352794885,
          -6.959241292662313,
          -3.866459010712284,
          -0.8353517913767581,
          2.2178108874685987,
          5.087255310148656,
          7.791219712621501,
          10.327386024664055,
          12.83370180652236,
          15.205406258698016,
          17.6134599127473,
          19.80403188493228,
          21.55017686857032,
          23.122184835935183,
          24.567365133874212,
          26.09085951647199,
          27.199541332835057,
          28.069008132690275,
          28.806419536406803,
          29.53355805337934,
          29.878479178598102,
          30.296742957296708,
          30.819217202275283,
          31.36314303235495,
          32.072860474814945,
          32.707184899523575,
          33.377015032927346,
          33.97806667989407,
          34.587088064697035,
          34.97481405498168,
          35.39611827111032,
          35.87686900752239,
          36.2489995901116,
          36.46797779213128,
          36.687349214696184,
          36.85782436464196,
          37.15543965391111,
          37.44417588283318,
          37.719665494638,
          38.026201975026936,
          38.26624205250021,
          38.51243322278807,
          38.650007750150806,
          38.77667391828128,
          38.89518076009835,
          38.97817136052709,
          39.079618750297314,
          39.24483808634843,
          39.41103345196716,
          39.47459123348681,
          39.50623144378649,
          39.50204294280031,
          39.47413832768026,
          39.42924096757015,
          39.3469876556637,
          39.212077899674405,
          39.07574271920868,
          38.773443892374075,
          38.36693459925951,
          37.88788664824418,
          37.341348710256945,
          36.732980352430864,
          36.061675641982504,
          35.32798578985471,
          34.46361330259878,
          33.52673375552162,
          32.32959487097164,
          30.861484899989204,
          29.391717785280463,
          27.669474993355717,
          25.789259358284713,
          23.628056045571196,
          20.714147858650094,
          17.943270134156716,
          14.970823871738595,
          12.155113738743026,
          9.871339720095499,
          8.555995930932824,
          6.716755983212858,
          4.563412692781675,
          1.6780279167046892,
          -2.1854306471838956,
          -6.209126583251509,
          -9.85310137584798,
          -12.836910658753778,
          -15.39533869554752,
          -17.53086330229878,
          -19.77010509419962,
          -21.936989039432543,
          -23.687143468272783,
          -25.07676732060793,
          -26.24737786194615,
          -26.73524167714951,
          -27.03376979982722,
          -27.54880094162833,
          -27.94837621173559,
          -28.577701118083503,
          -28.66201883785238,
          -28.33936382600696,
          -28.339181259325247,
          -28.11425910745677,
          -28.422558058503768,
          -28.943993077755678,
          -29.071329827351672,
          -29.182604219854788,
          -28.961477348427273,
          -28.264739694857415,
          -27.232820146358552,
          -26.864509420494375,
          -26.36090976168658,
          -25.42438832617739,
          -23.918230756546745,
          -22.32523113168279,
          -20.333453210495204,
          -17.958232594247743,
          -15.133701330717555,
          -12.172140606696477,
          -8.930447108628977,
          -5.780333622274972,
          -2.947176521896138,
          -0.1693641161021291,
          2.384720281912192,
          4.825505596591486,
          7.390814992926659,
          9.829939214119708,
          12.060193107843984,
          14.184537260789282
         ]
        }
       ],
       "layout": {
        "template": {
         "data": {
          "bar": [
           {
            "error_x": {
             "color": "#2a3f5f"
            },
            "error_y": {
             "color": "#2a3f5f"
            },
            "marker": {
             "line": {
              "color": "#E5ECF6",
              "width": 0.5
             },
             "pattern": {
              "fillmode": "overlay",
              "size": 10,
              "solidity": 0.2
             }
            },
            "type": "bar"
           }
          ],
          "barpolar": [
           {
            "marker": {
             "line": {
              "color": "#E5ECF6",
              "width": 0.5
             },
             "pattern": {
              "fillmode": "overlay",
              "size": 10,
              "solidity": 0.2
             }
            },
            "type": "barpolar"
           }
          ],
          "carpet": [
           {
            "aaxis": {
             "endlinecolor": "#2a3f5f",
             "gridcolor": "white",
             "linecolor": "white",
             "minorgridcolor": "white",
             "startlinecolor": "#2a3f5f"
            },
            "baxis": {
             "endlinecolor": "#2a3f5f",
             "gridcolor": "white",
             "linecolor": "white",
             "minorgridcolor": "white",
             "startlinecolor": "#2a3f5f"
            },
            "type": "carpet"
           }
          ],
          "choropleth": [
           {
            "colorbar": {
             "outlinewidth": 0,
             "ticks": ""
            },
            "type": "choropleth"
           }
          ],
          "contour": [
           {
            "colorbar": {
             "outlinewidth": 0,
             "ticks": ""
            },
            "colorscale": [
             [
              0,
              "#0d0887"
             ],
             [
              0.1111111111111111,
              "#46039f"
             ],
             [
              0.2222222222222222,
              "#7201a8"
             ],
             [
              0.3333333333333333,
              "#9c179e"
             ],
             [
              0.4444444444444444,
              "#bd3786"
             ],
             [
              0.5555555555555556,
              "#d8576b"
             ],
             [
              0.6666666666666666,
              "#ed7953"
             ],
             [
              0.7777777777777778,
              "#fb9f3a"
             ],
             [
              0.8888888888888888,
              "#fdca26"
             ],
             [
              1,
              "#f0f921"
             ]
            ],
            "type": "contour"
           }
          ],
          "contourcarpet": [
           {
            "colorbar": {
             "outlinewidth": 0,
             "ticks": ""
            },
            "type": "contourcarpet"
           }
          ],
          "heatmap": [
           {
            "colorbar": {
             "outlinewidth": 0,
             "ticks": ""
            },
            "colorscale": [
             [
              0,
              "#0d0887"
             ],
             [
              0.1111111111111111,
              "#46039f"
             ],
             [
              0.2222222222222222,
              "#7201a8"
             ],
             [
              0.3333333333333333,
              "#9c179e"
             ],
             [
              0.4444444444444444,
              "#bd3786"
             ],
             [
              0.5555555555555556,
              "#d8576b"
             ],
             [
              0.6666666666666666,
              "#ed7953"
             ],
             [
              0.7777777777777778,
              "#fb9f3a"
             ],
             [
              0.8888888888888888,
              "#fdca26"
             ],
             [
              1,
              "#f0f921"
             ]
            ],
            "type": "heatmap"
           }
          ],
          "heatmapgl": [
           {
            "colorbar": {
             "outlinewidth": 0,
             "ticks": ""
            },
            "colorscale": [
             [
              0,
              "#0d0887"
             ],
             [
              0.1111111111111111,
              "#46039f"
             ],
             [
              0.2222222222222222,
              "#7201a8"
             ],
             [
              0.3333333333333333,
              "#9c179e"
             ],
             [
              0.4444444444444444,
              "#bd3786"
             ],
             [
              0.5555555555555556,
              "#d8576b"
             ],
             [
              0.6666666666666666,
              "#ed7953"
             ],
             [
              0.7777777777777778,
              "#fb9f3a"
             ],
             [
              0.8888888888888888,
              "#fdca26"
             ],
             [
              1,
              "#f0f921"
             ]
            ],
            "type": "heatmapgl"
           }
          ],
          "histogram": [
           {
            "marker": {
             "pattern": {
              "fillmode": "overlay",
              "size": 10,
              "solidity": 0.2
             }
            },
            "type": "histogram"
           }
          ],
          "histogram2d": [
           {
            "colorbar": {
             "outlinewidth": 0,
             "ticks": ""
            },
            "colorscale": [
             [
              0,
              "#0d0887"
             ],
             [
              0.1111111111111111,
              "#46039f"
             ],
             [
              0.2222222222222222,
              "#7201a8"
             ],
             [
              0.3333333333333333,
              "#9c179e"
             ],
             [
              0.4444444444444444,
              "#bd3786"
             ],
             [
              0.5555555555555556,
              "#d8576b"
             ],
             [
              0.6666666666666666,
              "#ed7953"
             ],
             [
              0.7777777777777778,
              "#fb9f3a"
             ],
             [
              0.8888888888888888,
              "#fdca26"
             ],
             [
              1,
              "#f0f921"
             ]
            ],
            "type": "histogram2d"
           }
          ],
          "histogram2dcontour": [
           {
            "colorbar": {
             "outlinewidth": 0,
             "ticks": ""
            },
            "colorscale": [
             [
              0,
              "#0d0887"
             ],
             [
              0.1111111111111111,
              "#46039f"
             ],
             [
              0.2222222222222222,
              "#7201a8"
             ],
             [
              0.3333333333333333,
              "#9c179e"
             ],
             [
              0.4444444444444444,
              "#bd3786"
             ],
             [
              0.5555555555555556,
              "#d8576b"
             ],
             [
              0.6666666666666666,
              "#ed7953"
             ],
             [
              0.7777777777777778,
              "#fb9f3a"
             ],
             [
              0.8888888888888888,
              "#fdca26"
             ],
             [
              1,
              "#f0f921"
             ]
            ],
            "type": "histogram2dcontour"
           }
          ],
          "mesh3d": [
           {
            "colorbar": {
             "outlinewidth": 0,
             "ticks": ""
            },
            "type": "mesh3d"
           }
          ],
          "parcoords": [
           {
            "line": {
             "colorbar": {
              "outlinewidth": 0,
              "ticks": ""
             }
            },
            "type": "parcoords"
           }
          ],
          "pie": [
           {
            "automargin": true,
            "type": "pie"
           }
          ],
          "scatter": [
           {
            "fillpattern": {
             "fillmode": "overlay",
             "size": 10,
             "solidity": 0.2
            },
            "type": "scatter"
           }
          ],
          "scatter3d": [
           {
            "line": {
             "colorbar": {
              "outlinewidth": 0,
              "ticks": ""
             }
            },
            "marker": {
             "colorbar": {
              "outlinewidth": 0,
              "ticks": ""
             }
            },
            "type": "scatter3d"
           }
          ],
          "scattercarpet": [
           {
            "marker": {
             "colorbar": {
              "outlinewidth": 0,
              "ticks": ""
             }
            },
            "type": "scattercarpet"
           }
          ],
          "scattergeo": [
           {
            "marker": {
             "colorbar": {
              "outlinewidth": 0,
              "ticks": ""
             }
            },
            "type": "scattergeo"
           }
          ],
          "scattergl": [
           {
            "marker": {
             "colorbar": {
              "outlinewidth": 0,
              "ticks": ""
             }
            },
            "type": "scattergl"
           }
          ],
          "scattermapbox": [
           {
            "marker": {
             "colorbar": {
              "outlinewidth": 0,
              "ticks": ""
             }
            },
            "type": "scattermapbox"
           }
          ],
          "scatterpolar": [
           {
            "marker": {
             "colorbar": {
              "outlinewidth": 0,
              "ticks": ""
             }
            },
            "type": "scatterpolar"
           }
          ],
          "scatterpolargl": [
           {
            "marker": {
             "colorbar": {
              "outlinewidth": 0,
              "ticks": ""
             }
            },
            "type": "scatterpolargl"
           }
          ],
          "scatterternary": [
           {
            "marker": {
             "colorbar": {
              "outlinewidth": 0,
              "ticks": ""
             }
            },
            "type": "scatterternary"
           }
          ],
          "surface": [
           {
            "colorbar": {
             "outlinewidth": 0,
             "ticks": ""
            },
            "colorscale": [
             [
              0,
              "#0d0887"
             ],
             [
              0.1111111111111111,
              "#46039f"
             ],
             [
              0.2222222222222222,
              "#7201a8"
             ],
             [
              0.3333333333333333,
              "#9c179e"
             ],
             [
              0.4444444444444444,
              "#bd3786"
             ],
             [
              0.5555555555555556,
              "#d8576b"
             ],
             [
              0.6666666666666666,
              "#ed7953"
             ],
             [
              0.7777777777777778,
              "#fb9f3a"
             ],
             [
              0.8888888888888888,
              "#fdca26"
             ],
             [
              1,
              "#f0f921"
             ]
            ],
            "type": "surface"
           }
          ],
          "table": [
           {
            "cells": {
             "fill": {
              "color": "#EBF0F8"
             },
             "line": {
              "color": "white"
             }
            },
            "header": {
             "fill": {
              "color": "#C8D4E3"
             },
             "line": {
              "color": "white"
             }
            },
            "type": "table"
           }
          ]
         },
         "layout": {
          "annotationdefaults": {
           "arrowcolor": "#2a3f5f",
           "arrowhead": 0,
           "arrowwidth": 1
          },
          "autotypenumbers": "strict",
          "coloraxis": {
           "colorbar": {
            "outlinewidth": 0,
            "ticks": ""
           }
          },
          "colorscale": {
           "diverging": [
            [
             0,
             "#8e0152"
            ],
            [
             0.1,
             "#c51b7d"
            ],
            [
             0.2,
             "#de77ae"
            ],
            [
             0.3,
             "#f1b6da"
            ],
            [
             0.4,
             "#fde0ef"
            ],
            [
             0.5,
             "#f7f7f7"
            ],
            [
             0.6,
             "#e6f5d0"
            ],
            [
             0.7,
             "#b8e186"
            ],
            [
             0.8,
             "#7fbc41"
            ],
            [
             0.9,
             "#4d9221"
            ],
            [
             1,
             "#276419"
            ]
           ],
           "sequential": [
            [
             0,
             "#0d0887"
            ],
            [
             0.1111111111111111,
             "#46039f"
            ],
            [
             0.2222222222222222,
             "#7201a8"
            ],
            [
             0.3333333333333333,
             "#9c179e"
            ],
            [
             0.4444444444444444,
             "#bd3786"
            ],
            [
             0.5555555555555556,
             "#d8576b"
            ],
            [
             0.6666666666666666,
             "#ed7953"
            ],
            [
             0.7777777777777778,
             "#fb9f3a"
            ],
            [
             0.8888888888888888,
             "#fdca26"
            ],
            [
             1,
             "#f0f921"
            ]
           ],
           "sequentialminus": [
            [
             0,
             "#0d0887"
            ],
            [
             0.1111111111111111,
             "#46039f"
            ],
            [
             0.2222222222222222,
             "#7201a8"
            ],
            [
             0.3333333333333333,
             "#9c179e"
            ],
            [
             0.4444444444444444,
             "#bd3786"
            ],
            [
             0.5555555555555556,
             "#d8576b"
            ],
            [
             0.6666666666666666,
             "#ed7953"
            ],
            [
             0.7777777777777778,
             "#fb9f3a"
            ],
            [
             0.8888888888888888,
             "#fdca26"
            ],
            [
             1,
             "#f0f921"
            ]
           ]
          },
          "colorway": [
           "#636efa",
           "#EF553B",
           "#00cc96",
           "#ab63fa",
           "#FFA15A",
           "#19d3f3",
           "#FF6692",
           "#B6E880",
           "#FF97FF",
           "#FECB52"
          ],
          "font": {
           "color": "#2a3f5f"
          },
          "geo": {
           "bgcolor": "white",
           "lakecolor": "white",
           "landcolor": "#E5ECF6",
           "showlakes": true,
           "showland": true,
           "subunitcolor": "white"
          },
          "hoverlabel": {
           "align": "left"
          },
          "hovermode": "closest",
          "mapbox": {
           "style": "light"
          },
          "paper_bgcolor": "white",
          "plot_bgcolor": "#E5ECF6",
          "polar": {
           "angularaxis": {
            "gridcolor": "white",
            "linecolor": "white",
            "ticks": ""
           },
           "bgcolor": "#E5ECF6",
           "radialaxis": {
            "gridcolor": "white",
            "linecolor": "white",
            "ticks": ""
           }
          },
          "scene": {
           "xaxis": {
            "backgroundcolor": "#E5ECF6",
            "gridcolor": "white",
            "gridwidth": 2,
            "linecolor": "white",
            "showbackground": true,
            "ticks": "",
            "zerolinecolor": "white"
           },
           "yaxis": {
            "backgroundcolor": "#E5ECF6",
            "gridcolor": "white",
            "gridwidth": 2,
            "linecolor": "white",
            "showbackground": true,
            "ticks": "",
            "zerolinecolor": "white"
           },
           "zaxis": {
            "backgroundcolor": "#E5ECF6",
            "gridcolor": "white",
            "gridwidth": 2,
            "linecolor": "white",
            "showbackground": true,
            "ticks": "",
            "zerolinecolor": "white"
           }
          },
          "shapedefaults": {
           "line": {
            "color": "#2a3f5f"
           }
          },
          "ternary": {
           "aaxis": {
            "gridcolor": "white",
            "linecolor": "white",
            "ticks": ""
           },
           "baxis": {
            "gridcolor": "white",
            "linecolor": "white",
            "ticks": ""
           },
           "bgcolor": "#E5ECF6",
           "caxis": {
            "gridcolor": "white",
            "linecolor": "white",
            "ticks": ""
           }
          },
          "title": {
           "x": 0.05
          },
          "xaxis": {
           "automargin": true,
           "gridcolor": "white",
           "linecolor": "white",
           "ticks": "",
           "title": {
            "standoff": 15
           },
           "zerolinecolor": "white",
           "zerolinewidth": 2
          },
          "yaxis": {
           "automargin": true,
           "gridcolor": "white",
           "linecolor": "white",
           "ticks": "",
           "title": {
            "standoff": 15
           },
           "zerolinecolor": "white",
           "zerolinewidth": 2
          }
         }
        },
        "title": {
         "text": "TSMixer Prediction vs. Ground Truth"
        },
        "xaxis": {
         "title": {
          "text": "Time Step"
         }
        },
        "yaxis": {
         "title": {
          "text": "Value"
         }
        }
       }
      }
     },
     "metadata": {},
     "output_type": "display_data"
    },
    {
     "data": {
      "application/vnd.plotly.v1+json": {
       "config": {
        "plotlyServerURL": "https://plot.ly"
       },
       "data": [
        {
         "line": {
          "color": "blue"
         },
         "mode": "lines",
         "name": "GT",
         "type": "scatter",
         "y": [
          15.35107,
          15.81385,
          16.12709,
          16.45284,
          16.79059,
          17.13984,
          17.50006,
          17.87068,
          18.25112,
          18.64077,
          19.03901,
          19.4452,
          19.85865,
          20.2787,
          20.70464,
          21.13573,
          21.57125,
          22.01044,
          22.45253,
          22.89673,
          23.34224,
          23.78824,
          24.23392,
          24.67842,
          25.12091,
          25.56051,
          25.99636,
          26.42758,
          26.85328,
          27.27256,
          27.68452,
          28.08826,
          28.48286,
          28.8674,
          29.24097,
          29.60265,
          29.95151,
          30.28664,
          30.60713,
          30.91206,
          31.20052,
          31.47163,
          31.72449,
          31.95824,
          32.172,
          32.36495,
          32.53626,
          32.68514,
          32.81081,
          32.91256,
          32.98967,
          33.04148,
          33.0674,
          33.06685,
          33.03935,
          32.98444,
          32.90176,
          32.79102,
          32.65202,
          32.48464,
          32.28886,
          32.06478,
          31.81259,
          31.53262,
          31.22533,
          30.8913,
          30.53125,
          30.14605,
          29.73672,
          29.30442,
          28.82921,
          28.31325,
          27.76127,
          27.17743,
          26.56547,
          25.92889,
          25.27102,
          24.59508,
          23.90422,
          23.20159,
          22.49028,
          21.77338,
          21.05397,
          20.33509,
          19.61975,
          18.91088,
          18.21137,
          17.52401,
          16.85145,
          16.19626,
          15.56086,
          14.94749,
          14.35827,
          13.79513,
          13.25982,
          12.75393,
          12.27883,
          11.83576,
          11.42575,
          11.04964,
          10.70815,
          10.40178,
          10.13091,
          9.895763,
          9.696412,
          9.532804,
          9.40476,
          9.311991,
          9.254093,
          9.230569,
          9.240829,
          9.284205,
          9.359949,
          9.467247,
          9.605219,
          9.772937,
          9.969414,
          10.19362,
          10.4445,
          10.72093,
          11.02179,
          11.34592,
          11.69212,
          12.05919,
          12.44591,
          12.85104,
          13.27332,
          13.7115,
          14.1643,
          14.63046,
          15.10869,
          15.59771,
          16.09625,
          16.60302,
          17.11675,
          17.63618,
          18.16002,
          18.68703,
          19.21596,
          19.74555,
          20.27458,
          20.80184,
          21.3261,
          21.84618,
          22.36089,
          22.86907,
          23.36956,
          23.86123,
          24.34297,
          24.81367,
          25.27225,
          25.71765,
          26.14884,
          26.56479,
          26.9645,
          27.34702,
          27.71139,
          28.0567,
          28.38204,
          28.68656,
          28.96943,
          29.22985,
          29.46705,
          29.68031,
          29.86894,
          30.03229,
          30.16977,
          30.28081,
          30.36493,
          30.42167,
          30.45063,
          30.4515,
          30.42402,
          30.36798,
          30.28328,
          30.16988,
          30.02782,
          29.85725,
          29.65839,
          29.43156,
          29.1772,
          28.89584,
          28.5881,
          28.25475,
          27.89664,
          27.51475,
          27.11017,
          26.68409,
          26.23783,
          25.7728,
          25.29052,
          24.79262,
          24.2808,
          23.75684,
          23.22262,
          22.68005,
          22.13111,
          21.57782,
          21.02221,
          20.46634,
          19.91227,
          19.36201,
          18.8176,
          18.28099,
          17.75411,
          17.2388,
          16.73684,
          16.24992,
          15.77964,
          15.32751,
          14.8949,
          14.48311,
          14.09329,
          13.7265,
          13.38367,
          13.06562,
          12.77303,
          12.5065,
          12.26648,
          12.05335,
          11.86734,
          11.70862,
          11.57724,
          11.47314,
          11.39622,
          11.34625,
          11.32294,
          11.32594,
          11.3548,
          11.40905,
          11.48811,
          11.59138,
          11.71821,
          11.86788,
          12.03965,
          12.23274,
          12.44631,
          12.67953,
          12.9315,
          13.20132,
          13.48805,
          13.79076,
          14.10847,
          14.44021,
          14.78496,
          15.14174,
          15.50951,
          15.88727,
          16.27398,
          16.66861,
          17.07013,
          17.4775,
          17.88969,
          18.30567,
          18.72442,
          19.1449,
          19.56611,
          19.98703,
          20.40666,
          20.82401,
          21.23811,
          21.64796,
          22.05263,
          22.45116,
          22.84263,
          23.22612,
          23.60073,
          23.96558,
          24.31982,
          24.66258,
          24.99306,
          25.31046,
          25.61399,
          25.90289,
          26.17646,
          26.43398,
          26.67477,
          26.8982,
          27.10366,
          27.29057,
          27.45837,
          27.60658,
          27.7347,
          27.84233,
          27.92907,
          27.99459,
          28.0386,
          28.06084,
          28.06114,
          28.03936,
          27.99541,
          27.9293,
          27.84106,
          27.7308,
          27.5987,
          27.445,
          27.27003,
          27.07418,
          26.8579,
          26.62173,
          26.36631,
          26.0923,
          25.80049,
          25.49171,
          25.16687,
          24.82696,
          24.47303,
          24.1062,
          23.72766,
          23.33862,
          22.94039,
          22.53429,
          22.12169,
          21.70398,
          21.28261,
          20.859,
          20.43462,
          20.01091,
          19.58932,
          19.17129,
          18.75822,
          18.35149,
          17.8859,
          17.30663,
          16.62796,
          15.86035,
          15.01086,
          14.08375,
          13.08104,
          12.00328,
          10.85031,
          9.62215,
          8.320024,
          6.947568,
          5.512193,
          4.026646,
          2.51072,
          0.9929781,
          -0.5807543,
          -2.283999,
          -4.110913,
          -6.053285,
          -8.1004,
          -10.23901,
          -12.45341,
          -14.72576,
          -17.03645,
          -19.36464,
          -21.68897,
          -23.9882,
          -26.24189,
          -28.43106,
          -30.53859,
          -32.54965,
          -34.45185,
          -36.2353,
          -37.89252,
          -39.41832,
          -40.80947,
          -42.06456,
          -43.18364,
          -44.16796,
          -45.01977,
          -45.74205,
          -46.33836,
          -46.81265,
          -47.16915,
          -47.41227,
          -47.54652,
          -47.57642,
          -47.50649,
          -47.34121,
          -47.085,
          -46.74216,
          -46.31696,
          -45.81353,
          -45.23592,
          -44.5881,
          -43.83552,
          -42.94072,
          -41.8999,
          -40.7115,
          -39.37644,
          -37.89832,
          -36.28362,
          -34.54171,
          -32.68491,
          -30.72821,
          -28.68907,
          -26.58693,
          -24.44277,
          -22.27856,
          -20.11684,
          -17.98037,
          -15.84682,
          -13.68212,
          -11.48915,
          -9.270833,
          -7.030095,
          -4.769904,
          -2.49323,
          -0.2030649,
          2.097607,
          4.405805,
          6.718556,
          9.03292,
          11.34598,
          13.65486,
          15.95675,
          18.24886,
          20.52849,
          22.79302,
          25.03988,
          27.26661,
          29.47082,
          31.65021,
          33.8026,
          35.92587,
          38.01804,
          40.07721,
          42.10156,
          44.0894,
          46.0391,
          47.94916,
          49.81814,
          51.64467,
          53.42749,
          55.16537,
          56.85718,
          58.5018,
          60.09819,
          61.64531,
          63.14216,
          64.58775,
          65.98106,
          67.32108,
          68.60673,
          69.8369,
          71.01038,
          72.12589,
          73.18196,
          74.17702,
          75.10927,
          75.97665,
          76.77686,
          77.50715,
          78.16443,
          78.74502,
          79.24463,
          79.65818,
          79.97967,
          80.2019,
          80.31627,
          80.31237,
          80.17761,
          79.89659,
          79.45042,
          78.81576,
          77.96359,
          76.8577,
          75.45264,
          73.69135,
          71.50229,
          68.79655,
          65.4659,
          61.38391,
          56.41452,
          50.43533,
          43.38342,
          35.32315,
          26.50865,
          17.3831,
          8.474537,
          0.236743,
          -7.057502,
          -13.32163,
          -18.59715,
          -22.98856,
          -26.61825,
          -29.60295,
          -32.04436,
          -34.0272,
          -35.62064,
          -36.88054,
          -37.85204,
          -38.57166,
          -39.06911,
          -39.36876,
          -39.49068,
          -39.45166,
          -39.26576,
          -38.94492,
          -38.49937,
          -37.93797,
          -37.26843,
          -36.49757,
          -35.63146,
          -34.67557,
          -33.63486,
          -32.51391,
          -31.31695,
          -30.04793,
          -28.7106,
          -27.30853,
          -25.84512,
          -24.32369,
          -22.74746,
          -21.11956,
          -19.44309,
          -17.7211,
          -15.95662,
          -14.15264,
          -12.31215,
          -10.43812,
          -8.533532,
          -6.601335,
          -4.644492,
          -2.665948,
          -0.668643,
          1.344492,
          3.370544,
          5.406624,
          7.449859,
          9.497409,
          11.54647,
          13.59427,
          15.63809,
          17.67526,
          19.70316,
          21.71922,
          23.72095,
          25.70592,
          27.67176,
          29.61618,
          31.53696,
          33.43196,
          35.2991,
          37.13637,
          38.94186,
          40.71371,
          42.45012,
          44.14935,
          45.80973,
          47.42965,
          49.00751,
          50.54178,
          52.03095,
          53.47351,
          54.86799,
          56.21288,
          57.50669,
          58.74789,
          59.93487,
          61.06601,
          62.13956,
          63.15368,
          64.10642,
          64.99564,
          65.81902,
          66.57401,
          67.25783,
          67.86732,
          68.39902,
          68.84901,
          69.21284,
          69.48555,
          69.66145,
          69.73408,
          69.69608,
          69.53902,
          69.25329,
          68.82787,
          68.25013,
          67.50571,
          66.57821,
          65.44911,
          64.09763,
          62.50073,
          60.63341,
          58.46928,
          55.9817,
          53.14571,
          49.94084,
          46.35506,
          42.38972,
          38.06478,
          33.42323,
          28.53307,
          23.48509,
          18.38577,
          13.3464,
          8.471006,
          3.846375,
          -0.4637432,
          -4.41965,
          -8.003129,
          -11.2129,
          -14.05968,
          -16.56167,
          -18.74116,
          -20.62196,
          -22.22778,
          -23.58128,
          -24.70345,
          -25.61349,
          -26.32873,
          -26.86467,
          -27.23518,
          -27.45264,
          -27.52809,
          -27.4714,
          -27.29143,
          -26.99616,
          -26.5928,
          -26.08791,
          -25.48749,
          -24.79704,
          -24.02166,
          -23.16609,
          -22.23477,
          -21.23189,
          -20.1614,
          -19.0271,
          -17.83258,
          -16.58135,
          -15.27677,
          -13.92213,
          -12.52061,
          -11.07537,
          -9.589452,
          -8.0659,
          -6.507693,
          -4.917777,
          -3.299064,
          -1.654439,
          0.01324749,
          1.701166,
          3.406519,
          5.126534,
          6.858476,
          8.599628
         ]
        },
        {
         "line": {
          "color": "red"
         },
         "mode": "lines",
         "name": "pred_beginning",
         "type": "scatter",
         "y": [
          15.35107,
          15.81385,
          16.12709,
          16.45284,
          16.79059,
          17.13984,
          17.50006,
          17.87068,
          16.158486286881466,
          16.652986040390655,
          17.156007793441937,
          17.65385900312554,
          18.13876418621992,
          18.61866141615227,
          19.094498261647956,
          19.56897232149526,
          20.057916035504036,
          20.55187994064731,
          21.035681083796913,
          21.507214533688362,
          21.960473194121725,
          22.398603098162127,
          22.810987804693696,
          23.219671398694622,
          23.614349507346965,
          23.967952609692688,
          24.30088752482196,
          24.61504851604463,
          24.96376691909389,
          25.317335055803987,
          25.757097855027958,
          26.17099307701842,
          26.58244944592421,
          26.99798980107071,
          27.427694735207872,
          27.80564528377842,
          28.08323396842175,
          28.39107492100566,
          28.92737609190153,
          29.242823818515106,
          29.513921132905125,
          29.336465287275676,
          29.440578963905182,
          29.605137734835274,
          29.92412573205563,
          29.936868957958243,
          29.72280584011384,
          29.66326111093053,
          29.536844603619222,
          29.807106239317864,
          29.864462119711206,
          29.527828714473966,
          28.799477041639825,
          27.930385188861628,
          27.19800547480378,
          26.400273239485728,
          25.66994950480248,
          25.10686116045623,
          24.411995202716852,
          23.582109443021256,
          22.96416089052422,
          22.952416807659517,
          22.697194765982996,
          21.71451529760338,
          21.170099476820425,
          19.97663229651334,
          19.426337004100464,
          18.947281571845725,
          17.449285995859523,
          17.798143824380826,
          17.38888766809658,
          18.075719396910802,
          18.100748673030264,
          16.86286726821461,
          16.20057267419847,
          15.987253013181487,
          15.615082721249783,
          15.50831602701742,
          14.806056148555223,
          14.436343503737334,
          12.964373068880166,
          12.506873732451467,
          13.510446916397296,
          11.67627379964828,
          10.959778099712835,
          10.696664751146765,
          11.646581856018557,
          10.536375284326176,
          12.467894041859521,
          11.764847873666264,
          9.666129128501993,
          9.48538126827869,
          11.83604358970943,
          14.190276339607669,
          12.7133300762662,
          12.669812501776125,
          10.629010616921713,
          11.429667727659584,
          11.63912587129251,
          12.554691424517438,
          12.233390887571105,
          11.713478110091494,
          11.129987754429967,
          10.309919908146718,
          9.485904004531246,
          9.041430460048034,
          8.25804986987123,
          8.479689166814138,
          8.87047734850348,
          8.940780129626935,
          10.124542160696553,
          9.905882810049572,
          10.096732679474655,
          10.499398687584955,
          10.979030615757019,
          11.436512250832685,
          11.563623263081546,
          12.37107201146864,
          14.266875994636289,
          16.430219101698924,
          18.207483898190567,
          19.5457026909885,
          20.383098195074915,
          21.087695963348917,
          21.635782301731346,
          22.257369028614903,
          22.952664189531546,
          22.571924257379216,
          23.7475065150654,
          23.952416503644727,
          23.66794308534733,
          24.103997778913538,
          24.462418271707143,
          25.2695143042449,
          26.723388929991316,
          27.38875700337868,
          27.275770796709963,
          26.586528187319573,
          26.519263045790822,
          27.91810176106745,
          27.84071057146243,
          27.291075255421926,
          27.542453699602646,
          27.884872169253626,
          28.104895179689883,
          28.369165453724612,
          28.777356032263263,
          29.016736018580126,
          29.12819947181748,
          29.118909102432585,
          29.082583303584386,
          29.09012713946994,
          29.27063548508923,
          29.720884478436382,
          30.18990302498569,
          30.56109646447219,
          30.881037275263253,
          31.020832508904615,
          31.0024300948765,
          31.125037096186738,
          31.208108453298635,
          31.208895180100143,
          31.124582542923648,
          30.908593692697334,
          30.80404819046789,
          30.911567520007026,
          31.134579218148115,
          31.17936320425339,
          31.19027597913117,
          31.368597224242272,
          31.471966132833018,
          31.623776433015156,
          31.563715960706418,
          31.401835557465006,
          31.194115205922518,
          30.959834083420304,
          30.673010974409074,
          30.350631310533338,
          29.9696509896361,
          29.510431562469996,
          29.088370116279908,
          28.768586650849144,
          28.406351407209122,
          27.923860601254475,
          27.600673231195863,
          27.44610239408133,
          27.510659447131122,
          25.07233958840615,
          24.41074255882068,
          25.377608818490025,
          24.380057591139277,
          23.67780689115643,
          22.443759468286785,
          21.35338933875348,
          21.028873274541215,
          20.50438262121773,
          20.507281272410836,
          19.448255212790418,
          18.97825413188012,
          18.231719454381402,
          17.0238420614934,
          17.101654587007676,
          16.654080027715196,
          16.203976141755874,
          15.865352754781268,
          15.42603314498881,
          14.92269757535782,
          13.942903864593173,
          13.134814808003743,
          13.282676395247986,
          13.248381662759009,
          13.1976592005137,
          12.971028122015237,
          12.241367423197483,
          12.574530052028745,
          12.850388374779211,
          13.248065660827072,
          13.227122993370985,
          12.691793430074977,
          12.668942950125238,
          12.147460652676624,
          12.363892255264007,
          11.982178093089146,
          11.076803711436835,
          11.04952920443996,
          11.619271509245173,
          11.353490282681108,
          11.351488062971274,
          11.714267896386115,
          12.182643512310413,
          12.385989225766082,
          12.374895940794403,
          12.602693123240874,
          13.506100687889422,
          14.119470490401696,
          13.974405935472028,
          13.375999676724394,
          14.042467419352082,
          14.642868467611976,
          13.880735182991621,
          13.47094973439814,
          13.5190694421418,
          13.716831143588559,
          14.193782518719715,
          14.878046458667908,
          15.798103347788546,
          16.189079469769357,
          16.45722568451284,
          17.443388604341344,
          18.167510309406055,
          19.38737129976277,
          20.02333327359162,
          21.348559710333127,
          23.55041833917482,
          24.206929617059004,
          25.271528324856753,
          26.46388272381015,
          26.641394514456593,
          26.819981498398427,
          27.24439438358413,
          27.220661458405367,
          27.467632484215876,
          27.684706143287375,
          27.981627327866377,
          28.030626421345946,
          28.057186318164785,
          27.540728145484678,
          26.95332994297189,
          26.63624057976584,
          26.787947731322888,
          26.930070802155818,
          27.53313186114569,
          27.113671858245915,
          28.244586390565267,
          29.59710438005101,
          29.775051492860953,
          30.058939236761674,
          29.65166300959455,
          29.5418202135683,
          30.144220422044913,
          30.269865937090742,
          30.83046997302602,
          31.01151416701122,
          30.971880619033136,
          30.848645110422588,
          30.776888632998126,
          30.74155760648339,
          30.78610207798465,
          30.832186785735082,
          30.805417095102513,
          30.72874444930953,
          30.631756769219884,
          30.53795445853545,
          30.427387873851814,
          30.299649665513975,
          30.151703068068123,
          29.983965920859948,
          29.75248117506664,
          29.403676232069216,
          28.821890014073837,
          28.234726081319724,
          27.52762652181693,
          26.89461914419818,
          26.27453156894194,
          25.761666115322036,
          25.20545725978451,
          24.572238340070243,
          23.977873234659675,
          23.436759044020373,
          22.892754943596874,
          22.36667597627524,
          21.841068170893614,
          21.275290095027103,
          20.70364915620759,
          20.158867944532382,
          19.67623028290812,
          19.190212318460052,
          18.711565984142098,
          18.258926215459255,
          17.818922153349487,
          17.40820574470756,
          17.026698753923757,
          16.63839138408183,
          16.306517675993703,
          15.98508164720933,
          15.400685681585182,
          14.795215053230471,
          13.876141135541271,
          12.648860437305466,
          10.856191530040338,
          7.78547619232001,
          3.4194379035834146,
          -1.2412811466296745,
          -6.798124856661591,
          -12.295526986135286,
          -16.443706637280656,
          -21.110157429313162,
          -24.06387949852244,
          -27.37470210778058,
          -29.998817116230953,
          -32.44690462526707,
          -34.13377975711103,
          -35.558972071956326,
          -36.735076191754175,
          -37.78250327589772,
          -38.839643813617194,
          -39.93079892167022,
          -41.03424794720811,
          -42.157120383334295,
          -43.264191848722675,
          -44.37172136393771,
          -45.45864213351685,
          -46.515457490825035,
          -47.551657109370204,
          -48.48391088633685,
          -49.324079165328136,
          -50.12972936883289,
          -50.92470106721856,
          -51.66414034310858,
          -52.33016577044564,
          -52.919385682574365,
          -53.42673705545659,
          -53.88116444226063,
          -54.27420615916585,
          -54.61431689686574,
          -54.88702088221262,
          -55.087996362643516,
          -55.22045318350862,
          -55.27083866444061,
          -55.23467720407984,
          -55.13587830406495,
          -54.99237933547028,
          -54.76771114034157,
          -54.47572710351246,
          -54.11316842774294,
          -53.67670638452173,
          -53.172480939464144,
          -52.61141535713865,
          -52.00310420796006,
          -51.36809329942013,
          -50.791013455979545,
          -50.15561792544778,
          -49.6156785801654,
          -49.14339773981251,
          -48.355293292263106,
          -46.72425128738113,
          -44.26037679386147,
          -40.308990733126564,
          -35.55327966647698,
          -29.62212882710638,
          -23.19383658045531,
          -17.27045860188359,
          -11.59002535618044,
          -6.5688936460841525,
          -2.4850892266833355,
          0.48723805724066516,
          2.1948661679674615,
          3.9573955714668987,
          5.795878202806385,
          7.769082554058409,
          9.997316198920586,
          12.44153082674106,
          15.166117403800417,
          18.007891308648528,
          20.9273907619923,
          23.918791800148366,
          26.75230725893289,
          29.620950943545544,
          32.440136610711086,
          35.087786988498955,
          37.673925820099754,
          40.055298896368164,
          42.00031482632224,
          43.7867930678004,
          45.15488649967418,
          46.19618410789311,
          47.20968753235572,
          48.21328868881005,
          49.06938381482737,
          49.86972273828108,
          50.597452022801136,
          51.27021882468622,
          52.310103821225994,
          52.69157890586729,
          52.79099669763269,
          52.99303163682296,
          53.06960987539976,
          53.00392343231937,
          53.01802157660235,
          53.23334695389273,
          53.46649431565989,
          53.746373249436495,
          53.911292166413496,
          54.015965293212965,
          54.18311152117912,
          54.378293195787386,
          54.622304380542445,
          54.922956398442366,
          55.21266417239246,
          55.48564788282431,
          55.8145241617987,
          56.183156368475856,
          56.63045426217647,
          57.009985257477155,
          57.299416802905824,
          57.48578713733722,
          57.58610354593812,
          57.619988743419874,
          57.557735925757605,
          57.425020359188906,
          57.237244406205484,
          56.955603204393505,
          56.52179505291604,
          56.052692588841246,
          55.52786888783846,
          54.95748496361957,
          54.35371235394478,
          53.670302012576215,
          52.898851697273805,
          52.04455380492748,
          51.087565337321486,
          49.934776303356706,
          48.666897879740525,
          47.2334746542697,
          45.448024402478836,
          43.28196971037367,
          41.02819323161883,
          38.108531188069406,
          34.57061376857037,
          31.246619604373237,
          27.883214798125117,
          24.2309737363948,
          19.00669517989545,
          15.4528753893153,
          12.63959716628818,
          9.30840095529371,
          6.409875638478082,
          3.3417049248901822,
          -1.2399909146752037,
          -6.077416671774525,
          -9.71332528510558,
          -13.21192035078358,
          -15.930316699126422,
          -18.065217009891946,
          -19.664828404912875,
          -20.805071768816305,
          -21.69504160262469,
          -22.448893713518302,
          -23.054820206347443,
          -23.418606175927323,
          -23.625193640875636,
          -23.90715302997178,
          -24.246662358738973,
          -24.164220383068283,
          -23.893156286032102,
          -23.34429720710242,
          -22.717296925683613,
          -22.05326104301347,
          -22.93526570502705,
          -23.587913280174945,
          -22.811732114372816,
          -21.847774995587258,
          -20.778134243132747,
          -19.358253208338503,
          -17.821607929946545,
          -16.32241784043339,
          -14.649913584830266,
          -13.043711167494497,
          -11.184948467493971,
          -8.837680872211731,
          -6.356176705211212,
          -3.99383892097568,
          -1.7197351699517043,
          0.593409461526555,
          3.0102770286562404,
          5.5061214769664275,
          7.982919269412159,
          10.551000972636617,
          13.236486353520242,
          15.769530304498744,
          18.368518133049914,
          21.101666483061884,
          23.9710636771222,
          26.847359591090832,
          29.742804435408118,
          32.405726928695,
          34.717546362583164,
          36.91087425047387,
          38.835847878089126,
          40.53078958207119,
          41.84381213783956,
          43.013066489618964,
          44.061427156233634,
          44.93141762584733,
          45.441622194596356,
          45.93342085275371,
          46.551162233859685,
          47.11768245534228,
          47.64791534017587,
          48.118255587751705,
          48.66486637631086,
          49.15101808431518,
          49.621830367971924,
          49.92784611437633,
          50.05199859678108,
          50.47617021908099,
          50.557073706784294,
          50.49053410219471,
          50.367280236625454,
          50.269446388153746,
          50.26610367338824,
          50.330192186920684,
          50.444215124685606,
          50.62965886977301,
          50.77996564762338,
          50.91229309563666,
          50.91744003720029,
          50.991252493999355,
          51.12963948666602,
          51.33423041382029,
          51.64306788701944,
          52.001605514692386,
          52.32352712874147,
          52.54782468813257,
          52.71433803809396,
          52.762027668519465,
          52.7203731068024,
          52.608049498928736,
          52.38593379520047,
          52.06820106429897,
          51.7090445448755,
          51.197979821490165,
          50.607850802835266,
          49.95793054726592,
          49.252757594285924,
          48.492597682726014,
          47.63957953264347,
          46.73130169202315,
          45.65383563031634,
          44.31323917429607,
          42.56644692924942,
          40.63822149752127,
          38.53839521584866,
          36.03831031007836,
          33.39486979481943,
          30.775458538501166,
          27.762882311412124,
          24.47121562562976,
          21.401792268145687,
          17.480356896744105,
          13.964682866346305,
          12.996846310288435,
          11.580595145542253,
          10.007591288018698,
          7.9448399439374935,
          5.418082377173468,
          2.596991082866502,
          0.04876548997116359,
          -1.955031170027862,
          -3.9885486203059983,
          -6.013863132467101,
          -8.1465151528621,
          -10.166903006963995,
          -11.817074711095035,
          -13.272498314499533,
          -14.48898774344135,
          -14.96870227792757,
          -15.306501787112818,
          -15.702508589918814,
          -15.698945591648886,
          -16.050962128278236,
          -16.580925777717532,
          -16.11001908684461,
          -15.806790101599312,
          -15.365586718187693,
          -14.41371721963683,
          -14.011927100698873,
          -13.57102791831717,
          -13.174279844035976,
          -12.590962131200335,
          -11.697313912524468,
          -10.439837765505978,
          -9.931101753453092,
          -9.215239805663305,
          -8.096370934815898,
          -6.722955733200376,
          -5.664175307170208,
          -4.430867407493977,
          -2.8111088132273707,
          -0.9174574020027322,
          1.1705295154481092,
          3.7809782052154404,
          6.379199412205587,
          8.656384509868795,
          11.166143969945395,
          13.76542004645523,
          16.778302878461638,
          20.017118131859725,
          23.150442936725668,
          25.89053371369048,
          28.479104405248822
         ]
        }
       ],
       "layout": {
        "template": {
         "data": {
          "bar": [
           {
            "error_x": {
             "color": "#2a3f5f"
            },
            "error_y": {
             "color": "#2a3f5f"
            },
            "marker": {
             "line": {
              "color": "#E5ECF6",
              "width": 0.5
             },
             "pattern": {
              "fillmode": "overlay",
              "size": 10,
              "solidity": 0.2
             }
            },
            "type": "bar"
           }
          ],
          "barpolar": [
           {
            "marker": {
             "line": {
              "color": "#E5ECF6",
              "width": 0.5
             },
             "pattern": {
              "fillmode": "overlay",
              "size": 10,
              "solidity": 0.2
             }
            },
            "type": "barpolar"
           }
          ],
          "carpet": [
           {
            "aaxis": {
             "endlinecolor": "#2a3f5f",
             "gridcolor": "white",
             "linecolor": "white",
             "minorgridcolor": "white",
             "startlinecolor": "#2a3f5f"
            },
            "baxis": {
             "endlinecolor": "#2a3f5f",
             "gridcolor": "white",
             "linecolor": "white",
             "minorgridcolor": "white",
             "startlinecolor": "#2a3f5f"
            },
            "type": "carpet"
           }
          ],
          "choropleth": [
           {
            "colorbar": {
             "outlinewidth": 0,
             "ticks": ""
            },
            "type": "choropleth"
           }
          ],
          "contour": [
           {
            "colorbar": {
             "outlinewidth": 0,
             "ticks": ""
            },
            "colorscale": [
             [
              0,
              "#0d0887"
             ],
             [
              0.1111111111111111,
              "#46039f"
             ],
             [
              0.2222222222222222,
              "#7201a8"
             ],
             [
              0.3333333333333333,
              "#9c179e"
             ],
             [
              0.4444444444444444,
              "#bd3786"
             ],
             [
              0.5555555555555556,
              "#d8576b"
             ],
             [
              0.6666666666666666,
              "#ed7953"
             ],
             [
              0.7777777777777778,
              "#fb9f3a"
             ],
             [
              0.8888888888888888,
              "#fdca26"
             ],
             [
              1,
              "#f0f921"
             ]
            ],
            "type": "contour"
           }
          ],
          "contourcarpet": [
           {
            "colorbar": {
             "outlinewidth": 0,
             "ticks": ""
            },
            "type": "contourcarpet"
           }
          ],
          "heatmap": [
           {
            "colorbar": {
             "outlinewidth": 0,
             "ticks": ""
            },
            "colorscale": [
             [
              0,
              "#0d0887"
             ],
             [
              0.1111111111111111,
              "#46039f"
             ],
             [
              0.2222222222222222,
              "#7201a8"
             ],
             [
              0.3333333333333333,
              "#9c179e"
             ],
             [
              0.4444444444444444,
              "#bd3786"
             ],
             [
              0.5555555555555556,
              "#d8576b"
             ],
             [
              0.6666666666666666,
              "#ed7953"
             ],
             [
              0.7777777777777778,
              "#fb9f3a"
             ],
             [
              0.8888888888888888,
              "#fdca26"
             ],
             [
              1,
              "#f0f921"
             ]
            ],
            "type": "heatmap"
           }
          ],
          "heatmapgl": [
           {
            "colorbar": {
             "outlinewidth": 0,
             "ticks": ""
            },
            "colorscale": [
             [
              0,
              "#0d0887"
             ],
             [
              0.1111111111111111,
              "#46039f"
             ],
             [
              0.2222222222222222,
              "#7201a8"
             ],
             [
              0.3333333333333333,
              "#9c179e"
             ],
             [
              0.4444444444444444,
              "#bd3786"
             ],
             [
              0.5555555555555556,
              "#d8576b"
             ],
             [
              0.6666666666666666,
              "#ed7953"
             ],
             [
              0.7777777777777778,
              "#fb9f3a"
             ],
             [
              0.8888888888888888,
              "#fdca26"
             ],
             [
              1,
              "#f0f921"
             ]
            ],
            "type": "heatmapgl"
           }
          ],
          "histogram": [
           {
            "marker": {
             "pattern": {
              "fillmode": "overlay",
              "size": 10,
              "solidity": 0.2
             }
            },
            "type": "histogram"
           }
          ],
          "histogram2d": [
           {
            "colorbar": {
             "outlinewidth": 0,
             "ticks": ""
            },
            "colorscale": [
             [
              0,
              "#0d0887"
             ],
             [
              0.1111111111111111,
              "#46039f"
             ],
             [
              0.2222222222222222,
              "#7201a8"
             ],
             [
              0.3333333333333333,
              "#9c179e"
             ],
             [
              0.4444444444444444,
              "#bd3786"
             ],
             [
              0.5555555555555556,
              "#d8576b"
             ],
             [
              0.6666666666666666,
              "#ed7953"
             ],
             [
              0.7777777777777778,
              "#fb9f3a"
             ],
             [
              0.8888888888888888,
              "#fdca26"
             ],
             [
              1,
              "#f0f921"
             ]
            ],
            "type": "histogram2d"
           }
          ],
          "histogram2dcontour": [
           {
            "colorbar": {
             "outlinewidth": 0,
             "ticks": ""
            },
            "colorscale": [
             [
              0,
              "#0d0887"
             ],
             [
              0.1111111111111111,
              "#46039f"
             ],
             [
              0.2222222222222222,
              "#7201a8"
             ],
             [
              0.3333333333333333,
              "#9c179e"
             ],
             [
              0.4444444444444444,
              "#bd3786"
             ],
             [
              0.5555555555555556,
              "#d8576b"
             ],
             [
              0.6666666666666666,
              "#ed7953"
             ],
             [
              0.7777777777777778,
              "#fb9f3a"
             ],
             [
              0.8888888888888888,
              "#fdca26"
             ],
             [
              1,
              "#f0f921"
             ]
            ],
            "type": "histogram2dcontour"
           }
          ],
          "mesh3d": [
           {
            "colorbar": {
             "outlinewidth": 0,
             "ticks": ""
            },
            "type": "mesh3d"
           }
          ],
          "parcoords": [
           {
            "line": {
             "colorbar": {
              "outlinewidth": 0,
              "ticks": ""
             }
            },
            "type": "parcoords"
           }
          ],
          "pie": [
           {
            "automargin": true,
            "type": "pie"
           }
          ],
          "scatter": [
           {
            "fillpattern": {
             "fillmode": "overlay",
             "size": 10,
             "solidity": 0.2
            },
            "type": "scatter"
           }
          ],
          "scatter3d": [
           {
            "line": {
             "colorbar": {
              "outlinewidth": 0,
              "ticks": ""
             }
            },
            "marker": {
             "colorbar": {
              "outlinewidth": 0,
              "ticks": ""
             }
            },
            "type": "scatter3d"
           }
          ],
          "scattercarpet": [
           {
            "marker": {
             "colorbar": {
              "outlinewidth": 0,
              "ticks": ""
             }
            },
            "type": "scattercarpet"
           }
          ],
          "scattergeo": [
           {
            "marker": {
             "colorbar": {
              "outlinewidth": 0,
              "ticks": ""
             }
            },
            "type": "scattergeo"
           }
          ],
          "scattergl": [
           {
            "marker": {
             "colorbar": {
              "outlinewidth": 0,
              "ticks": ""
             }
            },
            "type": "scattergl"
           }
          ],
          "scattermapbox": [
           {
            "marker": {
             "colorbar": {
              "outlinewidth": 0,
              "ticks": ""
             }
            },
            "type": "scattermapbox"
           }
          ],
          "scatterpolar": [
           {
            "marker": {
             "colorbar": {
              "outlinewidth": 0,
              "ticks": ""
             }
            },
            "type": "scatterpolar"
           }
          ],
          "scatterpolargl": [
           {
            "marker": {
             "colorbar": {
              "outlinewidth": 0,
              "ticks": ""
             }
            },
            "type": "scatterpolargl"
           }
          ],
          "scatterternary": [
           {
            "marker": {
             "colorbar": {
              "outlinewidth": 0,
              "ticks": ""
             }
            },
            "type": "scatterternary"
           }
          ],
          "surface": [
           {
            "colorbar": {
             "outlinewidth": 0,
             "ticks": ""
            },
            "colorscale": [
             [
              0,
              "#0d0887"
             ],
             [
              0.1111111111111111,
              "#46039f"
             ],
             [
              0.2222222222222222,
              "#7201a8"
             ],
             [
              0.3333333333333333,
              "#9c179e"
             ],
             [
              0.4444444444444444,
              "#bd3786"
             ],
             [
              0.5555555555555556,
              "#d8576b"
             ],
             [
              0.6666666666666666,
              "#ed7953"
             ],
             [
              0.7777777777777778,
              "#fb9f3a"
             ],
             [
              0.8888888888888888,
              "#fdca26"
             ],
             [
              1,
              "#f0f921"
             ]
            ],
            "type": "surface"
           }
          ],
          "table": [
           {
            "cells": {
             "fill": {
              "color": "#EBF0F8"
             },
             "line": {
              "color": "white"
             }
            },
            "header": {
             "fill": {
              "color": "#C8D4E3"
             },
             "line": {
              "color": "white"
             }
            },
            "type": "table"
           }
          ]
         },
         "layout": {
          "annotationdefaults": {
           "arrowcolor": "#2a3f5f",
           "arrowhead": 0,
           "arrowwidth": 1
          },
          "autotypenumbers": "strict",
          "coloraxis": {
           "colorbar": {
            "outlinewidth": 0,
            "ticks": ""
           }
          },
          "colorscale": {
           "diverging": [
            [
             0,
             "#8e0152"
            ],
            [
             0.1,
             "#c51b7d"
            ],
            [
             0.2,
             "#de77ae"
            ],
            [
             0.3,
             "#f1b6da"
            ],
            [
             0.4,
             "#fde0ef"
            ],
            [
             0.5,
             "#f7f7f7"
            ],
            [
             0.6,
             "#e6f5d0"
            ],
            [
             0.7,
             "#b8e186"
            ],
            [
             0.8,
             "#7fbc41"
            ],
            [
             0.9,
             "#4d9221"
            ],
            [
             1,
             "#276419"
            ]
           ],
           "sequential": [
            [
             0,
             "#0d0887"
            ],
            [
             0.1111111111111111,
             "#46039f"
            ],
            [
             0.2222222222222222,
             "#7201a8"
            ],
            [
             0.3333333333333333,
             "#9c179e"
            ],
            [
             0.4444444444444444,
             "#bd3786"
            ],
            [
             0.5555555555555556,
             "#d8576b"
            ],
            [
             0.6666666666666666,
             "#ed7953"
            ],
            [
             0.7777777777777778,
             "#fb9f3a"
            ],
            [
             0.8888888888888888,
             "#fdca26"
            ],
            [
             1,
             "#f0f921"
            ]
           ],
           "sequentialminus": [
            [
             0,
             "#0d0887"
            ],
            [
             0.1111111111111111,
             "#46039f"
            ],
            [
             0.2222222222222222,
             "#7201a8"
            ],
            [
             0.3333333333333333,
             "#9c179e"
            ],
            [
             0.4444444444444444,
             "#bd3786"
            ],
            [
             0.5555555555555556,
             "#d8576b"
            ],
            [
             0.6666666666666666,
             "#ed7953"
            ],
            [
             0.7777777777777778,
             "#fb9f3a"
            ],
            [
             0.8888888888888888,
             "#fdca26"
            ],
            [
             1,
             "#f0f921"
            ]
           ]
          },
          "colorway": [
           "#636efa",
           "#EF553B",
           "#00cc96",
           "#ab63fa",
           "#FFA15A",
           "#19d3f3",
           "#FF6692",
           "#B6E880",
           "#FF97FF",
           "#FECB52"
          ],
          "font": {
           "color": "#2a3f5f"
          },
          "geo": {
           "bgcolor": "white",
           "lakecolor": "white",
           "landcolor": "#E5ECF6",
           "showlakes": true,
           "showland": true,
           "subunitcolor": "white"
          },
          "hoverlabel": {
           "align": "left"
          },
          "hovermode": "closest",
          "mapbox": {
           "style": "light"
          },
          "paper_bgcolor": "white",
          "plot_bgcolor": "#E5ECF6",
          "polar": {
           "angularaxis": {
            "gridcolor": "white",
            "linecolor": "white",
            "ticks": ""
           },
           "bgcolor": "#E5ECF6",
           "radialaxis": {
            "gridcolor": "white",
            "linecolor": "white",
            "ticks": ""
           }
          },
          "scene": {
           "xaxis": {
            "backgroundcolor": "#E5ECF6",
            "gridcolor": "white",
            "gridwidth": 2,
            "linecolor": "white",
            "showbackground": true,
            "ticks": "",
            "zerolinecolor": "white"
           },
           "yaxis": {
            "backgroundcolor": "#E5ECF6",
            "gridcolor": "white",
            "gridwidth": 2,
            "linecolor": "white",
            "showbackground": true,
            "ticks": "",
            "zerolinecolor": "white"
           },
           "zaxis": {
            "backgroundcolor": "#E5ECF6",
            "gridcolor": "white",
            "gridwidth": 2,
            "linecolor": "white",
            "showbackground": true,
            "ticks": "",
            "zerolinecolor": "white"
           }
          },
          "shapedefaults": {
           "line": {
            "color": "#2a3f5f"
           }
          },
          "ternary": {
           "aaxis": {
            "gridcolor": "white",
            "linecolor": "white",
            "ticks": ""
           },
           "baxis": {
            "gridcolor": "white",
            "linecolor": "white",
            "ticks": ""
           },
           "bgcolor": "#E5ECF6",
           "caxis": {
            "gridcolor": "white",
            "linecolor": "white",
            "ticks": ""
           }
          },
          "title": {
           "x": 0.05
          },
          "xaxis": {
           "automargin": true,
           "gridcolor": "white",
           "linecolor": "white",
           "ticks": "",
           "title": {
            "standoff": 15
           },
           "zerolinecolor": "white",
           "zerolinewidth": 2
          },
          "yaxis": {
           "automargin": true,
           "gridcolor": "white",
           "linecolor": "white",
           "ticks": "",
           "title": {
            "standoff": 15
           },
           "zerolinecolor": "white",
           "zerolinewidth": 2
          }
         }
        },
        "title": {
         "text": "TSMixer Prediction vs. Ground Truth"
        },
        "xaxis": {
         "title": {
          "text": "Time Step"
         }
        },
        "yaxis": {
         "title": {
          "text": "Value"
         }
        }
       }
      }
     },
     "metadata": {},
     "output_type": "display_data"
    },
    {
     "data": {
      "application/vnd.plotly.v1+json": {
       "config": {
        "plotlyServerURL": "https://plot.ly"
       },
       "data": [
        {
         "line": {
          "color": "blue"
         },
         "mode": "lines",
         "name": "GT",
         "type": "scatter",
         "y": [
          7.329073,
          7.329073,
          7.329073,
          7.329073,
          7.329073,
          7.329073,
          7.329073,
          7.329073,
          7.329073,
          7.329073,
          7.329073,
          7.329073,
          7.329073,
          7.329073,
          7.329073,
          7.329073,
          7.329073,
          7.329073,
          7.329073,
          7.329073,
          7.329073,
          7.329073,
          7.329073,
          7.329073,
          7.329073,
          7.329073,
          7.329073,
          7.329073,
          7.329073,
          7.329073,
          7.329073,
          7.329073,
          7.329073,
          7.329073,
          7.329073,
          7.329073,
          7.329073,
          7.329073,
          7.329073,
          7.329073,
          7.329073,
          7.329073,
          7.329073,
          7.329073,
          7.329073,
          7.329073,
          7.329073,
          7.329073,
          7.329073,
          7.329073,
          7.329073,
          7.329073,
          7.329073,
          7.329073,
          7.329073,
          7.329073,
          7.329073,
          7.329073,
          7.329073,
          7.329073,
          7.329073,
          7.329073,
          7.329073,
          7.329073,
          7.329073,
          7.329073,
          7.329073,
          7.329073,
          7.329073,
          7.329073,
          7.329073,
          7.329073,
          7.329073,
          7.329073,
          7.329073,
          7.329073,
          7.329073,
          7.329073,
          7.329073,
          7.329073,
          7.329073,
          7.329073,
          7.329073,
          7.329073,
          7.329073,
          7.329073,
          7.329073,
          7.329073,
          7.329073,
          7.329073,
          7.329073,
          7.329073,
          7.329073,
          7.329073,
          7.329073,
          7.329073,
          7.329073,
          7.329073,
          7.329073,
          7.329073,
          7.329073,
          7.329073,
          7.329073,
          7.329073,
          7.329073,
          7.329073,
          7.329073,
          7.329073,
          7.329073,
          7.329073,
          7.329073,
          7.329073,
          7.329073,
          7.329073,
          7.329073,
          7.329073,
          7.329073,
          7.329073,
          7.329073,
          7.329073,
          7.329073,
          7.329073,
          7.329073,
          7.329073,
          7.329073,
          7.329073,
          7.329073,
          7.329073,
          7.329073,
          7.329073,
          7.329073,
          7.329073,
          7.329073,
          7.329073,
          7.329073,
          7.329073,
          7.329073,
          7.329073,
          7.329073,
          7.329073,
          7.329073,
          7.329073,
          7.329073,
          7.329073,
          7.329073,
          7.329073,
          7.329073,
          7.329073,
          7.329073,
          7.329073,
          7.329073,
          7.329073,
          7.329073,
          7.329073,
          7.329073,
          7.329073,
          7.329073,
          7.329073,
          7.329073,
          7.329073,
          7.329073,
          7.329073,
          7.329073,
          7.329073,
          7.329073,
          7.329073,
          7.329073,
          7.329073,
          7.329073,
          7.329073,
          7.329073,
          7.329073,
          7.329073,
          7.329073,
          7.329073,
          7.329073,
          7.329073,
          7.329073,
          7.329073,
          7.329073,
          7.329073,
          7.329073,
          7.329073,
          7.329073,
          7.329073,
          7.329073,
          7.329073,
          7.329073,
          7.329073,
          7.329073,
          7.329073,
          7.329073,
          7.329073,
          7.329073,
          7.329073,
          7.329073,
          7.329073,
          7.329073,
          7.329073,
          7.329073,
          7.329073,
          7.329073,
          7.329073,
          7.329073,
          7.329073,
          7.329073,
          7.329073,
          7.329073,
          7.329073,
          7.329073,
          7.329073,
          7.329073,
          7.329073,
          7.329073,
          7.329073,
          7.329073,
          7.329073,
          7.329073,
          7.329073,
          7.329073,
          7.329073,
          7.329073,
          7.329073,
          7.329073,
          7.329073,
          7.329073,
          7.329073,
          7.329073,
          7.329073,
          7.329073,
          7.329073,
          7.329073,
          7.329073,
          7.329073,
          7.329073,
          7.329073,
          7.329073,
          7.329073,
          7.329073,
          7.329073,
          7.329073,
          7.329073,
          7.329073,
          7.329073,
          7.329073,
          7.329073,
          7.329073,
          7.329073,
          7.329073,
          7.329073,
          7.329073,
          7.329073,
          7.329073,
          7.329073,
          7.329073,
          7.329073,
          7.329073,
          7.329073,
          7.329073,
          7.329073,
          7.329073,
          7.329073,
          7.329073,
          7.329073,
          7.329073,
          7.329073,
          7.329073,
          7.329073,
          7.329073,
          7.329073,
          7.329073,
          7.329073,
          7.329073,
          7.329073,
          7.329073,
          7.329073,
          7.329073,
          7.329073,
          7.329073,
          7.329073,
          7.329073,
          7.329073,
          7.329073,
          7.329073,
          7.329073,
          7.329073,
          7.329073,
          7.329073,
          7.329073,
          7.329073,
          7.329073,
          7.329073,
          7.329073,
          7.329073,
          7.329073,
          7.329073,
          7.329073,
          7.329073,
          7.329073,
          7.329073,
          7.329073,
          7.329073,
          7.329073,
          7.329073,
          7.329073,
          7.329073,
          7.329073,
          7.329073,
          7.329073,
          7.329073,
          7.329073,
          7.329073,
          7.329073,
          7.329073,
          7.329073,
          7.329073,
          7.329073,
          7.329073,
          7.329073,
          7.329073,
          7.329073,
          7.329073,
          7.329073,
          7.329073,
          7.329073,
          7.329073,
          7.329073,
          7.329073,
          7.329073,
          7.329073,
          7.329073,
          7.329073,
          7.329073,
          7.329073,
          7.329073,
          7.329073,
          7.329073,
          7.329073,
          7.329073,
          7.329073,
          7.329073,
          7.329073,
          7.329073,
          7.329073,
          7.329073,
          7.329073,
          7.329073,
          7.329073,
          7.329073,
          7.329073,
          7.329073,
          7.329073,
          7.329073,
          7.329073,
          7.329073,
          7.329073,
          7.329073,
          7.329073,
          7.329073,
          7.329073,
          7.329073,
          7.329073,
          7.329073,
          7.329073,
          7.329073,
          7.329073,
          7.329073,
          7.329073,
          7.329073,
          7.329073,
          7.329073,
          7.329073,
          7.329073,
          7.329073,
          7.329073,
          7.329073,
          7.329073,
          7.329073,
          7.329073,
          7.329073,
          7.329073,
          7.329073,
          7.329073,
          7.329073,
          7.329073,
          7.329073,
          7.329073,
          7.329073,
          7.329073,
          7.329073,
          7.329073,
          7.329073,
          7.329073,
          7.329073,
          7.329073,
          7.329073,
          7.329073,
          7.329073,
          7.329073,
          7.329073,
          7.329073,
          7.329073,
          7.329073,
          7.329073,
          7.329073,
          7.329073,
          7.329073,
          7.329073,
          7.329073,
          7.329073,
          7.329073,
          7.329073,
          7.329073,
          7.329073,
          7.329073,
          7.329073,
          7.329073,
          7.329073,
          7.329073,
          7.329073,
          7.329073,
          7.329073,
          7.329073,
          7.329073,
          7.329073,
          7.329073,
          7.329073,
          7.329073,
          7.329073,
          7.329073,
          7.329073,
          7.329073,
          7.329073,
          7.329073,
          7.329073,
          7.329073,
          7.329073,
          7.329073,
          7.329073,
          7.329073,
          7.329073,
          7.329073,
          7.329073,
          7.329073,
          7.329073,
          7.329073,
          7.329073,
          7.329073,
          7.329073,
          7.329073,
          7.329073,
          7.329073,
          7.329073,
          7.329073,
          7.329073,
          7.329073,
          7.329073,
          7.329073,
          7.329073,
          7.329073,
          7.329073,
          7.329073,
          7.329073,
          7.329073,
          7.329073,
          7.329073,
          7.329073,
          7.329073,
          7.329073,
          7.329073,
          7.329073,
          7.329073,
          7.329073,
          7.329073,
          7.329073,
          7.329073,
          7.329073,
          7.329073,
          7.329073,
          7.329073,
          7.329073,
          7.329073,
          7.329073,
          7.329073,
          7.329073,
          7.329073,
          7.329073,
          7.329073,
          7.329073,
          7.329073,
          7.329073,
          7.329073,
          7.329073,
          7.329073,
          7.329073,
          7.329073,
          7.329073,
          7.329073,
          7.329073,
          7.329073,
          7.329073,
          7.329073,
          7.329073,
          7.329073,
          7.329073,
          7.329073,
          7.329073,
          7.329073,
          7.329073,
          7.329073,
          7.329073,
          7.329073,
          7.329073,
          7.329073,
          7.329073,
          7.329073,
          7.329073,
          7.329073,
          7.329073,
          7.329073,
          7.329073,
          7.329073,
          7.329073,
          7.329073,
          7.329073,
          7.329073,
          7.329073,
          7.329073,
          7.329073,
          7.329073,
          7.329073,
          7.329073,
          7.329073,
          7.329073,
          7.329073,
          7.329073,
          7.329073,
          7.329073,
          7.329073,
          7.329073,
          7.329073,
          7.329073,
          7.329073,
          7.329073,
          7.329073,
          7.329073,
          7.329073,
          7.329073,
          7.329073,
          7.329073,
          7.329073,
          7.329073,
          7.329073,
          7.329073,
          7.329073,
          7.329073,
          7.329073,
          7.329073,
          7.329073,
          7.329073,
          7.329073,
          7.329073,
          7.329073,
          7.329073,
          7.329073,
          7.329073,
          7.329073,
          7.329073,
          7.329073,
          7.329073,
          7.329073,
          7.329073,
          7.329073,
          7.329073,
          7.329073,
          7.329073,
          7.329073,
          7.329073,
          7.329073,
          7.329073,
          7.329073,
          7.329073,
          7.329073,
          7.329073,
          7.329073,
          7.329073,
          7.329073,
          7.329073,
          7.329073,
          7.329073,
          7.329073,
          7.329073,
          7.329073,
          7.329073,
          7.329073,
          7.329073,
          7.329073,
          7.329073,
          7.329073,
          7.329073,
          7.329073,
          7.329073,
          7.329073,
          7.329073,
          7.329073,
          7.329073,
          7.329073,
          7.329073,
          7.329073,
          7.329073,
          7.329073,
          7.329073,
          7.329073,
          7.329073,
          7.329073,
          7.329073,
          7.329073,
          7.329073,
          7.329073,
          7.329073,
          7.329073,
          7.329073,
          7.329073,
          7.329073,
          7.329073,
          7.329073,
          7.329073,
          7.329073,
          7.329073,
          7.329073,
          7.329073,
          7.329073,
          7.329073,
          7.329073,
          7.329073,
          7.329073,
          7.329073,
          7.329073,
          7.329073,
          7.329073,
          7.329073
         ]
        },
        {
         "line": {
          "color": "red"
         },
         "mode": "lines",
         "name": "pred_beginning",
         "type": "scatter",
         "y": [
          7.329073,
          7.329073,
          7.329073,
          7.329073,
          7.329073,
          7.329073,
          7.329073,
          7.329073,
          7.246330204651832,
          7.246618184493064,
          7.24688861076641,
          7.246816794620036,
          7.246637138770103,
          7.246879468904018,
          7.247150960610389,
          7.247232537017345,
          7.246924150035857,
          7.24637736682701,
          7.245991404400348,
          7.245253625557899,
          7.244025784776687,
          7.242422658250808,
          7.240855160401344,
          7.239057976053237,
          7.237466956720828,
          7.236182022140502,
          7.234722475753307,
          7.232432115123748,
          7.229969057486533,
          7.227132986531734,
          7.225179928586959,
          7.2219724089365,
          7.2178232253055565,
          7.213747236178397,
          7.210853475378036,
          7.208453777478217,
          7.205913695738792,
          7.201546910450935,
          7.2004490375976555,
          7.201022702501296,
          7.201625007436752,
          7.201631549046516,
          7.201268675969123,
          7.201141494558334,
          7.19884507660675,
          7.1962531388263695,
          7.198778766439437,
          7.198087963507652,
          7.19827916030693,
          7.202394041464805,
          7.204679164336204,
          7.207042667315482,
          7.200364622519492,
          7.191228243754386,
          7.1888781816225045,
          7.18509744410324,
          7.181462678359031,
          7.178629535482406,
          7.168382781789779,
          7.165187063858985,
          7.169126439140319,
          7.173776435897826,
          7.179334270999908,
          7.189148324773788,
          7.204164910362243,
          7.215076158986568,
          7.222917328820705,
          7.2222769812207215,
          7.224009442375182,
          7.21579550509262,
          7.21751584415245,
          7.232185173080444,
          7.237232039914607,
          7.233949597225665,
          7.236383843467712,
          7.235440756426334,
          7.237569163785457,
          7.2480184019069664,
          7.2562856704454415,
          7.264590385601997,
          7.266889962599754,
          7.25514070992279,
          7.284110057399749,
          7.250705587909698,
          7.252361866877555,
          7.237752120242595,
          7.252327966735839,
          7.255539852426528,
          7.248915317700385,
          7.233487393007755,
          7.226214084074973,
          7.204808506415366,
          7.190073105738639,
          7.216741520212173,
          7.2166932255487435,
          7.194286274955749,
          7.190765681908607,
          7.179052400634765,
          7.176906409905433,
          7.135408866451263,
          7.142957973526,
          7.141661095664977,
          7.1395172656040184,
          7.137216839240073,
          7.137877228901862,
          7.147453802869796,
          7.155453908489227,
          7.158497679279327,
          7.168048325226783,
          7.137485998914718,
          7.13612740044403,
          7.142137485788345,
          7.150832611368179,
          7.159704583929061,
          7.16876635258007,
          7.187856930540084,
          7.196330431149482,
          7.20916638825941,
          7.210491727338313,
          7.2122755155425065,
          7.211745294974326,
          7.219032082007407,
          7.2240948558311455,
          7.230822320328235,
          7.23539340798664,
          7.2405260682563775,
          7.24431913648653,
          7.2411256239275925,
          7.238434250698566,
          7.239880326436042,
          7.242467607603549,
          7.236856940434455,
          7.232328403041839,
          7.218211981699943,
          7.2105917439322464,
          7.226583856389999,
          7.244863930390357,
          7.244355890200614,
          7.2434614852528565,
          7.258971172616958,
          7.244130733654975,
          7.234641554997443,
          7.231692786560535,
          7.229311960981368,
          7.22877651755619,
          7.235875117824554,
          7.247637170598983,
          7.255223441169738,
          7.256938043282508,
          7.258281487272262,
          7.258342835352897,
          7.257392081664085,
          7.256889465497016,
          7.255598950431823,
          7.255644950316428,
          7.256289693758964,
          7.255832883761405,
          7.257812383816718,
          7.258913862751006,
          7.2547688663463585,
          7.248936298535346,
          7.250479522393226,
          7.2524530470829,
          7.256202536867141,
          7.261713820741653,
          7.264009627745628,
          7.267154741333007,
          7.269174876854896,
          7.269181194947242,
          7.268871295497894,
          7.2686160833101265,
          7.2685058445196145,
          7.268273729131698,
          7.267905253217696,
          7.266178312943458,
          7.2648418128948204,
          7.263966310070037,
          7.262491065309524,
          7.260354894445419,
          7.256904396460532,
          7.254886049077987,
          7.254529672906875,
          7.2547082186203,
          7.2541890323619835,
          7.2536267966489785,
          7.253147888229369,
          7.251842144177436,
          7.275635260389327,
          7.286671164677619,
          7.28916612570095,
          7.2971941411952965,
          7.29879969661045,
          7.2993240535717,
          7.298471885965347,
          7.3019462705116265,
          7.295047077582359,
          7.292281526372909,
          7.298053222940444,
          7.307315009878158,
          7.306950050638198,
          7.287876713321685,
          7.276330608175277,
          7.282448935554504,
          7.285777035401344,
          7.283747407839774,
          7.277675333664893,
          7.2768622071008675,
          7.279169160173415,
          7.271244365022659,
          7.2698199779253,
          7.2613519013385766,
          7.264963614986419,
          7.269916597054481,
          7.2655890763263695,
          7.271078574703216,
          7.278163048670768,
          7.27890248899269,
          7.2753444791297905,
          7.278828519628524,
          7.285246032522201,
          7.29054147307682,
          7.298142018959998,
          7.304866495774268,
          7.311777281806945,
          7.328159931347846,
          7.33282311563301,
          7.343185919569015,
          7.349322873399734,
          7.342936921165466,
          7.338612186954498,
          7.337363797471999,
          7.336791190550803,
          7.337065655038833,
          7.344979810760497,
          7.347375977085113,
          7.344574514077186,
          7.336492794797897,
          7.3323963612775795,
          7.318074125097274,
          7.316666948841094,
          7.317475307033538,
          7.320235002086639,
          7.324830207274436,
          7.325260672019004,
          7.326306465313911,
          7.323260206029891,
          7.314343664095878,
          7.302187132881164,
          7.287961798952102,
          7.27545568649578,
          7.2835208803873055,
          7.276783543870925,
          7.277790683553695,
          7.289787951157569,
          7.297451365039825,
          7.298705253050803,
          7.303872126386642,
          7.30090909008789,
          7.288824546382903,
          7.286207455442428,
          7.292348328278541,
          7.300847190664291,
          7.308328199432372,
          7.310103195951461,
          7.30037762527275,
          7.299131947801589,
          7.301643419311523,
          7.301456052110671,
          7.295743498251914,
          7.295460659311294,
          7.292669656918525,
          7.28930904273796,
          7.281016382620811,
          7.273582699940681,
          7.262015956686019,
          7.258013787911414,
          7.260687071130752,
          7.264936077640533,
          7.264290976570129,
          7.272582921431541,
          7.282760146306037,
          7.288920584366798,
          7.293533253715514,
          7.297109517500877,
          7.3013972670297616,
          7.3046963096122735,
          7.305691811488151,
          7.309458035276412,
          7.315030458615302,
          7.319650548742294,
          7.322688344166755,
          7.325351122067451,
          7.328200626419067,
          7.331117185996055,
          7.333500775740623,
          7.335363838122367,
          7.334969940827369,
          7.333811807678222,
          7.333531561539649,
          7.333605858729362,
          7.33408762817192,
          7.334637704537391,
          7.335836786077499,
          7.334963056490897,
          7.332167553947448,
          7.330398786113738,
          7.329946029232024,
          7.329462039516448,
          7.3288146585683815,
          7.328541252062797,
          7.328716296003341,
          7.330179649637222,
          7.3302693546276085,
          7.331620189593314,
          7.333379092858314,
          7.33670164947319,
          7.340406256959914,
          7.343477594898223,
          7.344951319740295,
          7.3452739298801415,
          7.346285107777595,
          7.347826752112388,
          7.3492857248048775,
          7.350980478570937,
          7.3512869656543725,
          7.353873181388854,
          7.3681286007623665,
          7.39366381172943,
          7.412359553621291,
          7.4308951080303185,
          7.439444679067611,
          7.455134528921127,
          7.482936102197646,
          7.503279435680389,
          7.518565791891097,
          7.543504822299957,
          7.533742505357742,
          7.543792325304031,
          7.549921947763442,
          7.549464899347305,
          7.546959239290237,
          7.547687667654037,
          7.548842805669784,
          7.548724132822036,
          7.5477822006206505,
          7.54585303668785,
          7.544069546506881,
          7.542878347681045,
          7.542272824094772,
          7.541648107812881,
          7.54084889893341,
          7.540957051561355,
          7.540647167013168,
          7.54133905772972,
          7.542665588901519,
          7.544250565813064,
          7.545351135776519,
          7.5453826070289605,
          7.544189828680038,
          7.541949766920089,
          7.539304214761733,
          7.5363048196296685,
          7.5323587537269585,
          7.527371305273055,
          7.521839785621642,
          7.516313481376647,
          7.511283534811019,
          7.506570416734695,
          7.502418327377319,
          7.498906272695541,
          7.495694178388595,
          7.492905128047942,
          7.491242247865676,
          7.490622746990203,
          7.489821451948165,
          7.489539521978378,
          7.489416497991561,
          7.489446538732528,
          7.489866781280517,
          7.48740531806755,
          7.479995715663909,
          7.470101612852096,
          7.455679971025466,
          7.434870827243804,
          7.406259465263366,
          7.3737740397911065,
          7.350281450198173,
          7.340338963315963,
          7.325824755475997,
          7.313725176499366,
          7.3112933367948525,
          7.322155582950591,
          7.321383091853141,
          7.320018145487785,
          7.306153404758453,
          7.2922997951965325,
          7.2823564440469735,
          7.2782853126983635,
          7.281749117420196,
          7.288070577428817,
          7.296048733637809,
          7.29994350974369,
          7.300936865852355,
          7.301325011299133,
          7.303355324314117,
          7.309901449130058,
          7.310562673256873,
          7.30482033197689,
          7.29947795276451,
          7.293673205421447,
          7.288264307425498,
          7.290196302578925,
          7.2970349371891015,
          7.302762064383506,
          7.30520813469696,
          7.311076778219222,
          7.319135028169631,
          7.329419541404723,
          7.337790596530914,
          7.345654043601035,
          7.353093284414291,
          7.35896875266838,
          7.371983352349281,
          7.381968545959472,
          7.3919334590892785,
          7.398831117198943,
          7.402249592588424,
          7.403598147676467,
          7.405175137565612,
          7.409390229032516,
          7.414459186838149,
          7.420644182012557,
          7.427888351724624,
          7.43350465898323,
          7.4390456855754845,
          7.444878238485336,
          7.4482720673542016,
          7.450512844369888,
          7.452331739709853,
          7.453908222959518,
          7.45480381254959,
          7.454659301088332,
          7.455157715127944,
          7.4567745507221215,
          7.45840175752449,
          7.458679485366821,
          7.460350173757552,
          7.461788851068496,
          7.461559939430236,
          7.460540968225478,
          7.458905953214645,
          7.456873941467284,
          7.453853893325805,
          7.449453759239196,
          7.4448238790493,
          7.4390655935268395,
          7.432602870510101,
          7.426103013799667,
          7.418327438877105,
          7.408954936311721,
          7.399574565933227,
          7.3909622014026635,
          7.385100263402938,
          7.380041408584594,
          7.376299965427398,
          7.365543472812652,
          7.355379495070457,
          7.34300937061119,
          7.3268200934391015,
          7.314236524746894,
          7.301540571496963,
          7.293876516864776,
          7.280148047254562,
          7.276087153003692,
          7.272968608186721,
          7.253476935670852,
          7.228806647704124,
          7.210381704614639,
          7.200060132191657,
          7.182197618530273,
          7.177334207342147,
          7.17331053619194,
          7.1663218468885415,
          7.159790891454696,
          7.150433602974891,
          7.137939396546363,
          7.126393067882537,
          7.117252486989974,
          7.109859737799644,
          7.1052910715799324,
          7.1030596822957985,
          7.100439909146308,
          7.100541952298164,
          7.110543194458961,
          7.124312925384521,
          7.131337586091041,
          7.139082598731994,
          7.154469925210952,
          7.173358503029823,
          7.184938359306335,
          7.1981269300441735,
          7.20218529109764,
          7.200724589870452,
          7.196209046290397,
          7.195380035088538,
          7.190718817756652,
          7.192715215728759,
          7.198002713964462,
          7.196235197828292,
          7.198519828961372,
          7.204893077955722,
          7.2123707265119545,
          7.2219635799984925,
          7.231915499315738,
          7.239328134105682,
          7.246247890637397,
          7.250448036239623,
          7.253163608954429,
          7.257823559687614,
          7.264149892375945,
          7.268934044287681,
          7.270158010766982,
          7.27472463552761,
          7.276633995817184,
          7.2723544419269555,
          7.2686715007286065,
          7.267640504286765,
          7.2700727761249535,
          7.272621247218131,
          7.277445930288314,
          7.281739297554969,
          7.288253176258086,
          7.294811862752914,
          7.304335984633445,
          7.314379560993194,
          7.324219930217742,
          7.3317274332504265,
          7.34066282515335,
          7.349891546414375,
          7.356962043092727,
          7.363969969795226,
          7.368019583867072,
          7.370027008698463,
          7.369922685668945,
          7.369792211101531,
          7.3710380673866265,
          7.371097165391921,
          7.371447238371848,
          7.375973004148483,
          7.382458168313979,
          7.387780624673843,
          7.391557711408614,
          7.3939721465568535,
          7.396632242248534,
          7.398291128919601,
          7.39975484018135,
          7.401087957666396,
          7.401765871093749,
          7.40103520755577,
          7.39963601832199,
          7.399002301738738,
          7.399903434560775,
          7.401968258665084,
          7.404031384037017,
          7.4067151129703515,
          7.408328640506744,
          7.410106021211623,
          7.411076861665725,
          7.4116390526752465,
          7.412827032850265,
          7.412395197198867,
          7.410563159034728,
          7.406671094940185,
          7.402255970285415,
          7.397251325891494,
          7.393182623432159,
          7.387449997709274,
          7.380888390586852,
          7.375513094709396,
          7.370158854172706,
          7.364119696662902,
          7.36092874710369,
          7.35593547229576,
          7.351533579872131,
          7.348085600183486,
          7.3458528101902,
          7.341912943170547,
          7.336734864161491,
          7.322873118565559,
          7.31726713781166,
          7.296703684375762,
          7.282411593244552,
          7.270122799323081,
          7.2631890207986824,
          7.257282006786346,
          7.246628175721645,
          7.228983025298595,
          7.216554071054935,
          7.20972781185913,
          7.206457364604949,
          7.203551355050086,
          7.20026374165821,
          7.196032482431411,
          7.186510193393707,
          7.171944144413947,
          7.1615382016162865,
          7.15616590087223,
          7.156468230531692,
          7.149248170898437,
          7.144576597259521,
          7.1393863589029305,
          7.132890838430404,
          7.126973423407554,
          7.135524842188834,
          7.141248840139388,
          7.140882167265891,
          7.153936821268081,
          7.165695342467307,
          7.174516099737167,
          7.181732255266189,
          7.192177417920112,
          7.200934100196838,
          7.19456750457096,
          7.1895873129825585,
          7.183467242167472,
          7.175675469682693,
          7.16654324834156,
          7.159077587769508,
          7.153616431401252,
          7.154828134224891,
          7.159270021365165,
          7.166477459714889,
          7.171889323041915,
          7.176653134868621,
          7.179118502185821,
          7.183481174753188,
          7.190938729093551,
          7.202277663395881,
          7.209670196519374,
          7.214621017919063,
          7.2137480110387795
         ]
        }
       ],
       "layout": {
        "template": {
         "data": {
          "bar": [
           {
            "error_x": {
             "color": "#2a3f5f"
            },
            "error_y": {
             "color": "#2a3f5f"
            },
            "marker": {
             "line": {
              "color": "#E5ECF6",
              "width": 0.5
             },
             "pattern": {
              "fillmode": "overlay",
              "size": 10,
              "solidity": 0.2
             }
            },
            "type": "bar"
           }
          ],
          "barpolar": [
           {
            "marker": {
             "line": {
              "color": "#E5ECF6",
              "width": 0.5
             },
             "pattern": {
              "fillmode": "overlay",
              "size": 10,
              "solidity": 0.2
             }
            },
            "type": "barpolar"
           }
          ],
          "carpet": [
           {
            "aaxis": {
             "endlinecolor": "#2a3f5f",
             "gridcolor": "white",
             "linecolor": "white",
             "minorgridcolor": "white",
             "startlinecolor": "#2a3f5f"
            },
            "baxis": {
             "endlinecolor": "#2a3f5f",
             "gridcolor": "white",
             "linecolor": "white",
             "minorgridcolor": "white",
             "startlinecolor": "#2a3f5f"
            },
            "type": "carpet"
           }
          ],
          "choropleth": [
           {
            "colorbar": {
             "outlinewidth": 0,
             "ticks": ""
            },
            "type": "choropleth"
           }
          ],
          "contour": [
           {
            "colorbar": {
             "outlinewidth": 0,
             "ticks": ""
            },
            "colorscale": [
             [
              0,
              "#0d0887"
             ],
             [
              0.1111111111111111,
              "#46039f"
             ],
             [
              0.2222222222222222,
              "#7201a8"
             ],
             [
              0.3333333333333333,
              "#9c179e"
             ],
             [
              0.4444444444444444,
              "#bd3786"
             ],
             [
              0.5555555555555556,
              "#d8576b"
             ],
             [
              0.6666666666666666,
              "#ed7953"
             ],
             [
              0.7777777777777778,
              "#fb9f3a"
             ],
             [
              0.8888888888888888,
              "#fdca26"
             ],
             [
              1,
              "#f0f921"
             ]
            ],
            "type": "contour"
           }
          ],
          "contourcarpet": [
           {
            "colorbar": {
             "outlinewidth": 0,
             "ticks": ""
            },
            "type": "contourcarpet"
           }
          ],
          "heatmap": [
           {
            "colorbar": {
             "outlinewidth": 0,
             "ticks": ""
            },
            "colorscale": [
             [
              0,
              "#0d0887"
             ],
             [
              0.1111111111111111,
              "#46039f"
             ],
             [
              0.2222222222222222,
              "#7201a8"
             ],
             [
              0.3333333333333333,
              "#9c179e"
             ],
             [
              0.4444444444444444,
              "#bd3786"
             ],
             [
              0.5555555555555556,
              "#d8576b"
             ],
             [
              0.6666666666666666,
              "#ed7953"
             ],
             [
              0.7777777777777778,
              "#fb9f3a"
             ],
             [
              0.8888888888888888,
              "#fdca26"
             ],
             [
              1,
              "#f0f921"
             ]
            ],
            "type": "heatmap"
           }
          ],
          "heatmapgl": [
           {
            "colorbar": {
             "outlinewidth": 0,
             "ticks": ""
            },
            "colorscale": [
             [
              0,
              "#0d0887"
             ],
             [
              0.1111111111111111,
              "#46039f"
             ],
             [
              0.2222222222222222,
              "#7201a8"
             ],
             [
              0.3333333333333333,
              "#9c179e"
             ],
             [
              0.4444444444444444,
              "#bd3786"
             ],
             [
              0.5555555555555556,
              "#d8576b"
             ],
             [
              0.6666666666666666,
              "#ed7953"
             ],
             [
              0.7777777777777778,
              "#fb9f3a"
             ],
             [
              0.8888888888888888,
              "#fdca26"
             ],
             [
              1,
              "#f0f921"
             ]
            ],
            "type": "heatmapgl"
           }
          ],
          "histogram": [
           {
            "marker": {
             "pattern": {
              "fillmode": "overlay",
              "size": 10,
              "solidity": 0.2
             }
            },
            "type": "histogram"
           }
          ],
          "histogram2d": [
           {
            "colorbar": {
             "outlinewidth": 0,
             "ticks": ""
            },
            "colorscale": [
             [
              0,
              "#0d0887"
             ],
             [
              0.1111111111111111,
              "#46039f"
             ],
             [
              0.2222222222222222,
              "#7201a8"
             ],
             [
              0.3333333333333333,
              "#9c179e"
             ],
             [
              0.4444444444444444,
              "#bd3786"
             ],
             [
              0.5555555555555556,
              "#d8576b"
             ],
             [
              0.6666666666666666,
              "#ed7953"
             ],
             [
              0.7777777777777778,
              "#fb9f3a"
             ],
             [
              0.8888888888888888,
              "#fdca26"
             ],
             [
              1,
              "#f0f921"
             ]
            ],
            "type": "histogram2d"
           }
          ],
          "histogram2dcontour": [
           {
            "colorbar": {
             "outlinewidth": 0,
             "ticks": ""
            },
            "colorscale": [
             [
              0,
              "#0d0887"
             ],
             [
              0.1111111111111111,
              "#46039f"
             ],
             [
              0.2222222222222222,
              "#7201a8"
             ],
             [
              0.3333333333333333,
              "#9c179e"
             ],
             [
              0.4444444444444444,
              "#bd3786"
             ],
             [
              0.5555555555555556,
              "#d8576b"
             ],
             [
              0.6666666666666666,
              "#ed7953"
             ],
             [
              0.7777777777777778,
              "#fb9f3a"
             ],
             [
              0.8888888888888888,
              "#fdca26"
             ],
             [
              1,
              "#f0f921"
             ]
            ],
            "type": "histogram2dcontour"
           }
          ],
          "mesh3d": [
           {
            "colorbar": {
             "outlinewidth": 0,
             "ticks": ""
            },
            "type": "mesh3d"
           }
          ],
          "parcoords": [
           {
            "line": {
             "colorbar": {
              "outlinewidth": 0,
              "ticks": ""
             }
            },
            "type": "parcoords"
           }
          ],
          "pie": [
           {
            "automargin": true,
            "type": "pie"
           }
          ],
          "scatter": [
           {
            "fillpattern": {
             "fillmode": "overlay",
             "size": 10,
             "solidity": 0.2
            },
            "type": "scatter"
           }
          ],
          "scatter3d": [
           {
            "line": {
             "colorbar": {
              "outlinewidth": 0,
              "ticks": ""
             }
            },
            "marker": {
             "colorbar": {
              "outlinewidth": 0,
              "ticks": ""
             }
            },
            "type": "scatter3d"
           }
          ],
          "scattercarpet": [
           {
            "marker": {
             "colorbar": {
              "outlinewidth": 0,
              "ticks": ""
             }
            },
            "type": "scattercarpet"
           }
          ],
          "scattergeo": [
           {
            "marker": {
             "colorbar": {
              "outlinewidth": 0,
              "ticks": ""
             }
            },
            "type": "scattergeo"
           }
          ],
          "scattergl": [
           {
            "marker": {
             "colorbar": {
              "outlinewidth": 0,
              "ticks": ""
             }
            },
            "type": "scattergl"
           }
          ],
          "scattermapbox": [
           {
            "marker": {
             "colorbar": {
              "outlinewidth": 0,
              "ticks": ""
             }
            },
            "type": "scattermapbox"
           }
          ],
          "scatterpolar": [
           {
            "marker": {
             "colorbar": {
              "outlinewidth": 0,
              "ticks": ""
             }
            },
            "type": "scatterpolar"
           }
          ],
          "scatterpolargl": [
           {
            "marker": {
             "colorbar": {
              "outlinewidth": 0,
              "ticks": ""
             }
            },
            "type": "scatterpolargl"
           }
          ],
          "scatterternary": [
           {
            "marker": {
             "colorbar": {
              "outlinewidth": 0,
              "ticks": ""
             }
            },
            "type": "scatterternary"
           }
          ],
          "surface": [
           {
            "colorbar": {
             "outlinewidth": 0,
             "ticks": ""
            },
            "colorscale": [
             [
              0,
              "#0d0887"
             ],
             [
              0.1111111111111111,
              "#46039f"
             ],
             [
              0.2222222222222222,
              "#7201a8"
             ],
             [
              0.3333333333333333,
              "#9c179e"
             ],
             [
              0.4444444444444444,
              "#bd3786"
             ],
             [
              0.5555555555555556,
              "#d8576b"
             ],
             [
              0.6666666666666666,
              "#ed7953"
             ],
             [
              0.7777777777777778,
              "#fb9f3a"
             ],
             [
              0.8888888888888888,
              "#fdca26"
             ],
             [
              1,
              "#f0f921"
             ]
            ],
            "type": "surface"
           }
          ],
          "table": [
           {
            "cells": {
             "fill": {
              "color": "#EBF0F8"
             },
             "line": {
              "color": "white"
             }
            },
            "header": {
             "fill": {
              "color": "#C8D4E3"
             },
             "line": {
              "color": "white"
             }
            },
            "type": "table"
           }
          ]
         },
         "layout": {
          "annotationdefaults": {
           "arrowcolor": "#2a3f5f",
           "arrowhead": 0,
           "arrowwidth": 1
          },
          "autotypenumbers": "strict",
          "coloraxis": {
           "colorbar": {
            "outlinewidth": 0,
            "ticks": ""
           }
          },
          "colorscale": {
           "diverging": [
            [
             0,
             "#8e0152"
            ],
            [
             0.1,
             "#c51b7d"
            ],
            [
             0.2,
             "#de77ae"
            ],
            [
             0.3,
             "#f1b6da"
            ],
            [
             0.4,
             "#fde0ef"
            ],
            [
             0.5,
             "#f7f7f7"
            ],
            [
             0.6,
             "#e6f5d0"
            ],
            [
             0.7,
             "#b8e186"
            ],
            [
             0.8,
             "#7fbc41"
            ],
            [
             0.9,
             "#4d9221"
            ],
            [
             1,
             "#276419"
            ]
           ],
           "sequential": [
            [
             0,
             "#0d0887"
            ],
            [
             0.1111111111111111,
             "#46039f"
            ],
            [
             0.2222222222222222,
             "#7201a8"
            ],
            [
             0.3333333333333333,
             "#9c179e"
            ],
            [
             0.4444444444444444,
             "#bd3786"
            ],
            [
             0.5555555555555556,
             "#d8576b"
            ],
            [
             0.6666666666666666,
             "#ed7953"
            ],
            [
             0.7777777777777778,
             "#fb9f3a"
            ],
            [
             0.8888888888888888,
             "#fdca26"
            ],
            [
             1,
             "#f0f921"
            ]
           ],
           "sequentialminus": [
            [
             0,
             "#0d0887"
            ],
            [
             0.1111111111111111,
             "#46039f"
            ],
            [
             0.2222222222222222,
             "#7201a8"
            ],
            [
             0.3333333333333333,
             "#9c179e"
            ],
            [
             0.4444444444444444,
             "#bd3786"
            ],
            [
             0.5555555555555556,
             "#d8576b"
            ],
            [
             0.6666666666666666,
             "#ed7953"
            ],
            [
             0.7777777777777778,
             "#fb9f3a"
            ],
            [
             0.8888888888888888,
             "#fdca26"
            ],
            [
             1,
             "#f0f921"
            ]
           ]
          },
          "colorway": [
           "#636efa",
           "#EF553B",
           "#00cc96",
           "#ab63fa",
           "#FFA15A",
           "#19d3f3",
           "#FF6692",
           "#B6E880",
           "#FF97FF",
           "#FECB52"
          ],
          "font": {
           "color": "#2a3f5f"
          },
          "geo": {
           "bgcolor": "white",
           "lakecolor": "white",
           "landcolor": "#E5ECF6",
           "showlakes": true,
           "showland": true,
           "subunitcolor": "white"
          },
          "hoverlabel": {
           "align": "left"
          },
          "hovermode": "closest",
          "mapbox": {
           "style": "light"
          },
          "paper_bgcolor": "white",
          "plot_bgcolor": "#E5ECF6",
          "polar": {
           "angularaxis": {
            "gridcolor": "white",
            "linecolor": "white",
            "ticks": ""
           },
           "bgcolor": "#E5ECF6",
           "radialaxis": {
            "gridcolor": "white",
            "linecolor": "white",
            "ticks": ""
           }
          },
          "scene": {
           "xaxis": {
            "backgroundcolor": "#E5ECF6",
            "gridcolor": "white",
            "gridwidth": 2,
            "linecolor": "white",
            "showbackground": true,
            "ticks": "",
            "zerolinecolor": "white"
           },
           "yaxis": {
            "backgroundcolor": "#E5ECF6",
            "gridcolor": "white",
            "gridwidth": 2,
            "linecolor": "white",
            "showbackground": true,
            "ticks": "",
            "zerolinecolor": "white"
           },
           "zaxis": {
            "backgroundcolor": "#E5ECF6",
            "gridcolor": "white",
            "gridwidth": 2,
            "linecolor": "white",
            "showbackground": true,
            "ticks": "",
            "zerolinecolor": "white"
           }
          },
          "shapedefaults": {
           "line": {
            "color": "#2a3f5f"
           }
          },
          "ternary": {
           "aaxis": {
            "gridcolor": "white",
            "linecolor": "white",
            "ticks": ""
           },
           "baxis": {
            "gridcolor": "white",
            "linecolor": "white",
            "ticks": ""
           },
           "bgcolor": "#E5ECF6",
           "caxis": {
            "gridcolor": "white",
            "linecolor": "white",
            "ticks": ""
           }
          },
          "title": {
           "x": 0.05
          },
          "xaxis": {
           "automargin": true,
           "gridcolor": "white",
           "linecolor": "white",
           "ticks": "",
           "title": {
            "standoff": 15
           },
           "zerolinecolor": "white",
           "zerolinewidth": 2
          },
          "yaxis": {
           "automargin": true,
           "gridcolor": "white",
           "linecolor": "white",
           "ticks": "",
           "title": {
            "standoff": 15
           },
           "zerolinecolor": "white",
           "zerolinewidth": 2
          }
         }
        },
        "title": {
         "text": "TSMixer Prediction vs. Ground Truth"
        },
        "xaxis": {
         "title": {
          "text": "Time Step"
         }
        },
        "yaxis": {
         "title": {
          "text": "Value"
         }
        }
       }
      }
     },
     "metadata": {},
     "output_type": "display_data"
    },
    {
     "data": {
      "application/vnd.plotly.v1+json": {
       "config": {
        "plotlyServerURL": "https://plot.ly"
       },
       "data": [
        {
         "line": {
          "color": "blue"
         },
         "mode": "lines",
         "name": "GT",
         "type": "scatter",
         "y": [
          0,
          0,
          0,
          0,
          0,
          0,
          0,
          0,
          0,
          0,
          0,
          0,
          0,
          0,
          0,
          0,
          0,
          0,
          0,
          0,
          0,
          0,
          0,
          0,
          0,
          0,
          0,
          0,
          0,
          0,
          0,
          0,
          0,
          0,
          0,
          0,
          0,
          0,
          0,
          0,
          0,
          0,
          0,
          0,
          0,
          0,
          0,
          0,
          0,
          0,
          0,
          0,
          0,
          0,
          0,
          0,
          0,
          0,
          0,
          0,
          0,
          0,
          0,
          0,
          0,
          0,
          0,
          0,
          0,
          0,
          0,
          0,
          0,
          0,
          0,
          0,
          0,
          0,
          0,
          0,
          0,
          0,
          0,
          0,
          0,
          0,
          0,
          0,
          0,
          0,
          0,
          0,
          0,
          0,
          0,
          0,
          0,
          0,
          0,
          0,
          0,
          0,
          0,
          0,
          0,
          0,
          0,
          0,
          0,
          0,
          0,
          0,
          0,
          0,
          0,
          0,
          0,
          0,
          0,
          0,
          0,
          0,
          0,
          0,
          0,
          0,
          0,
          0,
          0,
          0,
          0,
          0,
          0,
          0,
          0,
          0,
          0,
          0,
          0,
          0,
          0,
          0,
          0,
          0,
          0,
          0,
          0,
          0,
          0,
          0,
          0,
          0,
          0,
          0,
          0,
          0,
          0,
          0,
          0,
          0,
          0,
          0,
          0,
          0,
          0,
          0,
          0,
          0,
          0,
          0,
          0,
          0,
          0,
          0,
          0,
          0,
          0,
          0,
          0,
          0,
          0,
          0,
          0,
          0,
          0,
          0,
          0,
          0,
          0,
          0,
          0,
          0,
          0,
          0,
          0,
          0,
          0,
          0,
          0,
          0,
          0,
          0,
          0,
          0,
          0,
          0,
          0,
          0,
          0,
          0,
          0,
          0,
          0,
          0,
          0,
          0,
          0,
          0,
          0,
          0,
          0,
          0,
          0,
          0,
          0,
          0,
          0,
          0,
          0,
          0,
          0,
          0,
          0,
          0,
          0,
          0,
          0,
          0,
          0,
          0,
          0,
          0,
          0,
          0,
          0,
          0,
          0,
          0,
          0,
          0,
          0,
          0,
          0,
          0,
          0,
          0,
          0,
          0,
          0,
          0,
          0,
          0,
          0,
          0,
          0,
          0,
          0,
          0,
          0,
          0,
          0,
          0,
          0,
          0,
          0,
          0,
          0,
          0,
          0,
          0,
          0,
          0,
          0,
          0,
          0,
          0,
          0,
          0,
          0,
          0,
          0,
          0,
          0,
          0,
          0,
          0,
          0,
          0,
          0,
          0,
          0,
          0,
          0,
          0,
          0,
          0,
          0,
          0,
          0,
          0,
          0,
          0,
          0,
          0,
          0,
          0,
          0,
          0,
          0,
          0,
          0,
          0,
          0.168457,
          0.6445312,
          1.384277,
          2.34375,
          3.479004,
          4.746094,
          6.101074,
          7.5,
          8.898926,
          10.25391,
          11.521,
          12.65625,
          13.61572,
          14.35547,
          14.83154,
          15,
          15,
          15,
          15,
          15,
          15,
          15,
          15,
          15,
          15,
          15,
          15,
          15,
          15,
          15,
          15,
          15,
          15,
          15,
          15,
          15,
          15,
          15,
          15,
          15,
          15,
          15,
          15,
          15,
          15,
          15,
          15,
          15,
          15,
          15,
          15,
          15,
          15,
          15,
          15,
          15,
          14.83154,
          14.35547,
          13.61572,
          12.65625,
          11.521,
          10.25391,
          8.898926,
          7.5,
          6.101074,
          4.746094,
          3.479004,
          2.34375,
          1.384277,
          0.6445312,
          0.168457,
          0,
          0,
          0,
          0,
          0,
          0,
          0,
          0,
          0,
          0,
          0,
          0,
          0,
          0,
          0,
          0,
          0,
          0,
          0,
          0,
          0,
          0,
          0,
          0,
          0,
          0,
          0,
          0,
          0,
          0,
          0,
          0,
          0,
          0,
          0,
          0,
          0,
          0,
          0,
          0,
          0,
          0,
          0,
          0,
          0,
          0,
          0,
          0,
          0,
          0,
          0,
          0,
          0,
          0,
          0,
          0,
          0,
          0,
          0,
          0,
          0,
          0,
          0,
          0,
          0,
          0,
          0,
          0,
          0,
          0,
          0,
          0,
          0,
          0,
          0,
          0,
          0,
          0,
          0,
          0,
          0,
          0,
          0,
          0,
          0,
          0,
          0,
          0,
          0,
          0,
          0,
          0,
          0,
          0,
          0,
          0,
          0,
          0,
          0,
          0,
          0,
          0,
          0,
          0,
          0,
          0,
          0,
          0,
          0,
          0,
          0,
          0,
          0,
          0,
          0,
          0,
          0,
          0,
          0,
          0,
          0,
          0,
          0,
          0,
          0,
          0,
          0,
          0,
          0,
          0,
          0,
          0,
          0,
          0,
          0,
          0,
          0,
          0,
          0,
          0,
          0,
          0,
          0,
          0,
          0,
          0,
          0,
          0,
          0,
          0,
          0,
          0,
          0,
          0,
          0,
          0,
          0,
          0,
          0,
          0,
          0,
          0,
          0,
          0,
          0,
          0,
          0,
          0,
          0,
          0,
          0,
          0,
          0,
          0,
          0,
          0,
          0,
          0,
          0,
          0,
          0,
          0,
          0,
          0,
          0,
          0,
          0,
          0,
          0,
          0,
          0,
          0,
          0,
          0,
          0,
          0,
          0,
          0,
          0,
          0,
          0,
          0,
          0,
          0,
          0,
          0,
          0,
          0,
          0,
          0,
          0,
          0,
          0,
          0,
          0,
          0,
          0,
          0,
          0,
          0,
          0,
          0,
          0,
          0,
          0,
          0,
          0,
          0,
          0,
          0,
          0,
          0,
          0,
          0,
          0,
          0,
          0,
          0,
          0,
          0,
          0,
          0,
          0,
          0,
          0,
          0,
          0,
          0
         ]
        },
        {
         "line": {
          "color": "red"
         },
         "mode": "lines",
         "name": "pred_beginning",
         "type": "scatter",
         "y": [
          0,
          0,
          0,
          0,
          0,
          0,
          0,
          0,
          -0.7007862489065506,
          -0.6755713361339664,
          -0.6497851122491083,
          -0.6229622976088456,
          -0.5959656688251029,
          -0.5662206946779529,
          -0.5364536911616433,
          -0.5101525610327997,
          -0.4858333478853898,
          -0.46597556615477886,
          -0.4476875585375313,
          -0.4310093894358,
          -0.41571677082182235,
          -0.4018880158925555,
          -0.3880414680112749,
          -0.37908192990924117,
          -0.3715344501622462,
          -0.3622039229587044,
          -0.35238463425699273,
          -0.348853156924007,
          -0.3470874182575141,
          -0.349248354123493,
          -0.34441484424077684,
          -0.33844682184633657,
          -0.3354622054466667,
          -0.33239455527093353,
          -0.3251778791828037,
          -0.3208608490704419,
          -0.334071934379808,
          -0.35098383266751365,
          -0.3365847349498925,
          -0.35511276585858886,
          -0.42434514214352115,
          -0.4641282461981011,
          -0.4605062305786787,
          -0.405698612595224,
          -0.4039458252611492,
          -0.40265977005608433,
          -0.4019588245791401,
          -0.38745224290649793,
          -0.3482770041921379,
          -0.3916849077974076,
          -0.45847710780618867,
          -0.4666301531240955,
          -0.4622222216038274,
          -0.4527355521683294,
          -0.447183061775676,
          -0.44059192293928984,
          -0.43576785421478514,
          -0.4395479487140017,
          -0.49082723641720793,
          -0.5500448436092589,
          -0.5566109270642383,
          -0.5753927798802307,
          -0.6063952436768321,
          -0.5863015540314285,
          -0.5429982294094224,
          -0.3882439687508583,
          -0.35567088355746446,
          -0.270144641726197,
          -0.21448199372217003,
          -0.3457608144883366,
          -0.26562571607670105,
          -0.3108200562722345,
          -0.31027585822969606,
          -0.3812519438119615,
          -0.40075435066426013,
          -0.4501180515744916,
          -0.4736076532042057,
          -0.47613921505022305,
          -0.4492020171470157,
          -0.3835417877996714,
          -0.25427078667977465,
          -0.12128009026511566,
          -0.5312548810804438,
          -0.5672554698260093,
          -0.5910504566117123,
          -0.6720737501381493,
          -0.5943657556297572,
          -0.7244163785450255,
          -0.5982938826481075,
          -0.5105325071305595,
          -0.621610759498751,
          -0.6891168563168941,
          -0.5801319992213236,
          -0.7064688578258342,
          -0.6372029533252028,
          -0.5648350231497099,
          -0.5150285561274666,
          -0.5262532459572729,
          -0.4282298156260014,
          -0.5430397462974541,
          -0.41783074297772416,
          -0.30842587538224087,
          -0.37599176620238883,
          -0.3665887357454036,
          -0.3215115627440823,
          -0.2948419853640183,
          -0.3657294693076856,
          -0.4593355269604775,
          -0.41941588923330353,
          -0.7077668960393984,
          -0.5443346374582809,
          -0.5795750919273468,
          -0.6021679045674775,
          -0.5873498857143524,
          -0.524909696519511,
          -0.43298646479763825,
          -0.35588173609085016,
          -0.31107508858442956,
          -0.1855767984938661,
          -0.12015635035699113,
          -0.09926367243783374,
          -0.07232211707699032,
          -0.06408458549714124,
          -0.05474800626910481,
          -0.043281356500011414,
          -0.030294559218408734,
          -0.03492593148301082,
          -0.08332990234891668,
          -0.05651422909755732,
          -0.09496951897806083,
          0.08895368413627414,
          0.04455082770412133,
          0.03201139607314629,
          0.06386840572836028,
          -0.006057532563633172,
          -0.027725474820526008,
          -0.03398702040294599,
          -0.011584846534389737,
          -0.013009372059886948,
          -0.012699024243812973,
          -0.08578448244336467,
          -0.17097737876547958,
          -0.1961616682941223,
          -0.2184987223791186,
          -0.2373047832930888,
          -0.22037351852700104,
          -0.19294889057101283,
          -0.16966578401704813,
          -0.16641282085129583,
          -0.1625006711776107,
          -0.16123688742268527,
          -0.16699853578186596,
          -0.1787496307021974,
          -0.2108955640067749,
          -0.24786120857822103,
          -0.2799661091567265,
          -0.31528645034911884,
          -0.3442998557753829,
          -0.3551953154726928,
          -0.3642619744082778,
          -0.34006634360104404,
          -0.34321787483627,
          -0.3487427679972288,
          -0.35449134398350135,
          -0.3665705796719205,
          -0.3968338491967729,
          -0.42160163839970943,
          -0.43314212286763487,
          -0.4480862659112237,
          -0.4663892825492175,
          -0.4804935256334706,
          -0.4958575581364826,
          -0.5016248953986879,
          -0.49348310684634056,
          -0.4855947770798197,
          -0.47864620567679284,
          -0.46838402982257943,
          -0.4588455550574091,
          -0.4495303999960829,
          -0.43228854533294125,
          -0.41991651269948216,
          -0.41416951023957815,
          -0.4030149028534169,
          -0.398059868318853,
          -0.4043227453466618,
          -0.4009983682918752,
          -0.494034930439742,
          -0.33706090823711365,
          -0.2993918973789256,
          -0.48295488399535236,
          -0.29771258162221304,
          -0.21223100373171433,
          -0.07113604131657336,
          0.03708081387065487,
          0.09983764498704462,
          0.17289356930706345,
          0.07508619625024293,
          0.32300744018452865,
          0.3364749497717233,
          0.25962476921517075,
          0.2807394353927837,
          0.4510364448376799,
          0.7389610865181425,
          0.9433679717363016,
          1.0296672991764868,
          1.1262493793541664,
          1.2472584592355016,
          1.422462813261946,
          1.5675878187879233,
          1.6792491231959072,
          1.6875638786083054,
          1.651146426415564,
          1.728236025061116,
          1.7796778701422422,
          1.9485774066111314,
          1.960436832769913,
          1.9312038598949912,
          1.9166882001856074,
          1.8555863556874628,
          1.8335446403977942,
          1.8064479111289138,
          1.7791295567230476,
          1.721012933827022,
          1.6580716370040425,
          1.5877362187347566,
          1.5030165907281057,
          1.518722078453093,
          1.3786235213507139,
          1.3502741440519777,
          1.4040722238295178,
          1.3922439655968826,
          1.3925623626055341,
          1.3831736754466009,
          1.2505940325356029,
          1.190768560003332,
          1.2367524473144078,
          1.3700127614202935,
          1.5366421229810796,
          1.4110998951926867,
          1.3539408841324139,
          1.5445107231477486,
          1.644740479528707,
          1.6779698462582762,
          1.6805708853454893,
          1.6156268525768152,
          1.5466338943808822,
          1.492953284398779,
          1.401394929233675,
          1.2635106263330702,
          1.1986955016861274,
          1.0241569308743146,
          0.9798845560902616,
          0.8259161508122984,
          0.8227713675843839,
          0.7118478957426373,
          0.6480423093016091,
          0.5586694612219312,
          0.5638957474943351,
          0.616499339197411,
          0.513498723921926,
          0.425565894550451,
          0.3213440412522365,
          0.23036359390610484,
          0.21086542347095238,
          0.24669486096381554,
          0.2704822221986556,
          0.2589492422411033,
          0.22787560663644757,
          0.2217876331165276,
          0.21288873629992788,
          0.18025694646893808,
          0.18405858617535498,
          0.11499046183520112,
          0.022267636637125277,
          -0.0017417128561700856,
          0.010920453831551713,
          0.030473697689603396,
          0.05079179640326026,
          0.04597426386520964,
          0.024594034852781554,
          -0.001735660831675645,
          -0.0019491762558390135,
          0.005942663684888716,
          0.03658914740072805,
          0.07961867843460624,
          0.11988691277265917,
          0.1503972259373738,
          0.19366218072408525,
          0.25316302266247526,
          0.3152172742553072,
          0.3669219587602264,
          0.4153036581759927,
          0.45920734362784543,
          0.5089090501060903,
          0.56605541243517,
          0.6298096777084855,
          0.6958274001427152,
          0.7716748812810317,
          0.8515548868602274,
          0.9377536901735601,
          1.0378499994144164,
          1.1488832852406143,
          1.2805739462736263,
          1.3807811891234654,
          1.4657763052851025,
          1.5523409534791233,
          1.648353053989918,
          1.7524731727563814,
          1.8548589023432331,
          1.951569648561664,
          2.0462580502750387,
          2.142769926968583,
          2.2223725682651994,
          2.3032806312452623,
          2.3733837728144525,
          2.446274597906264,
          2.511691656909422,
          2.582405568790589,
          2.649658812025355,
          2.706429706754801,
          2.762112447480149,
          2.8149371801582515,
          2.875326217211443,
          2.9377572073290525,
          3.0026322470184903,
          3.150841727348295,
          3.4061600582208893,
          3.692255233416933,
          4.17655663161513,
          4.641686184538912,
          5.089066360025452,
          5.720596084342417,
          6.471561301651923,
          7.512525492037355,
          8.643760711457682,
          9.779862726895445,
          10.686527652130033,
          11.655978700279565,
          12.456186093847455,
          13.14937529619948,
          13.675671934445457,
          14.066328663074588,
          14.301483221858133,
          14.40768317936235,
          14.433169464913265,
          14.433932504161522,
          14.432297005062148,
          14.43147005643523,
          14.429210956731952,
          14.426015487798898,
          14.420959868617235,
          14.411769506300985,
          14.398301088910115,
          14.383590311931032,
          14.371733185541558,
          14.358062388451595,
          14.34031494766219,
          14.31686504731316,
          14.29093914270297,
          14.258609712015721,
          14.221001947645417,
          14.182334836907609,
          14.140036511473147,
          14.092701933335405,
          14.038987068894663,
          13.978905474685789,
          13.913589121370217,
          13.84266907753477,
          13.763373031799041,
          13.677378121190927,
          13.587847859954149,
          13.492244271096727,
          13.395786620542653,
          13.301991860766124,
          13.207115483171952,
          13.105104494941797,
          12.994810463907593,
          12.878119685063762,
          12.756901991898104,
          12.62214713034332,
          12.48468677175855,
          12.330823005984096,
          12.14214799531772,
          11.841978231957446,
          11.34744358658212,
          10.59854477251599,
          9.503639614054705,
          8.209344456600157,
          6.701608435924134,
          5.173703196337019,
          3.6116572761719636,
          2.172733621280962,
          0.8677353677276596,
          -0.2900274788382149,
          -1.1869007126027864,
          -1.7819640843690958,
          -2.1158053753685016,
          -2.2886231135355697,
          -2.297397580728564,
          -2.194318047053672,
          -2.0328805357459165,
          -1.8737016399794795,
          -1.7175129284752473,
          -1.5583277386033367,
          -1.386383428611303,
          -1.1908943225261666,
          -1.0414640278153462,
          -0.9085949770930253,
          -0.7951773751767595,
          -0.6830166577074954,
          -0.6433384957576489,
          -0.6153316630452972,
          -0.5441084127826794,
          -0.4955175554003859,
          -0.449517327623175,
          -0.41821891982879644,
          -0.3962267100994923,
          -0.368581909492397,
          -0.3558446977009444,
          -0.35559220723903695,
          -0.35746772962985873,
          -0.3709941254153841,
          -0.3416612941363044,
          -0.3192864754184628,
          -0.30745476753186574,
          -0.29576322453255943,
          -0.29308738242259524,
          -0.29718629757217796,
          -0.3021381850540048,
          -0.29622838313520083,
          -0.29053500161231716,
          -0.2956694181528958,
          -0.3059832782962917,
          -0.324432269765091,
          -0.3466663183931922,
          -0.3758405866305181,
          -0.4155438039617716,
          -0.4583311329753832,
          -0.5051039621995519,
          -0.5585246982498648,
          -0.6130950768731382,
          -0.6719945896577624,
          -0.736697146649109,
          -0.8068103345789595,
          -0.8872172899308846,
          -0.9739510316892794,
          -1.0641215971175673,
          -1.1517319141037345,
          -1.2490353956011495,
          -1.351415799406446,
          -1.4448793924026393,
          -1.530893669489137,
          -1.6114131924966582,
          -1.699207248946476,
          -1.7780171960748128,
          -1.857174771490109,
          -1.9306274665359824,
          -1.9963776289673139,
          -2.0590799918632534,
          -2.126336866312716,
          -2.193031144565178,
          -2.2545206817524353,
          -2.3037221884062156,
          -2.355253966571329,
          -2.4357231367350574,
          -2.4693254292139724,
          -2.4598576420948968,
          -2.433416104997783,
          -2.4550281265483473,
          -2.4775024405488777,
          -2.453610016168814,
          -2.423090382886378,
          -2.178588109149727,
          -1.9023640279850673,
          -1.6783127554199704,
          -1.3490714871982863,
          -1.1746313223047526,
          -1.0426521612640915,
          -0.8456553748369038,
          -0.6941222436952519,
          -0.6037241221459735,
          -0.49117583302808665,
          -0.37183136248394266,
          -0.30265756979611624,
          -0.3081543815634209,
          -0.3191963002534959,
          -0.3400835313506083,
          -0.3567794934043529,
          -0.37425011459338386,
          -0.4171846288426997,
          -0.4764983421837221,
          -0.5599285258515911,
          -0.6655328431050669,
          -0.749198208444789,
          -0.8533138487131267,
          -0.9089208180918049,
          -1.0042387513930893,
          -1.1283541538866773,
          -1.175645641610018,
          -1.2971993431756064,
          -1.4855417345757689,
          -1.6385906557722942,
          -1.7942772913244693,
          -1.9521412032087577,
          -2.10255676750727,
          -2.2168218949337346,
          -2.3660352850866744,
          -2.493417328321372,
          -2.5772209219005466,
          -2.6403382115958243,
          -2.662783475878781,
          -2.6523352607916086,
          -2.60847067141799,
          -2.511213185306733,
          -2.3660440000019465,
          -2.1974379867210363,
          -2.0344380847698007,
          -1.8871952337922455,
          -1.7277103476673707,
          -1.5462365199064185,
          -1.370223070725315,
          -1.235942203728935,
          -1.060273719944013,
          -0.9067454784075293,
          -0.7997534319374824,
          -0.7420984574698914,
          -0.6536426726618536,
          -0.5943250860251548,
          -0.5586588111126611,
          -0.4958026057540732,
          -0.4212824546278735,
          -0.38073401155572895,
          -0.3595815807452709,
          -0.3201010779154121,
          -0.2861087929780759,
          -0.25803260406501805,
          -0.24892358095797218,
          -0.22770639348542376,
          -0.2160786388242888,
          -0.21756634748550785,
          -0.2251553441205345,
          -0.22260405267466554,
          -0.2232289847239597,
          -0.23204521088596564,
          -0.2347493764705637,
          -0.23458451932333557,
          -0.23317197680633717,
          -0.2370395835797432,
          -0.24007600530908513,
          -0.2503576686821707,
          -0.2745105721964738,
          -0.30543218094582936,
          -0.3337816792850554,
          -0.3598007850724587,
          -0.3937600259560554,
          -0.4321288929267786,
          -0.4783094710339231,
          -0.5206346674571405,
          -0.5664348153045655,
          -0.6196362259872006,
          -0.6809639320394771,
          -0.7529778187820464,
          -0.8346348803135395,
          -0.9147186575574622,
          -0.990750483361879,
          -1.0662937897491058,
          -1.1397092043240933,
          -1.2138053506142137,
          -1.285764890176823,
          -1.3536782882434408,
          -1.4165050807629862,
          -1.4751949514191234,
          -1.5312458973147127,
          -1.5805754648067951,
          -1.6245543164028688,
          -1.6656223862981048,
          -1.7093339804925043,
          -1.7487447640001872,
          -1.7856219279735253,
          -1.8133828064104234,
          -1.8493119812669547,
          -1.9003431359658893,
          -1.9383851936139138,
          -1.968604162319467,
          -1.9785275458424827,
          -1.9182677800324919,
          -1.848106902149625,
          -1.7786151360948617,
          -1.723616274137383,
          -1.5248910295145885,
          -1.2276693283260383,
          -0.9614901553362423,
          -0.6759402675471464,
          -0.3823026963046834,
          -0.026593504159089232,
          0.2811933372298654,
          0.49225847823605384,
          0.5042906896941511,
          0.3840550585432033,
          0.3480475099694692,
          0.36483988077341,
          0.3574973830960412,
          0.3134143156381737,
          0.27757253201534193,
          0.23879043281213952,
          0.211301169234551,
          0.14458558785586928,
          0.08548454265558081,
          0.00045468787334579375,
          -0.10869744717925056,
          -0.15681370480069123,
          -0.23408546938352548,
          -0.3719522819333412,
          -0.4573400534441765,
          -0.6052029948514308,
          -0.7811528977753428,
          -0.9225344840705401,
          -1.0870972608272151,
          -1.2294839673504458,
          -1.3931829991712774,
          -1.5279412498597778,
          -1.656732204396777,
          -1.803140360156062,
          -1.9504025776119998,
          -2.0558254551711324,
          -2.154626449609448,
          -2.2293292508348888,
          -2.2855264136422635,
          -2.2985280989041224,
          -2.2301407062791014,
          -2.1304478855112885,
          -1.9931787709005413,
          -1.8484535621126656,
          -1.6996647819982547,
          -1.5301325668887185,
          -1.3672629045046027,
          -1.2074185281247594,
          -1.0570073212838833,
          -0.9218319650672273,
          -0.8187069201681367,
          -0.7245928555792831
         ]
        }
       ],
       "layout": {
        "template": {
         "data": {
          "bar": [
           {
            "error_x": {
             "color": "#2a3f5f"
            },
            "error_y": {
             "color": "#2a3f5f"
            },
            "marker": {
             "line": {
              "color": "#E5ECF6",
              "width": 0.5
             },
             "pattern": {
              "fillmode": "overlay",
              "size": 10,
              "solidity": 0.2
             }
            },
            "type": "bar"
           }
          ],
          "barpolar": [
           {
            "marker": {
             "line": {
              "color": "#E5ECF6",
              "width": 0.5
             },
             "pattern": {
              "fillmode": "overlay",
              "size": 10,
              "solidity": 0.2
             }
            },
            "type": "barpolar"
           }
          ],
          "carpet": [
           {
            "aaxis": {
             "endlinecolor": "#2a3f5f",
             "gridcolor": "white",
             "linecolor": "white",
             "minorgridcolor": "white",
             "startlinecolor": "#2a3f5f"
            },
            "baxis": {
             "endlinecolor": "#2a3f5f",
             "gridcolor": "white",
             "linecolor": "white",
             "minorgridcolor": "white",
             "startlinecolor": "#2a3f5f"
            },
            "type": "carpet"
           }
          ],
          "choropleth": [
           {
            "colorbar": {
             "outlinewidth": 0,
             "ticks": ""
            },
            "type": "choropleth"
           }
          ],
          "contour": [
           {
            "colorbar": {
             "outlinewidth": 0,
             "ticks": ""
            },
            "colorscale": [
             [
              0,
              "#0d0887"
             ],
             [
              0.1111111111111111,
              "#46039f"
             ],
             [
              0.2222222222222222,
              "#7201a8"
             ],
             [
              0.3333333333333333,
              "#9c179e"
             ],
             [
              0.4444444444444444,
              "#bd3786"
             ],
             [
              0.5555555555555556,
              "#d8576b"
             ],
             [
              0.6666666666666666,
              "#ed7953"
             ],
             [
              0.7777777777777778,
              "#fb9f3a"
             ],
             [
              0.8888888888888888,
              "#fdca26"
             ],
             [
              1,
              "#f0f921"
             ]
            ],
            "type": "contour"
           }
          ],
          "contourcarpet": [
           {
            "colorbar": {
             "outlinewidth": 0,
             "ticks": ""
            },
            "type": "contourcarpet"
           }
          ],
          "heatmap": [
           {
            "colorbar": {
             "outlinewidth": 0,
             "ticks": ""
            },
            "colorscale": [
             [
              0,
              "#0d0887"
             ],
             [
              0.1111111111111111,
              "#46039f"
             ],
             [
              0.2222222222222222,
              "#7201a8"
             ],
             [
              0.3333333333333333,
              "#9c179e"
             ],
             [
              0.4444444444444444,
              "#bd3786"
             ],
             [
              0.5555555555555556,
              "#d8576b"
             ],
             [
              0.6666666666666666,
              "#ed7953"
             ],
             [
              0.7777777777777778,
              "#fb9f3a"
             ],
             [
              0.8888888888888888,
              "#fdca26"
             ],
             [
              1,
              "#f0f921"
             ]
            ],
            "type": "heatmap"
           }
          ],
          "heatmapgl": [
           {
            "colorbar": {
             "outlinewidth": 0,
             "ticks": ""
            },
            "colorscale": [
             [
              0,
              "#0d0887"
             ],
             [
              0.1111111111111111,
              "#46039f"
             ],
             [
              0.2222222222222222,
              "#7201a8"
             ],
             [
              0.3333333333333333,
              "#9c179e"
             ],
             [
              0.4444444444444444,
              "#bd3786"
             ],
             [
              0.5555555555555556,
              "#d8576b"
             ],
             [
              0.6666666666666666,
              "#ed7953"
             ],
             [
              0.7777777777777778,
              "#fb9f3a"
             ],
             [
              0.8888888888888888,
              "#fdca26"
             ],
             [
              1,
              "#f0f921"
             ]
            ],
            "type": "heatmapgl"
           }
          ],
          "histogram": [
           {
            "marker": {
             "pattern": {
              "fillmode": "overlay",
              "size": 10,
              "solidity": 0.2
             }
            },
            "type": "histogram"
           }
          ],
          "histogram2d": [
           {
            "colorbar": {
             "outlinewidth": 0,
             "ticks": ""
            },
            "colorscale": [
             [
              0,
              "#0d0887"
             ],
             [
              0.1111111111111111,
              "#46039f"
             ],
             [
              0.2222222222222222,
              "#7201a8"
             ],
             [
              0.3333333333333333,
              "#9c179e"
             ],
             [
              0.4444444444444444,
              "#bd3786"
             ],
             [
              0.5555555555555556,
              "#d8576b"
             ],
             [
              0.6666666666666666,
              "#ed7953"
             ],
             [
              0.7777777777777778,
              "#fb9f3a"
             ],
             [
              0.8888888888888888,
              "#fdca26"
             ],
             [
              1,
              "#f0f921"
             ]
            ],
            "type": "histogram2d"
           }
          ],
          "histogram2dcontour": [
           {
            "colorbar": {
             "outlinewidth": 0,
             "ticks": ""
            },
            "colorscale": [
             [
              0,
              "#0d0887"
             ],
             [
              0.1111111111111111,
              "#46039f"
             ],
             [
              0.2222222222222222,
              "#7201a8"
             ],
             [
              0.3333333333333333,
              "#9c179e"
             ],
             [
              0.4444444444444444,
              "#bd3786"
             ],
             [
              0.5555555555555556,
              "#d8576b"
             ],
             [
              0.6666666666666666,
              "#ed7953"
             ],
             [
              0.7777777777777778,
              "#fb9f3a"
             ],
             [
              0.8888888888888888,
              "#fdca26"
             ],
             [
              1,
              "#f0f921"
             ]
            ],
            "type": "histogram2dcontour"
           }
          ],
          "mesh3d": [
           {
            "colorbar": {
             "outlinewidth": 0,
             "ticks": ""
            },
            "type": "mesh3d"
           }
          ],
          "parcoords": [
           {
            "line": {
             "colorbar": {
              "outlinewidth": 0,
              "ticks": ""
             }
            },
            "type": "parcoords"
           }
          ],
          "pie": [
           {
            "automargin": true,
            "type": "pie"
           }
          ],
          "scatter": [
           {
            "fillpattern": {
             "fillmode": "overlay",
             "size": 10,
             "solidity": 0.2
            },
            "type": "scatter"
           }
          ],
          "scatter3d": [
           {
            "line": {
             "colorbar": {
              "outlinewidth": 0,
              "ticks": ""
             }
            },
            "marker": {
             "colorbar": {
              "outlinewidth": 0,
              "ticks": ""
             }
            },
            "type": "scatter3d"
           }
          ],
          "scattercarpet": [
           {
            "marker": {
             "colorbar": {
              "outlinewidth": 0,
              "ticks": ""
             }
            },
            "type": "scattercarpet"
           }
          ],
          "scattergeo": [
           {
            "marker": {
             "colorbar": {
              "outlinewidth": 0,
              "ticks": ""
             }
            },
            "type": "scattergeo"
           }
          ],
          "scattergl": [
           {
            "marker": {
             "colorbar": {
              "outlinewidth": 0,
              "ticks": ""
             }
            },
            "type": "scattergl"
           }
          ],
          "scattermapbox": [
           {
            "marker": {
             "colorbar": {
              "outlinewidth": 0,
              "ticks": ""
             }
            },
            "type": "scattermapbox"
           }
          ],
          "scatterpolar": [
           {
            "marker": {
             "colorbar": {
              "outlinewidth": 0,
              "ticks": ""
             }
            },
            "type": "scatterpolar"
           }
          ],
          "scatterpolargl": [
           {
            "marker": {
             "colorbar": {
              "outlinewidth": 0,
              "ticks": ""
             }
            },
            "type": "scatterpolargl"
           }
          ],
          "scatterternary": [
           {
            "marker": {
             "colorbar": {
              "outlinewidth": 0,
              "ticks": ""
             }
            },
            "type": "scatterternary"
           }
          ],
          "surface": [
           {
            "colorbar": {
             "outlinewidth": 0,
             "ticks": ""
            },
            "colorscale": [
             [
              0,
              "#0d0887"
             ],
             [
              0.1111111111111111,
              "#46039f"
             ],
             [
              0.2222222222222222,
              "#7201a8"
             ],
             [
              0.3333333333333333,
              "#9c179e"
             ],
             [
              0.4444444444444444,
              "#bd3786"
             ],
             [
              0.5555555555555556,
              "#d8576b"
             ],
             [
              0.6666666666666666,
              "#ed7953"
             ],
             [
              0.7777777777777778,
              "#fb9f3a"
             ],
             [
              0.8888888888888888,
              "#fdca26"
             ],
             [
              1,
              "#f0f921"
             ]
            ],
            "type": "surface"
           }
          ],
          "table": [
           {
            "cells": {
             "fill": {
              "color": "#EBF0F8"
             },
             "line": {
              "color": "white"
             }
            },
            "header": {
             "fill": {
              "color": "#C8D4E3"
             },
             "line": {
              "color": "white"
             }
            },
            "type": "table"
           }
          ]
         },
         "layout": {
          "annotationdefaults": {
           "arrowcolor": "#2a3f5f",
           "arrowhead": 0,
           "arrowwidth": 1
          },
          "autotypenumbers": "strict",
          "coloraxis": {
           "colorbar": {
            "outlinewidth": 0,
            "ticks": ""
           }
          },
          "colorscale": {
           "diverging": [
            [
             0,
             "#8e0152"
            ],
            [
             0.1,
             "#c51b7d"
            ],
            [
             0.2,
             "#de77ae"
            ],
            [
             0.3,
             "#f1b6da"
            ],
            [
             0.4,
             "#fde0ef"
            ],
            [
             0.5,
             "#f7f7f7"
            ],
            [
             0.6,
             "#e6f5d0"
            ],
            [
             0.7,
             "#b8e186"
            ],
            [
             0.8,
             "#7fbc41"
            ],
            [
             0.9,
             "#4d9221"
            ],
            [
             1,
             "#276419"
            ]
           ],
           "sequential": [
            [
             0,
             "#0d0887"
            ],
            [
             0.1111111111111111,
             "#46039f"
            ],
            [
             0.2222222222222222,
             "#7201a8"
            ],
            [
             0.3333333333333333,
             "#9c179e"
            ],
            [
             0.4444444444444444,
             "#bd3786"
            ],
            [
             0.5555555555555556,
             "#d8576b"
            ],
            [
             0.6666666666666666,
             "#ed7953"
            ],
            [
             0.7777777777777778,
             "#fb9f3a"
            ],
            [
             0.8888888888888888,
             "#fdca26"
            ],
            [
             1,
             "#f0f921"
            ]
           ],
           "sequentialminus": [
            [
             0,
             "#0d0887"
            ],
            [
             0.1111111111111111,
             "#46039f"
            ],
            [
             0.2222222222222222,
             "#7201a8"
            ],
            [
             0.3333333333333333,
             "#9c179e"
            ],
            [
             0.4444444444444444,
             "#bd3786"
            ],
            [
             0.5555555555555556,
             "#d8576b"
            ],
            [
             0.6666666666666666,
             "#ed7953"
            ],
            [
             0.7777777777777778,
             "#fb9f3a"
            ],
            [
             0.8888888888888888,
             "#fdca26"
            ],
            [
             1,
             "#f0f921"
            ]
           ]
          },
          "colorway": [
           "#636efa",
           "#EF553B",
           "#00cc96",
           "#ab63fa",
           "#FFA15A",
           "#19d3f3",
           "#FF6692",
           "#B6E880",
           "#FF97FF",
           "#FECB52"
          ],
          "font": {
           "color": "#2a3f5f"
          },
          "geo": {
           "bgcolor": "white",
           "lakecolor": "white",
           "landcolor": "#E5ECF6",
           "showlakes": true,
           "showland": true,
           "subunitcolor": "white"
          },
          "hoverlabel": {
           "align": "left"
          },
          "hovermode": "closest",
          "mapbox": {
           "style": "light"
          },
          "paper_bgcolor": "white",
          "plot_bgcolor": "#E5ECF6",
          "polar": {
           "angularaxis": {
            "gridcolor": "white",
            "linecolor": "white",
            "ticks": ""
           },
           "bgcolor": "#E5ECF6",
           "radialaxis": {
            "gridcolor": "white",
            "linecolor": "white",
            "ticks": ""
           }
          },
          "scene": {
           "xaxis": {
            "backgroundcolor": "#E5ECF6",
            "gridcolor": "white",
            "gridwidth": 2,
            "linecolor": "white",
            "showbackground": true,
            "ticks": "",
            "zerolinecolor": "white"
           },
           "yaxis": {
            "backgroundcolor": "#E5ECF6",
            "gridcolor": "white",
            "gridwidth": 2,
            "linecolor": "white",
            "showbackground": true,
            "ticks": "",
            "zerolinecolor": "white"
           },
           "zaxis": {
            "backgroundcolor": "#E5ECF6",
            "gridcolor": "white",
            "gridwidth": 2,
            "linecolor": "white",
            "showbackground": true,
            "ticks": "",
            "zerolinecolor": "white"
           }
          },
          "shapedefaults": {
           "line": {
            "color": "#2a3f5f"
           }
          },
          "ternary": {
           "aaxis": {
            "gridcolor": "white",
            "linecolor": "white",
            "ticks": ""
           },
           "baxis": {
            "gridcolor": "white",
            "linecolor": "white",
            "ticks": ""
           },
           "bgcolor": "#E5ECF6",
           "caxis": {
            "gridcolor": "white",
            "linecolor": "white",
            "ticks": ""
           }
          },
          "title": {
           "x": 0.05
          },
          "xaxis": {
           "automargin": true,
           "gridcolor": "white",
           "linecolor": "white",
           "ticks": "",
           "title": {
            "standoff": 15
           },
           "zerolinecolor": "white",
           "zerolinewidth": 2
          },
          "yaxis": {
           "automargin": true,
           "gridcolor": "white",
           "linecolor": "white",
           "ticks": "",
           "title": {
            "standoff": 15
           },
           "zerolinecolor": "white",
           "zerolinewidth": 2
          }
         }
        },
        "title": {
         "text": "TSMixer Prediction vs. Ground Truth"
        },
        "xaxis": {
         "title": {
          "text": "Time Step"
         }
        },
        "yaxis": {
         "title": {
          "text": "Value"
         }
        }
       }
      }
     },
     "metadata": {},
     "output_type": "display_data"
    },
    {
     "data": {
      "application/vnd.plotly.v1+json": {
       "config": {
        "plotlyServerURL": "https://plot.ly"
       },
       "data": [
        {
         "line": {
          "color": "blue"
         },
         "mode": "lines",
         "name": "GT",
         "type": "scatter",
         "y": [
          0,
          0,
          0,
          0,
          0,
          0,
          0,
          0,
          0,
          0,
          0,
          0,
          0,
          0,
          0,
          0,
          0,
          0,
          0,
          0,
          0,
          0,
          0,
          0,
          0,
          0,
          0,
          0,
          0,
          0,
          0,
          0,
          0,
          0,
          0,
          0,
          0,
          0,
          0,
          0,
          0,
          0,
          0,
          0,
          0,
          0,
          0,
          0,
          0,
          0,
          0,
          0,
          0,
          0,
          0,
          0,
          0,
          0,
          0,
          0,
          0,
          0,
          0,
          0,
          0,
          0,
          0,
          0,
          0,
          0,
          0,
          0,
          0,
          0,
          0,
          0,
          0,
          0,
          0,
          0,
          0,
          0,
          0,
          0,
          0,
          0,
          0,
          0,
          0,
          0,
          0,
          0,
          0,
          0,
          0,
          0,
          0,
          0,
          0,
          0,
          0,
          0,
          0,
          0,
          0,
          0,
          0,
          0,
          0,
          0,
          0,
          0,
          0,
          0,
          0,
          0,
          0,
          0,
          0,
          0,
          0,
          0,
          0,
          0,
          0,
          0,
          0,
          0,
          0,
          0,
          0,
          0,
          0,
          0,
          0,
          0,
          0,
          0,
          0,
          0,
          0,
          0,
          0,
          0,
          0,
          0,
          0,
          0,
          0,
          0,
          0,
          0,
          0,
          0,
          0,
          0,
          0,
          0,
          0,
          0,
          0,
          0,
          0,
          0,
          0,
          0,
          0,
          0,
          0,
          0,
          0,
          0,
          0,
          0,
          0,
          0,
          0,
          0,
          0,
          0,
          0,
          0,
          0,
          0,
          0,
          0,
          0,
          0,
          0,
          0,
          0,
          0,
          0,
          0,
          0,
          0,
          0,
          0,
          0,
          0,
          0,
          0,
          0,
          0,
          0,
          0,
          0,
          0,
          0,
          0,
          0,
          0,
          0,
          0,
          0,
          0,
          0,
          0,
          0,
          0,
          0,
          0,
          0,
          0,
          0,
          0,
          0,
          0,
          0,
          0,
          0,
          0,
          0,
          0,
          0,
          0,
          0,
          0,
          0,
          0,
          0,
          0,
          0,
          0,
          0,
          0,
          0,
          0,
          0,
          0,
          0,
          0,
          0,
          0,
          0,
          0,
          0,
          0,
          0,
          0,
          0,
          0,
          0,
          0,
          0,
          0,
          0,
          0,
          0,
          0,
          0,
          0,
          0,
          0,
          0,
          0,
          0,
          0,
          0,
          0,
          0,
          0,
          0,
          0,
          0,
          0,
          0,
          0,
          0,
          0,
          0,
          0,
          0,
          0,
          0,
          0,
          0,
          0,
          0,
          0,
          0,
          0,
          0,
          0,
          0,
          0,
          0,
          0,
          0,
          0,
          0,
          0,
          0,
          0,
          0,
          0,
          0,
          0,
          0,
          0,
          0,
          0,
          0.2246094,
          0.859375,
          1.845703,
          3.125,
          4.638672,
          6.328125,
          8.134766,
          10,
          11.86523,
          13.67187,
          15.36133,
          16.875,
          18.1543,
          19.14062,
          19.77539,
          20,
          20,
          20,
          20,
          20,
          20,
          20,
          20,
          20,
          20,
          20,
          20,
          20,
          20,
          20,
          20,
          20,
          20,
          20,
          20,
          20,
          20,
          20,
          20,
          20,
          20,
          20,
          20,
          20,
          20,
          20,
          20,
          20,
          20,
          20,
          20,
          20,
          20,
          20,
          20,
          20,
          19.77539,
          19.14062,
          18.1543,
          16.875,
          15.36133,
          13.67187,
          11.86523,
          10,
          8.134766,
          6.328125,
          4.638672,
          3.125,
          1.845703,
          0.859375,
          0.2246094,
          0,
          0,
          0,
          0,
          0,
          0,
          0,
          0,
          0,
          0,
          0,
          0,
          0,
          0,
          0,
          0,
          0,
          0,
          0,
          0,
          0,
          0,
          0,
          0,
          0,
          0,
          0,
          0,
          0,
          0,
          0,
          0,
          0,
          0,
          0,
          0,
          0,
          0,
          0,
          0,
          0,
          0,
          0,
          0,
          0,
          0,
          0,
          0,
          0,
          0,
          0,
          0,
          0,
          0,
          0,
          0,
          0,
          0,
          0,
          0,
          0,
          0,
          0,
          0,
          0,
          0,
          0,
          0,
          0,
          0,
          0,
          0,
          0,
          0,
          0,
          0,
          0,
          0,
          0,
          0,
          0,
          0,
          0,
          0,
          0,
          0,
          0,
          0,
          0,
          0,
          0,
          0,
          0,
          0,
          0,
          0,
          0,
          0,
          0,
          0,
          0,
          0,
          0,
          0,
          0,
          0,
          0,
          0,
          0,
          0,
          0,
          0,
          0,
          0,
          0,
          0,
          0,
          0,
          0,
          0,
          0,
          0,
          0,
          0,
          0,
          0,
          0,
          0,
          0,
          0,
          0,
          0,
          0,
          0,
          0,
          0,
          0,
          0,
          0,
          0,
          0,
          0,
          0,
          0,
          0,
          0,
          0,
          0,
          0,
          0,
          0,
          0,
          0,
          0,
          0,
          0,
          0,
          0,
          0,
          0,
          0,
          0,
          0,
          0,
          0,
          0,
          0,
          0,
          0,
          0,
          0,
          0,
          0,
          0,
          0,
          0,
          0,
          0,
          0,
          0,
          0,
          0,
          0,
          0,
          0,
          0,
          0,
          0,
          0,
          0,
          0,
          0,
          0,
          0,
          0,
          0,
          0,
          0,
          0,
          0,
          0,
          0,
          0,
          0,
          0,
          0,
          0,
          0,
          0,
          0,
          0,
          0,
          0,
          0,
          0,
          0,
          0,
          0,
          0,
          0,
          0,
          0,
          0,
          0,
          0,
          0,
          0,
          0,
          0,
          0,
          0,
          0,
          0,
          0,
          0,
          0,
          0,
          0,
          0,
          0,
          0,
          0,
          0,
          0,
          0,
          0,
          0,
          0
         ]
        },
        {
         "line": {
          "color": "red"
         },
         "mode": "lines",
         "name": "pred_beginning",
         "type": "scatter",
         "y": [
          -2.220446049250313e-16,
          -2.220446049250313e-16,
          -2.220446049250313e-16,
          -2.220446049250313e-16,
          -2.220446049250313e-16,
          -2.220446049250313e-16,
          -2.220446049250313e-16,
          -2.220446049250313e-16,
          -1.1439426112364128,
          -1.125634833975815,
          -1.1038465778329714,
          -1.0813830771550574,
          -1.0557909219463435,
          -1.023632885125587,
          -0.9892225269063031,
          -0.9562149472479249,
          -0.9244695777971905,
          -0.8949553880064329,
          -0.8654765420381374,
          -0.8437126553801872,
          -0.8241751067626983,
          -0.8049393524283313,
          -0.7840910160207282,
          -0.7637213543958727,
          -0.7387652266041551,
          -0.712047072083495,
          -0.6880547493499598,
          -0.667697998710479,
          -0.6507445838156338,
          -0.6353136968710398,
          -0.6128760181638742,
          -0.5920452729738435,
          -0.5804528219809948,
          -0.5645379344721861,
          -0.5461943292271749,
          -0.5221908707687548,
          -0.5054182096691486,
          -0.5109675125702913,
          -0.4805726321896968,
          -0.4750691632866324,
          -0.5127087203353178,
          -0.5186037148698543,
          -0.4950587577795351,
          -0.42248740008976626,
          -0.42287408410172334,
          -0.42134138875048976,
          -0.39680906405367966,
          -0.43672821695749486,
          -0.3857317613772613,
          -0.39627503342114,
          -0.4581924073674466,
          -0.4817433357885015,
          -0.4872379283891213,
          -0.5013167123904034,
          -0.5284872355611119,
          -0.5412345741956812,
          -0.559687277267104,
          -0.5761455558728488,
          -0.6327001906566696,
          -0.6807776338311167,
          -0.6998221441946286,
          -0.7302938449381993,
          -0.7809752724753023,
          -0.8283098498287818,
          -0.6896089092143776,
          -0.4161400369051813,
          -0.6419589810431339,
          -0.7472646896632995,
          -0.3688743719361367,
          -0.25843816050290314,
          -0.31869550450472395,
          -0.4348148089250403,
          -0.5528899662422286,
          -0.6737038663319164,
          -0.6891147412491809,
          -0.7641006145912395,
          -0.8001400163901116,
          -0.8275261530165687,
          -0.8020634304362309,
          -0.7971627431628241,
          -0.5930034294759252,
          -0.3666949976049738,
          -0.9506501511643328,
          -0.8016215519617995,
          -1.11384323103357,
          -1.1327403947764993,
          -0.9860151153647208,
          -1.0760979652921339,
          -0.8931375212657475,
          -0.9494324838562298,
          -1.1446527154319928,
          -1.1674218836886407,
          -0.9123768261210923,
          -0.8815660506241321,
          -0.7247687501346329,
          -0.580010459344612,
          -0.675052902916202,
          -0.7181029697732575,
          -0.5082308678329153,
          -0.6921762586560349,
          -0.5559001624822202,
          -0.44633592672369615,
          -0.559335130141023,
          -0.48792818194468857,
          -0.42872808625769676,
          -0.40632252362664967,
          -0.5625096186699012,
          -0.6842403601084734,
          -0.6140951379578319,
          -0.800855769141793,
          -0.8445928618080722,
          -0.9472135696323585,
          -0.8486622430106989,
          -0.8298197895682928,
          -0.6498414603887095,
          -0.45308304629292917,
          -0.39605958135270813,
          -0.30481732493869296,
          -0.1797302114647834,
          -0.06635755779550823,
          0.05082561181964107,
          0.14477465631735464,
          0.17095474552254553,
          0.19538313678709351,
          0.2327904574863604,
          0.23963085892492209,
          0.18847914874556415,
          0.03352585974213329,
          0.10620260335001896,
          0.12167593515903063,
          0.20534476893986486,
          0.11966972941919929,
          0.2683532825376076,
          0.038515148652670694,
          -0.11381140037638171,
          -0.10296552711279583,
          -0.10201721523706175,
          -0.03589909081194609,
          -0.05036875489543191,
          -0.1004175441491999,
          -0.20793619566250143,
          -0.3046107491727057,
          -0.389959463538039,
          -0.46261474263273983,
          -0.5095106692581315,
          -0.5381336782834356,
          -0.5118023691620495,
          -0.4750777168144429,
          -0.46849973115361165,
          -0.45843384279394406,
          -0.4541196370311591,
          -0.46682791993497186,
          -0.48121753590913774,
          -0.5104809298090014,
          -0.5512129906294387,
          -0.6065635146397994,
          -0.6717091190916047,
          -0.6735778228372011,
          -0.6665235832033793,
          -0.7592833645608132,
          -0.774597245700454,
          -0.7792458459844298,
          -0.7858917757057926,
          -0.800710036394382,
          -0.654436964245334,
          -0.656889405917161,
          -0.6808864088828941,
          -0.687221990793325,
          -0.7217085238263163,
          -0.7557263880902247,
          -0.7790047333325669,
          -0.7964611924950538,
          -0.8214697711648544,
          -0.8459354428996704,
          -0.8659324612091635,
          -0.8765110770755034,
          -0.8758156591257864,
          -0.8721342530336542,
          -0.8648340591284545,
          -0.8416041300812653,
          -0.8044861768416973,
          -0.8060777785637001,
          -0.8351213629375687,
          -0.8354297741006944,
          -0.8147652578473565,
          -0.7129526163201769,
          -0.6345117632919852,
          -0.5699124549088259,
          -0.5314667682108396,
          -0.7554111986597773,
          -0.41330801226335345,
          -0.39087307714057995,
          -0.202020543551366,
          -0.08834948473263005,
          0.11172075849894658,
          0.28515434780503734,
          0.0126048990418004,
          0.3061035512858763,
          0.49408015521111026,
          0.2571462244581788,
          0.4388559974700994,
          0.6476009703872749,
          0.9958871469857385,
          1.3338875450048802,
          1.5002168646088245,
          1.6989236270912282,
          1.917291883650713,
          2.1426894455035153,
          2.278868547899706,
          2.3932053294017988,
          2.440801838371057,
          2.4861121346051807,
          2.6826610679632648,
          2.785996721602647,
          2.923319737302991,
          3.1295196322282797,
          2.971457700721379,
          2.9017767898822564,
          2.9098117802425647,
          2.8240087605793773,
          2.7266165176696853,
          2.6579754253151364,
          2.5258243889683745,
          2.44479423782339,
          2.3915683778436687,
          2.305898986879104,
          2.1593709227689164,
          1.8477124854340947,
          1.7022749154260741,
          1.681978846417852,
          1.732076858803359,
          1.8058245686480334,
          1.894195502608488,
          1.7627055894065433,
          1.701515184630462,
          1.7550788282650351,
          1.9542126215886901,
          2.1645764706844717,
          2.0913602092752623,
          2.187042069397509,
          2.582525079274241,
          2.6785889431762464,
          2.667132703079096,
          2.6595579893473773,
          2.5733776461366293,
          2.5440808450621097,
          2.4919503208040714,
          2.2736479909636533,
          2.0146194102462167,
          1.894885836857714,
          1.5551884511984528,
          1.422927752169669,
          1.2282833505415947,
          1.1334764921062543,
          1.0225504298185584,
          0.8995320596698866,
          0.7930030351855166,
          0.8024294263008692,
          0.8729788429873817,
          0.7155299412047791,
          0.582138724019168,
          0.5110840843362319,
          0.3541684062495831,
          0.22323197085189816,
          0.2126312449231047,
          0.2337050394128044,
          0.1986678528536039,
          0.15814349751037393,
          0.14978524835375961,
          0.16767729188530822,
          0.21381502089460036,
          0.09781223811728612,
          0.11635128340339862,
          0.3253197777548651,
          0.3527320591267049,
          0.4764569829499792,
          0.5366112811497818,
          0.601027092153311,
          0.5370570329198256,
          0.5087463890469182,
          0.454822367533088,
          0.4235083863811686,
          0.38216135918862726,
          0.3627877800853905,
          0.3377821063872992,
          0.34891008468131113,
          0.3942520935232605,
          0.4848801098080988,
          0.5930823979969635,
          0.6991127356712556,
          0.7927635364068254,
          0.8740114797363409,
          0.9426804920967616,
          1.0185728779994057,
          1.1136628501359045,
          1.2110003020514148,
          1.3169934802959269,
          1.4525820261517366,
          1.611289264846371,
          1.7686861999128425,
          1.9254488828228071,
          2.0848892234057197,
          2.2654651698208106,
          2.425649828710545,
          2.5532405436358268,
          2.6802375146212127,
          2.812459884162167,
          2.949675900071222,
          3.0796114113277735,
          3.2102441157945307,
          3.3437775959002334,
          3.4913004514335024,
          3.6454682683642314,
          3.804312121422856,
          3.953094120804743,
          4.0916916121488365,
          4.225370340839999,
          4.3618236402880735,
          4.494179477140333,
          4.612509949193297,
          4.728020662040537,
          4.858675960731699,
          5.0087151673143975,
          5.151308608631801,
          5.299892747162828,
          5.633993543437014,
          6.017915895622382,
          6.3992592784792555,
          7.183183969584273,
          7.919794418137775,
          8.570841184419463,
          9.607433859297322,
          10.656404941402684,
          11.821233396312584,
          13.089904906587071,
          14.167662321682721,
          15.21230305929358,
          16.24146352544079,
          17.14420478719811,
          17.976841980570665,
          18.616533535215755,
          19.048646140310275,
          19.319222951895654,
          19.440911571244445,
          19.474096676951717,
          19.48651575378315,
          19.502157412563975,
          19.523006071746213,
          19.545432453341174,
          19.566676188675864,
          19.587988352233033,
          19.608358013857888,
          19.62013670581476,
          19.627146079774406,
          19.63516251059324,
          19.635921676533243,
          19.63233242259922,
          19.620043746720068,
          19.59434313923421,
          19.55063816264405,
          19.492935095711193,
          19.424838685552118,
          19.346862789384716,
          19.254230342620534,
          19.145120896321814,
          19.019595132119818,
          18.88062386774914,
          18.728926245095128,
          18.56174060438624,
          18.3817485572847,
          18.19293443387697,
          17.99301557194891,
          17.790586814464103,
          17.59329792025676,
          17.397256227236564,
          17.194868784904955,
          16.986251792130304,
          16.77330316376261,
          16.557242987919736,
          16.323088066074938,
          16.08488813251241,
          15.841357253088878,
          15.543983691359374,
          15.112266162417303,
          14.438017064319663,
          13.40514727207445,
          11.970458565267439,
          10.26810382852766,
          8.359328257625378,
          6.357536138144033,
          4.245104459209809,
          2.4861757212081486,
          0.9250623228424629,
          -0.3987663694364063,
          -1.4438951422944106,
          -2.1541949393031246,
          -2.634068507043108,
          -2.893596742894526,
          -2.944448595438568,
          -2.873402025121491,
          -2.7264091655378317,
          -2.5512910154150443,
          -2.3549659262658853,
          -2.133147450946125,
          -1.8477527014467918,
          -1.5218306916325195,
          -1.2327027307122405,
          -0.9675850065177027,
          -0.728716445300108,
          -0.49583664464832977,
          -0.40192439645893274,
          -0.31582216470969837,
          -0.15778702349744922,
          -0.06990630351292082,
          -0.026572840526901897,
          0.004234868611032061,
          0.0015981226229886403,
          -0.011404530747355368,
          -0.056386242403706266,
          -0.12159301264872147,
          -0.20128719958211216,
          -0.28476349829355363,
          -0.30586053255692724,
          -0.33865346708345956,
          -0.3895338851826422,
          -0.4474354585156253,
          -0.5078843692629353,
          -0.5719199517471945,
          -0.6366612809694703,
          -0.6845394108072032,
          -0.7139309462369059,
          -0.7461624142869783,
          -0.7836798011365602,
          -0.8361004997908836,
          -0.8890131069879634,
          -0.9448264898239886,
          -1.0078840651661534,
          -1.0686528455761086,
          -1.1297863613228853,
          -1.1891572047914505,
          -1.2503049226221383,
          -1.3167335562455034,
          -1.383489806122738,
          -1.4488303664536935,
          -1.5219688391760233,
          -1.5956385989465012,
          -1.6669737297866913,
          -1.7370552039470482,
          -1.8086446811991104,
          -1.8764357465540862,
          -1.9441261062231436,
          -2.0132173078053004,
          -2.0880771376526432,
          -2.175665907980398,
          -2.2529491297824764,
          -2.328665603509397,
          -2.4106258297632746,
          -2.4901316776975193,
          -2.588159625249573,
          -2.6931265818909838,
          -2.798628698876154,
          -2.90212251208637,
          -2.990505953563906,
          -3.101073695660639,
          -3.2039284150948326,
          -3.3126563417757433,
          -3.364986502145131,
          -3.369928827346369,
          -3.4110161016519136,
          -3.4754806516252303,
          -3.5123124651514432,
          -3.6692913263727664,
          -3.4880178639728348,
          -3.186650934467095,
          -2.810117539211375,
          -2.307226266746291,
          -1.9634235105126725,
          -1.5531934117542263,
          -1.1797609124107515,
          -0.8901357171662487,
          -0.6096234181734819,
          -0.29841153954528976,
          -0.02798417261561781,
          0.19393920446030788,
          0.32613268567148723,
          0.38871368426602726,
          0.39771005887476085,
          0.3827276672846025,
          0.35259826904076497,
          0.2773985575034459,
          0.1714453629667647,
          0.023355392400934427,
          -0.16151281110180515,
          -0.3495829389773435,
          -0.5116416273941409,
          -0.6397737967685526,
          -0.738908215767174,
          -0.864105718166033,
          -0.9810472909673675,
          -1.2543854395496503,
          -1.4712993543003916,
          -1.6726319691269291,
          -1.866670845540954,
          -2.0582598624802273,
          -2.2450721376056846,
          -2.4125230990640114,
          -2.5896372875256493,
          -2.7532904826361584,
          -2.876203063398421,
          -2.9936181465883536,
          -3.054464392910554,
          -3.074057458765152,
          -3.064067583831875,
          -3.005189617229969,
          -2.901150314887694,
          -2.7975984022432945,
          -2.674140977898241,
          -2.541272090764675,
          -2.360146459147278,
          -2.1164064217606846,
          -1.8423494540676943,
          -1.6215231879739405,
          -1.3128331475639616,
          -1.0462261412065115,
          -0.8288300011520444,
          -0.6836295091129572,
          -0.48603430177761253,
          -0.3591864526732984,
          -0.2807289767514376,
          -0.18861070997978358,
          -0.12547970340830328,
          -0.10010768050021945,
          -0.13070687722436025,
          -0.1356513004607225,
          -0.1417906353934657,
          -0.16058725483779313,
          -0.21627620805227488,
          -0.2537558302696372,
          -0.3058132460729943,
          -0.3794952712795776,
          -0.4558593923103309,
          -0.510926197417094,
          -0.5733656593344694,
          -0.648858288852465,
          -0.7126471101287601,
          -0.7656542902937058,
          -0.8097438528607006,
          -0.8482894383080193,
          -0.8776717746606428,
          -0.9147600326338503,
          -0.9769567680261908,
          -1.0468616844615555,
          -1.1107978523584336,
          -1.1602582234537728,
          -1.214183858840775,
          -1.270004181331439,
          -1.3281649426958089,
          -1.384618871793711,
          -1.4441456154106695,
          -1.512646139411957,
          -1.5912746858900257,
          -1.670304118463963,
          -1.7448247121706,
          -1.8159929685248286,
          -1.8780370315151196,
          -1.9407289031965604,
          -1.9992631148128786,
          -2.061482767204258,
          -2.125325976006442,
          -2.1833705385024444,
          -2.2481623819549963,
          -2.3125372005799623,
          -2.3843455190341167,
          -2.4585262310507776,
          -2.5237325171338414,
          -2.5784789684160074,
          -2.630799445546364,
          -2.671352850606686,
          -2.6962019786071147,
          -2.743010110531962,
          -2.809973581724453,
          -2.8582961722336915,
          -2.9094585339759833,
          -2.9098026117362057,
          -2.889720865085194,
          -2.8362229060887127,
          -2.7948025283605142,
          -2.775370204273825,
          -2.768744932129061,
          -2.560613392404476,
          -2.2342559596084595,
          -1.8085568864985657,
          -1.2775416145928895,
          -0.7532925059598734,
          -0.20695802713308953,
          0.27301802155330135,
          0.6059765990901642,
          0.7327651383554159,
          0.6711058227292757,
          0.6036948245062523,
          0.6734084969707621,
          0.7413837859482959,
          0.7701234780039194,
          0.8102655067927563,
          0.8189963992647333,
          0.8209976019977323,
          0.7955694163032706,
          0.7706621888686574,
          0.6347946446882773,
          0.48339462024713997,
          0.41060506690454734,
          0.20826604076809185,
          -0.012999682990336048,
          -0.18090511113383445,
          -0.34137300476521504,
          -0.5669992524464578,
          -0.8352388529044739,
          -1.0311135100513906,
          -1.2118227623904707,
          -1.4060072101645893,
          -1.5818361100322262,
          -1.7409785296276297,
          -1.9141422793393998,
          -2.074905350373898,
          -2.187972013689804,
          -2.3133990088536898,
          -2.426510215069137,
          -2.5473551015237232,
          -2.614144919962931,
          -2.586891766485828,
          -2.5362477808063097,
          -2.459883175613605,
          -2.3882368900258966,
          -2.284881869908453,
          -2.136176368114909,
          -1.954788643494416,
          -1.7670028800717443,
          -1.5169016001912892,
          -1.232629783644876,
          -0.9912979678052036,
          -0.7619548088220498
         ]
        }
       ],
       "layout": {
        "template": {
         "data": {
          "bar": [
           {
            "error_x": {
             "color": "#2a3f5f"
            },
            "error_y": {
             "color": "#2a3f5f"
            },
            "marker": {
             "line": {
              "color": "#E5ECF6",
              "width": 0.5
             },
             "pattern": {
              "fillmode": "overlay",
              "size": 10,
              "solidity": 0.2
             }
            },
            "type": "bar"
           }
          ],
          "barpolar": [
           {
            "marker": {
             "line": {
              "color": "#E5ECF6",
              "width": 0.5
             },
             "pattern": {
              "fillmode": "overlay",
              "size": 10,
              "solidity": 0.2
             }
            },
            "type": "barpolar"
           }
          ],
          "carpet": [
           {
            "aaxis": {
             "endlinecolor": "#2a3f5f",
             "gridcolor": "white",
             "linecolor": "white",
             "minorgridcolor": "white",
             "startlinecolor": "#2a3f5f"
            },
            "baxis": {
             "endlinecolor": "#2a3f5f",
             "gridcolor": "white",
             "linecolor": "white",
             "minorgridcolor": "white",
             "startlinecolor": "#2a3f5f"
            },
            "type": "carpet"
           }
          ],
          "choropleth": [
           {
            "colorbar": {
             "outlinewidth": 0,
             "ticks": ""
            },
            "type": "choropleth"
           }
          ],
          "contour": [
           {
            "colorbar": {
             "outlinewidth": 0,
             "ticks": ""
            },
            "colorscale": [
             [
              0,
              "#0d0887"
             ],
             [
              0.1111111111111111,
              "#46039f"
             ],
             [
              0.2222222222222222,
              "#7201a8"
             ],
             [
              0.3333333333333333,
              "#9c179e"
             ],
             [
              0.4444444444444444,
              "#bd3786"
             ],
             [
              0.5555555555555556,
              "#d8576b"
             ],
             [
              0.6666666666666666,
              "#ed7953"
             ],
             [
              0.7777777777777778,
              "#fb9f3a"
             ],
             [
              0.8888888888888888,
              "#fdca26"
             ],
             [
              1,
              "#f0f921"
             ]
            ],
            "type": "contour"
           }
          ],
          "contourcarpet": [
           {
            "colorbar": {
             "outlinewidth": 0,
             "ticks": ""
            },
            "type": "contourcarpet"
           }
          ],
          "heatmap": [
           {
            "colorbar": {
             "outlinewidth": 0,
             "ticks": ""
            },
            "colorscale": [
             [
              0,
              "#0d0887"
             ],
             [
              0.1111111111111111,
              "#46039f"
             ],
             [
              0.2222222222222222,
              "#7201a8"
             ],
             [
              0.3333333333333333,
              "#9c179e"
             ],
             [
              0.4444444444444444,
              "#bd3786"
             ],
             [
              0.5555555555555556,
              "#d8576b"
             ],
             [
              0.6666666666666666,
              "#ed7953"
             ],
             [
              0.7777777777777778,
              "#fb9f3a"
             ],
             [
              0.8888888888888888,
              "#fdca26"
             ],
             [
              1,
              "#f0f921"
             ]
            ],
            "type": "heatmap"
           }
          ],
          "heatmapgl": [
           {
            "colorbar": {
             "outlinewidth": 0,
             "ticks": ""
            },
            "colorscale": [
             [
              0,
              "#0d0887"
             ],
             [
              0.1111111111111111,
              "#46039f"
             ],
             [
              0.2222222222222222,
              "#7201a8"
             ],
             [
              0.3333333333333333,
              "#9c179e"
             ],
             [
              0.4444444444444444,
              "#bd3786"
             ],
             [
              0.5555555555555556,
              "#d8576b"
             ],
             [
              0.6666666666666666,
              "#ed7953"
             ],
             [
              0.7777777777777778,
              "#fb9f3a"
             ],
             [
              0.8888888888888888,
              "#fdca26"
             ],
             [
              1,
              "#f0f921"
             ]
            ],
            "type": "heatmapgl"
           }
          ],
          "histogram": [
           {
            "marker": {
             "pattern": {
              "fillmode": "overlay",
              "size": 10,
              "solidity": 0.2
             }
            },
            "type": "histogram"
           }
          ],
          "histogram2d": [
           {
            "colorbar": {
             "outlinewidth": 0,
             "ticks": ""
            },
            "colorscale": [
             [
              0,
              "#0d0887"
             ],
             [
              0.1111111111111111,
              "#46039f"
             ],
             [
              0.2222222222222222,
              "#7201a8"
             ],
             [
              0.3333333333333333,
              "#9c179e"
             ],
             [
              0.4444444444444444,
              "#bd3786"
             ],
             [
              0.5555555555555556,
              "#d8576b"
             ],
             [
              0.6666666666666666,
              "#ed7953"
             ],
             [
              0.7777777777777778,
              "#fb9f3a"
             ],
             [
              0.8888888888888888,
              "#fdca26"
             ],
             [
              1,
              "#f0f921"
             ]
            ],
            "type": "histogram2d"
           }
          ],
          "histogram2dcontour": [
           {
            "colorbar": {
             "outlinewidth": 0,
             "ticks": ""
            },
            "colorscale": [
             [
              0,
              "#0d0887"
             ],
             [
              0.1111111111111111,
              "#46039f"
             ],
             [
              0.2222222222222222,
              "#7201a8"
             ],
             [
              0.3333333333333333,
              "#9c179e"
             ],
             [
              0.4444444444444444,
              "#bd3786"
             ],
             [
              0.5555555555555556,
              "#d8576b"
             ],
             [
              0.6666666666666666,
              "#ed7953"
             ],
             [
              0.7777777777777778,
              "#fb9f3a"
             ],
             [
              0.8888888888888888,
              "#fdca26"
             ],
             [
              1,
              "#f0f921"
             ]
            ],
            "type": "histogram2dcontour"
           }
          ],
          "mesh3d": [
           {
            "colorbar": {
             "outlinewidth": 0,
             "ticks": ""
            },
            "type": "mesh3d"
           }
          ],
          "parcoords": [
           {
            "line": {
             "colorbar": {
              "outlinewidth": 0,
              "ticks": ""
             }
            },
            "type": "parcoords"
           }
          ],
          "pie": [
           {
            "automargin": true,
            "type": "pie"
           }
          ],
          "scatter": [
           {
            "fillpattern": {
             "fillmode": "overlay",
             "size": 10,
             "solidity": 0.2
            },
            "type": "scatter"
           }
          ],
          "scatter3d": [
           {
            "line": {
             "colorbar": {
              "outlinewidth": 0,
              "ticks": ""
             }
            },
            "marker": {
             "colorbar": {
              "outlinewidth": 0,
              "ticks": ""
             }
            },
            "type": "scatter3d"
           }
          ],
          "scattercarpet": [
           {
            "marker": {
             "colorbar": {
              "outlinewidth": 0,
              "ticks": ""
             }
            },
            "type": "scattercarpet"
           }
          ],
          "scattergeo": [
           {
            "marker": {
             "colorbar": {
              "outlinewidth": 0,
              "ticks": ""
             }
            },
            "type": "scattergeo"
           }
          ],
          "scattergl": [
           {
            "marker": {
             "colorbar": {
              "outlinewidth": 0,
              "ticks": ""
             }
            },
            "type": "scattergl"
           }
          ],
          "scattermapbox": [
           {
            "marker": {
             "colorbar": {
              "outlinewidth": 0,
              "ticks": ""
             }
            },
            "type": "scattermapbox"
           }
          ],
          "scatterpolar": [
           {
            "marker": {
             "colorbar": {
              "outlinewidth": 0,
              "ticks": ""
             }
            },
            "type": "scatterpolar"
           }
          ],
          "scatterpolargl": [
           {
            "marker": {
             "colorbar": {
              "outlinewidth": 0,
              "ticks": ""
             }
            },
            "type": "scatterpolargl"
           }
          ],
          "scatterternary": [
           {
            "marker": {
             "colorbar": {
              "outlinewidth": 0,
              "ticks": ""
             }
            },
            "type": "scatterternary"
           }
          ],
          "surface": [
           {
            "colorbar": {
             "outlinewidth": 0,
             "ticks": ""
            },
            "colorscale": [
             [
              0,
              "#0d0887"
             ],
             [
              0.1111111111111111,
              "#46039f"
             ],
             [
              0.2222222222222222,
              "#7201a8"
             ],
             [
              0.3333333333333333,
              "#9c179e"
             ],
             [
              0.4444444444444444,
              "#bd3786"
             ],
             [
              0.5555555555555556,
              "#d8576b"
             ],
             [
              0.6666666666666666,
              "#ed7953"
             ],
             [
              0.7777777777777778,
              "#fb9f3a"
             ],
             [
              0.8888888888888888,
              "#fdca26"
             ],
             [
              1,
              "#f0f921"
             ]
            ],
            "type": "surface"
           }
          ],
          "table": [
           {
            "cells": {
             "fill": {
              "color": "#EBF0F8"
             },
             "line": {
              "color": "white"
             }
            },
            "header": {
             "fill": {
              "color": "#C8D4E3"
             },
             "line": {
              "color": "white"
             }
            },
            "type": "table"
           }
          ]
         },
         "layout": {
          "annotationdefaults": {
           "arrowcolor": "#2a3f5f",
           "arrowhead": 0,
           "arrowwidth": 1
          },
          "autotypenumbers": "strict",
          "coloraxis": {
           "colorbar": {
            "outlinewidth": 0,
            "ticks": ""
           }
          },
          "colorscale": {
           "diverging": [
            [
             0,
             "#8e0152"
            ],
            [
             0.1,
             "#c51b7d"
            ],
            [
             0.2,
             "#de77ae"
            ],
            [
             0.3,
             "#f1b6da"
            ],
            [
             0.4,
             "#fde0ef"
            ],
            [
             0.5,
             "#f7f7f7"
            ],
            [
             0.6,
             "#e6f5d0"
            ],
            [
             0.7,
             "#b8e186"
            ],
            [
             0.8,
             "#7fbc41"
            ],
            [
             0.9,
             "#4d9221"
            ],
            [
             1,
             "#276419"
            ]
           ],
           "sequential": [
            [
             0,
             "#0d0887"
            ],
            [
             0.1111111111111111,
             "#46039f"
            ],
            [
             0.2222222222222222,
             "#7201a8"
            ],
            [
             0.3333333333333333,
             "#9c179e"
            ],
            [
             0.4444444444444444,
             "#bd3786"
            ],
            [
             0.5555555555555556,
             "#d8576b"
            ],
            [
             0.6666666666666666,
             "#ed7953"
            ],
            [
             0.7777777777777778,
             "#fb9f3a"
            ],
            [
             0.8888888888888888,
             "#fdca26"
            ],
            [
             1,
             "#f0f921"
            ]
           ],
           "sequentialminus": [
            [
             0,
             "#0d0887"
            ],
            [
             0.1111111111111111,
             "#46039f"
            ],
            [
             0.2222222222222222,
             "#7201a8"
            ],
            [
             0.3333333333333333,
             "#9c179e"
            ],
            [
             0.4444444444444444,
             "#bd3786"
            ],
            [
             0.5555555555555556,
             "#d8576b"
            ],
            [
             0.6666666666666666,
             "#ed7953"
            ],
            [
             0.7777777777777778,
             "#fb9f3a"
            ],
            [
             0.8888888888888888,
             "#fdca26"
            ],
            [
             1,
             "#f0f921"
            ]
           ]
          },
          "colorway": [
           "#636efa",
           "#EF553B",
           "#00cc96",
           "#ab63fa",
           "#FFA15A",
           "#19d3f3",
           "#FF6692",
           "#B6E880",
           "#FF97FF",
           "#FECB52"
          ],
          "font": {
           "color": "#2a3f5f"
          },
          "geo": {
           "bgcolor": "white",
           "lakecolor": "white",
           "landcolor": "#E5ECF6",
           "showlakes": true,
           "showland": true,
           "subunitcolor": "white"
          },
          "hoverlabel": {
           "align": "left"
          },
          "hovermode": "closest",
          "mapbox": {
           "style": "light"
          },
          "paper_bgcolor": "white",
          "plot_bgcolor": "#E5ECF6",
          "polar": {
           "angularaxis": {
            "gridcolor": "white",
            "linecolor": "white",
            "ticks": ""
           },
           "bgcolor": "#E5ECF6",
           "radialaxis": {
            "gridcolor": "white",
            "linecolor": "white",
            "ticks": ""
           }
          },
          "scene": {
           "xaxis": {
            "backgroundcolor": "#E5ECF6",
            "gridcolor": "white",
            "gridwidth": 2,
            "linecolor": "white",
            "showbackground": true,
            "ticks": "",
            "zerolinecolor": "white"
           },
           "yaxis": {
            "backgroundcolor": "#E5ECF6",
            "gridcolor": "white",
            "gridwidth": 2,
            "linecolor": "white",
            "showbackground": true,
            "ticks": "",
            "zerolinecolor": "white"
           },
           "zaxis": {
            "backgroundcolor": "#E5ECF6",
            "gridcolor": "white",
            "gridwidth": 2,
            "linecolor": "white",
            "showbackground": true,
            "ticks": "",
            "zerolinecolor": "white"
           }
          },
          "shapedefaults": {
           "line": {
            "color": "#2a3f5f"
           }
          },
          "ternary": {
           "aaxis": {
            "gridcolor": "white",
            "linecolor": "white",
            "ticks": ""
           },
           "baxis": {
            "gridcolor": "white",
            "linecolor": "white",
            "ticks": ""
           },
           "bgcolor": "#E5ECF6",
           "caxis": {
            "gridcolor": "white",
            "linecolor": "white",
            "ticks": ""
           }
          },
          "title": {
           "x": 0.05
          },
          "xaxis": {
           "automargin": true,
           "gridcolor": "white",
           "linecolor": "white",
           "ticks": "",
           "title": {
            "standoff": 15
           },
           "zerolinecolor": "white",
           "zerolinewidth": 2
          },
          "yaxis": {
           "automargin": true,
           "gridcolor": "white",
           "linecolor": "white",
           "ticks": "",
           "title": {
            "standoff": 15
           },
           "zerolinecolor": "white",
           "zerolinewidth": 2
          }
         }
        },
        "title": {
         "text": "TSMixer Prediction vs. Ground Truth"
        },
        "xaxis": {
         "title": {
          "text": "Time Step"
         }
        },
        "yaxis": {
         "title": {
          "text": "Value"
         }
        }
       }
      }
     },
     "metadata": {},
     "output_type": "display_data"
    },
    {
     "data": {
      "application/vnd.plotly.v1+json": {
       "config": {
        "plotlyServerURL": "https://plot.ly"
       },
       "data": [
        {
         "line": {
          "color": "blue"
         },
         "mode": "lines",
         "name": "GT",
         "type": "scatter",
         "y": [
          -0.1346689,
          -0.2519792,
          -0.3425422,
          -0.4366407,
          -0.5340651,
          -0.6346042,
          -0.7380315,
          -0.8441165,
          -0.952626,
          -1.063316,
          -1.17594,
          -1.290246,
          -1.405978,
          -1.522871,
          -1.640667,
          -1.759092,
          -1.877882,
          -1.996759,
          -2.115454,
          -2.233692,
          -2.351195,
          -2.467689,
          -2.582896,
          -2.696542,
          -2.808353,
          -2.918057,
          -3.025383,
          -3.130059,
          -3.231823,
          -3.330408,
          -3.425554,
          -3.517002,
          -3.604501,
          -3.687799,
          -3.766648,
          -3.840806,
          -3.910036,
          -3.974103,
          -4.032777,
          -4.085834,
          -4.133053,
          -4.174222,
          -4.209125,
          -4.237565,
          -4.259339,
          -4.274253,
          -4.282125,
          -4.282776,
          -4.276031,
          -4.261731,
          -4.239721,
          -4.209857,
          -4.172006,
          -4.126051,
          -4.071886,
          -4.009421,
          -3.938584,
          -3.859326,
          -3.771615,
          -3.675448,
          -3.570845,
          -3.45786,
          -3.336577,
          -3.207116,
          -3.06964,
          -2.924344,
          -2.771477,
          -2.611328,
          -2.444237,
          -2.270594,
          -2.087288,
          -1.894723,
          -1.693773,
          -1.48529,
          -1.270124,
          -1.049133,
          -0.8231984,
          -0.5932254,
          -0.360147,
          -0.1249188,
          0.1114754,
          0.3480362,
          0.5837567,
          0.8176238,
          1.048629,
          1.275782,
          1.498115,
          1.714687,
          1.924599,
          2.127007,
          2.321106,
          2.506162,
          2.681499,
          2.846509,
          3.000653,
          3.143462,
          3.274539,
          3.393555,
          3.500245,
          3.594419,
          3.675943,
          3.744748,
          3.800816,
          3.844189,
          3.874956,
          3.89325,
          3.899248,
          3.893165,
          3.875253,
          3.845793,
          3.805098,
          3.753503,
          3.691368,
          3.619076,
          3.537026,
          3.445631,
          3.345323,
          3.236545,
          3.119748,
          2.995393,
          2.863951,
          2.725899,
          2.581717,
          2.43189,
          2.276906,
          2.117254,
          1.953423,
          1.785904,
          1.615181,
          1.441744,
          1.266072,
          1.088643,
          0.909932,
          0.7304009,
          0.5505131,
          0.3707196,
          0.1914642,
          0.01318233,
          -0.1637029,
          -0.3387734,
          -0.5116272,
          -0.6818703,
          -0.8491245,
          -1.013017,
          -1.17319,
          -1.329304,
          -1.481026,
          -1.628035,
          -1.77003,
          -1.906717,
          -2.037817,
          -2.163065,
          -2.282205,
          -2.395001,
          -2.501223,
          -2.600655,
          -2.693094,
          -2.778351,
          -2.856241,
          -2.9266,
          -2.989273,
          -3.04411,
          -3.090981,
          -3.129761,
          -3.160337,
          -3.182612,
          -3.196492,
          -3.201907,
          -3.198785,
          -3.187081,
          -3.166755,
          -3.137783,
          -3.10016,
          -3.053893,
          -2.999012,
          -2.935563,
          -2.863614,
          -2.783255,
          -2.694602,
          -2.597796,
          -2.493004,
          -2.380427,
          -2.260292,
          -2.13286,
          -1.998425,
          -1.85732,
          -1.70991,
          -1.556597,
          -1.397818,
          -1.234046,
          -1.065792,
          -0.893594,
          -0.7180263,
          -0.5396906,
          -0.3592158,
          -0.1772468,
          0.005543767,
          0.1884787,
          0.370865,
          0.552011,
          0.7312217,
          0.9078119,
          1.081105,
          1.250444,
          1.415193,
          1.574741,
          1.728504,
          1.875939,
          2.016535,
          2.14982,
          2.275364,
          2.392787,
          2.501741,
          2.601931,
          2.693108,
          2.775061,
          2.847629,
          2.910689,
          2.964163,
          3.008011,
          3.042229,
          3.066855,
          3.081957,
          3.087634,
          3.084018,
          3.071268,
          3.049569,
          3.01913,
          2.980182,
          2.932977,
          2.877786,
          2.814893,
          2.744601,
          2.667224,
          2.583096,
          2.492547,
          2.395932,
          2.293602,
          2.185924,
          2.073267,
          1.956004,
          1.834512,
          1.709172,
          1.580369,
          1.448485,
          1.313903,
          1.177007,
          1.038181,
          0.8978016,
          0.7562442,
          0.6138838,
          0.4710865,
          0.3282172,
          0.1856326,
          0.04368328,
          -0.09728483,
          -0.2369379,
          -0.3749411,
          -0.5109779,
          -0.6447309,
          -0.7759023,
          -0.9041935,
          -1.029319,
          -1.151005,
          -1.268987,
          -1.383008,
          -1.492823,
          -1.5982,
          -1.698912,
          -1.794746,
          -1.885499,
          -1.970979,
          -2.051003,
          -2.125402,
          -2.194016,
          -2.25669,
          -2.313289,
          -2.363684,
          -2.407756,
          -2.445399,
          -2.476517,
          -2.501027,
          -2.518855,
          -2.529938,
          -2.53423,
          -2.531691,
          -2.522301,
          -2.506046,
          -2.482932,
          -2.452976,
          -2.416212,
          -2.372689,
          -2.322473,
          -2.265647,
          -2.202312,
          -2.132592,
          -2.056626,
          -1.974573,
          -1.886617,
          -1.792963,
          -1.693837,
          -1.589486,
          -1.480183,
          -1.366223,
          -1.247922,
          -1.125619,
          -0.999675,
          -0.8704724,
          -0.7384104,
          -0.6039092,
          -0.4674037,
          -0.3293443,
          -0.1901926,
          -0.05042034,
          0.08949291,
          0.2290629,
          0.3678031,
          0.5052301,
          0.6408606,
          0.7742217,
          0.9048498,
          1.032293,
          0.9785243,
          0.6448051,
          0.112374,
          -0.5778564,
          -1.385457,
          -2.27028,
          -3.192487,
          -4.11272,
          -4.992446,
          -5.794407,
          -6.483218,
          -7.02607,
          -7.393522,
          -7.56032,
          -7.506108,
          -7.215809,
          -6.671689,
          -5.950729,
          -5.178208,
          -4.356524,
          -3.489461,
          -2.582309,
          -1.641865,
          -0.6763353,
          0.3048563,
          1.291409,
          2.272541,
          3.237445,
          4.17574,
          5.077879,
          5.935482,
          6.741538,
          7.490527,
          8.178411,
          8.802547,
          9.361554,
          9.855117,
          10.2838,
          10.64888,
          10.95211,
          11.19563,
          11.3818,
          11.51315,
          11.59221,
          11.62153,
          11.60362,
          11.54091,
          11.43575,
          11.29038,
          11.10695,
          10.88753,
          10.63409,
          10.34854,
          10.03272,
          9.688408,
          9.317362,
          8.541803,
          7.524209,
          6.753397,
          6.216624,
          5.900376,
          5.789055,
          5.863645,
          6.100465,
          6.470198,
          6.937152,
          7.459062,
          7.987357,
          8.467953,
          8.842518,
          9.050124,
          9.02914,
          8.571972,
          7.811757,
          7.039846,
          6.258172,
          5.468767,
          4.673742,
          3.875281,
          3.075621,
          2.277016,
          1.481734,
          0.6920363,
          -0.08986514,
          -0.8617996,
          -1.621682,
          -2.367516,
          -3.097413,
          -3.809607,
          -4.50248,
          -5.17456,
          -5.824522,
          -6.45121,
          -7.053644,
          -7.630995,
          -8.182619,
          -8.708021,
          -9.206879,
          -9.679018,
          -10.12441,
          -10.54316,
          -10.93551,
          -11.30182,
          -11.64254,
          -11.95823,
          -12.24954,
          -12.51715,
          -12.76186,
          -12.98447,
          -13.18585,
          -13.36688,
          -13.52847,
          -13.67153,
          -13.79699,
          -13.90574,
          -13.99868,
          -14.07667,
          -14.14057,
          -14.19116,
          -14.2292,
          -14.25538,
          -14.27035,
          -14.27466,
          -14.26879,
          -14.25312,
          -14.22792,
          -14.1933,
          -14.14924,
          -14.09549,
          -14.03157,
          -13.95669,
          -13.86966,
          -13.76879,
          -13.65174,
          -13.51528,
          -13.355,
          -13.16489,
          -12.93675,
          -12.65933,
          -12.3171,
          -11.88865,
          -11.34439,
          -10.64382,
          -9.732688,
          -8.54171,
          -6.990588,
          -5.004412,
          -2.549848,
          0.3132389,
          3.399639,
          6.438422,
          9.181093,
          11.49072,
          13.34739,
          14.79994,
          15.91933,
          16.77365,
          17.4195,
          17.9012,
          18.25249,
          18.49885,
          18.65948,
          18.74886,
          18.778,
          18.75525,
          18.68706,
          18.57835,
          18.43295,
          18.25383,
          18.04328,
          17.80312,
          17.53477,
          17.23935,
          16.91776,
          16.57075,
          16.19894,
          15.80288,
          15.38307,
          14.94001,
          14.4742,
          13.98615,
          13.47645,
          12.94571,
          12.39465,
          11.82404,
          11.23476,
          10.62777,
          10.00413,
          9.365023,
          8.711687,
          8.045493,
          7.367892,
          6.680419,
          5.98469,
          5.28239,
          4.575259,
          3.865085,
          3.153692,
          2.442918,
          1.734604,
          1.030586,
          0.3326682,
          -0.3573766,
          -1.037843,
          -1.707082,
          -2.363522,
          -3.005691,
          -3.632213,
          -4.241824,
          -4.833367,
          -5.405818,
          -5.958274,
          -6.489953,
          -7.000202,
          -7.488496,
          -7.954435,
          -8.397738,
          -8.818233,
          -9.215865,
          -9.590677,
          -9.942809,
          -10.27248,
          -10.58001,
          -10.86575,
          -11.13014,
          -11.37366,
          -11.59685,
          -11.80025,
          -11.98445,
          -12.15003,
          -12.2976,
          -12.42774,
          -12.54104,
          -12.63805,
          -12.71928,
          -12.78522,
          -12.83627,
          -12.87279,
          -12.89506,
          -12.90324,
          -12.89739,
          -12.87744,
          -12.84317,
          -12.79414,
          -12.72973,
          -12.64902,
          -12.55082,
          -12.43352,
          -12.29509,
          -12.13295,
          -11.94387,
          -11.72382,
          -11.46787,
          -11.16994,
          -10.82267,
          -10.4172,
          -9.943025,
          -9.387947,
          -8.738187,
          -7.978838,
          -7.094834,
          -6.072618,
          -4.90267,
          -3.582761,
          -2.121458,
          -0.5408006,
          1.123222,
          2.823471,
          4.507619,
          6.125672,
          7.636589,
          9.012085,
          10.23714,
          11.30801,
          12.22918,
          13.01021,
          13.66325,
          14.2012,
          14.63664,
          14.98118,
          15.2452,
          15.43779,
          15.56676,
          15.63881,
          15.65959,
          15.63393,
          15.56586,
          15.45881,
          15.31568,
          15.13894,
          14.93069,
          14.69274,
          14.42666,
          14.13385,
          13.81551,
          13.47279,
          13.10672,
          12.71827,
          12.30839,
          11.878,
          11.42803,
          10.95942,
          10.47312,
          9.970133,
          9.451485,
          8.918258,
          8.371574,
          7.812604,
          7.242577,
          6.662762,
          6.074477,
          5.479082,
          4.877972,
          4.272572,
          3.664326,
          3.054703,
          2.445167,
          1.837183,
          1.232214
         ]
        },
        {
         "line": {
          "color": "red"
         },
         "mode": "lines",
         "name": "pred_beginning",
         "type": "scatter",
         "y": [
          -0.1346689,
          -0.25197919999999996,
          -0.3425422,
          -0.4366407,
          -0.5340651,
          -0.6346042,
          -0.7380315,
          -0.8441165,
          -1.356190826081914,
          -1.4675263282255286,
          -1.5851966590021997,
          -1.706839706138359,
          -1.8269885687262142,
          -1.9425740148376116,
          -2.054594155621652,
          -2.1557238508317034,
          -2.270115050415355,
          -2.3938303653210857,
          -2.51542695934125,
          -2.6396366271604057,
          -2.766620176849231,
          -2.9000220560808505,
          -3.026249739018058,
          -3.159867023069031,
          -3.2931475507038055,
          -3.3942797692929974,
          -3.486334016725356,
          -3.5906133478989006,
          -3.703309524894479,
          -3.8127902286708086,
          -3.926615732530792,
          -4.0352146299965845,
          -4.163795019885109,
          -4.295642956362417,
          -4.4322210817375565,
          -4.55663147289743,
          -4.667040321401239,
          -4.801965862837485,
          -4.947668527184504,
          -5.040513280482136,
          -5.114153742132296,
          -5.120142867823111,
          -5.180876474567955,
          -5.2745764239960975,
          -5.386743838362699,
          -5.4249303642932825,
          -5.408886260922073,
          -5.408754127614355,
          -5.45436305858753,
          -5.54756383774207,
          -5.706519289334749,
          -5.700083296137971,
          -5.675374367594652,
          -5.653523739423156,
          -5.623600133187039,
          -5.6015347883905005,
          -5.527404332390884,
          -5.3584920855061835,
          -5.212551764723755,
          -4.9929792406228986,
          -4.7334405201031275,
          -4.624832905509395,
          -4.232703916248815,
          -3.725159694269768,
          -3.2598738145615807,
          -2.938394623873517,
          -2.6309027531590896,
          -2.0031917755400994,
          -1.5681290959914327,
          -1.1940981260233399,
          -1.091851835543638,
          -0.8095490236035267,
          -0.5260065443111418,
          -0.01380691721606117,
          0.3127688111414072,
          0.6063786556117862,
          0.8827641434675344,
          1.0979948496600853,
          1.3525450790172837,
          1.5936778132903806,
          2.3705817474038438,
          2.626034887697117,
          2.157359880405197,
          2.257139567775106,
          2.334344646558312,
          2.5800717660518635,
          3.0300659681689037,
          3.0133777149225676,
          2.646416450412662,
          2.6509310050930366,
          3.0705781320745706,
          2.9496463337588636,
          2.553219341627781,
          2.8161568244516393,
          2.730121524463572,
          2.4947494353700264,
          2.2687911562570973,
          2.0357747562902166,
          1.697653421374656,
          1.3812368174366525,
          0.5315657402537298,
          1.4198275428259162,
          1.675221957204648,
          1.834816741312277,
          2.068283449756677,
          2.780556073945709,
          3.615317421380108,
          3.659213207315019,
          3.857302599006471,
          3.471091622024565,
          2.1079122015650813,
          2.187914102028324,
          2.0443402520834337,
          1.8830607683023965,
          1.7255668120282468,
          1.7419616650999794,
          1.3960779571521769,
          1.221953326555714,
          0.7116969307968862,
          0.03865344691965228,
          -0.6108459346352115,
          -1.09345693407507,
          -1.5151812608854043,
          -1.9043801481677098,
          -2.2099563153183257,
          -2.539093044105251,
          -2.901106191518831,
          -3.4064731960958747,
          -3.618161307373333,
          -3.8341949069287558,
          -3.7911901032285282,
          -4.121302691548497,
          -4.541553135542703,
          -4.631522154212633,
          -5.188513596235589,
          -5.390792256096401,
          -5.446357982361597,
          -5.291574823478606,
          -5.350180533413738,
          -5.325822125172838,
          -5.521427135401462,
          -5.803699666791887,
          -5.967132969368353,
          -6.102474180168463,
          -6.149577869185202,
          -6.08136037870598,
          -6.024505435098114,
          -5.990002125120178,
          -5.944628097805168,
          -5.88944776035415,
          -5.856763118542169,
          -5.843261663752122,
          -5.838592035953662,
          -5.877464921010448,
          -5.8510254131729855,
          -5.791782894102045,
          -5.706193544027527,
          -5.588070037297041,
          -5.452188364564667,
          -5.354265654844028,
          -5.2266946166116846,
          -5.07467708126663,
          -4.899288467118904,
          -4.696286744435301,
          -4.5199520925080074,
          -4.51824995857872,
          -4.530183706728235,
          -4.485750670434511,
          -4.470981102927334,
          -4.4778878210328585,
          -4.516458818185206,
          -4.418548954758373,
          -4.315684092292105,
          -4.227912707455405,
          -4.144928402246251,
          -4.023775922954806,
          -3.8853222386839987,
          -3.7348040493445804,
          -3.552001059087891,
          -3.349485201587877,
          -3.140786835795649,
          -2.9219924300624665,
          -2.762571759115529,
          -2.6103163379369603,
          -2.4383335974345353,
          -2.274450215778654,
          -2.112884672562331,
          -1.6252470445251637,
          -1.2395722856106046,
          -1.128742606285599,
          -0.842407549178095,
          -0.6494258783136023,
          -0.38152794824534664,
          -0.2280205869159577,
          -0.19090546482860007,
          -0.12188852195806135,
          -0.21167230165927167,
          0.07573977954499837,
          0.17770700723157648,
          0.014412719905939314,
          0.23347081875929884,
          -0.060735575479693577,
          -0.2765044496234722,
          -0.19319359621373203,
          -0.14996891443112956,
          -0.18391776919247746,
          -0.0801217798233817,
          0.04389576708394405,
          0.08690940261116314,
          0.1067705757285157,
          -0.057981880643147965,
          -0.07213677593152087,
          0.031303302279719114,
          0.1983649946620531,
          0.22370453859238162,
          0.25746838378311354,
          0.29534636926425095,
          0.28728474640576185,
          0.4556135192137589,
          0.6862550753123176,
          1.003197230305846,
          1.165462896534593,
          1.434923085038419,
          1.676398769476514,
          1.933377407159243,
          1.9887545681832168,
          2.2410720657973213,
          2.5497870872005572,
          2.5150484147682475,
          2.35572753199641,
          2.2830796759408623,
          2.257313910333901,
          2.212031871658466,
          2.0956917057859696,
          1.8953872460054073,
          1.8254779445115628,
          1.7335299084012064,
          1.607216889369431,
          1.6172883837132912,
          1.738931774946606,
          1.5985353181357533,
          1.5866385030809305,
          1.3880214957510204,
          1.0932408033594714,
          0.8278400436983238,
          0.4503374775282265,
          0.10123519948677583,
          -0.16227784317920899,
          -0.5325821262540076,
          -0.8477942754486519,
          -1.041964515237824,
          -1.2801758646605872,
          -1.4574232916424128,
          -1.6489692171255135,
          -1.7984147409321354,
          -2.023062927474962,
          -2.2832939714716316,
          -2.4775932476941227,
          -2.7001025263182594,
          -2.849491388793273,
          -2.8420370974142704,
          -2.838859933678336,
          -2.8142707509451363,
          -2.883179188512636,
          -3.0809520108210124,
          -3.2162728051898952,
          -3.1564175637840313,
          -3.0804147604621996,
          -3.1244890181217717,
          -3.201320636792191,
          -3.3088938953364413,
          -3.539499321233671,
          -3.6707441700964103,
          -3.7952908237298684,
          -3.9901232211453057,
          -4.1495484800543165,
          -4.303474607621969,
          -4.089768251828356,
          -4.041084468673486,
          -3.9959435098318132,
          -3.933559154332904,
          -3.935554917834899,
          -3.945446564065476,
          -3.9533250125381794,
          -3.9750311199043584,
          -3.9966454680290666,
          -4.026481902985786,
          -3.988488071462292,
          -3.9315661436081535,
          -3.8553830333768313,
          -3.777228934638711,
          -3.7031076545632424,
          -3.638406607615294,
          -3.5678524680520116,
          -3.4996813159897324,
          -3.439973118768326,
          -3.404651775152675,
          -3.3848455428811532,
          -3.312353448138003,
          -3.2055206866724233,
          -3.0993506563283684,
          -2.960362474475992,
          -2.8015276862858474,
          -2.6899679474958877,
          -2.5860641410180634,
          -2.483118989215508,
          -2.387008524513922,
          -2.3052787975337794,
          -2.251115840672571,
          -2.211942902896174,
          -2.161835475109881,
          -2.100800898053011,
          -2.0524536419162365,
          -1.993161572854901,
          -1.9308347962800152,
          -1.855083413279814,
          -1.7664352688908596,
          -1.669294347907554,
          -1.5835113858335323,
          -1.5039176992957834,
          -1.414210309163098,
          -1.3133796343811903,
          -1.204048039372251,
          -1.1059616541046382,
          -1.0158255189161791,
          -0.7919430632434283,
          -0.3162901097347923,
          0.21259432963506936,
          0.72013809281791,
          1.1046400539274173,
          1.5412892507611182,
          2.3883133032257056,
          3.3550047116585286,
          4.465241295273284,
          5.214177471382584,
          6.046609051676033,
          6.6039005464186005,
          7.073069218429635,
          7.449680343568841,
          7.5996911043029245,
          7.708657038734601,
          7.84910189854533,
          8.007953662195147,
          8.16091172976528,
          8.32705376514997,
          8.502177195089844,
          8.69356678576529,
          8.894731488434642,
          9.107989141537463,
          9.311274400277211,
          9.523375886937497,
          9.745618604965161,
          9.962065809301514,
          10.223124521656253,
          10.503813288538888,
          10.771935627302065,
          11.048379611674251,
          11.308103227065587,
          11.552113989947422,
          11.787145193458903,
          12.02170016650715,
          12.244737519565952,
          12.456185680426964,
          12.650669392724812,
          12.824514616430996,
          12.986940402536108,
          13.144127653545642,
          13.28351452930221,
          13.399713844739049,
          13.492851310016972,
          13.561111927339686,
          13.607658637760695,
          13.619524025275314,
          13.6099544539823,
          13.556584526365505,
          13.472296322335048,
          13.363898377608075,
          13.231622843065512,
          13.08150105364925,
          12.84273983697197,
          12.541612616644079,
          12.1823816094319,
          11.713013819866873,
          11.09999693777895,
          10.346407650534655,
          9.510293771880972,
          9.039762475134093,
          8.658841418422993,
          8.258692212661638,
          7.576873333726323,
          6.97080904936466,
          6.573824619841641,
          6.101182860540929,
          5.985902055111215,
          5.812193552674824,
          5.621894979380469,
          5.555379622830535,
          5.300587149075853,
          4.917435425204592,
          4.327005997997177,
          3.5067905549188696,
          2.319628299411188,
          0.8972290702930275,
          -0.5009279407237465,
          -1.9057742004437586,
          -3.2259476702124967,
          -4.444619590445122,
          -5.629369954290737,
          -6.720613980707714,
          -7.641885941001,
          -8.650989847230356,
          -9.54016717763432,
          -10.226682294548123,
          -10.891320173110403,
          -11.454008028843882,
          -11.844612438307419,
          -12.191194434082817,
          -12.51580376189556,
          -12.802743168307202,
          -13.036508094286383,
          -13.237783825637917,
          -13.429828577297464,
          -13.612862571444557,
          -13.659739615134862,
          -13.625407894938476,
          -13.70953735548119,
          -13.785753499039442,
          -13.823459206544717,
          -13.774955271503131,
          -13.718396710245218,
          -13.6382404248582,
          -13.527134664915417,
          -13.309768032979525,
          -13.041179557269674,
          -12.778674719269352,
          -12.516588303410138,
          -12.284958614979988,
          -12.064684132681878,
          -11.815388955083726,
          -11.533299942176242,
          -11.268376330570744,
          -11.0274339967237,
          -10.791941244227619,
          -10.53813701750358,
          -10.244419355924473,
          -9.929066700391326,
          -9.553876008310091,
          -9.174693789224866,
          -8.786565044096218,
          -8.403392215599418,
          -8.035710182247758,
          -7.675267035455746,
          -7.321745288247895,
          -6.975103648965542,
          -6.613443774631625,
          -6.255824977292092,
          -5.910866202498318,
          -5.5696943316000525,
          -5.2597022509536435,
          -4.957733139585254,
          -4.6451883168411205,
          -4.311285154255983,
          -3.935514084972445,
          -3.5667277291496804,
          -3.200234666169381,
          -2.8528798281826946,
          -2.4749079134924727,
          -1.9483415419602732,
          -1.2853232140099564,
          -0.6459780821648543,
          0.07950729930074701,
          0.7758407697510022,
          1.7922484822033478,
          3.00078697060412,
          3.8020607828636668,
          4.092167488892786,
          4.342465595000217,
          4.564749604686542,
          5.333872813919469,
          6.261215565628478,
          7.564133480640486,
          8.87581165043573,
          9.97414316066393,
          10.91328156286404,
          11.561773485297078,
          11.917119406225373,
          12.187787146346958,
          12.370990895090772,
          12.538738717201205,
          12.629689559754876,
          12.69753359012131,
          12.775472972234388,
          12.927767620488686,
          13.000139969421717,
          12.987698333870659,
          12.962135126789246,
          12.754130690260642,
          12.699196267576765,
          13.020404080308179,
          13.145915123569498,
          13.087937964438442,
          12.870825505601424,
          12.615925673534221,
          12.208533910843558,
          11.8683356054973,
          11.484873735389867,
          11.108675526837281,
          10.898744146237785,
          10.327521763455087,
          9.794516187152658,
          9.226153022334197,
          8.612617700531962,
          7.969108304910802,
          7.223433252243382,
          6.478626242000277,
          5.664949333071092,
          4.8241860136520724,
          3.8019736115842693,
          2.622544366151559,
          1.334357938561518,
          0.010229874883482426,
          -1.4354218342177485,
          -2.768841438687141,
          -4.05775574646015,
          -5.377735833627488,
          -6.478331044342777,
          -7.426651793836894,
          -8.271570889302136,
          -9.00163861258775,
          -9.65726481604516,
          -10.367114308065046,
          -10.922343972651758,
          -11.442683103261526,
          -11.821542329816772,
          -12.025214812555529,
          -12.219479220266262,
          -12.452187997376111,
          -12.630346823023848,
          -12.79284234615248,
          -12.936846546939869,
          -13.08965412935399,
          -13.228590467234934,
          -13.355797221278637,
          -13.417858584247568,
          -13.368272807749038,
          -13.337755519220604,
          -13.303430222171121,
          -13.228328953396742,
          -13.019916188243592,
          -12.730725927638666,
          -12.47135283254975,
          -12.227743975145557,
          -11.994477301847564,
          -11.773001691078598,
          -11.545160741728788,
          -11.299529510642573,
          -10.998283920893183,
          -10.746883786295685,
          -10.537953499020638,
          -10.339726009670773,
          -10.139701874372903,
          -9.936493693395992,
          -9.7084481209377,
          -9.474751096797208,
          -9.20957055931559,
          -8.939346933922726,
          -8.656231135103182,
          -8.366961043958174,
          -8.054368506408476,
          -7.698509651320357,
          -7.334700775551189,
          -6.9638585539232665,
          -6.6106726455392,
          -6.234050509291017,
          -5.8558712187150705,
          -5.473837122404927,
          -5.101538222818652,
          -4.731428698733875,
          -4.3390074562892105,
          -3.884819398040738,
          -3.399216875280346,
          -2.8446315899668635,
          -2.3134550047450557,
          -1.8319665075760174,
          -1.3497618295272982,
          -0.9169989806670505,
          -0.4454874658231577,
          0.10673582191580855,
          0.7240949807082444,
          1.6218421654693949,
          1.9242097413438723,
          2.3275143180213123,
          2.414079757026978,
          2.5913806337669607,
          2.8019222133222383,
          3.009169636108706,
          3.2244106652159226,
          3.7019849425419102,
          4.283467155511588,
          4.884868235221694,
          5.516348911878418,
          6.372671845873679,
          7.233387294758159,
          7.997380244800441,
          8.549512117395091,
          9.171338804256647,
          9.763202428408254,
          10.386876228800622,
          10.838701486581217,
          10.959946642706548,
          10.849518065965821,
          10.688080526891351,
          10.666616205126447,
          10.643878265089926,
          10.666691447704453,
          10.922915365626084,
          11.16559194913693,
          11.211966152183974,
          11.075460516609597,
          11.031124286315626,
          10.859609747342805,
          10.534003914167686,
          10.176520920505531,
          9.94495729872924,
          9.568464543011531,
          9.161210419183075,
          8.66766957504492,
          8.178703846686512,
          7.640752447268795,
          7.008812974404717,
          6.332453770336927,
          5.454252680397728,
          4.461455308970189,
          3.4277762132919585,
          2.333265328480509,
          1.256861982982849,
          0.20659774850588572,
          -0.8806241262602607,
          -2.1461691904154288,
          -3.28356352733026,
          -4.554732056598979
         ]
        }
       ],
       "layout": {
        "template": {
         "data": {
          "bar": [
           {
            "error_x": {
             "color": "#2a3f5f"
            },
            "error_y": {
             "color": "#2a3f5f"
            },
            "marker": {
             "line": {
              "color": "#E5ECF6",
              "width": 0.5
             },
             "pattern": {
              "fillmode": "overlay",
              "size": 10,
              "solidity": 0.2
             }
            },
            "type": "bar"
           }
          ],
          "barpolar": [
           {
            "marker": {
             "line": {
              "color": "#E5ECF6",
              "width": 0.5
             },
             "pattern": {
              "fillmode": "overlay",
              "size": 10,
              "solidity": 0.2
             }
            },
            "type": "barpolar"
           }
          ],
          "carpet": [
           {
            "aaxis": {
             "endlinecolor": "#2a3f5f",
             "gridcolor": "white",
             "linecolor": "white",
             "minorgridcolor": "white",
             "startlinecolor": "#2a3f5f"
            },
            "baxis": {
             "endlinecolor": "#2a3f5f",
             "gridcolor": "white",
             "linecolor": "white",
             "minorgridcolor": "white",
             "startlinecolor": "#2a3f5f"
            },
            "type": "carpet"
           }
          ],
          "choropleth": [
           {
            "colorbar": {
             "outlinewidth": 0,
             "ticks": ""
            },
            "type": "choropleth"
           }
          ],
          "contour": [
           {
            "colorbar": {
             "outlinewidth": 0,
             "ticks": ""
            },
            "colorscale": [
             [
              0,
              "#0d0887"
             ],
             [
              0.1111111111111111,
              "#46039f"
             ],
             [
              0.2222222222222222,
              "#7201a8"
             ],
             [
              0.3333333333333333,
              "#9c179e"
             ],
             [
              0.4444444444444444,
              "#bd3786"
             ],
             [
              0.5555555555555556,
              "#d8576b"
             ],
             [
              0.6666666666666666,
              "#ed7953"
             ],
             [
              0.7777777777777778,
              "#fb9f3a"
             ],
             [
              0.8888888888888888,
              "#fdca26"
             ],
             [
              1,
              "#f0f921"
             ]
            ],
            "type": "contour"
           }
          ],
          "contourcarpet": [
           {
            "colorbar": {
             "outlinewidth": 0,
             "ticks": ""
            },
            "type": "contourcarpet"
           }
          ],
          "heatmap": [
           {
            "colorbar": {
             "outlinewidth": 0,
             "ticks": ""
            },
            "colorscale": [
             [
              0,
              "#0d0887"
             ],
             [
              0.1111111111111111,
              "#46039f"
             ],
             [
              0.2222222222222222,
              "#7201a8"
             ],
             [
              0.3333333333333333,
              "#9c179e"
             ],
             [
              0.4444444444444444,
              "#bd3786"
             ],
             [
              0.5555555555555556,
              "#d8576b"
             ],
             [
              0.6666666666666666,
              "#ed7953"
             ],
             [
              0.7777777777777778,
              "#fb9f3a"
             ],
             [
              0.8888888888888888,
              "#fdca26"
             ],
             [
              1,
              "#f0f921"
             ]
            ],
            "type": "heatmap"
           }
          ],
          "heatmapgl": [
           {
            "colorbar": {
             "outlinewidth": 0,
             "ticks": ""
            },
            "colorscale": [
             [
              0,
              "#0d0887"
             ],
             [
              0.1111111111111111,
              "#46039f"
             ],
             [
              0.2222222222222222,
              "#7201a8"
             ],
             [
              0.3333333333333333,
              "#9c179e"
             ],
             [
              0.4444444444444444,
              "#bd3786"
             ],
             [
              0.5555555555555556,
              "#d8576b"
             ],
             [
              0.6666666666666666,
              "#ed7953"
             ],
             [
              0.7777777777777778,
              "#fb9f3a"
             ],
             [
              0.8888888888888888,
              "#fdca26"
             ],
             [
              1,
              "#f0f921"
             ]
            ],
            "type": "heatmapgl"
           }
          ],
          "histogram": [
           {
            "marker": {
             "pattern": {
              "fillmode": "overlay",
              "size": 10,
              "solidity": 0.2
             }
            },
            "type": "histogram"
           }
          ],
          "histogram2d": [
           {
            "colorbar": {
             "outlinewidth": 0,
             "ticks": ""
            },
            "colorscale": [
             [
              0,
              "#0d0887"
             ],
             [
              0.1111111111111111,
              "#46039f"
             ],
             [
              0.2222222222222222,
              "#7201a8"
             ],
             [
              0.3333333333333333,
              "#9c179e"
             ],
             [
              0.4444444444444444,
              "#bd3786"
             ],
             [
              0.5555555555555556,
              "#d8576b"
             ],
             [
              0.6666666666666666,
              "#ed7953"
             ],
             [
              0.7777777777777778,
              "#fb9f3a"
             ],
             [
              0.8888888888888888,
              "#fdca26"
             ],
             [
              1,
              "#f0f921"
             ]
            ],
            "type": "histogram2d"
           }
          ],
          "histogram2dcontour": [
           {
            "colorbar": {
             "outlinewidth": 0,
             "ticks": ""
            },
            "colorscale": [
             [
              0,
              "#0d0887"
             ],
             [
              0.1111111111111111,
              "#46039f"
             ],
             [
              0.2222222222222222,
              "#7201a8"
             ],
             [
              0.3333333333333333,
              "#9c179e"
             ],
             [
              0.4444444444444444,
              "#bd3786"
             ],
             [
              0.5555555555555556,
              "#d8576b"
             ],
             [
              0.6666666666666666,
              "#ed7953"
             ],
             [
              0.7777777777777778,
              "#fb9f3a"
             ],
             [
              0.8888888888888888,
              "#fdca26"
             ],
             [
              1,
              "#f0f921"
             ]
            ],
            "type": "histogram2dcontour"
           }
          ],
          "mesh3d": [
           {
            "colorbar": {
             "outlinewidth": 0,
             "ticks": ""
            },
            "type": "mesh3d"
           }
          ],
          "parcoords": [
           {
            "line": {
             "colorbar": {
              "outlinewidth": 0,
              "ticks": ""
             }
            },
            "type": "parcoords"
           }
          ],
          "pie": [
           {
            "automargin": true,
            "type": "pie"
           }
          ],
          "scatter": [
           {
            "fillpattern": {
             "fillmode": "overlay",
             "size": 10,
             "solidity": 0.2
            },
            "type": "scatter"
           }
          ],
          "scatter3d": [
           {
            "line": {
             "colorbar": {
              "outlinewidth": 0,
              "ticks": ""
             }
            },
            "marker": {
             "colorbar": {
              "outlinewidth": 0,
              "ticks": ""
             }
            },
            "type": "scatter3d"
           }
          ],
          "scattercarpet": [
           {
            "marker": {
             "colorbar": {
              "outlinewidth": 0,
              "ticks": ""
             }
            },
            "type": "scattercarpet"
           }
          ],
          "scattergeo": [
           {
            "marker": {
             "colorbar": {
              "outlinewidth": 0,
              "ticks": ""
             }
            },
            "type": "scattergeo"
           }
          ],
          "scattergl": [
           {
            "marker": {
             "colorbar": {
              "outlinewidth": 0,
              "ticks": ""
             }
            },
            "type": "scattergl"
           }
          ],
          "scattermapbox": [
           {
            "marker": {
             "colorbar": {
              "outlinewidth": 0,
              "ticks": ""
             }
            },
            "type": "scattermapbox"
           }
          ],
          "scatterpolar": [
           {
            "marker": {
             "colorbar": {
              "outlinewidth": 0,
              "ticks": ""
             }
            },
            "type": "scatterpolar"
           }
          ],
          "scatterpolargl": [
           {
            "marker": {
             "colorbar": {
              "outlinewidth": 0,
              "ticks": ""
             }
            },
            "type": "scatterpolargl"
           }
          ],
          "scatterternary": [
           {
            "marker": {
             "colorbar": {
              "outlinewidth": 0,
              "ticks": ""
             }
            },
            "type": "scatterternary"
           }
          ],
          "surface": [
           {
            "colorbar": {
             "outlinewidth": 0,
             "ticks": ""
            },
            "colorscale": [
             [
              0,
              "#0d0887"
             ],
             [
              0.1111111111111111,
              "#46039f"
             ],
             [
              0.2222222222222222,
              "#7201a8"
             ],
             [
              0.3333333333333333,
              "#9c179e"
             ],
             [
              0.4444444444444444,
              "#bd3786"
             ],
             [
              0.5555555555555556,
              "#d8576b"
             ],
             [
              0.6666666666666666,
              "#ed7953"
             ],
             [
              0.7777777777777778,
              "#fb9f3a"
             ],
             [
              0.8888888888888888,
              "#fdca26"
             ],
             [
              1,
              "#f0f921"
             ]
            ],
            "type": "surface"
           }
          ],
          "table": [
           {
            "cells": {
             "fill": {
              "color": "#EBF0F8"
             },
             "line": {
              "color": "white"
             }
            },
            "header": {
             "fill": {
              "color": "#C8D4E3"
             },
             "line": {
              "color": "white"
             }
            },
            "type": "table"
           }
          ]
         },
         "layout": {
          "annotationdefaults": {
           "arrowcolor": "#2a3f5f",
           "arrowhead": 0,
           "arrowwidth": 1
          },
          "autotypenumbers": "strict",
          "coloraxis": {
           "colorbar": {
            "outlinewidth": 0,
            "ticks": ""
           }
          },
          "colorscale": {
           "diverging": [
            [
             0,
             "#8e0152"
            ],
            [
             0.1,
             "#c51b7d"
            ],
            [
             0.2,
             "#de77ae"
            ],
            [
             0.3,
             "#f1b6da"
            ],
            [
             0.4,
             "#fde0ef"
            ],
            [
             0.5,
             "#f7f7f7"
            ],
            [
             0.6,
             "#e6f5d0"
            ],
            [
             0.7,
             "#b8e186"
            ],
            [
             0.8,
             "#7fbc41"
            ],
            [
             0.9,
             "#4d9221"
            ],
            [
             1,
             "#276419"
            ]
           ],
           "sequential": [
            [
             0,
             "#0d0887"
            ],
            [
             0.1111111111111111,
             "#46039f"
            ],
            [
             0.2222222222222222,
             "#7201a8"
            ],
            [
             0.3333333333333333,
             "#9c179e"
            ],
            [
             0.4444444444444444,
             "#bd3786"
            ],
            [
             0.5555555555555556,
             "#d8576b"
            ],
            [
             0.6666666666666666,
             "#ed7953"
            ],
            [
             0.7777777777777778,
             "#fb9f3a"
            ],
            [
             0.8888888888888888,
             "#fdca26"
            ],
            [
             1,
             "#f0f921"
            ]
           ],
           "sequentialminus": [
            [
             0,
             "#0d0887"
            ],
            [
             0.1111111111111111,
             "#46039f"
            ],
            [
             0.2222222222222222,
             "#7201a8"
            ],
            [
             0.3333333333333333,
             "#9c179e"
            ],
            [
             0.4444444444444444,
             "#bd3786"
            ],
            [
             0.5555555555555556,
             "#d8576b"
            ],
            [
             0.6666666666666666,
             "#ed7953"
            ],
            [
             0.7777777777777778,
             "#fb9f3a"
            ],
            [
             0.8888888888888888,
             "#fdca26"
            ],
            [
             1,
             "#f0f921"
            ]
           ]
          },
          "colorway": [
           "#636efa",
           "#EF553B",
           "#00cc96",
           "#ab63fa",
           "#FFA15A",
           "#19d3f3",
           "#FF6692",
           "#B6E880",
           "#FF97FF",
           "#FECB52"
          ],
          "font": {
           "color": "#2a3f5f"
          },
          "geo": {
           "bgcolor": "white",
           "lakecolor": "white",
           "landcolor": "#E5ECF6",
           "showlakes": true,
           "showland": true,
           "subunitcolor": "white"
          },
          "hoverlabel": {
           "align": "left"
          },
          "hovermode": "closest",
          "mapbox": {
           "style": "light"
          },
          "paper_bgcolor": "white",
          "plot_bgcolor": "#E5ECF6",
          "polar": {
           "angularaxis": {
            "gridcolor": "white",
            "linecolor": "white",
            "ticks": ""
           },
           "bgcolor": "#E5ECF6",
           "radialaxis": {
            "gridcolor": "white",
            "linecolor": "white",
            "ticks": ""
           }
          },
          "scene": {
           "xaxis": {
            "backgroundcolor": "#E5ECF6",
            "gridcolor": "white",
            "gridwidth": 2,
            "linecolor": "white",
            "showbackground": true,
            "ticks": "",
            "zerolinecolor": "white"
           },
           "yaxis": {
            "backgroundcolor": "#E5ECF6",
            "gridcolor": "white",
            "gridwidth": 2,
            "linecolor": "white",
            "showbackground": true,
            "ticks": "",
            "zerolinecolor": "white"
           },
           "zaxis": {
            "backgroundcolor": "#E5ECF6",
            "gridcolor": "white",
            "gridwidth": 2,
            "linecolor": "white",
            "showbackground": true,
            "ticks": "",
            "zerolinecolor": "white"
           }
          },
          "shapedefaults": {
           "line": {
            "color": "#2a3f5f"
           }
          },
          "ternary": {
           "aaxis": {
            "gridcolor": "white",
            "linecolor": "white",
            "ticks": ""
           },
           "baxis": {
            "gridcolor": "white",
            "linecolor": "white",
            "ticks": ""
           },
           "bgcolor": "#E5ECF6",
           "caxis": {
            "gridcolor": "white",
            "linecolor": "white",
            "ticks": ""
           }
          },
          "title": {
           "x": 0.05
          },
          "xaxis": {
           "automargin": true,
           "gridcolor": "white",
           "linecolor": "white",
           "ticks": "",
           "title": {
            "standoff": 15
           },
           "zerolinecolor": "white",
           "zerolinewidth": 2
          },
          "yaxis": {
           "automargin": true,
           "gridcolor": "white",
           "linecolor": "white",
           "ticks": "",
           "title": {
            "standoff": 15
           },
           "zerolinecolor": "white",
           "zerolinewidth": 2
          }
         }
        },
        "title": {
         "text": "TSMixer Prediction vs. Ground Truth"
        },
        "xaxis": {
         "title": {
          "text": "Time Step"
         }
        },
        "yaxis": {
         "title": {
          "text": "Value"
         }
        }
       }
      }
     },
     "metadata": {},
     "output_type": "display_data"
    },
    {
     "data": {
      "application/vnd.plotly.v1+json": {
       "config": {
        "plotlyServerURL": "https://plot.ly"
       },
       "data": [
        {
         "line": {
          "color": "blue"
         },
         "mode": "lines",
         "name": "GT",
         "type": "scatter",
         "y": [
          0,
          0,
          0,
          0,
          0,
          0,
          0,
          0,
          0,
          0,
          0,
          0,
          0,
          0,
          0,
          0,
          0,
          0,
          0,
          0,
          0,
          0,
          0,
          0,
          0,
          0,
          0,
          0,
          0,
          0,
          0,
          0,
          0,
          0,
          0,
          0,
          0,
          0,
          0,
          0,
          0,
          0,
          0,
          0,
          0,
          0,
          0,
          0,
          0,
          0,
          0,
          0,
          0,
          0,
          0,
          0,
          0,
          0,
          0,
          0,
          0,
          0,
          0,
          0,
          0,
          0,
          0,
          0,
          0,
          0,
          0,
          0,
          0,
          0,
          0,
          0,
          0,
          0,
          0,
          0,
          0,
          0,
          0,
          0,
          0,
          0,
          0,
          0,
          0,
          0,
          0,
          0,
          0,
          0,
          0,
          0,
          0,
          0,
          0,
          0,
          0,
          0,
          0,
          0,
          0,
          0,
          0,
          0,
          0,
          0,
          0,
          0,
          0,
          0,
          0,
          0,
          0,
          0,
          0,
          0,
          0,
          0,
          0,
          0,
          0,
          0,
          0,
          0,
          0,
          0,
          0,
          0,
          0,
          0,
          0,
          0,
          0,
          0,
          0,
          0,
          0,
          0,
          0,
          0,
          0,
          0,
          0,
          0,
          0,
          0,
          0,
          0,
          0,
          0,
          0,
          0,
          0,
          0,
          0,
          0,
          0,
          0,
          0,
          0,
          0,
          0,
          0,
          0,
          0,
          0,
          0,
          0,
          0,
          0,
          0,
          0,
          0,
          0,
          0,
          0,
          0,
          0,
          0,
          0,
          0,
          0,
          0,
          0,
          0,
          0,
          0,
          0,
          0,
          0,
          0,
          0,
          0,
          0,
          0,
          0,
          0,
          0,
          0,
          0,
          0,
          0,
          0,
          0,
          0,
          0,
          0,
          0,
          0,
          0,
          0,
          0,
          0,
          0,
          0,
          0,
          0,
          0,
          0,
          0,
          0,
          0,
          0,
          0,
          0,
          0,
          0,
          0,
          0,
          0,
          0,
          0,
          0,
          0,
          0,
          0,
          0,
          0,
          0,
          0,
          0,
          0,
          0,
          0,
          0,
          0,
          0,
          0,
          0,
          0,
          0,
          0,
          0,
          0,
          0,
          0,
          0,
          0,
          0,
          0,
          0,
          0,
          0,
          0,
          0,
          0,
          0,
          0,
          0,
          0,
          0,
          0,
          0,
          0,
          0,
          0,
          0,
          0,
          0,
          0,
          0,
          0,
          0,
          0,
          0,
          0,
          0,
          0,
          0,
          0,
          0,
          0,
          0,
          0,
          0,
          0,
          0,
          0,
          0,
          0,
          0,
          0,
          0,
          0,
          0,
          0,
          0,
          0,
          0,
          0,
          0,
          0,
          0,
          0,
          0,
          0,
          0,
          0,
          0,
          0,
          0,
          0,
          0,
          0,
          0,
          0,
          0,
          0,
          0,
          0,
          0,
          0,
          0,
          0,
          0,
          0,
          0,
          0,
          0,
          0,
          0,
          0,
          0,
          0,
          0,
          0,
          0,
          0,
          0,
          0,
          0,
          0,
          0,
          0,
          0,
          0,
          0,
          0,
          0,
          0,
          0,
          0,
          0,
          0,
          0,
          0,
          0,
          0,
          0,
          0,
          0,
          0,
          0,
          0,
          0,
          0,
          0,
          0,
          0,
          0,
          0,
          0,
          0,
          0,
          0,
          0,
          0,
          0,
          0,
          0,
          0,
          0,
          0,
          0,
          0,
          0,
          0,
          0,
          0,
          0,
          0,
          0,
          0,
          0,
          0,
          0,
          0,
          0,
          0,
          0,
          0,
          0,
          0,
          0,
          0,
          0,
          0,
          0,
          0,
          0,
          0,
          0,
          0,
          0,
          0,
          0,
          0,
          0,
          0,
          0,
          0,
          0,
          0,
          0,
          0,
          0,
          0,
          0,
          0,
          0,
          0,
          0,
          0,
          0,
          0,
          0,
          0,
          0,
          0,
          0,
          0,
          0,
          0,
          0,
          0,
          0,
          0,
          0,
          0,
          0,
          0,
          0,
          0,
          0,
          0,
          0,
          0,
          0,
          0,
          0,
          0,
          0,
          0,
          0,
          0,
          0,
          0,
          0,
          0,
          0,
          0,
          0,
          0,
          0,
          0,
          0,
          0,
          0,
          0,
          0,
          0,
          0,
          0,
          0,
          0,
          0,
          0,
          0,
          0,
          0,
          0,
          0,
          0,
          0,
          0,
          0,
          0,
          0,
          0,
          0,
          0,
          0,
          0,
          0,
          0,
          0,
          0,
          0,
          0,
          0,
          0,
          0,
          0,
          0,
          0,
          0,
          0,
          0,
          0,
          0,
          0,
          0,
          0,
          0,
          0,
          0,
          0,
          0,
          0,
          0,
          0,
          0,
          0,
          0,
          0,
          0,
          0,
          0,
          0,
          0,
          0,
          0,
          0,
          0,
          0,
          0,
          0,
          0,
          0,
          0,
          0,
          0,
          0,
          0,
          0,
          0,
          0,
          0,
          0,
          0,
          0,
          0,
          0,
          0,
          0,
          0,
          0,
          0,
          0,
          0,
          0,
          0,
          0,
          0,
          0,
          0,
          0,
          0,
          0,
          0,
          0,
          0,
          0,
          0,
          0,
          0,
          0,
          0,
          0,
          0,
          0,
          0,
          0,
          0,
          0,
          0,
          0,
          0,
          0,
          0,
          0,
          0,
          0,
          0,
          0,
          0,
          0,
          0,
          0,
          0,
          0,
          0,
          0,
          0,
          0,
          0,
          0,
          0,
          0,
          0,
          0,
          0,
          0,
          0,
          0,
          0,
          0
         ]
        },
        {
         "line": {
          "color": "red"
         },
         "mode": "lines",
         "name": "pred_beginning",
         "type": "scatter",
         "y": [
          0,
          0,
          0,
          0,
          0,
          0,
          0,
          0,
          -0.16227217018604279,
          -0.15838192403316498,
          -0.1540519893169403,
          -0.14958161115646362,
          -0.1449543535709381,
          -0.13998711109161377,
          -0.13456332683563232,
          -0.1288703978061676,
          -0.12310343235731125,
          -0.11751209199428558,
          -0.11170248687267303,
          -0.10593273490667343,
          -0.100278340280056,
          -0.09470279514789581,
          -0.08874154090881348,
          -0.08285047858953476,
          -0.07723519206047058,
          -0.07203599810600281,
          -0.06647016108036041,
          -0.06092004477977753,
          -0.054704874753952026,
          -0.04824469983577728,
          -0.04054678976535797,
          -0.033790141344070435,
          -0.027638226747512817,
          -0.021298617124557495,
          -0.014847144484519958,
          -0.008257508277893066,
          -0.002787485718727112,
          0.004656761884689331,
          0.01043836772441864,
          0.018632888793945312,
          0.020641297101974487,
          0.0232536643743515,
          0.028317779302597046,
          0.03609903156757355,
          0.03814072906970978,
          0.03699760138988495,
          0.03753755986690521,
          0.036115288734436035,
          0.037853047251701355,
          0.034082651138305664,
          0.023595035076141357,
          0.01718693971633911,
          0.005717650055885315,
          -0.0041784197092056274,
          -0.012610435485839844,
          -0.025036737322807312,
          -0.036950692534446716,
          -0.047697246074676514,
          -0.06806030869483948,
          -0.08398118615150452,
          -0.09323939681053162,
          -0.10263068974018097,
          -0.10582427680492401,
          -0.10684800148010254,
          -0.11746978759765625,
          -0.10184302926063538,
          -0.09443984180688858,
          -0.09479556977748871,
          -0.038170844316482544,
          -0.03146998584270477,
          -0.027621328830718994,
          -0.013673067092895508,
          -0.019538432359695435,
          -0.002708911895751953,
          0.0020638704299926758,
          0.01093265414237976,
          0.02095276117324829,
          0.03251934051513672,
          0.050465017557144165,
          0.0949699878692627,
          0.12042713165283203,
          0.1439075767993927,
          0.10918334126472473,
          0.063841313123703,
          0.0216396301984787,
          0.019268065690994263,
          0.05201491713523865,
          0.06675258278846741,
          0.07692858576774597,
          0.04552289843559265,
          0.07572877407073975,
          0.040423691272735596,
          0.07119163870811462,
          0.08288735151290894,
          0.08237141370773315,
          0.02561098337173462,
          0.012139678001403809,
          -0.004582121968269348,
          -0.01883646845817566,
          0.002857610583305359,
          -0.058261945843696594,
          -0.07707777619361877,
          -0.06869405508041382,
          -0.07541634142398834,
          -0.09111402183771133,
          -0.08980245888233185,
          -0.09012599289417267,
          -0.08857709169387817,
          -0.10516771674156189,
          -0.08577784895896912,
          -0.13290110230445862,
          -0.1684889793395996,
          -0.16829878091812134,
          -0.16821938753128052,
          -0.1519342064857483,
          -0.13705387711524963,
          -0.13776475191116333,
          -0.1353425234556198,
          -0.11598917841911316,
          -0.1095866709947586,
          -0.10841616988182068,
          -0.10548169165849686,
          -0.10606710612773895,
          -0.10405793786048889,
          -0.10067200660705566,
          -0.10420715808868408,
          -0.109093077480793,
          -0.1290399432182312,
          -0.11877121776342392,
          -0.11353009194135666,
          -0.12494435906410217,
          -0.13008616864681244,
          -0.11935301125049591,
          -0.1343161165714264,
          -0.15773224830627441,
          -0.14207318425178528,
          -0.12332242727279663,
          -0.11594754457473755,
          -0.1137167438864708,
          -0.10904695093631744,
          -0.11542084813117981,
          -0.12480296939611435,
          -0.13007321953773499,
          -0.13460949063301086,
          -0.1384526491165161,
          -0.1350274682044983,
          -0.12911807000637054,
          -0.12703633308410645,
          -0.12767565250396729,
          -0.12846466898918152,
          -0.1302388310432434,
          -0.13301588594913483,
          -0.1350879669189453,
          -0.1383160799741745,
          -0.14119893312454224,
          -0.14312627911567688,
          -0.1435500979423523,
          -0.14131848514080048,
          -0.13945215940475464,
          -0.14236479997634888,
          -0.1445866823196411,
          -0.14477907121181488,
          -0.14272338151931763,
          -0.13910922408103943,
          -0.13513992726802826,
          -0.13475631177425385,
          -0.13301512598991394,
          -0.13176192343235016,
          -0.132222980260849,
          -0.13301226496696472,
          -0.13378919661045074,
          -0.13270515203475952,
          -0.1307368278503418,
          -0.12807190418243408,
          -0.12651410698890686,
          -0.12372472882270813,
          -0.12072055786848068,
          -0.11801827698945999,
          -0.1146552562713623,
          -0.11191323399543762,
          -0.10830914974212646,
          -0.10411263257265091,
          -0.10321368277072906,
          -0.10657663643360138,
          -0.10734092444181442,
          -0.10789290070533752,
          -0.10006840527057648,
          -0.054987043142318726,
          -0.05842439830303192,
          -0.1149139404296875,
          -0.10796952247619629,
          -0.10348381102085114,
          -0.10514306277036667,
          -0.1179729700088501,
          -0.11467085778713226,
          -0.11649318039417267,
          -0.1243681013584137,
          -0.0969480350613594,
          -0.07760044932365417,
          -0.07283014059066772,
          -0.08212712407112122,
          -0.052337646484375,
          -0.04310731589794159,
          -0.03144697844982147,
          -0.026089906692504883,
          -0.026932045817375183,
          -0.019171684980392456,
          -0.01738893985748291,
          -0.018674910068511963,
          -0.006494954228401184,
          -0.010354757308959961,
          -0.01539844274520874,
          -0.017058342695236206,
          -0.015012502670288086,
          0.0029820799827575684,
          0.017905935645103455,
          0.013121485710144043,
          0.013257831335067749,
          0.012277007102966309,
          0.026779532432556152,
          0.027262181043624878,
          0.019268319010734558,
          0.012775927782058716,
          0.0031061172485351562,
          0.0003828108310699463,
          -0.00024734437465667725,
          0.0095500648021698,
          -0.0023965537548065186,
          -0.01223859190940857,
          -0.017048954963684082,
          -0.022105097770690918,
          -0.024735748767852783,
          -0.028177648782730103,
          -0.03129911422729492,
          -0.035667821764945984,
          -0.04192344844341278,
          -0.04799327254295349,
          -0.028084009885787964,
          -0.02362699806690216,
          -0.048218607902526855,
          -0.030141770839691162,
          -0.019404098391532898,
          -0.024079754948616028,
          -0.03740094602108002,
          -0.04966177046298981,
          -0.04875582456588745,
          -0.05542221665382385,
          -0.07272444665431976,
          -0.09787812829017639,
          -0.11216963827610016,
          -0.11999927461147308,
          -0.11910103261470795,
          -0.12372462451457977,
          -0.12013983726501465,
          -0.13301745057106018,
          -0.13911759853363037,
          -0.14442512392997742,
          -0.13278597593307495,
          -0.1262105107307434,
          -0.13796037435531616,
          -0.1390371322631836,
          -0.13591545820236206,
          -0.13728895783424377,
          -0.14282813668251038,
          -0.14681532979011536,
          -0.14966824650764465,
          -0.161107137799263,
          -0.17049111425876617,
          -0.1708654761314392,
          -0.17209477722644806,
          -0.17532992362976074,
          -0.17550614476203918,
          -0.20301195979118347,
          -0.1963854730129242,
          -0.19373072683811188,
          -0.19303929805755615,
          -0.1927707940340042,
          -0.19015958905220032,
          -0.1916113942861557,
          -0.1891283094882965,
          -0.19632132351398468,
          -0.20187708735466003,
          -0.1973530352115631,
          -0.18914420902729034,
          -0.1801944524049759,
          -0.1736680269241333,
          -0.1694236546754837,
          -0.16513338685035706,
          -0.16071105003356934,
          -0.15608055889606476,
          -0.15063096582889557,
          -0.14522521197795868,
          -0.14041143655776978,
          -0.1349840760231018,
          -0.12984582781791687,
          -0.12502652406692505,
          -0.12101065367460251,
          -0.11629262566566467,
          -0.1117745041847229,
          -0.10493642836809158,
          -0.09801755845546722,
          -0.09066078066825867,
          -0.08168814331293106,
          -0.07565340399742126,
          -0.06939694285392761,
          -0.06306380033493042,
          -0.05790293216705322,
          -0.05176237225532532,
          -0.04535885155200958,
          -0.039041757583618164,
          -0.03279760479927063,
          -0.02584715187549591,
          -0.019694432616233826,
          -0.012785568833351135,
          -0.0060749351978302,
          0.0005927532911300659,
          0.004586264491081238,
          0.008590012788772583,
          0.01215323805809021,
          0.014449894428253174,
          0.01699194312095642,
          0.020718500018119812,
          0.02371060848236084,
          0.026937544345855713,
          0.03050614893436432,
          0.04742458462715149,
          0.07866331934928894,
          0.10597947239875793,
          0.13240858912467957,
          0.14650407433509827,
          0.14101427793502808,
          0.14973536133766174,
          0.16512253880500793,
          0.1723000705242157,
          0.1762101650238037,
          0.16261249780654907,
          0.19700071215629578,
          0.184602290391922,
          0.18854784965515137,
          0.18465858697891235,
          0.19270622730255127,
          0.19137781858444214,
          0.18699991703033447,
          0.1828574240207672,
          0.17934450507164001,
          0.1758888065814972,
          0.17277395725250244,
          0.1702372133731842,
          0.16693302989006042,
          0.16337800025939941,
          0.15939933061599731,
          0.15620946884155273,
          0.15157926082611084,
          0.1471841037273407,
          0.14306145906448364,
          0.13774865865707397,
          0.1322464942932129,
          0.12671110033988953,
          0.12209257483482361,
          0.11875545978546143,
          0.11646521091461182,
          0.11508822441101074,
          0.11425772309303284,
          0.11415496468544006,
          0.11482629179954529,
          0.11538830399513245,
          0.11621224880218506,
          0.1168946623802185,
          0.11706489324569702,
          0.11790940165519714,
          0.11964485049247742,
          0.1221388578414917,
          0.12628239393234253,
          0.13158634305000305,
          0.1377418339252472,
          0.14394214749336243,
          0.1502709686756134,
          0.1566619575023651,
          0.16303971409797668,
          0.16661328077316284,
          0.16579505801200867,
          0.1608552634716034,
          0.14823636412620544,
          0.12969303131103516,
          0.11011877655982971,
          0.10304012894630432,
          0.10556355118751526,
          0.11936110258102417,
          0.119352787733078,
          0.09626469016075134,
          0.07331016659736633,
          0.05696341395378113,
          0.024948343634605408,
          -0.0037523210048675537,
          -0.0447116494178772,
          -0.08499815315008163,
          -0.12414354085922241,
          -0.15245598554611206,
          -0.1634943038225174,
          -0.16590943932533264,
          -0.16609759628772736,
          -0.16848081350326538,
          -0.16982783377170563,
          -0.16714930534362793,
          -0.15951842069625854,
          -0.145521342754364,
          -0.13157005608081818,
          -0.11685448884963989,
          -0.09910871088504791,
          -0.07955537736415863,
          -0.06418222188949585,
          -0.044274747371673584,
          -0.018746256828308105,
          0.0014501512050628662,
          0.012582644820213318,
          0.024406149983406067,
          0.035771191120147705,
          0.04731869697570801,
          0.05509194731712341,
          0.060547858476638794,
          0.06565609574317932,
          0.07111141085624695,
          0.08219873905181885,
          0.09229490160942078,
          0.09850606322288513,
          0.1014382541179657,
          0.10243842005729675,
          0.10205146670341492,
          0.10216882824897766,
          0.10561826825141907,
          0.10852116346359253,
          0.10930785536766052,
          0.10998588800430298,
          0.10847747325897217,
          0.10535553097724915,
          0.10118368268013,
          0.0946016013622284,
          0.08719652891159058,
          0.08015209436416626,
          0.07405686378479004,
          0.06776288151741028,
          0.060355961322784424,
          0.051938265562057495,
          0.04264158010482788,
          0.03329211473464966,
          0.023156747221946716,
          0.01651790738105774,
          0.011200666427612305,
          0.004930317401885986,
          -0.001606076955795288,
          -0.007121950387954712,
          -0.010538652539253235,
          -0.011534139513969421,
          -0.01205134391784668,
          -0.010179698467254639,
          -0.008731633424758911,
          -0.00665968656539917,
          -0.003961890935897827,
          -0.003008320927619934,
          -0.0037473440170288086,
          -0.005157306790351868,
          -0.00626121461391449,
          -0.005365237593650818,
          -0.0054421573877334595,
          -0.006973937153816223,
          -0.0073847174644470215,
          -0.0020906180143356323,
          0.01188148558139801,
          0.02650722861289978,
          0.048070818185806274,
          0.06367954611778259,
          0.08678501844406128,
          0.13081645965576172,
          0.17419537901878357,
          0.2018965780735016,
          0.19642728567123413,
          0.1761234998703003,
          0.13686591386795044,
          0.10647442936897278,
          0.06748118996620178,
          0.058496445417404175,
          0.050797104835510254,
          0.04459267854690552,
          0.039207249879837036,
          0.02346538007259369,
          0.008816465735435486,
          -0.003477543592453003,
          -0.02199116349220276,
          -0.04007135331630707,
          -0.056329116225242615,
          -0.07172852754592896,
          -0.09127605706453323,
          -0.10729730874300003,
          -0.1158732920885086,
          -0.12737935781478882,
          -0.12898683547973633,
          -0.1361011415719986,
          -0.15091514587402344,
          -0.15388429164886475,
          -0.163177952170372,
          -0.1607084423303604,
          -0.166581392288208,
          -0.17341947555541992,
          -0.18076974153518677,
          -0.18652819097042084,
          -0.18707683682441711,
          -0.18322311341762543,
          -0.1761355996131897,
          -0.17140239477157593,
          -0.16536696255207062,
          -0.1617613434791565,
          -0.160951629281044,
          -0.16163943707942963,
          -0.16378596425056458,
          -0.16684430837631226,
          -0.17099423706531525,
          -0.17315144836902618,
          -0.1757466048002243,
          -0.17466169595718384,
          -0.17440617084503174,
          -0.1727789044380188,
          -0.1727728247642517,
          -0.15924105048179626,
          -0.14562208950519562,
          -0.13106662034988403,
          -0.11759994924068451,
          -0.09885438531637192,
          -0.08369113504886627,
          -0.07102513313293457,
          -0.053509682416915894,
          -0.04318778216838837,
          -0.03323344886302948,
          -0.026994377374649048,
          -0.015474766492843628,
          -0.005847513675689697,
          0.000640377402305603,
          0.005432024598121643,
          0.012929856777191162,
          0.021425634622573853,
          0.029454469680786133,
          0.037470489740371704,
          0.043982505798339844,
          0.048174381256103516,
          0.04861214756965637,
          0.047813743352890015,
          0.0469302237033844,
          0.045354217290878296,
          0.04215236008167267,
          0.040378063917160034,
          0.03907850384712219,
          0.03549624979496002,
          0.030591338872909546,
          0.02513653039932251,
          0.02084597945213318,
          0.014779448509216309,
          0.009098261594772339,
          0.0036267340183258057,
          -0.001390203833580017,
          -0.007144629955291748,
          -0.01376970112323761,
          -0.021401211619377136,
          -0.029581427574157715,
          -0.03736628592014313,
          -0.04489295184612274,
          -0.05065087974071503,
          -0.05582955479621887,
          -0.059873729944229126,
          -0.0634424090385437,
          -0.06557406485080719,
          -0.06478214263916016,
          -0.06311173737049103,
          -0.06088586151599884,
          -0.058165907859802246,
          -0.05313095450401306,
          -0.048132240772247314,
          -0.04310430586338043,
          -0.039690107107162476,
          -0.036032840609550476,
          -0.03221680223941803,
          -0.02820262312889099,
          -0.025793656706809998,
          -0.022982031106948853,
          -0.017458230257034302,
          -0.0077850669622421265,
          0.006240755319595337,
          0.0249747633934021,
          0.05570113658905029,
          0.07560703158378601,
          0.08833974599838257,
          0.11391660571098328,
          0.12708625197410583,
          0.13751962780952454,
          0.13935920596122742,
          0.13439443707466125,
          0.12410104274749756,
          0.09963640570640564,
          0.06063193082809448,
          0.02452029287815094,
          -0.009277507662773132,
          -0.027508988976478577,
          -0.03406861424446106,
          -0.03697428107261658,
          -0.044069916009902954,
          -0.04801720380783081,
          -0.05582726001739502,
          -0.06212015450000763,
          -0.07001549005508423,
          -0.06923994421958923,
          -0.07575836777687073,
          -0.0823155865073204,
          -0.10303213447332382,
          -0.10910318791866302,
          -0.12056417018175125,
          -0.124699667096138,
          -0.13384516537189484,
          -0.13827964663505554,
          -0.1374698132276535,
          -0.13053476810455322,
          -0.13498254120349884,
          -0.13710933923721313,
          -0.13503895699977875,
          -0.1310628056526184,
          -0.14571866393089294,
          -0.1524650752544403,
          -0.1593443751335144,
          -0.16261014342308044,
          -0.16449715197086334,
          -0.1658860445022583,
          -0.16558460891246796,
          -0.163885235786438,
          -0.16561567783355713,
          -0.16776838898658752,
          -0.17418693006038666,
          -0.18024004995822906,
          -0.18576547503471375,
          -0.1887422353029251,
          -0.1901717483997345,
          -0.18442317843437195,
          -0.17665687203407288,
          -0.16658423840999603,
          -0.1603534072637558
         ]
        }
       ],
       "layout": {
        "template": {
         "data": {
          "bar": [
           {
            "error_x": {
             "color": "#2a3f5f"
            },
            "error_y": {
             "color": "#2a3f5f"
            },
            "marker": {
             "line": {
              "color": "#E5ECF6",
              "width": 0.5
             },
             "pattern": {
              "fillmode": "overlay",
              "size": 10,
              "solidity": 0.2
             }
            },
            "type": "bar"
           }
          ],
          "barpolar": [
           {
            "marker": {
             "line": {
              "color": "#E5ECF6",
              "width": 0.5
             },
             "pattern": {
              "fillmode": "overlay",
              "size": 10,
              "solidity": 0.2
             }
            },
            "type": "barpolar"
           }
          ],
          "carpet": [
           {
            "aaxis": {
             "endlinecolor": "#2a3f5f",
             "gridcolor": "white",
             "linecolor": "white",
             "minorgridcolor": "white",
             "startlinecolor": "#2a3f5f"
            },
            "baxis": {
             "endlinecolor": "#2a3f5f",
             "gridcolor": "white",
             "linecolor": "white",
             "minorgridcolor": "white",
             "startlinecolor": "#2a3f5f"
            },
            "type": "carpet"
           }
          ],
          "choropleth": [
           {
            "colorbar": {
             "outlinewidth": 0,
             "ticks": ""
            },
            "type": "choropleth"
           }
          ],
          "contour": [
           {
            "colorbar": {
             "outlinewidth": 0,
             "ticks": ""
            },
            "colorscale": [
             [
              0,
              "#0d0887"
             ],
             [
              0.1111111111111111,
              "#46039f"
             ],
             [
              0.2222222222222222,
              "#7201a8"
             ],
             [
              0.3333333333333333,
              "#9c179e"
             ],
             [
              0.4444444444444444,
              "#bd3786"
             ],
             [
              0.5555555555555556,
              "#d8576b"
             ],
             [
              0.6666666666666666,
              "#ed7953"
             ],
             [
              0.7777777777777778,
              "#fb9f3a"
             ],
             [
              0.8888888888888888,
              "#fdca26"
             ],
             [
              1,
              "#f0f921"
             ]
            ],
            "type": "contour"
           }
          ],
          "contourcarpet": [
           {
            "colorbar": {
             "outlinewidth": 0,
             "ticks": ""
            },
            "type": "contourcarpet"
           }
          ],
          "heatmap": [
           {
            "colorbar": {
             "outlinewidth": 0,
             "ticks": ""
            },
            "colorscale": [
             [
              0,
              "#0d0887"
             ],
             [
              0.1111111111111111,
              "#46039f"
             ],
             [
              0.2222222222222222,
              "#7201a8"
             ],
             [
              0.3333333333333333,
              "#9c179e"
             ],
             [
              0.4444444444444444,
              "#bd3786"
             ],
             [
              0.5555555555555556,
              "#d8576b"
             ],
             [
              0.6666666666666666,
              "#ed7953"
             ],
             [
              0.7777777777777778,
              "#fb9f3a"
             ],
             [
              0.8888888888888888,
              "#fdca26"
             ],
             [
              1,
              "#f0f921"
             ]
            ],
            "type": "heatmap"
           }
          ],
          "heatmapgl": [
           {
            "colorbar": {
             "outlinewidth": 0,
             "ticks": ""
            },
            "colorscale": [
             [
              0,
              "#0d0887"
             ],
             [
              0.1111111111111111,
              "#46039f"
             ],
             [
              0.2222222222222222,
              "#7201a8"
             ],
             [
              0.3333333333333333,
              "#9c179e"
             ],
             [
              0.4444444444444444,
              "#bd3786"
             ],
             [
              0.5555555555555556,
              "#d8576b"
             ],
             [
              0.6666666666666666,
              "#ed7953"
             ],
             [
              0.7777777777777778,
              "#fb9f3a"
             ],
             [
              0.8888888888888888,
              "#fdca26"
             ],
             [
              1,
              "#f0f921"
             ]
            ],
            "type": "heatmapgl"
           }
          ],
          "histogram": [
           {
            "marker": {
             "pattern": {
              "fillmode": "overlay",
              "size": 10,
              "solidity": 0.2
             }
            },
            "type": "histogram"
           }
          ],
          "histogram2d": [
           {
            "colorbar": {
             "outlinewidth": 0,
             "ticks": ""
            },
            "colorscale": [
             [
              0,
              "#0d0887"
             ],
             [
              0.1111111111111111,
              "#46039f"
             ],
             [
              0.2222222222222222,
              "#7201a8"
             ],
             [
              0.3333333333333333,
              "#9c179e"
             ],
             [
              0.4444444444444444,
              "#bd3786"
             ],
             [
              0.5555555555555556,
              "#d8576b"
             ],
             [
              0.6666666666666666,
              "#ed7953"
             ],
             [
              0.7777777777777778,
              "#fb9f3a"
             ],
             [
              0.8888888888888888,
              "#fdca26"
             ],
             [
              1,
              "#f0f921"
             ]
            ],
            "type": "histogram2d"
           }
          ],
          "histogram2dcontour": [
           {
            "colorbar": {
             "outlinewidth": 0,
             "ticks": ""
            },
            "colorscale": [
             [
              0,
              "#0d0887"
             ],
             [
              0.1111111111111111,
              "#46039f"
             ],
             [
              0.2222222222222222,
              "#7201a8"
             ],
             [
              0.3333333333333333,
              "#9c179e"
             ],
             [
              0.4444444444444444,
              "#bd3786"
             ],
             [
              0.5555555555555556,
              "#d8576b"
             ],
             [
              0.6666666666666666,
              "#ed7953"
             ],
             [
              0.7777777777777778,
              "#fb9f3a"
             ],
             [
              0.8888888888888888,
              "#fdca26"
             ],
             [
              1,
              "#f0f921"
             ]
            ],
            "type": "histogram2dcontour"
           }
          ],
          "mesh3d": [
           {
            "colorbar": {
             "outlinewidth": 0,
             "ticks": ""
            },
            "type": "mesh3d"
           }
          ],
          "parcoords": [
           {
            "line": {
             "colorbar": {
              "outlinewidth": 0,
              "ticks": ""
             }
            },
            "type": "parcoords"
           }
          ],
          "pie": [
           {
            "automargin": true,
            "type": "pie"
           }
          ],
          "scatter": [
           {
            "fillpattern": {
             "fillmode": "overlay",
             "size": 10,
             "solidity": 0.2
            },
            "type": "scatter"
           }
          ],
          "scatter3d": [
           {
            "line": {
             "colorbar": {
              "outlinewidth": 0,
              "ticks": ""
             }
            },
            "marker": {
             "colorbar": {
              "outlinewidth": 0,
              "ticks": ""
             }
            },
            "type": "scatter3d"
           }
          ],
          "scattercarpet": [
           {
            "marker": {
             "colorbar": {
              "outlinewidth": 0,
              "ticks": ""
             }
            },
            "type": "scattercarpet"
           }
          ],
          "scattergeo": [
           {
            "marker": {
             "colorbar": {
              "outlinewidth": 0,
              "ticks": ""
             }
            },
            "type": "scattergeo"
           }
          ],
          "scattergl": [
           {
            "marker": {
             "colorbar": {
              "outlinewidth": 0,
              "ticks": ""
             }
            },
            "type": "scattergl"
           }
          ],
          "scattermapbox": [
           {
            "marker": {
             "colorbar": {
              "outlinewidth": 0,
              "ticks": ""
             }
            },
            "type": "scattermapbox"
           }
          ],
          "scatterpolar": [
           {
            "marker": {
             "colorbar": {
              "outlinewidth": 0,
              "ticks": ""
             }
            },
            "type": "scatterpolar"
           }
          ],
          "scatterpolargl": [
           {
            "marker": {
             "colorbar": {
              "outlinewidth": 0,
              "ticks": ""
             }
            },
            "type": "scatterpolargl"
           }
          ],
          "scatterternary": [
           {
            "marker": {
             "colorbar": {
              "outlinewidth": 0,
              "ticks": ""
             }
            },
            "type": "scatterternary"
           }
          ],
          "surface": [
           {
            "colorbar": {
             "outlinewidth": 0,
             "ticks": ""
            },
            "colorscale": [
             [
              0,
              "#0d0887"
             ],
             [
              0.1111111111111111,
              "#46039f"
             ],
             [
              0.2222222222222222,
              "#7201a8"
             ],
             [
              0.3333333333333333,
              "#9c179e"
             ],
             [
              0.4444444444444444,
              "#bd3786"
             ],
             [
              0.5555555555555556,
              "#d8576b"
             ],
             [
              0.6666666666666666,
              "#ed7953"
             ],
             [
              0.7777777777777778,
              "#fb9f3a"
             ],
             [
              0.8888888888888888,
              "#fdca26"
             ],
             [
              1,
              "#f0f921"
             ]
            ],
            "type": "surface"
           }
          ],
          "table": [
           {
            "cells": {
             "fill": {
              "color": "#EBF0F8"
             },
             "line": {
              "color": "white"
             }
            },
            "header": {
             "fill": {
              "color": "#C8D4E3"
             },
             "line": {
              "color": "white"
             }
            },
            "type": "table"
           }
          ]
         },
         "layout": {
          "annotationdefaults": {
           "arrowcolor": "#2a3f5f",
           "arrowhead": 0,
           "arrowwidth": 1
          },
          "autotypenumbers": "strict",
          "coloraxis": {
           "colorbar": {
            "outlinewidth": 0,
            "ticks": ""
           }
          },
          "colorscale": {
           "diverging": [
            [
             0,
             "#8e0152"
            ],
            [
             0.1,
             "#c51b7d"
            ],
            [
             0.2,
             "#de77ae"
            ],
            [
             0.3,
             "#f1b6da"
            ],
            [
             0.4,
             "#fde0ef"
            ],
            [
             0.5,
             "#f7f7f7"
            ],
            [
             0.6,
             "#e6f5d0"
            ],
            [
             0.7,
             "#b8e186"
            ],
            [
             0.8,
             "#7fbc41"
            ],
            [
             0.9,
             "#4d9221"
            ],
            [
             1,
             "#276419"
            ]
           ],
           "sequential": [
            [
             0,
             "#0d0887"
            ],
            [
             0.1111111111111111,
             "#46039f"
            ],
            [
             0.2222222222222222,
             "#7201a8"
            ],
            [
             0.3333333333333333,
             "#9c179e"
            ],
            [
             0.4444444444444444,
             "#bd3786"
            ],
            [
             0.5555555555555556,
             "#d8576b"
            ],
            [
             0.6666666666666666,
             "#ed7953"
            ],
            [
             0.7777777777777778,
             "#fb9f3a"
            ],
            [
             0.8888888888888888,
             "#fdca26"
            ],
            [
             1,
             "#f0f921"
            ]
           ],
           "sequentialminus": [
            [
             0,
             "#0d0887"
            ],
            [
             0.1111111111111111,
             "#46039f"
            ],
            [
             0.2222222222222222,
             "#7201a8"
            ],
            [
             0.3333333333333333,
             "#9c179e"
            ],
            [
             0.4444444444444444,
             "#bd3786"
            ],
            [
             0.5555555555555556,
             "#d8576b"
            ],
            [
             0.6666666666666666,
             "#ed7953"
            ],
            [
             0.7777777777777778,
             "#fb9f3a"
            ],
            [
             0.8888888888888888,
             "#fdca26"
            ],
            [
             1,
             "#f0f921"
            ]
           ]
          },
          "colorway": [
           "#636efa",
           "#EF553B",
           "#00cc96",
           "#ab63fa",
           "#FFA15A",
           "#19d3f3",
           "#FF6692",
           "#B6E880",
           "#FF97FF",
           "#FECB52"
          ],
          "font": {
           "color": "#2a3f5f"
          },
          "geo": {
           "bgcolor": "white",
           "lakecolor": "white",
           "landcolor": "#E5ECF6",
           "showlakes": true,
           "showland": true,
           "subunitcolor": "white"
          },
          "hoverlabel": {
           "align": "left"
          },
          "hovermode": "closest",
          "mapbox": {
           "style": "light"
          },
          "paper_bgcolor": "white",
          "plot_bgcolor": "#E5ECF6",
          "polar": {
           "angularaxis": {
            "gridcolor": "white",
            "linecolor": "white",
            "ticks": ""
           },
           "bgcolor": "#E5ECF6",
           "radialaxis": {
            "gridcolor": "white",
            "linecolor": "white",
            "ticks": ""
           }
          },
          "scene": {
           "xaxis": {
            "backgroundcolor": "#E5ECF6",
            "gridcolor": "white",
            "gridwidth": 2,
            "linecolor": "white",
            "showbackground": true,
            "ticks": "",
            "zerolinecolor": "white"
           },
           "yaxis": {
            "backgroundcolor": "#E5ECF6",
            "gridcolor": "white",
            "gridwidth": 2,
            "linecolor": "white",
            "showbackground": true,
            "ticks": "",
            "zerolinecolor": "white"
           },
           "zaxis": {
            "backgroundcolor": "#E5ECF6",
            "gridcolor": "white",
            "gridwidth": 2,
            "linecolor": "white",
            "showbackground": true,
            "ticks": "",
            "zerolinecolor": "white"
           }
          },
          "shapedefaults": {
           "line": {
            "color": "#2a3f5f"
           }
          },
          "ternary": {
           "aaxis": {
            "gridcolor": "white",
            "linecolor": "white",
            "ticks": ""
           },
           "baxis": {
            "gridcolor": "white",
            "linecolor": "white",
            "ticks": ""
           },
           "bgcolor": "#E5ECF6",
           "caxis": {
            "gridcolor": "white",
            "linecolor": "white",
            "ticks": ""
           }
          },
          "title": {
           "x": 0.05
          },
          "xaxis": {
           "automargin": true,
           "gridcolor": "white",
           "linecolor": "white",
           "ticks": "",
           "title": {
            "standoff": 15
           },
           "zerolinecolor": "white",
           "zerolinewidth": 2
          },
          "yaxis": {
           "automargin": true,
           "gridcolor": "white",
           "linecolor": "white",
           "ticks": "",
           "title": {
            "standoff": 15
           },
           "zerolinecolor": "white",
           "zerolinewidth": 2
          }
         }
        },
        "title": {
         "text": "TSMixer Prediction vs. Ground Truth"
        },
        "xaxis": {
         "title": {
          "text": "Time Step"
         }
        },
        "yaxis": {
         "title": {
          "text": "Value"
         }
        }
       }
      }
     },
     "metadata": {},
     "output_type": "display_data"
    }
   ],
   "source": [
    "# 使用模型进行对全部数据进行时序预测\n",
    "'''\n",
    "分割比例：训练集+验证集+测试集=0.7+0.2+0.1\n",
    "'''\n",
    "filepath = ('../Dataset/Simulate_Data/set_1/File_indexed.xlsx')\n",
    "df_raw = pd.read_excel(filepath)\n",
    "df = df_raw.set_index('TIME') # 以时间步为编号变量\n",
    "\n",
    "GT = np.array(df)\n",
    "# print(GT.shape)\n",
    "\n",
    "scaler = StandardScaler()\n",
    "GT_scaled = scaler.fit_transform(GT)\n",
    "\n",
    "pred_scaled = None\n",
    "for start in range(0, GT_scaled.shape[0] - seq_len):\n",
    "    input = torch.from_numpy(GT_scaled[start:start+seq_len].astype(np.float32)).to(device)\n",
    "    input = input.unsqueeze(0)\n",
    "    output = model(input)\n",
    "    output = output.to('cpu').detach().numpy()[0]\n",
    "    # print(pred_results.shape)\n",
    "    if start == 0:\n",
    "        pred_scaled = np.vstack((GT_scaled[:seq_len], output[0, :]))\n",
    "        # print(test_X_pred.shape)\n",
    "    else:\n",
    "        pred_scaled = np.vstack((pred_scaled, output[0, :]))\n",
    "    # break\n",
    "# print(pred.shape)\n",
    "        \n",
    "# 以训练集的均值和方差还原为原始量纲\n",
    "pred = scaler.inverse_transform(pred_scaled)\n",
    "\n",
    "import plotly.graph_objects as go\n",
    "\n",
    "# 交互式可视化\n",
    "for idx in range(len(cols_to_plot)):\n",
    "    fig = go.Figure()\n",
    "    # fig.add_trace(go.Scatter(y=test_X_origin[:decay_steps+pred_steps, idx], mode='lines', name = 'GT', line = dict(color='blue')))\n",
    "    fig.add_trace(go.Scatter(y=GT[:, idx], mode='lines', name = 'GT', line = dict(color='blue')))\n",
    "    fig.add_trace(go.Scatter(y=pred[:, idx], mode='lines', name = 'pred_beginning', line = dict(color='red')))\n",
    "    fig.update_layout(\n",
    "        title=f'TSMixer Prediction vs. Ground Truth',\n",
    "        xaxis_title='Time Step',\n",
    "        yaxis_title='Value'\n",
    "    )\n",
    "    fig.show()"
   ]
  }
 ],
 "metadata": {
  "kernelspec": {
   "display_name": "tf2-gpu",
   "language": "python",
   "name": "python3"
  },
  "language_info": {
   "codemirror_mode": {
    "name": "ipython",
    "version": 3
   },
   "file_extension": ".py",
   "mimetype": "text/x-python",
   "name": "python",
   "nbconvert_exporter": "python",
   "pygments_lexer": "ipython3",
   "version": "3.8.18"
  }
 },
 "nbformat": 4,
 "nbformat_minor": 2
}
