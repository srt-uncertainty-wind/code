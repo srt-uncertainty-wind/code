{
 "cells": [
  {
   "cell_type": "code",
   "execution_count": 1,
   "metadata": {},
   "outputs": [
    {
     "name": "stdout",
     "output_type": "stream",
     "text": [
      "cuda\n"
     ]
    },
    {
     "name": "stderr",
     "output_type": "stream",
     "text": [
      "d:\\coding\\Anaconda\\Software\\envs\\pytorch38\\lib\\site-packages\\torch\\__init__.py:614: UserWarning: torch.set_default_tensor_type() is deprecated as of PyTorch 2.1, please use torch.set_default_dtype() and torch.set_default_device() as alternatives. (Triggered internally at C:\\cb\\pytorch_1000000000000\\work\\torch\\csrc\\tensor\\python_tensor.cpp:453.)\n",
      "  _C._set_default_tensor_type(t)\n"
     ]
    }
   ],
   "source": [
    "'''\n",
    "Revised base on https://zhuanlan.zhihu.com/p/667766822\n",
    "'''\n",
    "\n",
    "# 创建DataLoader进行数据集转换\n",
    "import pandas as pd\n",
    "import numpy as np\n",
    "import matplotlib.pyplot as plt\n",
    "import torch\n",
    "from torch.utils.data import TensorDataset, DataLoader\n",
    "from sklearn.preprocessing import StandardScaler\n",
    "\n",
    "device = 'cpu'\n",
    "if torch.cuda.is_available():\n",
    "    torch.set_default_tensor_type(torch.cuda.FloatTensor)\n",
    "    device = 'cuda'\n",
    "print(device)\n",
    "\n",
    "class DataCreator:\n",
    "    def __init__(self, batch_size, seq_len, pred_len):\n",
    "        self.batch_size = batch_size\n",
    "        self.seq_len = seq_len\n",
    "        self.pred_len = pred_len\n",
    "        self.target_slice = slice(0, None)\n",
    "\n",
    "        self._read_data()\n",
    "\n",
    "    # 读取数据\n",
    "    def _read_data(self):\n",
    "        '''\n",
    "        扩展数据以缩短模型的训练时间至关重要；\n",
    "        将缩放器安装在训练集上只是为了避免验证和测试集中的数据泄漏\n",
    "        '''\n",
    "\n",
    "        filepath = ('../Dataset/Simulate_Data/set_1/File_indexed.xlsx')\n",
    "\n",
    "        df_raw = pd.read_excel(filepath)\n",
    "        df = df_raw.set_index('TIME') # 以时间步为编号变量\n",
    "\n",
    "        # split train/valid/test，以0.7/0.2/0.1的比例分割原数据集\n",
    "        n = len(df)\n",
    "        train_end = int(n * 0.7)\n",
    "        val_end = n - int(n * 0.1)\n",
    "        test_end = n\n",
    "\n",
    "        train_df = df.iloc[:train_end]\n",
    "        val_df = df.iloc[train_end - self.seq_len : val_end]\n",
    "        test_df = df.iloc[val_end - self.seq_len : test_end]\n",
    "\n",
    "        # standardize by training set\n",
    "        self.scaler = StandardScaler()\n",
    "        self.scaler.fit(train_df.values)\n",
    "\n",
    "        def scale_df(df, scaler):\n",
    "            data = scaler.transform(df.values)\n",
    "            return pd.DataFrame(data, index=df.index, columns=df.columns)\n",
    "\n",
    "        self.train_df = scale_df(train_df, self.scaler)\n",
    "        self.val_df = scale_df(val_df, self.scaler)\n",
    "        self.test_df = scale_df(test_df, self.scaler)\n",
    "        self.n_feature = self.train_df.shape[-1]\n",
    "\n",
    "    # 将数据窗口分割为输入和标签\n",
    "    def _split_window(self, data):\n",
    "        inputs = data[:, : self.seq_len, :]\n",
    "        labels = data[:, self.seq_len :, self.target_slice]\n",
    "\n",
    "        # inputs.set_shape([None, self.seq_len, None])\n",
    "        # labels.set_shape([None, self.pred_len, None])\n",
    "        return inputs, labels\n",
    "\n",
    "    # 将数据重组为[num of samples, seq_len, input_size]的形式\n",
    "    def _make_dataset(self, data, shuffle=True):\n",
    "        data = np.array(data, dtype=np.float32) # 此时的data还是[total time length, input_size]的形式\n",
    "\n",
    "        # # tensorflow 版本\n",
    "        # ds = tf.keras.utils.timeseries_dataset_from_array(\n",
    "        #     data=data,\n",
    "        #     targets=None,\n",
    "        #     sequence_length=(self.seq_len + self.pred_len),\n",
    "        #     sequence_stride=1,\n",
    "        #     shuffle=shuffle,\n",
    "        #     batch_size=self.batch_size,\n",
    "        # )\n",
    "        # ds = ds.map(self._split_window)\n",
    "\n",
    "        # pytorch 版本\n",
    "        sample_size = data.shape[0] // (self.seq_len + self.pred_len)\n",
    "        data = data[: sample_size * (self.seq_len + self.pred_len)]\n",
    "        data = data.reshape(sample_size, self.seq_len + self.pred_len, self.n_feature)\n",
    "        inputs, labels = self._split_window(data)\n",
    "        inputs_tensor = torch.tensor(inputs, dtype=torch.float32).to(device)\n",
    "        labels_tensor = torch.tensor(labels, dtype=torch.float32).to(device)\n",
    "        # 创建一个 TensorDataset\n",
    "        inputs_dataset = TensorDataset(inputs_tensor)\n",
    "        labels_dataset = TensorDataset(labels_tensor)\n",
    "        # 创建一个 DataLoader\n",
    "        inputs_loader = DataLoader(inputs_dataset, batch_size=self.batch_size, shuffle=shuffle, generator=torch.Generator(device=device))\n",
    "        labels_loader = DataLoader(labels_dataset, batch_size=self.batch_size, shuffle=shuffle, generator=torch.Generator(device=device))\n",
    "\n",
    "        return inputs_loader, labels_loader\n",
    "\n",
    "    # DataLoader通过对预测进行逆变换，生成训练集、验证集和测试集\n",
    "    def inverse_transform(self, data):\n",
    "        return self.scaler.inverse_transform(data)\n",
    "\n",
    "    def get_train(self, shuffle=True):\n",
    "        # 在训练集中打乱顺序进行训练\n",
    "        return self._make_dataset(self.train_df, shuffle=shuffle)\n",
    "\n",
    "    def get_val(self):\n",
    "        return self._make_dataset(self.val_df, shuffle=False)\n",
    "\n",
    "    def get_test(self):\n",
    "        return self._make_dataset(self.test_df, shuffle=False)\n"
   ]
  },
  {
   "cell_type": "code",
   "execution_count": 6,
   "metadata": {},
   "outputs": [],
   "source": [
    "# 构建TSMixer网络, tensorflow版本\n",
    "\n",
    "# from tensorflow.keras import layers\n",
    "import torch.nn as nn\n",
    "import torch.optim as optim\n",
    "import torch.nn.functional as F\n",
    "\n",
    "def res_block(inputs, norm_type, activation, dropout, ff_dim):\n",
    "    '''\n",
    "    定义残差模块\n",
    "    '''\n",
    "    # norm = layers.BatchNormalization\n",
    "\n",
    "    batch_norm = nn.BatchNorm1d(num_features)\n",
    "\n",
    "    # Time mixing\n",
    "    '''\n",
    "    混合器层，它包括：\n",
    "        批量归一化\n",
    "        转置矩阵\n",
    "        通过 ReLu 激活馈送到全连接层\n",
    "        再次转置\n",
    "        漏失层\n",
    "        并在最后添加残差\n",
    "    '''\n",
    "    x = norm(axis=[-2, -1])(inputs)\n",
    "    x = tf.transpose(x, perm=[0, 2, 1])  # [Batch, Channel, Input Length]\n",
    "    x = layers.Dense(x.shape[-1], activation='relu')(x)\n",
    "    x = tf.transpose(x, perm=[0, 2, 1])  # [Batch, Input Length, Channel]\n",
    "    x = layers.Dropout(dropout)(x)\n",
    "    res = x + inputs\n",
    "\n",
    "    # Feature mixing\n",
    "    '''\n",
    "    特征混合部分，其中：\n",
    "        批量归一化\n",
    "        致密层\n",
    "        一个dropout层\n",
    "        另一个致密层\n",
    "        另一个dropout层\n",
    "        并添加残差以进行残差连接\n",
    "    '''\n",
    "    x = norm(axis=[-2, -1])(res)\n",
    "    x = layers.Dense(ff_dim, activation='relu')(x)  # [Batch, Input Length, FF_Dim]\n",
    "    x = layers.Dropout(0.7)(x)\n",
    "    x = layers.Dense(inputs.shape[-1])(x)  # [Batch, Input Length, Channel]\n",
    "    x = layers.Dropout(0.7)(x)\n",
    "    return x + res\n",
    "\n",
    "def build_model(\n",
    "    input_shape,\n",
    "    pred_len,\n",
    "    n_block,\n",
    "    ff_dim,\n",
    "    target_slice,\n",
    "):\n",
    "\n",
    "    inputs = tf.keras.Input(shape=input_shape)\n",
    "    x = inputs  # [Batch, Input Length, Channel]\n",
    "    for _ in range(n_block):\n",
    "        x = res_block(x, norm_type, activation, dropout, ff_dim)\n",
    "\n",
    "    if target_slice:\n",
    "        x = x[:, :, target_slice]\n",
    "\n",
    "  # Temporal projection\n",
    "    '''\n",
    "    时间投影步骤：\n",
    "        转置\n",
    "        穿过致密层\n",
    "        最终转置\n",
    "    '''\n",
    "    x = tf.transpose(x, perm=[0, 2, 1])  # [Batch, Channel, Input Length]\n",
    "    x = layers.Dense(pred_len)(x)  # [Batch, Channel, Output Length]\n",
    "    outputs = tf.transpose(x, perm=[0, 2, 1])  # [Batch, Output Length, Channel])\n",
    "\n",
    "    return tf.keras.Model(inputs, outputs)"
   ]
  },
  {
   "cell_type": "code",
   "execution_count": 2,
   "metadata": {},
   "outputs": [],
   "source": [
    "# 构建TSMixer网络, pytorch版本\n",
    "\n",
    "# from tensorflow.keras import layers\n",
    "import torch.nn as nn\n",
    "import torch.optim as optim\n",
    "import torch.nn.functional as F\n",
    "\n",
    "class TSMixer(nn.Module):\n",
    "    def __init__(self, input_size, seq_len, pred_len, n_block, ff_dim, dropout_proba=0.2):\n",
    "        super().__init__()\n",
    "        # 定义归一化模块\n",
    "        self.norm = nn.LayerNorm(input_size)\n",
    "        # 定义残差块数量\n",
    "        self.n_block = n_block\n",
    "        # 定义致密层\n",
    "        self.dense_in = nn.Linear(seq_len, seq_len)\n",
    "        self.dense_out = nn.Linear(seq_len, pred_len)\n",
    "        self.dense_ff_in = nn.Linear(input_size, ff_dim)\n",
    "        self.dense_ff_out = nn.Linear(ff_dim, input_size)\n",
    "        # 定义激活函数\n",
    "        self.activate = nn.ReLU()\n",
    "        # 定义dropout模块\n",
    "        self.dropout = nn.Dropout(p=dropout_proba)\n",
    "\n",
    "    def res_block(self, inputs):\n",
    "        '''\n",
    "        定义残差模块\n",
    "        '''\n",
    "        # Time mixing\n",
    "        '''\n",
    "        混合器层，它包括：\n",
    "            批量归一化\n",
    "            转置矩阵\n",
    "            通过 ReLu 激活馈送到全连接层\n",
    "            再次转置\n",
    "            漏失层\n",
    "            并在最后添加残差\n",
    "        '''\n",
    "        x = self.norm(inputs)\n",
    "        x = x.permute(0, 2, 1)  # [Batch, Channel, Input Length]\n",
    "        # print(x.size())\n",
    "        x = self.dense_in(x)\n",
    "        # print(x.size())\n",
    "        x = self.activate(x)\n",
    "        x = x.permute(0, 2, 1)  # [Batch, Input Length, Channel]\n",
    "        x = self.dropout(x)\n",
    "        res = x + inputs\n",
    "\n",
    "        # Feature mixing\n",
    "        '''\n",
    "        特征混合部分，其中：\n",
    "            批量归一化\n",
    "            致密层\n",
    "            一个dropout层\n",
    "            另一个致密层\n",
    "            另一个dropout层\n",
    "            并添加残差以进行残差连接\n",
    "        '''\n",
    "        x = self.norm(res)\n",
    "        # print(x.size())\n",
    "        x = self.dense_ff_in(x)\n",
    "        x = self.activate(x)\n",
    "        x = self.dropout(x)\n",
    "        x = self.dense_ff_out(x)\n",
    "        x = self.dropout(x)\n",
    "        return x + res\n",
    "\n",
    "    def forward(self, x):\n",
    "        # 输入时：[Batch, Input Length, Channel]\n",
    "        for _ in range(self.n_block):\n",
    "            x = self.res_block(x)\n",
    "\n",
    "        # Temporal projection\n",
    "        '''\n",
    "        时间投影步骤：\n",
    "            转置\n",
    "            穿过致密层\n",
    "            最终转置\n",
    "        '''\n",
    "        x = x.permute(0, 2, 1)  # [Batch, Channel, Input Length]\n",
    "        x = self.dense_out(x)  # [Batch, Channel, Output Length]\n",
    "        x = x.permute(0, 2, 1)  # [Batch, Output Length, Channel])\n",
    "\n",
    "        return x"
   ]
  },
  {
   "cell_type": "code",
   "execution_count": 20,
   "metadata": {},
   "outputs": [
    {
     "name": "stdout",
     "output_type": "stream",
     "text": [
      "Epoch [1/2000], Loss: 5.2209\n",
      "Epoch [2/2000], Loss: 5.1484\n",
      "Epoch [3/2000], Loss: 4.9432\n",
      "Epoch [4/2000], Loss: 4.4829\n",
      "Epoch [5/2000], Loss: 4.1607\n",
      "Epoch [6/2000], Loss: 4.0328\n",
      "Epoch [7/2000], Loss: 3.6479\n",
      "Epoch [8/2000], Loss: 3.4480\n",
      "Epoch [9/2000], Loss: 3.3194\n",
      "Epoch [10/2000], Loss: 3.1386\n",
      "Epoch [11/2000], Loss: 2.9353\n",
      "Epoch [12/2000], Loss: 2.8098\n",
      "Epoch [13/2000], Loss: 2.5312\n",
      "Epoch [14/2000], Loss: 2.5444\n",
      "Epoch [15/2000], Loss: 2.3989\n",
      "Epoch [16/2000], Loss: 2.3110\n",
      "Epoch [17/2000], Loss: 2.2425\n",
      "Epoch [18/2000], Loss: 2.0717\n",
      "Epoch [19/2000], Loss: 2.0036\n",
      "Epoch [20/2000], Loss: 1.8976\n",
      "Epoch [21/2000], Loss: 1.8668\n",
      "Epoch [22/2000], Loss: 1.9345\n",
      "Epoch [23/2000], Loss: 1.7631\n",
      "Epoch [24/2000], Loss: 1.7822\n",
      "Epoch [25/2000], Loss: 1.6712\n",
      "Epoch [26/2000], Loss: 1.6875\n",
      "Epoch [27/2000], Loss: 1.5913\n",
      "Epoch [28/2000], Loss: 1.5638\n",
      "Epoch [29/2000], Loss: 1.5860\n",
      "Epoch [30/2000], Loss: 1.5166\n",
      "Epoch [31/2000], Loss: 1.4434\n",
      "Epoch [32/2000], Loss: 1.4594\n",
      "Epoch [33/2000], Loss: 1.4500\n",
      "Epoch [34/2000], Loss: 1.4561\n",
      "Epoch [35/2000], Loss: 1.4103\n",
      "Epoch [36/2000], Loss: 1.3185\n",
      "Epoch [37/2000], Loss: 1.3144\n",
      "Epoch [38/2000], Loss: 1.3102\n",
      "Epoch [39/2000], Loss: 1.3146\n",
      "Epoch [40/2000], Loss: 1.2868\n",
      "Epoch [41/2000], Loss: 1.2332\n",
      "Epoch [42/2000], Loss: 1.2452\n",
      "Epoch [43/2000], Loss: 1.2027\n",
      "Epoch [44/2000], Loss: 1.2004\n",
      "Epoch [45/2000], Loss: 1.1588\n",
      "Epoch [46/2000], Loss: 1.1897\n",
      "Epoch [47/2000], Loss: 1.1547\n",
      "Epoch [48/2000], Loss: 1.1296\n",
      "Epoch [49/2000], Loss: 1.1802\n",
      "Epoch [50/2000], Loss: 1.1520\n",
      "Epoch [51/2000], Loss: 1.0980\n",
      "Epoch [52/2000], Loss: 1.1046\n",
      "Epoch [53/2000], Loss: 1.0929\n",
      "Epoch [54/2000], Loss: 1.0745\n",
      "Epoch [55/2000], Loss: 1.0385\n",
      "Epoch [56/2000], Loss: 1.0908\n",
      "Epoch [57/2000], Loss: 1.0779\n",
      "Epoch [58/2000], Loss: 1.0662\n",
      "Epoch [59/2000], Loss: 1.0394\n",
      "Epoch [60/2000], Loss: 1.0638\n",
      "Epoch [61/2000], Loss: 1.0273\n",
      "Epoch [62/2000], Loss: 1.0157\n",
      "Epoch [63/2000], Loss: 1.0196\n",
      "Epoch [64/2000], Loss: 0.9988\n",
      "Epoch [65/2000], Loss: 1.0025\n",
      "Epoch [66/2000], Loss: 1.0175\n",
      "Epoch [67/2000], Loss: 1.0035\n",
      "Epoch [68/2000], Loss: 0.9931\n",
      "Epoch [69/2000], Loss: 0.9755\n",
      "Epoch [70/2000], Loss: 1.0041\n",
      "Epoch [71/2000], Loss: 0.9729\n",
      "Epoch [72/2000], Loss: 0.9775\n",
      "Epoch [73/2000], Loss: 0.9735\n",
      "Epoch [74/2000], Loss: 0.9223\n",
      "Epoch [75/2000], Loss: 0.9624\n",
      "Epoch [76/2000], Loss: 0.9195\n",
      "Epoch [77/2000], Loss: 0.9153\n",
      "Epoch [78/2000], Loss: 0.9124\n",
      "Epoch [79/2000], Loss: 0.9427\n",
      "Epoch [80/2000], Loss: 0.8954\n",
      "Epoch [81/2000], Loss: 0.8897\n",
      "Epoch [82/2000], Loss: 0.9121\n",
      "Epoch [83/2000], Loss: 0.9125\n",
      "Epoch [84/2000], Loss: 0.9218\n",
      "Epoch [85/2000], Loss: 0.8671\n",
      "Epoch [86/2000], Loss: 0.8798\n",
      "Epoch [87/2000], Loss: 0.8881\n",
      "Epoch [88/2000], Loss: 0.8727\n",
      "Epoch [89/2000], Loss: 0.8799\n",
      "Epoch [90/2000], Loss: 0.8707\n",
      "Epoch [91/2000], Loss: 0.8718\n",
      "Epoch [92/2000], Loss: 0.8709\n",
      "Epoch [93/2000], Loss: 0.8560\n",
      "Epoch [94/2000], Loss: 0.8905\n",
      "Epoch [95/2000], Loss: 0.8708\n",
      "Epoch [96/2000], Loss: 0.8327\n",
      "Epoch [97/2000], Loss: 0.8457\n",
      "Epoch [98/2000], Loss: 0.8214\n",
      "Epoch [99/2000], Loss: 0.8466\n",
      "Epoch [100/2000], Loss: 0.8291\n",
      "Epoch [101/2000], Loss: 0.8064\n",
      "Epoch [102/2000], Loss: 0.8011\n",
      "Epoch [103/2000], Loss: 0.8129\n",
      "Epoch [104/2000], Loss: 0.8199\n",
      "Epoch [105/2000], Loss: 0.8011\n",
      "Epoch [106/2000], Loss: 0.7902\n",
      "Epoch [107/2000], Loss: 0.7802\n",
      "Epoch [108/2000], Loss: 0.8032\n",
      "Epoch [109/2000], Loss: 0.8118\n",
      "Epoch [110/2000], Loss: 0.7922\n",
      "Epoch [111/2000], Loss: 0.7766\n",
      "Epoch [112/2000], Loss: 0.7998\n",
      "Epoch [113/2000], Loss: 0.7820\n",
      "Epoch [114/2000], Loss: 0.7753\n",
      "Epoch [115/2000], Loss: 0.7684\n",
      "Epoch [116/2000], Loss: 0.7814\n",
      "Epoch [117/2000], Loss: 0.7697\n",
      "Epoch [118/2000], Loss: 0.7682\n",
      "Epoch [119/2000], Loss: 0.7672\n",
      "Epoch [120/2000], Loss: 0.7677\n",
      "Epoch [121/2000], Loss: 0.7454\n",
      "Epoch [122/2000], Loss: 0.7174\n",
      "Epoch [123/2000], Loss: 0.7558\n",
      "Epoch [124/2000], Loss: 0.7126\n",
      "Epoch [125/2000], Loss: 0.7347\n",
      "Epoch [126/2000], Loss: 0.7069\n",
      "Epoch [127/2000], Loss: 0.7362\n",
      "Epoch [128/2000], Loss: 0.7225\n",
      "Epoch [129/2000], Loss: 0.7136\n",
      "Epoch [130/2000], Loss: 0.6903\n",
      "Epoch [131/2000], Loss: 0.7012\n",
      "Epoch [132/2000], Loss: 0.7214\n",
      "Epoch [133/2000], Loss: 0.6644\n",
      "Epoch [134/2000], Loss: 0.6830\n",
      "Epoch [135/2000], Loss: 0.7017\n",
      "Epoch [136/2000], Loss: 0.6854\n",
      "Epoch [137/2000], Loss: 0.6990\n",
      "Epoch [138/2000], Loss: 0.6565\n",
      "Epoch [139/2000], Loss: 0.6793\n",
      "Epoch [140/2000], Loss: 0.6481\n",
      "Epoch [141/2000], Loss: 0.6835\n",
      "Epoch [142/2000], Loss: 0.6756\n",
      "Epoch [143/2000], Loss: 0.6470\n",
      "Epoch [144/2000], Loss: 0.6259\n",
      "Epoch [145/2000], Loss: 0.6403\n",
      "Epoch [146/2000], Loss: 0.6209\n",
      "Epoch [147/2000], Loss: 0.6253\n",
      "Epoch [148/2000], Loss: 0.6082\n",
      "Epoch [149/2000], Loss: 0.6314\n",
      "Epoch [150/2000], Loss: 0.6137\n",
      "Epoch [151/2000], Loss: 0.6003\n",
      "Epoch [152/2000], Loss: 0.6140\n",
      "Epoch [153/2000], Loss: 0.6073\n",
      "Epoch [154/2000], Loss: 0.5822\n",
      "Epoch [155/2000], Loss: 0.5898\n",
      "Epoch [156/2000], Loss: 0.5903\n",
      "Epoch [157/2000], Loss: 0.5717\n",
      "Epoch [158/2000], Loss: 0.6122\n",
      "Epoch [159/2000], Loss: 0.5609\n",
      "Epoch [160/2000], Loss: 0.5969\n",
      "Epoch [161/2000], Loss: 0.5969\n",
      "Epoch [162/2000], Loss: 0.5694\n",
      "Epoch [163/2000], Loss: 0.5669\n",
      "Epoch [164/2000], Loss: 0.5517\n",
      "Epoch [165/2000], Loss: 0.5619\n",
      "Epoch [166/2000], Loss: 0.5598\n",
      "Epoch [167/2000], Loss: 0.5730\n",
      "Epoch [168/2000], Loss: 0.5400\n",
      "Epoch [169/2000], Loss: 0.5287\n",
      "Epoch [170/2000], Loss: 0.5535\n",
      "Epoch [171/2000], Loss: 0.5357\n",
      "Epoch [172/2000], Loss: 0.5423\n",
      "Epoch [173/2000], Loss: 0.5334\n",
      "Epoch [174/2000], Loss: 0.5331\n",
      "Epoch [175/2000], Loss: 0.5232\n",
      "Epoch [176/2000], Loss: 0.5260\n",
      "Epoch [177/2000], Loss: 0.5348\n",
      "Epoch [178/2000], Loss: 0.5120\n",
      "Epoch [179/2000], Loss: 0.5164\n",
      "Epoch [180/2000], Loss: 0.5334\n",
      "Epoch [181/2000], Loss: 0.5239\n",
      "Epoch [182/2000], Loss: 0.4852\n",
      "Epoch [183/2000], Loss: 0.4807\n",
      "Epoch [184/2000], Loss: 0.4942\n",
      "Epoch [185/2000], Loss: 0.4757\n",
      "Epoch [186/2000], Loss: 0.5150\n",
      "Epoch [187/2000], Loss: 0.5017\n",
      "Epoch [188/2000], Loss: 0.4683\n",
      "Epoch [189/2000], Loss: 0.4759\n",
      "Epoch [190/2000], Loss: 0.4946\n",
      "Epoch [191/2000], Loss: 0.4613\n",
      "Epoch [192/2000], Loss: 0.4664\n",
      "Epoch [193/2000], Loss: 0.4569\n",
      "Epoch [194/2000], Loss: 0.4609\n",
      "Epoch [195/2000], Loss: 0.4805\n",
      "Epoch [196/2000], Loss: 0.4829\n",
      "Epoch [197/2000], Loss: 0.4266\n",
      "Epoch [198/2000], Loss: 0.4461\n",
      "Epoch [199/2000], Loss: 0.4619\n",
      "Epoch [200/2000], Loss: 0.4825\n",
      "Epoch [201/2000], Loss: 0.4606\n",
      "Epoch [202/2000], Loss: 0.4356\n",
      "Epoch [203/2000], Loss: 0.4446\n",
      "Epoch [204/2000], Loss: 0.4208\n",
      "Epoch [205/2000], Loss: 0.4585\n",
      "Epoch [206/2000], Loss: 0.4166\n",
      "Epoch [207/2000], Loss: 0.4099\n",
      "Epoch [208/2000], Loss: 0.4415\n",
      "Epoch [209/2000], Loss: 0.4381\n",
      "Epoch [210/2000], Loss: 0.4049\n",
      "Epoch [211/2000], Loss: 0.4253\n",
      "Epoch [212/2000], Loss: 0.4007\n",
      "Epoch [213/2000], Loss: 0.3998\n",
      "Epoch [214/2000], Loss: 0.4002\n",
      "Epoch [215/2000], Loss: 0.4035\n",
      "Epoch [216/2000], Loss: 0.3785\n",
      "Epoch [217/2000], Loss: 0.4013\n",
      "Epoch [218/2000], Loss: 0.4095\n",
      "Epoch [219/2000], Loss: 0.3832\n",
      "Epoch [220/2000], Loss: 0.3938\n",
      "Epoch [221/2000], Loss: 0.3867\n",
      "Epoch [222/2000], Loss: 0.3732\n",
      "Epoch [223/2000], Loss: 0.3928\n",
      "Epoch [224/2000], Loss: 0.3942\n",
      "Epoch [225/2000], Loss: 0.3865\n",
      "Epoch [226/2000], Loss: 0.3648\n",
      "Epoch [227/2000], Loss: 0.3688\n",
      "Epoch [228/2000], Loss: 0.3742\n",
      "Epoch [229/2000], Loss: 0.3876\n",
      "Epoch [230/2000], Loss: 0.3723\n",
      "Epoch [231/2000], Loss: 0.3650\n",
      "Epoch [232/2000], Loss: 0.3467\n",
      "Epoch [233/2000], Loss: 0.3446\n",
      "Epoch [234/2000], Loss: 0.3543\n",
      "Epoch [235/2000], Loss: 0.3523\n",
      "Epoch [236/2000], Loss: 0.3452\n",
      "Epoch [237/2000], Loss: 0.3522\n",
      "Epoch [238/2000], Loss: 0.3455\n",
      "Epoch [239/2000], Loss: 0.3393\n",
      "Epoch [240/2000], Loss: 0.3351\n",
      "Epoch [241/2000], Loss: 0.3519\n",
      "Epoch [242/2000], Loss: 0.3255\n",
      "Epoch [243/2000], Loss: 0.3262\n",
      "Epoch [244/2000], Loss: 0.3555\n",
      "Epoch [245/2000], Loss: 0.3508\n",
      "Epoch [246/2000], Loss: 0.3328\n",
      "Epoch [247/2000], Loss: 0.3109\n",
      "Epoch [248/2000], Loss: 0.3214\n",
      "Epoch [249/2000], Loss: 0.3213\n",
      "Epoch [250/2000], Loss: 0.3118\n",
      "Epoch [251/2000], Loss: 0.3546\n",
      "Epoch [252/2000], Loss: 0.2965\n",
      "Epoch [253/2000], Loss: 0.3193\n",
      "Epoch [254/2000], Loss: 0.3179\n",
      "Epoch [255/2000], Loss: 0.2999\n",
      "Epoch [256/2000], Loss: 0.3361\n",
      "Epoch [257/2000], Loss: 0.3172\n",
      "Epoch [258/2000], Loss: 0.3165\n",
      "Epoch [259/2000], Loss: 0.3048\n",
      "Epoch [260/2000], Loss: 0.3251\n",
      "Epoch [261/2000], Loss: 0.3210\n",
      "Epoch [262/2000], Loss: 0.3076\n",
      "Epoch [263/2000], Loss: 0.3148\n",
      "Epoch [264/2000], Loss: 0.2624\n",
      "Epoch [265/2000], Loss: 0.3286\n",
      "Epoch [266/2000], Loss: 0.2892\n",
      "Epoch [267/2000], Loss: 0.2988\n",
      "Epoch [268/2000], Loss: 0.3285\n",
      "Epoch [269/2000], Loss: 0.3071\n",
      "Epoch [270/2000], Loss: 0.3012\n",
      "Epoch [271/2000], Loss: 0.3017\n",
      "Epoch [272/2000], Loss: 0.2825\n",
      "Epoch [273/2000], Loss: 0.3042\n",
      "Epoch [274/2000], Loss: 0.2840\n",
      "Epoch [275/2000], Loss: 0.2767\n",
      "Epoch [276/2000], Loss: 0.2890\n",
      "Epoch [277/2000], Loss: 0.2949\n",
      "Epoch [278/2000], Loss: 0.2873\n",
      "Epoch [279/2000], Loss: 0.3014\n",
      "Epoch [280/2000], Loss: 0.2742\n",
      "Epoch [281/2000], Loss: 0.2936\n",
      "Epoch [282/2000], Loss: 0.2846\n",
      "Epoch [283/2000], Loss: 0.2653\n",
      "Epoch [284/2000], Loss: 0.2838\n",
      "Epoch [285/2000], Loss: 0.2710\n",
      "Epoch [286/2000], Loss: 0.2563\n",
      "Epoch [287/2000], Loss: 0.2793\n",
      "Epoch [288/2000], Loss: 0.2877\n",
      "Epoch [289/2000], Loss: 0.2684\n",
      "Epoch [290/2000], Loss: 0.2861\n",
      "Epoch [291/2000], Loss: 0.2641\n",
      "Epoch [292/2000], Loss: 0.2766\n",
      "Epoch [293/2000], Loss: 0.2780\n",
      "Epoch [294/2000], Loss: 0.2557\n",
      "Epoch [295/2000], Loss: 0.2526\n",
      "Epoch [296/2000], Loss: 0.2556\n",
      "Epoch [297/2000], Loss: 0.2820\n",
      "Epoch [298/2000], Loss: 0.2738\n",
      "Epoch [299/2000], Loss: 0.2510\n",
      "Epoch [300/2000], Loss: 0.2730\n",
      "Epoch [301/2000], Loss: 0.2613\n",
      "Epoch [302/2000], Loss: 0.2506\n",
      "Epoch [303/2000], Loss: 0.2684\n",
      "Epoch [304/2000], Loss: 0.2688\n",
      "Epoch [305/2000], Loss: 0.2536\n",
      "Epoch [306/2000], Loss: 0.2532\n",
      "Epoch [307/2000], Loss: 0.2607\n",
      "Epoch [308/2000], Loss: 0.2361\n",
      "Epoch [309/2000], Loss: 0.2465\n",
      "Epoch [310/2000], Loss: 0.2301\n",
      "Epoch [311/2000], Loss: 0.2514\n",
      "Epoch [312/2000], Loss: 0.2543\n",
      "Epoch [313/2000], Loss: 0.2496\n",
      "Epoch [314/2000], Loss: 0.2563\n",
      "Epoch [315/2000], Loss: 0.2366\n",
      "Epoch [316/2000], Loss: 0.2152\n",
      "Epoch [317/2000], Loss: 0.2559\n",
      "Epoch [318/2000], Loss: 0.2432\n",
      "Epoch [319/2000], Loss: 0.2339\n",
      "Epoch [320/2000], Loss: 0.2425\n",
      "Epoch [321/2000], Loss: 0.2403\n",
      "Epoch [322/2000], Loss: 0.2428\n",
      "Epoch [323/2000], Loss: 0.2551\n",
      "Epoch [324/2000], Loss: 0.2471\n",
      "Epoch [325/2000], Loss: 0.2450\n",
      "Epoch [326/2000], Loss: 0.2276\n",
      "Epoch [327/2000], Loss: 0.2403\n",
      "Epoch [328/2000], Loss: 0.2314\n",
      "Epoch [329/2000], Loss: 0.2297\n",
      "Epoch [330/2000], Loss: 0.2376\n",
      "Epoch [331/2000], Loss: 0.2281\n",
      "Epoch [332/2000], Loss: 0.2289\n",
      "Epoch [333/2000], Loss: 0.2216\n",
      "Epoch [334/2000], Loss: 0.2454\n",
      "Epoch [335/2000], Loss: 0.2160\n",
      "Epoch [336/2000], Loss: 0.2308\n",
      "Epoch [337/2000], Loss: 0.2159\n",
      "Epoch [338/2000], Loss: 0.2069\n",
      "Epoch [339/2000], Loss: 0.2298\n",
      "Epoch [340/2000], Loss: 0.2272\n",
      "Epoch [341/2000], Loss: 0.2138\n",
      "Epoch [342/2000], Loss: 0.2084\n",
      "Epoch [343/2000], Loss: 0.2136\n",
      "Epoch [344/2000], Loss: 0.2180\n",
      "Epoch [345/2000], Loss: 0.2442\n",
      "Epoch [346/2000], Loss: 0.2142\n",
      "Epoch [347/2000], Loss: 0.2412\n",
      "Epoch [348/2000], Loss: 0.2387\n",
      "Epoch [349/2000], Loss: 0.2198\n",
      "Epoch [350/2000], Loss: 0.2181\n",
      "Epoch [351/2000], Loss: 0.2375\n",
      "Epoch [352/2000], Loss: 0.2159\n",
      "Epoch [353/2000], Loss: 0.1931\n",
      "Epoch [354/2000], Loss: 0.2068\n",
      "Epoch [355/2000], Loss: 0.2125\n",
      "Epoch [356/2000], Loss: 0.2061\n",
      "Epoch [357/2000], Loss: 0.2108\n",
      "Epoch [358/2000], Loss: 0.2046\n",
      "Epoch [359/2000], Loss: 0.1995\n",
      "Epoch [360/2000], Loss: 0.2191\n",
      "Epoch [361/2000], Loss: 0.2192\n",
      "Epoch [362/2000], Loss: 0.2118\n",
      "Epoch [363/2000], Loss: 0.2047\n",
      "Epoch [364/2000], Loss: 0.1979\n",
      "Epoch [365/2000], Loss: 0.1769\n",
      "Epoch [366/2000], Loss: 0.2003\n",
      "Epoch [367/2000], Loss: 0.1996\n",
      "Epoch [368/2000], Loss: 0.2156\n",
      "Epoch [369/2000], Loss: 0.1892\n",
      "Epoch [370/2000], Loss: 0.1982\n",
      "Epoch [371/2000], Loss: 0.2075\n",
      "Epoch [372/2000], Loss: 0.2191\n",
      "Epoch [373/2000], Loss: 0.2022\n",
      "Epoch [374/2000], Loss: 0.1908\n",
      "Epoch [375/2000], Loss: 0.1951\n",
      "Epoch [376/2000], Loss: 0.1977\n",
      "Epoch [377/2000], Loss: 0.2071\n",
      "Epoch [378/2000], Loss: 0.2025\n",
      "Epoch [379/2000], Loss: 0.1851\n",
      "Epoch [380/2000], Loss: 0.1858\n",
      "Epoch [381/2000], Loss: 0.1904\n",
      "Epoch [382/2000], Loss: 0.1989\n",
      "Epoch [383/2000], Loss: 0.1826\n",
      "Epoch [384/2000], Loss: 0.1831\n",
      "Epoch [385/2000], Loss: 0.2093\n",
      "Epoch [386/2000], Loss: 0.1834\n",
      "Epoch [387/2000], Loss: 0.1795\n",
      "Epoch [388/2000], Loss: 0.1882\n",
      "Epoch [389/2000], Loss: 0.1947\n",
      "Epoch [390/2000], Loss: 0.1827\n",
      "Epoch [391/2000], Loss: 0.1886\n",
      "Epoch [392/2000], Loss: 0.1860\n",
      "Epoch [393/2000], Loss: 0.1883\n",
      "Epoch [394/2000], Loss: 0.1716\n",
      "Epoch [395/2000], Loss: 0.1879\n",
      "Epoch [396/2000], Loss: 0.1832\n",
      "Epoch [397/2000], Loss: 0.1868\n",
      "Epoch [398/2000], Loss: 0.1852\n",
      "Epoch [399/2000], Loss: 0.1935\n",
      "Epoch [400/2000], Loss: 0.1838\n",
      "Epoch [401/2000], Loss: 0.1946\n",
      "Epoch [402/2000], Loss: 0.1992\n",
      "Epoch [403/2000], Loss: 0.1784\n",
      "Epoch [404/2000], Loss: 0.1902\n",
      "Epoch [405/2000], Loss: 0.1808\n",
      "Epoch [406/2000], Loss: 0.1807\n",
      "Epoch [407/2000], Loss: 0.1481\n",
      "Epoch [408/2000], Loss: 0.1906\n",
      "Epoch [409/2000], Loss: 0.1644\n",
      "Epoch [410/2000], Loss: 0.1799\n",
      "Epoch [411/2000], Loss: 0.1814\n",
      "Epoch [412/2000], Loss: 0.1789\n",
      "Epoch [413/2000], Loss: 0.1703\n",
      "Epoch [414/2000], Loss: 0.1821\n",
      "Epoch [415/2000], Loss: 0.1716\n",
      "Epoch [416/2000], Loss: 0.1716\n",
      "Epoch [417/2000], Loss: 0.1757\n",
      "Epoch [418/2000], Loss: 0.1733\n",
      "Epoch [419/2000], Loss: 0.1618\n",
      "Epoch [420/2000], Loss: 0.1674\n",
      "Epoch [421/2000], Loss: 0.1709\n",
      "Epoch [422/2000], Loss: 0.1853\n",
      "Epoch [423/2000], Loss: 0.1605\n",
      "Epoch [424/2000], Loss: 0.1957\n",
      "Epoch [425/2000], Loss: 0.1604\n",
      "Epoch [426/2000], Loss: 0.1675\n",
      "Epoch [427/2000], Loss: 0.1770\n",
      "Epoch [428/2000], Loss: 0.1554\n",
      "Epoch [429/2000], Loss: 0.1575\n",
      "Epoch [430/2000], Loss: 0.1839\n",
      "Epoch [431/2000], Loss: 0.1615\n",
      "Epoch [432/2000], Loss: 0.1577\n",
      "Epoch [433/2000], Loss: 0.1739\n",
      "Epoch [434/2000], Loss: 0.1639\n",
      "Epoch [435/2000], Loss: 0.1645\n",
      "Epoch [436/2000], Loss: 0.1636\n",
      "Epoch [437/2000], Loss: 0.1715\n",
      "Epoch [438/2000], Loss: 0.1788\n",
      "Epoch [439/2000], Loss: 0.1781\n",
      "Epoch [440/2000], Loss: 0.1498\n",
      "Epoch [441/2000], Loss: 0.1426\n",
      "Epoch [442/2000], Loss: 0.1513\n",
      "Epoch [443/2000], Loss: 0.1763\n",
      "Epoch [444/2000], Loss: 0.1554\n",
      "Epoch [445/2000], Loss: 0.1560\n",
      "Epoch [446/2000], Loss: 0.1627\n",
      "Epoch [447/2000], Loss: 0.1648\n",
      "Epoch [448/2000], Loss: 0.1785\n",
      "Epoch [449/2000], Loss: 0.1618\n",
      "Epoch [450/2000], Loss: 0.1596\n",
      "Epoch [451/2000], Loss: 0.1688\n",
      "Epoch [452/2000], Loss: 0.1552\n",
      "Epoch [453/2000], Loss: 0.1625\n",
      "Epoch [454/2000], Loss: 0.1723\n",
      "Epoch [455/2000], Loss: 0.1467\n",
      "Epoch [456/2000], Loss: 0.1644\n",
      "Epoch [457/2000], Loss: 0.1456\n",
      "Epoch [458/2000], Loss: 0.1631\n",
      "Epoch [459/2000], Loss: 0.1619\n",
      "Epoch [460/2000], Loss: 0.1644\n",
      "Epoch [461/2000], Loss: 0.1474\n",
      "Epoch [462/2000], Loss: 0.1537\n",
      "Epoch [463/2000], Loss: 0.1528\n",
      "Epoch [464/2000], Loss: 0.1692\n",
      "Epoch [465/2000], Loss: 0.1705\n",
      "Epoch [466/2000], Loss: 0.1513\n",
      "Epoch [467/2000], Loss: 0.1433\n",
      "Epoch [468/2000], Loss: 0.1395\n",
      "Epoch [469/2000], Loss: 0.1572\n",
      "Epoch [470/2000], Loss: 0.1552\n",
      "Epoch [471/2000], Loss: 0.1423\n",
      "Epoch [472/2000], Loss: 0.1369\n",
      "Epoch [473/2000], Loss: 0.1713\n",
      "Epoch [474/2000], Loss: 0.1483\n",
      "Epoch [475/2000], Loss: 0.1462\n",
      "Epoch [476/2000], Loss: 0.1495\n",
      "Epoch [477/2000], Loss: 0.1529\n",
      "Epoch [478/2000], Loss: 0.1668\n",
      "Epoch [479/2000], Loss: 0.1520\n",
      "Epoch [480/2000], Loss: 0.1481\n",
      "Epoch [481/2000], Loss: 0.1464\n",
      "Epoch [482/2000], Loss: 0.1431\n",
      "Epoch [483/2000], Loss: 0.1427\n",
      "Epoch [484/2000], Loss: 0.1433\n",
      "Epoch [485/2000], Loss: 0.1571\n",
      "Epoch [486/2000], Loss: 0.1419\n",
      "Epoch [487/2000], Loss: 0.1479\n",
      "Epoch [488/2000], Loss: 0.1617\n",
      "Epoch [489/2000], Loss: 0.1453\n",
      "Epoch [490/2000], Loss: 0.1537\n",
      "Epoch [491/2000], Loss: 0.1408\n",
      "Epoch [492/2000], Loss: 0.1432\n",
      "Epoch [493/2000], Loss: 0.1495\n",
      "Epoch [494/2000], Loss: 0.1469\n",
      "Epoch [495/2000], Loss: 0.1361\n",
      "Epoch [496/2000], Loss: 0.1409\n",
      "Epoch [497/2000], Loss: 0.1479\n",
      "Epoch [498/2000], Loss: 0.1415\n",
      "Epoch [499/2000], Loss: 0.1456\n",
      "Epoch [500/2000], Loss: 0.1419\n",
      "Epoch [501/2000], Loss: 0.1403\n",
      "Epoch [502/2000], Loss: 0.1404\n",
      "Epoch [503/2000], Loss: 0.1365\n",
      "Epoch [504/2000], Loss: 0.1474\n",
      "Epoch [505/2000], Loss: 0.1313\n",
      "Epoch [506/2000], Loss: 0.1497\n",
      "Epoch [507/2000], Loss: 0.1491\n",
      "Epoch [508/2000], Loss: 0.1460\n",
      "Epoch [509/2000], Loss: 0.1423\n",
      "Epoch [510/2000], Loss: 0.1470\n",
      "Epoch [511/2000], Loss: 0.1445\n",
      "Epoch [512/2000], Loss: 0.1237\n",
      "Epoch [513/2000], Loss: 0.1570\n",
      "Epoch [514/2000], Loss: 0.1504\n",
      "Epoch [515/2000], Loss: 0.1461\n",
      "Epoch [516/2000], Loss: 0.1504\n",
      "Epoch [517/2000], Loss: 0.1462\n",
      "Epoch [518/2000], Loss: 0.1313\n",
      "Epoch [519/2000], Loss: 0.1355\n",
      "Epoch [520/2000], Loss: 0.1459\n",
      "Epoch [521/2000], Loss: 0.1398\n",
      "Epoch [522/2000], Loss: 0.1427\n",
      "Epoch [523/2000], Loss: 0.1331\n",
      "Epoch [524/2000], Loss: 0.1478\n",
      "Epoch [525/2000], Loss: 0.1368\n",
      "Epoch [526/2000], Loss: 0.1335\n",
      "Epoch [527/2000], Loss: 0.1420\n",
      "Epoch [528/2000], Loss: 0.1476\n",
      "Epoch [529/2000], Loss: 0.1272\n",
      "Epoch [530/2000], Loss: 0.1302\n",
      "Epoch [531/2000], Loss: 0.1400\n",
      "Epoch [532/2000], Loss: 0.1266\n",
      "Epoch [533/2000], Loss: 0.1345\n",
      "Epoch [534/2000], Loss: 0.1231\n",
      "Epoch [535/2000], Loss: 0.1303\n",
      "Epoch [536/2000], Loss: 0.1259\n",
      "Epoch [537/2000], Loss: 0.1402\n",
      "Epoch [538/2000], Loss: 0.1174\n",
      "Epoch [539/2000], Loss: 0.1367\n",
      "Epoch [540/2000], Loss: 0.1190\n",
      "Epoch [541/2000], Loss: 0.1297\n",
      "Epoch [542/2000], Loss: 0.1197\n",
      "Epoch [543/2000], Loss: 0.1421\n",
      "Epoch [544/2000], Loss: 0.1326\n",
      "Epoch [545/2000], Loss: 0.1354\n",
      "Epoch [546/2000], Loss: 0.1406\n",
      "Epoch [547/2000], Loss: 0.1392\n",
      "Epoch [548/2000], Loss: 0.1420\n",
      "Epoch [549/2000], Loss: 0.1265\n",
      "Epoch [550/2000], Loss: 0.1267\n",
      "Epoch [551/2000], Loss: 0.1397\n",
      "Epoch [552/2000], Loss: 0.1258\n",
      "Epoch [553/2000], Loss: 0.1373\n",
      "Epoch [554/2000], Loss: 0.1333\n",
      "Epoch [555/2000], Loss: 0.1292\n",
      "Epoch [556/2000], Loss: 0.1215\n",
      "Epoch [557/2000], Loss: 0.1289\n",
      "Epoch [558/2000], Loss: 0.1259\n",
      "Epoch [559/2000], Loss: 0.1179\n",
      "Epoch [560/2000], Loss: 0.1211\n",
      "Epoch [561/2000], Loss: 0.1326\n",
      "Epoch [562/2000], Loss: 0.1120\n",
      "Epoch [563/2000], Loss: 0.1226\n",
      "Epoch [564/2000], Loss: 0.1192\n",
      "Epoch [565/2000], Loss: 0.1414\n",
      "Epoch [566/2000], Loss: 0.1280\n",
      "Epoch [567/2000], Loss: 0.1275\n",
      "Epoch [568/2000], Loss: 0.1272\n",
      "Epoch [569/2000], Loss: 0.1255\n",
      "Epoch [570/2000], Loss: 0.1237\n",
      "Epoch [571/2000], Loss: 0.1154\n",
      "Epoch [572/2000], Loss: 0.1293\n",
      "Epoch [573/2000], Loss: 0.1320\n",
      "Epoch [574/2000], Loss: 0.1368\n",
      "Epoch [575/2000], Loss: 0.1260\n",
      "Epoch [576/2000], Loss: 0.1292\n",
      "Epoch [577/2000], Loss: 0.1185\n",
      "Epoch [578/2000], Loss: 0.1194\n",
      "Epoch [579/2000], Loss: 0.1259\n",
      "Epoch [580/2000], Loss: 0.1142\n",
      "Epoch [581/2000], Loss: 0.1307\n",
      "Epoch [582/2000], Loss: 0.1131\n",
      "Epoch [583/2000], Loss: 0.1316\n",
      "Epoch [584/2000], Loss: 0.1258\n",
      "Epoch [585/2000], Loss: 0.1061\n",
      "Epoch [586/2000], Loss: 0.1158\n",
      "Epoch [587/2000], Loss: 0.1176\n",
      "Epoch [588/2000], Loss: 0.1295\n",
      "Epoch [589/2000], Loss: 0.1296\n",
      "Epoch [590/2000], Loss: 0.1136\n",
      "Epoch [591/2000], Loss: 0.1189\n",
      "Epoch [592/2000], Loss: 0.1299\n",
      "Epoch [593/2000], Loss: 0.1278\n",
      "Epoch [594/2000], Loss: 0.1194\n",
      "Epoch [595/2000], Loss: 0.1099\n",
      "Epoch [596/2000], Loss: 0.1126\n",
      "Epoch [597/2000], Loss: 0.1063\n",
      "Epoch [598/2000], Loss: 0.1384\n",
      "Epoch [599/2000], Loss: 0.1165\n",
      "Epoch [600/2000], Loss: 0.1314\n",
      "Epoch [601/2000], Loss: 0.1200\n",
      "Epoch [602/2000], Loss: 0.1215\n",
      "Epoch [603/2000], Loss: 0.1283\n",
      "Epoch [604/2000], Loss: 0.1246\n",
      "Epoch [605/2000], Loss: 0.1240\n",
      "Epoch [606/2000], Loss: 0.1114\n",
      "Epoch [607/2000], Loss: 0.1301\n",
      "Epoch [608/2000], Loss: 0.1239\n",
      "Epoch [609/2000], Loss: 0.1203\n",
      "Epoch [610/2000], Loss: 0.0988\n",
      "Epoch [611/2000], Loss: 0.1097\n",
      "Epoch [612/2000], Loss: 0.1197\n",
      "Epoch [613/2000], Loss: 0.1225\n",
      "Epoch [614/2000], Loss: 0.1105\n",
      "Epoch [615/2000], Loss: 0.1223\n",
      "Epoch [616/2000], Loss: 0.1187\n",
      "Epoch [617/2000], Loss: 0.1224\n",
      "Epoch [618/2000], Loss: 0.1240\n",
      "Epoch [619/2000], Loss: 0.1137\n",
      "Epoch [620/2000], Loss: 0.1061\n",
      "Epoch [621/2000], Loss: 0.1198\n",
      "Epoch [622/2000], Loss: 0.1053\n",
      "Epoch [623/2000], Loss: 0.1151\n",
      "Epoch [624/2000], Loss: 0.1096\n",
      "Epoch [625/2000], Loss: 0.1250\n",
      "Epoch [626/2000], Loss: 0.1161\n",
      "Epoch [627/2000], Loss: 0.1072\n",
      "Epoch [628/2000], Loss: 0.1112\n",
      "Epoch [629/2000], Loss: 0.1211\n",
      "Epoch [630/2000], Loss: 0.1265\n",
      "Epoch [631/2000], Loss: 0.1288\n",
      "Epoch [632/2000], Loss: 0.1050\n",
      "Epoch [633/2000], Loss: 0.1136\n",
      "Epoch [634/2000], Loss: 0.1119\n",
      "Epoch [635/2000], Loss: 0.1139\n",
      "Epoch [636/2000], Loss: 0.1029\n",
      "Epoch [637/2000], Loss: 0.1083\n",
      "Epoch [638/2000], Loss: 0.1278\n",
      "Epoch [639/2000], Loss: 0.1035\n",
      "Epoch [640/2000], Loss: 0.1166\n",
      "Epoch [641/2000], Loss: 0.1072\n",
      "Epoch [642/2000], Loss: 0.1119\n",
      "Epoch [643/2000], Loss: 0.1147\n",
      "Epoch [644/2000], Loss: 0.1029\n",
      "Epoch [645/2000], Loss: 0.1006\n",
      "Epoch [646/2000], Loss: 0.1071\n",
      "Epoch [647/2000], Loss: 0.1072\n",
      "Epoch [648/2000], Loss: 0.1003\n",
      "Epoch [649/2000], Loss: 0.1071\n",
      "Epoch [650/2000], Loss: 0.1041\n",
      "Epoch [651/2000], Loss: 0.1094\n",
      "Epoch [652/2000], Loss: 0.1165\n",
      "Epoch [653/2000], Loss: 0.1164\n",
      "Epoch [654/2000], Loss: 0.1119\n",
      "Epoch [655/2000], Loss: 0.1075\n",
      "Epoch [656/2000], Loss: 0.1087\n",
      "Epoch [657/2000], Loss: 0.1153\n",
      "Epoch [658/2000], Loss: 0.1059\n",
      "Epoch [659/2000], Loss: 0.0993\n",
      "Epoch [660/2000], Loss: 0.1107\n",
      "Epoch [661/2000], Loss: 0.1090\n",
      "Epoch [662/2000], Loss: 0.1106\n",
      "Epoch [663/2000], Loss: 0.1113\n",
      "Epoch [664/2000], Loss: 0.0968\n",
      "Epoch [665/2000], Loss: 0.1069\n",
      "Epoch [666/2000], Loss: 0.1084\n",
      "Epoch [667/2000], Loss: 0.1176\n",
      "Epoch [668/2000], Loss: 0.1036\n",
      "Epoch [669/2000], Loss: 0.1114\n",
      "Epoch [670/2000], Loss: 0.1125\n",
      "Epoch [671/2000], Loss: 0.1001\n",
      "Epoch [672/2000], Loss: 0.1140\n",
      "Epoch [673/2000], Loss: 0.0985\n",
      "Epoch [674/2000], Loss: 0.0941\n",
      "Epoch [675/2000], Loss: 0.1060\n",
      "Epoch [676/2000], Loss: 0.1030\n",
      "Epoch [677/2000], Loss: 0.1087\n",
      "Epoch [678/2000], Loss: 0.1007\n",
      "Epoch [679/2000], Loss: 0.1106\n",
      "Epoch [680/2000], Loss: 0.1042\n",
      "Epoch [681/2000], Loss: 0.1006\n",
      "Epoch [682/2000], Loss: 0.1105\n",
      "Epoch [683/2000], Loss: 0.1029\n",
      "Epoch [684/2000], Loss: 0.0937\n",
      "Epoch [685/2000], Loss: 0.1114\n",
      "Epoch [686/2000], Loss: 0.1039\n",
      "Epoch [687/2000], Loss: 0.0949\n",
      "Epoch [688/2000], Loss: 0.1074\n",
      "Epoch [689/2000], Loss: 0.1033\n",
      "Epoch [690/2000], Loss: 0.1017\n",
      "Epoch [691/2000], Loss: 0.0888\n",
      "Epoch [692/2000], Loss: 0.0964\n",
      "Epoch [693/2000], Loss: 0.0975\n",
      "Epoch [694/2000], Loss: 0.0987\n",
      "Epoch [695/2000], Loss: 0.1063\n",
      "Epoch [696/2000], Loss: 0.1017\n",
      "Epoch [697/2000], Loss: 0.1035\n",
      "Epoch [698/2000], Loss: 0.0960\n",
      "Epoch [699/2000], Loss: 0.0904\n",
      "Epoch [700/2000], Loss: 0.1085\n",
      "Epoch [701/2000], Loss: 0.1020\n",
      "Epoch [702/2000], Loss: 0.1116\n",
      "Epoch [703/2000], Loss: 0.0889\n",
      "Epoch [704/2000], Loss: 0.1019\n",
      "Epoch [705/2000], Loss: 0.1029\n",
      "Epoch [706/2000], Loss: 0.0934\n",
      "Epoch [707/2000], Loss: 0.1055\n",
      "Epoch [708/2000], Loss: 0.0953\n",
      "Epoch [709/2000], Loss: 0.0943\n",
      "Epoch [710/2000], Loss: 0.1065\n",
      "Epoch [711/2000], Loss: 0.0985\n",
      "Epoch [712/2000], Loss: 0.1020\n",
      "Epoch [713/2000], Loss: 0.0959\n",
      "Epoch [714/2000], Loss: 0.1088\n",
      "Epoch [715/2000], Loss: 0.1005\n",
      "Epoch [716/2000], Loss: 0.1014\n",
      "Epoch [717/2000], Loss: 0.0962\n",
      "Epoch [718/2000], Loss: 0.1013\n",
      "Epoch [719/2000], Loss: 0.1077\n",
      "Epoch [720/2000], Loss: 0.1040\n",
      "Epoch [721/2000], Loss: 0.0886\n",
      "Epoch [722/2000], Loss: 0.1024\n",
      "Epoch [723/2000], Loss: 0.1021\n",
      "Epoch [724/2000], Loss: 0.0927\n",
      "Epoch [725/2000], Loss: 0.0958\n",
      "Epoch [726/2000], Loss: 0.1029\n",
      "Epoch [727/2000], Loss: 0.0941\n",
      "Epoch [728/2000], Loss: 0.0956\n",
      "Epoch [729/2000], Loss: 0.0968\n",
      "Epoch [730/2000], Loss: 0.0999\n",
      "Epoch [731/2000], Loss: 0.0892\n",
      "Epoch [732/2000], Loss: 0.0890\n",
      "Epoch [733/2000], Loss: 0.1079\n",
      "Epoch [734/2000], Loss: 0.0868\n",
      "Epoch [735/2000], Loss: 0.1040\n",
      "Epoch [736/2000], Loss: 0.0921\n",
      "Epoch [737/2000], Loss: 0.0919\n",
      "Epoch [738/2000], Loss: 0.0998\n",
      "Epoch [739/2000], Loss: 0.0955\n",
      "Epoch [740/2000], Loss: 0.0934\n",
      "Epoch [741/2000], Loss: 0.0886\n",
      "Epoch [742/2000], Loss: 0.0905\n",
      "Epoch [743/2000], Loss: 0.0920\n",
      "Epoch [744/2000], Loss: 0.0940\n",
      "Epoch [745/2000], Loss: 0.0958\n",
      "Epoch [746/2000], Loss: 0.0994\n",
      "Epoch [747/2000], Loss: 0.0943\n",
      "Epoch [748/2000], Loss: 0.0964\n",
      "Epoch [749/2000], Loss: 0.0947\n",
      "Epoch [750/2000], Loss: 0.0831\n",
      "Epoch [751/2000], Loss: 0.0894\n",
      "Epoch [752/2000], Loss: 0.0885\n",
      "Epoch [753/2000], Loss: 0.0972\n",
      "Epoch [754/2000], Loss: 0.1013\n",
      "Epoch [755/2000], Loss: 0.0900\n",
      "Epoch [756/2000], Loss: 0.0885\n",
      "Epoch [757/2000], Loss: 0.0881\n",
      "Epoch [758/2000], Loss: 0.0907\n",
      "Epoch [759/2000], Loss: 0.0843\n",
      "Epoch [760/2000], Loss: 0.0975\n",
      "Epoch [761/2000], Loss: 0.0932\n",
      "Epoch [762/2000], Loss: 0.0960\n",
      "Epoch [763/2000], Loss: 0.0954\n",
      "Epoch [764/2000], Loss: 0.0919\n",
      "Epoch [765/2000], Loss: 0.0947\n",
      "Epoch [766/2000], Loss: 0.1020\n",
      "Epoch [767/2000], Loss: 0.0870\n",
      "Epoch [768/2000], Loss: 0.0909\n",
      "Epoch [769/2000], Loss: 0.0947\n",
      "Epoch [770/2000], Loss: 0.0955\n",
      "Epoch [771/2000], Loss: 0.0895\n",
      "Epoch [772/2000], Loss: 0.0887\n",
      "Epoch [773/2000], Loss: 0.0864\n",
      "Epoch [774/2000], Loss: 0.0923\n",
      "Epoch [775/2000], Loss: 0.0938\n",
      "Epoch [776/2000], Loss: 0.0900\n",
      "Epoch [777/2000], Loss: 0.0788\n",
      "Epoch [778/2000], Loss: 0.0883\n",
      "Epoch [779/2000], Loss: 0.0919\n",
      "Epoch [780/2000], Loss: 0.0885\n",
      "Epoch [781/2000], Loss: 0.0977\n",
      "Epoch [782/2000], Loss: 0.0864\n",
      "Epoch [783/2000], Loss: 0.0933\n",
      "Epoch [784/2000], Loss: 0.0851\n",
      "Epoch [785/2000], Loss: 0.0823\n",
      "Epoch [786/2000], Loss: 0.0883\n",
      "Epoch [787/2000], Loss: 0.0794\n",
      "Epoch [788/2000], Loss: 0.0880\n",
      "Epoch [789/2000], Loss: 0.0948\n",
      "Epoch [790/2000], Loss: 0.0755\n",
      "Epoch [791/2000], Loss: 0.0881\n",
      "Epoch [792/2000], Loss: 0.0950\n",
      "Epoch [793/2000], Loss: 0.0884\n",
      "Epoch [794/2000], Loss: 0.0919\n",
      "Epoch [795/2000], Loss: 0.0962\n",
      "Epoch [796/2000], Loss: 0.0844\n",
      "Epoch [797/2000], Loss: 0.0935\n",
      "Epoch [798/2000], Loss: 0.0883\n",
      "Epoch [799/2000], Loss: 0.0861\n",
      "Epoch [800/2000], Loss: 0.0788\n",
      "Epoch [801/2000], Loss: 0.0919\n",
      "Epoch [802/2000], Loss: 0.0995\n",
      "Epoch [803/2000], Loss: 0.0842\n",
      "Epoch [804/2000], Loss: 0.0815\n",
      "Epoch [805/2000], Loss: 0.0969\n",
      "Epoch [806/2000], Loss: 0.0838\n",
      "Epoch [807/2000], Loss: 0.0874\n",
      "Epoch [808/2000], Loss: 0.0831\n",
      "Epoch [809/2000], Loss: 0.0798\n",
      "Epoch [810/2000], Loss: 0.0928\n",
      "Epoch [811/2000], Loss: 0.0870\n",
      "Epoch [812/2000], Loss: 0.0764\n",
      "Epoch [813/2000], Loss: 0.0959\n",
      "Epoch [814/2000], Loss: 0.0833\n",
      "Epoch [815/2000], Loss: 0.0843\n",
      "Epoch [816/2000], Loss: 0.0862\n",
      "Epoch [817/2000], Loss: 0.0917\n",
      "Epoch [818/2000], Loss: 0.1005\n",
      "Epoch [819/2000], Loss: 0.0847\n",
      "Epoch [820/2000], Loss: 0.0836\n",
      "Epoch [821/2000], Loss: 0.0870\n",
      "Epoch [822/2000], Loss: 0.0931\n",
      "Epoch [823/2000], Loss: 0.0887\n",
      "Epoch [824/2000], Loss: 0.0936\n",
      "Epoch [825/2000], Loss: 0.0864\n",
      "Epoch [826/2000], Loss: 0.0881\n",
      "Epoch [827/2000], Loss: 0.0862\n",
      "Epoch [828/2000], Loss: 0.0805\n",
      "Epoch [829/2000], Loss: 0.0922\n",
      "Epoch [830/2000], Loss: 0.0833\n",
      "Epoch [831/2000], Loss: 0.0858\n",
      "Epoch [832/2000], Loss: 0.0873\n",
      "Epoch [833/2000], Loss: 0.0837\n",
      "Epoch [834/2000], Loss: 0.0893\n",
      "Epoch [835/2000], Loss: 0.0850\n",
      "Epoch [836/2000], Loss: 0.0941\n",
      "Epoch [837/2000], Loss: 0.0870\n",
      "Epoch [838/2000], Loss: 0.0884\n",
      "Epoch [839/2000], Loss: 0.0823\n",
      "Epoch [840/2000], Loss: 0.0797\n",
      "Epoch [841/2000], Loss: 0.0962\n",
      "Epoch [842/2000], Loss: 0.0825\n",
      "Epoch [843/2000], Loss: 0.0788\n",
      "Epoch [844/2000], Loss: 0.0827\n",
      "Epoch [845/2000], Loss: 0.0931\n",
      "Epoch [846/2000], Loss: 0.0817\n",
      "Epoch [847/2000], Loss: 0.0844\n",
      "Epoch [848/2000], Loss: 0.0829\n",
      "Epoch [849/2000], Loss: 0.0841\n",
      "Epoch [850/2000], Loss: 0.0891\n",
      "Epoch [851/2000], Loss: 0.0923\n",
      "Epoch [852/2000], Loss: 0.0883\n",
      "Epoch [853/2000], Loss: 0.0869\n",
      "Epoch [854/2000], Loss: 0.0863\n",
      "Epoch [855/2000], Loss: 0.0743\n",
      "Epoch [856/2000], Loss: 0.0767\n",
      "Epoch [857/2000], Loss: 0.0784\n",
      "Epoch [858/2000], Loss: 0.0851\n",
      "Epoch [859/2000], Loss: 0.0772\n",
      "Epoch [860/2000], Loss: 0.0872\n",
      "Epoch [861/2000], Loss: 0.0765\n",
      "Epoch [862/2000], Loss: 0.0867\n",
      "Epoch [863/2000], Loss: 0.0834\n",
      "Epoch [864/2000], Loss: 0.0752\n",
      "Epoch [865/2000], Loss: 0.0837\n",
      "Epoch [866/2000], Loss: 0.0839\n",
      "Epoch [867/2000], Loss: 0.0854\n",
      "Epoch [868/2000], Loss: 0.0800\n",
      "Epoch [869/2000], Loss: 0.0846\n",
      "Epoch [870/2000], Loss: 0.0795\n",
      "Epoch [871/2000], Loss: 0.0767\n",
      "Epoch [872/2000], Loss: 0.0751\n",
      "Epoch [873/2000], Loss: 0.0812\n",
      "Epoch [874/2000], Loss: 0.0791\n",
      "Epoch [875/2000], Loss: 0.0773\n",
      "Epoch [876/2000], Loss: 0.0816\n",
      "Epoch [877/2000], Loss: 0.0827\n",
      "Epoch [878/2000], Loss: 0.0777\n",
      "Epoch [879/2000], Loss: 0.0803\n",
      "Epoch [880/2000], Loss: 0.0807\n",
      "Epoch [881/2000], Loss: 0.0773\n",
      "Epoch [882/2000], Loss: 0.0769\n",
      "Epoch [883/2000], Loss: 0.0830\n",
      "Epoch [884/2000], Loss: 0.0693\n",
      "Epoch [885/2000], Loss: 0.0773\n",
      "Epoch [886/2000], Loss: 0.0790\n",
      "Epoch [887/2000], Loss: 0.0762\n",
      "Epoch [888/2000], Loss: 0.0818\n",
      "Epoch [889/2000], Loss: 0.0839\n",
      "Epoch [890/2000], Loss: 0.0764\n",
      "Epoch [891/2000], Loss: 0.0816\n",
      "Epoch [892/2000], Loss: 0.0791\n",
      "Epoch [893/2000], Loss: 0.0800\n",
      "Epoch [894/2000], Loss: 0.0861\n",
      "Epoch [895/2000], Loss: 0.0782\n",
      "Epoch [896/2000], Loss: 0.0931\n",
      "Epoch [897/2000], Loss: 0.0712\n",
      "Epoch [898/2000], Loss: 0.0822\n",
      "Epoch [899/2000], Loss: 0.0759\n",
      "Epoch [900/2000], Loss: 0.0796\n",
      "Epoch [901/2000], Loss: 0.0813\n",
      "Epoch [902/2000], Loss: 0.0767\n",
      "Epoch [903/2000], Loss: 0.0814\n",
      "Epoch [904/2000], Loss: 0.0798\n",
      "Epoch [905/2000], Loss: 0.0825\n",
      "Epoch [906/2000], Loss: 0.0834\n",
      "Epoch [907/2000], Loss: 0.0813\n",
      "Epoch [908/2000], Loss: 0.0737\n",
      "Epoch [909/2000], Loss: 0.0741\n",
      "Epoch [910/2000], Loss: 0.0755\n",
      "Epoch [911/2000], Loss: 0.0792\n",
      "Epoch [912/2000], Loss: 0.0711\n",
      "Epoch [913/2000], Loss: 0.0726\n",
      "Epoch [914/2000], Loss: 0.0742\n",
      "Epoch [915/2000], Loss: 0.0730\n",
      "Epoch [916/2000], Loss: 0.0748\n",
      "Epoch [917/2000], Loss: 0.0739\n",
      "Epoch [918/2000], Loss: 0.0768\n",
      "Epoch [919/2000], Loss: 0.0738\n",
      "Epoch [920/2000], Loss: 0.0821\n",
      "Epoch [921/2000], Loss: 0.0754\n",
      "Epoch [922/2000], Loss: 0.0730\n",
      "Epoch [923/2000], Loss: 0.0849\n",
      "Epoch [924/2000], Loss: 0.0770\n",
      "Epoch [925/2000], Loss: 0.0857\n",
      "Epoch [926/2000], Loss: 0.0832\n",
      "Epoch [927/2000], Loss: 0.0821\n",
      "Epoch [928/2000], Loss: 0.0778\n",
      "Epoch [929/2000], Loss: 0.0739\n",
      "Epoch [930/2000], Loss: 0.0852\n",
      "Epoch [931/2000], Loss: 0.0697\n",
      "Epoch [932/2000], Loss: 0.0882\n",
      "Epoch [933/2000], Loss: 0.0794\n",
      "Epoch [934/2000], Loss: 0.0813\n",
      "Epoch [935/2000], Loss: 0.0761\n",
      "Epoch [936/2000], Loss: 0.0786\n",
      "Epoch [937/2000], Loss: 0.0792\n",
      "Epoch [938/2000], Loss: 0.0709\n",
      "Epoch [939/2000], Loss: 0.0787\n",
      "Epoch [940/2000], Loss: 0.0815\n",
      "Epoch [941/2000], Loss: 0.0705\n",
      "Epoch [942/2000], Loss: 0.0710\n",
      "Epoch [943/2000], Loss: 0.0755\n",
      "Epoch [944/2000], Loss: 0.0718\n",
      "Epoch [945/2000], Loss: 0.0740\n",
      "Epoch [946/2000], Loss: 0.0737\n",
      "Epoch [947/2000], Loss: 0.0812\n",
      "Epoch [948/2000], Loss: 0.0862\n",
      "Epoch [949/2000], Loss: 0.0833\n",
      "Epoch [950/2000], Loss: 0.0734\n",
      "Epoch [951/2000], Loss: 0.0818\n",
      "Epoch [952/2000], Loss: 0.0802\n",
      "Epoch [953/2000], Loss: 0.0757\n",
      "Epoch [954/2000], Loss: 0.0716\n",
      "Epoch [955/2000], Loss: 0.0739\n",
      "Epoch [956/2000], Loss: 0.0766\n",
      "Epoch [957/2000], Loss: 0.0754\n",
      "Epoch [958/2000], Loss: 0.0743\n",
      "Epoch [959/2000], Loss: 0.0733\n",
      "Epoch [960/2000], Loss: 0.0733\n",
      "Epoch [961/2000], Loss: 0.0740\n",
      "Epoch [962/2000], Loss: 0.0695\n",
      "Epoch [963/2000], Loss: 0.0689\n",
      "Epoch [964/2000], Loss: 0.0797\n",
      "Epoch [965/2000], Loss: 0.0775\n",
      "Epoch [966/2000], Loss: 0.0752\n",
      "Epoch [967/2000], Loss: 0.0786\n",
      "Epoch [968/2000], Loss: 0.0718\n",
      "Epoch [969/2000], Loss: 0.0741\n",
      "Epoch [970/2000], Loss: 0.0721\n",
      "Epoch [971/2000], Loss: 0.0718\n",
      "Epoch [972/2000], Loss: 0.0819\n",
      "Epoch [973/2000], Loss: 0.0696\n",
      "Epoch [974/2000], Loss: 0.0721\n",
      "Epoch [975/2000], Loss: 0.0674\n",
      "Epoch [976/2000], Loss: 0.0706\n",
      "Epoch [977/2000], Loss: 0.0725\n",
      "Epoch [978/2000], Loss: 0.0783\n",
      "Epoch [979/2000], Loss: 0.0759\n",
      "Epoch [980/2000], Loss: 0.0817\n",
      "Epoch [981/2000], Loss: 0.0686\n",
      "Epoch [982/2000], Loss: 0.0748\n",
      "Epoch [983/2000], Loss: 0.0770\n",
      "Epoch [984/2000], Loss: 0.0716\n",
      "Epoch [985/2000], Loss: 0.0651\n",
      "Epoch [986/2000], Loss: 0.0670\n",
      "Epoch [987/2000], Loss: 0.0713\n",
      "Epoch [988/2000], Loss: 0.0686\n",
      "Epoch [989/2000], Loss: 0.0751\n",
      "Epoch [990/2000], Loss: 0.0677\n",
      "Epoch [991/2000], Loss: 0.0759\n",
      "Epoch [992/2000], Loss: 0.0664\n",
      "Epoch [993/2000], Loss: 0.0673\n",
      "Epoch [994/2000], Loss: 0.0750\n",
      "Epoch [995/2000], Loss: 0.0700\n",
      "Epoch [996/2000], Loss: 0.0705\n",
      "Epoch [997/2000], Loss: 0.0767\n",
      "Epoch [998/2000], Loss: 0.0715\n",
      "Epoch [999/2000], Loss: 0.0737\n",
      "Epoch [1000/2000], Loss: 0.0752\n",
      "Epoch [1001/2000], Loss: 0.0765\n",
      "Epoch [1002/2000], Loss: 0.0724\n",
      "Epoch [1003/2000], Loss: 0.0674\n",
      "Epoch [1004/2000], Loss: 0.0673\n",
      "Epoch [1005/2000], Loss: 0.0752\n",
      "Epoch [1006/2000], Loss: 0.0732\n",
      "Epoch [1007/2000], Loss: 0.0762\n",
      "Epoch [1008/2000], Loss: 0.0675\n",
      "Epoch [1009/2000], Loss: 0.0757\n",
      "Epoch [1010/2000], Loss: 0.0741\n",
      "Epoch [1011/2000], Loss: 0.0631\n",
      "Epoch [1012/2000], Loss: 0.0673\n",
      "Epoch [1013/2000], Loss: 0.0634\n",
      "Epoch [1014/2000], Loss: 0.0691\n",
      "Epoch [1015/2000], Loss: 0.0639\n",
      "Epoch [1016/2000], Loss: 0.0675\n",
      "Epoch [1017/2000], Loss: 0.0697\n",
      "Epoch [1018/2000], Loss: 0.0844\n",
      "Epoch [1019/2000], Loss: 0.0739\n",
      "Epoch [1020/2000], Loss: 0.0619\n",
      "Epoch [1021/2000], Loss: 0.0704\n",
      "Epoch [1022/2000], Loss: 0.0682\n",
      "Epoch [1023/2000], Loss: 0.0666\n",
      "Epoch [1024/2000], Loss: 0.0662\n",
      "Epoch [1025/2000], Loss: 0.0664\n",
      "Epoch [1026/2000], Loss: 0.0686\n",
      "Epoch [1027/2000], Loss: 0.0673\n",
      "Epoch [1028/2000], Loss: 0.0664\n",
      "Epoch [1029/2000], Loss: 0.0695\n",
      "Epoch [1030/2000], Loss: 0.0732\n",
      "Epoch [1031/2000], Loss: 0.0680\n",
      "Epoch [1032/2000], Loss: 0.0704\n",
      "Epoch [1033/2000], Loss: 0.0728\n",
      "Epoch [1034/2000], Loss: 0.0778\n",
      "Epoch [1035/2000], Loss: 0.0624\n",
      "Epoch [1036/2000], Loss: 0.0670\n",
      "Epoch [1037/2000], Loss: 0.0715\n",
      "Epoch [1038/2000], Loss: 0.0660\n",
      "Epoch [1039/2000], Loss: 0.0691\n",
      "Epoch [1040/2000], Loss: 0.0745\n",
      "Epoch [1041/2000], Loss: 0.0715\n",
      "Epoch [1042/2000], Loss: 0.0711\n",
      "Epoch [1043/2000], Loss: 0.0677\n",
      "Epoch [1044/2000], Loss: 0.0676\n",
      "Epoch [1045/2000], Loss: 0.0727\n",
      "Epoch [1046/2000], Loss: 0.0792\n",
      "Epoch [1047/2000], Loss: 0.0720\n",
      "Epoch [1048/2000], Loss: 0.0718\n",
      "Epoch [1049/2000], Loss: 0.0682\n",
      "Epoch [1050/2000], Loss: 0.0707\n",
      "Epoch [1051/2000], Loss: 0.0701\n",
      "Epoch [1052/2000], Loss: 0.0690\n",
      "Epoch [1053/2000], Loss: 0.0647\n",
      "Epoch [1054/2000], Loss: 0.0695\n",
      "Epoch [1055/2000], Loss: 0.0776\n",
      "Epoch [1056/2000], Loss: 0.0710\n",
      "Epoch [1057/2000], Loss: 0.0670\n",
      "Epoch [1058/2000], Loss: 0.0654\n",
      "Epoch [1059/2000], Loss: 0.0679\n",
      "Epoch [1060/2000], Loss: 0.0637\n",
      "Epoch [1061/2000], Loss: 0.0635\n",
      "Epoch [1062/2000], Loss: 0.0655\n",
      "Epoch [1063/2000], Loss: 0.0679\n",
      "Epoch [1064/2000], Loss: 0.0699\n",
      "Epoch [1065/2000], Loss: 0.0703\n",
      "Epoch [1066/2000], Loss: 0.0629\n",
      "Epoch [1067/2000], Loss: 0.0685\n",
      "Epoch [1068/2000], Loss: 0.0628\n",
      "Epoch [1069/2000], Loss: 0.0701\n",
      "Epoch [1070/2000], Loss: 0.0649\n",
      "Epoch [1071/2000], Loss: 0.0706\n",
      "Epoch [1072/2000], Loss: 0.0653\n",
      "Epoch [1073/2000], Loss: 0.0573\n",
      "Epoch [1074/2000], Loss: 0.0666\n",
      "Epoch [1075/2000], Loss: 0.0671\n",
      "Epoch [1076/2000], Loss: 0.0629\n",
      "Epoch [1077/2000], Loss: 0.0651\n",
      "Epoch [1078/2000], Loss: 0.0719\n",
      "Epoch [1079/2000], Loss: 0.0725\n",
      "Epoch [1080/2000], Loss: 0.0656\n",
      "Epoch [1081/2000], Loss: 0.0688\n",
      "Epoch [1082/2000], Loss: 0.0627\n",
      "Epoch [1083/2000], Loss: 0.0631\n",
      "Epoch [1084/2000], Loss: 0.0609\n",
      "Epoch [1085/2000], Loss: 0.0627\n",
      "Epoch [1086/2000], Loss: 0.0647\n",
      "Epoch [1087/2000], Loss: 0.0683\n",
      "Epoch [1088/2000], Loss: 0.0724\n",
      "Epoch [1089/2000], Loss: 0.0628\n",
      "Epoch [1090/2000], Loss: 0.0663\n",
      "Epoch [1091/2000], Loss: 0.0616\n",
      "Epoch [1092/2000], Loss: 0.0645\n",
      "Epoch [1093/2000], Loss: 0.0697\n",
      "Epoch [1094/2000], Loss: 0.0751\n",
      "Epoch [1095/2000], Loss: 0.0684\n",
      "Epoch [1096/2000], Loss: 0.0648\n",
      "Epoch [1097/2000], Loss: 0.0698\n",
      "Epoch [1098/2000], Loss: 0.0574\n",
      "Epoch [1099/2000], Loss: 0.0639\n",
      "Epoch [1100/2000], Loss: 0.0645\n",
      "Epoch [1101/2000], Loss: 0.0710\n",
      "Epoch [1102/2000], Loss: 0.0604\n",
      "Epoch [1103/2000], Loss: 0.0621\n",
      "Epoch [1104/2000], Loss: 0.0637\n",
      "Epoch [1105/2000], Loss: 0.0604\n",
      "Epoch [1106/2000], Loss: 0.0720\n",
      "Epoch [1107/2000], Loss: 0.0669\n",
      "Epoch [1108/2000], Loss: 0.0613\n",
      "Epoch [1109/2000], Loss: 0.0595\n",
      "Epoch [1110/2000], Loss: 0.0656\n",
      "Epoch [1111/2000], Loss: 0.0673\n",
      "Epoch [1112/2000], Loss: 0.0722\n",
      "Epoch [1113/2000], Loss: 0.0639\n",
      "Epoch [1114/2000], Loss: 0.0632\n",
      "Epoch [1115/2000], Loss: 0.0605\n",
      "Epoch [1116/2000], Loss: 0.0644\n",
      "Epoch [1117/2000], Loss: 0.0623\n",
      "Epoch [1118/2000], Loss: 0.0556\n",
      "Epoch [1119/2000], Loss: 0.0593\n",
      "Epoch [1120/2000], Loss: 0.0674\n",
      "Epoch [1121/2000], Loss: 0.0700\n",
      "Epoch [1122/2000], Loss: 0.0669\n",
      "Epoch [1123/2000], Loss: 0.0627\n",
      "Epoch [1124/2000], Loss: 0.0607\n",
      "Epoch [1125/2000], Loss: 0.0639\n",
      "Epoch [1126/2000], Loss: 0.0599\n",
      "Epoch [1127/2000], Loss: 0.0642\n",
      "Epoch [1128/2000], Loss: 0.0647\n",
      "Epoch [1129/2000], Loss: 0.0687\n",
      "Epoch [1130/2000], Loss: 0.0591\n",
      "Epoch [1131/2000], Loss: 0.0598\n",
      "Epoch [1132/2000], Loss: 0.0614\n",
      "Epoch [1133/2000], Loss: 0.0611\n",
      "Epoch [1134/2000], Loss: 0.0614\n",
      "Epoch [1135/2000], Loss: 0.0653\n",
      "Epoch [1136/2000], Loss: 0.0617\n",
      "Epoch [1137/2000], Loss: 0.0635\n",
      "Epoch [1138/2000], Loss: 0.0605\n",
      "Epoch [1139/2000], Loss: 0.0639\n",
      "Epoch [1140/2000], Loss: 0.0568\n",
      "Epoch [1141/2000], Loss: 0.0681\n",
      "Epoch [1142/2000], Loss: 0.0644\n",
      "Epoch [1143/2000], Loss: 0.0608\n",
      "Epoch [1144/2000], Loss: 0.0603\n",
      "Epoch [1145/2000], Loss: 0.0615\n",
      "Epoch [1146/2000], Loss: 0.0649\n",
      "Epoch [1147/2000], Loss: 0.0635\n",
      "Epoch [1148/2000], Loss: 0.0577\n",
      "Epoch [1149/2000], Loss: 0.0598\n",
      "Epoch [1150/2000], Loss: 0.0591\n",
      "Epoch [1151/2000], Loss: 0.0584\n",
      "Epoch [1152/2000], Loss: 0.0601\n",
      "Epoch [1153/2000], Loss: 0.0610\n",
      "Epoch [1154/2000], Loss: 0.0633\n",
      "Epoch [1155/2000], Loss: 0.0594\n",
      "Epoch [1156/2000], Loss: 0.0607\n",
      "Epoch [1157/2000], Loss: 0.0641\n",
      "Epoch [1158/2000], Loss: 0.0662\n",
      "Epoch [1159/2000], Loss: 0.0609\n",
      "Epoch [1160/2000], Loss: 0.0575\n",
      "Epoch [1161/2000], Loss: 0.0624\n",
      "Epoch [1162/2000], Loss: 0.0589\n",
      "Epoch [1163/2000], Loss: 0.0578\n",
      "Epoch [1164/2000], Loss: 0.0623\n",
      "Epoch [1165/2000], Loss: 0.0624\n",
      "Epoch [1166/2000], Loss: 0.0644\n",
      "Epoch [1167/2000], Loss: 0.0577\n",
      "Epoch [1168/2000], Loss: 0.0552\n",
      "Epoch [1169/2000], Loss: 0.0622\n",
      "Epoch [1170/2000], Loss: 0.0582\n",
      "Epoch [1171/2000], Loss: 0.0587\n",
      "Epoch [1172/2000], Loss: 0.0634\n",
      "Epoch [1173/2000], Loss: 0.0579\n",
      "Epoch [1174/2000], Loss: 0.0640\n",
      "Epoch [1175/2000], Loss: 0.0570\n",
      "Epoch [1176/2000], Loss: 0.0605\n",
      "Epoch [1177/2000], Loss: 0.0627\n",
      "Epoch [1178/2000], Loss: 0.0552\n",
      "Epoch [1179/2000], Loss: 0.0628\n",
      "Epoch [1180/2000], Loss: 0.0610\n",
      "Epoch [1181/2000], Loss: 0.0617\n",
      "Epoch [1182/2000], Loss: 0.0602\n",
      "Epoch [1183/2000], Loss: 0.0600\n",
      "Epoch [1184/2000], Loss: 0.0574\n",
      "Epoch [1185/2000], Loss: 0.0605\n",
      "Epoch [1186/2000], Loss: 0.0638\n",
      "Epoch [1187/2000], Loss: 0.0650\n",
      "Epoch [1188/2000], Loss: 0.0567\n",
      "Epoch [1189/2000], Loss: 0.0602\n",
      "Epoch [1190/2000], Loss: 0.0585\n",
      "Epoch [1191/2000], Loss: 0.0604\n",
      "Epoch [1192/2000], Loss: 0.0582\n",
      "Epoch [1193/2000], Loss: 0.0615\n",
      "Epoch [1194/2000], Loss: 0.0668\n",
      "Epoch [1195/2000], Loss: 0.0571\n",
      "Epoch [1196/2000], Loss: 0.0613\n",
      "Epoch [1197/2000], Loss: 0.0644\n",
      "Epoch [1198/2000], Loss: 0.0577\n",
      "Epoch [1199/2000], Loss: 0.0568\n",
      "Epoch [1200/2000], Loss: 0.0616\n",
      "Epoch [1201/2000], Loss: 0.0560\n",
      "Epoch [1202/2000], Loss: 0.0608\n",
      "Epoch [1203/2000], Loss: 0.0617\n",
      "Epoch [1204/2000], Loss: 0.0563\n",
      "Epoch [1205/2000], Loss: 0.0580\n",
      "Epoch [1206/2000], Loss: 0.0602\n",
      "Epoch [1207/2000], Loss: 0.0592\n",
      "Epoch [1208/2000], Loss: 0.0551\n",
      "Epoch [1209/2000], Loss: 0.0586\n",
      "Epoch [1210/2000], Loss: 0.0578\n",
      "Epoch [1211/2000], Loss: 0.0549\n",
      "Epoch [1212/2000], Loss: 0.0650\n",
      "Epoch [1213/2000], Loss: 0.0607\n",
      "Epoch [1214/2000], Loss: 0.0573\n",
      "Epoch [1215/2000], Loss: 0.0540\n",
      "Epoch [1216/2000], Loss: 0.0568\n",
      "Epoch [1217/2000], Loss: 0.0570\n",
      "Epoch [1218/2000], Loss: 0.0540\n",
      "Epoch [1219/2000], Loss: 0.0638\n",
      "Epoch [1220/2000], Loss: 0.0521\n",
      "Epoch [1221/2000], Loss: 0.0572\n",
      "Epoch [1222/2000], Loss: 0.0552\n",
      "Epoch [1223/2000], Loss: 0.0590\n",
      "Epoch [1224/2000], Loss: 0.0601\n",
      "Epoch [1225/2000], Loss: 0.0555\n",
      "Epoch [1226/2000], Loss: 0.0534\n",
      "Epoch [1227/2000], Loss: 0.0596\n",
      "Epoch [1228/2000], Loss: 0.0596\n",
      "Epoch [1229/2000], Loss: 0.0558\n",
      "Epoch [1230/2000], Loss: 0.0586\n",
      "Epoch [1231/2000], Loss: 0.0570\n",
      "Epoch [1232/2000], Loss: 0.0546\n",
      "Epoch [1233/2000], Loss: 0.0628\n",
      "Epoch [1234/2000], Loss: 0.0557\n",
      "Epoch [1235/2000], Loss: 0.0574\n",
      "Epoch [1236/2000], Loss: 0.0622\n",
      "Epoch [1237/2000], Loss: 0.0544\n",
      "Epoch [1238/2000], Loss: 0.0536\n",
      "Epoch [1239/2000], Loss: 0.0564\n",
      "Epoch [1240/2000], Loss: 0.0578\n",
      "Epoch [1241/2000], Loss: 0.0514\n",
      "Epoch [1242/2000], Loss: 0.0600\n",
      "Epoch [1243/2000], Loss: 0.0593\n",
      "Epoch [1244/2000], Loss: 0.0590\n",
      "Epoch [1245/2000], Loss: 0.0537\n",
      "Epoch [1246/2000], Loss: 0.0565\n",
      "Epoch [1247/2000], Loss: 0.0580\n",
      "Epoch [1248/2000], Loss: 0.0538\n",
      "Epoch [1249/2000], Loss: 0.0598\n",
      "Epoch [1250/2000], Loss: 0.0610\n",
      "Epoch [1251/2000], Loss: 0.0606\n",
      "Epoch [1252/2000], Loss: 0.0611\n",
      "Epoch [1253/2000], Loss: 0.0599\n",
      "Epoch [1254/2000], Loss: 0.0565\n",
      "Epoch [1255/2000], Loss: 0.0610\n",
      "Epoch [1256/2000], Loss: 0.0559\n",
      "Epoch [1257/2000], Loss: 0.0585\n",
      "Epoch [1258/2000], Loss: 0.0566\n",
      "Epoch [1259/2000], Loss: 0.0551\n",
      "Epoch [1260/2000], Loss: 0.0510\n",
      "Epoch [1261/2000], Loss: 0.0559\n",
      "Epoch [1262/2000], Loss: 0.0510\n",
      "Epoch [1263/2000], Loss: 0.0612\n",
      "Epoch [1264/2000], Loss: 0.0575\n",
      "Epoch [1265/2000], Loss: 0.0488\n",
      "Epoch [1266/2000], Loss: 0.0611\n",
      "Epoch [1267/2000], Loss: 0.0574\n",
      "Epoch [1268/2000], Loss: 0.0512\n",
      "Epoch [1269/2000], Loss: 0.0530\n",
      "Epoch [1270/2000], Loss: 0.0598\n",
      "Epoch [1271/2000], Loss: 0.0652\n",
      "Epoch [1272/2000], Loss: 0.0585\n",
      "Epoch [1273/2000], Loss: 0.0597\n",
      "Epoch [1274/2000], Loss: 0.0632\n",
      "Epoch [1275/2000], Loss: 0.0576\n",
      "Epoch [1276/2000], Loss: 0.0612\n",
      "Epoch [1277/2000], Loss: 0.0579\n",
      "Epoch [1278/2000], Loss: 0.0551\n",
      "Epoch [1279/2000], Loss: 0.0545\n",
      "Epoch [1280/2000], Loss: 0.0524\n",
      "Epoch [1281/2000], Loss: 0.0506\n",
      "Epoch [1282/2000], Loss: 0.0541\n",
      "Epoch [1283/2000], Loss: 0.0538\n",
      "Epoch [1284/2000], Loss: 0.0530\n",
      "Epoch [1285/2000], Loss: 0.0529\n",
      "Epoch [1286/2000], Loss: 0.0526\n",
      "Epoch [1287/2000], Loss: 0.0597\n",
      "Epoch [1288/2000], Loss: 0.0624\n",
      "Epoch [1289/2000], Loss: 0.0544\n",
      "Epoch [1290/2000], Loss: 0.0575\n",
      "Epoch [1291/2000], Loss: 0.0581\n",
      "Epoch [1292/2000], Loss: 0.0500\n",
      "Epoch [1293/2000], Loss: 0.0561\n",
      "Epoch [1294/2000], Loss: 0.0569\n",
      "Epoch [1295/2000], Loss: 0.0574\n",
      "Epoch [1296/2000], Loss: 0.0567\n",
      "Epoch [1297/2000], Loss: 0.0566\n",
      "Epoch [1298/2000], Loss: 0.0540\n",
      "Epoch [1299/2000], Loss: 0.0584\n",
      "Epoch [1300/2000], Loss: 0.0593\n",
      "Epoch [1301/2000], Loss: 0.0598\n",
      "Epoch [1302/2000], Loss: 0.0543\n",
      "Epoch [1303/2000], Loss: 0.0512\n",
      "Epoch [1304/2000], Loss: 0.0540\n",
      "Epoch [1305/2000], Loss: 0.0517\n",
      "Epoch [1306/2000], Loss: 0.0636\n",
      "Epoch [1307/2000], Loss: 0.0562\n",
      "Epoch [1308/2000], Loss: 0.0533\n",
      "Epoch [1309/2000], Loss: 0.0597\n",
      "Epoch [1310/2000], Loss: 0.0598\n",
      "Epoch [1311/2000], Loss: 0.0544\n",
      "Epoch [1312/2000], Loss: 0.0507\n",
      "Epoch [1313/2000], Loss: 0.0526\n",
      "Epoch [1314/2000], Loss: 0.0633\n",
      "Epoch [1315/2000], Loss: 0.0482\n",
      "Epoch [1316/2000], Loss: 0.0517\n",
      "Epoch [1317/2000], Loss: 0.0562\n",
      "Epoch [1318/2000], Loss: 0.0549\n",
      "Epoch [1319/2000], Loss: 0.0523\n",
      "Epoch [1320/2000], Loss: 0.0625\n",
      "Epoch [1321/2000], Loss: 0.0512\n",
      "Epoch [1322/2000], Loss: 0.0550\n",
      "Epoch [1323/2000], Loss: 0.0595\n",
      "Epoch [1324/2000], Loss: 0.0507\n",
      "Epoch [1325/2000], Loss: 0.0520\n",
      "Epoch [1326/2000], Loss: 0.0548\n",
      "Epoch [1327/2000], Loss: 0.0569\n",
      "Epoch [1328/2000], Loss: 0.0554\n",
      "Epoch [1329/2000], Loss: 0.0579\n",
      "Epoch [1330/2000], Loss: 0.0560\n",
      "Epoch [1331/2000], Loss: 0.0518\n",
      "Epoch [1332/2000], Loss: 0.0523\n",
      "Epoch [1333/2000], Loss: 0.0577\n",
      "Epoch [1334/2000], Loss: 0.0541\n",
      "Epoch [1335/2000], Loss: 0.0537\n",
      "Epoch [1336/2000], Loss: 0.0513\n",
      "Epoch [1337/2000], Loss: 0.0541\n",
      "Epoch [1338/2000], Loss: 0.0478\n",
      "Epoch [1339/2000], Loss: 0.0588\n",
      "Epoch [1340/2000], Loss: 0.0533\n",
      "Epoch [1341/2000], Loss: 0.0531\n",
      "Epoch [1342/2000], Loss: 0.0526\n",
      "Epoch [1343/2000], Loss: 0.0512\n",
      "Epoch [1344/2000], Loss: 0.0505\n",
      "Epoch [1345/2000], Loss: 0.0542\n",
      "Epoch [1346/2000], Loss: 0.0508\n",
      "Epoch [1347/2000], Loss: 0.0517\n",
      "Epoch [1348/2000], Loss: 0.0539\n",
      "Epoch [1349/2000], Loss: 0.0545\n",
      "Epoch [1350/2000], Loss: 0.0545\n",
      "Epoch [1351/2000], Loss: 0.0532\n",
      "Epoch [1352/2000], Loss: 0.0488\n",
      "Epoch [1353/2000], Loss: 0.0561\n",
      "Epoch [1354/2000], Loss: 0.0539\n",
      "Epoch [1355/2000], Loss: 0.0572\n",
      "Epoch [1356/2000], Loss: 0.0475\n",
      "Epoch [1357/2000], Loss: 0.0498\n",
      "Epoch [1358/2000], Loss: 0.0545\n",
      "Epoch [1359/2000], Loss: 0.0517\n",
      "Epoch [1360/2000], Loss: 0.0515\n",
      "Epoch [1361/2000], Loss: 0.0551\n",
      "Epoch [1362/2000], Loss: 0.0517\n",
      "Epoch [1363/2000], Loss: 0.0514\n",
      "Epoch [1364/2000], Loss: 0.0495\n",
      "Epoch [1365/2000], Loss: 0.0516\n",
      "Epoch [1366/2000], Loss: 0.0588\n",
      "Epoch [1367/2000], Loss: 0.0507\n",
      "Epoch [1368/2000], Loss: 0.0497\n",
      "Epoch [1369/2000], Loss: 0.0482\n",
      "Epoch [1370/2000], Loss: 0.0515\n",
      "Epoch [1371/2000], Loss: 0.0551\n",
      "Epoch [1372/2000], Loss: 0.0528\n",
      "Epoch [1373/2000], Loss: 0.0496\n",
      "Epoch [1374/2000], Loss: 0.0544\n",
      "Epoch [1375/2000], Loss: 0.0509\n",
      "Epoch [1376/2000], Loss: 0.0478\n",
      "Epoch [1377/2000], Loss: 0.0497\n",
      "Epoch [1378/2000], Loss: 0.0536\n",
      "Epoch [1379/2000], Loss: 0.0535\n",
      "Epoch [1380/2000], Loss: 0.0524\n",
      "Epoch [1381/2000], Loss: 0.0494\n",
      "Epoch [1382/2000], Loss: 0.0492\n",
      "Epoch [1383/2000], Loss: 0.0543\n",
      "Epoch [1384/2000], Loss: 0.0481\n",
      "Epoch [1385/2000], Loss: 0.0536\n",
      "Epoch [1386/2000], Loss: 0.0486\n",
      "Epoch [1387/2000], Loss: 0.0536\n",
      "Epoch [1388/2000], Loss: 0.0526\n",
      "Epoch [1389/2000], Loss: 0.0515\n",
      "Epoch [1390/2000], Loss: 0.0517\n",
      "Epoch [1391/2000], Loss: 0.0473\n",
      "Epoch [1392/2000], Loss: 0.0487\n",
      "Epoch [1393/2000], Loss: 0.0493\n",
      "Epoch [1394/2000], Loss: 0.0510\n",
      "Epoch [1395/2000], Loss: 0.0519\n",
      "Epoch [1396/2000], Loss: 0.0506\n",
      "Epoch [1397/2000], Loss: 0.0493\n",
      "Epoch [1398/2000], Loss: 0.0485\n",
      "Epoch [1399/2000], Loss: 0.0500\n",
      "Epoch [1400/2000], Loss: 0.0482\n",
      "Epoch [1401/2000], Loss: 0.0505\n",
      "Epoch [1402/2000], Loss: 0.0537\n",
      "Epoch [1403/2000], Loss: 0.0517\n",
      "Epoch [1404/2000], Loss: 0.0531\n",
      "Epoch [1405/2000], Loss: 0.0502\n",
      "Epoch [1406/2000], Loss: 0.0496\n",
      "Epoch [1407/2000], Loss: 0.0472\n",
      "Epoch [1408/2000], Loss: 0.0515\n",
      "Epoch [1409/2000], Loss: 0.0498\n",
      "Epoch [1410/2000], Loss: 0.0474\n",
      "Epoch [1411/2000], Loss: 0.0481\n",
      "Epoch [1412/2000], Loss: 0.0536\n",
      "Epoch [1413/2000], Loss: 0.0511\n",
      "Epoch [1414/2000], Loss: 0.0482\n",
      "Epoch [1415/2000], Loss: 0.0520\n",
      "Epoch [1416/2000], Loss: 0.0522\n",
      "Epoch [1417/2000], Loss: 0.0505\n",
      "Epoch [1418/2000], Loss: 0.0499\n",
      "Epoch [1419/2000], Loss: 0.0468\n",
      "Epoch [1420/2000], Loss: 0.0502\n",
      "Epoch [1421/2000], Loss: 0.0498\n",
      "Epoch [1422/2000], Loss: 0.0492\n",
      "Epoch [1423/2000], Loss: 0.0500\n",
      "Epoch [1424/2000], Loss: 0.0491\n",
      "Epoch [1425/2000], Loss: 0.0477\n",
      "Epoch [1426/2000], Loss: 0.0498\n",
      "Epoch [1427/2000], Loss: 0.0495\n",
      "Epoch [1428/2000], Loss: 0.0490\n",
      "Epoch [1429/2000], Loss: 0.0487\n",
      "Epoch [1430/2000], Loss: 0.0495\n",
      "Epoch [1431/2000], Loss: 0.0516\n",
      "Epoch [1432/2000], Loss: 0.0506\n",
      "Epoch [1433/2000], Loss: 0.0482\n",
      "Epoch [1434/2000], Loss: 0.0483\n",
      "Epoch [1435/2000], Loss: 0.0488\n",
      "Epoch [1436/2000], Loss: 0.0521\n",
      "Epoch [1437/2000], Loss: 0.0476\n",
      "Epoch [1438/2000], Loss: 0.0501\n",
      "Epoch [1439/2000], Loss: 0.0525\n",
      "Epoch [1440/2000], Loss: 0.0515\n",
      "Epoch [1441/2000], Loss: 0.0506\n",
      "Epoch [1442/2000], Loss: 0.0460\n",
      "Epoch [1443/2000], Loss: 0.0466\n",
      "Epoch [1444/2000], Loss: 0.0503\n",
      "Epoch [1445/2000], Loss: 0.0514\n",
      "Epoch [1446/2000], Loss: 0.0467\n",
      "Epoch [1447/2000], Loss: 0.0514\n",
      "Epoch [1448/2000], Loss: 0.0498\n",
      "Epoch [1449/2000], Loss: 0.0491\n",
      "Epoch [1450/2000], Loss: 0.0485\n",
      "Epoch [1451/2000], Loss: 0.0479\n",
      "Epoch [1452/2000], Loss: 0.0500\n",
      "Epoch [1453/2000], Loss: 0.0462\n",
      "Epoch [1454/2000], Loss: 0.0466\n",
      "Epoch [1455/2000], Loss: 0.0511\n",
      "Epoch [1456/2000], Loss: 0.0590\n",
      "Epoch [1457/2000], Loss: 0.0496\n",
      "Epoch [1458/2000], Loss: 0.0493\n",
      "Epoch [1459/2000], Loss: 0.0501\n",
      "Epoch [1460/2000], Loss: 0.0511\n",
      "Epoch [1461/2000], Loss: 0.0451\n",
      "Epoch [1462/2000], Loss: 0.0483\n",
      "Epoch [1463/2000], Loss: 0.0515\n",
      "Epoch [1464/2000], Loss: 0.0527\n",
      "Epoch [1465/2000], Loss: 0.0426\n",
      "Epoch [1466/2000], Loss: 0.0516\n",
      "Epoch [1467/2000], Loss: 0.0433\n",
      "Epoch [1468/2000], Loss: 0.0501\n",
      "Epoch [1469/2000], Loss: 0.0500\n",
      "Epoch [1470/2000], Loss: 0.0516\n",
      "Epoch [1471/2000], Loss: 0.0478\n",
      "Epoch [1472/2000], Loss: 0.0507\n",
      "Epoch [1473/2000], Loss: 0.0486\n",
      "Epoch [1474/2000], Loss: 0.0495\n",
      "Epoch [1475/2000], Loss: 0.0413\n",
      "Epoch [1476/2000], Loss: 0.0469\n",
      "Epoch [1477/2000], Loss: 0.0480\n",
      "Epoch [1478/2000], Loss: 0.0539\n",
      "Epoch [1479/2000], Loss: 0.0503\n",
      "Epoch [1480/2000], Loss: 0.0477\n",
      "Epoch [1481/2000], Loss: 0.0484\n",
      "Epoch [1482/2000], Loss: 0.0512\n",
      "Epoch [1483/2000], Loss: 0.0488\n",
      "Epoch [1484/2000], Loss: 0.0463\n",
      "Epoch [1485/2000], Loss: 0.0443\n",
      "Epoch [1486/2000], Loss: 0.0459\n",
      "Epoch [1487/2000], Loss: 0.0538\n",
      "Epoch [1488/2000], Loss: 0.0504\n",
      "Epoch [1489/2000], Loss: 0.0473\n",
      "Epoch [1490/2000], Loss: 0.0495\n",
      "Epoch [1491/2000], Loss: 0.0499\n",
      "Epoch [1492/2000], Loss: 0.0422\n",
      "Epoch [1493/2000], Loss: 0.0473\n",
      "Epoch [1494/2000], Loss: 0.0450\n",
      "Epoch [1495/2000], Loss: 0.0449\n",
      "Epoch [1496/2000], Loss: 0.0477\n",
      "Epoch [1497/2000], Loss: 0.0496\n",
      "Epoch [1498/2000], Loss: 0.0489\n",
      "Epoch [1499/2000], Loss: 0.0484\n",
      "Epoch [1500/2000], Loss: 0.0514\n",
      "Epoch [1501/2000], Loss: 0.0465\n",
      "Epoch [1502/2000], Loss: 0.0486\n",
      "Epoch [1503/2000], Loss: 0.0492\n",
      "Epoch [1504/2000], Loss: 0.0512\n",
      "Epoch [1505/2000], Loss: 0.0510\n",
      "Epoch [1506/2000], Loss: 0.0474\n",
      "Epoch [1507/2000], Loss: 0.0477\n",
      "Epoch [1508/2000], Loss: 0.0434\n",
      "Epoch [1509/2000], Loss: 0.0400\n",
      "Epoch [1510/2000], Loss: 0.0461\n",
      "Epoch [1511/2000], Loss: 0.0489\n",
      "Epoch [1512/2000], Loss: 0.0450\n",
      "Epoch [1513/2000], Loss: 0.0462\n",
      "Epoch [1514/2000], Loss: 0.0450\n",
      "Epoch [1515/2000], Loss: 0.0524\n",
      "Epoch [1516/2000], Loss: 0.0451\n",
      "Epoch [1517/2000], Loss: 0.0480\n",
      "Epoch [1518/2000], Loss: 0.0478\n",
      "Epoch [1519/2000], Loss: 0.0456\n",
      "Epoch [1520/2000], Loss: 0.0511\n",
      "Epoch [1521/2000], Loss: 0.0499\n",
      "Epoch [1522/2000], Loss: 0.0501\n",
      "Epoch [1523/2000], Loss: 0.0472\n",
      "Epoch [1524/2000], Loss: 0.0495\n",
      "Epoch [1525/2000], Loss: 0.0480\n",
      "Epoch [1526/2000], Loss: 0.0410\n",
      "Epoch [1527/2000], Loss: 0.0455\n",
      "Epoch [1528/2000], Loss: 0.0431\n",
      "Epoch [1529/2000], Loss: 0.0486\n",
      "Epoch [1530/2000], Loss: 0.0434\n",
      "Epoch [1531/2000], Loss: 0.0471\n",
      "Epoch [1532/2000], Loss: 0.0426\n",
      "Epoch [1533/2000], Loss: 0.0490\n",
      "Epoch [1534/2000], Loss: 0.0456\n",
      "Epoch [1535/2000], Loss: 0.0442\n",
      "Epoch [1536/2000], Loss: 0.0500\n",
      "Epoch [1537/2000], Loss: 0.0465\n",
      "Epoch [1538/2000], Loss: 0.0495\n",
      "Epoch [1539/2000], Loss: 0.0490\n",
      "Epoch [1540/2000], Loss: 0.0431\n",
      "Epoch [1541/2000], Loss: 0.0515\n",
      "Epoch [1542/2000], Loss: 0.0445\n",
      "Epoch [1543/2000], Loss: 0.0463\n",
      "Epoch [1544/2000], Loss: 0.0449\n",
      "Epoch [1545/2000], Loss: 0.0468\n",
      "Epoch [1546/2000], Loss: 0.0484\n",
      "Epoch [1547/2000], Loss: 0.0446\n",
      "Epoch [1548/2000], Loss: 0.0470\n",
      "Epoch [1549/2000], Loss: 0.0515\n",
      "Epoch [1550/2000], Loss: 0.0508\n",
      "Epoch [1551/2000], Loss: 0.0420\n",
      "Epoch [1552/2000], Loss: 0.0464\n",
      "Epoch [1553/2000], Loss: 0.0447\n",
      "Epoch [1554/2000], Loss: 0.0490\n",
      "Epoch [1555/2000], Loss: 0.0415\n",
      "Epoch [1556/2000], Loss: 0.0426\n",
      "Epoch [1557/2000], Loss: 0.0441\n",
      "Epoch [1558/2000], Loss: 0.0488\n",
      "Epoch [1559/2000], Loss: 0.0504\n",
      "Epoch [1560/2000], Loss: 0.0482\n",
      "Epoch [1561/2000], Loss: 0.0509\n",
      "Epoch [1562/2000], Loss: 0.0429\n",
      "Epoch [1563/2000], Loss: 0.0415\n",
      "Epoch [1564/2000], Loss: 0.0486\n",
      "Epoch [1565/2000], Loss: 0.0493\n",
      "Epoch [1566/2000], Loss: 0.0439\n",
      "Epoch [1567/2000], Loss: 0.0498\n",
      "Epoch [1568/2000], Loss: 0.0462\n",
      "Epoch [1569/2000], Loss: 0.0472\n",
      "Epoch [1570/2000], Loss: 0.0516\n",
      "Epoch [1571/2000], Loss: 0.0459\n",
      "Epoch [1572/2000], Loss: 0.0447\n",
      "Epoch [1573/2000], Loss: 0.0508\n",
      "Epoch [1574/2000], Loss: 0.0512\n",
      "Epoch [1575/2000], Loss: 0.0434\n",
      "Epoch [1576/2000], Loss: 0.0420\n",
      "Epoch [1577/2000], Loss: 0.0435\n",
      "Epoch [1578/2000], Loss: 0.0465\n",
      "Epoch [1579/2000], Loss: 0.0477\n",
      "Epoch [1580/2000], Loss: 0.0462\n",
      "Epoch [1581/2000], Loss: 0.0458\n",
      "Epoch [1582/2000], Loss: 0.0468\n",
      "Epoch [1583/2000], Loss: 0.0474\n",
      "Epoch [1584/2000], Loss: 0.0430\n",
      "Epoch [1585/2000], Loss: 0.0451\n",
      "Epoch [1586/2000], Loss: 0.0466\n",
      "Epoch [1587/2000], Loss: 0.0428\n",
      "Epoch [1588/2000], Loss: 0.0469\n",
      "Epoch [1589/2000], Loss: 0.0469\n",
      "Epoch [1590/2000], Loss: 0.0441\n",
      "Epoch [1591/2000], Loss: 0.0430\n",
      "Epoch [1592/2000], Loss: 0.0448\n",
      "Epoch [1593/2000], Loss: 0.0481\n",
      "Epoch [1594/2000], Loss: 0.0486\n",
      "Epoch [1595/2000], Loss: 0.0433\n",
      "Epoch [1596/2000], Loss: 0.0452\n",
      "Epoch [1597/2000], Loss: 0.0451\n",
      "Epoch [1598/2000], Loss: 0.0457\n",
      "Epoch [1599/2000], Loss: 0.0451\n",
      "Epoch [1600/2000], Loss: 0.0423\n",
      "Epoch [1601/2000], Loss: 0.0447\n",
      "Epoch [1602/2000], Loss: 0.0388\n",
      "Epoch [1603/2000], Loss: 0.0420\n",
      "Epoch [1604/2000], Loss: 0.0495\n",
      "Epoch [1605/2000], Loss: 0.0444\n",
      "Epoch [1606/2000], Loss: 0.0450\n",
      "Epoch [1607/2000], Loss: 0.0434\n",
      "Epoch [1608/2000], Loss: 0.0452\n",
      "Epoch [1609/2000], Loss: 0.0433\n",
      "Epoch [1610/2000], Loss: 0.0430\n",
      "Epoch [1611/2000], Loss: 0.0398\n",
      "Epoch [1612/2000], Loss: 0.0403\n",
      "Epoch [1613/2000], Loss: 0.0468\n",
      "Epoch [1614/2000], Loss: 0.0453\n",
      "Epoch [1615/2000], Loss: 0.0490\n",
      "Epoch [1616/2000], Loss: 0.0437\n",
      "Epoch [1617/2000], Loss: 0.0472\n",
      "Epoch [1618/2000], Loss: 0.0443\n",
      "Epoch [1619/2000], Loss: 0.0431\n",
      "Epoch [1620/2000], Loss: 0.0430\n",
      "Epoch [1621/2000], Loss: 0.0416\n",
      "Epoch [1622/2000], Loss: 0.0431\n",
      "Epoch [1623/2000], Loss: 0.0435\n",
      "Epoch [1624/2000], Loss: 0.0420\n",
      "Epoch [1625/2000], Loss: 0.0478\n",
      "Epoch [1626/2000], Loss: 0.0452\n",
      "Epoch [1627/2000], Loss: 0.0474\n",
      "Epoch [1628/2000], Loss: 0.0432\n",
      "Epoch [1629/2000], Loss: 0.0473\n",
      "Epoch [1630/2000], Loss: 0.0464\n",
      "Epoch [1631/2000], Loss: 0.0447\n",
      "Epoch [1632/2000], Loss: 0.0444\n",
      "Epoch [1633/2000], Loss: 0.0438\n",
      "Epoch [1634/2000], Loss: 0.0415\n",
      "Epoch [1635/2000], Loss: 0.0431\n",
      "Epoch [1636/2000], Loss: 0.0462\n",
      "Epoch [1637/2000], Loss: 0.0439\n",
      "Epoch [1638/2000], Loss: 0.0456\n",
      "Epoch [1639/2000], Loss: 0.0457\n",
      "Epoch [1640/2000], Loss: 0.0458\n",
      "Epoch [1641/2000], Loss: 0.0404\n",
      "Epoch [1642/2000], Loss: 0.0441\n",
      "Epoch [1643/2000], Loss: 0.0439\n",
      "Epoch [1644/2000], Loss: 0.0427\n",
      "Epoch [1645/2000], Loss: 0.0475\n",
      "Epoch [1646/2000], Loss: 0.0472\n",
      "Epoch [1647/2000], Loss: 0.0459\n",
      "Epoch [1648/2000], Loss: 0.0470\n",
      "Epoch [1649/2000], Loss: 0.0385\n",
      "Epoch [1650/2000], Loss: 0.0412\n",
      "Epoch [1651/2000], Loss: 0.0445\n",
      "Epoch [1652/2000], Loss: 0.0421\n",
      "Epoch [1653/2000], Loss: 0.0458\n",
      "Epoch [1654/2000], Loss: 0.0412\n",
      "Epoch [1655/2000], Loss: 0.0435\n",
      "Epoch [1656/2000], Loss: 0.0432\n",
      "Epoch [1657/2000], Loss: 0.0462\n",
      "Epoch [1658/2000], Loss: 0.0395\n",
      "Epoch [1659/2000], Loss: 0.0463\n",
      "Epoch [1660/2000], Loss: 0.0419\n",
      "Epoch [1661/2000], Loss: 0.0450\n",
      "Epoch [1662/2000], Loss: 0.0394\n",
      "Epoch [1663/2000], Loss: 0.0406\n",
      "Epoch [1664/2000], Loss: 0.0440\n",
      "Epoch [1665/2000], Loss: 0.0430\n",
      "Epoch [1666/2000], Loss: 0.0451\n",
      "Epoch [1667/2000], Loss: 0.0387\n",
      "Epoch [1668/2000], Loss: 0.0411\n",
      "Epoch [1669/2000], Loss: 0.0444\n",
      "Epoch [1670/2000], Loss: 0.0422\n",
      "Epoch [1671/2000], Loss: 0.0410\n",
      "Epoch [1672/2000], Loss: 0.0422\n",
      "Epoch [1673/2000], Loss: 0.0430\n",
      "Epoch [1674/2000], Loss: 0.0423\n",
      "Epoch [1675/2000], Loss: 0.0414\n",
      "Epoch [1676/2000], Loss: 0.0457\n",
      "Epoch [1677/2000], Loss: 0.0417\n",
      "Epoch [1678/2000], Loss: 0.0405\n",
      "Epoch [1679/2000], Loss: 0.0403\n",
      "Epoch [1680/2000], Loss: 0.0410\n",
      "Epoch [1681/2000], Loss: 0.0413\n",
      "Epoch [1682/2000], Loss: 0.0389\n",
      "Epoch [1683/2000], Loss: 0.0418\n",
      "Epoch [1684/2000], Loss: 0.0390\n",
      "Epoch [1685/2000], Loss: 0.0426\n",
      "Epoch [1686/2000], Loss: 0.0430\n",
      "Epoch [1687/2000], Loss: 0.0438\n",
      "Epoch [1688/2000], Loss: 0.0446\n",
      "Epoch [1689/2000], Loss: 0.0387\n",
      "Epoch [1690/2000], Loss: 0.0446\n",
      "Epoch [1691/2000], Loss: 0.0421\n",
      "Epoch [1692/2000], Loss: 0.0423\n",
      "Epoch [1693/2000], Loss: 0.0424\n",
      "Epoch [1694/2000], Loss: 0.0412\n",
      "Epoch [1695/2000], Loss: 0.0454\n",
      "Epoch [1696/2000], Loss: 0.0427\n",
      "Epoch [1697/2000], Loss: 0.0439\n",
      "Epoch [1698/2000], Loss: 0.0395\n",
      "Epoch [1699/2000], Loss: 0.0412\n",
      "Epoch [1700/2000], Loss: 0.0443\n",
      "Epoch [1701/2000], Loss: 0.0420\n",
      "Epoch [1702/2000], Loss: 0.0401\n",
      "Epoch [1703/2000], Loss: 0.0447\n",
      "Epoch [1704/2000], Loss: 0.0419\n",
      "Epoch [1705/2000], Loss: 0.0426\n",
      "Epoch [1706/2000], Loss: 0.0360\n",
      "Epoch [1707/2000], Loss: 0.0382\n",
      "Epoch [1708/2000], Loss: 0.0435\n",
      "Epoch [1709/2000], Loss: 0.0420\n",
      "Epoch [1710/2000], Loss: 0.0405\n",
      "Epoch [1711/2000], Loss: 0.0396\n",
      "Epoch [1712/2000], Loss: 0.0436\n",
      "Epoch [1713/2000], Loss: 0.0383\n",
      "Epoch [1714/2000], Loss: 0.0414\n",
      "Epoch [1715/2000], Loss: 0.0427\n",
      "Epoch [1716/2000], Loss: 0.0436\n",
      "Epoch [1717/2000], Loss: 0.0390\n",
      "Epoch [1718/2000], Loss: 0.0394\n",
      "Epoch [1719/2000], Loss: 0.0352\n",
      "Epoch [1720/2000], Loss: 0.0412\n",
      "Epoch [1721/2000], Loss: 0.0475\n",
      "Epoch [1722/2000], Loss: 0.0383\n",
      "Epoch [1723/2000], Loss: 0.0451\n",
      "Epoch [1724/2000], Loss: 0.0447\n",
      "Epoch [1725/2000], Loss: 0.0369\n",
      "Epoch [1726/2000], Loss: 0.0450\n",
      "Epoch [1727/2000], Loss: 0.0423\n",
      "Epoch [1728/2000], Loss: 0.0378\n",
      "Epoch [1729/2000], Loss: 0.0461\n",
      "Epoch [1730/2000], Loss: 0.0385\n",
      "Epoch [1731/2000], Loss: 0.0393\n",
      "Epoch [1732/2000], Loss: 0.0421\n",
      "Epoch [1733/2000], Loss: 0.0415\n",
      "Epoch [1734/2000], Loss: 0.0424\n",
      "Epoch [1735/2000], Loss: 0.0394\n",
      "Epoch [1736/2000], Loss: 0.0408\n",
      "Epoch [1737/2000], Loss: 0.0441\n",
      "Epoch [1738/2000], Loss: 0.0461\n",
      "Epoch [1739/2000], Loss: 0.0437\n",
      "Epoch [1740/2000], Loss: 0.0392\n",
      "Epoch [1741/2000], Loss: 0.0406\n",
      "Epoch [1742/2000], Loss: 0.0416\n",
      "Epoch [1743/2000], Loss: 0.0393\n",
      "Epoch [1744/2000], Loss: 0.0427\n",
      "Epoch [1745/2000], Loss: 0.0444\n",
      "Epoch [1746/2000], Loss: 0.0450\n",
      "Epoch [1747/2000], Loss: 0.0370\n",
      "Epoch [1748/2000], Loss: 0.0374\n",
      "Epoch [1749/2000], Loss: 0.0393\n",
      "Epoch [1750/2000], Loss: 0.0420\n",
      "Epoch [1751/2000], Loss: 0.0384\n",
      "Epoch [1752/2000], Loss: 0.0428\n",
      "Epoch [1753/2000], Loss: 0.0399\n",
      "Epoch [1754/2000], Loss: 0.0400\n",
      "Epoch [1755/2000], Loss: 0.0420\n",
      "Epoch [1756/2000], Loss: 0.0389\n",
      "Epoch [1757/2000], Loss: 0.0419\n",
      "Epoch [1758/2000], Loss: 0.0379\n",
      "Epoch [1759/2000], Loss: 0.0417\n",
      "Epoch [1760/2000], Loss: 0.0403\n",
      "Epoch [1761/2000], Loss: 0.0417\n",
      "Epoch [1762/2000], Loss: 0.0378\n",
      "Epoch [1763/2000], Loss: 0.0408\n",
      "Epoch [1764/2000], Loss: 0.0393\n",
      "Epoch [1765/2000], Loss: 0.0413\n",
      "Epoch [1766/2000], Loss: 0.0366\n",
      "Epoch [1767/2000], Loss: 0.0359\n",
      "Epoch [1768/2000], Loss: 0.0415\n",
      "Epoch [1769/2000], Loss: 0.0453\n",
      "Epoch [1770/2000], Loss: 0.0408\n",
      "Epoch [1771/2000], Loss: 0.0402\n",
      "Epoch [1772/2000], Loss: 0.0397\n",
      "Epoch [1773/2000], Loss: 0.0375\n",
      "Epoch [1774/2000], Loss: 0.0409\n",
      "Epoch [1775/2000], Loss: 0.0392\n",
      "Epoch [1776/2000], Loss: 0.0408\n",
      "Epoch [1777/2000], Loss: 0.0406\n",
      "Epoch [1778/2000], Loss: 0.0396\n",
      "Epoch [1779/2000], Loss: 0.0430\n",
      "Epoch [1780/2000], Loss: 0.0393\n",
      "Epoch [1781/2000], Loss: 0.0394\n",
      "Epoch [1782/2000], Loss: 0.0389\n",
      "Epoch [1783/2000], Loss: 0.0385\n",
      "Epoch [1784/2000], Loss: 0.0384\n",
      "Epoch [1785/2000], Loss: 0.0391\n",
      "Epoch [1786/2000], Loss: 0.0426\n",
      "Epoch [1787/2000], Loss: 0.0391\n",
      "Epoch [1788/2000], Loss: 0.0428\n",
      "Epoch [1789/2000], Loss: 0.0367\n",
      "Epoch [1790/2000], Loss: 0.0344\n",
      "Epoch [1791/2000], Loss: 0.0370\n",
      "Epoch [1792/2000], Loss: 0.0406\n",
      "Epoch [1793/2000], Loss: 0.0379\n",
      "Epoch [1794/2000], Loss: 0.0416\n",
      "Epoch [1795/2000], Loss: 0.0380\n",
      "Epoch [1796/2000], Loss: 0.0408\n",
      "Epoch [1797/2000], Loss: 0.0377\n",
      "Epoch [1798/2000], Loss: 0.0407\n",
      "Epoch [1799/2000], Loss: 0.0392\n",
      "Epoch [1800/2000], Loss: 0.0379\n",
      "Epoch [1801/2000], Loss: 0.0370\n",
      "Epoch [1802/2000], Loss: 0.0372\n",
      "Epoch [1803/2000], Loss: 0.0352\n",
      "Epoch [1804/2000], Loss: 0.0363\n",
      "Epoch [1805/2000], Loss: 0.0376\n",
      "Epoch [1806/2000], Loss: 0.0344\n",
      "Epoch [1807/2000], Loss: 0.0385\n",
      "Epoch [1808/2000], Loss: 0.0365\n",
      "Epoch [1809/2000], Loss: 0.0360\n",
      "Epoch [1810/2000], Loss: 0.0413\n",
      "Epoch [1811/2000], Loss: 0.0393\n",
      "Epoch [1812/2000], Loss: 0.0413\n",
      "Epoch [1813/2000], Loss: 0.0384\n",
      "Epoch [1814/2000], Loss: 0.0370\n",
      "Epoch [1815/2000], Loss: 0.0427\n",
      "Epoch [1816/2000], Loss: 0.0413\n",
      "Epoch [1817/2000], Loss: 0.0394\n",
      "Epoch [1818/2000], Loss: 0.0394\n",
      "Epoch [1819/2000], Loss: 0.0378\n",
      "Epoch [1820/2000], Loss: 0.0383\n",
      "Epoch [1821/2000], Loss: 0.0382\n",
      "Epoch [1822/2000], Loss: 0.0376\n",
      "Epoch [1823/2000], Loss: 0.0398\n",
      "Epoch [1824/2000], Loss: 0.0380\n",
      "Epoch [1825/2000], Loss: 0.0342\n",
      "Epoch [1826/2000], Loss: 0.0374\n",
      "Epoch [1827/2000], Loss: 0.0381\n",
      "Epoch [1828/2000], Loss: 0.0405\n",
      "Epoch [1829/2000], Loss: 0.0363\n",
      "Epoch [1830/2000], Loss: 0.0351\n",
      "Epoch [1831/2000], Loss: 0.0318\n",
      "Epoch [1832/2000], Loss: 0.0382\n",
      "Epoch [1833/2000], Loss: 0.0377\n",
      "Epoch [1834/2000], Loss: 0.0372\n",
      "Epoch [1835/2000], Loss: 0.0376\n",
      "Epoch [1836/2000], Loss: 0.0375\n",
      "Epoch [1837/2000], Loss: 0.0371\n",
      "Epoch [1838/2000], Loss: 0.0386\n",
      "Epoch [1839/2000], Loss: 0.0396\n",
      "Epoch [1840/2000], Loss: 0.0358\n",
      "Epoch [1841/2000], Loss: 0.0369\n",
      "Epoch [1842/2000], Loss: 0.0387\n",
      "Epoch [1843/2000], Loss: 0.0353\n",
      "Epoch [1844/2000], Loss: 0.0348\n",
      "Epoch [1845/2000], Loss: 0.0334\n",
      "Epoch [1846/2000], Loss: 0.0436\n",
      "Epoch [1847/2000], Loss: 0.0367\n",
      "Epoch [1848/2000], Loss: 0.0346\n",
      "Epoch [1849/2000], Loss: 0.0342\n",
      "Epoch [1850/2000], Loss: 0.0331\n",
      "Epoch [1851/2000], Loss: 0.0400\n",
      "Epoch [1852/2000], Loss: 0.0359\n",
      "Epoch [1853/2000], Loss: 0.0362\n",
      "Epoch [1854/2000], Loss: 0.0345\n",
      "Epoch [1855/2000], Loss: 0.0372\n",
      "Epoch [1856/2000], Loss: 0.0352\n",
      "Epoch [1857/2000], Loss: 0.0382\n",
      "Epoch [1858/2000], Loss: 0.0359\n",
      "Epoch [1859/2000], Loss: 0.0389\n",
      "Epoch [1860/2000], Loss: 0.0412\n",
      "Epoch [1861/2000], Loss: 0.0340\n",
      "Epoch [1862/2000], Loss: 0.0378\n",
      "Epoch [1863/2000], Loss: 0.0323\n",
      "Epoch [1864/2000], Loss: 0.0346\n",
      "Epoch [1865/2000], Loss: 0.0355\n",
      "Epoch [1866/2000], Loss: 0.0400\n",
      "Epoch [1867/2000], Loss: 0.0350\n",
      "Epoch [1868/2000], Loss: 0.0394\n",
      "Epoch [1869/2000], Loss: 0.0349\n",
      "Epoch [1870/2000], Loss: 0.0368\n",
      "Epoch [1871/2000], Loss: 0.0374\n",
      "Epoch [1872/2000], Loss: 0.0353\n",
      "Epoch [1873/2000], Loss: 0.0324\n",
      "Epoch [1874/2000], Loss: 0.0357\n",
      "Epoch [1875/2000], Loss: 0.0337\n",
      "Epoch [1876/2000], Loss: 0.0358\n",
      "Epoch [1877/2000], Loss: 0.0344\n",
      "Epoch [1878/2000], Loss: 0.0383\n",
      "Epoch [1879/2000], Loss: 0.0367\n",
      "Epoch [1880/2000], Loss: 0.0372\n",
      "Epoch [1881/2000], Loss: 0.0347\n",
      "Epoch [1882/2000], Loss: 0.0407\n",
      "Epoch [1883/2000], Loss: 0.0346\n",
      "Epoch [1884/2000], Loss: 0.0356\n",
      "Epoch [1885/2000], Loss: 0.0401\n",
      "Epoch [1886/2000], Loss: 0.0370\n",
      "Epoch [1887/2000], Loss: 0.0321\n",
      "Epoch [1888/2000], Loss: 0.0343\n",
      "Epoch [1889/2000], Loss: 0.0315\n",
      "Epoch [1890/2000], Loss: 0.0372\n",
      "Epoch [1891/2000], Loss: 0.0363\n",
      "Epoch [1892/2000], Loss: 0.0328\n",
      "Epoch [1893/2000], Loss: 0.0346\n",
      "Epoch [1894/2000], Loss: 0.0389\n",
      "Epoch [1895/2000], Loss: 0.0352\n",
      "Epoch [1896/2000], Loss: 0.0318\n",
      "Epoch [1897/2000], Loss: 0.0376\n",
      "Epoch [1898/2000], Loss: 0.0342\n",
      "Epoch [1899/2000], Loss: 0.0389\n",
      "Epoch [1900/2000], Loss: 0.0334\n",
      "Epoch [1901/2000], Loss: 0.0358\n",
      "Epoch [1902/2000], Loss: 0.0365\n",
      "Epoch [1903/2000], Loss: 0.0370\n",
      "Epoch [1904/2000], Loss: 0.0351\n",
      "Epoch [1905/2000], Loss: 0.0370\n",
      "Epoch [1906/2000], Loss: 0.0331\n",
      "Epoch [1907/2000], Loss: 0.0368\n",
      "Epoch [1908/2000], Loss: 0.0326\n",
      "Epoch [1909/2000], Loss: 0.0299\n",
      "Epoch [1910/2000], Loss: 0.0366\n",
      "Epoch [1911/2000], Loss: 0.0366\n",
      "Epoch [1912/2000], Loss: 0.0366\n",
      "Epoch [1913/2000], Loss: 0.0325\n",
      "Epoch [1914/2000], Loss: 0.0367\n",
      "Epoch [1915/2000], Loss: 0.0311\n",
      "Epoch [1916/2000], Loss: 0.0352\n",
      "Epoch [1917/2000], Loss: 0.0344\n",
      "Epoch [1918/2000], Loss: 0.0378\n",
      "Epoch [1919/2000], Loss: 0.0345\n",
      "Epoch [1920/2000], Loss: 0.0308\n",
      "Epoch [1921/2000], Loss: 0.0355\n",
      "Epoch [1922/2000], Loss: 0.0330\n",
      "Epoch [1923/2000], Loss: 0.0346\n",
      "Epoch [1924/2000], Loss: 0.0327\n",
      "Epoch [1925/2000], Loss: 0.0303\n",
      "Epoch [1926/2000], Loss: 0.0347\n",
      "Epoch [1927/2000], Loss: 0.0315\n",
      "Epoch [1928/2000], Loss: 0.0357\n",
      "Epoch [1929/2000], Loss: 0.0424\n",
      "Epoch [1930/2000], Loss: 0.0382\n",
      "Epoch [1931/2000], Loss: 0.0361\n",
      "Epoch [1932/2000], Loss: 0.0341\n",
      "Epoch [1933/2000], Loss: 0.0293\n",
      "Epoch [1934/2000], Loss: 0.0334\n",
      "Epoch [1935/2000], Loss: 0.0307\n",
      "Epoch [1936/2000], Loss: 0.0347\n",
      "Epoch [1937/2000], Loss: 0.0360\n",
      "Epoch [1938/2000], Loss: 0.0312\n",
      "Epoch [1939/2000], Loss: 0.0333\n",
      "Epoch [1940/2000], Loss: 0.0345\n",
      "Epoch [1941/2000], Loss: 0.0319\n",
      "Epoch [1942/2000], Loss: 0.0314\n",
      "Epoch [1943/2000], Loss: 0.0334\n",
      "Epoch [1944/2000], Loss: 0.0362\n",
      "Epoch [1945/2000], Loss: 0.0326\n",
      "Epoch [1946/2000], Loss: 0.0337\n",
      "Epoch [1947/2000], Loss: 0.0383\n",
      "Epoch [1948/2000], Loss: 0.0333\n",
      "Epoch [1949/2000], Loss: 0.0352\n",
      "Epoch [1950/2000], Loss: 0.0281\n",
      "Epoch [1951/2000], Loss: 0.0322\n",
      "Epoch [1952/2000], Loss: 0.0310\n",
      "Epoch [1953/2000], Loss: 0.0311\n",
      "Epoch [1954/2000], Loss: 0.0336\n",
      "Epoch [1955/2000], Loss: 0.0335\n",
      "Epoch [1956/2000], Loss: 0.0375\n",
      "Epoch [1957/2000], Loss: 0.0350\n",
      "Epoch [1958/2000], Loss: 0.0320\n",
      "Epoch [1959/2000], Loss: 0.0279\n",
      "Epoch [1960/2000], Loss: 0.0284\n",
      "Epoch [1961/2000], Loss: 0.0339\n",
      "Epoch [1962/2000], Loss: 0.0345\n",
      "Epoch [1963/2000], Loss: 0.0334\n",
      "Epoch [1964/2000], Loss: 0.0367\n",
      "Epoch [1965/2000], Loss: 0.0367\n",
      "Epoch [1966/2000], Loss: 0.0348\n",
      "Epoch [1967/2000], Loss: 0.0310\n",
      "Epoch [1968/2000], Loss: 0.0328\n",
      "Epoch [1969/2000], Loss: 0.0353\n",
      "Epoch [1970/2000], Loss: 0.0334\n",
      "Epoch [1971/2000], Loss: 0.0362\n",
      "Epoch [1972/2000], Loss: 0.0266\n",
      "Epoch [1973/2000], Loss: 0.0317\n",
      "Epoch [1974/2000], Loss: 0.0337\n",
      "Epoch [1975/2000], Loss: 0.0294\n",
      "Epoch [1976/2000], Loss: 0.0349\n",
      "Epoch [1977/2000], Loss: 0.0296\n",
      "Epoch [1978/2000], Loss: 0.0301\n",
      "Epoch [1979/2000], Loss: 0.0277\n",
      "Epoch [1980/2000], Loss: 0.0331\n",
      "Epoch [1981/2000], Loss: 0.0342\n",
      "Epoch [1982/2000], Loss: 0.0311\n",
      "Epoch [1983/2000], Loss: 0.0289\n",
      "Epoch [1984/2000], Loss: 0.0343\n",
      "Epoch [1985/2000], Loss: 0.0271\n",
      "Epoch [1986/2000], Loss: 0.0305\n",
      "Epoch [1987/2000], Loss: 0.0404\n",
      "Epoch [1988/2000], Loss: 0.0336\n",
      "Epoch [1989/2000], Loss: 0.0335\n",
      "Epoch [1990/2000], Loss: 0.0322\n",
      "Epoch [1991/2000], Loss: 0.0334\n",
      "Epoch [1992/2000], Loss: 0.0321\n",
      "Epoch [1993/2000], Loss: 0.0285\n",
      "Epoch [1994/2000], Loss: 0.0305\n",
      "Epoch [1995/2000], Loss: 0.0311\n",
      "Epoch [1996/2000], Loss: 0.0353\n",
      "Epoch [1997/2000], Loss: 0.0316\n",
      "Epoch [1998/2000], Loss: 0.0279\n",
      "Epoch [1999/2000], Loss: 0.0291\n",
      "Epoch [2000/2000], Loss: 0.0298\n"
     ]
    },
    {
     "data": {
      "text/plain": [
       "TSMixer(\n",
       "  (norm): LayerNorm((11,), eps=1e-05, elementwise_affine=True)\n",
       "  (dense_in): Linear(in_features=8, out_features=8, bias=True)\n",
       "  (dense_out): Linear(in_features=8, out_features=16, bias=True)\n",
       "  (dense_ff_in): Linear(in_features=11, out_features=64, bias=True)\n",
       "  (dense_ff_out): Linear(in_features=64, out_features=11, bias=True)\n",
       "  (activate): ReLU()\n",
       "  (dropout): Dropout(p=0.2, inplace=False)\n",
       ")"
      ]
     },
     "execution_count": 20,
     "metadata": {},
     "output_type": "execute_result"
    }
   ],
   "source": [
    "# 初始化DataLoader来读取数据集并创建训练集、验证集和测试集\n",
    "seq_len = 8\n",
    "pre_len = 16\n",
    "data_loader = DataCreator(batch_size=32, seq_len=seq_len, pred_len=pre_len)\n",
    "\n",
    "train_inputs, train_labels = data_loader.get_train()\n",
    "val_inputs, val_labels = data_loader.get_val()\n",
    "test_inputs, test_labels = data_loader.get_test()\n",
    "\n",
    "# 初始化TSMixer模型\n",
    "model = TSMixer(\n",
    "    input_size = data_loader.n_feature,\n",
    "    seq_len = seq_len,\n",
    "    pred_len=pre_len,\n",
    "    n_block=8,\n",
    "    ff_dim=64,\n",
    "    dropout_proba=0.2\n",
    ")\n",
    "model.to(device)\n",
    "\n",
    "# 训练模型\n",
    "'''\n",
    "使用学习率为 1e-4 的 Adam 优化器;\n",
    "实施检查点来保存最佳模型;\n",
    "在连续三个时期没有改进的情况下提前停止以停止训练。\n",
    "'''\n",
    "torch.manual_seed(42)\n",
    "\n",
    "criterion = nn.MSELoss()\n",
    "optimizer = optim.Adam(model.parameters(), lr=0.001)\n",
    "\n",
    "# model.compile(optimizer, loss='mse', metrics=['mae'])\n",
    "\n",
    "# checkpoint_callback = tf.keras.callbacks.ModelCheckpoint(\n",
    "#     filepath='tsmixer_checkpoints/',\n",
    "#     vebose=1,\n",
    "#     save_best_only=True,\n",
    "#     save_weights_only=True\n",
    "# )\n",
    "\n",
    "# early_stop_callback = tf.keras.callbacks.EarlyStopping(\n",
    "#     monitor='val_loss',\n",
    "#     patience=3\n",
    "# )\n",
    "\n",
    "# history = model.fit(\n",
    "#     train_data,\n",
    "#     epochs= 30,\n",
    "#     validation_data=val_data,\n",
    "#     callbacks=[checkpoint_callback, early_stop_callback]\n",
    "# )\n",
    "\n",
    "# 训练模型\n",
    "epochs = 2000\n",
    "train_loss = []\n",
    "for epoch in range(epochs):\n",
    "    optimizer.zero_grad()\n",
    "    epoch_loss = []\n",
    "    for inputs_list, label_list in zip(train_inputs, train_labels):\n",
    "        # print(len(inputs_list), len(label_list))\n",
    "        inputs_tensor, label_tensor = inputs_list[0].to(device), label_list[0].to(device)\n",
    "        output = model(inputs_tensor)\n",
    "        loss = criterion(label_tensor, output)\n",
    "        loss.backward()\n",
    "        optimizer.step()\n",
    "        epoch_loss.append(loss.item())\n",
    "    print('Epoch [{}/{}], Loss: {:.4f}'.format(epoch+1, epochs, np.mean(epoch_loss)))\n",
    "    train_loss.extend(epoch_loss)\n",
    "\n",
    "model.eval()\n",
    "\n",
    "# # 在模型训练完毕后加载检查点回调保存的最佳模型\n",
    "# best_epoch = np.argmin(history.history['val_loss'])\n",
    "\n",
    "# model.load_weights(\"tsmixer_checkpoints/\")\n",
    "\n",
    "# # 访问96个时间步长的最后一个窗口的预测（已按比例缩放）\n",
    "# predictions = model.predict(test_inputs)\n",
    "\n",
    "# scaled_preds = predictions[-1,:,:]"
   ]
  },
  {
   "cell_type": "code",
   "execution_count": 21,
   "metadata": {},
   "outputs": [
    {
     "data": {
      "application/vnd.plotly.v1+json": {
       "config": {
        "plotlyServerURL": "https://plot.ly"
       },
       "data": [
        {
         "line": {
          "color": "blue"
         },
         "mode": "lines",
         "name": "loss",
         "type": "scatter",
         "y": [
          5.220914363861084,
          5.148423194885254,
          4.943159580230713,
          4.48288631439209,
          4.160666465759277,
          4.032763957977295,
          3.647873640060425,
          3.448028802871704,
          3.319434881210327,
          3.1386139392852783,
          2.935283660888672,
          2.809757709503174,
          2.531242847442627,
          2.544404983520508,
          2.398926019668579,
          2.3109629154205322,
          2.2424817085266113,
          2.0717077255249023,
          2.0036070346832275,
          1.897646188735962,
          1.8668190240859985,
          1.9345299005508423,
          1.7631255388259888,
          1.7822262048721313,
          1.6712311506271362,
          1.687520980834961,
          1.5913474559783936,
          1.5638153553009033,
          1.5860447883605957,
          1.5165661573410034,
          1.4434449672698975,
          1.4594063758850098,
          1.4499574899673462,
          1.4561187028884888,
          1.4103425741195679,
          1.318453073501587,
          1.3143551349639893,
          1.3102121353149414,
          1.3145653009414673,
          1.2868388891220093,
          1.2332453727722168,
          1.2452030181884766,
          1.2026647329330444,
          1.200356125831604,
          1.1588146686553955,
          1.1897207498550415,
          1.1546810865402222,
          1.1296216249465942,
          1.1802315711975098,
          1.1520147323608398,
          1.0980045795440674,
          1.1046000719070435,
          1.0929030179977417,
          1.0744961500167847,
          1.0384541749954224,
          1.0908418893814087,
          1.077885389328003,
          1.0662058591842651,
          1.0393729209899902,
          1.063763976097107,
          1.0273483991622925,
          1.0156883001327515,
          1.019566535949707,
          0.9987643957138062,
          1.002475619316101,
          1.0174636840820312,
          1.0034823417663574,
          0.9931307435035706,
          0.9754763245582581,
          1.0041059255599976,
          0.9729137420654297,
          0.9774779677391052,
          0.9734605550765991,
          0.9222635626792908,
          0.9624298810958862,
          0.9194835424423218,
          0.9153018593788147,
          0.9124337434768677,
          0.9427072405815125,
          0.895414412021637,
          0.8897165656089783,
          0.9121110439300537,
          0.912543773651123,
          0.9217642545700073,
          0.8671240210533142,
          0.8798394799232483,
          0.888125479221344,
          0.8726679682731628,
          0.8799492120742798,
          0.870721697807312,
          0.871795117855072,
          0.870880126953125,
          0.8560488820075989,
          0.8905029892921448,
          0.8708095550537109,
          0.8326537609100342,
          0.8456969857215881,
          0.8213537931442261,
          0.8465553522109985,
          0.8290618062019348,
          0.8064051270484924,
          0.8010769486427307,
          0.8128561973571777,
          0.8198668360710144,
          0.8011200428009033,
          0.7901734113693237,
          0.7801718711853027,
          0.8032380938529968,
          0.811787486076355,
          0.7921837568283081,
          0.7765845060348511,
          0.7997820377349854,
          0.7819832563400269,
          0.7753329873085022,
          0.7684493660926819,
          0.7813609838485718,
          0.7697411775588989,
          0.7682031393051147,
          0.7672251462936401,
          0.7676612138748169,
          0.7454347610473633,
          0.7173594236373901,
          0.7557948231697083,
          0.7125643491744995,
          0.7347263097763062,
          0.7068912982940674,
          0.7362052798271179,
          0.7225375771522522,
          0.7136021852493286,
          0.69025719165802,
          0.7011746764183044,
          0.7213568687438965,
          0.6644452810287476,
          0.682991087436676,
          0.7017048597335815,
          0.6853874325752258,
          0.6989677548408508,
          0.6564961671829224,
          0.6792991161346436,
          0.6480904817581177,
          0.683491587638855,
          0.675633430480957,
          0.6470434069633484,
          0.6259484887123108,
          0.6402727961540222,
          0.6209256052970886,
          0.6253448128700256,
          0.6081517934799194,
          0.6313692331314087,
          0.6137317419052124,
          0.6002860069274902,
          0.6140149235725403,
          0.6072850227355957,
          0.5821990370750427,
          0.589759349822998,
          0.5902585387229919,
          0.5716733336448669,
          0.6121751666069031,
          0.560886025428772,
          0.5968663096427917,
          0.5969220399856567,
          0.5694358348846436,
          0.5669379234313965,
          0.5516808032989502,
          0.5619170665740967,
          0.5597936511039734,
          0.5730065703392029,
          0.5400034785270691,
          0.5287021398544312,
          0.553456723690033,
          0.5357407927513123,
          0.5423482060432434,
          0.5333673357963562,
          0.5330807566642761,
          0.5231596827507019,
          0.5259707570075989,
          0.5347957611083984,
          0.5120115280151367,
          0.5164299607276917,
          0.5334237217903137,
          0.5239129662513733,
          0.48517948389053345,
          0.48067939281463623,
          0.4942247271537781,
          0.4757348895072937,
          0.5150224566459656,
          0.5017244219779968,
          0.4683404862880707,
          0.4759368896484375,
          0.49461233615875244,
          0.4612935483455658,
          0.46635621786117554,
          0.4569496512413025,
          0.4608704149723053,
          0.48052456974983215,
          0.4828762412071228,
          0.426595002412796,
          0.44608134031295776,
          0.46192553639411926,
          0.48253530263900757,
          0.46062442660331726,
          0.43563657999038696,
          0.44460660219192505,
          0.42076754570007324,
          0.4585438072681427,
          0.4166104197502136,
          0.40991294384002686,
          0.4415096640586853,
          0.43808823823928833,
          0.40486398339271545,
          0.42534205317497253,
          0.40067729353904724,
          0.39978742599487305,
          0.4001999795436859,
          0.4035176634788513,
          0.37849193811416626,
          0.4013269245624542,
          0.4094635844230652,
          0.38323596119880676,
          0.3937843441963196,
          0.38667044043540955,
          0.3731713593006134,
          0.3928286135196686,
          0.39421412348747253,
          0.38652509450912476,
          0.3647806942462921,
          0.36882057785987854,
          0.3742384612560272,
          0.3875865042209625,
          0.37232139706611633,
          0.36499178409576416,
          0.34671324491500854,
          0.34457162022590637,
          0.35434985160827637,
          0.3522697687149048,
          0.34521618485450745,
          0.3522096872329712,
          0.34550270438194275,
          0.33928802609443665,
          0.3351001441478729,
          0.351854145526886,
          0.3255155086517334,
          0.32622212171554565,
          0.35548970103263855,
          0.35077574849128723,
          0.33283939957618713,
          0.3109496235847473,
          0.3213950991630554,
          0.3213188052177429,
          0.31176358461380005,
          0.3546013832092285,
          0.29649630188941956,
          0.31927767395973206,
          0.31792160868644714,
          0.2998732328414917,
          0.33609697222709656,
          0.31719034910202026,
          0.31654930114746094,
          0.30480533838272095,
          0.3251080811023712,
          0.32102370262145996,
          0.30755966901779175,
          0.3148384094238281,
          0.2624373137950897,
          0.32860425114631653,
          0.28916609287261963,
          0.2988262474536896,
          0.3285495340824127,
          0.3070582151412964,
          0.30119332671165466,
          0.3017314076423645,
          0.2824920415878296,
          0.3042276203632355,
          0.2839919924736023,
          0.2766852080821991,
          0.2889576852321625,
          0.2948610186576843,
          0.2872854173183441,
          0.30144137144088745,
          0.2742016017436981,
          0.29361650347709656,
          0.28459465503692627,
          0.2653457224369049,
          0.2838488221168518,
          0.2710285484790802,
          0.25633612275123596,
          0.27925047278404236,
          0.28766176104545593,
          0.26841986179351807,
          0.2861112058162689,
          0.26408645510673523,
          0.2765621840953827,
          0.2779764235019684,
          0.2557036578655243,
          0.25262200832366943,
          0.2556394636631012,
          0.28199100494384766,
          0.273777574300766,
          0.2510020434856415,
          0.27301329374313354,
          0.26128295063972473,
          0.2505871653556824,
          0.2683887779712677,
          0.26881110668182373,
          0.25363558530807495,
          0.25322842597961426,
          0.26065248250961304,
          0.23607438802719116,
          0.24646608531475067,
          0.23008669912815094,
          0.2513620853424072,
          0.25429975986480713,
          0.24960090219974518,
          0.25634950399398804,
          0.23658296465873718,
          0.21517618000507355,
          0.2558571696281433,
          0.24316918849945068,
          0.2339460402727127,
          0.2425333857536316,
          0.24034368991851807,
          0.24283777177333832,
          0.2550688683986664,
          0.24710890650749207,
          0.24497948586940765,
          0.22757765650749207,
          0.2403058111667633,
          0.23139192163944244,
          0.22965478897094727,
          0.23762387037277222,
          0.22809484601020813,
          0.22887396812438965,
          0.22155635058879852,
          0.24544188380241394,
          0.21603111922740936,
          0.2308371514081955,
          0.21592989563941956,
          0.20687226951122284,
          0.22978198528289795,
          0.22722601890563965,
          0.213773712515831,
          0.20841017365455627,
          0.2135535031557083,
          0.21796049177646637,
          0.2441577911376953,
          0.21424175798892975,
          0.24120885133743286,
          0.23874244093894958,
          0.21977464854717255,
          0.2180868536233902,
          0.23749873042106628,
          0.2159041166305542,
          0.19306637346744537,
          0.2067791074514389,
          0.21250276267528534,
          0.20606617629528046,
          0.21083654463291168,
          0.20461811125278473,
          0.1994522213935852,
          0.2191070169210434,
          0.21921731531620026,
          0.21182478964328766,
          0.2047208845615387,
          0.19792982935905457,
          0.17691659927368164,
          0.20033232867717743,
          0.19962337613105774,
          0.2156187891960144,
          0.18915854394435883,
          0.19824036955833435,
          0.20745983719825745,
          0.21905532479286194,
          0.20221677422523499,
          0.19075019657611847,
          0.19514870643615723,
          0.19766740500926971,
          0.20709829032421112,
          0.20250071585178375,
          0.18506576120853424,
          0.1857881397008896,
          0.1904035061597824,
          0.1988934427499771,
          0.18256932497024536,
          0.1830887794494629,
          0.20925581455230713,
          0.18341819941997528,
          0.17951717972755432,
          0.18824024498462677,
          0.19469913840293884,
          0.1827055811882019,
          0.18861061334609985,
          0.18599866330623627,
          0.1882561892271042,
          0.1715596467256546,
          0.1879342943429947,
          0.1832057684659958,
          0.18680422008037567,
          0.18520201742649078,
          0.1935030221939087,
          0.18379932641983032,
          0.19457584619522095,
          0.19920948147773743,
          0.17844004929065704,
          0.19023054838180542,
          0.18082848191261292,
          0.18074217438697815,
          0.1481311321258545,
          0.1905776858329773,
          0.164438396692276,
          0.17988453805446625,
          0.18140025436878204,
          0.17890162765979767,
          0.17027702927589417,
          0.1821473240852356,
          0.17162670195102692,
          0.17158488929271698,
          0.17565825581550598,
          0.17325612902641296,
          0.16183345019817352,
          0.1674497425556183,
          0.17092055082321167,
          0.1852571964263916,
          0.1604781448841095,
          0.19568707048892975,
          0.1604263037443161,
          0.16747929155826569,
          0.17699044942855835,
          0.155436709523201,
          0.1574854850769043,
          0.1839495450258255,
          0.16152964532375336,
          0.15770414471626282,
          0.17386046051979065,
          0.16388572752475739,
          0.16445592045783997,
          0.16361433267593384,
          0.17149680852890015,
          0.17880263924598694,
          0.1780926138162613,
          0.14980292320251465,
          0.14255337417125702,
          0.1513432413339615,
          0.17625011503696442,
          0.15535055100917816,
          0.15595132112503052,
          0.16272997856140137,
          0.16483426094055176,
          0.17849121987819672,
          0.1617783010005951,
          0.15962345898151398,
          0.1687932312488556,
          0.1551893800497055,
          0.16248492896556854,
          0.17229942977428436,
          0.1467023640871048,
          0.16438095271587372,
          0.14562393724918365,
          0.1631069928407669,
          0.16192686557769775,
          0.1643504500389099,
          0.1474456787109375,
          0.1537082940340042,
          0.15280210971832275,
          0.1692289263010025,
          0.17049971222877502,
          0.15134431421756744,
          0.14332535862922668,
          0.1395428329706192,
          0.15723970532417297,
          0.15516099333763123,
          0.14227046072483063,
          0.13689163327217102,
          0.1712888479232788,
          0.14825156331062317,
          0.1462208479642868,
          0.14949391782283783,
          0.15285687148571014,
          0.16676843166351318,
          0.1519879847764969,
          0.1480872482061386,
          0.14638696610927582,
          0.1431378573179245,
          0.1426611840724945,
          0.14334765076637268,
          0.15709351003170013,
          0.14189574122428894,
          0.14787092804908752,
          0.16168402135372162,
          0.1452856808900833,
          0.15369361639022827,
          0.14084918797016144,
          0.1432473212480545,
          0.14950557053089142,
          0.14688517153263092,
          0.13606365025043488,
          0.14090701937675476,
          0.14793933928012848,
          0.14145983755588531,
          0.14559610188007355,
          0.14189700782299042,
          0.14025211334228516,
          0.14040593802928925,
          0.1365271359682083,
          0.14735765755176544,
          0.13133016228675842,
          0.14968200027942657,
          0.1490759700536728,
          0.1459507793188095,
          0.1422816962003708,
          0.1469603180885315,
          0.1444815993309021,
          0.12369067221879959,
          0.15697401762008667,
          0.15040595829486847,
          0.14613185822963715,
          0.15038354694843292,
          0.14620661735534668,
          0.13126181066036224,
          0.1355242133140564,
          0.1458740532398224,
          0.13979291915893555,
          0.14271605014801025,
          0.13314899802207947,
          0.1478310525417328,
          0.13681812584400177,
          0.13345633447170258,
          0.14204485714435577,
          0.1475716382265091,
          0.12719832360744476,
          0.13018566370010376,
          0.13999232649803162,
          0.12664300203323364,
          0.13452574610710144,
          0.1231340765953064,
          0.13030178844928741,
          0.12590375542640686,
          0.14021503925323486,
          0.11743181198835373,
          0.13673537969589233,
          0.11895956099033356,
          0.12967438995838165,
          0.11965405195951462,
          0.1420857161283493,
          0.13257160782814026,
          0.13536547124385834,
          0.1406317949295044,
          0.13923873007297516,
          0.14198656380176544,
          0.12652325630187988,
          0.12670756876468658,
          0.13970617949962616,
          0.12578405439853668,
          0.13726317882537842,
          0.13328897953033447,
          0.12918873131275177,
          0.12151740491390228,
          0.12887974083423615,
          0.125949889421463,
          0.117880679666996,
          0.12105172872543335,
          0.1326254904270172,
          0.11200958490371704,
          0.1225537359714508,
          0.11924564838409424,
          0.1414463371038437,
          0.1279931217432022,
          0.12749311327934265,
          0.12722308933734894,
          0.12553703784942627,
          0.12371961772441864,
          0.11535043269395828,
          0.12932980060577393,
          0.13200896978378296,
          0.1367829442024231,
          0.12599840760231018,
          0.12924931943416595,
          0.11854813247919083,
          0.1193687915802002,
          0.12591196596622467,
          0.114173024892807,
          0.130659282207489,
          0.11306851357221603,
          0.13155503571033478,
          0.12577256560325623,
          0.10606586933135986,
          0.11577948927879333,
          0.11761825531721115,
          0.1294921636581421,
          0.1296354979276657,
          0.11361737549304962,
          0.1189466342329979,
          0.12990489602088928,
          0.12775953114032745,
          0.1193607822060585,
          0.10985946655273438,
          0.11257355660200119,
          0.10632817447185516,
          0.13838154077529907,
          0.11652768403291702,
          0.1313597708940506,
          0.11998698860406876,
          0.12145870178937912,
          0.1283257007598877,
          0.1245928481221199,
          0.1240023821592331,
          0.1114388257265091,
          0.13014978170394897,
          0.12388163805007935,
          0.12029128521680832,
          0.09884548932313919,
          0.10967070609331131,
          0.11970112472772598,
          0.1224655732512474,
          0.11049376428127289,
          0.1222783699631691,
          0.11874048411846161,
          0.12241815030574799,
          0.1239737719297409,
          0.11374881863594055,
          0.10606289654970169,
          0.11976388841867447,
          0.10526364296674728,
          0.1150834709405899,
          0.10962340980768204,
          0.12504418194293976,
          0.11607661098241806,
          0.1072109267115593,
          0.1111675426363945,
          0.12106648832559586,
          0.12648071348667145,
          0.12881211936473846,
          0.10501250624656677,
          0.11360105127096176,
          0.11190750449895859,
          0.11387357115745544,
          0.10289402306079865,
          0.10832108557224274,
          0.1278092861175537,
          0.10354331135749817,
          0.11664389818906784,
          0.10717293620109558,
          0.1118820458650589,
          0.11471985280513763,
          0.10287851095199585,
          0.10060726851224899,
          0.10707248002290726,
          0.10717829316854477,
          0.10027661919593811,
          0.10708485543727875,
          0.10407058894634247,
          0.10943251848220825,
          0.11647503823041916,
          0.11643201857805252,
          0.1119493842124939,
          0.10752201825380325,
          0.10867779701948166,
          0.11526535451412201,
          0.10588327050209045,
          0.09930845350027084,
          0.1106748878955841,
          0.10904305428266525,
          0.11064273118972778,
          0.11128582805395126,
          0.096750907599926,
          0.1068706139922142,
          0.10839919745922089,
          0.11758127808570862,
          0.10361708700656891,
          0.1113893985748291,
          0.1124526709318161,
          0.100105881690979,
          0.11402688175439835,
          0.09849777817726135,
          0.09408796578645706,
          0.10600783675909042,
          0.10296838730573654,
          0.10865596681833267,
          0.10066858679056168,
          0.11055772751569748,
          0.10417433083057404,
          0.10057560354471207,
          0.11045124381780624,
          0.10286639630794525,
          0.09366106986999512,
          0.11143402010202408,
          0.10391540080308914,
          0.09487761557102203,
          0.10740657895803452,
          0.10327845811843872,
          0.10167160630226135,
          0.088836669921875,
          0.096443772315979,
          0.09745817631483078,
          0.09873143583536148,
          0.10628344863653183,
          0.10172601789236069,
          0.10348211973905563,
          0.09603279083967209,
          0.09037157148122787,
          0.10848674178123474,
          0.1019849106669426,
          0.11155200004577637,
          0.08889569342136383,
          0.10189928859472275,
          0.10285056382417679,
          0.09337125718593597,
          0.10548420250415802,
          0.0953245759010315,
          0.09431736916303635,
          0.10653240233659744,
          0.09845111519098282,
          0.10201417654752731,
          0.09589342772960663,
          0.10878816992044449,
          0.10050886124372482,
          0.10141249001026154,
          0.09618302434682846,
          0.10126017779111862,
          0.10769594460725784,
          0.10401700437068939,
          0.08856914937496185,
          0.10241720080375671,
          0.10209567099809647,
          0.09270348399877548,
          0.09577300399541855,
          0.10287412256002426,
          0.0940532311797142,
          0.09560548514127731,
          0.09679817408323288,
          0.09993250668048859,
          0.08922139555215836,
          0.08896597474813461,
          0.10788602381944656,
          0.08676214516162872,
          0.10395131260156631,
          0.09208531677722931,
          0.09194578975439072,
          0.09977994859218597,
          0.09548638761043549,
          0.09339132905006409,
          0.08861932158470154,
          0.09052035957574844,
          0.09200622141361237,
          0.09397272765636444,
          0.09577645361423492,
          0.09939052164554596,
          0.09425747394561768,
          0.09635969251394272,
          0.09471350163221359,
          0.08308787643909454,
          0.08935589343309402,
          0.08850159496068954,
          0.09718980640172958,
          0.10125680267810822,
          0.08995546400547028,
          0.0884864330291748,
          0.08812233060598373,
          0.0906713455915451,
          0.08428068459033966,
          0.09752839803695679,
          0.09315323084592819,
          0.0960116907954216,
          0.0954190045595169,
          0.09188719093799591,
          0.09470831602811813,
          0.10204848647117615,
          0.08697779476642609,
          0.09085191041231155,
          0.09472910314798355,
          0.09550055861473083,
          0.08950019627809525,
          0.08874005079269409,
          0.08637560904026031,
          0.09233900159597397,
          0.0938136950135231,
          0.0899500772356987,
          0.07881737500429153,
          0.08834045380353928,
          0.09191904962062836,
          0.0884852185845375,
          0.09769777208566666,
          0.08641702681779861,
          0.09326294809579849,
          0.08510253578424454,
          0.08232317119836807,
          0.08833608776330948,
          0.0793749988079071,
          0.08799029886722565,
          0.09483695775270462,
          0.0755479708313942,
          0.08813314884901047,
          0.09501183778047562,
          0.08844507485628128,
          0.091895192861557,
          0.09616071730852127,
          0.08440524339675903,
          0.09352539479732513,
          0.08825617283582687,
          0.0861494243144989,
          0.0788099616765976,
          0.09191201627254486,
          0.09950829297304153,
          0.08420194685459137,
          0.08152253925800323,
          0.09691057354211807,
          0.08383184671401978,
          0.08744552731513977,
          0.0831354483962059,
          0.07975170761346817,
          0.09284937381744385,
          0.08697586506605148,
          0.07640761882066727,
          0.09590310603380203,
          0.08325399458408356,
          0.08428188413381577,
          0.08624768257141113,
          0.09169212728738785,
          0.10045791417360306,
          0.08474833518266678,
          0.08358175307512283,
          0.0870308056473732,
          0.09309631586074829,
          0.08867155760526657,
          0.09361138194799423,
          0.0864240825176239,
          0.08812417089939117,
          0.08621202409267426,
          0.08047351241111755,
          0.09223488718271255,
          0.0833221971988678,
          0.0858335793018341,
          0.08732714504003525,
          0.08371289819478989,
          0.08928094804286957,
          0.08496922999620438,
          0.0941205844283104,
          0.08704260736703873,
          0.08838624507188797,
          0.08226929605007172,
          0.07966592162847519,
          0.09615645557641983,
          0.08245092630386353,
          0.07876098901033401,
          0.0827130377292633,
          0.09308607876300812,
          0.08168800175189972,
          0.08442218601703644,
          0.08292912691831589,
          0.08411707729101181,
          0.08911663293838501,
          0.09229619801044464,
          0.08828932046890259,
          0.0868748351931572,
          0.08629622310400009,
          0.0742817223072052,
          0.07666189223527908,
          0.07841398566961288,
          0.0851142480969429,
          0.07718752324581146,
          0.08720523118972778,
          0.07650226354598999,
          0.08672450482845306,
          0.08340265601873398,
          0.07519257813692093,
          0.08373532444238663,
          0.08389252424240112,
          0.08536732196807861,
          0.08001581579446793,
          0.0846281349658966,
          0.07954569160938263,
          0.07670900225639343,
          0.07514955848455429,
          0.08116741478443146,
          0.0791107788681984,
          0.07726564258337021,
          0.08161737769842148,
          0.08266809582710266,
          0.07770321518182755,
          0.08031411468982697,
          0.0806669294834137,
          0.07729923725128174,
          0.0769486203789711,
          0.08303942531347275,
          0.06929203867912292,
          0.07733847200870514,
          0.07897511124610901,
          0.0762389600276947,
          0.08176234364509583,
          0.08386404067277908,
          0.07642778009176254,
          0.0815575122833252,
          0.07912027835845947,
          0.0800398737192154,
          0.08609515428543091,
          0.07815758138895035,
          0.09311044216156006,
          0.07122685015201569,
          0.08220117539167404,
          0.07589041441679001,
          0.07957038283348083,
          0.08130570501089096,
          0.0766519084572792,
          0.08136700838804245,
          0.07980972528457642,
          0.08252625167369843,
          0.08341792970895767,
          0.08130715042352676,
          0.07366953790187836,
          0.07405176758766174,
          0.07548864930868149,
          0.07918477058410645,
          0.07110351324081421,
          0.0726260393857956,
          0.07417145371437073,
          0.07302126288414001,
          0.07484472543001175,
          0.07390090078115463,
          0.07683801651000977,
          0.07375719398260117,
          0.08207781612873077,
          0.07539164274930954,
          0.07299137115478516,
          0.08492051810026169,
          0.07695385068655014,
          0.08568189293146133,
          0.08318536728620529,
          0.08212749660015106,
          0.07780557125806808,
          0.07387601584196091,
          0.08521406352519989,
          0.06968813389539719,
          0.08815060555934906,
          0.0793796181678772,
          0.08133941888809204,
          0.07609596848487854,
          0.07857951521873474,
          0.07918348908424377,
          0.07092005759477615,
          0.07865982502698898,
          0.08153968304395676,
          0.07048860192298889,
          0.07098980247974396,
          0.0754752904176712,
          0.07181132584810257,
          0.07397913187742233,
          0.07373552769422531,
          0.08117462694644928,
          0.08619048446416855,
          0.08329907804727554,
          0.07335882633924484,
          0.08181679993867874,
          0.08023742586374283,
          0.0757172480225563,
          0.07157927006483078,
          0.0738811045885086,
          0.07663306593894958,
          0.07535628229379654,
          0.07433734089136124,
          0.07330299913883209,
          0.07330650836229324,
          0.07397647947072983,
          0.06947415322065353,
          0.06888304650783539,
          0.07965192943811417,
          0.07753074169158936,
          0.07517651468515396,
          0.0785747841000557,
          0.07181639969348907,
          0.07411884516477585,
          0.07213269174098969,
          0.07182345539331436,
          0.08185974508523941,
          0.0695871114730835,
          0.07211589813232422,
          0.0674082338809967,
          0.07061199843883514,
          0.07254236936569214,
          0.07827452570199966,
          0.07589846104383469,
          0.08171521127223969,
          0.06861826777458191,
          0.07476948201656342,
          0.076992467045784,
          0.07162167131900787,
          0.06509864330291748,
          0.06704790890216827,
          0.07133776694536209,
          0.06856553256511688,
          0.07513561844825745,
          0.06771772354841232,
          0.07586164772510529,
          0.06635836511850357,
          0.06726294010877609,
          0.0750424787402153,
          0.07004952430725098,
          0.07048195600509644,
          0.0766930803656578,
          0.07148726284503937,
          0.07373783737421036,
          0.07521221786737442,
          0.07650244981050491,
          0.07240887731313705,
          0.06742626428604126,
          0.06726349890232086,
          0.07523924112319946,
          0.07319598644971848,
          0.07621994614601135,
          0.06749498844146729,
          0.07565376907587051,
          0.07410971820354462,
          0.06306691467761993,
          0.06728959083557129,
          0.06340432912111282,
          0.06905267387628555,
          0.0639307051897049,
          0.06749605387449265,
          0.06966836750507355,
          0.08436755836009979,
          0.07385477423667908,
          0.061940405517816544,
          0.07039999961853027,
          0.06820891797542572,
          0.06657464802265167,
          0.06622818112373352,
          0.06636100262403488,
          0.06861186027526855,
          0.06729353964328766,
          0.06639782339334488,
          0.0694899782538414,
          0.07322078943252563,
          0.06795569509267807,
          0.0704086646437645,
          0.0727681890130043,
          0.07776876538991928,
          0.062411725521087646,
          0.06696201860904694,
          0.07147927582263947,
          0.065953828394413,
          0.06907480210065842,
          0.07452072948217392,
          0.0715499073266983,
          0.07110153138637543,
          0.06769946962594986,
          0.06760764122009277,
          0.07270244508981705,
          0.07917981594800949,
          0.07200676202774048,
          0.07177448272705078,
          0.06819889694452286,
          0.0706997811794281,
          0.07009019702672958,
          0.06898337602615356,
          0.06473881751298904,
          0.06949217617511749,
          0.07764192670583725,
          0.07097843289375305,
          0.06700388342142105,
          0.06538239866495132,
          0.06793791800737381,
          0.06373534351587296,
          0.06352106481790543,
          0.06549999862909317,
          0.06789243966341019,
          0.06994707882404327,
          0.07027219235897064,
          0.0628722608089447,
          0.06851659715175629,
          0.06280247867107391,
          0.07014981657266617,
          0.06486017256975174,
          0.07058925926685333,
          0.06528022140264511,
          0.05730040371417999,
          0.06655764579772949,
          0.06709203124046326,
          0.06289216876029968,
          0.06507343053817749,
          0.0718899667263031,
          0.0724998414516449,
          0.06562253087759018,
          0.06883769482374191,
          0.06270381808280945,
          0.0630527064204216,
          0.060875825583934784,
          0.06270994246006012,
          0.06473170220851898,
          0.068331278860569,
          0.07241761684417725,
          0.06278292089700699,
          0.0663258507847786,
          0.06164335831999779,
          0.06449976563453674,
          0.06966511160135269,
          0.07506279647350311,
          0.06837519258260727,
          0.06478803604841232,
          0.06980514526367188,
          0.057350341230630875,
          0.06390751898288727,
          0.06454112380743027,
          0.07096303254365921,
          0.06042642146348953,
          0.062103670090436935,
          0.06373409181833267,
          0.06039021164178848,
          0.0719507709145546,
          0.06685320287942886,
          0.061342161148786545,
          0.059540342539548874,
          0.06559720635414124,
          0.06730098277330399,
          0.07221674919128418,
          0.06385450810194016,
          0.06319548934698105,
          0.060475509613752365,
          0.06437703967094421,
          0.06234496459364891,
          0.055550217628479004,
          0.05929432809352875,
          0.06740184128284454,
          0.07003476470708847,
          0.06691287457942963,
          0.0626765564084053,
          0.06074944883584976,
          0.06387642025947571,
          0.0599023699760437,
          0.06423661857843399,
          0.06466616690158844,
          0.06873006373643875,
          0.059135254472494125,
          0.05982125550508499,
          0.06136716157197952,
          0.06109153851866722,
          0.06139688938856125,
          0.06533903628587723,
          0.061675090342760086,
          0.06345463544130325,
          0.06050456315279007,
          0.06386440247297287,
          0.05680574104189873,
          0.06806743144989014,
          0.06442786753177643,
          0.060841310769319534,
          0.06028428673744202,
          0.06148391216993332,
          0.06492646783590317,
          0.06348679959774017,
          0.05769994482398033,
          0.05979178100824356,
          0.05913599580526352,
          0.058414191007614136,
          0.06007061526179314,
          0.060971297323703766,
          0.06332620978355408,
          0.05941185727715492,
          0.06071621924638748,
          0.06405308097600937,
          0.06624431163072586,
          0.0608745738863945,
          0.057473331689834595,
          0.06239934265613556,
          0.058858249336481094,
          0.05779261887073517,
          0.0622989721596241,
          0.062361765652894974,
          0.06437016278505325,
          0.05774328112602234,
          0.0552496574819088,
          0.06215725466609001,
          0.05819026380777359,
          0.058662787079811096,
          0.06339842081069946,
          0.05794273316860199,
          0.06398240476846695,
          0.056996654719114304,
          0.060501985251903534,
          0.06270220130681992,
          0.055233925580978394,
          0.06276383250951767,
          0.060958731919527054,
          0.06170790642499924,
          0.06015454977750778,
          0.060013625770807266,
          0.05740491673350334,
          0.060532089322805405,
          0.06378807872533798,
          0.06495565921068192,
          0.05674172565340996,
          0.06016113609075546,
          0.05846341326832771,
          0.060394302010536194,
          0.05820439010858536,
          0.06148887053132057,
          0.06678599119186401,
          0.05713513493537903,
          0.06131940707564354,
          0.06444904953241348,
          0.05768502503633499,
          0.056835927069187164,
          0.06164048984646797,
          0.05595892667770386,
          0.06077834963798523,
          0.06169138848781586,
          0.05627013370394707,
          0.057953111827373505,
          0.06015702337026596,
          0.05920385196805,
          0.05511920154094696,
          0.05860339105129242,
          0.0578121691942215,
          0.054851267486810684,
          0.0649874359369278,
          0.060681283473968506,
          0.05732542276382446,
          0.05404629185795784,
          0.05684946849942207,
          0.057039935141801834,
          0.053972672671079636,
          0.0637531504034996,
          0.05205313488841057,
          0.05719676986336708,
          0.055216919630765915,
          0.05903458967804909,
          0.060087695717811584,
          0.055531613528728485,
          0.05336209386587143,
          0.05959836021065712,
          0.05956481024622917,
          0.05576179176568985,
          0.05855578929185867,
          0.05700036883354187,
          0.054626889526844025,
          0.06277430057525635,
          0.05567232891917229,
          0.05736089125275612,
          0.06224081665277481,
          0.05443602800369263,
          0.053633999079465866,
          0.05644502118229866,
          0.057812586426734924,
          0.051361098885536194,
          0.060023073107004166,
          0.05925609543919563,
          0.059008318930864334,
          0.053663648664951324,
          0.05654723197221756,
          0.05796641856431961,
          0.05376027897000313,
          0.059792883694171906,
          0.06099475175142288,
          0.060603246092796326,
          0.061098333448171616,
          0.05993015691637993,
          0.05650211125612259,
          0.06099388748407364,
          0.05594709515571594,
          0.058525875210762024,
          0.0565793439745903,
          0.05514281243085861,
          0.05097578465938568,
          0.055887047201395035,
          0.0510428361594677,
          0.061245426535606384,
          0.05753451585769653,
          0.048759035766124725,
          0.06112299859523773,
          0.05738632753491402,
          0.05115396901965141,
          0.05296866223216057,
          0.05981513112783432,
          0.06519056856632233,
          0.058478981256484985,
          0.059695493429899216,
          0.06315171718597412,
          0.05759381875395775,
          0.061169836670160294,
          0.05788222700357437,
          0.0550774484872818,
          0.05449356511235237,
          0.05241118371486664,
          0.05061411112546921,
          0.054075080901384354,
          0.05384350195527077,
          0.053033389151096344,
          0.05292738229036331,
          0.05257394537329674,
          0.05973878875374794,
          0.06239977851510048,
          0.05435630679130554,
          0.057518526911735535,
          0.058114100247621536,
          0.050006091594696045,
          0.05605735257267952,
          0.05686526745557785,
          0.05743230879306793,
          0.056650806218385696,
          0.05655870586633682,
          0.053961753845214844,
          0.05844666808843613,
          0.059307366609573364,
          0.05981651321053505,
          0.05426202714443207,
          0.05116924270987511,
          0.05398353561758995,
          0.05167700722813606,
          0.06360900402069092,
          0.05617033690214157,
          0.05330628529191017,
          0.05965124070644379,
          0.059828612953424454,
          0.054385364055633545,
          0.05065692588686943,
          0.052591416984796524,
          0.06328918784856796,
          0.048176925629377365,
          0.05169852077960968,
          0.05623620003461838,
          0.05493440851569176,
          0.05228716880083084,
          0.062461305409669876,
          0.051243580877780914,
          0.05504496395587921,
          0.05954112112522125,
          0.05068851262331009,
          0.05201001465320587,
          0.054804109036922455,
          0.05688566714525223,
          0.05542391166090965,
          0.057878755033016205,
          0.05601376295089722,
          0.05182773992419243,
          0.052305299788713455,
          0.05765973776578903,
          0.054100748151540756,
          0.05374887213110924,
          0.05132409185171127,
          0.05405217036604881,
          0.04783109202980995,
          0.058780256658792496,
          0.05330204591155052,
          0.053133223205804825,
          0.052592962980270386,
          0.05115288496017456,
          0.05053793638944626,
          0.05415595695376396,
          0.050790369510650635,
          0.05165791139006615,
          0.05388123542070389,
          0.05452669411897659,
          0.05446240305900574,
          0.05319179221987724,
          0.04875843971967697,
          0.05612529069185257,
          0.05391376093029976,
          0.05723544955253601,
          0.04746311902999878,
          0.04975774139165878,
          0.054453860968351364,
          0.051682665944099426,
          0.05145683512091637,
          0.05508561432361603,
          0.051651693880558014,
          0.05143368989229202,
          0.04954987019300461,
          0.05164952203631401,
          0.05878058448433876,
          0.05065286159515381,
          0.049736104905605316,
          0.04820680245757103,
          0.05145416781306267,
          0.055054932832717896,
          0.052823759615421295,
          0.049595434218645096,
          0.05441657453775406,
          0.05085385963320732,
          0.04779909551143646,
          0.04970446974039078,
          0.05363715812563896,
          0.05345772206783295,
          0.052392322570085526,
          0.049375250935554504,
          0.04915253818035126,
          0.054257217794656754,
          0.04808669164776802,
          0.05361148715019226,
          0.048558205366134644,
          0.05358605459332466,
          0.052565835416316986,
          0.05153471603989601,
          0.051684893667697906,
          0.04731586575508118,
          0.04865707457065582,
          0.049256082624197006,
          0.050981394946575165,
          0.05191510170698166,
          0.05058329179883003,
          0.049266353249549866,
          0.04845280572772026,
          0.05003933981060982,
          0.04824526607990265,
          0.05047260969877243,
          0.05367691442370415,
          0.05166073888540268,
          0.05307099223136902,
          0.05021616443991661,
          0.04955010488629341,
          0.04717325419187546,
          0.05153089016675949,
          0.049752943217754364,
          0.04738587141036987,
          0.048146989196538925,
          0.05356334522366524,
          0.05108213424682617,
          0.04817036911845207,
          0.05202079564332962,
          0.05223856493830681,
          0.05051849037408829,
          0.049857333302497864,
          0.04679711163043976,
          0.05024903267621994,
          0.049765799194574356,
          0.04918128252029419,
          0.05001967400312424,
          0.04911433160305023,
          0.047720860689878464,
          0.04975118488073349,
          0.049499791115522385,
          0.048966437578201294,
          0.04866948351264,
          0.04952286183834076,
          0.0516059473156929,
          0.05061037838459015,
          0.048248983919620514,
          0.048313383013010025,
          0.04878756031394005,
          0.0521063357591629,
          0.0476188063621521,
          0.050092440098524094,
          0.05248606950044632,
          0.05152440816164017,
          0.05056313797831535,
          0.04601822420954704,
          0.04664710909128189,
          0.050287120044231415,
          0.05144495889544487,
          0.04666224494576454,
          0.05135735496878624,
          0.04984860494732857,
          0.04907025396823883,
          0.04848035052418709,
          0.04792066663503647,
          0.05004146695137024,
          0.046235013753175735,
          0.0465577095746994,
          0.05113884061574936,
          0.05903473123908043,
          0.04961118847131729,
          0.04925905168056488,
          0.05009549856185913,
          0.05111269652843475,
          0.045142196118831635,
          0.04826898127794266,
          0.0515231229364872,
          0.05270763486623764,
          0.04263874143362045,
          0.05164210870862007,
          0.04328201711177826,
          0.05006558075547218,
          0.050001971423625946,
          0.05156266689300537,
          0.04783417657017708,
          0.05067899078130722,
          0.048559945076704025,
          0.04954494163393974,
          0.04126645624637604,
          0.046874113380908966,
          0.047972891479730606,
          0.05392445996403694,
          0.05025200918316841,
          0.04766087979078293,
          0.04841819033026695,
          0.0511874221265316,
          0.04880144074559212,
          0.046263691037893295,
          0.04433809220790863,
          0.04586535692214966,
          0.0537913553416729,
          0.0503743477165699,
          0.047303277999162674,
          0.04949117824435234,
          0.049934811890125275,
          0.042166516184806824,
          0.04730375483632088,
          0.04502653330564499,
          0.04491318017244339,
          0.04773593321442604,
          0.049645669758319855,
          0.048854172229766846,
          0.04835732653737068,
          0.05141071230173111,
          0.0465177483856678,
          0.04858988896012306,
          0.04917973279953003,
          0.05120966210961342,
          0.05103525519371033,
          0.047439660876989365,
          0.04770774021744728,
          0.04344949498772621,
          0.03995365649461746,
          0.04610010236501694,
          0.04889492690563202,
          0.045004136860370636,
          0.04619371145963669,
          0.045018360018730164,
          0.052356090396642685,
          0.04513098672032356,
          0.048034317791461945,
          0.04781314730644226,
          0.04559461399912834,
          0.0510607585310936,
          0.04993550479412079,
          0.05005249008536339,
          0.04715389013290405,
          0.0495360791683197,
          0.047968700528144836,
          0.040992677211761475,
          0.045472994446754456,
          0.043121933937072754,
          0.04859110340476036,
          0.043377529829740524,
          0.0471397265791893,
          0.04255089536309242,
          0.0490109808743,
          0.045640792697668076,
          0.044240642338991165,
          0.05003057420253754,
          0.04649537801742554,
          0.04954779893159866,
          0.04902145266532898,
          0.04306100681424141,
          0.051504239439964294,
          0.04452036693692207,
          0.04634958505630493,
          0.04494292661547661,
          0.04677821323275566,
          0.04838910698890686,
          0.04464498162269592,
          0.046956345438957214,
          0.05145615339279175,
          0.050824638456106186,
          0.04198743402957916,
          0.04635404795408249,
          0.04469679668545723,
          0.04898890107870102,
          0.0415264293551445,
          0.04258570075035095,
          0.044115789234638214,
          0.04878119379281998,
          0.05035393685102463,
          0.048166681081056595,
          0.0508512519299984,
          0.04294639825820923,
          0.04149165749549866,
          0.048623889684677124,
          0.04926985129714012,
          0.0438557043671608,
          0.04975266754627228,
          0.046187497675418854,
          0.04717511683702469,
          0.051624197512865067,
          0.04590597376227379,
          0.04471912607550621,
          0.05075918883085251,
          0.051242515444755554,
          0.04343199357390404,
          0.04201091080904007,
          0.043507713824510574,
          0.04648711532354355,
          0.04766659438610077,
          0.04623696953058243,
          0.045782528817653656,
          0.04680485278367996,
          0.047354843467473984,
          0.042974576354026794,
          0.04511600732803345,
          0.046550292521715164,
          0.04280376434326172,
          0.04693615436553955,
          0.046919893473386765,
          0.04405355080962181,
          0.042989734560251236,
          0.04482221603393555,
          0.048130862414836884,
          0.048620108515024185,
          0.04326507821679115,
          0.045247435569763184,
          0.04512548819184303,
          0.04570702463388443,
          0.04508167877793312,
          0.042334381490945816,
          0.04465974122285843,
          0.03876585513353348,
          0.04199819266796112,
          0.04946134611964226,
          0.044368233531713486,
          0.04504380002617836,
          0.04342605918645859,
          0.04518070071935654,
          0.04334269091486931,
          0.04295225441455841,
          0.03983461856842041,
          0.04029899090528488,
          0.04675854742527008,
          0.04531514644622803,
          0.049049586057662964,
          0.04365626350045204,
          0.04724308103322983,
          0.04427905008196831,
          0.043068867176771164,
          0.0430288203060627,
          0.041552718728780746,
          0.04312465339899063,
          0.04352526739239693,
          0.04197315126657486,
          0.047824811190366745,
          0.04524363949894905,
          0.047379136085510254,
          0.04321157559752464,
          0.04731321334838867,
          0.046360284090042114,
          0.04466741904616356,
          0.04443201422691345,
          0.04383322596549988,
          0.04146905243396759,
          0.043050285428762436,
          0.04623132944107056,
          0.04389675334095955,
          0.04559537023305893,
          0.04571108520030975,
          0.04576782137155533,
          0.04035709798336029,
          0.04405850172042847,
          0.043860167264938354,
          0.042666587978601456,
          0.04752218350768089,
          0.047218360006809235,
          0.04593522101640701,
          0.04700993373990059,
          0.03853845223784447,
          0.04117267206311226,
          0.04447813332080841,
          0.042143117636442184,
          0.04577125981450081,
          0.04122854396700859,
          0.043450746685266495,
          0.04316272214055061,
          0.04618069529533386,
          0.03954939916729927,
          0.04631767421960831,
          0.04185041785240173,
          0.04497160017490387,
          0.03935221582651138,
          0.04056936502456665,
          0.04395238310098648,
          0.04302079603075981,
          0.04506387189030647,
          0.03865273669362068,
          0.041123006492853165,
          0.044426556676626205,
          0.04221529886126518,
          0.04099658131599426,
          0.04219270125031471,
          0.042954202741384506,
          0.042270250618457794,
          0.04136774688959122,
          0.04567969962954521,
          0.041731856763362885,
          0.04048314318060875,
          0.04029984399676323,
          0.04095032066106796,
          0.04130198806524277,
          0.038850560784339905,
          0.04176485538482666,
          0.039012230932712555,
          0.0425911545753479,
          0.043003302067518234,
          0.043774452060461044,
          0.04459252953529358,
          0.03874396160244942,
          0.044556211680173874,
          0.04213559627532959,
          0.042323194444179535,
          0.04243002086877823,
          0.04124986752867699,
          0.04539519548416138,
          0.042702194303274155,
          0.04393934831023216,
          0.0394875630736351,
          0.04124109074473381,
          0.044285695999860764,
          0.04203363507986069,
          0.040089137852191925,
          0.0446711964905262,
          0.04192375764250755,
          0.04256376996636391,
          0.036022085696458817,
          0.038163065910339355,
          0.04347734898328781,
          0.041994042694568634,
          0.04051877558231354,
          0.03963179141283035,
          0.04357854276895523,
          0.038322169333696365,
          0.041441626846790314,
          0.042681463062763214,
          0.04364388436079025,
          0.03903063386678696,
          0.039415981620550156,
          0.0351572185754776,
          0.041182633489370346,
          0.047493815422058105,
          0.03829887509346008,
          0.04512545466423035,
          0.04474581032991409,
          0.03689030930399895,
          0.04499863460659981,
          0.042274560779333115,
          0.03776918724179268,
          0.04611115902662277,
          0.03850386664271355,
          0.03932232782244682,
          0.042082879692316055,
          0.04145968705415726,
          0.04242200404405594,
          0.03941331431269646,
          0.04075976088643074,
          0.04414300248026848,
          0.046065524220466614,
          0.04365759715437889,
          0.03918011859059334,
          0.04057001695036888,
          0.0416087806224823,
          0.03928840160369873,
          0.04269277676939964,
          0.044354163110256195,
          0.045047879219055176,
          0.03697121888399124,
          0.03738589212298393,
          0.03929566591978073,
          0.04204735532402992,
          0.03843497112393379,
          0.042763449251651764,
          0.039935749024152756,
          0.04000803083181381,
          0.04202289879322052,
          0.03894640877842903,
          0.04190611466765404,
          0.03786878287792206,
          0.04172654077410698,
          0.040333092212677,
          0.04172526299953461,
          0.03784402832388878,
          0.04078161343932152,
          0.039289724081754684,
          0.04125427454710007,
          0.03662880137562752,
          0.03591948002576828,
          0.041506197303533554,
          0.04527915269136429,
          0.040804389864206314,
          0.04016837850213051,
          0.03974835202097893,
          0.037544261664152145,
          0.04091443121433258,
          0.03919811546802521,
          0.04081562161445618,
          0.04063871130347252,
          0.03958922252058983,
          0.043016962707042694,
          0.039286695420742035,
          0.03935151547193527,
          0.03894494101405144,
          0.038458213210105896,
          0.03837956488132477,
          0.03913597762584686,
          0.04257442429661751,
          0.03909055143594742,
          0.042753301560878754,
          0.03672722727060318,
          0.03440212830901146,
          0.0369969867169857,
          0.04056235030293465,
          0.037866197526454926,
          0.041554924100637436,
          0.037960298359394073,
          0.0408325232565403,
          0.0376647412776947,
          0.04068014398217201,
          0.03917087987065315,
          0.03786509484052658,
          0.03700801357626915,
          0.03716765716671944,
          0.03518538922071457,
          0.03630751371383667,
          0.037578243762254715,
          0.03440634906291962,
          0.03854674473404884,
          0.03646925091743469,
          0.03601214289665222,
          0.04126476123929024,
          0.03929387778043747,
          0.04126622900366783,
          0.03835464268922806,
          0.03704529628157616,
          0.04269601032137871,
          0.041266076266765594,
          0.03939353674650192,
          0.039437904953956604,
          0.03780318424105644,
          0.038327932357788086,
          0.03819899260997772,
          0.03760498762130737,
          0.03979954496026039,
          0.03802536800503731,
          0.03417505696415901,
          0.03737844526767731,
          0.038124874234199524,
          0.04053359106183052,
          0.036310404539108276,
          0.035057999193668365,
          0.031759653240442276,
          0.03816607967019081,
          0.037668101489543915,
          0.037163201719522476,
          0.03758794441819191,
          0.03753511980175972,
          0.03711423650383949,
          0.0385940819978714,
          0.03958012908697128,
          0.03584493324160576,
          0.03692403435707092,
          0.03866537660360336,
          0.03529384732246399,
          0.034778106957674026,
          0.033442869782447815,
          0.04357678443193436,
          0.0366680771112442,
          0.03456183895468712,
          0.0341985747218132,
          0.03314044699072838,
          0.040047965943813324,
          0.03588155657052994,
          0.03619106858968735,
          0.03452867269515991,
          0.037198856472969055,
          0.03517815098166466,
          0.03815900906920433,
          0.03592366725206375,
          0.03886161744594574,
          0.041244592517614365,
          0.033966124057769775,
          0.03776523843407631,
          0.03225142881274223,
          0.03456379473209381,
          0.0354514978826046,
          0.03999217972159386,
          0.035013291984796524,
          0.03942355141043663,
          0.03486953675746918,
          0.036836959421634674,
          0.03741104528307915,
          0.03526964411139488,
          0.03240710124373436,
          0.03566180169582367,
          0.033705875277519226,
          0.035821203142404556,
          0.034370508044958115,
          0.03834780678153038,
          0.036723580211400986,
          0.03715939819812775,
          0.03472638502717018,
          0.040692511945962906,
          0.03457733243703842,
          0.03562082722783089,
          0.040143951773643494,
          0.03696223348379135,
          0.032121334224939346,
          0.03429565951228142,
          0.03154902160167694,
          0.03720352053642273,
          0.03625071048736572,
          0.03276638686656952,
          0.03462768718600273,
          0.03892088308930397,
          0.03518439084291458,
          0.031776268035173416,
          0.03762141987681389,
          0.034195538610219955,
          0.03886915370821953,
          0.033438533544540405,
          0.03577500954270363,
          0.03654515743255615,
          0.03702634200453758,
          0.035119734704494476,
          0.03700542077422142,
          0.03312545269727707,
          0.036836933344602585,
          0.03264449164271355,
          0.029853811487555504,
          0.03657836467027664,
          0.03658871352672577,
          0.03659339249134064,
          0.03251754492521286,
          0.03665318712592125,
          0.03105619177222252,
          0.03520239144563675,
          0.03438837453722954,
          0.03776088356971741,
          0.03449003025889397,
          0.030753495171666145,
          0.03551182523369789,
          0.03302732855081558,
          0.034599944949150085,
          0.03268713504076004,
          0.030345819890499115,
          0.034709382802248,
          0.03153133764863014,
          0.03569962829351425,
          0.042371224611997604,
          0.03819531202316284,
          0.036134280264377594,
          0.0341181755065918,
          0.02932700514793396,
          0.033407438546419144,
          0.030704539269208908,
          0.03467375040054321,
          0.03595327213406563,
          0.031167175620794296,
          0.03333088755607605,
          0.03450749069452286,
          0.031867723912000656,
          0.03136612847447395,
          0.03341709449887276,
          0.03618943691253662,
          0.03256581351161003,
          0.033660441637039185,
          0.038282282650470734,
          0.03334910050034523,
          0.03518752008676529,
          0.02812747098505497,
          0.032186754047870636,
          0.030998827889561653,
          0.03114297240972519,
          0.03356172516942024,
          0.03345872461795807,
          0.03752428665757179,
          0.03498479723930359,
          0.03201140835881233,
          0.027864893898367882,
          0.02835489995777607,
          0.03394221141934395,
          0.03447439894080162,
          0.03344015032052994,
          0.03665059432387352,
          0.03665837273001671,
          0.03478231653571129,
          0.030957426875829697,
          0.0328378863632679,
          0.03532129526138306,
          0.03335116431117058,
          0.036195773631334305,
          0.02657882682979107,
          0.03174404054880142,
          0.033742424100637436,
          0.02940622717142105,
          0.034881219267845154,
          0.029596680775284767,
          0.03014765866100788,
          0.02771162986755371,
          0.033064182847738266,
          0.034249309450387955,
          0.031089315190911293,
          0.02886868640780449,
          0.03425218537449837,
          0.02707599475979805,
          0.030462317168712616,
          0.040408335626125336,
          0.033550914376974106,
          0.03348826989531517,
          0.032192252576351166,
          0.0334111712872982,
          0.03211690112948418,
          0.028535732999444008,
          0.03052203729748726,
          0.031149616464972496,
          0.03530433401465416,
          0.03161820024251938,
          0.027919841930270195,
          0.029067469760775566,
          0.02977372705936432
         ]
        }
       ],
       "layout": {
        "template": {
         "data": {
          "bar": [
           {
            "error_x": {
             "color": "#2a3f5f"
            },
            "error_y": {
             "color": "#2a3f5f"
            },
            "marker": {
             "line": {
              "color": "#E5ECF6",
              "width": 0.5
             },
             "pattern": {
              "fillmode": "overlay",
              "size": 10,
              "solidity": 0.2
             }
            },
            "type": "bar"
           }
          ],
          "barpolar": [
           {
            "marker": {
             "line": {
              "color": "#E5ECF6",
              "width": 0.5
             },
             "pattern": {
              "fillmode": "overlay",
              "size": 10,
              "solidity": 0.2
             }
            },
            "type": "barpolar"
           }
          ],
          "carpet": [
           {
            "aaxis": {
             "endlinecolor": "#2a3f5f",
             "gridcolor": "white",
             "linecolor": "white",
             "minorgridcolor": "white",
             "startlinecolor": "#2a3f5f"
            },
            "baxis": {
             "endlinecolor": "#2a3f5f",
             "gridcolor": "white",
             "linecolor": "white",
             "minorgridcolor": "white",
             "startlinecolor": "#2a3f5f"
            },
            "type": "carpet"
           }
          ],
          "choropleth": [
           {
            "colorbar": {
             "outlinewidth": 0,
             "ticks": ""
            },
            "type": "choropleth"
           }
          ],
          "contour": [
           {
            "colorbar": {
             "outlinewidth": 0,
             "ticks": ""
            },
            "colorscale": [
             [
              0,
              "#0d0887"
             ],
             [
              0.1111111111111111,
              "#46039f"
             ],
             [
              0.2222222222222222,
              "#7201a8"
             ],
             [
              0.3333333333333333,
              "#9c179e"
             ],
             [
              0.4444444444444444,
              "#bd3786"
             ],
             [
              0.5555555555555556,
              "#d8576b"
             ],
             [
              0.6666666666666666,
              "#ed7953"
             ],
             [
              0.7777777777777778,
              "#fb9f3a"
             ],
             [
              0.8888888888888888,
              "#fdca26"
             ],
             [
              1,
              "#f0f921"
             ]
            ],
            "type": "contour"
           }
          ],
          "contourcarpet": [
           {
            "colorbar": {
             "outlinewidth": 0,
             "ticks": ""
            },
            "type": "contourcarpet"
           }
          ],
          "heatmap": [
           {
            "colorbar": {
             "outlinewidth": 0,
             "ticks": ""
            },
            "colorscale": [
             [
              0,
              "#0d0887"
             ],
             [
              0.1111111111111111,
              "#46039f"
             ],
             [
              0.2222222222222222,
              "#7201a8"
             ],
             [
              0.3333333333333333,
              "#9c179e"
             ],
             [
              0.4444444444444444,
              "#bd3786"
             ],
             [
              0.5555555555555556,
              "#d8576b"
             ],
             [
              0.6666666666666666,
              "#ed7953"
             ],
             [
              0.7777777777777778,
              "#fb9f3a"
             ],
             [
              0.8888888888888888,
              "#fdca26"
             ],
             [
              1,
              "#f0f921"
             ]
            ],
            "type": "heatmap"
           }
          ],
          "heatmapgl": [
           {
            "colorbar": {
             "outlinewidth": 0,
             "ticks": ""
            },
            "colorscale": [
             [
              0,
              "#0d0887"
             ],
             [
              0.1111111111111111,
              "#46039f"
             ],
             [
              0.2222222222222222,
              "#7201a8"
             ],
             [
              0.3333333333333333,
              "#9c179e"
             ],
             [
              0.4444444444444444,
              "#bd3786"
             ],
             [
              0.5555555555555556,
              "#d8576b"
             ],
             [
              0.6666666666666666,
              "#ed7953"
             ],
             [
              0.7777777777777778,
              "#fb9f3a"
             ],
             [
              0.8888888888888888,
              "#fdca26"
             ],
             [
              1,
              "#f0f921"
             ]
            ],
            "type": "heatmapgl"
           }
          ],
          "histogram": [
           {
            "marker": {
             "pattern": {
              "fillmode": "overlay",
              "size": 10,
              "solidity": 0.2
             }
            },
            "type": "histogram"
           }
          ],
          "histogram2d": [
           {
            "colorbar": {
             "outlinewidth": 0,
             "ticks": ""
            },
            "colorscale": [
             [
              0,
              "#0d0887"
             ],
             [
              0.1111111111111111,
              "#46039f"
             ],
             [
              0.2222222222222222,
              "#7201a8"
             ],
             [
              0.3333333333333333,
              "#9c179e"
             ],
             [
              0.4444444444444444,
              "#bd3786"
             ],
             [
              0.5555555555555556,
              "#d8576b"
             ],
             [
              0.6666666666666666,
              "#ed7953"
             ],
             [
              0.7777777777777778,
              "#fb9f3a"
             ],
             [
              0.8888888888888888,
              "#fdca26"
             ],
             [
              1,
              "#f0f921"
             ]
            ],
            "type": "histogram2d"
           }
          ],
          "histogram2dcontour": [
           {
            "colorbar": {
             "outlinewidth": 0,
             "ticks": ""
            },
            "colorscale": [
             [
              0,
              "#0d0887"
             ],
             [
              0.1111111111111111,
              "#46039f"
             ],
             [
              0.2222222222222222,
              "#7201a8"
             ],
             [
              0.3333333333333333,
              "#9c179e"
             ],
             [
              0.4444444444444444,
              "#bd3786"
             ],
             [
              0.5555555555555556,
              "#d8576b"
             ],
             [
              0.6666666666666666,
              "#ed7953"
             ],
             [
              0.7777777777777778,
              "#fb9f3a"
             ],
             [
              0.8888888888888888,
              "#fdca26"
             ],
             [
              1,
              "#f0f921"
             ]
            ],
            "type": "histogram2dcontour"
           }
          ],
          "mesh3d": [
           {
            "colorbar": {
             "outlinewidth": 0,
             "ticks": ""
            },
            "type": "mesh3d"
           }
          ],
          "parcoords": [
           {
            "line": {
             "colorbar": {
              "outlinewidth": 0,
              "ticks": ""
             }
            },
            "type": "parcoords"
           }
          ],
          "pie": [
           {
            "automargin": true,
            "type": "pie"
           }
          ],
          "scatter": [
           {
            "fillpattern": {
             "fillmode": "overlay",
             "size": 10,
             "solidity": 0.2
            },
            "type": "scatter"
           }
          ],
          "scatter3d": [
           {
            "line": {
             "colorbar": {
              "outlinewidth": 0,
              "ticks": ""
             }
            },
            "marker": {
             "colorbar": {
              "outlinewidth": 0,
              "ticks": ""
             }
            },
            "type": "scatter3d"
           }
          ],
          "scattercarpet": [
           {
            "marker": {
             "colorbar": {
              "outlinewidth": 0,
              "ticks": ""
             }
            },
            "type": "scattercarpet"
           }
          ],
          "scattergeo": [
           {
            "marker": {
             "colorbar": {
              "outlinewidth": 0,
              "ticks": ""
             }
            },
            "type": "scattergeo"
           }
          ],
          "scattergl": [
           {
            "marker": {
             "colorbar": {
              "outlinewidth": 0,
              "ticks": ""
             }
            },
            "type": "scattergl"
           }
          ],
          "scattermapbox": [
           {
            "marker": {
             "colorbar": {
              "outlinewidth": 0,
              "ticks": ""
             }
            },
            "type": "scattermapbox"
           }
          ],
          "scatterpolar": [
           {
            "marker": {
             "colorbar": {
              "outlinewidth": 0,
              "ticks": ""
             }
            },
            "type": "scatterpolar"
           }
          ],
          "scatterpolargl": [
           {
            "marker": {
             "colorbar": {
              "outlinewidth": 0,
              "ticks": ""
             }
            },
            "type": "scatterpolargl"
           }
          ],
          "scatterternary": [
           {
            "marker": {
             "colorbar": {
              "outlinewidth": 0,
              "ticks": ""
             }
            },
            "type": "scatterternary"
           }
          ],
          "surface": [
           {
            "colorbar": {
             "outlinewidth": 0,
             "ticks": ""
            },
            "colorscale": [
             [
              0,
              "#0d0887"
             ],
             [
              0.1111111111111111,
              "#46039f"
             ],
             [
              0.2222222222222222,
              "#7201a8"
             ],
             [
              0.3333333333333333,
              "#9c179e"
             ],
             [
              0.4444444444444444,
              "#bd3786"
             ],
             [
              0.5555555555555556,
              "#d8576b"
             ],
             [
              0.6666666666666666,
              "#ed7953"
             ],
             [
              0.7777777777777778,
              "#fb9f3a"
             ],
             [
              0.8888888888888888,
              "#fdca26"
             ],
             [
              1,
              "#f0f921"
             ]
            ],
            "type": "surface"
           }
          ],
          "table": [
           {
            "cells": {
             "fill": {
              "color": "#EBF0F8"
             },
             "line": {
              "color": "white"
             }
            },
            "header": {
             "fill": {
              "color": "#C8D4E3"
             },
             "line": {
              "color": "white"
             }
            },
            "type": "table"
           }
          ]
         },
         "layout": {
          "annotationdefaults": {
           "arrowcolor": "#2a3f5f",
           "arrowhead": 0,
           "arrowwidth": 1
          },
          "autotypenumbers": "strict",
          "coloraxis": {
           "colorbar": {
            "outlinewidth": 0,
            "ticks": ""
           }
          },
          "colorscale": {
           "diverging": [
            [
             0,
             "#8e0152"
            ],
            [
             0.1,
             "#c51b7d"
            ],
            [
             0.2,
             "#de77ae"
            ],
            [
             0.3,
             "#f1b6da"
            ],
            [
             0.4,
             "#fde0ef"
            ],
            [
             0.5,
             "#f7f7f7"
            ],
            [
             0.6,
             "#e6f5d0"
            ],
            [
             0.7,
             "#b8e186"
            ],
            [
             0.8,
             "#7fbc41"
            ],
            [
             0.9,
             "#4d9221"
            ],
            [
             1,
             "#276419"
            ]
           ],
           "sequential": [
            [
             0,
             "#0d0887"
            ],
            [
             0.1111111111111111,
             "#46039f"
            ],
            [
             0.2222222222222222,
             "#7201a8"
            ],
            [
             0.3333333333333333,
             "#9c179e"
            ],
            [
             0.4444444444444444,
             "#bd3786"
            ],
            [
             0.5555555555555556,
             "#d8576b"
            ],
            [
             0.6666666666666666,
             "#ed7953"
            ],
            [
             0.7777777777777778,
             "#fb9f3a"
            ],
            [
             0.8888888888888888,
             "#fdca26"
            ],
            [
             1,
             "#f0f921"
            ]
           ],
           "sequentialminus": [
            [
             0,
             "#0d0887"
            ],
            [
             0.1111111111111111,
             "#46039f"
            ],
            [
             0.2222222222222222,
             "#7201a8"
            ],
            [
             0.3333333333333333,
             "#9c179e"
            ],
            [
             0.4444444444444444,
             "#bd3786"
            ],
            [
             0.5555555555555556,
             "#d8576b"
            ],
            [
             0.6666666666666666,
             "#ed7953"
            ],
            [
             0.7777777777777778,
             "#fb9f3a"
            ],
            [
             0.8888888888888888,
             "#fdca26"
            ],
            [
             1,
             "#f0f921"
            ]
           ]
          },
          "colorway": [
           "#636efa",
           "#EF553B",
           "#00cc96",
           "#ab63fa",
           "#FFA15A",
           "#19d3f3",
           "#FF6692",
           "#B6E880",
           "#FF97FF",
           "#FECB52"
          ],
          "font": {
           "color": "#2a3f5f"
          },
          "geo": {
           "bgcolor": "white",
           "lakecolor": "white",
           "landcolor": "#E5ECF6",
           "showlakes": true,
           "showland": true,
           "subunitcolor": "white"
          },
          "hoverlabel": {
           "align": "left"
          },
          "hovermode": "closest",
          "mapbox": {
           "style": "light"
          },
          "paper_bgcolor": "white",
          "plot_bgcolor": "#E5ECF6",
          "polar": {
           "angularaxis": {
            "gridcolor": "white",
            "linecolor": "white",
            "ticks": ""
           },
           "bgcolor": "#E5ECF6",
           "radialaxis": {
            "gridcolor": "white",
            "linecolor": "white",
            "ticks": ""
           }
          },
          "scene": {
           "xaxis": {
            "backgroundcolor": "#E5ECF6",
            "gridcolor": "white",
            "gridwidth": 2,
            "linecolor": "white",
            "showbackground": true,
            "ticks": "",
            "zerolinecolor": "white"
           },
           "yaxis": {
            "backgroundcolor": "#E5ECF6",
            "gridcolor": "white",
            "gridwidth": 2,
            "linecolor": "white",
            "showbackground": true,
            "ticks": "",
            "zerolinecolor": "white"
           },
           "zaxis": {
            "backgroundcolor": "#E5ECF6",
            "gridcolor": "white",
            "gridwidth": 2,
            "linecolor": "white",
            "showbackground": true,
            "ticks": "",
            "zerolinecolor": "white"
           }
          },
          "shapedefaults": {
           "line": {
            "color": "#2a3f5f"
           }
          },
          "ternary": {
           "aaxis": {
            "gridcolor": "white",
            "linecolor": "white",
            "ticks": ""
           },
           "baxis": {
            "gridcolor": "white",
            "linecolor": "white",
            "ticks": ""
           },
           "bgcolor": "#E5ECF6",
           "caxis": {
            "gridcolor": "white",
            "linecolor": "white",
            "ticks": ""
           }
          },
          "title": {
           "x": 0.05
          },
          "xaxis": {
           "automargin": true,
           "gridcolor": "white",
           "linecolor": "white",
           "ticks": "",
           "title": {
            "standoff": 15
           },
           "zerolinecolor": "white",
           "zerolinewidth": 2
          },
          "yaxis": {
           "automargin": true,
           "gridcolor": "white",
           "linecolor": "white",
           "ticks": "",
           "title": {
            "standoff": 15
           },
           "zerolinecolor": "white",
           "zerolinewidth": 2
          }
         }
        },
        "title": {
         "text": "Train loss"
        },
        "xaxis": {
         "title": {
          "text": "Time Step"
         }
        },
        "yaxis": {
         "title": {
          "text": "Loss Value"
         }
        }
       }
      }
     },
     "metadata": {},
     "output_type": "display_data"
    },
    {
     "data": {
      "application/vnd.plotly.v1+json": {
       "config": {
        "plotlyServerURL": "https://plot.ly"
       },
       "data": [
        {
         "line": {
          "color": "blue"
         },
         "mode": "lines",
         "name": "GT",
         "type": "scatter",
         "y": [
          0.9620248675346375,
          0.9893797039985657,
          1.0147064924240112,
          1.0379794836044312,
          1.059165358543396,
          1.0782369375228882,
          1.0951577425003052,
          1.1098930835723877,
          1.1224005222320557,
          1.1326359510421753,
          1.140551209449768,
          1.1460990905761719,
          1.1492266654968262,
          1.1498870849609375,
          1.148034691810608,
          1.1436318159103394,
          0.9874258637428284,
          0.9574523568153381,
          0.9251313209533691,
          0.8905338048934937,
          0.8537447452545166,
          0.8148549199104309,
          0.7739643454551697,
          0.7311805486679077,
          0.686623215675354,
          0.6404134631156921,
          0.5926860570907593,
          0.5435834527015686,
          0.49325254559516907,
          0.4418538510799408,
          0.3895494341850281,
          0.3365119695663452,
          -0.14245954155921936,
          -0.19215282797813416,
          -0.24038152396678925,
          -0.28694114089012146,
          -0.33163177967071533,
          -0.3742610812187195,
          -0.41464123129844666,
          -0.45259517431259155,
          -0.48795467615127563,
          -0.520561695098877,
          -0.5502715110778809,
          -0.5769516825675964,
          -0.6004844307899475,
          -0.6207668781280518,
          -0.6377118229866028,
          -0.6512485146522522
         ]
        },
        {
         "line": {
          "color": "red"
         },
         "mode": "lines",
         "name": "pred_beginning",
         "type": "scatter",
         "y": [
          0.42463767528533936,
          0.4478217363357544,
          0.5153789520263672,
          0.4682328701019287,
          0.5301399230957031,
          0.6401383280754089,
          0.5224028825759888,
          0.6669166088104248,
          0.6225362420082092,
          0.6496180891990662,
          0.6479867100715637,
          0.6451207995414734,
          0.7181306481361389,
          0.7259848713874817,
          0.7253750562667847,
          0.7729198932647705,
          0.6860800981521606,
          0.5842375755310059,
          0.7836587429046631,
          0.5993406176567078,
          0.6528894305229187,
          0.7504804134368896,
          0.5019006729125977,
          0.8047259449958801,
          0.47068727016448975,
          0.46440714597702026,
          0.42177021503448486,
          0.3537641763687134,
          0.42806488275527954,
          0.3824530243873596,
          0.1934053897857666,
          0.2654359042644501,
          -0.4939272999763489,
          -0.7069773077964783,
          -0.6466503739356995,
          -0.6654108166694641,
          -0.6577481627464294,
          -0.5541390180587769,
          -0.672782301902771,
          -0.46392983198165894,
          -0.6729249358177185,
          -0.6073210835456848,
          -0.5830463171005249,
          -0.598587155342102,
          -0.48376721143722534,
          -0.4904513955116272,
          -0.5883976221084595,
          -0.5016343593597412
         ]
        }
       ],
       "layout": {
        "template": {
         "data": {
          "bar": [
           {
            "error_x": {
             "color": "#2a3f5f"
            },
            "error_y": {
             "color": "#2a3f5f"
            },
            "marker": {
             "line": {
              "color": "#E5ECF6",
              "width": 0.5
             },
             "pattern": {
              "fillmode": "overlay",
              "size": 10,
              "solidity": 0.2
             }
            },
            "type": "bar"
           }
          ],
          "barpolar": [
           {
            "marker": {
             "line": {
              "color": "#E5ECF6",
              "width": 0.5
             },
             "pattern": {
              "fillmode": "overlay",
              "size": 10,
              "solidity": 0.2
             }
            },
            "type": "barpolar"
           }
          ],
          "carpet": [
           {
            "aaxis": {
             "endlinecolor": "#2a3f5f",
             "gridcolor": "white",
             "linecolor": "white",
             "minorgridcolor": "white",
             "startlinecolor": "#2a3f5f"
            },
            "baxis": {
             "endlinecolor": "#2a3f5f",
             "gridcolor": "white",
             "linecolor": "white",
             "minorgridcolor": "white",
             "startlinecolor": "#2a3f5f"
            },
            "type": "carpet"
           }
          ],
          "choropleth": [
           {
            "colorbar": {
             "outlinewidth": 0,
             "ticks": ""
            },
            "type": "choropleth"
           }
          ],
          "contour": [
           {
            "colorbar": {
             "outlinewidth": 0,
             "ticks": ""
            },
            "colorscale": [
             [
              0,
              "#0d0887"
             ],
             [
              0.1111111111111111,
              "#46039f"
             ],
             [
              0.2222222222222222,
              "#7201a8"
             ],
             [
              0.3333333333333333,
              "#9c179e"
             ],
             [
              0.4444444444444444,
              "#bd3786"
             ],
             [
              0.5555555555555556,
              "#d8576b"
             ],
             [
              0.6666666666666666,
              "#ed7953"
             ],
             [
              0.7777777777777778,
              "#fb9f3a"
             ],
             [
              0.8888888888888888,
              "#fdca26"
             ],
             [
              1,
              "#f0f921"
             ]
            ],
            "type": "contour"
           }
          ],
          "contourcarpet": [
           {
            "colorbar": {
             "outlinewidth": 0,
             "ticks": ""
            },
            "type": "contourcarpet"
           }
          ],
          "heatmap": [
           {
            "colorbar": {
             "outlinewidth": 0,
             "ticks": ""
            },
            "colorscale": [
             [
              0,
              "#0d0887"
             ],
             [
              0.1111111111111111,
              "#46039f"
             ],
             [
              0.2222222222222222,
              "#7201a8"
             ],
             [
              0.3333333333333333,
              "#9c179e"
             ],
             [
              0.4444444444444444,
              "#bd3786"
             ],
             [
              0.5555555555555556,
              "#d8576b"
             ],
             [
              0.6666666666666666,
              "#ed7953"
             ],
             [
              0.7777777777777778,
              "#fb9f3a"
             ],
             [
              0.8888888888888888,
              "#fdca26"
             ],
             [
              1,
              "#f0f921"
             ]
            ],
            "type": "heatmap"
           }
          ],
          "heatmapgl": [
           {
            "colorbar": {
             "outlinewidth": 0,
             "ticks": ""
            },
            "colorscale": [
             [
              0,
              "#0d0887"
             ],
             [
              0.1111111111111111,
              "#46039f"
             ],
             [
              0.2222222222222222,
              "#7201a8"
             ],
             [
              0.3333333333333333,
              "#9c179e"
             ],
             [
              0.4444444444444444,
              "#bd3786"
             ],
             [
              0.5555555555555556,
              "#d8576b"
             ],
             [
              0.6666666666666666,
              "#ed7953"
             ],
             [
              0.7777777777777778,
              "#fb9f3a"
             ],
             [
              0.8888888888888888,
              "#fdca26"
             ],
             [
              1,
              "#f0f921"
             ]
            ],
            "type": "heatmapgl"
           }
          ],
          "histogram": [
           {
            "marker": {
             "pattern": {
              "fillmode": "overlay",
              "size": 10,
              "solidity": 0.2
             }
            },
            "type": "histogram"
           }
          ],
          "histogram2d": [
           {
            "colorbar": {
             "outlinewidth": 0,
             "ticks": ""
            },
            "colorscale": [
             [
              0,
              "#0d0887"
             ],
             [
              0.1111111111111111,
              "#46039f"
             ],
             [
              0.2222222222222222,
              "#7201a8"
             ],
             [
              0.3333333333333333,
              "#9c179e"
             ],
             [
              0.4444444444444444,
              "#bd3786"
             ],
             [
              0.5555555555555556,
              "#d8576b"
             ],
             [
              0.6666666666666666,
              "#ed7953"
             ],
             [
              0.7777777777777778,
              "#fb9f3a"
             ],
             [
              0.8888888888888888,
              "#fdca26"
             ],
             [
              1,
              "#f0f921"
             ]
            ],
            "type": "histogram2d"
           }
          ],
          "histogram2dcontour": [
           {
            "colorbar": {
             "outlinewidth": 0,
             "ticks": ""
            },
            "colorscale": [
             [
              0,
              "#0d0887"
             ],
             [
              0.1111111111111111,
              "#46039f"
             ],
             [
              0.2222222222222222,
              "#7201a8"
             ],
             [
              0.3333333333333333,
              "#9c179e"
             ],
             [
              0.4444444444444444,
              "#bd3786"
             ],
             [
              0.5555555555555556,
              "#d8576b"
             ],
             [
              0.6666666666666666,
              "#ed7953"
             ],
             [
              0.7777777777777778,
              "#fb9f3a"
             ],
             [
              0.8888888888888888,
              "#fdca26"
             ],
             [
              1,
              "#f0f921"
             ]
            ],
            "type": "histogram2dcontour"
           }
          ],
          "mesh3d": [
           {
            "colorbar": {
             "outlinewidth": 0,
             "ticks": ""
            },
            "type": "mesh3d"
           }
          ],
          "parcoords": [
           {
            "line": {
             "colorbar": {
              "outlinewidth": 0,
              "ticks": ""
             }
            },
            "type": "parcoords"
           }
          ],
          "pie": [
           {
            "automargin": true,
            "type": "pie"
           }
          ],
          "scatter": [
           {
            "fillpattern": {
             "fillmode": "overlay",
             "size": 10,
             "solidity": 0.2
            },
            "type": "scatter"
           }
          ],
          "scatter3d": [
           {
            "line": {
             "colorbar": {
              "outlinewidth": 0,
              "ticks": ""
             }
            },
            "marker": {
             "colorbar": {
              "outlinewidth": 0,
              "ticks": ""
             }
            },
            "type": "scatter3d"
           }
          ],
          "scattercarpet": [
           {
            "marker": {
             "colorbar": {
              "outlinewidth": 0,
              "ticks": ""
             }
            },
            "type": "scattercarpet"
           }
          ],
          "scattergeo": [
           {
            "marker": {
             "colorbar": {
              "outlinewidth": 0,
              "ticks": ""
             }
            },
            "type": "scattergeo"
           }
          ],
          "scattergl": [
           {
            "marker": {
             "colorbar": {
              "outlinewidth": 0,
              "ticks": ""
             }
            },
            "type": "scattergl"
           }
          ],
          "scattermapbox": [
           {
            "marker": {
             "colorbar": {
              "outlinewidth": 0,
              "ticks": ""
             }
            },
            "type": "scattermapbox"
           }
          ],
          "scatterpolar": [
           {
            "marker": {
             "colorbar": {
              "outlinewidth": 0,
              "ticks": ""
             }
            },
            "type": "scatterpolar"
           }
          ],
          "scatterpolargl": [
           {
            "marker": {
             "colorbar": {
              "outlinewidth": 0,
              "ticks": ""
             }
            },
            "type": "scatterpolargl"
           }
          ],
          "scatterternary": [
           {
            "marker": {
             "colorbar": {
              "outlinewidth": 0,
              "ticks": ""
             }
            },
            "type": "scatterternary"
           }
          ],
          "surface": [
           {
            "colorbar": {
             "outlinewidth": 0,
             "ticks": ""
            },
            "colorscale": [
             [
              0,
              "#0d0887"
             ],
             [
              0.1111111111111111,
              "#46039f"
             ],
             [
              0.2222222222222222,
              "#7201a8"
             ],
             [
              0.3333333333333333,
              "#9c179e"
             ],
             [
              0.4444444444444444,
              "#bd3786"
             ],
             [
              0.5555555555555556,
              "#d8576b"
             ],
             [
              0.6666666666666666,
              "#ed7953"
             ],
             [
              0.7777777777777778,
              "#fb9f3a"
             ],
             [
              0.8888888888888888,
              "#fdca26"
             ],
             [
              1,
              "#f0f921"
             ]
            ],
            "type": "surface"
           }
          ],
          "table": [
           {
            "cells": {
             "fill": {
              "color": "#EBF0F8"
             },
             "line": {
              "color": "white"
             }
            },
            "header": {
             "fill": {
              "color": "#C8D4E3"
             },
             "line": {
              "color": "white"
             }
            },
            "type": "table"
           }
          ]
         },
         "layout": {
          "annotationdefaults": {
           "arrowcolor": "#2a3f5f",
           "arrowhead": 0,
           "arrowwidth": 1
          },
          "autotypenumbers": "strict",
          "coloraxis": {
           "colorbar": {
            "outlinewidth": 0,
            "ticks": ""
           }
          },
          "colorscale": {
           "diverging": [
            [
             0,
             "#8e0152"
            ],
            [
             0.1,
             "#c51b7d"
            ],
            [
             0.2,
             "#de77ae"
            ],
            [
             0.3,
             "#f1b6da"
            ],
            [
             0.4,
             "#fde0ef"
            ],
            [
             0.5,
             "#f7f7f7"
            ],
            [
             0.6,
             "#e6f5d0"
            ],
            [
             0.7,
             "#b8e186"
            ],
            [
             0.8,
             "#7fbc41"
            ],
            [
             0.9,
             "#4d9221"
            ],
            [
             1,
             "#276419"
            ]
           ],
           "sequential": [
            [
             0,
             "#0d0887"
            ],
            [
             0.1111111111111111,
             "#46039f"
            ],
            [
             0.2222222222222222,
             "#7201a8"
            ],
            [
             0.3333333333333333,
             "#9c179e"
            ],
            [
             0.4444444444444444,
             "#bd3786"
            ],
            [
             0.5555555555555556,
             "#d8576b"
            ],
            [
             0.6666666666666666,
             "#ed7953"
            ],
            [
             0.7777777777777778,
             "#fb9f3a"
            ],
            [
             0.8888888888888888,
             "#fdca26"
            ],
            [
             1,
             "#f0f921"
            ]
           ],
           "sequentialminus": [
            [
             0,
             "#0d0887"
            ],
            [
             0.1111111111111111,
             "#46039f"
            ],
            [
             0.2222222222222222,
             "#7201a8"
            ],
            [
             0.3333333333333333,
             "#9c179e"
            ],
            [
             0.4444444444444444,
             "#bd3786"
            ],
            [
             0.5555555555555556,
             "#d8576b"
            ],
            [
             0.6666666666666666,
             "#ed7953"
            ],
            [
             0.7777777777777778,
             "#fb9f3a"
            ],
            [
             0.8888888888888888,
             "#fdca26"
            ],
            [
             1,
             "#f0f921"
            ]
           ]
          },
          "colorway": [
           "#636efa",
           "#EF553B",
           "#00cc96",
           "#ab63fa",
           "#FFA15A",
           "#19d3f3",
           "#FF6692",
           "#B6E880",
           "#FF97FF",
           "#FECB52"
          ],
          "font": {
           "color": "#2a3f5f"
          },
          "geo": {
           "bgcolor": "white",
           "lakecolor": "white",
           "landcolor": "#E5ECF6",
           "showlakes": true,
           "showland": true,
           "subunitcolor": "white"
          },
          "hoverlabel": {
           "align": "left"
          },
          "hovermode": "closest",
          "mapbox": {
           "style": "light"
          },
          "paper_bgcolor": "white",
          "plot_bgcolor": "#E5ECF6",
          "polar": {
           "angularaxis": {
            "gridcolor": "white",
            "linecolor": "white",
            "ticks": ""
           },
           "bgcolor": "#E5ECF6",
           "radialaxis": {
            "gridcolor": "white",
            "linecolor": "white",
            "ticks": ""
           }
          },
          "scene": {
           "xaxis": {
            "backgroundcolor": "#E5ECF6",
            "gridcolor": "white",
            "gridwidth": 2,
            "linecolor": "white",
            "showbackground": true,
            "ticks": "",
            "zerolinecolor": "white"
           },
           "yaxis": {
            "backgroundcolor": "#E5ECF6",
            "gridcolor": "white",
            "gridwidth": 2,
            "linecolor": "white",
            "showbackground": true,
            "ticks": "",
            "zerolinecolor": "white"
           },
           "zaxis": {
            "backgroundcolor": "#E5ECF6",
            "gridcolor": "white",
            "gridwidth": 2,
            "linecolor": "white",
            "showbackground": true,
            "ticks": "",
            "zerolinecolor": "white"
           }
          },
          "shapedefaults": {
           "line": {
            "color": "#2a3f5f"
           }
          },
          "ternary": {
           "aaxis": {
            "gridcolor": "white",
            "linecolor": "white",
            "ticks": ""
           },
           "baxis": {
            "gridcolor": "white",
            "linecolor": "white",
            "ticks": ""
           },
           "bgcolor": "#E5ECF6",
           "caxis": {
            "gridcolor": "white",
            "linecolor": "white",
            "ticks": ""
           }
          },
          "title": {
           "x": 0.05
          },
          "xaxis": {
           "automargin": true,
           "gridcolor": "white",
           "linecolor": "white",
           "ticks": "",
           "title": {
            "standoff": 15
           },
           "zerolinecolor": "white",
           "zerolinewidth": 2
          },
          "yaxis": {
           "automargin": true,
           "gridcolor": "white",
           "linecolor": "white",
           "ticks": "",
           "title": {
            "standoff": 15
           },
           "zerolinecolor": "white",
           "zerolinewidth": 2
          }
         }
        },
        "title": {
         "text": "TSMixer Prediction vs. Ground Truth for ALT"
        },
        "xaxis": {
         "title": {
          "text": "Time Step"
         }
        },
        "yaxis": {
         "title": {
          "text": "Value"
         }
        }
       }
      }
     },
     "metadata": {},
     "output_type": "display_data"
    },
    {
     "data": {
      "application/vnd.plotly.v1+json": {
       "config": {
        "plotlyServerURL": "https://plot.ly"
       },
       "data": [
        {
         "line": {
          "color": "blue"
         },
         "mode": "lines",
         "name": "GT",
         "type": "scatter",
         "y": [
          0.7901026606559753,
          0.7225285768508911,
          0.654036819934845,
          0.5845959186553955,
          0.514149010181427,
          0.44261473417282104,
          0.3698865473270416,
          0.29583731293678284,
          0.2203301638364792,
          0.14323310554027557,
          0.06444334983825684,
          -0.0160861574113369,
          -0.09832675755023956,
          -0.1821625977754593,
          -0.2673967778682709,
          -0.35376864671707153,
          -1.1291027069091797,
          -1.2090986967086792,
          -1.2867423295974731,
          -1.3617452383041382,
          -1.4338215589523315,
          -1.5026874542236328,
          -1.568061113357544,
          -1.6296615600585938,
          -1.6872092485427856,
          -1.740425944328308,
          -1.7890361547470093,
          -1.8327676057815552,
          -1.8713539838790894,
          -1.9045350551605225,
          -1.932060956954956,
          -1.953693151473999,
          -1.853359580039978,
          -1.8076151609420776,
          -1.754968523979187,
          -1.6955461502075195,
          -1.6295194625854492,
          -1.5571048259735107,
          -1.4785618782043457,
          -1.3941960334777832,
          -1.3043545484542847,
          -1.2094249725341797,
          -1.1098321676254272,
          -1.0060361623764038,
          -0.8985280394554138,
          -0.7878246903419495,
          -0.6744656562805176,
          -0.5590068697929382
         ]
        },
        {
         "line": {
          "color": "red"
         },
         "mode": "lines",
         "name": "pred_beginning",
         "type": "scatter",
         "y": [
          1.0928620100021362,
          1.0634819269180298,
          1.1713823080062866,
          1.0476641654968262,
          1.0851079225540161,
          1.1244736909866333,
          0.9841746091842651,
          1.0769463777542114,
          0.9648807048797607,
          0.9563332200050354,
          0.9223710298538208,
          0.8604641556739807,
          0.8808876872062683,
          0.8062317371368408,
          0.6919667720794678,
          0.7065536975860596,
          -1.0902819633483887,
          -1.0715798139572144,
          -1.0095908641815186,
          -1.1069042682647705,
          -1.0875084400177002,
          -1.0537714958190918,
          -1.143972635269165,
          -1.0737063884735107,
          -1.1586723327636719,
          -1.1971681118011475,
          -1.2318576574325562,
          -1.185956597328186,
          -1.2184832096099854,
          -1.1926089525222778,
          -1.2308001518249512,
          -1.2154484987258911,
          -1.493941307067871,
          -1.528498888015747,
          -1.5197901725769043,
          -1.5514634847640991,
          -1.4497236013412476,
          -1.30508291721344,
          -1.4210021495819092,
          -1.3395934104919434,
          -1.2697709798812866,
          -1.2398779392242432,
          -1.2418806552886963,
          -1.1393522024154663,
          -1.0731136798858643,
          -0.9641635417938232,
          -0.9348514080047607,
          -0.8678189516067505
         ]
        }
       ],
       "layout": {
        "template": {
         "data": {
          "bar": [
           {
            "error_x": {
             "color": "#2a3f5f"
            },
            "error_y": {
             "color": "#2a3f5f"
            },
            "marker": {
             "line": {
              "color": "#E5ECF6",
              "width": 0.5
             },
             "pattern": {
              "fillmode": "overlay",
              "size": 10,
              "solidity": 0.2
             }
            },
            "type": "bar"
           }
          ],
          "barpolar": [
           {
            "marker": {
             "line": {
              "color": "#E5ECF6",
              "width": 0.5
             },
             "pattern": {
              "fillmode": "overlay",
              "size": 10,
              "solidity": 0.2
             }
            },
            "type": "barpolar"
           }
          ],
          "carpet": [
           {
            "aaxis": {
             "endlinecolor": "#2a3f5f",
             "gridcolor": "white",
             "linecolor": "white",
             "minorgridcolor": "white",
             "startlinecolor": "#2a3f5f"
            },
            "baxis": {
             "endlinecolor": "#2a3f5f",
             "gridcolor": "white",
             "linecolor": "white",
             "minorgridcolor": "white",
             "startlinecolor": "#2a3f5f"
            },
            "type": "carpet"
           }
          ],
          "choropleth": [
           {
            "colorbar": {
             "outlinewidth": 0,
             "ticks": ""
            },
            "type": "choropleth"
           }
          ],
          "contour": [
           {
            "colorbar": {
             "outlinewidth": 0,
             "ticks": ""
            },
            "colorscale": [
             [
              0,
              "#0d0887"
             ],
             [
              0.1111111111111111,
              "#46039f"
             ],
             [
              0.2222222222222222,
              "#7201a8"
             ],
             [
              0.3333333333333333,
              "#9c179e"
             ],
             [
              0.4444444444444444,
              "#bd3786"
             ],
             [
              0.5555555555555556,
              "#d8576b"
             ],
             [
              0.6666666666666666,
              "#ed7953"
             ],
             [
              0.7777777777777778,
              "#fb9f3a"
             ],
             [
              0.8888888888888888,
              "#fdca26"
             ],
             [
              1,
              "#f0f921"
             ]
            ],
            "type": "contour"
           }
          ],
          "contourcarpet": [
           {
            "colorbar": {
             "outlinewidth": 0,
             "ticks": ""
            },
            "type": "contourcarpet"
           }
          ],
          "heatmap": [
           {
            "colorbar": {
             "outlinewidth": 0,
             "ticks": ""
            },
            "colorscale": [
             [
              0,
              "#0d0887"
             ],
             [
              0.1111111111111111,
              "#46039f"
             ],
             [
              0.2222222222222222,
              "#7201a8"
             ],
             [
              0.3333333333333333,
              "#9c179e"
             ],
             [
              0.4444444444444444,
              "#bd3786"
             ],
             [
              0.5555555555555556,
              "#d8576b"
             ],
             [
              0.6666666666666666,
              "#ed7953"
             ],
             [
              0.7777777777777778,
              "#fb9f3a"
             ],
             [
              0.8888888888888888,
              "#fdca26"
             ],
             [
              1,
              "#f0f921"
             ]
            ],
            "type": "heatmap"
           }
          ],
          "heatmapgl": [
           {
            "colorbar": {
             "outlinewidth": 0,
             "ticks": ""
            },
            "colorscale": [
             [
              0,
              "#0d0887"
             ],
             [
              0.1111111111111111,
              "#46039f"
             ],
             [
              0.2222222222222222,
              "#7201a8"
             ],
             [
              0.3333333333333333,
              "#9c179e"
             ],
             [
              0.4444444444444444,
              "#bd3786"
             ],
             [
              0.5555555555555556,
              "#d8576b"
             ],
             [
              0.6666666666666666,
              "#ed7953"
             ],
             [
              0.7777777777777778,
              "#fb9f3a"
             ],
             [
              0.8888888888888888,
              "#fdca26"
             ],
             [
              1,
              "#f0f921"
             ]
            ],
            "type": "heatmapgl"
           }
          ],
          "histogram": [
           {
            "marker": {
             "pattern": {
              "fillmode": "overlay",
              "size": 10,
              "solidity": 0.2
             }
            },
            "type": "histogram"
           }
          ],
          "histogram2d": [
           {
            "colorbar": {
             "outlinewidth": 0,
             "ticks": ""
            },
            "colorscale": [
             [
              0,
              "#0d0887"
             ],
             [
              0.1111111111111111,
              "#46039f"
             ],
             [
              0.2222222222222222,
              "#7201a8"
             ],
             [
              0.3333333333333333,
              "#9c179e"
             ],
             [
              0.4444444444444444,
              "#bd3786"
             ],
             [
              0.5555555555555556,
              "#d8576b"
             ],
             [
              0.6666666666666666,
              "#ed7953"
             ],
             [
              0.7777777777777778,
              "#fb9f3a"
             ],
             [
              0.8888888888888888,
              "#fdca26"
             ],
             [
              1,
              "#f0f921"
             ]
            ],
            "type": "histogram2d"
           }
          ],
          "histogram2dcontour": [
           {
            "colorbar": {
             "outlinewidth": 0,
             "ticks": ""
            },
            "colorscale": [
             [
              0,
              "#0d0887"
             ],
             [
              0.1111111111111111,
              "#46039f"
             ],
             [
              0.2222222222222222,
              "#7201a8"
             ],
             [
              0.3333333333333333,
              "#9c179e"
             ],
             [
              0.4444444444444444,
              "#bd3786"
             ],
             [
              0.5555555555555556,
              "#d8576b"
             ],
             [
              0.6666666666666666,
              "#ed7953"
             ],
             [
              0.7777777777777778,
              "#fb9f3a"
             ],
             [
              0.8888888888888888,
              "#fdca26"
             ],
             [
              1,
              "#f0f921"
             ]
            ],
            "type": "histogram2dcontour"
           }
          ],
          "mesh3d": [
           {
            "colorbar": {
             "outlinewidth": 0,
             "ticks": ""
            },
            "type": "mesh3d"
           }
          ],
          "parcoords": [
           {
            "line": {
             "colorbar": {
              "outlinewidth": 0,
              "ticks": ""
             }
            },
            "type": "parcoords"
           }
          ],
          "pie": [
           {
            "automargin": true,
            "type": "pie"
           }
          ],
          "scatter": [
           {
            "fillpattern": {
             "fillmode": "overlay",
             "size": 10,
             "solidity": 0.2
            },
            "type": "scatter"
           }
          ],
          "scatter3d": [
           {
            "line": {
             "colorbar": {
              "outlinewidth": 0,
              "ticks": ""
             }
            },
            "marker": {
             "colorbar": {
              "outlinewidth": 0,
              "ticks": ""
             }
            },
            "type": "scatter3d"
           }
          ],
          "scattercarpet": [
           {
            "marker": {
             "colorbar": {
              "outlinewidth": 0,
              "ticks": ""
             }
            },
            "type": "scattercarpet"
           }
          ],
          "scattergeo": [
           {
            "marker": {
             "colorbar": {
              "outlinewidth": 0,
              "ticks": ""
             }
            },
            "type": "scattergeo"
           }
          ],
          "scattergl": [
           {
            "marker": {
             "colorbar": {
              "outlinewidth": 0,
              "ticks": ""
             }
            },
            "type": "scattergl"
           }
          ],
          "scattermapbox": [
           {
            "marker": {
             "colorbar": {
              "outlinewidth": 0,
              "ticks": ""
             }
            },
            "type": "scattermapbox"
           }
          ],
          "scatterpolar": [
           {
            "marker": {
             "colorbar": {
              "outlinewidth": 0,
              "ticks": ""
             }
            },
            "type": "scatterpolar"
           }
          ],
          "scatterpolargl": [
           {
            "marker": {
             "colorbar": {
              "outlinewidth": 0,
              "ticks": ""
             }
            },
            "type": "scatterpolargl"
           }
          ],
          "scatterternary": [
           {
            "marker": {
             "colorbar": {
              "outlinewidth": 0,
              "ticks": ""
             }
            },
            "type": "scatterternary"
           }
          ],
          "surface": [
           {
            "colorbar": {
             "outlinewidth": 0,
             "ticks": ""
            },
            "colorscale": [
             [
              0,
              "#0d0887"
             ],
             [
              0.1111111111111111,
              "#46039f"
             ],
             [
              0.2222222222222222,
              "#7201a8"
             ],
             [
              0.3333333333333333,
              "#9c179e"
             ],
             [
              0.4444444444444444,
              "#bd3786"
             ],
             [
              0.5555555555555556,
              "#d8576b"
             ],
             [
              0.6666666666666666,
              "#ed7953"
             ],
             [
              0.7777777777777778,
              "#fb9f3a"
             ],
             [
              0.8888888888888888,
              "#fdca26"
             ],
             [
              1,
              "#f0f921"
             ]
            ],
            "type": "surface"
           }
          ],
          "table": [
           {
            "cells": {
             "fill": {
              "color": "#EBF0F8"
             },
             "line": {
              "color": "white"
             }
            },
            "header": {
             "fill": {
              "color": "#C8D4E3"
             },
             "line": {
              "color": "white"
             }
            },
            "type": "table"
           }
          ]
         },
         "layout": {
          "annotationdefaults": {
           "arrowcolor": "#2a3f5f",
           "arrowhead": 0,
           "arrowwidth": 1
          },
          "autotypenumbers": "strict",
          "coloraxis": {
           "colorbar": {
            "outlinewidth": 0,
            "ticks": ""
           }
          },
          "colorscale": {
           "diverging": [
            [
             0,
             "#8e0152"
            ],
            [
             0.1,
             "#c51b7d"
            ],
            [
             0.2,
             "#de77ae"
            ],
            [
             0.3,
             "#f1b6da"
            ],
            [
             0.4,
             "#fde0ef"
            ],
            [
             0.5,
             "#f7f7f7"
            ],
            [
             0.6,
             "#e6f5d0"
            ],
            [
             0.7,
             "#b8e186"
            ],
            [
             0.8,
             "#7fbc41"
            ],
            [
             0.9,
             "#4d9221"
            ],
            [
             1,
             "#276419"
            ]
           ],
           "sequential": [
            [
             0,
             "#0d0887"
            ],
            [
             0.1111111111111111,
             "#46039f"
            ],
            [
             0.2222222222222222,
             "#7201a8"
            ],
            [
             0.3333333333333333,
             "#9c179e"
            ],
            [
             0.4444444444444444,
             "#bd3786"
            ],
            [
             0.5555555555555556,
             "#d8576b"
            ],
            [
             0.6666666666666666,
             "#ed7953"
            ],
            [
             0.7777777777777778,
             "#fb9f3a"
            ],
            [
             0.8888888888888888,
             "#fdca26"
            ],
            [
             1,
             "#f0f921"
            ]
           ],
           "sequentialminus": [
            [
             0,
             "#0d0887"
            ],
            [
             0.1111111111111111,
             "#46039f"
            ],
            [
             0.2222222222222222,
             "#7201a8"
            ],
            [
             0.3333333333333333,
             "#9c179e"
            ],
            [
             0.4444444444444444,
             "#bd3786"
            ],
            [
             0.5555555555555556,
             "#d8576b"
            ],
            [
             0.6666666666666666,
             "#ed7953"
            ],
            [
             0.7777777777777778,
             "#fb9f3a"
            ],
            [
             0.8888888888888888,
             "#fdca26"
            ],
            [
             1,
             "#f0f921"
            ]
           ]
          },
          "colorway": [
           "#636efa",
           "#EF553B",
           "#00cc96",
           "#ab63fa",
           "#FFA15A",
           "#19d3f3",
           "#FF6692",
           "#B6E880",
           "#FF97FF",
           "#FECB52"
          ],
          "font": {
           "color": "#2a3f5f"
          },
          "geo": {
           "bgcolor": "white",
           "lakecolor": "white",
           "landcolor": "#E5ECF6",
           "showlakes": true,
           "showland": true,
           "subunitcolor": "white"
          },
          "hoverlabel": {
           "align": "left"
          },
          "hovermode": "closest",
          "mapbox": {
           "style": "light"
          },
          "paper_bgcolor": "white",
          "plot_bgcolor": "#E5ECF6",
          "polar": {
           "angularaxis": {
            "gridcolor": "white",
            "linecolor": "white",
            "ticks": ""
           },
           "bgcolor": "#E5ECF6",
           "radialaxis": {
            "gridcolor": "white",
            "linecolor": "white",
            "ticks": ""
           }
          },
          "scene": {
           "xaxis": {
            "backgroundcolor": "#E5ECF6",
            "gridcolor": "white",
            "gridwidth": 2,
            "linecolor": "white",
            "showbackground": true,
            "ticks": "",
            "zerolinecolor": "white"
           },
           "yaxis": {
            "backgroundcolor": "#E5ECF6",
            "gridcolor": "white",
            "gridwidth": 2,
            "linecolor": "white",
            "showbackground": true,
            "ticks": "",
            "zerolinecolor": "white"
           },
           "zaxis": {
            "backgroundcolor": "#E5ECF6",
            "gridcolor": "white",
            "gridwidth": 2,
            "linecolor": "white",
            "showbackground": true,
            "ticks": "",
            "zerolinecolor": "white"
           }
          },
          "shapedefaults": {
           "line": {
            "color": "#2a3f5f"
           }
          },
          "ternary": {
           "aaxis": {
            "gridcolor": "white",
            "linecolor": "white",
            "ticks": ""
           },
           "baxis": {
            "gridcolor": "white",
            "linecolor": "white",
            "ticks": ""
           },
           "bgcolor": "#E5ECF6",
           "caxis": {
            "gridcolor": "white",
            "linecolor": "white",
            "ticks": ""
           }
          },
          "title": {
           "x": 0.05
          },
          "xaxis": {
           "automargin": true,
           "gridcolor": "white",
           "linecolor": "white",
           "ticks": "",
           "title": {
            "standoff": 15
           },
           "zerolinecolor": "white",
           "zerolinewidth": 2
          },
          "yaxis": {
           "automargin": true,
           "gridcolor": "white",
           "linecolor": "white",
           "ticks": "",
           "title": {
            "standoff": 15
           },
           "zerolinecolor": "white",
           "zerolinewidth": 2
          }
         }
        },
        "title": {
         "text": "TSMixer Prediction vs. Ground Truth for HDOT"
        },
        "xaxis": {
         "title": {
          "text": "Time Step"
         }
        },
        "yaxis": {
         "title": {
          "text": "Value"
         }
        }
       }
      }
     },
     "metadata": {},
     "output_type": "display_data"
    },
    {
     "data": {
      "application/vnd.plotly.v1+json": {
       "config": {
        "plotlyServerURL": "https://plot.ly"
       },
       "data": [
        {
         "line": {
          "color": "blue"
         },
         "mode": "lines",
         "name": "GT",
         "type": "scatter",
         "y": [
          -2.7897419929504395,
          -2.892526149749756,
          -2.9900965690612793,
          -3.0815608501434326,
          -3.165883779525757,
          -3.241877317428589,
          -3.3082118034362793,
          -3.363445520401001,
          -3.4060792922973633,
          -3.434654712677002,
          -3.447871208190918,
          -3.4447264671325684,
          -3.4246366024017334,
          -3.3875133991241455,
          -3.3337764739990234,
          -3.2642951011657715,
          -2.1579837799072266,
          -2.005401611328125,
          -1.850516438484192,
          -1.6940135955810547,
          -1.5365052223205566,
          -1.3785388469696045,
          -1.2206106185913086,
          -1.063171148300171,
          -0.9066294431686401,
          -0.7513644099235535,
          -0.5977368950843811,
          -0.44606292247772217,
          -0.29666271805763245,
          -0.14981594681739807,
          -0.005810381844639778,
          0.1350986361503601,
          1.225824236869812,
          1.3236207962036133,
          1.4161077737808228,
          1.5031474828720093,
          1.5846141576766968,
          1.660386323928833,
          1.730366587638855,
          1.7944577932357788,
          1.8525828123092651,
          1.9046850204467773,
          1.9507076740264893,
          1.9906222820281982,
          2.024404525756836,
          2.052046537399292,
          2.073564291000366,
          2.0889739990234375
         ]
        },
        {
         "line": {
          "color": "red"
         },
         "mode": "lines",
         "name": "pred_beginning",
         "type": "scatter",
         "y": [
          -1.595757246017456,
          -1.8018981218338013,
          -1.8142012357711792,
          -1.7258975505828857,
          -1.8426636457443237,
          -1.9292036294937134,
          -1.848887324333191,
          -1.7776575088500977,
          -2.021435499191284,
          -1.9627164602279663,
          -1.910317301750183,
          -1.9889580011367798,
          -1.9194482564926147,
          -1.9374756813049316,
          -2.0096170902252197,
          -1.9779658317565918,
          -1.0704309940338135,
          -1.4860410690307617,
          -1.4689582586288452,
          -1.3838863372802734,
          -1.3424028158187866,
          -1.1868590116500854,
          -1.2595194578170776,
          -1.0244574546813965,
          -1.1794201135635376,
          -1.0337845087051392,
          -0.9452885389328003,
          -0.9183898568153381,
          -0.7232821583747864,
          -0.6541035771369934,
          -0.7728608846664429,
          -0.589751124382019,
          1.5565335750579834,
          1.4452502727508545,
          1.4243358373641968,
          1.5289443731307983,
          1.5596097707748413,
          1.6119686365127563,
          1.6569724082946777,
          1.7963712215423584,
          1.6907856464385986,
          1.7573455572128296,
          1.795669674873352,
          1.7976144552230835,
          1.853346824645996,
          1.9335097074508667,
          1.889225959777832,
          1.8802380561828613
         ]
        }
       ],
       "layout": {
        "template": {
         "data": {
          "bar": [
           {
            "error_x": {
             "color": "#2a3f5f"
            },
            "error_y": {
             "color": "#2a3f5f"
            },
            "marker": {
             "line": {
              "color": "#E5ECF6",
              "width": 0.5
             },
             "pattern": {
              "fillmode": "overlay",
              "size": 10,
              "solidity": 0.2
             }
            },
            "type": "bar"
           }
          ],
          "barpolar": [
           {
            "marker": {
             "line": {
              "color": "#E5ECF6",
              "width": 0.5
             },
             "pattern": {
              "fillmode": "overlay",
              "size": 10,
              "solidity": 0.2
             }
            },
            "type": "barpolar"
           }
          ],
          "carpet": [
           {
            "aaxis": {
             "endlinecolor": "#2a3f5f",
             "gridcolor": "white",
             "linecolor": "white",
             "minorgridcolor": "white",
             "startlinecolor": "#2a3f5f"
            },
            "baxis": {
             "endlinecolor": "#2a3f5f",
             "gridcolor": "white",
             "linecolor": "white",
             "minorgridcolor": "white",
             "startlinecolor": "#2a3f5f"
            },
            "type": "carpet"
           }
          ],
          "choropleth": [
           {
            "colorbar": {
             "outlinewidth": 0,
             "ticks": ""
            },
            "type": "choropleth"
           }
          ],
          "contour": [
           {
            "colorbar": {
             "outlinewidth": 0,
             "ticks": ""
            },
            "colorscale": [
             [
              0,
              "#0d0887"
             ],
             [
              0.1111111111111111,
              "#46039f"
             ],
             [
              0.2222222222222222,
              "#7201a8"
             ],
             [
              0.3333333333333333,
              "#9c179e"
             ],
             [
              0.4444444444444444,
              "#bd3786"
             ],
             [
              0.5555555555555556,
              "#d8576b"
             ],
             [
              0.6666666666666666,
              "#ed7953"
             ],
             [
              0.7777777777777778,
              "#fb9f3a"
             ],
             [
              0.8888888888888888,
              "#fdca26"
             ],
             [
              1,
              "#f0f921"
             ]
            ],
            "type": "contour"
           }
          ],
          "contourcarpet": [
           {
            "colorbar": {
             "outlinewidth": 0,
             "ticks": ""
            },
            "type": "contourcarpet"
           }
          ],
          "heatmap": [
           {
            "colorbar": {
             "outlinewidth": 0,
             "ticks": ""
            },
            "colorscale": [
             [
              0,
              "#0d0887"
             ],
             [
              0.1111111111111111,
              "#46039f"
             ],
             [
              0.2222222222222222,
              "#7201a8"
             ],
             [
              0.3333333333333333,
              "#9c179e"
             ],
             [
              0.4444444444444444,
              "#bd3786"
             ],
             [
              0.5555555555555556,
              "#d8576b"
             ],
             [
              0.6666666666666666,
              "#ed7953"
             ],
             [
              0.7777777777777778,
              "#fb9f3a"
             ],
             [
              0.8888888888888888,
              "#fdca26"
             ],
             [
              1,
              "#f0f921"
             ]
            ],
            "type": "heatmap"
           }
          ],
          "heatmapgl": [
           {
            "colorbar": {
             "outlinewidth": 0,
             "ticks": ""
            },
            "colorscale": [
             [
              0,
              "#0d0887"
             ],
             [
              0.1111111111111111,
              "#46039f"
             ],
             [
              0.2222222222222222,
              "#7201a8"
             ],
             [
              0.3333333333333333,
              "#9c179e"
             ],
             [
              0.4444444444444444,
              "#bd3786"
             ],
             [
              0.5555555555555556,
              "#d8576b"
             ],
             [
              0.6666666666666666,
              "#ed7953"
             ],
             [
              0.7777777777777778,
              "#fb9f3a"
             ],
             [
              0.8888888888888888,
              "#fdca26"
             ],
             [
              1,
              "#f0f921"
             ]
            ],
            "type": "heatmapgl"
           }
          ],
          "histogram": [
           {
            "marker": {
             "pattern": {
              "fillmode": "overlay",
              "size": 10,
              "solidity": 0.2
             }
            },
            "type": "histogram"
           }
          ],
          "histogram2d": [
           {
            "colorbar": {
             "outlinewidth": 0,
             "ticks": ""
            },
            "colorscale": [
             [
              0,
              "#0d0887"
             ],
             [
              0.1111111111111111,
              "#46039f"
             ],
             [
              0.2222222222222222,
              "#7201a8"
             ],
             [
              0.3333333333333333,
              "#9c179e"
             ],
             [
              0.4444444444444444,
              "#bd3786"
             ],
             [
              0.5555555555555556,
              "#d8576b"
             ],
             [
              0.6666666666666666,
              "#ed7953"
             ],
             [
              0.7777777777777778,
              "#fb9f3a"
             ],
             [
              0.8888888888888888,
              "#fdca26"
             ],
             [
              1,
              "#f0f921"
             ]
            ],
            "type": "histogram2d"
           }
          ],
          "histogram2dcontour": [
           {
            "colorbar": {
             "outlinewidth": 0,
             "ticks": ""
            },
            "colorscale": [
             [
              0,
              "#0d0887"
             ],
             [
              0.1111111111111111,
              "#46039f"
             ],
             [
              0.2222222222222222,
              "#7201a8"
             ],
             [
              0.3333333333333333,
              "#9c179e"
             ],
             [
              0.4444444444444444,
              "#bd3786"
             ],
             [
              0.5555555555555556,
              "#d8576b"
             ],
             [
              0.6666666666666666,
              "#ed7953"
             ],
             [
              0.7777777777777778,
              "#fb9f3a"
             ],
             [
              0.8888888888888888,
              "#fdca26"
             ],
             [
              1,
              "#f0f921"
             ]
            ],
            "type": "histogram2dcontour"
           }
          ],
          "mesh3d": [
           {
            "colorbar": {
             "outlinewidth": 0,
             "ticks": ""
            },
            "type": "mesh3d"
           }
          ],
          "parcoords": [
           {
            "line": {
             "colorbar": {
              "outlinewidth": 0,
              "ticks": ""
             }
            },
            "type": "parcoords"
           }
          ],
          "pie": [
           {
            "automargin": true,
            "type": "pie"
           }
          ],
          "scatter": [
           {
            "fillpattern": {
             "fillmode": "overlay",
             "size": 10,
             "solidity": 0.2
            },
            "type": "scatter"
           }
          ],
          "scatter3d": [
           {
            "line": {
             "colorbar": {
              "outlinewidth": 0,
              "ticks": ""
             }
            },
            "marker": {
             "colorbar": {
              "outlinewidth": 0,
              "ticks": ""
             }
            },
            "type": "scatter3d"
           }
          ],
          "scattercarpet": [
           {
            "marker": {
             "colorbar": {
              "outlinewidth": 0,
              "ticks": ""
             }
            },
            "type": "scattercarpet"
           }
          ],
          "scattergeo": [
           {
            "marker": {
             "colorbar": {
              "outlinewidth": 0,
              "ticks": ""
             }
            },
            "type": "scattergeo"
           }
          ],
          "scattergl": [
           {
            "marker": {
             "colorbar": {
              "outlinewidth": 0,
              "ticks": ""
             }
            },
            "type": "scattergl"
           }
          ],
          "scattermapbox": [
           {
            "marker": {
             "colorbar": {
              "outlinewidth": 0,
              "ticks": ""
             }
            },
            "type": "scattermapbox"
           }
          ],
          "scatterpolar": [
           {
            "marker": {
             "colorbar": {
              "outlinewidth": 0,
              "ticks": ""
             }
            },
            "type": "scatterpolar"
           }
          ],
          "scatterpolargl": [
           {
            "marker": {
             "colorbar": {
              "outlinewidth": 0,
              "ticks": ""
             }
            },
            "type": "scatterpolargl"
           }
          ],
          "scatterternary": [
           {
            "marker": {
             "colorbar": {
              "outlinewidth": 0,
              "ticks": ""
             }
            },
            "type": "scatterternary"
           }
          ],
          "surface": [
           {
            "colorbar": {
             "outlinewidth": 0,
             "ticks": ""
            },
            "colorscale": [
             [
              0,
              "#0d0887"
             ],
             [
              0.1111111111111111,
              "#46039f"
             ],
             [
              0.2222222222222222,
              "#7201a8"
             ],
             [
              0.3333333333333333,
              "#9c179e"
             ],
             [
              0.4444444444444444,
              "#bd3786"
             ],
             [
              0.5555555555555556,
              "#d8576b"
             ],
             [
              0.6666666666666666,
              "#ed7953"
             ],
             [
              0.7777777777777778,
              "#fb9f3a"
             ],
             [
              0.8888888888888888,
              "#fdca26"
             ],
             [
              1,
              "#f0f921"
             ]
            ],
            "type": "surface"
           }
          ],
          "table": [
           {
            "cells": {
             "fill": {
              "color": "#EBF0F8"
             },
             "line": {
              "color": "white"
             }
            },
            "header": {
             "fill": {
              "color": "#C8D4E3"
             },
             "line": {
              "color": "white"
             }
            },
            "type": "table"
           }
          ]
         },
         "layout": {
          "annotationdefaults": {
           "arrowcolor": "#2a3f5f",
           "arrowhead": 0,
           "arrowwidth": 1
          },
          "autotypenumbers": "strict",
          "coloraxis": {
           "colorbar": {
            "outlinewidth": 0,
            "ticks": ""
           }
          },
          "colorscale": {
           "diverging": [
            [
             0,
             "#8e0152"
            ],
            [
             0.1,
             "#c51b7d"
            ],
            [
             0.2,
             "#de77ae"
            ],
            [
             0.3,
             "#f1b6da"
            ],
            [
             0.4,
             "#fde0ef"
            ],
            [
             0.5,
             "#f7f7f7"
            ],
            [
             0.6,
             "#e6f5d0"
            ],
            [
             0.7,
             "#b8e186"
            ],
            [
             0.8,
             "#7fbc41"
            ],
            [
             0.9,
             "#4d9221"
            ],
            [
             1,
             "#276419"
            ]
           ],
           "sequential": [
            [
             0,
             "#0d0887"
            ],
            [
             0.1111111111111111,
             "#46039f"
            ],
            [
             0.2222222222222222,
             "#7201a8"
            ],
            [
             0.3333333333333333,
             "#9c179e"
            ],
            [
             0.4444444444444444,
             "#bd3786"
            ],
            [
             0.5555555555555556,
             "#d8576b"
            ],
            [
             0.6666666666666666,
             "#ed7953"
            ],
            [
             0.7777777777777778,
             "#fb9f3a"
            ],
            [
             0.8888888888888888,
             "#fdca26"
            ],
            [
             1,
             "#f0f921"
            ]
           ],
           "sequentialminus": [
            [
             0,
             "#0d0887"
            ],
            [
             0.1111111111111111,
             "#46039f"
            ],
            [
             0.2222222222222222,
             "#7201a8"
            ],
            [
             0.3333333333333333,
             "#9c179e"
            ],
            [
             0.4444444444444444,
             "#bd3786"
            ],
            [
             0.5555555555555556,
             "#d8576b"
            ],
            [
             0.6666666666666666,
             "#ed7953"
            ],
            [
             0.7777777777777778,
             "#fb9f3a"
            ],
            [
             0.8888888888888888,
             "#fdca26"
            ],
            [
             1,
             "#f0f921"
            ]
           ]
          },
          "colorway": [
           "#636efa",
           "#EF553B",
           "#00cc96",
           "#ab63fa",
           "#FFA15A",
           "#19d3f3",
           "#FF6692",
           "#B6E880",
           "#FF97FF",
           "#FECB52"
          ],
          "font": {
           "color": "#2a3f5f"
          },
          "geo": {
           "bgcolor": "white",
           "lakecolor": "white",
           "landcolor": "#E5ECF6",
           "showlakes": true,
           "showland": true,
           "subunitcolor": "white"
          },
          "hoverlabel": {
           "align": "left"
          },
          "hovermode": "closest",
          "mapbox": {
           "style": "light"
          },
          "paper_bgcolor": "white",
          "plot_bgcolor": "#E5ECF6",
          "polar": {
           "angularaxis": {
            "gridcolor": "white",
            "linecolor": "white",
            "ticks": ""
           },
           "bgcolor": "#E5ECF6",
           "radialaxis": {
            "gridcolor": "white",
            "linecolor": "white",
            "ticks": ""
           }
          },
          "scene": {
           "xaxis": {
            "backgroundcolor": "#E5ECF6",
            "gridcolor": "white",
            "gridwidth": 2,
            "linecolor": "white",
            "showbackground": true,
            "ticks": "",
            "zerolinecolor": "white"
           },
           "yaxis": {
            "backgroundcolor": "#E5ECF6",
            "gridcolor": "white",
            "gridwidth": 2,
            "linecolor": "white",
            "showbackground": true,
            "ticks": "",
            "zerolinecolor": "white"
           },
           "zaxis": {
            "backgroundcolor": "#E5ECF6",
            "gridcolor": "white",
            "gridwidth": 2,
            "linecolor": "white",
            "showbackground": true,
            "ticks": "",
            "zerolinecolor": "white"
           }
          },
          "shapedefaults": {
           "line": {
            "color": "#2a3f5f"
           }
          },
          "ternary": {
           "aaxis": {
            "gridcolor": "white",
            "linecolor": "white",
            "ticks": ""
           },
           "baxis": {
            "gridcolor": "white",
            "linecolor": "white",
            "ticks": ""
           },
           "bgcolor": "#E5ECF6",
           "caxis": {
            "gridcolor": "white",
            "linecolor": "white",
            "ticks": ""
           }
          },
          "title": {
           "x": 0.05
          },
          "xaxis": {
           "automargin": true,
           "gridcolor": "white",
           "linecolor": "white",
           "ticks": "",
           "title": {
            "standoff": 15
           },
           "zerolinecolor": "white",
           "zerolinewidth": 2
          },
          "yaxis": {
           "automargin": true,
           "gridcolor": "white",
           "linecolor": "white",
           "ticks": "",
           "title": {
            "standoff": 15
           },
           "zerolinecolor": "white",
           "zerolinewidth": 2
          }
         }
        },
        "title": {
         "text": "TSMixer Prediction vs. Ground Truth for VT"
        },
        "xaxis": {
         "title": {
          "text": "Time Step"
         }
        },
        "yaxis": {
         "title": {
          "text": "Value"
         }
        }
       }
      }
     },
     "metadata": {},
     "output_type": "display_data"
    },
    {
     "data": {
      "application/vnd.plotly.v1+json": {
       "config": {
        "plotlyServerURL": "https://plot.ly"
       },
       "data": [
        {
         "line": {
          "color": "blue"
         },
         "mode": "lines",
         "name": "GT",
         "type": "scatter",
         "y": [
          0.37280386686325073,
          0.37280386686325073,
          0.37280386686325073,
          0.37280386686325073,
          0.37280386686325073,
          0.37280386686325073,
          0.37280386686325073,
          0.37280386686325073,
          0.37280386686325073,
          0.37280386686325073,
          0.37280386686325073,
          0.37280386686325073,
          0.37280386686325073,
          0.37280386686325073,
          0.37280386686325073,
          0.37280386686325073,
          0.37280386686325073,
          0.37280386686325073,
          0.37280386686325073,
          0.37280386686325073,
          0.37280386686325073,
          0.37280386686325073,
          0.37280386686325073,
          0.37280386686325073,
          0.37280386686325073,
          0.37280386686325073,
          0.37280386686325073,
          0.37280386686325073,
          0.37280386686325073,
          0.37280386686325073,
          0.37280386686325073,
          0.37280386686325073,
          0.37280386686325073,
          0.37280386686325073,
          0.37280386686325073,
          0.37280386686325073,
          0.37280386686325073,
          0.37280386686325073,
          0.37280386686325073,
          0.37280386686325073,
          0.37280386686325073,
          0.37280386686325073,
          0.37280386686325073,
          0.37280386686325073,
          0.37280386686325073,
          0.37280386686325073,
          0.37280386686325073,
          0.37280386686325073
         ]
        },
        {
         "line": {
          "color": "red"
         },
         "mode": "lines",
         "name": "pred_beginning",
         "type": "scatter",
         "y": [
          0.3696673512458801,
          0.3286917507648468,
          0.3993900716304779,
          0.3496836721897125,
          0.420985609292984,
          0.5399304628372192,
          0.41244542598724365,
          0.585205078125,
          0.498871386051178,
          0.5291017889976501,
          0.5259791016578674,
          0.5370631814002991,
          0.6106374859809875,
          0.6416901350021362,
          0.6003012657165527,
          0.6527683734893799,
          0.6197072863578796,
          0.36199790239334106,
          0.4468383491039276,
          0.45029622316360474,
          0.46785613894462585,
          0.6073241233825684,
          0.46674710512161255,
          0.7887123823165894,
          0.4804413914680481,
          0.5782233476638794,
          0.6164289116859436,
          0.5639244914054871,
          0.7330939173698425,
          0.7244480848312378,
          0.5957934856414795,
          0.6917240619659424,
          0.3933427929878235,
          0.42603516578674316,
          0.5148838758468628,
          0.44157660007476807,
          0.4802543520927429,
          0.5327585935592651,
          0.426056444644928,
          0.589392364025116,
          0.43640971183776855,
          0.43083101511001587,
          0.4062855839729309,
          0.38207024335861206,
          0.41746068000793457,
          0.4338858723640442,
          0.38630396127700806,
          0.39392492175102234
         ]
        }
       ],
       "layout": {
        "template": {
         "data": {
          "bar": [
           {
            "error_x": {
             "color": "#2a3f5f"
            },
            "error_y": {
             "color": "#2a3f5f"
            },
            "marker": {
             "line": {
              "color": "#E5ECF6",
              "width": 0.5
             },
             "pattern": {
              "fillmode": "overlay",
              "size": 10,
              "solidity": 0.2
             }
            },
            "type": "bar"
           }
          ],
          "barpolar": [
           {
            "marker": {
             "line": {
              "color": "#E5ECF6",
              "width": 0.5
             },
             "pattern": {
              "fillmode": "overlay",
              "size": 10,
              "solidity": 0.2
             }
            },
            "type": "barpolar"
           }
          ],
          "carpet": [
           {
            "aaxis": {
             "endlinecolor": "#2a3f5f",
             "gridcolor": "white",
             "linecolor": "white",
             "minorgridcolor": "white",
             "startlinecolor": "#2a3f5f"
            },
            "baxis": {
             "endlinecolor": "#2a3f5f",
             "gridcolor": "white",
             "linecolor": "white",
             "minorgridcolor": "white",
             "startlinecolor": "#2a3f5f"
            },
            "type": "carpet"
           }
          ],
          "choropleth": [
           {
            "colorbar": {
             "outlinewidth": 0,
             "ticks": ""
            },
            "type": "choropleth"
           }
          ],
          "contour": [
           {
            "colorbar": {
             "outlinewidth": 0,
             "ticks": ""
            },
            "colorscale": [
             [
              0,
              "#0d0887"
             ],
             [
              0.1111111111111111,
              "#46039f"
             ],
             [
              0.2222222222222222,
              "#7201a8"
             ],
             [
              0.3333333333333333,
              "#9c179e"
             ],
             [
              0.4444444444444444,
              "#bd3786"
             ],
             [
              0.5555555555555556,
              "#d8576b"
             ],
             [
              0.6666666666666666,
              "#ed7953"
             ],
             [
              0.7777777777777778,
              "#fb9f3a"
             ],
             [
              0.8888888888888888,
              "#fdca26"
             ],
             [
              1,
              "#f0f921"
             ]
            ],
            "type": "contour"
           }
          ],
          "contourcarpet": [
           {
            "colorbar": {
             "outlinewidth": 0,
             "ticks": ""
            },
            "type": "contourcarpet"
           }
          ],
          "heatmap": [
           {
            "colorbar": {
             "outlinewidth": 0,
             "ticks": ""
            },
            "colorscale": [
             [
              0,
              "#0d0887"
             ],
             [
              0.1111111111111111,
              "#46039f"
             ],
             [
              0.2222222222222222,
              "#7201a8"
             ],
             [
              0.3333333333333333,
              "#9c179e"
             ],
             [
              0.4444444444444444,
              "#bd3786"
             ],
             [
              0.5555555555555556,
              "#d8576b"
             ],
             [
              0.6666666666666666,
              "#ed7953"
             ],
             [
              0.7777777777777778,
              "#fb9f3a"
             ],
             [
              0.8888888888888888,
              "#fdca26"
             ],
             [
              1,
              "#f0f921"
             ]
            ],
            "type": "heatmap"
           }
          ],
          "heatmapgl": [
           {
            "colorbar": {
             "outlinewidth": 0,
             "ticks": ""
            },
            "colorscale": [
             [
              0,
              "#0d0887"
             ],
             [
              0.1111111111111111,
              "#46039f"
             ],
             [
              0.2222222222222222,
              "#7201a8"
             ],
             [
              0.3333333333333333,
              "#9c179e"
             ],
             [
              0.4444444444444444,
              "#bd3786"
             ],
             [
              0.5555555555555556,
              "#d8576b"
             ],
             [
              0.6666666666666666,
              "#ed7953"
             ],
             [
              0.7777777777777778,
              "#fb9f3a"
             ],
             [
              0.8888888888888888,
              "#fdca26"
             ],
             [
              1,
              "#f0f921"
             ]
            ],
            "type": "heatmapgl"
           }
          ],
          "histogram": [
           {
            "marker": {
             "pattern": {
              "fillmode": "overlay",
              "size": 10,
              "solidity": 0.2
             }
            },
            "type": "histogram"
           }
          ],
          "histogram2d": [
           {
            "colorbar": {
             "outlinewidth": 0,
             "ticks": ""
            },
            "colorscale": [
             [
              0,
              "#0d0887"
             ],
             [
              0.1111111111111111,
              "#46039f"
             ],
             [
              0.2222222222222222,
              "#7201a8"
             ],
             [
              0.3333333333333333,
              "#9c179e"
             ],
             [
              0.4444444444444444,
              "#bd3786"
             ],
             [
              0.5555555555555556,
              "#d8576b"
             ],
             [
              0.6666666666666666,
              "#ed7953"
             ],
             [
              0.7777777777777778,
              "#fb9f3a"
             ],
             [
              0.8888888888888888,
              "#fdca26"
             ],
             [
              1,
              "#f0f921"
             ]
            ],
            "type": "histogram2d"
           }
          ],
          "histogram2dcontour": [
           {
            "colorbar": {
             "outlinewidth": 0,
             "ticks": ""
            },
            "colorscale": [
             [
              0,
              "#0d0887"
             ],
             [
              0.1111111111111111,
              "#46039f"
             ],
             [
              0.2222222222222222,
              "#7201a8"
             ],
             [
              0.3333333333333333,
              "#9c179e"
             ],
             [
              0.4444444444444444,
              "#bd3786"
             ],
             [
              0.5555555555555556,
              "#d8576b"
             ],
             [
              0.6666666666666666,
              "#ed7953"
             ],
             [
              0.7777777777777778,
              "#fb9f3a"
             ],
             [
              0.8888888888888888,
              "#fdca26"
             ],
             [
              1,
              "#f0f921"
             ]
            ],
            "type": "histogram2dcontour"
           }
          ],
          "mesh3d": [
           {
            "colorbar": {
             "outlinewidth": 0,
             "ticks": ""
            },
            "type": "mesh3d"
           }
          ],
          "parcoords": [
           {
            "line": {
             "colorbar": {
              "outlinewidth": 0,
              "ticks": ""
             }
            },
            "type": "parcoords"
           }
          ],
          "pie": [
           {
            "automargin": true,
            "type": "pie"
           }
          ],
          "scatter": [
           {
            "fillpattern": {
             "fillmode": "overlay",
             "size": 10,
             "solidity": 0.2
            },
            "type": "scatter"
           }
          ],
          "scatter3d": [
           {
            "line": {
             "colorbar": {
              "outlinewidth": 0,
              "ticks": ""
             }
            },
            "marker": {
             "colorbar": {
              "outlinewidth": 0,
              "ticks": ""
             }
            },
            "type": "scatter3d"
           }
          ],
          "scattercarpet": [
           {
            "marker": {
             "colorbar": {
              "outlinewidth": 0,
              "ticks": ""
             }
            },
            "type": "scattercarpet"
           }
          ],
          "scattergeo": [
           {
            "marker": {
             "colorbar": {
              "outlinewidth": 0,
              "ticks": ""
             }
            },
            "type": "scattergeo"
           }
          ],
          "scattergl": [
           {
            "marker": {
             "colorbar": {
              "outlinewidth": 0,
              "ticks": ""
             }
            },
            "type": "scattergl"
           }
          ],
          "scattermapbox": [
           {
            "marker": {
             "colorbar": {
              "outlinewidth": 0,
              "ticks": ""
             }
            },
            "type": "scattermapbox"
           }
          ],
          "scatterpolar": [
           {
            "marker": {
             "colorbar": {
              "outlinewidth": 0,
              "ticks": ""
             }
            },
            "type": "scatterpolar"
           }
          ],
          "scatterpolargl": [
           {
            "marker": {
             "colorbar": {
              "outlinewidth": 0,
              "ticks": ""
             }
            },
            "type": "scatterpolargl"
           }
          ],
          "scatterternary": [
           {
            "marker": {
             "colorbar": {
              "outlinewidth": 0,
              "ticks": ""
             }
            },
            "type": "scatterternary"
           }
          ],
          "surface": [
           {
            "colorbar": {
             "outlinewidth": 0,
             "ticks": ""
            },
            "colorscale": [
             [
              0,
              "#0d0887"
             ],
             [
              0.1111111111111111,
              "#46039f"
             ],
             [
              0.2222222222222222,
              "#7201a8"
             ],
             [
              0.3333333333333333,
              "#9c179e"
             ],
             [
              0.4444444444444444,
              "#bd3786"
             ],
             [
              0.5555555555555556,
              "#d8576b"
             ],
             [
              0.6666666666666666,
              "#ed7953"
             ],
             [
              0.7777777777777778,
              "#fb9f3a"
             ],
             [
              0.8888888888888888,
              "#fdca26"
             ],
             [
              1,
              "#f0f921"
             ]
            ],
            "type": "surface"
           }
          ],
          "table": [
           {
            "cells": {
             "fill": {
              "color": "#EBF0F8"
             },
             "line": {
              "color": "white"
             }
            },
            "header": {
             "fill": {
              "color": "#C8D4E3"
             },
             "line": {
              "color": "white"
             }
            },
            "type": "table"
           }
          ]
         },
         "layout": {
          "annotationdefaults": {
           "arrowcolor": "#2a3f5f",
           "arrowhead": 0,
           "arrowwidth": 1
          },
          "autotypenumbers": "strict",
          "coloraxis": {
           "colorbar": {
            "outlinewidth": 0,
            "ticks": ""
           }
          },
          "colorscale": {
           "diverging": [
            [
             0,
             "#8e0152"
            ],
            [
             0.1,
             "#c51b7d"
            ],
            [
             0.2,
             "#de77ae"
            ],
            [
             0.3,
             "#f1b6da"
            ],
            [
             0.4,
             "#fde0ef"
            ],
            [
             0.5,
             "#f7f7f7"
            ],
            [
             0.6,
             "#e6f5d0"
            ],
            [
             0.7,
             "#b8e186"
            ],
            [
             0.8,
             "#7fbc41"
            ],
            [
             0.9,
             "#4d9221"
            ],
            [
             1,
             "#276419"
            ]
           ],
           "sequential": [
            [
             0,
             "#0d0887"
            ],
            [
             0.1111111111111111,
             "#46039f"
            ],
            [
             0.2222222222222222,
             "#7201a8"
            ],
            [
             0.3333333333333333,
             "#9c179e"
            ],
            [
             0.4444444444444444,
             "#bd3786"
            ],
            [
             0.5555555555555556,
             "#d8576b"
            ],
            [
             0.6666666666666666,
             "#ed7953"
            ],
            [
             0.7777777777777778,
             "#fb9f3a"
            ],
            [
             0.8888888888888888,
             "#fdca26"
            ],
            [
             1,
             "#f0f921"
            ]
           ],
           "sequentialminus": [
            [
             0,
             "#0d0887"
            ],
            [
             0.1111111111111111,
             "#46039f"
            ],
            [
             0.2222222222222222,
             "#7201a8"
            ],
            [
             0.3333333333333333,
             "#9c179e"
            ],
            [
             0.4444444444444444,
             "#bd3786"
            ],
            [
             0.5555555555555556,
             "#d8576b"
            ],
            [
             0.6666666666666666,
             "#ed7953"
            ],
            [
             0.7777777777777778,
             "#fb9f3a"
            ],
            [
             0.8888888888888888,
             "#fdca26"
            ],
            [
             1,
             "#f0f921"
            ]
           ]
          },
          "colorway": [
           "#636efa",
           "#EF553B",
           "#00cc96",
           "#ab63fa",
           "#FFA15A",
           "#19d3f3",
           "#FF6692",
           "#B6E880",
           "#FF97FF",
           "#FECB52"
          ],
          "font": {
           "color": "#2a3f5f"
          },
          "geo": {
           "bgcolor": "white",
           "lakecolor": "white",
           "landcolor": "#E5ECF6",
           "showlakes": true,
           "showland": true,
           "subunitcolor": "white"
          },
          "hoverlabel": {
           "align": "left"
          },
          "hovermode": "closest",
          "mapbox": {
           "style": "light"
          },
          "paper_bgcolor": "white",
          "plot_bgcolor": "#E5ECF6",
          "polar": {
           "angularaxis": {
            "gridcolor": "white",
            "linecolor": "white",
            "ticks": ""
           },
           "bgcolor": "#E5ECF6",
           "radialaxis": {
            "gridcolor": "white",
            "linecolor": "white",
            "ticks": ""
           }
          },
          "scene": {
           "xaxis": {
            "backgroundcolor": "#E5ECF6",
            "gridcolor": "white",
            "gridwidth": 2,
            "linecolor": "white",
            "showbackground": true,
            "ticks": "",
            "zerolinecolor": "white"
           },
           "yaxis": {
            "backgroundcolor": "#E5ECF6",
            "gridcolor": "white",
            "gridwidth": 2,
            "linecolor": "white",
            "showbackground": true,
            "ticks": "",
            "zerolinecolor": "white"
           },
           "zaxis": {
            "backgroundcolor": "#E5ECF6",
            "gridcolor": "white",
            "gridwidth": 2,
            "linecolor": "white",
            "showbackground": true,
            "ticks": "",
            "zerolinecolor": "white"
           }
          },
          "shapedefaults": {
           "line": {
            "color": "#2a3f5f"
           }
          },
          "ternary": {
           "aaxis": {
            "gridcolor": "white",
            "linecolor": "white",
            "ticks": ""
           },
           "baxis": {
            "gridcolor": "white",
            "linecolor": "white",
            "ticks": ""
           },
           "bgcolor": "#E5ECF6",
           "caxis": {
            "gridcolor": "white",
            "linecolor": "white",
            "ticks": ""
           }
          },
          "title": {
           "x": 0.05
          },
          "xaxis": {
           "automargin": true,
           "gridcolor": "white",
           "linecolor": "white",
           "ticks": "",
           "title": {
            "standoff": 15
           },
           "zerolinecolor": "white",
           "zerolinewidth": 2
          },
          "yaxis": {
           "automargin": true,
           "gridcolor": "white",
           "linecolor": "white",
           "ticks": "",
           "title": {
            "standoff": 15
           },
           "zerolinecolor": "white",
           "zerolinewidth": 2
          }
         }
        },
        "title": {
         "text": "TSMixer Prediction vs. Ground Truth for ALPHA"
        },
        "xaxis": {
         "title": {
          "text": "Time Step"
         }
        },
        "yaxis": {
         "title": {
          "text": "Value"
         }
        }
       }
      }
     },
     "metadata": {},
     "output_type": "display_data"
    },
    {
     "data": {
      "application/vnd.plotly.v1+json": {
       "config": {
        "plotlyServerURL": "https://plot.ly"
       },
       "data": [
        {
         "line": {
          "color": "blue"
         },
         "mode": "lines",
         "name": "GT",
         "type": "scatter",
         "y": [
          1.9195104837417603,
          1.8405653238296509,
          1.7490718364715576,
          1.6439043283462524,
          1.5240064859390259,
          1.3885129690170288,
          1.236916422843933,
          1.069272756576538,
          0.8864258527755737,
          0.6901938915252686,
          0.48345181345939636,
          0.2700369358062744,
          0.054451704025268555,
          -0.1585991531610489,
          -0.3647172152996063,
          -0.5602338910102844,
          -1.662577509880066,
          -1.7197993993759155,
          -1.7672415971755981,
          -1.8057160377502441,
          -1.835953950881958,
          -1.858612060546875,
          -1.8742766380310059,
          -1.8834701776504517,
          -1.8866596221923828,
          -1.8842629194259644,
          -1.8766542673110962,
          -1.864171028137207,
          -1.8471184968948364,
          -1.8257732391357422,
          -1.8003886938095093,
          -1.7711983919143677,
          -1.3687080144882202,
          -1.3114371299743652,
          -1.2521851062774658,
          -1.1910839080810547,
          -1.1282637119293213,
          -1.0638521909713745,
          -0.9979754090309143,
          -0.930757999420166,
          -0.8623234033584595,
          -0.7927933931350708,
          -0.7222880721092224,
          -0.6509274244308472,
          -0.5788299441337585,
          -0.5061123371124268,
          -0.4328906238079071,
          -0.35927945375442505
         ]
        },
        {
         "line": {
          "color": "red"
         },
         "mode": "lines",
         "name": "pred_beginning",
         "type": "scatter",
         "y": [
          1.3628839254379272,
          1.3256676197052002,
          1.431775450706482,
          1.3002138137817383,
          1.372772455215454,
          1.4098381996154785,
          1.265451192855835,
          1.3433496952056885,
          1.2568740844726562,
          1.2441294193267822,
          1.1990731954574585,
          1.1435225009918213,
          1.1585959196090698,
          1.1170603036880493,
          0.9794187545776367,
          0.9792377948760986,
          -0.9903639554977417,
          -1.1524766683578491,
          -1.1293954849243164,
          -1.1439380645751953,
          -1.1438528299331665,
          -1.07309091091156,
          -1.1499909162521362,
          -1.0121023654937744,
          -1.1735683679580688,
          -1.1394219398498535,
          -1.1317845582962036,
          -1.1048784255981445,
          -1.0509259700775146,
          -1.0227147340774536,
          -1.0934326648712158,
          -1.0526543855667114,
          -1.081980586051941,
          -1.1489566564559937,
          -1.1287438869476318,
          -1.1517614126205444,
          -1.0711675882339478,
          -0.9515781998634338,
          -1.0545849800109863,
          -0.9502864480018616,
          -0.9465219378471375,
          -0.9098780751228333,
          -0.9065109491348267,
          -0.8421000242233276,
          -0.7673863172531128,
          -0.6812413930892944,
          -0.6851831078529358,
          -0.6228591203689575
         ]
        }
       ],
       "layout": {
        "template": {
         "data": {
          "bar": [
           {
            "error_x": {
             "color": "#2a3f5f"
            },
            "error_y": {
             "color": "#2a3f5f"
            },
            "marker": {
             "line": {
              "color": "#E5ECF6",
              "width": 0.5
             },
             "pattern": {
              "fillmode": "overlay",
              "size": 10,
              "solidity": 0.2
             }
            },
            "type": "bar"
           }
          ],
          "barpolar": [
           {
            "marker": {
             "line": {
              "color": "#E5ECF6",
              "width": 0.5
             },
             "pattern": {
              "fillmode": "overlay",
              "size": 10,
              "solidity": 0.2
             }
            },
            "type": "barpolar"
           }
          ],
          "carpet": [
           {
            "aaxis": {
             "endlinecolor": "#2a3f5f",
             "gridcolor": "white",
             "linecolor": "white",
             "minorgridcolor": "white",
             "startlinecolor": "#2a3f5f"
            },
            "baxis": {
             "endlinecolor": "#2a3f5f",
             "gridcolor": "white",
             "linecolor": "white",
             "minorgridcolor": "white",
             "startlinecolor": "#2a3f5f"
            },
            "type": "carpet"
           }
          ],
          "choropleth": [
           {
            "colorbar": {
             "outlinewidth": 0,
             "ticks": ""
            },
            "type": "choropleth"
           }
          ],
          "contour": [
           {
            "colorbar": {
             "outlinewidth": 0,
             "ticks": ""
            },
            "colorscale": [
             [
              0,
              "#0d0887"
             ],
             [
              0.1111111111111111,
              "#46039f"
             ],
             [
              0.2222222222222222,
              "#7201a8"
             ],
             [
              0.3333333333333333,
              "#9c179e"
             ],
             [
              0.4444444444444444,
              "#bd3786"
             ],
             [
              0.5555555555555556,
              "#d8576b"
             ],
             [
              0.6666666666666666,
              "#ed7953"
             ],
             [
              0.7777777777777778,
              "#fb9f3a"
             ],
             [
              0.8888888888888888,
              "#fdca26"
             ],
             [
              1,
              "#f0f921"
             ]
            ],
            "type": "contour"
           }
          ],
          "contourcarpet": [
           {
            "colorbar": {
             "outlinewidth": 0,
             "ticks": ""
            },
            "type": "contourcarpet"
           }
          ],
          "heatmap": [
           {
            "colorbar": {
             "outlinewidth": 0,
             "ticks": ""
            },
            "colorscale": [
             [
              0,
              "#0d0887"
             ],
             [
              0.1111111111111111,
              "#46039f"
             ],
             [
              0.2222222222222222,
              "#7201a8"
             ],
             [
              0.3333333333333333,
              "#9c179e"
             ],
             [
              0.4444444444444444,
              "#bd3786"
             ],
             [
              0.5555555555555556,
              "#d8576b"
             ],
             [
              0.6666666666666666,
              "#ed7953"
             ],
             [
              0.7777777777777778,
              "#fb9f3a"
             ],
             [
              0.8888888888888888,
              "#fdca26"
             ],
             [
              1,
              "#f0f921"
             ]
            ],
            "type": "heatmap"
           }
          ],
          "heatmapgl": [
           {
            "colorbar": {
             "outlinewidth": 0,
             "ticks": ""
            },
            "colorscale": [
             [
              0,
              "#0d0887"
             ],
             [
              0.1111111111111111,
              "#46039f"
             ],
             [
              0.2222222222222222,
              "#7201a8"
             ],
             [
              0.3333333333333333,
              "#9c179e"
             ],
             [
              0.4444444444444444,
              "#bd3786"
             ],
             [
              0.5555555555555556,
              "#d8576b"
             ],
             [
              0.6666666666666666,
              "#ed7953"
             ],
             [
              0.7777777777777778,
              "#fb9f3a"
             ],
             [
              0.8888888888888888,
              "#fdca26"
             ],
             [
              1,
              "#f0f921"
             ]
            ],
            "type": "heatmapgl"
           }
          ],
          "histogram": [
           {
            "marker": {
             "pattern": {
              "fillmode": "overlay",
              "size": 10,
              "solidity": 0.2
             }
            },
            "type": "histogram"
           }
          ],
          "histogram2d": [
           {
            "colorbar": {
             "outlinewidth": 0,
             "ticks": ""
            },
            "colorscale": [
             [
              0,
              "#0d0887"
             ],
             [
              0.1111111111111111,
              "#46039f"
             ],
             [
              0.2222222222222222,
              "#7201a8"
             ],
             [
              0.3333333333333333,
              "#9c179e"
             ],
             [
              0.4444444444444444,
              "#bd3786"
             ],
             [
              0.5555555555555556,
              "#d8576b"
             ],
             [
              0.6666666666666666,
              "#ed7953"
             ],
             [
              0.7777777777777778,
              "#fb9f3a"
             ],
             [
              0.8888888888888888,
              "#fdca26"
             ],
             [
              1,
              "#f0f921"
             ]
            ],
            "type": "histogram2d"
           }
          ],
          "histogram2dcontour": [
           {
            "colorbar": {
             "outlinewidth": 0,
             "ticks": ""
            },
            "colorscale": [
             [
              0,
              "#0d0887"
             ],
             [
              0.1111111111111111,
              "#46039f"
             ],
             [
              0.2222222222222222,
              "#7201a8"
             ],
             [
              0.3333333333333333,
              "#9c179e"
             ],
             [
              0.4444444444444444,
              "#bd3786"
             ],
             [
              0.5555555555555556,
              "#d8576b"
             ],
             [
              0.6666666666666666,
              "#ed7953"
             ],
             [
              0.7777777777777778,
              "#fb9f3a"
             ],
             [
              0.8888888888888888,
              "#fdca26"
             ],
             [
              1,
              "#f0f921"
             ]
            ],
            "type": "histogram2dcontour"
           }
          ],
          "mesh3d": [
           {
            "colorbar": {
             "outlinewidth": 0,
             "ticks": ""
            },
            "type": "mesh3d"
           }
          ],
          "parcoords": [
           {
            "line": {
             "colorbar": {
              "outlinewidth": 0,
              "ticks": ""
             }
            },
            "type": "parcoords"
           }
          ],
          "pie": [
           {
            "automargin": true,
            "type": "pie"
           }
          ],
          "scatter": [
           {
            "fillpattern": {
             "fillmode": "overlay",
             "size": 10,
             "solidity": 0.2
            },
            "type": "scatter"
           }
          ],
          "scatter3d": [
           {
            "line": {
             "colorbar": {
              "outlinewidth": 0,
              "ticks": ""
             }
            },
            "marker": {
             "colorbar": {
              "outlinewidth": 0,
              "ticks": ""
             }
            },
            "type": "scatter3d"
           }
          ],
          "scattercarpet": [
           {
            "marker": {
             "colorbar": {
              "outlinewidth": 0,
              "ticks": ""
             }
            },
            "type": "scattercarpet"
           }
          ],
          "scattergeo": [
           {
            "marker": {
             "colorbar": {
              "outlinewidth": 0,
              "ticks": ""
             }
            },
            "type": "scattergeo"
           }
          ],
          "scattergl": [
           {
            "marker": {
             "colorbar": {
              "outlinewidth": 0,
              "ticks": ""
             }
            },
            "type": "scattergl"
           }
          ],
          "scattermapbox": [
           {
            "marker": {
             "colorbar": {
              "outlinewidth": 0,
              "ticks": ""
             }
            },
            "type": "scattermapbox"
           }
          ],
          "scatterpolar": [
           {
            "marker": {
             "colorbar": {
              "outlinewidth": 0,
              "ticks": ""
             }
            },
            "type": "scatterpolar"
           }
          ],
          "scatterpolargl": [
           {
            "marker": {
             "colorbar": {
              "outlinewidth": 0,
              "ticks": ""
             }
            },
            "type": "scatterpolargl"
           }
          ],
          "scatterternary": [
           {
            "marker": {
             "colorbar": {
              "outlinewidth": 0,
              "ticks": ""
             }
            },
            "type": "scatterternary"
           }
          ],
          "surface": [
           {
            "colorbar": {
             "outlinewidth": 0,
             "ticks": ""
            },
            "colorscale": [
             [
              0,
              "#0d0887"
             ],
             [
              0.1111111111111111,
              "#46039f"
             ],
             [
              0.2222222222222222,
              "#7201a8"
             ],
             [
              0.3333333333333333,
              "#9c179e"
             ],
             [
              0.4444444444444444,
              "#bd3786"
             ],
             [
              0.5555555555555556,
              "#d8576b"
             ],
             [
              0.6666666666666666,
              "#ed7953"
             ],
             [
              0.7777777777777778,
              "#fb9f3a"
             ],
             [
              0.8888888888888888,
              "#fdca26"
             ],
             [
              1,
              "#f0f921"
             ]
            ],
            "type": "surface"
           }
          ],
          "table": [
           {
            "cells": {
             "fill": {
              "color": "#EBF0F8"
             },
             "line": {
              "color": "white"
             }
            },
            "header": {
             "fill": {
              "color": "#C8D4E3"
             },
             "line": {
              "color": "white"
             }
            },
            "type": "table"
           }
          ]
         },
         "layout": {
          "annotationdefaults": {
           "arrowcolor": "#2a3f5f",
           "arrowhead": 0,
           "arrowwidth": 1
          },
          "autotypenumbers": "strict",
          "coloraxis": {
           "colorbar": {
            "outlinewidth": 0,
            "ticks": ""
           }
          },
          "colorscale": {
           "diverging": [
            [
             0,
             "#8e0152"
            ],
            [
             0.1,
             "#c51b7d"
            ],
            [
             0.2,
             "#de77ae"
            ],
            [
             0.3,
             "#f1b6da"
            ],
            [
             0.4,
             "#fde0ef"
            ],
            [
             0.5,
             "#f7f7f7"
            ],
            [
             0.6,
             "#e6f5d0"
            ],
            [
             0.7,
             "#b8e186"
            ],
            [
             0.8,
             "#7fbc41"
            ],
            [
             0.9,
             "#4d9221"
            ],
            [
             1,
             "#276419"
            ]
           ],
           "sequential": [
            [
             0,
             "#0d0887"
            ],
            [
             0.1111111111111111,
             "#46039f"
            ],
            [
             0.2222222222222222,
             "#7201a8"
            ],
            [
             0.3333333333333333,
             "#9c179e"
            ],
            [
             0.4444444444444444,
             "#bd3786"
            ],
            [
             0.5555555555555556,
             "#d8576b"
            ],
            [
             0.6666666666666666,
             "#ed7953"
            ],
            [
             0.7777777777777778,
             "#fb9f3a"
            ],
            [
             0.8888888888888888,
             "#fdca26"
            ],
            [
             1,
             "#f0f921"
            ]
           ],
           "sequentialminus": [
            [
             0,
             "#0d0887"
            ],
            [
             0.1111111111111111,
             "#46039f"
            ],
            [
             0.2222222222222222,
             "#7201a8"
            ],
            [
             0.3333333333333333,
             "#9c179e"
            ],
            [
             0.4444444444444444,
             "#bd3786"
            ],
            [
             0.5555555555555556,
             "#d8576b"
            ],
            [
             0.6666666666666666,
             "#ed7953"
            ],
            [
             0.7777777777777778,
             "#fb9f3a"
            ],
            [
             0.8888888888888888,
             "#fdca26"
            ],
            [
             1,
             "#f0f921"
            ]
           ]
          },
          "colorway": [
           "#636efa",
           "#EF553B",
           "#00cc96",
           "#ab63fa",
           "#FFA15A",
           "#19d3f3",
           "#FF6692",
           "#B6E880",
           "#FF97FF",
           "#FECB52"
          ],
          "font": {
           "color": "#2a3f5f"
          },
          "geo": {
           "bgcolor": "white",
           "lakecolor": "white",
           "landcolor": "#E5ECF6",
           "showlakes": true,
           "showland": true,
           "subunitcolor": "white"
          },
          "hoverlabel": {
           "align": "left"
          },
          "hovermode": "closest",
          "mapbox": {
           "style": "light"
          },
          "paper_bgcolor": "white",
          "plot_bgcolor": "#E5ECF6",
          "polar": {
           "angularaxis": {
            "gridcolor": "white",
            "linecolor": "white",
            "ticks": ""
           },
           "bgcolor": "#E5ECF6",
           "radialaxis": {
            "gridcolor": "white",
            "linecolor": "white",
            "ticks": ""
           }
          },
          "scene": {
           "xaxis": {
            "backgroundcolor": "#E5ECF6",
            "gridcolor": "white",
            "gridwidth": 2,
            "linecolor": "white",
            "showbackground": true,
            "ticks": "",
            "zerolinecolor": "white"
           },
           "yaxis": {
            "backgroundcolor": "#E5ECF6",
            "gridcolor": "white",
            "gridwidth": 2,
            "linecolor": "white",
            "showbackground": true,
            "ticks": "",
            "zerolinecolor": "white"
           },
           "zaxis": {
            "backgroundcolor": "#E5ECF6",
            "gridcolor": "white",
            "gridwidth": 2,
            "linecolor": "white",
            "showbackground": true,
            "ticks": "",
            "zerolinecolor": "white"
           }
          },
          "shapedefaults": {
           "line": {
            "color": "#2a3f5f"
           }
          },
          "ternary": {
           "aaxis": {
            "gridcolor": "white",
            "linecolor": "white",
            "ticks": ""
           },
           "baxis": {
            "gridcolor": "white",
            "linecolor": "white",
            "ticks": ""
           },
           "bgcolor": "#E5ECF6",
           "caxis": {
            "gridcolor": "white",
            "linecolor": "white",
            "ticks": ""
           }
          },
          "title": {
           "x": 0.05
          },
          "xaxis": {
           "automargin": true,
           "gridcolor": "white",
           "linecolor": "white",
           "ticks": "",
           "title": {
            "standoff": 15
           },
           "zerolinecolor": "white",
           "zerolinewidth": 2
          },
          "yaxis": {
           "automargin": true,
           "gridcolor": "white",
           "linecolor": "white",
           "ticks": "",
           "title": {
            "standoff": 15
           },
           "zerolinecolor": "white",
           "zerolinewidth": 2
          }
         }
        },
        "title": {
         "text": "TSMixer Prediction vs. Ground Truth for GAMMA"
        },
        "xaxis": {
         "title": {
          "text": "Time Step"
         }
        },
        "yaxis": {
         "title": {
          "text": "Value"
         }
        }
       }
      }
     },
     "metadata": {},
     "output_type": "display_data"
    },
    {
     "data": {
      "application/vnd.plotly.v1+json": {
       "config": {
        "plotlyServerURL": "https://plot.ly"
       },
       "data": [
        {
         "line": {
          "color": "blue"
         },
         "mode": "lines",
         "name": "GT",
         "type": "scatter",
         "y": [
          1.9584686756134033,
          1.8788272142410278,
          1.7865266799926758,
          1.6804310083389282,
          1.5594755411148071,
          1.4227873086929321,
          1.2698532342910767,
          1.1007308959960938,
          0.916271448135376,
          0.7183086276054382,
          0.5097424983978271,
          0.29444533586502075,
          0.07695852220058441,
          -0.1379714161157608,
          -0.3459077477455139,
          -0.5431489944458008,
          -1.6552159786224365,
          -1.7129429578781128,
          -1.7608036994934082,
          -1.799617052078247,
          -1.8301221132278442,
          -1.8529800176620483,
          -1.8687824010849,
          -1.8780570030212402,
          -1.8812750577926636,
          -1.878857135772705,
          -1.8711813688278198,
          -1.8585880994796753,
          -1.841384768486023,
          -1.8198511600494385,
          -1.7942430973052979,
          -1.7647953033447266,
          -1.358754277229309,
          -1.300978660583496,
          -1.2412035465240479,
          -1.1795638799667358,
          -1.1161892414093018,
          -1.0512094497680664,
          -0.9847517013549805,
          -0.9169415235519409,
          -0.8479031324386597,
          -0.7777596116065979,
          -0.7066325545310974,
          -0.6346425414085388,
          -0.5619089603424072,
          -0.4885500371456146,
          -0.41468241810798645,
          -0.34042200446128845
         ]
        },
        {
         "line": {
          "color": "red"
         },
         "mode": "lines",
         "name": "pred_beginning",
         "type": "scatter",
         "y": [
          1.6705211400985718,
          1.5370738506317139,
          1.6146957874298096,
          1.5499376058578491,
          1.5852458477020264,
          1.601541519165039,
          1.4998286962509155,
          1.5774312019348145,
          1.456642508506775,
          1.4931175708770752,
          1.4821254014968872,
          1.3705430030822754,
          1.4414347410202026,
          1.3629961013793945,
          1.2097514867782593,
          1.2171714305877686,
          -0.9415445327758789,
          -1.1799800395965576,
          -1.2077200412750244,
          -1.1464767456054688,
          -1.1706418991088867,
          -1.1280629634857178,
          -1.1283117532730103,
          -1.053896427154541,
          -1.1610252857208252,
          -1.090559720993042,
          -1.047933578491211,
          -1.033742904663086,
          -0.9633796811103821,
          -0.9449120759963989,
          -1.0115751028060913,
          -0.9608917236328125,
          -0.8932121992111206,
          -0.9243539571762085,
          -0.8987641930580139,
          -0.9276897311210632,
          -0.8553926944732666,
          -0.7637630701065063,
          -0.8521869778633118,
          -0.7745161652565002,
          -0.7595874071121216,
          -0.7331350445747375,
          -0.7338532209396362,
          -0.6894692182540894,
          -0.6283355951309204,
          -0.5595346689224243,
          -0.5601107478141785,
          -0.5091023445129395
         ]
        }
       ],
       "layout": {
        "template": {
         "data": {
          "bar": [
           {
            "error_x": {
             "color": "#2a3f5f"
            },
            "error_y": {
             "color": "#2a3f5f"
            },
            "marker": {
             "line": {
              "color": "#E5ECF6",
              "width": 0.5
             },
             "pattern": {
              "fillmode": "overlay",
              "size": 10,
              "solidity": 0.2
             }
            },
            "type": "bar"
           }
          ],
          "barpolar": [
           {
            "marker": {
             "line": {
              "color": "#E5ECF6",
              "width": 0.5
             },
             "pattern": {
              "fillmode": "overlay",
              "size": 10,
              "solidity": 0.2
             }
            },
            "type": "barpolar"
           }
          ],
          "carpet": [
           {
            "aaxis": {
             "endlinecolor": "#2a3f5f",
             "gridcolor": "white",
             "linecolor": "white",
             "minorgridcolor": "white",
             "startlinecolor": "#2a3f5f"
            },
            "baxis": {
             "endlinecolor": "#2a3f5f",
             "gridcolor": "white",
             "linecolor": "white",
             "minorgridcolor": "white",
             "startlinecolor": "#2a3f5f"
            },
            "type": "carpet"
           }
          ],
          "choropleth": [
           {
            "colorbar": {
             "outlinewidth": 0,
             "ticks": ""
            },
            "type": "choropleth"
           }
          ],
          "contour": [
           {
            "colorbar": {
             "outlinewidth": 0,
             "ticks": ""
            },
            "colorscale": [
             [
              0,
              "#0d0887"
             ],
             [
              0.1111111111111111,
              "#46039f"
             ],
             [
              0.2222222222222222,
              "#7201a8"
             ],
             [
              0.3333333333333333,
              "#9c179e"
             ],
             [
              0.4444444444444444,
              "#bd3786"
             ],
             [
              0.5555555555555556,
              "#d8576b"
             ],
             [
              0.6666666666666666,
              "#ed7953"
             ],
             [
              0.7777777777777778,
              "#fb9f3a"
             ],
             [
              0.8888888888888888,
              "#fdca26"
             ],
             [
              1,
              "#f0f921"
             ]
            ],
            "type": "contour"
           }
          ],
          "contourcarpet": [
           {
            "colorbar": {
             "outlinewidth": 0,
             "ticks": ""
            },
            "type": "contourcarpet"
           }
          ],
          "heatmap": [
           {
            "colorbar": {
             "outlinewidth": 0,
             "ticks": ""
            },
            "colorscale": [
             [
              0,
              "#0d0887"
             ],
             [
              0.1111111111111111,
              "#46039f"
             ],
             [
              0.2222222222222222,
              "#7201a8"
             ],
             [
              0.3333333333333333,
              "#9c179e"
             ],
             [
              0.4444444444444444,
              "#bd3786"
             ],
             [
              0.5555555555555556,
              "#d8576b"
             ],
             [
              0.6666666666666666,
              "#ed7953"
             ],
             [
              0.7777777777777778,
              "#fb9f3a"
             ],
             [
              0.8888888888888888,
              "#fdca26"
             ],
             [
              1,
              "#f0f921"
             ]
            ],
            "type": "heatmap"
           }
          ],
          "heatmapgl": [
           {
            "colorbar": {
             "outlinewidth": 0,
             "ticks": ""
            },
            "colorscale": [
             [
              0,
              "#0d0887"
             ],
             [
              0.1111111111111111,
              "#46039f"
             ],
             [
              0.2222222222222222,
              "#7201a8"
             ],
             [
              0.3333333333333333,
              "#9c179e"
             ],
             [
              0.4444444444444444,
              "#bd3786"
             ],
             [
              0.5555555555555556,
              "#d8576b"
             ],
             [
              0.6666666666666666,
              "#ed7953"
             ],
             [
              0.7777777777777778,
              "#fb9f3a"
             ],
             [
              0.8888888888888888,
              "#fdca26"
             ],
             [
              1,
              "#f0f921"
             ]
            ],
            "type": "heatmapgl"
           }
          ],
          "histogram": [
           {
            "marker": {
             "pattern": {
              "fillmode": "overlay",
              "size": 10,
              "solidity": 0.2
             }
            },
            "type": "histogram"
           }
          ],
          "histogram2d": [
           {
            "colorbar": {
             "outlinewidth": 0,
             "ticks": ""
            },
            "colorscale": [
             [
              0,
              "#0d0887"
             ],
             [
              0.1111111111111111,
              "#46039f"
             ],
             [
              0.2222222222222222,
              "#7201a8"
             ],
             [
              0.3333333333333333,
              "#9c179e"
             ],
             [
              0.4444444444444444,
              "#bd3786"
             ],
             [
              0.5555555555555556,
              "#d8576b"
             ],
             [
              0.6666666666666666,
              "#ed7953"
             ],
             [
              0.7777777777777778,
              "#fb9f3a"
             ],
             [
              0.8888888888888888,
              "#fdca26"
             ],
             [
              1,
              "#f0f921"
             ]
            ],
            "type": "histogram2d"
           }
          ],
          "histogram2dcontour": [
           {
            "colorbar": {
             "outlinewidth": 0,
             "ticks": ""
            },
            "colorscale": [
             [
              0,
              "#0d0887"
             ],
             [
              0.1111111111111111,
              "#46039f"
             ],
             [
              0.2222222222222222,
              "#7201a8"
             ],
             [
              0.3333333333333333,
              "#9c179e"
             ],
             [
              0.4444444444444444,
              "#bd3786"
             ],
             [
              0.5555555555555556,
              "#d8576b"
             ],
             [
              0.6666666666666666,
              "#ed7953"
             ],
             [
              0.7777777777777778,
              "#fb9f3a"
             ],
             [
              0.8888888888888888,
              "#fdca26"
             ],
             [
              1,
              "#f0f921"
             ]
            ],
            "type": "histogram2dcontour"
           }
          ],
          "mesh3d": [
           {
            "colorbar": {
             "outlinewidth": 0,
             "ticks": ""
            },
            "type": "mesh3d"
           }
          ],
          "parcoords": [
           {
            "line": {
             "colorbar": {
              "outlinewidth": 0,
              "ticks": ""
             }
            },
            "type": "parcoords"
           }
          ],
          "pie": [
           {
            "automargin": true,
            "type": "pie"
           }
          ],
          "scatter": [
           {
            "fillpattern": {
             "fillmode": "overlay",
             "size": 10,
             "solidity": 0.2
            },
            "type": "scatter"
           }
          ],
          "scatter3d": [
           {
            "line": {
             "colorbar": {
              "outlinewidth": 0,
              "ticks": ""
             }
            },
            "marker": {
             "colorbar": {
              "outlinewidth": 0,
              "ticks": ""
             }
            },
            "type": "scatter3d"
           }
          ],
          "scattercarpet": [
           {
            "marker": {
             "colorbar": {
              "outlinewidth": 0,
              "ticks": ""
             }
            },
            "type": "scattercarpet"
           }
          ],
          "scattergeo": [
           {
            "marker": {
             "colorbar": {
              "outlinewidth": 0,
              "ticks": ""
             }
            },
            "type": "scattergeo"
           }
          ],
          "scattergl": [
           {
            "marker": {
             "colorbar": {
              "outlinewidth": 0,
              "ticks": ""
             }
            },
            "type": "scattergl"
           }
          ],
          "scattermapbox": [
           {
            "marker": {
             "colorbar": {
              "outlinewidth": 0,
              "ticks": ""
             }
            },
            "type": "scattermapbox"
           }
          ],
          "scatterpolar": [
           {
            "marker": {
             "colorbar": {
              "outlinewidth": 0,
              "ticks": ""
             }
            },
            "type": "scatterpolar"
           }
          ],
          "scatterpolargl": [
           {
            "marker": {
             "colorbar": {
              "outlinewidth": 0,
              "ticks": ""
             }
            },
            "type": "scatterpolargl"
           }
          ],
          "scatterternary": [
           {
            "marker": {
             "colorbar": {
              "outlinewidth": 0,
              "ticks": ""
             }
            },
            "type": "scatterternary"
           }
          ],
          "surface": [
           {
            "colorbar": {
             "outlinewidth": 0,
             "ticks": ""
            },
            "colorscale": [
             [
              0,
              "#0d0887"
             ],
             [
              0.1111111111111111,
              "#46039f"
             ],
             [
              0.2222222222222222,
              "#7201a8"
             ],
             [
              0.3333333333333333,
              "#9c179e"
             ],
             [
              0.4444444444444444,
              "#bd3786"
             ],
             [
              0.5555555555555556,
              "#d8576b"
             ],
             [
              0.6666666666666666,
              "#ed7953"
             ],
             [
              0.7777777777777778,
              "#fb9f3a"
             ],
             [
              0.8888888888888888,
              "#fdca26"
             ],
             [
              1,
              "#f0f921"
             ]
            ],
            "type": "surface"
           }
          ],
          "table": [
           {
            "cells": {
             "fill": {
              "color": "#EBF0F8"
             },
             "line": {
              "color": "white"
             }
            },
            "header": {
             "fill": {
              "color": "#C8D4E3"
             },
             "line": {
              "color": "white"
             }
            },
            "type": "table"
           }
          ]
         },
         "layout": {
          "annotationdefaults": {
           "arrowcolor": "#2a3f5f",
           "arrowhead": 0,
           "arrowwidth": 1
          },
          "autotypenumbers": "strict",
          "coloraxis": {
           "colorbar": {
            "outlinewidth": 0,
            "ticks": ""
           }
          },
          "colorscale": {
           "diverging": [
            [
             0,
             "#8e0152"
            ],
            [
             0.1,
             "#c51b7d"
            ],
            [
             0.2,
             "#de77ae"
            ],
            [
             0.3,
             "#f1b6da"
            ],
            [
             0.4,
             "#fde0ef"
            ],
            [
             0.5,
             "#f7f7f7"
            ],
            [
             0.6,
             "#e6f5d0"
            ],
            [
             0.7,
             "#b8e186"
            ],
            [
             0.8,
             "#7fbc41"
            ],
            [
             0.9,
             "#4d9221"
            ],
            [
             1,
             "#276419"
            ]
           ],
           "sequential": [
            [
             0,
             "#0d0887"
            ],
            [
             0.1111111111111111,
             "#46039f"
            ],
            [
             0.2222222222222222,
             "#7201a8"
            ],
            [
             0.3333333333333333,
             "#9c179e"
            ],
            [
             0.4444444444444444,
             "#bd3786"
            ],
            [
             0.5555555555555556,
             "#d8576b"
            ],
            [
             0.6666666666666666,
             "#ed7953"
            ],
            [
             0.7777777777777778,
             "#fb9f3a"
            ],
            [
             0.8888888888888888,
             "#fdca26"
            ],
            [
             1,
             "#f0f921"
            ]
           ],
           "sequentialminus": [
            [
             0,
             "#0d0887"
            ],
            [
             0.1111111111111111,
             "#46039f"
            ],
            [
             0.2222222222222222,
             "#7201a8"
            ],
            [
             0.3333333333333333,
             "#9c179e"
            ],
            [
             0.4444444444444444,
             "#bd3786"
            ],
            [
             0.5555555555555556,
             "#d8576b"
            ],
            [
             0.6666666666666666,
             "#ed7953"
            ],
            [
             0.7777777777777778,
             "#fb9f3a"
            ],
            [
             0.8888888888888888,
             "#fdca26"
            ],
            [
             1,
             "#f0f921"
            ]
           ]
          },
          "colorway": [
           "#636efa",
           "#EF553B",
           "#00cc96",
           "#ab63fa",
           "#FFA15A",
           "#19d3f3",
           "#FF6692",
           "#B6E880",
           "#FF97FF",
           "#FECB52"
          ],
          "font": {
           "color": "#2a3f5f"
          },
          "geo": {
           "bgcolor": "white",
           "lakecolor": "white",
           "landcolor": "#E5ECF6",
           "showlakes": true,
           "showland": true,
           "subunitcolor": "white"
          },
          "hoverlabel": {
           "align": "left"
          },
          "hovermode": "closest",
          "mapbox": {
           "style": "light"
          },
          "paper_bgcolor": "white",
          "plot_bgcolor": "#E5ECF6",
          "polar": {
           "angularaxis": {
            "gridcolor": "white",
            "linecolor": "white",
            "ticks": ""
           },
           "bgcolor": "#E5ECF6",
           "radialaxis": {
            "gridcolor": "white",
            "linecolor": "white",
            "ticks": ""
           }
          },
          "scene": {
           "xaxis": {
            "backgroundcolor": "#E5ECF6",
            "gridcolor": "white",
            "gridwidth": 2,
            "linecolor": "white",
            "showbackground": true,
            "ticks": "",
            "zerolinecolor": "white"
           },
           "yaxis": {
            "backgroundcolor": "#E5ECF6",
            "gridcolor": "white",
            "gridwidth": 2,
            "linecolor": "white",
            "showbackground": true,
            "ticks": "",
            "zerolinecolor": "white"
           },
           "zaxis": {
            "backgroundcolor": "#E5ECF6",
            "gridcolor": "white",
            "gridwidth": 2,
            "linecolor": "white",
            "showbackground": true,
            "ticks": "",
            "zerolinecolor": "white"
           }
          },
          "shapedefaults": {
           "line": {
            "color": "#2a3f5f"
           }
          },
          "ternary": {
           "aaxis": {
            "gridcolor": "white",
            "linecolor": "white",
            "ticks": ""
           },
           "baxis": {
            "gridcolor": "white",
            "linecolor": "white",
            "ticks": ""
           },
           "bgcolor": "#E5ECF6",
           "caxis": {
            "gridcolor": "white",
            "linecolor": "white",
            "ticks": ""
           }
          },
          "title": {
           "x": 0.05
          },
          "xaxis": {
           "automargin": true,
           "gridcolor": "white",
           "linecolor": "white",
           "ticks": "",
           "title": {
            "standoff": 15
           },
           "zerolinecolor": "white",
           "zerolinewidth": 2
          },
          "yaxis": {
           "automargin": true,
           "gridcolor": "white",
           "linecolor": "white",
           "ticks": "",
           "title": {
            "standoff": 15
           },
           "zerolinecolor": "white",
           "zerolinewidth": 2
          }
         }
        },
        "title": {
         "text": "TSMixer Prediction vs. Ground Truth for PITCH"
        },
        "xaxis": {
         "title": {
          "text": "Time Step"
         }
        },
        "yaxis": {
         "title": {
          "text": "Value"
         }
        }
       }
      }
     },
     "metadata": {},
     "output_type": "display_data"
    },
    {
     "data": {
      "application/vnd.plotly.v1+json": {
       "config": {
        "plotlyServerURL": "https://plot.ly"
       },
       "data": [
        {
         "line": {
          "color": "blue"
         },
         "mode": "lines",
         "name": "GT",
         "type": "scatter",
         "y": [
          1.7763568394002505e-15,
          1.7763568394002505e-15,
          1.7763568394002505e-15,
          1.7763568394002505e-15,
          1.7763568394002505e-15,
          1.7763568394002505e-15,
          1.7763568394002505e-15,
          1.7763568394002505e-15,
          1.7763568394002505e-15,
          1.7763568394002505e-15,
          1.7763568394002505e-15,
          1.7763568394002505e-15,
          1.7763568394002505e-15,
          1.7763568394002505e-15,
          1.7763568394002505e-15,
          1.7763568394002505e-15,
          1.7763568394002505e-15,
          1.7763568394002505e-15,
          1.7763568394002505e-15,
          1.7763568394002505e-15,
          1.7763568394002505e-15,
          1.7763568394002505e-15,
          1.7763568394002505e-15,
          1.7763568394002505e-15,
          1.7763568394002505e-15,
          1.7763568394002505e-15,
          1.7763568394002505e-15,
          1.7763568394002505e-15,
          1.7763568394002505e-15,
          1.7763568394002505e-15,
          1.7763568394002505e-15,
          1.7763568394002505e-15,
          1.7763568394002505e-15,
          1.7763568394002505e-15,
          1.7763568394002505e-15,
          1.7763568394002505e-15,
          1.7763568394002505e-15,
          1.7763568394002505e-15,
          1.7763568394002505e-15,
          1.7763568394002505e-15,
          1.7763568394002505e-15,
          1.7763568394002505e-15,
          1.7763568394002505e-15,
          1.7763568394002505e-15,
          1.7763568394002505e-15,
          1.7763568394002505e-15,
          1.7763568394002505e-15,
          1.7763568394002505e-15
         ]
        },
        {
         "line": {
          "color": "red"
         },
         "mode": "lines",
         "name": "pred_beginning",
         "type": "scatter",
         "y": [
          -0.2801929712295532,
          -0.237881600856781,
          -0.22762583196163177,
          -0.2140013426542282,
          -0.2370569407939911,
          -0.26040321588516235,
          -0.24460086226463318,
          -0.23336118459701538,
          -0.263167142868042,
          -0.24963586032390594,
          -0.23940736055374146,
          -0.2800302803516388,
          -0.25597500801086426,
          -0.2719719409942627,
          -0.25020503997802734,
          -0.2517470419406891,
          0.027805514633655548,
          -0.1146232858300209,
          -0.028211884200572968,
          -0.08733529597520828,
          -0.05766197293996811,
          -0.009949207305908203,
          -0.11117108166217804,
          0.037940800189971924,
          -0.1301996111869812,
          -0.10423766076564789,
          -0.10425819456577301,
          -0.13548702001571655,
          -0.07561302185058594,
          -0.07876667380332947,
          -0.20362406969070435,
          -0.14152494072914124,
          0.18504640460014343,
          -0.01684930920600891,
          0.07065897434949875,
          0.021608807146549225,
          0.05352553352713585,
          0.1349213868379593,
          0.012790314853191376,
          0.19909468293190002,
          0.009032279253005981,
          0.05862852931022644,
          0.07077933102846146,
          0.037515752017498016,
          0.12912674248218536,
          0.11500955373048782,
          -0.02396424300968647,
          0.059828970581293106
         ]
        }
       ],
       "layout": {
        "template": {
         "data": {
          "bar": [
           {
            "error_x": {
             "color": "#2a3f5f"
            },
            "error_y": {
             "color": "#2a3f5f"
            },
            "marker": {
             "line": {
              "color": "#E5ECF6",
              "width": 0.5
             },
             "pattern": {
              "fillmode": "overlay",
              "size": 10,
              "solidity": 0.2
             }
            },
            "type": "bar"
           }
          ],
          "barpolar": [
           {
            "marker": {
             "line": {
              "color": "#E5ECF6",
              "width": 0.5
             },
             "pattern": {
              "fillmode": "overlay",
              "size": 10,
              "solidity": 0.2
             }
            },
            "type": "barpolar"
           }
          ],
          "carpet": [
           {
            "aaxis": {
             "endlinecolor": "#2a3f5f",
             "gridcolor": "white",
             "linecolor": "white",
             "minorgridcolor": "white",
             "startlinecolor": "#2a3f5f"
            },
            "baxis": {
             "endlinecolor": "#2a3f5f",
             "gridcolor": "white",
             "linecolor": "white",
             "minorgridcolor": "white",
             "startlinecolor": "#2a3f5f"
            },
            "type": "carpet"
           }
          ],
          "choropleth": [
           {
            "colorbar": {
             "outlinewidth": 0,
             "ticks": ""
            },
            "type": "choropleth"
           }
          ],
          "contour": [
           {
            "colorbar": {
             "outlinewidth": 0,
             "ticks": ""
            },
            "colorscale": [
             [
              0,
              "#0d0887"
             ],
             [
              0.1111111111111111,
              "#46039f"
             ],
             [
              0.2222222222222222,
              "#7201a8"
             ],
             [
              0.3333333333333333,
              "#9c179e"
             ],
             [
              0.4444444444444444,
              "#bd3786"
             ],
             [
              0.5555555555555556,
              "#d8576b"
             ],
             [
              0.6666666666666666,
              "#ed7953"
             ],
             [
              0.7777777777777778,
              "#fb9f3a"
             ],
             [
              0.8888888888888888,
              "#fdca26"
             ],
             [
              1,
              "#f0f921"
             ]
            ],
            "type": "contour"
           }
          ],
          "contourcarpet": [
           {
            "colorbar": {
             "outlinewidth": 0,
             "ticks": ""
            },
            "type": "contourcarpet"
           }
          ],
          "heatmap": [
           {
            "colorbar": {
             "outlinewidth": 0,
             "ticks": ""
            },
            "colorscale": [
             [
              0,
              "#0d0887"
             ],
             [
              0.1111111111111111,
              "#46039f"
             ],
             [
              0.2222222222222222,
              "#7201a8"
             ],
             [
              0.3333333333333333,
              "#9c179e"
             ],
             [
              0.4444444444444444,
              "#bd3786"
             ],
             [
              0.5555555555555556,
              "#d8576b"
             ],
             [
              0.6666666666666666,
              "#ed7953"
             ],
             [
              0.7777777777777778,
              "#fb9f3a"
             ],
             [
              0.8888888888888888,
              "#fdca26"
             ],
             [
              1,
              "#f0f921"
             ]
            ],
            "type": "heatmap"
           }
          ],
          "heatmapgl": [
           {
            "colorbar": {
             "outlinewidth": 0,
             "ticks": ""
            },
            "colorscale": [
             [
              0,
              "#0d0887"
             ],
             [
              0.1111111111111111,
              "#46039f"
             ],
             [
              0.2222222222222222,
              "#7201a8"
             ],
             [
              0.3333333333333333,
              "#9c179e"
             ],
             [
              0.4444444444444444,
              "#bd3786"
             ],
             [
              0.5555555555555556,
              "#d8576b"
             ],
             [
              0.6666666666666666,
              "#ed7953"
             ],
             [
              0.7777777777777778,
              "#fb9f3a"
             ],
             [
              0.8888888888888888,
              "#fdca26"
             ],
             [
              1,
              "#f0f921"
             ]
            ],
            "type": "heatmapgl"
           }
          ],
          "histogram": [
           {
            "marker": {
             "pattern": {
              "fillmode": "overlay",
              "size": 10,
              "solidity": 0.2
             }
            },
            "type": "histogram"
           }
          ],
          "histogram2d": [
           {
            "colorbar": {
             "outlinewidth": 0,
             "ticks": ""
            },
            "colorscale": [
             [
              0,
              "#0d0887"
             ],
             [
              0.1111111111111111,
              "#46039f"
             ],
             [
              0.2222222222222222,
              "#7201a8"
             ],
             [
              0.3333333333333333,
              "#9c179e"
             ],
             [
              0.4444444444444444,
              "#bd3786"
             ],
             [
              0.5555555555555556,
              "#d8576b"
             ],
             [
              0.6666666666666666,
              "#ed7953"
             ],
             [
              0.7777777777777778,
              "#fb9f3a"
             ],
             [
              0.8888888888888888,
              "#fdca26"
             ],
             [
              1,
              "#f0f921"
             ]
            ],
            "type": "histogram2d"
           }
          ],
          "histogram2dcontour": [
           {
            "colorbar": {
             "outlinewidth": 0,
             "ticks": ""
            },
            "colorscale": [
             [
              0,
              "#0d0887"
             ],
             [
              0.1111111111111111,
              "#46039f"
             ],
             [
              0.2222222222222222,
              "#7201a8"
             ],
             [
              0.3333333333333333,
              "#9c179e"
             ],
             [
              0.4444444444444444,
              "#bd3786"
             ],
             [
              0.5555555555555556,
              "#d8576b"
             ],
             [
              0.6666666666666666,
              "#ed7953"
             ],
             [
              0.7777777777777778,
              "#fb9f3a"
             ],
             [
              0.8888888888888888,
              "#fdca26"
             ],
             [
              1,
              "#f0f921"
             ]
            ],
            "type": "histogram2dcontour"
           }
          ],
          "mesh3d": [
           {
            "colorbar": {
             "outlinewidth": 0,
             "ticks": ""
            },
            "type": "mesh3d"
           }
          ],
          "parcoords": [
           {
            "line": {
             "colorbar": {
              "outlinewidth": 0,
              "ticks": ""
             }
            },
            "type": "parcoords"
           }
          ],
          "pie": [
           {
            "automargin": true,
            "type": "pie"
           }
          ],
          "scatter": [
           {
            "fillpattern": {
             "fillmode": "overlay",
             "size": 10,
             "solidity": 0.2
            },
            "type": "scatter"
           }
          ],
          "scatter3d": [
           {
            "line": {
             "colorbar": {
              "outlinewidth": 0,
              "ticks": ""
             }
            },
            "marker": {
             "colorbar": {
              "outlinewidth": 0,
              "ticks": ""
             }
            },
            "type": "scatter3d"
           }
          ],
          "scattercarpet": [
           {
            "marker": {
             "colorbar": {
              "outlinewidth": 0,
              "ticks": ""
             }
            },
            "type": "scattercarpet"
           }
          ],
          "scattergeo": [
           {
            "marker": {
             "colorbar": {
              "outlinewidth": 0,
              "ticks": ""
             }
            },
            "type": "scattergeo"
           }
          ],
          "scattergl": [
           {
            "marker": {
             "colorbar": {
              "outlinewidth": 0,
              "ticks": ""
             }
            },
            "type": "scattergl"
           }
          ],
          "scattermapbox": [
           {
            "marker": {
             "colorbar": {
              "outlinewidth": 0,
              "ticks": ""
             }
            },
            "type": "scattermapbox"
           }
          ],
          "scatterpolar": [
           {
            "marker": {
             "colorbar": {
              "outlinewidth": 0,
              "ticks": ""
             }
            },
            "type": "scatterpolar"
           }
          ],
          "scatterpolargl": [
           {
            "marker": {
             "colorbar": {
              "outlinewidth": 0,
              "ticks": ""
             }
            },
            "type": "scatterpolargl"
           }
          ],
          "scatterternary": [
           {
            "marker": {
             "colorbar": {
              "outlinewidth": 0,
              "ticks": ""
             }
            },
            "type": "scatterternary"
           }
          ],
          "surface": [
           {
            "colorbar": {
             "outlinewidth": 0,
             "ticks": ""
            },
            "colorscale": [
             [
              0,
              "#0d0887"
             ],
             [
              0.1111111111111111,
              "#46039f"
             ],
             [
              0.2222222222222222,
              "#7201a8"
             ],
             [
              0.3333333333333333,
              "#9c179e"
             ],
             [
              0.4444444444444444,
              "#bd3786"
             ],
             [
              0.5555555555555556,
              "#d8576b"
             ],
             [
              0.6666666666666666,
              "#ed7953"
             ],
             [
              0.7777777777777778,
              "#fb9f3a"
             ],
             [
              0.8888888888888888,
              "#fdca26"
             ],
             [
              1,
              "#f0f921"
             ]
            ],
            "type": "surface"
           }
          ],
          "table": [
           {
            "cells": {
             "fill": {
              "color": "#EBF0F8"
             },
             "line": {
              "color": "white"
             }
            },
            "header": {
             "fill": {
              "color": "#C8D4E3"
             },
             "line": {
              "color": "white"
             }
            },
            "type": "table"
           }
          ]
         },
         "layout": {
          "annotationdefaults": {
           "arrowcolor": "#2a3f5f",
           "arrowhead": 0,
           "arrowwidth": 1
          },
          "autotypenumbers": "strict",
          "coloraxis": {
           "colorbar": {
            "outlinewidth": 0,
            "ticks": ""
           }
          },
          "colorscale": {
           "diverging": [
            [
             0,
             "#8e0152"
            ],
            [
             0.1,
             "#c51b7d"
            ],
            [
             0.2,
             "#de77ae"
            ],
            [
             0.3,
             "#f1b6da"
            ],
            [
             0.4,
             "#fde0ef"
            ],
            [
             0.5,
             "#f7f7f7"
            ],
            [
             0.6,
             "#e6f5d0"
            ],
            [
             0.7,
             "#b8e186"
            ],
            [
             0.8,
             "#7fbc41"
            ],
            [
             0.9,
             "#4d9221"
            ],
            [
             1,
             "#276419"
            ]
           ],
           "sequential": [
            [
             0,
             "#0d0887"
            ],
            [
             0.1111111111111111,
             "#46039f"
            ],
            [
             0.2222222222222222,
             "#7201a8"
            ],
            [
             0.3333333333333333,
             "#9c179e"
            ],
            [
             0.4444444444444444,
             "#bd3786"
            ],
            [
             0.5555555555555556,
             "#d8576b"
            ],
            [
             0.6666666666666666,
             "#ed7953"
            ],
            [
             0.7777777777777778,
             "#fb9f3a"
            ],
            [
             0.8888888888888888,
             "#fdca26"
            ],
            [
             1,
             "#f0f921"
            ]
           ],
           "sequentialminus": [
            [
             0,
             "#0d0887"
            ],
            [
             0.1111111111111111,
             "#46039f"
            ],
            [
             0.2222222222222222,
             "#7201a8"
            ],
            [
             0.3333333333333333,
             "#9c179e"
            ],
            [
             0.4444444444444444,
             "#bd3786"
            ],
            [
             0.5555555555555556,
             "#d8576b"
            ],
            [
             0.6666666666666666,
             "#ed7953"
            ],
            [
             0.7777777777777778,
             "#fb9f3a"
            ],
            [
             0.8888888888888888,
             "#fdca26"
            ],
            [
             1,
             "#f0f921"
            ]
           ]
          },
          "colorway": [
           "#636efa",
           "#EF553B",
           "#00cc96",
           "#ab63fa",
           "#FFA15A",
           "#19d3f3",
           "#FF6692",
           "#B6E880",
           "#FF97FF",
           "#FECB52"
          ],
          "font": {
           "color": "#2a3f5f"
          },
          "geo": {
           "bgcolor": "white",
           "lakecolor": "white",
           "landcolor": "#E5ECF6",
           "showlakes": true,
           "showland": true,
           "subunitcolor": "white"
          },
          "hoverlabel": {
           "align": "left"
          },
          "hovermode": "closest",
          "mapbox": {
           "style": "light"
          },
          "paper_bgcolor": "white",
          "plot_bgcolor": "#E5ECF6",
          "polar": {
           "angularaxis": {
            "gridcolor": "white",
            "linecolor": "white",
            "ticks": ""
           },
           "bgcolor": "#E5ECF6",
           "radialaxis": {
            "gridcolor": "white",
            "linecolor": "white",
            "ticks": ""
           }
          },
          "scene": {
           "xaxis": {
            "backgroundcolor": "#E5ECF6",
            "gridcolor": "white",
            "gridwidth": 2,
            "linecolor": "white",
            "showbackground": true,
            "ticks": "",
            "zerolinecolor": "white"
           },
           "yaxis": {
            "backgroundcolor": "#E5ECF6",
            "gridcolor": "white",
            "gridwidth": 2,
            "linecolor": "white",
            "showbackground": true,
            "ticks": "",
            "zerolinecolor": "white"
           },
           "zaxis": {
            "backgroundcolor": "#E5ECF6",
            "gridcolor": "white",
            "gridwidth": 2,
            "linecolor": "white",
            "showbackground": true,
            "ticks": "",
            "zerolinecolor": "white"
           }
          },
          "shapedefaults": {
           "line": {
            "color": "#2a3f5f"
           }
          },
          "ternary": {
           "aaxis": {
            "gridcolor": "white",
            "linecolor": "white",
            "ticks": ""
           },
           "baxis": {
            "gridcolor": "white",
            "linecolor": "white",
            "ticks": ""
           },
           "bgcolor": "#E5ECF6",
           "caxis": {
            "gridcolor": "white",
            "linecolor": "white",
            "ticks": ""
           }
          },
          "title": {
           "x": 0.05
          },
          "xaxis": {
           "automargin": true,
           "gridcolor": "white",
           "linecolor": "white",
           "ticks": "",
           "title": {
            "standoff": 15
           },
           "zerolinecolor": "white",
           "zerolinewidth": 2
          },
          "yaxis": {
           "automargin": true,
           "gridcolor": "white",
           "linecolor": "white",
           "ticks": "",
           "title": {
            "standoff": 15
           },
           "zerolinecolor": "white",
           "zerolinewidth": 2
          }
         }
        },
        "title": {
         "text": "TSMixer Prediction vs. Ground Truth for GREF"
        },
        "xaxis": {
         "title": {
          "text": "Time Step"
         }
        },
        "yaxis": {
         "title": {
          "text": "Value"
         }
        }
       }
      }
     },
     "metadata": {},
     "output_type": "display_data"
    },
    {
     "data": {
      "application/vnd.plotly.v1+json": {
       "config": {
        "plotlyServerURL": "https://plot.ly"
       },
       "data": [
        {
         "line": {
          "color": "blue"
         },
         "mode": "lines",
         "name": "GT",
         "type": "scatter",
         "y": [
          -0.39490702748298645,
          -0.39490702748298645,
          -0.39490702748298645,
          -0.39490702748298645,
          -0.39490702748298645,
          -0.39490702748298645,
          -0.39490702748298645,
          -0.39490702748298645,
          -0.39490702748298645,
          -0.39490702748298645,
          -0.39490702748298645,
          -0.39490702748298645,
          -0.39490702748298645,
          -0.39490702748298645,
          -0.39490702748298645,
          -0.39490702748298645,
          -0.39490702748298645,
          -0.39490702748298645,
          -0.39490702748298645,
          -0.39490702748298645,
          -0.39490702748298645,
          -0.39490702748298645,
          -0.39490702748298645,
          -0.39490702748298645,
          -0.39490702748298645,
          -0.39490702748298645,
          -0.39490702748298645,
          -0.39490702748298645,
          -0.39490702748298645,
          -0.39490702748298645,
          -0.39490702748298645,
          -0.39490702748298645,
          -0.39490702748298645,
          -0.39490702748298645,
          -0.39490702748298645,
          -0.39490702748298645,
          -0.39490702748298645,
          -0.39490702748298645,
          -0.39490702748298645,
          -0.39490702748298645,
          -0.39490702748298645,
          -0.39490702748298645,
          -0.39490702748298645,
          -0.39490702748298645,
          -0.39490702748298645,
          -0.39490702748298645,
          -0.39490702748298645,
          -0.39490702748298645
         ]
        },
        {
         "line": {
          "color": "red"
         },
         "mode": "lines",
         "name": "pred_beginning",
         "type": "scatter",
         "y": [
          -0.6648781895637512,
          -0.7849000692367554,
          -0.764254629611969,
          -0.7314357757568359,
          -0.7541313767433167,
          -0.7291883826255798,
          -0.749750554561615,
          -0.634512186050415,
          -0.7735571265220642,
          -0.7175999879837036,
          -0.6846082806587219,
          -0.721115231513977,
          -0.6332378387451172,
          -0.6316547989845276,
          -0.6686062216758728,
          -0.6180768013000488,
          0.0033504068851470947,
          0.007327310740947723,
          0.165012925863266,
          0.012490428984165192,
          0.08747587352991104,
          0.20309150218963623,
          -0.022984879091382027,
          0.2652461528778076,
          0.0042624399065971375,
          -0.008744535967707634,
          -0.05603770539164543,
          -0.07344136387109756,
          -0.00122755765914917,
          0.03016166388988495,
          -0.0641147568821907,
          -0.020586960017681122,
          -0.5993354320526123,
          -0.8366288542747498,
          -0.774181604385376,
          -0.7996276617050171,
          -0.7854773998260498,
          -0.680703341960907,
          -0.8032294511795044,
          -0.5928836464881897,
          -0.8083527088165283,
          -0.746027946472168,
          -0.7245274782180786,
          -0.7286431193351746,
          -0.6212331652641296,
          -0.6162885427474976,
          -0.7326450943946838,
          -0.6422109603881836
         ]
        }
       ],
       "layout": {
        "template": {
         "data": {
          "bar": [
           {
            "error_x": {
             "color": "#2a3f5f"
            },
            "error_y": {
             "color": "#2a3f5f"
            },
            "marker": {
             "line": {
              "color": "#E5ECF6",
              "width": 0.5
             },
             "pattern": {
              "fillmode": "overlay",
              "size": 10,
              "solidity": 0.2
             }
            },
            "type": "bar"
           }
          ],
          "barpolar": [
           {
            "marker": {
             "line": {
              "color": "#E5ECF6",
              "width": 0.5
             },
             "pattern": {
              "fillmode": "overlay",
              "size": 10,
              "solidity": 0.2
             }
            },
            "type": "barpolar"
           }
          ],
          "carpet": [
           {
            "aaxis": {
             "endlinecolor": "#2a3f5f",
             "gridcolor": "white",
             "linecolor": "white",
             "minorgridcolor": "white",
             "startlinecolor": "#2a3f5f"
            },
            "baxis": {
             "endlinecolor": "#2a3f5f",
             "gridcolor": "white",
             "linecolor": "white",
             "minorgridcolor": "white",
             "startlinecolor": "#2a3f5f"
            },
            "type": "carpet"
           }
          ],
          "choropleth": [
           {
            "colorbar": {
             "outlinewidth": 0,
             "ticks": ""
            },
            "type": "choropleth"
           }
          ],
          "contour": [
           {
            "colorbar": {
             "outlinewidth": 0,
             "ticks": ""
            },
            "colorscale": [
             [
              0,
              "#0d0887"
             ],
             [
              0.1111111111111111,
              "#46039f"
             ],
             [
              0.2222222222222222,
              "#7201a8"
             ],
             [
              0.3333333333333333,
              "#9c179e"
             ],
             [
              0.4444444444444444,
              "#bd3786"
             ],
             [
              0.5555555555555556,
              "#d8576b"
             ],
             [
              0.6666666666666666,
              "#ed7953"
             ],
             [
              0.7777777777777778,
              "#fb9f3a"
             ],
             [
              0.8888888888888888,
              "#fdca26"
             ],
             [
              1,
              "#f0f921"
             ]
            ],
            "type": "contour"
           }
          ],
          "contourcarpet": [
           {
            "colorbar": {
             "outlinewidth": 0,
             "ticks": ""
            },
            "type": "contourcarpet"
           }
          ],
          "heatmap": [
           {
            "colorbar": {
             "outlinewidth": 0,
             "ticks": ""
            },
            "colorscale": [
             [
              0,
              "#0d0887"
             ],
             [
              0.1111111111111111,
              "#46039f"
             ],
             [
              0.2222222222222222,
              "#7201a8"
             ],
             [
              0.3333333333333333,
              "#9c179e"
             ],
             [
              0.4444444444444444,
              "#bd3786"
             ],
             [
              0.5555555555555556,
              "#d8576b"
             ],
             [
              0.6666666666666666,
              "#ed7953"
             ],
             [
              0.7777777777777778,
              "#fb9f3a"
             ],
             [
              0.8888888888888888,
              "#fdca26"
             ],
             [
              1,
              "#f0f921"
             ]
            ],
            "type": "heatmap"
           }
          ],
          "heatmapgl": [
           {
            "colorbar": {
             "outlinewidth": 0,
             "ticks": ""
            },
            "colorscale": [
             [
              0,
              "#0d0887"
             ],
             [
              0.1111111111111111,
              "#46039f"
             ],
             [
              0.2222222222222222,
              "#7201a8"
             ],
             [
              0.3333333333333333,
              "#9c179e"
             ],
             [
              0.4444444444444444,
              "#bd3786"
             ],
             [
              0.5555555555555556,
              "#d8576b"
             ],
             [
              0.6666666666666666,
              "#ed7953"
             ],
             [
              0.7777777777777778,
              "#fb9f3a"
             ],
             [
              0.8888888888888888,
              "#fdca26"
             ],
             [
              1,
              "#f0f921"
             ]
            ],
            "type": "heatmapgl"
           }
          ],
          "histogram": [
           {
            "marker": {
             "pattern": {
              "fillmode": "overlay",
              "size": 10,
              "solidity": 0.2
             }
            },
            "type": "histogram"
           }
          ],
          "histogram2d": [
           {
            "colorbar": {
             "outlinewidth": 0,
             "ticks": ""
            },
            "colorscale": [
             [
              0,
              "#0d0887"
             ],
             [
              0.1111111111111111,
              "#46039f"
             ],
             [
              0.2222222222222222,
              "#7201a8"
             ],
             [
              0.3333333333333333,
              "#9c179e"
             ],
             [
              0.4444444444444444,
              "#bd3786"
             ],
             [
              0.5555555555555556,
              "#d8576b"
             ],
             [
              0.6666666666666666,
              "#ed7953"
             ],
             [
              0.7777777777777778,
              "#fb9f3a"
             ],
             [
              0.8888888888888888,
              "#fdca26"
             ],
             [
              1,
              "#f0f921"
             ]
            ],
            "type": "histogram2d"
           }
          ],
          "histogram2dcontour": [
           {
            "colorbar": {
             "outlinewidth": 0,
             "ticks": ""
            },
            "colorscale": [
             [
              0,
              "#0d0887"
             ],
             [
              0.1111111111111111,
              "#46039f"
             ],
             [
              0.2222222222222222,
              "#7201a8"
             ],
             [
              0.3333333333333333,
              "#9c179e"
             ],
             [
              0.4444444444444444,
              "#bd3786"
             ],
             [
              0.5555555555555556,
              "#d8576b"
             ],
             [
              0.6666666666666666,
              "#ed7953"
             ],
             [
              0.7777777777777778,
              "#fb9f3a"
             ],
             [
              0.8888888888888888,
              "#fdca26"
             ],
             [
              1,
              "#f0f921"
             ]
            ],
            "type": "histogram2dcontour"
           }
          ],
          "mesh3d": [
           {
            "colorbar": {
             "outlinewidth": 0,
             "ticks": ""
            },
            "type": "mesh3d"
           }
          ],
          "parcoords": [
           {
            "line": {
             "colorbar": {
              "outlinewidth": 0,
              "ticks": ""
             }
            },
            "type": "parcoords"
           }
          ],
          "pie": [
           {
            "automargin": true,
            "type": "pie"
           }
          ],
          "scatter": [
           {
            "fillpattern": {
             "fillmode": "overlay",
             "size": 10,
             "solidity": 0.2
            },
            "type": "scatter"
           }
          ],
          "scatter3d": [
           {
            "line": {
             "colorbar": {
              "outlinewidth": 0,
              "ticks": ""
             }
            },
            "marker": {
             "colorbar": {
              "outlinewidth": 0,
              "ticks": ""
             }
            },
            "type": "scatter3d"
           }
          ],
          "scattercarpet": [
           {
            "marker": {
             "colorbar": {
              "outlinewidth": 0,
              "ticks": ""
             }
            },
            "type": "scattercarpet"
           }
          ],
          "scattergeo": [
           {
            "marker": {
             "colorbar": {
              "outlinewidth": 0,
              "ticks": ""
             }
            },
            "type": "scattergeo"
           }
          ],
          "scattergl": [
           {
            "marker": {
             "colorbar": {
              "outlinewidth": 0,
              "ticks": ""
             }
            },
            "type": "scattergl"
           }
          ],
          "scattermapbox": [
           {
            "marker": {
             "colorbar": {
              "outlinewidth": 0,
              "ticks": ""
             }
            },
            "type": "scattermapbox"
           }
          ],
          "scatterpolar": [
           {
            "marker": {
             "colorbar": {
              "outlinewidth": 0,
              "ticks": ""
             }
            },
            "type": "scatterpolar"
           }
          ],
          "scatterpolargl": [
           {
            "marker": {
             "colorbar": {
              "outlinewidth": 0,
              "ticks": ""
             }
            },
            "type": "scatterpolargl"
           }
          ],
          "scatterternary": [
           {
            "marker": {
             "colorbar": {
              "outlinewidth": 0,
              "ticks": ""
             }
            },
            "type": "scatterternary"
           }
          ],
          "surface": [
           {
            "colorbar": {
             "outlinewidth": 0,
             "ticks": ""
            },
            "colorscale": [
             [
              0,
              "#0d0887"
             ],
             [
              0.1111111111111111,
              "#46039f"
             ],
             [
              0.2222222222222222,
              "#7201a8"
             ],
             [
              0.3333333333333333,
              "#9c179e"
             ],
             [
              0.4444444444444444,
              "#bd3786"
             ],
             [
              0.5555555555555556,
              "#d8576b"
             ],
             [
              0.6666666666666666,
              "#ed7953"
             ],
             [
              0.7777777777777778,
              "#fb9f3a"
             ],
             [
              0.8888888888888888,
              "#fdca26"
             ],
             [
              1,
              "#f0f921"
             ]
            ],
            "type": "surface"
           }
          ],
          "table": [
           {
            "cells": {
             "fill": {
              "color": "#EBF0F8"
             },
             "line": {
              "color": "white"
             }
            },
            "header": {
             "fill": {
              "color": "#C8D4E3"
             },
             "line": {
              "color": "white"
             }
            },
            "type": "table"
           }
          ]
         },
         "layout": {
          "annotationdefaults": {
           "arrowcolor": "#2a3f5f",
           "arrowhead": 0,
           "arrowwidth": 1
          },
          "autotypenumbers": "strict",
          "coloraxis": {
           "colorbar": {
            "outlinewidth": 0,
            "ticks": ""
           }
          },
          "colorscale": {
           "diverging": [
            [
             0,
             "#8e0152"
            ],
            [
             0.1,
             "#c51b7d"
            ],
            [
             0.2,
             "#de77ae"
            ],
            [
             0.3,
             "#f1b6da"
            ],
            [
             0.4,
             "#fde0ef"
            ],
            [
             0.5,
             "#f7f7f7"
            ],
            [
             0.6,
             "#e6f5d0"
            ],
            [
             0.7,
             "#b8e186"
            ],
            [
             0.8,
             "#7fbc41"
            ],
            [
             0.9,
             "#4d9221"
            ],
            [
             1,
             "#276419"
            ]
           ],
           "sequential": [
            [
             0,
             "#0d0887"
            ],
            [
             0.1111111111111111,
             "#46039f"
            ],
            [
             0.2222222222222222,
             "#7201a8"
            ],
            [
             0.3333333333333333,
             "#9c179e"
            ],
            [
             0.4444444444444444,
             "#bd3786"
            ],
            [
             0.5555555555555556,
             "#d8576b"
            ],
            [
             0.6666666666666666,
             "#ed7953"
            ],
            [
             0.7777777777777778,
             "#fb9f3a"
            ],
            [
             0.8888888888888888,
             "#fdca26"
            ],
            [
             1,
             "#f0f921"
            ]
           ],
           "sequentialminus": [
            [
             0,
             "#0d0887"
            ],
            [
             0.1111111111111111,
             "#46039f"
            ],
            [
             0.2222222222222222,
             "#7201a8"
            ],
            [
             0.3333333333333333,
             "#9c179e"
            ],
            [
             0.4444444444444444,
             "#bd3786"
            ],
            [
             0.5555555555555556,
             "#d8576b"
            ],
            [
             0.6666666666666666,
             "#ed7953"
            ],
            [
             0.7777777777777778,
             "#fb9f3a"
            ],
            [
             0.8888888888888888,
             "#fdca26"
            ],
            [
             1,
             "#f0f921"
            ]
           ]
          },
          "colorway": [
           "#636efa",
           "#EF553B",
           "#00cc96",
           "#ab63fa",
           "#FFA15A",
           "#19d3f3",
           "#FF6692",
           "#B6E880",
           "#FF97FF",
           "#FECB52"
          ],
          "font": {
           "color": "#2a3f5f"
          },
          "geo": {
           "bgcolor": "white",
           "lakecolor": "white",
           "landcolor": "#E5ECF6",
           "showlakes": true,
           "showland": true,
           "subunitcolor": "white"
          },
          "hoverlabel": {
           "align": "left"
          },
          "hovermode": "closest",
          "mapbox": {
           "style": "light"
          },
          "paper_bgcolor": "white",
          "plot_bgcolor": "#E5ECF6",
          "polar": {
           "angularaxis": {
            "gridcolor": "white",
            "linecolor": "white",
            "ticks": ""
           },
           "bgcolor": "#E5ECF6",
           "radialaxis": {
            "gridcolor": "white",
            "linecolor": "white",
            "ticks": ""
           }
          },
          "scene": {
           "xaxis": {
            "backgroundcolor": "#E5ECF6",
            "gridcolor": "white",
            "gridwidth": 2,
            "linecolor": "white",
            "showbackground": true,
            "ticks": "",
            "zerolinecolor": "white"
           },
           "yaxis": {
            "backgroundcolor": "#E5ECF6",
            "gridcolor": "white",
            "gridwidth": 2,
            "linecolor": "white",
            "showbackground": true,
            "ticks": "",
            "zerolinecolor": "white"
           },
           "zaxis": {
            "backgroundcolor": "#E5ECF6",
            "gridcolor": "white",
            "gridwidth": 2,
            "linecolor": "white",
            "showbackground": true,
            "ticks": "",
            "zerolinecolor": "white"
           }
          },
          "shapedefaults": {
           "line": {
            "color": "#2a3f5f"
           }
          },
          "ternary": {
           "aaxis": {
            "gridcolor": "white",
            "linecolor": "white",
            "ticks": ""
           },
           "baxis": {
            "gridcolor": "white",
            "linecolor": "white",
            "ticks": ""
           },
           "bgcolor": "#E5ECF6",
           "caxis": {
            "gridcolor": "white",
            "linecolor": "white",
            "ticks": ""
           }
          },
          "title": {
           "x": 0.05
          },
          "xaxis": {
           "automargin": true,
           "gridcolor": "white",
           "linecolor": "white",
           "ticks": "",
           "title": {
            "standoff": 15
           },
           "zerolinecolor": "white",
           "zerolinewidth": 2
          },
          "yaxis": {
           "automargin": true,
           "gridcolor": "white",
           "linecolor": "white",
           "ticks": "",
           "title": {
            "standoff": 15
           },
           "zerolinecolor": "white",
           "zerolinewidth": 2
          }
         }
        },
        "title": {
         "text": "TSMixer Prediction vs. Ground Truth for WXDT"
        },
        "xaxis": {
         "title": {
          "text": "Time Step"
         }
        },
        "yaxis": {
         "title": {
          "text": "Value"
         }
        }
       }
      }
     },
     "metadata": {},
     "output_type": "display_data"
    },
    {
     "data": {
      "application/vnd.plotly.v1+json": {
       "config": {
        "plotlyServerURL": "https://plot.ly"
       },
       "data": [
        {
         "line": {
          "color": "blue"
         },
         "mode": "lines",
         "name": "GT",
         "type": "scatter",
         "y": [
          -0.39490702748298645,
          -0.39490702748298645,
          -0.39490702748298645,
          -0.39490702748298645,
          -0.39490702748298645,
          -0.39490702748298645,
          -0.39490702748298645,
          -0.39490702748298645,
          -0.39490702748298645,
          -0.39490702748298645,
          -0.39490702748298645,
          -0.39490702748298645,
          -0.39490702748298645,
          -0.39490702748298645,
          -0.39490702748298645,
          -0.39490702748298645,
          -0.39490702748298645,
          -0.39490702748298645,
          -0.39490702748298645,
          -0.39490702748298645,
          -0.39490702748298645,
          -0.39490702748298645,
          -0.39490702748298645,
          -0.39490702748298645,
          -0.39490702748298645,
          -0.39490702748298645,
          -0.39490702748298645,
          -0.39490702748298645,
          -0.39490702748298645,
          -0.39490702748298645,
          -0.39490702748298645,
          -0.39490702748298645,
          -0.39490702748298645,
          -0.39490702748298645,
          -0.39490702748298645,
          -0.39490702748298645,
          -0.39490702748298645,
          -0.39490702748298645,
          -0.39490702748298645,
          -0.39490702748298645,
          -0.39490702748298645,
          -0.39490702748298645,
          -0.39490702748298645,
          -0.39490702748298645,
          -0.39490702748298645,
          -0.39490702748298645,
          -0.39490702748298645,
          -0.39490702748298645
         ]
        },
        {
         "line": {
          "color": "red"
         },
         "mode": "lines",
         "name": "pred_beginning",
         "type": "scatter",
         "y": [
          -0.7337491512298584,
          -0.890172004699707,
          -0.8792529702186584,
          -0.8241093158721924,
          -0.8734369277954102,
          -0.8529428243637085,
          -0.8564131259918213,
          -0.7297301888465881,
          -0.9026135206222534,
          -0.8350855708122253,
          -0.789602518081665,
          -0.8325161933898926,
          -0.7376182079315186,
          -0.7509365081787109,
          -0.7912557125091553,
          -0.7357852458953857,
          0.14583885669708252,
          0.09626170247793198,
          0.24583885073661804,
          0.12615163624286652,
          0.18811213970184326,
          0.306336373090744,
          0.10036925971508026,
          0.4084438383579254,
          0.12301397323608398,
          0.13216061890125275,
          0.1042252704501152,
          0.07769136130809784,
          0.17009514570236206,
          0.19663432240486145,
          0.0916234701871872,
          0.1511339247226715,
          -0.48615920543670654,
          -0.8026763200759888,
          -0.7582828402519226,
          -0.7386993169784546,
          -0.7484134435653687,
          -0.6405491232872009,
          -0.7332143783569336,
          -0.5004060864448547,
          -0.7543731331825256,
          -0.6652314066886902,
          -0.6195407509803772,
          -0.6275132894515991,
          -0.5019360184669495,
          -0.5032930374145508,
          -0.6352697014808655,
          -0.5303699970245361
         ]
        }
       ],
       "layout": {
        "template": {
         "data": {
          "bar": [
           {
            "error_x": {
             "color": "#2a3f5f"
            },
            "error_y": {
             "color": "#2a3f5f"
            },
            "marker": {
             "line": {
              "color": "#E5ECF6",
              "width": 0.5
             },
             "pattern": {
              "fillmode": "overlay",
              "size": 10,
              "solidity": 0.2
             }
            },
            "type": "bar"
           }
          ],
          "barpolar": [
           {
            "marker": {
             "line": {
              "color": "#E5ECF6",
              "width": 0.5
             },
             "pattern": {
              "fillmode": "overlay",
              "size": 10,
              "solidity": 0.2
             }
            },
            "type": "barpolar"
           }
          ],
          "carpet": [
           {
            "aaxis": {
             "endlinecolor": "#2a3f5f",
             "gridcolor": "white",
             "linecolor": "white",
             "minorgridcolor": "white",
             "startlinecolor": "#2a3f5f"
            },
            "baxis": {
             "endlinecolor": "#2a3f5f",
             "gridcolor": "white",
             "linecolor": "white",
             "minorgridcolor": "white",
             "startlinecolor": "#2a3f5f"
            },
            "type": "carpet"
           }
          ],
          "choropleth": [
           {
            "colorbar": {
             "outlinewidth": 0,
             "ticks": ""
            },
            "type": "choropleth"
           }
          ],
          "contour": [
           {
            "colorbar": {
             "outlinewidth": 0,
             "ticks": ""
            },
            "colorscale": [
             [
              0,
              "#0d0887"
             ],
             [
              0.1111111111111111,
              "#46039f"
             ],
             [
              0.2222222222222222,
              "#7201a8"
             ],
             [
              0.3333333333333333,
              "#9c179e"
             ],
             [
              0.4444444444444444,
              "#bd3786"
             ],
             [
              0.5555555555555556,
              "#d8576b"
             ],
             [
              0.6666666666666666,
              "#ed7953"
             ],
             [
              0.7777777777777778,
              "#fb9f3a"
             ],
             [
              0.8888888888888888,
              "#fdca26"
             ],
             [
              1,
              "#f0f921"
             ]
            ],
            "type": "contour"
           }
          ],
          "contourcarpet": [
           {
            "colorbar": {
             "outlinewidth": 0,
             "ticks": ""
            },
            "type": "contourcarpet"
           }
          ],
          "heatmap": [
           {
            "colorbar": {
             "outlinewidth": 0,
             "ticks": ""
            },
            "colorscale": [
             [
              0,
              "#0d0887"
             ],
             [
              0.1111111111111111,
              "#46039f"
             ],
             [
              0.2222222222222222,
              "#7201a8"
             ],
             [
              0.3333333333333333,
              "#9c179e"
             ],
             [
              0.4444444444444444,
              "#bd3786"
             ],
             [
              0.5555555555555556,
              "#d8576b"
             ],
             [
              0.6666666666666666,
              "#ed7953"
             ],
             [
              0.7777777777777778,
              "#fb9f3a"
             ],
             [
              0.8888888888888888,
              "#fdca26"
             ],
             [
              1,
              "#f0f921"
             ]
            ],
            "type": "heatmap"
           }
          ],
          "heatmapgl": [
           {
            "colorbar": {
             "outlinewidth": 0,
             "ticks": ""
            },
            "colorscale": [
             [
              0,
              "#0d0887"
             ],
             [
              0.1111111111111111,
              "#46039f"
             ],
             [
              0.2222222222222222,
              "#7201a8"
             ],
             [
              0.3333333333333333,
              "#9c179e"
             ],
             [
              0.4444444444444444,
              "#bd3786"
             ],
             [
              0.5555555555555556,
              "#d8576b"
             ],
             [
              0.6666666666666666,
              "#ed7953"
             ],
             [
              0.7777777777777778,
              "#fb9f3a"
             ],
             [
              0.8888888888888888,
              "#fdca26"
             ],
             [
              1,
              "#f0f921"
             ]
            ],
            "type": "heatmapgl"
           }
          ],
          "histogram": [
           {
            "marker": {
             "pattern": {
              "fillmode": "overlay",
              "size": 10,
              "solidity": 0.2
             }
            },
            "type": "histogram"
           }
          ],
          "histogram2d": [
           {
            "colorbar": {
             "outlinewidth": 0,
             "ticks": ""
            },
            "colorscale": [
             [
              0,
              "#0d0887"
             ],
             [
              0.1111111111111111,
              "#46039f"
             ],
             [
              0.2222222222222222,
              "#7201a8"
             ],
             [
              0.3333333333333333,
              "#9c179e"
             ],
             [
              0.4444444444444444,
              "#bd3786"
             ],
             [
              0.5555555555555556,
              "#d8576b"
             ],
             [
              0.6666666666666666,
              "#ed7953"
             ],
             [
              0.7777777777777778,
              "#fb9f3a"
             ],
             [
              0.8888888888888888,
              "#fdca26"
             ],
             [
              1,
              "#f0f921"
             ]
            ],
            "type": "histogram2d"
           }
          ],
          "histogram2dcontour": [
           {
            "colorbar": {
             "outlinewidth": 0,
             "ticks": ""
            },
            "colorscale": [
             [
              0,
              "#0d0887"
             ],
             [
              0.1111111111111111,
              "#46039f"
             ],
             [
              0.2222222222222222,
              "#7201a8"
             ],
             [
              0.3333333333333333,
              "#9c179e"
             ],
             [
              0.4444444444444444,
              "#bd3786"
             ],
             [
              0.5555555555555556,
              "#d8576b"
             ],
             [
              0.6666666666666666,
              "#ed7953"
             ],
             [
              0.7777777777777778,
              "#fb9f3a"
             ],
             [
              0.8888888888888888,
              "#fdca26"
             ],
             [
              1,
              "#f0f921"
             ]
            ],
            "type": "histogram2dcontour"
           }
          ],
          "mesh3d": [
           {
            "colorbar": {
             "outlinewidth": 0,
             "ticks": ""
            },
            "type": "mesh3d"
           }
          ],
          "parcoords": [
           {
            "line": {
             "colorbar": {
              "outlinewidth": 0,
              "ticks": ""
             }
            },
            "type": "parcoords"
           }
          ],
          "pie": [
           {
            "automargin": true,
            "type": "pie"
           }
          ],
          "scatter": [
           {
            "fillpattern": {
             "fillmode": "overlay",
             "size": 10,
             "solidity": 0.2
            },
            "type": "scatter"
           }
          ],
          "scatter3d": [
           {
            "line": {
             "colorbar": {
              "outlinewidth": 0,
              "ticks": ""
             }
            },
            "marker": {
             "colorbar": {
              "outlinewidth": 0,
              "ticks": ""
             }
            },
            "type": "scatter3d"
           }
          ],
          "scattercarpet": [
           {
            "marker": {
             "colorbar": {
              "outlinewidth": 0,
              "ticks": ""
             }
            },
            "type": "scattercarpet"
           }
          ],
          "scattergeo": [
           {
            "marker": {
             "colorbar": {
              "outlinewidth": 0,
              "ticks": ""
             }
            },
            "type": "scattergeo"
           }
          ],
          "scattergl": [
           {
            "marker": {
             "colorbar": {
              "outlinewidth": 0,
              "ticks": ""
             }
            },
            "type": "scattergl"
           }
          ],
          "scattermapbox": [
           {
            "marker": {
             "colorbar": {
              "outlinewidth": 0,
              "ticks": ""
             }
            },
            "type": "scattermapbox"
           }
          ],
          "scatterpolar": [
           {
            "marker": {
             "colorbar": {
              "outlinewidth": 0,
              "ticks": ""
             }
            },
            "type": "scatterpolar"
           }
          ],
          "scatterpolargl": [
           {
            "marker": {
             "colorbar": {
              "outlinewidth": 0,
              "ticks": ""
             }
            },
            "type": "scatterpolargl"
           }
          ],
          "scatterternary": [
           {
            "marker": {
             "colorbar": {
              "outlinewidth": 0,
              "ticks": ""
             }
            },
            "type": "scatterternary"
           }
          ],
          "surface": [
           {
            "colorbar": {
             "outlinewidth": 0,
             "ticks": ""
            },
            "colorscale": [
             [
              0,
              "#0d0887"
             ],
             [
              0.1111111111111111,
              "#46039f"
             ],
             [
              0.2222222222222222,
              "#7201a8"
             ],
             [
              0.3333333333333333,
              "#9c179e"
             ],
             [
              0.4444444444444444,
              "#bd3786"
             ],
             [
              0.5555555555555556,
              "#d8576b"
             ],
             [
              0.6666666666666666,
              "#ed7953"
             ],
             [
              0.7777777777777778,
              "#fb9f3a"
             ],
             [
              0.8888888888888888,
              "#fdca26"
             ],
             [
              1,
              "#f0f921"
             ]
            ],
            "type": "surface"
           }
          ],
          "table": [
           {
            "cells": {
             "fill": {
              "color": "#EBF0F8"
             },
             "line": {
              "color": "white"
             }
            },
            "header": {
             "fill": {
              "color": "#C8D4E3"
             },
             "line": {
              "color": "white"
             }
            },
            "type": "table"
           }
          ]
         },
         "layout": {
          "annotationdefaults": {
           "arrowcolor": "#2a3f5f",
           "arrowhead": 0,
           "arrowwidth": 1
          },
          "autotypenumbers": "strict",
          "coloraxis": {
           "colorbar": {
            "outlinewidth": 0,
            "ticks": ""
           }
          },
          "colorscale": {
           "diverging": [
            [
             0,
             "#8e0152"
            ],
            [
             0.1,
             "#c51b7d"
            ],
            [
             0.2,
             "#de77ae"
            ],
            [
             0.3,
             "#f1b6da"
            ],
            [
             0.4,
             "#fde0ef"
            ],
            [
             0.5,
             "#f7f7f7"
            ],
            [
             0.6,
             "#e6f5d0"
            ],
            [
             0.7,
             "#b8e186"
            ],
            [
             0.8,
             "#7fbc41"
            ],
            [
             0.9,
             "#4d9221"
            ],
            [
             1,
             "#276419"
            ]
           ],
           "sequential": [
            [
             0,
             "#0d0887"
            ],
            [
             0.1111111111111111,
             "#46039f"
            ],
            [
             0.2222222222222222,
             "#7201a8"
            ],
            [
             0.3333333333333333,
             "#9c179e"
            ],
            [
             0.4444444444444444,
             "#bd3786"
            ],
            [
             0.5555555555555556,
             "#d8576b"
            ],
            [
             0.6666666666666666,
             "#ed7953"
            ],
            [
             0.7777777777777778,
             "#fb9f3a"
            ],
            [
             0.8888888888888888,
             "#fdca26"
            ],
            [
             1,
             "#f0f921"
            ]
           ],
           "sequentialminus": [
            [
             0,
             "#0d0887"
            ],
            [
             0.1111111111111111,
             "#46039f"
            ],
            [
             0.2222222222222222,
             "#7201a8"
            ],
            [
             0.3333333333333333,
             "#9c179e"
            ],
            [
             0.4444444444444444,
             "#bd3786"
            ],
            [
             0.5555555555555556,
             "#d8576b"
            ],
            [
             0.6666666666666666,
             "#ed7953"
            ],
            [
             0.7777777777777778,
             "#fb9f3a"
            ],
            [
             0.8888888888888888,
             "#fdca26"
            ],
            [
             1,
             "#f0f921"
            ]
           ]
          },
          "colorway": [
           "#636efa",
           "#EF553B",
           "#00cc96",
           "#ab63fa",
           "#FFA15A",
           "#19d3f3",
           "#FF6692",
           "#B6E880",
           "#FF97FF",
           "#FECB52"
          ],
          "font": {
           "color": "#2a3f5f"
          },
          "geo": {
           "bgcolor": "white",
           "lakecolor": "white",
           "landcolor": "#E5ECF6",
           "showlakes": true,
           "showland": true,
           "subunitcolor": "white"
          },
          "hoverlabel": {
           "align": "left"
          },
          "hovermode": "closest",
          "mapbox": {
           "style": "light"
          },
          "paper_bgcolor": "white",
          "plot_bgcolor": "#E5ECF6",
          "polar": {
           "angularaxis": {
            "gridcolor": "white",
            "linecolor": "white",
            "ticks": ""
           },
           "bgcolor": "#E5ECF6",
           "radialaxis": {
            "gridcolor": "white",
            "linecolor": "white",
            "ticks": ""
           }
          },
          "scene": {
           "xaxis": {
            "backgroundcolor": "#E5ECF6",
            "gridcolor": "white",
            "gridwidth": 2,
            "linecolor": "white",
            "showbackground": true,
            "ticks": "",
            "zerolinecolor": "white"
           },
           "yaxis": {
            "backgroundcolor": "#E5ECF6",
            "gridcolor": "white",
            "gridwidth": 2,
            "linecolor": "white",
            "showbackground": true,
            "ticks": "",
            "zerolinecolor": "white"
           },
           "zaxis": {
            "backgroundcolor": "#E5ECF6",
            "gridcolor": "white",
            "gridwidth": 2,
            "linecolor": "white",
            "showbackground": true,
            "ticks": "",
            "zerolinecolor": "white"
           }
          },
          "shapedefaults": {
           "line": {
            "color": "#2a3f5f"
           }
          },
          "ternary": {
           "aaxis": {
            "gridcolor": "white",
            "linecolor": "white",
            "ticks": ""
           },
           "baxis": {
            "gridcolor": "white",
            "linecolor": "white",
            "ticks": ""
           },
           "bgcolor": "#E5ECF6",
           "caxis": {
            "gridcolor": "white",
            "linecolor": "white",
            "ticks": ""
           }
          },
          "title": {
           "x": 0.05
          },
          "xaxis": {
           "automargin": true,
           "gridcolor": "white",
           "linecolor": "white",
           "ticks": "",
           "title": {
            "standoff": 15
           },
           "zerolinecolor": "white",
           "zerolinewidth": 2
          },
          "yaxis": {
           "automargin": true,
           "gridcolor": "white",
           "linecolor": "white",
           "ticks": "",
           "title": {
            "standoff": 15
           },
           "zerolinecolor": "white",
           "zerolinewidth": 2
          }
         }
        },
        "title": {
         "text": "TSMixer Prediction vs. Ground Truth for WZ"
        },
        "xaxis": {
         "title": {
          "text": "Time Step"
         }
        },
        "yaxis": {
         "title": {
          "text": "Value"
         }
        }
       }
      }
     },
     "metadata": {},
     "output_type": "display_data"
    },
    {
     "data": {
      "application/vnd.plotly.v1+json": {
       "config": {
        "plotlyServerURL": "https://plot.ly"
       },
       "data": [
        {
         "line": {
          "color": "blue"
         },
         "mode": "lines",
         "name": "GT",
         "type": "scatter",
         "y": [
          -1.9358922243118286,
          -1.8426564931869507,
          -1.7335129976272583,
          -1.6057524681091309,
          -1.4564436674118042,
          -1.282624363899231,
          -1.081628680229187,
          -0.8515849709510803,
          -0.5920547842979431,
          -0.3047226667404175,
          0.006077756639569998,
          0.3332700729370117,
          0.6675854921340942,
          0.9987350106239319,
          1.316888451576233,
          1.613976001739502,
          3.0581233501434326,
          3.110036849975586,
          3.1479053497314453,
          3.173264265060425,
          3.1874313354492188,
          3.1915173530578613,
          3.186471700668335,
          3.1730873584747314,
          3.152038335800171,
          3.1238951683044434,
          3.0891432762145996,
          3.0481956005096436,
          3.001408100128174,
          2.949089527130127,
          2.891515016555786,
          2.828920841217041,
          2.072814464569092,
          1.9708341360092163,
          1.8659871816635132,
          1.7584941387176514,
          1.648585319519043,
          1.536502480506897,
          1.4224950075149536,
          1.3068220615386963,
          1.189751148223877,
          1.071556568145752,
          0.9525183439254761,
          0.8329205513000488,
          0.7130520343780518,
          0.5932005643844604,
          0.47365429997444153,
          0.35470086336135864
         ]
        },
        {
         "line": {
          "color": "red"
         },
         "mode": "lines",
         "name": "pred_beginning",
         "type": "scatter",
         "y": [
          -1.232195258140564,
          -1.1813507080078125,
          -1.2051841020584106,
          -1.175951600074768,
          -1.1471583843231201,
          -1.0957939624786377,
          -1.0965461730957031,
          -1.1034724712371826,
          -1.0008480548858643,
          -0.9759562015533447,
          -0.9569540023803711,
          -0.9052906632423401,
          -0.8711106181144714,
          -0.8147817850112915,
          -0.7284917235374451,
          -0.6925407648086548,
          2.2400851249694824,
          1.7245928049087524,
          1.6079976558685303,
          1.9111746549606323,
          1.8515625,
          1.6653556823730469,
          1.914912462234497,
          1.8026838302612305,
          1.7515368461608887,
          1.9827302694320679,
          2.1268649101257324,
          1.8281983137130737,
          2.075659990310669,
          2.0054893493652344,
          1.8008214235305786,
          1.8211036920547485,
          2.228926181793213,
          1.7583500146865845,
          1.8988813161849976,
          1.8638451099395752,
          1.8270556926727295,
          1.7738474607467651,
          1.6371312141418457,
          1.8707962036132812,
          1.40071439743042,
          1.533203125,
          1.5623791217803955,
          1.2330808639526367,
          1.4804108142852783,
          1.2964482307434082,
          0.9337177276611328,
          0.9874308109283447
         ]
        }
       ],
       "layout": {
        "template": {
         "data": {
          "bar": [
           {
            "error_x": {
             "color": "#2a3f5f"
            },
            "error_y": {
             "color": "#2a3f5f"
            },
            "marker": {
             "line": {
              "color": "#E5ECF6",
              "width": 0.5
             },
             "pattern": {
              "fillmode": "overlay",
              "size": 10,
              "solidity": 0.2
             }
            },
            "type": "bar"
           }
          ],
          "barpolar": [
           {
            "marker": {
             "line": {
              "color": "#E5ECF6",
              "width": 0.5
             },
             "pattern": {
              "fillmode": "overlay",
              "size": 10,
              "solidity": 0.2
             }
            },
            "type": "barpolar"
           }
          ],
          "carpet": [
           {
            "aaxis": {
             "endlinecolor": "#2a3f5f",
             "gridcolor": "white",
             "linecolor": "white",
             "minorgridcolor": "white",
             "startlinecolor": "#2a3f5f"
            },
            "baxis": {
             "endlinecolor": "#2a3f5f",
             "gridcolor": "white",
             "linecolor": "white",
             "minorgridcolor": "white",
             "startlinecolor": "#2a3f5f"
            },
            "type": "carpet"
           }
          ],
          "choropleth": [
           {
            "colorbar": {
             "outlinewidth": 0,
             "ticks": ""
            },
            "type": "choropleth"
           }
          ],
          "contour": [
           {
            "colorbar": {
             "outlinewidth": 0,
             "ticks": ""
            },
            "colorscale": [
             [
              0,
              "#0d0887"
             ],
             [
              0.1111111111111111,
              "#46039f"
             ],
             [
              0.2222222222222222,
              "#7201a8"
             ],
             [
              0.3333333333333333,
              "#9c179e"
             ],
             [
              0.4444444444444444,
              "#bd3786"
             ],
             [
              0.5555555555555556,
              "#d8576b"
             ],
             [
              0.6666666666666666,
              "#ed7953"
             ],
             [
              0.7777777777777778,
              "#fb9f3a"
             ],
             [
              0.8888888888888888,
              "#fdca26"
             ],
             [
              1,
              "#f0f921"
             ]
            ],
            "type": "contour"
           }
          ],
          "contourcarpet": [
           {
            "colorbar": {
             "outlinewidth": 0,
             "ticks": ""
            },
            "type": "contourcarpet"
           }
          ],
          "heatmap": [
           {
            "colorbar": {
             "outlinewidth": 0,
             "ticks": ""
            },
            "colorscale": [
             [
              0,
              "#0d0887"
             ],
             [
              0.1111111111111111,
              "#46039f"
             ],
             [
              0.2222222222222222,
              "#7201a8"
             ],
             [
              0.3333333333333333,
              "#9c179e"
             ],
             [
              0.4444444444444444,
              "#bd3786"
             ],
             [
              0.5555555555555556,
              "#d8576b"
             ],
             [
              0.6666666666666666,
              "#ed7953"
             ],
             [
              0.7777777777777778,
              "#fb9f3a"
             ],
             [
              0.8888888888888888,
              "#fdca26"
             ],
             [
              1,
              "#f0f921"
             ]
            ],
            "type": "heatmap"
           }
          ],
          "heatmapgl": [
           {
            "colorbar": {
             "outlinewidth": 0,
             "ticks": ""
            },
            "colorscale": [
             [
              0,
              "#0d0887"
             ],
             [
              0.1111111111111111,
              "#46039f"
             ],
             [
              0.2222222222222222,
              "#7201a8"
             ],
             [
              0.3333333333333333,
              "#9c179e"
             ],
             [
              0.4444444444444444,
              "#bd3786"
             ],
             [
              0.5555555555555556,
              "#d8576b"
             ],
             [
              0.6666666666666666,
              "#ed7953"
             ],
             [
              0.7777777777777778,
              "#fb9f3a"
             ],
             [
              0.8888888888888888,
              "#fdca26"
             ],
             [
              1,
              "#f0f921"
             ]
            ],
            "type": "heatmapgl"
           }
          ],
          "histogram": [
           {
            "marker": {
             "pattern": {
              "fillmode": "overlay",
              "size": 10,
              "solidity": 0.2
             }
            },
            "type": "histogram"
           }
          ],
          "histogram2d": [
           {
            "colorbar": {
             "outlinewidth": 0,
             "ticks": ""
            },
            "colorscale": [
             [
              0,
              "#0d0887"
             ],
             [
              0.1111111111111111,
              "#46039f"
             ],
             [
              0.2222222222222222,
              "#7201a8"
             ],
             [
              0.3333333333333333,
              "#9c179e"
             ],
             [
              0.4444444444444444,
              "#bd3786"
             ],
             [
              0.5555555555555556,
              "#d8576b"
             ],
             [
              0.6666666666666666,
              "#ed7953"
             ],
             [
              0.7777777777777778,
              "#fb9f3a"
             ],
             [
              0.8888888888888888,
              "#fdca26"
             ],
             [
              1,
              "#f0f921"
             ]
            ],
            "type": "histogram2d"
           }
          ],
          "histogram2dcontour": [
           {
            "colorbar": {
             "outlinewidth": 0,
             "ticks": ""
            },
            "colorscale": [
             [
              0,
              "#0d0887"
             ],
             [
              0.1111111111111111,
              "#46039f"
             ],
             [
              0.2222222222222222,
              "#7201a8"
             ],
             [
              0.3333333333333333,
              "#9c179e"
             ],
             [
              0.4444444444444444,
              "#bd3786"
             ],
             [
              0.5555555555555556,
              "#d8576b"
             ],
             [
              0.6666666666666666,
              "#ed7953"
             ],
             [
              0.7777777777777778,
              "#fb9f3a"
             ],
             [
              0.8888888888888888,
              "#fdca26"
             ],
             [
              1,
              "#f0f921"
             ]
            ],
            "type": "histogram2dcontour"
           }
          ],
          "mesh3d": [
           {
            "colorbar": {
             "outlinewidth": 0,
             "ticks": ""
            },
            "type": "mesh3d"
           }
          ],
          "parcoords": [
           {
            "line": {
             "colorbar": {
              "outlinewidth": 0,
              "ticks": ""
             }
            },
            "type": "parcoords"
           }
          ],
          "pie": [
           {
            "automargin": true,
            "type": "pie"
           }
          ],
          "scatter": [
           {
            "fillpattern": {
             "fillmode": "overlay",
             "size": 10,
             "solidity": 0.2
            },
            "type": "scatter"
           }
          ],
          "scatter3d": [
           {
            "line": {
             "colorbar": {
              "outlinewidth": 0,
              "ticks": ""
             }
            },
            "marker": {
             "colorbar": {
              "outlinewidth": 0,
              "ticks": ""
             }
            },
            "type": "scatter3d"
           }
          ],
          "scattercarpet": [
           {
            "marker": {
             "colorbar": {
              "outlinewidth": 0,
              "ticks": ""
             }
            },
            "type": "scattercarpet"
           }
          ],
          "scattergeo": [
           {
            "marker": {
             "colorbar": {
              "outlinewidth": 0,
              "ticks": ""
             }
            },
            "type": "scattergeo"
           }
          ],
          "scattergl": [
           {
            "marker": {
             "colorbar": {
              "outlinewidth": 0,
              "ticks": ""
             }
            },
            "type": "scattergl"
           }
          ],
          "scattermapbox": [
           {
            "marker": {
             "colorbar": {
              "outlinewidth": 0,
              "ticks": ""
             }
            },
            "type": "scattermapbox"
           }
          ],
          "scatterpolar": [
           {
            "marker": {
             "colorbar": {
              "outlinewidth": 0,
              "ticks": ""
             }
            },
            "type": "scatterpolar"
           }
          ],
          "scatterpolargl": [
           {
            "marker": {
             "colorbar": {
              "outlinewidth": 0,
              "ticks": ""
             }
            },
            "type": "scatterpolargl"
           }
          ],
          "scatterternary": [
           {
            "marker": {
             "colorbar": {
              "outlinewidth": 0,
              "ticks": ""
             }
            },
            "type": "scatterternary"
           }
          ],
          "surface": [
           {
            "colorbar": {
             "outlinewidth": 0,
             "ticks": ""
            },
            "colorscale": [
             [
              0,
              "#0d0887"
             ],
             [
              0.1111111111111111,
              "#46039f"
             ],
             [
              0.2222222222222222,
              "#7201a8"
             ],
             [
              0.3333333333333333,
              "#9c179e"
             ],
             [
              0.4444444444444444,
              "#bd3786"
             ],
             [
              0.5555555555555556,
              "#d8576b"
             ],
             [
              0.6666666666666666,
              "#ed7953"
             ],
             [
              0.7777777777777778,
              "#fb9f3a"
             ],
             [
              0.8888888888888888,
              "#fdca26"
             ],
             [
              1,
              "#f0f921"
             ]
            ],
            "type": "surface"
           }
          ],
          "table": [
           {
            "cells": {
             "fill": {
              "color": "#EBF0F8"
             },
             "line": {
              "color": "white"
             }
            },
            "header": {
             "fill": {
              "color": "#C8D4E3"
             },
             "line": {
              "color": "white"
             }
            },
            "type": "table"
           }
          ]
         },
         "layout": {
          "annotationdefaults": {
           "arrowcolor": "#2a3f5f",
           "arrowhead": 0,
           "arrowwidth": 1
          },
          "autotypenumbers": "strict",
          "coloraxis": {
           "colorbar": {
            "outlinewidth": 0,
            "ticks": ""
           }
          },
          "colorscale": {
           "diverging": [
            [
             0,
             "#8e0152"
            ],
            [
             0.1,
             "#c51b7d"
            ],
            [
             0.2,
             "#de77ae"
            ],
            [
             0.3,
             "#f1b6da"
            ],
            [
             0.4,
             "#fde0ef"
            ],
            [
             0.5,
             "#f7f7f7"
            ],
            [
             0.6,
             "#e6f5d0"
            ],
            [
             0.7,
             "#b8e186"
            ],
            [
             0.8,
             "#7fbc41"
            ],
            [
             0.9,
             "#4d9221"
            ],
            [
             1,
             "#276419"
            ]
           ],
           "sequential": [
            [
             0,
             "#0d0887"
            ],
            [
             0.1111111111111111,
             "#46039f"
            ],
            [
             0.2222222222222222,
             "#7201a8"
            ],
            [
             0.3333333333333333,
             "#9c179e"
            ],
            [
             0.4444444444444444,
             "#bd3786"
            ],
            [
             0.5555555555555556,
             "#d8576b"
            ],
            [
             0.6666666666666666,
             "#ed7953"
            ],
            [
             0.7777777777777778,
             "#fb9f3a"
            ],
            [
             0.8888888888888888,
             "#fdca26"
            ],
            [
             1,
             "#f0f921"
            ]
           ],
           "sequentialminus": [
            [
             0,
             "#0d0887"
            ],
            [
             0.1111111111111111,
             "#46039f"
            ],
            [
             0.2222222222222222,
             "#7201a8"
            ],
            [
             0.3333333333333333,
             "#9c179e"
            ],
            [
             0.4444444444444444,
             "#bd3786"
            ],
            [
             0.5555555555555556,
             "#d8576b"
            ],
            [
             0.6666666666666666,
             "#ed7953"
            ],
            [
             0.7777777777777778,
             "#fb9f3a"
            ],
            [
             0.8888888888888888,
             "#fdca26"
            ],
            [
             1,
             "#f0f921"
            ]
           ]
          },
          "colorway": [
           "#636efa",
           "#EF553B",
           "#00cc96",
           "#ab63fa",
           "#FFA15A",
           "#19d3f3",
           "#FF6692",
           "#B6E880",
           "#FF97FF",
           "#FECB52"
          ],
          "font": {
           "color": "#2a3f5f"
          },
          "geo": {
           "bgcolor": "white",
           "lakecolor": "white",
           "landcolor": "#E5ECF6",
           "showlakes": true,
           "showland": true,
           "subunitcolor": "white"
          },
          "hoverlabel": {
           "align": "left"
          },
          "hovermode": "closest",
          "mapbox": {
           "style": "light"
          },
          "paper_bgcolor": "white",
          "plot_bgcolor": "#E5ECF6",
          "polar": {
           "angularaxis": {
            "gridcolor": "white",
            "linecolor": "white",
            "ticks": ""
           },
           "bgcolor": "#E5ECF6",
           "radialaxis": {
            "gridcolor": "white",
            "linecolor": "white",
            "ticks": ""
           }
          },
          "scene": {
           "xaxis": {
            "backgroundcolor": "#E5ECF6",
            "gridcolor": "white",
            "gridwidth": 2,
            "linecolor": "white",
            "showbackground": true,
            "ticks": "",
            "zerolinecolor": "white"
           },
           "yaxis": {
            "backgroundcolor": "#E5ECF6",
            "gridcolor": "white",
            "gridwidth": 2,
            "linecolor": "white",
            "showbackground": true,
            "ticks": "",
            "zerolinecolor": "white"
           },
           "zaxis": {
            "backgroundcolor": "#E5ECF6",
            "gridcolor": "white",
            "gridwidth": 2,
            "linecolor": "white",
            "showbackground": true,
            "ticks": "",
            "zerolinecolor": "white"
           }
          },
          "shapedefaults": {
           "line": {
            "color": "#2a3f5f"
           }
          },
          "ternary": {
           "aaxis": {
            "gridcolor": "white",
            "linecolor": "white",
            "ticks": ""
           },
           "baxis": {
            "gridcolor": "white",
            "linecolor": "white",
            "ticks": ""
           },
           "bgcolor": "#E5ECF6",
           "caxis": {
            "gridcolor": "white",
            "linecolor": "white",
            "ticks": ""
           }
          },
          "title": {
           "x": 0.05
          },
          "xaxis": {
           "automargin": true,
           "gridcolor": "white",
           "linecolor": "white",
           "ticks": "",
           "title": {
            "standoff": 15
           },
           "zerolinecolor": "white",
           "zerolinewidth": 2
          },
          "yaxis": {
           "automargin": true,
           "gridcolor": "white",
           "linecolor": "white",
           "ticks": "",
           "title": {
            "standoff": 15
           },
           "zerolinecolor": "white",
           "zerolinewidth": 2
          }
         }
        },
        "title": {
         "text": "TSMixer Prediction vs. Ground Truth for VDOT"
        },
        "xaxis": {
         "title": {
          "text": "Time Step"
         }
        },
        "yaxis": {
         "title": {
          "text": "Value"
         }
        }
       }
      }
     },
     "metadata": {},
     "output_type": "display_data"
    },
    {
     "data": {
      "application/vnd.plotly.v1+json": {
       "config": {
        "plotlyServerURL": "https://plot.ly"
       },
       "data": [
        {
         "line": {
          "color": "blue"
         },
         "mode": "lines",
         "name": "GT",
         "type": "scatter",
         "y": [
          0,
          0,
          0,
          0,
          0,
          0,
          0,
          0,
          0,
          0,
          0,
          0,
          0,
          0,
          0,
          0,
          0,
          0,
          0,
          0,
          0,
          0,
          0,
          0,
          0,
          0,
          0,
          0,
          0,
          0,
          0,
          0,
          0,
          0,
          0,
          0,
          0,
          0,
          0,
          0,
          0,
          0,
          0,
          0,
          0,
          0,
          0,
          0
         ]
        },
        {
         "line": {
          "color": "red"
         },
         "mode": "lines",
         "name": "pred_beginning",
         "type": "scatter",
         "y": [
          -0.03880661725997925,
          0.08965437859296799,
          0.1420038342475891,
          0.06398450583219528,
          0.11820042133331299,
          0.11934618651866913,
          0.06566488742828369,
          0.05638650059700012,
          0.10167111456394196,
          0.06753093004226685,
          0.03274653106927872,
          0.030858114361763,
          0.0088462233543396,
          0.02895587682723999,
          0.03442998602986336,
          0.022735506296157837,
          0.15473492443561554,
          -0.005797617137432098,
          0.04161995276808739,
          0.055205438286066055,
          0.07391712814569473,
          0.14350077509880066,
          0.06824123114347458,
          0.2546033561229706,
          0.07261396944522858,
          0.1427757441997528,
          0.16898635029792786,
          0.12130562961101532,
          0.2431141436100006,
          0.2559089660644531,
          0.1754220724105835,
          0.23036180436611176,
          -0.0020274892449378967,
          -0.14054876565933228,
          -0.09103468805551529,
          -0.09899385273456573,
          -0.07234650105237961,
          -0.007983647286891937,
          -0.07840520888566971,
          0.067344069480896,
          -0.0657934695482254,
          -0.017888348549604416,
          -0.00022210925817489624,
          -0.01724131405353546,
          0.06219383329153061,
          0.07893938571214676,
          -0.0011949501931667328,
          0.057423025369644165
         ]
        }
       ],
       "layout": {
        "template": {
         "data": {
          "bar": [
           {
            "error_x": {
             "color": "#2a3f5f"
            },
            "error_y": {
             "color": "#2a3f5f"
            },
            "marker": {
             "line": {
              "color": "#E5ECF6",
              "width": 0.5
             },
             "pattern": {
              "fillmode": "overlay",
              "size": 10,
              "solidity": 0.2
             }
            },
            "type": "bar"
           }
          ],
          "barpolar": [
           {
            "marker": {
             "line": {
              "color": "#E5ECF6",
              "width": 0.5
             },
             "pattern": {
              "fillmode": "overlay",
              "size": 10,
              "solidity": 0.2
             }
            },
            "type": "barpolar"
           }
          ],
          "carpet": [
           {
            "aaxis": {
             "endlinecolor": "#2a3f5f",
             "gridcolor": "white",
             "linecolor": "white",
             "minorgridcolor": "white",
             "startlinecolor": "#2a3f5f"
            },
            "baxis": {
             "endlinecolor": "#2a3f5f",
             "gridcolor": "white",
             "linecolor": "white",
             "minorgridcolor": "white",
             "startlinecolor": "#2a3f5f"
            },
            "type": "carpet"
           }
          ],
          "choropleth": [
           {
            "colorbar": {
             "outlinewidth": 0,
             "ticks": ""
            },
            "type": "choropleth"
           }
          ],
          "contour": [
           {
            "colorbar": {
             "outlinewidth": 0,
             "ticks": ""
            },
            "colorscale": [
             [
              0,
              "#0d0887"
             ],
             [
              0.1111111111111111,
              "#46039f"
             ],
             [
              0.2222222222222222,
              "#7201a8"
             ],
             [
              0.3333333333333333,
              "#9c179e"
             ],
             [
              0.4444444444444444,
              "#bd3786"
             ],
             [
              0.5555555555555556,
              "#d8576b"
             ],
             [
              0.6666666666666666,
              "#ed7953"
             ],
             [
              0.7777777777777778,
              "#fb9f3a"
             ],
             [
              0.8888888888888888,
              "#fdca26"
             ],
             [
              1,
              "#f0f921"
             ]
            ],
            "type": "contour"
           }
          ],
          "contourcarpet": [
           {
            "colorbar": {
             "outlinewidth": 0,
             "ticks": ""
            },
            "type": "contourcarpet"
           }
          ],
          "heatmap": [
           {
            "colorbar": {
             "outlinewidth": 0,
             "ticks": ""
            },
            "colorscale": [
             [
              0,
              "#0d0887"
             ],
             [
              0.1111111111111111,
              "#46039f"
             ],
             [
              0.2222222222222222,
              "#7201a8"
             ],
             [
              0.3333333333333333,
              "#9c179e"
             ],
             [
              0.4444444444444444,
              "#bd3786"
             ],
             [
              0.5555555555555556,
              "#d8576b"
             ],
             [
              0.6666666666666666,
              "#ed7953"
             ],
             [
              0.7777777777777778,
              "#fb9f3a"
             ],
             [
              0.8888888888888888,
              "#fdca26"
             ],
             [
              1,
              "#f0f921"
             ]
            ],
            "type": "heatmap"
           }
          ],
          "heatmapgl": [
           {
            "colorbar": {
             "outlinewidth": 0,
             "ticks": ""
            },
            "colorscale": [
             [
              0,
              "#0d0887"
             ],
             [
              0.1111111111111111,
              "#46039f"
             ],
             [
              0.2222222222222222,
              "#7201a8"
             ],
             [
              0.3333333333333333,
              "#9c179e"
             ],
             [
              0.4444444444444444,
              "#bd3786"
             ],
             [
              0.5555555555555556,
              "#d8576b"
             ],
             [
              0.6666666666666666,
              "#ed7953"
             ],
             [
              0.7777777777777778,
              "#fb9f3a"
             ],
             [
              0.8888888888888888,
              "#fdca26"
             ],
             [
              1,
              "#f0f921"
             ]
            ],
            "type": "heatmapgl"
           }
          ],
          "histogram": [
           {
            "marker": {
             "pattern": {
              "fillmode": "overlay",
              "size": 10,
              "solidity": 0.2
             }
            },
            "type": "histogram"
           }
          ],
          "histogram2d": [
           {
            "colorbar": {
             "outlinewidth": 0,
             "ticks": ""
            },
            "colorscale": [
             [
              0,
              "#0d0887"
             ],
             [
              0.1111111111111111,
              "#46039f"
             ],
             [
              0.2222222222222222,
              "#7201a8"
             ],
             [
              0.3333333333333333,
              "#9c179e"
             ],
             [
              0.4444444444444444,
              "#bd3786"
             ],
             [
              0.5555555555555556,
              "#d8576b"
             ],
             [
              0.6666666666666666,
              "#ed7953"
             ],
             [
              0.7777777777777778,
              "#fb9f3a"
             ],
             [
              0.8888888888888888,
              "#fdca26"
             ],
             [
              1,
              "#f0f921"
             ]
            ],
            "type": "histogram2d"
           }
          ],
          "histogram2dcontour": [
           {
            "colorbar": {
             "outlinewidth": 0,
             "ticks": ""
            },
            "colorscale": [
             [
              0,
              "#0d0887"
             ],
             [
              0.1111111111111111,
              "#46039f"
             ],
             [
              0.2222222222222222,
              "#7201a8"
             ],
             [
              0.3333333333333333,
              "#9c179e"
             ],
             [
              0.4444444444444444,
              "#bd3786"
             ],
             [
              0.5555555555555556,
              "#d8576b"
             ],
             [
              0.6666666666666666,
              "#ed7953"
             ],
             [
              0.7777777777777778,
              "#fb9f3a"
             ],
             [
              0.8888888888888888,
              "#fdca26"
             ],
             [
              1,
              "#f0f921"
             ]
            ],
            "type": "histogram2dcontour"
           }
          ],
          "mesh3d": [
           {
            "colorbar": {
             "outlinewidth": 0,
             "ticks": ""
            },
            "type": "mesh3d"
           }
          ],
          "parcoords": [
           {
            "line": {
             "colorbar": {
              "outlinewidth": 0,
              "ticks": ""
             }
            },
            "type": "parcoords"
           }
          ],
          "pie": [
           {
            "automargin": true,
            "type": "pie"
           }
          ],
          "scatter": [
           {
            "fillpattern": {
             "fillmode": "overlay",
             "size": 10,
             "solidity": 0.2
            },
            "type": "scatter"
           }
          ],
          "scatter3d": [
           {
            "line": {
             "colorbar": {
              "outlinewidth": 0,
              "ticks": ""
             }
            },
            "marker": {
             "colorbar": {
              "outlinewidth": 0,
              "ticks": ""
             }
            },
            "type": "scatter3d"
           }
          ],
          "scattercarpet": [
           {
            "marker": {
             "colorbar": {
              "outlinewidth": 0,
              "ticks": ""
             }
            },
            "type": "scattercarpet"
           }
          ],
          "scattergeo": [
           {
            "marker": {
             "colorbar": {
              "outlinewidth": 0,
              "ticks": ""
             }
            },
            "type": "scattergeo"
           }
          ],
          "scattergl": [
           {
            "marker": {
             "colorbar": {
              "outlinewidth": 0,
              "ticks": ""
             }
            },
            "type": "scattergl"
           }
          ],
          "scattermapbox": [
           {
            "marker": {
             "colorbar": {
              "outlinewidth": 0,
              "ticks": ""
             }
            },
            "type": "scattermapbox"
           }
          ],
          "scatterpolar": [
           {
            "marker": {
             "colorbar": {
              "outlinewidth": 0,
              "ticks": ""
             }
            },
            "type": "scatterpolar"
           }
          ],
          "scatterpolargl": [
           {
            "marker": {
             "colorbar": {
              "outlinewidth": 0,
              "ticks": ""
             }
            },
            "type": "scatterpolargl"
           }
          ],
          "scatterternary": [
           {
            "marker": {
             "colorbar": {
              "outlinewidth": 0,
              "ticks": ""
             }
            },
            "type": "scatterternary"
           }
          ],
          "surface": [
           {
            "colorbar": {
             "outlinewidth": 0,
             "ticks": ""
            },
            "colorscale": [
             [
              0,
              "#0d0887"
             ],
             [
              0.1111111111111111,
              "#46039f"
             ],
             [
              0.2222222222222222,
              "#7201a8"
             ],
             [
              0.3333333333333333,
              "#9c179e"
             ],
             [
              0.4444444444444444,
              "#bd3786"
             ],
             [
              0.5555555555555556,
              "#d8576b"
             ],
             [
              0.6666666666666666,
              "#ed7953"
             ],
             [
              0.7777777777777778,
              "#fb9f3a"
             ],
             [
              0.8888888888888888,
              "#fdca26"
             ],
             [
              1,
              "#f0f921"
             ]
            ],
            "type": "surface"
           }
          ],
          "table": [
           {
            "cells": {
             "fill": {
              "color": "#EBF0F8"
             },
             "line": {
              "color": "white"
             }
            },
            "header": {
             "fill": {
              "color": "#C8D4E3"
             },
             "line": {
              "color": "white"
             }
            },
            "type": "table"
           }
          ]
         },
         "layout": {
          "annotationdefaults": {
           "arrowcolor": "#2a3f5f",
           "arrowhead": 0,
           "arrowwidth": 1
          },
          "autotypenumbers": "strict",
          "coloraxis": {
           "colorbar": {
            "outlinewidth": 0,
            "ticks": ""
           }
          },
          "colorscale": {
           "diverging": [
            [
             0,
             "#8e0152"
            ],
            [
             0.1,
             "#c51b7d"
            ],
            [
             0.2,
             "#de77ae"
            ],
            [
             0.3,
             "#f1b6da"
            ],
            [
             0.4,
             "#fde0ef"
            ],
            [
             0.5,
             "#f7f7f7"
            ],
            [
             0.6,
             "#e6f5d0"
            ],
            [
             0.7,
             "#b8e186"
            ],
            [
             0.8,
             "#7fbc41"
            ],
            [
             0.9,
             "#4d9221"
            ],
            [
             1,
             "#276419"
            ]
           ],
           "sequential": [
            [
             0,
             "#0d0887"
            ],
            [
             0.1111111111111111,
             "#46039f"
            ],
            [
             0.2222222222222222,
             "#7201a8"
            ],
            [
             0.3333333333333333,
             "#9c179e"
            ],
            [
             0.4444444444444444,
             "#bd3786"
            ],
            [
             0.5555555555555556,
             "#d8576b"
            ],
            [
             0.6666666666666666,
             "#ed7953"
            ],
            [
             0.7777777777777778,
             "#fb9f3a"
            ],
            [
             0.8888888888888888,
             "#fdca26"
            ],
            [
             1,
             "#f0f921"
            ]
           ],
           "sequentialminus": [
            [
             0,
             "#0d0887"
            ],
            [
             0.1111111111111111,
             "#46039f"
            ],
            [
             0.2222222222222222,
             "#7201a8"
            ],
            [
             0.3333333333333333,
             "#9c179e"
            ],
            [
             0.4444444444444444,
             "#bd3786"
            ],
            [
             0.5555555555555556,
             "#d8576b"
            ],
            [
             0.6666666666666666,
             "#ed7953"
            ],
            [
             0.7777777777777778,
             "#fb9f3a"
            ],
            [
             0.8888888888888888,
             "#fdca26"
            ],
            [
             1,
             "#f0f921"
            ]
           ]
          },
          "colorway": [
           "#636efa",
           "#EF553B",
           "#00cc96",
           "#ab63fa",
           "#FFA15A",
           "#19d3f3",
           "#FF6692",
           "#B6E880",
           "#FF97FF",
           "#FECB52"
          ],
          "font": {
           "color": "#2a3f5f"
          },
          "geo": {
           "bgcolor": "white",
           "lakecolor": "white",
           "landcolor": "#E5ECF6",
           "showlakes": true,
           "showland": true,
           "subunitcolor": "white"
          },
          "hoverlabel": {
           "align": "left"
          },
          "hovermode": "closest",
          "mapbox": {
           "style": "light"
          },
          "paper_bgcolor": "white",
          "plot_bgcolor": "#E5ECF6",
          "polar": {
           "angularaxis": {
            "gridcolor": "white",
            "linecolor": "white",
            "ticks": ""
           },
           "bgcolor": "#E5ECF6",
           "radialaxis": {
            "gridcolor": "white",
            "linecolor": "white",
            "ticks": ""
           }
          },
          "scene": {
           "xaxis": {
            "backgroundcolor": "#E5ECF6",
            "gridcolor": "white",
            "gridwidth": 2,
            "linecolor": "white",
            "showbackground": true,
            "ticks": "",
            "zerolinecolor": "white"
           },
           "yaxis": {
            "backgroundcolor": "#E5ECF6",
            "gridcolor": "white",
            "gridwidth": 2,
            "linecolor": "white",
            "showbackground": true,
            "ticks": "",
            "zerolinecolor": "white"
           },
           "zaxis": {
            "backgroundcolor": "#E5ECF6",
            "gridcolor": "white",
            "gridwidth": 2,
            "linecolor": "white",
            "showbackground": true,
            "ticks": "",
            "zerolinecolor": "white"
           }
          },
          "shapedefaults": {
           "line": {
            "color": "#2a3f5f"
           }
          },
          "ternary": {
           "aaxis": {
            "gridcolor": "white",
            "linecolor": "white",
            "ticks": ""
           },
           "baxis": {
            "gridcolor": "white",
            "linecolor": "white",
            "ticks": ""
           },
           "bgcolor": "#E5ECF6",
           "caxis": {
            "gridcolor": "white",
            "linecolor": "white",
            "ticks": ""
           }
          },
          "title": {
           "x": 0.05
          },
          "xaxis": {
           "automargin": true,
           "gridcolor": "white",
           "linecolor": "white",
           "ticks": "",
           "title": {
            "standoff": 15
           },
           "zerolinecolor": "white",
           "zerolinewidth": 2
          },
          "yaxis": {
           "automargin": true,
           "gridcolor": "white",
           "linecolor": "white",
           "ticks": "",
           "title": {
            "standoff": 15
           },
           "zerolinecolor": "white",
           "zerolinewidth": 2
          }
         }
        },
        "title": {
         "text": "TSMixer Prediction vs. Ground Truth for ALRT"
        },
        "xaxis": {
         "title": {
          "text": "Time Step"
         }
        },
        "yaxis": {
         "title": {
          "text": "Value"
         }
        }
       }
      }
     },
     "metadata": {},
     "output_type": "display_data"
    }
   ],
   "source": [
    "# 使用模型进行预测\n",
    "'''\n",
    "对下一秒的预测和对后面第16秒的预测在数值上没有任何区别\n",
    "'''\n",
    "scaled_preds = []\n",
    "for inputs_list, label_list in zip(test_inputs, test_labels):\n",
    "    inputs_tensor, label_tensor = inputs_list[0].to(device), label_list[0].to(device)\n",
    "    output = model(inputs_tensor)\n",
    "    # print(output.size())\n",
    "    scaled_preds.extend(output.detach().cpu().numpy())\n",
    "\n",
    "# 将缩放和逆变换的预测存储在 DataFrame 中，以评估性能并稍后绘制预测\n",
    "cols = ['ALT', 'HDOT', 'VT', 'ALPHA', 'GAMMA', 'PITCH', 'GREF', 'WXDT', 'WZ', 'VDOT', 'ALRT']\n",
    "\n",
    "scaled_preds = np.array(scaled_preds)\n",
    "scaled_preds = scaled_preds.reshape(-1, scaled_preds.shape[-1])\n",
    "scaled_preds_df = pd.DataFrame(scaled_preds)\n",
    "scaled_preds_df.columns = cols\n",
    "\n",
    "preds = data_loader.inverse_transform(scaled_preds)\n",
    "\n",
    "preds_df = pd.DataFrame(preds)\n",
    "preds_df.columns = cols\n",
    "\n",
    "# 可视化预测结果\n",
    "tsmixer_preds = preds\n",
    "\n",
    "cols_to_plot = ['ALT', 'HDOT', 'VT', 'ALPHA', 'GAMMA', 'PITCH', 'GREF', 'WXDT', 'WZ', 'VDOT', 'ALRT']\n",
    "\n",
    "import plotly.graph_objects as go\n",
    "\n",
    "# 交互式可视化\n",
    "fig = go.Figure()\n",
    "fig.add_trace(go.Scatter(y=train_loss, mode='lines', name = 'loss', line = dict(color='blue')))\n",
    "fig.update_layout(\n",
    "    title=f'Train loss',\n",
    "    xaxis_title='Time Step',\n",
    "    yaxis_title='Loss Value'\n",
    ")\n",
    "fig.show()\n",
    "\n",
    "for batch in test_labels:\n",
    "    label_array = batch[0].cpu().numpy()\n",
    "    label_array = label_array.reshape(-1, label_array.shape[-1])\n",
    "    for idx in range(len(cols_to_plot)):\n",
    "        fig = go.Figure()\n",
    "        # fig.add_trace(go.Scatter(y=test_X_origin[:decay_steps+pred_steps, idx], mode='lines', name = 'GT', line = dict(color='blue')))\n",
    "        fig.add_trace(go.Scatter(y=label_array[:, idx], mode='lines', name = 'GT', line = dict(color='blue')))\n",
    "        fig.add_trace(go.Scatter(y=scaled_preds[:, idx], mode='lines', name = 'pred_beginning', line = dict(color='red')))\n",
    "        fig.update_layout(\n",
    "            title=f'TSMixer Prediction vs. Ground Truth for {cols_to_plot[idx]}',\n",
    "            xaxis_title='Time Step',\n",
    "            yaxis_title='Value'\n",
    "        )\n",
    "        fig.show()\n"
   ]
  },
  {
   "cell_type": "code",
   "execution_count": 22,
   "metadata": {},
   "outputs": [
    {
     "data": {
      "application/vnd.plotly.v1+json": {
       "config": {
        "plotlyServerURL": "https://plot.ly"
       },
       "data": [
        {
         "line": {
          "color": "blue"
         },
         "mode": "lines",
         "name": "GT",
         "type": "scatter",
         "y": [
          0,
          8.462514,
          17.16942,
          26.13345,
          35.36659,
          44.88002,
          54.68409,
          64.78824,
          75.20103,
          85.93004,
          96.98187,
          108.3621,
          120.0754,
          132.1251,
          144.5136,
          157.2424,
          170.3116,
          183.7202,
          197.4664,
          211.5468,
          225.9574,
          240.6927,
          255.7462,
          271.1105,
          286.7769,
          302.7359,
          318.9769,
          335.4883,
          352.2575,
          369.2712,
          386.5152,
          403.9742,
          421.6327,
          439.4738,
          457.4806,
          475.6352,
          493.9191,
          512.3135,
          530.7992,
          549.3564,
          567.965,
          586.6048,
          605.2552,
          623.8956,
          642.5052,
          661.063,
          679.5484,
          697.9404,
          716.2184,
          734.3619,
          752.3506,
          770.1644,
          787.7836,
          805.1886,
          822.3605,
          839.2806,
          855.9307,
          872.2932,
          888.3509,
          904.0872,
          919.486,
          934.5321,
          949.2107,
          963.5078,
          977.41,
          990.9048,
          1003.98,
          1016.625,
          1028.83,
          1040.585,
          1051.881,
          1062.708,
          1073.057,
          1082.919,
          1092.285,
          1101.147,
          1109.498,
          1117.331,
          1124.642,
          1131.426,
          1137.679,
          1143.402,
          1148.592,
          1153.25,
          1157.379,
          1160.982,
          1164.062,
          1166.627,
          1168.684,
          1170.241,
          1171.307,
          1171.896,
          1172.018,
          1171.689,
          1170.924,
          1169.739,
          1168.152,
          1166.184,
          1163.853,
          1161.182,
          1158.194,
          1154.912,
          1151.362,
          1147.568,
          1143.558,
          1139.359,
          1134.999,
          1130.507,
          1125.912,
          1121.245,
          1116.535,
          1111.812,
          1107.108,
          1102.452,
          1097.876,
          1093.41,
          1089.083,
          1084.926,
          1080.968,
          1077.237,
          1073.761,
          1070.568,
          1067.682,
          1065.13,
          1062.936,
          1061.121,
          1059.707,
          1058.715,
          1058.162,
          1058.066,
          1058.441,
          1059.303,
          1060.661,
          1062.528,
          1064.91,
          1067.816,
          1071.248,
          1075.211,
          1079.706,
          1084.731,
          1090.285,
          1096.363,
          1102.959,
          1110.066,
          1117.674,
          1125.773,
          1134.35,
          1143.392,
          1152.883,
          1162.808,
          1173.148,
          1183.885,
          1195,
          1206.471,
          1218.277,
          1230.396,
          1242.804,
          1255.479,
          1268.396,
          1281.532,
          1294.86,
          1308.356,
          1321.996,
          1335.753,
          1349.602,
          1363.519,
          1377.479,
          1391.455,
          1405.425,
          1419.364,
          1433.247,
          1447.052,
          1460.755,
          1474.334,
          1487.767,
          1501.033,
          1514.111,
          1526.981,
          1539.625,
          1552.022,
          1564.157,
          1576.011,
          1587.568,
          1598.814,
          1609.734,
          1620.313,
          1630.539,
          1640.401,
          1649.888,
          1658.989,
          1667.695,
          1675.999,
          1683.893,
          1691.371,
          1698.428,
          1705.061,
          1711.266,
          1717.041,
          1722.385,
          1727.299,
          1731.784,
          1735.842,
          1739.476,
          1742.692,
          1745.495,
          1747.891,
          1749.888,
          1751.495,
          1752.723,
          1753.582,
          1754.085,
          1754.243,
          1754.072,
          1753.587,
          1752.803,
          1751.737,
          1750.408,
          1748.833,
          1747.031,
          1745.024,
          1742.832,
          1740.475,
          1737.977,
          1735.358,
          1732.643,
          1729.854,
          1727.015,
          1724.149,
          1721.28,
          1718.431,
          1715.628,
          1712.892,
          1710.249,
          1707.721,
          1705.33,
          1703.101,
          1701.053,
          1699.209,
          1697.59,
          1696.215,
          1695.104,
          1694.275,
          1693.745,
          1693.53,
          1693.646,
          1694.107,
          1694.927,
          1696.115,
          1697.684,
          1699.642,
          1701.998,
          1704.757,
          1707.926,
          1711.507,
          1715.505,
          1719.918,
          1724.748,
          1729.993,
          1735.65,
          1741.715,
          1748.183,
          1755.046,
          1762.297,
          1769.927,
          1777.926,
          1786.283,
          1794.985,
          1804.019,
          1813.372,
          1823.028,
          1832.972,
          1843.188,
          1853.658,
          1864.366,
          1875.292,
          1886.42,
          1897.729,
          1909.201,
          1920.817,
          1932.556,
          1944.399,
          1956.326,
          1968.318,
          1980.354,
          1992.415,
          2004.482,
          2016.535,
          2028.554,
          2040.522,
          2052.42,
          2064.229,
          2075.932,
          2087.511,
          2098.951,
          2110.233,
          2121.344,
          2132.267,
          2142.987,
          2153.492,
          2163.767,
          2173.799,
          2183.578,
          2193.09,
          2202.327,
          2211.277,
          2219.932,
          2228.283,
          2236.323,
          2244.045,
          2251.443,
          2258.511,
          2265.247,
          2271.645,
          2277.703,
          2283.42,
          2288.794,
          2293.826,
          2298.515,
          2302.865,
          2306.877,
          2310.555,
          2313.903,
          2316.954,
          2319.736,
          2322.247,
          2324.478,
          2326.417,
          2328.045,
          2329.339,
          2330.265,
          2330.784,
          2330.849,
          2330.407,
          2329.398,
          2327.759,
          2325.421,
          2322.315,
          2318.369,
          2313.546,
          2307.814,
          2301.118,
          2293.401,
          2284.613,
          2274.705,
          2263.63,
          2251.347,
          2237.815,
          2222.999,
          2206.865,
          2189.385,
          2170.532,
          2150.286,
          2128.629,
          2105.546,
          2081.028,
          2055.069,
          2027.666,
          1998.822,
          1968.542,
          1936.836,
          1903.717,
          1869.203,
          1833.314,
          1796.077,
          1757.521,
          1717.68,
          1676.591,
          1634.298,
          1590.847,
          1546.289,
          1500.682,
          1454.085,
          1406.564,
          1358.189,
          1309.035,
          1259.181,
          1208.711,
          1157.712,
          1106.248,
          1054.393,
          1002.253,
          949.9397,
          897.5707,
          845.2691,
          793.1658,
          741.4001,
          690.1205,
          639.4852,
          589.6618,
          540.8274,
          493.1679,
          446.8769,
          402.1537,
          359.2013,
          318.1926,
          279.2934,
          242.6904,
          208.5602,
          177.0677,
          148.3643,
          122.5872,
          99.857,
          80.27751,
          63.93434,
          50.89431,
          41.20494,
          34.89417,
          31.97031,
          32.42227,
          36.21991,
          43.31472,
          53.64064,
          67.11504,
          83.63988,
          103.103,
          125.3796,
          150.3335,
          177.8188,
          207.6816,
          239.761,
          273.8912,
          309.9029,
          347.6241,
          386.8824,
          427.5054,
          469.3223,
          512.1648,
          555.8682,
          600.2719,
          645.2203,
          690.5635,
          736.1575,
          781.8649,
          827.5549,
          873.1036,
          918.3943,
          963.3171,
          1007.769,
          1051.655,
          1094.886,
          1137.38,
          1179.06,
          1219.857,
          1259.708,
          1298.554,
          1336.343,
          1373.027,
          1408.562,
          1442.911,
          1476.039,
          1507.914,
          1538.51,
          1567.801,
          1595.767,
          1622.39,
          1647.651,
          1671.536,
          1694.033,
          1715.13,
          1734.816,
          1753.082,
          1769.917,
          1785.312,
          1799.258,
          1811.741,
          1822.748,
          1832.259,
          1840.249,
          1846.684,
          1851.519,
          1854.694,
          1856.145,
          1855.8,
          1853.597,
          1849.479,
          1843.406,
          1835.346,
          1825.281,
          1813.201,
          1799.11,
          1783.018,
          1764.944,
          1744.913,
          1722.959,
          1699.121,
          1673.445,
          1645.983,
          1616.792,
          1585.938,
          1553.491,
          1519.529,
          1484.134,
          1447.399,
          1409.42,
          1370.303,
          1330.159,
          1289.107,
          1247.274,
          1204.791,
          1161.798,
          1118.442,
          1074.874,
          1031.251,
          987.7352,
          944.4933,
          901.6948,
          859.5121,
          818.1188,
          777.6894,
          738.3973,
          700.4144,
          663.9094,
          629.0464,
          595.9844,
          564.875,
          535.8618,
          509.0792,
          484.6508,
          462.6888,
          443.2929,
          426.5495,
          412.5308,
          401.2946,
          392.8835,
          387.3251,
          384.6315,
          384.7997,
          387.8116,
          393.6348,
          402.2225,
          413.5149,
          427.4394,
          443.9119,
          462.8376,
          484.1119,
          507.6219,
          533.2472,
          560.8611,
          590.3318,
          621.5237,
          654.2979,
          688.5139,
          724.0303,
          760.7057,
          798.3999,
          836.974,
          876.2917,
          916.22,
          956.629,
          997.3934,
          1038.392,
          1079.508,
          1120.632,
          1161.655,
          1202.479,
          1243.008,
          1283.151,
          1322.825,
          1361.95,
          1400.452,
          1438.262,
          1475.317,
          1511.557,
          1546.927,
          1581.376,
          1614.859,
          1647.333,
          1678.759,
          1709.099,
          1738.323,
          1766.4,
          1793.302,
          1819.005,
          1843.484,
          1866.718,
          1888.687,
          1909.372,
          1928.754,
          1946.815,
          1963.537,
          1978.903,
          1992.891,
          2005.483,
          2016.655,
          2026.384,
          2034.642,
          2041.4,
          2046.626,
          2050.289,
          2052.354,
          2052.79,
          2051.567,
          2048.66,
          2044.05,
          2037.722,
          2029.669,
          2019.889,
          2008.388,
          1995.179,
          1980.281,
          1963.719,
          1945.525,
          1925.735,
          1904.395,
          1881.552,
          1857.262,
          1831.585,
          1804.587,
          1776.339,
          1746.92,
          1716.41,
          1684.898,
          1652.478,
          1619.247,
          1585.311,
          1550.777,
          1515.759,
          1480.375,
          1444.749,
          1409.005,
          1373.273,
          1337.687,
          1302.381,
          1267.493,
          1233.159,
          1199.518,
          1166.708,
          1134.865,
          1104.124,
          1074.617,
          1046.471,
          1019.81,
          994.7509,
          971.4048,
          949.876,
          930.2601,
          912.6445,
          897.107,
          883.7155,
          872.5276,
          863.59
         ]
        },
        {
         "line": {
          "color": "red"
         },
         "mode": "lines",
         "name": "pred_beginning",
         "type": "scatter",
         "y": [
          0,
          8.462514000000056,
          17.169419999999946,
          26.13345000000004,
          35.36659000000009,
          44.88002000000006,
          54.68408999999997,
          64.78824000000009,
          294.1473248900202,
          297.7608114991609,
          302.1842443830576,
          307.29980777874323,
          313.5133280233903,
          320.05714787554984,
          327.3626154749518,
          335.850024459637,
          344.8702010727019,
          353.21672080431745,
          361.7340288774634,
          370.4855588421002,
          380.48557977601354,
          390.463194941403,
          402.21368508907415,
          414.37934967601734,
          427.54251610999677,
          440.2462900979481,
          454.1022547652949,
          468.64730810168385,
          482.76383256723,
          497.05010669629564,
          511.5435228972783,
          526.0312263692002,
          544.133603510847,
          564.1464804712389,
          583.1228309678938,
          602.2069814038381,
          622.5015626790829,
          642.9601066974998,
          663.1060828258785,
          684.3374032845132,
          705.5480243742136,
          725.8761401109577,
          745.8436861952962,
          764.4755294530734,
          779.5513472531065,
          793.3556747850471,
          806.8749593942421,
          815.6376922431408,
          827.8361493787186,
          841.1589754612529,
          857.6623449005384,
          873.9865052872752,
          883.0999403474748,
          889.6124885723733,
          902.9882501378278,
          916.7236539646068,
          934.1499259123493,
          950.1201567668224,
          952.3611787669397,
          947.7097189639752,
          956.0575741387478,
          970.6200995231083,
          989.7639368490443,
          1028.8851506047804,
          1066.0715668954417,
          1067.2657869386412,
          1065.2419228341191,
          1099.7239183491638,
          1139.1571806559327,
          1157.928902310501,
          1186.4828841991848,
          1206.7611062957556,
          1216.7173821923645,
          1223.987469822015,
          1229.3681928756632,
          1236.631139593988,
          1226.2551635896302,
          1232.3714190576716,
          1226.3050572298037,
          1224.41043434637,
          1221.4734888049418,
          1228.4224765466063,
          1229.1845787154784,
          1231.1120405171005,
          1239.4511411200656,
          1238.3872195237875,
          1229.1475572635134,
          1219.585663698134,
          1222.62057883339,
          1227.2505788067335,
          1229.9214743947612,
          1229.9442603936286,
          1232.2009738508411,
          1229.8369334237907,
          1232.299917205304,
          1239.0399544624431,
          1245.202523841084,
          1251.660022131397,
          1264.194250481867,
          1271.5087972399547,
          1275.1849754861905,
          1269.9321303887416,
          1250.0624055156577,
          1237.9209829315794,
          1229.1036731175468,
          1221.3065120407553,
          1241.0436385370363,
          1256.7707259978167,
          1259.1510792339868,
          1214.5995826452183,
          1192.2035517275908,
          1181.18388284762,
          1162.580083896141,
          1134.7502182376397,
          1118.8588527207196,
          1128.470853226221,
          1119.2086275409392,
          1108.2940877139436,
          1098.9777394851574,
          1087.3615726617004,
          1054.281458600778,
          1051.9754821293272,
          1029.6424952574057,
          1041.9900397832116,
          1028.237460673607,
          1035.4968183884473,
          1060.5874582840513,
          1054.8560701147455,
          1040.0639226986575,
          1038.9843652887487,
          1045.0541770114392,
          1057.2158723645543,
          1064.6143387415882,
          1071.6356908093258,
          1071.90018274571,
          1073.0573813369444,
          1077.4340366147007,
          1082.4842745826202,
          1089.8851521764652,
          1098.0070206925488,
          1106.2810184416076,
          1116.6037343761668,
          1129.536165909121,
          1143.5387696542416,
          1157.2498016434042,
          1170.5626582718148,
          1189.7533473951778,
          1215.2134413497463,
          1236.5508460741698,
          1254.1727789922431,
          1270.7316156921006,
          1286.8359936664824,
          1302.7805172401822,
          1318.240882389028,
          1332.7388497617421,
          1345.1332484034524,
          1357.4740739808744,
          1369.604590445837,
          1382.8321549165012,
          1396.362753696888,
          1410.6868839298918,
          1425.336862293218,
          1437.8225417205822,
          1449.0456060125016,
          1459.2908569700407,
          1469.9260480555301,
          1479.8289525954108,
          1488.6146476474823,
          1498.014034473687,
          1506.8961596503912,
          1515.2114077547456,
          1523.5311815275766,
          1531.4465385976785,
          1539.4396110403925,
          1547.8151024693875,
          1555.041185392231,
          1567.4326140640035,
          1581.3415142142703,
          1595.3469743239211,
          1609.2783915296418,
          1622.8859637697756,
          1636.8382287270038,
          1650.0164559921432,
          1663.1619278042917,
          1674.4701636931168,
          1686.778831984795,
          1701.7255569463127,
          1720.6972704875611,
          1739.0280826003514,
          1734.6278715891303,
          1731.9243040133088,
          1739.1195233609667,
          1734.2811015160141,
          1742.9637077754894,
          1759.0672603718087,
          1757.292753181224,
          1769.288668104648,
          1790.6612487727848,
          1823.7425869899348,
          1841.992159644004,
          1850.7995927430209,
          1853.3003213415427,
          1862.3626386053415,
          1880.0036943275109,
          1883.0848584559908,
          1889.3825116195326,
          1900.7005036625333,
          1904.5150115624544,
          1904.2701432213503,
          1906.3402655930072,
          1913.287760235031,
          1918.293409239762,
          1922.398598600203,
          1922.8245307760183,
          1925.1782493403339,
          1921.0964673307844,
          1918.3609233104798,
          1909.7858944164345,
          1894.924971677758,
          1879.976577412294,
          1866.638764689886,
          1850.5563195145767,
          1811.0872970077135,
          1774.4955609740189,
          1765.6597868035578,
          1748.3153107491848,
          1727.217794275759,
          1737.610658071707,
          1760.9086881028195,
          1753.4906352261487,
          1752.6487496025532,
          1756.8908589822358,
          1762.1936440894124,
          1764.423092248835,
          1762.1546194727116,
          1757.5061273212075,
          1756.0920043048122,
          1748.6690918988756,
          1743.7818150917606,
          1745.1183711181166,
          1750.5610809916384,
          1751.0883584648168,
          1751.9066141636613,
          1748.2812940443232,
          1739.4771253619124,
          1727.6021422354888,
          1710.5575102655189,
          1706.121947106279,
          1706.2337533750394,
          1707.1190779968827,
          1708.0861243208092,
          1711.8657623160739,
          1712.679269772582,
          1711.9603562063658,
          1712.066264267849,
          1716.1332080200978,
          1724.7579450761004,
          1733.8058692303175,
          1746.2399207961862,
          1757.8220338191381,
          1764.8309959420299,
          1773.3731210005112,
          1781.4140097273767,
          1789.4069337875176,
          1798.225643962083,
          1807.894771758192,
          1819.334177841555,
          1830.780372427633,
          1841.4365040037378,
          1852.9862696257744,
          1864.7994514105408,
          1876.6101848828525,
          1888.4401709940116,
          1900.0565232956849,
          1910.3835052292181,
          1921.2212941703262,
          1931.5430456181612,
          1946.1379184034367,
          1963.7986348165298,
          1982.1568977053262,
          1999.5129105047504,
          2018.6708070794787,
          2036.0153202294946,
          2053.070932509867,
          2069.444059145696,
          2084.829254610448,
          2099.241950691715,
          2114.1699794490337,
          2130.803369117916,
          2147.4214011904924,
          2165.1799017191966,
          2180.743156271556,
          2194.4494771140257,
          2207.365809137809,
          2221.408735847144,
          2233.3179211566453,
          2243.8561998741397,
          2253.758436692442,
          2261.588733452568,
          2268.7179967465245,
          2275.6154864614455,
          2282.4113341138564,
          2291.3071661307417,
          2303.412809966904,
          2314.2235190884385,
          2326.3399206611434,
          2339.008008640287,
          2352.6907366536484,
          2365.8870665926947,
          2378.609833549991,
          2391.5402619182096,
          2404.03867442512,
          2418.200158810287,
          2440.4723830185626,
          2465.5732984073475,
          2490.9341058727528,
          2517.3154886752973,
          2546.7583007241115,
          2570.9732979607606,
          2588.7793551041136,
          2601.300321762121,
          2611.3662987497355,
          2616.853337916943,
          2618.997020949168,
          2613.1178066415046,
          2601.809570752679,
          2582.4803664974147,
          2552.6763912659026,
          2487.05968850898,
          2403.3633111440813,
          2323.451505494999,
          2249.1022657427848,
          2175.0823611113583,
          2098.1137979891464,
          2023.4967276926554,
          1976.7116282324203,
          1941.7990635861538,
          1914.331371966629,
          1892.1951403865141,
          1877.3604813632596,
          1867.3927336389752,
          1860.106370295848,
          1855.2433540394195,
          1852.1612996155015,
          1848.4749571630146,
          1843.6087506812664,
          1837.9819351302872,
          1830.3836716187002,
          1820.578439907501,
          1808.4940889705654,
          1794.9680158586552,
          1780.1044593293077,
          1764.6509336896866,
          1747.5314798072782,
          1728.1852115561178,
          1707.4225945499675,
          1684.1824337223275,
          1659.0260603468816,
          1633.0914574716599,
          1606.0689877624409,
          1579.7351986701885,
          1557.2507873825139,
          1534.3918955762142,
          1511.1363215088031,
          1487.5020380194362,
          1463.455872329136,
          1438.7148866929108,
          1413.1667833247277,
          1386.7068875932414,
          1358.9044263411922,
          1329.8721703240653,
          1300.0479176865608,
          1269.0147922267722,
          1237.0437637077866,
          1203.6888080260128,
          1169.8450059574689,
          1135.3809554598472,
          1100.5439175432412,
          1064.7963299673806,
          1026.2783655622025,
          987.4894545787142,
          946.1396829589935,
          900.014144035772,
          850.5350847713173,
          811.2080643868211,
          760.9105268496625,
          705.2100830641913,
          636.800746092,
          559.3058699833344,
          473.22795232168096,
          395.7350051864644,
          343.5329031334809,
          314.5022978724786,
          297.2505980218781,
          296.69668587684487,
          310.02188608054735,
          316.2853370610112,
          312.8049496198572,
          306.84902152194945,
          301.54159945936647,
          293.82845074062925,
          287.2151878443026,
          284.39985109536383,
          291.494096102091,
          300.67348721599205,
          311.67249382267164,
          322.19059251023725,
          333.24012338302566,
          349.735072111293,
          363.40162642419693,
          371.064028302966,
          377.0416202565327,
          374.29876839450765,
          380.5666708521617,
          398.34282890705356,
          421.2151864318537,
          439.7532148078475,
          454.27066898565727,
          473.24330991798706,
          496.9882311633519,
          525.6755533417037,
          551.2968464140222,
          576.5913268692939,
          604.5044629729842,
          634.2928580343307,
          665.7936621794587,
          699.9809328088693,
          736.592181150914,
          772.735393762053,
          806.9823512814555,
          840.97869063505,
          873.7559187688232,
          908.287919210971,
          941.4241218844902,
          974.4540455400934,
          1007.0773638500154,
          1037.747930403529,
          1068.4062553947692,
          1097.7180456316187,
          1125.6004294470536,
          1152.563583222713,
          1178.748442581221,
          1203.2576268166774,
          1226.2085158182413,
          1247.3984375390073,
          1266.9944058388048,
          1285.8960178882187,
          1304.2373187941384,
          1321.590382489924,
          1337.9811851997622,
          1353.3924403538983,
          1367.2526802941297,
          1379.8148833965668,
          1390.8770175141499,
          1401.089434190456,
          1410.321102339609,
          1419.502032922705,
          1428.7147730198892,
          1439.0622410224082,
          1450.2419961508315,
          1461.118865352105,
          1472.2692314571623,
          1485.375919774291,
          1505.2378360144705,
          1529.2215419154459,
          1552.4595882914207,
          1574.215255667417,
          1590.479432399016,
          1608.9320666042447,
          1640.656705860753,
          1647.2772765988002,
          1715.6335297054982,
          1758.2073833612362,
          1756.9351511802784,
          1760.0356050432492,
          1767.5414262118531,
          1783.996793888771,
          1783.0769332230605,
          1757.070995425866,
          1716.6097386533079,
          1671.452247636381,
          1641.7262474469837,
          1601.4334790860748,
          1561.9983619971433,
          1525.24270031592,
          1490.8842147450814,
          1458.4069883521952,
          1430.8174560924103,
          1403.753225962801,
          1376.3669731910795,
          1353.474885421025,
          1328.2909870782864,
          1300.1349487025843,
          1270.9083022409081,
          1238.6492445998954,
          1207.436154263827,
          1176.6327482118295,
          1148.0029706500718,
          1114.7258416278398,
          1074.3747960113826,
          1032.3341922273867,
          991.7615372381442,
          950.4283844666003,
          910.807677874481,
          871.807692680891,
          831.7219180093261,
          793.8284958539323,
          755.909514800338,
          718.6001264522977,
          686.0736277712623,
          661.0616677349949,
          638.4414122017329,
          606.4940507031419,
          572.9246451077303,
          540.0072325381093,
          506.0705058832201,
          472.30108057939583,
          449.1405640978171,
          436.12815435801224,
          430.04684298591394,
          432.9599638504641,
          446.3829481697778,
          461.8752758522403,
          480.3595897368057,
          494.97082170075555,
          500.51981059219304,
          509.5665476858262,
          519.1740225228509,
          533.0162618021947,
          545.6703276281888,
          551.5812958064756,
          564.1968563547746,
          588.0292491269267,
          613.9308368796545,
          624.1939401155084,
          653.219722942888,
          673.4102138431687,
          699.0392228092835,
          726.8433719131007,
          754.1596391168723,
          781.8505723174854,
          811.2824782471839,
          841.8371951068224,
          875.4140569265276,
          910.746803923905,
          944.7271550552581,
          977.3693550475953,
          1007.7183765654036,
          1034.629188388435,
          1062.8725870039946,
          1091.786303893111,
          1120.5750455601128,
          1150.317108163038,
          1180.4961667173782,
          1209.0860386409079,
          1232.8199610280485,
          1255.4292362509082,
          1278.306267826758,
          1300.5645533470815,
          1321.1388450463544,
          1340.1095384574135,
          1358.133833906971,
          1373.8029826099475,
          1388.537877537632,
          1403.4926847124232,
          1418.2950612521379,
          1432.2185585380241,
          1445.6527642894216,
          1457.4786142363582,
          1468.4524699969134,
          1479.1336318583024,
          1489.1781304684744,
          1502.6440715426736,
          1522.227418049855,
          1544.5768753873801,
          1565.746134834855,
          1586.0391209974398,
          1607.818603776404,
          1631.814625430939,
          1656.5656176169311,
          1679.3029840959384,
          1704.6182752070745,
          1733.277553079128,
          1751.899677278373,
          1778.5467019822422,
          1817.1094779244686,
          1855.961228927625,
          1884.7319792076496,
          1905.0633222653566,
          1925.3602034704832,
          1950.9291174945301,
          1963.6976604755987,
          1978.0823864418544,
          1982.2002996079307,
          1968.5255842535112,
          1978.3289982781912,
          2000.4756166384163,
          1981.1426286275403,
          1933.5606034633304,
          1906.8478823752625,
          1873.2621917924635,
          1832.1963131305474,
          1794.634526025823,
          1758.6323139546835,
          1724.3288226749655,
          1690.0681397675598,
          1655.2311389465972,
          1620.2876365338589,
          1584.8257596023225,
          1548.4043667624396,
          1517.0987598921015,
          1485.297258462776,
          1452.4715834189162,
          1421.048170059522,
          1393.7836512780864,
          1362.413025019039,
          1326.7247719245595,
          1288.437607337782,
          1244.746303072554,
          1194.0903845259413,
          1150.8843005483552,
          1106.6143227962234,
          1064.2852261946598,
          1028.0517598834895,
          992.2668540905179,
          956.4471154885331,
          921.4495647235772,
          888.9295206844677,
          859.2688830184798,
          832.4245836837985,
          802.8299020715119,
          775.8428216059551,
          752.0869571458311,
          729.377078538473,
          704.6033467231676,
          681.843982527712,
          668.1338779296307,
          663.2132892348757,
          664.5170527125972,
          669.5645085072728,
          677.4494842455516
         ]
        }
       ],
       "layout": {
        "template": {
         "data": {
          "bar": [
           {
            "error_x": {
             "color": "#2a3f5f"
            },
            "error_y": {
             "color": "#2a3f5f"
            },
            "marker": {
             "line": {
              "color": "#E5ECF6",
              "width": 0.5
             },
             "pattern": {
              "fillmode": "overlay",
              "size": 10,
              "solidity": 0.2
             }
            },
            "type": "bar"
           }
          ],
          "barpolar": [
           {
            "marker": {
             "line": {
              "color": "#E5ECF6",
              "width": 0.5
             },
             "pattern": {
              "fillmode": "overlay",
              "size": 10,
              "solidity": 0.2
             }
            },
            "type": "barpolar"
           }
          ],
          "carpet": [
           {
            "aaxis": {
             "endlinecolor": "#2a3f5f",
             "gridcolor": "white",
             "linecolor": "white",
             "minorgridcolor": "white",
             "startlinecolor": "#2a3f5f"
            },
            "baxis": {
             "endlinecolor": "#2a3f5f",
             "gridcolor": "white",
             "linecolor": "white",
             "minorgridcolor": "white",
             "startlinecolor": "#2a3f5f"
            },
            "type": "carpet"
           }
          ],
          "choropleth": [
           {
            "colorbar": {
             "outlinewidth": 0,
             "ticks": ""
            },
            "type": "choropleth"
           }
          ],
          "contour": [
           {
            "colorbar": {
             "outlinewidth": 0,
             "ticks": ""
            },
            "colorscale": [
             [
              0,
              "#0d0887"
             ],
             [
              0.1111111111111111,
              "#46039f"
             ],
             [
              0.2222222222222222,
              "#7201a8"
             ],
             [
              0.3333333333333333,
              "#9c179e"
             ],
             [
              0.4444444444444444,
              "#bd3786"
             ],
             [
              0.5555555555555556,
              "#d8576b"
             ],
             [
              0.6666666666666666,
              "#ed7953"
             ],
             [
              0.7777777777777778,
              "#fb9f3a"
             ],
             [
              0.8888888888888888,
              "#fdca26"
             ],
             [
              1,
              "#f0f921"
             ]
            ],
            "type": "contour"
           }
          ],
          "contourcarpet": [
           {
            "colorbar": {
             "outlinewidth": 0,
             "ticks": ""
            },
            "type": "contourcarpet"
           }
          ],
          "heatmap": [
           {
            "colorbar": {
             "outlinewidth": 0,
             "ticks": ""
            },
            "colorscale": [
             [
              0,
              "#0d0887"
             ],
             [
              0.1111111111111111,
              "#46039f"
             ],
             [
              0.2222222222222222,
              "#7201a8"
             ],
             [
              0.3333333333333333,
              "#9c179e"
             ],
             [
              0.4444444444444444,
              "#bd3786"
             ],
             [
              0.5555555555555556,
              "#d8576b"
             ],
             [
              0.6666666666666666,
              "#ed7953"
             ],
             [
              0.7777777777777778,
              "#fb9f3a"
             ],
             [
              0.8888888888888888,
              "#fdca26"
             ],
             [
              1,
              "#f0f921"
             ]
            ],
            "type": "heatmap"
           }
          ],
          "heatmapgl": [
           {
            "colorbar": {
             "outlinewidth": 0,
             "ticks": ""
            },
            "colorscale": [
             [
              0,
              "#0d0887"
             ],
             [
              0.1111111111111111,
              "#46039f"
             ],
             [
              0.2222222222222222,
              "#7201a8"
             ],
             [
              0.3333333333333333,
              "#9c179e"
             ],
             [
              0.4444444444444444,
              "#bd3786"
             ],
             [
              0.5555555555555556,
              "#d8576b"
             ],
             [
              0.6666666666666666,
              "#ed7953"
             ],
             [
              0.7777777777777778,
              "#fb9f3a"
             ],
             [
              0.8888888888888888,
              "#fdca26"
             ],
             [
              1,
              "#f0f921"
             ]
            ],
            "type": "heatmapgl"
           }
          ],
          "histogram": [
           {
            "marker": {
             "pattern": {
              "fillmode": "overlay",
              "size": 10,
              "solidity": 0.2
             }
            },
            "type": "histogram"
           }
          ],
          "histogram2d": [
           {
            "colorbar": {
             "outlinewidth": 0,
             "ticks": ""
            },
            "colorscale": [
             [
              0,
              "#0d0887"
             ],
             [
              0.1111111111111111,
              "#46039f"
             ],
             [
              0.2222222222222222,
              "#7201a8"
             ],
             [
              0.3333333333333333,
              "#9c179e"
             ],
             [
              0.4444444444444444,
              "#bd3786"
             ],
             [
              0.5555555555555556,
              "#d8576b"
             ],
             [
              0.6666666666666666,
              "#ed7953"
             ],
             [
              0.7777777777777778,
              "#fb9f3a"
             ],
             [
              0.8888888888888888,
              "#fdca26"
             ],
             [
              1,
              "#f0f921"
             ]
            ],
            "type": "histogram2d"
           }
          ],
          "histogram2dcontour": [
           {
            "colorbar": {
             "outlinewidth": 0,
             "ticks": ""
            },
            "colorscale": [
             [
              0,
              "#0d0887"
             ],
             [
              0.1111111111111111,
              "#46039f"
             ],
             [
              0.2222222222222222,
              "#7201a8"
             ],
             [
              0.3333333333333333,
              "#9c179e"
             ],
             [
              0.4444444444444444,
              "#bd3786"
             ],
             [
              0.5555555555555556,
              "#d8576b"
             ],
             [
              0.6666666666666666,
              "#ed7953"
             ],
             [
              0.7777777777777778,
              "#fb9f3a"
             ],
             [
              0.8888888888888888,
              "#fdca26"
             ],
             [
              1,
              "#f0f921"
             ]
            ],
            "type": "histogram2dcontour"
           }
          ],
          "mesh3d": [
           {
            "colorbar": {
             "outlinewidth": 0,
             "ticks": ""
            },
            "type": "mesh3d"
           }
          ],
          "parcoords": [
           {
            "line": {
             "colorbar": {
              "outlinewidth": 0,
              "ticks": ""
             }
            },
            "type": "parcoords"
           }
          ],
          "pie": [
           {
            "automargin": true,
            "type": "pie"
           }
          ],
          "scatter": [
           {
            "fillpattern": {
             "fillmode": "overlay",
             "size": 10,
             "solidity": 0.2
            },
            "type": "scatter"
           }
          ],
          "scatter3d": [
           {
            "line": {
             "colorbar": {
              "outlinewidth": 0,
              "ticks": ""
             }
            },
            "marker": {
             "colorbar": {
              "outlinewidth": 0,
              "ticks": ""
             }
            },
            "type": "scatter3d"
           }
          ],
          "scattercarpet": [
           {
            "marker": {
             "colorbar": {
              "outlinewidth": 0,
              "ticks": ""
             }
            },
            "type": "scattercarpet"
           }
          ],
          "scattergeo": [
           {
            "marker": {
             "colorbar": {
              "outlinewidth": 0,
              "ticks": ""
             }
            },
            "type": "scattergeo"
           }
          ],
          "scattergl": [
           {
            "marker": {
             "colorbar": {
              "outlinewidth": 0,
              "ticks": ""
             }
            },
            "type": "scattergl"
           }
          ],
          "scattermapbox": [
           {
            "marker": {
             "colorbar": {
              "outlinewidth": 0,
              "ticks": ""
             }
            },
            "type": "scattermapbox"
           }
          ],
          "scatterpolar": [
           {
            "marker": {
             "colorbar": {
              "outlinewidth": 0,
              "ticks": ""
             }
            },
            "type": "scatterpolar"
           }
          ],
          "scatterpolargl": [
           {
            "marker": {
             "colorbar": {
              "outlinewidth": 0,
              "ticks": ""
             }
            },
            "type": "scatterpolargl"
           }
          ],
          "scatterternary": [
           {
            "marker": {
             "colorbar": {
              "outlinewidth": 0,
              "ticks": ""
             }
            },
            "type": "scatterternary"
           }
          ],
          "surface": [
           {
            "colorbar": {
             "outlinewidth": 0,
             "ticks": ""
            },
            "colorscale": [
             [
              0,
              "#0d0887"
             ],
             [
              0.1111111111111111,
              "#46039f"
             ],
             [
              0.2222222222222222,
              "#7201a8"
             ],
             [
              0.3333333333333333,
              "#9c179e"
             ],
             [
              0.4444444444444444,
              "#bd3786"
             ],
             [
              0.5555555555555556,
              "#d8576b"
             ],
             [
              0.6666666666666666,
              "#ed7953"
             ],
             [
              0.7777777777777778,
              "#fb9f3a"
             ],
             [
              0.8888888888888888,
              "#fdca26"
             ],
             [
              1,
              "#f0f921"
             ]
            ],
            "type": "surface"
           }
          ],
          "table": [
           {
            "cells": {
             "fill": {
              "color": "#EBF0F8"
             },
             "line": {
              "color": "white"
             }
            },
            "header": {
             "fill": {
              "color": "#C8D4E3"
             },
             "line": {
              "color": "white"
             }
            },
            "type": "table"
           }
          ]
         },
         "layout": {
          "annotationdefaults": {
           "arrowcolor": "#2a3f5f",
           "arrowhead": 0,
           "arrowwidth": 1
          },
          "autotypenumbers": "strict",
          "coloraxis": {
           "colorbar": {
            "outlinewidth": 0,
            "ticks": ""
           }
          },
          "colorscale": {
           "diverging": [
            [
             0,
             "#8e0152"
            ],
            [
             0.1,
             "#c51b7d"
            ],
            [
             0.2,
             "#de77ae"
            ],
            [
             0.3,
             "#f1b6da"
            ],
            [
             0.4,
             "#fde0ef"
            ],
            [
             0.5,
             "#f7f7f7"
            ],
            [
             0.6,
             "#e6f5d0"
            ],
            [
             0.7,
             "#b8e186"
            ],
            [
             0.8,
             "#7fbc41"
            ],
            [
             0.9,
             "#4d9221"
            ],
            [
             1,
             "#276419"
            ]
           ],
           "sequential": [
            [
             0,
             "#0d0887"
            ],
            [
             0.1111111111111111,
             "#46039f"
            ],
            [
             0.2222222222222222,
             "#7201a8"
            ],
            [
             0.3333333333333333,
             "#9c179e"
            ],
            [
             0.4444444444444444,
             "#bd3786"
            ],
            [
             0.5555555555555556,
             "#d8576b"
            ],
            [
             0.6666666666666666,
             "#ed7953"
            ],
            [
             0.7777777777777778,
             "#fb9f3a"
            ],
            [
             0.8888888888888888,
             "#fdca26"
            ],
            [
             1,
             "#f0f921"
            ]
           ],
           "sequentialminus": [
            [
             0,
             "#0d0887"
            ],
            [
             0.1111111111111111,
             "#46039f"
            ],
            [
             0.2222222222222222,
             "#7201a8"
            ],
            [
             0.3333333333333333,
             "#9c179e"
            ],
            [
             0.4444444444444444,
             "#bd3786"
            ],
            [
             0.5555555555555556,
             "#d8576b"
            ],
            [
             0.6666666666666666,
             "#ed7953"
            ],
            [
             0.7777777777777778,
             "#fb9f3a"
            ],
            [
             0.8888888888888888,
             "#fdca26"
            ],
            [
             1,
             "#f0f921"
            ]
           ]
          },
          "colorway": [
           "#636efa",
           "#EF553B",
           "#00cc96",
           "#ab63fa",
           "#FFA15A",
           "#19d3f3",
           "#FF6692",
           "#B6E880",
           "#FF97FF",
           "#FECB52"
          ],
          "font": {
           "color": "#2a3f5f"
          },
          "geo": {
           "bgcolor": "white",
           "lakecolor": "white",
           "landcolor": "#E5ECF6",
           "showlakes": true,
           "showland": true,
           "subunitcolor": "white"
          },
          "hoverlabel": {
           "align": "left"
          },
          "hovermode": "closest",
          "mapbox": {
           "style": "light"
          },
          "paper_bgcolor": "white",
          "plot_bgcolor": "#E5ECF6",
          "polar": {
           "angularaxis": {
            "gridcolor": "white",
            "linecolor": "white",
            "ticks": ""
           },
           "bgcolor": "#E5ECF6",
           "radialaxis": {
            "gridcolor": "white",
            "linecolor": "white",
            "ticks": ""
           }
          },
          "scene": {
           "xaxis": {
            "backgroundcolor": "#E5ECF6",
            "gridcolor": "white",
            "gridwidth": 2,
            "linecolor": "white",
            "showbackground": true,
            "ticks": "",
            "zerolinecolor": "white"
           },
           "yaxis": {
            "backgroundcolor": "#E5ECF6",
            "gridcolor": "white",
            "gridwidth": 2,
            "linecolor": "white",
            "showbackground": true,
            "ticks": "",
            "zerolinecolor": "white"
           },
           "zaxis": {
            "backgroundcolor": "#E5ECF6",
            "gridcolor": "white",
            "gridwidth": 2,
            "linecolor": "white",
            "showbackground": true,
            "ticks": "",
            "zerolinecolor": "white"
           }
          },
          "shapedefaults": {
           "line": {
            "color": "#2a3f5f"
           }
          },
          "ternary": {
           "aaxis": {
            "gridcolor": "white",
            "linecolor": "white",
            "ticks": ""
           },
           "baxis": {
            "gridcolor": "white",
            "linecolor": "white",
            "ticks": ""
           },
           "bgcolor": "#E5ECF6",
           "caxis": {
            "gridcolor": "white",
            "linecolor": "white",
            "ticks": ""
           }
          },
          "title": {
           "x": 0.05
          },
          "xaxis": {
           "automargin": true,
           "gridcolor": "white",
           "linecolor": "white",
           "ticks": "",
           "title": {
            "standoff": 15
           },
           "zerolinecolor": "white",
           "zerolinewidth": 2
          },
          "yaxis": {
           "automargin": true,
           "gridcolor": "white",
           "linecolor": "white",
           "ticks": "",
           "title": {
            "standoff": 15
           },
           "zerolinecolor": "white",
           "zerolinewidth": 2
          }
         }
        },
        "title": {
         "text": "TSMixer Prediction vs. Ground Truth for ALT"
        },
        "xaxis": {
         "title": {
          "text": "Time Step"
         }
        },
        "yaxis": {
         "title": {
          "text": "Value"
         }
        }
       }
      }
     },
     "metadata": {},
     "output_type": "display_data"
    },
    {
     "data": {
      "application/vnd.plotly.v1+json": {
       "config": {
        "plotlyServerURL": "https://plot.ly"
       },
       "data": [
        {
         "line": {
          "color": "blue"
         },
         "mode": "lines",
         "name": "GT",
         "type": "scatter",
         "y": [
          2002.465,
          2059.541,
          2119.765,
          2182.958,
          2248.933,
          2317.492,
          2388.429,
          2461.529,
          2536.565,
          2613.307,
          2691.514,
          2770.94,
          2851.332,
          2932.434,
          3013.984,
          3095.717,
          3177.366,
          3258.664,
          3339.343,
          3419.134,
          3497.771,
          3574.99,
          3650.533,
          3724.141,
          3795.567,
          3864.565,
          3930.901,
          3994.344,
          4054.677,
          4111.688,
          4165.179,
          4214.959,
          4260.854,
          4302.696,
          4340.333,
          4373.626,
          4402.447,
          4426.684,
          4446.235,
          4461.015,
          4470.951,
          4475.984,
          4476.069,
          4471.175,
          4461.281,
          4446.383,
          4426.486,
          4401.612,
          4371.791,
          4337.066,
          4297.494,
          4253.138,
          4204.076,
          4150.392,
          4092.184,
          4029.556,
          3962.623,
          3891.506,
          3816.338,
          3737.256,
          3654.406,
          3567.943,
          3478.026,
          3384.822,
          3288.506,
          3189.258,
          3087.265,
          2982.719,
          2875.821,
          2766.776,
          2655.478,
          2541.876,
          2426.008,
          2307.971,
          2187.916,
          2066.027,
          1942.518,
          1817.625,
          1691.602,
          1564.717,
          1437.25,
          1309.492,
          1181.742,
          1054.304,
          927.493,
          801.624,
          677.0182,
          554.0005,
          432.8973,
          314.0357,
          197.7437,
          84.3478,
          -25.82732,
          -132.4605,
          -235.2351,
          -333.8401,
          -427.9716,
          -517.3342,
          -601.6417,
          -680.619,
          -754.0037,
          -821.5464,
          -883.013,
          -938.1852,
          -986.8623,
          -1028.862,
          -1064.022,
          -1092.2,
          -1113.277,
          -1127.154,
          -1133.76,
          -1133.044,
          -1124.983,
          -1109.578,
          -1086.858,
          -1056.875,
          -1019.713,
          -975.4778,
          -924.3048,
          -866.3545,
          -801.8144,
          -730.8969,
          -653.8398,
          -570.9042,
          -482.3749,
          -388.5584,
          -289.7813,
          -186.39,
          -78.74783,
          32.76517,
          147.7555,
          265.8171,
          386.5333,
          509.4798,
          634.2258,
          760.3359,
          887.373,
          1014.9,
          1142.481,
          1269.687,
          1396.09,
          1521.276,
          1644.835,
          1766.373,
          1885.506,
          2001.866,
          2115.101,
          2224.875,
          2330.872,
          2432.792,
          2530.358,
          2623.312,
          2711.418,
          2794.459,
          2872.242,
          2944.596,
          3011.368,
          3072.43,
          3127.674,
          3177.011,
          3220.376,
          3257.72,
          3289.015,
          3314.251,
          3333.436,
          3346.595,
          3353.766,
          3355.009,
          3350.39,
          3339.996,
          3323.923,
          3302.279,
          3275.185,
          3242.769,
          3205.173,
          3162.544,
          3115.042,
          3062.829,
          3006.079,
          2944.97,
          2879.687,
          2810.421,
          2737.369,
          2660.731,
          2580.712,
          2497.526,
          2411.385,
          2322.51,
          2231.125,
          2137.455,
          2041.733,
          1944.193,
          1845.073,
          1744.616,
          1643.066,
          1540.671,
          1437.684,
          1334.357,
          1230.947,
          1127.712,
          1024.913,
          922.811,
          821.6684,
          721.7482,
          623.3127,
          526.6238,
          431.9419,
          339.525,
          249.6286,
          162.504,
          78.39827,
          -2.447035,
          -79.79633,
          -153.4212,
          -223.1013,
          -288.6252,
          -349.7912,
          -406.4081,
          -458.2964,
          -505.289,
          -547.2319,
          -583.9855,
          -615.4247,
          -641.4403,
          -661.9388,
          -676.8442,
          -686.0975,
          -689.6581,
          -687.5034,
          -679.6301,
          -666.0538,
          -646.8093,
          -621.9507,
          -591.552,
          -555.7067,
          -514.527,
          -468.1448,
          -416.7098,
          -360.3908,
          -299.3737,
          -233.8616,
          -164.0734,
          -90.24374,
          -12.62163,
          68.53033,
          152.9379,
          240.315,
          330.3656,
          422.7854,
          517.263,
          613.4806,
          711.1164,
          809.845,
          909.3395,
          1009.273,
          1109.32,
          1209.156,
          1308.462,
          1406.924,
          1504.234,
          1600.09,
          1694.202,
          1786.288,
          1876.077,
          1963.308,
          2047.735,
          2129.125,
          2207.256,
          2281.924,
          2352.937,
          2420.119,
          2483.31,
          2542.364,
          2597.151,
          2647.56,
          2693.489,
          2734.857,
          2771.595,
          2803.651,
          2830.987,
          2853.578,
          2871.414,
          2884.498,
          2892.846,
          2896.487,
          2895.461,
          2889.821,
          2879.628,
          2864.955,
          2845.887,
          2822.514,
          2794.939,
          2763.27,
          2727.625,
          2688.127,
          2644.91,
          2598.11,
          2547.871,
          2494.345,
          2437.686,
          2378.055,
          2315.617,
          2250.543,
          2183.005,
          2113.184,
          2041.26,
          1967.42,
          1891.851,
          1814.746,
          1736.301,
          1656.711,
          1576.178,
          1494.904,
          1413.093,
          1330.949,
          1248.68,
          1166.495,
          1084.601,
          1003.208,
          922.5253,
          842.7603,
          764.1208,
          686.8184,
          610.7333,
          535.1987,
          459.179,
          381.3476,
          300.1581,
          213.9185,
          120.8652,
          19.23698,
          -92.65285,
          -216.3477,
          -353.1834,
          -504.2303,
          -670.2394,
          -851.5953,
          -1048.268,
          -1259.363,
          -1484.15,
          -1722.357,
          -1973.337,
          -2236.426,
          -2510.931,
          -2796.134,
          -3091.28,
          -3395.578,
          -3708.203,
          -4028.294,
          -4354.963,
          -4687.297,
          -5024.365,
          -5365.23,
          -5708.948,
          -6054.572,
          -6401.164,
          -6747.786,
          -7093.503,
          -7437.381,
          -7778.488,
          -8115.883,
          -8448.616,
          -8775.726,
          -9096.234,
          -9409.144,
          -9713.429,
          -10008.05,
          -10291.95,
          -10564.03,
          -10823.2,
          -11068.34,
          -11298.33,
          -11512.05,
          -11708.38,
          -11886.23,
          -12044.54,
          -12182.29,
          -12298.5,
          -12392.14,
          -12462.22,
          -12507.84,
          -12527.85,
          -12520.79,
          -12484.95,
          -12418.39,
          -12318.98,
          -12184.49,
          -12012.6,
          -11801.02,
          -11547.56,
          -11250.25,
          -10907.47,
          -10518.11,
          -10081.72,
          -9598.403,
          -9069.248,
          -8496.416,
          -7882.525,
          -7230.582,
          -6543.954,
          -5826.34,
          -5081.728,
          -4314.357,
          -3528.662,
          -2729.228,
          -1920.733,
          -1107.894,
          -295.4069,
          512.1049,
          1310.143,
          2094.383,
          2860.724,
          3605.323,
          4324.633,
          5015.428,
          5674.828,
          6300.31,
          6889.726,
          7441.293,
          7953.599,
          8425.595,
          8856.575,
          9246.169,
          9594.313,
          9901.234,
          10167.42,
          10393.59,
          10580.69,
          10729.82,
          10842.26,
          10919.42,
          10962.78,
          10973.95,
          10954.55,
          10906.27,
          10830.8,
          10729.85,
          10605.09,
          10458.18,
          10290.75,
          10104.37,
          9900.542,
          9680.732,
          9446.326,
          9198.636,
          8938.906,
          8668.303,
          8387.917,
          8098.761,
          7801.771,
          7497.812,
          7187.672,
          6872.066,
          6551.641,
          6226.972,
          5898.569,
          5566.87,
          5232.249,
          4895.003,
          4555.361,
          4213.463,
          3869.351,
          3522.942,
          3173.995,
          2822.041,
          2466.294,
          2105.509,
          1737.811,
          1360.546,
          970.3834,
          563.9966,
          139.4479,
          -302.5872,
          -759.1066,
          -1226.39,
          -1701.208,
          -2180.947,
          -2663.306,
          -3146.121,
          -3627.337,
          -4105.024,
          -4577.383,
          -5042.727,
          -5499.458,
          -5946.043,
          -6380.973,
          -6802.754,
          -7209.882,
          -7600.834,
          -7974.055,
          -8327.956,
          -8660.917,
          -8971.282,
          -9257.372,
          -9517.488,
          -9749.926,
          -9952.991,
          -10125.01,
          -10264.34,
          -10369.43,
          -10438.79,
          -10471.04,
          -10464.93,
          -10419.36,
          -10333.43,
          -10206.41,
          -10037.81,
          -9827.391,
          -9575.172,
          -9281.446,
          -8946.805,
          -8572.141,
          -8158.65,
          -7707.843,
          -7221.527,
          -6701.81,
          -6151.079,
          -5571.987,
          -4967.427,
          -4340.508,
          -3694.524,
          -3032.917,
          -2359.245,
          -1677.144,
          -990.2864,
          -302.3419,
          383.0593,
          1062.365,
          1732.137,
          2389.085,
          3030.097,
          3652.26,
          4252.892,
          4829.554,
          5380.065,
          5902.51,
          6395.249,
          6856.918,
          7286.426,
          7682.942,
          8045.9,
          8374.977,
          8670.078,
          8931.328,
          9159.047,
          9353.737,
          9516.06,
          9646.814,
          9746.932,
          9817.438,
          9859.448,
          9874.146,
          9862.763,
          9826.57,
          9766.861,
          9684.938,
          9582.099,
          9459.63,
          9318.794,
          9160.826,
          8986.923,
          8798.238,
          8595.88,
          8380.9,
          8154.299,
          7917.021,
          7669.946,
          7413.898,
          7149.638,
          6877.863,
          6599.208,
          6314.242,
          6023.473,
          5727.336,
          5426.204,
          5120.371,
          4810.062,
          4495.414,
          4176.482,
          3853.219,
          3525.476,
          3192.985,
          2855.362,
          2512.104,
          2162.611,
          1806.237,
          1442.359,
          1070.492,
          690.4138,
          302.2597,
          -93.4235,
          -495.7065,
          -903.3592,
          -1314.953,
          -1728.953,
          -2143.779,
          -2557.841,
          -2969.568,
          -3377.415,
          -3779.869,
          -4175.455,
          -4562.733,
          -4940.293,
          -5306.751,
          -5660.745,
          -6000.926,
          -6325.955,
          -6634.502,
          -6925.24,
          -7196.85,
          -7448.019,
          -7677.446,
          -7883.847,
          -8065.965,
          -8222.571,
          -8352.486,
          -8454.584,
          -8527.807,
          -8571.18,
          -8583.824,
          -8564.973,
          -8513.982,
          -8430.354,
          -8313.742,
          -8163.969,
          -7981.036,
          -7765.134,
          -7516.656,
          -7236.198,
          -6924.569,
          -6582.791,
          -6212.089,
          -5813.904,
          -5389.876,
          -4941.833,
          -4471.781,
          -3981.891,
          -3474.481,
          -2951.99,
          -2416.965,
          -1872.03
         ]
        },
        {
         "line": {
          "color": "red"
         },
         "mode": "lines",
         "name": "pred_beginning",
         "type": "scatter",
         "y": [
          2002.465,
          2059.541,
          2119.765,
          2182.958,
          2248.933,
          2317.492,
          2388.429,
          2461.5290000000005,
          2362.1479941417065,
          2404.9456999759677,
          2441.561189856605,
          2483.329651749141,
          2527.510615139574,
          2572.0793536608153,
          2614.229802995642,
          2656.6641706061764,
          2704.096528791588,
          2761.349308241659,
          2816.1998754178685,
          2871.8796897436287,
          2926.1334819258236,
          2976.1230338221194,
          3027.629603187038,
          3067.3849140895263,
          3103.984005519358,
          3143.485301203489,
          3183.8322424879752,
          3227.3186832560623,
          3264.3791820762017,
          3304.8968601720153,
          3356.86451538899,
          3403.787556984682,
          3444.956350038943,
          3475.459397766441,
          3497.3625834303994,
          3506.7717572719203,
          3515.4089177725855,
          3531.582613340448,
          3537.876081528948,
          3536.269676426524,
          3533.1124923391135,
          3530.1961404017657,
          3509.8746013948976,
          3477.8670761905705,
          3437.050689059499,
          3439.879904130802,
          3444.3888350257766,
          3439.1554784511063,
          3412.444331318662,
          3365.6460465643922,
          3300.227803227999,
          3242.653807065094,
          3223.5473611090783,
          3311.878098679588,
          3362.127775021012,
          3368.6987307202,
          3356.139446632792,
          3369.5225117194814,
          3449.56656548301,
          3548.1997101565576,
          3520.8821418825664,
          3374.48577616324,
          3351.880672497162,
          3306.681719003792,
          3220.8975643818812,
          3250.9366324130615,
          3175.850698481275,
          3000.1946734514004,
          2816.9021149582404,
          2753.2082812624203,
          2622.509412961099,
          2495.458074580094,
          2370.4308194896744,
          2279.07794389721,
          2194.211137905647,
          2194.013391881229,
          2203.00488753459,
          1866.8093152731337,
          1568.433152488942,
          1379.6014545443284,
          1172.5072681682366,
          1069.0642327966984,
          793.3179321239191,
          524.1034800605394,
          262.62564024109565,
          -96.14416801433521,
          -297.18628104392883,
          -498.8256513749143,
          -610.0156685989862,
          -780.8671083120123,
          -883.2331513115389,
          -915.9302152953196,
          -943.3532481156669,
          -1069.8976010592721,
          -1071.4699231070813,
          -1029.349376829606,
          -998.0219854108877,
          -988.5702077510975,
          -1023.4500341523737,
          -1119.527030114352,
          -1121.7453225085924,
          -1072.9380667615387,
          -1091.0596410544783,
          -978.2033322287175,
          -995.5115755155359,
          -998.0660361512864,
          -963.9723707739149,
          -926.2302108614738,
          -882.2777003984377,
          -1121.0623752632864,
          -1131.024273358424,
          -1011.6288411203329,
          -985.019460844358,
          -1026.9928229873988,
          -904.786342589191,
          -589.1287045775837,
          -568.8518593876164,
          -462.41771443535333,
          -416.68573090624614,
          41.55764262650712,
          191.19414930202336,
          -0.5624213435915522,
          458.0186879296458,
          333.3230593529393,
          -75.71491369335325,
          301.58566647180527,
          624.4336634310355,
          942.4651781581271,
          1388.6589459237246,
          1863.3484383075727,
          2373.6896096644277,
          2754.927224752724,
          3183.5248519199376,
          3581.811389695551,
          3919.972203747643,
          4199.86610670574,
          4409.3190173072335,
          4583.838726157772,
          4682.095028001046,
          4760.895371809375,
          4819.678351796363,
          4854.453678266036,
          4860.796020268702,
          4818.533354084247,
          4745.8284109017495,
          4661.843905871166,
          4560.0281755883725,
          4427.068893381918,
          4305.896881922016,
          4149.16177527728,
          3985.740923777719,
          3850.0865079506657,
          3739.9988846204415,
          3634.6610243352543,
          3593.578081994033,
          3567.28171920549,
          3536.6101854344242,
          3500.489542922208,
          3460.2747538589174,
          3434.2189016821867,
          3423.770837751408,
          3417.7284909370046,
          3394.159415594171,
          3363.253801976314,
          3330.7739370811423,
          3291.844336407442,
          3246.757278225449,
          3200.6641268558105,
          3155.2066566085678,
          3108.2286319719406,
          3057.7580588520204,
          3006.8878136860003,
          2942.391742053722,
          2880.0412951709377,
          2821.6332287847154,
          2760.977610023404,
          2699.3660580416154,
          2629.7025451761374,
          2554.9519756402333,
          2471.652990160964,
          2391.0295244689787,
          2311.2086182517032,
          2215.531053182136,
          2106.1942216681964,
          1958.8707004018654,
          1796.812849548657,
          1598.8226168292433,
          1457.3191790612518,
          1299.7674456433215,
          1140.8031143038086,
          993.6016971883272,
          881.7228244535855,
          756.2637836842387,
          614.3890094285246,
          621.9230525742768,
          549.5816887691947,
          551.3274003189018,
          487.10793196711927,
          427.4207864180782,
          369.12144015300447,
          336.7193473223135,
          227.96389715861847,
          35.0706084108528,
          -60.73525042089756,
          -160.97833711763082,
          -338.89340951507063,
          -430.71484672392967,
          -396.3432115284945,
          -354.5467758081137,
          -264.73382728466163,
          -187.85797029364323,
          -207.64037003800343,
          -218.8034546546345,
          -200.7944187495748,
          -215.61459904949197,
          -244.92200679032703,
          -277.72212378358074,
          -335.09917776769646,
          -410.0115614284599,
          -392.155577730917,
          -326.1047882700758,
          -342.66577666137107,
          -338.0947084993737,
          -222.34744925810128,
          253.56883213048297,
          431.7825733709001,
          777.2321772677285,
          921.5755212538718,
          917.5611965736294,
          936.8176803160576,
          974.8220546722591,
          1049.949748384406,
          1091.2302759809197,
          1123.7180989478063,
          1131.684611041269,
          1118.22035754618,
          1117.3542942668805,
          1116.4350967915893,
          1113.6633566826677,
          1088.220436797069,
          1079.4454167712515,
          1131.1307614037737,
          1112.0691700337848,
          1103.4095822401073,
          1139.2623833891685,
          1135.6579395944977,
          1190.1441235476645,
          1305.3488673747927,
          1334.7598104324775,
          1373.7308091560053,
          1429.925245452628,
          1489.9086885000445,
          1555.8088372902519,
          1606.3545699763633,
          1581.3431544237217,
          1552.8308303932588,
          1526.6605909837042,
          1515.8599603606096,
          1522.9235930450234,
          1550.1934128887283,
          1578.738131897988,
          1620.626688327305,
          1686.691303932943,
          1742.710019575347,
          1790.3047545775567,
          1829.2324260217506,
          1840.0020282036155,
          1833.972703688382,
          1837.816532710986,
          1839.0155488492846,
          1831.8571427653633,
          1829.8430271605625,
          1819.8972059779792,
          1805.15933947034,
          1776.5747497179455,
          1746.0913158237643,
          1746.2668757088572,
          1769.8494556582366,
          1819.5750246503912,
          1821.8920292877149,
          1783.869488020327,
          1729.873247977252,
          1678.2653940632417,
          1632.0070524171072,
          1602.4180575528837,
          1586.0651847946037,
          1568.9506683040645,
          1556.7779535790244,
          1531.2289260705672,
          1505.3395503233362,
          1490.7761987014737,
          1474.1627995752515,
          1446.6537552727386,
          1427.0785869312033,
          1399.5623080180412,
          1378.9176230688317,
          1359.5209888412116,
          1349.1288725661213,
          1347.292889152422,
          1343.8016268221331,
          1340.5729808584188,
          1330.1315888463496,
          1320.9185533379907,
          1318.563607187039,
          1346.2696740529045,
          1340.0884227140327,
          1257.69545164176,
          1219.5753235151678,
          1179.105715387892,
          1130.47369798768,
          1076.2179765759788,
          1032.737323496411,
          980.4538373323068,
          931.8144647446012,
          912.2408639020397,
          910.4950317754884,
          897.2239423847394,
          877.7418995591746,
          838.3359399664905,
          802.4571344113725,
          757.9938202442054,
          697.8602188335318,
          624.216464342427,
          563.52268300994,
          480.0927711740567,
          297.6023702327927,
          89.92744558295874,
          -42.436187013358506,
          -264.0106073734071,
          -741.9854168377235,
          -1438.2688630303735,
          -2282.8337733239023,
          -3027.797387269864,
          -3776.3368281061503,
          -4413.342045020578,
          -4877.909834798498,
          -5166.641538125937,
          -5380.459330485919,
          -5554.74592410442,
          -5712.16076261195,
          -5832.908665118671,
          -5917.23528684841,
          -5995.844315397343,
          -6083.732294796107,
          -6182.690836179754,
          -6299.153919952506,
          -6440.895697949114,
          -6597.803792172934,
          -6764.426843115058,
          -6953.703549999174,
          -7163.0030868549,
          -7379.286434524208,
          -7617.925693715002,
          -7870.584663729637,
          -8138.040824059236,
          -8412.611339732359,
          -8691.014591358422,
          -8970.373454666711,
          -9245.76646518611,
          -9513.555096067332,
          -9778.481393437389,
          -10031.74935689958,
          -10275.683708009254,
          -10507.38159943561,
          -10730.781231677947,
          -10938.183692852268,
          -11127.369082873076,
          -11305.786799941525,
          -11471.525620693163,
          -11623.87558866959,
          -11763.65984179359,
          -11890.969696928467,
          -12008.6411214488,
          -12111.415035719829,
          -12196.82331212622,
          -12267.116718425576,
          -12324.025130408732,
          -12365.795521530776,
          -12390.314742405568,
          -12404.525446950553,
          -12417.518164600424,
          -12415.389581378236,
          -12399.104312037247,
          -12354.245867551777,
          -12265.357261115634,
          -12123.193624933601,
          -11927.596762186144,
          -11631.863884979564,
          -11178.902661451084,
          -10604.868138705786,
          -9736.840260692281,
          -8653.992677128412,
          -7370.177255870949,
          -6006.934812753791,
          -4695.632372564016,
          -3584.7672319535423,
          -2689.4195348982894,
          -1968.6799697126223,
          -1265.9153573774004,
          -606.3882348193627,
          -30.68082893822759,
          526.7656962026849,
          1094.4936480757515,
          1672.08269580224,
          2221.211347925816,
          2820.051582127625,
          3475.8175913781497,
          4137.252641533568,
          4787.842528018115,
          5399.279023206207,
          5863.046504277176,
          6303.948757236936,
          6843.9053699791675,
          7266.7410316869245,
          7616.466612015816,
          7863.024072177848,
          8203.603175416356,
          8402.069445516501,
          8552.17764880636,
          8646.511827062892,
          8723.050149274832,
          8789.485739637661,
          8834.559614751357,
          8849.60503259616,
          8840.594887724237,
          8822.207401297648,
          8780.8794468091,
          8727.858432281568,
          8690.219164609474,
          8661.2929404653,
          8610.882816536585,
          8572.967025968557,
          8529.943921820284,
          8488.322081370245,
          8459.757266220291,
          8418.328991797403,
          8375.797841173293,
          8370.526543084992,
          8377.90584594741,
          8378.613230099798,
          8351.05354352274,
          8319.852114713884,
          8310.182816427236,
          8314.09336463694,
          8318.483647917263,
          8322.801263552843,
          8314.01619545668,
          8291.594047055467,
          8253.269902908562,
          8189.586679975027,
          8114.293996947792,
          8027.084463258819,
          7924.78449636989,
          7787.4535801016755,
          7636.032214594382,
          7482.607022706323,
          7334.05249224571,
          7188.93134723019,
          7048.028140992413,
          6907.495989896389,
          6751.194959890619,
          6572.773384363157,
          6370.799131943665,
          6150.803946703824,
          5907.1101062059615,
          5604.605311893267,
          5219.561326988618,
          4673.876831841546,
          4312.958504992361,
          3639.8291086449553,
          3152.087092496534,
          2073.33108317773,
          1396.9499704970951,
          369.9263307800348,
          138.70045750627187,
          -38.713658295976416,
          -162.67268293172697,
          -462.71240424247344,
          -1464.116679958652,
          -2711.7998833268593,
          -3894.860007453609,
          -4849.280068921827,
          -5557.331091643149,
          -6114.307367091848,
          -6579.667748658696,
          -6973.698084604688,
          -7314.320917045343,
          -7604.26031804386,
          -7856.315439222955,
          -8079.242410236196,
          -8271.933853346844,
          -8435.591678537454,
          -8563.336896464301,
          -8667.534582111139,
          -8727.949690260637,
          -8773.43963587124,
          -8769.68406909856,
          -8730.554793170933,
          -8637.586509405015,
          -8457.58875337073,
          -8194.825765353979,
          -7890.49881377238,
          -7571.156668941581,
          -7247.395945464363,
          -6914.7028893719835,
          -6533.475563507722,
          -6103.555127975542,
          -5645.478230872289,
          -5252.681315657461,
          -4819.787937455742,
          -4326.482023410534,
          -3754.4175655296376,
          -3171.0188842979696,
          -2546.423114645944,
          -1893.0233053851582,
          -1268.5185310581903,
          -586.417494044429,
          109.35197325386059,
          772.0899767872403,
          1408.6848305087194,
          2033.1378371772626,
          2607.807719506707,
          3092.7658574772286,
          3602.446106958977,
          4169.614501890592,
          4677.659407827318,
          5230.233824618655,
          5804.102755164645,
          6260.085152100326,
          6722.95682760377,
          7148.70755509587,
          7439.535044743885,
          7659.4369838909115,
          7853.528404546785,
          7736.722560998375,
          8081.82313512365,
          8222.967495049741,
          8257.891693729667,
          8296.002336477854,
          8288.187670823465,
          8249.288616283618,
          8203.505427788024,
          8132.659618773306,
          8010.31945884721,
          7841.45271398901,
          7702.034371394747,
          7603.356211366047,
          7550.9525502806,
          7522.17230450242,
          7430.149986271195,
          7343.982879592241,
          7263.571950684223,
          7188.84260267289,
          7103.218252561769,
          7031.319084236493,
          7058.48134953521,
          7085.175455140346,
          7077.704192338118,
          7081.362654558971,
          7111.086936642339,
          7131.676960088864,
          7150.450935493256,
          7162.095121718075,
          7154.3138960418,
          7136.006794177984,
          7089.187609437393,
          7002.130484879434,
          6899.13599536816,
          6768.79853606106,
          6620.506380813333,
          6471.675970533289,
          6318.204477137073,
          6162.358102218338,
          6008.597224396145,
          5844.875091555317,
          5641.888958259659,
          5452.242803925045,
          5281.090565178129,
          5117.286761621525,
          4935.389036061575,
          4650.47592100403,
          4401.535219324951,
          4111.690029034003,
          3842.3760206896304,
          3381.818777517501,
          2906.0418427684817,
          2319.077945408775,
          1919.309759372158,
          1326.0808499591717,
          792.5294399476942,
          481.5425871482022,
          246.327509370063,
          -108.84428585571868,
          -490.0835890198331,
          -858.175032327927,
          -1145.1652041029226,
          -1706.4790305587685,
          -2552.936836536438,
          -3231.469683193339,
          -3857.037141440145,
          -4431.936923619115,
          -4939.398237630122,
          -5366.19074905574,
          -5756.872585654925,
          -6101.77766452354,
          -6406.850584847657,
          -6667.201392904763,
          -6881.717566346104,
          -7062.2471466476845,
          -7201.412760176595,
          -7297.699318693718,
          -7366.556735163724,
          -7406.503361325609,
          -7414.141180941899,
          -7401.670641411791,
          -7367.090488660527,
          -7280.941388123633,
          -7166.503995332721,
          -6973.0865188511225,
          -6709.8888111189035,
          -6416.064584970769,
          -6112.583278989527,
          -5795.525341894441,
          -5489.125754746345,
          -5168.408712353904,
          -4802.762487060754,
          -4428.633439627461,
          -4047.854981161715,
          -3575.73972401606,
          -2962.6894283457686,
          -2373.4959847530345,
          -1697.117765916659,
          -1052.715883074256,
          -382.2020396303076,
          288.2284852143281,
          910.7843760091841,
          1552.1641208296326,
          2196.047121319346,
          2796.4066237575344,
          3293.4539568923765,
          3833.587094134453
         ]
        }
       ],
       "layout": {
        "template": {
         "data": {
          "bar": [
           {
            "error_x": {
             "color": "#2a3f5f"
            },
            "error_y": {
             "color": "#2a3f5f"
            },
            "marker": {
             "line": {
              "color": "#E5ECF6",
              "width": 0.5
             },
             "pattern": {
              "fillmode": "overlay",
              "size": 10,
              "solidity": 0.2
             }
            },
            "type": "bar"
           }
          ],
          "barpolar": [
           {
            "marker": {
             "line": {
              "color": "#E5ECF6",
              "width": 0.5
             },
             "pattern": {
              "fillmode": "overlay",
              "size": 10,
              "solidity": 0.2
             }
            },
            "type": "barpolar"
           }
          ],
          "carpet": [
           {
            "aaxis": {
             "endlinecolor": "#2a3f5f",
             "gridcolor": "white",
             "linecolor": "white",
             "minorgridcolor": "white",
             "startlinecolor": "#2a3f5f"
            },
            "baxis": {
             "endlinecolor": "#2a3f5f",
             "gridcolor": "white",
             "linecolor": "white",
             "minorgridcolor": "white",
             "startlinecolor": "#2a3f5f"
            },
            "type": "carpet"
           }
          ],
          "choropleth": [
           {
            "colorbar": {
             "outlinewidth": 0,
             "ticks": ""
            },
            "type": "choropleth"
           }
          ],
          "contour": [
           {
            "colorbar": {
             "outlinewidth": 0,
             "ticks": ""
            },
            "colorscale": [
             [
              0,
              "#0d0887"
             ],
             [
              0.1111111111111111,
              "#46039f"
             ],
             [
              0.2222222222222222,
              "#7201a8"
             ],
             [
              0.3333333333333333,
              "#9c179e"
             ],
             [
              0.4444444444444444,
              "#bd3786"
             ],
             [
              0.5555555555555556,
              "#d8576b"
             ],
             [
              0.6666666666666666,
              "#ed7953"
             ],
             [
              0.7777777777777778,
              "#fb9f3a"
             ],
             [
              0.8888888888888888,
              "#fdca26"
             ],
             [
              1,
              "#f0f921"
             ]
            ],
            "type": "contour"
           }
          ],
          "contourcarpet": [
           {
            "colorbar": {
             "outlinewidth": 0,
             "ticks": ""
            },
            "type": "contourcarpet"
           }
          ],
          "heatmap": [
           {
            "colorbar": {
             "outlinewidth": 0,
             "ticks": ""
            },
            "colorscale": [
             [
              0,
              "#0d0887"
             ],
             [
              0.1111111111111111,
              "#46039f"
             ],
             [
              0.2222222222222222,
              "#7201a8"
             ],
             [
              0.3333333333333333,
              "#9c179e"
             ],
             [
              0.4444444444444444,
              "#bd3786"
             ],
             [
              0.5555555555555556,
              "#d8576b"
             ],
             [
              0.6666666666666666,
              "#ed7953"
             ],
             [
              0.7777777777777778,
              "#fb9f3a"
             ],
             [
              0.8888888888888888,
              "#fdca26"
             ],
             [
              1,
              "#f0f921"
             ]
            ],
            "type": "heatmap"
           }
          ],
          "heatmapgl": [
           {
            "colorbar": {
             "outlinewidth": 0,
             "ticks": ""
            },
            "colorscale": [
             [
              0,
              "#0d0887"
             ],
             [
              0.1111111111111111,
              "#46039f"
             ],
             [
              0.2222222222222222,
              "#7201a8"
             ],
             [
              0.3333333333333333,
              "#9c179e"
             ],
             [
              0.4444444444444444,
              "#bd3786"
             ],
             [
              0.5555555555555556,
              "#d8576b"
             ],
             [
              0.6666666666666666,
              "#ed7953"
             ],
             [
              0.7777777777777778,
              "#fb9f3a"
             ],
             [
              0.8888888888888888,
              "#fdca26"
             ],
             [
              1,
              "#f0f921"
             ]
            ],
            "type": "heatmapgl"
           }
          ],
          "histogram": [
           {
            "marker": {
             "pattern": {
              "fillmode": "overlay",
              "size": 10,
              "solidity": 0.2
             }
            },
            "type": "histogram"
           }
          ],
          "histogram2d": [
           {
            "colorbar": {
             "outlinewidth": 0,
             "ticks": ""
            },
            "colorscale": [
             [
              0,
              "#0d0887"
             ],
             [
              0.1111111111111111,
              "#46039f"
             ],
             [
              0.2222222222222222,
              "#7201a8"
             ],
             [
              0.3333333333333333,
              "#9c179e"
             ],
             [
              0.4444444444444444,
              "#bd3786"
             ],
             [
              0.5555555555555556,
              "#d8576b"
             ],
             [
              0.6666666666666666,
              "#ed7953"
             ],
             [
              0.7777777777777778,
              "#fb9f3a"
             ],
             [
              0.8888888888888888,
              "#fdca26"
             ],
             [
              1,
              "#f0f921"
             ]
            ],
            "type": "histogram2d"
           }
          ],
          "histogram2dcontour": [
           {
            "colorbar": {
             "outlinewidth": 0,
             "ticks": ""
            },
            "colorscale": [
             [
              0,
              "#0d0887"
             ],
             [
              0.1111111111111111,
              "#46039f"
             ],
             [
              0.2222222222222222,
              "#7201a8"
             ],
             [
              0.3333333333333333,
              "#9c179e"
             ],
             [
              0.4444444444444444,
              "#bd3786"
             ],
             [
              0.5555555555555556,
              "#d8576b"
             ],
             [
              0.6666666666666666,
              "#ed7953"
             ],
             [
              0.7777777777777778,
              "#fb9f3a"
             ],
             [
              0.8888888888888888,
              "#fdca26"
             ],
             [
              1,
              "#f0f921"
             ]
            ],
            "type": "histogram2dcontour"
           }
          ],
          "mesh3d": [
           {
            "colorbar": {
             "outlinewidth": 0,
             "ticks": ""
            },
            "type": "mesh3d"
           }
          ],
          "parcoords": [
           {
            "line": {
             "colorbar": {
              "outlinewidth": 0,
              "ticks": ""
             }
            },
            "type": "parcoords"
           }
          ],
          "pie": [
           {
            "automargin": true,
            "type": "pie"
           }
          ],
          "scatter": [
           {
            "fillpattern": {
             "fillmode": "overlay",
             "size": 10,
             "solidity": 0.2
            },
            "type": "scatter"
           }
          ],
          "scatter3d": [
           {
            "line": {
             "colorbar": {
              "outlinewidth": 0,
              "ticks": ""
             }
            },
            "marker": {
             "colorbar": {
              "outlinewidth": 0,
              "ticks": ""
             }
            },
            "type": "scatter3d"
           }
          ],
          "scattercarpet": [
           {
            "marker": {
             "colorbar": {
              "outlinewidth": 0,
              "ticks": ""
             }
            },
            "type": "scattercarpet"
           }
          ],
          "scattergeo": [
           {
            "marker": {
             "colorbar": {
              "outlinewidth": 0,
              "ticks": ""
             }
            },
            "type": "scattergeo"
           }
          ],
          "scattergl": [
           {
            "marker": {
             "colorbar": {
              "outlinewidth": 0,
              "ticks": ""
             }
            },
            "type": "scattergl"
           }
          ],
          "scattermapbox": [
           {
            "marker": {
             "colorbar": {
              "outlinewidth": 0,
              "ticks": ""
             }
            },
            "type": "scattermapbox"
           }
          ],
          "scatterpolar": [
           {
            "marker": {
             "colorbar": {
              "outlinewidth": 0,
              "ticks": ""
             }
            },
            "type": "scatterpolar"
           }
          ],
          "scatterpolargl": [
           {
            "marker": {
             "colorbar": {
              "outlinewidth": 0,
              "ticks": ""
             }
            },
            "type": "scatterpolargl"
           }
          ],
          "scatterternary": [
           {
            "marker": {
             "colorbar": {
              "outlinewidth": 0,
              "ticks": ""
             }
            },
            "type": "scatterternary"
           }
          ],
          "surface": [
           {
            "colorbar": {
             "outlinewidth": 0,
             "ticks": ""
            },
            "colorscale": [
             [
              0,
              "#0d0887"
             ],
             [
              0.1111111111111111,
              "#46039f"
             ],
             [
              0.2222222222222222,
              "#7201a8"
             ],
             [
              0.3333333333333333,
              "#9c179e"
             ],
             [
              0.4444444444444444,
              "#bd3786"
             ],
             [
              0.5555555555555556,
              "#d8576b"
             ],
             [
              0.6666666666666666,
              "#ed7953"
             ],
             [
              0.7777777777777778,
              "#fb9f3a"
             ],
             [
              0.8888888888888888,
              "#fdca26"
             ],
             [
              1,
              "#f0f921"
             ]
            ],
            "type": "surface"
           }
          ],
          "table": [
           {
            "cells": {
             "fill": {
              "color": "#EBF0F8"
             },
             "line": {
              "color": "white"
             }
            },
            "header": {
             "fill": {
              "color": "#C8D4E3"
             },
             "line": {
              "color": "white"
             }
            },
            "type": "table"
           }
          ]
         },
         "layout": {
          "annotationdefaults": {
           "arrowcolor": "#2a3f5f",
           "arrowhead": 0,
           "arrowwidth": 1
          },
          "autotypenumbers": "strict",
          "coloraxis": {
           "colorbar": {
            "outlinewidth": 0,
            "ticks": ""
           }
          },
          "colorscale": {
           "diverging": [
            [
             0,
             "#8e0152"
            ],
            [
             0.1,
             "#c51b7d"
            ],
            [
             0.2,
             "#de77ae"
            ],
            [
             0.3,
             "#f1b6da"
            ],
            [
             0.4,
             "#fde0ef"
            ],
            [
             0.5,
             "#f7f7f7"
            ],
            [
             0.6,
             "#e6f5d0"
            ],
            [
             0.7,
             "#b8e186"
            ],
            [
             0.8,
             "#7fbc41"
            ],
            [
             0.9,
             "#4d9221"
            ],
            [
             1,
             "#276419"
            ]
           ],
           "sequential": [
            [
             0,
             "#0d0887"
            ],
            [
             0.1111111111111111,
             "#46039f"
            ],
            [
             0.2222222222222222,
             "#7201a8"
            ],
            [
             0.3333333333333333,
             "#9c179e"
            ],
            [
             0.4444444444444444,
             "#bd3786"
            ],
            [
             0.5555555555555556,
             "#d8576b"
            ],
            [
             0.6666666666666666,
             "#ed7953"
            ],
            [
             0.7777777777777778,
             "#fb9f3a"
            ],
            [
             0.8888888888888888,
             "#fdca26"
            ],
            [
             1,
             "#f0f921"
            ]
           ],
           "sequentialminus": [
            [
             0,
             "#0d0887"
            ],
            [
             0.1111111111111111,
             "#46039f"
            ],
            [
             0.2222222222222222,
             "#7201a8"
            ],
            [
             0.3333333333333333,
             "#9c179e"
            ],
            [
             0.4444444444444444,
             "#bd3786"
            ],
            [
             0.5555555555555556,
             "#d8576b"
            ],
            [
             0.6666666666666666,
             "#ed7953"
            ],
            [
             0.7777777777777778,
             "#fb9f3a"
            ],
            [
             0.8888888888888888,
             "#fdca26"
            ],
            [
             1,
             "#f0f921"
            ]
           ]
          },
          "colorway": [
           "#636efa",
           "#EF553B",
           "#00cc96",
           "#ab63fa",
           "#FFA15A",
           "#19d3f3",
           "#FF6692",
           "#B6E880",
           "#FF97FF",
           "#FECB52"
          ],
          "font": {
           "color": "#2a3f5f"
          },
          "geo": {
           "bgcolor": "white",
           "lakecolor": "white",
           "landcolor": "#E5ECF6",
           "showlakes": true,
           "showland": true,
           "subunitcolor": "white"
          },
          "hoverlabel": {
           "align": "left"
          },
          "hovermode": "closest",
          "mapbox": {
           "style": "light"
          },
          "paper_bgcolor": "white",
          "plot_bgcolor": "#E5ECF6",
          "polar": {
           "angularaxis": {
            "gridcolor": "white",
            "linecolor": "white",
            "ticks": ""
           },
           "bgcolor": "#E5ECF6",
           "radialaxis": {
            "gridcolor": "white",
            "linecolor": "white",
            "ticks": ""
           }
          },
          "scene": {
           "xaxis": {
            "backgroundcolor": "#E5ECF6",
            "gridcolor": "white",
            "gridwidth": 2,
            "linecolor": "white",
            "showbackground": true,
            "ticks": "",
            "zerolinecolor": "white"
           },
           "yaxis": {
            "backgroundcolor": "#E5ECF6",
            "gridcolor": "white",
            "gridwidth": 2,
            "linecolor": "white",
            "showbackground": true,
            "ticks": "",
            "zerolinecolor": "white"
           },
           "zaxis": {
            "backgroundcolor": "#E5ECF6",
            "gridcolor": "white",
            "gridwidth": 2,
            "linecolor": "white",
            "showbackground": true,
            "ticks": "",
            "zerolinecolor": "white"
           }
          },
          "shapedefaults": {
           "line": {
            "color": "#2a3f5f"
           }
          },
          "ternary": {
           "aaxis": {
            "gridcolor": "white",
            "linecolor": "white",
            "ticks": ""
           },
           "baxis": {
            "gridcolor": "white",
            "linecolor": "white",
            "ticks": ""
           },
           "bgcolor": "#E5ECF6",
           "caxis": {
            "gridcolor": "white",
            "linecolor": "white",
            "ticks": ""
           }
          },
          "title": {
           "x": 0.05
          },
          "xaxis": {
           "automargin": true,
           "gridcolor": "white",
           "linecolor": "white",
           "ticks": "",
           "title": {
            "standoff": 15
           },
           "zerolinecolor": "white",
           "zerolinewidth": 2
          },
          "yaxis": {
           "automargin": true,
           "gridcolor": "white",
           "linecolor": "white",
           "ticks": "",
           "title": {
            "standoff": 15
           },
           "zerolinecolor": "white",
           "zerolinewidth": 2
          }
         }
        },
        "title": {
         "text": "TSMixer Prediction vs. Ground Truth for HDOT"
        },
        "xaxis": {
         "title": {
          "text": "Time Step"
         }
        },
        "yaxis": {
         "title": {
          "text": "Value"
         }
        }
       }
      }
     },
     "metadata": {},
     "output_type": "display_data"
    },
    {
     "data": {
      "application/vnd.plotly.v1+json": {
       "config": {
        "plotlyServerURL": "https://plot.ly"
       },
       "data": [
        {
         "line": {
          "color": "blue"
         },
         "mode": "lines",
         "name": "GT",
         "type": "scatter",
         "y": [
          155,
          154.9458,
          154.8694,
          154.7701,
          154.6468,
          154.4989,
          154.3256,
          154.1262,
          153.9,
          153.6465,
          153.3652,
          153.0557,
          152.7175,
          152.3503,
          151.9539,
          151.5281,
          151.0727,
          150.5878,
          150.0732,
          149.5292,
          148.9558,
          148.3533,
          147.722,
          147.0621,
          146.3743,
          145.6588,
          144.9164,
          144.1475,
          143.353,
          142.5335,
          141.69,
          140.8232,
          139.9342,
          139.0239,
          138.0935,
          137.144,
          136.1767,
          135.1929,
          134.1938,
          133.1808,
          132.1553,
          131.1189,
          130.073,
          129.0193,
          127.9594,
          126.8949,
          125.8276,
          124.7592,
          123.6917,
          122.6268,
          121.5665,
          120.5126,
          119.4673,
          118.4324,
          117.4099,
          116.4021,
          115.4109,
          114.4383,
          113.4866,
          112.5579,
          111.6542,
          110.7775,
          109.9301,
          109.1139,
          108.331,
          107.5834,
          106.8728,
          106.2013,
          105.5705,
          104.9822,
          104.4387,
          103.9424,
          103.4952,
          103.0993,
          102.7561,
          102.4674,
          102.2345,
          102.0583,
          101.9397,
          101.8795,
          101.8781,
          101.9355,
          102.0517,
          102.2263,
          102.4589,
          102.7484,
          103.0938,
          103.4939,
          103.9471,
          104.4515,
          105.0053,
          105.6063,
          106.252,
          106.9402,
          107.668,
          108.4327,
          109.2315,
          110.0614,
          110.9193,
          111.8022,
          112.7069,
          113.6303,
          114.5692,
          115.5204,
          116.4809,
          117.4474,
          118.4168,
          119.3863,
          120.3527,
          121.3131,
          122.2648,
          123.205,
          124.131,
          125.0402,
          125.9303,
          126.7987,
          127.6432,
          128.4617,
          129.252,
          130.0124,
          130.741,
          131.4359,
          132.0958,
          132.7191,
          133.3044,
          133.8506,
          134.3566,
          134.8214,
          135.244,
          135.6239,
          135.9603,
          136.2529,
          136.5011,
          136.7048,
          136.8638,
          136.978,
          137.0476,
          137.0728,
          137.0538,
          136.991,
          136.885,
          136.7363,
          136.5456,
          136.3138,
          136.0416,
          135.7302,
          135.3804,
          134.9935,
          134.5707,
          134.1132,
          133.6224,
          133.0997,
          132.5467,
          131.9648,
          131.3556,
          130.7209,
          130.0623,
          129.3816,
          128.6806,
          127.9611,
          127.2251,
          126.4745,
          125.7113,
          124.9373,
          124.1547,
          123.3656,
          122.5719,
          121.7759,
          120.9795,
          120.185,
          119.3944,
          118.61,
          117.8339,
          117.0682,
          116.3151,
          115.5767,
          114.8552,
          114.1526,
          113.471,
          112.8125,
          112.1791,
          111.5728,
          110.9954,
          110.4488,
          109.9348,
          109.4551,
          109.0113,
          108.605,
          108.2375,
          107.9101,
          107.6241,
          107.3804,
          107.1801,
          107.0237,
          106.9121,
          106.8455,
          106.8243,
          106.8487,
          106.9185,
          107.0336,
          107.1935,
          107.3976,
          107.6453,
          107.9357,
          108.2676,
          108.6398,
          109.0511,
          109.4998,
          109.9843,
          110.5029,
          111.0537,
          111.6348,
          112.2439,
          112.8791,
          113.5381,
          114.2186,
          114.9183,
          115.6348,
          116.3658,
          117.1089,
          117.8617,
          118.6218,
          119.3868,
          120.1544,
          120.9222,
          121.6879,
          122.4493,
          123.2042,
          123.9505,
          124.686,
          125.4087,
          126.1168,
          126.8082,
          127.4812,
          128.1342,
          128.7654,
          129.3733,
          129.9564,
          130.5134,
          131.043,
          131.5439,
          132.0152,
          132.4557,
          132.8646,
          133.2411,
          133.5845,
          133.894,
          134.1693,
          134.4099,
          134.6153,
          134.7855,
          134.9202,
          135.0194,
          135.083,
          135.1113,
          135.1044,
          135.0626,
          134.9863,
          134.8759,
          134.732,
          134.5551,
          134.3459,
          134.1052,
          133.8338,
          133.5327,
          133.2026,
          132.8448,
          132.4601,
          132.0499,
          131.6152,
          131.1573,
          130.6774,
          130.177,
          129.6574,
          129.12,
          128.5662,
          127.9977,
          127.4158,
          126.8221,
          126.2183,
          125.6059,
          124.9867,
          124.3621,
          123.7339,
          123.1039,
          122.4736,
          121.8448,
          121.2192,
          120.5984,
          119.9843,
          119.3785,
          118.7827,
          118.1985,
          117.6277,
          117.0718,
          116.5324,
          116.0112,
          115.5097,
          115.0293,
          114.5715,
          114.1377,
          113.7292,
          113.3474,
          112.9933,
          112.6681,
          112.3728,
          112.1085,
          111.8759,
          111.6758,
          111.5089,
          111.3758,
          111.2768,
          111.2123,
          111.1825,
          111.1875,
          111.2273,
          111.3017,
          111.4105,
          111.5533,
          111.7295,
          111.9386,
          112.1798,
          112.4046,
          112.5399,
          112.5365,
          112.3553,
          111.9673,
          111.3535,
          110.5046,
          109.4213,
          108.1139,
          106.602,
          104.9141,
          103.0872,
          101.1658,
          99.20127,
          97.25024,
          95.37375,
          93.63137,
          92.062,
          90.67863,
          89.49379,
          88.51921,
          87.76552,
          87.24181,
          86.95529,
          86.91101,
          87.11154,
          87.55683,
          88.24416,
          89.16819,
          90.32109,
          91.69283,
          93.27144,
          95.04342,
          96.99407,
          99.10786,
          101.3688,
          103.7605,
          106.2669,
          108.8719,
          111.5599,
          114.3158,
          117.1249,
          119.9734,
          122.8478,
          125.7355,
          128.6243,
          131.5029,
          134.3604,
          137.1864,
          139.9713,
          142.7059,
          145.3814,
          147.9896,
          150.5228,
          152.9738,
          155.3355,
          157.5081,
          159.4316,
          161.1671,
          162.7723,
          164.3014,
          165.8048,
          167.3282,
          168.9116,
          170.5878,
          172.381,
          174.3053,
          176.3628,
          178.5423,
          180.818,
          183.1493,
          185.4796,
          187.6993,
          189.7318,
          191.5739,
          193.223,
          194.677,
          195.9343,
          196.9938,
          197.8549,
          198.5176,
          198.9826,
          199.251,
          199.3243,
          199.205,
          198.8955,
          198.3993,
          197.7201,
          196.8619,
          195.8294,
          194.6276,
          193.2617,
          191.7373,
          190.0604,
          188.237,
          186.2734,
          184.176,
          181.9514,
          179.606,
          177.1466,
          174.5797,
          171.9119,
          169.1496,
          166.2993,
          163.3672,
          160.3593,
          157.2818,
          154.1402,
          150.9402,
          147.6872,
          144.3863,
          141.0425,
          137.6603,
          134.2444,
          130.799,
          127.3281,
          123.8355,
          120.3248,
          116.7995,
          113.2627,
          109.7176,
          106.1669,
          102.6133,
          99.05958,
          95.50809,
          91.9613,
          88.42155,
          84.8912,
          81.37267,
          77.86842,
          74.3811,
          70.91363,
          67.46925,
          64.05175,
          60.6656,
          57.31626,
          54.01047,
          50.7568,
          47.56626,
          44.45325,
          41.43687,
          38.54264,
          35.80494,
          33.27014,
          31.00009,
          29.07528,
          27.59519,
          26.67169,
          26.41148,
          26.8889,
          28.12158,
          30.06544,
          32.63215,
          35.71542,
          39.21169,
          43.03067,
          47.0981,
          51.35464,
          55.75331,
          60.25685,
          64.83549,
          69.4651,
          74.12587,
          78.8012,
          83.47699,
          88.141,
          92.78246,
          97.39169,
          101.9599,
          106.479,
          110.9413,
          115.3397,
          119.6672,
          123.9174,
          128.0837,
          132.16,
          136.1401,
          140.0182,
          143.7885,
          147.4452,
          150.9828,
          154.3959,
          157.6792,
          160.8276,
          163.8363,
          166.7004,
          169.4156,
          171.9776,
          174.3825,
          176.6266,
          178.7066,
          180.6196,
          182.3629,
          183.9343,
          185.332,
          186.5546,
          187.6012,
          188.4714,
          189.1649,
          189.6823,
          190.0244,
          190.1924,
          190.1882,
          190.0139,
          189.6721,
          189.1658,
          188.4984,
          187.6734,
          186.6951,
          185.5676,
          184.2956,
          182.884,
          181.3377,
          179.662,
          177.8623,
          175.944,
          173.9127,
          171.774,
          169.5336,
          167.197,
          164.77,
          162.2581,
          159.6669,
          157.0017,
          154.2679,
          151.4708,
          148.6154,
          145.7067,
          142.7495,
          139.7486,
          136.7085,
          133.6334,
          130.5278,
          127.3958,
          124.2412,
          121.068,
          117.88,
          114.6807,
          111.4737,
          108.2627,
          105.0511,
          101.8423,
          98.63999,
          95.44775,
          92.26936,
          89.10876,
          85.97018,
          82.85822,
          79.77789,
          76.73483,
          73.73538,
          70.7868,
          67.89748,
          65.07718,
          62.33736,
          59.69151,
          57.15555,
          54.74823,
          52.49156,
          50.41109,
          48.53613,
          46.89948,
          45.53672,
          44.48483,
          43.7798,
          43.45371,
          43.5313,
          44.02697,
          44.9429,
          46.26873,
          47.98302,
          50.0559,
          52.45214,
          55.13416,
          58.0644,
          61.20689,
          64.52831,
          67.99836,
          71.58987,
          75.27866,
          79.04327,
          82.8647,
          86.72604,
          90.61219,
          94.50964,
          98.40615,
          102.2906,
          106.1529,
          109.9837,
          113.7741,
          117.5163,
          121.2024,
          124.8255,
          128.3785,
          131.8551,
          135.249,
          138.5544,
          141.7655,
          144.877,
          147.8836,
          150.7804,
          153.5628,
          156.2261,
          158.7662,
          161.1791,
          163.461,
          165.6085,
          167.6185,
          169.488,
          171.2146,
          172.7959,
          174.23,
          175.5155,
          176.651,
          177.6358,
          178.4693,
          179.1513,
          179.6822,
          180.0624
         ]
        },
        {
         "line": {
          "color": "red"
         },
         "mode": "lines",
         "name": "pred_beginning",
         "type": "scatter",
         "y": [
          155,
          154.9458,
          154.8694,
          154.7701,
          154.6468,
          154.4989,
          154.3256,
          154.1262,
          154.88240745146626,
          154.67333031016577,
          154.30787007311267,
          153.91322783602283,
          153.4637882877528,
          152.98454635174153,
          152.5690206107735,
          152.21400536810393,
          151.8477950455684,
          151.49301109726952,
          150.983566872035,
          150.28083620996432,
          149.46677297530894,
          148.5705008041055,
          147.648699786944,
          146.77353160584124,
          145.91570185601958,
          145.02086068363278,
          144.06558683161427,
          143.07206294325127,
          141.97491917683178,
          140.89590499813883,
          139.70752316819696,
          138.446175530015,
          137.15284658142238,
          135.73654684630444,
          134.0714954196138,
          132.25472947676903,
          130.29333862255683,
          128.39932360235545,
          126.38643300296725,
          124.32914712439349,
          122.2197794818652,
          120.07283920367846,
          117.92674682471501,
          115.82830378814494,
          113.70685831024959,
          112.08142955471997,
          110.41913204418096,
          108.76320269453885,
          107.04639320793113,
          105.06381568128484,
          103.38832358346991,
          102.33420489325279,
          101.2499638941088,
          100.32312411827428,
          100.020189018337,
          99.80234214561807,
          100.1138805314921,
          99.94172402431221,
          98.15443676517124,
          97.53389774661156,
          97.01071204180417,
          96.28833000474577,
          95.00052185823418,
          96.42059147543095,
          99.58468981956602,
          100.79438964094217,
          99.30137799343126,
          99.16348980081307,
          99.95496832906964,
          98.3307198233193,
          99.11217487497063,
          100.12200609728012,
          100.52808551675476,
          100.94782211224661,
          101.42364651180914,
          102.34378523578337,
          103.86873279948267,
          104.46662010112493,
          104.34714683134476,
          104.44638940939572,
          103.98828604955924,
          103.30450639447541,
          104.0317780377622,
          102.71836538825536,
          103.31944325523497,
          102.78611734582222,
          102.30183016624903,
          102.1648887674098,
          102.37645394441714,
          102.81772685593612,
          102.96892852545997,
          102.71194318661765,
          102.57639387726167,
          103.93830268757033,
          105.24567574388435,
          106.48321303166594,
          107.74184998628893,
          109.17378695016731,
          110.96113689656761,
          112.84356179908771,
          114.58928956691705,
          117.01888615705255,
          118.94556934548027,
          120.85086104706622,
          122.49543265421254,
          124.28644359059894,
          125.43804799438335,
          125.36327614458543,
          126.2542801541711,
          128.78567112613857,
          129.651904211156,
          129.72973746892072,
          130.6895507431672,
          132.0773650633974,
          132.58472115440705,
          131.09555126316025,
          132.48257658857463,
          134.06344334923327,
          135.34647213262772,
          136.32257760941323,
          138.3085661876194,
          139.6229991263127,
          141.75228213284754,
          141.5926890170909,
          143.9582338191827,
          144.12822869673025,
          145.54628367510966,
          147.379617968679,
          149.72299525889105,
          150.87997077190445,
          150.30599109399603,
          148.69887566471172,
          146.70178927997307,
          144.4747725128706,
          141.77520621509865,
          138.9759823063863,
          136.55735436541278,
          134.51817024358402,
          132.7379671851557,
          131.1483236677823,
          129.64583489555574,
          128.10285258563002,
          126.48572259646274,
          124.55828013562665,
          122.69181508508962,
          121.25733928720803,
          120.28439357253762,
          119.47868990007795,
          118.79176669510127,
          118.0931706901099,
          117.43432651365009,
          117.0611892489577,
          116.61381405698657,
          115.96032531794093,
          115.59137188740195,
          115.3127507975694,
          115.0220008038697,
          114.82555838777031,
          114.64841229899154,
          114.52174512579491,
          114.39412899718965,
          114.17391514002328,
          114.08134118938813,
          114.03931694770554,
          113.87576156483279,
          113.69045370296966,
          113.42010300811049,
          113.0750615245646,
          112.62973771911459,
          112.19158187752545,
          111.78327381789984,
          111.33451734459365,
          110.88473625884171,
          110.44025116568905,
          110.01304181655814,
          109.55898502739342,
          109.13443880596958,
          108.77623732122193,
          108.39251996029398,
          108.02853179302053,
          107.67866987539449,
          107.30908092574361,
          106.99170397823258,
          106.73470783124209,
          106.5091331325875,
          106.12891761166395,
          105.9825666390351,
          106.05557351823819,
          106.18191428536036,
          106.52355768712418,
          106.283740010822,
          106.81039729281895,
          107.35713611410046,
          108.35637751284104,
          107.96708963235051,
          107.42628016115054,
          107.34810482549648,
          108.33531675533301,
          109.52917615476326,
          109.30951351315315,
          108.77169789899399,
          108.13885920782621,
          108.14321272990577,
          108.60229098470646,
          108.50707984591982,
          107.95499315292787,
          108.79485111398613,
          109.79804397169465,
          110.11817915861656,
          110.47498639225134,
          110.85190975124479,
          110.60782285641872,
          110.44323205295206,
          110.03899218029456,
          109.35455755143212,
          108.43314778923407,
          107.695794305342,
          107.71691775010936,
          108.96239470353058,
          111.01607255204425,
          113.51855226808638,
          118.22260366842114,
          123.76089954786265,
          127.82564709300296,
          129.3034754539762,
          132.2340972623356,
          133.23199412744486,
          133.99732558366847,
          133.91283720867312,
          134.70803265908253,
          134.7185814116884,
          134.43477241073822,
          134.02098461999458,
          133.47969526701624,
          132.75327638661943,
          132.95188151316597,
          132.98751165439606,
          133.87004234602662,
          134.37649487584997,
          134.41734535264217,
          134.01162044042724,
          133.66149264235642,
          133.2596824414057,
          133.05170665040288,
          132.4901639085842,
          132.05871506333685,
          131.98411722472432,
          131.4378917904805,
          130.41744588586135,
          129.6580243250526,
          129.09166060874634,
          128.1602497968505,
          127.32306685246228,
          126.39499873058915,
          125.3407452087237,
          124.3326165399534,
          123.24107923018913,
          122.95171943454675,
          122.5960435438208,
          122.26040136632379,
          122.06156170296214,
          121.82810462185314,
          121.694187883277,
          121.54379628445787,
          121.36329480608228,
          121.22725858965161,
          121.02466579684078,
          120.75287059297978,
          120.55730471769633,
          120.25488030275969,
          119.94157586547603,
          119.5623633407019,
          119.06769655604155,
          118.45636770093792,
          117.94577781199825,
          117.48989660742382,
          116.97366486514372,
          116.9913696926475,
          116.87114525657009,
          116.55979925573332,
          115.60795590994137,
          114.23603389076823,
          113.36639731989466,
          112.50730085510845,
          111.63400032200805,
          110.93187059297517,
          110.36427204574146,
          109.83833026315281,
          109.36331431307279,
          108.74308656918016,
          107.92939297319191,
          106.95824627478302,
          105.78183771137476,
          104.667050723896,
          103.67689033124094,
          102.73714562650125,
          101.83863184536908,
          100.83584537403144,
          99.86256947043469,
          98.85344293938536,
          97.78610804559602,
          96.25034584884607,
          94.80354335798599,
          92.91545714745874,
          92.54946298788647,
          93.6913070934734,
          93.19819830337057,
          92.52830063378573,
          91.82914314549734,
          91.20351132752383,
          90.61419056411458,
          90.40147323851322,
          90.24354025431421,
          89.95936377632651,
          89.62119411338188,
          89.3431264007352,
          89.18696595283473,
          89.200640421889,
          89.40628057207404,
          89.59738592461113,
          89.94049707289533,
          90.23139621903965,
          90.48074019713161,
          90.73736454382535,
          90.97529079419922,
          91.1511004554578,
          91.44699728931212,
          91.73596177693548,
          90.92754904213906,
          88.42258777527897,
          84.31937376062723,
          81.0650403491192,
          80.49322878573201,
          80.86281125049402,
          82.19558993987708,
          83.908564695517,
          84.3054615123134,
          83.97816916967878,
          83.40221160065676,
          82.68512555619762,
          81.95137767053232,
          81.25945731825306,
          80.69603720109868,
          80.27588989597669,
          80.12342151148826,
          80.31457441987727,
          80.83227607030739,
          81.57464453494651,
          82.55068083958378,
          83.76031148881168,
          85.20946367108212,
          86.93794163444528,
          88.94130971489557,
          91.21824067183869,
          93.78332982855231,
          96.4124961724578,
          99.1274727278788,
          101.93469250460123,
          104.6969093140077,
          107.42275454322018,
          110.17578010342987,
          112.90948934124486,
          115.60932530231347,
          118.2594951205417,
          120.87057402849847,
          123.43559914693424,
          125.94863491108227,
          128.3901739645291,
          130.71024888730437,
          132.8773258263313,
          134.91485630149128,
          136.87743334996424,
          138.7659432398994,
          140.58302856352236,
          142.26983895409228,
          143.8818396663457,
          145.43580278460007,
          146.92842966203642,
          148.41140918642355,
          150.27828764862778,
          152.1658312901173,
          154.18169142821296,
          156.64670577946714,
          158.83346651792627,
          161.06645586770293,
          165.25753580365057,
          170.99911376555193,
          177.29131499718412,
          183.57741610999383,
          189.17225832919178,
          193.265109491386,
          195.98459088296084,
          198.5532899611605,
          201.50935306947787,
          204.4136494713597,
          207.11198580187084,
          209.361740751076,
          211.54617125279145,
          213.39871378727392,
          214.8246370975151,
          215.9134153572574,
          216.1490935128136,
          215.71627473478674,
          214.86093518230157,
          214.04485082393995,
          212.82864017411114,
          211.19428388819992,
          209.4819100655978,
          207.49173224916416,
          204.69574213838177,
          200.67950345361743,
          197.5813348132691,
          194.83478549543796,
          191.15799615836056,
          186.1512944527926,
          181.31011737469248,
          176.03535630167562,
          171.2016627853627,
          166.272053439003,
          162.07316569682328,
          158.27557152611217,
          154.94058122813215,
          151.75211483315155,
          148.6863663140293,
          145.60609596703688,
          142.8292514099083,
          139.97763392216694,
          137.3181161365936,
          135.05592425129868,
          132.80495122379565,
          130.5774459283963,
          128.01909565206154,
          124.71150049702342,
          121.76775192251785,
          119.06523175785327,
          116.2791148904167,
          113.68523552903716,
          111.65595599418386,
          110.00875962825646,
          108.45903546571114,
          106.89677385129815,
          105.2440285821045,
          103.64431241105174,
          102.06538030891406,
          100.42208352284341,
          98.72850290826497,
          97.05732542319623,
          95.40974644882391,
          93.78619182618554,
          92.17585773037867,
          90.58508205948532,
          88.9996607451913,
          87.3723081392889,
          85.7327552957415,
          83.99978114274305,
          82.25796160128901,
          80.51123516056953,
          78.75319475035431,
          76.88146126799582,
          74.9870349977569,
          73.0770233778687,
          71.09931384115445,
          69.11032492101859,
          67.10348094011951,
          64.95094312199979,
          62.51976692101045,
          60.17030032012407,
          58.25290025015249,
          57.22889306071404,
          56.15014476246587,
          56.65654541317804,
          53.35983541435735,
          53.76857363827979,
          51.93430984396852,
          52.24853297384594,
          57.29121716627405,
          59.13799247289738,
          61.31845854586711,
          69.92195632233759,
          81.75334645665316,
          90.86621280132104,
          97.93390947170818,
          103.00250728016896,
          107.10761704400826,
          110.81512746142067,
          114.38827314251562,
          117.87449699405659,
          121.26828199681441,
          124.6455888968848,
          128.00776682136205,
          131.3349857906101,
          134.67167404866635,
          137.98417691358102,
          141.24460828228192,
          144.30938622969924,
          147.4017595410032,
          150.3642037799953,
          153.3394167652257,
          156.22442494589802,
          159.86193963418518,
          163.7147504722251,
          167.65667233022916,
          171.2066734428505,
          174.63588701487518,
          178.0226418576612,
          181.18163010934538,
          184.24793200565352,
          187.02057651640646,
          189.49753603300906,
          191.69612953207567,
          193.71936731210656,
          195.32242752420058,
          196.5411067550695,
          198.19468425167162,
          199.67460507012896,
          201.30237270892079,
          202.8727966368255,
          203.69469145563892,
          204.1172035835787,
          203.90702401116573,
          203.10506806408117,
          201.71500186618147,
          200.63493065059828,
          199.5418291315913,
          198.18283852128633,
          197.4215903834382,
          195.84308196070845,
          194.23374005290282,
          191.45326179636226,
          187.95860272558843,
          184.49676583915226,
          181.0994103646492,
          176.74266313367798,
          172.26282406492203,
          168.384337390109,
          161.92227097870722,
          157.4908264741604,
          153.2700695249902,
          149.4708195459807,
          146.0761142294069,
          142.84395481466754,
          140.0552602038944,
          137.3526914025631,
          134.73277467185446,
          132.5440749516151,
          130.61256592503315,
          128.48231450842297,
          126.30868080631372,
          123.99190155811668,
          121.20949593855515,
          118.63351108767965,
          116.5027192636614,
          114.40147205305077,
          112.06444346906895,
          109.77778517878023,
          107.96231026923338,
          106.58001296823235,
          105.22283812681854,
          103.85311286375928,
          102.42245342299361,
          100.8523450930152,
          99.13489144077704,
          97.39615438317873,
          95.63123566747336,
          93.96265862285235,
          92.36059276038922,
          90.77709961972727,
          89.23043200148209,
          87.66436591891618,
          86.15157103700997,
          84.64046654947627,
          83.00365465230269,
          81.37341843247074,
          79.79484948411128,
          78.19049661749713,
          76.73530916529313,
          75.29476459221871,
          74.01632494853375,
          72.56503707618653,
          71.18732675326535,
          69.72234279556756,
          68.36636549697006,
          67.40880247917089,
          66.96865577669035,
          65.61598577143036,
          62.7314942202402,
          62.398413033450126,
          61.94941661925474,
          62.38786860410351,
          62.639806537754296,
          62.746526192703584,
          62.79968498862242,
          62.245533939331565,
          62.83592254777919,
          64.20971167454726,
          69.07677210586522,
          76.71268987282019,
          86.64110665333052,
          94.55291753352203,
          101.1263381338049,
          106.76610766328166,
          111.22373598756516,
          114.98011166403914,
          118.38514794903337,
          121.57678113142536,
          124.65411787680296,
          127.66695213435855,
          130.5640103194164,
          133.38164590852233,
          136.12897989791003,
          138.8553374333454,
          141.54191449865652,
          144.16636632833385,
          146.7018865533065,
          149.2278523753042,
          151.70420447398007,
          154.4538189826299,
          157.2180266529278,
          160.05893758910005,
          163.18953067393366,
          166.16958787117017,
          169.01375638319843,
          171.94383238007566,
          174.8460276779548,
          177.77191875986378,
          180.3258755239708,
          182.67058653966598,
          184.6953374604395,
          186.59877772624534,
          187.88052034000856,
          188.60928350774165,
          189.07028128965587,
          189.48381400810285,
          190.28331002066582,
          190.98849413236923,
          191.72458090129672,
          191.13237652395793,
          189.92453138080634,
          188.52995170023428,
          187.29364654134315,
          185.707896659345
         ]
        }
       ],
       "layout": {
        "template": {
         "data": {
          "bar": [
           {
            "error_x": {
             "color": "#2a3f5f"
            },
            "error_y": {
             "color": "#2a3f5f"
            },
            "marker": {
             "line": {
              "color": "#E5ECF6",
              "width": 0.5
             },
             "pattern": {
              "fillmode": "overlay",
              "size": 10,
              "solidity": 0.2
             }
            },
            "type": "bar"
           }
          ],
          "barpolar": [
           {
            "marker": {
             "line": {
              "color": "#E5ECF6",
              "width": 0.5
             },
             "pattern": {
              "fillmode": "overlay",
              "size": 10,
              "solidity": 0.2
             }
            },
            "type": "barpolar"
           }
          ],
          "carpet": [
           {
            "aaxis": {
             "endlinecolor": "#2a3f5f",
             "gridcolor": "white",
             "linecolor": "white",
             "minorgridcolor": "white",
             "startlinecolor": "#2a3f5f"
            },
            "baxis": {
             "endlinecolor": "#2a3f5f",
             "gridcolor": "white",
             "linecolor": "white",
             "minorgridcolor": "white",
             "startlinecolor": "#2a3f5f"
            },
            "type": "carpet"
           }
          ],
          "choropleth": [
           {
            "colorbar": {
             "outlinewidth": 0,
             "ticks": ""
            },
            "type": "choropleth"
           }
          ],
          "contour": [
           {
            "colorbar": {
             "outlinewidth": 0,
             "ticks": ""
            },
            "colorscale": [
             [
              0,
              "#0d0887"
             ],
             [
              0.1111111111111111,
              "#46039f"
             ],
             [
              0.2222222222222222,
              "#7201a8"
             ],
             [
              0.3333333333333333,
              "#9c179e"
             ],
             [
              0.4444444444444444,
              "#bd3786"
             ],
             [
              0.5555555555555556,
              "#d8576b"
             ],
             [
              0.6666666666666666,
              "#ed7953"
             ],
             [
              0.7777777777777778,
              "#fb9f3a"
             ],
             [
              0.8888888888888888,
              "#fdca26"
             ],
             [
              1,
              "#f0f921"
             ]
            ],
            "type": "contour"
           }
          ],
          "contourcarpet": [
           {
            "colorbar": {
             "outlinewidth": 0,
             "ticks": ""
            },
            "type": "contourcarpet"
           }
          ],
          "heatmap": [
           {
            "colorbar": {
             "outlinewidth": 0,
             "ticks": ""
            },
            "colorscale": [
             [
              0,
              "#0d0887"
             ],
             [
              0.1111111111111111,
              "#46039f"
             ],
             [
              0.2222222222222222,
              "#7201a8"
             ],
             [
              0.3333333333333333,
              "#9c179e"
             ],
             [
              0.4444444444444444,
              "#bd3786"
             ],
             [
              0.5555555555555556,
              "#d8576b"
             ],
             [
              0.6666666666666666,
              "#ed7953"
             ],
             [
              0.7777777777777778,
              "#fb9f3a"
             ],
             [
              0.8888888888888888,
              "#fdca26"
             ],
             [
              1,
              "#f0f921"
             ]
            ],
            "type": "heatmap"
           }
          ],
          "heatmapgl": [
           {
            "colorbar": {
             "outlinewidth": 0,
             "ticks": ""
            },
            "colorscale": [
             [
              0,
              "#0d0887"
             ],
             [
              0.1111111111111111,
              "#46039f"
             ],
             [
              0.2222222222222222,
              "#7201a8"
             ],
             [
              0.3333333333333333,
              "#9c179e"
             ],
             [
              0.4444444444444444,
              "#bd3786"
             ],
             [
              0.5555555555555556,
              "#d8576b"
             ],
             [
              0.6666666666666666,
              "#ed7953"
             ],
             [
              0.7777777777777778,
              "#fb9f3a"
             ],
             [
              0.8888888888888888,
              "#fdca26"
             ],
             [
              1,
              "#f0f921"
             ]
            ],
            "type": "heatmapgl"
           }
          ],
          "histogram": [
           {
            "marker": {
             "pattern": {
              "fillmode": "overlay",
              "size": 10,
              "solidity": 0.2
             }
            },
            "type": "histogram"
           }
          ],
          "histogram2d": [
           {
            "colorbar": {
             "outlinewidth": 0,
             "ticks": ""
            },
            "colorscale": [
             [
              0,
              "#0d0887"
             ],
             [
              0.1111111111111111,
              "#46039f"
             ],
             [
              0.2222222222222222,
              "#7201a8"
             ],
             [
              0.3333333333333333,
              "#9c179e"
             ],
             [
              0.4444444444444444,
              "#bd3786"
             ],
             [
              0.5555555555555556,
              "#d8576b"
             ],
             [
              0.6666666666666666,
              "#ed7953"
             ],
             [
              0.7777777777777778,
              "#fb9f3a"
             ],
             [
              0.8888888888888888,
              "#fdca26"
             ],
             [
              1,
              "#f0f921"
             ]
            ],
            "type": "histogram2d"
           }
          ],
          "histogram2dcontour": [
           {
            "colorbar": {
             "outlinewidth": 0,
             "ticks": ""
            },
            "colorscale": [
             [
              0,
              "#0d0887"
             ],
             [
              0.1111111111111111,
              "#46039f"
             ],
             [
              0.2222222222222222,
              "#7201a8"
             ],
             [
              0.3333333333333333,
              "#9c179e"
             ],
             [
              0.4444444444444444,
              "#bd3786"
             ],
             [
              0.5555555555555556,
              "#d8576b"
             ],
             [
              0.6666666666666666,
              "#ed7953"
             ],
             [
              0.7777777777777778,
              "#fb9f3a"
             ],
             [
              0.8888888888888888,
              "#fdca26"
             ],
             [
              1,
              "#f0f921"
             ]
            ],
            "type": "histogram2dcontour"
           }
          ],
          "mesh3d": [
           {
            "colorbar": {
             "outlinewidth": 0,
             "ticks": ""
            },
            "type": "mesh3d"
           }
          ],
          "parcoords": [
           {
            "line": {
             "colorbar": {
              "outlinewidth": 0,
              "ticks": ""
             }
            },
            "type": "parcoords"
           }
          ],
          "pie": [
           {
            "automargin": true,
            "type": "pie"
           }
          ],
          "scatter": [
           {
            "fillpattern": {
             "fillmode": "overlay",
             "size": 10,
             "solidity": 0.2
            },
            "type": "scatter"
           }
          ],
          "scatter3d": [
           {
            "line": {
             "colorbar": {
              "outlinewidth": 0,
              "ticks": ""
             }
            },
            "marker": {
             "colorbar": {
              "outlinewidth": 0,
              "ticks": ""
             }
            },
            "type": "scatter3d"
           }
          ],
          "scattercarpet": [
           {
            "marker": {
             "colorbar": {
              "outlinewidth": 0,
              "ticks": ""
             }
            },
            "type": "scattercarpet"
           }
          ],
          "scattergeo": [
           {
            "marker": {
             "colorbar": {
              "outlinewidth": 0,
              "ticks": ""
             }
            },
            "type": "scattergeo"
           }
          ],
          "scattergl": [
           {
            "marker": {
             "colorbar": {
              "outlinewidth": 0,
              "ticks": ""
             }
            },
            "type": "scattergl"
           }
          ],
          "scattermapbox": [
           {
            "marker": {
             "colorbar": {
              "outlinewidth": 0,
              "ticks": ""
             }
            },
            "type": "scattermapbox"
           }
          ],
          "scatterpolar": [
           {
            "marker": {
             "colorbar": {
              "outlinewidth": 0,
              "ticks": ""
             }
            },
            "type": "scatterpolar"
           }
          ],
          "scatterpolargl": [
           {
            "marker": {
             "colorbar": {
              "outlinewidth": 0,
              "ticks": ""
             }
            },
            "type": "scatterpolargl"
           }
          ],
          "scatterternary": [
           {
            "marker": {
             "colorbar": {
              "outlinewidth": 0,
              "ticks": ""
             }
            },
            "type": "scatterternary"
           }
          ],
          "surface": [
           {
            "colorbar": {
             "outlinewidth": 0,
             "ticks": ""
            },
            "colorscale": [
             [
              0,
              "#0d0887"
             ],
             [
              0.1111111111111111,
              "#46039f"
             ],
             [
              0.2222222222222222,
              "#7201a8"
             ],
             [
              0.3333333333333333,
              "#9c179e"
             ],
             [
              0.4444444444444444,
              "#bd3786"
             ],
             [
              0.5555555555555556,
              "#d8576b"
             ],
             [
              0.6666666666666666,
              "#ed7953"
             ],
             [
              0.7777777777777778,
              "#fb9f3a"
             ],
             [
              0.8888888888888888,
              "#fdca26"
             ],
             [
              1,
              "#f0f921"
             ]
            ],
            "type": "surface"
           }
          ],
          "table": [
           {
            "cells": {
             "fill": {
              "color": "#EBF0F8"
             },
             "line": {
              "color": "white"
             }
            },
            "header": {
             "fill": {
              "color": "#C8D4E3"
             },
             "line": {
              "color": "white"
             }
            },
            "type": "table"
           }
          ]
         },
         "layout": {
          "annotationdefaults": {
           "arrowcolor": "#2a3f5f",
           "arrowhead": 0,
           "arrowwidth": 1
          },
          "autotypenumbers": "strict",
          "coloraxis": {
           "colorbar": {
            "outlinewidth": 0,
            "ticks": ""
           }
          },
          "colorscale": {
           "diverging": [
            [
             0,
             "#8e0152"
            ],
            [
             0.1,
             "#c51b7d"
            ],
            [
             0.2,
             "#de77ae"
            ],
            [
             0.3,
             "#f1b6da"
            ],
            [
             0.4,
             "#fde0ef"
            ],
            [
             0.5,
             "#f7f7f7"
            ],
            [
             0.6,
             "#e6f5d0"
            ],
            [
             0.7,
             "#b8e186"
            ],
            [
             0.8,
             "#7fbc41"
            ],
            [
             0.9,
             "#4d9221"
            ],
            [
             1,
             "#276419"
            ]
           ],
           "sequential": [
            [
             0,
             "#0d0887"
            ],
            [
             0.1111111111111111,
             "#46039f"
            ],
            [
             0.2222222222222222,
             "#7201a8"
            ],
            [
             0.3333333333333333,
             "#9c179e"
            ],
            [
             0.4444444444444444,
             "#bd3786"
            ],
            [
             0.5555555555555556,
             "#d8576b"
            ],
            [
             0.6666666666666666,
             "#ed7953"
            ],
            [
             0.7777777777777778,
             "#fb9f3a"
            ],
            [
             0.8888888888888888,
             "#fdca26"
            ],
            [
             1,
             "#f0f921"
            ]
           ],
           "sequentialminus": [
            [
             0,
             "#0d0887"
            ],
            [
             0.1111111111111111,
             "#46039f"
            ],
            [
             0.2222222222222222,
             "#7201a8"
            ],
            [
             0.3333333333333333,
             "#9c179e"
            ],
            [
             0.4444444444444444,
             "#bd3786"
            ],
            [
             0.5555555555555556,
             "#d8576b"
            ],
            [
             0.6666666666666666,
             "#ed7953"
            ],
            [
             0.7777777777777778,
             "#fb9f3a"
            ],
            [
             0.8888888888888888,
             "#fdca26"
            ],
            [
             1,
             "#f0f921"
            ]
           ]
          },
          "colorway": [
           "#636efa",
           "#EF553B",
           "#00cc96",
           "#ab63fa",
           "#FFA15A",
           "#19d3f3",
           "#FF6692",
           "#B6E880",
           "#FF97FF",
           "#FECB52"
          ],
          "font": {
           "color": "#2a3f5f"
          },
          "geo": {
           "bgcolor": "white",
           "lakecolor": "white",
           "landcolor": "#E5ECF6",
           "showlakes": true,
           "showland": true,
           "subunitcolor": "white"
          },
          "hoverlabel": {
           "align": "left"
          },
          "hovermode": "closest",
          "mapbox": {
           "style": "light"
          },
          "paper_bgcolor": "white",
          "plot_bgcolor": "#E5ECF6",
          "polar": {
           "angularaxis": {
            "gridcolor": "white",
            "linecolor": "white",
            "ticks": ""
           },
           "bgcolor": "#E5ECF6",
           "radialaxis": {
            "gridcolor": "white",
            "linecolor": "white",
            "ticks": ""
           }
          },
          "scene": {
           "xaxis": {
            "backgroundcolor": "#E5ECF6",
            "gridcolor": "white",
            "gridwidth": 2,
            "linecolor": "white",
            "showbackground": true,
            "ticks": "",
            "zerolinecolor": "white"
           },
           "yaxis": {
            "backgroundcolor": "#E5ECF6",
            "gridcolor": "white",
            "gridwidth": 2,
            "linecolor": "white",
            "showbackground": true,
            "ticks": "",
            "zerolinecolor": "white"
           },
           "zaxis": {
            "backgroundcolor": "#E5ECF6",
            "gridcolor": "white",
            "gridwidth": 2,
            "linecolor": "white",
            "showbackground": true,
            "ticks": "",
            "zerolinecolor": "white"
           }
          },
          "shapedefaults": {
           "line": {
            "color": "#2a3f5f"
           }
          },
          "ternary": {
           "aaxis": {
            "gridcolor": "white",
            "linecolor": "white",
            "ticks": ""
           },
           "baxis": {
            "gridcolor": "white",
            "linecolor": "white",
            "ticks": ""
           },
           "bgcolor": "#E5ECF6",
           "caxis": {
            "gridcolor": "white",
            "linecolor": "white",
            "ticks": ""
           }
          },
          "title": {
           "x": 0.05
          },
          "xaxis": {
           "automargin": true,
           "gridcolor": "white",
           "linecolor": "white",
           "ticks": "",
           "title": {
            "standoff": 15
           },
           "zerolinecolor": "white",
           "zerolinewidth": 2
          },
          "yaxis": {
           "automargin": true,
           "gridcolor": "white",
           "linecolor": "white",
           "ticks": "",
           "title": {
            "standoff": 15
           },
           "zerolinecolor": "white",
           "zerolinewidth": 2
          }
         }
        },
        "title": {
         "text": "TSMixer Prediction vs. Ground Truth for VT"
        },
        "xaxis": {
         "title": {
          "text": "Time Step"
         }
        },
        "yaxis": {
         "title": {
          "text": "Value"
         }
        }
       }
      }
     },
     "metadata": {},
     "output_type": "display_data"
    },
    {
     "data": {
      "application/vnd.plotly.v1+json": {
       "config": {
        "plotlyServerURL": "https://plot.ly"
       },
       "data": [
        {
         "line": {
          "color": "blue"
         },
         "mode": "lines",
         "name": "GT",
         "type": "scatter",
         "y": [
          8.022,
          8.272,
          8.3595,
          8.447,
          8.534499,
          8.621999,
          8.709498,
          8.796998,
          8.884497,
          8.971996,
          9.059496,
          9.146996,
          9.234495,
          9.321995,
          9.409493,
          9.496993,
          9.584493,
          9.671992,
          9.759492,
          9.846992,
          9.93449,
          10.02199,
          10.10949,
          10.19699,
          10.28449,
          10.37199,
          10.45949,
          10.54699,
          10.63449,
          10.72199,
          10.80949,
          10.89699,
          10.98448,
          11.07198,
          11.15948,
          11.24698,
          11.33448,
          11.42198,
          11.50948,
          11.59698,
          11.68448,
          11.77198,
          11.85948,
          11.94698,
          12.03448,
          12.12198,
          12.20948,
          12.29698,
          12.38448,
          12.47198,
          12.55947,
          12.64697,
          12.73447,
          12.82197,
          12.90947,
          12.99697,
          13.08447,
          13.17197,
          13.25947,
          13.34697,
          13.43447,
          13.52197,
          13.60947,
          13.69697,
          13.78447,
          13.87197,
          13.95947,
          14.04697,
          14.13446,
          14.22196,
          14.2901,
          14.3412,
          14.37952,
          14.40827,
          14.42983,
          14.44599,
          14.45812,
          14.46721,
          14.47404,
          14.47915,
          14.48299,
          14.48587,
          14.48802,
          14.48964,
          14.49086,
          14.49177,
          14.49245,
          14.49296,
          14.49335,
          14.49364,
          14.49385,
          14.49401,
          14.49413,
          14.49423,
          14.4943,
          14.49435,
          14.49438,
          14.49441,
          14.49444,
          14.49445,
          14.49446,
          14.49447,
          14.49448,
          14.49448,
          14.49449,
          14.49449,
          14.49449,
          14.4945,
          14.4945,
          14.4945,
          14.4945,
          14.4945,
          14.4945,
          14.4945,
          14.4945,
          14.4945,
          14.4945,
          14.4945,
          14.4945,
          14.4945,
          14.4945,
          14.4945,
          14.4945,
          14.4945,
          14.4945,
          14.4945,
          14.4945,
          14.4945,
          14.4945,
          14.4945,
          14.4945,
          14.4945,
          14.4945,
          14.4945,
          14.4945,
          14.4945,
          14.4945,
          14.4945,
          14.4945,
          14.4945,
          14.4945,
          14.4945,
          14.4945,
          14.4945,
          14.4945,
          14.4945,
          14.4945,
          14.4945,
          14.4945,
          14.4945,
          14.4945,
          14.4945,
          14.4945,
          14.4945,
          14.4945,
          14.4945,
          14.4945,
          14.4945,
          14.4945,
          14.4945,
          14.4945,
          14.4945,
          14.4945,
          14.4945,
          14.4945,
          14.4945,
          14.4945,
          14.4945,
          14.4945,
          14.4945,
          14.4945,
          14.4945,
          14.4945,
          14.4945,
          14.4945,
          14.4945,
          14.4945,
          14.4945,
          14.4945,
          14.4945,
          14.4945,
          14.4945,
          14.4945,
          14.4945,
          14.4945,
          14.4945,
          14.4945,
          14.4945,
          14.4945,
          14.4945,
          14.4945,
          14.4945,
          14.4945,
          14.4945,
          14.4945,
          14.4945,
          14.4945,
          14.4945,
          14.4945,
          14.4945,
          14.4945,
          14.4945,
          14.4945,
          14.4945,
          14.4945,
          14.4945,
          14.4945,
          14.4945,
          14.4945,
          14.4945,
          14.4945,
          14.4945,
          14.4945,
          14.4945,
          14.4945,
          14.4945,
          14.4945,
          14.4945,
          14.4945,
          14.4945,
          14.4945,
          14.4945,
          14.4945,
          14.4945,
          14.4945,
          14.4945,
          14.4945,
          14.4945,
          14.4945,
          14.4945,
          14.4945,
          14.4945,
          14.4945,
          14.4945,
          14.4945,
          14.4945,
          14.4945,
          14.4945,
          14.4945,
          14.4945,
          14.4945,
          14.4945,
          14.4945,
          14.4945,
          14.4945,
          14.4945,
          14.4945,
          14.4945,
          14.4945,
          14.4945,
          14.4945,
          14.4945,
          14.4945,
          14.4945,
          14.4945,
          14.4945,
          14.4945,
          14.4945,
          14.4945,
          14.4945,
          14.4945,
          14.4945,
          14.4945,
          14.4945,
          14.4945,
          14.4945,
          14.4945,
          14.4945,
          14.4945,
          14.4945,
          14.4945,
          14.4945,
          14.4945,
          14.4945,
          14.4945,
          14.4945,
          14.4945,
          14.4945,
          14.4945,
          14.4945,
          14.4945,
          14.4945,
          14.4945,
          14.4945,
          14.4945,
          14.4945,
          14.4945,
          14.4945,
          14.4945,
          14.4945,
          14.4945,
          14.4945,
          14.4945,
          14.4945,
          14.4945,
          14.4945,
          14.4945,
          14.4945,
          14.4945,
          14.4945,
          14.4945,
          14.4945,
          14.4945,
          14.4945,
          14.4945,
          14.4945,
          14.4945,
          14.4945,
          14.4945,
          14.4945,
          14.4945,
          14.4945,
          14.4945,
          14.4945,
          14.4945,
          14.4945,
          14.4945,
          14.4945,
          14.4945,
          14.4945,
          14.4945,
          14.4945,
          14.4945,
          14.4945,
          14.4945,
          14.4945,
          14.4945,
          14.4945,
          14.4945,
          14.4945,
          14.4945,
          14.4945,
          14.4945,
          14.4945,
          14.4945,
          14.4945,
          14.4945,
          14.4945,
          14.4945,
          14.4945,
          14.4945,
          14.4945,
          14.4945,
          14.4945,
          14.4945,
          14.4945,
          14.4945,
          14.4945,
          14.4945,
          14.4945,
          14.4945,
          14.4945,
          14.4945,
          14.4945,
          14.4945,
          14.4945,
          14.4945,
          14.4945,
          14.4945,
          14.4945,
          14.4945,
          14.4945,
          14.4945,
          14.4945,
          14.4945,
          14.4945,
          14.4945,
          14.4945,
          14.4945,
          14.4945,
          14.4945,
          14.4945,
          14.4945,
          14.4945,
          14.4945,
          14.4945,
          14.4945,
          14.4945,
          14.4945,
          14.4945,
          14.4945,
          14.4945,
          14.4945,
          14.4945,
          14.4945,
          14.4945,
          14.4945,
          14.4945,
          14.4945,
          14.4945,
          14.4945,
          14.4945,
          14.4945,
          14.4945,
          14.4945,
          14.4945,
          14.4945,
          14.4945,
          14.4945,
          14.4945,
          14.4945,
          14.4945,
          14.4945,
          14.4945,
          14.4945,
          14.4945,
          14.4945,
          14.4945,
          14.4945,
          14.4945,
          14.4945,
          14.4945,
          14.4945,
          14.4945,
          14.4945,
          14.4945,
          14.4945,
          14.4945,
          14.4945,
          14.4945,
          14.4945,
          14.4945,
          14.4945,
          14.4945,
          14.4945,
          14.4945,
          14.4945,
          14.4945,
          14.4945,
          14.4945,
          14.4945,
          14.4945,
          14.4945,
          14.4945,
          14.4945,
          14.4945,
          14.4945,
          14.4945,
          14.4945,
          14.4945,
          14.4945,
          14.4945,
          14.4945,
          14.4945,
          14.4945,
          14.4945,
          14.4945,
          14.4945,
          14.4945,
          14.4945,
          14.4945,
          14.4945,
          14.4945,
          14.4945,
          14.4945,
          14.4945,
          14.4945,
          14.4945,
          14.4945,
          14.4945,
          14.4945,
          14.4945,
          14.4945,
          14.4945,
          14.4945,
          14.4945,
          14.4945,
          14.4945,
          14.4945,
          14.4945,
          14.4945,
          14.4945,
          14.4945,
          14.4945,
          14.4945,
          14.4945,
          14.4945,
          14.4945,
          14.4945,
          14.4945,
          14.4945,
          14.4945,
          14.4945,
          14.4945,
          14.4945,
          14.4945,
          14.4945,
          14.4945,
          14.4945,
          14.4945,
          14.4945,
          14.4945,
          14.4945,
          14.4945,
          14.4945,
          14.4945,
          14.4945,
          14.4945,
          14.4945,
          14.4945,
          14.4945,
          14.4945,
          14.4945,
          14.4945,
          14.4945,
          14.4945,
          14.4945,
          14.4945,
          14.4945,
          14.4945,
          14.4945,
          14.4945,
          14.4945,
          14.4945,
          14.4945,
          14.4945,
          14.4945,
          14.4945,
          14.4945,
          14.4945,
          14.4945,
          14.4945,
          14.4945,
          14.4945,
          14.4945,
          14.4945,
          14.4945,
          14.4945,
          14.4945,
          14.4945,
          14.4945,
          14.4945,
          14.4945,
          14.4945,
          14.4945,
          14.4945,
          14.4945,
          14.4945,
          14.4945,
          14.4945,
          14.4945,
          14.4945,
          14.4945,
          14.4945,
          14.4945,
          14.4945,
          14.4945,
          14.4945,
          14.4945,
          14.4945,
          14.4945,
          14.4945,
          14.4945,
          14.4945,
          14.4945,
          14.4945,
          14.4945,
          14.4945,
          14.4945,
          14.4945,
          14.4945,
          14.4945,
          14.4945,
          14.4945,
          14.4945,
          14.4945,
          14.4945,
          14.4945,
          14.4945,
          14.4945,
          14.4945,
          14.4945,
          14.4945,
          14.4945,
          14.4945,
          14.4945,
          14.4945,
          14.4945,
          14.4945,
          14.4945,
          14.4945,
          14.4945,
          14.4945,
          14.4945,
          14.4945,
          14.4945,
          14.4945,
          14.4945,
          14.4945,
          14.4945,
          14.4945,
          14.4945,
          14.4945,
          14.4945,
          14.4945,
          14.4945,
          14.4945,
          14.4945,
          14.4945,
          14.4945,
          14.4945,
          14.4945,
          14.4945,
          14.4945,
          14.4945,
          14.4945,
          14.4945,
          14.4945,
          14.4945,
          14.4945,
          14.4945,
          14.4945,
          14.4945,
          14.4945,
          14.4945,
          14.4945,
          14.4945,
          14.4945,
          14.4945,
          14.4945,
          14.4945,
          14.4945,
          14.4945,
          14.4945,
          14.4945,
          14.4945,
          14.4945,
          14.4945,
          14.4945,
          14.4945,
          14.4945,
          14.4945,
          14.4945,
          14.4945,
          14.4945,
          14.4945,
          14.4945,
          14.4945,
          14.4945,
          14.4945,
          14.4945
         ]
        },
        {
         "line": {
          "color": "red"
         },
         "mode": "lines",
         "name": "pred_beginning",
         "type": "scatter",
         "y": [
          8.022000000000002,
          8.272,
          8.3595,
          8.447,
          8.534499,
          8.621999,
          8.709498,
          8.796997999999999,
          10.381864698247668,
          10.422939089057463,
          10.462080640304663,
          10.50203951945089,
          10.543793983440118,
          10.586086756493877,
          10.630203016274086,
          10.676736875612175,
          10.725473856393954,
          10.776374783247707,
          10.828092474326073,
          10.879561584988256,
          10.929981979404822,
          10.981268741394357,
          11.038129397818052,
          11.097692027541047,
          11.164266203288866,
          11.235129377646134,
          11.308367312305883,
          11.391622586798434,
          11.478289500676405,
          11.565329848853072,
          11.652915270187226,
          11.744198677508667,
          11.831235643638854,
          11.915143794020402,
          11.995938488781071,
          12.078709003278336,
          12.166515103145228,
          12.25026190172602,
          12.33199610081476,
          12.415626218792037,
          12.49741763083371,
          12.578456396615259,
          12.65566865864333,
          12.729703628923236,
          12.803413922741182,
          12.868592440642113,
          12.930558859899866,
          12.99201628116257,
          13.057701824198105,
          13.122041876409515,
          13.184121664683609,
          13.245351643320618,
          13.28693834371264,
          13.316215663189505,
          13.367435982057593,
          13.429677756266157,
          13.492653645938512,
          13.567899952532215,
          13.633957168383903,
          13.68413144845984,
          13.734275431036073,
          13.77265059645933,
          13.802815491758958,
          13.85972823522139,
          13.93448428599428,
          14.003678120962261,
          14.007809061743302,
          14.03891108336957,
          14.082237371074614,
          14.117651695724346,
          14.168017589871095,
          14.213627437120062,
          14.2532050521777,
          14.29542482939496,
          14.349540778952907,
          14.416315499488022,
          14.450405805785806,
          14.470346140446509,
          14.469852009364105,
          14.470557377432826,
          14.476869755807476,
          14.48118524711434,
          14.477941970230187,
          14.444764763637185,
          14.440926317032076,
          14.433011447530571,
          14.431941452575863,
          14.41205461413993,
          14.408565575211657,
          14.411244719697226,
          14.39933641074183,
          14.397592032196297,
          14.40934066275935,
          14.406582868078324,
          14.414416480390214,
          14.433527738063342,
          14.445175118609937,
          14.46249683332518,
          14.471922315024202,
          14.477453017906454,
          14.47407780597998,
          14.479010943525022,
          14.506175118086393,
          14.51833928238087,
          14.530616745232384,
          14.543845760952552,
          14.556778565768623,
          14.560740633218458,
          14.56658058197561,
          14.555337038916363,
          14.543049077628904,
          14.530959388816262,
          14.525238798116089,
          14.516996680388115,
          14.506938544619667,
          14.518527091649393,
          14.522246462034728,
          14.524664343429816,
          14.500832858606378,
          14.482897584292452,
          14.415749288540042,
          14.40760694118319,
          14.44418509496259,
          14.46103416868243,
          14.451372789241518,
          14.489853784535839,
          14.49078039481171,
          14.465230936066028,
          14.446964362115791,
          14.441411957768633,
          14.425793332448162,
          14.430906616812672,
          14.42958085459301,
          14.442825441818838,
          14.456892923228523,
          14.472327526467934,
          14.48595343943424,
          14.493462428128646,
          14.496186525648662,
          14.495998645920839,
          14.492777352338798,
          14.488563604263504,
          14.48887957900171,
          14.498290651773546,
          14.507092850490258,
          14.51337739744076,
          14.515736762385835,
          14.51790151873978,
          14.519694214751413,
          14.513764923599782,
          14.50680858243779,
          14.500352502317446,
          14.492429212929395,
          14.482455839700817,
          14.4782454032127,
          14.47714912693848,
          14.475532367803043,
          14.479496372883673,
          14.488753210244218,
          14.498941766180003,
          14.510048970490574,
          14.524101655446916,
          14.538166318484537,
          14.553983304353949,
          14.566175229613272,
          14.576502378995384,
          14.585933426979235,
          14.592973790858432,
          14.598772450464823,
          14.603561287360105,
          14.605840434390263,
          14.607489252507946,
          14.611769796001196,
          14.616618523302872,
          14.62022202336666,
          14.62110255325926,
          14.620961423278073,
          14.62238096682822,
          14.623526071398478,
          14.625998840589542,
          14.627637583027091,
          14.627441283412722,
          14.624411674360793,
          14.618543964638796,
          14.615887648966957,
          14.619706472656558,
          14.618016717684622,
          14.62325684640691,
          14.625687833232103,
          14.60038441836775,
          14.567893309224468,
          14.57082984153893,
          14.561885103655,
          14.558492347362417,
          14.559283112104726,
          14.517613974329786,
          14.502258355967513,
          14.522488137439353,
          14.539095465295267,
          14.53567847100292,
          14.512240254771587,
          14.491128816058321,
          14.475746070864917,
          14.465320560297716,
          14.494136477037788,
          14.495042935953391,
          14.476209552151106,
          14.453106792654884,
          14.444773077834778,
          14.441579932743743,
          14.448604936495181,
          14.453204660624863,
          14.453544203999467,
          14.451719449005587,
          14.441121313149367,
          14.429142421588553,
          14.416487155961644,
          14.401229458413825,
          14.385799417414194,
          14.390476083101266,
          14.396901407736445,
          14.406758752110045,
          14.432097942684806,
          14.44181047557871,
          14.48508136465784,
          14.501284467500241,
          14.491519935641726,
          14.47393047558025,
          14.496431089884656,
          14.512095531366018,
          14.515278741695521,
          14.520213993019613,
          14.523551438760407,
          14.524173664853192,
          14.524204385108707,
          14.522862346790365,
          14.515903116797007,
          14.501901902360515,
          14.492095517676827,
          14.485773451148201,
          14.483374946061064,
          14.476829875842748,
          14.467039274042627,
          14.455308786749745,
          14.44352270706787,
          14.43665274900969,
          14.431304077733225,
          14.432070322638562,
          14.438462954157782,
          14.445092963064225,
          14.446296267017637,
          14.443041751874873,
          14.440673403368839,
          14.434967679581312,
          14.433467319212184,
          14.438109741678659,
          14.438446255303292,
          14.431630198610867,
          14.424760363856464,
          14.420043483522983,
          14.422613997380248,
          14.426209623617078,
          14.431501363777818,
          14.434241526018608,
          14.437987917546122,
          14.442812900063146,
          14.446165071797983,
          14.44855075329222,
          14.450481056319958,
          14.4543532177009,
          14.458212766866849,
          14.461014580996574,
          14.46331986842764,
          14.46659009599467,
          14.47113574261034,
          14.474254799745701,
          14.479297431045492,
          14.486924086773637,
          14.499593232882969,
          14.507464805143616,
          14.511477744209236,
          14.515280996393175,
          14.51926754845033,
          14.521064648168316,
          14.521112560493432,
          14.520246897513479,
          14.518055472313863,
          14.516889229953113,
          14.516589989299048,
          14.513935928324862,
          14.509429844607062,
          14.504874580296718,
          14.496876392671023,
          14.489291589768051,
          14.48096661190135,
          14.47276155576604,
          14.46437703978945,
          14.458041656452815,
          14.453869514595139,
          14.449325171476548,
          14.439259003347713,
          14.420395128282644,
          14.420070522279987,
          14.431516089771861,
          14.41346742882677,
          14.410215485448516,
          14.416689708839034,
          14.41573658825092,
          14.41128139376373,
          14.404121160997617,
          14.395763613318731,
          14.384428596471132,
          14.372344685321224,
          14.360432853400745,
          14.350220711213737,
          14.34189617371767,
          14.331233303378067,
          14.32125048860307,
          14.312394353290953,
          14.302776235861247,
          14.295505910436322,
          14.29019967327427,
          14.287350228656637,
          14.285452794893114,
          14.282810430163002,
          14.278190898162148,
          14.270561705899143,
          14.253724654297645,
          14.233865215722638,
          14.22916980786133,
          14.21160175862014,
          14.201579354525036,
          14.207312707166219,
          14.209160449507259,
          14.212575365250206,
          14.243873457498115,
          14.25159570888376,
          14.248895144770492,
          14.252066341789066,
          14.258961665195837,
          14.266933553887194,
          14.274231041372902,
          14.283091562776546,
          14.292206618407366,
          14.301760212731594,
          14.311468112926416,
          14.320908919523545,
          14.330316874471283,
          14.339369855457358,
          14.349637431499932,
          14.361362581500714,
          14.372132162452651,
          14.383358531057121,
          14.394458830356132,
          14.404307543465281,
          14.412042953125509,
          14.418687529492567,
          14.424015996564286,
          14.427786027187501,
          14.430103380773973,
          14.431604234358213,
          14.432235831538115,
          14.431262859041766,
          14.429093910359374,
          14.425984981748623,
          14.421708630583822,
          14.416269700941955,
          14.410107964554213,
          14.403655971073363,
          14.396328661688235,
          14.387981383452566,
          14.379750715361109,
          14.37126093318787,
          14.362258348217292,
          14.351964807922062,
          14.342157560111929,
          14.33233053085286,
          14.322602074156785,
          14.312919310317824,
          14.301595848795694,
          14.290940112460381,
          14.27989327415649,
          14.268143172755515,
          14.25341798899467,
          14.244285503494106,
          14.236101911023558,
          14.230931290402339,
          14.214607332242798,
          14.224082003341776,
          14.250809788218438,
          14.286946813925095,
          14.324162201628528,
          14.336921835095994,
          14.341878717425688,
          14.344150025858537,
          14.35172515822236,
          14.362832697214614,
          14.383760607061932,
          14.406717004973823,
          14.437779322783616,
          14.461433602463428,
          14.483483946600701,
          14.502199733828547,
          14.523258750821395,
          14.542677404812752,
          14.561539218943247,
          14.578169798368702,
          14.592493117502643,
          14.604242206051158,
          14.611536857549973,
          14.60144032146213,
          14.59384565425693,
          14.578584592277458,
          14.555966945073028,
          14.523752388688685,
          14.489946297598893,
          14.441191561073103,
          14.390326726996614,
          14.341260190446238,
          14.298579856003807,
          14.270086660480072,
          14.245106407202691,
          14.22629390577593,
          14.211688573287175,
          14.203684026709507,
          14.20000864054322,
          14.200557659421602,
          14.203233624431185,
          14.205486798401274,
          14.205346478702058,
          14.206691678881562,
          14.210367778448278,
          14.220930649424027,
          14.231065348031121,
          14.242772601369285,
          14.254487226511886,
          14.269159997359724,
          14.284131401150153,
          14.299841042273517,
          14.313907889549489,
          14.323774376017475,
          14.330743646461318,
          14.33663689768016,
          14.34336447510455,
          14.354689662879572,
          14.368148763449245,
          14.38241388320003,
          14.394403273196788,
          14.403464180854298,
          14.411209208209199,
          14.418318357981622,
          14.425901875002339,
          14.432867640095925,
          14.439257030487267,
          14.445303002242415,
          14.451602909320673,
          14.459168617752901,
          14.467989981399658,
          14.479669597076755,
          14.491618226367514,
          14.503016603742115,
          14.514256447688023,
          14.526839069774942,
          14.540006574524776,
          14.55227065010898,
          14.557556506918033,
          14.552391417351991,
          14.546101656413168,
          14.555791290034039,
          14.648747612554326,
          14.664488995593079,
          14.677322241415931,
          14.702630799809304,
          14.652340543722866,
          14.589122133134268,
          14.604822156562959,
          14.651812239879169,
          14.704917415525436,
          14.732844805242175,
          14.733505220276449,
          14.763830058190798,
          14.782848573808142,
          14.778697886807816,
          14.775069303232645,
          14.768229466525916,
          14.761510537980802,
          14.757336247114425,
          14.759062500004612,
          14.762660574702174,
          14.769533950036484,
          14.778428168601138,
          14.786293399524638,
          14.791959172888134,
          14.796599058819748,
          14.795072558049712,
          14.789116633282061,
          14.778333541759034,
          14.762797265747356,
          14.741705132882739,
          14.721153916076815,
          14.701490486471558,
          14.680599867209633,
          14.657968128144875,
          14.633593437335442,
          14.610774065150416,
          14.592854150964246,
          14.570639178668692,
          14.554222513683017,
          14.540143688325768,
          14.525622202405964,
          14.502020555824476,
          14.47062621617053,
          14.440461320870902,
          14.425511213404395,
          14.41892802470389,
          14.411899797439402,
          14.404679357200036,
          14.411652361986866,
          14.424568397489146,
          14.450011304155922,
          14.477793265874075,
          14.503596448564963,
          14.52917190679295,
          14.560427371163364,
          14.588283808363352,
          14.600303672008069,
          14.608950578423967,
          14.611127277629539,
          14.619056908354738,
          14.605297052256013,
          14.589910784097526,
          14.566479966092867,
          14.529848175170093,
          14.496557775709006,
          14.452666245871377,
          14.423101434828995,
          14.374925380547577,
          14.327250943649359,
          14.286235844341894,
          14.255361291763558,
          14.23477258180175,
          14.217442905185422,
          14.209002576634521,
          14.206871173952491,
          14.209277182955251,
          14.211848383790707,
          14.213566815698412,
          14.216605734185569,
          14.220443432160597,
          14.227356995719079,
          14.238005571627863,
          14.250554663894611,
          14.26836380725119,
          14.289371371339012,
          14.31090598861793,
          14.329566447679163,
          14.340119454352683,
          14.347872091312162,
          14.354955629128439,
          14.358620886770114,
          14.361616974809287,
          14.368380680240593,
          14.37428999618021,
          14.378784647876317,
          14.38414112252044,
          14.390459260942999,
          14.397806334162237,
          14.403758225134869,
          14.408072747626333,
          14.412584151021408,
          14.417979413511082,
          14.422059412217038,
          14.426476100695881,
          14.431787428542478,
          14.439570151623755,
          14.44642055722573,
          14.455624937636205,
          14.467769937000636,
          14.49037095580988,
          14.528574130077834,
          14.546225805702658,
          14.54278083906756,
          14.552161015435628,
          14.578880028129236,
          14.59895916761417,
          14.588100684638388,
          14.58699891253864,
          14.62407431522454,
          14.623343863644436,
          14.612511239232356,
          14.610253229992692,
          14.624581904033557,
          14.638368041451793,
          14.624241233310126,
          14.618919865013046,
          14.595172684744021,
          14.559959944156283,
          14.594340067176539,
          14.597453029582308,
          14.636776577205644,
          14.669125006263103,
          14.69897544169951,
          14.719259476833614,
          14.732740032260637,
          14.741891004520467,
          14.74958847184676,
          14.754904132940407,
          14.75832007034323,
          14.758894243192294,
          14.756796176567352,
          14.757573483583048,
          14.756893692240823,
          14.753507840959802,
          14.748450413206667,
          14.741324300357373,
          14.730359846591925,
          14.715466582167016,
          14.695661881661971,
          14.673323323751339,
          14.654354270563745,
          14.640220980166328,
          14.6212546748915,
          14.598924994852874,
          14.57762204775775,
          14.558192402115335,
          14.539041423010907,
          14.515068279761524,
          14.497895480780297,
          14.47551080725674,
          14.449825820044355,
          14.428964987452197,
          14.437124932019632,
          14.450042869923056,
          14.465391477584816,
          14.469224005608586,
          14.460485290722652,
          14.456041880553661,
          14.451088274581494,
          14.448273002725156,
          14.44950174248646,
          14.460679406098672
         ]
        }
       ],
       "layout": {
        "template": {
         "data": {
          "bar": [
           {
            "error_x": {
             "color": "#2a3f5f"
            },
            "error_y": {
             "color": "#2a3f5f"
            },
            "marker": {
             "line": {
              "color": "#E5ECF6",
              "width": 0.5
             },
             "pattern": {
              "fillmode": "overlay",
              "size": 10,
              "solidity": 0.2
             }
            },
            "type": "bar"
           }
          ],
          "barpolar": [
           {
            "marker": {
             "line": {
              "color": "#E5ECF6",
              "width": 0.5
             },
             "pattern": {
              "fillmode": "overlay",
              "size": 10,
              "solidity": 0.2
             }
            },
            "type": "barpolar"
           }
          ],
          "carpet": [
           {
            "aaxis": {
             "endlinecolor": "#2a3f5f",
             "gridcolor": "white",
             "linecolor": "white",
             "minorgridcolor": "white",
             "startlinecolor": "#2a3f5f"
            },
            "baxis": {
             "endlinecolor": "#2a3f5f",
             "gridcolor": "white",
             "linecolor": "white",
             "minorgridcolor": "white",
             "startlinecolor": "#2a3f5f"
            },
            "type": "carpet"
           }
          ],
          "choropleth": [
           {
            "colorbar": {
             "outlinewidth": 0,
             "ticks": ""
            },
            "type": "choropleth"
           }
          ],
          "contour": [
           {
            "colorbar": {
             "outlinewidth": 0,
             "ticks": ""
            },
            "colorscale": [
             [
              0,
              "#0d0887"
             ],
             [
              0.1111111111111111,
              "#46039f"
             ],
             [
              0.2222222222222222,
              "#7201a8"
             ],
             [
              0.3333333333333333,
              "#9c179e"
             ],
             [
              0.4444444444444444,
              "#bd3786"
             ],
             [
              0.5555555555555556,
              "#d8576b"
             ],
             [
              0.6666666666666666,
              "#ed7953"
             ],
             [
              0.7777777777777778,
              "#fb9f3a"
             ],
             [
              0.8888888888888888,
              "#fdca26"
             ],
             [
              1,
              "#f0f921"
             ]
            ],
            "type": "contour"
           }
          ],
          "contourcarpet": [
           {
            "colorbar": {
             "outlinewidth": 0,
             "ticks": ""
            },
            "type": "contourcarpet"
           }
          ],
          "heatmap": [
           {
            "colorbar": {
             "outlinewidth": 0,
             "ticks": ""
            },
            "colorscale": [
             [
              0,
              "#0d0887"
             ],
             [
              0.1111111111111111,
              "#46039f"
             ],
             [
              0.2222222222222222,
              "#7201a8"
             ],
             [
              0.3333333333333333,
              "#9c179e"
             ],
             [
              0.4444444444444444,
              "#bd3786"
             ],
             [
              0.5555555555555556,
              "#d8576b"
             ],
             [
              0.6666666666666666,
              "#ed7953"
             ],
             [
              0.7777777777777778,
              "#fb9f3a"
             ],
             [
              0.8888888888888888,
              "#fdca26"
             ],
             [
              1,
              "#f0f921"
             ]
            ],
            "type": "heatmap"
           }
          ],
          "heatmapgl": [
           {
            "colorbar": {
             "outlinewidth": 0,
             "ticks": ""
            },
            "colorscale": [
             [
              0,
              "#0d0887"
             ],
             [
              0.1111111111111111,
              "#46039f"
             ],
             [
              0.2222222222222222,
              "#7201a8"
             ],
             [
              0.3333333333333333,
              "#9c179e"
             ],
             [
              0.4444444444444444,
              "#bd3786"
             ],
             [
              0.5555555555555556,
              "#d8576b"
             ],
             [
              0.6666666666666666,
              "#ed7953"
             ],
             [
              0.7777777777777778,
              "#fb9f3a"
             ],
             [
              0.8888888888888888,
              "#fdca26"
             ],
             [
              1,
              "#f0f921"
             ]
            ],
            "type": "heatmapgl"
           }
          ],
          "histogram": [
           {
            "marker": {
             "pattern": {
              "fillmode": "overlay",
              "size": 10,
              "solidity": 0.2
             }
            },
            "type": "histogram"
           }
          ],
          "histogram2d": [
           {
            "colorbar": {
             "outlinewidth": 0,
             "ticks": ""
            },
            "colorscale": [
             [
              0,
              "#0d0887"
             ],
             [
              0.1111111111111111,
              "#46039f"
             ],
             [
              0.2222222222222222,
              "#7201a8"
             ],
             [
              0.3333333333333333,
              "#9c179e"
             ],
             [
              0.4444444444444444,
              "#bd3786"
             ],
             [
              0.5555555555555556,
              "#d8576b"
             ],
             [
              0.6666666666666666,
              "#ed7953"
             ],
             [
              0.7777777777777778,
              "#fb9f3a"
             ],
             [
              0.8888888888888888,
              "#fdca26"
             ],
             [
              1,
              "#f0f921"
             ]
            ],
            "type": "histogram2d"
           }
          ],
          "histogram2dcontour": [
           {
            "colorbar": {
             "outlinewidth": 0,
             "ticks": ""
            },
            "colorscale": [
             [
              0,
              "#0d0887"
             ],
             [
              0.1111111111111111,
              "#46039f"
             ],
             [
              0.2222222222222222,
              "#7201a8"
             ],
             [
              0.3333333333333333,
              "#9c179e"
             ],
             [
              0.4444444444444444,
              "#bd3786"
             ],
             [
              0.5555555555555556,
              "#d8576b"
             ],
             [
              0.6666666666666666,
              "#ed7953"
             ],
             [
              0.7777777777777778,
              "#fb9f3a"
             ],
             [
              0.8888888888888888,
              "#fdca26"
             ],
             [
              1,
              "#f0f921"
             ]
            ],
            "type": "histogram2dcontour"
           }
          ],
          "mesh3d": [
           {
            "colorbar": {
             "outlinewidth": 0,
             "ticks": ""
            },
            "type": "mesh3d"
           }
          ],
          "parcoords": [
           {
            "line": {
             "colorbar": {
              "outlinewidth": 0,
              "ticks": ""
             }
            },
            "type": "parcoords"
           }
          ],
          "pie": [
           {
            "automargin": true,
            "type": "pie"
           }
          ],
          "scatter": [
           {
            "fillpattern": {
             "fillmode": "overlay",
             "size": 10,
             "solidity": 0.2
            },
            "type": "scatter"
           }
          ],
          "scatter3d": [
           {
            "line": {
             "colorbar": {
              "outlinewidth": 0,
              "ticks": ""
             }
            },
            "marker": {
             "colorbar": {
              "outlinewidth": 0,
              "ticks": ""
             }
            },
            "type": "scatter3d"
           }
          ],
          "scattercarpet": [
           {
            "marker": {
             "colorbar": {
              "outlinewidth": 0,
              "ticks": ""
             }
            },
            "type": "scattercarpet"
           }
          ],
          "scattergeo": [
           {
            "marker": {
             "colorbar": {
              "outlinewidth": 0,
              "ticks": ""
             }
            },
            "type": "scattergeo"
           }
          ],
          "scattergl": [
           {
            "marker": {
             "colorbar": {
              "outlinewidth": 0,
              "ticks": ""
             }
            },
            "type": "scattergl"
           }
          ],
          "scattermapbox": [
           {
            "marker": {
             "colorbar": {
              "outlinewidth": 0,
              "ticks": ""
             }
            },
            "type": "scattermapbox"
           }
          ],
          "scatterpolar": [
           {
            "marker": {
             "colorbar": {
              "outlinewidth": 0,
              "ticks": ""
             }
            },
            "type": "scatterpolar"
           }
          ],
          "scatterpolargl": [
           {
            "marker": {
             "colorbar": {
              "outlinewidth": 0,
              "ticks": ""
             }
            },
            "type": "scatterpolargl"
           }
          ],
          "scatterternary": [
           {
            "marker": {
             "colorbar": {
              "outlinewidth": 0,
              "ticks": ""
             }
            },
            "type": "scatterternary"
           }
          ],
          "surface": [
           {
            "colorbar": {
             "outlinewidth": 0,
             "ticks": ""
            },
            "colorscale": [
             [
              0,
              "#0d0887"
             ],
             [
              0.1111111111111111,
              "#46039f"
             ],
             [
              0.2222222222222222,
              "#7201a8"
             ],
             [
              0.3333333333333333,
              "#9c179e"
             ],
             [
              0.4444444444444444,
              "#bd3786"
             ],
             [
              0.5555555555555556,
              "#d8576b"
             ],
             [
              0.6666666666666666,
              "#ed7953"
             ],
             [
              0.7777777777777778,
              "#fb9f3a"
             ],
             [
              0.8888888888888888,
              "#fdca26"
             ],
             [
              1,
              "#f0f921"
             ]
            ],
            "type": "surface"
           }
          ],
          "table": [
           {
            "cells": {
             "fill": {
              "color": "#EBF0F8"
             },
             "line": {
              "color": "white"
             }
            },
            "header": {
             "fill": {
              "color": "#C8D4E3"
             },
             "line": {
              "color": "white"
             }
            },
            "type": "table"
           }
          ]
         },
         "layout": {
          "annotationdefaults": {
           "arrowcolor": "#2a3f5f",
           "arrowhead": 0,
           "arrowwidth": 1
          },
          "autotypenumbers": "strict",
          "coloraxis": {
           "colorbar": {
            "outlinewidth": 0,
            "ticks": ""
           }
          },
          "colorscale": {
           "diverging": [
            [
             0,
             "#8e0152"
            ],
            [
             0.1,
             "#c51b7d"
            ],
            [
             0.2,
             "#de77ae"
            ],
            [
             0.3,
             "#f1b6da"
            ],
            [
             0.4,
             "#fde0ef"
            ],
            [
             0.5,
             "#f7f7f7"
            ],
            [
             0.6,
             "#e6f5d0"
            ],
            [
             0.7,
             "#b8e186"
            ],
            [
             0.8,
             "#7fbc41"
            ],
            [
             0.9,
             "#4d9221"
            ],
            [
             1,
             "#276419"
            ]
           ],
           "sequential": [
            [
             0,
             "#0d0887"
            ],
            [
             0.1111111111111111,
             "#46039f"
            ],
            [
             0.2222222222222222,
             "#7201a8"
            ],
            [
             0.3333333333333333,
             "#9c179e"
            ],
            [
             0.4444444444444444,
             "#bd3786"
            ],
            [
             0.5555555555555556,
             "#d8576b"
            ],
            [
             0.6666666666666666,
             "#ed7953"
            ],
            [
             0.7777777777777778,
             "#fb9f3a"
            ],
            [
             0.8888888888888888,
             "#fdca26"
            ],
            [
             1,
             "#f0f921"
            ]
           ],
           "sequentialminus": [
            [
             0,
             "#0d0887"
            ],
            [
             0.1111111111111111,
             "#46039f"
            ],
            [
             0.2222222222222222,
             "#7201a8"
            ],
            [
             0.3333333333333333,
             "#9c179e"
            ],
            [
             0.4444444444444444,
             "#bd3786"
            ],
            [
             0.5555555555555556,
             "#d8576b"
            ],
            [
             0.6666666666666666,
             "#ed7953"
            ],
            [
             0.7777777777777778,
             "#fb9f3a"
            ],
            [
             0.8888888888888888,
             "#fdca26"
            ],
            [
             1,
             "#f0f921"
            ]
           ]
          },
          "colorway": [
           "#636efa",
           "#EF553B",
           "#00cc96",
           "#ab63fa",
           "#FFA15A",
           "#19d3f3",
           "#FF6692",
           "#B6E880",
           "#FF97FF",
           "#FECB52"
          ],
          "font": {
           "color": "#2a3f5f"
          },
          "geo": {
           "bgcolor": "white",
           "lakecolor": "white",
           "landcolor": "#E5ECF6",
           "showlakes": true,
           "showland": true,
           "subunitcolor": "white"
          },
          "hoverlabel": {
           "align": "left"
          },
          "hovermode": "closest",
          "mapbox": {
           "style": "light"
          },
          "paper_bgcolor": "white",
          "plot_bgcolor": "#E5ECF6",
          "polar": {
           "angularaxis": {
            "gridcolor": "white",
            "linecolor": "white",
            "ticks": ""
           },
           "bgcolor": "#E5ECF6",
           "radialaxis": {
            "gridcolor": "white",
            "linecolor": "white",
            "ticks": ""
           }
          },
          "scene": {
           "xaxis": {
            "backgroundcolor": "#E5ECF6",
            "gridcolor": "white",
            "gridwidth": 2,
            "linecolor": "white",
            "showbackground": true,
            "ticks": "",
            "zerolinecolor": "white"
           },
           "yaxis": {
            "backgroundcolor": "#E5ECF6",
            "gridcolor": "white",
            "gridwidth": 2,
            "linecolor": "white",
            "showbackground": true,
            "ticks": "",
            "zerolinecolor": "white"
           },
           "zaxis": {
            "backgroundcolor": "#E5ECF6",
            "gridcolor": "white",
            "gridwidth": 2,
            "linecolor": "white",
            "showbackground": true,
            "ticks": "",
            "zerolinecolor": "white"
           }
          },
          "shapedefaults": {
           "line": {
            "color": "#2a3f5f"
           }
          },
          "ternary": {
           "aaxis": {
            "gridcolor": "white",
            "linecolor": "white",
            "ticks": ""
           },
           "baxis": {
            "gridcolor": "white",
            "linecolor": "white",
            "ticks": ""
           },
           "bgcolor": "#E5ECF6",
           "caxis": {
            "gridcolor": "white",
            "linecolor": "white",
            "ticks": ""
           }
          },
          "title": {
           "x": 0.05
          },
          "xaxis": {
           "automargin": true,
           "gridcolor": "white",
           "linecolor": "white",
           "ticks": "",
           "title": {
            "standoff": 15
           },
           "zerolinecolor": "white",
           "zerolinewidth": 2
          },
          "yaxis": {
           "automargin": true,
           "gridcolor": "white",
           "linecolor": "white",
           "ticks": "",
           "title": {
            "standoff": 15
           },
           "zerolinecolor": "white",
           "zerolinewidth": 2
          }
         }
        },
        "title": {
         "text": "TSMixer Prediction vs. Ground Truth for ALPHA"
        },
        "xaxis": {
         "title": {
          "text": "Time Step"
         }
        },
        "yaxis": {
         "title": {
          "text": "Value"
         }
        }
       }
      }
     },
     "metadata": {},
     "output_type": "display_data"
    },
    {
     "data": {
      "application/vnd.plotly.v1+json": {
       "config": {
        "plotlyServerURL": "https://plot.ly"
       },
       "data": [
        {
         "line": {
          "color": "blue"
         },
         "mode": "lines",
         "name": "GT",
         "type": "scatter",
         "y": [
          7.329073,
          7.541849,
          7.767591,
          8.005835,
          8.256089,
          8.517845,
          8.790563,
          9.073683,
          9.366622,
          9.668775,
          9.979517,
          10.2982,
          10.62416,
          10.95671,
          11.29514,
          11.63874,
          11.98676,
          12.33845,
          12.69304,
          13.04974,
          13.40775,
          13.76625,
          14.12443,
          14.48143,
          14.83642,
          15.18852,
          15.53687,
          15.88059,
          16.21879,
          16.55058,
          16.87504,
          17.19127,
          17.49837,
          17.79542,
          18.08149,
          18.35566,
          18.61703,
          18.86466,
          19.09765,
          19.31508,
          19.51604,
          19.69965,
          19.86502,
          20.01126,
          20.13753,
          20.24298,
          20.32679,
          20.38816,
          20.42634,
          20.44058,
          20.43019,
          20.39451,
          20.33293,
          20.24488,
          20.12988,
          19.98747,
          19.81729,
          19.61905,
          19.39255,
          19.13767,
          18.85439,
          18.54281,
          18.20312,
          17.83566,
          17.44086,
          17.01933,
          16.57178,
          16.09908,
          15.60226,
          15.08246,
          14.53911,
          13.97205,
          13.38175,
          12.76916,
          12.13564,
          11.48289,
          10.8129,
          10.12786,
          9.43019,
          8.722439,
          8.007288,
          7.287513,
          6.565944,
          5.845445,
          5.128887,
          4.419114,
          3.718924,
          3.031042,
          2.358104,
          1.702628,
          1.067004,
          0.4534775,
          -0.1358627,
          -0.6990951,
          -1.234471,
          -1.740419,
          -2.215549,
          -2.658651,
          -3.06869,
          -3.444808,
          -3.786317,
          -4.092694,
          -4.363568,
          -4.598722,
          -4.798077,
          -4.961688,
          -5.089733,
          -5.182504,
          -5.240403,
          -5.263927,
          -5.253666,
          -5.210291,
          -5.134547,
          -5.02725,
          -4.889277,
          -4.72156,
          -4.525082,
          -4.300873,
          -4.05,
          -3.773565,
          -3.472704,
          -3.148579,
          -2.802377,
          -2.435304,
          -2.048585,
          -1.643459,
          -1.221176,
          -0.7829989,
          -0.3301949,
          0.1359602,
          0.6141896,
          1.103213,
          1.60175,
          2.108523,
          2.622257,
          3.14168,
          3.665526,
          4.192535,
          4.721459,
          5.251054,
          5.780088,
          6.307341,
          6.831605,
          7.351684,
          7.866395,
          8.374573,
          8.875067,
          9.366738,
          9.848475,
          10.31917,
          10.77775,
          11.22316,
          11.65434,
          12.07029,
          12.47001,
          12.85253,
          13.2169,
          13.5622,
          13.88754,
          14.19206,
          14.47493,
          14.73535,
          14.97255,
          15.18581,
          15.37444,
          15.53779,
          15.67527,
          15.78632,
          15.87043,
          15.92717,
          15.95613,
          15.957,
          15.92952,
          15.87348,
          15.78878,
          15.67538,
          15.53333,
          15.36275,
          15.16389,
          14.93707,
          14.68271,
          14.40134,
          14.09361,
          13.76026,
          13.40215,
          13.02026,
          12.61567,
          12.18959,
          11.74333,
          11.2783,
          10.79603,
          10.29812,
          9.786301,
          9.262344,
          8.728121,
          8.185552,
          7.636614,
          7.083322,
          6.527716,
          5.971847,
          5.417768,
          4.867517,
          4.323104,
          3.786497,
          3.259613,
          2.744302,
          2.242342,
          1.755424,
          1.285148,
          0.8330106,
          0.4004046,
          -0.01139058,
          -0.4012074,
          -0.7679959,
          -1.110825,
          -1.428881,
          -1.721466,
          -1.988,
          -2.228014,
          -2.441149,
          -2.627152,
          -2.785874,
          -2.917261,
          -3.021353,
          -3.098279,
          -3.148249,
          -3.171555,
          -3.168559,
          -3.139692,
          -3.08545,
          -3.006388,
          -2.903115,
          -2.776289,
          -2.626615,
          -2.454844,
          -2.261758,
          -2.048183,
          -1.81497,
          -1.562999,
          -1.29318,
          -1.006442,
          -0.7037337,
          -0.3860222,
          -0.05429077,
          0.2904645,
          0.6472393,
          1.015017,
          1.392774,
          1.779483,
          2.174114,
          2.575632,
          2.983004,
          3.395196,
          3.811178,
          4.229922,
          4.650406,
          5.071614,
          5.492535,
          5.912168,
          6.329519,
          6.743609,
          7.153467,
          7.558135,
          7.956667,
          8.348136,
          8.731625,
          9.106235,
          9.471087,
          9.825319,
          10.16809,
          10.49857,
          10.81596,
          11.11949,
          11.4084,
          11.68196,
          11.93948,
          12.18028,
          12.40371,
          12.60917,
          12.79607,
          12.96388,
          13.11208,
          13.24021,
          13.34784,
          13.43458,
          13.5001,
          13.5441,
          13.56634,
          13.56664,
          13.54486,
          13.50092,
          13.43481,
          13.34656,
          13.2363,
          13.1042,
          12.95051,
          12.77554,
          12.57968,
          12.3634,
          12.12724,
          11.87181,
          11.59781,
          11.30599,
          10.99721,
          10.67237,
          10.33246,
          9.978536,
          9.61171,
          9.233162,
          8.844129,
          8.445895,
          8.039792,
          7.62719,
          7.209487,
          6.788113,
          6.364507,
          5.940124,
          5.516415,
          5.094827,
          4.676792,
          4.26372,
          3.85699,
          3.3914,
          2.812134,
          2.133465,
          1.365851,
          0.5163671,
          -0.4107478,
          -1.413455,
          -2.491212,
          -3.644182,
          -4.872345,
          -6.174471,
          -7.546928,
          -8.982304,
          -10.46785,
          -11.98378,
          -13.50152,
          -15.07525,
          -16.7785,
          -18.60541,
          -20.54778,
          -22.5949,
          -24.7335,
          -26.94791,
          -29.22026,
          -31.53094,
          -33.85913,
          -36.18346,
          -38.48269,
          -40.73639,
          -42.92555,
          -45.03308,
          -47.04415,
          -48.94635,
          -50.7298,
          -52.38702,
          -53.91281,
          -55.30397,
          -56.55906,
          -57.67813,
          -58.66246,
          -59.51426,
          -60.23655,
          -60.83286,
          -61.30714,
          -61.66364,
          -61.90677,
          -62.04101,
          -62.07091,
          -62.00098,
          -61.83571,
          -61.57949,
          -61.23666,
          -60.81145,
          -60.30803,
          -59.73042,
          -59.0826,
          -58.33001,
          -57.43521,
          -56.39439,
          -55.206,
          -53.87093,
          -52.39282,
          -50.77811,
          -49.03621,
          -47.17941,
          -45.22271,
          -43.18357,
          -41.08143,
          -38.93726,
          -36.77305,
          -34.61134,
          -32.47487,
          -30.34131,
          -28.17661,
          -25.98365,
          -23.76533,
          -21.52459,
          -19.2644,
          -16.98773,
          -14.69756,
          -12.39689,
          -10.08869,
          -7.77594,
          -5.461576,
          -3.148517,
          -0.8396338,
          1.462248,
          3.754361,
          6.033997,
          8.298523,
          10.54539,
          12.77211,
          14.97632,
          17.15571,
          19.3081,
          21.43138,
          23.52355,
          25.58271,
          27.60706,
          29.5949,
          31.54461,
          33.45467,
          35.32364,
          37.15017,
          38.93299,
          40.67088,
          42.36268,
          44.00731,
          45.60369,
          47.15082,
          48.64767,
          50.09325,
          51.48656,
          52.82658,
          54.11223,
          55.3424,
          56.51588,
          57.63139,
          58.68747,
          59.68253,
          60.61477,
          61.48216,
          62.28236,
          63.01265,
          63.66993,
          64.25052,
          64.75013,
          65.16368,
          65.48517,
          65.7074,
          65.82177,
          65.81787,
          65.68311,
          65.40209,
          64.95592,
          64.32126,
          63.46909,
          62.3632,
          60.95814,
          59.19686,
          57.00779,
          54.30205,
          50.97141,
          46.88942,
          41.92003,
          35.94083,
          28.88893,
          20.82866,
          12.01416,
          2.888606,
          -6.019959,
          -14.25775,
          -21.552,
          -27.81613,
          -33.09165,
          -37.48306,
          -41.11275,
          -44.09745,
          -46.53885,
          -48.5217,
          -50.11513,
          -51.37503,
          -52.34653,
          -53.06615,
          -53.56361,
          -53.86325,
          -53.98518,
          -53.94616,
          -53.76025,
          -53.43941,
          -52.99387,
          -52.43246,
          -51.76292,
          -50.99207,
          -50.12595,
          -49.17006,
          -48.12936,
          -47.00841,
          -45.81144,
          -44.54243,
          -43.20509,
          -41.80302,
          -40.33961,
          -38.81819,
          -37.24195,
          -35.61406,
          -33.93759,
          -32.2156,
          -30.45112,
          -28.64714,
          -26.80665,
          -24.93262,
          -23.02803,
          -21.09583,
          -19.13899,
          -17.16044,
          -15.16314,
          -13.15,
          -11.12395,
          -9.087873,
          -7.044638,
          -4.997087,
          -2.948029,
          -0.9002261,
          1.143598,
          3.180767,
          5.208664,
          7.224728,
          9.22646,
          11.21143,
          13.17727,
          15.12169,
          17.04247,
          18.93746,
          20.8046,
          22.64187,
          24.44737,
          26.21921,
          27.95562,
          29.65485,
          31.31523,
          32.93515,
          34.51302,
          36.04729,
          37.53645,
          38.97902,
          40.37349,
          41.71839,
          43.0122,
          44.25339,
          45.44038,
          46.57151,
          47.64506,
          48.65919,
          49.61192,
          50.50114,
          51.32452,
          52.07952,
          52.76333,
          53.37283,
          53.90453,
          54.35451,
          54.71835,
          54.99105,
          55.16695,
          55.23958,
          55.20158,
          55.04453,
          54.75879,
          54.33337,
          53.75563,
          53.01121,
          52.08371,
          50.95462,
          49.60313,
          48.00623,
          46.13891,
          43.97478,
          41.48721,
          38.65122,
          35.44634,
          31.86057,
          27.89523,
          23.57028,
          18.92873,
          14.03858,
          8.990596,
          3.891275,
          -1.148099,
          -6.023489,
          -10.64812,
          -14.95824,
          -18.91415,
          -22.49763,
          -25.7074,
          -28.55417,
          -31.05617,
          -33.23566,
          -35.11645,
          -36.72228,
          -38.07577,
          -39.19794,
          -40.10799,
          -40.82322,
          -41.35916,
          -41.72968,
          -41.94714,
          -42.02258,
          -41.96589,
          -41.78592,
          -41.49065,
          -41.0873,
          -40.58241,
          -39.98198,
          -39.29153,
          -38.51615,
          -37.66058,
          -36.72927,
          -35.72639,
          -34.6559,
          -33.52159,
          -32.32708,
          -31.07585,
          -29.77127,
          -28.41662,
          -27.01511,
          -25.56986,
          -24.08395,
          -22.5604,
          -21.00219,
          -19.41227,
          -17.79356,
          -16.14894,
          -14.48125,
          -12.79333,
          -11.08798,
          -9.367962,
          -7.636021,
          -5.894868
         ]
        },
        {
         "line": {
          "color": "red"
         },
         "mode": "lines",
         "name": "pred_beginning",
         "type": "scatter",
         "y": [
          7.329073000000001,
          7.541849000000001,
          7.767591000000001,
          8.005835,
          8.256089,
          8.517845,
          8.790563,
          9.073683,
          8.878542543810976,
          9.250055208400553,
          9.55502100091967,
          9.873517354409566,
          10.231225169143581,
          10.597747092616759,
          10.939374995769265,
          11.26650640221434,
          11.63281416092628,
          12.021867270551054,
          12.373761038652104,
          12.738731145330735,
          13.08640481436607,
          13.372372700431807,
          13.673700764045378,
          13.999914070735308,
          14.38558794129956,
          14.801820665664124,
          15.274678903989894,
          15.792359018124683,
          16.28909311643081,
          16.732865322551998,
          17.149456158484533,
          17.536004242582365,
          17.871593401647495,
          18.114940744777925,
          18.363326226144046,
          18.590058245789873,
          18.83800837583807,
          19.069322117015307,
          19.27474298746905,
          19.44084531429806,
          19.58471137038439,
          19.71294515434918,
          19.791067895081905,
          19.792816322149065,
          19.681712208185623,
          19.685881399234322,
          19.668395373113864,
          19.625657215104766,
          19.57357129190227,
          19.465230254448574,
          19.33239368356602,
          19.209326185603896,
          19.308670547636712,
          19.898626002342876,
          20.1640586476138,
          20.214171446294724,
          20.06024666822564,
          20.10126273090052,
          20.958172805041492,
          21.854264497795914,
          21.85653429317527,
          21.100395760992416,
          20.959858035949598,
          19.71181640073052,
          18.125643716493258,
          18.16345432954501,
          18.017627437079145,
          16.60001119718082,
          14.889484270965136,
          14.09215062032342,
          13.182993121684591,
          12.672385711017258,
          12.317279471497631,
          12.129985365999197,
          11.818857509110105,
          12.260648691189838,
          12.724410193509563,
          10.860738786244225,
          9.643985393827876,
          8.93500787306347,
          8.84769140777504,
          8.53103652014202,
          7.0643664560891395,
          5.796308973507477,
          4.27793742955301,
          2.3671442890375265,
          0.725968125588107,
          -0.5557267809138473,
          -1.2588520740325269,
          -2.008863211960438,
          -2.6644369062887416,
          -3.086129076616022,
          -3.5657387712673905,
          -4.075290279443864,
          -4.386203971571717,
          -4.226306278747604,
          -4.2170620850370995,
          -4.286664754715149,
          -4.552973368968518,
          -5.090521653330324,
          -5.0728495496304316,
          -4.658732141145313,
          -4.536334346924271,
          -4.226429160167985,
          -4.308468307313195,
          -4.4949979148319645,
          -4.089521703373043,
          -4.051257306790303,
          -4.02281727976716,
          -4.730146434049576,
          -5.253534829023355,
          -4.871230981413099,
          -4.7842721888304265,
          -5.003946426324131,
          -4.81507417229821,
          -4.100857514403346,
          -4.029666163504633,
          -3.469194350170435,
          -2.061988799751816,
          -2.1403147336903907,
          -2.238012045827864,
          -0.936307216603236,
          -1.772504310752057,
          -1.9196069756788234,
          -0.8847997138009687,
          0.4254339637226501,
          2.226341491216451,
          4.442917805127703,
          6.790404962519222,
          9.459263459775379,
          12.242263875251725,
          14.30452482372196,
          16.59607021448426,
          18.588924225824627,
          20.233105717726836,
          21.478524712345173,
          22.379366649721817,
          23.083484210310086,
          23.474052272303293,
          23.789502922016563,
          24.04534555015105,
          24.20186488163907,
          24.1413738692824,
          23.74544466646278,
          23.23000977142327,
          22.661951785829302,
          22.0120108880389,
          21.298505186933394,
          20.638424816512554,
          19.823183832023354,
          18.896966881337683,
          18.05306819416638,
          17.380252042247303,
          16.843700852839458,
          16.545801180854564,
          16.278778098914113,
          16.002196597916754,
          15.675491765545294,
          15.314692605364224,
          15.072663604329612,
          14.895019201228944,
          14.572606441326565,
          14.25477013660901,
          13.9938015977957,
          13.78550354665614,
          13.617940686373439,
          13.450602523545152,
          13.299024780605379,
          13.175571083893477,
          13.026735352077099,
          12.864403729404975,
          12.71074753501187,
          12.491609587145692,
          12.288182906599873,
          12.098618127997652,
          11.892083425240582,
          11.747938252785097,
          11.605597681760376,
          11.45463785682024,
          11.272557434443756,
          11.072158903185938,
          10.803706885871325,
          10.464492724904906,
          10.073638524747093,
          9.551685648080712,
          8.94091715279723,
          8.211642693421114,
          7.7571815591754945,
          7.248444579271272,
          6.779801173664628,
          6.157306718841129,
          5.667488869622577,
          5.284730799619121,
          4.729664232764007,
          4.688434663621212,
          4.445794546951305,
          4.1065046822526865,
          3.7903874008338416,
          3.383079378486786,
          2.785135095437994,
          2.3268808750624905,
          2.057378441034712,
          1.4646452079345775,
          1.197675447753329,
          0.7191938484272955,
          -0.011669731031698216,
          -1.696151501335056,
          -1.9499380599892127,
          -1.8721852801042806,
          -1.8373220656928484,
          -1.9507460053282286,
          -2.811063405711525,
          -3.7340599854587375,
          -4.26769712975465,
          -5.17194551564919,
          -6.035006243742529,
          -6.957029427095424,
          -7.850182498453838,
          -8.542457801014942,
          -8.224763687655258,
          -7.7780089739164975,
          -7.655320652908692,
          -6.505812362347909,
          -5.250085372008327,
          -2.1502922661632495,
          -0.7465515329372061,
          0.7679312529243647,
          2.145903752296157,
          4.0906413491746045,
          5.230064147157479,
          5.454518471904071,
          5.86654338534496,
          5.965976836407554,
          6.1495994206098405,
          6.389023335532338,
          6.553791521225763,
          6.635147359901202,
          6.546476565815269,
          6.399480983269122,
          6.347793108096221,
          6.4748393309054535,
          6.657989699363698,
          6.6701009799290585,
          6.562952331115293,
          6.431422253048739,
          6.368158509213574,
          6.484272235368687,
          7.2259410414392615,
          7.450957109821887,
          7.640060205373242,
          7.874535509952043,
          8.271511399155992,
          8.575541537431338,
          8.756230766584203,
          8.616659855002464,
          8.318352918881443,
          8.131906256321432,
          8.05430400617647,
          8.202684637875215,
          8.474734008771534,
          8.731168223172721,
          8.993540243351687,
          9.319711858131129,
          9.609601416955936,
          9.863528850381316,
          10.0955588146945,
          10.258315255991375,
          10.36696613016932,
          10.517315936629698,
          10.618147163849148,
          10.677033695945395,
          10.741406883461732,
          10.73739129418851,
          10.700446117426024,
          10.606594554884312,
          10.619409331581364,
          10.638861460427943,
          10.862852346674806,
          11.24875530331563,
          11.344292096765447,
          11.251274372433475,
          11.083162056656777,
          10.889009412452126,
          10.723503938236405,
          10.623508304675559,
          10.567595502952571,
          10.476674662286987,
          10.382594013668704,
          10.294335311203268,
          10.126003564318744,
          9.940025167742835,
          9.678618644438306,
          9.248182144464149,
          8.747981473516584,
          8.408900726663722,
          8.20836044291025,
          8.126818526655374,
          8.04878619153907,
          7.963276083130266,
          7.860132490896545,
          7.760941730639205,
          7.587830335364011,
          7.319362519009633,
          7.140214135095924,
          6.952574206171555,
          6.456034962689177,
          5.627134391737794,
          4.9416311720264225,
          4.24015161221644,
          3.524791498818693,
          2.7419062894717947,
          2.0283387087938802,
          1.207266562045306,
          0.23002178495907555,
          -0.9130944774307301,
          -2.247427395802472,
          -3.97822185686142,
          -5.603585375818666,
          -7.343017523006084,
          -8.090601752881437,
          -8.850547853647289,
          -9.747145115674142,
          -10.718313845384664,
          -11.635674556558468,
          -12.443540900375844,
          -13.469723641991697,
          -14.370983376197644,
          -14.999604347551651,
          -16.448813400630367,
          -19.576593188829822,
          -24.18964246064372,
          -28.991902788114025,
          -33.174512487918264,
          -36.790589687190135,
          -39.460676559787906,
          -41.18831560151631,
          -42.84632651955816,
          -43.99982494538366,
          -44.68587893717567,
          -45.08978314417813,
          -45.37314769958061,
          -45.602072274855836,
          -45.928561187017195,
          -46.401686253570084,
          -46.99278450548581,
          -47.70699589703408,
          -48.566414507599724,
          -49.45827732404412,
          -50.355332758224115,
          -51.24112874339933,
          -52.10998464705036,
          -52.96280979168804,
          -53.8816468353553,
          -54.782536169851234,
          -55.68124172596208,
          -56.54396058038943,
          -57.372630748677594,
          -58.17156361323315,
          -58.9201572262045,
          -59.592037723879805,
          -60.23567656025344,
          -60.87664009256046,
          -61.44786315245371,
          -61.953474555658055,
          -62.392371880287776,
          -62.752941076667845,
          -63.05312283217413,
          -63.27517306970338,
          -63.42039082141391,
          -63.47193080002014,
          -63.404928827832045,
          -63.24999993301355,
          -63.017880440808376,
          -62.69180932547632,
          -62.260727259182936,
          -61.742806648553966,
          -61.142969772200175,
          -60.46243842252993,
          -59.67974697085124,
          -58.722254943229316,
          -57.71459920890945,
          -56.55089811429446,
          -55.10254045391411,
          -53.41298411981116,
          -52.002161467011135,
          -49.259023345444724,
          -46.99294249588344,
          -43.95435881984206,
          -40.01258617129472,
          -35.66135507554363,
          -31.25564537979031,
          -26.901595033165872,
          -22.22989797030104,
          -17.537391816618825,
          -12.764066552750919,
          -9.214239993553939,
          -6.556915234187345,
          -4.29918900462544,
          -1.9832327808419028,
          0.43674475960666115,
          2.7931520109624257,
          5.19264675465095,
          7.600448062926235,
          10.054124955190321,
          12.384193671242596,
          14.638804417935583,
          16.82069218459723,
          18.81636369136209,
          20.806372120096164,
          22.810508401276525,
          24.749403425477993,
          26.324083186011748,
          27.56907560655647,
          29.329655646191753,
          30.77821342774244,
          31.803922198165388,
          33.51447721156288,
          34.92814720241805,
          35.96875622278684,
          36.96318991627353,
          37.853220044105356,
          38.62868255736782,
          39.313971173455734,
          39.84739239754155,
          40.24620931374016,
          40.49094697236978,
          40.58811808871068,
          40.58999290809595,
          40.54407738764552,
          40.33013030206608,
          39.982839320882796,
          39.6601737763442,
          39.33542978035228,
          39.00126253486586,
          38.714576670215315,
          38.386507854077614,
          38.219964909584085,
          38.301006961775336,
          38.66304020250682,
          39.02088494225212,
          39.28700747892605,
          39.682927904501355,
          40.181233129539514,
          40.74060690961015,
          41.2690496807216,
          41.693411888768914,
          42.05487987496664,
          42.44751058937341,
          42.76186583899641,
          42.997675284710795,
          43.215013897492796,
          43.364044484132926,
          43.43574403747736,
          43.43283701416088,
          43.35975065621498,
          43.43616534520439,
          43.539462978075804,
          43.53078052800134,
          43.42984572929899,
          43.20782357895155,
          42.877012751690444,
          42.42687353254457,
          41.86332880597637,
          41.15366051608453,
          40.28703754338674,
          39.002561567024195,
          37.44335433276548,
          35.46514603128587,
          32.43142845949164,
          29.98004944978871,
          25.768511708177527,
          20.70052557547624,
          15.58719444320488,
          10.163220835654936,
          7.3394979563259835,
          5.906266998794742,
          4.414398563474635,
          1.8436839206603792,
          -4.233058612797633,
          -12.80248806200686,
          -19.147101559205964,
          -24.523572720533682,
          -28.494117175939195,
          -31.334001595221764,
          -33.53022611274435,
          -35.24090751845994,
          -36.50538893227736,
          -37.36290112537821,
          -37.94543278684439,
          -38.28265451335175,
          -38.39825784275006,
          -38.34249776507812,
          -38.12911944493016,
          -37.840541206405724,
          -37.431746318872044,
          -37.00989089180054,
          -36.42271431264389,
          -35.71329178559281,
          -34.74506343272716,
          -33.33621741534643,
          -31.785741783730337,
          -30.237657073465122,
          -28.748657261017627,
          -27.24526978969218,
          -25.732020206656593,
          -24.070356199531656,
          -22.242649550839037,
          -20.443070459272015,
          -18.71864037806446,
          -16.974054233016417,
          -15.103667356127163,
          -13.159611312269625,
          -11.275323035837365,
          -8.987053312652694,
          -6.62115412986569,
          -4.289468206548738,
          -1.324075337660581,
          1.8522979082292057,
          4.880401115698591,
          7.794368549018808,
          10.689040966165647,
          13.391510603931978,
          15.663101807472993,
          17.886123251883316,
          19.849462901496622,
          21.088434132442593,
          22.674619104821897,
          24.39327727016919,
          26.043041089454498,
          27.719698385314988,
          29.291790614225256,
          30.700710360458213,
          31.87739826575879,
          33.078848532715334,
          33.20333794425618,
          34.716250481110144,
          35.596158690800166,
          36.21758407726634,
          36.73623495462215,
          37.088546519552494,
          37.32993478175226,
          37.488799392920725,
          37.46335591710606,
          37.14152596622606,
          36.825362604274574,
          36.5513124605371,
          36.22569425101159,
          35.841180732145524,
          35.34592296633286,
          34.61401665024947,
          33.975275516202515,
          33.4781183547205,
          33.23618239247561,
          33.14427060092708,
          33.21602983953285,
          33.422509245650744,
          33.63635802609388,
          33.82958379329907,
          34.190928898076415,
          34.74552785724075,
          35.27170258842171,
          35.75609763667255,
          36.16971298678296,
          36.454165920480264,
          36.58394274399529,
          36.562849270462166,
          36.374731859447174,
          36.16166600919676,
          35.85800846494251,
          35.53660684358499,
          35.21553524661364,
          34.8949376208352,
          34.62611520381058,
          34.554513955602445,
          34.76091612197039,
          34.89565384397115,
          34.85996907949201,
          34.61799098647442,
          34.3316983423691,
          33.67164254823234,
          32.24873187456438,
          30.69579861454063,
          28.83245284303931,
          27.563958473121964,
          25.515479553672076,
          22.88930874527022,
          20.012063107844725,
          18.28226486401531,
          14.284135285182748,
          10.983626350697936,
          8.273376563572516,
          6.100930917480629,
          3.978918220055985,
          1.2840999255884462,
          -1.5677491942794575,
          -4.888968036720909,
          -10.299997403220182,
          -17.275794827112705,
          -22.75789836829911,
          -25.443568360450264,
          -27.311794279789645,
          -28.829685269617972,
          -30.174460914411164,
          -31.365687447191874,
          -32.396630966123126,
          -33.178293724768324,
          -33.714284925989,
          -33.95257306549738,
          -34.00409900051271,
          -33.912169654475555,
          -33.70138939864426,
          -33.32505978237568,
          -32.81064655857421,
          -32.13111581475566,
          -31.379650287445074,
          -30.552005301292674,
          -29.680179178166107,
          -28.78552519803016,
          -27.649188040285537,
          -26.247925561991284,
          -24.834631237192703,
          -23.487436583866835,
          -22.207786336427603,
          -21.0067942416242,
          -19.753946187419295,
          -18.315382176243446,
          -16.88875346188448,
          -15.397564604705307,
          -13.565709830350341,
          -11.33106555902068,
          -9.015849695794946,
          -6.6457620120217555,
          -4.546526483020584,
          -2.2497880356604676,
          0.28606141786238615,
          2.9740093243438857,
          5.8406786018032655,
          8.820870782327654,
          11.598651370611028,
          13.980728770115846,
          16.66390426943323
         ]
        }
       ],
       "layout": {
        "template": {
         "data": {
          "bar": [
           {
            "error_x": {
             "color": "#2a3f5f"
            },
            "error_y": {
             "color": "#2a3f5f"
            },
            "marker": {
             "line": {
              "color": "#E5ECF6",
              "width": 0.5
             },
             "pattern": {
              "fillmode": "overlay",
              "size": 10,
              "solidity": 0.2
             }
            },
            "type": "bar"
           }
          ],
          "barpolar": [
           {
            "marker": {
             "line": {
              "color": "#E5ECF6",
              "width": 0.5
             },
             "pattern": {
              "fillmode": "overlay",
              "size": 10,
              "solidity": 0.2
             }
            },
            "type": "barpolar"
           }
          ],
          "carpet": [
           {
            "aaxis": {
             "endlinecolor": "#2a3f5f",
             "gridcolor": "white",
             "linecolor": "white",
             "minorgridcolor": "white",
             "startlinecolor": "#2a3f5f"
            },
            "baxis": {
             "endlinecolor": "#2a3f5f",
             "gridcolor": "white",
             "linecolor": "white",
             "minorgridcolor": "white",
             "startlinecolor": "#2a3f5f"
            },
            "type": "carpet"
           }
          ],
          "choropleth": [
           {
            "colorbar": {
             "outlinewidth": 0,
             "ticks": ""
            },
            "type": "choropleth"
           }
          ],
          "contour": [
           {
            "colorbar": {
             "outlinewidth": 0,
             "ticks": ""
            },
            "colorscale": [
             [
              0,
              "#0d0887"
             ],
             [
              0.1111111111111111,
              "#46039f"
             ],
             [
              0.2222222222222222,
              "#7201a8"
             ],
             [
              0.3333333333333333,
              "#9c179e"
             ],
             [
              0.4444444444444444,
              "#bd3786"
             ],
             [
              0.5555555555555556,
              "#d8576b"
             ],
             [
              0.6666666666666666,
              "#ed7953"
             ],
             [
              0.7777777777777778,
              "#fb9f3a"
             ],
             [
              0.8888888888888888,
              "#fdca26"
             ],
             [
              1,
              "#f0f921"
             ]
            ],
            "type": "contour"
           }
          ],
          "contourcarpet": [
           {
            "colorbar": {
             "outlinewidth": 0,
             "ticks": ""
            },
            "type": "contourcarpet"
           }
          ],
          "heatmap": [
           {
            "colorbar": {
             "outlinewidth": 0,
             "ticks": ""
            },
            "colorscale": [
             [
              0,
              "#0d0887"
             ],
             [
              0.1111111111111111,
              "#46039f"
             ],
             [
              0.2222222222222222,
              "#7201a8"
             ],
             [
              0.3333333333333333,
              "#9c179e"
             ],
             [
              0.4444444444444444,
              "#bd3786"
             ],
             [
              0.5555555555555556,
              "#d8576b"
             ],
             [
              0.6666666666666666,
              "#ed7953"
             ],
             [
              0.7777777777777778,
              "#fb9f3a"
             ],
             [
              0.8888888888888888,
              "#fdca26"
             ],
             [
              1,
              "#f0f921"
             ]
            ],
            "type": "heatmap"
           }
          ],
          "heatmapgl": [
           {
            "colorbar": {
             "outlinewidth": 0,
             "ticks": ""
            },
            "colorscale": [
             [
              0,
              "#0d0887"
             ],
             [
              0.1111111111111111,
              "#46039f"
             ],
             [
              0.2222222222222222,
              "#7201a8"
             ],
             [
              0.3333333333333333,
              "#9c179e"
             ],
             [
              0.4444444444444444,
              "#bd3786"
             ],
             [
              0.5555555555555556,
              "#d8576b"
             ],
             [
              0.6666666666666666,
              "#ed7953"
             ],
             [
              0.7777777777777778,
              "#fb9f3a"
             ],
             [
              0.8888888888888888,
              "#fdca26"
             ],
             [
              1,
              "#f0f921"
             ]
            ],
            "type": "heatmapgl"
           }
          ],
          "histogram": [
           {
            "marker": {
             "pattern": {
              "fillmode": "overlay",
              "size": 10,
              "solidity": 0.2
             }
            },
            "type": "histogram"
           }
          ],
          "histogram2d": [
           {
            "colorbar": {
             "outlinewidth": 0,
             "ticks": ""
            },
            "colorscale": [
             [
              0,
              "#0d0887"
             ],
             [
              0.1111111111111111,
              "#46039f"
             ],
             [
              0.2222222222222222,
              "#7201a8"
             ],
             [
              0.3333333333333333,
              "#9c179e"
             ],
             [
              0.4444444444444444,
              "#bd3786"
             ],
             [
              0.5555555555555556,
              "#d8576b"
             ],
             [
              0.6666666666666666,
              "#ed7953"
             ],
             [
              0.7777777777777778,
              "#fb9f3a"
             ],
             [
              0.8888888888888888,
              "#fdca26"
             ],
             [
              1,
              "#f0f921"
             ]
            ],
            "type": "histogram2d"
           }
          ],
          "histogram2dcontour": [
           {
            "colorbar": {
             "outlinewidth": 0,
             "ticks": ""
            },
            "colorscale": [
             [
              0,
              "#0d0887"
             ],
             [
              0.1111111111111111,
              "#46039f"
             ],
             [
              0.2222222222222222,
              "#7201a8"
             ],
             [
              0.3333333333333333,
              "#9c179e"
             ],
             [
              0.4444444444444444,
              "#bd3786"
             ],
             [
              0.5555555555555556,
              "#d8576b"
             ],
             [
              0.6666666666666666,
              "#ed7953"
             ],
             [
              0.7777777777777778,
              "#fb9f3a"
             ],
             [
              0.8888888888888888,
              "#fdca26"
             ],
             [
              1,
              "#f0f921"
             ]
            ],
            "type": "histogram2dcontour"
           }
          ],
          "mesh3d": [
           {
            "colorbar": {
             "outlinewidth": 0,
             "ticks": ""
            },
            "type": "mesh3d"
           }
          ],
          "parcoords": [
           {
            "line": {
             "colorbar": {
              "outlinewidth": 0,
              "ticks": ""
             }
            },
            "type": "parcoords"
           }
          ],
          "pie": [
           {
            "automargin": true,
            "type": "pie"
           }
          ],
          "scatter": [
           {
            "fillpattern": {
             "fillmode": "overlay",
             "size": 10,
             "solidity": 0.2
            },
            "type": "scatter"
           }
          ],
          "scatter3d": [
           {
            "line": {
             "colorbar": {
              "outlinewidth": 0,
              "ticks": ""
             }
            },
            "marker": {
             "colorbar": {
              "outlinewidth": 0,
              "ticks": ""
             }
            },
            "type": "scatter3d"
           }
          ],
          "scattercarpet": [
           {
            "marker": {
             "colorbar": {
              "outlinewidth": 0,
              "ticks": ""
             }
            },
            "type": "scattercarpet"
           }
          ],
          "scattergeo": [
           {
            "marker": {
             "colorbar": {
              "outlinewidth": 0,
              "ticks": ""
             }
            },
            "type": "scattergeo"
           }
          ],
          "scattergl": [
           {
            "marker": {
             "colorbar": {
              "outlinewidth": 0,
              "ticks": ""
             }
            },
            "type": "scattergl"
           }
          ],
          "scattermapbox": [
           {
            "marker": {
             "colorbar": {
              "outlinewidth": 0,
              "ticks": ""
             }
            },
            "type": "scattermapbox"
           }
          ],
          "scatterpolar": [
           {
            "marker": {
             "colorbar": {
              "outlinewidth": 0,
              "ticks": ""
             }
            },
            "type": "scatterpolar"
           }
          ],
          "scatterpolargl": [
           {
            "marker": {
             "colorbar": {
              "outlinewidth": 0,
              "ticks": ""
             }
            },
            "type": "scatterpolargl"
           }
          ],
          "scatterternary": [
           {
            "marker": {
             "colorbar": {
              "outlinewidth": 0,
              "ticks": ""
             }
            },
            "type": "scatterternary"
           }
          ],
          "surface": [
           {
            "colorbar": {
             "outlinewidth": 0,
             "ticks": ""
            },
            "colorscale": [
             [
              0,
              "#0d0887"
             ],
             [
              0.1111111111111111,
              "#46039f"
             ],
             [
              0.2222222222222222,
              "#7201a8"
             ],
             [
              0.3333333333333333,
              "#9c179e"
             ],
             [
              0.4444444444444444,
              "#bd3786"
             ],
             [
              0.5555555555555556,
              "#d8576b"
             ],
             [
              0.6666666666666666,
              "#ed7953"
             ],
             [
              0.7777777777777778,
              "#fb9f3a"
             ],
             [
              0.8888888888888888,
              "#fdca26"
             ],
             [
              1,
              "#f0f921"
             ]
            ],
            "type": "surface"
           }
          ],
          "table": [
           {
            "cells": {
             "fill": {
              "color": "#EBF0F8"
             },
             "line": {
              "color": "white"
             }
            },
            "header": {
             "fill": {
              "color": "#C8D4E3"
             },
             "line": {
              "color": "white"
             }
            },
            "type": "table"
           }
          ]
         },
         "layout": {
          "annotationdefaults": {
           "arrowcolor": "#2a3f5f",
           "arrowhead": 0,
           "arrowwidth": 1
          },
          "autotypenumbers": "strict",
          "coloraxis": {
           "colorbar": {
            "outlinewidth": 0,
            "ticks": ""
           }
          },
          "colorscale": {
           "diverging": [
            [
             0,
             "#8e0152"
            ],
            [
             0.1,
             "#c51b7d"
            ],
            [
             0.2,
             "#de77ae"
            ],
            [
             0.3,
             "#f1b6da"
            ],
            [
             0.4,
             "#fde0ef"
            ],
            [
             0.5,
             "#f7f7f7"
            ],
            [
             0.6,
             "#e6f5d0"
            ],
            [
             0.7,
             "#b8e186"
            ],
            [
             0.8,
             "#7fbc41"
            ],
            [
             0.9,
             "#4d9221"
            ],
            [
             1,
             "#276419"
            ]
           ],
           "sequential": [
            [
             0,
             "#0d0887"
            ],
            [
             0.1111111111111111,
             "#46039f"
            ],
            [
             0.2222222222222222,
             "#7201a8"
            ],
            [
             0.3333333333333333,
             "#9c179e"
            ],
            [
             0.4444444444444444,
             "#bd3786"
            ],
            [
             0.5555555555555556,
             "#d8576b"
            ],
            [
             0.6666666666666666,
             "#ed7953"
            ],
            [
             0.7777777777777778,
             "#fb9f3a"
            ],
            [
             0.8888888888888888,
             "#fdca26"
            ],
            [
             1,
             "#f0f921"
            ]
           ],
           "sequentialminus": [
            [
             0,
             "#0d0887"
            ],
            [
             0.1111111111111111,
             "#46039f"
            ],
            [
             0.2222222222222222,
             "#7201a8"
            ],
            [
             0.3333333333333333,
             "#9c179e"
            ],
            [
             0.4444444444444444,
             "#bd3786"
            ],
            [
             0.5555555555555556,
             "#d8576b"
            ],
            [
             0.6666666666666666,
             "#ed7953"
            ],
            [
             0.7777777777777778,
             "#fb9f3a"
            ],
            [
             0.8888888888888888,
             "#fdca26"
            ],
            [
             1,
             "#f0f921"
            ]
           ]
          },
          "colorway": [
           "#636efa",
           "#EF553B",
           "#00cc96",
           "#ab63fa",
           "#FFA15A",
           "#19d3f3",
           "#FF6692",
           "#B6E880",
           "#FF97FF",
           "#FECB52"
          ],
          "font": {
           "color": "#2a3f5f"
          },
          "geo": {
           "bgcolor": "white",
           "lakecolor": "white",
           "landcolor": "#E5ECF6",
           "showlakes": true,
           "showland": true,
           "subunitcolor": "white"
          },
          "hoverlabel": {
           "align": "left"
          },
          "hovermode": "closest",
          "mapbox": {
           "style": "light"
          },
          "paper_bgcolor": "white",
          "plot_bgcolor": "#E5ECF6",
          "polar": {
           "angularaxis": {
            "gridcolor": "white",
            "linecolor": "white",
            "ticks": ""
           },
           "bgcolor": "#E5ECF6",
           "radialaxis": {
            "gridcolor": "white",
            "linecolor": "white",
            "ticks": ""
           }
          },
          "scene": {
           "xaxis": {
            "backgroundcolor": "#E5ECF6",
            "gridcolor": "white",
            "gridwidth": 2,
            "linecolor": "white",
            "showbackground": true,
            "ticks": "",
            "zerolinecolor": "white"
           },
           "yaxis": {
            "backgroundcolor": "#E5ECF6",
            "gridcolor": "white",
            "gridwidth": 2,
            "linecolor": "white",
            "showbackground": true,
            "ticks": "",
            "zerolinecolor": "white"
           },
           "zaxis": {
            "backgroundcolor": "#E5ECF6",
            "gridcolor": "white",
            "gridwidth": 2,
            "linecolor": "white",
            "showbackground": true,
            "ticks": "",
            "zerolinecolor": "white"
           }
          },
          "shapedefaults": {
           "line": {
            "color": "#2a3f5f"
           }
          },
          "ternary": {
           "aaxis": {
            "gridcolor": "white",
            "linecolor": "white",
            "ticks": ""
           },
           "baxis": {
            "gridcolor": "white",
            "linecolor": "white",
            "ticks": ""
           },
           "bgcolor": "#E5ECF6",
           "caxis": {
            "gridcolor": "white",
            "linecolor": "white",
            "ticks": ""
           }
          },
          "title": {
           "x": 0.05
          },
          "xaxis": {
           "automargin": true,
           "gridcolor": "white",
           "linecolor": "white",
           "ticks": "",
           "title": {
            "standoff": 15
           },
           "zerolinecolor": "white",
           "zerolinewidth": 2
          },
          "yaxis": {
           "automargin": true,
           "gridcolor": "white",
           "linecolor": "white",
           "ticks": "",
           "title": {
            "standoff": 15
           },
           "zerolinecolor": "white",
           "zerolinewidth": 2
          }
         }
        },
        "title": {
         "text": "TSMixer Prediction vs. Ground Truth for GAMMA"
        },
        "xaxis": {
         "title": {
          "text": "Time Step"
         }
        },
        "yaxis": {
         "title": {
          "text": "Value"
         }
        }
       }
      }
     },
     "metadata": {},
     "output_type": "display_data"
    },
    {
     "data": {
      "application/vnd.plotly.v1+json": {
       "config": {
        "plotlyServerURL": "https://plot.ly"
       },
       "data": [
        {
         "line": {
          "color": "blue"
         },
         "mode": "lines",
         "name": "GT",
         "type": "scatter",
         "y": [
          15.35107,
          15.81385,
          16.12709,
          16.45284,
          16.79059,
          17.13984,
          17.50006,
          17.87068,
          18.25112,
          18.64077,
          19.03901,
          19.4452,
          19.85865,
          20.2787,
          20.70464,
          21.13573,
          21.57125,
          22.01044,
          22.45253,
          22.89673,
          23.34224,
          23.78824,
          24.23392,
          24.67842,
          25.12091,
          25.56051,
          25.99636,
          26.42758,
          26.85328,
          27.27256,
          27.68452,
          28.08826,
          28.48286,
          28.8674,
          29.24097,
          29.60265,
          29.95151,
          30.28664,
          30.60713,
          30.91206,
          31.20052,
          31.47163,
          31.72449,
          31.95824,
          32.172,
          32.36495,
          32.53626,
          32.68514,
          32.81081,
          32.91256,
          32.98967,
          33.04148,
          33.0674,
          33.06685,
          33.03935,
          32.98444,
          32.90176,
          32.79102,
          32.65202,
          32.48464,
          32.28886,
          32.06478,
          31.81259,
          31.53262,
          31.22533,
          30.8913,
          30.53125,
          30.14605,
          29.73672,
          29.30442,
          28.82921,
          28.31325,
          27.76127,
          27.17743,
          26.56547,
          25.92889,
          25.27102,
          24.59508,
          23.90422,
          23.20159,
          22.49028,
          21.77338,
          21.05397,
          20.33509,
          19.61975,
          18.91088,
          18.21137,
          17.52401,
          16.85145,
          16.19626,
          15.56086,
          14.94749,
          14.35827,
          13.79513,
          13.25982,
          12.75393,
          12.27883,
          11.83576,
          11.42575,
          11.04964,
          10.70815,
          10.40178,
          10.13091,
          9.895763,
          9.696412,
          9.532804,
          9.40476,
          9.311991,
          9.254093,
          9.230569,
          9.240829,
          9.284205,
          9.359949,
          9.467247,
          9.605219,
          9.772937,
          9.969414,
          10.19362,
          10.4445,
          10.72093,
          11.02179,
          11.34592,
          11.69212,
          12.05919,
          12.44591,
          12.85104,
          13.27332,
          13.7115,
          14.1643,
          14.63046,
          15.10869,
          15.59771,
          16.09625,
          16.60302,
          17.11675,
          17.63618,
          18.16002,
          18.68703,
          19.21596,
          19.74555,
          20.27458,
          20.80184,
          21.3261,
          21.84618,
          22.36089,
          22.86907,
          23.36956,
          23.86123,
          24.34297,
          24.81367,
          25.27225,
          25.71765,
          26.14884,
          26.56479,
          26.9645,
          27.34702,
          27.71139,
          28.0567,
          28.38204,
          28.68656,
          28.96943,
          29.22985,
          29.46705,
          29.68031,
          29.86894,
          30.03229,
          30.16977,
          30.28081,
          30.36493,
          30.42167,
          30.45063,
          30.4515,
          30.42402,
          30.36798,
          30.28328,
          30.16988,
          30.02782,
          29.85725,
          29.65839,
          29.43156,
          29.1772,
          28.89584,
          28.5881,
          28.25475,
          27.89664,
          27.51475,
          27.11017,
          26.68409,
          26.23783,
          25.7728,
          25.29052,
          24.79262,
          24.2808,
          23.75684,
          23.22262,
          22.68005,
          22.13111,
          21.57782,
          21.02221,
          20.46634,
          19.91227,
          19.36201,
          18.8176,
          18.28099,
          17.75411,
          17.2388,
          16.73684,
          16.24992,
          15.77964,
          15.32751,
          14.8949,
          14.48311,
          14.09329,
          13.7265,
          13.38367,
          13.06562,
          12.77303,
          12.5065,
          12.26648,
          12.05335,
          11.86734,
          11.70862,
          11.57724,
          11.47314,
          11.39622,
          11.34625,
          11.32294,
          11.32594,
          11.3548,
          11.40905,
          11.48811,
          11.59138,
          11.71821,
          11.86788,
          12.03965,
          12.23274,
          12.44631,
          12.67953,
          12.9315,
          13.20132,
          13.48805,
          13.79076,
          14.10847,
          14.44021,
          14.78496,
          15.14174,
          15.50951,
          15.88727,
          16.27398,
          16.66861,
          17.07013,
          17.4775,
          17.88969,
          18.30567,
          18.72442,
          19.1449,
          19.56611,
          19.98703,
          20.40666,
          20.82401,
          21.23811,
          21.64796,
          22.05263,
          22.45116,
          22.84263,
          23.22612,
          23.60073,
          23.96558,
          24.31982,
          24.66258,
          24.99306,
          25.31046,
          25.61399,
          25.90289,
          26.17646,
          26.43398,
          26.67477,
          26.8982,
          27.10366,
          27.29057,
          27.45837,
          27.60658,
          27.7347,
          27.84233,
          27.92907,
          27.99459,
          28.0386,
          28.06084,
          28.06114,
          28.03936,
          27.99541,
          27.9293,
          27.84106,
          27.7308,
          27.5987,
          27.445,
          27.27003,
          27.07418,
          26.8579,
          26.62173,
          26.36631,
          26.0923,
          25.80049,
          25.49171,
          25.16687,
          24.82696,
          24.47303,
          24.1062,
          23.72766,
          23.33862,
          22.94039,
          22.53429,
          22.12169,
          21.70398,
          21.28261,
          20.859,
          20.43462,
          20.01091,
          19.58932,
          19.17129,
          18.75822,
          18.35149,
          17.8859,
          17.30663,
          16.62796,
          15.86035,
          15.01086,
          14.08375,
          13.08104,
          12.00328,
          10.85031,
          9.62215,
          8.320024,
          6.947568,
          5.512193,
          4.026646,
          2.51072,
          0.9929781,
          -0.5807543,
          -2.283999,
          -4.110913,
          -6.053285,
          -8.1004,
          -10.23901,
          -12.45341,
          -14.72576,
          -17.03645,
          -19.36464,
          -21.68897,
          -23.9882,
          -26.24189,
          -28.43106,
          -30.53859,
          -32.54965,
          -34.45185,
          -36.2353,
          -37.89252,
          -39.41832,
          -40.80947,
          -42.06456,
          -43.18364,
          -44.16796,
          -45.01977,
          -45.74205,
          -46.33836,
          -46.81265,
          -47.16915,
          -47.41227,
          -47.54652,
          -47.57642,
          -47.50649,
          -47.34121,
          -47.085,
          -46.74216,
          -46.31696,
          -45.81353,
          -45.23592,
          -44.5881,
          -43.83552,
          -42.94072,
          -41.8999,
          -40.7115,
          -39.37644,
          -37.89832,
          -36.28362,
          -34.54171,
          -32.68491,
          -30.72821,
          -28.68907,
          -26.58693,
          -24.44277,
          -22.27856,
          -20.11684,
          -17.98037,
          -15.84682,
          -13.68212,
          -11.48915,
          -9.270833,
          -7.030095,
          -4.769904,
          -2.49323,
          -0.2030649,
          2.097607,
          4.405805,
          6.718556,
          9.03292,
          11.34598,
          13.65486,
          15.95675,
          18.24886,
          20.52849,
          22.79302,
          25.03988,
          27.26661,
          29.47082,
          31.65021,
          33.8026,
          35.92587,
          38.01804,
          40.07721,
          42.10156,
          44.0894,
          46.0391,
          47.94916,
          49.81814,
          51.64467,
          53.42749,
          55.16537,
          56.85718,
          58.5018,
          60.09819,
          61.64531,
          63.14216,
          64.58775,
          65.98106,
          67.32108,
          68.60673,
          69.8369,
          71.01038,
          72.12589,
          73.18196,
          74.17702,
          75.10927,
          75.97665,
          76.77686,
          77.50715,
          78.16443,
          78.74502,
          79.24463,
          79.65818,
          79.97967,
          80.2019,
          80.31627,
          80.31237,
          80.17761,
          79.89659,
          79.45042,
          78.81576,
          77.96359,
          76.8577,
          75.45264,
          73.69135,
          71.50229,
          68.79655,
          65.4659,
          61.38391,
          56.41452,
          50.43533,
          43.38342,
          35.32315,
          26.50865,
          17.3831,
          8.474537,
          0.236743,
          -7.057502,
          -13.32163,
          -18.59715,
          -22.98856,
          -26.61825,
          -29.60295,
          -32.04436,
          -34.0272,
          -35.62064,
          -36.88054,
          -37.85204,
          -38.57166,
          -39.06911,
          -39.36876,
          -39.49068,
          -39.45166,
          -39.26576,
          -38.94492,
          -38.49937,
          -37.93797,
          -37.26843,
          -36.49757,
          -35.63146,
          -34.67557,
          -33.63486,
          -32.51391,
          -31.31695,
          -30.04793,
          -28.7106,
          -27.30853,
          -25.84512,
          -24.32369,
          -22.74746,
          -21.11956,
          -19.44309,
          -17.7211,
          -15.95662,
          -14.15264,
          -12.31215,
          -10.43812,
          -8.533532,
          -6.601335,
          -4.644492,
          -2.665948,
          -0.668643,
          1.344492,
          3.370544,
          5.406624,
          7.449859,
          9.497409,
          11.54647,
          13.59427,
          15.63809,
          17.67526,
          19.70316,
          21.71922,
          23.72095,
          25.70592,
          27.67176,
          29.61618,
          31.53696,
          33.43196,
          35.2991,
          37.13637,
          38.94186,
          40.71371,
          42.45012,
          44.14935,
          45.80973,
          47.42965,
          49.00751,
          50.54178,
          52.03095,
          53.47351,
          54.86799,
          56.21288,
          57.50669,
          58.74789,
          59.93487,
          61.06601,
          62.13956,
          63.15368,
          64.10642,
          64.99564,
          65.81902,
          66.57401,
          67.25783,
          67.86732,
          68.39902,
          68.84901,
          69.21284,
          69.48555,
          69.66145,
          69.73408,
          69.69608,
          69.53902,
          69.25329,
          68.82787,
          68.25013,
          67.50571,
          66.57821,
          65.44911,
          64.09763,
          62.50073,
          60.63341,
          58.46928,
          55.9817,
          53.14571,
          49.94084,
          46.35506,
          42.38972,
          38.06478,
          33.42323,
          28.53307,
          23.48509,
          18.38577,
          13.3464,
          8.471006,
          3.846375,
          -0.4637432,
          -4.41965,
          -8.003129,
          -11.2129,
          -14.05968,
          -16.56167,
          -18.74116,
          -20.62196,
          -22.22778,
          -23.58128,
          -24.70345,
          -25.61349,
          -26.32873,
          -26.86467,
          -27.23518,
          -27.45264,
          -27.52809,
          -27.4714,
          -27.29143,
          -26.99616,
          -26.5928,
          -26.08791,
          -25.48749,
          -24.79704,
          -24.02166,
          -23.16609,
          -22.23477,
          -21.23189,
          -20.1614,
          -19.0271,
          -17.83258,
          -16.58135,
          -15.27677,
          -13.92213,
          -12.52061,
          -11.07537,
          -9.589452,
          -8.0659,
          -6.507693,
          -4.917777,
          -3.299064,
          -1.654439,
          0.01324749,
          1.701166,
          3.406519,
          5.126534,
          6.858476,
          8.599628
         ]
        },
        {
         "line": {
          "color": "red"
         },
         "mode": "lines",
         "name": "pred_beginning",
         "type": "scatter",
         "y": [
          15.35107,
          15.81385,
          16.12709,
          16.45284,
          16.79059,
          17.13984,
          17.50006,
          17.87068,
          19.575583667585803,
          19.907302215665858,
          20.197011082292057,
          20.523527180861933,
          20.87944413414497,
          21.235271050916282,
          21.54201495668253,
          21.840804180344666,
          22.146602265667326,
          22.457828765920382,
          22.81252410730886,
          23.209911178581052,
          23.520897290089202,
          23.810953409184176,
          24.131628498323312,
          24.4250408813676,
          24.779599419706706,
          25.197505200103066,
          25.703672986219477,
          26.348769732354704,
          26.959474279291655,
          27.514151639988917,
          28.018616599650514,
          28.41409192479505,
          28.802486708726033,
          29.15647705548627,
          29.524525336048534,
          29.85465513305999,
          30.2086297452842,
          30.553822738121823,
          30.89081104456063,
          31.202208002287342,
          31.48215337077163,
          31.746696376764213,
          31.939603536775238,
          32.04804945565837,
          32.08376335588317,
          32.191917311708856,
          32.24882912852979,
          32.27766353994588,
          32.261434240171695,
          32.135493265504856,
          31.96338716212565,
          31.81326570214408,
          31.804658910935604,
          32.28048177017705,
          32.409782942427206,
          32.336050906590074,
          32.05442543931413,
          31.950273300485435,
          32.76182919984684,
          33.43402431358949,
          33.31534570144143,
          32.675978074702954,
          32.592298315531224,
          31.49050491284006,
          29.93669150735746,
          29.899124428444665,
          29.690472242712836,
          28.398110881033794,
          26.934851478686298,
          26.2350789681282,
          25.468450413978125,
          25.081469115867183,
          24.81879589723951,
          24.667375463894565,
          24.39696522424453,
          24.764417340719426,
          24.95558496035823,
          23.26940214809959,
          22.08230920316649,
          21.06099795226937,
          20.50467545841607,
          19.949498307664626,
          18.610722687119406,
          17.1737823557754,
          16.007710750978536,
          14.757773850605917,
          13.594290576986003,
          12.675140609039325,
          12.18269464955251,
          11.631848648378579,
          11.05767707168089,
          10.679912715120032,
          10.343556412545102,
          9.993469104861221,
          9.670134879132995,
          9.889663125825194,
          9.930921701718834,
          9.959193166401391,
          9.90706290025183,
          9.493533069153628,
          9.52967879497837,
          9.867749287839693,
          9.901644100871238,
          10.310402870988753,
          10.427940729274622,
          10.463997292728527,
          10.83784899466323,
          10.942896253763855,
          11.54281652453394,
          9.904241173457098,
          9.980816789611225,
          10.038173544145458,
          9.255973044170913,
          8.610473756155585,
          9.421316793620731,
          11.216810050103264,
          11.089265026902241,
          11.097992449553614,
          10.48072048210587,
          11.55629839948908,
          12.631953241270658,
          13.45371473552937,
          13.571038429297051,
          12.9281576303194,
          12.78497641193845,
          14.900041154685788,
          15.24240936123556,
          17.979271171018244,
          20.91054606703117,
          23.92139761414313,
          26.869983231479466,
          28.97930967635071,
          31.275226739157773,
          33.18086786683736,
          34.7304172130558,
          35.91881000549317,
          36.7749785593453,
          37.43879765507458,
          37.804249737191874,
          38.098840462156645,
          38.34404572336821,
          38.48804994539763,
          38.42439675402868,
          38.02343706893676,
          37.49537555007532,
          36.915954757329814,
          36.28030922250334,
          35.59706321962221,
          34.94428452334073,
          34.10891178127507,
          33.18215809879183,
          32.34963505602941,
          31.692594048765546,
          31.145276954366814,
          30.795564653124984,
          30.4565920468646,
          30.141002709426754,
          29.769190378189734,
          29.425186216963276,
          29.251177983006208,
          29.156158868202105,
          28.991682266515728,
          28.796909689844245,
          28.680809793323352,
          28.584058131274162,
          28.516151370331734,
          28.44231968243308,
          28.33423565787864,
          28.21535774160754,
          28.089331101133425,
          27.945559400580898,
          27.797738679423286,
          27.616307241023563,
          27.432349535450115,
          27.23470453181225,
          27.010770615031618,
          26.82112225226061,
          26.61712923747548,
          26.375214242575986,
          26.095011876669872,
          25.829201366385973,
          25.57126861380782,
          25.243182558198498,
          24.845628526016206,
          24.266480465228547,
          23.81095865402952,
          23.334790946206752,
          23.05090320230603,
          22.690428478419598,
          22.26437439371187,
          21.65328609892396,
          21.413771931980392,
          21.190813119363185,
          20.71824424958686,
          20.57106558491337,
          19.911360633285515,
          19.432040336340936,
          18.938871025267183,
          18.308970781443936,
          17.659147774048662,
          17.000742669925074,
          16.705582879240556,
          15.743346069727625,
          15.06100808069656,
          14.777361599681633,
          13.926880206463503,
          12.050623324820156,
          11.819132460040615,
          11.742069947410442,
          11.432947504280975,
          11.096284378253454,
          10.143890395168254,
          9.074069569690288,
          8.55004789295459,
          7.448076165521748,
          6.500509188434231,
          5.5535138994891415,
          4.688207076767078,
          4.077233294435835,
          4.57898841733669,
          5.622126966271141,
          6.221941465993469,
          7.917592972378673,
          9.28589139029129,
          12.035655847421507,
          13.714394912926561,
          15.63372880205114,
          16.855716795729816,
          18.13463518172335,
          19.1780449328691,
          19.266676481650634,
          19.752785793821765,
          19.874483688605817,
          20.026615672635682,
          20.24306432097043,
          20.74024462752053,
          20.96532323179735,
          20.96401551702507,
          20.672132880539266,
          20.35480312858831,
          20.2051021303751,
          20.203387065947815,
          20.14952512669405,
          20.104523479507026,
          20.126152347562204,
          20.102811911643307,
          20.50251283385282,
          21.208854513203494,
          21.426624862564772,
          21.80566196826229,
          22.31652476510191,
          22.859359702084284,
          23.297335320257503,
          23.583625640395937,
          23.45914011031188,
          23.225323156622554,
          23.02709597515157,
          22.921668027693105,
          22.996120792694505,
          23.278023799703206,
          23.61178914867851,
          23.938242309104265,
          24.396490565740955,
          24.830918483109826,
          25.229272354206984,
          25.55537323585384,
          25.749378316823407,
          25.87894872446786,
          26.0757536787099,
          26.232001992193418,
          26.31766605118672,
          26.39392959904292,
          26.40731794092277,
          26.409583714111108,
          26.27374571628132,
          26.18413403702624,
          26.379160114555983,
          26.78659543536519,
          27.1694953696581,
          27.22109765470976,
          27.022802290249313,
          26.726786715632933,
          26.518980698283173,
          26.29680730125613,
          26.072553448909552,
          25.892309093839213,
          25.68417614779638,
          25.48251534090727,
          25.296798863862012,
          25.033185943776985,
          24.725865979163856,
          24.319348506289742,
          23.728324367362905,
          23.142699359646627,
          22.72018073777077,
          22.419998570599525,
          22.224665669617195,
          22.08908772870235,
          21.955871716473805,
          21.792628527584007,
          21.62491847874344,
          21.434805947159546,
          21.098391077144946,
          20.92142955818911,
          20.525853706842163,
          19.759874639373777,
          18.910415116856715,
          18.19075218593954,
          17.57784032398631,
          16.95839775543969,
          16.152949478480647,
          15.42075945299605,
          14.550341528486872,
          13.58770829608007,
          12.429093113079697,
          11.009799500963915,
          9.064144574018844,
          7.191524555550682,
          5.3418878864476245,
          4.51760449571964,
          3.8110084413698093,
          2.9726583754309015,
          2.0904963680570194,
          1.2182331321278639,
          0.43153255484870634,
          -0.48871052628162204,
          -1.2736540803707506,
          -1.6989253719109847,
          -2.791557778069059,
          -5.640035032336446,
          -9.81812953303863,
          -14.632248945713787,
          -18.700609043860155,
          -22.469229727196343,
          -25.2286827248871,
          -27.444192812016702,
          -29.04466086511038,
          -29.826377091031553,
          -30.175050912895394,
          -30.416013094224176,
          -30.60414569669095,
          -30.80986951043939,
          -31.146756416534892,
          -31.67301720516177,
          -32.35208131802246,
          -33.177025559263704,
          -34.147045719266195,
          -35.1690527863122,
          -36.19665085849424,
          -37.2116962674878,
          -38.20689867826561,
          -39.158617824583295,
          -40.17077507207445,
          -41.14764500009539,
          -42.14430547787865,
          -43.108322038244765,
          -44.02608605580946,
          -44.92310845832289,
          -45.758954984751234,
          -46.50879304067539,
          -47.230658588101555,
          -47.94311138641816,
          -48.56681440839777,
          -49.11342519695692,
          -49.58459413009701,
          -49.95955861338539,
          -50.238836138229296,
          -50.43195134377226,
          -50.54346374889949,
          -50.54751276950457,
          -50.42766455684495,
          -50.21916447162808,
          -49.920264232072846,
          -49.53062117495015,
          -49.031116090701595,
          -48.44730186584011,
          -47.79207382678327,
          -47.06648094259975,
          -46.24297728554615,
          -45.282653096301765,
          -44.26002713750525,
          -43.072244495409485,
          -41.58291821170543,
          -39.635356783478045,
          -37.6000525892196,
          -35.0357637833193,
          -32.513790389649316,
          -29.495850434055782,
          -25.654752981201312,
          -21.29099270362552,
          -16.703455854629397,
          -12.032844151957818,
          -7.373466908011743,
          -2.432967701942683,
          2.4677755764236142,
          5.896983086490577,
          8.579170770864556,
          10.85373126050385,
          13.064583050827645,
          15.303718980876912,
          17.43724557923292,
          19.650743394032446,
          21.976240947505683,
          24.417316972458593,
          26.73998624308042,
          28.96879026487369,
          31.1587544586175,
          33.219585315162135,
          35.236922417555974,
          37.07103784100621,
          38.20217790167533,
          39.73423394039184,
          41.353712809573466,
          42.8056590805153,
          44.0292727577152,
          44.63954023420687,
          45.83825138571643,
          46.93382615011214,
          47.824687607628896,
          48.635956788778195,
          49.34321719020485,
          49.926583854930364,
          50.44092835493709,
          50.824018851944146,
          51.08169810366403,
          51.270327218156645,
          51.405319047604365,
          51.53213241487999,
          51.654914244368335,
          51.75954541240506,
          51.87510683813736,
          52.05807851278626,
          52.15116402794043,
          52.266575101439564,
          52.41879100299492,
          52.53441886343491,
          52.74814281461378,
          53.31836240034524,
          54.15297813639966,
          54.946932334788706,
          55.64463313143617,
          56.45996182288124,
          57.424565805925816,
          58.44090494343741,
          59.58785471625323,
          60.6476631319707,
          61.69312165082871,
          62.72094350307873,
          63.71310740012094,
          64.64401150355256,
          65.51298796973322,
          66.25714061330515,
          66.80824098947824,
          67.26702159791728,
          67.68888199170253,
          67.94084086543458,
          68.1278405813072,
          68.18269467047173,
          68.07970339074572,
          67.77541844330462,
          67.29351855659199,
          66.6551229745238,
          65.79966771963839,
          64.71508615108239,
          63.35685302845415,
          61.43815922899668,
          59.125622999578255,
          56.214384177650295,
          52.23746970634741,
          48.32746897193527,
          43.612912458413355,
          38.03020641599326,
          32.65999003781457,
          26.98701321390792,
          22.70086921721647,
          20.390171743161343,
          17.126371576293987,
          13.704198059438156,
          7.562924292287358,
          -1.040120348329964,
          -6.076133432947181,
          -9.920050864314607,
          -12.803832920870015,
          -15.005618996017787,
          -16.85247589708886,
          -18.376442636004107,
          -19.60399169549332,
          -20.502650489753883,
          -21.15307774703976,
          -21.57140311506359,
          -21.77872485835998,
          -21.82906838052923,
          -21.6835553913227,
          -21.441792496938163,
          -21.01182007568849,
          -20.507961769804943,
          -19.801960131260692,
          -18.92304643143614,
          -17.810911942009625,
          -16.17499223095831,
          -14.335055029176928,
          -12.537006658871281,
          -10.919811045695806,
          -9.427031905474031,
          -8.017621330266941,
          -6.543151945138881,
          -4.9833069675114,
          -3.3703247134284346,
          -1.807965706599699,
          -0.2666402778796666,
          1.379165966643905,
          3.1390038903413036,
          5.046552393444099,
          7.299503683198255,
          9.628608816126842,
          11.862985049026998,
          14.48607250486052,
          17.160600966751392,
          19.804358795153593,
          22.4670701834154,
          25.219632328465863,
          27.82107299635595,
          29.87907163641517,
          31.961626642372057,
          33.935858109170496,
          35.40050215068864,
          36.91561733894605,
          38.42302610111227,
          39.774818553658854,
          41.05694372550941,
          42.519774798820535,
          43.911602904154854,
          44.85183409088877,
          45.75624648049103,
          45.523469754461466,
          47.13742055665118,
          47.93494824300083,
          48.476223275564,
          48.90920973460434,
          49.1370772853925,
          49.25639402039066,
          49.35445864205748,
          49.30718160613232,
          49.00437570507805,
          48.694842415730015,
          48.57690332677538,
          48.53236410011946,
          48.51433931495607,
          48.44072616228006,
          48.091839050038914,
          47.76599079510943,
          47.59040036614044,
          47.63318082132456,
          47.784047049344885,
          48.1938338091497,
          48.74710205473138,
          49.297097516818795,
          49.80792097731834,
          50.52184233233108,
          51.45305762991974,
          52.39925570237264,
          53.3057502955762,
          54.14741860033569,
          54.87733673364571,
          55.5086272985554,
          55.986586558133375,
          56.26995156578154,
          56.4275766511677,
          56.453937243863486,
          56.39049559459006,
          56.235517407820524,
          55.96117703072652,
          55.63864002149048,
          55.33626769431793,
          55.03634645820252,
          54.625619122799456,
          54.14963542163415,
          53.50962792376378,
          52.807493484519384,
          51.99039203534826,
          50.702404874685584,
          48.923136547272776,
          46.51987148654112,
          44.7285540010928,
          42.41855977338413,
          39.48633108039199,
          36.41629057943918,
          34.144088958993066,
          30.971238999619466,
          27.13019924006377,
          23.841689951178118,
          20.70024262915707,
          18.45070223715789,
          15.037316240139656,
          11.567665290559503,
          6.470255172211878,
          0.5315989591549108,
          -6.686914904282503,
          -10.984392574690531,
          -12.464617303442054,
          -13.603598407899511,
          -14.381842546203373,
          -15.037507655705493,
          -15.678085093436511,
          -16.239045778855136,
          -16.645395416678262,
          -16.951264307413062,
          -17.03382166968131,
          -16.975726266094554,
          -16.795418972880093,
          -16.493686516839432,
          -16.057507695266764,
          -15.503368805358086,
          -14.799741333472607,
          -14.049616559336346,
          -12.962013959862567,
          -11.81973909252947,
          -10.67248162212017,
          -9.314605148975279,
          -7.758819681643569,
          -6.204030734927102,
          -4.8009436949223385,
          -3.472962840234672,
          -2.220177333234936,
          -0.9477551252696124,
          0.41859177310482565,
          1.5026890676074522,
          2.583854493563136,
          4.080589995455593,
          6.124918820268203,
          8.216994968805093,
          10.49648910963072,
          12.651987239271005,
          14.77409886880761,
          16.961390158243308,
          19.07240172821633,
          21.425080692681597,
          24.037813949666408,
          26.507590642479144,
          28.63046801943588,
          31.091361692518724
         ]
        }
       ],
       "layout": {
        "template": {
         "data": {
          "bar": [
           {
            "error_x": {
             "color": "#2a3f5f"
            },
            "error_y": {
             "color": "#2a3f5f"
            },
            "marker": {
             "line": {
              "color": "#E5ECF6",
              "width": 0.5
             },
             "pattern": {
              "fillmode": "overlay",
              "size": 10,
              "solidity": 0.2
             }
            },
            "type": "bar"
           }
          ],
          "barpolar": [
           {
            "marker": {
             "line": {
              "color": "#E5ECF6",
              "width": 0.5
             },
             "pattern": {
              "fillmode": "overlay",
              "size": 10,
              "solidity": 0.2
             }
            },
            "type": "barpolar"
           }
          ],
          "carpet": [
           {
            "aaxis": {
             "endlinecolor": "#2a3f5f",
             "gridcolor": "white",
             "linecolor": "white",
             "minorgridcolor": "white",
             "startlinecolor": "#2a3f5f"
            },
            "baxis": {
             "endlinecolor": "#2a3f5f",
             "gridcolor": "white",
             "linecolor": "white",
             "minorgridcolor": "white",
             "startlinecolor": "#2a3f5f"
            },
            "type": "carpet"
           }
          ],
          "choropleth": [
           {
            "colorbar": {
             "outlinewidth": 0,
             "ticks": ""
            },
            "type": "choropleth"
           }
          ],
          "contour": [
           {
            "colorbar": {
             "outlinewidth": 0,
             "ticks": ""
            },
            "colorscale": [
             [
              0,
              "#0d0887"
             ],
             [
              0.1111111111111111,
              "#46039f"
             ],
             [
              0.2222222222222222,
              "#7201a8"
             ],
             [
              0.3333333333333333,
              "#9c179e"
             ],
             [
              0.4444444444444444,
              "#bd3786"
             ],
             [
              0.5555555555555556,
              "#d8576b"
             ],
             [
              0.6666666666666666,
              "#ed7953"
             ],
             [
              0.7777777777777778,
              "#fb9f3a"
             ],
             [
              0.8888888888888888,
              "#fdca26"
             ],
             [
              1,
              "#f0f921"
             ]
            ],
            "type": "contour"
           }
          ],
          "contourcarpet": [
           {
            "colorbar": {
             "outlinewidth": 0,
             "ticks": ""
            },
            "type": "contourcarpet"
           }
          ],
          "heatmap": [
           {
            "colorbar": {
             "outlinewidth": 0,
             "ticks": ""
            },
            "colorscale": [
             [
              0,
              "#0d0887"
             ],
             [
              0.1111111111111111,
              "#46039f"
             ],
             [
              0.2222222222222222,
              "#7201a8"
             ],
             [
              0.3333333333333333,
              "#9c179e"
             ],
             [
              0.4444444444444444,
              "#bd3786"
             ],
             [
              0.5555555555555556,
              "#d8576b"
             ],
             [
              0.6666666666666666,
              "#ed7953"
             ],
             [
              0.7777777777777778,
              "#fb9f3a"
             ],
             [
              0.8888888888888888,
              "#fdca26"
             ],
             [
              1,
              "#f0f921"
             ]
            ],
            "type": "heatmap"
           }
          ],
          "heatmapgl": [
           {
            "colorbar": {
             "outlinewidth": 0,
             "ticks": ""
            },
            "colorscale": [
             [
              0,
              "#0d0887"
             ],
             [
              0.1111111111111111,
              "#46039f"
             ],
             [
              0.2222222222222222,
              "#7201a8"
             ],
             [
              0.3333333333333333,
              "#9c179e"
             ],
             [
              0.4444444444444444,
              "#bd3786"
             ],
             [
              0.5555555555555556,
              "#d8576b"
             ],
             [
              0.6666666666666666,
              "#ed7953"
             ],
             [
              0.7777777777777778,
              "#fb9f3a"
             ],
             [
              0.8888888888888888,
              "#fdca26"
             ],
             [
              1,
              "#f0f921"
             ]
            ],
            "type": "heatmapgl"
           }
          ],
          "histogram": [
           {
            "marker": {
             "pattern": {
              "fillmode": "overlay",
              "size": 10,
              "solidity": 0.2
             }
            },
            "type": "histogram"
           }
          ],
          "histogram2d": [
           {
            "colorbar": {
             "outlinewidth": 0,
             "ticks": ""
            },
            "colorscale": [
             [
              0,
              "#0d0887"
             ],
             [
              0.1111111111111111,
              "#46039f"
             ],
             [
              0.2222222222222222,
              "#7201a8"
             ],
             [
              0.3333333333333333,
              "#9c179e"
             ],
             [
              0.4444444444444444,
              "#bd3786"
             ],
             [
              0.5555555555555556,
              "#d8576b"
             ],
             [
              0.6666666666666666,
              "#ed7953"
             ],
             [
              0.7777777777777778,
              "#fb9f3a"
             ],
             [
              0.8888888888888888,
              "#fdca26"
             ],
             [
              1,
              "#f0f921"
             ]
            ],
            "type": "histogram2d"
           }
          ],
          "histogram2dcontour": [
           {
            "colorbar": {
             "outlinewidth": 0,
             "ticks": ""
            },
            "colorscale": [
             [
              0,
              "#0d0887"
             ],
             [
              0.1111111111111111,
              "#46039f"
             ],
             [
              0.2222222222222222,
              "#7201a8"
             ],
             [
              0.3333333333333333,
              "#9c179e"
             ],
             [
              0.4444444444444444,
              "#bd3786"
             ],
             [
              0.5555555555555556,
              "#d8576b"
             ],
             [
              0.6666666666666666,
              "#ed7953"
             ],
             [
              0.7777777777777778,
              "#fb9f3a"
             ],
             [
              0.8888888888888888,
              "#fdca26"
             ],
             [
              1,
              "#f0f921"
             ]
            ],
            "type": "histogram2dcontour"
           }
          ],
          "mesh3d": [
           {
            "colorbar": {
             "outlinewidth": 0,
             "ticks": ""
            },
            "type": "mesh3d"
           }
          ],
          "parcoords": [
           {
            "line": {
             "colorbar": {
              "outlinewidth": 0,
              "ticks": ""
             }
            },
            "type": "parcoords"
           }
          ],
          "pie": [
           {
            "automargin": true,
            "type": "pie"
           }
          ],
          "scatter": [
           {
            "fillpattern": {
             "fillmode": "overlay",
             "size": 10,
             "solidity": 0.2
            },
            "type": "scatter"
           }
          ],
          "scatter3d": [
           {
            "line": {
             "colorbar": {
              "outlinewidth": 0,
              "ticks": ""
             }
            },
            "marker": {
             "colorbar": {
              "outlinewidth": 0,
              "ticks": ""
             }
            },
            "type": "scatter3d"
           }
          ],
          "scattercarpet": [
           {
            "marker": {
             "colorbar": {
              "outlinewidth": 0,
              "ticks": ""
             }
            },
            "type": "scattercarpet"
           }
          ],
          "scattergeo": [
           {
            "marker": {
             "colorbar": {
              "outlinewidth": 0,
              "ticks": ""
             }
            },
            "type": "scattergeo"
           }
          ],
          "scattergl": [
           {
            "marker": {
             "colorbar": {
              "outlinewidth": 0,
              "ticks": ""
             }
            },
            "type": "scattergl"
           }
          ],
          "scattermapbox": [
           {
            "marker": {
             "colorbar": {
              "outlinewidth": 0,
              "ticks": ""
             }
            },
            "type": "scattermapbox"
           }
          ],
          "scatterpolar": [
           {
            "marker": {
             "colorbar": {
              "outlinewidth": 0,
              "ticks": ""
             }
            },
            "type": "scatterpolar"
           }
          ],
          "scatterpolargl": [
           {
            "marker": {
             "colorbar": {
              "outlinewidth": 0,
              "ticks": ""
             }
            },
            "type": "scatterpolargl"
           }
          ],
          "scatterternary": [
           {
            "marker": {
             "colorbar": {
              "outlinewidth": 0,
              "ticks": ""
             }
            },
            "type": "scatterternary"
           }
          ],
          "surface": [
           {
            "colorbar": {
             "outlinewidth": 0,
             "ticks": ""
            },
            "colorscale": [
             [
              0,
              "#0d0887"
             ],
             [
              0.1111111111111111,
              "#46039f"
             ],
             [
              0.2222222222222222,
              "#7201a8"
             ],
             [
              0.3333333333333333,
              "#9c179e"
             ],
             [
              0.4444444444444444,
              "#bd3786"
             ],
             [
              0.5555555555555556,
              "#d8576b"
             ],
             [
              0.6666666666666666,
              "#ed7953"
             ],
             [
              0.7777777777777778,
              "#fb9f3a"
             ],
             [
              0.8888888888888888,
              "#fdca26"
             ],
             [
              1,
              "#f0f921"
             ]
            ],
            "type": "surface"
           }
          ],
          "table": [
           {
            "cells": {
             "fill": {
              "color": "#EBF0F8"
             },
             "line": {
              "color": "white"
             }
            },
            "header": {
             "fill": {
              "color": "#C8D4E3"
             },
             "line": {
              "color": "white"
             }
            },
            "type": "table"
           }
          ]
         },
         "layout": {
          "annotationdefaults": {
           "arrowcolor": "#2a3f5f",
           "arrowhead": 0,
           "arrowwidth": 1
          },
          "autotypenumbers": "strict",
          "coloraxis": {
           "colorbar": {
            "outlinewidth": 0,
            "ticks": ""
           }
          },
          "colorscale": {
           "diverging": [
            [
             0,
             "#8e0152"
            ],
            [
             0.1,
             "#c51b7d"
            ],
            [
             0.2,
             "#de77ae"
            ],
            [
             0.3,
             "#f1b6da"
            ],
            [
             0.4,
             "#fde0ef"
            ],
            [
             0.5,
             "#f7f7f7"
            ],
            [
             0.6,
             "#e6f5d0"
            ],
            [
             0.7,
             "#b8e186"
            ],
            [
             0.8,
             "#7fbc41"
            ],
            [
             0.9,
             "#4d9221"
            ],
            [
             1,
             "#276419"
            ]
           ],
           "sequential": [
            [
             0,
             "#0d0887"
            ],
            [
             0.1111111111111111,
             "#46039f"
            ],
            [
             0.2222222222222222,
             "#7201a8"
            ],
            [
             0.3333333333333333,
             "#9c179e"
            ],
            [
             0.4444444444444444,
             "#bd3786"
            ],
            [
             0.5555555555555556,
             "#d8576b"
            ],
            [
             0.6666666666666666,
             "#ed7953"
            ],
            [
             0.7777777777777778,
             "#fb9f3a"
            ],
            [
             0.8888888888888888,
             "#fdca26"
            ],
            [
             1,
             "#f0f921"
            ]
           ],
           "sequentialminus": [
            [
             0,
             "#0d0887"
            ],
            [
             0.1111111111111111,
             "#46039f"
            ],
            [
             0.2222222222222222,
             "#7201a8"
            ],
            [
             0.3333333333333333,
             "#9c179e"
            ],
            [
             0.4444444444444444,
             "#bd3786"
            ],
            [
             0.5555555555555556,
             "#d8576b"
            ],
            [
             0.6666666666666666,
             "#ed7953"
            ],
            [
             0.7777777777777778,
             "#fb9f3a"
            ],
            [
             0.8888888888888888,
             "#fdca26"
            ],
            [
             1,
             "#f0f921"
            ]
           ]
          },
          "colorway": [
           "#636efa",
           "#EF553B",
           "#00cc96",
           "#ab63fa",
           "#FFA15A",
           "#19d3f3",
           "#FF6692",
           "#B6E880",
           "#FF97FF",
           "#FECB52"
          ],
          "font": {
           "color": "#2a3f5f"
          },
          "geo": {
           "bgcolor": "white",
           "lakecolor": "white",
           "landcolor": "#E5ECF6",
           "showlakes": true,
           "showland": true,
           "subunitcolor": "white"
          },
          "hoverlabel": {
           "align": "left"
          },
          "hovermode": "closest",
          "mapbox": {
           "style": "light"
          },
          "paper_bgcolor": "white",
          "plot_bgcolor": "#E5ECF6",
          "polar": {
           "angularaxis": {
            "gridcolor": "white",
            "linecolor": "white",
            "ticks": ""
           },
           "bgcolor": "#E5ECF6",
           "radialaxis": {
            "gridcolor": "white",
            "linecolor": "white",
            "ticks": ""
           }
          },
          "scene": {
           "xaxis": {
            "backgroundcolor": "#E5ECF6",
            "gridcolor": "white",
            "gridwidth": 2,
            "linecolor": "white",
            "showbackground": true,
            "ticks": "",
            "zerolinecolor": "white"
           },
           "yaxis": {
            "backgroundcolor": "#E5ECF6",
            "gridcolor": "white",
            "gridwidth": 2,
            "linecolor": "white",
            "showbackground": true,
            "ticks": "",
            "zerolinecolor": "white"
           },
           "zaxis": {
            "backgroundcolor": "#E5ECF6",
            "gridcolor": "white",
            "gridwidth": 2,
            "linecolor": "white",
            "showbackground": true,
            "ticks": "",
            "zerolinecolor": "white"
           }
          },
          "shapedefaults": {
           "line": {
            "color": "#2a3f5f"
           }
          },
          "ternary": {
           "aaxis": {
            "gridcolor": "white",
            "linecolor": "white",
            "ticks": ""
           },
           "baxis": {
            "gridcolor": "white",
            "linecolor": "white",
            "ticks": ""
           },
           "bgcolor": "#E5ECF6",
           "caxis": {
            "gridcolor": "white",
            "linecolor": "white",
            "ticks": ""
           }
          },
          "title": {
           "x": 0.05
          },
          "xaxis": {
           "automargin": true,
           "gridcolor": "white",
           "linecolor": "white",
           "ticks": "",
           "title": {
            "standoff": 15
           },
           "zerolinecolor": "white",
           "zerolinewidth": 2
          },
          "yaxis": {
           "automargin": true,
           "gridcolor": "white",
           "linecolor": "white",
           "ticks": "",
           "title": {
            "standoff": 15
           },
           "zerolinecolor": "white",
           "zerolinewidth": 2
          }
         }
        },
        "title": {
         "text": "TSMixer Prediction vs. Ground Truth for PITCH"
        },
        "xaxis": {
         "title": {
          "text": "Time Step"
         }
        },
        "yaxis": {
         "title": {
          "text": "Value"
         }
        }
       }
      }
     },
     "metadata": {},
     "output_type": "display_data"
    },
    {
     "data": {
      "application/vnd.plotly.v1+json": {
       "config": {
        "plotlyServerURL": "https://plot.ly"
       },
       "data": [
        {
         "line": {
          "color": "blue"
         },
         "mode": "lines",
         "name": "GT",
         "type": "scatter",
         "y": [
          7.329073,
          7.329073,
          7.329073,
          7.329073,
          7.329073,
          7.329073,
          7.329073,
          7.329073,
          7.329073,
          7.329073,
          7.329073,
          7.329073,
          7.329073,
          7.329073,
          7.329073,
          7.329073,
          7.329073,
          7.329073,
          7.329073,
          7.329073,
          7.329073,
          7.329073,
          7.329073,
          7.329073,
          7.329073,
          7.329073,
          7.329073,
          7.329073,
          7.329073,
          7.329073,
          7.329073,
          7.329073,
          7.329073,
          7.329073,
          7.329073,
          7.329073,
          7.329073,
          7.329073,
          7.329073,
          7.329073,
          7.329073,
          7.329073,
          7.329073,
          7.329073,
          7.329073,
          7.329073,
          7.329073,
          7.329073,
          7.329073,
          7.329073,
          7.329073,
          7.329073,
          7.329073,
          7.329073,
          7.329073,
          7.329073,
          7.329073,
          7.329073,
          7.329073,
          7.329073,
          7.329073,
          7.329073,
          7.329073,
          7.329073,
          7.329073,
          7.329073,
          7.329073,
          7.329073,
          7.329073,
          7.329073,
          7.329073,
          7.329073,
          7.329073,
          7.329073,
          7.329073,
          7.329073,
          7.329073,
          7.329073,
          7.329073,
          7.329073,
          7.329073,
          7.329073,
          7.329073,
          7.329073,
          7.329073,
          7.329073,
          7.329073,
          7.329073,
          7.329073,
          7.329073,
          7.329073,
          7.329073,
          7.329073,
          7.329073,
          7.329073,
          7.329073,
          7.329073,
          7.329073,
          7.329073,
          7.329073,
          7.329073,
          7.329073,
          7.329073,
          7.329073,
          7.329073,
          7.329073,
          7.329073,
          7.329073,
          7.329073,
          7.329073,
          7.329073,
          7.329073,
          7.329073,
          7.329073,
          7.329073,
          7.329073,
          7.329073,
          7.329073,
          7.329073,
          7.329073,
          7.329073,
          7.329073,
          7.329073,
          7.329073,
          7.329073,
          7.329073,
          7.329073,
          7.329073,
          7.329073,
          7.329073,
          7.329073,
          7.329073,
          7.329073,
          7.329073,
          7.329073,
          7.329073,
          7.329073,
          7.329073,
          7.329073,
          7.329073,
          7.329073,
          7.329073,
          7.329073,
          7.329073,
          7.329073,
          7.329073,
          7.329073,
          7.329073,
          7.329073,
          7.329073,
          7.329073,
          7.329073,
          7.329073,
          7.329073,
          7.329073,
          7.329073,
          7.329073,
          7.329073,
          7.329073,
          7.329073,
          7.329073,
          7.329073,
          7.329073,
          7.329073,
          7.329073,
          7.329073,
          7.329073,
          7.329073,
          7.329073,
          7.329073,
          7.329073,
          7.329073,
          7.329073,
          7.329073,
          7.329073,
          7.329073,
          7.329073,
          7.329073,
          7.329073,
          7.329073,
          7.329073,
          7.329073,
          7.329073,
          7.329073,
          7.329073,
          7.329073,
          7.329073,
          7.329073,
          7.329073,
          7.329073,
          7.329073,
          7.329073,
          7.329073,
          7.329073,
          7.329073,
          7.329073,
          7.329073,
          7.329073,
          7.329073,
          7.329073,
          7.329073,
          7.329073,
          7.329073,
          7.329073,
          7.329073,
          7.329073,
          7.329073,
          7.329073,
          7.329073,
          7.329073,
          7.329073,
          7.329073,
          7.329073,
          7.329073,
          7.329073,
          7.329073,
          7.329073,
          7.329073,
          7.329073,
          7.329073,
          7.329073,
          7.329073,
          7.329073,
          7.329073,
          7.329073,
          7.329073,
          7.329073,
          7.329073,
          7.329073,
          7.329073,
          7.329073,
          7.329073,
          7.329073,
          7.329073,
          7.329073,
          7.329073,
          7.329073,
          7.329073,
          7.329073,
          7.329073,
          7.329073,
          7.329073,
          7.329073,
          7.329073,
          7.329073,
          7.329073,
          7.329073,
          7.329073,
          7.329073,
          7.329073,
          7.329073,
          7.329073,
          7.329073,
          7.329073,
          7.329073,
          7.329073,
          7.329073,
          7.329073,
          7.329073,
          7.329073,
          7.329073,
          7.329073,
          7.329073,
          7.329073,
          7.329073,
          7.329073,
          7.329073,
          7.329073,
          7.329073,
          7.329073,
          7.329073,
          7.329073,
          7.329073,
          7.329073,
          7.329073,
          7.329073,
          7.329073,
          7.329073,
          7.329073,
          7.329073,
          7.329073,
          7.329073,
          7.329073,
          7.329073,
          7.329073,
          7.329073,
          7.329073,
          7.329073,
          7.329073,
          7.329073,
          7.329073,
          7.329073,
          7.329073,
          7.329073,
          7.329073,
          7.329073,
          7.329073,
          7.329073,
          7.329073,
          7.329073,
          7.329073,
          7.329073,
          7.329073,
          7.329073,
          7.329073,
          7.329073,
          7.329073,
          7.329073,
          7.329073,
          7.329073,
          7.329073,
          7.329073,
          7.329073,
          7.329073,
          7.329073,
          7.329073,
          7.329073,
          7.329073,
          7.329073,
          7.329073,
          7.329073,
          7.329073,
          7.329073,
          7.329073,
          7.329073,
          7.329073,
          7.329073,
          7.329073,
          7.329073,
          7.329073,
          7.329073,
          7.329073,
          7.329073,
          7.329073,
          7.329073,
          7.329073,
          7.329073,
          7.329073,
          7.329073,
          7.329073,
          7.329073,
          7.329073,
          7.329073,
          7.329073,
          7.329073,
          7.329073,
          7.329073,
          7.329073,
          7.329073,
          7.329073,
          7.329073,
          7.329073,
          7.329073,
          7.329073,
          7.329073,
          7.329073,
          7.329073,
          7.329073,
          7.329073,
          7.329073,
          7.329073,
          7.329073,
          7.329073,
          7.329073,
          7.329073,
          7.329073,
          7.329073,
          7.329073,
          7.329073,
          7.329073,
          7.329073,
          7.329073,
          7.329073,
          7.329073,
          7.329073,
          7.329073,
          7.329073,
          7.329073,
          7.329073,
          7.329073,
          7.329073,
          7.329073,
          7.329073,
          7.329073,
          7.329073,
          7.329073,
          7.329073,
          7.329073,
          7.329073,
          7.329073,
          7.329073,
          7.329073,
          7.329073,
          7.329073,
          7.329073,
          7.329073,
          7.329073,
          7.329073,
          7.329073,
          7.329073,
          7.329073,
          7.329073,
          7.329073,
          7.329073,
          7.329073,
          7.329073,
          7.329073,
          7.329073,
          7.329073,
          7.329073,
          7.329073,
          7.329073,
          7.329073,
          7.329073,
          7.329073,
          7.329073,
          7.329073,
          7.329073,
          7.329073,
          7.329073,
          7.329073,
          7.329073,
          7.329073,
          7.329073,
          7.329073,
          7.329073,
          7.329073,
          7.329073,
          7.329073,
          7.329073,
          7.329073,
          7.329073,
          7.329073,
          7.329073,
          7.329073,
          7.329073,
          7.329073,
          7.329073,
          7.329073,
          7.329073,
          7.329073,
          7.329073,
          7.329073,
          7.329073,
          7.329073,
          7.329073,
          7.329073,
          7.329073,
          7.329073,
          7.329073,
          7.329073,
          7.329073,
          7.329073,
          7.329073,
          7.329073,
          7.329073,
          7.329073,
          7.329073,
          7.329073,
          7.329073,
          7.329073,
          7.329073,
          7.329073,
          7.329073,
          7.329073,
          7.329073,
          7.329073,
          7.329073,
          7.329073,
          7.329073,
          7.329073,
          7.329073,
          7.329073,
          7.329073,
          7.329073,
          7.329073,
          7.329073,
          7.329073,
          7.329073,
          7.329073,
          7.329073,
          7.329073,
          7.329073,
          7.329073,
          7.329073,
          7.329073,
          7.329073,
          7.329073,
          7.329073,
          7.329073,
          7.329073,
          7.329073,
          7.329073,
          7.329073,
          7.329073,
          7.329073,
          7.329073,
          7.329073,
          7.329073,
          7.329073,
          7.329073,
          7.329073,
          7.329073,
          7.329073,
          7.329073,
          7.329073,
          7.329073,
          7.329073,
          7.329073,
          7.329073,
          7.329073,
          7.329073,
          7.329073,
          7.329073,
          7.329073,
          7.329073,
          7.329073,
          7.329073,
          7.329073,
          7.329073,
          7.329073,
          7.329073,
          7.329073,
          7.329073,
          7.329073,
          7.329073,
          7.329073,
          7.329073,
          7.329073,
          7.329073,
          7.329073,
          7.329073,
          7.329073,
          7.329073,
          7.329073,
          7.329073,
          7.329073,
          7.329073,
          7.329073,
          7.329073,
          7.329073,
          7.329073,
          7.329073,
          7.329073,
          7.329073,
          7.329073,
          7.329073,
          7.329073,
          7.329073,
          7.329073,
          7.329073,
          7.329073,
          7.329073,
          7.329073,
          7.329073,
          7.329073,
          7.329073,
          7.329073,
          7.329073,
          7.329073,
          7.329073,
          7.329073,
          7.329073,
          7.329073,
          7.329073,
          7.329073,
          7.329073,
          7.329073,
          7.329073,
          7.329073,
          7.329073,
          7.329073,
          7.329073,
          7.329073,
          7.329073,
          7.329073,
          7.329073,
          7.329073,
          7.329073,
          7.329073,
          7.329073,
          7.329073,
          7.329073,
          7.329073,
          7.329073,
          7.329073,
          7.329073,
          7.329073,
          7.329073,
          7.329073,
          7.329073,
          7.329073,
          7.329073,
          7.329073,
          7.329073,
          7.329073,
          7.329073,
          7.329073,
          7.329073,
          7.329073,
          7.329073,
          7.329073,
          7.329073,
          7.329073,
          7.329073,
          7.329073,
          7.329073,
          7.329073,
          7.329073,
          7.329073,
          7.329073,
          7.329073,
          7.329073,
          7.329073,
          7.329073,
          7.329073,
          7.329073,
          7.329073,
          7.329073,
          7.329073,
          7.329073,
          7.329073,
          7.329073,
          7.329073,
          7.329073,
          7.329073,
          7.329073,
          7.329073,
          7.329073,
          7.329073,
          7.329073,
          7.329073,
          7.329073,
          7.329073,
          7.329073,
          7.329073,
          7.329073,
          7.329073,
          7.329073,
          7.329073,
          7.329073
         ]
        },
        {
         "line": {
          "color": "red"
         },
         "mode": "lines",
         "name": "pred_beginning",
         "type": "scatter",
         "y": [
          7.329073,
          7.329073,
          7.329073,
          7.329073,
          7.329073,
          7.329073,
          7.329073,
          7.329073,
          7.389159324810981,
          7.387656013713359,
          7.385481211588859,
          7.3833680928211205,
          7.381898234830379,
          7.38062325422573,
          7.379548649535655,
          7.377310599432468,
          7.374740484402656,
          7.371893960283279,
          7.3695309117894165,
          7.367673251078605,
          7.365523833082198,
          7.362786899552821,
          7.3611155927639,
          7.360142800257682,
          7.358557279453754,
          7.3568139180998795,
          7.356645214603423,
          7.356431748018741,
          7.356005276785373,
          7.355451720998763,
          7.354170362697124,
          7.351297225103854,
          7.349086228058814,
          7.3485092550973885,
          7.3477226376991265,
          7.346393521175861,
          7.3457070172290795,
          7.346152651355743,
          7.346507194684028,
          7.3466642827253335,
          7.347306008682727,
          7.348638440714359,
          7.350393164203643,
          7.349327008471965,
          7.347993242786407,
          7.350602518067836,
          7.352859060512065,
          7.356024387524604,
          7.358228105352401,
          7.355861890361785,
          7.351526911602496,
          7.350884485290527,
          7.345178346381664,
          7.335548776433944,
          7.334696392760753,
          7.334196905837535,
          7.336299958870887,
          7.33972670440483,
          7.34188527916479,
          7.355083312139987,
          7.356809008167266,
          7.35138516430664,
          7.345671016023635,
          7.339321325765132,
          7.331494639859676,
          7.334725762949466,
          7.340737114892482,
          7.329002092824458,
          7.314123559043884,
          7.298647935734271,
          7.29696964030075,
          7.2964759350280755,
          7.292115706251144,
          7.29154837434101,
          7.292675550327777,
          7.321386742637634,
          7.344142544315337,
          7.325101646826743,
          7.3340293199281685,
          7.336816261754512,
          7.346561881945609,
          7.356802995548724,
          7.354468274162292,
          7.3420414880375855,
          7.332086022243976,
          7.322507309959411,
          7.319230507359981,
          7.326455678091525,
          7.3269499272565835,
          7.323226887033462,
          7.319847899721145,
          7.323992277727603,
          7.3239566714029305,
          7.3288883746128075,
          7.32273658667612,
          7.329429823205947,
          7.329930360661029,
          7.333925138459682,
          7.336693058953761,
          7.336148570523738,
          7.334370787487506,
          7.342599111841201,
          7.350250656948566,
          7.359732556388854,
          7.367113228188037,
          7.372555922017574,
          7.381989780114173,
          7.380684691713332,
          7.391449044690608,
          7.3859010518054955,
          7.385029788361072,
          7.376946340547084,
          7.369737643049239,
          7.367836433694839,
          7.373144331620216,
          7.379419739590167,
          7.381105627165317,
          7.376556429312705,
          7.366962748811721,
          7.369806441710471,
          7.3531527698497765,
          7.339814963982581,
          7.349360059247493,
          7.348783361957549,
          7.323582570300578,
          7.341930690453529,
          7.341547998831748,
          7.355748403118133,
          7.366217191563129,
          7.371638785348415,
          7.380381460533618,
          7.3841720849733345,
          7.3866563022594445,
          7.389831315026759,
          7.387266355798721,
          7.384062136755466,
          7.380401442990779,
          7.376914094434261,
          7.373974423156261,
          7.372578296111106,
          7.370950716779708,
          7.369162517831802,
          7.366690072463035,
          7.361530247376441,
          7.356554511235236,
          7.352593335555076,
          7.350064884171962,
          7.351012508616924,
          7.351290720746993,
          7.35038214479494,
          7.349737900541305,
          7.34775825892496,
          7.344842734978675,
          7.342788408742427,
          7.343295845435142,
          7.3437213778953545,
          7.344340252922057,
          7.345258037791728,
          7.346554826245784,
          7.348266351268768,
          7.35074797575283,
          7.3515231937627785,
          7.350317324743747,
          7.348478081868171,
          7.344966101692199,
          7.342100429580688,
          7.338681924388885,
          7.334335047052383,
          7.329909759805679,
          7.32642690394926,
          7.322379502699851,
          7.317506144986629,
          7.312065179691791,
          7.306939664528846,
          7.302182446465968,
          7.296291704521655,
          7.289721283362388,
          7.283111068652152,
          7.276299002812385,
          7.270123454974174,
          7.264232340500831,
          7.2587518275241845,
          7.253050449536323,
          7.248585525200843,
          7.247175428317069,
          7.248515698359489,
          7.252653020666122,
          7.25961125199604,
          7.263139951274871,
          7.267437297151565,
          7.263505595968246,
          7.271658140466689,
          7.281077685997962,
          7.293981480644225,
          7.296729321823596,
          7.275572958634376,
          7.274901840136527,
          7.278493288205146,
          7.284557464764594,
          7.284633728907584,
          7.284890952752113,
          7.293374869273185,
          7.298717926488399,
          7.294905918882369,
          7.299289691493987,
          7.29595401440668,
          7.3023342743973725,
          7.3284329578738205,
          7.348612892673492,
          7.368309560463905,
          7.392267721937179,
          7.405263754771232,
          7.4147823632221215,
          7.423650454030513,
          7.4242099106769555,
          7.422467964933395,
          7.419428932712554,
          7.414551536784648,
          7.412308509693622,
          7.419788512633323,
          7.425791326210975,
          7.433050523744106,
          7.454937028930663,
          7.463876652763366,
          7.476526278303146,
          7.483209449098586,
          7.487746927187919,
          7.4955288053016655,
          7.4811778545837395,
          7.47612305288124,
          7.472363221691131,
          7.475767004535674,
          7.472356456563949,
          7.4669672728042595,
          7.460829126880645,
          7.463829743907928,
          7.4644469202022545,
          7.464856150792121,
          7.453585575566768,
          7.438018444226264,
          7.420372965977668,
          7.41153986309576,
          7.40031101857233,
          7.387829738901138,
          7.3782077759962075,
          7.374286878154754,
          7.378193463430881,
          7.379297468111991,
          7.374259161994933,
          7.371509905205249,
          7.367387811885356,
          7.365140500710487,
          7.366892638848304,
          7.367738913045406,
          7.368408004985332,
          7.369403626070499,
          7.369125309632301,
          7.3668532774310105,
          7.362379889235973,
          7.3596477464299195,
          7.359380538807391,
          7.359294655964851,
          7.360637496457576,
          7.359824764774322,
          7.3575464144806855,
          7.354507374809264,
          7.3497334525446885,
          7.344209301517486,
          7.340293954358577,
          7.338233436689853,
          7.337754274950504,
          7.339398863957404,
          7.340716521487712,
          7.3417337790589325,
          7.34316701744604,
          7.3399775132994645,
          7.335800576255798,
          7.33665871922779,
          7.344174552009582,
          7.348070058272361,
          7.3467754453878396,
          7.344009283230781,
          7.341333362505912,
          7.33977113221693,
          7.341196994529247,
          7.344839747295856,
          7.348550196037769,
          7.353676463709354,
          7.359278838382243,
          7.363943319068431,
          7.367810446069717,
          7.370423841522216,
          7.368660095379829,
          7.365068431244373,
          7.362637694225787,
          7.361094351158618,
          7.3617864355902665,
          7.363196271703719,
          7.366566228912353,
          7.369664083467006,
          7.372226099715709,
          7.377985830650806,
          7.38602218334484,
          7.395413245306491,
          7.401630404637336,
          7.406999702797412,
          7.413861978099822,
          7.41395980422306,
          7.409130702958583,
          7.403757940278529,
          7.399294938192844,
          7.39583286200571,
          7.392513702855586,
          7.390270251081466,
          7.38756727729845,
          7.383686828659057,
          7.373131360159396,
          7.3597819984416954,
          7.340287926838874,
          7.318705308483123,
          7.304541069314956,
          7.295397344277381,
          7.289187136338233,
          7.285756918833732,
          7.282364088342666,
          7.276082772062301,
          7.264100733445167,
          7.248197394655227,
          7.22787721757698,
          7.206770154879569,
          7.182874235556602,
          7.169664982007026,
          7.148616614983558,
          7.13682025973606,
          7.111964675829887,
          7.099850806639671,
          7.1084669858675,
          7.115183237240791,
          7.120813134358405,
          7.130213502095222,
          7.138847979948997,
          7.145549538777351,
          7.153634789631843,
          7.16200656001377,
          7.170959296868324,
          7.179769131587028,
          7.187846484826087,
          7.195257458136558,
          7.202300909207343,
          7.208855155156135,
          7.215579855487823,
          7.220645877764701,
          7.224709603236198,
          7.2275230467777245,
          7.228981855557441,
          7.230553868458747,
          7.2320711642961495,
          7.233994010136604,
          7.236139091895103,
          7.238417255924224,
          7.2411377311210625,
          7.243956732795715,
          7.247087615774154,
          7.2506368488531105,
          7.2542103261213295,
          7.2577077776651375,
          7.260557043598174,
          7.263190555618285,
          7.265197697327613,
          7.2668006301383965,
          7.268447104142188,
          7.270284625933646,
          7.272102150366782,
          7.274056705878257,
          7.276038530514716,
          7.278462353394508,
          7.281250569270133,
          7.284320446894645,
          7.287488046334266,
          7.291078257606506,
          7.294651563511371,
          7.2974750280838006,
          7.305304135427951,
          7.328788335667133,
          7.362829911754607,
          7.3768474415402405,
          7.389986756489753,
          7.3905125737648,
          7.387302856193065,
          7.386862541780948,
          7.393290336475848,
          7.4012684554319375,
          7.397481787250518,
          7.396144519792079,
          7.391838710055827,
          7.384010452077865,
          7.373774825827359,
          7.366643804357528,
          7.355177889810085,
          7.341629418776511,
          7.332946579204082,
          7.328086006687164,
          7.325628984020232,
          7.323728862450599,
          7.324767771409034,
          7.326099234865188,
          7.326097685144424,
          7.325584429548263,
          7.32455528830099,
          7.32214396004486,
          7.319056268082141,
          7.323348368750095,
          7.319992701755046,
          7.311524729476451,
          7.316514040575504,
          7.315096418605327,
          7.307999599025726,
          7.298602896974563,
          7.287580433533668,
          7.279464799211501,
          7.276586610124587,
          7.273052337811469,
          7.271275851176261,
          7.270049873040199,
          7.26915645901966,
          7.268167945788383,
          7.266840937779426,
          7.265159773872375,
          7.261893051908492,
          7.256385776446342,
          7.2500343353013985,
          7.242701190755843,
          7.233018878148078,
          7.222635749028205,
          7.210800084517478,
          7.198520097182273,
          7.187361958668708,
          7.177213433430671,
          7.167489948914527,
          7.158967289374351,
          7.151802155421256,
          7.147820654557227,
          7.144395771668433,
          7.14122751657772,
          7.138440731213569,
          7.135605576680183,
          7.133009377167701,
          7.128945264266013,
          7.124568107769965,
          7.120486471102714,
          7.116698566124915,
          7.1135085255365365,
          7.111011686966895,
          7.108482572482108,
          7.104960623429298,
          7.100833031580924,
          7.094923618481635,
          7.0883604318361275,
          7.081356081412315,
          7.074915576026916,
          7.069383311317443,
          7.064872610614776,
          7.06300328974533,
          7.063329744384765,
          7.066671001956939,
          7.072088527725219,
          7.083182218716621,
          7.100207987473487,
          7.1135800213079445,
          7.123711440012931,
          7.164367440388679,
          7.167217078850745,
          7.204662936971664,
          7.162826749728202,
          7.206104728625297,
          7.314096707151412,
          7.3540381670455925,
          7.388997162924289,
          7.396684277103423,
          7.374166037188052,
          7.376886326120376,
          7.376268523977279,
          7.385477344737529,
          7.397729958639621,
          7.40717367385435,
          7.416411469922542,
          7.426236476049899,
          7.437338802264213,
          7.449769201920509,
          7.462705391691207,
          7.475951242492675,
          7.488223779247283,
          7.499721038387298,
          7.509077000663757,
          7.51647453312683,
          7.523158657596587,
          7.5274827063541405,
          7.528237688587188,
          7.524041074560165,
          7.521591711090087,
          7.520038831279754,
          7.516742545412063,
          7.510846573160171,
          7.503972250268935,
          7.495786371872901,
          7.485625702188491,
          7.471252012298583,
          7.455894637153625,
          7.440343181834697,
          7.423847834811687,
          7.4125865579109185,
          7.400817300425052,
          7.388420927570342,
          7.381499494657993,
          7.37011185218501,
          7.351735714123725,
          7.338397960410594,
          7.3297748819451325,
          7.32172632520008,
          7.316040377364635,
          7.313428822205543,
          7.3100768655996315,
          7.308825838611602,
          7.311275120125293,
          7.311854201601028,
          7.310076314256667,
          7.311489696846484,
          7.311829070792674,
          7.317264716372966,
          7.3195199028115265,
          7.318711328552245,
          7.309714983449458,
          7.312810021684646,
          7.30753209744501,
          7.281653377459525,
          7.289594027445792,
          7.277708831475257,
          7.267353597329139,
          7.259582313941001,
          7.25635567610073,
          7.254621300147056,
          7.25383712653923,
          7.253447893307685,
          7.252931955502509,
          7.252267184899329,
          7.2503506571512215,
          7.246425467775344,
          7.241480085299491,
          7.2364105761508934,
          7.229091855929374,
          7.221344935939788,
          7.212994489119529,
          7.203817787812232,
          7.193558621452331,
          7.184183451579093,
          7.177196028874397,
          7.1755686730604165,
          7.175813499138831,
          7.1761397451620095,
          7.1788877130012505,
          7.1807080090503685,
          7.180480796144485,
          7.179962310240745,
          7.178994092391013,
          7.176420542643546,
          7.172486278460502,
          7.167085650609016,
          7.161927226231574,
          7.157187733099937,
          7.152517053530692,
          7.147133562014579,
          7.140821400330543,
          7.136333170578956,
          7.133157971547126,
          7.129559460328101,
          7.123241278574943,
          7.116711291716575,
          7.105742397950172,
          7.096590283558845,
          7.092871758387565,
          7.0931937426786416,
          7.09394049947071,
          7.098055306122779,
          7.115546646759986,
          7.137070748255729,
          7.130551490233421,
          7.130459520266532,
          7.1547624499063485,
          7.184720221207618,
          7.164867523358344,
          7.214970830128669,
          7.2275617152910225,
          7.2446367174844735,
          7.275052163050651,
          7.303973238215923,
          7.3238617361049645,
          7.327077861176013,
          7.326566349015712,
          7.340304705546378,
          7.3461506024460785,
          7.341160740004062,
          7.349197368369579,
          7.359956334577083,
          7.372280436800002,
          7.386732707963466,
          7.40269226138401,
          7.418027456150531,
          7.435911695704936,
          7.452935206935882,
          7.466943073318481,
          7.480525213525771,
          7.491784918354034,
          7.5015447617034905,
          7.50911797885704,
          7.513692903564452,
          7.5131452858905785,
          7.5121628821353905,
          7.508959281490325,
          7.502918708370208,
          7.496297556207656,
          7.493216025875091,
          7.486888366983413,
          7.476964491651534,
          7.4671050191383355,
          7.453701491699695,
          7.434446926460742,
          7.419163885758399,
          7.4060964242081635,
          7.392303693340301,
          7.381518083856582,
          7.372807960258006,
          7.359262990997314,
          7.346662524388313,
          7.331050875828742,
          7.311957876430034,
          7.301151755497932,
          7.297720934496402,
          7.2959480166893,
          7.292383502469539,
          7.288550394819259,
          7.286737564251899
         ]
        }
       ],
       "layout": {
        "template": {
         "data": {
          "bar": [
           {
            "error_x": {
             "color": "#2a3f5f"
            },
            "error_y": {
             "color": "#2a3f5f"
            },
            "marker": {
             "line": {
              "color": "#E5ECF6",
              "width": 0.5
             },
             "pattern": {
              "fillmode": "overlay",
              "size": 10,
              "solidity": 0.2
             }
            },
            "type": "bar"
           }
          ],
          "barpolar": [
           {
            "marker": {
             "line": {
              "color": "#E5ECF6",
              "width": 0.5
             },
             "pattern": {
              "fillmode": "overlay",
              "size": 10,
              "solidity": 0.2
             }
            },
            "type": "barpolar"
           }
          ],
          "carpet": [
           {
            "aaxis": {
             "endlinecolor": "#2a3f5f",
             "gridcolor": "white",
             "linecolor": "white",
             "minorgridcolor": "white",
             "startlinecolor": "#2a3f5f"
            },
            "baxis": {
             "endlinecolor": "#2a3f5f",
             "gridcolor": "white",
             "linecolor": "white",
             "minorgridcolor": "white",
             "startlinecolor": "#2a3f5f"
            },
            "type": "carpet"
           }
          ],
          "choropleth": [
           {
            "colorbar": {
             "outlinewidth": 0,
             "ticks": ""
            },
            "type": "choropleth"
           }
          ],
          "contour": [
           {
            "colorbar": {
             "outlinewidth": 0,
             "ticks": ""
            },
            "colorscale": [
             [
              0,
              "#0d0887"
             ],
             [
              0.1111111111111111,
              "#46039f"
             ],
             [
              0.2222222222222222,
              "#7201a8"
             ],
             [
              0.3333333333333333,
              "#9c179e"
             ],
             [
              0.4444444444444444,
              "#bd3786"
             ],
             [
              0.5555555555555556,
              "#d8576b"
             ],
             [
              0.6666666666666666,
              "#ed7953"
             ],
             [
              0.7777777777777778,
              "#fb9f3a"
             ],
             [
              0.8888888888888888,
              "#fdca26"
             ],
             [
              1,
              "#f0f921"
             ]
            ],
            "type": "contour"
           }
          ],
          "contourcarpet": [
           {
            "colorbar": {
             "outlinewidth": 0,
             "ticks": ""
            },
            "type": "contourcarpet"
           }
          ],
          "heatmap": [
           {
            "colorbar": {
             "outlinewidth": 0,
             "ticks": ""
            },
            "colorscale": [
             [
              0,
              "#0d0887"
             ],
             [
              0.1111111111111111,
              "#46039f"
             ],
             [
              0.2222222222222222,
              "#7201a8"
             ],
             [
              0.3333333333333333,
              "#9c179e"
             ],
             [
              0.4444444444444444,
              "#bd3786"
             ],
             [
              0.5555555555555556,
              "#d8576b"
             ],
             [
              0.6666666666666666,
              "#ed7953"
             ],
             [
              0.7777777777777778,
              "#fb9f3a"
             ],
             [
              0.8888888888888888,
              "#fdca26"
             ],
             [
              1,
              "#f0f921"
             ]
            ],
            "type": "heatmap"
           }
          ],
          "heatmapgl": [
           {
            "colorbar": {
             "outlinewidth": 0,
             "ticks": ""
            },
            "colorscale": [
             [
              0,
              "#0d0887"
             ],
             [
              0.1111111111111111,
              "#46039f"
             ],
             [
              0.2222222222222222,
              "#7201a8"
             ],
             [
              0.3333333333333333,
              "#9c179e"
             ],
             [
              0.4444444444444444,
              "#bd3786"
             ],
             [
              0.5555555555555556,
              "#d8576b"
             ],
             [
              0.6666666666666666,
              "#ed7953"
             ],
             [
              0.7777777777777778,
              "#fb9f3a"
             ],
             [
              0.8888888888888888,
              "#fdca26"
             ],
             [
              1,
              "#f0f921"
             ]
            ],
            "type": "heatmapgl"
           }
          ],
          "histogram": [
           {
            "marker": {
             "pattern": {
              "fillmode": "overlay",
              "size": 10,
              "solidity": 0.2
             }
            },
            "type": "histogram"
           }
          ],
          "histogram2d": [
           {
            "colorbar": {
             "outlinewidth": 0,
             "ticks": ""
            },
            "colorscale": [
             [
              0,
              "#0d0887"
             ],
             [
              0.1111111111111111,
              "#46039f"
             ],
             [
              0.2222222222222222,
              "#7201a8"
             ],
             [
              0.3333333333333333,
              "#9c179e"
             ],
             [
              0.4444444444444444,
              "#bd3786"
             ],
             [
              0.5555555555555556,
              "#d8576b"
             ],
             [
              0.6666666666666666,
              "#ed7953"
             ],
             [
              0.7777777777777778,
              "#fb9f3a"
             ],
             [
              0.8888888888888888,
              "#fdca26"
             ],
             [
              1,
              "#f0f921"
             ]
            ],
            "type": "histogram2d"
           }
          ],
          "histogram2dcontour": [
           {
            "colorbar": {
             "outlinewidth": 0,
             "ticks": ""
            },
            "colorscale": [
             [
              0,
              "#0d0887"
             ],
             [
              0.1111111111111111,
              "#46039f"
             ],
             [
              0.2222222222222222,
              "#7201a8"
             ],
             [
              0.3333333333333333,
              "#9c179e"
             ],
             [
              0.4444444444444444,
              "#bd3786"
             ],
             [
              0.5555555555555556,
              "#d8576b"
             ],
             [
              0.6666666666666666,
              "#ed7953"
             ],
             [
              0.7777777777777778,
              "#fb9f3a"
             ],
             [
              0.8888888888888888,
              "#fdca26"
             ],
             [
              1,
              "#f0f921"
             ]
            ],
            "type": "histogram2dcontour"
           }
          ],
          "mesh3d": [
           {
            "colorbar": {
             "outlinewidth": 0,
             "ticks": ""
            },
            "type": "mesh3d"
           }
          ],
          "parcoords": [
           {
            "line": {
             "colorbar": {
              "outlinewidth": 0,
              "ticks": ""
             }
            },
            "type": "parcoords"
           }
          ],
          "pie": [
           {
            "automargin": true,
            "type": "pie"
           }
          ],
          "scatter": [
           {
            "fillpattern": {
             "fillmode": "overlay",
             "size": 10,
             "solidity": 0.2
            },
            "type": "scatter"
           }
          ],
          "scatter3d": [
           {
            "line": {
             "colorbar": {
              "outlinewidth": 0,
              "ticks": ""
             }
            },
            "marker": {
             "colorbar": {
              "outlinewidth": 0,
              "ticks": ""
             }
            },
            "type": "scatter3d"
           }
          ],
          "scattercarpet": [
           {
            "marker": {
             "colorbar": {
              "outlinewidth": 0,
              "ticks": ""
             }
            },
            "type": "scattercarpet"
           }
          ],
          "scattergeo": [
           {
            "marker": {
             "colorbar": {
              "outlinewidth": 0,
              "ticks": ""
             }
            },
            "type": "scattergeo"
           }
          ],
          "scattergl": [
           {
            "marker": {
             "colorbar": {
              "outlinewidth": 0,
              "ticks": ""
             }
            },
            "type": "scattergl"
           }
          ],
          "scattermapbox": [
           {
            "marker": {
             "colorbar": {
              "outlinewidth": 0,
              "ticks": ""
             }
            },
            "type": "scattermapbox"
           }
          ],
          "scatterpolar": [
           {
            "marker": {
             "colorbar": {
              "outlinewidth": 0,
              "ticks": ""
             }
            },
            "type": "scatterpolar"
           }
          ],
          "scatterpolargl": [
           {
            "marker": {
             "colorbar": {
              "outlinewidth": 0,
              "ticks": ""
             }
            },
            "type": "scatterpolargl"
           }
          ],
          "scatterternary": [
           {
            "marker": {
             "colorbar": {
              "outlinewidth": 0,
              "ticks": ""
             }
            },
            "type": "scatterternary"
           }
          ],
          "surface": [
           {
            "colorbar": {
             "outlinewidth": 0,
             "ticks": ""
            },
            "colorscale": [
             [
              0,
              "#0d0887"
             ],
             [
              0.1111111111111111,
              "#46039f"
             ],
             [
              0.2222222222222222,
              "#7201a8"
             ],
             [
              0.3333333333333333,
              "#9c179e"
             ],
             [
              0.4444444444444444,
              "#bd3786"
             ],
             [
              0.5555555555555556,
              "#d8576b"
             ],
             [
              0.6666666666666666,
              "#ed7953"
             ],
             [
              0.7777777777777778,
              "#fb9f3a"
             ],
             [
              0.8888888888888888,
              "#fdca26"
             ],
             [
              1,
              "#f0f921"
             ]
            ],
            "type": "surface"
           }
          ],
          "table": [
           {
            "cells": {
             "fill": {
              "color": "#EBF0F8"
             },
             "line": {
              "color": "white"
             }
            },
            "header": {
             "fill": {
              "color": "#C8D4E3"
             },
             "line": {
              "color": "white"
             }
            },
            "type": "table"
           }
          ]
         },
         "layout": {
          "annotationdefaults": {
           "arrowcolor": "#2a3f5f",
           "arrowhead": 0,
           "arrowwidth": 1
          },
          "autotypenumbers": "strict",
          "coloraxis": {
           "colorbar": {
            "outlinewidth": 0,
            "ticks": ""
           }
          },
          "colorscale": {
           "diverging": [
            [
             0,
             "#8e0152"
            ],
            [
             0.1,
             "#c51b7d"
            ],
            [
             0.2,
             "#de77ae"
            ],
            [
             0.3,
             "#f1b6da"
            ],
            [
             0.4,
             "#fde0ef"
            ],
            [
             0.5,
             "#f7f7f7"
            ],
            [
             0.6,
             "#e6f5d0"
            ],
            [
             0.7,
             "#b8e186"
            ],
            [
             0.8,
             "#7fbc41"
            ],
            [
             0.9,
             "#4d9221"
            ],
            [
             1,
             "#276419"
            ]
           ],
           "sequential": [
            [
             0,
             "#0d0887"
            ],
            [
             0.1111111111111111,
             "#46039f"
            ],
            [
             0.2222222222222222,
             "#7201a8"
            ],
            [
             0.3333333333333333,
             "#9c179e"
            ],
            [
             0.4444444444444444,
             "#bd3786"
            ],
            [
             0.5555555555555556,
             "#d8576b"
            ],
            [
             0.6666666666666666,
             "#ed7953"
            ],
            [
             0.7777777777777778,
             "#fb9f3a"
            ],
            [
             0.8888888888888888,
             "#fdca26"
            ],
            [
             1,
             "#f0f921"
            ]
           ],
           "sequentialminus": [
            [
             0,
             "#0d0887"
            ],
            [
             0.1111111111111111,
             "#46039f"
            ],
            [
             0.2222222222222222,
             "#7201a8"
            ],
            [
             0.3333333333333333,
             "#9c179e"
            ],
            [
             0.4444444444444444,
             "#bd3786"
            ],
            [
             0.5555555555555556,
             "#d8576b"
            ],
            [
             0.6666666666666666,
             "#ed7953"
            ],
            [
             0.7777777777777778,
             "#fb9f3a"
            ],
            [
             0.8888888888888888,
             "#fdca26"
            ],
            [
             1,
             "#f0f921"
            ]
           ]
          },
          "colorway": [
           "#636efa",
           "#EF553B",
           "#00cc96",
           "#ab63fa",
           "#FFA15A",
           "#19d3f3",
           "#FF6692",
           "#B6E880",
           "#FF97FF",
           "#FECB52"
          ],
          "font": {
           "color": "#2a3f5f"
          },
          "geo": {
           "bgcolor": "white",
           "lakecolor": "white",
           "landcolor": "#E5ECF6",
           "showlakes": true,
           "showland": true,
           "subunitcolor": "white"
          },
          "hoverlabel": {
           "align": "left"
          },
          "hovermode": "closest",
          "mapbox": {
           "style": "light"
          },
          "paper_bgcolor": "white",
          "plot_bgcolor": "#E5ECF6",
          "polar": {
           "angularaxis": {
            "gridcolor": "white",
            "linecolor": "white",
            "ticks": ""
           },
           "bgcolor": "#E5ECF6",
           "radialaxis": {
            "gridcolor": "white",
            "linecolor": "white",
            "ticks": ""
           }
          },
          "scene": {
           "xaxis": {
            "backgroundcolor": "#E5ECF6",
            "gridcolor": "white",
            "gridwidth": 2,
            "linecolor": "white",
            "showbackground": true,
            "ticks": "",
            "zerolinecolor": "white"
           },
           "yaxis": {
            "backgroundcolor": "#E5ECF6",
            "gridcolor": "white",
            "gridwidth": 2,
            "linecolor": "white",
            "showbackground": true,
            "ticks": "",
            "zerolinecolor": "white"
           },
           "zaxis": {
            "backgroundcolor": "#E5ECF6",
            "gridcolor": "white",
            "gridwidth": 2,
            "linecolor": "white",
            "showbackground": true,
            "ticks": "",
            "zerolinecolor": "white"
           }
          },
          "shapedefaults": {
           "line": {
            "color": "#2a3f5f"
           }
          },
          "ternary": {
           "aaxis": {
            "gridcolor": "white",
            "linecolor": "white",
            "ticks": ""
           },
           "baxis": {
            "gridcolor": "white",
            "linecolor": "white",
            "ticks": ""
           },
           "bgcolor": "#E5ECF6",
           "caxis": {
            "gridcolor": "white",
            "linecolor": "white",
            "ticks": ""
           }
          },
          "title": {
           "x": 0.05
          },
          "xaxis": {
           "automargin": true,
           "gridcolor": "white",
           "linecolor": "white",
           "ticks": "",
           "title": {
            "standoff": 15
           },
           "zerolinecolor": "white",
           "zerolinewidth": 2
          },
          "yaxis": {
           "automargin": true,
           "gridcolor": "white",
           "linecolor": "white",
           "ticks": "",
           "title": {
            "standoff": 15
           },
           "zerolinecolor": "white",
           "zerolinewidth": 2
          }
         }
        },
        "title": {
         "text": "TSMixer Prediction vs. Ground Truth for GREF"
        },
        "xaxis": {
         "title": {
          "text": "Time Step"
         }
        },
        "yaxis": {
         "title": {
          "text": "Value"
         }
        }
       }
      }
     },
     "metadata": {},
     "output_type": "display_data"
    },
    {
     "data": {
      "application/vnd.plotly.v1+json": {
       "config": {
        "plotlyServerURL": "https://plot.ly"
       },
       "data": [
        {
         "line": {
          "color": "blue"
         },
         "mode": "lines",
         "name": "GT",
         "type": "scatter",
         "y": [
          0,
          0,
          0,
          0,
          0,
          0,
          0,
          0,
          0,
          0,
          0,
          0,
          0,
          0,
          0,
          0,
          0,
          0,
          0,
          0,
          0,
          0,
          0,
          0,
          0,
          0,
          0,
          0,
          0,
          0,
          0,
          0,
          0,
          0,
          0,
          0,
          0,
          0,
          0,
          0,
          0,
          0,
          0,
          0,
          0,
          0,
          0,
          0,
          0,
          0,
          0,
          0,
          0,
          0,
          0,
          0,
          0,
          0,
          0,
          0,
          0,
          0,
          0,
          0,
          0,
          0,
          0,
          0,
          0,
          0,
          0,
          0,
          0,
          0,
          0,
          0,
          0,
          0,
          0,
          0,
          0,
          0,
          0,
          0,
          0,
          0,
          0,
          0,
          0,
          0,
          0,
          0,
          0,
          0,
          0,
          0,
          0,
          0,
          0,
          0,
          0,
          0,
          0,
          0,
          0,
          0,
          0,
          0,
          0,
          0,
          0,
          0,
          0,
          0,
          0,
          0,
          0,
          0,
          0,
          0,
          0,
          0,
          0,
          0,
          0,
          0,
          0,
          0,
          0,
          0,
          0,
          0,
          0,
          0,
          0,
          0,
          0,
          0,
          0,
          0,
          0,
          0,
          0,
          0,
          0,
          0,
          0,
          0,
          0,
          0,
          0,
          0,
          0,
          0,
          0,
          0,
          0,
          0,
          0,
          0,
          0,
          0,
          0,
          0,
          0,
          0,
          0,
          0,
          0,
          0,
          0,
          0,
          0,
          0,
          0,
          0,
          0,
          0,
          0,
          0,
          0,
          0,
          0,
          0,
          0,
          0,
          0,
          0,
          0,
          0,
          0,
          0,
          0,
          0,
          0,
          0,
          0,
          0,
          0,
          0,
          0,
          0,
          0,
          0,
          0,
          0,
          0,
          0,
          0,
          0,
          0,
          0,
          0,
          0,
          0,
          0,
          0,
          0,
          0,
          0,
          0,
          0,
          0,
          0,
          0,
          0,
          0,
          0,
          0,
          0,
          0,
          0,
          0,
          0,
          0,
          0,
          0,
          0,
          0,
          0,
          0,
          0,
          0,
          0,
          0,
          0,
          0,
          0,
          0,
          0,
          0,
          0,
          0,
          0,
          0,
          0,
          0,
          0,
          0,
          0,
          0,
          0,
          0,
          0,
          0,
          0,
          0,
          0,
          0,
          0,
          0,
          0,
          0,
          0,
          0,
          0,
          0,
          0,
          0,
          0,
          0,
          0,
          0,
          0,
          0,
          0,
          0,
          0,
          0,
          0,
          0,
          0,
          0,
          0,
          0,
          0,
          0,
          0,
          0,
          0,
          0,
          0,
          0,
          0,
          0,
          0,
          0,
          0,
          0,
          0,
          0,
          0,
          0,
          0,
          0,
          0,
          0,
          0,
          0,
          0,
          0,
          0,
          0.168457,
          0.6445312,
          1.384277,
          2.34375,
          3.479004,
          4.746094,
          6.101074,
          7.5,
          8.898926,
          10.25391,
          11.521,
          12.65625,
          13.61572,
          14.35547,
          14.83154,
          15,
          15,
          15,
          15,
          15,
          15,
          15,
          15,
          15,
          15,
          15,
          15,
          15,
          15,
          15,
          15,
          15,
          15,
          15,
          15,
          15,
          15,
          15,
          15,
          15,
          15,
          15,
          15,
          15,
          15,
          15,
          15,
          15,
          15,
          15,
          15,
          15,
          15,
          15,
          15,
          15,
          14.83154,
          14.35547,
          13.61572,
          12.65625,
          11.521,
          10.25391,
          8.898926,
          7.5,
          6.101074,
          4.746094,
          3.479004,
          2.34375,
          1.384277,
          0.6445312,
          0.168457,
          0,
          0,
          0,
          0,
          0,
          0,
          0,
          0,
          0,
          0,
          0,
          0,
          0,
          0,
          0,
          0,
          0,
          0,
          0,
          0,
          0,
          0,
          0,
          0,
          0,
          0,
          0,
          0,
          0,
          0,
          0,
          0,
          0,
          0,
          0,
          0,
          0,
          0,
          0,
          0,
          0,
          0,
          0,
          0,
          0,
          0,
          0,
          0,
          0,
          0,
          0,
          0,
          0,
          0,
          0,
          0,
          0,
          0,
          0,
          0,
          0,
          0,
          0,
          0,
          0,
          0,
          0,
          0,
          0,
          0,
          0,
          0,
          0,
          0,
          0,
          0,
          0,
          0,
          0,
          0,
          0,
          0,
          0,
          0,
          0,
          0,
          0,
          0,
          0,
          0,
          0,
          0,
          0,
          0,
          0,
          0,
          0,
          0,
          0,
          0,
          0,
          0,
          0,
          0,
          0,
          0,
          0,
          0,
          0,
          0,
          0,
          0,
          0,
          0,
          0,
          0,
          0,
          0,
          0,
          0,
          0,
          0,
          0,
          0,
          0,
          0,
          0,
          0,
          0,
          0,
          0,
          0,
          0,
          0,
          0,
          0,
          0,
          0,
          0,
          0,
          0,
          0,
          0,
          0,
          0,
          0,
          0,
          0,
          0,
          0,
          0,
          0,
          0,
          0,
          0,
          0,
          0,
          0,
          0,
          0,
          0,
          0,
          0,
          0,
          0,
          0,
          0,
          0,
          0,
          0,
          0,
          0,
          0,
          0,
          0,
          0,
          0,
          0,
          0,
          0,
          0,
          0,
          0,
          0,
          0,
          0,
          0,
          0,
          0,
          0,
          0,
          0,
          0,
          0,
          0,
          0,
          0,
          0,
          0,
          0,
          0,
          0,
          0,
          0,
          0,
          0,
          0,
          0,
          0,
          0,
          0,
          0,
          0,
          0,
          0,
          0,
          0,
          0,
          0,
          0,
          0,
          0,
          0,
          0,
          0,
          0,
          0,
          0,
          0,
          0,
          0,
          0,
          0,
          0,
          0,
          0,
          0,
          0,
          0,
          0,
          0,
          0,
          0,
          0,
          0,
          0,
          0,
          0
         ]
        },
        {
         "line": {
          "color": "red"
         },
         "mode": "lines",
         "name": "pred_beginning",
         "type": "scatter",
         "y": [
          0,
          0,
          0,
          0,
          0,
          0,
          0,
          0,
          0.40868595095207594,
          0.3946874972559855,
          0.3834387203686912,
          0.3721432218523,
          0.3651348564472682,
          0.36078671892900505,
          0.36665669852663585,
          0.37929986185744513,
          0.3877588975337902,
          0.39163183008875124,
          0.3798024219714621,
          0.3520749507097729,
          0.3241336009024509,
          0.2910811348488538,
          0.2561125373200772,
          0.21791167454931926,
          0.1785376873505624,
          0.1413431552127371,
          0.10089602303062928,
          0.05579149487859314,
          0.013333153916498475,
          -0.024619333769008378,
          -0.06111885141389406,
          -0.0919924070887641,
          -0.10941061774567329,
          -0.11464925014804583,
          -0.1140914955706398,
          -0.11110276379431405,
          -0.11454854446045859,
          -0.1107287486805586,
          -0.10648797407682653,
          -0.10102202763444335,
          -0.09476980216974473,
          -0.08734082106235053,
          -0.07211634824418,
          -0.06093583819318282,
          -0.04977372629664867,
          -0.032889304200147684,
          -0.02076855162369684,
          -0.020502988788881682,
          -0.02719870660853152,
          -0.06490088256094895,
          -0.14442932603726355,
          -0.23863513931745284,
          -0.343542384389661,
          -0.4743905430928044,
          -0.5048406991340446,
          -0.5297467165764338,
          -0.527892860433302,
          -0.5346662862474603,
          -0.6005955886038266,
          -0.6063234666663282,
          -0.5751209229399414,
          -0.47955848784908217,
          -0.47333313337313876,
          -0.352332344765361,
          -0.17382764022137298,
          -0.3270469864276615,
          -0.23180119325835036,
          -0.04619116987692995,
          0.10767404838340333,
          0.06566016810017916,
          0.13039407457840668,
          0.1682940306913019,
          0.08508038845984323,
          0.010438591641305672,
          -0.017476734460690313,
          -0.038008348598510544,
          -0.08703507278489231,
          -0.05040918886856316,
          0.05602147180938122,
          0.09240793763671107,
          0.07012075223354852,
          0.076839951908237,
          0.09678209886030031,
          0.12908562688271252,
          0.12268210080565334,
          0.14984286049368478,
          0.18188711978675598,
          0.20930254866551268,
          0.16435948852698767,
          0.09083392710620153,
          0.004831269906732771,
          -0.015644665605738517,
          -0.11399442109774927,
          -0.09460736583231455,
          -0.1661096144241252,
          -0.1625456982398492,
          -0.1930694468989418,
          -0.2096742654638004,
          -0.17395497481673572,
          -0.18056548013150397,
          -0.15126424042028508,
          -0.06371299119318352,
          -0.03462139361045158,
          -0.0500242801107178,
          -0.016668668150194854,
          -0.003612272586906329,
          0.01140255810277746,
          0.000972741170068403,
          0.057004562668255154,
          -0.053385090352960685,
          -0.04983594110845124,
          -0.0788701654989763,
          -0.14187464545767758,
          -0.14063155962652307,
          -0.09268064331426995,
          0.07611395104988583,
          0.14022280443832957,
          0.12128577771430016,
          -0.03395542883508518,
          -0.1304079956885842,
          -0.3153411606505483,
          -0.19289393818860345,
          -0.4186872254841749,
          -0.254054487324344,
          -0.27598484536331513,
          -0.29510512738903594,
          -0.20186909051383273,
          -0.28566566374459423,
          -0.49410222895211997,
          -0.5590588499317426,
          -0.5490064372465058,
          -0.5107886288071635,
          -0.591340590665975,
          -0.674884673434829,
          -0.7614022368782833,
          -0.830089325756268,
          -0.8702086802917581,
          -0.9071420070524041,
          -0.9219837498415473,
          -0.9288101913902767,
          -0.9324779603148772,
          -0.9246698803931521,
          -0.8968714794043884,
          -0.8193820840207346,
          -0.7394060328128125,
          -0.6682180053327524,
          -0.5899483829512779,
          -0.48059362611860834,
          -0.38735613675752667,
          -0.3135771165509138,
          -0.24394954306649574,
          -0.17936282182397223,
          -0.12437848472528046,
          -0.08688909795408684,
          -0.025152638167456942,
          0.03339609927747045,
          0.06845910838835989,
          0.11340337893178365,
          0.15529573456315982,
          0.1859591639475835,
          0.21366678456893107,
          0.2479636073788265,
          0.26373881442598957,
          0.2572912296106111,
          0.23760181520143497,
          0.22371726060632957,
          0.20625426496816157,
          0.1885310322767335,
          0.17126847968982095,
          0.1625811616495465,
          0.14848454411615641,
          0.12472381178909187,
          0.1010679005262709,
          0.0755346512652797,
          0.05794916265134464,
          0.03709243375768412,
          0.002414091323660328,
          -0.03498524132305625,
          -0.07340300865169436,
          -0.11666965800526397,
          -0.16210462669469572,
          -0.21249838217387795,
          -0.25988403939835214,
          -0.3147248224760364,
          -0.35366475847805323,
          -0.3595930795918103,
          -0.3698021186709626,
          -0.3558696320418613,
          -0.3392176076859461,
          -0.428091345305569,
          -0.5475725916032872,
          -0.5039897844901287,
          -0.46871858573663117,
          -0.4081312843610023,
          -0.4039539349739716,
          -0.3655204323816481,
          -0.32155150610574545,
          -0.3980694305175543,
          -0.3894126146807315,
          -0.3647791804215712,
          -0.31337037939418444,
          -0.17448101678579087,
          -0.06408942711673671,
          0.058235544450420784,
          0.18895709480114098,
          0.340285364913657,
          1.0000126817550385,
          1.719798020169889,
          2.1658122839881595,
          2.5735767544176347,
          3.024588144600828,
          3.457431115170783,
          3.8909814463636465,
          4.253893758062503,
          4.6451113883217765,
          4.929594546273485,
          5.173487744265017,
          5.328408677678158,
          5.379627929298379,
          5.2764060520073786,
          5.158844507879292,
          4.98905834982197,
          4.675050753495687,
          4.431697396089057,
          4.092493527225633,
          3.7113413820245054,
          3.2816999324120992,
          2.872193810373619,
          2.2326038182742463,
          1.9031346913303469,
          1.6652225881061629,
          1.4677948370147273,
          1.2675281417532032,
          1.0916342805761092,
          1.001819090026134,
          0.9594968590949189,
          0.9520309001178637,
          0.9925278404615607,
          0.9718025010196742,
          0.8706768029325616,
          0.7533293794310871,
          0.6278528766287037,
          0.531266438993388,
          0.45508101280730284,
          0.4097417871453729,
          0.42705178760432183,
          0.4275427278313094,
          0.43752360558702197,
          0.464426549031591,
          0.4672949665609677,
          0.4553791355338982,
          0.43395738963343833,
          0.45125117066674203,
          0.45718917501969025,
          0.4820414504845688,
          0.5126231775383178,
          0.51417261684938,
          0.5127978389652268,
          0.4608461713406903,
          0.39765916232323706,
          0.34258924959819403,
          0.2966588621836488,
          0.2584549128803988,
          0.2301808227663733,
          0.20852909993512547,
          0.18560112617849356,
          0.15094215022285185,
          0.11769765343204663,
          0.10891616589063857,
          0.09906008088000107,
          0.07997683724418625,
          0.06426287668490671,
          0.0624216087527234,
          0.07191989807525068,
          0.06202919548450492,
          0.035676260025989226,
          0.0053546489850104795,
          0.028052161648894902,
          0.08824027148887148,
          0.14057454810194558,
          0.1674656295785053,
          0.17669133571780393,
          0.17955975324718065,
          0.20600927901662747,
          0.2593765151704095,
          0.3354369670506848,
          0.4134311012771733,
          0.5192390086346413,
          0.6341356042968541,
          0.7684311171925109,
          0.9301536788539535,
          1.1011934532650505,
          1.3000546566181124,
          1.5441665142546284,
          1.7922631458587626,
          1.9927486520658826,
          2.1611393343152807,
          2.3085784524471906,
          2.4513593878459883,
          2.574603056731399,
          2.658977719341868,
          2.711690489566823,
          2.8095154134946774,
          2.9262713121220667,
          3.0510889915379873,
          3.2301720275426624,
          3.438857209916419,
          3.6319390627386543,
          3.7911782366690554,
          3.9266191557205268,
          4.065200591322644,
          4.189688556444108,
          4.32748371302391,
          4.477730304798538,
          4.654058459253352,
          4.854889082157266,
          5.08190608880561,
          5.287969776249362,
          5.476926569176198,
          5.602966031297053,
          5.73266043205058,
          5.919591491338643,
          6.121207667021934,
          6.344757347796933,
          6.585114226835884,
          6.861574579036806,
          7.050055440757401,
          7.122342757966628,
          7.271567768006597,
          7.539105499454902,
          8.017809501238697,
          8.539022438909358,
          8.90771370775745,
          9.176201849132358,
          9.453951040469613,
          9.921285466957205,
          10.403117639161676,
          10.812039861876935,
          11.228742567282223,
          11.671197847316181,
          12.101120110865127,
          12.465437460570609,
          12.75234796450654,
          12.956788256899909,
          13.062825535985716,
          13.108522678376247,
          13.15279444795785,
          13.193376903407653,
          13.232341289588627,
          13.267991102994497,
          13.303620581598063,
          13.326898120289494,
          13.357882549053102,
          13.376278766868309,
          13.384419466056247,
          13.391097996126334,
          13.400762837162947,
          13.414674746908767,
          13.421400724850889,
          13.419417597464557,
          13.420820698823343,
          13.431710469617629,
          13.432865680053125,
          13.427319120644475,
          13.412071892214206,
          13.387337026024518,
          13.352484143204075,
          13.308357622210337,
          13.261820942981942,
          13.20638052531735,
          13.138516511770607,
          13.063095698359147,
          12.977815410803332,
          12.884728495811672,
          12.778131525500621,
          12.66306946748873,
          12.541502209388275,
          12.412304558805252,
          12.271015447444329,
          12.11433385906527,
          11.943122570280002,
          11.760248788213,
          11.555870468550454,
          11.24488162204199,
          10.831575796944932,
          10.20988472780806,
          9.374490379667636,
          8.283290028520856,
          6.978246959726173,
          5.552244256090273,
          4.149394661522199,
          2.6880275579555883,
          1.2758817511628553,
          0.16676068976539504,
          -0.867857105654205,
          -1.5982977291743043,
          -2.1051417082093273,
          -2.5588217991135815,
          -2.918527021992354,
          -3.154091665955641,
          -3.254059006554521,
          -3.24734271185159,
          -3.17656646411813,
          -3.0320494449728628,
          -2.864008448698752,
          -2.667824086039696,
          -2.454224417695488,
          -2.2338774682829374,
          -1.9814746396902867,
          -1.741150199502626,
          -1.5444008198367702,
          -1.396566807106599,
          -1.2731277788705084,
          -1.0978843892860748,
          -0.9058088670967723,
          -0.5920808743021329,
          -0.5027152281316032,
          -0.4221424473085309,
          -0.454845651028555,
          -0.4607471011535569,
          -0.4536691374668391,
          -0.4860648983425464,
          -0.5400971309477758,
          -0.5846054136466214,
          -0.6275851970391555,
          -0.6558866423038958,
          -0.6654609450540732,
          -0.6513941034811956,
          -0.617220015728047,
          -0.6102304115989481,
          -0.6090856106455829,
          -0.6452048190712392,
          -0.6669930755750813,
          -0.6627000114797172,
          -0.6331784780769014,
          -0.6075905185144805,
          -0.5871966484541535,
          -0.5836859900854288,
          -0.6173161218770185,
          -0.6577489712813196,
          -0.6918150909174876,
          -0.7158871393845454,
          -0.7342129116346381,
          -0.7633575249519413,
          -0.7963478367139809,
          -0.8294098044460341,
          -0.8606280834361064,
          -0.8926689535954611,
          -0.9213076176650306,
          -0.9496369022424449,
          -0.9800800379352717,
          -1.0085824104132268,
          -1.037185246497789,
          -1.068147161730278,
          -1.101477597268904,
          -1.1363977786017248,
          -1.1626647753124197,
          -1.1863582091271063,
          -1.2056721559366486,
          -1.2178715848315267,
          -1.2266170023069478,
          -1.234497464441626,
          -1.239404930063664,
          -1.2492743295281892,
          -1.2640105250101497,
          -1.3064463524411252,
          -1.3559574806680408,
          -1.3468772651975882,
          -1.3419284037280084,
          -1.3813980129137773,
          -1.7937231679617598,
          -1.3017419927611205,
          -1.2618373640546923,
          -1.3322323342450033,
          -1.1081943761337942,
          -0.6153579288316029,
          -0.08963042296908075,
          0.45036031266116305,
          0.9362376580377072,
          1.536257002402377,
          1.5625974706904344,
          1.5198779848714052,
          1.3998859779664805,
          1.2737922594460331,
          1.1612669377611027,
          1.061802762478689,
          0.9743730379034354,
          0.8917517678294908,
          0.8124926394431782,
          0.7324702902478737,
          0.6528345443772731,
          0.5756843044462869,
          0.4865457302347882,
          0.3971768159710316,
          0.30101753022453237,
          0.21563054547688143,
          0.12589645205513134,
          0.030765647351214342,
          -0.0736128928611608,
          -0.21704902043172458,
          -0.3839403741328742,
          -0.5514766315641495,
          -0.7382072478009574,
          -0.9214681173546226,
          -1.1055462522960144,
          -1.2988651023974513,
          -1.493507167134349,
          -1.6908656225453231,
          -1.8355487092427174,
          -1.9613303551201098,
          -2.0668660424158185,
          -2.1601088575584555,
          -2.2544168290121105,
          -2.3700794899348274,
          -2.502384007812309,
          -2.6447586102865506,
          -2.843763216360008,
          -3.001288214872609,
          -3.083807326773088,
          -3.0799572708707155,
          -2.9982031348663325,
          -2.833589521103903,
          -2.6285866325135334,
          -2.379184639746197,
          -2.1572227681175553,
          -1.9688854604179677,
          -1.7521757777265659,
          -1.5068155689975848,
          -1.1846588006490724,
          -0.8830793997435575,
          -0.6663430881443801,
          -0.5853403715012242,
          -0.3724754189306392,
          -0.12461790281427976,
          0.026525598990421617,
          -0.05246034101021291,
          -0.1332120196773403,
          -0.14064923153804698,
          -0.16187949138350333,
          -0.19334348256804912,
          -0.23715989782669245,
          -0.2699371783265281,
          -0.27524044635050116,
          -0.24628223538762617,
          -0.2055952009545592,
          -0.1856356241719519,
          -0.19132452719670967,
          -0.22866188711260316,
          -0.3099124946790508,
          -0.3638023836681714,
          -0.3729743478299594,
          -0.3534698832893328,
          -0.32827094786141364,
          -0.3260379929039512,
          -0.36050330407577147,
          -0.4150683569174898,
          -0.468358369238723,
          -0.5108612531010965,
          -0.5558750008857165,
          -0.6219420473195758,
          -0.6862469863016387,
          -0.7456689098406215,
          -0.803660618951082,
          -0.8552485599035038,
          -0.9007319447888908,
          -0.9375425364927901,
          -0.9689203468485352,
          -0.9988105695835514,
          -1.024870829137517,
          -1.0488484660224617,
          -1.065244126620793,
          -1.0786699377592213,
          -1.0922928028151875,
          -1.1041429088562478,
          -1.112649634485609,
          -1.1165652943335005,
          -1.1093108536125256,
          -1.08159040269925,
          -1.0654891125723271,
          -1.098445532997198,
          -1.1614628432478276,
          -1.2375488951917142,
          -1.3517772263092527,
          -1.5673113637628584,
          -1.603036222272458,
          -1.395923840024312,
          -1.4664691425030643,
          -1.6857286641544567,
          -1.3449273029054851,
          -1.3980715824768926,
          -1.1561440820411486,
          -1.056195865839671,
          -0.9202797418248976,
          -0.6802976041426412,
          -0.40108115998695903,
          0.32842654395732496,
          1.4998867560006923,
          2.2641242143270803,
          2.607933492270025,
          2.5523351167661286,
          2.3183928995293064,
          2.0709399007301545,
          1.8256719248544688,
          1.612868975274829,
          1.4328951871750037,
          1.2782522686370759,
          1.1325098355721774,
          0.9800175190684041,
          0.8245605578457926,
          0.676226889973362,
          0.5357444529573016,
          0.40162880622961905,
          0.26690087618383584,
          0.13536278668832802,
          0.0213288465975503,
          -0.09426821037964705,
          -0.20587819361991833,
          -0.3135233745734034,
          -0.4386627796114475,
          -0.5749659911128842,
          -0.7050455427052358,
          -0.8456260830383509,
          -0.9974287713509848,
          -1.1513963898657635,
          -1.3130454799498443,
          -1.4830257869529475,
          -1.6315799905979549,
          -1.7748546501550073,
          -1.9312965783640859,
          -2.072050932840681,
          -2.1540040594104415,
          -2.1886656982568606,
          -2.2059185676045816,
          -2.2316161898508415,
          -2.284328596954327,
          -2.3861793275758716,
          -2.4495696846163373,
          -2.4425624085757143,
          -2.335380812698502,
          -2.1944419925153174,
          -2.066959969835972
         ]
        }
       ],
       "layout": {
        "template": {
         "data": {
          "bar": [
           {
            "error_x": {
             "color": "#2a3f5f"
            },
            "error_y": {
             "color": "#2a3f5f"
            },
            "marker": {
             "line": {
              "color": "#E5ECF6",
              "width": 0.5
             },
             "pattern": {
              "fillmode": "overlay",
              "size": 10,
              "solidity": 0.2
             }
            },
            "type": "bar"
           }
          ],
          "barpolar": [
           {
            "marker": {
             "line": {
              "color": "#E5ECF6",
              "width": 0.5
             },
             "pattern": {
              "fillmode": "overlay",
              "size": 10,
              "solidity": 0.2
             }
            },
            "type": "barpolar"
           }
          ],
          "carpet": [
           {
            "aaxis": {
             "endlinecolor": "#2a3f5f",
             "gridcolor": "white",
             "linecolor": "white",
             "minorgridcolor": "white",
             "startlinecolor": "#2a3f5f"
            },
            "baxis": {
             "endlinecolor": "#2a3f5f",
             "gridcolor": "white",
             "linecolor": "white",
             "minorgridcolor": "white",
             "startlinecolor": "#2a3f5f"
            },
            "type": "carpet"
           }
          ],
          "choropleth": [
           {
            "colorbar": {
             "outlinewidth": 0,
             "ticks": ""
            },
            "type": "choropleth"
           }
          ],
          "contour": [
           {
            "colorbar": {
             "outlinewidth": 0,
             "ticks": ""
            },
            "colorscale": [
             [
              0,
              "#0d0887"
             ],
             [
              0.1111111111111111,
              "#46039f"
             ],
             [
              0.2222222222222222,
              "#7201a8"
             ],
             [
              0.3333333333333333,
              "#9c179e"
             ],
             [
              0.4444444444444444,
              "#bd3786"
             ],
             [
              0.5555555555555556,
              "#d8576b"
             ],
             [
              0.6666666666666666,
              "#ed7953"
             ],
             [
              0.7777777777777778,
              "#fb9f3a"
             ],
             [
              0.8888888888888888,
              "#fdca26"
             ],
             [
              1,
              "#f0f921"
             ]
            ],
            "type": "contour"
           }
          ],
          "contourcarpet": [
           {
            "colorbar": {
             "outlinewidth": 0,
             "ticks": ""
            },
            "type": "contourcarpet"
           }
          ],
          "heatmap": [
           {
            "colorbar": {
             "outlinewidth": 0,
             "ticks": ""
            },
            "colorscale": [
             [
              0,
              "#0d0887"
             ],
             [
              0.1111111111111111,
              "#46039f"
             ],
             [
              0.2222222222222222,
              "#7201a8"
             ],
             [
              0.3333333333333333,
              "#9c179e"
             ],
             [
              0.4444444444444444,
              "#bd3786"
             ],
             [
              0.5555555555555556,
              "#d8576b"
             ],
             [
              0.6666666666666666,
              "#ed7953"
             ],
             [
              0.7777777777777778,
              "#fb9f3a"
             ],
             [
              0.8888888888888888,
              "#fdca26"
             ],
             [
              1,
              "#f0f921"
             ]
            ],
            "type": "heatmap"
           }
          ],
          "heatmapgl": [
           {
            "colorbar": {
             "outlinewidth": 0,
             "ticks": ""
            },
            "colorscale": [
             [
              0,
              "#0d0887"
             ],
             [
              0.1111111111111111,
              "#46039f"
             ],
             [
              0.2222222222222222,
              "#7201a8"
             ],
             [
              0.3333333333333333,
              "#9c179e"
             ],
             [
              0.4444444444444444,
              "#bd3786"
             ],
             [
              0.5555555555555556,
              "#d8576b"
             ],
             [
              0.6666666666666666,
              "#ed7953"
             ],
             [
              0.7777777777777778,
              "#fb9f3a"
             ],
             [
              0.8888888888888888,
              "#fdca26"
             ],
             [
              1,
              "#f0f921"
             ]
            ],
            "type": "heatmapgl"
           }
          ],
          "histogram": [
           {
            "marker": {
             "pattern": {
              "fillmode": "overlay",
              "size": 10,
              "solidity": 0.2
             }
            },
            "type": "histogram"
           }
          ],
          "histogram2d": [
           {
            "colorbar": {
             "outlinewidth": 0,
             "ticks": ""
            },
            "colorscale": [
             [
              0,
              "#0d0887"
             ],
             [
              0.1111111111111111,
              "#46039f"
             ],
             [
              0.2222222222222222,
              "#7201a8"
             ],
             [
              0.3333333333333333,
              "#9c179e"
             ],
             [
              0.4444444444444444,
              "#bd3786"
             ],
             [
              0.5555555555555556,
              "#d8576b"
             ],
             [
              0.6666666666666666,
              "#ed7953"
             ],
             [
              0.7777777777777778,
              "#fb9f3a"
             ],
             [
              0.8888888888888888,
              "#fdca26"
             ],
             [
              1,
              "#f0f921"
             ]
            ],
            "type": "histogram2d"
           }
          ],
          "histogram2dcontour": [
           {
            "colorbar": {
             "outlinewidth": 0,
             "ticks": ""
            },
            "colorscale": [
             [
              0,
              "#0d0887"
             ],
             [
              0.1111111111111111,
              "#46039f"
             ],
             [
              0.2222222222222222,
              "#7201a8"
             ],
             [
              0.3333333333333333,
              "#9c179e"
             ],
             [
              0.4444444444444444,
              "#bd3786"
             ],
             [
              0.5555555555555556,
              "#d8576b"
             ],
             [
              0.6666666666666666,
              "#ed7953"
             ],
             [
              0.7777777777777778,
              "#fb9f3a"
             ],
             [
              0.8888888888888888,
              "#fdca26"
             ],
             [
              1,
              "#f0f921"
             ]
            ],
            "type": "histogram2dcontour"
           }
          ],
          "mesh3d": [
           {
            "colorbar": {
             "outlinewidth": 0,
             "ticks": ""
            },
            "type": "mesh3d"
           }
          ],
          "parcoords": [
           {
            "line": {
             "colorbar": {
              "outlinewidth": 0,
              "ticks": ""
             }
            },
            "type": "parcoords"
           }
          ],
          "pie": [
           {
            "automargin": true,
            "type": "pie"
           }
          ],
          "scatter": [
           {
            "fillpattern": {
             "fillmode": "overlay",
             "size": 10,
             "solidity": 0.2
            },
            "type": "scatter"
           }
          ],
          "scatter3d": [
           {
            "line": {
             "colorbar": {
              "outlinewidth": 0,
              "ticks": ""
             }
            },
            "marker": {
             "colorbar": {
              "outlinewidth": 0,
              "ticks": ""
             }
            },
            "type": "scatter3d"
           }
          ],
          "scattercarpet": [
           {
            "marker": {
             "colorbar": {
              "outlinewidth": 0,
              "ticks": ""
             }
            },
            "type": "scattercarpet"
           }
          ],
          "scattergeo": [
           {
            "marker": {
             "colorbar": {
              "outlinewidth": 0,
              "ticks": ""
             }
            },
            "type": "scattergeo"
           }
          ],
          "scattergl": [
           {
            "marker": {
             "colorbar": {
              "outlinewidth": 0,
              "ticks": ""
             }
            },
            "type": "scattergl"
           }
          ],
          "scattermapbox": [
           {
            "marker": {
             "colorbar": {
              "outlinewidth": 0,
              "ticks": ""
             }
            },
            "type": "scattermapbox"
           }
          ],
          "scatterpolar": [
           {
            "marker": {
             "colorbar": {
              "outlinewidth": 0,
              "ticks": ""
             }
            },
            "type": "scatterpolar"
           }
          ],
          "scatterpolargl": [
           {
            "marker": {
             "colorbar": {
              "outlinewidth": 0,
              "ticks": ""
             }
            },
            "type": "scatterpolargl"
           }
          ],
          "scatterternary": [
           {
            "marker": {
             "colorbar": {
              "outlinewidth": 0,
              "ticks": ""
             }
            },
            "type": "scatterternary"
           }
          ],
          "surface": [
           {
            "colorbar": {
             "outlinewidth": 0,
             "ticks": ""
            },
            "colorscale": [
             [
              0,
              "#0d0887"
             ],
             [
              0.1111111111111111,
              "#46039f"
             ],
             [
              0.2222222222222222,
              "#7201a8"
             ],
             [
              0.3333333333333333,
              "#9c179e"
             ],
             [
              0.4444444444444444,
              "#bd3786"
             ],
             [
              0.5555555555555556,
              "#d8576b"
             ],
             [
              0.6666666666666666,
              "#ed7953"
             ],
             [
              0.7777777777777778,
              "#fb9f3a"
             ],
             [
              0.8888888888888888,
              "#fdca26"
             ],
             [
              1,
              "#f0f921"
             ]
            ],
            "type": "surface"
           }
          ],
          "table": [
           {
            "cells": {
             "fill": {
              "color": "#EBF0F8"
             },
             "line": {
              "color": "white"
             }
            },
            "header": {
             "fill": {
              "color": "#C8D4E3"
             },
             "line": {
              "color": "white"
             }
            },
            "type": "table"
           }
          ]
         },
         "layout": {
          "annotationdefaults": {
           "arrowcolor": "#2a3f5f",
           "arrowhead": 0,
           "arrowwidth": 1
          },
          "autotypenumbers": "strict",
          "coloraxis": {
           "colorbar": {
            "outlinewidth": 0,
            "ticks": ""
           }
          },
          "colorscale": {
           "diverging": [
            [
             0,
             "#8e0152"
            ],
            [
             0.1,
             "#c51b7d"
            ],
            [
             0.2,
             "#de77ae"
            ],
            [
             0.3,
             "#f1b6da"
            ],
            [
             0.4,
             "#fde0ef"
            ],
            [
             0.5,
             "#f7f7f7"
            ],
            [
             0.6,
             "#e6f5d0"
            ],
            [
             0.7,
             "#b8e186"
            ],
            [
             0.8,
             "#7fbc41"
            ],
            [
             0.9,
             "#4d9221"
            ],
            [
             1,
             "#276419"
            ]
           ],
           "sequential": [
            [
             0,
             "#0d0887"
            ],
            [
             0.1111111111111111,
             "#46039f"
            ],
            [
             0.2222222222222222,
             "#7201a8"
            ],
            [
             0.3333333333333333,
             "#9c179e"
            ],
            [
             0.4444444444444444,
             "#bd3786"
            ],
            [
             0.5555555555555556,
             "#d8576b"
            ],
            [
             0.6666666666666666,
             "#ed7953"
            ],
            [
             0.7777777777777778,
             "#fb9f3a"
            ],
            [
             0.8888888888888888,
             "#fdca26"
            ],
            [
             1,
             "#f0f921"
            ]
           ],
           "sequentialminus": [
            [
             0,
             "#0d0887"
            ],
            [
             0.1111111111111111,
             "#46039f"
            ],
            [
             0.2222222222222222,
             "#7201a8"
            ],
            [
             0.3333333333333333,
             "#9c179e"
            ],
            [
             0.4444444444444444,
             "#bd3786"
            ],
            [
             0.5555555555555556,
             "#d8576b"
            ],
            [
             0.6666666666666666,
             "#ed7953"
            ],
            [
             0.7777777777777778,
             "#fb9f3a"
            ],
            [
             0.8888888888888888,
             "#fdca26"
            ],
            [
             1,
             "#f0f921"
            ]
           ]
          },
          "colorway": [
           "#636efa",
           "#EF553B",
           "#00cc96",
           "#ab63fa",
           "#FFA15A",
           "#19d3f3",
           "#FF6692",
           "#B6E880",
           "#FF97FF",
           "#FECB52"
          ],
          "font": {
           "color": "#2a3f5f"
          },
          "geo": {
           "bgcolor": "white",
           "lakecolor": "white",
           "landcolor": "#E5ECF6",
           "showlakes": true,
           "showland": true,
           "subunitcolor": "white"
          },
          "hoverlabel": {
           "align": "left"
          },
          "hovermode": "closest",
          "mapbox": {
           "style": "light"
          },
          "paper_bgcolor": "white",
          "plot_bgcolor": "#E5ECF6",
          "polar": {
           "angularaxis": {
            "gridcolor": "white",
            "linecolor": "white",
            "ticks": ""
           },
           "bgcolor": "#E5ECF6",
           "radialaxis": {
            "gridcolor": "white",
            "linecolor": "white",
            "ticks": ""
           }
          },
          "scene": {
           "xaxis": {
            "backgroundcolor": "#E5ECF6",
            "gridcolor": "white",
            "gridwidth": 2,
            "linecolor": "white",
            "showbackground": true,
            "ticks": "",
            "zerolinecolor": "white"
           },
           "yaxis": {
            "backgroundcolor": "#E5ECF6",
            "gridcolor": "white",
            "gridwidth": 2,
            "linecolor": "white",
            "showbackground": true,
            "ticks": "",
            "zerolinecolor": "white"
           },
           "zaxis": {
            "backgroundcolor": "#E5ECF6",
            "gridcolor": "white",
            "gridwidth": 2,
            "linecolor": "white",
            "showbackground": true,
            "ticks": "",
            "zerolinecolor": "white"
           }
          },
          "shapedefaults": {
           "line": {
            "color": "#2a3f5f"
           }
          },
          "ternary": {
           "aaxis": {
            "gridcolor": "white",
            "linecolor": "white",
            "ticks": ""
           },
           "baxis": {
            "gridcolor": "white",
            "linecolor": "white",
            "ticks": ""
           },
           "bgcolor": "#E5ECF6",
           "caxis": {
            "gridcolor": "white",
            "linecolor": "white",
            "ticks": ""
           }
          },
          "title": {
           "x": 0.05
          },
          "xaxis": {
           "automargin": true,
           "gridcolor": "white",
           "linecolor": "white",
           "ticks": "",
           "title": {
            "standoff": 15
           },
           "zerolinecolor": "white",
           "zerolinewidth": 2
          },
          "yaxis": {
           "automargin": true,
           "gridcolor": "white",
           "linecolor": "white",
           "ticks": "",
           "title": {
            "standoff": 15
           },
           "zerolinecolor": "white",
           "zerolinewidth": 2
          }
         }
        },
        "title": {
         "text": "TSMixer Prediction vs. Ground Truth for WXDT"
        },
        "xaxis": {
         "title": {
          "text": "Time Step"
         }
        },
        "yaxis": {
         "title": {
          "text": "Value"
         }
        }
       }
      }
     },
     "metadata": {},
     "output_type": "display_data"
    },
    {
     "data": {
      "application/vnd.plotly.v1+json": {
       "config": {
        "plotlyServerURL": "https://plot.ly"
       },
       "data": [
        {
         "line": {
          "color": "blue"
         },
         "mode": "lines",
         "name": "GT",
         "type": "scatter",
         "y": [
          0,
          0,
          0,
          0,
          0,
          0,
          0,
          0,
          0,
          0,
          0,
          0,
          0,
          0,
          0,
          0,
          0,
          0,
          0,
          0,
          0,
          0,
          0,
          0,
          0,
          0,
          0,
          0,
          0,
          0,
          0,
          0,
          0,
          0,
          0,
          0,
          0,
          0,
          0,
          0,
          0,
          0,
          0,
          0,
          0,
          0,
          0,
          0,
          0,
          0,
          0,
          0,
          0,
          0,
          0,
          0,
          0,
          0,
          0,
          0,
          0,
          0,
          0,
          0,
          0,
          0,
          0,
          0,
          0,
          0,
          0,
          0,
          0,
          0,
          0,
          0,
          0,
          0,
          0,
          0,
          0,
          0,
          0,
          0,
          0,
          0,
          0,
          0,
          0,
          0,
          0,
          0,
          0,
          0,
          0,
          0,
          0,
          0,
          0,
          0,
          0,
          0,
          0,
          0,
          0,
          0,
          0,
          0,
          0,
          0,
          0,
          0,
          0,
          0,
          0,
          0,
          0,
          0,
          0,
          0,
          0,
          0,
          0,
          0,
          0,
          0,
          0,
          0,
          0,
          0,
          0,
          0,
          0,
          0,
          0,
          0,
          0,
          0,
          0,
          0,
          0,
          0,
          0,
          0,
          0,
          0,
          0,
          0,
          0,
          0,
          0,
          0,
          0,
          0,
          0,
          0,
          0,
          0,
          0,
          0,
          0,
          0,
          0,
          0,
          0,
          0,
          0,
          0,
          0,
          0,
          0,
          0,
          0,
          0,
          0,
          0,
          0,
          0,
          0,
          0,
          0,
          0,
          0,
          0,
          0,
          0,
          0,
          0,
          0,
          0,
          0,
          0,
          0,
          0,
          0,
          0,
          0,
          0,
          0,
          0,
          0,
          0,
          0,
          0,
          0,
          0,
          0,
          0,
          0,
          0,
          0,
          0,
          0,
          0,
          0,
          0,
          0,
          0,
          0,
          0,
          0,
          0,
          0,
          0,
          0,
          0,
          0,
          0,
          0,
          0,
          0,
          0,
          0,
          0,
          0,
          0,
          0,
          0,
          0,
          0,
          0,
          0,
          0,
          0,
          0,
          0,
          0,
          0,
          0,
          0,
          0,
          0,
          0,
          0,
          0,
          0,
          0,
          0,
          0,
          0,
          0,
          0,
          0,
          0,
          0,
          0,
          0,
          0,
          0,
          0,
          0,
          0,
          0,
          0,
          0,
          0,
          0,
          0,
          0,
          0,
          0,
          0,
          0,
          0,
          0,
          0,
          0,
          0,
          0,
          0,
          0,
          0,
          0,
          0,
          0,
          0,
          0,
          0,
          0,
          0,
          0,
          0,
          0,
          0,
          0,
          0,
          0,
          0,
          0,
          0,
          0,
          0,
          0,
          0,
          0,
          0,
          0,
          0,
          0,
          0,
          0,
          0,
          0.2246094,
          0.859375,
          1.845703,
          3.125,
          4.638672,
          6.328125,
          8.134766,
          10,
          11.86523,
          13.67187,
          15.36133,
          16.875,
          18.1543,
          19.14062,
          19.77539,
          20,
          20,
          20,
          20,
          20,
          20,
          20,
          20,
          20,
          20,
          20,
          20,
          20,
          20,
          20,
          20,
          20,
          20,
          20,
          20,
          20,
          20,
          20,
          20,
          20,
          20,
          20,
          20,
          20,
          20,
          20,
          20,
          20,
          20,
          20,
          20,
          20,
          20,
          20,
          20,
          20,
          19.77539,
          19.14062,
          18.1543,
          16.875,
          15.36133,
          13.67187,
          11.86523,
          10,
          8.134766,
          6.328125,
          4.638672,
          3.125,
          1.845703,
          0.859375,
          0.2246094,
          0,
          0,
          0,
          0,
          0,
          0,
          0,
          0,
          0,
          0,
          0,
          0,
          0,
          0,
          0,
          0,
          0,
          0,
          0,
          0,
          0,
          0,
          0,
          0,
          0,
          0,
          0,
          0,
          0,
          0,
          0,
          0,
          0,
          0,
          0,
          0,
          0,
          0,
          0,
          0,
          0,
          0,
          0,
          0,
          0,
          0,
          0,
          0,
          0,
          0,
          0,
          0,
          0,
          0,
          0,
          0,
          0,
          0,
          0,
          0,
          0,
          0,
          0,
          0,
          0,
          0,
          0,
          0,
          0,
          0,
          0,
          0,
          0,
          0,
          0,
          0,
          0,
          0,
          0,
          0,
          0,
          0,
          0,
          0,
          0,
          0,
          0,
          0,
          0,
          0,
          0,
          0,
          0,
          0,
          0,
          0,
          0,
          0,
          0,
          0,
          0,
          0,
          0,
          0,
          0,
          0,
          0,
          0,
          0,
          0,
          0,
          0,
          0,
          0,
          0,
          0,
          0,
          0,
          0,
          0,
          0,
          0,
          0,
          0,
          0,
          0,
          0,
          0,
          0,
          0,
          0,
          0,
          0,
          0,
          0,
          0,
          0,
          0,
          0,
          0,
          0,
          0,
          0,
          0,
          0,
          0,
          0,
          0,
          0,
          0,
          0,
          0,
          0,
          0,
          0,
          0,
          0,
          0,
          0,
          0,
          0,
          0,
          0,
          0,
          0,
          0,
          0,
          0,
          0,
          0,
          0,
          0,
          0,
          0,
          0,
          0,
          0,
          0,
          0,
          0,
          0,
          0,
          0,
          0,
          0,
          0,
          0,
          0,
          0,
          0,
          0,
          0,
          0,
          0,
          0,
          0,
          0,
          0,
          0,
          0,
          0,
          0,
          0,
          0,
          0,
          0,
          0,
          0,
          0,
          0,
          0,
          0,
          0,
          0,
          0,
          0,
          0,
          0,
          0,
          0,
          0,
          0,
          0,
          0,
          0,
          0,
          0,
          0,
          0,
          0,
          0,
          0,
          0,
          0,
          0,
          0,
          0,
          0,
          0,
          0,
          0,
          0,
          0,
          0,
          0,
          0,
          0,
          0
         ]
        },
        {
         "line": {
          "color": "red"
         },
         "mode": "lines",
         "name": "pred_beginning",
         "type": "scatter",
         "y": [
          -2.220446049250313e-16,
          -2.220446049250313e-16,
          -2.220446049250313e-16,
          -2.220446049250313e-16,
          -2.220446049250313e-16,
          -2.220446049250313e-16,
          -2.220446049250313e-16,
          -2.220446049250313e-16,
          0.6322317333978427,
          0.5965680412733596,
          0.5678685346597134,
          0.5385131499890583,
          0.5109062355127025,
          0.4868380607400944,
          0.46837180113402876,
          0.45915900613296023,
          0.44972511050735875,
          0.43832600152048906,
          0.41609102528369823,
          0.38580419371195407,
          0.35259003828758884,
          0.3153173146108479,
          0.27805976134192156,
          0.23540347953877871,
          0.192578709376503,
          0.1494185763691327,
          0.1097489282576738,
          0.0723080389964339,
          0.03471060403753223,
          0.0014109133350628245,
          -0.03735464302556846,
          -0.0842931759026948,
          -0.12395540019756335,
          -0.1476050976567307,
          -0.16756935434083653,
          -0.19008159398853786,
          -0.21579349858659747,
          -0.23322106941930953,
          -0.25225347573403334,
          -0.26801423835493776,
          -0.2800937562710273,
          -0.287546622578277,
          -0.2829290086591991,
          -0.2761623612245876,
          -0.26221462372485305,
          -0.2391007321587144,
          -0.21962031465150655,
          -0.21163067412732506,
          -0.2125805998762309,
          -0.23999804564222038,
          -0.3096121421320317,
          -0.3733607779663497,
          -0.34958035678026866,
          -0.262149100474079,
          -0.24856061114238148,
          -0.24426674018156103,
          -0.23866369530379816,
          -0.25684042606284785,
          -0.3209560566564267,
          -0.29633254812541154,
          -0.21824658580769296,
          -0.10132663890685989,
          -0.1304738339383562,
          -0.06400420793642825,
          0.07718484094689892,
          -0.08448425848623264,
          -0.07255128025414015,
          0.08398215197177405,
          0.21971630953450694,
          0.2662649306533329,
          0.3425165647240136,
          0.4170252964628378,
          0.31473567471974073,
          0.22097448505922146,
          0.17819716276819575,
          0.12517626468128995,
          0.0651485748318128,
          0.0764024352332231,
          0.19101809401939818,
          0.18258431559834465,
          0.11297925679829546,
          0.08643878971384744,
          0.10005697431190574,
          0.10438860990494558,
          0.14345337835162386,
          0.17680342189705245,
          0.19762270858756348,
          0.23816384821178005,
          0.1491487367748121,
          0.03153224221304174,
          -0.07608340307788342,
          -0.09346062106763631,
          -0.23769730804854028,
          -0.19138205299035294,
          -0.2806824972040902,
          -0.2712426302477533,
          -0.31037614969154936,
          -0.3269438488983407,
          -0.2769812404719454,
          -0.2750310361311745,
          -0.23326173902323832,
          -0.10094963813393365,
          -0.08289975780618564,
          -0.1563842449365438,
          -0.1571505119185017,
          -0.14641567312913373,
          -0.12610056041748452,
          -0.15052523977373755,
          -0.09877026380277076,
          -0.2241530388417492,
          -0.27942754942571946,
          -0.3386031142405004,
          -0.5269918206801465,
          -0.5909935118277987,
          -0.565609223483609,
          -0.32506400942785896,
          -0.4010848596349763,
          -0.44679555780301716,
          -0.7090793207079209,
          -0.7028229799702241,
          -0.5716883609470453,
          -0.37461798516716116,
          -0.6374314212470409,
          -0.4356320742992261,
          0.013762530267913409,
          0.021023991216990723,
          -0.24549360656674324,
          -0.15903261081142395,
          -0.2566190026636803,
          -0.2958254691748403,
          -0.2394654674955352,
          -0.19461980534756473,
          -0.27541158742507865,
          -0.3759555632519269,
          -0.48883372618137044,
          -0.5888851479161936,
          -0.6521522039960546,
          -0.7085141423231656,
          -0.7387442462529219,
          -0.7596874784030254,
          -0.7801620417840456,
          -0.7879463976407777,
          -0.7727504906299936,
          -0.6871248356283843,
          -0.5953903478969782,
          -0.5229526189058322,
          -0.4498716000684173,
          -0.32838342376756224,
          -0.22504744735354598,
          -0.14551287247684375,
          -0.07165687174234336,
          -0.00854991188112253,
          0.03956610286212969,
          0.07376407537200791,
          0.13437114569015174,
          0.19807201087858517,
          0.2506929911935256,
          0.32457223170169947,
          0.3975324521322072,
          0.45241011130323816,
          0.5037735616427328,
          0.5637170073126434,
          0.5666116502335361,
          0.5386361271247475,
          0.4902781927930464,
          0.4473528783321692,
          0.40019066263343506,
          0.3546570870459962,
          0.3114604805049437,
          0.2869141151115391,
          0.2545898493540897,
          0.21165888633711116,
          0.17252730354112145,
          0.13298611973413577,
          0.10374822503038583,
          0.0686700460926224,
          0.008728537070517906,
          -0.05687605291133946,
          -0.12375560269889796,
          -0.19428347417856706,
          -0.2697720690136334,
          -0.3463061308893749,
          -0.4125933892228921,
          -0.4831490193211161,
          -0.5358129286624254,
          -0.5436066449835535,
          -0.5496034749152294,
          -0.5194440586303968,
          -0.4851996065731712,
          -0.576054533425961,
          -0.6890246871261956,
          -0.589758898851392,
          -0.516174351584384,
          -0.44253783760124477,
          -0.47009504478390984,
          -0.5824312691022719,
          -0.5844482877923542,
          -0.6886596290147404,
          -0.5737738078596106,
          -0.5139100875243858,
          -0.43736343743790473,
          -0.2734504087467393,
          -0.15037063072388168,
          0.006949403285954947,
          0.25887984701929767,
          0.5149596393709286,
          1.4492995695076667,
          2.440209143448723,
          3.0639683807547495,
          3.629835485885848,
          4.2439016395348865,
          4.8679857495103915,
          5.478581107516214,
          5.972113529458184,
          6.487953551929675,
          6.853020378299946,
          7.148727454592276,
          7.3032625890569,
          7.310525018329881,
          7.145486797263355,
          6.958058345360914,
          6.689797119002396,
          6.212591283615354,
          5.881928682746315,
          5.528934918799447,
          5.11199530371667,
          4.59410663064093,
          3.985867204691262,
          2.968774555879647,
          2.5629032864771855,
          2.2440077980250095,
          2.0178051151936387,
          1.7674952422057324,
          1.5152735750585429,
          1.4330493191537632,
          1.4152447475481247,
          1.3936684736463931,
          1.420047311332688,
          1.3543915615712854,
          1.1867688840074817,
          1.0030941397152684,
          0.7867878482137001,
          0.60520097164381,
          0.5102881220879134,
          0.4713555298540033,
          0.49749624055380304,
          0.5046358540784113,
          0.5255863486577876,
          0.5668559906317427,
          0.5728058568541197,
          0.5655245452650297,
          0.5476216887832301,
          0.5739539662285194,
          0.5876266997397834,
          0.6264471277882553,
          0.6701143397461968,
          0.6930356962429429,
          0.695259936248281,
          0.6396773372758191,
          0.5808230946095385,
          0.5282272907160777,
          0.47746872004136387,
          0.43217633779944653,
          0.38172819562932325,
          0.3466393651286259,
          0.31874937729794106,
          0.2787666377911582,
          0.23895335496741166,
          0.22669211493218033,
          0.2118102676406235,
          0.18916439929429907,
          0.17365669198672862,
          0.17262123095971882,
          0.18132646284826448,
          0.16568770903914598,
          0.12416953059673785,
          0.09394362273722812,
          0.13287992687943317,
          0.2056491454200613,
          0.26693823854059673,
          0.29753372335644235,
          0.3163889263969053,
          0.3283741941197633,
          0.36886272147858,
          0.44604725493620445,
          0.5545871653926042,
          0.6672122730087138,
          0.8183055001598971,
          0.9861504080594539,
          1.1729618762483258,
          1.3980527215048326,
          1.6524533998617212,
          1.939452339293797,
          2.2847640669430236,
          2.6292665582370938,
          2.9077849976197934,
          3.1524624532382104,
          3.380168983437869,
          3.5858467903920896,
          3.7579518393031766,
          3.87062245814273,
          3.9374671482697785,
          4.0602451320095145,
          4.217038397816084,
          4.410697368485473,
          4.697148882137684,
          4.99357090424511,
          5.295672791593276,
          5.515609490794748,
          5.686766227830101,
          5.859108838872073,
          6.007060016345131,
          6.1692778326566655,
          6.344786217312389,
          6.5629205429556245,
          6.8209001061114085,
          7.116348317146986,
          7.3838639341001455,
          7.623272981442967,
          7.768335648713184,
          7.931646702711278,
          8.186750343874962,
          8.573750029424266,
          9.020847124144069,
          9.438691153752307,
          9.856008415157278,
          10.126979657345839,
          10.216780725017461,
          10.384703582991214,
          10.76745619990168,
          11.380906176773737,
          12.006635146285912,
          12.444768143860417,
          12.77905485832399,
          13.142811542453416,
          13.797426905092529,
          14.40115620107636,
          14.898921166798623,
          15.465816712608433,
          16.08692806820153,
          16.68875686713828,
          17.189147927285653,
          17.573866887268608,
          17.837691253503287,
          17.9549849734307,
          17.984358756255517,
          18.01085080714481,
          18.03317002756117,
          18.053579713240683,
          18.069129704025354,
          18.08411161145356,
          18.08962847550395,
          18.1069511445805,
          18.114884945092935,
          18.122591512262787,
          18.125034270695586,
          18.13120313950737,
          18.143307188295672,
          18.14657883198949,
          18.138854189440114,
          18.132110781779176,
          18.137027285009665,
          18.13045817565128,
          18.116729924902906,
          18.096541017073292,
          18.064932342680205,
          18.02007312399759,
          17.964273136308893,
          17.905579796797838,
          17.836131606470087,
          17.752822182244604,
          17.6600025261925,
          17.557273688865703,
          17.44556267901409,
          17.31793113309756,
          17.17990753505335,
          17.035338067424426,
          16.88454292264807,
          16.720530802144157,
          16.535451826805183,
          16.33015166617316,
          16.10548631857839,
          15.785712197224669,
          15.37019408163159,
          14.723543505869813,
          13.793876384114627,
          12.552689133955441,
          10.974438016378693,
          9.174897128333258,
          7.3301303496205845,
          5.453007027687024,
          3.6358329613667926,
          1.7046586061007836,
          0.1678044650912438,
          -1.273286799362826,
          -2.236199062907275,
          -2.81278107549407,
          -3.34214374127185,
          -3.7518577233899624,
          -4.007452627547134,
          -4.087081775391702,
          -4.04659873520167,
          -3.958813717896227,
          -3.8050309711042836,
          -3.627989729710011,
          -3.422780591524873,
          -3.208547320112448,
          -2.98313119871817,
          -2.720605032062866,
          -2.4546587453819404,
          -2.169602263699411,
          -1.707313780813705,
          -1.3824323964205922,
          -1.1883609197684974,
          -0.9267088268230259,
          -0.5274514517594675,
          -0.5063326302082751,
          -0.45387497385831854,
          -0.3867049268998406,
          -0.312196275854675,
          -0.2469254348447405,
          -0.2363481100769378,
          -0.2569650170717084,
          -0.2922630055354676,
          -0.33515233062461447,
          -0.3723140198271373,
          -0.39664509453942753,
          -0.408852108436087,
          -0.42293315185980984,
          -0.46796957381668425,
          -0.5163806045757366,
          -0.5968263722452221,
          -0.6615972353465411,
          -0.7045762917840388,
          -0.7470524653412112,
          -0.7765182389368157,
          -0.8074623203577647,
          -0.84294461313774,
          -0.8870811394140332,
          -0.9286667777550217,
          -0.9644576430854401,
          -0.9816063366340699,
          -1.002784871492618,
          -1.044719751987978,
          -1.0969020815748303,
          -1.1464602533843793,
          -1.1946731005179376,
          -1.2481358770792752,
          -1.2958451957832404,
          -1.3352692123979553,
          -1.3744605085013004,
          -1.4115795914520886,
          -1.4463169203759738,
          -1.4878786733940197,
          -1.5406106881831778,
          -1.6022929208083572,
          -1.6705103714553158,
          -1.7470495977252065,
          -1.8189899310048119,
          -1.8853617562925307,
          -1.946211553135709,
          -2.0155997073814715,
          -2.092742199442972,
          -2.1745859040538473,
          -2.261797673608675,
          -2.377722183537159,
          -2.4814893868626733,
          -2.516805450705956,
          -2.525723713853176,
          -2.5888293826158595,
          -3.021808960378257,
          -2.5447348170420323,
          -2.004388130457162,
          -1.938895543273426,
          -1.7717208769021064,
          -1.019224106394936,
          -0.35333454855244795,
          0.3809683841400522,
          1.345506544211404,
          2.5059279956511418,
          2.799138652227715,
          2.8486169373152608,
          2.7625104288021216,
          2.6486043093559166,
          2.541527536317047,
          2.4428135312796724,
          2.3519980636259326,
          2.2579180533203296,
          2.161817675537813,
          2.0614770073837785,
          1.9555209885690468,
          1.8450065042869823,
          1.7197022441778107,
          1.594420860720849,
          1.4568324839242361,
          1.3198735580114445,
          1.1664885502626843,
          0.9979136068338759,
          0.8016135327188791,
          0.5160853159082406,
          0.18097431572218348,
          -0.1477148410324114,
          -0.46497132023816357,
          -0.7721546486549749,
          -1.0674450228943535,
          -1.3776850270985037,
          -1.705323552418274,
          -2.0541105945555973,
          -2.3611509338093892,
          -2.610049555402239,
          -2.8106904641873545,
          -2.9928276715088193,
          -3.171467292892417,
          -3.3492557575652206,
          -3.51036355190921,
          -3.628292492317035,
          -3.7956859998904475,
          -3.89808108824532,
          -3.924892686022625,
          -3.86430917825279,
          -3.7272816627301975,
          -3.4862316291463165,
          -3.2377868286893694,
          -2.964127842120538,
          -2.6779096945289664,
          -2.2957687355506025,
          -1.9350154693938484,
          -1.632790927684628,
          -1.2428924031441835,
          -0.9973570932413096,
          -0.8972227184254573,
          -0.6821695994417711,
          -0.38579405688169177,
          -0.10047322277362603,
          0.28456334744953393,
          0.2319010519813962,
          0.18199622021455042,
          0.17658909953984092,
          0.13630295187676444,
          0.09786727119244354,
          0.051829925094435625,
          0.011744220479293688,
          -0.012405777663123452,
          -0.010861301037736304,
          -0.0167842155781448,
          -0.05219614348783108,
          -0.11087883143595234,
          -0.18062978437072985,
          -0.2944336649515027,
          -0.3662326229412607,
          -0.41878356116054616,
          -0.4432789281617231,
          -0.4530138111338602,
          -0.4804286747027746,
          -0.5559556797193295,
          -0.625491019198358,
          -0.6914626039394765,
          -0.7559039141391197,
          -0.8208138931078459,
          -0.9081970559935166,
          -0.9844473989656601,
          -1.0564916656775274,
          -1.1256948700578053,
          -1.1850569986112431,
          -1.2449510597620976,
          -1.2965020421641522,
          -1.3407863992229798,
          -1.374388852532474,
          -1.408756281725388,
          -1.4424465297354268,
          -1.4822207568284165,
          -1.536493697721984,
          -1.5911158807699233,
          -1.6599543498133802,
          -1.7442692170248753,
          -1.8167008132979687,
          -1.9164146127652566,
          -2.0075322781704115,
          -2.057551694932453,
          -2.0749418239075794,
          -2.120847800729406,
          -2.2547621549036467,
          -2.38703487728756,
          -2.5773660414767523,
          -2.590328025243168,
          -2.4609731855538204,
          -2.4141611803333616,
          -2.4816594890949775,
          -1.8629247231346338,
          -2.109878304780862,
          -1.778322586498563,
          -1.605679795046641,
          -1.408180129003065,
          -1.0397299789154888,
          -0.6443581649002923,
          0.45065228064454277,
          2.0527381665864306,
          3.2300197107048563,
          3.7603097080071377,
          3.839063491043335,
          3.669630047780802,
          3.461163790760392,
          3.2510284661057334,
          3.0573950753261165,
          2.882285720812115,
          2.7212242446281563,
          2.5686808717384757,
          2.398930867253299,
          2.2178913761164454,
          2.033680846104618,
          1.842233910524705,
          1.648394629875199,
          1.4422951178611942,
          1.2367476311655947,
          1.051549471292886,
          0.8638883795727337,
          0.6741038342268206,
          0.47593021474671215,
          0.22833084175079899,
          -0.06453936828018825,
          -0.35926165916310304,
          -0.6385924416068145,
          -0.9205425402083145,
          -1.1971145678521966,
          -1.4736084840345647,
          -1.7619679185504455,
          -2.0286975792689503,
          -2.288088635900767,
          -2.5066809787501523,
          -2.6916805515290747,
          -2.8531321008586508,
          -2.968282919988586,
          -3.042578217000443,
          -3.078054377062366,
          -3.1272930019839036,
          -3.1690174334176646,
          -3.171243287296175,
          -3.100135712573204,
          -2.929033847225692,
          -2.700546525185529,
          -2.4396180929702806
         ]
        }
       ],
       "layout": {
        "template": {
         "data": {
          "bar": [
           {
            "error_x": {
             "color": "#2a3f5f"
            },
            "error_y": {
             "color": "#2a3f5f"
            },
            "marker": {
             "line": {
              "color": "#E5ECF6",
              "width": 0.5
             },
             "pattern": {
              "fillmode": "overlay",
              "size": 10,
              "solidity": 0.2
             }
            },
            "type": "bar"
           }
          ],
          "barpolar": [
           {
            "marker": {
             "line": {
              "color": "#E5ECF6",
              "width": 0.5
             },
             "pattern": {
              "fillmode": "overlay",
              "size": 10,
              "solidity": 0.2
             }
            },
            "type": "barpolar"
           }
          ],
          "carpet": [
           {
            "aaxis": {
             "endlinecolor": "#2a3f5f",
             "gridcolor": "white",
             "linecolor": "white",
             "minorgridcolor": "white",
             "startlinecolor": "#2a3f5f"
            },
            "baxis": {
             "endlinecolor": "#2a3f5f",
             "gridcolor": "white",
             "linecolor": "white",
             "minorgridcolor": "white",
             "startlinecolor": "#2a3f5f"
            },
            "type": "carpet"
           }
          ],
          "choropleth": [
           {
            "colorbar": {
             "outlinewidth": 0,
             "ticks": ""
            },
            "type": "choropleth"
           }
          ],
          "contour": [
           {
            "colorbar": {
             "outlinewidth": 0,
             "ticks": ""
            },
            "colorscale": [
             [
              0,
              "#0d0887"
             ],
             [
              0.1111111111111111,
              "#46039f"
             ],
             [
              0.2222222222222222,
              "#7201a8"
             ],
             [
              0.3333333333333333,
              "#9c179e"
             ],
             [
              0.4444444444444444,
              "#bd3786"
             ],
             [
              0.5555555555555556,
              "#d8576b"
             ],
             [
              0.6666666666666666,
              "#ed7953"
             ],
             [
              0.7777777777777778,
              "#fb9f3a"
             ],
             [
              0.8888888888888888,
              "#fdca26"
             ],
             [
              1,
              "#f0f921"
             ]
            ],
            "type": "contour"
           }
          ],
          "contourcarpet": [
           {
            "colorbar": {
             "outlinewidth": 0,
             "ticks": ""
            },
            "type": "contourcarpet"
           }
          ],
          "heatmap": [
           {
            "colorbar": {
             "outlinewidth": 0,
             "ticks": ""
            },
            "colorscale": [
             [
              0,
              "#0d0887"
             ],
             [
              0.1111111111111111,
              "#46039f"
             ],
             [
              0.2222222222222222,
              "#7201a8"
             ],
             [
              0.3333333333333333,
              "#9c179e"
             ],
             [
              0.4444444444444444,
              "#bd3786"
             ],
             [
              0.5555555555555556,
              "#d8576b"
             ],
             [
              0.6666666666666666,
              "#ed7953"
             ],
             [
              0.7777777777777778,
              "#fb9f3a"
             ],
             [
              0.8888888888888888,
              "#fdca26"
             ],
             [
              1,
              "#f0f921"
             ]
            ],
            "type": "heatmap"
           }
          ],
          "heatmapgl": [
           {
            "colorbar": {
             "outlinewidth": 0,
             "ticks": ""
            },
            "colorscale": [
             [
              0,
              "#0d0887"
             ],
             [
              0.1111111111111111,
              "#46039f"
             ],
             [
              0.2222222222222222,
              "#7201a8"
             ],
             [
              0.3333333333333333,
              "#9c179e"
             ],
             [
              0.4444444444444444,
              "#bd3786"
             ],
             [
              0.5555555555555556,
              "#d8576b"
             ],
             [
              0.6666666666666666,
              "#ed7953"
             ],
             [
              0.7777777777777778,
              "#fb9f3a"
             ],
             [
              0.8888888888888888,
              "#fdca26"
             ],
             [
              1,
              "#f0f921"
             ]
            ],
            "type": "heatmapgl"
           }
          ],
          "histogram": [
           {
            "marker": {
             "pattern": {
              "fillmode": "overlay",
              "size": 10,
              "solidity": 0.2
             }
            },
            "type": "histogram"
           }
          ],
          "histogram2d": [
           {
            "colorbar": {
             "outlinewidth": 0,
             "ticks": ""
            },
            "colorscale": [
             [
              0,
              "#0d0887"
             ],
             [
              0.1111111111111111,
              "#46039f"
             ],
             [
              0.2222222222222222,
              "#7201a8"
             ],
             [
              0.3333333333333333,
              "#9c179e"
             ],
             [
              0.4444444444444444,
              "#bd3786"
             ],
             [
              0.5555555555555556,
              "#d8576b"
             ],
             [
              0.6666666666666666,
              "#ed7953"
             ],
             [
              0.7777777777777778,
              "#fb9f3a"
             ],
             [
              0.8888888888888888,
              "#fdca26"
             ],
             [
              1,
              "#f0f921"
             ]
            ],
            "type": "histogram2d"
           }
          ],
          "histogram2dcontour": [
           {
            "colorbar": {
             "outlinewidth": 0,
             "ticks": ""
            },
            "colorscale": [
             [
              0,
              "#0d0887"
             ],
             [
              0.1111111111111111,
              "#46039f"
             ],
             [
              0.2222222222222222,
              "#7201a8"
             ],
             [
              0.3333333333333333,
              "#9c179e"
             ],
             [
              0.4444444444444444,
              "#bd3786"
             ],
             [
              0.5555555555555556,
              "#d8576b"
             ],
             [
              0.6666666666666666,
              "#ed7953"
             ],
             [
              0.7777777777777778,
              "#fb9f3a"
             ],
             [
              0.8888888888888888,
              "#fdca26"
             ],
             [
              1,
              "#f0f921"
             ]
            ],
            "type": "histogram2dcontour"
           }
          ],
          "mesh3d": [
           {
            "colorbar": {
             "outlinewidth": 0,
             "ticks": ""
            },
            "type": "mesh3d"
           }
          ],
          "parcoords": [
           {
            "line": {
             "colorbar": {
              "outlinewidth": 0,
              "ticks": ""
             }
            },
            "type": "parcoords"
           }
          ],
          "pie": [
           {
            "automargin": true,
            "type": "pie"
           }
          ],
          "scatter": [
           {
            "fillpattern": {
             "fillmode": "overlay",
             "size": 10,
             "solidity": 0.2
            },
            "type": "scatter"
           }
          ],
          "scatter3d": [
           {
            "line": {
             "colorbar": {
              "outlinewidth": 0,
              "ticks": ""
             }
            },
            "marker": {
             "colorbar": {
              "outlinewidth": 0,
              "ticks": ""
             }
            },
            "type": "scatter3d"
           }
          ],
          "scattercarpet": [
           {
            "marker": {
             "colorbar": {
              "outlinewidth": 0,
              "ticks": ""
             }
            },
            "type": "scattercarpet"
           }
          ],
          "scattergeo": [
           {
            "marker": {
             "colorbar": {
              "outlinewidth": 0,
              "ticks": ""
             }
            },
            "type": "scattergeo"
           }
          ],
          "scattergl": [
           {
            "marker": {
             "colorbar": {
              "outlinewidth": 0,
              "ticks": ""
             }
            },
            "type": "scattergl"
           }
          ],
          "scattermapbox": [
           {
            "marker": {
             "colorbar": {
              "outlinewidth": 0,
              "ticks": ""
             }
            },
            "type": "scattermapbox"
           }
          ],
          "scatterpolar": [
           {
            "marker": {
             "colorbar": {
              "outlinewidth": 0,
              "ticks": ""
             }
            },
            "type": "scatterpolar"
           }
          ],
          "scatterpolargl": [
           {
            "marker": {
             "colorbar": {
              "outlinewidth": 0,
              "ticks": ""
             }
            },
            "type": "scatterpolargl"
           }
          ],
          "scatterternary": [
           {
            "marker": {
             "colorbar": {
              "outlinewidth": 0,
              "ticks": ""
             }
            },
            "type": "scatterternary"
           }
          ],
          "surface": [
           {
            "colorbar": {
             "outlinewidth": 0,
             "ticks": ""
            },
            "colorscale": [
             [
              0,
              "#0d0887"
             ],
             [
              0.1111111111111111,
              "#46039f"
             ],
             [
              0.2222222222222222,
              "#7201a8"
             ],
             [
              0.3333333333333333,
              "#9c179e"
             ],
             [
              0.4444444444444444,
              "#bd3786"
             ],
             [
              0.5555555555555556,
              "#d8576b"
             ],
             [
              0.6666666666666666,
              "#ed7953"
             ],
             [
              0.7777777777777778,
              "#fb9f3a"
             ],
             [
              0.8888888888888888,
              "#fdca26"
             ],
             [
              1,
              "#f0f921"
             ]
            ],
            "type": "surface"
           }
          ],
          "table": [
           {
            "cells": {
             "fill": {
              "color": "#EBF0F8"
             },
             "line": {
              "color": "white"
             }
            },
            "header": {
             "fill": {
              "color": "#C8D4E3"
             },
             "line": {
              "color": "white"
             }
            },
            "type": "table"
           }
          ]
         },
         "layout": {
          "annotationdefaults": {
           "arrowcolor": "#2a3f5f",
           "arrowhead": 0,
           "arrowwidth": 1
          },
          "autotypenumbers": "strict",
          "coloraxis": {
           "colorbar": {
            "outlinewidth": 0,
            "ticks": ""
           }
          },
          "colorscale": {
           "diverging": [
            [
             0,
             "#8e0152"
            ],
            [
             0.1,
             "#c51b7d"
            ],
            [
             0.2,
             "#de77ae"
            ],
            [
             0.3,
             "#f1b6da"
            ],
            [
             0.4,
             "#fde0ef"
            ],
            [
             0.5,
             "#f7f7f7"
            ],
            [
             0.6,
             "#e6f5d0"
            ],
            [
             0.7,
             "#b8e186"
            ],
            [
             0.8,
             "#7fbc41"
            ],
            [
             0.9,
             "#4d9221"
            ],
            [
             1,
             "#276419"
            ]
           ],
           "sequential": [
            [
             0,
             "#0d0887"
            ],
            [
             0.1111111111111111,
             "#46039f"
            ],
            [
             0.2222222222222222,
             "#7201a8"
            ],
            [
             0.3333333333333333,
             "#9c179e"
            ],
            [
             0.4444444444444444,
             "#bd3786"
            ],
            [
             0.5555555555555556,
             "#d8576b"
            ],
            [
             0.6666666666666666,
             "#ed7953"
            ],
            [
             0.7777777777777778,
             "#fb9f3a"
            ],
            [
             0.8888888888888888,
             "#fdca26"
            ],
            [
             1,
             "#f0f921"
            ]
           ],
           "sequentialminus": [
            [
             0,
             "#0d0887"
            ],
            [
             0.1111111111111111,
             "#46039f"
            ],
            [
             0.2222222222222222,
             "#7201a8"
            ],
            [
             0.3333333333333333,
             "#9c179e"
            ],
            [
             0.4444444444444444,
             "#bd3786"
            ],
            [
             0.5555555555555556,
             "#d8576b"
            ],
            [
             0.6666666666666666,
             "#ed7953"
            ],
            [
             0.7777777777777778,
             "#fb9f3a"
            ],
            [
             0.8888888888888888,
             "#fdca26"
            ],
            [
             1,
             "#f0f921"
            ]
           ]
          },
          "colorway": [
           "#636efa",
           "#EF553B",
           "#00cc96",
           "#ab63fa",
           "#FFA15A",
           "#19d3f3",
           "#FF6692",
           "#B6E880",
           "#FF97FF",
           "#FECB52"
          ],
          "font": {
           "color": "#2a3f5f"
          },
          "geo": {
           "bgcolor": "white",
           "lakecolor": "white",
           "landcolor": "#E5ECF6",
           "showlakes": true,
           "showland": true,
           "subunitcolor": "white"
          },
          "hoverlabel": {
           "align": "left"
          },
          "hovermode": "closest",
          "mapbox": {
           "style": "light"
          },
          "paper_bgcolor": "white",
          "plot_bgcolor": "#E5ECF6",
          "polar": {
           "angularaxis": {
            "gridcolor": "white",
            "linecolor": "white",
            "ticks": ""
           },
           "bgcolor": "#E5ECF6",
           "radialaxis": {
            "gridcolor": "white",
            "linecolor": "white",
            "ticks": ""
           }
          },
          "scene": {
           "xaxis": {
            "backgroundcolor": "#E5ECF6",
            "gridcolor": "white",
            "gridwidth": 2,
            "linecolor": "white",
            "showbackground": true,
            "ticks": "",
            "zerolinecolor": "white"
           },
           "yaxis": {
            "backgroundcolor": "#E5ECF6",
            "gridcolor": "white",
            "gridwidth": 2,
            "linecolor": "white",
            "showbackground": true,
            "ticks": "",
            "zerolinecolor": "white"
           },
           "zaxis": {
            "backgroundcolor": "#E5ECF6",
            "gridcolor": "white",
            "gridwidth": 2,
            "linecolor": "white",
            "showbackground": true,
            "ticks": "",
            "zerolinecolor": "white"
           }
          },
          "shapedefaults": {
           "line": {
            "color": "#2a3f5f"
           }
          },
          "ternary": {
           "aaxis": {
            "gridcolor": "white",
            "linecolor": "white",
            "ticks": ""
           },
           "baxis": {
            "gridcolor": "white",
            "linecolor": "white",
            "ticks": ""
           },
           "bgcolor": "#E5ECF6",
           "caxis": {
            "gridcolor": "white",
            "linecolor": "white",
            "ticks": ""
           }
          },
          "title": {
           "x": 0.05
          },
          "xaxis": {
           "automargin": true,
           "gridcolor": "white",
           "linecolor": "white",
           "ticks": "",
           "title": {
            "standoff": 15
           },
           "zerolinecolor": "white",
           "zerolinewidth": 2
          },
          "yaxis": {
           "automargin": true,
           "gridcolor": "white",
           "linecolor": "white",
           "ticks": "",
           "title": {
            "standoff": 15
           },
           "zerolinecolor": "white",
           "zerolinewidth": 2
          }
         }
        },
        "title": {
         "text": "TSMixer Prediction vs. Ground Truth for WZ"
        },
        "xaxis": {
         "title": {
          "text": "Time Step"
         }
        },
        "yaxis": {
         "title": {
          "text": "Value"
         }
        }
       }
      }
     },
     "metadata": {},
     "output_type": "display_data"
    },
    {
     "data": {
      "application/vnd.plotly.v1+json": {
       "config": {
        "plotlyServerURL": "https://plot.ly"
       },
       "data": [
        {
         "line": {
          "color": "blue"
         },
         "mode": "lines",
         "name": "GT",
         "type": "scatter",
         "y": [
          -0.1346689,
          -0.2519792,
          -0.3425422,
          -0.4366407,
          -0.5340651,
          -0.6346042,
          -0.7380315,
          -0.8441165,
          -0.952626,
          -1.063316,
          -1.17594,
          -1.290246,
          -1.405978,
          -1.522871,
          -1.640667,
          -1.759092,
          -1.877882,
          -1.996759,
          -2.115454,
          -2.233692,
          -2.351195,
          -2.467689,
          -2.582896,
          -2.696542,
          -2.808353,
          -2.918057,
          -3.025383,
          -3.130059,
          -3.231823,
          -3.330408,
          -3.425554,
          -3.517002,
          -3.604501,
          -3.687799,
          -3.766648,
          -3.840806,
          -3.910036,
          -3.974103,
          -4.032777,
          -4.085834,
          -4.133053,
          -4.174222,
          -4.209125,
          -4.237565,
          -4.259339,
          -4.274253,
          -4.282125,
          -4.282776,
          -4.276031,
          -4.261731,
          -4.239721,
          -4.209857,
          -4.172006,
          -4.126051,
          -4.071886,
          -4.009421,
          -3.938584,
          -3.859326,
          -3.771615,
          -3.675448,
          -3.570845,
          -3.45786,
          -3.336577,
          -3.207116,
          -3.06964,
          -2.924344,
          -2.771477,
          -2.611328,
          -2.444237,
          -2.270594,
          -2.087288,
          -1.894723,
          -1.693773,
          -1.48529,
          -1.270124,
          -1.049133,
          -0.8231984,
          -0.5932254,
          -0.360147,
          -0.1249188,
          0.1114754,
          0.3480362,
          0.5837567,
          0.8176238,
          1.048629,
          1.275782,
          1.498115,
          1.714687,
          1.924599,
          2.127007,
          2.321106,
          2.506162,
          2.681499,
          2.846509,
          3.000653,
          3.143462,
          3.274539,
          3.393555,
          3.500245,
          3.594419,
          3.675943,
          3.744748,
          3.800816,
          3.844189,
          3.874956,
          3.89325,
          3.899248,
          3.893165,
          3.875253,
          3.845793,
          3.805098,
          3.753503,
          3.691368,
          3.619076,
          3.537026,
          3.445631,
          3.345323,
          3.236545,
          3.119748,
          2.995393,
          2.863951,
          2.725899,
          2.581717,
          2.43189,
          2.276906,
          2.117254,
          1.953423,
          1.785904,
          1.615181,
          1.441744,
          1.266072,
          1.088643,
          0.909932,
          0.7304009,
          0.5505131,
          0.3707196,
          0.1914642,
          0.01318233,
          -0.1637029,
          -0.3387734,
          -0.5116272,
          -0.6818703,
          -0.8491245,
          -1.013017,
          -1.17319,
          -1.329304,
          -1.481026,
          -1.628035,
          -1.77003,
          -1.906717,
          -2.037817,
          -2.163065,
          -2.282205,
          -2.395001,
          -2.501223,
          -2.600655,
          -2.693094,
          -2.778351,
          -2.856241,
          -2.9266,
          -2.989273,
          -3.04411,
          -3.090981,
          -3.129761,
          -3.160337,
          -3.182612,
          -3.196492,
          -3.201907,
          -3.198785,
          -3.187081,
          -3.166755,
          -3.137783,
          -3.10016,
          -3.053893,
          -2.999012,
          -2.935563,
          -2.863614,
          -2.783255,
          -2.694602,
          -2.597796,
          -2.493004,
          -2.380427,
          -2.260292,
          -2.13286,
          -1.998425,
          -1.85732,
          -1.70991,
          -1.556597,
          -1.397818,
          -1.234046,
          -1.065792,
          -0.893594,
          -0.7180263,
          -0.5396906,
          -0.3592158,
          -0.1772468,
          0.005543767,
          0.1884787,
          0.370865,
          0.552011,
          0.7312217,
          0.9078119,
          1.081105,
          1.250444,
          1.415193,
          1.574741,
          1.728504,
          1.875939,
          2.016535,
          2.14982,
          2.275364,
          2.392787,
          2.501741,
          2.601931,
          2.693108,
          2.775061,
          2.847629,
          2.910689,
          2.964163,
          3.008011,
          3.042229,
          3.066855,
          3.081957,
          3.087634,
          3.084018,
          3.071268,
          3.049569,
          3.01913,
          2.980182,
          2.932977,
          2.877786,
          2.814893,
          2.744601,
          2.667224,
          2.583096,
          2.492547,
          2.395932,
          2.293602,
          2.185924,
          2.073267,
          1.956004,
          1.834512,
          1.709172,
          1.580369,
          1.448485,
          1.313903,
          1.177007,
          1.038181,
          0.8978016,
          0.7562442,
          0.6138838,
          0.4710865,
          0.3282172,
          0.1856326,
          0.04368328,
          -0.09728483,
          -0.2369379,
          -0.3749411,
          -0.5109779,
          -0.6447309,
          -0.7759023,
          -0.9041935,
          -1.029319,
          -1.151005,
          -1.268987,
          -1.383008,
          -1.492823,
          -1.5982,
          -1.698912,
          -1.794746,
          -1.885499,
          -1.970979,
          -2.051003,
          -2.125402,
          -2.194016,
          -2.25669,
          -2.313289,
          -2.363684,
          -2.407756,
          -2.445399,
          -2.476517,
          -2.501027,
          -2.518855,
          -2.529938,
          -2.53423,
          -2.531691,
          -2.522301,
          -2.506046,
          -2.482932,
          -2.452976,
          -2.416212,
          -2.372689,
          -2.322473,
          -2.265647,
          -2.202312,
          -2.132592,
          -2.056626,
          -1.974573,
          -1.886617,
          -1.792963,
          -1.693837,
          -1.589486,
          -1.480183,
          -1.366223,
          -1.247922,
          -1.125619,
          -0.999675,
          -0.8704724,
          -0.7384104,
          -0.6039092,
          -0.4674037,
          -0.3293443,
          -0.1901926,
          -0.05042034,
          0.08949291,
          0.2290629,
          0.3678031,
          0.5052301,
          0.6408606,
          0.7742217,
          0.9048498,
          1.032293,
          0.9785243,
          0.6448051,
          0.112374,
          -0.5778564,
          -1.385457,
          -2.27028,
          -3.192487,
          -4.11272,
          -4.992446,
          -5.794407,
          -6.483218,
          -7.02607,
          -7.393522,
          -7.56032,
          -7.506108,
          -7.215809,
          -6.671689,
          -5.950729,
          -5.178208,
          -4.356524,
          -3.489461,
          -2.582309,
          -1.641865,
          -0.6763353,
          0.3048563,
          1.291409,
          2.272541,
          3.237445,
          4.17574,
          5.077879,
          5.935482,
          6.741538,
          7.490527,
          8.178411,
          8.802547,
          9.361554,
          9.855117,
          10.2838,
          10.64888,
          10.95211,
          11.19563,
          11.3818,
          11.51315,
          11.59221,
          11.62153,
          11.60362,
          11.54091,
          11.43575,
          11.29038,
          11.10695,
          10.88753,
          10.63409,
          10.34854,
          10.03272,
          9.688408,
          9.317362,
          8.541803,
          7.524209,
          6.753397,
          6.216624,
          5.900376,
          5.789055,
          5.863645,
          6.100465,
          6.470198,
          6.937152,
          7.459062,
          7.987357,
          8.467953,
          8.842518,
          9.050124,
          9.02914,
          8.571972,
          7.811757,
          7.039846,
          6.258172,
          5.468767,
          4.673742,
          3.875281,
          3.075621,
          2.277016,
          1.481734,
          0.6920363,
          -0.08986514,
          -0.8617996,
          -1.621682,
          -2.367516,
          -3.097413,
          -3.809607,
          -4.50248,
          -5.17456,
          -5.824522,
          -6.45121,
          -7.053644,
          -7.630995,
          -8.182619,
          -8.708021,
          -9.206879,
          -9.679018,
          -10.12441,
          -10.54316,
          -10.93551,
          -11.30182,
          -11.64254,
          -11.95823,
          -12.24954,
          -12.51715,
          -12.76186,
          -12.98447,
          -13.18585,
          -13.36688,
          -13.52847,
          -13.67153,
          -13.79699,
          -13.90574,
          -13.99868,
          -14.07667,
          -14.14057,
          -14.19116,
          -14.2292,
          -14.25538,
          -14.27035,
          -14.27466,
          -14.26879,
          -14.25312,
          -14.22792,
          -14.1933,
          -14.14924,
          -14.09549,
          -14.03157,
          -13.95669,
          -13.86966,
          -13.76879,
          -13.65174,
          -13.51528,
          -13.355,
          -13.16489,
          -12.93675,
          -12.65933,
          -12.3171,
          -11.88865,
          -11.34439,
          -10.64382,
          -9.732688,
          -8.54171,
          -6.990588,
          -5.004412,
          -2.549848,
          0.3132389,
          3.399639,
          6.438422,
          9.181093,
          11.49072,
          13.34739,
          14.79994,
          15.91933,
          16.77365,
          17.4195,
          17.9012,
          18.25249,
          18.49885,
          18.65948,
          18.74886,
          18.778,
          18.75525,
          18.68706,
          18.57835,
          18.43295,
          18.25383,
          18.04328,
          17.80312,
          17.53477,
          17.23935,
          16.91776,
          16.57075,
          16.19894,
          15.80288,
          15.38307,
          14.94001,
          14.4742,
          13.98615,
          13.47645,
          12.94571,
          12.39465,
          11.82404,
          11.23476,
          10.62777,
          10.00413,
          9.365023,
          8.711687,
          8.045493,
          7.367892,
          6.680419,
          5.98469,
          5.28239,
          4.575259,
          3.865085,
          3.153692,
          2.442918,
          1.734604,
          1.030586,
          0.3326682,
          -0.3573766,
          -1.037843,
          -1.707082,
          -2.363522,
          -3.005691,
          -3.632213,
          -4.241824,
          -4.833367,
          -5.405818,
          -5.958274,
          -6.489953,
          -7.000202,
          -7.488496,
          -7.954435,
          -8.397738,
          -8.818233,
          -9.215865,
          -9.590677,
          -9.942809,
          -10.27248,
          -10.58001,
          -10.86575,
          -11.13014,
          -11.37366,
          -11.59685,
          -11.80025,
          -11.98445,
          -12.15003,
          -12.2976,
          -12.42774,
          -12.54104,
          -12.63805,
          -12.71928,
          -12.78522,
          -12.83627,
          -12.87279,
          -12.89506,
          -12.90324,
          -12.89739,
          -12.87744,
          -12.84317,
          -12.79414,
          -12.72973,
          -12.64902,
          -12.55082,
          -12.43352,
          -12.29509,
          -12.13295,
          -11.94387,
          -11.72382,
          -11.46787,
          -11.16994,
          -10.82267,
          -10.4172,
          -9.943025,
          -9.387947,
          -8.738187,
          -7.978838,
          -7.094834,
          -6.072618,
          -4.90267,
          -3.582761,
          -2.121458,
          -0.5408006,
          1.123222,
          2.823471,
          4.507619,
          6.125672,
          7.636589,
          9.012085,
          10.23714,
          11.30801,
          12.22918,
          13.01021,
          13.66325,
          14.2012,
          14.63664,
          14.98118,
          15.2452,
          15.43779,
          15.56676,
          15.63881,
          15.65959,
          15.63393,
          15.56586,
          15.45881,
          15.31568,
          15.13894,
          14.93069,
          14.69274,
          14.42666,
          14.13385,
          13.81551,
          13.47279,
          13.10672,
          12.71827,
          12.30839,
          11.878,
          11.42803,
          10.95942,
          10.47312,
          9.970133,
          9.451485,
          8.918258,
          8.371574,
          7.812604,
          7.242577,
          6.662762,
          6.074477,
          5.479082,
          4.877972,
          4.272572,
          3.664326,
          3.054703,
          2.445167,
          1.837183,
          1.232214
         ]
        },
        {
         "line": {
          "color": "red"
         },
         "mode": "lines",
         "name": "pred_beginning",
         "type": "scatter",
         "y": [
          -0.1346689,
          -0.25197919999999996,
          -0.3425422,
          -0.4366407,
          -0.5340651,
          -0.6346042,
          -0.7380315,
          -0.8441165,
          -1.5770846832599532,
          -1.6738496207513314,
          -1.7578783755265306,
          -1.8474178462473243,
          -1.9418353529437695,
          -2.0382119194456214,
          -2.137677560811596,
          -2.2421009539942496,
          -2.3641306516341576,
          -2.48966876387171,
          -2.588836646499111,
          -2.691353741440204,
          -2.811457871397842,
          -2.9270047786278215,
          -3.0616885344627915,
          -3.202658257134735,
          -3.33285177448832,
          -3.439997205569212,
          -3.5533932761791105,
          -3.6788634865779746,
          -3.795756043084127,
          -3.870693062816273,
          -3.902758788544531,
          -3.9195374246437162,
          -3.924488753313493,
          -3.9585250087523423,
          -3.9993555772259133,
          -3.993216425175294,
          -3.96067125741035,
          -3.9391518801005634,
          -3.9113644290058915,
          -3.8829814604340727,
          -3.846932924829764,
          -3.7937006360751755,
          -3.6998823172255357,
          -3.6416225396307498,
          -3.584690059463842,
          -3.5054206271456416,
          -3.443524430811358,
          -3.3760396378752824,
          -3.298315889979661,
          -3.2543976230305893,
          -3.2761780553823603,
          -3.3002088831312086,
          -3.4250464135601297,
          -3.809240522414502,
          -3.969010796071444,
          -4.034118565857213,
          -3.9449005965787234,
          -3.8640207895727063,
          -3.9408196043143,
          -3.8303277136969593,
          -3.697458955658286,
          -3.4944709968609033,
          -3.469058733731709,
          -3.2196199529206546,
          -2.8868013845697047,
          -2.652361110573297,
          -2.5024655076872597,
          -2.3372667573048913,
          -2.306600360009066,
          -2.233369603372074,
          -2.0685071506096966,
          -1.877269421478887,
          -1.6784784156873374,
          -1.3598689952762801,
          -0.970490374579743,
          -0.3727868482037645,
          0.21323733251967758,
          0.40172621284888205,
          1.136250539118928,
          1.5560764819222783,
          1.9906827739436788,
          2.289061231494255,
          2.5630052353325627,
          2.8669788273308874,
          3.0678875217165364,
          3.3156411440579756,
          3.6152648892143655,
          3.9197972949932485,
          4.061377216620974,
          4.182089710349565,
          4.322776355761571,
          4.628493373347844,
          4.840168638331496,
          5.1022715708541755,
          5.205111199529039,
          5.257968651782218,
          5.297741694997836,
          5.327314780931535,
          5.352769712108013,
          5.447040404018105,
          5.307809977768245,
          5.0874717227973125,
          5.0803952500950675,
          5.153842099745724,
          5.43093298677028,
          5.552874136742169,
          5.372154769461183,
          5.221200264928569,
          5.264857018039449,
          5.347550905249348,
          5.362604467608878,
          5.194303796068581,
          5.1512425604348495,
          4.737024368974949,
          4.750874050086379,
          4.528060589576765,
          4.222934042709357,
          3.8623743616806783,
          3.5333532495380067,
          3.0755585943035144,
          2.402016398948885,
          1.4838236494012638,
          1.566668480563383,
          1.206368478188067,
          1.00032155302767,
          0.20703756202016155,
          -0.5336885133080446,
          -1.375991782197051,
          -2.230434684033623,
          -3.0210506603963094,
          -3.947203294743439,
          -4.570983535855913,
          -5.2789854555487805,
          -5.708063597368707,
          -6.1046800723334265,
          -6.428260320253074,
          -6.622280189585285,
          -6.7905097477134415,
          -6.857958295749136,
          -6.883210439001964,
          -6.900085881100901,
          -6.877971903906383,
          -6.789505442815541,
          -6.634944341296909,
          -6.443459321010335,
          -6.230375551670102,
          -5.980258211268369,
          -5.67384474103933,
          -5.39731817334982,
          -5.104779618023616,
          -4.785142723506187,
          -4.560766144318115,
          -4.392984371288336,
          -4.209563153142236,
          -4.070897963819839,
          -3.9638649378097486,
          -3.860677082813502,
          -3.7622685079092744,
          -3.693948705875812,
          -3.6425626130596203,
          -3.5955410485639985,
          -3.59687476913878,
          -3.5960677466100424,
          -3.5978322768235302,
          -3.6021697361678657,
          -3.5808513115969016,
          -3.548836512247659,
          -3.5098489281390335,
          -3.471479801317922,
          -3.4207208829171853,
          -3.3732469453611116,
          -3.3301201018697273,
          -3.2924295346392944,
          -3.242539576255288,
          -3.183125926199004,
          -3.1243307334302344,
          -3.0620211617131243,
          -2.989265259150745,
          -2.896296630877127,
          -2.7776900117402956,
          -2.6580621122458923,
          -2.544397187058484,
          -2.416396715576056,
          -2.2377263321571186,
          -1.8700030071467961,
          -1.5053679541072331,
          -1.1108146856869892,
          -0.7624585249777497,
          -0.509926998932914,
          -0.0794206245194912,
          0.16704435397453915,
          0.3931369456771715,
          0.664583893807423,
          1.0180136523756993,
          1.1124213523032125,
          0.9605511478902445,
          1.0021075893133777,
          1.1679988925707485,
          1.3033714162120107,
          1.3290576953760478,
          1.1891376984265334,
          1.2493984009806471,
          1.3973413672081811,
          1.117227701371465,
          0.9679331788665888,
          0.9310182639742158,
          0.5803703588597116,
          0.5058990746275571,
          0.5096807597162079,
          0.46923864825645134,
          0.49082386282199275,
          0.6726884714608258,
          0.8035489638008536,
          0.7217224881704851,
          0.6886626084104137,
          0.588647329188028,
          0.5131853032208531,
          0.5243657940221795,
          0.71926293905238,
          0.7907150001429821,
          0.7583925205871823,
          0.9520079610626102,
          1.4240761104050768,
          1.7013499424173164,
          1.51876545385438,
          1.8734870678435167,
          1.8117194491463449,
          1.8255377027175708,
          1.3756190872756924,
          1.073358066820373,
          1.0792283069439563,
          1.0361151126397412,
          1.0744058426589205,
          1.2467283217528922,
          1.250100817974108,
          1.2180791366817554,
          1.1807677645167016,
          1.0533854062246333,
          0.9052229633614058,
          0.8556396528924907,
          0.8740824575348047,
          0.8878808108205367,
          0.7997622893034478,
          0.6343700416206274,
          0.379815625748037,
          0.3156007307313069,
          0.20865917721505833,
          -0.007375798728986277,
          -0.1473995409708889,
          -0.3287273867218794,
          -0.5930530721701419,
          -0.7834830905779031,
          -0.8989439735190036,
          -1.0449309768155306,
          -1.1022886463676047,
          -1.09071918240673,
          -1.0062957481941535,
          -0.9585216432194174,
          -0.9610757617057634,
          -1.0405486701419262,
          -1.1034094855021734,
          -1.1739484847906128,
          -1.282022978191399,
          -1.4325161631375165,
          -1.607358121604179,
          -1.7708433828511279,
          -1.9034524622364377,
          -2.0147940434298,
          -2.132253213252036,
          -2.2133169975372025,
          -2.2286641894694394,
          -2.197861070903822,
          -2.168020965577443,
          -2.147016816408517,
          -2.0696133082656303,
          -2.0558778674098317,
          -2.28413035695764,
          -2.5266059877296656,
          -2.5391536052046217,
          -2.4705929351622977,
          -2.3737928997610567,
          -2.3436279667198705,
          -2.3986619481807425,
          -2.500251357190564,
          -2.565399042246373,
          -2.647777277665612,
          -2.7285997351457096,
          -2.808109117880357,
          -2.907282964858453,
          -3.020636367421068,
          -3.119026131680794,
          -3.208859346673347,
          -3.354680380441863,
          -3.5226475071394128,
          -3.6582763831615344,
          -3.764275282520246,
          -3.8471155257202914,
          -3.928247211844147,
          -3.996471584266479,
          -4.090507831314612,
          -4.1928331494410305,
          -4.2142983887983485,
          -4.2386600086127,
          -4.2971349616287355,
          -4.350187402270041,
          -4.334855350612647,
          -4.1989567024206,
          -4.329385123432351,
          -4.553049650906608,
          -4.793372609873724,
          -5.011855951778319,
          -5.225052126189353,
          -5.465095219469982,
          -5.806306546842079,
          -6.257069232606439,
          -6.747439336155562,
          -7.387630258808923,
          -8.041380903370667,
          -8.582280527216849,
          -9.070612199216693,
          -9.28463879476304,
          -9.38531061135815,
          -9.389230566153794,
          -9.322040779179046,
          -9.142735880605336,
          -8.893474653926528,
          -8.716245349394894,
          -8.639025359734948,
          -8.358944956623265,
          -7.609193040857287,
          -6.372920321721895,
          -4.691866242977434,
          -2.6207128893937317,
          -0.3251673575509071,
          1.6621583086954692,
          3.0800827837042437,
          3.939184187531248,
          4.482187391988154,
          4.805674504277707,
          5.037219774205703,
          5.202042770494248,
          5.3085674503065885,
          5.427135989358209,
          5.574254040004918,
          5.77577981528946,
          6.037169319709702,
          6.352508211356628,
          6.676139385655291,
          7.004143805402463,
          7.304717258708078,
          7.573101111309449,
          7.886314858923906,
          8.310437084111982,
          8.751374190299623,
          9.222977234986883,
          9.668182063495344,
          10.089102808748494,
          10.495110842077775,
          10.871543954288528,
          11.217348749288664,
          11.544635611767534,
          11.850809590376334,
          12.12710951273941,
          12.375504532178732,
          12.602302178953018,
          12.806314170885216,
          12.988069041206202,
          13.143122889851535,
          13.280404808608756,
          13.400291927960316,
          13.502229104495312,
          13.57939312101796,
          13.6367206247194,
          13.67693044192442,
          13.693233306356579,
          13.691446753925137,
          13.671854320686244,
          13.628339335603437,
          13.56388672680177,
          13.473437807298946,
          13.399018309688698,
          13.39684086288859,
          13.462234921507749,
          13.491607054702625,
          13.133454218577732,
          12.504316155355763,
          11.891007478879962,
          11.1818269117304,
          10.423682695739481,
          9.850526028146573,
          9.069238296271832,
          8.130010887607495,
          7.100442835345272,
          6.114840764837684,
          5.166616362547113,
          4.083274183209413,
          3.1708794707322423,
          2.389463275919441,
          1.5483574651316316,
          0.5812243506501772,
          -0.3297545167310957,
          -1.3517109105151945,
          -2.512227314591155,
          -3.7381716135065672,
          -4.763377890225466,
          -5.7504159928620755,
          -6.709065621372377,
          -7.480062095519936,
          -8.16309219644267,
          -8.853144632115182,
          -9.590949494641631,
          -10.397782999341908,
          -11.241105484005553,
          -12.11583623943232,
          -12.83396792058738,
          -13.29077937554951,
          -13.874611313295157,
          -14.3672969613028,
          -14.668305812209196,
          -14.798337833297794,
          -14.7694887277793,
          -14.699032311808185,
          -14.560619001603627,
          -14.351616224527817,
          -14.08336358764175,
          -13.78716750895051,
          -13.453207914431868,
          -13.084759691413925,
          -12.743942011187738,
          -12.455461967111797,
          -12.175763282444633,
          -11.970261120430944,
          -11.726726588012344,
          -11.491774297448528,
          -11.330869879567004,
          -11.181417015021063,
          -11.087339017518062,
          -11.07052321892608,
          -11.09937966518389,
          -11.128586631744119,
          -11.131011828496197,
          -11.13896643713932,
          -11.172547566740473,
          -11.208316236658296,
          -11.22141211560104,
          -11.199563322614374,
          -11.164199310951439,
          -11.112122271046971,
          -11.031842110683968,
          -10.914553613050868,
          -10.789300413258083,
          -10.645877048469204,
          -10.466722635051507,
          -10.26873830769154,
          -10.067341454141264,
          -9.874430495242231,
          -9.70895463195062,
          -9.538697194585954,
          -9.360812729070215,
          -9.167489771176976,
          -8.967769358968377,
          -8.742504091526659,
          -8.478337493663295,
          -8.181718404868874,
          -7.86574086890131,
          -7.491725612703318,
          -7.00392889708125,
          -6.362915352828102,
          -5.559944453397549,
          -4.5997468464836295,
          -2.909150265422389,
          -1.7134588737209233,
          0.11281148804123502,
          1.1177903575702601,
          2.1615025807595107,
          4.202311611984951,
          5.160982803916999,
          5.502596954359155,
          6.336179654336858,
          7.622209739752329,
          9.926329255118207,
          12.465409319379631,
          14.401750454190305,
          15.880461641604926,
          16.936023251791063,
          17.6969881468648,
          18.214304728060515,
          18.572749358573287,
          18.806052735567867,
          18.95620572312623,
          19.005434556175437,
          18.97507876391199,
          18.874152774218008,
          18.706717851120988,
          18.467022525365536,
          18.18910580516774,
          17.83021338955659,
          17.399741424858718,
          16.87249282336618,
          16.34114625414955,
          15.770847886928463,
          15.189260380229197,
          14.54944521166966,
          13.846300567424061,
          13.082158049818181,
          12.193998329402131,
          11.257521862797097,
          10.289237055136129,
          9.449144495772263,
          8.586437871347862,
          7.686541685151461,
          6.796239386447063,
          6.054288382594744,
          5.034587660364107,
          3.846256850916292,
          2.843843110982589,
          1.5148405669995086,
          0.15900125501292198,
          -1.0432056736777715,
          -2.268386306306041,
          -3.489773382493794,
          -4.626880054186613,
          -5.527365334713259,
          -6.416383921629478,
          -7.327603198223406,
          -8.113103596874083,
          -8.917456849277396,
          -9.72287359128936,
          -10.42908482938492,
          -11.075144214326562,
          -11.92967233755865,
          -12.59101055379763,
          -13.076494018942213,
          -13.394264530488122,
          -13.430292879059307,
          -13.961112750229898,
          -14.245826995035866,
          -14.298609663507248,
          -14.243087064085541,
          -14.06288384253783,
          -13.788583354046407,
          -13.467142472841658,
          -13.072418991028485,
          -12.614031112297884,
          -12.101614474596724,
          -11.673322709476205,
          -11.300601258582955,
          -11.003303151401647,
          -10.794133372506362,
          -10.557849655348802,
          -10.341067529781078,
          -10.140677275109741,
          -10.004501055212245,
          -9.87321652047757,
          -9.79067174203506,
          -9.840374052770258,
          -9.883372433323583,
          -9.836748645139737,
          -9.79160309833599,
          -9.75700344115451,
          -9.757149338348448,
          -9.743869023330348,
          -9.70588253254617,
          -9.66288506958526,
          -9.623272605042217,
          -9.55304191680512,
          -9.465722905028873,
          -9.360897147572368,
          -9.24794519169119,
          -9.132144111362337,
          -9.035762039305995,
          -8.927227373309233,
          -8.784279321391173,
          -8.626668142686045,
          -8.448905716961463,
          -8.222443909010961,
          -7.944651981381566,
          -7.6473731436409675,
          -7.370127183498324,
          -7.098506982450271,
          -6.738568970282558,
          -6.236049943162671,
          -5.532221692568114,
          -4.850885467242936,
          -3.9284128372750016,
          -3.2806361781292304,
          -2.0319227410351974,
          -1.1255326386208386,
          -0.28337801970301524,
          0.27043602918590315,
          0.9419149032970042,
          1.4314862426491215,
          1.887105171569284,
          3.1345726328631924,
          4.505600221245694,
          5.462399524651733,
          6.5381614730515105,
          7.317032725302113,
          8.057514663698479,
          8.998095521174513,
          10.1058763980894,
          11.141522582506665,
          11.982535487062485,
          12.70828869081413,
          13.31984384818542,
          13.886258046715035,
          14.27214327838972,
          14.59746282273145,
          14.827617940151159,
          14.934822097146593,
          15.009816925200866,
          14.991642172242699,
          14.851933221548567,
          14.627089129025201,
          14.355456999275756,
          14.04185786284712,
          13.730547201900771,
          13.355469373686546,
          12.903657879792172,
          12.387926898289079,
          11.950839092281146,
          11.443287529562781,
          10.86315624202566,
          10.244644816558452,
          9.554015215257088,
          8.725445781437154,
          7.910534710710184,
          7.066292339650792,
          6.12210442639253,
          5.2841916078098095,
          4.350978099831484,
          3.3166128744251537,
          2.4424657077741445,
          1.330105585913647,
          0.10252567851901401,
          -0.9870829688168455,
          -2.246472823054137,
          -3.5295289914535326,
          -4.771561438176059,
          -5.8076113632557975,
          -6.7960253957182655
         ]
        }
       ],
       "layout": {
        "template": {
         "data": {
          "bar": [
           {
            "error_x": {
             "color": "#2a3f5f"
            },
            "error_y": {
             "color": "#2a3f5f"
            },
            "marker": {
             "line": {
              "color": "#E5ECF6",
              "width": 0.5
             },
             "pattern": {
              "fillmode": "overlay",
              "size": 10,
              "solidity": 0.2
             }
            },
            "type": "bar"
           }
          ],
          "barpolar": [
           {
            "marker": {
             "line": {
              "color": "#E5ECF6",
              "width": 0.5
             },
             "pattern": {
              "fillmode": "overlay",
              "size": 10,
              "solidity": 0.2
             }
            },
            "type": "barpolar"
           }
          ],
          "carpet": [
           {
            "aaxis": {
             "endlinecolor": "#2a3f5f",
             "gridcolor": "white",
             "linecolor": "white",
             "minorgridcolor": "white",
             "startlinecolor": "#2a3f5f"
            },
            "baxis": {
             "endlinecolor": "#2a3f5f",
             "gridcolor": "white",
             "linecolor": "white",
             "minorgridcolor": "white",
             "startlinecolor": "#2a3f5f"
            },
            "type": "carpet"
           }
          ],
          "choropleth": [
           {
            "colorbar": {
             "outlinewidth": 0,
             "ticks": ""
            },
            "type": "choropleth"
           }
          ],
          "contour": [
           {
            "colorbar": {
             "outlinewidth": 0,
             "ticks": ""
            },
            "colorscale": [
             [
              0,
              "#0d0887"
             ],
             [
              0.1111111111111111,
              "#46039f"
             ],
             [
              0.2222222222222222,
              "#7201a8"
             ],
             [
              0.3333333333333333,
              "#9c179e"
             ],
             [
              0.4444444444444444,
              "#bd3786"
             ],
             [
              0.5555555555555556,
              "#d8576b"
             ],
             [
              0.6666666666666666,
              "#ed7953"
             ],
             [
              0.7777777777777778,
              "#fb9f3a"
             ],
             [
              0.8888888888888888,
              "#fdca26"
             ],
             [
              1,
              "#f0f921"
             ]
            ],
            "type": "contour"
           }
          ],
          "contourcarpet": [
           {
            "colorbar": {
             "outlinewidth": 0,
             "ticks": ""
            },
            "type": "contourcarpet"
           }
          ],
          "heatmap": [
           {
            "colorbar": {
             "outlinewidth": 0,
             "ticks": ""
            },
            "colorscale": [
             [
              0,
              "#0d0887"
             ],
             [
              0.1111111111111111,
              "#46039f"
             ],
             [
              0.2222222222222222,
              "#7201a8"
             ],
             [
              0.3333333333333333,
              "#9c179e"
             ],
             [
              0.4444444444444444,
              "#bd3786"
             ],
             [
              0.5555555555555556,
              "#d8576b"
             ],
             [
              0.6666666666666666,
              "#ed7953"
             ],
             [
              0.7777777777777778,
              "#fb9f3a"
             ],
             [
              0.8888888888888888,
              "#fdca26"
             ],
             [
              1,
              "#f0f921"
             ]
            ],
            "type": "heatmap"
           }
          ],
          "heatmapgl": [
           {
            "colorbar": {
             "outlinewidth": 0,
             "ticks": ""
            },
            "colorscale": [
             [
              0,
              "#0d0887"
             ],
             [
              0.1111111111111111,
              "#46039f"
             ],
             [
              0.2222222222222222,
              "#7201a8"
             ],
             [
              0.3333333333333333,
              "#9c179e"
             ],
             [
              0.4444444444444444,
              "#bd3786"
             ],
             [
              0.5555555555555556,
              "#d8576b"
             ],
             [
              0.6666666666666666,
              "#ed7953"
             ],
             [
              0.7777777777777778,
              "#fb9f3a"
             ],
             [
              0.8888888888888888,
              "#fdca26"
             ],
             [
              1,
              "#f0f921"
             ]
            ],
            "type": "heatmapgl"
           }
          ],
          "histogram": [
           {
            "marker": {
             "pattern": {
              "fillmode": "overlay",
              "size": 10,
              "solidity": 0.2
             }
            },
            "type": "histogram"
           }
          ],
          "histogram2d": [
           {
            "colorbar": {
             "outlinewidth": 0,
             "ticks": ""
            },
            "colorscale": [
             [
              0,
              "#0d0887"
             ],
             [
              0.1111111111111111,
              "#46039f"
             ],
             [
              0.2222222222222222,
              "#7201a8"
             ],
             [
              0.3333333333333333,
              "#9c179e"
             ],
             [
              0.4444444444444444,
              "#bd3786"
             ],
             [
              0.5555555555555556,
              "#d8576b"
             ],
             [
              0.6666666666666666,
              "#ed7953"
             ],
             [
              0.7777777777777778,
              "#fb9f3a"
             ],
             [
              0.8888888888888888,
              "#fdca26"
             ],
             [
              1,
              "#f0f921"
             ]
            ],
            "type": "histogram2d"
           }
          ],
          "histogram2dcontour": [
           {
            "colorbar": {
             "outlinewidth": 0,
             "ticks": ""
            },
            "colorscale": [
             [
              0,
              "#0d0887"
             ],
             [
              0.1111111111111111,
              "#46039f"
             ],
             [
              0.2222222222222222,
              "#7201a8"
             ],
             [
              0.3333333333333333,
              "#9c179e"
             ],
             [
              0.4444444444444444,
              "#bd3786"
             ],
             [
              0.5555555555555556,
              "#d8576b"
             ],
             [
              0.6666666666666666,
              "#ed7953"
             ],
             [
              0.7777777777777778,
              "#fb9f3a"
             ],
             [
              0.8888888888888888,
              "#fdca26"
             ],
             [
              1,
              "#f0f921"
             ]
            ],
            "type": "histogram2dcontour"
           }
          ],
          "mesh3d": [
           {
            "colorbar": {
             "outlinewidth": 0,
             "ticks": ""
            },
            "type": "mesh3d"
           }
          ],
          "parcoords": [
           {
            "line": {
             "colorbar": {
              "outlinewidth": 0,
              "ticks": ""
             }
            },
            "type": "parcoords"
           }
          ],
          "pie": [
           {
            "automargin": true,
            "type": "pie"
           }
          ],
          "scatter": [
           {
            "fillpattern": {
             "fillmode": "overlay",
             "size": 10,
             "solidity": 0.2
            },
            "type": "scatter"
           }
          ],
          "scatter3d": [
           {
            "line": {
             "colorbar": {
              "outlinewidth": 0,
              "ticks": ""
             }
            },
            "marker": {
             "colorbar": {
              "outlinewidth": 0,
              "ticks": ""
             }
            },
            "type": "scatter3d"
           }
          ],
          "scattercarpet": [
           {
            "marker": {
             "colorbar": {
              "outlinewidth": 0,
              "ticks": ""
             }
            },
            "type": "scattercarpet"
           }
          ],
          "scattergeo": [
           {
            "marker": {
             "colorbar": {
              "outlinewidth": 0,
              "ticks": ""
             }
            },
            "type": "scattergeo"
           }
          ],
          "scattergl": [
           {
            "marker": {
             "colorbar": {
              "outlinewidth": 0,
              "ticks": ""
             }
            },
            "type": "scattergl"
           }
          ],
          "scattermapbox": [
           {
            "marker": {
             "colorbar": {
              "outlinewidth": 0,
              "ticks": ""
             }
            },
            "type": "scattermapbox"
           }
          ],
          "scatterpolar": [
           {
            "marker": {
             "colorbar": {
              "outlinewidth": 0,
              "ticks": ""
             }
            },
            "type": "scatterpolar"
           }
          ],
          "scatterpolargl": [
           {
            "marker": {
             "colorbar": {
              "outlinewidth": 0,
              "ticks": ""
             }
            },
            "type": "scatterpolargl"
           }
          ],
          "scatterternary": [
           {
            "marker": {
             "colorbar": {
              "outlinewidth": 0,
              "ticks": ""
             }
            },
            "type": "scatterternary"
           }
          ],
          "surface": [
           {
            "colorbar": {
             "outlinewidth": 0,
             "ticks": ""
            },
            "colorscale": [
             [
              0,
              "#0d0887"
             ],
             [
              0.1111111111111111,
              "#46039f"
             ],
             [
              0.2222222222222222,
              "#7201a8"
             ],
             [
              0.3333333333333333,
              "#9c179e"
             ],
             [
              0.4444444444444444,
              "#bd3786"
             ],
             [
              0.5555555555555556,
              "#d8576b"
             ],
             [
              0.6666666666666666,
              "#ed7953"
             ],
             [
              0.7777777777777778,
              "#fb9f3a"
             ],
             [
              0.8888888888888888,
              "#fdca26"
             ],
             [
              1,
              "#f0f921"
             ]
            ],
            "type": "surface"
           }
          ],
          "table": [
           {
            "cells": {
             "fill": {
              "color": "#EBF0F8"
             },
             "line": {
              "color": "white"
             }
            },
            "header": {
             "fill": {
              "color": "#C8D4E3"
             },
             "line": {
              "color": "white"
             }
            },
            "type": "table"
           }
          ]
         },
         "layout": {
          "annotationdefaults": {
           "arrowcolor": "#2a3f5f",
           "arrowhead": 0,
           "arrowwidth": 1
          },
          "autotypenumbers": "strict",
          "coloraxis": {
           "colorbar": {
            "outlinewidth": 0,
            "ticks": ""
           }
          },
          "colorscale": {
           "diverging": [
            [
             0,
             "#8e0152"
            ],
            [
             0.1,
             "#c51b7d"
            ],
            [
             0.2,
             "#de77ae"
            ],
            [
             0.3,
             "#f1b6da"
            ],
            [
             0.4,
             "#fde0ef"
            ],
            [
             0.5,
             "#f7f7f7"
            ],
            [
             0.6,
             "#e6f5d0"
            ],
            [
             0.7,
             "#b8e186"
            ],
            [
             0.8,
             "#7fbc41"
            ],
            [
             0.9,
             "#4d9221"
            ],
            [
             1,
             "#276419"
            ]
           ],
           "sequential": [
            [
             0,
             "#0d0887"
            ],
            [
             0.1111111111111111,
             "#46039f"
            ],
            [
             0.2222222222222222,
             "#7201a8"
            ],
            [
             0.3333333333333333,
             "#9c179e"
            ],
            [
             0.4444444444444444,
             "#bd3786"
            ],
            [
             0.5555555555555556,
             "#d8576b"
            ],
            [
             0.6666666666666666,
             "#ed7953"
            ],
            [
             0.7777777777777778,
             "#fb9f3a"
            ],
            [
             0.8888888888888888,
             "#fdca26"
            ],
            [
             1,
             "#f0f921"
            ]
           ],
           "sequentialminus": [
            [
             0,
             "#0d0887"
            ],
            [
             0.1111111111111111,
             "#46039f"
            ],
            [
             0.2222222222222222,
             "#7201a8"
            ],
            [
             0.3333333333333333,
             "#9c179e"
            ],
            [
             0.4444444444444444,
             "#bd3786"
            ],
            [
             0.5555555555555556,
             "#d8576b"
            ],
            [
             0.6666666666666666,
             "#ed7953"
            ],
            [
             0.7777777777777778,
             "#fb9f3a"
            ],
            [
             0.8888888888888888,
             "#fdca26"
            ],
            [
             1,
             "#f0f921"
            ]
           ]
          },
          "colorway": [
           "#636efa",
           "#EF553B",
           "#00cc96",
           "#ab63fa",
           "#FFA15A",
           "#19d3f3",
           "#FF6692",
           "#B6E880",
           "#FF97FF",
           "#FECB52"
          ],
          "font": {
           "color": "#2a3f5f"
          },
          "geo": {
           "bgcolor": "white",
           "lakecolor": "white",
           "landcolor": "#E5ECF6",
           "showlakes": true,
           "showland": true,
           "subunitcolor": "white"
          },
          "hoverlabel": {
           "align": "left"
          },
          "hovermode": "closest",
          "mapbox": {
           "style": "light"
          },
          "paper_bgcolor": "white",
          "plot_bgcolor": "#E5ECF6",
          "polar": {
           "angularaxis": {
            "gridcolor": "white",
            "linecolor": "white",
            "ticks": ""
           },
           "bgcolor": "#E5ECF6",
           "radialaxis": {
            "gridcolor": "white",
            "linecolor": "white",
            "ticks": ""
           }
          },
          "scene": {
           "xaxis": {
            "backgroundcolor": "#E5ECF6",
            "gridcolor": "white",
            "gridwidth": 2,
            "linecolor": "white",
            "showbackground": true,
            "ticks": "",
            "zerolinecolor": "white"
           },
           "yaxis": {
            "backgroundcolor": "#E5ECF6",
            "gridcolor": "white",
            "gridwidth": 2,
            "linecolor": "white",
            "showbackground": true,
            "ticks": "",
            "zerolinecolor": "white"
           },
           "zaxis": {
            "backgroundcolor": "#E5ECF6",
            "gridcolor": "white",
            "gridwidth": 2,
            "linecolor": "white",
            "showbackground": true,
            "ticks": "",
            "zerolinecolor": "white"
           }
          },
          "shapedefaults": {
           "line": {
            "color": "#2a3f5f"
           }
          },
          "ternary": {
           "aaxis": {
            "gridcolor": "white",
            "linecolor": "white",
            "ticks": ""
           },
           "baxis": {
            "gridcolor": "white",
            "linecolor": "white",
            "ticks": ""
           },
           "bgcolor": "#E5ECF6",
           "caxis": {
            "gridcolor": "white",
            "linecolor": "white",
            "ticks": ""
           }
          },
          "title": {
           "x": 0.05
          },
          "xaxis": {
           "automargin": true,
           "gridcolor": "white",
           "linecolor": "white",
           "ticks": "",
           "title": {
            "standoff": 15
           },
           "zerolinecolor": "white",
           "zerolinewidth": 2
          },
          "yaxis": {
           "automargin": true,
           "gridcolor": "white",
           "linecolor": "white",
           "ticks": "",
           "title": {
            "standoff": 15
           },
           "zerolinecolor": "white",
           "zerolinewidth": 2
          }
         }
        },
        "title": {
         "text": "TSMixer Prediction vs. Ground Truth for VDOT"
        },
        "xaxis": {
         "title": {
          "text": "Time Step"
         }
        },
        "yaxis": {
         "title": {
          "text": "Value"
         }
        }
       }
      }
     },
     "metadata": {},
     "output_type": "display_data"
    },
    {
     "data": {
      "application/vnd.plotly.v1+json": {
       "config": {
        "plotlyServerURL": "https://plot.ly"
       },
       "data": [
        {
         "line": {
          "color": "blue"
         },
         "mode": "lines",
         "name": "GT",
         "type": "scatter",
         "y": [
          0,
          0,
          0,
          0,
          0,
          0,
          0,
          0,
          0,
          0,
          0,
          0,
          0,
          0,
          0,
          0,
          0,
          0,
          0,
          0,
          0,
          0,
          0,
          0,
          0,
          0,
          0,
          0,
          0,
          0,
          0,
          0,
          0,
          0,
          0,
          0,
          0,
          0,
          0,
          0,
          0,
          0,
          0,
          0,
          0,
          0,
          0,
          0,
          0,
          0,
          0,
          0,
          0,
          0,
          0,
          0,
          0,
          0,
          0,
          0,
          0,
          0,
          0,
          0,
          0,
          0,
          0,
          0,
          0,
          0,
          0,
          0,
          0,
          0,
          0,
          0,
          0,
          0,
          0,
          0,
          0,
          0,
          0,
          0,
          0,
          0,
          0,
          0,
          0,
          0,
          0,
          0,
          0,
          0,
          0,
          0,
          0,
          0,
          0,
          0,
          0,
          0,
          0,
          0,
          0,
          0,
          0,
          0,
          0,
          0,
          0,
          0,
          0,
          0,
          0,
          0,
          0,
          0,
          0,
          0,
          0,
          0,
          0,
          0,
          0,
          0,
          0,
          0,
          0,
          0,
          0,
          0,
          0,
          0,
          0,
          0,
          0,
          0,
          0,
          0,
          0,
          0,
          0,
          0,
          0,
          0,
          0,
          0,
          0,
          0,
          0,
          0,
          0,
          0,
          0,
          0,
          0,
          0,
          0,
          0,
          0,
          0,
          0,
          0,
          0,
          0,
          0,
          0,
          0,
          0,
          0,
          0,
          0,
          0,
          0,
          0,
          0,
          0,
          0,
          0,
          0,
          0,
          0,
          0,
          0,
          0,
          0,
          0,
          0,
          0,
          0,
          0,
          0,
          0,
          0,
          0,
          0,
          0,
          0,
          0,
          0,
          0,
          0,
          0,
          0,
          0,
          0,
          0,
          0,
          0,
          0,
          0,
          0,
          0,
          0,
          0,
          0,
          0,
          0,
          0,
          0,
          0,
          0,
          0,
          0,
          0,
          0,
          0,
          0,
          0,
          0,
          0,
          0,
          0,
          0,
          0,
          0,
          0,
          0,
          0,
          0,
          0,
          0,
          0,
          0,
          0,
          0,
          0,
          0,
          0,
          0,
          0,
          0,
          0,
          0,
          0,
          0,
          0,
          0,
          0,
          0,
          0,
          0,
          0,
          0,
          0,
          0,
          0,
          0,
          0,
          0,
          0,
          0,
          0,
          0,
          0,
          0,
          0,
          0,
          0,
          0,
          0,
          0,
          0,
          0,
          0,
          0,
          0,
          0,
          0,
          0,
          0,
          0,
          0,
          0,
          0,
          0,
          0,
          0,
          0,
          0,
          0,
          0,
          0,
          0,
          0,
          0,
          0,
          0,
          0,
          0,
          0,
          0,
          0,
          0,
          0,
          0,
          0,
          0,
          0,
          0,
          0,
          0,
          0,
          0,
          0,
          0,
          0,
          0,
          0,
          0,
          0,
          0,
          0,
          0,
          0,
          0,
          0,
          0,
          0,
          0,
          0,
          0,
          0,
          0,
          0,
          0,
          0,
          0,
          0,
          0,
          0,
          0,
          0,
          0,
          0,
          0,
          0,
          0,
          0,
          0,
          0,
          0,
          0,
          0,
          0,
          0,
          0,
          0,
          0,
          0,
          0,
          0,
          0,
          0,
          0,
          0,
          0,
          0,
          0,
          0,
          0,
          0,
          0,
          0,
          0,
          0,
          0,
          0,
          0,
          0,
          0,
          0,
          0,
          0,
          0,
          0,
          0,
          0,
          0,
          0,
          0,
          0,
          0,
          0,
          0,
          0,
          0,
          0,
          0,
          0,
          0,
          0,
          0,
          0,
          0,
          0,
          0,
          0,
          0,
          0,
          0,
          0,
          0,
          0,
          0,
          0,
          0,
          0,
          0,
          0,
          0,
          0,
          0,
          0,
          0,
          0,
          0,
          0,
          0,
          0,
          0,
          0,
          0,
          0,
          0,
          0,
          0,
          0,
          0,
          0,
          0,
          0,
          0,
          0,
          0,
          0,
          0,
          0,
          0,
          0,
          0,
          0,
          0,
          0,
          0,
          0,
          0,
          0,
          0,
          0,
          0,
          0,
          0,
          0,
          0,
          0,
          0,
          0,
          0,
          0,
          0,
          0,
          0,
          0,
          0,
          0,
          0,
          0,
          0,
          0,
          0,
          0,
          0,
          0,
          0,
          0,
          0,
          0,
          0,
          0,
          0,
          0,
          0,
          0,
          0,
          0,
          0,
          0,
          0,
          0,
          0,
          0,
          0,
          0,
          0,
          0,
          0,
          0,
          0,
          0,
          0,
          0,
          0,
          0,
          0,
          0,
          0,
          0,
          0,
          0,
          0,
          0,
          0,
          0,
          0,
          0,
          0,
          0,
          0,
          0,
          0,
          0,
          0,
          0,
          0,
          0,
          0,
          0,
          0,
          0,
          0,
          0,
          0,
          0,
          0,
          0,
          0,
          0,
          0,
          0,
          0,
          0,
          0,
          0,
          0,
          0,
          0,
          0,
          0,
          0,
          0,
          0,
          0,
          0,
          0,
          0,
          0,
          0,
          0,
          0,
          0,
          0,
          0,
          0,
          0,
          0,
          0,
          0,
          0,
          0,
          0,
          0,
          0,
          0,
          0,
          0,
          0,
          0,
          0,
          0,
          0,
          0,
          0,
          0,
          0,
          0,
          0,
          0,
          0,
          0,
          0,
          0,
          0,
          0,
          0,
          0,
          0,
          0,
          0,
          0,
          0,
          0,
          0,
          0,
          0,
          0,
          0,
          0,
          0,
          0,
          0,
          0,
          0,
          0,
          0,
          0,
          0,
          0,
          0,
          0
         ]
        },
        {
         "line": {
          "color": "red"
         },
         "mode": "lines",
         "name": "pred_beginning",
         "type": "scatter",
         "y": [
          0,
          0,
          0,
          0,
          0,
          0,
          0,
          0,
          0.015869013965129852,
          0.010856062173843384,
          0.00745740532875061,
          0.004142284393310547,
          0.0004479065537452698,
          -0.00288989394903183,
          -0.006342217326164246,
          -0.009839311242103577,
          -0.013731509447097778,
          -0.015124522149562836,
          -0.013677135109901428,
          -0.012388363480567932,
          -0.012792326509952545,
          -0.012878134846687317,
          -0.013551481068134308,
          -0.015600308775901794,
          -0.016935914754867554,
          -0.017830565571784973,
          -0.01856318861246109,
          -0.0185806006193161,
          -0.017051473259925842,
          -0.014547653496265411,
          -0.01299925148487091,
          -0.011526308953762054,
          -0.00951676070690155,
          -0.007319405674934387,
          -0.006396062672138214,
          -0.005815230309963226,
          -0.00449119508266449,
          -0.002836748957633972,
          -0.0017708763480186462,
          -0.0006723329424858093,
          0.0004469528794288635,
          0.0011630207300186157,
          0.00198490172624588,
          0.002605155110359192,
          0.00262538343667984,
          0.0029107555747032166,
          0.003171667456626892,
          0.0023681223392486572,
          0.0006514415144920349,
          -0.0033807754516601562,
          -0.011038966476917267,
          -0.01901736855506897,
          -0.023987948894500732,
          -0.024734780192375183,
          -0.030136674642562866,
          -0.033057890832424164,
          -0.031173810362815857,
          -0.02980945259332657,
          -0.023944392800331116,
          -0.010911546647548676,
          -0.003974437713623047,
          -0.004916936159133911,
          -0.008005902171134949,
          -0.01171952486038208,
          -0.010126940906047821,
          -0.013000339269638062,
          -0.008434824645519257,
          -0.015944652259349823,
          -0.029942721128463745,
          -0.032447248697280884,
          -0.03990890085697174,
          -0.041673943400382996,
          -0.04743899405002594,
          -0.044728443026542664,
          -0.037452176213264465,
          -0.016466043889522552,
          0.006793349981307983,
          -0.008544884622097015,
          0.012342125177383423,
          0.015710964798927307,
          0.020100273191928864,
          0.022446677088737488,
          0.012050889432430267,
          0.009235844016075134,
          0.00012046098709106445,
          -0.013905368745326996,
          -0.01631297916173935,
          -0.01411379873752594,
          -0.01791786402463913,
          -0.02622455358505249,
          -0.02839846909046173,
          -0.013843744993209839,
          -0.010217204689979553,
          -0.008963286876678467,
          -0.011665619909763336,
          -0.00333297997713089,
          0.002295270562171936,
          0.006575100123882294,
          0.008893512189388275,
          0.004321187734603882,
          -0.00027854740619659424,
          0.0039014220237731934,
          0.003151625394821167,
          0.011049732565879822,
          0.014223873615264893,
          0.022022537887096405,
          0.02078055590391159,
          0.011495538055896759,
          0.005118764936923981,
          -0.0020406395196914673,
          -0.012090325355529785,
          -0.022375524044036865,
          -0.02839556336402893,
          -0.045722588896751404,
          -0.0393553227186203,
          -0.05161173641681671,
          -0.0649261623620987,
          -0.07792878150939941,
          -0.08818669617176056,
          -0.10829587280750275,
          -0.1374961882829666,
          -0.1444925218820572,
          -0.14448700845241547,
          -0.16681699454784393,
          -0.16020186245441437,
          -0.17037324607372284,
          -0.18153028190135956,
          -0.171865776181221,
          -0.16090591251850128,
          -0.14542676508426666,
          -0.13291485607624054,
          -0.12500007450580597,
          -0.11737488210201263,
          -0.10950127243995667,
          -0.10656490921974182,
          -0.10491649806499481,
          -0.1062140166759491,
          -0.10813753306865692,
          -0.1092316061258316,
          -0.10830773413181305,
          -0.10700736939907074,
          -0.10503165423870087,
          -0.10443650186061859,
          -0.10571812093257904,
          -0.10853946208953857,
          -0.11071310937404633,
          -0.111142098903656,
          -0.10757856070995331,
          -0.10479232668876648,
          -0.10375924408435822,
          -0.10233771800994873,
          -0.10301470756530762,
          -0.1042557954788208,
          -0.10604967176914215,
          -0.1044827550649643,
          -0.10207824409008026,
          -0.10097001492977142,
          -0.10071451961994171,
          -0.10123594105243683,
          -0.10066728293895721,
          -0.0991702526807785,
          -0.0993807315826416,
          -0.09912280738353729,
          -0.09905640780925751,
          -0.09959658980369568,
          -0.0976690798997879,
          -0.09456682205200195,
          -0.09083865582942963,
          -0.08701188862323761,
          -0.08316560089588165,
          -0.08000363409519196,
          -0.07746635377407074,
          -0.07702690362930298,
          -0.07628171145915985,
          -0.07461635768413544,
          -0.07303114235401154,
          -0.07122890651226044,
          -0.06922601163387299,
          -0.06674535572528839,
          -0.06483837962150574,
          -0.06270763278007507,
          -0.06119219958782196,
          -0.05995805561542511,
          -0.058815017342567444,
          -0.05096136033535004,
          -0.04304356873035431,
          -0.04277072846889496,
          -0.03785175085067749,
          -0.03774513304233551,
          -0.03550808131694794,
          -0.04103401303291321,
          -0.03136121481657028,
          -0.026223033666610718,
          -0.021907873451709747,
          -0.01612263172864914,
          -0.021456696093082428,
          -0.02009718120098114,
          -0.029266901314258575,
          -0.027654387056827545,
          -0.02938225120306015,
          -0.03212812542915344,
          -0.03316546231508255,
          -0.0364699512720108,
          -0.04846751689910889,
          -0.05188550055027008,
          -0.056863293051719666,
          -0.045155033469200134,
          -0.01123598963022232,
          0.011459119617938995,
          0.027823112905025482,
          0.048961006104946136,
          0.05587860196828842,
          0.05837545543909073,
          0.0607316717505455,
          0.05937431752681732,
          0.05521875619888306,
          0.05099186301231384,
          0.047830693423748016,
          0.04962003976106644,
          0.061610057950019836,
          0.06852248311042786,
          0.07993221282958984,
          0.10587050020694733,
          0.12569959461688995,
          0.14906761050224304,
          0.1557464599609375,
          0.18164277076721191,
          0.1728927195072174,
          0.13549837470054626,
          0.10172814875841141,
          0.09553224593400955,
          0.09417325258255005,
          0.08924723416566849,
          0.08635205775499344,
          0.08203999698162079,
          0.07926785945892334,
          0.07750886678695679,
          0.06981861591339111,
          0.057559601962566376,
          0.04537832736968994,
          0.03819330036640167,
          0.030233614146709442,
          0.018791422247886658,
          0.005027346312999725,
          -0.00732683390378952,
          -0.011730603873729706,
          -0.014137335121631622,
          -0.007885001599788666,
          -0.00866006314754486,
          -0.01225949078798294,
          -0.015417836606502533,
          -0.016707196831703186,
          -0.0149645134806633,
          -0.01666439324617386,
          -0.019705496728420258,
          -0.021722465753555298,
          -0.02111177146434784,
          -0.02410179376602173,
          -0.031173162162303925,
          -0.03760281205177307,
          -0.03955022990703583,
          -0.04125981032848358,
          -0.04148603975772858,
          -0.043636515736579895,
          -0.045959487557411194,
          -0.048328056931495667,
          -0.05219981074333191,
          -0.05539429187774658,
          -0.05652378499507904,
          -0.055810436606407166,
          -0.0539981871843338,
          -0.04970178008079529,
          -0.045799896121025085,
          -0.041870445013046265,
          -0.04058648645877838,
          -0.040418967604637146,
          -0.04398296773433685,
          -0.04198251664638519,
          -0.029854997992515564,
          -0.021808162331581116,
          -0.020533651113510132,
          -0.025682181119918823,
          -0.03173788636922836,
          -0.03748202323913574,
          -0.040255025029182434,
          -0.04011176526546478,
          -0.03916506469249725,
          -0.03562168776988983,
          -0.031522177159786224,
          -0.026821650564670563,
          -0.022583067417144775,
          -0.017017610371112823,
          -0.013233892619609833,
          -0.00793619453907013,
          0.0006456896662712097,
          0.00842776894569397,
          0.015829384326934814,
          0.020849600434303284,
          0.0239432230591774,
          0.024883419275283813,
          0.023199282586574554,
          0.018603645265102386,
          0.014266058802604675,
          0.013018861413002014,
          0.006950996816158295,
          0.004922047257423401,
          0.0011928156018257141,
          -0.009553894400596619,
          -0.021746322512626648,
          -0.03334557265043259,
          -0.04560209810733795,
          -0.05782429873943329,
          -0.06908421218395233,
          -0.07919251918792725,
          -0.08674958348274231,
          -0.09406369924545288,
          -0.10382585227489471,
          -0.1129683405160904,
          -0.12120738625526428,
          -0.12833388149738312,
          -0.1327531337738037,
          -0.13560760021209717,
          -0.13913162052631378,
          -0.14222991466522217,
          -0.1442539095878601,
          -0.1449822038412094,
          -0.14809547364711761,
          -0.15473951399326324,
          -0.16853265464305878,
          -0.18960236012935638,
          -0.20733197033405304,
          -0.20372669398784637,
          -0.19658957421779633,
          -0.184203639626503,
          -0.17205895483493805,
          -0.15612785518169403,
          -0.14247390627861023,
          -0.13209696114063263,
          -0.12353688478469849,
          -0.11544999480247498,
          -0.1077096164226532,
          -0.10026957094669342,
          -0.09312453866004944,
          -0.08785636723041534,
          -0.08364707231521606,
          -0.08022016286849976,
          -0.07701456546783447,
          -0.07388757169246674,
          -0.07056301832199097,
          -0.06791643798351288,
          -0.06514865159988403,
          -0.0636608749628067,
          -0.06191606819629669,
          -0.06102114915847778,
          -0.06071525812149048,
          -0.06141899526119232,
          -0.06287728250026703,
          -0.06449981033802032,
          -0.06683908402919769,
          -0.07004241645336151,
          -0.0732346773147583,
          -0.07592588663101196,
          -0.07838991284370422,
          -0.08081778883934021,
          -0.08317446708679199,
          -0.08503428101539612,
          -0.08635534346103668,
          -0.0875551700592041,
          -0.08858001232147217,
          -0.08994846045970917,
          -0.09129701554775238,
          -0.09226103127002716,
          -0.0932510495185852,
          -0.09405075013637543,
          -0.09494040906429291,
          -0.095308318734169,
          -0.09520059823989868,
          -0.094586580991745,
          -0.09323233366012573,
          -0.0900924950838089,
          -0.08660651743412018,
          -0.08127814531326294,
          -0.072018563747406,
          -0.06070660054683685,
          -0.046793580055236816,
          -0.04306595027446747,
          -0.03841505944728851,
          -0.04038132727146149,
          -0.034614384174346924,
          -0.024375274777412415,
          -0.02362004667520523,
          -0.030868656933307648,
          -0.03925450146198273,
          -0.037954285740852356,
          -0.029513351619243622,
          -0.029425516724586487,
          -0.03470706194639206,
          -0.04099263250827789,
          -0.04020215570926666,
          -0.03342358022928238,
          -0.021714285016059875,
          -0.009138166904449463,
          -0.00046008825302124023,
          0.005381979048252106,
          0.010958701372146606,
          0.01630271226167679,
          0.020842671394348145,
          0.02851492166519165,
          0.03745371848344803,
          0.041881464421749115,
          0.0433945432305336,
          0.04151367396116257,
          0.038350529968738556,
          0.025118380784988403,
          0.007952705025672913,
          -0.00971481204032898,
          -0.028209969401359558,
          -0.046193137764930725,
          -0.06217224895954132,
          -0.07545074820518494,
          -0.08424775302410126,
          -0.09279821813106537,
          -0.10131669044494629,
          -0.1104351133108139,
          -0.12019266188144684,
          -0.1282433271408081,
          -0.13483648002147675,
          -0.13964568078517914,
          -0.14214058220386505,
          -0.1444433629512787,
          -0.14543211460113525,
          -0.14684689044952393,
          -0.1485392451286316,
          -0.1476513296365738,
          -0.14646340906620026,
          -0.14317236840724945,
          -0.1374719887971878,
          -0.1319405734539032,
          -0.12784014642238617,
          -0.1252153068780899,
          -0.12421174347400665,
          -0.12440042197704315,
          -0.12137210369110107,
          -0.11682464182376862,
          -0.11156629025936127,
          -0.10586731135845184,
          -0.10089592635631561,
          -0.09588216245174408,
          -0.08693437278270721,
          -0.07785452902317047,
          -0.06853193044662476,
          -0.0590008944272995,
          -0.05171407759189606,
          -0.045524418354034424,
          -0.04033607244491577,
          -0.036088086664676666,
          -0.033389970660209656,
          -0.03191838413476944,
          -0.031083352863788605,
          -0.030156515538692474,
          -0.028053931891918182,
          -0.025896191596984863,
          -0.023699842393398285,
          -0.02061866968870163,
          -0.01619606465101242,
          -0.009382769465446472,
          0.0028500407934188843,
          0.027013659477233887,
          0.03849560022354126,
          0.037313103675842285,
          0.043201297521591187,
          0.061503224074840546,
          0.030746951699256897,
          -0.02706924080848694,
          -0.022556036710739136,
          0.0020125284790992737,
          0.007804125547409058,
          -0.00024456530809402466,
          0.018692858517169952,
          0.050948627293109894,
          0.09536784142255783,
          0.12209371477365494,
          0.13029126822948456,
          0.13253170251846313,
          0.13064417243003845,
          0.12685813009738922,
          0.12182823568582535,
          0.11583864688873291,
          0.10838941484689713,
          0.10027444362640381,
          0.0918242335319519,
          0.08347634971141815,
          0.07584454119205475,
          0.06800080090761185,
          0.06102641671895981,
          0.05408940464258194,
          0.04771731421351433,
          0.040656931698322296,
          0.034206535667181015,
          0.026963379234075546,
          0.018158547580242157,
          0.008063331246376038,
          -0.006722159683704376,
          -0.024823151528835297,
          -0.044308364391326904,
          -0.06221295893192291,
          -0.07919590175151825,
          -0.09635864198207855,
          -0.11262746155261993,
          -0.12318943440914154,
          -0.12673521041870117,
          -0.12469188868999481,
          -0.11657959222793579,
          -0.1072564572095871,
          -0.09745092689990997,
          -0.08159281313419342,
          -0.0662611722946167,
          -0.04992362856864929,
          -0.03275873512029648,
          -0.01996229588985443,
          -0.011649563908576965,
          -0.00579487532377243,
          -0.0010312199592590332,
          0.0034798607230186462,
          0.007801711559295654,
          0.014224246144294739,
          0.018186792731285095,
          0.02093806117773056,
          0.01803293079137802,
          0.009780041873455048,
          -0.002272196114063263,
          -0.010809265077114105,
          -0.020416133105754852,
          -0.026516839861869812,
          -0.0434383898973465,
          -0.05634428560733795,
          -0.06949760019779205,
          -0.08129335939884186,
          -0.0926179438829422,
          -0.10232056677341461,
          -0.11113877594470978,
          -0.11848528683185577,
          -0.12451688945293427,
          -0.12945665419101715,
          -0.1316501498222351,
          -0.13421164453029633,
          -0.1347130686044693,
          -0.1357848346233368,
          -0.13871943950653076,
          -0.1423572450876236,
          -0.14356397092342377,
          -0.14145036041736603,
          -0.13731659948825836,
          -0.13211773335933685,
          -0.12692081928253174,
          -0.12338727712631226,
          -0.12045173346996307,
          -0.11586764454841614,
          -0.10913217067718506,
          -0.10542288422584534,
          -0.1043943464756012,
          -0.10200263559818268,
          -0.09840087592601776,
          -0.09044204652309418,
          -0.08087041974067688,
          -0.06825235486030579,
          -0.05729341506958008,
          -0.04644559323787689,
          -0.03612568974494934,
          -0.024813860654830933,
          -0.012857556343078613,
          -0.003908276557922363,
          0.004546165466308594,
          0.014329180121421814,
          0.022968053817749023,
          0.031862929463386536,
          0.03890615701675415,
          0.04551604390144348,
          0.04838460683822632,
          0.04993176460266113,
          0.04844031482934952,
          0.05361966788768768,
          0.058407336473464966,
          0.05020903795957565,
          0.07181854546070099,
          0.09369409829378128,
          0.09126649051904678,
          0.08820236474275589,
          0.039083465933799744,
          0.0002826601266860962,
          -0.012266896665096283,
          -0.027534008026123047,
          -0.05712151527404785,
          -0.05969326198101044,
          -0.052041828632354736,
          -0.027198493480682373,
          -0.0013775452971458435,
          -0.005970969796180725,
          0.008914008736610413,
          0.037891238927841187,
          0.058508336544036865,
          0.07272067666053772,
          0.08004556596279144,
          0.08377256989479065,
          0.0847717747092247,
          0.08448037505149841,
          0.08322513103485107,
          0.08101847767829895,
          0.0766000971198082,
          0.07045784592628479,
          0.06474420428276062,
          0.05855841189622879,
          0.05196017026901245,
          0.04603736475110054,
          0.040585942566394806,
          0.034786656498909,
          0.02786274254322052,
          0.0202622190117836,
          0.012561343610286713,
          0.002920098602771759,
          -0.007947571575641632,
          -0.02271737903356552,
          -0.042586103081703186,
          -0.06558910012245178,
          -0.08757415413856506,
          -0.10713760554790497,
          -0.1243051141500473,
          -0.14118792116641998,
          -0.154355987906456,
          -0.15735405683517456,
          -0.1524476706981659,
          -0.14199939370155334,
          -0.1262570172548294,
          -0.10736243426799774,
          -0.08918766677379608,
          -0.06978034973144531,
          -0.05924169719219208,
          -0.052796199917793274,
          -0.0484955757856369,
          -0.04321049153804779,
          -0.03695215284824371
         ]
        }
       ],
       "layout": {
        "template": {
         "data": {
          "bar": [
           {
            "error_x": {
             "color": "#2a3f5f"
            },
            "error_y": {
             "color": "#2a3f5f"
            },
            "marker": {
             "line": {
              "color": "#E5ECF6",
              "width": 0.5
             },
             "pattern": {
              "fillmode": "overlay",
              "size": 10,
              "solidity": 0.2
             }
            },
            "type": "bar"
           }
          ],
          "barpolar": [
           {
            "marker": {
             "line": {
              "color": "#E5ECF6",
              "width": 0.5
             },
             "pattern": {
              "fillmode": "overlay",
              "size": 10,
              "solidity": 0.2
             }
            },
            "type": "barpolar"
           }
          ],
          "carpet": [
           {
            "aaxis": {
             "endlinecolor": "#2a3f5f",
             "gridcolor": "white",
             "linecolor": "white",
             "minorgridcolor": "white",
             "startlinecolor": "#2a3f5f"
            },
            "baxis": {
             "endlinecolor": "#2a3f5f",
             "gridcolor": "white",
             "linecolor": "white",
             "minorgridcolor": "white",
             "startlinecolor": "#2a3f5f"
            },
            "type": "carpet"
           }
          ],
          "choropleth": [
           {
            "colorbar": {
             "outlinewidth": 0,
             "ticks": ""
            },
            "type": "choropleth"
           }
          ],
          "contour": [
           {
            "colorbar": {
             "outlinewidth": 0,
             "ticks": ""
            },
            "colorscale": [
             [
              0,
              "#0d0887"
             ],
             [
              0.1111111111111111,
              "#46039f"
             ],
             [
              0.2222222222222222,
              "#7201a8"
             ],
             [
              0.3333333333333333,
              "#9c179e"
             ],
             [
              0.4444444444444444,
              "#bd3786"
             ],
             [
              0.5555555555555556,
              "#d8576b"
             ],
             [
              0.6666666666666666,
              "#ed7953"
             ],
             [
              0.7777777777777778,
              "#fb9f3a"
             ],
             [
              0.8888888888888888,
              "#fdca26"
             ],
             [
              1,
              "#f0f921"
             ]
            ],
            "type": "contour"
           }
          ],
          "contourcarpet": [
           {
            "colorbar": {
             "outlinewidth": 0,
             "ticks": ""
            },
            "type": "contourcarpet"
           }
          ],
          "heatmap": [
           {
            "colorbar": {
             "outlinewidth": 0,
             "ticks": ""
            },
            "colorscale": [
             [
              0,
              "#0d0887"
             ],
             [
              0.1111111111111111,
              "#46039f"
             ],
             [
              0.2222222222222222,
              "#7201a8"
             ],
             [
              0.3333333333333333,
              "#9c179e"
             ],
             [
              0.4444444444444444,
              "#bd3786"
             ],
             [
              0.5555555555555556,
              "#d8576b"
             ],
             [
              0.6666666666666666,
              "#ed7953"
             ],
             [
              0.7777777777777778,
              "#fb9f3a"
             ],
             [
              0.8888888888888888,
              "#fdca26"
             ],
             [
              1,
              "#f0f921"
             ]
            ],
            "type": "heatmap"
           }
          ],
          "heatmapgl": [
           {
            "colorbar": {
             "outlinewidth": 0,
             "ticks": ""
            },
            "colorscale": [
             [
              0,
              "#0d0887"
             ],
             [
              0.1111111111111111,
              "#46039f"
             ],
             [
              0.2222222222222222,
              "#7201a8"
             ],
             [
              0.3333333333333333,
              "#9c179e"
             ],
             [
              0.4444444444444444,
              "#bd3786"
             ],
             [
              0.5555555555555556,
              "#d8576b"
             ],
             [
              0.6666666666666666,
              "#ed7953"
             ],
             [
              0.7777777777777778,
              "#fb9f3a"
             ],
             [
              0.8888888888888888,
              "#fdca26"
             ],
             [
              1,
              "#f0f921"
             ]
            ],
            "type": "heatmapgl"
           }
          ],
          "histogram": [
           {
            "marker": {
             "pattern": {
              "fillmode": "overlay",
              "size": 10,
              "solidity": 0.2
             }
            },
            "type": "histogram"
           }
          ],
          "histogram2d": [
           {
            "colorbar": {
             "outlinewidth": 0,
             "ticks": ""
            },
            "colorscale": [
             [
              0,
              "#0d0887"
             ],
             [
              0.1111111111111111,
              "#46039f"
             ],
             [
              0.2222222222222222,
              "#7201a8"
             ],
             [
              0.3333333333333333,
              "#9c179e"
             ],
             [
              0.4444444444444444,
              "#bd3786"
             ],
             [
              0.5555555555555556,
              "#d8576b"
             ],
             [
              0.6666666666666666,
              "#ed7953"
             ],
             [
              0.7777777777777778,
              "#fb9f3a"
             ],
             [
              0.8888888888888888,
              "#fdca26"
             ],
             [
              1,
              "#f0f921"
             ]
            ],
            "type": "histogram2d"
           }
          ],
          "histogram2dcontour": [
           {
            "colorbar": {
             "outlinewidth": 0,
             "ticks": ""
            },
            "colorscale": [
             [
              0,
              "#0d0887"
             ],
             [
              0.1111111111111111,
              "#46039f"
             ],
             [
              0.2222222222222222,
              "#7201a8"
             ],
             [
              0.3333333333333333,
              "#9c179e"
             ],
             [
              0.4444444444444444,
              "#bd3786"
             ],
             [
              0.5555555555555556,
              "#d8576b"
             ],
             [
              0.6666666666666666,
              "#ed7953"
             ],
             [
              0.7777777777777778,
              "#fb9f3a"
             ],
             [
              0.8888888888888888,
              "#fdca26"
             ],
             [
              1,
              "#f0f921"
             ]
            ],
            "type": "histogram2dcontour"
           }
          ],
          "mesh3d": [
           {
            "colorbar": {
             "outlinewidth": 0,
             "ticks": ""
            },
            "type": "mesh3d"
           }
          ],
          "parcoords": [
           {
            "line": {
             "colorbar": {
              "outlinewidth": 0,
              "ticks": ""
             }
            },
            "type": "parcoords"
           }
          ],
          "pie": [
           {
            "automargin": true,
            "type": "pie"
           }
          ],
          "scatter": [
           {
            "fillpattern": {
             "fillmode": "overlay",
             "size": 10,
             "solidity": 0.2
            },
            "type": "scatter"
           }
          ],
          "scatter3d": [
           {
            "line": {
             "colorbar": {
              "outlinewidth": 0,
              "ticks": ""
             }
            },
            "marker": {
             "colorbar": {
              "outlinewidth": 0,
              "ticks": ""
             }
            },
            "type": "scatter3d"
           }
          ],
          "scattercarpet": [
           {
            "marker": {
             "colorbar": {
              "outlinewidth": 0,
              "ticks": ""
             }
            },
            "type": "scattercarpet"
           }
          ],
          "scattergeo": [
           {
            "marker": {
             "colorbar": {
              "outlinewidth": 0,
              "ticks": ""
             }
            },
            "type": "scattergeo"
           }
          ],
          "scattergl": [
           {
            "marker": {
             "colorbar": {
              "outlinewidth": 0,
              "ticks": ""
             }
            },
            "type": "scattergl"
           }
          ],
          "scattermapbox": [
           {
            "marker": {
             "colorbar": {
              "outlinewidth": 0,
              "ticks": ""
             }
            },
            "type": "scattermapbox"
           }
          ],
          "scatterpolar": [
           {
            "marker": {
             "colorbar": {
              "outlinewidth": 0,
              "ticks": ""
             }
            },
            "type": "scatterpolar"
           }
          ],
          "scatterpolargl": [
           {
            "marker": {
             "colorbar": {
              "outlinewidth": 0,
              "ticks": ""
             }
            },
            "type": "scatterpolargl"
           }
          ],
          "scatterternary": [
           {
            "marker": {
             "colorbar": {
              "outlinewidth": 0,
              "ticks": ""
             }
            },
            "type": "scatterternary"
           }
          ],
          "surface": [
           {
            "colorbar": {
             "outlinewidth": 0,
             "ticks": ""
            },
            "colorscale": [
             [
              0,
              "#0d0887"
             ],
             [
              0.1111111111111111,
              "#46039f"
             ],
             [
              0.2222222222222222,
              "#7201a8"
             ],
             [
              0.3333333333333333,
              "#9c179e"
             ],
             [
              0.4444444444444444,
              "#bd3786"
             ],
             [
              0.5555555555555556,
              "#d8576b"
             ],
             [
              0.6666666666666666,
              "#ed7953"
             ],
             [
              0.7777777777777778,
              "#fb9f3a"
             ],
             [
              0.8888888888888888,
              "#fdca26"
             ],
             [
              1,
              "#f0f921"
             ]
            ],
            "type": "surface"
           }
          ],
          "table": [
           {
            "cells": {
             "fill": {
              "color": "#EBF0F8"
             },
             "line": {
              "color": "white"
             }
            },
            "header": {
             "fill": {
              "color": "#C8D4E3"
             },
             "line": {
              "color": "white"
             }
            },
            "type": "table"
           }
          ]
         },
         "layout": {
          "annotationdefaults": {
           "arrowcolor": "#2a3f5f",
           "arrowhead": 0,
           "arrowwidth": 1
          },
          "autotypenumbers": "strict",
          "coloraxis": {
           "colorbar": {
            "outlinewidth": 0,
            "ticks": ""
           }
          },
          "colorscale": {
           "diverging": [
            [
             0,
             "#8e0152"
            ],
            [
             0.1,
             "#c51b7d"
            ],
            [
             0.2,
             "#de77ae"
            ],
            [
             0.3,
             "#f1b6da"
            ],
            [
             0.4,
             "#fde0ef"
            ],
            [
             0.5,
             "#f7f7f7"
            ],
            [
             0.6,
             "#e6f5d0"
            ],
            [
             0.7,
             "#b8e186"
            ],
            [
             0.8,
             "#7fbc41"
            ],
            [
             0.9,
             "#4d9221"
            ],
            [
             1,
             "#276419"
            ]
           ],
           "sequential": [
            [
             0,
             "#0d0887"
            ],
            [
             0.1111111111111111,
             "#46039f"
            ],
            [
             0.2222222222222222,
             "#7201a8"
            ],
            [
             0.3333333333333333,
             "#9c179e"
            ],
            [
             0.4444444444444444,
             "#bd3786"
            ],
            [
             0.5555555555555556,
             "#d8576b"
            ],
            [
             0.6666666666666666,
             "#ed7953"
            ],
            [
             0.7777777777777778,
             "#fb9f3a"
            ],
            [
             0.8888888888888888,
             "#fdca26"
            ],
            [
             1,
             "#f0f921"
            ]
           ],
           "sequentialminus": [
            [
             0,
             "#0d0887"
            ],
            [
             0.1111111111111111,
             "#46039f"
            ],
            [
             0.2222222222222222,
             "#7201a8"
            ],
            [
             0.3333333333333333,
             "#9c179e"
            ],
            [
             0.4444444444444444,
             "#bd3786"
            ],
            [
             0.5555555555555556,
             "#d8576b"
            ],
            [
             0.6666666666666666,
             "#ed7953"
            ],
            [
             0.7777777777777778,
             "#fb9f3a"
            ],
            [
             0.8888888888888888,
             "#fdca26"
            ],
            [
             1,
             "#f0f921"
            ]
           ]
          },
          "colorway": [
           "#636efa",
           "#EF553B",
           "#00cc96",
           "#ab63fa",
           "#FFA15A",
           "#19d3f3",
           "#FF6692",
           "#B6E880",
           "#FF97FF",
           "#FECB52"
          ],
          "font": {
           "color": "#2a3f5f"
          },
          "geo": {
           "bgcolor": "white",
           "lakecolor": "white",
           "landcolor": "#E5ECF6",
           "showlakes": true,
           "showland": true,
           "subunitcolor": "white"
          },
          "hoverlabel": {
           "align": "left"
          },
          "hovermode": "closest",
          "mapbox": {
           "style": "light"
          },
          "paper_bgcolor": "white",
          "plot_bgcolor": "#E5ECF6",
          "polar": {
           "angularaxis": {
            "gridcolor": "white",
            "linecolor": "white",
            "ticks": ""
           },
           "bgcolor": "#E5ECF6",
           "radialaxis": {
            "gridcolor": "white",
            "linecolor": "white",
            "ticks": ""
           }
          },
          "scene": {
           "xaxis": {
            "backgroundcolor": "#E5ECF6",
            "gridcolor": "white",
            "gridwidth": 2,
            "linecolor": "white",
            "showbackground": true,
            "ticks": "",
            "zerolinecolor": "white"
           },
           "yaxis": {
            "backgroundcolor": "#E5ECF6",
            "gridcolor": "white",
            "gridwidth": 2,
            "linecolor": "white",
            "showbackground": true,
            "ticks": "",
            "zerolinecolor": "white"
           },
           "zaxis": {
            "backgroundcolor": "#E5ECF6",
            "gridcolor": "white",
            "gridwidth": 2,
            "linecolor": "white",
            "showbackground": true,
            "ticks": "",
            "zerolinecolor": "white"
           }
          },
          "shapedefaults": {
           "line": {
            "color": "#2a3f5f"
           }
          },
          "ternary": {
           "aaxis": {
            "gridcolor": "white",
            "linecolor": "white",
            "ticks": ""
           },
           "baxis": {
            "gridcolor": "white",
            "linecolor": "white",
            "ticks": ""
           },
           "bgcolor": "#E5ECF6",
           "caxis": {
            "gridcolor": "white",
            "linecolor": "white",
            "ticks": ""
           }
          },
          "title": {
           "x": 0.05
          },
          "xaxis": {
           "automargin": true,
           "gridcolor": "white",
           "linecolor": "white",
           "ticks": "",
           "title": {
            "standoff": 15
           },
           "zerolinecolor": "white",
           "zerolinewidth": 2
          },
          "yaxis": {
           "automargin": true,
           "gridcolor": "white",
           "linecolor": "white",
           "ticks": "",
           "title": {
            "standoff": 15
           },
           "zerolinecolor": "white",
           "zerolinewidth": 2
          }
         }
        },
        "title": {
         "text": "TSMixer Prediction vs. Ground Truth for ALRT"
        },
        "xaxis": {
         "title": {
          "text": "Time Step"
         }
        },
        "yaxis": {
         "title": {
          "text": "Value"
         }
        }
       }
      }
     },
     "metadata": {},
     "output_type": "display_data"
    }
   ],
   "source": [
    "# 使用模型进行对全部数据进行时序预测\n",
    "'''\n",
    "分割比例：训练集+验证集+测试集=0.7+0.2+0.1\n",
    "'''\n",
    "filepath = ('../Dataset/Simulate_Data/set_1/File_indexed.xlsx')\n",
    "df_raw = pd.read_excel(filepath)\n",
    "df = df_raw.set_index('TIME') # 以时间步为编号变量\n",
    "\n",
    "GT = np.array(df)\n",
    "# print(GT.shape)\n",
    "\n",
    "scaler = StandardScaler()\n",
    "GT_scaled = scaler.fit_transform(GT)\n",
    "\n",
    "pred_scaled = None\n",
    "for start in range(0, GT_scaled.shape[0] - seq_len):\n",
    "    input = torch.from_numpy(GT_scaled[start:start+seq_len].astype(np.float32)).to(device)\n",
    "    input = input.unsqueeze(0)\n",
    "    output = model(input)\n",
    "    output = output.to('cpu').detach().numpy()[0]\n",
    "    # print(pred_results.shape)\n",
    "    if start == 0:\n",
    "        pred_scaled = np.vstack((GT_scaled[:seq_len], output[0, :]))\n",
    "        # print(test_X_pred.shape)\n",
    "    else:\n",
    "        pred_scaled = np.vstack((pred_scaled, output[0, :]))\n",
    "    # break\n",
    "# print(pred.shape)\n",
    "        \n",
    "# 以训练集的均值和方差还原为原始量纲\n",
    "pred = scaler.inverse_transform(pred_scaled)\n",
    "\n",
    "import plotly.graph_objects as go\n",
    "\n",
    "# 交互式可视化\n",
    "for idx in range(len(cols_to_plot)):\n",
    "    fig = go.Figure()\n",
    "    # fig.add_trace(go.Scatter(y=test_X_origin[:decay_steps+pred_steps, idx], mode='lines', name = 'GT', line = dict(color='blue')))\n",
    "    fig.add_trace(go.Scatter(y=GT[:, idx], mode='lines', name = 'GT', line = dict(color='blue')))\n",
    "    fig.add_trace(go.Scatter(y=pred[:, idx], mode='lines', name = 'pred_beginning', line = dict(color='red')))\n",
    "    fig.update_layout(\n",
    "        title=f'TSMixer Prediction vs. Ground Truth for {cols_to_plot[idx]}',\n",
    "        xaxis_title='Time Step',\n",
    "        yaxis_title='Value'\n",
    "    )\n",
    "    fig.show()"
   ]
  }
 ],
 "metadata": {
  "kernelspec": {
   "display_name": "tf2-gpu",
   "language": "python",
   "name": "python3"
  },
  "language_info": {
   "codemirror_mode": {
    "name": "ipython",
    "version": 3
   },
   "file_extension": ".py",
   "mimetype": "text/x-python",
   "name": "python",
   "nbconvert_exporter": "python",
   "pygments_lexer": "ipython3",
   "version": "3.8.18"
  }
 },
 "nbformat": 4,
 "nbformat_minor": 2
}
