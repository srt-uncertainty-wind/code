{
 "cells": [
  {
   "cell_type": "code",
   "execution_count": 62,
   "metadata": {},
   "outputs": [
    {
     "name": "stdout",
     "output_type": "stream",
     "text": [
      "cuda\n"
     ]
    }
   ],
   "source": [
    "'''\n",
    "Revised base on https://zhuanlan.zhihu.com/p/667766822\n",
    "'''\n",
    "\n",
    "# 创建DataLoader进行数据集转换\n",
    "import pandas as pd\n",
    "import numpy as np\n",
    "import matplotlib.pyplot as plt\n",
    "import torch\n",
    "from torch.utils.data import TensorDataset, DataLoader\n",
    "from sklearn.preprocessing import StandardScaler\n",
    "\n",
    "device = 'cpu'\n",
    "if torch.cuda.is_available():\n",
    "    torch.set_default_tensor_type(torch.cuda.FloatTensor)\n",
    "    device = 'cuda'\n",
    "print(device)\n",
    "\n",
    "class DataCreator:\n",
    "    def __init__(self, batch_size, seq_len, pred_len):\n",
    "        self.batch_size = batch_size\n",
    "        self.seq_len = seq_len\n",
    "        self.pred_len = pred_len\n",
    "        self.target_slice = slice(0, None)\n",
    "\n",
    "        self._read_data()\n",
    "\n",
    "    # 读取数据\n",
    "    def _read_data(self):\n",
    "        '''\n",
    "        扩展数据以缩短模型的训练时间至关重要；\n",
    "        将缩放器安装在训练集上只是为了避免验证和测试集中的数据泄漏\n",
    "        '''\n",
    "\n",
    "        filepath = ('../Dataset/Simulate_Data/set_1/File_indexed.xlsx')\n",
    "\n",
    "        df_raw = pd.read_excel(filepath)\n",
    "        df = df_raw.set_index('TIME') # 以时间步为编号变量\n",
    "\n",
    "        # split train/valid/test，以0.7/0.2/0.1的比例分割原数据集\n",
    "        n = len(df)\n",
    "        train_end = int(n * 0.7)\n",
    "        val_end = n - int(n * 0.1)\n",
    "        test_end = n\n",
    "\n",
    "        train_df = df.iloc[:train_end]\n",
    "        val_df = df.iloc[train_end - self.seq_len : val_end]\n",
    "        test_df = df.iloc[val_end - self.seq_len : test_end]\n",
    "\n",
    "        # standardize by training set\n",
    "        self.scaler = StandardScaler()\n",
    "        self.scaler.fit(train_df.values)\n",
    "\n",
    "        def scale_df(df, scaler):\n",
    "            data = scaler.transform(df.values)\n",
    "            return pd.DataFrame(data, index=df.index, columns=df.columns)\n",
    "\n",
    "        self.train_df = scale_df(train_df, self.scaler)\n",
    "        self.val_df = scale_df(val_df, self.scaler)\n",
    "        self.test_df = scale_df(test_df, self.scaler)\n",
    "        self.n_feature = self.train_df.shape[-1]\n",
    "\n",
    "    # 将数据窗口分割为输入和标签\n",
    "    def _split_window(self, data):\n",
    "        inputs = data[:, : self.seq_len, :]\n",
    "        labels = data[:, self.seq_len :, self.target_slice]\n",
    "\n",
    "        # inputs.set_shape([None, self.seq_len, None])\n",
    "        # labels.set_shape([None, self.pred_len, None])\n",
    "        return inputs, labels\n",
    "\n",
    "    # 将数据重组为[num of samples, seq_len, input_size]的形式\n",
    "    def _make_dataset(self, data, shuffle=True):\n",
    "        data = np.array(data, dtype=np.float32) # 此时的data还是[total time length, input_size]的形式\n",
    "\n",
    "        # # tensorflow 版本\n",
    "        # ds = tf.keras.utils.timeseries_dataset_from_array(\n",
    "        #     data=data,\n",
    "        #     targets=None,\n",
    "        #     sequence_length=(self.seq_len + self.pred_len),\n",
    "        #     sequence_stride=1,\n",
    "        #     shuffle=shuffle,\n",
    "        #     batch_size=self.batch_size,\n",
    "        # )\n",
    "        # ds = ds.map(self._split_window)\n",
    "\n",
    "        # pytorch 版本\n",
    "        sample_size = data.shape[0] // (self.seq_len + self.pred_len)\n",
    "        data = data[: sample_size * (self.seq_len + self.pred_len)]\n",
    "        data = data.reshape(sample_size, self.seq_len + self.pred_len, self.n_feature)\n",
    "        inputs, labels = self._split_window(data)\n",
    "        inputs_tensor = torch.tensor(inputs, dtype=torch.float32).to(device)\n",
    "        labels_tensor = torch.tensor(labels, dtype=torch.float32).to(device)\n",
    "        # 创建一个 TensorDataset\n",
    "        inputs_dataset = TensorDataset(inputs_tensor)\n",
    "        labels_dataset = TensorDataset(labels_tensor)\n",
    "        # 创建一个 DataLoader\n",
    "        inputs_loader = DataLoader(inputs_dataset, batch_size=self.batch_size, shuffle=shuffle, generator=torch.Generator(device=device))\n",
    "        labels_loader = DataLoader(labels_dataset, batch_size=self.batch_size, shuffle=shuffle, generator=torch.Generator(device=device))\n",
    "\n",
    "        return inputs_loader, labels_loader\n",
    "\n",
    "    # DataLoader通过对预测进行逆变换，生成训练集、验证集和测试集\n",
    "    def inverse_transform(self, data):\n",
    "        return self.scaler.inverse_transform(data)\n",
    "\n",
    "    def get_train(self, shuffle=True):\n",
    "        # 在训练集中打乱顺序进行训练\n",
    "        return self._make_dataset(self.train_df, shuffle=shuffle)\n",
    "\n",
    "    def get_val(self):\n",
    "        return self._make_dataset(self.val_df, shuffle=False)\n",
    "\n",
    "    def get_test(self):\n",
    "        return self._make_dataset(self.test_df, shuffle=False)\n"
   ]
  },
  {
   "cell_type": "code",
   "execution_count": 6,
   "metadata": {},
   "outputs": [],
   "source": [
    "# 构建TSMixer网络, tensorflow版本\n",
    "\n",
    "# from tensorflow.keras import layers\n",
    "import torch.nn as nn\n",
    "import torch.optim as optim\n",
    "import torch.nn.functional as F\n",
    "\n",
    "def res_block(inputs, norm_type, activation, dropout, ff_dim):\n",
    "    '''\n",
    "    定义残差模块\n",
    "    '''\n",
    "    # norm = layers.BatchNormalization\n",
    "\n",
    "    batch_norm = nn.BatchNorm1d(num_features)\n",
    "\n",
    "    # Time mixing\n",
    "    '''\n",
    "    混合器层，它包括：\n",
    "        批量归一化\n",
    "        转置矩阵\n",
    "        通过 ReLu 激活馈送到全连接层\n",
    "        再次转置\n",
    "        漏失层\n",
    "        并在最后添加残差\n",
    "    '''\n",
    "    x = norm(axis=[-2, -1])(inputs)\n",
    "    x = tf.transpose(x, perm=[0, 2, 1])  # [Batch, Channel, Input Length]\n",
    "    x = layers.Dense(x.shape[-1], activation='relu')(x)\n",
    "    x = tf.transpose(x, perm=[0, 2, 1])  # [Batch, Input Length, Channel]\n",
    "    x = layers.Dropout(dropout)(x)\n",
    "    res = x + inputs\n",
    "\n",
    "    # Feature mixing\n",
    "    '''\n",
    "    特征混合部分，其中：\n",
    "        批量归一化\n",
    "        致密层\n",
    "        一个dropout层\n",
    "        另一个致密层\n",
    "        另一个dropout层\n",
    "        并添加残差以进行残差连接\n",
    "    '''\n",
    "    x = norm(axis=[-2, -1])(res)\n",
    "    x = layers.Dense(ff_dim, activation='relu')(x)  # [Batch, Input Length, FF_Dim]\n",
    "    x = layers.Dropout(0.7)(x)\n",
    "    x = layers.Dense(inputs.shape[-1])(x)  # [Batch, Input Length, Channel]\n",
    "    x = layers.Dropout(0.7)(x)\n",
    "    return x + res\n",
    "\n",
    "def build_model(\n",
    "    input_shape,\n",
    "    pred_len,\n",
    "    n_block,\n",
    "    ff_dim,\n",
    "    target_slice,\n",
    "):\n",
    "\n",
    "    inputs = tf.keras.Input(shape=input_shape)\n",
    "    x = inputs  # [Batch, Input Length, Channel]\n",
    "    for _ in range(n_block):\n",
    "        x = res_block(x, norm_type, activation, dropout, ff_dim)\n",
    "\n",
    "    if target_slice:\n",
    "        x = x[:, :, target_slice]\n",
    "\n",
    "  # Temporal projection\n",
    "    '''\n",
    "    时间投影步骤：\n",
    "        转置\n",
    "        穿过致密层\n",
    "        最终转置\n",
    "    '''\n",
    "    x = tf.transpose(x, perm=[0, 2, 1])  # [Batch, Channel, Input Length]\n",
    "    x = layers.Dense(pred_len)(x)  # [Batch, Channel, Output Length]\n",
    "    outputs = tf.transpose(x, perm=[0, 2, 1])  # [Batch, Output Length, Channel])\n",
    "\n",
    "    return tf.keras.Model(inputs, outputs)"
   ]
  },
  {
   "cell_type": "code",
   "execution_count": 71,
   "metadata": {},
   "outputs": [],
   "source": [
    "# 构建TSMixer网络, pytorch版本\n",
    "\n",
    "# from tensorflow.keras import layers\n",
    "import torch.nn as nn\n",
    "import torch.optim as optim\n",
    "import torch.nn.functional as F\n",
    "\n",
    "class TSMixer(nn.Module):\n",
    "    def __init__(self, input_size, seq_len, pred_len, n_block, ff_dim, dropout_proba=0.2):\n",
    "        super().__init__()\n",
    "        # 定义归一化模块\n",
    "        self.norm = nn.LayerNorm(input_size)\n",
    "        # 定义残差块数量\n",
    "        self.n_block = n_block\n",
    "        # 定义致密层\n",
    "        self.dense_in = nn.Linear(seq_len, seq_len)\n",
    "        self.dense_out = nn.Linear(seq_len, pred_len)\n",
    "        self.dense_ff_in = nn.Linear(input_size, ff_dim)\n",
    "        self.dense_ff_out = nn.Linear(ff_dim, input_size)\n",
    "        # 定义激活函数\n",
    "        self.activate = nn.ReLU()\n",
    "        # 定义dropout模块\n",
    "        self.dropout = nn.Dropout(p=dropout_proba)\n",
    "\n",
    "    def res_block(self, inputs):\n",
    "        '''\n",
    "        定义残差模块\n",
    "        '''\n",
    "        # Time mixing\n",
    "        '''\n",
    "        混合器层，它包括：\n",
    "            批量归一化\n",
    "            转置矩阵\n",
    "            通过 ReLu 激活馈送到全连接层\n",
    "            再次转置\n",
    "            漏失层\n",
    "            并在最后添加残差\n",
    "        '''\n",
    "        x = self.norm(inputs)\n",
    "        x = x.permute(0, 2, 1)  # [Batch, Channel, Input Length]\n",
    "        # print(x.size())\n",
    "        x = self.dense_in(x)\n",
    "        # print(x.size())\n",
    "        x = self.activate(x)\n",
    "        x = x.permute(0, 2, 1)  # [Batch, Input Length, Channel]\n",
    "        x = self.dropout(x)\n",
    "        res = x + inputs\n",
    "\n",
    "        # Feature mixing\n",
    "        '''\n",
    "        特征混合部分，其中：\n",
    "            批量归一化\n",
    "            致密层\n",
    "            一个dropout层\n",
    "            另一个致密层\n",
    "            另一个dropout层\n",
    "            并添加残差以进行残差连接\n",
    "        '''\n",
    "        x = self.norm(res)\n",
    "        # print(x.size())\n",
    "        x = self.dense_ff_in(x)\n",
    "        x = self.activate(x)\n",
    "        x = self.dropout(x)\n",
    "        x = self.dense_ff_out(x)\n",
    "        x = self.dropout(x)\n",
    "        return x + res\n",
    "\n",
    "    def forward(self, x):\n",
    "        # 输入时：[Batch, Input Length, Channel]\n",
    "        for _ in range(self.n_block):\n",
    "            x = self.res_block(x)\n",
    "\n",
    "        # Temporal projection\n",
    "        '''\n",
    "        时间投影步骤：\n",
    "            转置\n",
    "            穿过致密层\n",
    "            最终转置\n",
    "        '''\n",
    "        x = x.permute(0, 2, 1)  # [Batch, Channel, Input Length]\n",
    "        x = self.dense_out(x)  # [Batch, Channel, Output Length]\n",
    "        x = x.permute(0, 2, 1)  # [Batch, Output Length, Channel])\n",
    "\n",
    "        return x"
   ]
  },
  {
   "cell_type": "code",
   "execution_count": 87,
   "metadata": {},
   "outputs": [
    {
     "name": "stdout",
     "output_type": "stream",
     "text": [
      "Epoch [1/1000], Loss: 5.1207\n",
      "Epoch [2/1000], Loss: 4.8929\n",
      "Epoch [3/1000], Loss: 4.4572\n",
      "Epoch [4/1000], Loss: 4.1969\n",
      "Epoch [5/1000], Loss: 3.9126\n",
      "Epoch [6/1000], Loss: 3.7742\n",
      "Epoch [7/1000], Loss: 3.5473\n",
      "Epoch [8/1000], Loss: 3.3608\n",
      "Epoch [9/1000], Loss: 3.3041\n",
      "Epoch [10/1000], Loss: 3.1032\n",
      "Epoch [11/1000], Loss: 2.9178\n",
      "Epoch [12/1000], Loss: 2.5251\n",
      "Epoch [13/1000], Loss: 2.6093\n",
      "Epoch [14/1000], Loss: 2.6912\n",
      "Epoch [15/1000], Loss: 2.4716\n",
      "Epoch [16/1000], Loss: 2.2991\n",
      "Epoch [17/1000], Loss: 2.2137\n",
      "Epoch [18/1000], Loss: 2.2115\n",
      "Epoch [19/1000], Loss: 2.0671\n",
      "Epoch [20/1000], Loss: 1.9524\n",
      "Epoch [21/1000], Loss: 2.0177\n",
      "Epoch [22/1000], Loss: 1.8151\n",
      "Epoch [23/1000], Loss: 1.8338\n",
      "Epoch [24/1000], Loss: 1.7381\n",
      "Epoch [25/1000], Loss: 1.7102\n",
      "Epoch [26/1000], Loss: 1.6218\n",
      "Epoch [27/1000], Loss: 1.6196\n",
      "Epoch [28/1000], Loss: 1.6181\n",
      "Epoch [29/1000], Loss: 1.5551\n",
      "Epoch [30/1000], Loss: 1.5582\n",
      "Epoch [31/1000], Loss: 1.5196\n",
      "Epoch [32/1000], Loss: 1.4279\n",
      "Epoch [33/1000], Loss: 1.5067\n",
      "Epoch [34/1000], Loss: 1.4104\n",
      "Epoch [35/1000], Loss: 1.4137\n",
      "Epoch [36/1000], Loss: 1.2923\n",
      "Epoch [37/1000], Loss: 1.2915\n",
      "Epoch [38/1000], Loss: 1.2652\n",
      "Epoch [39/1000], Loss: 1.2680\n",
      "Epoch [40/1000], Loss: 1.2425\n",
      "Epoch [41/1000], Loss: 1.1944\n",
      "Epoch [42/1000], Loss: 1.1804\n",
      "Epoch [43/1000], Loss: 1.1230\n",
      "Epoch [44/1000], Loss: 1.1494\n",
      "Epoch [45/1000], Loss: 1.0955\n",
      "Epoch [46/1000], Loss: 1.0894\n",
      "Epoch [47/1000], Loss: 1.0617\n",
      "Epoch [48/1000], Loss: 1.0211\n",
      "Epoch [49/1000], Loss: 1.0472\n",
      "Epoch [50/1000], Loss: 1.0270\n",
      "Epoch [51/1000], Loss: 1.0106\n",
      "Epoch [52/1000], Loss: 0.9254\n",
      "Epoch [53/1000], Loss: 0.9790\n",
      "Epoch [54/1000], Loss: 0.9430\n",
      "Epoch [55/1000], Loss: 0.8889\n",
      "Epoch [56/1000], Loss: 0.9061\n",
      "Epoch [57/1000], Loss: 0.8669\n",
      "Epoch [58/1000], Loss: 0.8953\n",
      "Epoch [59/1000], Loss: 0.8748\n",
      "Epoch [60/1000], Loss: 0.8308\n",
      "Epoch [61/1000], Loss: 0.8220\n",
      "Epoch [62/1000], Loss: 0.8302\n",
      "Epoch [63/1000], Loss: 0.8081\n",
      "Epoch [64/1000], Loss: 0.8169\n",
      "Epoch [65/1000], Loss: 0.7589\n",
      "Epoch [66/1000], Loss: 0.7498\n",
      "Epoch [67/1000], Loss: 0.8000\n",
      "Epoch [68/1000], Loss: 0.7703\n",
      "Epoch [69/1000], Loss: 0.7410\n",
      "Epoch [70/1000], Loss: 0.7586\n",
      "Epoch [71/1000], Loss: 0.7432\n",
      "Epoch [72/1000], Loss: 0.7105\n",
      "Epoch [73/1000], Loss: 0.7475\n",
      "Epoch [74/1000], Loss: 0.6795\n",
      "Epoch [75/1000], Loss: 0.6734\n",
      "Epoch [76/1000], Loss: 0.6839\n",
      "Epoch [77/1000], Loss: 0.6580\n",
      "Epoch [78/1000], Loss: 0.6971\n",
      "Epoch [79/1000], Loss: 0.6980\n",
      "Epoch [80/1000], Loss: 0.6299\n",
      "Epoch [81/1000], Loss: 0.6966\n",
      "Epoch [82/1000], Loss: 0.6397\n",
      "Epoch [83/1000], Loss: 0.5946\n",
      "Epoch [84/1000], Loss: 0.6459\n",
      "Epoch [85/1000], Loss: 0.5861\n",
      "Epoch [86/1000], Loss: 0.5883\n",
      "Epoch [87/1000], Loss: 0.6120\n",
      "Epoch [88/1000], Loss: 0.6060\n",
      "Epoch [89/1000], Loss: 0.6229\n",
      "Epoch [90/1000], Loss: 0.5842\n",
      "Epoch [91/1000], Loss: 0.5782\n",
      "Epoch [92/1000], Loss: 0.5779\n",
      "Epoch [93/1000], Loss: 0.5591\n",
      "Epoch [94/1000], Loss: 0.5768\n",
      "Epoch [95/1000], Loss: 0.5598\n",
      "Epoch [96/1000], Loss: 0.5535\n",
      "Epoch [97/1000], Loss: 0.5556\n",
      "Epoch [98/1000], Loss: 0.5236\n",
      "Epoch [99/1000], Loss: 0.5209\n",
      "Epoch [100/1000], Loss: 0.5462\n",
      "Epoch [101/1000], Loss: 0.5072\n",
      "Epoch [102/1000], Loss: 0.5490\n",
      "Epoch [103/1000], Loss: 0.5334\n",
      "Epoch [104/1000], Loss: 0.5296\n",
      "Epoch [105/1000], Loss: 0.5382\n",
      "Epoch [106/1000], Loss: 0.4800\n",
      "Epoch [107/1000], Loss: 0.4804\n",
      "Epoch [108/1000], Loss: 0.4749\n",
      "Epoch [109/1000], Loss: 0.4823\n",
      "Epoch [110/1000], Loss: 0.4908\n",
      "Epoch [111/1000], Loss: 0.4762\n",
      "Epoch [112/1000], Loss: 0.4526\n",
      "Epoch [113/1000], Loss: 0.4563\n",
      "Epoch [114/1000], Loss: 0.4593\n",
      "Epoch [115/1000], Loss: 0.4526\n",
      "Epoch [116/1000], Loss: 0.4552\n",
      "Epoch [117/1000], Loss: 0.4380\n",
      "Epoch [118/1000], Loss: 0.4546\n",
      "Epoch [119/1000], Loss: 0.4487\n",
      "Epoch [120/1000], Loss: 0.4891\n",
      "Epoch [121/1000], Loss: 0.4498\n",
      "Epoch [122/1000], Loss: 0.4431\n",
      "Epoch [123/1000], Loss: 0.4199\n",
      "Epoch [124/1000], Loss: 0.4149\n",
      "Epoch [125/1000], Loss: 0.4025\n",
      "Epoch [126/1000], Loss: 0.4115\n",
      "Epoch [127/1000], Loss: 0.4507\n",
      "Epoch [128/1000], Loss: 0.4104\n",
      "Epoch [129/1000], Loss: 0.4324\n",
      "Epoch [130/1000], Loss: 0.4066\n",
      "Epoch [131/1000], Loss: 0.4017\n",
      "Epoch [132/1000], Loss: 0.4028\n",
      "Epoch [133/1000], Loss: 0.3917\n",
      "Epoch [134/1000], Loss: 0.3876\n",
      "Epoch [135/1000], Loss: 0.4004\n",
      "Epoch [136/1000], Loss: 0.3674\n",
      "Epoch [137/1000], Loss: 0.3987\n",
      "Epoch [138/1000], Loss: 0.3641\n",
      "Epoch [139/1000], Loss: 0.3731\n",
      "Epoch [140/1000], Loss: 0.3640\n",
      "Epoch [141/1000], Loss: 0.3583\n",
      "Epoch [142/1000], Loss: 0.3990\n",
      "Epoch [143/1000], Loss: 0.3681\n",
      "Epoch [144/1000], Loss: 0.3621\n",
      "Epoch [145/1000], Loss: 0.3827\n",
      "Epoch [146/1000], Loss: 0.3663\n",
      "Epoch [147/1000], Loss: 0.3551\n",
      "Epoch [148/1000], Loss: 0.3563\n",
      "Epoch [149/1000], Loss: 0.3645\n",
      "Epoch [150/1000], Loss: 0.3641\n",
      "Epoch [151/1000], Loss: 0.3598\n",
      "Epoch [152/1000], Loss: 0.3559\n",
      "Epoch [153/1000], Loss: 0.3532\n",
      "Epoch [154/1000], Loss: 0.3356\n",
      "Epoch [155/1000], Loss: 0.3352\n",
      "Epoch [156/1000], Loss: 0.3223\n",
      "Epoch [157/1000], Loss: 0.3319\n",
      "Epoch [158/1000], Loss: 0.3142\n",
      "Epoch [159/1000], Loss: 0.3491\n",
      "Epoch [160/1000], Loss: 0.3487\n",
      "Epoch [161/1000], Loss: 0.3428\n",
      "Epoch [162/1000], Loss: 0.3334\n",
      "Epoch [163/1000], Loss: 0.3195\n",
      "Epoch [164/1000], Loss: 0.3118\n",
      "Epoch [165/1000], Loss: 0.3219\n",
      "Epoch [166/1000], Loss: 0.3149\n",
      "Epoch [167/1000], Loss: 0.3161\n",
      "Epoch [168/1000], Loss: 0.3004\n",
      "Epoch [169/1000], Loss: 0.3032\n",
      "Epoch [170/1000], Loss: 0.2948\n",
      "Epoch [171/1000], Loss: 0.3031\n",
      "Epoch [172/1000], Loss: 0.2951\n",
      "Epoch [173/1000], Loss: 0.3190\n",
      "Epoch [174/1000], Loss: 0.3000\n",
      "Epoch [175/1000], Loss: 0.3168\n",
      "Epoch [176/1000], Loss: 0.2808\n",
      "Epoch [177/1000], Loss: 0.2945\n",
      "Epoch [178/1000], Loss: 0.3005\n",
      "Epoch [179/1000], Loss: 0.2808\n",
      "Epoch [180/1000], Loss: 0.2644\n",
      "Epoch [181/1000], Loss: 0.3028\n",
      "Epoch [182/1000], Loss: 0.2771\n",
      "Epoch [183/1000], Loss: 0.2773\n",
      "Epoch [184/1000], Loss: 0.2952\n",
      "Epoch [185/1000], Loss: 0.2839\n",
      "Epoch [186/1000], Loss: 0.2924\n",
      "Epoch [187/1000], Loss: 0.2848\n",
      "Epoch [188/1000], Loss: 0.2863\n",
      "Epoch [189/1000], Loss: 0.2853\n",
      "Epoch [190/1000], Loss: 0.2784\n",
      "Epoch [191/1000], Loss: 0.2523\n",
      "Epoch [192/1000], Loss: 0.2574\n",
      "Epoch [193/1000], Loss: 0.2712\n",
      "Epoch [194/1000], Loss: 0.2496\n",
      "Epoch [195/1000], Loss: 0.2600\n",
      "Epoch [196/1000], Loss: 0.2874\n",
      "Epoch [197/1000], Loss: 0.2483\n",
      "Epoch [198/1000], Loss: 0.2555\n",
      "Epoch [199/1000], Loss: 0.2786\n",
      "Epoch [200/1000], Loss: 0.2775\n",
      "Epoch [201/1000], Loss: 0.2457\n",
      "Epoch [202/1000], Loss: 0.2525\n",
      "Epoch [203/1000], Loss: 0.2497\n",
      "Epoch [204/1000], Loss: 0.2388\n",
      "Epoch [205/1000], Loss: 0.2384\n",
      "Epoch [206/1000], Loss: 0.2506\n",
      "Epoch [207/1000], Loss: 0.2328\n",
      "Epoch [208/1000], Loss: 0.2586\n",
      "Epoch [209/1000], Loss: 0.2545\n",
      "Epoch [210/1000], Loss: 0.2429\n",
      "Epoch [211/1000], Loss: 0.2326\n",
      "Epoch [212/1000], Loss: 0.2271\n",
      "Epoch [213/1000], Loss: 0.2340\n",
      "Epoch [214/1000], Loss: 0.2287\n",
      "Epoch [215/1000], Loss: 0.2447\n",
      "Epoch [216/1000], Loss: 0.2216\n",
      "Epoch [217/1000], Loss: 0.2335\n",
      "Epoch [218/1000], Loss: 0.2349\n",
      "Epoch [219/1000], Loss: 0.2258\n",
      "Epoch [220/1000], Loss: 0.2316\n",
      "Epoch [221/1000], Loss: 0.2218\n",
      "Epoch [222/1000], Loss: 0.2199\n",
      "Epoch [223/1000], Loss: 0.2392\n",
      "Epoch [224/1000], Loss: 0.2339\n",
      "Epoch [225/1000], Loss: 0.2274\n",
      "Epoch [226/1000], Loss: 0.2311\n",
      "Epoch [227/1000], Loss: 0.2082\n",
      "Epoch [228/1000], Loss: 0.2288\n",
      "Epoch [229/1000], Loss: 0.2196\n",
      "Epoch [230/1000], Loss: 0.2197\n",
      "Epoch [231/1000], Loss: 0.2060\n",
      "Epoch [232/1000], Loss: 0.2239\n",
      "Epoch [233/1000], Loss: 0.2156\n",
      "Epoch [234/1000], Loss: 0.2410\n",
      "Epoch [235/1000], Loss: 0.2188\n",
      "Epoch [236/1000], Loss: 0.2235\n",
      "Epoch [237/1000], Loss: 0.2128\n",
      "Epoch [238/1000], Loss: 0.2129\n",
      "Epoch [239/1000], Loss: 0.2154\n",
      "Epoch [240/1000], Loss: 0.2339\n",
      "Epoch [241/1000], Loss: 0.2132\n",
      "Epoch [242/1000], Loss: 0.2218\n",
      "Epoch [243/1000], Loss: 0.2102\n",
      "Epoch [244/1000], Loss: 0.2140\n",
      "Epoch [245/1000], Loss: 0.2303\n",
      "Epoch [246/1000], Loss: 0.1977\n",
      "Epoch [247/1000], Loss: 0.1894\n",
      "Epoch [248/1000], Loss: 0.1944\n",
      "Epoch [249/1000], Loss: 0.1898\n",
      "Epoch [250/1000], Loss: 0.2070\n",
      "Epoch [251/1000], Loss: 0.2096\n",
      "Epoch [252/1000], Loss: 0.2199\n",
      "Epoch [253/1000], Loss: 0.1919\n",
      "Epoch [254/1000], Loss: 0.2089\n",
      "Epoch [255/1000], Loss: 0.2249\n",
      "Epoch [256/1000], Loss: 0.2146\n",
      "Epoch [257/1000], Loss: 0.2042\n",
      "Epoch [258/1000], Loss: 0.1958\n",
      "Epoch [259/1000], Loss: 0.1889\n",
      "Epoch [260/1000], Loss: 0.1953\n",
      "Epoch [261/1000], Loss: 0.1842\n",
      "Epoch [262/1000], Loss: 0.1801\n",
      "Epoch [263/1000], Loss: 0.1924\n",
      "Epoch [264/1000], Loss: 0.1926\n",
      "Epoch [265/1000], Loss: 0.2085\n",
      "Epoch [266/1000], Loss: 0.2061\n",
      "Epoch [267/1000], Loss: 0.1926\n",
      "Epoch [268/1000], Loss: 0.1845\n",
      "Epoch [269/1000], Loss: 0.1853\n",
      "Epoch [270/1000], Loss: 0.1941\n",
      "Epoch [271/1000], Loss: 0.1883\n",
      "Epoch [272/1000], Loss: 0.1904\n",
      "Epoch [273/1000], Loss: 0.1796\n",
      "Epoch [274/1000], Loss: 0.1756\n",
      "Epoch [275/1000], Loss: 0.1801\n",
      "Epoch [276/1000], Loss: 0.1712\n",
      "Epoch [277/1000], Loss: 0.1813\n",
      "Epoch [278/1000], Loss: 0.1851\n",
      "Epoch [279/1000], Loss: 0.1846\n",
      "Epoch [280/1000], Loss: 0.1714\n",
      "Epoch [281/1000], Loss: 0.1822\n",
      "Epoch [282/1000], Loss: 0.1713\n",
      "Epoch [283/1000], Loss: 0.1788\n",
      "Epoch [284/1000], Loss: 0.1793\n",
      "Epoch [285/1000], Loss: 0.1795\n",
      "Epoch [286/1000], Loss: 0.1913\n",
      "Epoch [287/1000], Loss: 0.1720\n",
      "Epoch [288/1000], Loss: 0.1787\n",
      "Epoch [289/1000], Loss: 0.1656\n",
      "Epoch [290/1000], Loss: 0.1711\n",
      "Epoch [291/1000], Loss: 0.1609\n",
      "Epoch [292/1000], Loss: 0.1820\n",
      "Epoch [293/1000], Loss: 0.1838\n",
      "Epoch [294/1000], Loss: 0.1834\n",
      "Epoch [295/1000], Loss: 0.1664\n",
      "Epoch [296/1000], Loss: 0.1733\n",
      "Epoch [297/1000], Loss: 0.1639\n",
      "Epoch [298/1000], Loss: 0.1592\n",
      "Epoch [299/1000], Loss: 0.1530\n",
      "Epoch [300/1000], Loss: 0.1672\n",
      "Epoch [301/1000], Loss: 0.1750\n",
      "Epoch [302/1000], Loss: 0.1773\n",
      "Epoch [303/1000], Loss: 0.1764\n",
      "Epoch [304/1000], Loss: 0.1625\n",
      "Epoch [305/1000], Loss: 0.1706\n",
      "Epoch [306/1000], Loss: 0.1638\n",
      "Epoch [307/1000], Loss: 0.1818\n",
      "Epoch [308/1000], Loss: 0.1680\n",
      "Epoch [309/1000], Loss: 0.1592\n",
      "Epoch [310/1000], Loss: 0.1605\n",
      "Epoch [311/1000], Loss: 0.1587\n",
      "Epoch [312/1000], Loss: 0.1503\n",
      "Epoch [313/1000], Loss: 0.1517\n",
      "Epoch [314/1000], Loss: 0.1619\n",
      "Epoch [315/1000], Loss: 0.1626\n",
      "Epoch [316/1000], Loss: 0.1583\n",
      "Epoch [317/1000], Loss: 0.1570\n",
      "Epoch [318/1000], Loss: 0.1607\n",
      "Epoch [319/1000], Loss: 0.1498\n",
      "Epoch [320/1000], Loss: 0.1455\n",
      "Epoch [321/1000], Loss: 0.1562\n",
      "Epoch [322/1000], Loss: 0.1642\n",
      "Epoch [323/1000], Loss: 0.1709\n",
      "Epoch [324/1000], Loss: 0.1527\n",
      "Epoch [325/1000], Loss: 0.1568\n",
      "Epoch [326/1000], Loss: 0.1444\n",
      "Epoch [327/1000], Loss: 0.1363\n",
      "Epoch [328/1000], Loss: 0.1537\n",
      "Epoch [329/1000], Loss: 0.1795\n",
      "Epoch [330/1000], Loss: 0.1655\n",
      "Epoch [331/1000], Loss: 0.1565\n",
      "Epoch [332/1000], Loss: 0.1725\n",
      "Epoch [333/1000], Loss: 0.1494\n",
      "Epoch [334/1000], Loss: 0.1406\n",
      "Epoch [335/1000], Loss: 0.1509\n",
      "Epoch [336/1000], Loss: 0.1510\n",
      "Epoch [337/1000], Loss: 0.1665\n",
      "Epoch [338/1000], Loss: 0.1426\n",
      "Epoch [339/1000], Loss: 0.1493\n",
      "Epoch [340/1000], Loss: 0.1532\n",
      "Epoch [341/1000], Loss: 0.1484\n",
      "Epoch [342/1000], Loss: 0.1381\n",
      "Epoch [343/1000], Loss: 0.1485\n",
      "Epoch [344/1000], Loss: 0.1463\n",
      "Epoch [345/1000], Loss: 0.1529\n",
      "Epoch [346/1000], Loss: 0.1506\n",
      "Epoch [347/1000], Loss: 0.1406\n",
      "Epoch [348/1000], Loss: 0.1445\n",
      "Epoch [349/1000], Loss: 0.1518\n",
      "Epoch [350/1000], Loss: 0.1436\n",
      "Epoch [351/1000], Loss: 0.1457\n",
      "Epoch [352/1000], Loss: 0.1477\n",
      "Epoch [353/1000], Loss: 0.1460\n",
      "Epoch [354/1000], Loss: 0.1474\n",
      "Epoch [355/1000], Loss: 0.1413\n",
      "Epoch [356/1000], Loss: 0.1557\n",
      "Epoch [357/1000], Loss: 0.1349\n",
      "Epoch [358/1000], Loss: 0.1432\n",
      "Epoch [359/1000], Loss: 0.1423\n",
      "Epoch [360/1000], Loss: 0.1427\n",
      "Epoch [361/1000], Loss: 0.1589\n",
      "Epoch [362/1000], Loss: 0.1400\n",
      "Epoch [363/1000], Loss: 0.1416\n",
      "Epoch [364/1000], Loss: 0.1459\n",
      "Epoch [365/1000], Loss: 0.1478\n",
      "Epoch [366/1000], Loss: 0.1460\n",
      "Epoch [367/1000], Loss: 0.1457\n",
      "Epoch [368/1000], Loss: 0.1555\n",
      "Epoch [369/1000], Loss: 0.1357\n",
      "Epoch [370/1000], Loss: 0.1495\n",
      "Epoch [371/1000], Loss: 0.1392\n",
      "Epoch [372/1000], Loss: 0.1382\n",
      "Epoch [373/1000], Loss: 0.1405\n",
      "Epoch [374/1000], Loss: 0.1523\n",
      "Epoch [375/1000], Loss: 0.1363\n",
      "Epoch [376/1000], Loss: 0.1343\n",
      "Epoch [377/1000], Loss: 0.1376\n",
      "Epoch [378/1000], Loss: 0.1382\n",
      "Epoch [379/1000], Loss: 0.1326\n",
      "Epoch [380/1000], Loss: 0.1449\n",
      "Epoch [381/1000], Loss: 0.1371\n",
      "Epoch [382/1000], Loss: 0.1448\n",
      "Epoch [383/1000], Loss: 0.1277\n",
      "Epoch [384/1000], Loss: 0.1355\n",
      "Epoch [385/1000], Loss: 0.1304\n",
      "Epoch [386/1000], Loss: 0.1354\n",
      "Epoch [387/1000], Loss: 0.1524\n",
      "Epoch [388/1000], Loss: 0.1294\n",
      "Epoch [389/1000], Loss: 0.1384\n",
      "Epoch [390/1000], Loss: 0.1329\n",
      "Epoch [391/1000], Loss: 0.1368\n",
      "Epoch [392/1000], Loss: 0.1261\n",
      "Epoch [393/1000], Loss: 0.1266\n",
      "Epoch [394/1000], Loss: 0.1319\n",
      "Epoch [395/1000], Loss: 0.1349\n",
      "Epoch [396/1000], Loss: 0.1300\n",
      "Epoch [397/1000], Loss: 0.1426\n",
      "Epoch [398/1000], Loss: 0.1304\n",
      "Epoch [399/1000], Loss: 0.1407\n",
      "Epoch [400/1000], Loss: 0.1297\n",
      "Epoch [401/1000], Loss: 0.1367\n",
      "Epoch [402/1000], Loss: 0.1348\n",
      "Epoch [403/1000], Loss: 0.1353\n",
      "Epoch [404/1000], Loss: 0.1376\n",
      "Epoch [405/1000], Loss: 0.1273\n",
      "Epoch [406/1000], Loss: 0.1309\n",
      "Epoch [407/1000], Loss: 0.1308\n",
      "Epoch [408/1000], Loss: 0.1356\n",
      "Epoch [409/1000], Loss: 0.1300\n",
      "Epoch [410/1000], Loss: 0.1340\n",
      "Epoch [411/1000], Loss: 0.1263\n",
      "Epoch [412/1000], Loss: 0.1211\n",
      "Epoch [413/1000], Loss: 0.1175\n",
      "Epoch [414/1000], Loss: 0.1221\n",
      "Epoch [415/1000], Loss: 0.1252\n",
      "Epoch [416/1000], Loss: 0.1295\n",
      "Epoch [417/1000], Loss: 0.1230\n",
      "Epoch [418/1000], Loss: 0.1184\n",
      "Epoch [419/1000], Loss: 0.1265\n",
      "Epoch [420/1000], Loss: 0.1412\n",
      "Epoch [421/1000], Loss: 0.1300\n",
      "Epoch [422/1000], Loss: 0.1253\n",
      "Epoch [423/1000], Loss: 0.1370\n",
      "Epoch [424/1000], Loss: 0.1335\n",
      "Epoch [425/1000], Loss: 0.1225\n",
      "Epoch [426/1000], Loss: 0.1191\n",
      "Epoch [427/1000], Loss: 0.1268\n",
      "Epoch [428/1000], Loss: 0.1337\n",
      "Epoch [429/1000], Loss: 0.1249\n",
      "Epoch [430/1000], Loss: 0.1268\n",
      "Epoch [431/1000], Loss: 0.1243\n",
      "Epoch [432/1000], Loss: 0.1218\n",
      "Epoch [433/1000], Loss: 0.1359\n",
      "Epoch [434/1000], Loss: 0.1141\n",
      "Epoch [435/1000], Loss: 0.1099\n",
      "Epoch [436/1000], Loss: 0.1221\n",
      "Epoch [437/1000], Loss: 0.1248\n",
      "Epoch [438/1000], Loss: 0.1401\n",
      "Epoch [439/1000], Loss: 0.1210\n",
      "Epoch [440/1000], Loss: 0.1122\n",
      "Epoch [441/1000], Loss: 0.1147\n",
      "Epoch [442/1000], Loss: 0.1121\n",
      "Epoch [443/1000], Loss: 0.1285\n",
      "Epoch [444/1000], Loss: 0.1214\n",
      "Epoch [445/1000], Loss: 0.1144\n",
      "Epoch [446/1000], Loss: 0.1115\n",
      "Epoch [447/1000], Loss: 0.1160\n",
      "Epoch [448/1000], Loss: 0.1194\n",
      "Epoch [449/1000], Loss: 0.1214\n",
      "Epoch [450/1000], Loss: 0.1181\n",
      "Epoch [451/1000], Loss: 0.1184\n",
      "Epoch [452/1000], Loss: 0.1182\n",
      "Epoch [453/1000], Loss: 0.1244\n",
      "Epoch [454/1000], Loss: 0.1217\n",
      "Epoch [455/1000], Loss: 0.1184\n",
      "Epoch [456/1000], Loss: 0.1395\n",
      "Epoch [457/1000], Loss: 0.1278\n",
      "Epoch [458/1000], Loss: 0.1157\n",
      "Epoch [459/1000], Loss: 0.1131\n",
      "Epoch [460/1000], Loss: 0.1095\n",
      "Epoch [461/1000], Loss: 0.1197\n",
      "Epoch [462/1000], Loss: 0.1118\n",
      "Epoch [463/1000], Loss: 0.1213\n",
      "Epoch [464/1000], Loss: 0.1208\n",
      "Epoch [465/1000], Loss: 0.1151\n",
      "Epoch [466/1000], Loss: 0.1181\n",
      "Epoch [467/1000], Loss: 0.1129\n",
      "Epoch [468/1000], Loss: 0.1234\n",
      "Epoch [469/1000], Loss: 0.1156\n",
      "Epoch [470/1000], Loss: 0.1160\n",
      "Epoch [471/1000], Loss: 0.1121\n",
      "Epoch [472/1000], Loss: 0.1111\n",
      "Epoch [473/1000], Loss: 0.1159\n",
      "Epoch [474/1000], Loss: 0.1172\n",
      "Epoch [475/1000], Loss: 0.1207\n",
      "Epoch [476/1000], Loss: 0.1186\n",
      "Epoch [477/1000], Loss: 0.1058\n",
      "Epoch [478/1000], Loss: 0.1147\n",
      "Epoch [479/1000], Loss: 0.1102\n",
      "Epoch [480/1000], Loss: 0.1225\n",
      "Epoch [481/1000], Loss: 0.1192\n",
      "Epoch [482/1000], Loss: 0.1162\n",
      "Epoch [483/1000], Loss: 0.1192\n",
      "Epoch [484/1000], Loss: 0.1100\n",
      "Epoch [485/1000], Loss: 0.1178\n",
      "Epoch [486/1000], Loss: 0.1132\n",
      "Epoch [487/1000], Loss: 0.1103\n",
      "Epoch [488/1000], Loss: 0.1187\n",
      "Epoch [489/1000], Loss: 0.1156\n",
      "Epoch [490/1000], Loss: 0.1239\n",
      "Epoch [491/1000], Loss: 0.1076\n",
      "Epoch [492/1000], Loss: 0.1154\n",
      "Epoch [493/1000], Loss: 0.1096\n",
      "Epoch [494/1000], Loss: 0.1089\n",
      "Epoch [495/1000], Loss: 0.1050\n",
      "Epoch [496/1000], Loss: 0.1174\n",
      "Epoch [497/1000], Loss: 0.1059\n",
      "Epoch [498/1000], Loss: 0.1115\n",
      "Epoch [499/1000], Loss: 0.1199\n",
      "Epoch [500/1000], Loss: 0.1182\n",
      "Epoch [501/1000], Loss: 0.1130\n",
      "Epoch [502/1000], Loss: 0.1099\n",
      "Epoch [503/1000], Loss: 0.1038\n",
      "Epoch [504/1000], Loss: 0.1083\n",
      "Epoch [505/1000], Loss: 0.1119\n",
      "Epoch [506/1000], Loss: 0.1162\n",
      "Epoch [507/1000], Loss: 0.1023\n",
      "Epoch [508/1000], Loss: 0.1088\n",
      "Epoch [509/1000], Loss: 0.1083\n",
      "Epoch [510/1000], Loss: 0.1166\n",
      "Epoch [511/1000], Loss: 0.1087\n",
      "Epoch [512/1000], Loss: 0.1003\n",
      "Epoch [513/1000], Loss: 0.1062\n",
      "Epoch [514/1000], Loss: 0.1066\n",
      "Epoch [515/1000], Loss: 0.0993\n",
      "Epoch [516/1000], Loss: 0.1114\n",
      "Epoch [517/1000], Loss: 0.0984\n",
      "Epoch [518/1000], Loss: 0.1021\n",
      "Epoch [519/1000], Loss: 0.1110\n",
      "Epoch [520/1000], Loss: 0.1087\n",
      "Epoch [521/1000], Loss: 0.1172\n",
      "Epoch [522/1000], Loss: 0.1047\n",
      "Epoch [523/1000], Loss: 0.1103\n",
      "Epoch [524/1000], Loss: 0.1058\n",
      "Epoch [525/1000], Loss: 0.1029\n",
      "Epoch [526/1000], Loss: 0.1127\n",
      "Epoch [527/1000], Loss: 0.1070\n",
      "Epoch [528/1000], Loss: 0.1143\n",
      "Epoch [529/1000], Loss: 0.1106\n",
      "Epoch [530/1000], Loss: 0.1115\n",
      "Epoch [531/1000], Loss: 0.1088\n",
      "Epoch [532/1000], Loss: 0.1045\n",
      "Epoch [533/1000], Loss: 0.1069\n",
      "Epoch [534/1000], Loss: 0.1104\n",
      "Epoch [535/1000], Loss: 0.1071\n",
      "Epoch [536/1000], Loss: 0.1000\n",
      "Epoch [537/1000], Loss: 0.1028\n",
      "Epoch [538/1000], Loss: 0.0976\n",
      "Epoch [539/1000], Loss: 0.1061\n",
      "Epoch [540/1000], Loss: 0.1021\n",
      "Epoch [541/1000], Loss: 0.1090\n",
      "Epoch [542/1000], Loss: 0.1035\n",
      "Epoch [543/1000], Loss: 0.1117\n",
      "Epoch [544/1000], Loss: 0.1113\n",
      "Epoch [545/1000], Loss: 0.1013\n",
      "Epoch [546/1000], Loss: 0.1004\n",
      "Epoch [547/1000], Loss: 0.1127\n",
      "Epoch [548/1000], Loss: 0.1131\n",
      "Epoch [549/1000], Loss: 0.0934\n",
      "Epoch [550/1000], Loss: 0.1011\n",
      "Epoch [551/1000], Loss: 0.1033\n",
      "Epoch [552/1000], Loss: 0.0993\n",
      "Epoch [553/1000], Loss: 0.1050\n",
      "Epoch [554/1000], Loss: 0.1018\n",
      "Epoch [555/1000], Loss: 0.1128\n",
      "Epoch [556/1000], Loss: 0.1022\n",
      "Epoch [557/1000], Loss: 0.1015\n",
      "Epoch [558/1000], Loss: 0.1034\n",
      "Epoch [559/1000], Loss: 0.0917\n",
      "Epoch [560/1000], Loss: 0.1015\n",
      "Epoch [561/1000], Loss: 0.0981\n",
      "Epoch [562/1000], Loss: 0.0899\n",
      "Epoch [563/1000], Loss: 0.1012\n",
      "Epoch [564/1000], Loss: 0.0929\n",
      "Epoch [565/1000], Loss: 0.0987\n",
      "Epoch [566/1000], Loss: 0.1037\n",
      "Epoch [567/1000], Loss: 0.0949\n",
      "Epoch [568/1000], Loss: 0.1025\n",
      "Epoch [569/1000], Loss: 0.0988\n",
      "Epoch [570/1000], Loss: 0.0871\n",
      "Epoch [571/1000], Loss: 0.0925\n",
      "Epoch [572/1000], Loss: 0.0932\n",
      "Epoch [573/1000], Loss: 0.0950\n",
      "Epoch [574/1000], Loss: 0.0996\n",
      "Epoch [575/1000], Loss: 0.1007\n",
      "Epoch [576/1000], Loss: 0.0912\n",
      "Epoch [577/1000], Loss: 0.0944\n",
      "Epoch [578/1000], Loss: 0.0991\n",
      "Epoch [579/1000], Loss: 0.0944\n",
      "Epoch [580/1000], Loss: 0.0971\n",
      "Epoch [581/1000], Loss: 0.0990\n",
      "Epoch [582/1000], Loss: 0.0987\n",
      "Epoch [583/1000], Loss: 0.0935\n",
      "Epoch [584/1000], Loss: 0.0943\n",
      "Epoch [585/1000], Loss: 0.0925\n",
      "Epoch [586/1000], Loss: 0.0969\n",
      "Epoch [587/1000], Loss: 0.0952\n",
      "Epoch [588/1000], Loss: 0.0965\n",
      "Epoch [589/1000], Loss: 0.0988\n",
      "Epoch [590/1000], Loss: 0.0944\n",
      "Epoch [591/1000], Loss: 0.0950\n",
      "Epoch [592/1000], Loss: 0.0973\n",
      "Epoch [593/1000], Loss: 0.0938\n",
      "Epoch [594/1000], Loss: 0.0997\n",
      "Epoch [595/1000], Loss: 0.0921\n",
      "Epoch [596/1000], Loss: 0.0953\n",
      "Epoch [597/1000], Loss: 0.0926\n",
      "Epoch [598/1000], Loss: 0.0952\n",
      "Epoch [599/1000], Loss: 0.0968\n",
      "Epoch [600/1000], Loss: 0.0931\n",
      "Epoch [601/1000], Loss: 0.1004\n",
      "Epoch [602/1000], Loss: 0.0946\n",
      "Epoch [603/1000], Loss: 0.0990\n",
      "Epoch [604/1000], Loss: 0.0941\n",
      "Epoch [605/1000], Loss: 0.0904\n",
      "Epoch [606/1000], Loss: 0.0828\n",
      "Epoch [607/1000], Loss: 0.0994\n",
      "Epoch [608/1000], Loss: 0.0889\n",
      "Epoch [609/1000], Loss: 0.0957\n",
      "Epoch [610/1000], Loss: 0.0866\n",
      "Epoch [611/1000], Loss: 0.0908\n",
      "Epoch [612/1000], Loss: 0.0877\n",
      "Epoch [613/1000], Loss: 0.0968\n",
      "Epoch [614/1000], Loss: 0.0878\n",
      "Epoch [615/1000], Loss: 0.0894\n",
      "Epoch [616/1000], Loss: 0.0894\n",
      "Epoch [617/1000], Loss: 0.0960\n",
      "Epoch [618/1000], Loss: 0.0885\n",
      "Epoch [619/1000], Loss: 0.0929\n",
      "Epoch [620/1000], Loss: 0.0990\n",
      "Epoch [621/1000], Loss: 0.0901\n",
      "Epoch [622/1000], Loss: 0.0922\n",
      "Epoch [623/1000], Loss: 0.0867\n",
      "Epoch [624/1000], Loss: 0.0930\n",
      "Epoch [625/1000], Loss: 0.0860\n",
      "Epoch [626/1000], Loss: 0.0902\n",
      "Epoch [627/1000], Loss: 0.0846\n",
      "Epoch [628/1000], Loss: 0.0969\n",
      "Epoch [629/1000], Loss: 0.0926\n",
      "Epoch [630/1000], Loss: 0.0849\n",
      "Epoch [631/1000], Loss: 0.0857\n",
      "Epoch [632/1000], Loss: 0.0855\n",
      "Epoch [633/1000], Loss: 0.0891\n",
      "Epoch [634/1000], Loss: 0.0889\n",
      "Epoch [635/1000], Loss: 0.0903\n",
      "Epoch [636/1000], Loss: 0.0898\n",
      "Epoch [637/1000], Loss: 0.0865\n",
      "Epoch [638/1000], Loss: 0.0903\n",
      "Epoch [639/1000], Loss: 0.0891\n",
      "Epoch [640/1000], Loss: 0.0847\n",
      "Epoch [641/1000], Loss: 0.0984\n",
      "Epoch [642/1000], Loss: 0.0837\n",
      "Epoch [643/1000], Loss: 0.0861\n",
      "Epoch [644/1000], Loss: 0.0860\n",
      "Epoch [645/1000], Loss: 0.0929\n",
      "Epoch [646/1000], Loss: 0.0920\n",
      "Epoch [647/1000], Loss: 0.0811\n",
      "Epoch [648/1000], Loss: 0.0913\n",
      "Epoch [649/1000], Loss: 0.0869\n",
      "Epoch [650/1000], Loss: 0.0878\n",
      "Epoch [651/1000], Loss: 0.0830\n",
      "Epoch [652/1000], Loss: 0.0884\n",
      "Epoch [653/1000], Loss: 0.0804\n",
      "Epoch [654/1000], Loss: 0.0895\n",
      "Epoch [655/1000], Loss: 0.0887\n",
      "Epoch [656/1000], Loss: 0.0951\n",
      "Epoch [657/1000], Loss: 0.0912\n",
      "Epoch [658/1000], Loss: 0.0891\n",
      "Epoch [659/1000], Loss: 0.0870\n",
      "Epoch [660/1000], Loss: 0.0853\n",
      "Epoch [661/1000], Loss: 0.0874\n",
      "Epoch [662/1000], Loss: 0.0890\n",
      "Epoch [663/1000], Loss: 0.0900\n",
      "Epoch [664/1000], Loss: 0.0848\n",
      "Epoch [665/1000], Loss: 0.0872\n",
      "Epoch [666/1000], Loss: 0.0897\n",
      "Epoch [667/1000], Loss: 0.0830\n",
      "Epoch [668/1000], Loss: 0.0882\n",
      "Epoch [669/1000], Loss: 0.0777\n",
      "Epoch [670/1000], Loss: 0.0885\n",
      "Epoch [671/1000], Loss: 0.0884\n",
      "Epoch [672/1000], Loss: 0.0864\n",
      "Epoch [673/1000], Loss: 0.0915\n",
      "Epoch [674/1000], Loss: 0.0855\n",
      "Epoch [675/1000], Loss: 0.0880\n",
      "Epoch [676/1000], Loss: 0.0767\n",
      "Epoch [677/1000], Loss: 0.0921\n",
      "Epoch [678/1000], Loss: 0.0788\n",
      "Epoch [679/1000], Loss: 0.0804\n",
      "Epoch [680/1000], Loss: 0.0837\n",
      "Epoch [681/1000], Loss: 0.0871\n",
      "Epoch [682/1000], Loss: 0.0823\n",
      "Epoch [683/1000], Loss: 0.0797\n",
      "Epoch [684/1000], Loss: 0.0799\n",
      "Epoch [685/1000], Loss: 0.0860\n",
      "Epoch [686/1000], Loss: 0.0841\n",
      "Epoch [687/1000], Loss: 0.0822\n",
      "Epoch [688/1000], Loss: 0.0775\n",
      "Epoch [689/1000], Loss: 0.0910\n",
      "Epoch [690/1000], Loss: 0.0818\n",
      "Epoch [691/1000], Loss: 0.0767\n",
      "Epoch [692/1000], Loss: 0.0803\n",
      "Epoch [693/1000], Loss: 0.0944\n",
      "Epoch [694/1000], Loss: 0.0863\n",
      "Epoch [695/1000], Loss: 0.0844\n",
      "Epoch [696/1000], Loss: 0.0813\n",
      "Epoch [697/1000], Loss: 0.0985\n",
      "Epoch [698/1000], Loss: 0.0814\n",
      "Epoch [699/1000], Loss: 0.0771\n",
      "Epoch [700/1000], Loss: 0.0781\n",
      "Epoch [701/1000], Loss: 0.0850\n",
      "Epoch [702/1000], Loss: 0.0803\n",
      "Epoch [703/1000], Loss: 0.0815\n",
      "Epoch [704/1000], Loss: 0.0866\n",
      "Epoch [705/1000], Loss: 0.0842\n",
      "Epoch [706/1000], Loss: 0.0784\n",
      "Epoch [707/1000], Loss: 0.0849\n",
      "Epoch [708/1000], Loss: 0.0811\n",
      "Epoch [709/1000], Loss: 0.0784\n",
      "Epoch [710/1000], Loss: 0.0838\n",
      "Epoch [711/1000], Loss: 0.0868\n",
      "Epoch [712/1000], Loss: 0.0781\n",
      "Epoch [713/1000], Loss: 0.0737\n",
      "Epoch [714/1000], Loss: 0.0980\n",
      "Epoch [715/1000], Loss: 0.0880\n",
      "Epoch [716/1000], Loss: 0.0811\n",
      "Epoch [717/1000], Loss: 0.0784\n",
      "Epoch [718/1000], Loss: 0.0785\n",
      "Epoch [719/1000], Loss: 0.0808\n",
      "Epoch [720/1000], Loss: 0.0906\n",
      "Epoch [721/1000], Loss: 0.0786\n",
      "Epoch [722/1000], Loss: 0.0784\n",
      "Epoch [723/1000], Loss: 0.0796\n",
      "Epoch [724/1000], Loss: 0.0830\n",
      "Epoch [725/1000], Loss: 0.0785\n",
      "Epoch [726/1000], Loss: 0.0776\n",
      "Epoch [727/1000], Loss: 0.0837\n",
      "Epoch [728/1000], Loss: 0.0842\n",
      "Epoch [729/1000], Loss: 0.0837\n",
      "Epoch [730/1000], Loss: 0.0809\n",
      "Epoch [731/1000], Loss: 0.0806\n",
      "Epoch [732/1000], Loss: 0.0786\n",
      "Epoch [733/1000], Loss: 0.0789\n",
      "Epoch [734/1000], Loss: 0.0803\n",
      "Epoch [735/1000], Loss: 0.0752\n",
      "Epoch [736/1000], Loss: 0.0820\n",
      "Epoch [737/1000], Loss: 0.0754\n",
      "Epoch [738/1000], Loss: 0.0806\n",
      "Epoch [739/1000], Loss: 0.0776\n",
      "Epoch [740/1000], Loss: 0.0749\n",
      "Epoch [741/1000], Loss: 0.0729\n",
      "Epoch [742/1000], Loss: 0.0756\n",
      "Epoch [743/1000], Loss: 0.0768\n",
      "Epoch [744/1000], Loss: 0.0738\n",
      "Epoch [745/1000], Loss: 0.0820\n",
      "Epoch [746/1000], Loss: 0.0723\n",
      "Epoch [747/1000], Loss: 0.0781\n",
      "Epoch [748/1000], Loss: 0.0749\n",
      "Epoch [749/1000], Loss: 0.0728\n",
      "Epoch [750/1000], Loss: 0.0710\n",
      "Epoch [751/1000], Loss: 0.0739\n",
      "Epoch [752/1000], Loss: 0.0731\n",
      "Epoch [753/1000], Loss: 0.0822\n",
      "Epoch [754/1000], Loss: 0.0737\n",
      "Epoch [755/1000], Loss: 0.0853\n",
      "Epoch [756/1000], Loss: 0.0806\n",
      "Epoch [757/1000], Loss: 0.0750\n",
      "Epoch [758/1000], Loss: 0.0845\n",
      "Epoch [759/1000], Loss: 0.0720\n",
      "Epoch [760/1000], Loss: 0.0733\n",
      "Epoch [761/1000], Loss: 0.0778\n",
      "Epoch [762/1000], Loss: 0.0782\n",
      "Epoch [763/1000], Loss: 0.0769\n",
      "Epoch [764/1000], Loss: 0.0740\n",
      "Epoch [765/1000], Loss: 0.0812\n",
      "Epoch [766/1000], Loss: 0.0726\n",
      "Epoch [767/1000], Loss: 0.0792\n",
      "Epoch [768/1000], Loss: 0.0729\n",
      "Epoch [769/1000], Loss: 0.0822\n",
      "Epoch [770/1000], Loss: 0.0691\n",
      "Epoch [771/1000], Loss: 0.0732\n",
      "Epoch [772/1000], Loss: 0.0794\n",
      "Epoch [773/1000], Loss: 0.0789\n",
      "Epoch [774/1000], Loss: 0.0751\n",
      "Epoch [775/1000], Loss: 0.0676\n",
      "Epoch [776/1000], Loss: 0.0711\n",
      "Epoch [777/1000], Loss: 0.0764\n",
      "Epoch [778/1000], Loss: 0.0737\n",
      "Epoch [779/1000], Loss: 0.0767\n",
      "Epoch [780/1000], Loss: 0.0735\n",
      "Epoch [781/1000], Loss: 0.0764\n",
      "Epoch [782/1000], Loss: 0.0780\n",
      "Epoch [783/1000], Loss: 0.0753\n",
      "Epoch [784/1000], Loss: 0.0714\n",
      "Epoch [785/1000], Loss: 0.0816\n",
      "Epoch [786/1000], Loss: 0.0760\n",
      "Epoch [787/1000], Loss: 0.0728\n",
      "Epoch [788/1000], Loss: 0.0738\n",
      "Epoch [789/1000], Loss: 0.0750\n",
      "Epoch [790/1000], Loss: 0.0740\n",
      "Epoch [791/1000], Loss: 0.0753\n",
      "Epoch [792/1000], Loss: 0.0729\n",
      "Epoch [793/1000], Loss: 0.0759\n",
      "Epoch [794/1000], Loss: 0.0769\n",
      "Epoch [795/1000], Loss: 0.0776\n",
      "Epoch [796/1000], Loss: 0.0767\n",
      "Epoch [797/1000], Loss: 0.0698\n",
      "Epoch [798/1000], Loss: 0.0695\n",
      "Epoch [799/1000], Loss: 0.0735\n",
      "Epoch [800/1000], Loss: 0.0758\n",
      "Epoch [801/1000], Loss: 0.0748\n",
      "Epoch [802/1000], Loss: 0.0769\n",
      "Epoch [803/1000], Loss: 0.0735\n",
      "Epoch [804/1000], Loss: 0.0759\n",
      "Epoch [805/1000], Loss: 0.0718\n",
      "Epoch [806/1000], Loss: 0.0697\n",
      "Epoch [807/1000], Loss: 0.0748\n",
      "Epoch [808/1000], Loss: 0.0730\n",
      "Epoch [809/1000], Loss: 0.0753\n",
      "Epoch [810/1000], Loss: 0.0718\n",
      "Epoch [811/1000], Loss: 0.0729\n",
      "Epoch [812/1000], Loss: 0.0722\n",
      "Epoch [813/1000], Loss: 0.0737\n",
      "Epoch [814/1000], Loss: 0.0732\n",
      "Epoch [815/1000], Loss: 0.0747\n",
      "Epoch [816/1000], Loss: 0.0709\n",
      "Epoch [817/1000], Loss: 0.0759\n",
      "Epoch [818/1000], Loss: 0.0696\n",
      "Epoch [819/1000], Loss: 0.0684\n",
      "Epoch [820/1000], Loss: 0.0758\n",
      "Epoch [821/1000], Loss: 0.0667\n",
      "Epoch [822/1000], Loss: 0.0765\n",
      "Epoch [823/1000], Loss: 0.0794\n",
      "Epoch [824/1000], Loss: 0.0738\n",
      "Epoch [825/1000], Loss: 0.0720\n",
      "Epoch [826/1000], Loss: 0.0755\n",
      "Epoch [827/1000], Loss: 0.0673\n",
      "Epoch [828/1000], Loss: 0.0701\n",
      "Epoch [829/1000], Loss: 0.0754\n",
      "Epoch [830/1000], Loss: 0.0724\n",
      "Epoch [831/1000], Loss: 0.0737\n",
      "Epoch [832/1000], Loss: 0.0735\n",
      "Epoch [833/1000], Loss: 0.0687\n",
      "Epoch [834/1000], Loss: 0.0714\n",
      "Epoch [835/1000], Loss: 0.0686\n",
      "Epoch [836/1000], Loss: 0.0689\n",
      "Epoch [837/1000], Loss: 0.0725\n",
      "Epoch [838/1000], Loss: 0.0711\n",
      "Epoch [839/1000], Loss: 0.0678\n",
      "Epoch [840/1000], Loss: 0.0715\n",
      "Epoch [841/1000], Loss: 0.0721\n",
      "Epoch [842/1000], Loss: 0.0768\n",
      "Epoch [843/1000], Loss: 0.0704\n",
      "Epoch [844/1000], Loss: 0.0736\n",
      "Epoch [845/1000], Loss: 0.0659\n",
      "Epoch [846/1000], Loss: 0.0741\n",
      "Epoch [847/1000], Loss: 0.0703\n",
      "Epoch [848/1000], Loss: 0.0679\n",
      "Epoch [849/1000], Loss: 0.0678\n",
      "Epoch [850/1000], Loss: 0.0709\n",
      "Epoch [851/1000], Loss: 0.0725\n",
      "Epoch [852/1000], Loss: 0.0775\n",
      "Epoch [853/1000], Loss: 0.0662\n",
      "Epoch [854/1000], Loss: 0.0701\n",
      "Epoch [855/1000], Loss: 0.0644\n",
      "Epoch [856/1000], Loss: 0.0706\n",
      "Epoch [857/1000], Loss: 0.0696\n",
      "Epoch [858/1000], Loss: 0.0646\n",
      "Epoch [859/1000], Loss: 0.0667\n",
      "Epoch [860/1000], Loss: 0.0691\n",
      "Epoch [861/1000], Loss: 0.0697\n",
      "Epoch [862/1000], Loss: 0.0671\n",
      "Epoch [863/1000], Loss: 0.0702\n",
      "Epoch [864/1000], Loss: 0.0701\n",
      "Epoch [865/1000], Loss: 0.0672\n",
      "Epoch [866/1000], Loss: 0.0683\n",
      "Epoch [867/1000], Loss: 0.0734\n",
      "Epoch [868/1000], Loss: 0.0740\n",
      "Epoch [869/1000], Loss: 0.0668\n",
      "Epoch [870/1000], Loss: 0.0673\n",
      "Epoch [871/1000], Loss: 0.0680\n",
      "Epoch [872/1000], Loss: 0.0678\n",
      "Epoch [873/1000], Loss: 0.0648\n",
      "Epoch [874/1000], Loss: 0.0693\n",
      "Epoch [875/1000], Loss: 0.0655\n",
      "Epoch [876/1000], Loss: 0.0669\n",
      "Epoch [877/1000], Loss: 0.0682\n",
      "Epoch [878/1000], Loss: 0.0642\n",
      "Epoch [879/1000], Loss: 0.0702\n",
      "Epoch [880/1000], Loss: 0.0671\n",
      "Epoch [881/1000], Loss: 0.0675\n",
      "Epoch [882/1000], Loss: 0.0716\n",
      "Epoch [883/1000], Loss: 0.0667\n",
      "Epoch [884/1000], Loss: 0.0633\n",
      "Epoch [885/1000], Loss: 0.0657\n",
      "Epoch [886/1000], Loss: 0.0649\n",
      "Epoch [887/1000], Loss: 0.0633\n",
      "Epoch [888/1000], Loss: 0.0694\n",
      "Epoch [889/1000], Loss: 0.0716\n",
      "Epoch [890/1000], Loss: 0.0677\n",
      "Epoch [891/1000], Loss: 0.0650\n",
      "Epoch [892/1000], Loss: 0.0685\n",
      "Epoch [893/1000], Loss: 0.0654\n",
      "Epoch [894/1000], Loss: 0.0612\n",
      "Epoch [895/1000], Loss: 0.0683\n",
      "Epoch [896/1000], Loss: 0.0646\n",
      "Epoch [897/1000], Loss: 0.0678\n",
      "Epoch [898/1000], Loss: 0.0665\n",
      "Epoch [899/1000], Loss: 0.0679\n",
      "Epoch [900/1000], Loss: 0.0682\n",
      "Epoch [901/1000], Loss: 0.0647\n",
      "Epoch [902/1000], Loss: 0.0643\n",
      "Epoch [903/1000], Loss: 0.0708\n",
      "Epoch [904/1000], Loss: 0.0733\n",
      "Epoch [905/1000], Loss: 0.0665\n",
      "Epoch [906/1000], Loss: 0.0682\n",
      "Epoch [907/1000], Loss: 0.0692\n",
      "Epoch [908/1000], Loss: 0.0640\n",
      "Epoch [909/1000], Loss: 0.0677\n",
      "Epoch [910/1000], Loss: 0.0706\n",
      "Epoch [911/1000], Loss: 0.0703\n",
      "Epoch [912/1000], Loss: 0.0738\n",
      "Epoch [913/1000], Loss: 0.0631\n",
      "Epoch [914/1000], Loss: 0.0650\n",
      "Epoch [915/1000], Loss: 0.0618\n",
      "Epoch [916/1000], Loss: 0.0690\n",
      "Epoch [917/1000], Loss: 0.0616\n",
      "Epoch [918/1000], Loss: 0.0641\n",
      "Epoch [919/1000], Loss: 0.0595\n",
      "Epoch [920/1000], Loss: 0.0658\n",
      "Epoch [921/1000], Loss: 0.0620\n",
      "Epoch [922/1000], Loss: 0.0624\n",
      "Epoch [923/1000], Loss: 0.0704\n",
      "Epoch [924/1000], Loss: 0.0630\n",
      "Epoch [925/1000], Loss: 0.0650\n",
      "Epoch [926/1000], Loss: 0.0641\n",
      "Epoch [927/1000], Loss: 0.0671\n",
      "Epoch [928/1000], Loss: 0.0602\n",
      "Epoch [929/1000], Loss: 0.0668\n",
      "Epoch [930/1000], Loss: 0.0667\n",
      "Epoch [931/1000], Loss: 0.0629\n",
      "Epoch [932/1000], Loss: 0.0658\n",
      "Epoch [933/1000], Loss: 0.0654\n",
      "Epoch [934/1000], Loss: 0.0662\n",
      "Epoch [935/1000], Loss: 0.0653\n",
      "Epoch [936/1000], Loss: 0.0630\n",
      "Epoch [937/1000], Loss: 0.0751\n",
      "Epoch [938/1000], Loss: 0.0657\n",
      "Epoch [939/1000], Loss: 0.0623\n",
      "Epoch [940/1000], Loss: 0.0639\n",
      "Epoch [941/1000], Loss: 0.0652\n",
      "Epoch [942/1000], Loss: 0.0614\n",
      "Epoch [943/1000], Loss: 0.0637\n",
      "Epoch [944/1000], Loss: 0.0651\n",
      "Epoch [945/1000], Loss: 0.0628\n",
      "Epoch [946/1000], Loss: 0.0646\n",
      "Epoch [947/1000], Loss: 0.0639\n",
      "Epoch [948/1000], Loss: 0.0661\n",
      "Epoch [949/1000], Loss: 0.0683\n",
      "Epoch [950/1000], Loss: 0.0622\n",
      "Epoch [951/1000], Loss: 0.0627\n",
      "Epoch [952/1000], Loss: 0.0650\n",
      "Epoch [953/1000], Loss: 0.0644\n",
      "Epoch [954/1000], Loss: 0.0682\n",
      "Epoch [955/1000], Loss: 0.0622\n",
      "Epoch [956/1000], Loss: 0.0630\n",
      "Epoch [957/1000], Loss: 0.0620\n",
      "Epoch [958/1000], Loss: 0.0640\n",
      "Epoch [959/1000], Loss: 0.0662\n",
      "Epoch [960/1000], Loss: 0.0651\n",
      "Epoch [961/1000], Loss: 0.0628\n",
      "Epoch [962/1000], Loss: 0.0607\n",
      "Epoch [963/1000], Loss: 0.0613\n",
      "Epoch [964/1000], Loss: 0.0665\n",
      "Epoch [965/1000], Loss: 0.0680\n",
      "Epoch [966/1000], Loss: 0.0640\n",
      "Epoch [967/1000], Loss: 0.0652\n",
      "Epoch [968/1000], Loss: 0.0634\n",
      "Epoch [969/1000], Loss: 0.0645\n",
      "Epoch [970/1000], Loss: 0.0667\n",
      "Epoch [971/1000], Loss: 0.0650\n",
      "Epoch [972/1000], Loss: 0.0594\n",
      "Epoch [973/1000], Loss: 0.0641\n",
      "Epoch [974/1000], Loss: 0.0647\n",
      "Epoch [975/1000], Loss: 0.0639\n",
      "Epoch [976/1000], Loss: 0.0641\n",
      "Epoch [977/1000], Loss: 0.0612\n",
      "Epoch [978/1000], Loss: 0.0647\n",
      "Epoch [979/1000], Loss: 0.0627\n",
      "Epoch [980/1000], Loss: 0.0634\n",
      "Epoch [981/1000], Loss: 0.0570\n",
      "Epoch [982/1000], Loss: 0.0601\n",
      "Epoch [983/1000], Loss: 0.0604\n",
      "Epoch [984/1000], Loss: 0.0653\n",
      "Epoch [985/1000], Loss: 0.0675\n",
      "Epoch [986/1000], Loss: 0.0614\n",
      "Epoch [987/1000], Loss: 0.0652\n",
      "Epoch [988/1000], Loss: 0.0605\n",
      "Epoch [989/1000], Loss: 0.0613\n",
      "Epoch [990/1000], Loss: 0.0634\n",
      "Epoch [991/1000], Loss: 0.0586\n",
      "Epoch [992/1000], Loss: 0.0641\n",
      "Epoch [993/1000], Loss: 0.0629\n",
      "Epoch [994/1000], Loss: 0.0629\n",
      "Epoch [995/1000], Loss: 0.0589\n",
      "Epoch [996/1000], Loss: 0.0633\n",
      "Epoch [997/1000], Loss: 0.0622\n",
      "Epoch [998/1000], Loss: 0.0611\n",
      "Epoch [999/1000], Loss: 0.0556\n",
      "Epoch [1000/1000], Loss: 0.0580\n",
      "torch.Size([3, 16, 11])\n"
     ]
    }
   ],
   "source": [
    "# 初始化DataLoader来读取数据集并创建训练集、验证集和测试集\n",
    "seq_len = 8\n",
    "pre_len = 16\n",
    "data_loader = DataCreator(batch_size=32, seq_len=seq_len, pred_len=pre_len)\n",
    "\n",
    "train_inputs, train_labels = data_loader.get_train()\n",
    "val_inputs, val_labels = data_loader.get_val()\n",
    "test_inputs, test_labels = data_loader.get_test()\n",
    "\n",
    "# 初始化TSMixer模型\n",
    "model = TSMixer(\n",
    "    input_size = data_loader.n_feature,\n",
    "    seq_len = seq_len,\n",
    "    pred_len=pre_len,\n",
    "    n_block=8,\n",
    "    ff_dim=64,\n",
    "    dropout_proba=0.2\n",
    ")\n",
    "model.to(device)\n",
    "\n",
    "# 训练模型\n",
    "'''\n",
    "使用学习率为 1e-4 的 Adam 优化器;\n",
    "实施检查点来保存最佳模型;\n",
    "在连续三个时期没有改进的情况下提前停止以停止训练。\n",
    "'''\n",
    "torch.manual_seed(42)\n",
    "\n",
    "criterion = nn.MSELoss()\n",
    "optimizer = optim.Adam(model.parameters(), lr=0.001)\n",
    "\n",
    "# model.compile(optimizer, loss='mse', metrics=['mae'])\n",
    "\n",
    "# checkpoint_callback = tf.keras.callbacks.ModelCheckpoint(\n",
    "#     filepath='tsmixer_checkpoints/',\n",
    "#     vebose=1,\n",
    "#     save_best_only=True,\n",
    "#     save_weights_only=True\n",
    "# )\n",
    "\n",
    "# early_stop_callback = tf.keras.callbacks.EarlyStopping(\n",
    "#     monitor='val_loss',\n",
    "#     patience=3\n",
    "# )\n",
    "\n",
    "# history = model.fit(\n",
    "#     train_data,\n",
    "#     epochs= 30,\n",
    "#     validation_data=val_data,\n",
    "#     callbacks=[checkpoint_callback, early_stop_callback]\n",
    "# )\n",
    "\n",
    "# 训练模型\n",
    "epochs = 1000\n",
    "train_loss = []\n",
    "for epoch in range(epochs):\n",
    "    optimizer.zero_grad()\n",
    "    epoch_loss = []\n",
    "    for inputs_list, label_list in zip(train_inputs, train_labels):\n",
    "        # print(len(inputs_list), len(label_list))\n",
    "        inputs_tensor, label_tensor = inputs_list[0].to(device), label_list[0].to(device)\n",
    "        output = model(inputs_tensor)\n",
    "        loss = criterion(label_tensor, output)\n",
    "        loss.backward()\n",
    "        optimizer.step()\n",
    "        epoch_loss.append(loss.item())\n",
    "    print('Epoch [{}/{}], Loss: {:.4f}'.format(epoch+1, epochs, np.mean(epoch_loss)))\n",
    "    train_loss.extend(epoch_loss)\n",
    "\n",
    "model.eval()\n",
    "\n",
    "# # 在模型训练完毕后加载检查点回调保存的最佳模型\n",
    "# best_epoch = np.argmin(history.history['val_loss'])\n",
    "\n",
    "# model.load_weights(\"tsmixer_checkpoints/\")\n",
    "\n",
    "# # 访问96个时间步长的最后一个窗口的预测（已按比例缩放）\n",
    "# predictions = model.predict(test_inputs)\n",
    "\n",
    "# scaled_preds = predictions[-1,:,:]\n",
    "\n",
    "# 使用模型进行预测\n",
    "'''\n",
    "对下一秒的预测和对后面第16秒的预测在数值上没有任何区别\n",
    "'''\n",
    "scaled_preds = []\n",
    "for inputs_list, label_list in zip(test_inputs, test_labels):\n",
    "    inputs_tensor, label_tensor = inputs_list[0].to(device), label_list[0].to(device)\n",
    "    output = model(inputs_tensor)\n",
    "    # print(output.size())\n",
    "    scaled_preds.extend(output.detach().cpu().numpy())\n",
    "\n",
    "# 将缩放和逆变换的预测存储在 DataFrame 中，以评估性能并稍后绘制预测\n",
    "cols = ['ALT', 'HDOT', 'VT', 'ALPHA', 'GAMMA', 'PITCH', 'GREF', 'WXDT', 'WZ', 'VDOT', 'ALRT']\n",
    "\n",
    "scaled_preds = np.array(scaled_preds)\n",
    "scaled_preds = scaled_preds.reshape(-1, scaled_preds.shape[-1])\n",
    "scaled_preds_df = pd.DataFrame(scaled_preds)\n",
    "scaled_preds_df.columns = cols\n",
    "\n",
    "preds = data_loader.inverse_transform(scaled_preds)\n",
    "\n",
    "preds_df = pd.DataFrame(preds)\n",
    "preds_df.columns = cols"
   ]
  },
  {
   "cell_type": "code",
   "execution_count": 106,
   "metadata": {},
   "outputs": [
    {
     "data": {
      "application/vnd.plotly.v1+json": {
       "config": {
        "plotlyServerURL": "https://plot.ly"
       },
       "data": [
        {
         "line": {
          "color": "blue"
         },
         "mode": "lines",
         "name": "loss",
         "type": "scatter",
         "y": [
          5.120743751525879,
          4.892877578735352,
          4.457159519195557,
          4.196892738342285,
          3.9126365184783936,
          3.77420711517334,
          3.5472571849823,
          3.3608410358428955,
          3.3041248321533203,
          3.103182792663574,
          2.917754888534546,
          2.5251364707946777,
          2.6093251705169678,
          2.6912291049957275,
          2.4716293811798096,
          2.299112319946289,
          2.213667154312134,
          2.211521625518799,
          2.0670619010925293,
          1.9523756504058838,
          2.017655849456787,
          1.8151441812515259,
          1.8338385820388794,
          1.7380821704864502,
          1.71016263961792,
          1.6218010187149048,
          1.6195701360702515,
          1.6181375980377197,
          1.5551199913024902,
          1.5582339763641357,
          1.5195817947387695,
          1.4278607368469238,
          1.5067301988601685,
          1.4103584289550781,
          1.413661003112793,
          1.2923099994659424,
          1.2914663553237915,
          1.2652292251586914,
          1.267976999282837,
          1.242475986480713,
          1.1944491863250732,
          1.1804167032241821,
          1.1229686737060547,
          1.1494128704071045,
          1.0954948663711548,
          1.0894497632980347,
          1.0617014169692993,
          1.0211132764816284,
          1.0472488403320312,
          1.0269826650619507,
          1.010630488395691,
          0.925445556640625,
          0.9789626002311707,
          0.9429754614830017,
          0.8888720870018005,
          0.9060909152030945,
          0.8669475317001343,
          0.8953250646591187,
          0.8748162984848022,
          0.8308221697807312,
          0.8220375180244446,
          0.8301906585693359,
          0.8080931305885315,
          0.816922128200531,
          0.7588880658149719,
          0.7497669458389282,
          0.8000015020370483,
          0.7702875733375549,
          0.7410469651222229,
          0.7585651874542236,
          0.7431619763374329,
          0.7104523181915283,
          0.7474884390830994,
          0.6795046329498291,
          0.6733537316322327,
          0.6839102506637573,
          0.657953143119812,
          0.6970988512039185,
          0.6979930400848389,
          0.6299247145652771,
          0.6966058015823364,
          0.6396582722663879,
          0.5945847034454346,
          0.6458507776260376,
          0.5860931873321533,
          0.5883095264434814,
          0.612048327922821,
          0.6060086488723755,
          0.6229164600372314,
          0.5842229127883911,
          0.5781964659690857,
          0.5778638124465942,
          0.5591056942939758,
          0.5767999291419983,
          0.5598403215408325,
          0.5534601211547852,
          0.555610179901123,
          0.5236057043075562,
          0.5209254026412964,
          0.5461907386779785,
          0.5071698427200317,
          0.5490331649780273,
          0.5333645343780518,
          0.5296456813812256,
          0.5382370948791504,
          0.48000627756118774,
          0.48041972517967224,
          0.4748777449131012,
          0.48226213455200195,
          0.4908454120159149,
          0.4761631488800049,
          0.4526306688785553,
          0.45627424120903015,
          0.4593217670917511,
          0.4526327848434448,
          0.4552147090435028,
          0.43795016407966614,
          0.45458343625068665,
          0.44873732328414917,
          0.48912641406059265,
          0.44981053471565247,
          0.44307976961135864,
          0.4199269711971283,
          0.41493892669677734,
          0.4024563431739807,
          0.41147753596305847,
          0.45068782567977905,
          0.41035109758377075,
          0.4324459135532379,
          0.4065876603126526,
          0.4017164409160614,
          0.40279045701026917,
          0.39166760444641113,
          0.38763150572776794,
          0.40037843585014343,
          0.36740338802337646,
          0.3986836373806,
          0.36410415172576904,
          0.3730970025062561,
          0.3640454113483429,
          0.3582741320133209,
          0.3990108072757721,
          0.36813390254974365,
          0.3621261417865753,
          0.3827202022075653,
          0.36631661653518677,
          0.355103075504303,
          0.35629040002822876,
          0.3644895553588867,
          0.36406028270721436,
          0.3598489463329315,
          0.35587242245674133,
          0.3532369136810303,
          0.3355780839920044,
          0.3352185785770416,
          0.3223382532596588,
          0.33192211389541626,
          0.31424275040626526,
          0.3490685820579529,
          0.3486558198928833,
          0.34277966618537903,
          0.3334481716156006,
          0.31947314739227295,
          0.3118492662906647,
          0.3219064176082611,
          0.3148927092552185,
          0.31613218784332275,
          0.3003946840763092,
          0.3032326400279999,
          0.294819712638855,
          0.3031494915485382,
          0.29510265588760376,
          0.31904664635658264,
          0.3000352680683136,
          0.31675484776496887,
          0.28081080317497253,
          0.29451441764831543,
          0.30048567056655884,
          0.28082892298698425,
          0.26435795426368713,
          0.30282914638519287,
          0.2771410644054413,
          0.27731063961982727,
          0.2951747477054596,
          0.283949613571167,
          0.2924118936061859,
          0.2847709655761719,
          0.28633084893226624,
          0.28526151180267334,
          0.2784201204776764,
          0.2523048520088196,
          0.2573603093624115,
          0.2712392807006836,
          0.24955753982067108,
          0.25995561480522156,
          0.2873854637145996,
          0.24831625819206238,
          0.2554619312286377,
          0.2786329686641693,
          0.27746692299842834,
          0.24574542045593262,
          0.2524607479572296,
          0.24972125887870789,
          0.23879538476467133,
          0.23838432133197784,
          0.2506013810634613,
          0.23281358182430267,
          0.2585550844669342,
          0.2544501721858978,
          0.24292171001434326,
          0.23264016211032867,
          0.22707775235176086,
          0.2339668720960617,
          0.2286909818649292,
          0.24467916786670685,
          0.2215852439403534,
          0.2334667593240738,
          0.23489098250865936,
          0.2258056104183197,
          0.231588214635849,
          0.22183570265769958,
          0.21991164982318878,
          0.23923027515411377,
          0.23389111459255219,
          0.22741687297821045,
          0.2311403751373291,
          0.2081851363182068,
          0.2288019359111786,
          0.21960331499576569,
          0.21971675753593445,
          0.2059531956911087,
          0.22391214966773987,
          0.21564672887325287,
          0.2410232424736023,
          0.2187691330909729,
          0.22348418831825256,
          0.212836354970932,
          0.21292248368263245,
          0.2154122143983841,
          0.2339107245206833,
          0.21319784224033356,
          0.221788227558136,
          0.2102440744638443,
          0.2140217274427414,
          0.23032470047473907,
          0.19772911071777344,
          0.1894320547580719,
          0.19442470371723175,
          0.18975849449634552,
          0.20697973668575287,
          0.20961768925189972,
          0.21987329423427582,
          0.1918652057647705,
          0.20889228582382202,
          0.22486791014671326,
          0.2145506739616394,
          0.2042025923728943,
          0.19578035175800323,
          0.18890683352947235,
          0.19528283178806305,
          0.18422652781009674,
          0.1800803244113922,
          0.1924036145210266,
          0.1926121562719345,
          0.20845316350460052,
          0.2060907483100891,
          0.19255581498146057,
          0.18448825180530548,
          0.18534594774246216,
          0.19411975145339966,
          0.18830659985542297,
          0.190354585647583,
          0.1796027272939682,
          0.17555052042007446,
          0.1800648272037506,
          0.1711817979812622,
          0.181305393576622,
          0.18510375916957855,
          0.18457090854644775,
          0.17144539952278137,
          0.1821517050266266,
          0.1713489592075348,
          0.17881038784980774,
          0.1793229877948761,
          0.17953737080097198,
          0.1913059949874878,
          0.17197012901306152,
          0.1786767840385437,
          0.16562843322753906,
          0.171142578125,
          0.16094546020030975,
          0.18202102184295654,
          0.18379923701286316,
          0.18336093425750732,
          0.1664026826620102,
          0.17334170639514923,
          0.1638881266117096,
          0.15924973785877228,
          0.15297384560108185,
          0.16721007227897644,
          0.17499826848506927,
          0.17728987336158752,
          0.17642053961753845,
          0.1624922752380371,
          0.17057117819786072,
          0.16377350687980652,
          0.181807741522789,
          0.16799026727676392,
          0.1591896414756775,
          0.1604517698287964,
          0.15873995423316956,
          0.15029007196426392,
          0.15174968540668488,
          0.1619243025779724,
          0.16261497139930725,
          0.15832871198654175,
          0.15702003240585327,
          0.16067887842655182,
          0.14979368448257446,
          0.14547888934612274,
          0.15617944300174713,
          0.16421173512935638,
          0.17090006172657013,
          0.15266811847686768,
          0.15683601796627045,
          0.14443808794021606,
          0.13633513450622559,
          0.1536543369293213,
          0.17949815094470978,
          0.1654759794473648,
          0.15650099515914917,
          0.1725315898656845,
          0.14940203726291656,
          0.14058847725391388,
          0.1508851796388626,
          0.151038259267807,
          0.16651971638202667,
          0.1426408588886261,
          0.1493188440799713,
          0.15322594344615936,
          0.1483668088912964,
          0.13812921941280365,
          0.14854609966278076,
          0.14633402228355408,
          0.15292848646640778,
          0.15055415034294128,
          0.14057378470897675,
          0.1444673240184784,
          0.1518319696187973,
          0.14360648393630981,
          0.145737886428833,
          0.14772765338420868,
          0.14600718021392822,
          0.14739875495433807,
          0.14133313298225403,
          0.1556897908449173,
          0.13494561612606049,
          0.14321249723434448,
          0.14231514930725098,
          0.14273013174533844,
          0.1589186191558838,
          0.14002220332622528,
          0.14156551659107208,
          0.1459432989358902,
          0.14784975349903107,
          0.14599937200546265,
          0.14566335082054138,
          0.15551580488681793,
          0.135732039809227,
          0.14949668943881989,
          0.13916915655136108,
          0.1381741464138031,
          0.14052316546440125,
          0.15225858986377716,
          0.1362627148628235,
          0.1343083679676056,
          0.13763420283794403,
          0.1382291167974472,
          0.13259536027908325,
          0.1449393332004547,
          0.13705947995185852,
          0.14476290345191956,
          0.12769272923469543,
          0.13549835979938507,
          0.1304330974817276,
          0.13542675971984863,
          0.15244841575622559,
          0.12936577200889587,
          0.1384260207414627,
          0.13289423286914825,
          0.13682103157043457,
          0.12609925866127014,
          0.12658683955669403,
          0.13186706602573395,
          0.13490761816501617,
          0.13001422584056854,
          0.14261004328727722,
          0.13041001558303833,
          0.14074479043483734,
          0.12966132164001465,
          0.13671627640724182,
          0.13478675484657288,
          0.13525472581386566,
          0.13755151629447937,
          0.1272905021905899,
          0.13093796372413635,
          0.13080032169818878,
          0.13560664653778076,
          0.12998832762241364,
          0.13402023911476135,
          0.12626978754997253,
          0.12106969952583313,
          0.11753308027982712,
          0.12207318097352982,
          0.12520715594291687,
          0.12952812016010284,
          0.12296649813652039,
          0.11836926639080048,
          0.12653358280658722,
          0.14120247960090637,
          0.12999145686626434,
          0.12532587349414825,
          0.13699284195899963,
          0.1334645003080368,
          0.12251532077789307,
          0.11906365305185318,
          0.12684108316898346,
          0.13369594514369965,
          0.1249232068657875,
          0.12678220868110657,
          0.12429573386907578,
          0.12184662371873856,
          0.13589437305927277,
          0.11414816975593567,
          0.1099252998828888,
          0.12210004031658173,
          0.12476680427789688,
          0.14011193811893463,
          0.12104928493499756,
          0.11218425631523132,
          0.11472079902887344,
          0.11206497997045517,
          0.12851697206497192,
          0.12137427181005478,
          0.11436080932617188,
          0.11151234805583954,
          0.11600027978420258,
          0.1193515881896019,
          0.12135215103626251,
          0.1181003525853157,
          0.11840826272964478,
          0.11820217967033386,
          0.12438609451055527,
          0.12166200578212738,
          0.11836477369070053,
          0.1394730806350708,
          0.12776148319244385,
          0.11573094129562378,
          0.11309327930212021,
          0.10946119576692581,
          0.11973795294761658,
          0.11180116981267929,
          0.12125518172979355,
          0.12083488702774048,
          0.11509785801172256,
          0.11810354888439178,
          0.11292755603790283,
          0.12336401641368866,
          0.11564616858959198,
          0.11604773253202438,
          0.11207081377506256,
          0.11112020164728165,
          0.11585210263729095,
          0.11718194931745529,
          0.12071843445301056,
          0.11858140677213669,
          0.10576658695936203,
          0.11472681164741516,
          0.11018986254930496,
          0.1224638819694519,
          0.1192399114370346,
          0.11616045981645584,
          0.1191728413105011,
          0.10999856889247894,
          0.11777689307928085,
          0.11323270201683044,
          0.11026234179735184,
          0.11874882876873016,
          0.11563829332590103,
          0.12387319654226303,
          0.10763607919216156,
          0.11539291590452194,
          0.10956425219774246,
          0.10892956703901291,
          0.10503581166267395,
          0.11741296201944351,
          0.10591530799865723,
          0.11149498075246811,
          0.1199028417468071,
          0.1182083860039711,
          0.1129613146185875,
          0.10994374006986618,
          0.10378721356391907,
          0.10832665860652924,
          0.11185863614082336,
          0.11621665954589844,
          0.1023370772600174,
          0.10883501172065735,
          0.10834065079689026,
          0.11655855923891068,
          0.10868305712938309,
          0.10025352239608765,
          0.10617262870073318,
          0.10661520063877106,
          0.09930449724197388,
          0.11138280481100082,
          0.09843584150075912,
          0.10212612897157669,
          0.11101741343736649,
          0.10873007774353027,
          0.11717504262924194,
          0.10472071915864944,
          0.11027831584215164,
          0.10583347082138062,
          0.10286439210176468,
          0.11267382651567459,
          0.10701416432857513,
          0.11434194445610046,
          0.11056599766016006,
          0.11151508241891861,
          0.10879597812891006,
          0.10449301451444626,
          0.10685749351978302,
          0.11037033051252365,
          0.10706213116645813,
          0.10001454502344131,
          0.1028154194355011,
          0.0975966528058052,
          0.1060759574174881,
          0.1020992174744606,
          0.10896297544240952,
          0.10353444516658783,
          0.11166323721408844,
          0.11130575835704803,
          0.10127370059490204,
          0.10042519867420197,
          0.11271651834249496,
          0.11312418431043625,
          0.09342523664236069,
          0.10105707496404648,
          0.10330897569656372,
          0.09925039112567902,
          0.10495619475841522,
          0.10181941092014313,
          0.11281150579452515,
          0.10217300802469254,
          0.10152728110551834,
          0.10341744124889374,
          0.09169289469718933,
          0.1015414223074913,
          0.09810338914394379,
          0.08986927568912506,
          0.10119826346635818,
          0.09291498363018036,
          0.09869121760129929,
          0.10367360711097717,
          0.09494035691022873,
          0.10246364772319794,
          0.09876014292240143,
          0.08711636066436768,
          0.09248102456331253,
          0.09315501153469086,
          0.09498368948698044,
          0.09964267909526825,
          0.10068914294242859,
          0.0911654680967331,
          0.0944179967045784,
          0.09905966371297836,
          0.09444400668144226,
          0.09708066284656525,
          0.09901425987482071,
          0.09867148846387863,
          0.09347116202116013,
          0.0943383276462555,
          0.09254094213247299,
          0.09693165868520737,
          0.09524917602539062,
          0.09653870016336441,
          0.09882934391498566,
          0.09442369639873505,
          0.0949726402759552,
          0.09730113297700882,
          0.09384463727474213,
          0.09965097159147263,
          0.09212226420640945,
          0.09526822715997696,
          0.09261143207550049,
          0.09517252445220947,
          0.09682882577180862,
          0.09313781559467316,
          0.10039309412240982,
          0.0945797935128212,
          0.09896261245012283,
          0.09413568675518036,
          0.09044664353132248,
          0.08280233293771744,
          0.09944262355566025,
          0.08892471343278885,
          0.09571391344070435,
          0.08661657571792603,
          0.09083478152751923,
          0.08768386393785477,
          0.09681876748800278,
          0.08783891797065735,
          0.08942647278308868,
          0.08944948762655258,
          0.09602279961109161,
          0.08846792578697205,
          0.09291739761829376,
          0.09904052317142487,
          0.09010986983776093,
          0.09224440902471542,
          0.08673668652772903,
          0.09299187362194061,
          0.08604037761688232,
          0.09018516540527344,
          0.08462682366371155,
          0.09685329347848892,
          0.09264267981052399,
          0.08489024639129639,
          0.0857335552573204,
          0.08553748577833176,
          0.08908607065677643,
          0.08893191069364548,
          0.09034410864114761,
          0.08977481722831726,
          0.08653870970010757,
          0.09032107144594193,
          0.08906833827495575,
          0.08467486500740051,
          0.0984082743525505,
          0.08371603488922119,
          0.08614759892225266,
          0.0859992504119873,
          0.092880979180336,
          0.09197518229484558,
          0.08106958121061325,
          0.09127502143383026,
          0.08686824887990952,
          0.08784567564725876,
          0.08295219391584396,
          0.08840613067150116,
          0.0803532525897026,
          0.08945160359144211,
          0.08865997940301895,
          0.09511914849281311,
          0.09117268770933151,
          0.08910136669874191,
          0.08704562485218048,
          0.08533892035484314,
          0.08738530427217484,
          0.08898097276687622,
          0.09001992642879486,
          0.08475398272275925,
          0.0871758908033371,
          0.0896511822938919,
          0.08299246430397034,
          0.0881824791431427,
          0.07774138450622559,
          0.08847128599882126,
          0.08836377412080765,
          0.0863603949546814,
          0.09145817905664444,
          0.08547607809305191,
          0.08796031028032303,
          0.07669053226709366,
          0.09209192544221878,
          0.07875019311904907,
          0.08036812394857407,
          0.08371216058731079,
          0.08708250522613525,
          0.08226561546325684,
          0.07971736788749695,
          0.07993046194314957,
          0.08601119369268417,
          0.08412929624319077,
          0.08215785771608353,
          0.0775413066148758,
          0.09099388122558594,
          0.08183120936155319,
          0.07667980343103409,
          0.08025097846984863,
          0.09439083188772202,
          0.08633634448051453,
          0.08439752459526062,
          0.08133134990930557,
          0.09845111519098282,
          0.08135634660720825,
          0.07711230218410492,
          0.07811684906482697,
          0.08495126664638519,
          0.08025364577770233,
          0.0814661830663681,
          0.0865989550948143,
          0.0842209905385971,
          0.07837087661027908,
          0.08491159975528717,
          0.08108481764793396,
          0.07840647548437119,
          0.08382768929004669,
          0.08677688986063004,
          0.07808444648981094,
          0.07367773354053497,
          0.09796978533267975,
          0.08798971027135849,
          0.08106421679258347,
          0.07837220281362534,
          0.0785139948129654,
          0.08078964799642563,
          0.09061609208583832,
          0.07859715074300766,
          0.07838395982980728,
          0.07959793508052826,
          0.08303902298212051,
          0.07853518426418304,
          0.07762807607650757,
          0.08369511365890503,
          0.08418473601341248,
          0.08370048552751541,
          0.08086118847131729,
          0.08062128722667694,
          0.07864581048488617,
          0.0789032131433487,
          0.08025006204843521,
          0.07523355633020401,
          0.08196627348661423,
          0.0753558874130249,
          0.08059199899435043,
          0.07764963805675507,
          0.07491549849510193,
          0.07285281270742416,
          0.07555768638849258,
          0.0768079161643982,
          0.07380227744579315,
          0.08199772983789444,
          0.07229320704936981,
          0.07813066244125366,
          0.0748542919754982,
          0.07278943061828613,
          0.07104700058698654,
          0.0738636776804924,
          0.07312633842229843,
          0.08220574259757996,
          0.07366029918193817,
          0.08531512320041656,
          0.08060064166784286,
          0.07503427565097809,
          0.08446477353572845,
          0.07197548449039459,
          0.073311947286129,
          0.07777160406112671,
          0.07821351289749146,
          0.0768677294254303,
          0.07399724423885345,
          0.08119618147611618,
          0.07264824211597443,
          0.07915946841239929,
          0.07293549925088882,
          0.08221734315156937,
          0.06913108378648758,
          0.07322248816490173,
          0.0793500617146492,
          0.07889984548091888,
          0.07509475946426392,
          0.06757727265357971,
          0.07114441692829132,
          0.07637035846710205,
          0.07367256283760071,
          0.07666324079036713,
          0.07354029268026352,
          0.07636352628469467,
          0.07796847820281982,
          0.07532905042171478,
          0.0714244395494461,
          0.08155816793441772,
          0.07601391524076462,
          0.07275054603815079,
          0.0738033801317215,
          0.07501987367868423,
          0.07395875453948975,
          0.07527323067188263,
          0.07285282015800476,
          0.07585447281599045,
          0.07689600437879562,
          0.07761425524950027,
          0.07665815204381943,
          0.06979324668645859,
          0.06954773515462875,
          0.07345639914274216,
          0.07583469152450562,
          0.07480709999799728,
          0.07690637558698654,
          0.07354482263326645,
          0.0758933499455452,
          0.071808360517025,
          0.06965517997741699,
          0.07478012889623642,
          0.07301031798124313,
          0.07526955753564835,
          0.0718415379524231,
          0.07286730408668518,
          0.07219402492046356,
          0.07371523231267929,
          0.07317037880420685,
          0.07473698258399963,
          0.07092473655939102,
          0.07587377727031708,
          0.06960106641054153,
          0.06839389353990555,
          0.07580354809761047,
          0.06674931943416595,
          0.07651247829198837,
          0.07940447330474854,
          0.0737609937787056,
          0.07204576581716537,
          0.07550079375505447,
          0.06727419793605804,
          0.07012519985437393,
          0.07542181760072708,
          0.07240227609872818,
          0.07368238270282745,
          0.07348260283470154,
          0.06872691959142685,
          0.07136602699756622,
          0.06857121735811234,
          0.06891259551048279,
          0.0725310817360878,
          0.0710970014333725,
          0.06777402013540268,
          0.07152380049228668,
          0.07214868813753128,
          0.07678475230932236,
          0.07042104005813599,
          0.07357119768857956,
          0.06588149070739746,
          0.07411739975214005,
          0.07031451165676117,
          0.0679074376821518,
          0.067829430103302,
          0.07093413919210434,
          0.07248859107494354,
          0.07749693095684052,
          0.0662437379360199,
          0.07007721811532974,
          0.0643768236041069,
          0.07062440365552902,
          0.06961928308010101,
          0.06459644436836243,
          0.06672534346580505,
          0.06912672519683838,
          0.06974876672029495,
          0.06709333509206772,
          0.07020767033100128,
          0.07011429220438004,
          0.06724214553833008,
          0.0682687982916832,
          0.07336126267910004,
          0.07403349876403809,
          0.06683503091335297,
          0.0672658383846283,
          0.06797394901514053,
          0.06783944368362427,
          0.06483175605535507,
          0.06926459819078445,
          0.06554466485977173,
          0.06690820306539536,
          0.06818798929452896,
          0.06420299410820007,
          0.07016335427761078,
          0.06705667823553085,
          0.06747211515903473,
          0.07164309173822403,
          0.06671793758869171,
          0.0632547065615654,
          0.06570415943861008,
          0.06491553783416748,
          0.06332205981016159,
          0.06942318379878998,
          0.07155770808458328,
          0.0676681324839592,
          0.06496508419513702,
          0.06848520040512085,
          0.0653766468167305,
          0.06117592751979828,
          0.06826838850975037,
          0.06455835700035095,
          0.067838653922081,
          0.06650519371032715,
          0.06785403192043304,
          0.06823532283306122,
          0.06466797739267349,
          0.06426829844713211,
          0.07078947871923447,
          0.07334570586681366,
          0.06648877263069153,
          0.0681978389620781,
          0.06919218599796295,
          0.06397901475429535,
          0.06771547347307205,
          0.07057749480009079,
          0.07028809189796448,
          0.073829784989357,
          0.06312204897403717,
          0.06502380967140198,
          0.061760593205690384,
          0.06901838630437851,
          0.06162823736667633,
          0.06412056088447571,
          0.059458546340465546,
          0.06579884886741638,
          0.061980411410331726,
          0.06239733099937439,
          0.07041409611701965,
          0.06297623366117477,
          0.06503774970769882,
          0.06412617117166519,
          0.06713841110467911,
          0.060160327702760696,
          0.06677783280611038,
          0.06668134778738022,
          0.06287170946598053,
          0.06582069396972656,
          0.06535279750823975,
          0.06621655821800232,
          0.06525757163763046,
          0.06302205473184586,
          0.0750642940402031,
          0.065718874335289,
          0.062252260744571686,
          0.06388789415359497,
          0.06516414880752563,
          0.06143493950366974,
          0.06368696689605713,
          0.06510033458471298,
          0.06280732154846191,
          0.0646478682756424,
          0.06389469653367996,
          0.06613324582576752,
          0.06827104091644287,
          0.06219608709216118,
          0.06270991265773773,
          0.064969003200531,
          0.06440699845552444,
          0.06819280236959457,
          0.06224646791815758,
          0.06297936290502548,
          0.06198876351118088,
          0.06395711749792099,
          0.06615877896547318,
          0.06507003307342529,
          0.06278111785650253,
          0.060719527304172516,
          0.06130841746926308,
          0.0664525255560875,
          0.06802743673324585,
          0.06401306390762329,
          0.0651758685708046,
          0.06343015283346176,
          0.06451556831598282,
          0.06665856391191483,
          0.06501522660255432,
          0.059369057416915894,
          0.06405361741781235,
          0.06466677039861679,
          0.06388643383979797,
          0.06413891166448593,
          0.06121215596795082,
          0.06467413902282715,
          0.0626893937587738,
          0.06344706565141678,
          0.05704673007130623,
          0.06011170148849487,
          0.06038057804107666,
          0.06526020169258118,
          0.06747393310070038,
          0.06142754852771759,
          0.06523223966360092,
          0.060478147119283676,
          0.06128575652837753,
          0.0634172186255455,
          0.058593180030584335,
          0.06409862637519836,
          0.06285715848207474,
          0.06286045163869858,
          0.05888970568776131,
          0.06329560279846191,
          0.062227584421634674,
          0.061077386140823364,
          0.055613551288843155,
          0.058012086898088455
         ]
        }
       ],
       "layout": {
        "template": {
         "data": {
          "bar": [
           {
            "error_x": {
             "color": "#2a3f5f"
            },
            "error_y": {
             "color": "#2a3f5f"
            },
            "marker": {
             "line": {
              "color": "#E5ECF6",
              "width": 0.5
             },
             "pattern": {
              "fillmode": "overlay",
              "size": 10,
              "solidity": 0.2
             }
            },
            "type": "bar"
           }
          ],
          "barpolar": [
           {
            "marker": {
             "line": {
              "color": "#E5ECF6",
              "width": 0.5
             },
             "pattern": {
              "fillmode": "overlay",
              "size": 10,
              "solidity": 0.2
             }
            },
            "type": "barpolar"
           }
          ],
          "carpet": [
           {
            "aaxis": {
             "endlinecolor": "#2a3f5f",
             "gridcolor": "white",
             "linecolor": "white",
             "minorgridcolor": "white",
             "startlinecolor": "#2a3f5f"
            },
            "baxis": {
             "endlinecolor": "#2a3f5f",
             "gridcolor": "white",
             "linecolor": "white",
             "minorgridcolor": "white",
             "startlinecolor": "#2a3f5f"
            },
            "type": "carpet"
           }
          ],
          "choropleth": [
           {
            "colorbar": {
             "outlinewidth": 0,
             "ticks": ""
            },
            "type": "choropleth"
           }
          ],
          "contour": [
           {
            "colorbar": {
             "outlinewidth": 0,
             "ticks": ""
            },
            "colorscale": [
             [
              0,
              "#0d0887"
             ],
             [
              0.1111111111111111,
              "#46039f"
             ],
             [
              0.2222222222222222,
              "#7201a8"
             ],
             [
              0.3333333333333333,
              "#9c179e"
             ],
             [
              0.4444444444444444,
              "#bd3786"
             ],
             [
              0.5555555555555556,
              "#d8576b"
             ],
             [
              0.6666666666666666,
              "#ed7953"
             ],
             [
              0.7777777777777778,
              "#fb9f3a"
             ],
             [
              0.8888888888888888,
              "#fdca26"
             ],
             [
              1,
              "#f0f921"
             ]
            ],
            "type": "contour"
           }
          ],
          "contourcarpet": [
           {
            "colorbar": {
             "outlinewidth": 0,
             "ticks": ""
            },
            "type": "contourcarpet"
           }
          ],
          "heatmap": [
           {
            "colorbar": {
             "outlinewidth": 0,
             "ticks": ""
            },
            "colorscale": [
             [
              0,
              "#0d0887"
             ],
             [
              0.1111111111111111,
              "#46039f"
             ],
             [
              0.2222222222222222,
              "#7201a8"
             ],
             [
              0.3333333333333333,
              "#9c179e"
             ],
             [
              0.4444444444444444,
              "#bd3786"
             ],
             [
              0.5555555555555556,
              "#d8576b"
             ],
             [
              0.6666666666666666,
              "#ed7953"
             ],
             [
              0.7777777777777778,
              "#fb9f3a"
             ],
             [
              0.8888888888888888,
              "#fdca26"
             ],
             [
              1,
              "#f0f921"
             ]
            ],
            "type": "heatmap"
           }
          ],
          "heatmapgl": [
           {
            "colorbar": {
             "outlinewidth": 0,
             "ticks": ""
            },
            "colorscale": [
             [
              0,
              "#0d0887"
             ],
             [
              0.1111111111111111,
              "#46039f"
             ],
             [
              0.2222222222222222,
              "#7201a8"
             ],
             [
              0.3333333333333333,
              "#9c179e"
             ],
             [
              0.4444444444444444,
              "#bd3786"
             ],
             [
              0.5555555555555556,
              "#d8576b"
             ],
             [
              0.6666666666666666,
              "#ed7953"
             ],
             [
              0.7777777777777778,
              "#fb9f3a"
             ],
             [
              0.8888888888888888,
              "#fdca26"
             ],
             [
              1,
              "#f0f921"
             ]
            ],
            "type": "heatmapgl"
           }
          ],
          "histogram": [
           {
            "marker": {
             "pattern": {
              "fillmode": "overlay",
              "size": 10,
              "solidity": 0.2
             }
            },
            "type": "histogram"
           }
          ],
          "histogram2d": [
           {
            "colorbar": {
             "outlinewidth": 0,
             "ticks": ""
            },
            "colorscale": [
             [
              0,
              "#0d0887"
             ],
             [
              0.1111111111111111,
              "#46039f"
             ],
             [
              0.2222222222222222,
              "#7201a8"
             ],
             [
              0.3333333333333333,
              "#9c179e"
             ],
             [
              0.4444444444444444,
              "#bd3786"
             ],
             [
              0.5555555555555556,
              "#d8576b"
             ],
             [
              0.6666666666666666,
              "#ed7953"
             ],
             [
              0.7777777777777778,
              "#fb9f3a"
             ],
             [
              0.8888888888888888,
              "#fdca26"
             ],
             [
              1,
              "#f0f921"
             ]
            ],
            "type": "histogram2d"
           }
          ],
          "histogram2dcontour": [
           {
            "colorbar": {
             "outlinewidth": 0,
             "ticks": ""
            },
            "colorscale": [
             [
              0,
              "#0d0887"
             ],
             [
              0.1111111111111111,
              "#46039f"
             ],
             [
              0.2222222222222222,
              "#7201a8"
             ],
             [
              0.3333333333333333,
              "#9c179e"
             ],
             [
              0.4444444444444444,
              "#bd3786"
             ],
             [
              0.5555555555555556,
              "#d8576b"
             ],
             [
              0.6666666666666666,
              "#ed7953"
             ],
             [
              0.7777777777777778,
              "#fb9f3a"
             ],
             [
              0.8888888888888888,
              "#fdca26"
             ],
             [
              1,
              "#f0f921"
             ]
            ],
            "type": "histogram2dcontour"
           }
          ],
          "mesh3d": [
           {
            "colorbar": {
             "outlinewidth": 0,
             "ticks": ""
            },
            "type": "mesh3d"
           }
          ],
          "parcoords": [
           {
            "line": {
             "colorbar": {
              "outlinewidth": 0,
              "ticks": ""
             }
            },
            "type": "parcoords"
           }
          ],
          "pie": [
           {
            "automargin": true,
            "type": "pie"
           }
          ],
          "scatter": [
           {
            "fillpattern": {
             "fillmode": "overlay",
             "size": 10,
             "solidity": 0.2
            },
            "type": "scatter"
           }
          ],
          "scatter3d": [
           {
            "line": {
             "colorbar": {
              "outlinewidth": 0,
              "ticks": ""
             }
            },
            "marker": {
             "colorbar": {
              "outlinewidth": 0,
              "ticks": ""
             }
            },
            "type": "scatter3d"
           }
          ],
          "scattercarpet": [
           {
            "marker": {
             "colorbar": {
              "outlinewidth": 0,
              "ticks": ""
             }
            },
            "type": "scattercarpet"
           }
          ],
          "scattergeo": [
           {
            "marker": {
             "colorbar": {
              "outlinewidth": 0,
              "ticks": ""
             }
            },
            "type": "scattergeo"
           }
          ],
          "scattergl": [
           {
            "marker": {
             "colorbar": {
              "outlinewidth": 0,
              "ticks": ""
             }
            },
            "type": "scattergl"
           }
          ],
          "scattermapbox": [
           {
            "marker": {
             "colorbar": {
              "outlinewidth": 0,
              "ticks": ""
             }
            },
            "type": "scattermapbox"
           }
          ],
          "scatterpolar": [
           {
            "marker": {
             "colorbar": {
              "outlinewidth": 0,
              "ticks": ""
             }
            },
            "type": "scatterpolar"
           }
          ],
          "scatterpolargl": [
           {
            "marker": {
             "colorbar": {
              "outlinewidth": 0,
              "ticks": ""
             }
            },
            "type": "scatterpolargl"
           }
          ],
          "scatterternary": [
           {
            "marker": {
             "colorbar": {
              "outlinewidth": 0,
              "ticks": ""
             }
            },
            "type": "scatterternary"
           }
          ],
          "surface": [
           {
            "colorbar": {
             "outlinewidth": 0,
             "ticks": ""
            },
            "colorscale": [
             [
              0,
              "#0d0887"
             ],
             [
              0.1111111111111111,
              "#46039f"
             ],
             [
              0.2222222222222222,
              "#7201a8"
             ],
             [
              0.3333333333333333,
              "#9c179e"
             ],
             [
              0.4444444444444444,
              "#bd3786"
             ],
             [
              0.5555555555555556,
              "#d8576b"
             ],
             [
              0.6666666666666666,
              "#ed7953"
             ],
             [
              0.7777777777777778,
              "#fb9f3a"
             ],
             [
              0.8888888888888888,
              "#fdca26"
             ],
             [
              1,
              "#f0f921"
             ]
            ],
            "type": "surface"
           }
          ],
          "table": [
           {
            "cells": {
             "fill": {
              "color": "#EBF0F8"
             },
             "line": {
              "color": "white"
             }
            },
            "header": {
             "fill": {
              "color": "#C8D4E3"
             },
             "line": {
              "color": "white"
             }
            },
            "type": "table"
           }
          ]
         },
         "layout": {
          "annotationdefaults": {
           "arrowcolor": "#2a3f5f",
           "arrowhead": 0,
           "arrowwidth": 1
          },
          "autotypenumbers": "strict",
          "coloraxis": {
           "colorbar": {
            "outlinewidth": 0,
            "ticks": ""
           }
          },
          "colorscale": {
           "diverging": [
            [
             0,
             "#8e0152"
            ],
            [
             0.1,
             "#c51b7d"
            ],
            [
             0.2,
             "#de77ae"
            ],
            [
             0.3,
             "#f1b6da"
            ],
            [
             0.4,
             "#fde0ef"
            ],
            [
             0.5,
             "#f7f7f7"
            ],
            [
             0.6,
             "#e6f5d0"
            ],
            [
             0.7,
             "#b8e186"
            ],
            [
             0.8,
             "#7fbc41"
            ],
            [
             0.9,
             "#4d9221"
            ],
            [
             1,
             "#276419"
            ]
           ],
           "sequential": [
            [
             0,
             "#0d0887"
            ],
            [
             0.1111111111111111,
             "#46039f"
            ],
            [
             0.2222222222222222,
             "#7201a8"
            ],
            [
             0.3333333333333333,
             "#9c179e"
            ],
            [
             0.4444444444444444,
             "#bd3786"
            ],
            [
             0.5555555555555556,
             "#d8576b"
            ],
            [
             0.6666666666666666,
             "#ed7953"
            ],
            [
             0.7777777777777778,
             "#fb9f3a"
            ],
            [
             0.8888888888888888,
             "#fdca26"
            ],
            [
             1,
             "#f0f921"
            ]
           ],
           "sequentialminus": [
            [
             0,
             "#0d0887"
            ],
            [
             0.1111111111111111,
             "#46039f"
            ],
            [
             0.2222222222222222,
             "#7201a8"
            ],
            [
             0.3333333333333333,
             "#9c179e"
            ],
            [
             0.4444444444444444,
             "#bd3786"
            ],
            [
             0.5555555555555556,
             "#d8576b"
            ],
            [
             0.6666666666666666,
             "#ed7953"
            ],
            [
             0.7777777777777778,
             "#fb9f3a"
            ],
            [
             0.8888888888888888,
             "#fdca26"
            ],
            [
             1,
             "#f0f921"
            ]
           ]
          },
          "colorway": [
           "#636efa",
           "#EF553B",
           "#00cc96",
           "#ab63fa",
           "#FFA15A",
           "#19d3f3",
           "#FF6692",
           "#B6E880",
           "#FF97FF",
           "#FECB52"
          ],
          "font": {
           "color": "#2a3f5f"
          },
          "geo": {
           "bgcolor": "white",
           "lakecolor": "white",
           "landcolor": "#E5ECF6",
           "showlakes": true,
           "showland": true,
           "subunitcolor": "white"
          },
          "hoverlabel": {
           "align": "left"
          },
          "hovermode": "closest",
          "mapbox": {
           "style": "light"
          },
          "paper_bgcolor": "white",
          "plot_bgcolor": "#E5ECF6",
          "polar": {
           "angularaxis": {
            "gridcolor": "white",
            "linecolor": "white",
            "ticks": ""
           },
           "bgcolor": "#E5ECF6",
           "radialaxis": {
            "gridcolor": "white",
            "linecolor": "white",
            "ticks": ""
           }
          },
          "scene": {
           "xaxis": {
            "backgroundcolor": "#E5ECF6",
            "gridcolor": "white",
            "gridwidth": 2,
            "linecolor": "white",
            "showbackground": true,
            "ticks": "",
            "zerolinecolor": "white"
           },
           "yaxis": {
            "backgroundcolor": "#E5ECF6",
            "gridcolor": "white",
            "gridwidth": 2,
            "linecolor": "white",
            "showbackground": true,
            "ticks": "",
            "zerolinecolor": "white"
           },
           "zaxis": {
            "backgroundcolor": "#E5ECF6",
            "gridcolor": "white",
            "gridwidth": 2,
            "linecolor": "white",
            "showbackground": true,
            "ticks": "",
            "zerolinecolor": "white"
           }
          },
          "shapedefaults": {
           "line": {
            "color": "#2a3f5f"
           }
          },
          "ternary": {
           "aaxis": {
            "gridcolor": "white",
            "linecolor": "white",
            "ticks": ""
           },
           "baxis": {
            "gridcolor": "white",
            "linecolor": "white",
            "ticks": ""
           },
           "bgcolor": "#E5ECF6",
           "caxis": {
            "gridcolor": "white",
            "linecolor": "white",
            "ticks": ""
           }
          },
          "title": {
           "x": 0.05
          },
          "xaxis": {
           "automargin": true,
           "gridcolor": "white",
           "linecolor": "white",
           "ticks": "",
           "title": {
            "standoff": 15
           },
           "zerolinecolor": "white",
           "zerolinewidth": 2
          },
          "yaxis": {
           "automargin": true,
           "gridcolor": "white",
           "linecolor": "white",
           "ticks": "",
           "title": {
            "standoff": 15
           },
           "zerolinecolor": "white",
           "zerolinewidth": 2
          }
         }
        },
        "title": {
         "text": "Train loss"
        },
        "xaxis": {
         "title": {
          "text": "Time Step"
         }
        },
        "yaxis": {
         "title": {
          "text": "Loss Value"
         }
        }
       }
      }
     },
     "metadata": {},
     "output_type": "display_data"
    },
    {
     "data": {
      "application/vnd.plotly.v1+json": {
       "config": {
        "plotlyServerURL": "https://plot.ly"
       },
       "data": [
        {
         "line": {
          "color": "blue"
         },
         "mode": "lines",
         "name": "GT",
         "type": "scatter",
         "y": [
          0.9620248675346375,
          0.9893797039985657,
          1.0147064924240112,
          1.0379794836044312,
          1.059165358543396,
          1.0782369375228882,
          1.0951577425003052,
          1.1098930835723877,
          1.1224005222320557,
          1.1326359510421753,
          1.140551209449768,
          1.1460990905761719,
          1.1492266654968262,
          1.1498870849609375,
          1.148034691810608,
          1.1436318159103394,
          0.9874258637428284,
          0.9574523568153381,
          0.9251313209533691,
          0.8905338048934937,
          0.8537447452545166,
          0.8148549199104309,
          0.7739643454551697,
          0.7311805486679077,
          0.686623215675354,
          0.6404134631156921,
          0.5926860570907593,
          0.5435834527015686,
          0.49325254559516907,
          0.4418538510799408,
          0.3895494341850281,
          0.3365119695663452,
          -0.14245954155921936,
          -0.19215282797813416,
          -0.24038152396678925,
          -0.28694114089012146,
          -0.33163177967071533,
          -0.3742610812187195,
          -0.41464123129844666,
          -0.45259517431259155,
          -0.48795467615127563,
          -0.520561695098877,
          -0.5502715110778809,
          -0.5769516825675964,
          -0.6004844307899475,
          -0.6207668781280518,
          -0.6377118229866028,
          -0.6512485146522522
         ]
        },
        {
         "line": {
          "color": "red"
         },
         "mode": "lines",
         "name": "pred_beginning",
         "type": "scatter",
         "y": [
          0.5519617199897766,
          0.44068560004234314,
          0.602462112903595,
          0.5539716482162476,
          0.5592628121376038,
          0.4933951199054718,
          0.5513229370117188,
          0.7917652130126953,
          0.6794475317001343,
          0.6038402915000916,
          0.5417975187301636,
          0.6200432777404785,
          0.7236992120742798,
          0.7572448253631592,
          0.6627532839775085,
          0.621379554271698,
          0.59946209192276,
          0.7403831481933594,
          0.436521053314209,
          0.611746072769165,
          0.7000153660774231,
          0.6231422424316406,
          0.8048501014709473,
          0.681785523891449,
          0.7435778379440308,
          0.5562540888786316,
          0.5319599509239197,
          0.5404561161994934,
          0.5156587362289429,
          0.5149744153022766,
          0.5622513890266418,
          0.4719557762145996,
          -0.6325092315673828,
          -0.6370441913604736,
          -0.6575165390968323,
          -0.678650975227356,
          -0.690026581287384,
          -0.6706447601318359,
          -0.695346474647522,
          -0.6594997048377991,
          -0.6138827800750732,
          -0.6475152373313904,
          -0.6421368718147278,
          -0.6249800324440002,
          -0.6130929589271545,
          -0.6038201451301575,
          -0.5940526723861694,
          -0.5610629320144653
         ]
        }
       ],
       "layout": {
        "template": {
         "data": {
          "bar": [
           {
            "error_x": {
             "color": "#2a3f5f"
            },
            "error_y": {
             "color": "#2a3f5f"
            },
            "marker": {
             "line": {
              "color": "#E5ECF6",
              "width": 0.5
             },
             "pattern": {
              "fillmode": "overlay",
              "size": 10,
              "solidity": 0.2
             }
            },
            "type": "bar"
           }
          ],
          "barpolar": [
           {
            "marker": {
             "line": {
              "color": "#E5ECF6",
              "width": 0.5
             },
             "pattern": {
              "fillmode": "overlay",
              "size": 10,
              "solidity": 0.2
             }
            },
            "type": "barpolar"
           }
          ],
          "carpet": [
           {
            "aaxis": {
             "endlinecolor": "#2a3f5f",
             "gridcolor": "white",
             "linecolor": "white",
             "minorgridcolor": "white",
             "startlinecolor": "#2a3f5f"
            },
            "baxis": {
             "endlinecolor": "#2a3f5f",
             "gridcolor": "white",
             "linecolor": "white",
             "minorgridcolor": "white",
             "startlinecolor": "#2a3f5f"
            },
            "type": "carpet"
           }
          ],
          "choropleth": [
           {
            "colorbar": {
             "outlinewidth": 0,
             "ticks": ""
            },
            "type": "choropleth"
           }
          ],
          "contour": [
           {
            "colorbar": {
             "outlinewidth": 0,
             "ticks": ""
            },
            "colorscale": [
             [
              0,
              "#0d0887"
             ],
             [
              0.1111111111111111,
              "#46039f"
             ],
             [
              0.2222222222222222,
              "#7201a8"
             ],
             [
              0.3333333333333333,
              "#9c179e"
             ],
             [
              0.4444444444444444,
              "#bd3786"
             ],
             [
              0.5555555555555556,
              "#d8576b"
             ],
             [
              0.6666666666666666,
              "#ed7953"
             ],
             [
              0.7777777777777778,
              "#fb9f3a"
             ],
             [
              0.8888888888888888,
              "#fdca26"
             ],
             [
              1,
              "#f0f921"
             ]
            ],
            "type": "contour"
           }
          ],
          "contourcarpet": [
           {
            "colorbar": {
             "outlinewidth": 0,
             "ticks": ""
            },
            "type": "contourcarpet"
           }
          ],
          "heatmap": [
           {
            "colorbar": {
             "outlinewidth": 0,
             "ticks": ""
            },
            "colorscale": [
             [
              0,
              "#0d0887"
             ],
             [
              0.1111111111111111,
              "#46039f"
             ],
             [
              0.2222222222222222,
              "#7201a8"
             ],
             [
              0.3333333333333333,
              "#9c179e"
             ],
             [
              0.4444444444444444,
              "#bd3786"
             ],
             [
              0.5555555555555556,
              "#d8576b"
             ],
             [
              0.6666666666666666,
              "#ed7953"
             ],
             [
              0.7777777777777778,
              "#fb9f3a"
             ],
             [
              0.8888888888888888,
              "#fdca26"
             ],
             [
              1,
              "#f0f921"
             ]
            ],
            "type": "heatmap"
           }
          ],
          "heatmapgl": [
           {
            "colorbar": {
             "outlinewidth": 0,
             "ticks": ""
            },
            "colorscale": [
             [
              0,
              "#0d0887"
             ],
             [
              0.1111111111111111,
              "#46039f"
             ],
             [
              0.2222222222222222,
              "#7201a8"
             ],
             [
              0.3333333333333333,
              "#9c179e"
             ],
             [
              0.4444444444444444,
              "#bd3786"
             ],
             [
              0.5555555555555556,
              "#d8576b"
             ],
             [
              0.6666666666666666,
              "#ed7953"
             ],
             [
              0.7777777777777778,
              "#fb9f3a"
             ],
             [
              0.8888888888888888,
              "#fdca26"
             ],
             [
              1,
              "#f0f921"
             ]
            ],
            "type": "heatmapgl"
           }
          ],
          "histogram": [
           {
            "marker": {
             "pattern": {
              "fillmode": "overlay",
              "size": 10,
              "solidity": 0.2
             }
            },
            "type": "histogram"
           }
          ],
          "histogram2d": [
           {
            "colorbar": {
             "outlinewidth": 0,
             "ticks": ""
            },
            "colorscale": [
             [
              0,
              "#0d0887"
             ],
             [
              0.1111111111111111,
              "#46039f"
             ],
             [
              0.2222222222222222,
              "#7201a8"
             ],
             [
              0.3333333333333333,
              "#9c179e"
             ],
             [
              0.4444444444444444,
              "#bd3786"
             ],
             [
              0.5555555555555556,
              "#d8576b"
             ],
             [
              0.6666666666666666,
              "#ed7953"
             ],
             [
              0.7777777777777778,
              "#fb9f3a"
             ],
             [
              0.8888888888888888,
              "#fdca26"
             ],
             [
              1,
              "#f0f921"
             ]
            ],
            "type": "histogram2d"
           }
          ],
          "histogram2dcontour": [
           {
            "colorbar": {
             "outlinewidth": 0,
             "ticks": ""
            },
            "colorscale": [
             [
              0,
              "#0d0887"
             ],
             [
              0.1111111111111111,
              "#46039f"
             ],
             [
              0.2222222222222222,
              "#7201a8"
             ],
             [
              0.3333333333333333,
              "#9c179e"
             ],
             [
              0.4444444444444444,
              "#bd3786"
             ],
             [
              0.5555555555555556,
              "#d8576b"
             ],
             [
              0.6666666666666666,
              "#ed7953"
             ],
             [
              0.7777777777777778,
              "#fb9f3a"
             ],
             [
              0.8888888888888888,
              "#fdca26"
             ],
             [
              1,
              "#f0f921"
             ]
            ],
            "type": "histogram2dcontour"
           }
          ],
          "mesh3d": [
           {
            "colorbar": {
             "outlinewidth": 0,
             "ticks": ""
            },
            "type": "mesh3d"
           }
          ],
          "parcoords": [
           {
            "line": {
             "colorbar": {
              "outlinewidth": 0,
              "ticks": ""
             }
            },
            "type": "parcoords"
           }
          ],
          "pie": [
           {
            "automargin": true,
            "type": "pie"
           }
          ],
          "scatter": [
           {
            "fillpattern": {
             "fillmode": "overlay",
             "size": 10,
             "solidity": 0.2
            },
            "type": "scatter"
           }
          ],
          "scatter3d": [
           {
            "line": {
             "colorbar": {
              "outlinewidth": 0,
              "ticks": ""
             }
            },
            "marker": {
             "colorbar": {
              "outlinewidth": 0,
              "ticks": ""
             }
            },
            "type": "scatter3d"
           }
          ],
          "scattercarpet": [
           {
            "marker": {
             "colorbar": {
              "outlinewidth": 0,
              "ticks": ""
             }
            },
            "type": "scattercarpet"
           }
          ],
          "scattergeo": [
           {
            "marker": {
             "colorbar": {
              "outlinewidth": 0,
              "ticks": ""
             }
            },
            "type": "scattergeo"
           }
          ],
          "scattergl": [
           {
            "marker": {
             "colorbar": {
              "outlinewidth": 0,
              "ticks": ""
             }
            },
            "type": "scattergl"
           }
          ],
          "scattermapbox": [
           {
            "marker": {
             "colorbar": {
              "outlinewidth": 0,
              "ticks": ""
             }
            },
            "type": "scattermapbox"
           }
          ],
          "scatterpolar": [
           {
            "marker": {
             "colorbar": {
              "outlinewidth": 0,
              "ticks": ""
             }
            },
            "type": "scatterpolar"
           }
          ],
          "scatterpolargl": [
           {
            "marker": {
             "colorbar": {
              "outlinewidth": 0,
              "ticks": ""
             }
            },
            "type": "scatterpolargl"
           }
          ],
          "scatterternary": [
           {
            "marker": {
             "colorbar": {
              "outlinewidth": 0,
              "ticks": ""
             }
            },
            "type": "scatterternary"
           }
          ],
          "surface": [
           {
            "colorbar": {
             "outlinewidth": 0,
             "ticks": ""
            },
            "colorscale": [
             [
              0,
              "#0d0887"
             ],
             [
              0.1111111111111111,
              "#46039f"
             ],
             [
              0.2222222222222222,
              "#7201a8"
             ],
             [
              0.3333333333333333,
              "#9c179e"
             ],
             [
              0.4444444444444444,
              "#bd3786"
             ],
             [
              0.5555555555555556,
              "#d8576b"
             ],
             [
              0.6666666666666666,
              "#ed7953"
             ],
             [
              0.7777777777777778,
              "#fb9f3a"
             ],
             [
              0.8888888888888888,
              "#fdca26"
             ],
             [
              1,
              "#f0f921"
             ]
            ],
            "type": "surface"
           }
          ],
          "table": [
           {
            "cells": {
             "fill": {
              "color": "#EBF0F8"
             },
             "line": {
              "color": "white"
             }
            },
            "header": {
             "fill": {
              "color": "#C8D4E3"
             },
             "line": {
              "color": "white"
             }
            },
            "type": "table"
           }
          ]
         },
         "layout": {
          "annotationdefaults": {
           "arrowcolor": "#2a3f5f",
           "arrowhead": 0,
           "arrowwidth": 1
          },
          "autotypenumbers": "strict",
          "coloraxis": {
           "colorbar": {
            "outlinewidth": 0,
            "ticks": ""
           }
          },
          "colorscale": {
           "diverging": [
            [
             0,
             "#8e0152"
            ],
            [
             0.1,
             "#c51b7d"
            ],
            [
             0.2,
             "#de77ae"
            ],
            [
             0.3,
             "#f1b6da"
            ],
            [
             0.4,
             "#fde0ef"
            ],
            [
             0.5,
             "#f7f7f7"
            ],
            [
             0.6,
             "#e6f5d0"
            ],
            [
             0.7,
             "#b8e186"
            ],
            [
             0.8,
             "#7fbc41"
            ],
            [
             0.9,
             "#4d9221"
            ],
            [
             1,
             "#276419"
            ]
           ],
           "sequential": [
            [
             0,
             "#0d0887"
            ],
            [
             0.1111111111111111,
             "#46039f"
            ],
            [
             0.2222222222222222,
             "#7201a8"
            ],
            [
             0.3333333333333333,
             "#9c179e"
            ],
            [
             0.4444444444444444,
             "#bd3786"
            ],
            [
             0.5555555555555556,
             "#d8576b"
            ],
            [
             0.6666666666666666,
             "#ed7953"
            ],
            [
             0.7777777777777778,
             "#fb9f3a"
            ],
            [
             0.8888888888888888,
             "#fdca26"
            ],
            [
             1,
             "#f0f921"
            ]
           ],
           "sequentialminus": [
            [
             0,
             "#0d0887"
            ],
            [
             0.1111111111111111,
             "#46039f"
            ],
            [
             0.2222222222222222,
             "#7201a8"
            ],
            [
             0.3333333333333333,
             "#9c179e"
            ],
            [
             0.4444444444444444,
             "#bd3786"
            ],
            [
             0.5555555555555556,
             "#d8576b"
            ],
            [
             0.6666666666666666,
             "#ed7953"
            ],
            [
             0.7777777777777778,
             "#fb9f3a"
            ],
            [
             0.8888888888888888,
             "#fdca26"
            ],
            [
             1,
             "#f0f921"
            ]
           ]
          },
          "colorway": [
           "#636efa",
           "#EF553B",
           "#00cc96",
           "#ab63fa",
           "#FFA15A",
           "#19d3f3",
           "#FF6692",
           "#B6E880",
           "#FF97FF",
           "#FECB52"
          ],
          "font": {
           "color": "#2a3f5f"
          },
          "geo": {
           "bgcolor": "white",
           "lakecolor": "white",
           "landcolor": "#E5ECF6",
           "showlakes": true,
           "showland": true,
           "subunitcolor": "white"
          },
          "hoverlabel": {
           "align": "left"
          },
          "hovermode": "closest",
          "mapbox": {
           "style": "light"
          },
          "paper_bgcolor": "white",
          "plot_bgcolor": "#E5ECF6",
          "polar": {
           "angularaxis": {
            "gridcolor": "white",
            "linecolor": "white",
            "ticks": ""
           },
           "bgcolor": "#E5ECF6",
           "radialaxis": {
            "gridcolor": "white",
            "linecolor": "white",
            "ticks": ""
           }
          },
          "scene": {
           "xaxis": {
            "backgroundcolor": "#E5ECF6",
            "gridcolor": "white",
            "gridwidth": 2,
            "linecolor": "white",
            "showbackground": true,
            "ticks": "",
            "zerolinecolor": "white"
           },
           "yaxis": {
            "backgroundcolor": "#E5ECF6",
            "gridcolor": "white",
            "gridwidth": 2,
            "linecolor": "white",
            "showbackground": true,
            "ticks": "",
            "zerolinecolor": "white"
           },
           "zaxis": {
            "backgroundcolor": "#E5ECF6",
            "gridcolor": "white",
            "gridwidth": 2,
            "linecolor": "white",
            "showbackground": true,
            "ticks": "",
            "zerolinecolor": "white"
           }
          },
          "shapedefaults": {
           "line": {
            "color": "#2a3f5f"
           }
          },
          "ternary": {
           "aaxis": {
            "gridcolor": "white",
            "linecolor": "white",
            "ticks": ""
           },
           "baxis": {
            "gridcolor": "white",
            "linecolor": "white",
            "ticks": ""
           },
           "bgcolor": "#E5ECF6",
           "caxis": {
            "gridcolor": "white",
            "linecolor": "white",
            "ticks": ""
           }
          },
          "title": {
           "x": 0.05
          },
          "xaxis": {
           "automargin": true,
           "gridcolor": "white",
           "linecolor": "white",
           "ticks": "",
           "title": {
            "standoff": 15
           },
           "zerolinecolor": "white",
           "zerolinewidth": 2
          },
          "yaxis": {
           "automargin": true,
           "gridcolor": "white",
           "linecolor": "white",
           "ticks": "",
           "title": {
            "standoff": 15
           },
           "zerolinecolor": "white",
           "zerolinewidth": 2
          }
         }
        },
        "title": {
         "text": "Conv. Transformer Prediction vs. Ground Truth for ALT"
        },
        "xaxis": {
         "title": {
          "text": "Time Step"
         }
        },
        "yaxis": {
         "title": {
          "text": "Value"
         }
        }
       }
      }
     },
     "metadata": {},
     "output_type": "display_data"
    },
    {
     "data": {
      "application/vnd.plotly.v1+json": {
       "config": {
        "plotlyServerURL": "https://plot.ly"
       },
       "data": [
        {
         "line": {
          "color": "blue"
         },
         "mode": "lines",
         "name": "GT",
         "type": "scatter",
         "y": [
          0.7901026606559753,
          0.7225285768508911,
          0.654036819934845,
          0.5845959186553955,
          0.514149010181427,
          0.44261473417282104,
          0.3698865473270416,
          0.29583731293678284,
          0.2203301638364792,
          0.14323310554027557,
          0.06444334983825684,
          -0.0160861574113369,
          -0.09832675755023956,
          -0.1821625977754593,
          -0.2673967778682709,
          -0.35376864671707153,
          -1.1291027069091797,
          -1.2090986967086792,
          -1.2867423295974731,
          -1.3617452383041382,
          -1.4338215589523315,
          -1.5026874542236328,
          -1.568061113357544,
          -1.6296615600585938,
          -1.6872092485427856,
          -1.740425944328308,
          -1.7890361547470093,
          -1.8327676057815552,
          -1.8713539838790894,
          -1.9045350551605225,
          -1.932060956954956,
          -1.953693151473999,
          -1.853359580039978,
          -1.8076151609420776,
          -1.754968523979187,
          -1.6955461502075195,
          -1.6295194625854492,
          -1.5571048259735107,
          -1.4785618782043457,
          -1.3941960334777832,
          -1.3043545484542847,
          -1.2094249725341797,
          -1.1098321676254272,
          -1.0060361623764038,
          -0.8985280394554138,
          -0.7878246903419495,
          -0.6744656562805176,
          -0.5590068697929382
         ]
        },
        {
         "line": {
          "color": "red"
         },
         "mode": "lines",
         "name": "pred_beginning",
         "type": "scatter",
         "y": [
          0.8909413814544678,
          0.8924906253814697,
          0.7648876905441284,
          1.002308964729309,
          0.9799590706825256,
          0.9044584035873413,
          1.034497857093811,
          1.0244706869125366,
          0.8518934845924377,
          0.8024335503578186,
          0.7984812259674072,
          0.7708528637886047,
          0.7923079133033752,
          0.9457055926322937,
          0.7776466012001038,
          0.67554771900177,
          -1.0547008514404297,
          -1.1089595556259155,
          -0.9276427626609802,
          -1.0093300342559814,
          -1.0760259628295898,
          -1.0880019664764404,
          -1.0182362794876099,
          -0.9758424162864685,
          -1.1311016082763672,
          -1.069209337234497,
          -0.9798036217689514,
          -1.0547881126403809,
          -1.0803501605987549,
          -0.9756167531013489,
          -0.9788773059844971,
          -0.9590407013893127,
          -0.9883071184158325,
          -0.9978963136672974,
          -0.8689875602722168,
          -1.099243402481079,
          -1.0817625522613525,
          -1.04607093334198,
          -1.0248212814331055,
          -0.9786717295646667,
          -0.8352973461151123,
          -0.9375520944595337,
          -0.9510642290115356,
          -0.8803169131278992,
          -0.8785461783409119,
          -0.9124294519424438,
          -0.82818603515625,
          -0.8090064525604248
         ]
        }
       ],
       "layout": {
        "template": {
         "data": {
          "bar": [
           {
            "error_x": {
             "color": "#2a3f5f"
            },
            "error_y": {
             "color": "#2a3f5f"
            },
            "marker": {
             "line": {
              "color": "#E5ECF6",
              "width": 0.5
             },
             "pattern": {
              "fillmode": "overlay",
              "size": 10,
              "solidity": 0.2
             }
            },
            "type": "bar"
           }
          ],
          "barpolar": [
           {
            "marker": {
             "line": {
              "color": "#E5ECF6",
              "width": 0.5
             },
             "pattern": {
              "fillmode": "overlay",
              "size": 10,
              "solidity": 0.2
             }
            },
            "type": "barpolar"
           }
          ],
          "carpet": [
           {
            "aaxis": {
             "endlinecolor": "#2a3f5f",
             "gridcolor": "white",
             "linecolor": "white",
             "minorgridcolor": "white",
             "startlinecolor": "#2a3f5f"
            },
            "baxis": {
             "endlinecolor": "#2a3f5f",
             "gridcolor": "white",
             "linecolor": "white",
             "minorgridcolor": "white",
             "startlinecolor": "#2a3f5f"
            },
            "type": "carpet"
           }
          ],
          "choropleth": [
           {
            "colorbar": {
             "outlinewidth": 0,
             "ticks": ""
            },
            "type": "choropleth"
           }
          ],
          "contour": [
           {
            "colorbar": {
             "outlinewidth": 0,
             "ticks": ""
            },
            "colorscale": [
             [
              0,
              "#0d0887"
             ],
             [
              0.1111111111111111,
              "#46039f"
             ],
             [
              0.2222222222222222,
              "#7201a8"
             ],
             [
              0.3333333333333333,
              "#9c179e"
             ],
             [
              0.4444444444444444,
              "#bd3786"
             ],
             [
              0.5555555555555556,
              "#d8576b"
             ],
             [
              0.6666666666666666,
              "#ed7953"
             ],
             [
              0.7777777777777778,
              "#fb9f3a"
             ],
             [
              0.8888888888888888,
              "#fdca26"
             ],
             [
              1,
              "#f0f921"
             ]
            ],
            "type": "contour"
           }
          ],
          "contourcarpet": [
           {
            "colorbar": {
             "outlinewidth": 0,
             "ticks": ""
            },
            "type": "contourcarpet"
           }
          ],
          "heatmap": [
           {
            "colorbar": {
             "outlinewidth": 0,
             "ticks": ""
            },
            "colorscale": [
             [
              0,
              "#0d0887"
             ],
             [
              0.1111111111111111,
              "#46039f"
             ],
             [
              0.2222222222222222,
              "#7201a8"
             ],
             [
              0.3333333333333333,
              "#9c179e"
             ],
             [
              0.4444444444444444,
              "#bd3786"
             ],
             [
              0.5555555555555556,
              "#d8576b"
             ],
             [
              0.6666666666666666,
              "#ed7953"
             ],
             [
              0.7777777777777778,
              "#fb9f3a"
             ],
             [
              0.8888888888888888,
              "#fdca26"
             ],
             [
              1,
              "#f0f921"
             ]
            ],
            "type": "heatmap"
           }
          ],
          "heatmapgl": [
           {
            "colorbar": {
             "outlinewidth": 0,
             "ticks": ""
            },
            "colorscale": [
             [
              0,
              "#0d0887"
             ],
             [
              0.1111111111111111,
              "#46039f"
             ],
             [
              0.2222222222222222,
              "#7201a8"
             ],
             [
              0.3333333333333333,
              "#9c179e"
             ],
             [
              0.4444444444444444,
              "#bd3786"
             ],
             [
              0.5555555555555556,
              "#d8576b"
             ],
             [
              0.6666666666666666,
              "#ed7953"
             ],
             [
              0.7777777777777778,
              "#fb9f3a"
             ],
             [
              0.8888888888888888,
              "#fdca26"
             ],
             [
              1,
              "#f0f921"
             ]
            ],
            "type": "heatmapgl"
           }
          ],
          "histogram": [
           {
            "marker": {
             "pattern": {
              "fillmode": "overlay",
              "size": 10,
              "solidity": 0.2
             }
            },
            "type": "histogram"
           }
          ],
          "histogram2d": [
           {
            "colorbar": {
             "outlinewidth": 0,
             "ticks": ""
            },
            "colorscale": [
             [
              0,
              "#0d0887"
             ],
             [
              0.1111111111111111,
              "#46039f"
             ],
             [
              0.2222222222222222,
              "#7201a8"
             ],
             [
              0.3333333333333333,
              "#9c179e"
             ],
             [
              0.4444444444444444,
              "#bd3786"
             ],
             [
              0.5555555555555556,
              "#d8576b"
             ],
             [
              0.6666666666666666,
              "#ed7953"
             ],
             [
              0.7777777777777778,
              "#fb9f3a"
             ],
             [
              0.8888888888888888,
              "#fdca26"
             ],
             [
              1,
              "#f0f921"
             ]
            ],
            "type": "histogram2d"
           }
          ],
          "histogram2dcontour": [
           {
            "colorbar": {
             "outlinewidth": 0,
             "ticks": ""
            },
            "colorscale": [
             [
              0,
              "#0d0887"
             ],
             [
              0.1111111111111111,
              "#46039f"
             ],
             [
              0.2222222222222222,
              "#7201a8"
             ],
             [
              0.3333333333333333,
              "#9c179e"
             ],
             [
              0.4444444444444444,
              "#bd3786"
             ],
             [
              0.5555555555555556,
              "#d8576b"
             ],
             [
              0.6666666666666666,
              "#ed7953"
             ],
             [
              0.7777777777777778,
              "#fb9f3a"
             ],
             [
              0.8888888888888888,
              "#fdca26"
             ],
             [
              1,
              "#f0f921"
             ]
            ],
            "type": "histogram2dcontour"
           }
          ],
          "mesh3d": [
           {
            "colorbar": {
             "outlinewidth": 0,
             "ticks": ""
            },
            "type": "mesh3d"
           }
          ],
          "parcoords": [
           {
            "line": {
             "colorbar": {
              "outlinewidth": 0,
              "ticks": ""
             }
            },
            "type": "parcoords"
           }
          ],
          "pie": [
           {
            "automargin": true,
            "type": "pie"
           }
          ],
          "scatter": [
           {
            "fillpattern": {
             "fillmode": "overlay",
             "size": 10,
             "solidity": 0.2
            },
            "type": "scatter"
           }
          ],
          "scatter3d": [
           {
            "line": {
             "colorbar": {
              "outlinewidth": 0,
              "ticks": ""
             }
            },
            "marker": {
             "colorbar": {
              "outlinewidth": 0,
              "ticks": ""
             }
            },
            "type": "scatter3d"
           }
          ],
          "scattercarpet": [
           {
            "marker": {
             "colorbar": {
              "outlinewidth": 0,
              "ticks": ""
             }
            },
            "type": "scattercarpet"
           }
          ],
          "scattergeo": [
           {
            "marker": {
             "colorbar": {
              "outlinewidth": 0,
              "ticks": ""
             }
            },
            "type": "scattergeo"
           }
          ],
          "scattergl": [
           {
            "marker": {
             "colorbar": {
              "outlinewidth": 0,
              "ticks": ""
             }
            },
            "type": "scattergl"
           }
          ],
          "scattermapbox": [
           {
            "marker": {
             "colorbar": {
              "outlinewidth": 0,
              "ticks": ""
             }
            },
            "type": "scattermapbox"
           }
          ],
          "scatterpolar": [
           {
            "marker": {
             "colorbar": {
              "outlinewidth": 0,
              "ticks": ""
             }
            },
            "type": "scatterpolar"
           }
          ],
          "scatterpolargl": [
           {
            "marker": {
             "colorbar": {
              "outlinewidth": 0,
              "ticks": ""
             }
            },
            "type": "scatterpolargl"
           }
          ],
          "scatterternary": [
           {
            "marker": {
             "colorbar": {
              "outlinewidth": 0,
              "ticks": ""
             }
            },
            "type": "scatterternary"
           }
          ],
          "surface": [
           {
            "colorbar": {
             "outlinewidth": 0,
             "ticks": ""
            },
            "colorscale": [
             [
              0,
              "#0d0887"
             ],
             [
              0.1111111111111111,
              "#46039f"
             ],
             [
              0.2222222222222222,
              "#7201a8"
             ],
             [
              0.3333333333333333,
              "#9c179e"
             ],
             [
              0.4444444444444444,
              "#bd3786"
             ],
             [
              0.5555555555555556,
              "#d8576b"
             ],
             [
              0.6666666666666666,
              "#ed7953"
             ],
             [
              0.7777777777777778,
              "#fb9f3a"
             ],
             [
              0.8888888888888888,
              "#fdca26"
             ],
             [
              1,
              "#f0f921"
             ]
            ],
            "type": "surface"
           }
          ],
          "table": [
           {
            "cells": {
             "fill": {
              "color": "#EBF0F8"
             },
             "line": {
              "color": "white"
             }
            },
            "header": {
             "fill": {
              "color": "#C8D4E3"
             },
             "line": {
              "color": "white"
             }
            },
            "type": "table"
           }
          ]
         },
         "layout": {
          "annotationdefaults": {
           "arrowcolor": "#2a3f5f",
           "arrowhead": 0,
           "arrowwidth": 1
          },
          "autotypenumbers": "strict",
          "coloraxis": {
           "colorbar": {
            "outlinewidth": 0,
            "ticks": ""
           }
          },
          "colorscale": {
           "diverging": [
            [
             0,
             "#8e0152"
            ],
            [
             0.1,
             "#c51b7d"
            ],
            [
             0.2,
             "#de77ae"
            ],
            [
             0.3,
             "#f1b6da"
            ],
            [
             0.4,
             "#fde0ef"
            ],
            [
             0.5,
             "#f7f7f7"
            ],
            [
             0.6,
             "#e6f5d0"
            ],
            [
             0.7,
             "#b8e186"
            ],
            [
             0.8,
             "#7fbc41"
            ],
            [
             0.9,
             "#4d9221"
            ],
            [
             1,
             "#276419"
            ]
           ],
           "sequential": [
            [
             0,
             "#0d0887"
            ],
            [
             0.1111111111111111,
             "#46039f"
            ],
            [
             0.2222222222222222,
             "#7201a8"
            ],
            [
             0.3333333333333333,
             "#9c179e"
            ],
            [
             0.4444444444444444,
             "#bd3786"
            ],
            [
             0.5555555555555556,
             "#d8576b"
            ],
            [
             0.6666666666666666,
             "#ed7953"
            ],
            [
             0.7777777777777778,
             "#fb9f3a"
            ],
            [
             0.8888888888888888,
             "#fdca26"
            ],
            [
             1,
             "#f0f921"
            ]
           ],
           "sequentialminus": [
            [
             0,
             "#0d0887"
            ],
            [
             0.1111111111111111,
             "#46039f"
            ],
            [
             0.2222222222222222,
             "#7201a8"
            ],
            [
             0.3333333333333333,
             "#9c179e"
            ],
            [
             0.4444444444444444,
             "#bd3786"
            ],
            [
             0.5555555555555556,
             "#d8576b"
            ],
            [
             0.6666666666666666,
             "#ed7953"
            ],
            [
             0.7777777777777778,
             "#fb9f3a"
            ],
            [
             0.8888888888888888,
             "#fdca26"
            ],
            [
             1,
             "#f0f921"
            ]
           ]
          },
          "colorway": [
           "#636efa",
           "#EF553B",
           "#00cc96",
           "#ab63fa",
           "#FFA15A",
           "#19d3f3",
           "#FF6692",
           "#B6E880",
           "#FF97FF",
           "#FECB52"
          ],
          "font": {
           "color": "#2a3f5f"
          },
          "geo": {
           "bgcolor": "white",
           "lakecolor": "white",
           "landcolor": "#E5ECF6",
           "showlakes": true,
           "showland": true,
           "subunitcolor": "white"
          },
          "hoverlabel": {
           "align": "left"
          },
          "hovermode": "closest",
          "mapbox": {
           "style": "light"
          },
          "paper_bgcolor": "white",
          "plot_bgcolor": "#E5ECF6",
          "polar": {
           "angularaxis": {
            "gridcolor": "white",
            "linecolor": "white",
            "ticks": ""
           },
           "bgcolor": "#E5ECF6",
           "radialaxis": {
            "gridcolor": "white",
            "linecolor": "white",
            "ticks": ""
           }
          },
          "scene": {
           "xaxis": {
            "backgroundcolor": "#E5ECF6",
            "gridcolor": "white",
            "gridwidth": 2,
            "linecolor": "white",
            "showbackground": true,
            "ticks": "",
            "zerolinecolor": "white"
           },
           "yaxis": {
            "backgroundcolor": "#E5ECF6",
            "gridcolor": "white",
            "gridwidth": 2,
            "linecolor": "white",
            "showbackground": true,
            "ticks": "",
            "zerolinecolor": "white"
           },
           "zaxis": {
            "backgroundcolor": "#E5ECF6",
            "gridcolor": "white",
            "gridwidth": 2,
            "linecolor": "white",
            "showbackground": true,
            "ticks": "",
            "zerolinecolor": "white"
           }
          },
          "shapedefaults": {
           "line": {
            "color": "#2a3f5f"
           }
          },
          "ternary": {
           "aaxis": {
            "gridcolor": "white",
            "linecolor": "white",
            "ticks": ""
           },
           "baxis": {
            "gridcolor": "white",
            "linecolor": "white",
            "ticks": ""
           },
           "bgcolor": "#E5ECF6",
           "caxis": {
            "gridcolor": "white",
            "linecolor": "white",
            "ticks": ""
           }
          },
          "title": {
           "x": 0.05
          },
          "xaxis": {
           "automargin": true,
           "gridcolor": "white",
           "linecolor": "white",
           "ticks": "",
           "title": {
            "standoff": 15
           },
           "zerolinecolor": "white",
           "zerolinewidth": 2
          },
          "yaxis": {
           "automargin": true,
           "gridcolor": "white",
           "linecolor": "white",
           "ticks": "",
           "title": {
            "standoff": 15
           },
           "zerolinecolor": "white",
           "zerolinewidth": 2
          }
         }
        },
        "title": {
         "text": "Conv. Transformer Prediction vs. Ground Truth for HDOT"
        },
        "xaxis": {
         "title": {
          "text": "Time Step"
         }
        },
        "yaxis": {
         "title": {
          "text": "Value"
         }
        }
       }
      }
     },
     "metadata": {},
     "output_type": "display_data"
    },
    {
     "data": {
      "application/vnd.plotly.v1+json": {
       "config": {
        "plotlyServerURL": "https://plot.ly"
       },
       "data": [
        {
         "line": {
          "color": "blue"
         },
         "mode": "lines",
         "name": "GT",
         "type": "scatter",
         "y": [
          -2.7897419929504395,
          -2.892526149749756,
          -2.9900965690612793,
          -3.0815608501434326,
          -3.165883779525757,
          -3.241877317428589,
          -3.3082118034362793,
          -3.363445520401001,
          -3.4060792922973633,
          -3.434654712677002,
          -3.447871208190918,
          -3.4447264671325684,
          -3.4246366024017334,
          -3.3875133991241455,
          -3.3337764739990234,
          -3.2642951011657715,
          -2.1579837799072266,
          -2.005401611328125,
          -1.850516438484192,
          -1.6940135955810547,
          -1.5365052223205566,
          -1.3785388469696045,
          -1.2206106185913086,
          -1.063171148300171,
          -0.9066294431686401,
          -0.7513644099235535,
          -0.5977368950843811,
          -0.44606292247772217,
          -0.29666271805763245,
          -0.14981594681739807,
          -0.005810381844639778,
          0.1350986361503601,
          1.225824236869812,
          1.3236207962036133,
          1.4161077737808228,
          1.5031474828720093,
          1.5846141576766968,
          1.660386323928833,
          1.730366587638855,
          1.7944577932357788,
          1.8525828123092651,
          1.9046850204467773,
          1.9507076740264893,
          1.9906222820281982,
          2.024404525756836,
          2.052046537399292,
          2.073564291000366,
          2.0889739990234375
         ]
        },
        {
         "line": {
          "color": "red"
         },
         "mode": "lines",
         "name": "pred_beginning",
         "type": "scatter",
         "y": [
          -1.9132329225540161,
          -2.0381412506103516,
          -1.900740146636963,
          -1.9328665733337402,
          -1.9965877532958984,
          -1.9832957983016968,
          -2.0315303802490234,
          -2.0130460262298584,
          -2.2041962146759033,
          -1.9893410205841064,
          -1.893168330192566,
          -2.0087924003601074,
          -2.003302812576294,
          -1.9305341243743896,
          -1.986378788948059,
          -1.8174488544464111,
          -0.8637261986732483,
          -0.7596301436424255,
          -0.7966328859329224,
          -1.0663856267929077,
          -0.9638575911521912,
          -0.8645635843276978,
          -0.8800458908081055,
          -0.9870293736457825,
          -0.5393849611282349,
          -0.7620609402656555,
          -0.894226610660553,
          -0.6884543299674988,
          -0.6973888874053955,
          -0.8440360426902771,
          -0.700543999671936,
          -0.73899245262146,
          1.5443669557571411,
          1.5563675165176392,
          1.6996628046035767,
          1.5186201333999634,
          1.6726250648498535,
          1.5143917798995972,
          1.740460753440857,
          1.890238881111145,
          1.8199520111083984,
          1.7273346185684204,
          1.8182737827301025,
          1.7161576747894287,
          1.6729575395584106,
          1.4861714839935303,
          1.7647558450698853,
          1.8180381059646606
         ]
        }
       ],
       "layout": {
        "template": {
         "data": {
          "bar": [
           {
            "error_x": {
             "color": "#2a3f5f"
            },
            "error_y": {
             "color": "#2a3f5f"
            },
            "marker": {
             "line": {
              "color": "#E5ECF6",
              "width": 0.5
             },
             "pattern": {
              "fillmode": "overlay",
              "size": 10,
              "solidity": 0.2
             }
            },
            "type": "bar"
           }
          ],
          "barpolar": [
           {
            "marker": {
             "line": {
              "color": "#E5ECF6",
              "width": 0.5
             },
             "pattern": {
              "fillmode": "overlay",
              "size": 10,
              "solidity": 0.2
             }
            },
            "type": "barpolar"
           }
          ],
          "carpet": [
           {
            "aaxis": {
             "endlinecolor": "#2a3f5f",
             "gridcolor": "white",
             "linecolor": "white",
             "minorgridcolor": "white",
             "startlinecolor": "#2a3f5f"
            },
            "baxis": {
             "endlinecolor": "#2a3f5f",
             "gridcolor": "white",
             "linecolor": "white",
             "minorgridcolor": "white",
             "startlinecolor": "#2a3f5f"
            },
            "type": "carpet"
           }
          ],
          "choropleth": [
           {
            "colorbar": {
             "outlinewidth": 0,
             "ticks": ""
            },
            "type": "choropleth"
           }
          ],
          "contour": [
           {
            "colorbar": {
             "outlinewidth": 0,
             "ticks": ""
            },
            "colorscale": [
             [
              0,
              "#0d0887"
             ],
             [
              0.1111111111111111,
              "#46039f"
             ],
             [
              0.2222222222222222,
              "#7201a8"
             ],
             [
              0.3333333333333333,
              "#9c179e"
             ],
             [
              0.4444444444444444,
              "#bd3786"
             ],
             [
              0.5555555555555556,
              "#d8576b"
             ],
             [
              0.6666666666666666,
              "#ed7953"
             ],
             [
              0.7777777777777778,
              "#fb9f3a"
             ],
             [
              0.8888888888888888,
              "#fdca26"
             ],
             [
              1,
              "#f0f921"
             ]
            ],
            "type": "contour"
           }
          ],
          "contourcarpet": [
           {
            "colorbar": {
             "outlinewidth": 0,
             "ticks": ""
            },
            "type": "contourcarpet"
           }
          ],
          "heatmap": [
           {
            "colorbar": {
             "outlinewidth": 0,
             "ticks": ""
            },
            "colorscale": [
             [
              0,
              "#0d0887"
             ],
             [
              0.1111111111111111,
              "#46039f"
             ],
             [
              0.2222222222222222,
              "#7201a8"
             ],
             [
              0.3333333333333333,
              "#9c179e"
             ],
             [
              0.4444444444444444,
              "#bd3786"
             ],
             [
              0.5555555555555556,
              "#d8576b"
             ],
             [
              0.6666666666666666,
              "#ed7953"
             ],
             [
              0.7777777777777778,
              "#fb9f3a"
             ],
             [
              0.8888888888888888,
              "#fdca26"
             ],
             [
              1,
              "#f0f921"
             ]
            ],
            "type": "heatmap"
           }
          ],
          "heatmapgl": [
           {
            "colorbar": {
             "outlinewidth": 0,
             "ticks": ""
            },
            "colorscale": [
             [
              0,
              "#0d0887"
             ],
             [
              0.1111111111111111,
              "#46039f"
             ],
             [
              0.2222222222222222,
              "#7201a8"
             ],
             [
              0.3333333333333333,
              "#9c179e"
             ],
             [
              0.4444444444444444,
              "#bd3786"
             ],
             [
              0.5555555555555556,
              "#d8576b"
             ],
             [
              0.6666666666666666,
              "#ed7953"
             ],
             [
              0.7777777777777778,
              "#fb9f3a"
             ],
             [
              0.8888888888888888,
              "#fdca26"
             ],
             [
              1,
              "#f0f921"
             ]
            ],
            "type": "heatmapgl"
           }
          ],
          "histogram": [
           {
            "marker": {
             "pattern": {
              "fillmode": "overlay",
              "size": 10,
              "solidity": 0.2
             }
            },
            "type": "histogram"
           }
          ],
          "histogram2d": [
           {
            "colorbar": {
             "outlinewidth": 0,
             "ticks": ""
            },
            "colorscale": [
             [
              0,
              "#0d0887"
             ],
             [
              0.1111111111111111,
              "#46039f"
             ],
             [
              0.2222222222222222,
              "#7201a8"
             ],
             [
              0.3333333333333333,
              "#9c179e"
             ],
             [
              0.4444444444444444,
              "#bd3786"
             ],
             [
              0.5555555555555556,
              "#d8576b"
             ],
             [
              0.6666666666666666,
              "#ed7953"
             ],
             [
              0.7777777777777778,
              "#fb9f3a"
             ],
             [
              0.8888888888888888,
              "#fdca26"
             ],
             [
              1,
              "#f0f921"
             ]
            ],
            "type": "histogram2d"
           }
          ],
          "histogram2dcontour": [
           {
            "colorbar": {
             "outlinewidth": 0,
             "ticks": ""
            },
            "colorscale": [
             [
              0,
              "#0d0887"
             ],
             [
              0.1111111111111111,
              "#46039f"
             ],
             [
              0.2222222222222222,
              "#7201a8"
             ],
             [
              0.3333333333333333,
              "#9c179e"
             ],
             [
              0.4444444444444444,
              "#bd3786"
             ],
             [
              0.5555555555555556,
              "#d8576b"
             ],
             [
              0.6666666666666666,
              "#ed7953"
             ],
             [
              0.7777777777777778,
              "#fb9f3a"
             ],
             [
              0.8888888888888888,
              "#fdca26"
             ],
             [
              1,
              "#f0f921"
             ]
            ],
            "type": "histogram2dcontour"
           }
          ],
          "mesh3d": [
           {
            "colorbar": {
             "outlinewidth": 0,
             "ticks": ""
            },
            "type": "mesh3d"
           }
          ],
          "parcoords": [
           {
            "line": {
             "colorbar": {
              "outlinewidth": 0,
              "ticks": ""
             }
            },
            "type": "parcoords"
           }
          ],
          "pie": [
           {
            "automargin": true,
            "type": "pie"
           }
          ],
          "scatter": [
           {
            "fillpattern": {
             "fillmode": "overlay",
             "size": 10,
             "solidity": 0.2
            },
            "type": "scatter"
           }
          ],
          "scatter3d": [
           {
            "line": {
             "colorbar": {
              "outlinewidth": 0,
              "ticks": ""
             }
            },
            "marker": {
             "colorbar": {
              "outlinewidth": 0,
              "ticks": ""
             }
            },
            "type": "scatter3d"
           }
          ],
          "scattercarpet": [
           {
            "marker": {
             "colorbar": {
              "outlinewidth": 0,
              "ticks": ""
             }
            },
            "type": "scattercarpet"
           }
          ],
          "scattergeo": [
           {
            "marker": {
             "colorbar": {
              "outlinewidth": 0,
              "ticks": ""
             }
            },
            "type": "scattergeo"
           }
          ],
          "scattergl": [
           {
            "marker": {
             "colorbar": {
              "outlinewidth": 0,
              "ticks": ""
             }
            },
            "type": "scattergl"
           }
          ],
          "scattermapbox": [
           {
            "marker": {
             "colorbar": {
              "outlinewidth": 0,
              "ticks": ""
             }
            },
            "type": "scattermapbox"
           }
          ],
          "scatterpolar": [
           {
            "marker": {
             "colorbar": {
              "outlinewidth": 0,
              "ticks": ""
             }
            },
            "type": "scatterpolar"
           }
          ],
          "scatterpolargl": [
           {
            "marker": {
             "colorbar": {
              "outlinewidth": 0,
              "ticks": ""
             }
            },
            "type": "scatterpolargl"
           }
          ],
          "scatterternary": [
           {
            "marker": {
             "colorbar": {
              "outlinewidth": 0,
              "ticks": ""
             }
            },
            "type": "scatterternary"
           }
          ],
          "surface": [
           {
            "colorbar": {
             "outlinewidth": 0,
             "ticks": ""
            },
            "colorscale": [
             [
              0,
              "#0d0887"
             ],
             [
              0.1111111111111111,
              "#46039f"
             ],
             [
              0.2222222222222222,
              "#7201a8"
             ],
             [
              0.3333333333333333,
              "#9c179e"
             ],
             [
              0.4444444444444444,
              "#bd3786"
             ],
             [
              0.5555555555555556,
              "#d8576b"
             ],
             [
              0.6666666666666666,
              "#ed7953"
             ],
             [
              0.7777777777777778,
              "#fb9f3a"
             ],
             [
              0.8888888888888888,
              "#fdca26"
             ],
             [
              1,
              "#f0f921"
             ]
            ],
            "type": "surface"
           }
          ],
          "table": [
           {
            "cells": {
             "fill": {
              "color": "#EBF0F8"
             },
             "line": {
              "color": "white"
             }
            },
            "header": {
             "fill": {
              "color": "#C8D4E3"
             },
             "line": {
              "color": "white"
             }
            },
            "type": "table"
           }
          ]
         },
         "layout": {
          "annotationdefaults": {
           "arrowcolor": "#2a3f5f",
           "arrowhead": 0,
           "arrowwidth": 1
          },
          "autotypenumbers": "strict",
          "coloraxis": {
           "colorbar": {
            "outlinewidth": 0,
            "ticks": ""
           }
          },
          "colorscale": {
           "diverging": [
            [
             0,
             "#8e0152"
            ],
            [
             0.1,
             "#c51b7d"
            ],
            [
             0.2,
             "#de77ae"
            ],
            [
             0.3,
             "#f1b6da"
            ],
            [
             0.4,
             "#fde0ef"
            ],
            [
             0.5,
             "#f7f7f7"
            ],
            [
             0.6,
             "#e6f5d0"
            ],
            [
             0.7,
             "#b8e186"
            ],
            [
             0.8,
             "#7fbc41"
            ],
            [
             0.9,
             "#4d9221"
            ],
            [
             1,
             "#276419"
            ]
           ],
           "sequential": [
            [
             0,
             "#0d0887"
            ],
            [
             0.1111111111111111,
             "#46039f"
            ],
            [
             0.2222222222222222,
             "#7201a8"
            ],
            [
             0.3333333333333333,
             "#9c179e"
            ],
            [
             0.4444444444444444,
             "#bd3786"
            ],
            [
             0.5555555555555556,
             "#d8576b"
            ],
            [
             0.6666666666666666,
             "#ed7953"
            ],
            [
             0.7777777777777778,
             "#fb9f3a"
            ],
            [
             0.8888888888888888,
             "#fdca26"
            ],
            [
             1,
             "#f0f921"
            ]
           ],
           "sequentialminus": [
            [
             0,
             "#0d0887"
            ],
            [
             0.1111111111111111,
             "#46039f"
            ],
            [
             0.2222222222222222,
             "#7201a8"
            ],
            [
             0.3333333333333333,
             "#9c179e"
            ],
            [
             0.4444444444444444,
             "#bd3786"
            ],
            [
             0.5555555555555556,
             "#d8576b"
            ],
            [
             0.6666666666666666,
             "#ed7953"
            ],
            [
             0.7777777777777778,
             "#fb9f3a"
            ],
            [
             0.8888888888888888,
             "#fdca26"
            ],
            [
             1,
             "#f0f921"
            ]
           ]
          },
          "colorway": [
           "#636efa",
           "#EF553B",
           "#00cc96",
           "#ab63fa",
           "#FFA15A",
           "#19d3f3",
           "#FF6692",
           "#B6E880",
           "#FF97FF",
           "#FECB52"
          ],
          "font": {
           "color": "#2a3f5f"
          },
          "geo": {
           "bgcolor": "white",
           "lakecolor": "white",
           "landcolor": "#E5ECF6",
           "showlakes": true,
           "showland": true,
           "subunitcolor": "white"
          },
          "hoverlabel": {
           "align": "left"
          },
          "hovermode": "closest",
          "mapbox": {
           "style": "light"
          },
          "paper_bgcolor": "white",
          "plot_bgcolor": "#E5ECF6",
          "polar": {
           "angularaxis": {
            "gridcolor": "white",
            "linecolor": "white",
            "ticks": ""
           },
           "bgcolor": "#E5ECF6",
           "radialaxis": {
            "gridcolor": "white",
            "linecolor": "white",
            "ticks": ""
           }
          },
          "scene": {
           "xaxis": {
            "backgroundcolor": "#E5ECF6",
            "gridcolor": "white",
            "gridwidth": 2,
            "linecolor": "white",
            "showbackground": true,
            "ticks": "",
            "zerolinecolor": "white"
           },
           "yaxis": {
            "backgroundcolor": "#E5ECF6",
            "gridcolor": "white",
            "gridwidth": 2,
            "linecolor": "white",
            "showbackground": true,
            "ticks": "",
            "zerolinecolor": "white"
           },
           "zaxis": {
            "backgroundcolor": "#E5ECF6",
            "gridcolor": "white",
            "gridwidth": 2,
            "linecolor": "white",
            "showbackground": true,
            "ticks": "",
            "zerolinecolor": "white"
           }
          },
          "shapedefaults": {
           "line": {
            "color": "#2a3f5f"
           }
          },
          "ternary": {
           "aaxis": {
            "gridcolor": "white",
            "linecolor": "white",
            "ticks": ""
           },
           "baxis": {
            "gridcolor": "white",
            "linecolor": "white",
            "ticks": ""
           },
           "bgcolor": "#E5ECF6",
           "caxis": {
            "gridcolor": "white",
            "linecolor": "white",
            "ticks": ""
           }
          },
          "title": {
           "x": 0.05
          },
          "xaxis": {
           "automargin": true,
           "gridcolor": "white",
           "linecolor": "white",
           "ticks": "",
           "title": {
            "standoff": 15
           },
           "zerolinecolor": "white",
           "zerolinewidth": 2
          },
          "yaxis": {
           "automargin": true,
           "gridcolor": "white",
           "linecolor": "white",
           "ticks": "",
           "title": {
            "standoff": 15
           },
           "zerolinecolor": "white",
           "zerolinewidth": 2
          }
         }
        },
        "title": {
         "text": "Conv. Transformer Prediction vs. Ground Truth for VT"
        },
        "xaxis": {
         "title": {
          "text": "Time Step"
         }
        },
        "yaxis": {
         "title": {
          "text": "Value"
         }
        }
       }
      }
     },
     "metadata": {},
     "output_type": "display_data"
    },
    {
     "data": {
      "application/vnd.plotly.v1+json": {
       "config": {
        "plotlyServerURL": "https://plot.ly"
       },
       "data": [
        {
         "line": {
          "color": "blue"
         },
         "mode": "lines",
         "name": "GT",
         "type": "scatter",
         "y": [
          0.37280386686325073,
          0.37280386686325073,
          0.37280386686325073,
          0.37280386686325073,
          0.37280386686325073,
          0.37280386686325073,
          0.37280386686325073,
          0.37280386686325073,
          0.37280386686325073,
          0.37280386686325073,
          0.37280386686325073,
          0.37280386686325073,
          0.37280386686325073,
          0.37280386686325073,
          0.37280386686325073,
          0.37280386686325073,
          0.37280386686325073,
          0.37280386686325073,
          0.37280386686325073,
          0.37280386686325073,
          0.37280386686325073,
          0.37280386686325073,
          0.37280386686325073,
          0.37280386686325073,
          0.37280386686325073,
          0.37280386686325073,
          0.37280386686325073,
          0.37280386686325073,
          0.37280386686325073,
          0.37280386686325073,
          0.37280386686325073,
          0.37280386686325073,
          0.37280386686325073,
          0.37280386686325073,
          0.37280386686325073,
          0.37280386686325073,
          0.37280386686325073,
          0.37280386686325073,
          0.37280386686325073,
          0.37280386686325073,
          0.37280386686325073,
          0.37280386686325073,
          0.37280386686325073,
          0.37280386686325073,
          0.37280386686325073,
          0.37280386686325073,
          0.37280386686325073,
          0.37280386686325073
         ]
        },
        {
         "line": {
          "color": "red"
         },
         "mode": "lines",
         "name": "pred_beginning",
         "type": "scatter",
         "y": [
          0.7595803141593933,
          0.6235260367393494,
          0.7350082397460938,
          0.798934817314148,
          0.7821059823036194,
          0.6861366033554077,
          0.7716240286827087,
          1.027626872062683,
          0.8187896609306335,
          0.7461066246032715,
          0.686674177646637,
          0.7458325624465942,
          0.8732617497444153,
          0.9779531359672546,
          0.7919516563415527,
          0.7349523901939392,
          0.661760687828064,
          0.7451395392417908,
          0.5001222491264343,
          0.6158086061477661,
          0.7277790904045105,
          0.6771237850189209,
          0.7819916605949402,
          0.6608648300170898,
          0.7507163286209106,
          0.6437638401985168,
          0.6011423468589783,
          0.613724410533905,
          0.6054299473762512,
          0.5463544130325317,
          0.5698629021644592,
          0.5549930334091187,
          0.5258706212043762,
          0.6110404133796692,
          0.3960551619529724,
          0.48418328166007996,
          0.5765552520751953,
          0.5265543460845947,
          0.6286741495132446,
          0.5476090312004089,
          0.6297645568847656,
          0.5124651193618774,
          0.5016061663627625,
          0.4966767132282257,
          0.47827064990997314,
          0.4241790175437927,
          0.48550111055374146,
          0.4794272184371948
         ]
        }
       ],
       "layout": {
        "template": {
         "data": {
          "bar": [
           {
            "error_x": {
             "color": "#2a3f5f"
            },
            "error_y": {
             "color": "#2a3f5f"
            },
            "marker": {
             "line": {
              "color": "#E5ECF6",
              "width": 0.5
             },
             "pattern": {
              "fillmode": "overlay",
              "size": 10,
              "solidity": 0.2
             }
            },
            "type": "bar"
           }
          ],
          "barpolar": [
           {
            "marker": {
             "line": {
              "color": "#E5ECF6",
              "width": 0.5
             },
             "pattern": {
              "fillmode": "overlay",
              "size": 10,
              "solidity": 0.2
             }
            },
            "type": "barpolar"
           }
          ],
          "carpet": [
           {
            "aaxis": {
             "endlinecolor": "#2a3f5f",
             "gridcolor": "white",
             "linecolor": "white",
             "minorgridcolor": "white",
             "startlinecolor": "#2a3f5f"
            },
            "baxis": {
             "endlinecolor": "#2a3f5f",
             "gridcolor": "white",
             "linecolor": "white",
             "minorgridcolor": "white",
             "startlinecolor": "#2a3f5f"
            },
            "type": "carpet"
           }
          ],
          "choropleth": [
           {
            "colorbar": {
             "outlinewidth": 0,
             "ticks": ""
            },
            "type": "choropleth"
           }
          ],
          "contour": [
           {
            "colorbar": {
             "outlinewidth": 0,
             "ticks": ""
            },
            "colorscale": [
             [
              0,
              "#0d0887"
             ],
             [
              0.1111111111111111,
              "#46039f"
             ],
             [
              0.2222222222222222,
              "#7201a8"
             ],
             [
              0.3333333333333333,
              "#9c179e"
             ],
             [
              0.4444444444444444,
              "#bd3786"
             ],
             [
              0.5555555555555556,
              "#d8576b"
             ],
             [
              0.6666666666666666,
              "#ed7953"
             ],
             [
              0.7777777777777778,
              "#fb9f3a"
             ],
             [
              0.8888888888888888,
              "#fdca26"
             ],
             [
              1,
              "#f0f921"
             ]
            ],
            "type": "contour"
           }
          ],
          "contourcarpet": [
           {
            "colorbar": {
             "outlinewidth": 0,
             "ticks": ""
            },
            "type": "contourcarpet"
           }
          ],
          "heatmap": [
           {
            "colorbar": {
             "outlinewidth": 0,
             "ticks": ""
            },
            "colorscale": [
             [
              0,
              "#0d0887"
             ],
             [
              0.1111111111111111,
              "#46039f"
             ],
             [
              0.2222222222222222,
              "#7201a8"
             ],
             [
              0.3333333333333333,
              "#9c179e"
             ],
             [
              0.4444444444444444,
              "#bd3786"
             ],
             [
              0.5555555555555556,
              "#d8576b"
             ],
             [
              0.6666666666666666,
              "#ed7953"
             ],
             [
              0.7777777777777778,
              "#fb9f3a"
             ],
             [
              0.8888888888888888,
              "#fdca26"
             ],
             [
              1,
              "#f0f921"
             ]
            ],
            "type": "heatmap"
           }
          ],
          "heatmapgl": [
           {
            "colorbar": {
             "outlinewidth": 0,
             "ticks": ""
            },
            "colorscale": [
             [
              0,
              "#0d0887"
             ],
             [
              0.1111111111111111,
              "#46039f"
             ],
             [
              0.2222222222222222,
              "#7201a8"
             ],
             [
              0.3333333333333333,
              "#9c179e"
             ],
             [
              0.4444444444444444,
              "#bd3786"
             ],
             [
              0.5555555555555556,
              "#d8576b"
             ],
             [
              0.6666666666666666,
              "#ed7953"
             ],
             [
              0.7777777777777778,
              "#fb9f3a"
             ],
             [
              0.8888888888888888,
              "#fdca26"
             ],
             [
              1,
              "#f0f921"
             ]
            ],
            "type": "heatmapgl"
           }
          ],
          "histogram": [
           {
            "marker": {
             "pattern": {
              "fillmode": "overlay",
              "size": 10,
              "solidity": 0.2
             }
            },
            "type": "histogram"
           }
          ],
          "histogram2d": [
           {
            "colorbar": {
             "outlinewidth": 0,
             "ticks": ""
            },
            "colorscale": [
             [
              0,
              "#0d0887"
             ],
             [
              0.1111111111111111,
              "#46039f"
             ],
             [
              0.2222222222222222,
              "#7201a8"
             ],
             [
              0.3333333333333333,
              "#9c179e"
             ],
             [
              0.4444444444444444,
              "#bd3786"
             ],
             [
              0.5555555555555556,
              "#d8576b"
             ],
             [
              0.6666666666666666,
              "#ed7953"
             ],
             [
              0.7777777777777778,
              "#fb9f3a"
             ],
             [
              0.8888888888888888,
              "#fdca26"
             ],
             [
              1,
              "#f0f921"
             ]
            ],
            "type": "histogram2d"
           }
          ],
          "histogram2dcontour": [
           {
            "colorbar": {
             "outlinewidth": 0,
             "ticks": ""
            },
            "colorscale": [
             [
              0,
              "#0d0887"
             ],
             [
              0.1111111111111111,
              "#46039f"
             ],
             [
              0.2222222222222222,
              "#7201a8"
             ],
             [
              0.3333333333333333,
              "#9c179e"
             ],
             [
              0.4444444444444444,
              "#bd3786"
             ],
             [
              0.5555555555555556,
              "#d8576b"
             ],
             [
              0.6666666666666666,
              "#ed7953"
             ],
             [
              0.7777777777777778,
              "#fb9f3a"
             ],
             [
              0.8888888888888888,
              "#fdca26"
             ],
             [
              1,
              "#f0f921"
             ]
            ],
            "type": "histogram2dcontour"
           }
          ],
          "mesh3d": [
           {
            "colorbar": {
             "outlinewidth": 0,
             "ticks": ""
            },
            "type": "mesh3d"
           }
          ],
          "parcoords": [
           {
            "line": {
             "colorbar": {
              "outlinewidth": 0,
              "ticks": ""
             }
            },
            "type": "parcoords"
           }
          ],
          "pie": [
           {
            "automargin": true,
            "type": "pie"
           }
          ],
          "scatter": [
           {
            "fillpattern": {
             "fillmode": "overlay",
             "size": 10,
             "solidity": 0.2
            },
            "type": "scatter"
           }
          ],
          "scatter3d": [
           {
            "line": {
             "colorbar": {
              "outlinewidth": 0,
              "ticks": ""
             }
            },
            "marker": {
             "colorbar": {
              "outlinewidth": 0,
              "ticks": ""
             }
            },
            "type": "scatter3d"
           }
          ],
          "scattercarpet": [
           {
            "marker": {
             "colorbar": {
              "outlinewidth": 0,
              "ticks": ""
             }
            },
            "type": "scattercarpet"
           }
          ],
          "scattergeo": [
           {
            "marker": {
             "colorbar": {
              "outlinewidth": 0,
              "ticks": ""
             }
            },
            "type": "scattergeo"
           }
          ],
          "scattergl": [
           {
            "marker": {
             "colorbar": {
              "outlinewidth": 0,
              "ticks": ""
             }
            },
            "type": "scattergl"
           }
          ],
          "scattermapbox": [
           {
            "marker": {
             "colorbar": {
              "outlinewidth": 0,
              "ticks": ""
             }
            },
            "type": "scattermapbox"
           }
          ],
          "scatterpolar": [
           {
            "marker": {
             "colorbar": {
              "outlinewidth": 0,
              "ticks": ""
             }
            },
            "type": "scatterpolar"
           }
          ],
          "scatterpolargl": [
           {
            "marker": {
             "colorbar": {
              "outlinewidth": 0,
              "ticks": ""
             }
            },
            "type": "scatterpolargl"
           }
          ],
          "scatterternary": [
           {
            "marker": {
             "colorbar": {
              "outlinewidth": 0,
              "ticks": ""
             }
            },
            "type": "scatterternary"
           }
          ],
          "surface": [
           {
            "colorbar": {
             "outlinewidth": 0,
             "ticks": ""
            },
            "colorscale": [
             [
              0,
              "#0d0887"
             ],
             [
              0.1111111111111111,
              "#46039f"
             ],
             [
              0.2222222222222222,
              "#7201a8"
             ],
             [
              0.3333333333333333,
              "#9c179e"
             ],
             [
              0.4444444444444444,
              "#bd3786"
             ],
             [
              0.5555555555555556,
              "#d8576b"
             ],
             [
              0.6666666666666666,
              "#ed7953"
             ],
             [
              0.7777777777777778,
              "#fb9f3a"
             ],
             [
              0.8888888888888888,
              "#fdca26"
             ],
             [
              1,
              "#f0f921"
             ]
            ],
            "type": "surface"
           }
          ],
          "table": [
           {
            "cells": {
             "fill": {
              "color": "#EBF0F8"
             },
             "line": {
              "color": "white"
             }
            },
            "header": {
             "fill": {
              "color": "#C8D4E3"
             },
             "line": {
              "color": "white"
             }
            },
            "type": "table"
           }
          ]
         },
         "layout": {
          "annotationdefaults": {
           "arrowcolor": "#2a3f5f",
           "arrowhead": 0,
           "arrowwidth": 1
          },
          "autotypenumbers": "strict",
          "coloraxis": {
           "colorbar": {
            "outlinewidth": 0,
            "ticks": ""
           }
          },
          "colorscale": {
           "diverging": [
            [
             0,
             "#8e0152"
            ],
            [
             0.1,
             "#c51b7d"
            ],
            [
             0.2,
             "#de77ae"
            ],
            [
             0.3,
             "#f1b6da"
            ],
            [
             0.4,
             "#fde0ef"
            ],
            [
             0.5,
             "#f7f7f7"
            ],
            [
             0.6,
             "#e6f5d0"
            ],
            [
             0.7,
             "#b8e186"
            ],
            [
             0.8,
             "#7fbc41"
            ],
            [
             0.9,
             "#4d9221"
            ],
            [
             1,
             "#276419"
            ]
           ],
           "sequential": [
            [
             0,
             "#0d0887"
            ],
            [
             0.1111111111111111,
             "#46039f"
            ],
            [
             0.2222222222222222,
             "#7201a8"
            ],
            [
             0.3333333333333333,
             "#9c179e"
            ],
            [
             0.4444444444444444,
             "#bd3786"
            ],
            [
             0.5555555555555556,
             "#d8576b"
            ],
            [
             0.6666666666666666,
             "#ed7953"
            ],
            [
             0.7777777777777778,
             "#fb9f3a"
            ],
            [
             0.8888888888888888,
             "#fdca26"
            ],
            [
             1,
             "#f0f921"
            ]
           ],
           "sequentialminus": [
            [
             0,
             "#0d0887"
            ],
            [
             0.1111111111111111,
             "#46039f"
            ],
            [
             0.2222222222222222,
             "#7201a8"
            ],
            [
             0.3333333333333333,
             "#9c179e"
            ],
            [
             0.4444444444444444,
             "#bd3786"
            ],
            [
             0.5555555555555556,
             "#d8576b"
            ],
            [
             0.6666666666666666,
             "#ed7953"
            ],
            [
             0.7777777777777778,
             "#fb9f3a"
            ],
            [
             0.8888888888888888,
             "#fdca26"
            ],
            [
             1,
             "#f0f921"
            ]
           ]
          },
          "colorway": [
           "#636efa",
           "#EF553B",
           "#00cc96",
           "#ab63fa",
           "#FFA15A",
           "#19d3f3",
           "#FF6692",
           "#B6E880",
           "#FF97FF",
           "#FECB52"
          ],
          "font": {
           "color": "#2a3f5f"
          },
          "geo": {
           "bgcolor": "white",
           "lakecolor": "white",
           "landcolor": "#E5ECF6",
           "showlakes": true,
           "showland": true,
           "subunitcolor": "white"
          },
          "hoverlabel": {
           "align": "left"
          },
          "hovermode": "closest",
          "mapbox": {
           "style": "light"
          },
          "paper_bgcolor": "white",
          "plot_bgcolor": "#E5ECF6",
          "polar": {
           "angularaxis": {
            "gridcolor": "white",
            "linecolor": "white",
            "ticks": ""
           },
           "bgcolor": "#E5ECF6",
           "radialaxis": {
            "gridcolor": "white",
            "linecolor": "white",
            "ticks": ""
           }
          },
          "scene": {
           "xaxis": {
            "backgroundcolor": "#E5ECF6",
            "gridcolor": "white",
            "gridwidth": 2,
            "linecolor": "white",
            "showbackground": true,
            "ticks": "",
            "zerolinecolor": "white"
           },
           "yaxis": {
            "backgroundcolor": "#E5ECF6",
            "gridcolor": "white",
            "gridwidth": 2,
            "linecolor": "white",
            "showbackground": true,
            "ticks": "",
            "zerolinecolor": "white"
           },
           "zaxis": {
            "backgroundcolor": "#E5ECF6",
            "gridcolor": "white",
            "gridwidth": 2,
            "linecolor": "white",
            "showbackground": true,
            "ticks": "",
            "zerolinecolor": "white"
           }
          },
          "shapedefaults": {
           "line": {
            "color": "#2a3f5f"
           }
          },
          "ternary": {
           "aaxis": {
            "gridcolor": "white",
            "linecolor": "white",
            "ticks": ""
           },
           "baxis": {
            "gridcolor": "white",
            "linecolor": "white",
            "ticks": ""
           },
           "bgcolor": "#E5ECF6",
           "caxis": {
            "gridcolor": "white",
            "linecolor": "white",
            "ticks": ""
           }
          },
          "title": {
           "x": 0.05
          },
          "xaxis": {
           "automargin": true,
           "gridcolor": "white",
           "linecolor": "white",
           "ticks": "",
           "title": {
            "standoff": 15
           },
           "zerolinecolor": "white",
           "zerolinewidth": 2
          },
          "yaxis": {
           "automargin": true,
           "gridcolor": "white",
           "linecolor": "white",
           "ticks": "",
           "title": {
            "standoff": 15
           },
           "zerolinecolor": "white",
           "zerolinewidth": 2
          }
         }
        },
        "title": {
         "text": "Conv. Transformer Prediction vs. Ground Truth for ALPHA"
        },
        "xaxis": {
         "title": {
          "text": "Time Step"
         }
        },
        "yaxis": {
         "title": {
          "text": "Value"
         }
        }
       }
      }
     },
     "metadata": {},
     "output_type": "display_data"
    },
    {
     "data": {
      "application/vnd.plotly.v1+json": {
       "config": {
        "plotlyServerURL": "https://plot.ly"
       },
       "data": [
        {
         "line": {
          "color": "blue"
         },
         "mode": "lines",
         "name": "GT",
         "type": "scatter",
         "y": [
          1.9195104837417603,
          1.8405653238296509,
          1.7490718364715576,
          1.6439043283462524,
          1.5240064859390259,
          1.3885129690170288,
          1.236916422843933,
          1.069272756576538,
          0.8864258527755737,
          0.6901938915252686,
          0.48345181345939636,
          0.2700369358062744,
          0.054451704025268555,
          -0.1585991531610489,
          -0.3647172152996063,
          -0.5602338910102844,
          -1.662577509880066,
          -1.7197993993759155,
          -1.7672415971755981,
          -1.8057160377502441,
          -1.835953950881958,
          -1.858612060546875,
          -1.8742766380310059,
          -1.8834701776504517,
          -1.8866596221923828,
          -1.8842629194259644,
          -1.8766542673110962,
          -1.864171028137207,
          -1.8471184968948364,
          -1.8257732391357422,
          -1.8003886938095093,
          -1.7711983919143677,
          -1.3687080144882202,
          -1.3114371299743652,
          -1.2521851062774658,
          -1.1910839080810547,
          -1.1282637119293213,
          -1.0638521909713745,
          -0.9979754090309143,
          -0.930757999420166,
          -0.8623234033584595,
          -0.7927933931350708,
          -0.7222880721092224,
          -0.6509274244308472,
          -0.5788299441337585,
          -0.5061123371124268,
          -0.4328906238079071,
          -0.35927945375442505
         ]
        },
        {
         "line": {
          "color": "red"
         },
         "mode": "lines",
         "name": "pred_beginning",
         "type": "scatter",
         "y": [
          1.3351061344146729,
          1.4080402851104736,
          1.1506309509277344,
          1.41169011592865,
          1.4267162084579468,
          1.3556833267211914,
          1.4850621223449707,
          1.3859866857528687,
          1.3030991554260254,
          1.2362897396087646,
          1.294866681098938,
          1.1959359645843506,
          1.1503851413726807,
          1.2384802103042603,
          1.1757760047912598,
          1.1267240047454834,
          -0.9811589121818542,
          -1.0145094394683838,
          -0.8372688889503479,
          -0.8932700157165527,
          -0.9955313801765442,
          -0.9964416027069092,
          -0.9612042903900146,
          -0.8453626036643982,
          -0.9884452819824219,
          -0.9688909649848938,
          -0.9056363701820374,
          -0.9313464164733887,
          -0.9361758232116699,
          -0.8122696280479431,
          -0.8166064023971558,
          -0.8583782911300659,
          -0.5534969568252563,
          -0.5358270406723022,
          -0.47048842906951904,
          -0.6647790670394897,
          -0.5889646410942078,
          -0.6147650480270386,
          -0.47494322061538696,
          -0.4406090974807739,
          -0.3041900396347046,
          -0.5053137540817261,
          -0.5587263703346252,
          -0.45781564712524414,
          -0.4379456639289856,
          -0.48069852590560913,
          -0.39367181062698364,
          -0.42997151613235474
         ]
        }
       ],
       "layout": {
        "template": {
         "data": {
          "bar": [
           {
            "error_x": {
             "color": "#2a3f5f"
            },
            "error_y": {
             "color": "#2a3f5f"
            },
            "marker": {
             "line": {
              "color": "#E5ECF6",
              "width": 0.5
             },
             "pattern": {
              "fillmode": "overlay",
              "size": 10,
              "solidity": 0.2
             }
            },
            "type": "bar"
           }
          ],
          "barpolar": [
           {
            "marker": {
             "line": {
              "color": "#E5ECF6",
              "width": 0.5
             },
             "pattern": {
              "fillmode": "overlay",
              "size": 10,
              "solidity": 0.2
             }
            },
            "type": "barpolar"
           }
          ],
          "carpet": [
           {
            "aaxis": {
             "endlinecolor": "#2a3f5f",
             "gridcolor": "white",
             "linecolor": "white",
             "minorgridcolor": "white",
             "startlinecolor": "#2a3f5f"
            },
            "baxis": {
             "endlinecolor": "#2a3f5f",
             "gridcolor": "white",
             "linecolor": "white",
             "minorgridcolor": "white",
             "startlinecolor": "#2a3f5f"
            },
            "type": "carpet"
           }
          ],
          "choropleth": [
           {
            "colorbar": {
             "outlinewidth": 0,
             "ticks": ""
            },
            "type": "choropleth"
           }
          ],
          "contour": [
           {
            "colorbar": {
             "outlinewidth": 0,
             "ticks": ""
            },
            "colorscale": [
             [
              0,
              "#0d0887"
             ],
             [
              0.1111111111111111,
              "#46039f"
             ],
             [
              0.2222222222222222,
              "#7201a8"
             ],
             [
              0.3333333333333333,
              "#9c179e"
             ],
             [
              0.4444444444444444,
              "#bd3786"
             ],
             [
              0.5555555555555556,
              "#d8576b"
             ],
             [
              0.6666666666666666,
              "#ed7953"
             ],
             [
              0.7777777777777778,
              "#fb9f3a"
             ],
             [
              0.8888888888888888,
              "#fdca26"
             ],
             [
              1,
              "#f0f921"
             ]
            ],
            "type": "contour"
           }
          ],
          "contourcarpet": [
           {
            "colorbar": {
             "outlinewidth": 0,
             "ticks": ""
            },
            "type": "contourcarpet"
           }
          ],
          "heatmap": [
           {
            "colorbar": {
             "outlinewidth": 0,
             "ticks": ""
            },
            "colorscale": [
             [
              0,
              "#0d0887"
             ],
             [
              0.1111111111111111,
              "#46039f"
             ],
             [
              0.2222222222222222,
              "#7201a8"
             ],
             [
              0.3333333333333333,
              "#9c179e"
             ],
             [
              0.4444444444444444,
              "#bd3786"
             ],
             [
              0.5555555555555556,
              "#d8576b"
             ],
             [
              0.6666666666666666,
              "#ed7953"
             ],
             [
              0.7777777777777778,
              "#fb9f3a"
             ],
             [
              0.8888888888888888,
              "#fdca26"
             ],
             [
              1,
              "#f0f921"
             ]
            ],
            "type": "heatmap"
           }
          ],
          "heatmapgl": [
           {
            "colorbar": {
             "outlinewidth": 0,
             "ticks": ""
            },
            "colorscale": [
             [
              0,
              "#0d0887"
             ],
             [
              0.1111111111111111,
              "#46039f"
             ],
             [
              0.2222222222222222,
              "#7201a8"
             ],
             [
              0.3333333333333333,
              "#9c179e"
             ],
             [
              0.4444444444444444,
              "#bd3786"
             ],
             [
              0.5555555555555556,
              "#d8576b"
             ],
             [
              0.6666666666666666,
              "#ed7953"
             ],
             [
              0.7777777777777778,
              "#fb9f3a"
             ],
             [
              0.8888888888888888,
              "#fdca26"
             ],
             [
              1,
              "#f0f921"
             ]
            ],
            "type": "heatmapgl"
           }
          ],
          "histogram": [
           {
            "marker": {
             "pattern": {
              "fillmode": "overlay",
              "size": 10,
              "solidity": 0.2
             }
            },
            "type": "histogram"
           }
          ],
          "histogram2d": [
           {
            "colorbar": {
             "outlinewidth": 0,
             "ticks": ""
            },
            "colorscale": [
             [
              0,
              "#0d0887"
             ],
             [
              0.1111111111111111,
              "#46039f"
             ],
             [
              0.2222222222222222,
              "#7201a8"
             ],
             [
              0.3333333333333333,
              "#9c179e"
             ],
             [
              0.4444444444444444,
              "#bd3786"
             ],
             [
              0.5555555555555556,
              "#d8576b"
             ],
             [
              0.6666666666666666,
              "#ed7953"
             ],
             [
              0.7777777777777778,
              "#fb9f3a"
             ],
             [
              0.8888888888888888,
              "#fdca26"
             ],
             [
              1,
              "#f0f921"
             ]
            ],
            "type": "histogram2d"
           }
          ],
          "histogram2dcontour": [
           {
            "colorbar": {
             "outlinewidth": 0,
             "ticks": ""
            },
            "colorscale": [
             [
              0,
              "#0d0887"
             ],
             [
              0.1111111111111111,
              "#46039f"
             ],
             [
              0.2222222222222222,
              "#7201a8"
             ],
             [
              0.3333333333333333,
              "#9c179e"
             ],
             [
              0.4444444444444444,
              "#bd3786"
             ],
             [
              0.5555555555555556,
              "#d8576b"
             ],
             [
              0.6666666666666666,
              "#ed7953"
             ],
             [
              0.7777777777777778,
              "#fb9f3a"
             ],
             [
              0.8888888888888888,
              "#fdca26"
             ],
             [
              1,
              "#f0f921"
             ]
            ],
            "type": "histogram2dcontour"
           }
          ],
          "mesh3d": [
           {
            "colorbar": {
             "outlinewidth": 0,
             "ticks": ""
            },
            "type": "mesh3d"
           }
          ],
          "parcoords": [
           {
            "line": {
             "colorbar": {
              "outlinewidth": 0,
              "ticks": ""
             }
            },
            "type": "parcoords"
           }
          ],
          "pie": [
           {
            "automargin": true,
            "type": "pie"
           }
          ],
          "scatter": [
           {
            "fillpattern": {
             "fillmode": "overlay",
             "size": 10,
             "solidity": 0.2
            },
            "type": "scatter"
           }
          ],
          "scatter3d": [
           {
            "line": {
             "colorbar": {
              "outlinewidth": 0,
              "ticks": ""
             }
            },
            "marker": {
             "colorbar": {
              "outlinewidth": 0,
              "ticks": ""
             }
            },
            "type": "scatter3d"
           }
          ],
          "scattercarpet": [
           {
            "marker": {
             "colorbar": {
              "outlinewidth": 0,
              "ticks": ""
             }
            },
            "type": "scattercarpet"
           }
          ],
          "scattergeo": [
           {
            "marker": {
             "colorbar": {
              "outlinewidth": 0,
              "ticks": ""
             }
            },
            "type": "scattergeo"
           }
          ],
          "scattergl": [
           {
            "marker": {
             "colorbar": {
              "outlinewidth": 0,
              "ticks": ""
             }
            },
            "type": "scattergl"
           }
          ],
          "scattermapbox": [
           {
            "marker": {
             "colorbar": {
              "outlinewidth": 0,
              "ticks": ""
             }
            },
            "type": "scattermapbox"
           }
          ],
          "scatterpolar": [
           {
            "marker": {
             "colorbar": {
              "outlinewidth": 0,
              "ticks": ""
             }
            },
            "type": "scatterpolar"
           }
          ],
          "scatterpolargl": [
           {
            "marker": {
             "colorbar": {
              "outlinewidth": 0,
              "ticks": ""
             }
            },
            "type": "scatterpolargl"
           }
          ],
          "scatterternary": [
           {
            "marker": {
             "colorbar": {
              "outlinewidth": 0,
              "ticks": ""
             }
            },
            "type": "scatterternary"
           }
          ],
          "surface": [
           {
            "colorbar": {
             "outlinewidth": 0,
             "ticks": ""
            },
            "colorscale": [
             [
              0,
              "#0d0887"
             ],
             [
              0.1111111111111111,
              "#46039f"
             ],
             [
              0.2222222222222222,
              "#7201a8"
             ],
             [
              0.3333333333333333,
              "#9c179e"
             ],
             [
              0.4444444444444444,
              "#bd3786"
             ],
             [
              0.5555555555555556,
              "#d8576b"
             ],
             [
              0.6666666666666666,
              "#ed7953"
             ],
             [
              0.7777777777777778,
              "#fb9f3a"
             ],
             [
              0.8888888888888888,
              "#fdca26"
             ],
             [
              1,
              "#f0f921"
             ]
            ],
            "type": "surface"
           }
          ],
          "table": [
           {
            "cells": {
             "fill": {
              "color": "#EBF0F8"
             },
             "line": {
              "color": "white"
             }
            },
            "header": {
             "fill": {
              "color": "#C8D4E3"
             },
             "line": {
              "color": "white"
             }
            },
            "type": "table"
           }
          ]
         },
         "layout": {
          "annotationdefaults": {
           "arrowcolor": "#2a3f5f",
           "arrowhead": 0,
           "arrowwidth": 1
          },
          "autotypenumbers": "strict",
          "coloraxis": {
           "colorbar": {
            "outlinewidth": 0,
            "ticks": ""
           }
          },
          "colorscale": {
           "diverging": [
            [
             0,
             "#8e0152"
            ],
            [
             0.1,
             "#c51b7d"
            ],
            [
             0.2,
             "#de77ae"
            ],
            [
             0.3,
             "#f1b6da"
            ],
            [
             0.4,
             "#fde0ef"
            ],
            [
             0.5,
             "#f7f7f7"
            ],
            [
             0.6,
             "#e6f5d0"
            ],
            [
             0.7,
             "#b8e186"
            ],
            [
             0.8,
             "#7fbc41"
            ],
            [
             0.9,
             "#4d9221"
            ],
            [
             1,
             "#276419"
            ]
           ],
           "sequential": [
            [
             0,
             "#0d0887"
            ],
            [
             0.1111111111111111,
             "#46039f"
            ],
            [
             0.2222222222222222,
             "#7201a8"
            ],
            [
             0.3333333333333333,
             "#9c179e"
            ],
            [
             0.4444444444444444,
             "#bd3786"
            ],
            [
             0.5555555555555556,
             "#d8576b"
            ],
            [
             0.6666666666666666,
             "#ed7953"
            ],
            [
             0.7777777777777778,
             "#fb9f3a"
            ],
            [
             0.8888888888888888,
             "#fdca26"
            ],
            [
             1,
             "#f0f921"
            ]
           ],
           "sequentialminus": [
            [
             0,
             "#0d0887"
            ],
            [
             0.1111111111111111,
             "#46039f"
            ],
            [
             0.2222222222222222,
             "#7201a8"
            ],
            [
             0.3333333333333333,
             "#9c179e"
            ],
            [
             0.4444444444444444,
             "#bd3786"
            ],
            [
             0.5555555555555556,
             "#d8576b"
            ],
            [
             0.6666666666666666,
             "#ed7953"
            ],
            [
             0.7777777777777778,
             "#fb9f3a"
            ],
            [
             0.8888888888888888,
             "#fdca26"
            ],
            [
             1,
             "#f0f921"
            ]
           ]
          },
          "colorway": [
           "#636efa",
           "#EF553B",
           "#00cc96",
           "#ab63fa",
           "#FFA15A",
           "#19d3f3",
           "#FF6692",
           "#B6E880",
           "#FF97FF",
           "#FECB52"
          ],
          "font": {
           "color": "#2a3f5f"
          },
          "geo": {
           "bgcolor": "white",
           "lakecolor": "white",
           "landcolor": "#E5ECF6",
           "showlakes": true,
           "showland": true,
           "subunitcolor": "white"
          },
          "hoverlabel": {
           "align": "left"
          },
          "hovermode": "closest",
          "mapbox": {
           "style": "light"
          },
          "paper_bgcolor": "white",
          "plot_bgcolor": "#E5ECF6",
          "polar": {
           "angularaxis": {
            "gridcolor": "white",
            "linecolor": "white",
            "ticks": ""
           },
           "bgcolor": "#E5ECF6",
           "radialaxis": {
            "gridcolor": "white",
            "linecolor": "white",
            "ticks": ""
           }
          },
          "scene": {
           "xaxis": {
            "backgroundcolor": "#E5ECF6",
            "gridcolor": "white",
            "gridwidth": 2,
            "linecolor": "white",
            "showbackground": true,
            "ticks": "",
            "zerolinecolor": "white"
           },
           "yaxis": {
            "backgroundcolor": "#E5ECF6",
            "gridcolor": "white",
            "gridwidth": 2,
            "linecolor": "white",
            "showbackground": true,
            "ticks": "",
            "zerolinecolor": "white"
           },
           "zaxis": {
            "backgroundcolor": "#E5ECF6",
            "gridcolor": "white",
            "gridwidth": 2,
            "linecolor": "white",
            "showbackground": true,
            "ticks": "",
            "zerolinecolor": "white"
           }
          },
          "shapedefaults": {
           "line": {
            "color": "#2a3f5f"
           }
          },
          "ternary": {
           "aaxis": {
            "gridcolor": "white",
            "linecolor": "white",
            "ticks": ""
           },
           "baxis": {
            "gridcolor": "white",
            "linecolor": "white",
            "ticks": ""
           },
           "bgcolor": "#E5ECF6",
           "caxis": {
            "gridcolor": "white",
            "linecolor": "white",
            "ticks": ""
           }
          },
          "title": {
           "x": 0.05
          },
          "xaxis": {
           "automargin": true,
           "gridcolor": "white",
           "linecolor": "white",
           "ticks": "",
           "title": {
            "standoff": 15
           },
           "zerolinecolor": "white",
           "zerolinewidth": 2
          },
          "yaxis": {
           "automargin": true,
           "gridcolor": "white",
           "linecolor": "white",
           "ticks": "",
           "title": {
            "standoff": 15
           },
           "zerolinecolor": "white",
           "zerolinewidth": 2
          }
         }
        },
        "title": {
         "text": "Conv. Transformer Prediction vs. Ground Truth for GAMMA"
        },
        "xaxis": {
         "title": {
          "text": "Time Step"
         }
        },
        "yaxis": {
         "title": {
          "text": "Value"
         }
        }
       }
      }
     },
     "metadata": {},
     "output_type": "display_data"
    },
    {
     "data": {
      "application/vnd.plotly.v1+json": {
       "config": {
        "plotlyServerURL": "https://plot.ly"
       },
       "data": [
        {
         "line": {
          "color": "blue"
         },
         "mode": "lines",
         "name": "GT",
         "type": "scatter",
         "y": [
          1.9584686756134033,
          1.8788272142410278,
          1.7865266799926758,
          1.6804310083389282,
          1.5594755411148071,
          1.4227873086929321,
          1.2698532342910767,
          1.1007308959960938,
          0.916271448135376,
          0.7183086276054382,
          0.5097424983978271,
          0.29444533586502075,
          0.07695852220058441,
          -0.1379714161157608,
          -0.3459077477455139,
          -0.5431489944458008,
          -1.6552159786224365,
          -1.7129429578781128,
          -1.7608036994934082,
          -1.799617052078247,
          -1.8301221132278442,
          -1.8529800176620483,
          -1.8687824010849,
          -1.8780570030212402,
          -1.8812750577926636,
          -1.878857135772705,
          -1.8711813688278198,
          -1.8585880994796753,
          -1.841384768486023,
          -1.8198511600494385,
          -1.7942430973052979,
          -1.7647953033447266,
          -1.358754277229309,
          -1.300978660583496,
          -1.2412035465240479,
          -1.1795638799667358,
          -1.1161892414093018,
          -1.0512094497680664,
          -0.9847517013549805,
          -0.9169415235519409,
          -0.8479031324386597,
          -0.7777596116065979,
          -0.7066325545310974,
          -0.6346425414085388,
          -0.5619089603424072,
          -0.4885500371456146,
          -0.41468241810798645,
          -0.34042200446128845
         ]
        },
        {
         "line": {
          "color": "red"
         },
         "mode": "lines",
         "name": "pred_beginning",
         "type": "scatter",
         "y": [
          1.3881511688232422,
          1.4241925477981567,
          1.1867364645004272,
          1.4667065143585205,
          1.4802433252334595,
          1.4020674228668213,
          1.5119800567626953,
          1.4285876750946045,
          1.293442726135254,
          1.2813507318496704,
          1.3452568054199219,
          1.2254010438919067,
          1.192814588546753,
          1.2817509174346924,
          1.1855939626693726,
          1.16963791847229,
          -0.820877194404602,
          -0.8818312287330627,
          -0.6890738606452942,
          -0.7803645133972168,
          -0.8475025296211243,
          -0.8616957664489746,
          -0.8014342784881592,
          -0.7360932230949402,
          -0.8926066160202026,
          -0.8286257386207581,
          -0.7213889360427856,
          -0.81326824426651,
          -0.8442950248718262,
          -0.7506238222122192,
          -0.7403547763824463,
          -0.7039446830749512,
          -0.6943585872650146,
          -0.6897537708282471,
          -0.5885300636291504,
          -0.813705563545227,
          -0.7897833585739136,
          -0.737812876701355,
          -0.7671197056770325,
          -0.7234711050987244,
          -0.5396309494972229,
          -0.6213760375976562,
          -0.625221312046051,
          -0.5666247606277466,
          -0.5781205296516418,
          -0.6532461047172546,
          -0.5378905534744263,
          -0.49417245388031006
         ]
        }
       ],
       "layout": {
        "template": {
         "data": {
          "bar": [
           {
            "error_x": {
             "color": "#2a3f5f"
            },
            "error_y": {
             "color": "#2a3f5f"
            },
            "marker": {
             "line": {
              "color": "#E5ECF6",
              "width": 0.5
             },
             "pattern": {
              "fillmode": "overlay",
              "size": 10,
              "solidity": 0.2
             }
            },
            "type": "bar"
           }
          ],
          "barpolar": [
           {
            "marker": {
             "line": {
              "color": "#E5ECF6",
              "width": 0.5
             },
             "pattern": {
              "fillmode": "overlay",
              "size": 10,
              "solidity": 0.2
             }
            },
            "type": "barpolar"
           }
          ],
          "carpet": [
           {
            "aaxis": {
             "endlinecolor": "#2a3f5f",
             "gridcolor": "white",
             "linecolor": "white",
             "minorgridcolor": "white",
             "startlinecolor": "#2a3f5f"
            },
            "baxis": {
             "endlinecolor": "#2a3f5f",
             "gridcolor": "white",
             "linecolor": "white",
             "minorgridcolor": "white",
             "startlinecolor": "#2a3f5f"
            },
            "type": "carpet"
           }
          ],
          "choropleth": [
           {
            "colorbar": {
             "outlinewidth": 0,
             "ticks": ""
            },
            "type": "choropleth"
           }
          ],
          "contour": [
           {
            "colorbar": {
             "outlinewidth": 0,
             "ticks": ""
            },
            "colorscale": [
             [
              0,
              "#0d0887"
             ],
             [
              0.1111111111111111,
              "#46039f"
             ],
             [
              0.2222222222222222,
              "#7201a8"
             ],
             [
              0.3333333333333333,
              "#9c179e"
             ],
             [
              0.4444444444444444,
              "#bd3786"
             ],
             [
              0.5555555555555556,
              "#d8576b"
             ],
             [
              0.6666666666666666,
              "#ed7953"
             ],
             [
              0.7777777777777778,
              "#fb9f3a"
             ],
             [
              0.8888888888888888,
              "#fdca26"
             ],
             [
              1,
              "#f0f921"
             ]
            ],
            "type": "contour"
           }
          ],
          "contourcarpet": [
           {
            "colorbar": {
             "outlinewidth": 0,
             "ticks": ""
            },
            "type": "contourcarpet"
           }
          ],
          "heatmap": [
           {
            "colorbar": {
             "outlinewidth": 0,
             "ticks": ""
            },
            "colorscale": [
             [
              0,
              "#0d0887"
             ],
             [
              0.1111111111111111,
              "#46039f"
             ],
             [
              0.2222222222222222,
              "#7201a8"
             ],
             [
              0.3333333333333333,
              "#9c179e"
             ],
             [
              0.4444444444444444,
              "#bd3786"
             ],
             [
              0.5555555555555556,
              "#d8576b"
             ],
             [
              0.6666666666666666,
              "#ed7953"
             ],
             [
              0.7777777777777778,
              "#fb9f3a"
             ],
             [
              0.8888888888888888,
              "#fdca26"
             ],
             [
              1,
              "#f0f921"
             ]
            ],
            "type": "heatmap"
           }
          ],
          "heatmapgl": [
           {
            "colorbar": {
             "outlinewidth": 0,
             "ticks": ""
            },
            "colorscale": [
             [
              0,
              "#0d0887"
             ],
             [
              0.1111111111111111,
              "#46039f"
             ],
             [
              0.2222222222222222,
              "#7201a8"
             ],
             [
              0.3333333333333333,
              "#9c179e"
             ],
             [
              0.4444444444444444,
              "#bd3786"
             ],
             [
              0.5555555555555556,
              "#d8576b"
             ],
             [
              0.6666666666666666,
              "#ed7953"
             ],
             [
              0.7777777777777778,
              "#fb9f3a"
             ],
             [
              0.8888888888888888,
              "#fdca26"
             ],
             [
              1,
              "#f0f921"
             ]
            ],
            "type": "heatmapgl"
           }
          ],
          "histogram": [
           {
            "marker": {
             "pattern": {
              "fillmode": "overlay",
              "size": 10,
              "solidity": 0.2
             }
            },
            "type": "histogram"
           }
          ],
          "histogram2d": [
           {
            "colorbar": {
             "outlinewidth": 0,
             "ticks": ""
            },
            "colorscale": [
             [
              0,
              "#0d0887"
             ],
             [
              0.1111111111111111,
              "#46039f"
             ],
             [
              0.2222222222222222,
              "#7201a8"
             ],
             [
              0.3333333333333333,
              "#9c179e"
             ],
             [
              0.4444444444444444,
              "#bd3786"
             ],
             [
              0.5555555555555556,
              "#d8576b"
             ],
             [
              0.6666666666666666,
              "#ed7953"
             ],
             [
              0.7777777777777778,
              "#fb9f3a"
             ],
             [
              0.8888888888888888,
              "#fdca26"
             ],
             [
              1,
              "#f0f921"
             ]
            ],
            "type": "histogram2d"
           }
          ],
          "histogram2dcontour": [
           {
            "colorbar": {
             "outlinewidth": 0,
             "ticks": ""
            },
            "colorscale": [
             [
              0,
              "#0d0887"
             ],
             [
              0.1111111111111111,
              "#46039f"
             ],
             [
              0.2222222222222222,
              "#7201a8"
             ],
             [
              0.3333333333333333,
              "#9c179e"
             ],
             [
              0.4444444444444444,
              "#bd3786"
             ],
             [
              0.5555555555555556,
              "#d8576b"
             ],
             [
              0.6666666666666666,
              "#ed7953"
             ],
             [
              0.7777777777777778,
              "#fb9f3a"
             ],
             [
              0.8888888888888888,
              "#fdca26"
             ],
             [
              1,
              "#f0f921"
             ]
            ],
            "type": "histogram2dcontour"
           }
          ],
          "mesh3d": [
           {
            "colorbar": {
             "outlinewidth": 0,
             "ticks": ""
            },
            "type": "mesh3d"
           }
          ],
          "parcoords": [
           {
            "line": {
             "colorbar": {
              "outlinewidth": 0,
              "ticks": ""
             }
            },
            "type": "parcoords"
           }
          ],
          "pie": [
           {
            "automargin": true,
            "type": "pie"
           }
          ],
          "scatter": [
           {
            "fillpattern": {
             "fillmode": "overlay",
             "size": 10,
             "solidity": 0.2
            },
            "type": "scatter"
           }
          ],
          "scatter3d": [
           {
            "line": {
             "colorbar": {
              "outlinewidth": 0,
              "ticks": ""
             }
            },
            "marker": {
             "colorbar": {
              "outlinewidth": 0,
              "ticks": ""
             }
            },
            "type": "scatter3d"
           }
          ],
          "scattercarpet": [
           {
            "marker": {
             "colorbar": {
              "outlinewidth": 0,
              "ticks": ""
             }
            },
            "type": "scattercarpet"
           }
          ],
          "scattergeo": [
           {
            "marker": {
             "colorbar": {
              "outlinewidth": 0,
              "ticks": ""
             }
            },
            "type": "scattergeo"
           }
          ],
          "scattergl": [
           {
            "marker": {
             "colorbar": {
              "outlinewidth": 0,
              "ticks": ""
             }
            },
            "type": "scattergl"
           }
          ],
          "scattermapbox": [
           {
            "marker": {
             "colorbar": {
              "outlinewidth": 0,
              "ticks": ""
             }
            },
            "type": "scattermapbox"
           }
          ],
          "scatterpolar": [
           {
            "marker": {
             "colorbar": {
              "outlinewidth": 0,
              "ticks": ""
             }
            },
            "type": "scatterpolar"
           }
          ],
          "scatterpolargl": [
           {
            "marker": {
             "colorbar": {
              "outlinewidth": 0,
              "ticks": ""
             }
            },
            "type": "scatterpolargl"
           }
          ],
          "scatterternary": [
           {
            "marker": {
             "colorbar": {
              "outlinewidth": 0,
              "ticks": ""
             }
            },
            "type": "scatterternary"
           }
          ],
          "surface": [
           {
            "colorbar": {
             "outlinewidth": 0,
             "ticks": ""
            },
            "colorscale": [
             [
              0,
              "#0d0887"
             ],
             [
              0.1111111111111111,
              "#46039f"
             ],
             [
              0.2222222222222222,
              "#7201a8"
             ],
             [
              0.3333333333333333,
              "#9c179e"
             ],
             [
              0.4444444444444444,
              "#bd3786"
             ],
             [
              0.5555555555555556,
              "#d8576b"
             ],
             [
              0.6666666666666666,
              "#ed7953"
             ],
             [
              0.7777777777777778,
              "#fb9f3a"
             ],
             [
              0.8888888888888888,
              "#fdca26"
             ],
             [
              1,
              "#f0f921"
             ]
            ],
            "type": "surface"
           }
          ],
          "table": [
           {
            "cells": {
             "fill": {
              "color": "#EBF0F8"
             },
             "line": {
              "color": "white"
             }
            },
            "header": {
             "fill": {
              "color": "#C8D4E3"
             },
             "line": {
              "color": "white"
             }
            },
            "type": "table"
           }
          ]
         },
         "layout": {
          "annotationdefaults": {
           "arrowcolor": "#2a3f5f",
           "arrowhead": 0,
           "arrowwidth": 1
          },
          "autotypenumbers": "strict",
          "coloraxis": {
           "colorbar": {
            "outlinewidth": 0,
            "ticks": ""
           }
          },
          "colorscale": {
           "diverging": [
            [
             0,
             "#8e0152"
            ],
            [
             0.1,
             "#c51b7d"
            ],
            [
             0.2,
             "#de77ae"
            ],
            [
             0.3,
             "#f1b6da"
            ],
            [
             0.4,
             "#fde0ef"
            ],
            [
             0.5,
             "#f7f7f7"
            ],
            [
             0.6,
             "#e6f5d0"
            ],
            [
             0.7,
             "#b8e186"
            ],
            [
             0.8,
             "#7fbc41"
            ],
            [
             0.9,
             "#4d9221"
            ],
            [
             1,
             "#276419"
            ]
           ],
           "sequential": [
            [
             0,
             "#0d0887"
            ],
            [
             0.1111111111111111,
             "#46039f"
            ],
            [
             0.2222222222222222,
             "#7201a8"
            ],
            [
             0.3333333333333333,
             "#9c179e"
            ],
            [
             0.4444444444444444,
             "#bd3786"
            ],
            [
             0.5555555555555556,
             "#d8576b"
            ],
            [
             0.6666666666666666,
             "#ed7953"
            ],
            [
             0.7777777777777778,
             "#fb9f3a"
            ],
            [
             0.8888888888888888,
             "#fdca26"
            ],
            [
             1,
             "#f0f921"
            ]
           ],
           "sequentialminus": [
            [
             0,
             "#0d0887"
            ],
            [
             0.1111111111111111,
             "#46039f"
            ],
            [
             0.2222222222222222,
             "#7201a8"
            ],
            [
             0.3333333333333333,
             "#9c179e"
            ],
            [
             0.4444444444444444,
             "#bd3786"
            ],
            [
             0.5555555555555556,
             "#d8576b"
            ],
            [
             0.6666666666666666,
             "#ed7953"
            ],
            [
             0.7777777777777778,
             "#fb9f3a"
            ],
            [
             0.8888888888888888,
             "#fdca26"
            ],
            [
             1,
             "#f0f921"
            ]
           ]
          },
          "colorway": [
           "#636efa",
           "#EF553B",
           "#00cc96",
           "#ab63fa",
           "#FFA15A",
           "#19d3f3",
           "#FF6692",
           "#B6E880",
           "#FF97FF",
           "#FECB52"
          ],
          "font": {
           "color": "#2a3f5f"
          },
          "geo": {
           "bgcolor": "white",
           "lakecolor": "white",
           "landcolor": "#E5ECF6",
           "showlakes": true,
           "showland": true,
           "subunitcolor": "white"
          },
          "hoverlabel": {
           "align": "left"
          },
          "hovermode": "closest",
          "mapbox": {
           "style": "light"
          },
          "paper_bgcolor": "white",
          "plot_bgcolor": "#E5ECF6",
          "polar": {
           "angularaxis": {
            "gridcolor": "white",
            "linecolor": "white",
            "ticks": ""
           },
           "bgcolor": "#E5ECF6",
           "radialaxis": {
            "gridcolor": "white",
            "linecolor": "white",
            "ticks": ""
           }
          },
          "scene": {
           "xaxis": {
            "backgroundcolor": "#E5ECF6",
            "gridcolor": "white",
            "gridwidth": 2,
            "linecolor": "white",
            "showbackground": true,
            "ticks": "",
            "zerolinecolor": "white"
           },
           "yaxis": {
            "backgroundcolor": "#E5ECF6",
            "gridcolor": "white",
            "gridwidth": 2,
            "linecolor": "white",
            "showbackground": true,
            "ticks": "",
            "zerolinecolor": "white"
           },
           "zaxis": {
            "backgroundcolor": "#E5ECF6",
            "gridcolor": "white",
            "gridwidth": 2,
            "linecolor": "white",
            "showbackground": true,
            "ticks": "",
            "zerolinecolor": "white"
           }
          },
          "shapedefaults": {
           "line": {
            "color": "#2a3f5f"
           }
          },
          "ternary": {
           "aaxis": {
            "gridcolor": "white",
            "linecolor": "white",
            "ticks": ""
           },
           "baxis": {
            "gridcolor": "white",
            "linecolor": "white",
            "ticks": ""
           },
           "bgcolor": "#E5ECF6",
           "caxis": {
            "gridcolor": "white",
            "linecolor": "white",
            "ticks": ""
           }
          },
          "title": {
           "x": 0.05
          },
          "xaxis": {
           "automargin": true,
           "gridcolor": "white",
           "linecolor": "white",
           "ticks": "",
           "title": {
            "standoff": 15
           },
           "zerolinecolor": "white",
           "zerolinewidth": 2
          },
          "yaxis": {
           "automargin": true,
           "gridcolor": "white",
           "linecolor": "white",
           "ticks": "",
           "title": {
            "standoff": 15
           },
           "zerolinecolor": "white",
           "zerolinewidth": 2
          }
         }
        },
        "title": {
         "text": "Conv. Transformer Prediction vs. Ground Truth for PITCH"
        },
        "xaxis": {
         "title": {
          "text": "Time Step"
         }
        },
        "yaxis": {
         "title": {
          "text": "Value"
         }
        }
       }
      }
     },
     "metadata": {},
     "output_type": "display_data"
    },
    {
     "data": {
      "application/vnd.plotly.v1+json": {
       "config": {
        "plotlyServerURL": "https://plot.ly"
       },
       "data": [
        {
         "line": {
          "color": "blue"
         },
         "mode": "lines",
         "name": "GT",
         "type": "scatter",
         "y": [
          1.7763568394002505e-15,
          1.7763568394002505e-15,
          1.7763568394002505e-15,
          1.7763568394002505e-15,
          1.7763568394002505e-15,
          1.7763568394002505e-15,
          1.7763568394002505e-15,
          1.7763568394002505e-15,
          1.7763568394002505e-15,
          1.7763568394002505e-15,
          1.7763568394002505e-15,
          1.7763568394002505e-15,
          1.7763568394002505e-15,
          1.7763568394002505e-15,
          1.7763568394002505e-15,
          1.7763568394002505e-15,
          1.7763568394002505e-15,
          1.7763568394002505e-15,
          1.7763568394002505e-15,
          1.7763568394002505e-15,
          1.7763568394002505e-15,
          1.7763568394002505e-15,
          1.7763568394002505e-15,
          1.7763568394002505e-15,
          1.7763568394002505e-15,
          1.7763568394002505e-15,
          1.7763568394002505e-15,
          1.7763568394002505e-15,
          1.7763568394002505e-15,
          1.7763568394002505e-15,
          1.7763568394002505e-15,
          1.7763568394002505e-15,
          1.7763568394002505e-15,
          1.7763568394002505e-15,
          1.7763568394002505e-15,
          1.7763568394002505e-15,
          1.7763568394002505e-15,
          1.7763568394002505e-15,
          1.7763568394002505e-15,
          1.7763568394002505e-15,
          1.7763568394002505e-15,
          1.7763568394002505e-15,
          1.7763568394002505e-15,
          1.7763568394002505e-15,
          1.7763568394002505e-15,
          1.7763568394002505e-15,
          1.7763568394002505e-15,
          1.7763568394002505e-15
         ]
        },
        {
         "line": {
          "color": "red"
         },
         "mode": "lines",
         "name": "pred_beginning",
         "type": "scatter",
         "y": [
          -0.14426040649414062,
          -0.21566186845302582,
          -0.20113737881183624,
          -0.17335613071918488,
          -0.1688777506351471,
          -0.1909690797328949,
          -0.1758737564086914,
          -0.09738466143608093,
          -0.14793610572814941,
          -0.17230039834976196,
          -0.22304950654506683,
          -0.17389486730098724,
          -0.10310040414333344,
          -0.05884481221437454,
          -0.1722525656223297,
          -0.1671411395072937,
          -0.30770963430404663,
          -0.252128005027771,
          -0.30687791109085083,
          -0.3808353543281555,
          -0.31054896116256714,
          -0.3111804127693176,
          -0.2747693955898285,
          -0.3022727966308594,
          -0.16745400428771973,
          -0.2534160315990448,
          -0.2807828187942505,
          -0.23700691759586334,
          -0.2462155818939209,
          -0.33213871717453003,
          -0.22450679540634155,
          -0.2140793800354004,
          -0.08119264245033264,
          -0.07012969255447388,
          -0.06261972337961197,
          -0.1042754128575325,
          -0.08343318104743958,
          -0.06498512625694275,
          -0.07473218441009521,
          -0.04362267255783081,
          0.044020459055900574,
          -0.021452482789754868,
          -0.09976600855588913,
          -0.00008208118379116058,
          0.034498125314712524,
          0.014582104980945587,
          0.002031378448009491,
          -0.04946725815534592
         ]
        }
       ],
       "layout": {
        "template": {
         "data": {
          "bar": [
           {
            "error_x": {
             "color": "#2a3f5f"
            },
            "error_y": {
             "color": "#2a3f5f"
            },
            "marker": {
             "line": {
              "color": "#E5ECF6",
              "width": 0.5
             },
             "pattern": {
              "fillmode": "overlay",
              "size": 10,
              "solidity": 0.2
             }
            },
            "type": "bar"
           }
          ],
          "barpolar": [
           {
            "marker": {
             "line": {
              "color": "#E5ECF6",
              "width": 0.5
             },
             "pattern": {
              "fillmode": "overlay",
              "size": 10,
              "solidity": 0.2
             }
            },
            "type": "barpolar"
           }
          ],
          "carpet": [
           {
            "aaxis": {
             "endlinecolor": "#2a3f5f",
             "gridcolor": "white",
             "linecolor": "white",
             "minorgridcolor": "white",
             "startlinecolor": "#2a3f5f"
            },
            "baxis": {
             "endlinecolor": "#2a3f5f",
             "gridcolor": "white",
             "linecolor": "white",
             "minorgridcolor": "white",
             "startlinecolor": "#2a3f5f"
            },
            "type": "carpet"
           }
          ],
          "choropleth": [
           {
            "colorbar": {
             "outlinewidth": 0,
             "ticks": ""
            },
            "type": "choropleth"
           }
          ],
          "contour": [
           {
            "colorbar": {
             "outlinewidth": 0,
             "ticks": ""
            },
            "colorscale": [
             [
              0,
              "#0d0887"
             ],
             [
              0.1111111111111111,
              "#46039f"
             ],
             [
              0.2222222222222222,
              "#7201a8"
             ],
             [
              0.3333333333333333,
              "#9c179e"
             ],
             [
              0.4444444444444444,
              "#bd3786"
             ],
             [
              0.5555555555555556,
              "#d8576b"
             ],
             [
              0.6666666666666666,
              "#ed7953"
             ],
             [
              0.7777777777777778,
              "#fb9f3a"
             ],
             [
              0.8888888888888888,
              "#fdca26"
             ],
             [
              1,
              "#f0f921"
             ]
            ],
            "type": "contour"
           }
          ],
          "contourcarpet": [
           {
            "colorbar": {
             "outlinewidth": 0,
             "ticks": ""
            },
            "type": "contourcarpet"
           }
          ],
          "heatmap": [
           {
            "colorbar": {
             "outlinewidth": 0,
             "ticks": ""
            },
            "colorscale": [
             [
              0,
              "#0d0887"
             ],
             [
              0.1111111111111111,
              "#46039f"
             ],
             [
              0.2222222222222222,
              "#7201a8"
             ],
             [
              0.3333333333333333,
              "#9c179e"
             ],
             [
              0.4444444444444444,
              "#bd3786"
             ],
             [
              0.5555555555555556,
              "#d8576b"
             ],
             [
              0.6666666666666666,
              "#ed7953"
             ],
             [
              0.7777777777777778,
              "#fb9f3a"
             ],
             [
              0.8888888888888888,
              "#fdca26"
             ],
             [
              1,
              "#f0f921"
             ]
            ],
            "type": "heatmap"
           }
          ],
          "heatmapgl": [
           {
            "colorbar": {
             "outlinewidth": 0,
             "ticks": ""
            },
            "colorscale": [
             [
              0,
              "#0d0887"
             ],
             [
              0.1111111111111111,
              "#46039f"
             ],
             [
              0.2222222222222222,
              "#7201a8"
             ],
             [
              0.3333333333333333,
              "#9c179e"
             ],
             [
              0.4444444444444444,
              "#bd3786"
             ],
             [
              0.5555555555555556,
              "#d8576b"
             ],
             [
              0.6666666666666666,
              "#ed7953"
             ],
             [
              0.7777777777777778,
              "#fb9f3a"
             ],
             [
              0.8888888888888888,
              "#fdca26"
             ],
             [
              1,
              "#f0f921"
             ]
            ],
            "type": "heatmapgl"
           }
          ],
          "histogram": [
           {
            "marker": {
             "pattern": {
              "fillmode": "overlay",
              "size": 10,
              "solidity": 0.2
             }
            },
            "type": "histogram"
           }
          ],
          "histogram2d": [
           {
            "colorbar": {
             "outlinewidth": 0,
             "ticks": ""
            },
            "colorscale": [
             [
              0,
              "#0d0887"
             ],
             [
              0.1111111111111111,
              "#46039f"
             ],
             [
              0.2222222222222222,
              "#7201a8"
             ],
             [
              0.3333333333333333,
              "#9c179e"
             ],
             [
              0.4444444444444444,
              "#bd3786"
             ],
             [
              0.5555555555555556,
              "#d8576b"
             ],
             [
              0.6666666666666666,
              "#ed7953"
             ],
             [
              0.7777777777777778,
              "#fb9f3a"
             ],
             [
              0.8888888888888888,
              "#fdca26"
             ],
             [
              1,
              "#f0f921"
             ]
            ],
            "type": "histogram2d"
           }
          ],
          "histogram2dcontour": [
           {
            "colorbar": {
             "outlinewidth": 0,
             "ticks": ""
            },
            "colorscale": [
             [
              0,
              "#0d0887"
             ],
             [
              0.1111111111111111,
              "#46039f"
             ],
             [
              0.2222222222222222,
              "#7201a8"
             ],
             [
              0.3333333333333333,
              "#9c179e"
             ],
             [
              0.4444444444444444,
              "#bd3786"
             ],
             [
              0.5555555555555556,
              "#d8576b"
             ],
             [
              0.6666666666666666,
              "#ed7953"
             ],
             [
              0.7777777777777778,
              "#fb9f3a"
             ],
             [
              0.8888888888888888,
              "#fdca26"
             ],
             [
              1,
              "#f0f921"
             ]
            ],
            "type": "histogram2dcontour"
           }
          ],
          "mesh3d": [
           {
            "colorbar": {
             "outlinewidth": 0,
             "ticks": ""
            },
            "type": "mesh3d"
           }
          ],
          "parcoords": [
           {
            "line": {
             "colorbar": {
              "outlinewidth": 0,
              "ticks": ""
             }
            },
            "type": "parcoords"
           }
          ],
          "pie": [
           {
            "automargin": true,
            "type": "pie"
           }
          ],
          "scatter": [
           {
            "fillpattern": {
             "fillmode": "overlay",
             "size": 10,
             "solidity": 0.2
            },
            "type": "scatter"
           }
          ],
          "scatter3d": [
           {
            "line": {
             "colorbar": {
              "outlinewidth": 0,
              "ticks": ""
             }
            },
            "marker": {
             "colorbar": {
              "outlinewidth": 0,
              "ticks": ""
             }
            },
            "type": "scatter3d"
           }
          ],
          "scattercarpet": [
           {
            "marker": {
             "colorbar": {
              "outlinewidth": 0,
              "ticks": ""
             }
            },
            "type": "scattercarpet"
           }
          ],
          "scattergeo": [
           {
            "marker": {
             "colorbar": {
              "outlinewidth": 0,
              "ticks": ""
             }
            },
            "type": "scattergeo"
           }
          ],
          "scattergl": [
           {
            "marker": {
             "colorbar": {
              "outlinewidth": 0,
              "ticks": ""
             }
            },
            "type": "scattergl"
           }
          ],
          "scattermapbox": [
           {
            "marker": {
             "colorbar": {
              "outlinewidth": 0,
              "ticks": ""
             }
            },
            "type": "scattermapbox"
           }
          ],
          "scatterpolar": [
           {
            "marker": {
             "colorbar": {
              "outlinewidth": 0,
              "ticks": ""
             }
            },
            "type": "scatterpolar"
           }
          ],
          "scatterpolargl": [
           {
            "marker": {
             "colorbar": {
              "outlinewidth": 0,
              "ticks": ""
             }
            },
            "type": "scatterpolargl"
           }
          ],
          "scatterternary": [
           {
            "marker": {
             "colorbar": {
              "outlinewidth": 0,
              "ticks": ""
             }
            },
            "type": "scatterternary"
           }
          ],
          "surface": [
           {
            "colorbar": {
             "outlinewidth": 0,
             "ticks": ""
            },
            "colorscale": [
             [
              0,
              "#0d0887"
             ],
             [
              0.1111111111111111,
              "#46039f"
             ],
             [
              0.2222222222222222,
              "#7201a8"
             ],
             [
              0.3333333333333333,
              "#9c179e"
             ],
             [
              0.4444444444444444,
              "#bd3786"
             ],
             [
              0.5555555555555556,
              "#d8576b"
             ],
             [
              0.6666666666666666,
              "#ed7953"
             ],
             [
              0.7777777777777778,
              "#fb9f3a"
             ],
             [
              0.8888888888888888,
              "#fdca26"
             ],
             [
              1,
              "#f0f921"
             ]
            ],
            "type": "surface"
           }
          ],
          "table": [
           {
            "cells": {
             "fill": {
              "color": "#EBF0F8"
             },
             "line": {
              "color": "white"
             }
            },
            "header": {
             "fill": {
              "color": "#C8D4E3"
             },
             "line": {
              "color": "white"
             }
            },
            "type": "table"
           }
          ]
         },
         "layout": {
          "annotationdefaults": {
           "arrowcolor": "#2a3f5f",
           "arrowhead": 0,
           "arrowwidth": 1
          },
          "autotypenumbers": "strict",
          "coloraxis": {
           "colorbar": {
            "outlinewidth": 0,
            "ticks": ""
           }
          },
          "colorscale": {
           "diverging": [
            [
             0,
             "#8e0152"
            ],
            [
             0.1,
             "#c51b7d"
            ],
            [
             0.2,
             "#de77ae"
            ],
            [
             0.3,
             "#f1b6da"
            ],
            [
             0.4,
             "#fde0ef"
            ],
            [
             0.5,
             "#f7f7f7"
            ],
            [
             0.6,
             "#e6f5d0"
            ],
            [
             0.7,
             "#b8e186"
            ],
            [
             0.8,
             "#7fbc41"
            ],
            [
             0.9,
             "#4d9221"
            ],
            [
             1,
             "#276419"
            ]
           ],
           "sequential": [
            [
             0,
             "#0d0887"
            ],
            [
             0.1111111111111111,
             "#46039f"
            ],
            [
             0.2222222222222222,
             "#7201a8"
            ],
            [
             0.3333333333333333,
             "#9c179e"
            ],
            [
             0.4444444444444444,
             "#bd3786"
            ],
            [
             0.5555555555555556,
             "#d8576b"
            ],
            [
             0.6666666666666666,
             "#ed7953"
            ],
            [
             0.7777777777777778,
             "#fb9f3a"
            ],
            [
             0.8888888888888888,
             "#fdca26"
            ],
            [
             1,
             "#f0f921"
            ]
           ],
           "sequentialminus": [
            [
             0,
             "#0d0887"
            ],
            [
             0.1111111111111111,
             "#46039f"
            ],
            [
             0.2222222222222222,
             "#7201a8"
            ],
            [
             0.3333333333333333,
             "#9c179e"
            ],
            [
             0.4444444444444444,
             "#bd3786"
            ],
            [
             0.5555555555555556,
             "#d8576b"
            ],
            [
             0.6666666666666666,
             "#ed7953"
            ],
            [
             0.7777777777777778,
             "#fb9f3a"
            ],
            [
             0.8888888888888888,
             "#fdca26"
            ],
            [
             1,
             "#f0f921"
            ]
           ]
          },
          "colorway": [
           "#636efa",
           "#EF553B",
           "#00cc96",
           "#ab63fa",
           "#FFA15A",
           "#19d3f3",
           "#FF6692",
           "#B6E880",
           "#FF97FF",
           "#FECB52"
          ],
          "font": {
           "color": "#2a3f5f"
          },
          "geo": {
           "bgcolor": "white",
           "lakecolor": "white",
           "landcolor": "#E5ECF6",
           "showlakes": true,
           "showland": true,
           "subunitcolor": "white"
          },
          "hoverlabel": {
           "align": "left"
          },
          "hovermode": "closest",
          "mapbox": {
           "style": "light"
          },
          "paper_bgcolor": "white",
          "plot_bgcolor": "#E5ECF6",
          "polar": {
           "angularaxis": {
            "gridcolor": "white",
            "linecolor": "white",
            "ticks": ""
           },
           "bgcolor": "#E5ECF6",
           "radialaxis": {
            "gridcolor": "white",
            "linecolor": "white",
            "ticks": ""
           }
          },
          "scene": {
           "xaxis": {
            "backgroundcolor": "#E5ECF6",
            "gridcolor": "white",
            "gridwidth": 2,
            "linecolor": "white",
            "showbackground": true,
            "ticks": "",
            "zerolinecolor": "white"
           },
           "yaxis": {
            "backgroundcolor": "#E5ECF6",
            "gridcolor": "white",
            "gridwidth": 2,
            "linecolor": "white",
            "showbackground": true,
            "ticks": "",
            "zerolinecolor": "white"
           },
           "zaxis": {
            "backgroundcolor": "#E5ECF6",
            "gridcolor": "white",
            "gridwidth": 2,
            "linecolor": "white",
            "showbackground": true,
            "ticks": "",
            "zerolinecolor": "white"
           }
          },
          "shapedefaults": {
           "line": {
            "color": "#2a3f5f"
           }
          },
          "ternary": {
           "aaxis": {
            "gridcolor": "white",
            "linecolor": "white",
            "ticks": ""
           },
           "baxis": {
            "gridcolor": "white",
            "linecolor": "white",
            "ticks": ""
           },
           "bgcolor": "#E5ECF6",
           "caxis": {
            "gridcolor": "white",
            "linecolor": "white",
            "ticks": ""
           }
          },
          "title": {
           "x": 0.05
          },
          "xaxis": {
           "automargin": true,
           "gridcolor": "white",
           "linecolor": "white",
           "ticks": "",
           "title": {
            "standoff": 15
           },
           "zerolinecolor": "white",
           "zerolinewidth": 2
          },
          "yaxis": {
           "automargin": true,
           "gridcolor": "white",
           "linecolor": "white",
           "ticks": "",
           "title": {
            "standoff": 15
           },
           "zerolinecolor": "white",
           "zerolinewidth": 2
          }
         }
        },
        "title": {
         "text": "Conv. Transformer Prediction vs. Ground Truth for GREF"
        },
        "xaxis": {
         "title": {
          "text": "Time Step"
         }
        },
        "yaxis": {
         "title": {
          "text": "Value"
         }
        }
       }
      }
     },
     "metadata": {},
     "output_type": "display_data"
    },
    {
     "data": {
      "application/vnd.plotly.v1+json": {
       "config": {
        "plotlyServerURL": "https://plot.ly"
       },
       "data": [
        {
         "line": {
          "color": "blue"
         },
         "mode": "lines",
         "name": "GT",
         "type": "scatter",
         "y": [
          -0.39490702748298645,
          -0.39490702748298645,
          -0.39490702748298645,
          -0.39490702748298645,
          -0.39490702748298645,
          -0.39490702748298645,
          -0.39490702748298645,
          -0.39490702748298645,
          -0.39490702748298645,
          -0.39490702748298645,
          -0.39490702748298645,
          -0.39490702748298645,
          -0.39490702748298645,
          -0.39490702748298645,
          -0.39490702748298645,
          -0.39490702748298645,
          -0.39490702748298645,
          -0.39490702748298645,
          -0.39490702748298645,
          -0.39490702748298645,
          -0.39490702748298645,
          -0.39490702748298645,
          -0.39490702748298645,
          -0.39490702748298645,
          -0.39490702748298645,
          -0.39490702748298645,
          -0.39490702748298645,
          -0.39490702748298645,
          -0.39490702748298645,
          -0.39490702748298645,
          -0.39490702748298645,
          -0.39490702748298645,
          -0.39490702748298645,
          -0.39490702748298645,
          -0.39490702748298645,
          -0.39490702748298645,
          -0.39490702748298645,
          -0.39490702748298645,
          -0.39490702748298645,
          -0.39490702748298645,
          -0.39490702748298645,
          -0.39490702748298645,
          -0.39490702748298645,
          -0.39490702748298645,
          -0.39490702748298645,
          -0.39490702748298645,
          -0.39490702748298645,
          -0.39490702748298645
         ]
        },
        {
         "line": {
          "color": "red"
         },
         "mode": "lines",
         "name": "pred_beginning",
         "type": "scatter",
         "y": [
          -0.8894013166427612,
          -0.9552892446517944,
          -0.8822168707847595,
          -0.9452180862426758,
          -0.9403356909751892,
          -0.9292761087417603,
          -0.9254215955734253,
          -0.9454358220100403,
          -0.9770376682281494,
          -0.9132267236709595,
          -0.9056271910667419,
          -0.9198431968688965,
          -0.9074379205703735,
          -0.887563943862915,
          -0.9335249662399292,
          -0.8596889972686768,
          -0.5167809724807739,
          -0.4351775646209717,
          -0.5591343641281128,
          -0.6571575403213501,
          -0.5109413862228394,
          -0.5054053068161011,
          -0.4595784544944763,
          -0.5647621154785156,
          -0.31601834297180176,
          -0.4394916892051697,
          -0.5544983148574829,
          -0.43188613653182983,
          -0.41723284125328064,
          -0.578648030757904,
          -0.4603846073150635,
          -0.45580339431762695,
          -0.8410188555717468,
          -0.8493208885192871,
          -0.7390730977058411,
          -0.8364293575286865,
          -0.8786702752113342,
          -0.8514696359634399,
          -0.8338987827301025,
          -0.7862129211425781,
          -0.7695139646530151,
          -0.813582718372345,
          -0.8245269060134888,
          -0.7721573114395142,
          -0.7645919322967529,
          -0.7067229151725769,
          -0.7101091146469116,
          -0.7568535804748535
         ]
        }
       ],
       "layout": {
        "template": {
         "data": {
          "bar": [
           {
            "error_x": {
             "color": "#2a3f5f"
            },
            "error_y": {
             "color": "#2a3f5f"
            },
            "marker": {
             "line": {
              "color": "#E5ECF6",
              "width": 0.5
             },
             "pattern": {
              "fillmode": "overlay",
              "size": 10,
              "solidity": 0.2
             }
            },
            "type": "bar"
           }
          ],
          "barpolar": [
           {
            "marker": {
             "line": {
              "color": "#E5ECF6",
              "width": 0.5
             },
             "pattern": {
              "fillmode": "overlay",
              "size": 10,
              "solidity": 0.2
             }
            },
            "type": "barpolar"
           }
          ],
          "carpet": [
           {
            "aaxis": {
             "endlinecolor": "#2a3f5f",
             "gridcolor": "white",
             "linecolor": "white",
             "minorgridcolor": "white",
             "startlinecolor": "#2a3f5f"
            },
            "baxis": {
             "endlinecolor": "#2a3f5f",
             "gridcolor": "white",
             "linecolor": "white",
             "minorgridcolor": "white",
             "startlinecolor": "#2a3f5f"
            },
            "type": "carpet"
           }
          ],
          "choropleth": [
           {
            "colorbar": {
             "outlinewidth": 0,
             "ticks": ""
            },
            "type": "choropleth"
           }
          ],
          "contour": [
           {
            "colorbar": {
             "outlinewidth": 0,
             "ticks": ""
            },
            "colorscale": [
             [
              0,
              "#0d0887"
             ],
             [
              0.1111111111111111,
              "#46039f"
             ],
             [
              0.2222222222222222,
              "#7201a8"
             ],
             [
              0.3333333333333333,
              "#9c179e"
             ],
             [
              0.4444444444444444,
              "#bd3786"
             ],
             [
              0.5555555555555556,
              "#d8576b"
             ],
             [
              0.6666666666666666,
              "#ed7953"
             ],
             [
              0.7777777777777778,
              "#fb9f3a"
             ],
             [
              0.8888888888888888,
              "#fdca26"
             ],
             [
              1,
              "#f0f921"
             ]
            ],
            "type": "contour"
           }
          ],
          "contourcarpet": [
           {
            "colorbar": {
             "outlinewidth": 0,
             "ticks": ""
            },
            "type": "contourcarpet"
           }
          ],
          "heatmap": [
           {
            "colorbar": {
             "outlinewidth": 0,
             "ticks": ""
            },
            "colorscale": [
             [
              0,
              "#0d0887"
             ],
             [
              0.1111111111111111,
              "#46039f"
             ],
             [
              0.2222222222222222,
              "#7201a8"
             ],
             [
              0.3333333333333333,
              "#9c179e"
             ],
             [
              0.4444444444444444,
              "#bd3786"
             ],
             [
              0.5555555555555556,
              "#d8576b"
             ],
             [
              0.6666666666666666,
              "#ed7953"
             ],
             [
              0.7777777777777778,
              "#fb9f3a"
             ],
             [
              0.8888888888888888,
              "#fdca26"
             ],
             [
              1,
              "#f0f921"
             ]
            ],
            "type": "heatmap"
           }
          ],
          "heatmapgl": [
           {
            "colorbar": {
             "outlinewidth": 0,
             "ticks": ""
            },
            "colorscale": [
             [
              0,
              "#0d0887"
             ],
             [
              0.1111111111111111,
              "#46039f"
             ],
             [
              0.2222222222222222,
              "#7201a8"
             ],
             [
              0.3333333333333333,
              "#9c179e"
             ],
             [
              0.4444444444444444,
              "#bd3786"
             ],
             [
              0.5555555555555556,
              "#d8576b"
             ],
             [
              0.6666666666666666,
              "#ed7953"
             ],
             [
              0.7777777777777778,
              "#fb9f3a"
             ],
             [
              0.8888888888888888,
              "#fdca26"
             ],
             [
              1,
              "#f0f921"
             ]
            ],
            "type": "heatmapgl"
           }
          ],
          "histogram": [
           {
            "marker": {
             "pattern": {
              "fillmode": "overlay",
              "size": 10,
              "solidity": 0.2
             }
            },
            "type": "histogram"
           }
          ],
          "histogram2d": [
           {
            "colorbar": {
             "outlinewidth": 0,
             "ticks": ""
            },
            "colorscale": [
             [
              0,
              "#0d0887"
             ],
             [
              0.1111111111111111,
              "#46039f"
             ],
             [
              0.2222222222222222,
              "#7201a8"
             ],
             [
              0.3333333333333333,
              "#9c179e"
             ],
             [
              0.4444444444444444,
              "#bd3786"
             ],
             [
              0.5555555555555556,
              "#d8576b"
             ],
             [
              0.6666666666666666,
              "#ed7953"
             ],
             [
              0.7777777777777778,
              "#fb9f3a"
             ],
             [
              0.8888888888888888,
              "#fdca26"
             ],
             [
              1,
              "#f0f921"
             ]
            ],
            "type": "histogram2d"
           }
          ],
          "histogram2dcontour": [
           {
            "colorbar": {
             "outlinewidth": 0,
             "ticks": ""
            },
            "colorscale": [
             [
              0,
              "#0d0887"
             ],
             [
              0.1111111111111111,
              "#46039f"
             ],
             [
              0.2222222222222222,
              "#7201a8"
             ],
             [
              0.3333333333333333,
              "#9c179e"
             ],
             [
              0.4444444444444444,
              "#bd3786"
             ],
             [
              0.5555555555555556,
              "#d8576b"
             ],
             [
              0.6666666666666666,
              "#ed7953"
             ],
             [
              0.7777777777777778,
              "#fb9f3a"
             ],
             [
              0.8888888888888888,
              "#fdca26"
             ],
             [
              1,
              "#f0f921"
             ]
            ],
            "type": "histogram2dcontour"
           }
          ],
          "mesh3d": [
           {
            "colorbar": {
             "outlinewidth": 0,
             "ticks": ""
            },
            "type": "mesh3d"
           }
          ],
          "parcoords": [
           {
            "line": {
             "colorbar": {
              "outlinewidth": 0,
              "ticks": ""
             }
            },
            "type": "parcoords"
           }
          ],
          "pie": [
           {
            "automargin": true,
            "type": "pie"
           }
          ],
          "scatter": [
           {
            "fillpattern": {
             "fillmode": "overlay",
             "size": 10,
             "solidity": 0.2
            },
            "type": "scatter"
           }
          ],
          "scatter3d": [
           {
            "line": {
             "colorbar": {
              "outlinewidth": 0,
              "ticks": ""
             }
            },
            "marker": {
             "colorbar": {
              "outlinewidth": 0,
              "ticks": ""
             }
            },
            "type": "scatter3d"
           }
          ],
          "scattercarpet": [
           {
            "marker": {
             "colorbar": {
              "outlinewidth": 0,
              "ticks": ""
             }
            },
            "type": "scattercarpet"
           }
          ],
          "scattergeo": [
           {
            "marker": {
             "colorbar": {
              "outlinewidth": 0,
              "ticks": ""
             }
            },
            "type": "scattergeo"
           }
          ],
          "scattergl": [
           {
            "marker": {
             "colorbar": {
              "outlinewidth": 0,
              "ticks": ""
             }
            },
            "type": "scattergl"
           }
          ],
          "scattermapbox": [
           {
            "marker": {
             "colorbar": {
              "outlinewidth": 0,
              "ticks": ""
             }
            },
            "type": "scattermapbox"
           }
          ],
          "scatterpolar": [
           {
            "marker": {
             "colorbar": {
              "outlinewidth": 0,
              "ticks": ""
             }
            },
            "type": "scatterpolar"
           }
          ],
          "scatterpolargl": [
           {
            "marker": {
             "colorbar": {
              "outlinewidth": 0,
              "ticks": ""
             }
            },
            "type": "scatterpolargl"
           }
          ],
          "scatterternary": [
           {
            "marker": {
             "colorbar": {
              "outlinewidth": 0,
              "ticks": ""
             }
            },
            "type": "scatterternary"
           }
          ],
          "surface": [
           {
            "colorbar": {
             "outlinewidth": 0,
             "ticks": ""
            },
            "colorscale": [
             [
              0,
              "#0d0887"
             ],
             [
              0.1111111111111111,
              "#46039f"
             ],
             [
              0.2222222222222222,
              "#7201a8"
             ],
             [
              0.3333333333333333,
              "#9c179e"
             ],
             [
              0.4444444444444444,
              "#bd3786"
             ],
             [
              0.5555555555555556,
              "#d8576b"
             ],
             [
              0.6666666666666666,
              "#ed7953"
             ],
             [
              0.7777777777777778,
              "#fb9f3a"
             ],
             [
              0.8888888888888888,
              "#fdca26"
             ],
             [
              1,
              "#f0f921"
             ]
            ],
            "type": "surface"
           }
          ],
          "table": [
           {
            "cells": {
             "fill": {
              "color": "#EBF0F8"
             },
             "line": {
              "color": "white"
             }
            },
            "header": {
             "fill": {
              "color": "#C8D4E3"
             },
             "line": {
              "color": "white"
             }
            },
            "type": "table"
           }
          ]
         },
         "layout": {
          "annotationdefaults": {
           "arrowcolor": "#2a3f5f",
           "arrowhead": 0,
           "arrowwidth": 1
          },
          "autotypenumbers": "strict",
          "coloraxis": {
           "colorbar": {
            "outlinewidth": 0,
            "ticks": ""
           }
          },
          "colorscale": {
           "diverging": [
            [
             0,
             "#8e0152"
            ],
            [
             0.1,
             "#c51b7d"
            ],
            [
             0.2,
             "#de77ae"
            ],
            [
             0.3,
             "#f1b6da"
            ],
            [
             0.4,
             "#fde0ef"
            ],
            [
             0.5,
             "#f7f7f7"
            ],
            [
             0.6,
             "#e6f5d0"
            ],
            [
             0.7,
             "#b8e186"
            ],
            [
             0.8,
             "#7fbc41"
            ],
            [
             0.9,
             "#4d9221"
            ],
            [
             1,
             "#276419"
            ]
           ],
           "sequential": [
            [
             0,
             "#0d0887"
            ],
            [
             0.1111111111111111,
             "#46039f"
            ],
            [
             0.2222222222222222,
             "#7201a8"
            ],
            [
             0.3333333333333333,
             "#9c179e"
            ],
            [
             0.4444444444444444,
             "#bd3786"
            ],
            [
             0.5555555555555556,
             "#d8576b"
            ],
            [
             0.6666666666666666,
             "#ed7953"
            ],
            [
             0.7777777777777778,
             "#fb9f3a"
            ],
            [
             0.8888888888888888,
             "#fdca26"
            ],
            [
             1,
             "#f0f921"
            ]
           ],
           "sequentialminus": [
            [
             0,
             "#0d0887"
            ],
            [
             0.1111111111111111,
             "#46039f"
            ],
            [
             0.2222222222222222,
             "#7201a8"
            ],
            [
             0.3333333333333333,
             "#9c179e"
            ],
            [
             0.4444444444444444,
             "#bd3786"
            ],
            [
             0.5555555555555556,
             "#d8576b"
            ],
            [
             0.6666666666666666,
             "#ed7953"
            ],
            [
             0.7777777777777778,
             "#fb9f3a"
            ],
            [
             0.8888888888888888,
             "#fdca26"
            ],
            [
             1,
             "#f0f921"
            ]
           ]
          },
          "colorway": [
           "#636efa",
           "#EF553B",
           "#00cc96",
           "#ab63fa",
           "#FFA15A",
           "#19d3f3",
           "#FF6692",
           "#B6E880",
           "#FF97FF",
           "#FECB52"
          ],
          "font": {
           "color": "#2a3f5f"
          },
          "geo": {
           "bgcolor": "white",
           "lakecolor": "white",
           "landcolor": "#E5ECF6",
           "showlakes": true,
           "showland": true,
           "subunitcolor": "white"
          },
          "hoverlabel": {
           "align": "left"
          },
          "hovermode": "closest",
          "mapbox": {
           "style": "light"
          },
          "paper_bgcolor": "white",
          "plot_bgcolor": "#E5ECF6",
          "polar": {
           "angularaxis": {
            "gridcolor": "white",
            "linecolor": "white",
            "ticks": ""
           },
           "bgcolor": "#E5ECF6",
           "radialaxis": {
            "gridcolor": "white",
            "linecolor": "white",
            "ticks": ""
           }
          },
          "scene": {
           "xaxis": {
            "backgroundcolor": "#E5ECF6",
            "gridcolor": "white",
            "gridwidth": 2,
            "linecolor": "white",
            "showbackground": true,
            "ticks": "",
            "zerolinecolor": "white"
           },
           "yaxis": {
            "backgroundcolor": "#E5ECF6",
            "gridcolor": "white",
            "gridwidth": 2,
            "linecolor": "white",
            "showbackground": true,
            "ticks": "",
            "zerolinecolor": "white"
           },
           "zaxis": {
            "backgroundcolor": "#E5ECF6",
            "gridcolor": "white",
            "gridwidth": 2,
            "linecolor": "white",
            "showbackground": true,
            "ticks": "",
            "zerolinecolor": "white"
           }
          },
          "shapedefaults": {
           "line": {
            "color": "#2a3f5f"
           }
          },
          "ternary": {
           "aaxis": {
            "gridcolor": "white",
            "linecolor": "white",
            "ticks": ""
           },
           "baxis": {
            "gridcolor": "white",
            "linecolor": "white",
            "ticks": ""
           },
           "bgcolor": "#E5ECF6",
           "caxis": {
            "gridcolor": "white",
            "linecolor": "white",
            "ticks": ""
           }
          },
          "title": {
           "x": 0.05
          },
          "xaxis": {
           "automargin": true,
           "gridcolor": "white",
           "linecolor": "white",
           "ticks": "",
           "title": {
            "standoff": 15
           },
           "zerolinecolor": "white",
           "zerolinewidth": 2
          },
          "yaxis": {
           "automargin": true,
           "gridcolor": "white",
           "linecolor": "white",
           "ticks": "",
           "title": {
            "standoff": 15
           },
           "zerolinecolor": "white",
           "zerolinewidth": 2
          }
         }
        },
        "title": {
         "text": "Conv. Transformer Prediction vs. Ground Truth for WXDT"
        },
        "xaxis": {
         "title": {
          "text": "Time Step"
         }
        },
        "yaxis": {
         "title": {
          "text": "Value"
         }
        }
       }
      }
     },
     "metadata": {},
     "output_type": "display_data"
    },
    {
     "data": {
      "application/vnd.plotly.v1+json": {
       "config": {
        "plotlyServerURL": "https://plot.ly"
       },
       "data": [
        {
         "line": {
          "color": "blue"
         },
         "mode": "lines",
         "name": "GT",
         "type": "scatter",
         "y": [
          -0.39490702748298645,
          -0.39490702748298645,
          -0.39490702748298645,
          -0.39490702748298645,
          -0.39490702748298645,
          -0.39490702748298645,
          -0.39490702748298645,
          -0.39490702748298645,
          -0.39490702748298645,
          -0.39490702748298645,
          -0.39490702748298645,
          -0.39490702748298645,
          -0.39490702748298645,
          -0.39490702748298645,
          -0.39490702748298645,
          -0.39490702748298645,
          -0.39490702748298645,
          -0.39490702748298645,
          -0.39490702748298645,
          -0.39490702748298645,
          -0.39490702748298645,
          -0.39490702748298645,
          -0.39490702748298645,
          -0.39490702748298645,
          -0.39490702748298645,
          -0.39490702748298645,
          -0.39490702748298645,
          -0.39490702748298645,
          -0.39490702748298645,
          -0.39490702748298645,
          -0.39490702748298645,
          -0.39490702748298645,
          -0.39490702748298645,
          -0.39490702748298645,
          -0.39490702748298645,
          -0.39490702748298645,
          -0.39490702748298645,
          -0.39490702748298645,
          -0.39490702748298645,
          -0.39490702748298645,
          -0.39490702748298645,
          -0.39490702748298645,
          -0.39490702748298645,
          -0.39490702748298645,
          -0.39490702748298645,
          -0.39490702748298645,
          -0.39490702748298645,
          -0.39490702748298645
         ]
        },
        {
         "line": {
          "color": "red"
         },
         "mode": "lines",
         "name": "pred_beginning",
         "type": "scatter",
         "y": [
          -0.6571401953697205,
          -0.7301685810089111,
          -0.7223357558250427,
          -0.6829079389572144,
          -0.6869912147521973,
          -0.7143175601959229,
          -0.7043262720108032,
          -0.6398088335990906,
          -0.7365548610687256,
          -0.7054705023765564,
          -0.7109101414680481,
          -0.71584153175354,
          -0.6618001461029053,
          -0.6200640797615051,
          -0.6976037621498108,
          -0.6409388184547424,
          -0.20720401406288147,
          -0.08872655034065247,
          -0.33566898107528687,
          -0.34587621688842773,
          -0.1553112417459488,
          -0.17226596176624298,
          -0.11721935868263245,
          -0.268024742603302,
          -0.005322903394699097,
          -0.13142147660255432,
          -0.269258975982666,
          -0.1479102075099945,
          -0.1297779530286789,
          -0.3345600366592407,
          -0.2025076150894165,
          -0.19588200747966766,
          -0.6770009994506836,
          -0.6426888108253479,
          -0.6521449089050293,
          -0.6621860265731812,
          -0.6798949837684631,
          -0.6790392398834229,
          -0.6279370188713074,
          -0.613176703453064,
          -0.5937843322753906,
          -0.6728490591049194,
          -0.6894283890724182,
          -0.6437150835990906,
          -0.6378545165061951,
          -0.5889490842819214,
          -0.5771567821502686,
          -0.6374398469924927
         ]
        }
       ],
       "layout": {
        "template": {
         "data": {
          "bar": [
           {
            "error_x": {
             "color": "#2a3f5f"
            },
            "error_y": {
             "color": "#2a3f5f"
            },
            "marker": {
             "line": {
              "color": "#E5ECF6",
              "width": 0.5
             },
             "pattern": {
              "fillmode": "overlay",
              "size": 10,
              "solidity": 0.2
             }
            },
            "type": "bar"
           }
          ],
          "barpolar": [
           {
            "marker": {
             "line": {
              "color": "#E5ECF6",
              "width": 0.5
             },
             "pattern": {
              "fillmode": "overlay",
              "size": 10,
              "solidity": 0.2
             }
            },
            "type": "barpolar"
           }
          ],
          "carpet": [
           {
            "aaxis": {
             "endlinecolor": "#2a3f5f",
             "gridcolor": "white",
             "linecolor": "white",
             "minorgridcolor": "white",
             "startlinecolor": "#2a3f5f"
            },
            "baxis": {
             "endlinecolor": "#2a3f5f",
             "gridcolor": "white",
             "linecolor": "white",
             "minorgridcolor": "white",
             "startlinecolor": "#2a3f5f"
            },
            "type": "carpet"
           }
          ],
          "choropleth": [
           {
            "colorbar": {
             "outlinewidth": 0,
             "ticks": ""
            },
            "type": "choropleth"
           }
          ],
          "contour": [
           {
            "colorbar": {
             "outlinewidth": 0,
             "ticks": ""
            },
            "colorscale": [
             [
              0,
              "#0d0887"
             ],
             [
              0.1111111111111111,
              "#46039f"
             ],
             [
              0.2222222222222222,
              "#7201a8"
             ],
             [
              0.3333333333333333,
              "#9c179e"
             ],
             [
              0.4444444444444444,
              "#bd3786"
             ],
             [
              0.5555555555555556,
              "#d8576b"
             ],
             [
              0.6666666666666666,
              "#ed7953"
             ],
             [
              0.7777777777777778,
              "#fb9f3a"
             ],
             [
              0.8888888888888888,
              "#fdca26"
             ],
             [
              1,
              "#f0f921"
             ]
            ],
            "type": "contour"
           }
          ],
          "contourcarpet": [
           {
            "colorbar": {
             "outlinewidth": 0,
             "ticks": ""
            },
            "type": "contourcarpet"
           }
          ],
          "heatmap": [
           {
            "colorbar": {
             "outlinewidth": 0,
             "ticks": ""
            },
            "colorscale": [
             [
              0,
              "#0d0887"
             ],
             [
              0.1111111111111111,
              "#46039f"
             ],
             [
              0.2222222222222222,
              "#7201a8"
             ],
             [
              0.3333333333333333,
              "#9c179e"
             ],
             [
              0.4444444444444444,
              "#bd3786"
             ],
             [
              0.5555555555555556,
              "#d8576b"
             ],
             [
              0.6666666666666666,
              "#ed7953"
             ],
             [
              0.7777777777777778,
              "#fb9f3a"
             ],
             [
              0.8888888888888888,
              "#fdca26"
             ],
             [
              1,
              "#f0f921"
             ]
            ],
            "type": "heatmap"
           }
          ],
          "heatmapgl": [
           {
            "colorbar": {
             "outlinewidth": 0,
             "ticks": ""
            },
            "colorscale": [
             [
              0,
              "#0d0887"
             ],
             [
              0.1111111111111111,
              "#46039f"
             ],
             [
              0.2222222222222222,
              "#7201a8"
             ],
             [
              0.3333333333333333,
              "#9c179e"
             ],
             [
              0.4444444444444444,
              "#bd3786"
             ],
             [
              0.5555555555555556,
              "#d8576b"
             ],
             [
              0.6666666666666666,
              "#ed7953"
             ],
             [
              0.7777777777777778,
              "#fb9f3a"
             ],
             [
              0.8888888888888888,
              "#fdca26"
             ],
             [
              1,
              "#f0f921"
             ]
            ],
            "type": "heatmapgl"
           }
          ],
          "histogram": [
           {
            "marker": {
             "pattern": {
              "fillmode": "overlay",
              "size": 10,
              "solidity": 0.2
             }
            },
            "type": "histogram"
           }
          ],
          "histogram2d": [
           {
            "colorbar": {
             "outlinewidth": 0,
             "ticks": ""
            },
            "colorscale": [
             [
              0,
              "#0d0887"
             ],
             [
              0.1111111111111111,
              "#46039f"
             ],
             [
              0.2222222222222222,
              "#7201a8"
             ],
             [
              0.3333333333333333,
              "#9c179e"
             ],
             [
              0.4444444444444444,
              "#bd3786"
             ],
             [
              0.5555555555555556,
              "#d8576b"
             ],
             [
              0.6666666666666666,
              "#ed7953"
             ],
             [
              0.7777777777777778,
              "#fb9f3a"
             ],
             [
              0.8888888888888888,
              "#fdca26"
             ],
             [
              1,
              "#f0f921"
             ]
            ],
            "type": "histogram2d"
           }
          ],
          "histogram2dcontour": [
           {
            "colorbar": {
             "outlinewidth": 0,
             "ticks": ""
            },
            "colorscale": [
             [
              0,
              "#0d0887"
             ],
             [
              0.1111111111111111,
              "#46039f"
             ],
             [
              0.2222222222222222,
              "#7201a8"
             ],
             [
              0.3333333333333333,
              "#9c179e"
             ],
             [
              0.4444444444444444,
              "#bd3786"
             ],
             [
              0.5555555555555556,
              "#d8576b"
             ],
             [
              0.6666666666666666,
              "#ed7953"
             ],
             [
              0.7777777777777778,
              "#fb9f3a"
             ],
             [
              0.8888888888888888,
              "#fdca26"
             ],
             [
              1,
              "#f0f921"
             ]
            ],
            "type": "histogram2dcontour"
           }
          ],
          "mesh3d": [
           {
            "colorbar": {
             "outlinewidth": 0,
             "ticks": ""
            },
            "type": "mesh3d"
           }
          ],
          "parcoords": [
           {
            "line": {
             "colorbar": {
              "outlinewidth": 0,
              "ticks": ""
             }
            },
            "type": "parcoords"
           }
          ],
          "pie": [
           {
            "automargin": true,
            "type": "pie"
           }
          ],
          "scatter": [
           {
            "fillpattern": {
             "fillmode": "overlay",
             "size": 10,
             "solidity": 0.2
            },
            "type": "scatter"
           }
          ],
          "scatter3d": [
           {
            "line": {
             "colorbar": {
              "outlinewidth": 0,
              "ticks": ""
             }
            },
            "marker": {
             "colorbar": {
              "outlinewidth": 0,
              "ticks": ""
             }
            },
            "type": "scatter3d"
           }
          ],
          "scattercarpet": [
           {
            "marker": {
             "colorbar": {
              "outlinewidth": 0,
              "ticks": ""
             }
            },
            "type": "scattercarpet"
           }
          ],
          "scattergeo": [
           {
            "marker": {
             "colorbar": {
              "outlinewidth": 0,
              "ticks": ""
             }
            },
            "type": "scattergeo"
           }
          ],
          "scattergl": [
           {
            "marker": {
             "colorbar": {
              "outlinewidth": 0,
              "ticks": ""
             }
            },
            "type": "scattergl"
           }
          ],
          "scattermapbox": [
           {
            "marker": {
             "colorbar": {
              "outlinewidth": 0,
              "ticks": ""
             }
            },
            "type": "scattermapbox"
           }
          ],
          "scatterpolar": [
           {
            "marker": {
             "colorbar": {
              "outlinewidth": 0,
              "ticks": ""
             }
            },
            "type": "scatterpolar"
           }
          ],
          "scatterpolargl": [
           {
            "marker": {
             "colorbar": {
              "outlinewidth": 0,
              "ticks": ""
             }
            },
            "type": "scatterpolargl"
           }
          ],
          "scatterternary": [
           {
            "marker": {
             "colorbar": {
              "outlinewidth": 0,
              "ticks": ""
             }
            },
            "type": "scatterternary"
           }
          ],
          "surface": [
           {
            "colorbar": {
             "outlinewidth": 0,
             "ticks": ""
            },
            "colorscale": [
             [
              0,
              "#0d0887"
             ],
             [
              0.1111111111111111,
              "#46039f"
             ],
             [
              0.2222222222222222,
              "#7201a8"
             ],
             [
              0.3333333333333333,
              "#9c179e"
             ],
             [
              0.4444444444444444,
              "#bd3786"
             ],
             [
              0.5555555555555556,
              "#d8576b"
             ],
             [
              0.6666666666666666,
              "#ed7953"
             ],
             [
              0.7777777777777778,
              "#fb9f3a"
             ],
             [
              0.8888888888888888,
              "#fdca26"
             ],
             [
              1,
              "#f0f921"
             ]
            ],
            "type": "surface"
           }
          ],
          "table": [
           {
            "cells": {
             "fill": {
              "color": "#EBF0F8"
             },
             "line": {
              "color": "white"
             }
            },
            "header": {
             "fill": {
              "color": "#C8D4E3"
             },
             "line": {
              "color": "white"
             }
            },
            "type": "table"
           }
          ]
         },
         "layout": {
          "annotationdefaults": {
           "arrowcolor": "#2a3f5f",
           "arrowhead": 0,
           "arrowwidth": 1
          },
          "autotypenumbers": "strict",
          "coloraxis": {
           "colorbar": {
            "outlinewidth": 0,
            "ticks": ""
           }
          },
          "colorscale": {
           "diverging": [
            [
             0,
             "#8e0152"
            ],
            [
             0.1,
             "#c51b7d"
            ],
            [
             0.2,
             "#de77ae"
            ],
            [
             0.3,
             "#f1b6da"
            ],
            [
             0.4,
             "#fde0ef"
            ],
            [
             0.5,
             "#f7f7f7"
            ],
            [
             0.6,
             "#e6f5d0"
            ],
            [
             0.7,
             "#b8e186"
            ],
            [
             0.8,
             "#7fbc41"
            ],
            [
             0.9,
             "#4d9221"
            ],
            [
             1,
             "#276419"
            ]
           ],
           "sequential": [
            [
             0,
             "#0d0887"
            ],
            [
             0.1111111111111111,
             "#46039f"
            ],
            [
             0.2222222222222222,
             "#7201a8"
            ],
            [
             0.3333333333333333,
             "#9c179e"
            ],
            [
             0.4444444444444444,
             "#bd3786"
            ],
            [
             0.5555555555555556,
             "#d8576b"
            ],
            [
             0.6666666666666666,
             "#ed7953"
            ],
            [
             0.7777777777777778,
             "#fb9f3a"
            ],
            [
             0.8888888888888888,
             "#fdca26"
            ],
            [
             1,
             "#f0f921"
            ]
           ],
           "sequentialminus": [
            [
             0,
             "#0d0887"
            ],
            [
             0.1111111111111111,
             "#46039f"
            ],
            [
             0.2222222222222222,
             "#7201a8"
            ],
            [
             0.3333333333333333,
             "#9c179e"
            ],
            [
             0.4444444444444444,
             "#bd3786"
            ],
            [
             0.5555555555555556,
             "#d8576b"
            ],
            [
             0.6666666666666666,
             "#ed7953"
            ],
            [
             0.7777777777777778,
             "#fb9f3a"
            ],
            [
             0.8888888888888888,
             "#fdca26"
            ],
            [
             1,
             "#f0f921"
            ]
           ]
          },
          "colorway": [
           "#636efa",
           "#EF553B",
           "#00cc96",
           "#ab63fa",
           "#FFA15A",
           "#19d3f3",
           "#FF6692",
           "#B6E880",
           "#FF97FF",
           "#FECB52"
          ],
          "font": {
           "color": "#2a3f5f"
          },
          "geo": {
           "bgcolor": "white",
           "lakecolor": "white",
           "landcolor": "#E5ECF6",
           "showlakes": true,
           "showland": true,
           "subunitcolor": "white"
          },
          "hoverlabel": {
           "align": "left"
          },
          "hovermode": "closest",
          "mapbox": {
           "style": "light"
          },
          "paper_bgcolor": "white",
          "plot_bgcolor": "#E5ECF6",
          "polar": {
           "angularaxis": {
            "gridcolor": "white",
            "linecolor": "white",
            "ticks": ""
           },
           "bgcolor": "#E5ECF6",
           "radialaxis": {
            "gridcolor": "white",
            "linecolor": "white",
            "ticks": ""
           }
          },
          "scene": {
           "xaxis": {
            "backgroundcolor": "#E5ECF6",
            "gridcolor": "white",
            "gridwidth": 2,
            "linecolor": "white",
            "showbackground": true,
            "ticks": "",
            "zerolinecolor": "white"
           },
           "yaxis": {
            "backgroundcolor": "#E5ECF6",
            "gridcolor": "white",
            "gridwidth": 2,
            "linecolor": "white",
            "showbackground": true,
            "ticks": "",
            "zerolinecolor": "white"
           },
           "zaxis": {
            "backgroundcolor": "#E5ECF6",
            "gridcolor": "white",
            "gridwidth": 2,
            "linecolor": "white",
            "showbackground": true,
            "ticks": "",
            "zerolinecolor": "white"
           }
          },
          "shapedefaults": {
           "line": {
            "color": "#2a3f5f"
           }
          },
          "ternary": {
           "aaxis": {
            "gridcolor": "white",
            "linecolor": "white",
            "ticks": ""
           },
           "baxis": {
            "gridcolor": "white",
            "linecolor": "white",
            "ticks": ""
           },
           "bgcolor": "#E5ECF6",
           "caxis": {
            "gridcolor": "white",
            "linecolor": "white",
            "ticks": ""
           }
          },
          "title": {
           "x": 0.05
          },
          "xaxis": {
           "automargin": true,
           "gridcolor": "white",
           "linecolor": "white",
           "ticks": "",
           "title": {
            "standoff": 15
           },
           "zerolinecolor": "white",
           "zerolinewidth": 2
          },
          "yaxis": {
           "automargin": true,
           "gridcolor": "white",
           "linecolor": "white",
           "ticks": "",
           "title": {
            "standoff": 15
           },
           "zerolinecolor": "white",
           "zerolinewidth": 2
          }
         }
        },
        "title": {
         "text": "Conv. Transformer Prediction vs. Ground Truth for WZ"
        },
        "xaxis": {
         "title": {
          "text": "Time Step"
         }
        },
        "yaxis": {
         "title": {
          "text": "Value"
         }
        }
       }
      }
     },
     "metadata": {},
     "output_type": "display_data"
    },
    {
     "data": {
      "application/vnd.plotly.v1+json": {
       "config": {
        "plotlyServerURL": "https://plot.ly"
       },
       "data": [
        {
         "line": {
          "color": "blue"
         },
         "mode": "lines",
         "name": "GT",
         "type": "scatter",
         "y": [
          -1.9358922243118286,
          -1.8426564931869507,
          -1.7335129976272583,
          -1.6057524681091309,
          -1.4564436674118042,
          -1.282624363899231,
          -1.081628680229187,
          -0.8515849709510803,
          -0.5920547842979431,
          -0.3047226667404175,
          0.006077756639569998,
          0.3332700729370117,
          0.6675854921340942,
          0.9987350106239319,
          1.316888451576233,
          1.613976001739502,
          3.0581233501434326,
          3.110036849975586,
          3.1479053497314453,
          3.173264265060425,
          3.1874313354492188,
          3.1915173530578613,
          3.186471700668335,
          3.1730873584747314,
          3.152038335800171,
          3.1238951683044434,
          3.0891432762145996,
          3.0481956005096436,
          3.001408100128174,
          2.949089527130127,
          2.891515016555786,
          2.828920841217041,
          2.072814464569092,
          1.9708341360092163,
          1.8659871816635132,
          1.7584941387176514,
          1.648585319519043,
          1.536502480506897,
          1.4224950075149536,
          1.3068220615386963,
          1.189751148223877,
          1.071556568145752,
          0.9525183439254761,
          0.8329205513000488,
          0.7130520343780518,
          0.5932005643844604,
          0.47365429997444153,
          0.35470086336135864
         ]
        },
        {
         "line": {
          "color": "red"
         },
         "mode": "lines",
         "name": "pred_beginning",
         "type": "scatter",
         "y": [
          -0.9615422487258911,
          -1.1433212757110596,
          -0.9222668409347534,
          -1.0803197622299194,
          -1.057102918624878,
          -1.0046305656433105,
          -1.1395740509033203,
          -1.0804738998413086,
          -1.0952287912368774,
          -0.9158968329429626,
          -0.9995970129966736,
          -0.9336733818054199,
          -0.8430579304695129,
          -0.8937987089157104,
          -1.027945637702942,
          -0.8901643753051758,
          1.9585384130477905,
          2.072500228881836,
          1.7876003980636597,
          1.7317771911621094,
          2.0037636756896973,
          1.8850045204162598,
          2.1402618885040283,
          1.9294204711914062,
          2.1528351306915283,
          1.9470609426498413,
          2.0393779277801514,
          1.8986034393310547,
          1.7831124067306519,
          1.5457407236099243,
          1.797555923461914,
          1.9528069496154785,
          1.2354673147201538,
          1.6484788656234741,
          0.9060261845588684,
          1.4326924085617065,
          1.4361965656280518,
          1.4270843267440796,
          1.4610704183578491,
          1.111598014831543,
          1.2391610145568848,
          1.1600468158721924,
          1.3213750123977661,
          1.120729684829712,
          0.9023603796958923,
          0.8902947306632996,
          1.1394069194793701,
          1.0454412698745728
         ]
        }
       ],
       "layout": {
        "template": {
         "data": {
          "bar": [
           {
            "error_x": {
             "color": "#2a3f5f"
            },
            "error_y": {
             "color": "#2a3f5f"
            },
            "marker": {
             "line": {
              "color": "#E5ECF6",
              "width": 0.5
             },
             "pattern": {
              "fillmode": "overlay",
              "size": 10,
              "solidity": 0.2
             }
            },
            "type": "bar"
           }
          ],
          "barpolar": [
           {
            "marker": {
             "line": {
              "color": "#E5ECF6",
              "width": 0.5
             },
             "pattern": {
              "fillmode": "overlay",
              "size": 10,
              "solidity": 0.2
             }
            },
            "type": "barpolar"
           }
          ],
          "carpet": [
           {
            "aaxis": {
             "endlinecolor": "#2a3f5f",
             "gridcolor": "white",
             "linecolor": "white",
             "minorgridcolor": "white",
             "startlinecolor": "#2a3f5f"
            },
            "baxis": {
             "endlinecolor": "#2a3f5f",
             "gridcolor": "white",
             "linecolor": "white",
             "minorgridcolor": "white",
             "startlinecolor": "#2a3f5f"
            },
            "type": "carpet"
           }
          ],
          "choropleth": [
           {
            "colorbar": {
             "outlinewidth": 0,
             "ticks": ""
            },
            "type": "choropleth"
           }
          ],
          "contour": [
           {
            "colorbar": {
             "outlinewidth": 0,
             "ticks": ""
            },
            "colorscale": [
             [
              0,
              "#0d0887"
             ],
             [
              0.1111111111111111,
              "#46039f"
             ],
             [
              0.2222222222222222,
              "#7201a8"
             ],
             [
              0.3333333333333333,
              "#9c179e"
             ],
             [
              0.4444444444444444,
              "#bd3786"
             ],
             [
              0.5555555555555556,
              "#d8576b"
             ],
             [
              0.6666666666666666,
              "#ed7953"
             ],
             [
              0.7777777777777778,
              "#fb9f3a"
             ],
             [
              0.8888888888888888,
              "#fdca26"
             ],
             [
              1,
              "#f0f921"
             ]
            ],
            "type": "contour"
           }
          ],
          "contourcarpet": [
           {
            "colorbar": {
             "outlinewidth": 0,
             "ticks": ""
            },
            "type": "contourcarpet"
           }
          ],
          "heatmap": [
           {
            "colorbar": {
             "outlinewidth": 0,
             "ticks": ""
            },
            "colorscale": [
             [
              0,
              "#0d0887"
             ],
             [
              0.1111111111111111,
              "#46039f"
             ],
             [
              0.2222222222222222,
              "#7201a8"
             ],
             [
              0.3333333333333333,
              "#9c179e"
             ],
             [
              0.4444444444444444,
              "#bd3786"
             ],
             [
              0.5555555555555556,
              "#d8576b"
             ],
             [
              0.6666666666666666,
              "#ed7953"
             ],
             [
              0.7777777777777778,
              "#fb9f3a"
             ],
             [
              0.8888888888888888,
              "#fdca26"
             ],
             [
              1,
              "#f0f921"
             ]
            ],
            "type": "heatmap"
           }
          ],
          "heatmapgl": [
           {
            "colorbar": {
             "outlinewidth": 0,
             "ticks": ""
            },
            "colorscale": [
             [
              0,
              "#0d0887"
             ],
             [
              0.1111111111111111,
              "#46039f"
             ],
             [
              0.2222222222222222,
              "#7201a8"
             ],
             [
              0.3333333333333333,
              "#9c179e"
             ],
             [
              0.4444444444444444,
              "#bd3786"
             ],
             [
              0.5555555555555556,
              "#d8576b"
             ],
             [
              0.6666666666666666,
              "#ed7953"
             ],
             [
              0.7777777777777778,
              "#fb9f3a"
             ],
             [
              0.8888888888888888,
              "#fdca26"
             ],
             [
              1,
              "#f0f921"
             ]
            ],
            "type": "heatmapgl"
           }
          ],
          "histogram": [
           {
            "marker": {
             "pattern": {
              "fillmode": "overlay",
              "size": 10,
              "solidity": 0.2
             }
            },
            "type": "histogram"
           }
          ],
          "histogram2d": [
           {
            "colorbar": {
             "outlinewidth": 0,
             "ticks": ""
            },
            "colorscale": [
             [
              0,
              "#0d0887"
             ],
             [
              0.1111111111111111,
              "#46039f"
             ],
             [
              0.2222222222222222,
              "#7201a8"
             ],
             [
              0.3333333333333333,
              "#9c179e"
             ],
             [
              0.4444444444444444,
              "#bd3786"
             ],
             [
              0.5555555555555556,
              "#d8576b"
             ],
             [
              0.6666666666666666,
              "#ed7953"
             ],
             [
              0.7777777777777778,
              "#fb9f3a"
             ],
             [
              0.8888888888888888,
              "#fdca26"
             ],
             [
              1,
              "#f0f921"
             ]
            ],
            "type": "histogram2d"
           }
          ],
          "histogram2dcontour": [
           {
            "colorbar": {
             "outlinewidth": 0,
             "ticks": ""
            },
            "colorscale": [
             [
              0,
              "#0d0887"
             ],
             [
              0.1111111111111111,
              "#46039f"
             ],
             [
              0.2222222222222222,
              "#7201a8"
             ],
             [
              0.3333333333333333,
              "#9c179e"
             ],
             [
              0.4444444444444444,
              "#bd3786"
             ],
             [
              0.5555555555555556,
              "#d8576b"
             ],
             [
              0.6666666666666666,
              "#ed7953"
             ],
             [
              0.7777777777777778,
              "#fb9f3a"
             ],
             [
              0.8888888888888888,
              "#fdca26"
             ],
             [
              1,
              "#f0f921"
             ]
            ],
            "type": "histogram2dcontour"
           }
          ],
          "mesh3d": [
           {
            "colorbar": {
             "outlinewidth": 0,
             "ticks": ""
            },
            "type": "mesh3d"
           }
          ],
          "parcoords": [
           {
            "line": {
             "colorbar": {
              "outlinewidth": 0,
              "ticks": ""
             }
            },
            "type": "parcoords"
           }
          ],
          "pie": [
           {
            "automargin": true,
            "type": "pie"
           }
          ],
          "scatter": [
           {
            "fillpattern": {
             "fillmode": "overlay",
             "size": 10,
             "solidity": 0.2
            },
            "type": "scatter"
           }
          ],
          "scatter3d": [
           {
            "line": {
             "colorbar": {
              "outlinewidth": 0,
              "ticks": ""
             }
            },
            "marker": {
             "colorbar": {
              "outlinewidth": 0,
              "ticks": ""
             }
            },
            "type": "scatter3d"
           }
          ],
          "scattercarpet": [
           {
            "marker": {
             "colorbar": {
              "outlinewidth": 0,
              "ticks": ""
             }
            },
            "type": "scattercarpet"
           }
          ],
          "scattergeo": [
           {
            "marker": {
             "colorbar": {
              "outlinewidth": 0,
              "ticks": ""
             }
            },
            "type": "scattergeo"
           }
          ],
          "scattergl": [
           {
            "marker": {
             "colorbar": {
              "outlinewidth": 0,
              "ticks": ""
             }
            },
            "type": "scattergl"
           }
          ],
          "scattermapbox": [
           {
            "marker": {
             "colorbar": {
              "outlinewidth": 0,
              "ticks": ""
             }
            },
            "type": "scattermapbox"
           }
          ],
          "scatterpolar": [
           {
            "marker": {
             "colorbar": {
              "outlinewidth": 0,
              "ticks": ""
             }
            },
            "type": "scatterpolar"
           }
          ],
          "scatterpolargl": [
           {
            "marker": {
             "colorbar": {
              "outlinewidth": 0,
              "ticks": ""
             }
            },
            "type": "scatterpolargl"
           }
          ],
          "scatterternary": [
           {
            "marker": {
             "colorbar": {
              "outlinewidth": 0,
              "ticks": ""
             }
            },
            "type": "scatterternary"
           }
          ],
          "surface": [
           {
            "colorbar": {
             "outlinewidth": 0,
             "ticks": ""
            },
            "colorscale": [
             [
              0,
              "#0d0887"
             ],
             [
              0.1111111111111111,
              "#46039f"
             ],
             [
              0.2222222222222222,
              "#7201a8"
             ],
             [
              0.3333333333333333,
              "#9c179e"
             ],
             [
              0.4444444444444444,
              "#bd3786"
             ],
             [
              0.5555555555555556,
              "#d8576b"
             ],
             [
              0.6666666666666666,
              "#ed7953"
             ],
             [
              0.7777777777777778,
              "#fb9f3a"
             ],
             [
              0.8888888888888888,
              "#fdca26"
             ],
             [
              1,
              "#f0f921"
             ]
            ],
            "type": "surface"
           }
          ],
          "table": [
           {
            "cells": {
             "fill": {
              "color": "#EBF0F8"
             },
             "line": {
              "color": "white"
             }
            },
            "header": {
             "fill": {
              "color": "#C8D4E3"
             },
             "line": {
              "color": "white"
             }
            },
            "type": "table"
           }
          ]
         },
         "layout": {
          "annotationdefaults": {
           "arrowcolor": "#2a3f5f",
           "arrowhead": 0,
           "arrowwidth": 1
          },
          "autotypenumbers": "strict",
          "coloraxis": {
           "colorbar": {
            "outlinewidth": 0,
            "ticks": ""
           }
          },
          "colorscale": {
           "diverging": [
            [
             0,
             "#8e0152"
            ],
            [
             0.1,
             "#c51b7d"
            ],
            [
             0.2,
             "#de77ae"
            ],
            [
             0.3,
             "#f1b6da"
            ],
            [
             0.4,
             "#fde0ef"
            ],
            [
             0.5,
             "#f7f7f7"
            ],
            [
             0.6,
             "#e6f5d0"
            ],
            [
             0.7,
             "#b8e186"
            ],
            [
             0.8,
             "#7fbc41"
            ],
            [
             0.9,
             "#4d9221"
            ],
            [
             1,
             "#276419"
            ]
           ],
           "sequential": [
            [
             0,
             "#0d0887"
            ],
            [
             0.1111111111111111,
             "#46039f"
            ],
            [
             0.2222222222222222,
             "#7201a8"
            ],
            [
             0.3333333333333333,
             "#9c179e"
            ],
            [
             0.4444444444444444,
             "#bd3786"
            ],
            [
             0.5555555555555556,
             "#d8576b"
            ],
            [
             0.6666666666666666,
             "#ed7953"
            ],
            [
             0.7777777777777778,
             "#fb9f3a"
            ],
            [
             0.8888888888888888,
             "#fdca26"
            ],
            [
             1,
             "#f0f921"
            ]
           ],
           "sequentialminus": [
            [
             0,
             "#0d0887"
            ],
            [
             0.1111111111111111,
             "#46039f"
            ],
            [
             0.2222222222222222,
             "#7201a8"
            ],
            [
             0.3333333333333333,
             "#9c179e"
            ],
            [
             0.4444444444444444,
             "#bd3786"
            ],
            [
             0.5555555555555556,
             "#d8576b"
            ],
            [
             0.6666666666666666,
             "#ed7953"
            ],
            [
             0.7777777777777778,
             "#fb9f3a"
            ],
            [
             0.8888888888888888,
             "#fdca26"
            ],
            [
             1,
             "#f0f921"
            ]
           ]
          },
          "colorway": [
           "#636efa",
           "#EF553B",
           "#00cc96",
           "#ab63fa",
           "#FFA15A",
           "#19d3f3",
           "#FF6692",
           "#B6E880",
           "#FF97FF",
           "#FECB52"
          ],
          "font": {
           "color": "#2a3f5f"
          },
          "geo": {
           "bgcolor": "white",
           "lakecolor": "white",
           "landcolor": "#E5ECF6",
           "showlakes": true,
           "showland": true,
           "subunitcolor": "white"
          },
          "hoverlabel": {
           "align": "left"
          },
          "hovermode": "closest",
          "mapbox": {
           "style": "light"
          },
          "paper_bgcolor": "white",
          "plot_bgcolor": "#E5ECF6",
          "polar": {
           "angularaxis": {
            "gridcolor": "white",
            "linecolor": "white",
            "ticks": ""
           },
           "bgcolor": "#E5ECF6",
           "radialaxis": {
            "gridcolor": "white",
            "linecolor": "white",
            "ticks": ""
           }
          },
          "scene": {
           "xaxis": {
            "backgroundcolor": "#E5ECF6",
            "gridcolor": "white",
            "gridwidth": 2,
            "linecolor": "white",
            "showbackground": true,
            "ticks": "",
            "zerolinecolor": "white"
           },
           "yaxis": {
            "backgroundcolor": "#E5ECF6",
            "gridcolor": "white",
            "gridwidth": 2,
            "linecolor": "white",
            "showbackground": true,
            "ticks": "",
            "zerolinecolor": "white"
           },
           "zaxis": {
            "backgroundcolor": "#E5ECF6",
            "gridcolor": "white",
            "gridwidth": 2,
            "linecolor": "white",
            "showbackground": true,
            "ticks": "",
            "zerolinecolor": "white"
           }
          },
          "shapedefaults": {
           "line": {
            "color": "#2a3f5f"
           }
          },
          "ternary": {
           "aaxis": {
            "gridcolor": "white",
            "linecolor": "white",
            "ticks": ""
           },
           "baxis": {
            "gridcolor": "white",
            "linecolor": "white",
            "ticks": ""
           },
           "bgcolor": "#E5ECF6",
           "caxis": {
            "gridcolor": "white",
            "linecolor": "white",
            "ticks": ""
           }
          },
          "title": {
           "x": 0.05
          },
          "xaxis": {
           "automargin": true,
           "gridcolor": "white",
           "linecolor": "white",
           "ticks": "",
           "title": {
            "standoff": 15
           },
           "zerolinecolor": "white",
           "zerolinewidth": 2
          },
          "yaxis": {
           "automargin": true,
           "gridcolor": "white",
           "linecolor": "white",
           "ticks": "",
           "title": {
            "standoff": 15
           },
           "zerolinecolor": "white",
           "zerolinewidth": 2
          }
         }
        },
        "title": {
         "text": "Conv. Transformer Prediction vs. Ground Truth for VDOT"
        },
        "xaxis": {
         "title": {
          "text": "Time Step"
         }
        },
        "yaxis": {
         "title": {
          "text": "Value"
         }
        }
       }
      }
     },
     "metadata": {},
     "output_type": "display_data"
    },
    {
     "data": {
      "application/vnd.plotly.v1+json": {
       "config": {
        "plotlyServerURL": "https://plot.ly"
       },
       "data": [
        {
         "line": {
          "color": "blue"
         },
         "mode": "lines",
         "name": "GT",
         "type": "scatter",
         "y": [
          0,
          0,
          0,
          0,
          0,
          0,
          0,
          0,
          0,
          0,
          0,
          0,
          0,
          0,
          0,
          0,
          0,
          0,
          0,
          0,
          0,
          0,
          0,
          0,
          0,
          0,
          0,
          0,
          0,
          0,
          0,
          0,
          0,
          0,
          0,
          0,
          0,
          0,
          0,
          0,
          0,
          0,
          0,
          0,
          0,
          0,
          0,
          0
         ]
        },
        {
         "line": {
          "color": "red"
         },
         "mode": "lines",
         "name": "pred_beginning",
         "type": "scatter",
         "y": [
          -0.07439824938774109,
          -0.15799930691719055,
          -0.15264728665351868,
          -0.03890496492385864,
          -0.07039406895637512,
          -0.09991307556629181,
          -0.08562502264976501,
          -0.0020997822284698486,
          -0.13821229338645935,
          -0.1269666850566864,
          -0.18461930751800537,
          -0.14027559757232666,
          -0.055508196353912354,
          0.052785828709602356,
          -0.1366191804409027,
          -0.16975128650665283,
          0.05750632286071777,
          0.13810764253139496,
          -0.022007299587130547,
          -0.008257851004600525,
          0.07308795303106308,
          0.06654484570026398,
          0.07998038828372955,
          0.04069914668798447,
          0.18890422582626343,
          0.0978444293141365,
          0.0634511262178421,
          0.10208576172590256,
          0.09626074880361557,
          -0.005644470453262329,
          0.09698262810707092,
          0.10987803339958191,
          -0.09310980886220932,
          -0.026825737208127975,
          -0.10876424610614777,
          -0.05225786566734314,
          -0.056593239307403564,
          -0.07187201827764511,
          -0.020263373851776123,
          0.0064505934715271,
          0.034022003412246704,
          -0.07324446737766266,
          -0.10266228765249252,
          -0.05023133009672165,
          -0.04157394915819168,
          -0.01102832704782486,
          0.011066608130931854,
          -0.07831420004367828
         ]
        }
       ],
       "layout": {
        "template": {
         "data": {
          "bar": [
           {
            "error_x": {
             "color": "#2a3f5f"
            },
            "error_y": {
             "color": "#2a3f5f"
            },
            "marker": {
             "line": {
              "color": "#E5ECF6",
              "width": 0.5
             },
             "pattern": {
              "fillmode": "overlay",
              "size": 10,
              "solidity": 0.2
             }
            },
            "type": "bar"
           }
          ],
          "barpolar": [
           {
            "marker": {
             "line": {
              "color": "#E5ECF6",
              "width": 0.5
             },
             "pattern": {
              "fillmode": "overlay",
              "size": 10,
              "solidity": 0.2
             }
            },
            "type": "barpolar"
           }
          ],
          "carpet": [
           {
            "aaxis": {
             "endlinecolor": "#2a3f5f",
             "gridcolor": "white",
             "linecolor": "white",
             "minorgridcolor": "white",
             "startlinecolor": "#2a3f5f"
            },
            "baxis": {
             "endlinecolor": "#2a3f5f",
             "gridcolor": "white",
             "linecolor": "white",
             "minorgridcolor": "white",
             "startlinecolor": "#2a3f5f"
            },
            "type": "carpet"
           }
          ],
          "choropleth": [
           {
            "colorbar": {
             "outlinewidth": 0,
             "ticks": ""
            },
            "type": "choropleth"
           }
          ],
          "contour": [
           {
            "colorbar": {
             "outlinewidth": 0,
             "ticks": ""
            },
            "colorscale": [
             [
              0,
              "#0d0887"
             ],
             [
              0.1111111111111111,
              "#46039f"
             ],
             [
              0.2222222222222222,
              "#7201a8"
             ],
             [
              0.3333333333333333,
              "#9c179e"
             ],
             [
              0.4444444444444444,
              "#bd3786"
             ],
             [
              0.5555555555555556,
              "#d8576b"
             ],
             [
              0.6666666666666666,
              "#ed7953"
             ],
             [
              0.7777777777777778,
              "#fb9f3a"
             ],
             [
              0.8888888888888888,
              "#fdca26"
             ],
             [
              1,
              "#f0f921"
             ]
            ],
            "type": "contour"
           }
          ],
          "contourcarpet": [
           {
            "colorbar": {
             "outlinewidth": 0,
             "ticks": ""
            },
            "type": "contourcarpet"
           }
          ],
          "heatmap": [
           {
            "colorbar": {
             "outlinewidth": 0,
             "ticks": ""
            },
            "colorscale": [
             [
              0,
              "#0d0887"
             ],
             [
              0.1111111111111111,
              "#46039f"
             ],
             [
              0.2222222222222222,
              "#7201a8"
             ],
             [
              0.3333333333333333,
              "#9c179e"
             ],
             [
              0.4444444444444444,
              "#bd3786"
             ],
             [
              0.5555555555555556,
              "#d8576b"
             ],
             [
              0.6666666666666666,
              "#ed7953"
             ],
             [
              0.7777777777777778,
              "#fb9f3a"
             ],
             [
              0.8888888888888888,
              "#fdca26"
             ],
             [
              1,
              "#f0f921"
             ]
            ],
            "type": "heatmap"
           }
          ],
          "heatmapgl": [
           {
            "colorbar": {
             "outlinewidth": 0,
             "ticks": ""
            },
            "colorscale": [
             [
              0,
              "#0d0887"
             ],
             [
              0.1111111111111111,
              "#46039f"
             ],
             [
              0.2222222222222222,
              "#7201a8"
             ],
             [
              0.3333333333333333,
              "#9c179e"
             ],
             [
              0.4444444444444444,
              "#bd3786"
             ],
             [
              0.5555555555555556,
              "#d8576b"
             ],
             [
              0.6666666666666666,
              "#ed7953"
             ],
             [
              0.7777777777777778,
              "#fb9f3a"
             ],
             [
              0.8888888888888888,
              "#fdca26"
             ],
             [
              1,
              "#f0f921"
             ]
            ],
            "type": "heatmapgl"
           }
          ],
          "histogram": [
           {
            "marker": {
             "pattern": {
              "fillmode": "overlay",
              "size": 10,
              "solidity": 0.2
             }
            },
            "type": "histogram"
           }
          ],
          "histogram2d": [
           {
            "colorbar": {
             "outlinewidth": 0,
             "ticks": ""
            },
            "colorscale": [
             [
              0,
              "#0d0887"
             ],
             [
              0.1111111111111111,
              "#46039f"
             ],
             [
              0.2222222222222222,
              "#7201a8"
             ],
             [
              0.3333333333333333,
              "#9c179e"
             ],
             [
              0.4444444444444444,
              "#bd3786"
             ],
             [
              0.5555555555555556,
              "#d8576b"
             ],
             [
              0.6666666666666666,
              "#ed7953"
             ],
             [
              0.7777777777777778,
              "#fb9f3a"
             ],
             [
              0.8888888888888888,
              "#fdca26"
             ],
             [
              1,
              "#f0f921"
             ]
            ],
            "type": "histogram2d"
           }
          ],
          "histogram2dcontour": [
           {
            "colorbar": {
             "outlinewidth": 0,
             "ticks": ""
            },
            "colorscale": [
             [
              0,
              "#0d0887"
             ],
             [
              0.1111111111111111,
              "#46039f"
             ],
             [
              0.2222222222222222,
              "#7201a8"
             ],
             [
              0.3333333333333333,
              "#9c179e"
             ],
             [
              0.4444444444444444,
              "#bd3786"
             ],
             [
              0.5555555555555556,
              "#d8576b"
             ],
             [
              0.6666666666666666,
              "#ed7953"
             ],
             [
              0.7777777777777778,
              "#fb9f3a"
             ],
             [
              0.8888888888888888,
              "#fdca26"
             ],
             [
              1,
              "#f0f921"
             ]
            ],
            "type": "histogram2dcontour"
           }
          ],
          "mesh3d": [
           {
            "colorbar": {
             "outlinewidth": 0,
             "ticks": ""
            },
            "type": "mesh3d"
           }
          ],
          "parcoords": [
           {
            "line": {
             "colorbar": {
              "outlinewidth": 0,
              "ticks": ""
             }
            },
            "type": "parcoords"
           }
          ],
          "pie": [
           {
            "automargin": true,
            "type": "pie"
           }
          ],
          "scatter": [
           {
            "fillpattern": {
             "fillmode": "overlay",
             "size": 10,
             "solidity": 0.2
            },
            "type": "scatter"
           }
          ],
          "scatter3d": [
           {
            "line": {
             "colorbar": {
              "outlinewidth": 0,
              "ticks": ""
             }
            },
            "marker": {
             "colorbar": {
              "outlinewidth": 0,
              "ticks": ""
             }
            },
            "type": "scatter3d"
           }
          ],
          "scattercarpet": [
           {
            "marker": {
             "colorbar": {
              "outlinewidth": 0,
              "ticks": ""
             }
            },
            "type": "scattercarpet"
           }
          ],
          "scattergeo": [
           {
            "marker": {
             "colorbar": {
              "outlinewidth": 0,
              "ticks": ""
             }
            },
            "type": "scattergeo"
           }
          ],
          "scattergl": [
           {
            "marker": {
             "colorbar": {
              "outlinewidth": 0,
              "ticks": ""
             }
            },
            "type": "scattergl"
           }
          ],
          "scattermapbox": [
           {
            "marker": {
             "colorbar": {
              "outlinewidth": 0,
              "ticks": ""
             }
            },
            "type": "scattermapbox"
           }
          ],
          "scatterpolar": [
           {
            "marker": {
             "colorbar": {
              "outlinewidth": 0,
              "ticks": ""
             }
            },
            "type": "scatterpolar"
           }
          ],
          "scatterpolargl": [
           {
            "marker": {
             "colorbar": {
              "outlinewidth": 0,
              "ticks": ""
             }
            },
            "type": "scatterpolargl"
           }
          ],
          "scatterternary": [
           {
            "marker": {
             "colorbar": {
              "outlinewidth": 0,
              "ticks": ""
             }
            },
            "type": "scatterternary"
           }
          ],
          "surface": [
           {
            "colorbar": {
             "outlinewidth": 0,
             "ticks": ""
            },
            "colorscale": [
             [
              0,
              "#0d0887"
             ],
             [
              0.1111111111111111,
              "#46039f"
             ],
             [
              0.2222222222222222,
              "#7201a8"
             ],
             [
              0.3333333333333333,
              "#9c179e"
             ],
             [
              0.4444444444444444,
              "#bd3786"
             ],
             [
              0.5555555555555556,
              "#d8576b"
             ],
             [
              0.6666666666666666,
              "#ed7953"
             ],
             [
              0.7777777777777778,
              "#fb9f3a"
             ],
             [
              0.8888888888888888,
              "#fdca26"
             ],
             [
              1,
              "#f0f921"
             ]
            ],
            "type": "surface"
           }
          ],
          "table": [
           {
            "cells": {
             "fill": {
              "color": "#EBF0F8"
             },
             "line": {
              "color": "white"
             }
            },
            "header": {
             "fill": {
              "color": "#C8D4E3"
             },
             "line": {
              "color": "white"
             }
            },
            "type": "table"
           }
          ]
         },
         "layout": {
          "annotationdefaults": {
           "arrowcolor": "#2a3f5f",
           "arrowhead": 0,
           "arrowwidth": 1
          },
          "autotypenumbers": "strict",
          "coloraxis": {
           "colorbar": {
            "outlinewidth": 0,
            "ticks": ""
           }
          },
          "colorscale": {
           "diverging": [
            [
             0,
             "#8e0152"
            ],
            [
             0.1,
             "#c51b7d"
            ],
            [
             0.2,
             "#de77ae"
            ],
            [
             0.3,
             "#f1b6da"
            ],
            [
             0.4,
             "#fde0ef"
            ],
            [
             0.5,
             "#f7f7f7"
            ],
            [
             0.6,
             "#e6f5d0"
            ],
            [
             0.7,
             "#b8e186"
            ],
            [
             0.8,
             "#7fbc41"
            ],
            [
             0.9,
             "#4d9221"
            ],
            [
             1,
             "#276419"
            ]
           ],
           "sequential": [
            [
             0,
             "#0d0887"
            ],
            [
             0.1111111111111111,
             "#46039f"
            ],
            [
             0.2222222222222222,
             "#7201a8"
            ],
            [
             0.3333333333333333,
             "#9c179e"
            ],
            [
             0.4444444444444444,
             "#bd3786"
            ],
            [
             0.5555555555555556,
             "#d8576b"
            ],
            [
             0.6666666666666666,
             "#ed7953"
            ],
            [
             0.7777777777777778,
             "#fb9f3a"
            ],
            [
             0.8888888888888888,
             "#fdca26"
            ],
            [
             1,
             "#f0f921"
            ]
           ],
           "sequentialminus": [
            [
             0,
             "#0d0887"
            ],
            [
             0.1111111111111111,
             "#46039f"
            ],
            [
             0.2222222222222222,
             "#7201a8"
            ],
            [
             0.3333333333333333,
             "#9c179e"
            ],
            [
             0.4444444444444444,
             "#bd3786"
            ],
            [
             0.5555555555555556,
             "#d8576b"
            ],
            [
             0.6666666666666666,
             "#ed7953"
            ],
            [
             0.7777777777777778,
             "#fb9f3a"
            ],
            [
             0.8888888888888888,
             "#fdca26"
            ],
            [
             1,
             "#f0f921"
            ]
           ]
          },
          "colorway": [
           "#636efa",
           "#EF553B",
           "#00cc96",
           "#ab63fa",
           "#FFA15A",
           "#19d3f3",
           "#FF6692",
           "#B6E880",
           "#FF97FF",
           "#FECB52"
          ],
          "font": {
           "color": "#2a3f5f"
          },
          "geo": {
           "bgcolor": "white",
           "lakecolor": "white",
           "landcolor": "#E5ECF6",
           "showlakes": true,
           "showland": true,
           "subunitcolor": "white"
          },
          "hoverlabel": {
           "align": "left"
          },
          "hovermode": "closest",
          "mapbox": {
           "style": "light"
          },
          "paper_bgcolor": "white",
          "plot_bgcolor": "#E5ECF6",
          "polar": {
           "angularaxis": {
            "gridcolor": "white",
            "linecolor": "white",
            "ticks": ""
           },
           "bgcolor": "#E5ECF6",
           "radialaxis": {
            "gridcolor": "white",
            "linecolor": "white",
            "ticks": ""
           }
          },
          "scene": {
           "xaxis": {
            "backgroundcolor": "#E5ECF6",
            "gridcolor": "white",
            "gridwidth": 2,
            "linecolor": "white",
            "showbackground": true,
            "ticks": "",
            "zerolinecolor": "white"
           },
           "yaxis": {
            "backgroundcolor": "#E5ECF6",
            "gridcolor": "white",
            "gridwidth": 2,
            "linecolor": "white",
            "showbackground": true,
            "ticks": "",
            "zerolinecolor": "white"
           },
           "zaxis": {
            "backgroundcolor": "#E5ECF6",
            "gridcolor": "white",
            "gridwidth": 2,
            "linecolor": "white",
            "showbackground": true,
            "ticks": "",
            "zerolinecolor": "white"
           }
          },
          "shapedefaults": {
           "line": {
            "color": "#2a3f5f"
           }
          },
          "ternary": {
           "aaxis": {
            "gridcolor": "white",
            "linecolor": "white",
            "ticks": ""
           },
           "baxis": {
            "gridcolor": "white",
            "linecolor": "white",
            "ticks": ""
           },
           "bgcolor": "#E5ECF6",
           "caxis": {
            "gridcolor": "white",
            "linecolor": "white",
            "ticks": ""
           }
          },
          "title": {
           "x": 0.05
          },
          "xaxis": {
           "automargin": true,
           "gridcolor": "white",
           "linecolor": "white",
           "ticks": "",
           "title": {
            "standoff": 15
           },
           "zerolinecolor": "white",
           "zerolinewidth": 2
          },
          "yaxis": {
           "automargin": true,
           "gridcolor": "white",
           "linecolor": "white",
           "ticks": "",
           "title": {
            "standoff": 15
           },
           "zerolinecolor": "white",
           "zerolinewidth": 2
          }
         }
        },
        "title": {
         "text": "Conv. Transformer Prediction vs. Ground Truth for ALRT"
        },
        "xaxis": {
         "title": {
          "text": "Time Step"
         }
        },
        "yaxis": {
         "title": {
          "text": "Value"
         }
        }
       }
      }
     },
     "metadata": {},
     "output_type": "display_data"
    }
   ],
   "source": [
    "# 可视化预测结果\n",
    "tsmixer_preds = preds\n",
    "\n",
    "cols_to_plot = ['ALT', 'HDOT', 'VT', 'ALPHA', 'GAMMA', 'PITCH', 'GREF', 'WXDT', 'WZ', 'VDOT', 'ALRT']\n",
    "\n",
    "import plotly.graph_objects as go\n",
    "\n",
    "# 交互式可视化\n",
    "fig = go.Figure()\n",
    "fig.add_trace(go.Scatter(y=train_loss, mode='lines', name = 'loss', line = dict(color='blue')))\n",
    "fig.update_layout(\n",
    "    title=f'Train loss',\n",
    "    xaxis_title='Time Step',\n",
    "    yaxis_title='Loss Value'\n",
    ")\n",
    "fig.show()\n",
    "\n",
    "for batch in test_labels:\n",
    "    label_array = batch[0].cpu().numpy()\n",
    "    label_array = label_array.reshape(-1, label_array.shape[-1])\n",
    "    for idx in range(len(cols_to_plot)):\n",
    "        fig = go.Figure()\n",
    "        # fig.add_trace(go.Scatter(y=test_X_origin[:decay_steps+pred_steps, idx], mode='lines', name = 'GT', line = dict(color='blue')))\n",
    "        fig.add_trace(go.Scatter(y=label_array[:, idx], mode='lines', name = 'GT', line = dict(color='blue')))\n",
    "        fig.add_trace(go.Scatter(y=scaled_preds[:, idx], mode='lines', name = 'pred_beginning', line = dict(color='red')))\n",
    "        fig.update_layout(\n",
    "            title=f'Conv. Transformer Prediction vs. Ground Truth for {cols_to_plot[idx]}',\n",
    "            xaxis_title='Time Step',\n",
    "            yaxis_title='Value'\n",
    "        )\n",
    "        fig.show()\n"
   ]
  }
 ],
 "metadata": {
  "kernelspec": {
   "display_name": "tf2-gpu",
   "language": "python",
   "name": "python3"
  },
  "language_info": {
   "codemirror_mode": {
    "name": "ipython",
    "version": 3
   },
   "file_extension": ".py",
   "mimetype": "text/x-python",
   "name": "python",
   "nbconvert_exporter": "python",
   "pygments_lexer": "ipython3",
   "version": "3.8.18"
  }
 },
 "nbformat": 4,
 "nbformat_minor": 2
}
